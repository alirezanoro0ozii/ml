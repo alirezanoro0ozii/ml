{
 "cells": [
  {
   "cell_type": "code",
   "execution_count": 1,
   "id": "2befeae9-1cd7-4585-88ae-0309f4def9f2",
   "metadata": {},
   "outputs": [
    {
     "name": "stdout",
     "output_type": "stream",
     "text": [
      "cuda:1\n",
      " WORLD_SIZE=1 , LOCAL_WORLD_SIZE=1,RANK =0,LOCAL_RANK = 0 \n",
      "../checkpoints/FNN last level_checkpoints\n"
     ]
    },
    {
     "name": "stderr",
     "output_type": "stream",
     "text": [
      "\u001b[34m\u001b[1mwandb\u001b[0m: Using wandb-core as the SDK backend.  Please refer to https://wandb.me/wandb-core for more information.\n",
      "\u001b[34m\u001b[1mwandb\u001b[0m: Currently logged in as: \u001b[33malirezanor\u001b[0m (\u001b[33malireza_noroozi\u001b[0m). Use \u001b[1m`wandb login --relogin`\u001b[0m to force relogin\n"
     ]
    },
    {
     "data": {
      "text/html": [
       "Tracking run with wandb version 0.18.7"
      ],
      "text/plain": [
       "<IPython.core.display.HTML object>"
      ]
     },
     "metadata": {},
     "output_type": "display_data"
    },
    {
     "data": {
      "text/html": [
       "Run data is saved locally in <code>/home/aac/Alireza/local_codes/wandb/run-20241121_064104-7p03ti2r</code>"
      ],
      "text/plain": [
       "<IPython.core.display.HTML object>"
      ]
     },
     "metadata": {},
     "output_type": "display_data"
    },
    {
     "data": {
      "text/html": [
       "Syncing run <strong><a href='https://wandb.ai/alireza_noroozi/FNN%20last%20level/runs/7p03ti2r' target=\"_blank\">lemon-frost-1</a></strong> to <a href='https://wandb.ai/alireza_noroozi/FNN%20last%20level' target=\"_blank\">Weights & Biases</a> (<a href='https://wandb.me/developer-guide' target=\"_blank\">docs</a>)<br/>"
      ],
      "text/plain": [
       "<IPython.core.display.HTML object>"
      ]
     },
     "metadata": {},
     "output_type": "display_data"
    },
    {
     "data": {
      "text/html": [
       " View project at <a href='https://wandb.ai/alireza_noroozi/FNN%20last%20level' target=\"_blank\">https://wandb.ai/alireza_noroozi/FNN%20last%20level</a>"
      ],
      "text/plain": [
       "<IPython.core.display.HTML object>"
      ]
     },
     "metadata": {},
     "output_type": "display_data"
    },
    {
     "data": {
      "text/html": [
       " View run at <a href='https://wandb.ai/alireza_noroozi/FNN%20last%20level/runs/7p03ti2r' target=\"_blank\">https://wandb.ai/alireza_noroozi/FNN%20last%20level/runs/7p03ti2r</a>"
      ],
      "text/plain": [
       "<IPython.core.display.HTML object>"
      ]
     },
     "metadata": {},
     "output_type": "display_data"
    },
    {
     "data": {
      "text/html": [
       "<button onClick=\"this.nextSibling.style.display='block';this.style.display='none';\">Display W&B run</button><iframe src='https://wandb.ai/alireza_noroozi/FNN%20last%20level/runs/7p03ti2r?jupyter=true' style='border:none;width:100%;height:420px;display:none;'></iframe>"
      ],
      "text/plain": [
       "<wandb.sdk.wandb_run.Run at 0x7f5923bfdab0>"
      ]
     },
     "execution_count": 1,
     "metadata": {},
     "output_type": "execute_result"
    }
   ],
   "source": [
    "import torch\n",
    "import torch.nn as nn\n",
    "import torch.nn.functional as F\n",
    "import pandas as pd\n",
    "import numpy as np\n",
    "import torch.optim as optim\n",
    "from tqdm import tqdm\n",
    "import sys, os, math\n",
    "import wandb\n",
    "import warnings\n",
    "warnings.simplefilter(\"ignore\")\n",
    "\n",
    "\n",
    "sys.path.insert(0, '../dlp')\n",
    "from batch import Batch\n",
    "\n",
    "device = 'cuda:0' if torch.cuda.is_available() else 'cpu'\n",
    "print(device)\n",
    "\n",
    "epochs = 100_000\n",
    "val_epoch = 100\n",
    "num_val = 50\n",
    "batch_size = 64\n",
    "dataset_name = \"corpus_200_500_random\"\n",
    "lr = 0.01\n",
    "model_name = \"CNN last level\"\n",
    "max_seq_len = 500\n",
    "\n",
    "from data_access import PQDataAccess\n",
    "da = PQDataAccess(f\"/home/aac/Alireza/datasets/export_pqt_4_taxseq_new/{dataset_name}\", batch_size)\n",
    "\n",
    "checkpoint_dir = f\"../checkpoints/{model_name}_checkpoints\"\n",
    "if not os.path.exists(checkpoint_dir):\n",
    "    os.makedirs(checkpoint_dir)\n",
    "print(checkpoint_dir)\n",
    "\n",
    "wandb.init(\n",
    "    # set the wandb project where this run will be logged\n",
    "    project=model_name,\n",
    "\n",
    "    # track hyperparameters and run metadata\n",
    "    config={\n",
    "        \"learning_rate\": lr,\n",
    "        \"architecture\": \"FNN\",\n",
    "        \"dataset\": dataset_name,\n",
    "        \"epochs\": epochs,\n",
    "        \"batch_szie\": batch_size,\n",
    "        \"max_seq_len\": max_seq_len\n",
    "    }\n",
    ")"
   ]
  },
  {
   "cell_type": "code",
   "execution_count": null,
   "id": "b28f1743-818c-4309-861e-9694dce1690b",
   "metadata": {},
   "outputs": [],
   "source": [
    "df = pd.read_csv('../data/new_output_id.csv')\n",
    "\n",
    "unique_labels = sorted(set(df['new label'].values))\n",
    "label_to_idx = {label: idx for idx, label in enumerate(unique_labels)}\n",
    "idx_to_label = {idx: label for label, idx in label_to_idx.items()}\n",
    "map_label = {r['Organism_ID']: label_to_idx[r['new label']] for _, r in df.iterrows()}\n",
    "\n",
    "print(\"# of Classes\", len(unique_labels))\n",
    "num_classes = len(unique_labels)\n",
    "\n",
    "vocab = \"ACDEFGHIKLMNPQRSTVWY\"\n",
    "char_to_idx = {char: idx + 1 for idx, char in enumerate(vocab)}  # Start index from 1 for padding\n",
    "# Sequence encoder: Convert the protein sequence into integers\n",
    "def encode_sequence(sequence):\n",
    "    return [char_to_idx.get(char, 0) for char in sequence] + [0 for _ in range(max_seq_len - len(sequence))]  # 0 for unknown characters or padding \n",
    "\n",
    "\n",
    "def data_to_tensor_batch(b):\n",
    "    inputs = [encode_sequence(e['Sequence']) for e in b]\n",
    "    tax_ids = [map_label[e['Taxonomic_lineage_IDs']] for e in b]\n",
    "    return Batch(torch.LongTensor(inputs), torch.LongTensor(tax_ids))"
   ]
  },
  {
   "cell_type": "code",
   "execution_count": 13,
   "id": "745d1e6b-1ad8-4e00-89e0-27fe792ab39f",
   "metadata": {},
   "outputs": [],
   "source": [
    "class FNN(nn.Module):\n",
    "    def __init__(self, num_classes):\n",
    "        super().__init__()\n",
    "        self.embedding = nn.Embedding(21, 1280)\n",
    "        self.attention = nn.Sequential(\n",
    "            nn.Linear(1280, 256),\n",
    "            nn.Tanh(),\n",
    "            nn.Linear(256, 1)\n",
    "        )\n",
    "        \n",
    "        self.layer1 = nn.Linear(1280, 512)\n",
    "        self.layer_norm = nn.LayerNorm(512)\n",
    "        self.relu = nn.ReLU()\n",
    "        self.dropout = nn.Dropout(0.1)\n",
    "        self.layer2 = nn.Linear(512, num_classes)\n",
    "        \n",
    "    def attention_pooling(self, x):\n",
    "        # x shape: (batch_size, seq_length, embedding_dim)\n",
    "        attention_weights = self.attention(x)  # (batch_size, seq_length, 1)\n",
    "        attention_weights = torch.softmax(attention_weights.squeeze(-1), dim=1)  # (batch_size, seq_length)\n",
    "        attention_weights = attention_weights.unsqueeze(-1)  # (batch_size, seq_length, 1)\n",
    "        pooled = torch.sum(x * attention_weights, dim=1)  # (batch_size, embedding_dim)\n",
    "        return pooled\n",
    "        \n",
    "    def forward(self, x):\n",
    "        outputs = self.embedding(x)\n",
    "        \n",
    "        outputs = self.attention_pooling(outputs)\n",
    "        \n",
    "        outputs = self.layer1(outputs)\n",
    "        outputs = self.layer_norm(outputs)\n",
    "        outputs = self.relu(outputs)\n",
    "        outputs = self.dropout(outputs)\n",
    "        outputs = self.layer2(outputs)\n",
    "        return outputs"
   ]
  },
  {
   "cell_type": "code",
   "execution_count": 14,
   "id": "eaa89a30-38aa-40b1-9e4b-b2320f35c242",
   "metadata": {},
   "outputs": [
    {
     "name": "stdout",
     "output_type": "stream",
     "text": [
      "Total parameters: 27.663345 M\n",
      "FNN(\n",
      "  (embedding): Embedding(21, 1280)\n",
      "  (attention): Sequential(\n",
      "    (0): Linear(in_features=1280, out_features=256, bias=True)\n",
      "    (1): Tanh()\n",
      "    (2): Linear(in_features=256, out_features=1, bias=True)\n",
      "  )\n",
      "  (layer1): Linear(in_features=1280, out_features=512, bias=True)\n",
      "  (layer_norm): LayerNorm((512,), eps=1e-05, elementwise_affine=True)\n",
      "  (relu): ReLU()\n",
      "  (dropout): Dropout(p=0.1, inplace=False)\n",
      "  (layer2): Linear(in_features=512, out_features=51952, bias=True)\n",
      ")\n"
     ]
    }
   ],
   "source": [
    "model = FNN(num_classes).to(device)\n",
    "\n",
    "total = sum(p.numel() for p in model.parameters())\n",
    "print(f'Total parameters: {total/ 1e6} M')\n",
    "print(model)\n",
    "\n",
    "optimizer = torch.optim.Adam(model.parameters(), lr=lr)\n",
    "criterion = nn.CrossEntropyLoss()\n",
    "# Cosine annealing with warm restarts\n",
    "scheduler = torch.optim.lr_scheduler.CosineAnnealingWarmRestarts(\n",
    "    optimizer,\n",
    "    T_0=10,  # Initial restart interval\n",
    "    T_mult=2,  # Multiply interval by 2 after each restart\n",
    "    eta_min=1e-6  # Minimum learning rate\n",
    ")"
   ]
  },
  {
   "cell_type": "code",
   "execution_count": 15,
   "id": "8f7e7196-959f-44bb-85cf-e5d815477a04",
   "metadata": {},
   "outputs": [],
   "source": [
    "from sklearn.metrics import accuracy_score, f1_score, confusion_matrix, precision_score, recall_score\n",
    "\n",
    "def compute_metrics(all_labels, all_preds, running_loss, num_val):\n",
    "    # Convert tensors to numpy arrays\n",
    "    labels_np = torch.cat(all_labels).numpy()\n",
    "    preds_np = torch.cat(all_preds).numpy()\n",
    "\n",
    "    # print(\"labels:\", labels_np)\n",
    "    # print(\"preds:\", preds_np)\n",
    "    \n",
    "    # Compute evaluation metrics\n",
    "    accuracy = accuracy_score(labels_np, preds_np)\n",
    "    \n",
    "    # Precision scores\n",
    "    precision_macro = precision_score(labels_np, preds_np, average='macro')\n",
    "    precision_micro = precision_score(labels_np, preds_np, average='micro')\n",
    "    \n",
    "    # Recall scores\n",
    "    recall_macro = recall_score(labels_np, preds_np, average='macro')\n",
    "    recall_micro = recall_score(labels_np, preds_np, average='micro')\n",
    "    \n",
    "    # F1 scores\n",
    "    f1_macro = f1_score(labels_np, preds_np, average='macro')\n",
    "    f1_micro = f1_score(labels_np, preds_np, average='micro')\n",
    "    \n",
    "    # Confusion matrix\n",
    "    # conf_matrix = confusion_matrix(labels_np, preds_np, labels=[_ for _ in range(num_classes)])\n",
    "    \n",
    "    # Average loss\n",
    "    avg_loss = running_loss / num_val\n",
    "    \n",
    "    return {\n",
    "        'loss': avg_loss,\n",
    "        'accuracy': accuracy,\n",
    "        'precision_macro': precision_macro,\n",
    "        'precision_micro': precision_micro,\n",
    "        'recall_macro': recall_macro,\n",
    "        'recall_micro': recall_micro,\n",
    "        'f1_macro': f1_macro,\n",
    "        'f1_micro': f1_micro,\n",
    "        # 'confusion_matrix': conf_matrix\n",
    "    }"
   ]
  },
  {
   "cell_type": "code",
   "execution_count": 16,
   "id": "7bf4ba70-1529-4719-97c7-b176b91709eb",
   "metadata": {},
   "outputs": [],
   "source": [
    "val_batches = [da.get_batch() for _ in range(num_val)]\n",
    "\n",
    "def evaluate():\n",
    "    model.eval()  # Set model to evaluation mode\n",
    "    \n",
    "    running_loss = 0.0\n",
    "    all_preds = []\n",
    "    all_labels = []\n",
    "    \n",
    "    for epoch in range(num_val):\n",
    "        with torch.no_grad():  # Disable gradient computation during evaluation\n",
    "            tensor_batch = data_to_tensor_batch(val_batches[epoch])\n",
    "            tensor_batch.gpu(device)\n",
    "        \n",
    "            labels = tensor_batch.taxes\n",
    "            outputs = model(tensor_batch.seq_ids)\n",
    "\n",
    "            # Calculate the loss\n",
    "            loss = criterion(outputs, labels)\n",
    "    \n",
    "            running_loss += loss.item()\n",
    "                \n",
    "            preds = torch.argmax(outputs, dim=1)\n",
    "    \n",
    "            all_preds.append(preds.cpu())\n",
    "            all_labels.append(labels.cpu())\n",
    "    \n",
    "    return compute_metrics(all_labels, all_preds, running_loss, num_val)"
   ]
  },
  {
   "cell_type": "code",
   "execution_count": null,
   "id": "5c63c6b0-881c-410f-89e9-98e007d0edbd",
   "metadata": {},
   "outputs": [],
   "source": []
  },
  {
   "cell_type": "code",
   "execution_count": 18,
   "id": "7d542958-94d1-42b1-8e5a-8fe0f78515f8",
   "metadata": {
    "scrolled": true
   },
   "outputs": [
    {
     "name": "stderr",
     "output_type": "stream",
     "text": [
      "  0%|          | 95/100000 [00:02<37:08, 44.83it/s]"
     ]
    },
    {
     "name": "stdout",
     "output_type": "stream",
     "text": [
      "Epoch [100/100000]\n",
      "Train Loss: 7.0688, Train Accuracy: 0.0353\n",
      "Train Precision (micro): 0.0353, Train Precision (macro): 0.0001\n",
      "Train Recall (micro): 0.0353, Train Recall (macro): 0.0010\n",
      "Train F1 (micro): 0.0353, Train F1 (macro): 0.0001\n",
      "\n",
      "Val Loss: 7.1143, Val Accuracy: 0.0384\n",
      "Val Precision (micro): 0.0384, Val Precision (macro): 0.0001\n",
      "Val Recall (micro): 0.0384, Val Recall (macro): 0.0018\n",
      "Val F1 (micro): 0.0384, Val F1 (macro): 0.0002\n",
      "--------------------------------------------------------------------------------\n"
     ]
    },
    {
     "name": "stderr",
     "output_type": "stream",
     "text": [
      "  0%|          | 195/100000 [00:05<33:48, 49.20it/s]  "
     ]
    },
    {
     "name": "stdout",
     "output_type": "stream",
     "text": [
      "Epoch [200/100000]\n",
      "Train Loss: 7.0917, Train Accuracy: 0.0364\n",
      "Train Precision (micro): 0.0364, Train Precision (macro): 0.0001\n",
      "Train Recall (micro): 0.0364, Train Recall (macro): 0.0012\n",
      "Train F1 (micro): 0.0364, Train F1 (macro): 0.0001\n",
      "\n",
      "Val Loss: 7.0807, Val Accuracy: 0.0347\n",
      "Val Precision (micro): 0.0347, Val Precision (macro): 0.0001\n",
      "Val Recall (micro): 0.0347, Val Recall (macro): 0.0015\n",
      "Val F1 (micro): 0.0347, Val F1 (macro): 0.0002\n",
      "--------------------------------------------------------------------------------\n"
     ]
    },
    {
     "name": "stderr",
     "output_type": "stream",
     "text": [
      "  0%|          | 298/100000 [00:09<35:55, 46.26it/s]  "
     ]
    },
    {
     "name": "stdout",
     "output_type": "stream",
     "text": [
      "Epoch [300/100000]\n",
      "Train Loss: 7.0505, Train Accuracy: 0.0378\n",
      "Train Precision (micro): 0.0378, Train Precision (macro): 0.0001\n",
      "Train Recall (micro): 0.0378, Train Recall (macro): 0.0011\n",
      "Train F1 (micro): 0.0378, Train F1 (macro): 0.0001\n",
      "\n",
      "Val Loss: 7.0068, Val Accuracy: 0.0422\n",
      "Val Precision (micro): 0.0422, Val Precision (macro): 0.0004\n",
      "Val Recall (micro): 0.0422, Val Recall (macro): 0.0023\n",
      "Val F1 (micro): 0.0422, Val F1 (macro): 0.0004\n",
      "--------------------------------------------------------------------------------\n"
     ]
    },
    {
     "name": "stderr",
     "output_type": "stream",
     "text": [
      "  0%|          | 398/100000 [00:12<33:31, 49.51it/s]  "
     ]
    },
    {
     "name": "stdout",
     "output_type": "stream",
     "text": [
      "Epoch [400/100000]\n",
      "Train Loss: 6.9992, Train Accuracy: 0.0380\n",
      "Train Precision (micro): 0.0380, Train Precision (macro): 0.0001\n",
      "Train Recall (micro): 0.0380, Train Recall (macro): 0.0012\n",
      "Train F1 (micro): 0.0380, Train F1 (macro): 0.0002\n",
      "\n",
      "Val Loss: 7.0047, Val Accuracy: 0.0431\n",
      "Val Precision (micro): 0.0431, Val Precision (macro): 0.0004\n",
      "Val Recall (micro): 0.0431, Val Recall (macro): 0.0023\n",
      "Val F1 (micro): 0.0431, Val F1 (macro): 0.0004\n",
      "--------------------------------------------------------------------------------\n"
     ]
    },
    {
     "name": "stderr",
     "output_type": "stream",
     "text": [
      "  0%|          | 498/100000 [00:15<37:03, 44.74it/s]  "
     ]
    },
    {
     "name": "stdout",
     "output_type": "stream",
     "text": [
      "Epoch [500/100000]\n",
      "Train Loss: 6.9570, Train Accuracy: 0.0416\n",
      "Train Precision (micro): 0.0416, Train Precision (macro): 0.0001\n",
      "Train Recall (micro): 0.0416, Train Recall (macro): 0.0013\n",
      "Train F1 (micro): 0.0416, Train F1 (macro): 0.0002\n",
      "\n",
      "Val Loss: 6.9393, Val Accuracy: 0.0394\n",
      "Val Precision (micro): 0.0394, Val Precision (macro): 0.0002\n",
      "Val Recall (micro): 0.0394, Val Recall (macro): 0.0020\n",
      "Val F1 (micro): 0.0394, Val F1 (macro): 0.0003\n",
      "--------------------------------------------------------------------------------\n"
     ]
    },
    {
     "name": "stderr",
     "output_type": "stream",
     "text": [
      "  1%|          | 596/100000 [00:19<35:27, 46.71it/s]  "
     ]
    },
    {
     "name": "stdout",
     "output_type": "stream",
     "text": [
      "Epoch [600/100000]\n",
      "Train Loss: 6.8985, Train Accuracy: 0.0422\n",
      "Train Precision (micro): 0.0422, Train Precision (macro): 0.0001\n",
      "Train Recall (micro): 0.0422, Train Recall (macro): 0.0013\n",
      "Train F1 (micro): 0.0422, Train F1 (macro): 0.0002\n",
      "\n",
      "Val Loss: 6.8933, Val Accuracy: 0.0441\n",
      "Val Precision (micro): 0.0441, Val Precision (macro): 0.0010\n",
      "Val Recall (micro): 0.0441, Val Recall (macro): 0.0025\n",
      "Val F1 (micro): 0.0441, Val F1 (macro): 0.0007\n",
      "--------------------------------------------------------------------------------\n"
     ]
    },
    {
     "name": "stderr",
     "output_type": "stream",
     "text": [
      "  1%|          | 696/100000 [00:23<36:59, 44.74it/s]  "
     ]
    },
    {
     "name": "stdout",
     "output_type": "stream",
     "text": [
      "Epoch [700/100000]\n",
      "Train Loss: 6.9246, Train Accuracy: 0.0400\n",
      "Train Precision (micro): 0.0400, Train Precision (macro): 0.0001\n",
      "Train Recall (micro): 0.0400, Train Recall (macro): 0.0014\n",
      "Train F1 (micro): 0.0400, Train F1 (macro): 0.0002\n",
      "\n",
      "Val Loss: 6.8808, Val Accuracy: 0.0447\n",
      "Val Precision (micro): 0.0447, Val Precision (macro): 0.0006\n",
      "Val Recall (micro): 0.0447, Val Recall (macro): 0.0026\n",
      "Val F1 (micro): 0.0447, Val F1 (macro): 0.0006\n",
      "--------------------------------------------------------------------------------\n"
     ]
    },
    {
     "name": "stderr",
     "output_type": "stream",
     "text": [
      "  1%|          | 795/100000 [00:27<35:21, 46.76it/s]  "
     ]
    },
    {
     "name": "stdout",
     "output_type": "stream",
     "text": [
      "Epoch [800/100000]\n",
      "Train Loss: 6.8367, Train Accuracy: 0.0483\n",
      "Train Precision (micro): 0.0483, Train Precision (macro): 0.0002\n",
      "Train Recall (micro): 0.0483, Train Recall (macro): 0.0016\n",
      "Train F1 (micro): 0.0483, Train F1 (macro): 0.0003\n",
      "\n",
      "Val Loss: 6.8733, Val Accuracy: 0.0425\n",
      "Val Precision (micro): 0.0425, Val Precision (macro): 0.0002\n",
      "Val Recall (micro): 0.0425, Val Recall (macro): 0.0023\n",
      "Val F1 (micro): 0.0425, Val F1 (macro): 0.0004\n",
      "--------------------------------------------------------------------------------\n"
     ]
    },
    {
     "name": "stderr",
     "output_type": "stream",
     "text": [
      "  1%|          | 896/100000 [00:31<34:18, 48.16it/s]  "
     ]
    },
    {
     "name": "stdout",
     "output_type": "stream",
     "text": [
      "Epoch [900/100000]\n",
      "Train Loss: 6.8167, Train Accuracy: 0.0427\n",
      "Train Precision (micro): 0.0427, Train Precision (macro): 0.0002\n",
      "Train Recall (micro): 0.0427, Train Recall (macro): 0.0015\n",
      "Train F1 (micro): 0.0427, Train F1 (macro): 0.0003\n",
      "\n",
      "Val Loss: 6.8131, Val Accuracy: 0.0434\n",
      "Val Precision (micro): 0.0434, Val Precision (macro): 0.0005\n",
      "Val Recall (micro): 0.0434, Val Recall (macro): 0.0027\n",
      "Val F1 (micro): 0.0434, Val F1 (macro): 0.0006\n",
      "--------------------------------------------------------------------------------\n"
     ]
    },
    {
     "name": "stderr",
     "output_type": "stream",
     "text": [
      "  1%|          | 996/100000 [00:34<34:54, 47.26it/s]  "
     ]
    },
    {
     "name": "stdout",
     "output_type": "stream",
     "text": [
      "Epoch [1000/100000]\n",
      "Train Loss: 6.7794, Train Accuracy: 0.0472\n",
      "Train Precision (micro): 0.0472, Train Precision (macro): 0.0002\n",
      "Train Recall (micro): 0.0472, Train Recall (macro): 0.0018\n",
      "Train F1 (micro): 0.0472, Train F1 (macro): 0.0004\n",
      "\n",
      "Val Loss: 6.7535, Val Accuracy: 0.0481\n",
      "Val Precision (micro): 0.0481, Val Precision (macro): 0.0003\n",
      "Val Recall (micro): 0.0481, Val Recall (macro): 0.0031\n",
      "Val F1 (micro): 0.0481, Val F1 (macro): 0.0006\n",
      "--------------------------------------------------------------------------------\n"
     ]
    },
    {
     "name": "stderr",
     "output_type": "stream",
     "text": [
      "  1%|          | 1096/100000 [00:37<35:33, 46.35it/s]  "
     ]
    },
    {
     "name": "stdout",
     "output_type": "stream",
     "text": [
      "Epoch [1100/100000]\n",
      "Train Loss: 6.7208, Train Accuracy: 0.0488\n",
      "Train Precision (micro): 0.0488, Train Precision (macro): 0.0002\n",
      "Train Recall (micro): 0.0488, Train Recall (macro): 0.0021\n",
      "Train F1 (micro): 0.0488, Train F1 (macro): 0.0004\n",
      "\n",
      "Val Loss: 6.7217, Val Accuracy: 0.0472\n",
      "Val Precision (micro): 0.0472, Val Precision (macro): 0.0003\n",
      "Val Recall (micro): 0.0472, Val Recall (macro): 0.0028\n",
      "Val F1 (micro): 0.0472, Val F1 (macro): 0.0005\n",
      "--------------------------------------------------------------------------------\n"
     ]
    },
    {
     "name": "stderr",
     "output_type": "stream",
     "text": [
      "  1%|          | 1196/100000 [00:41<34:21, 47.94it/s]  "
     ]
    },
    {
     "name": "stdout",
     "output_type": "stream",
     "text": [
      "Epoch [1200/100000]\n",
      "Train Loss: 6.7296, Train Accuracy: 0.0447\n",
      "Train Precision (micro): 0.0447, Train Precision (macro): 0.0002\n",
      "Train Recall (micro): 0.0447, Train Recall (macro): 0.0020\n",
      "Train F1 (micro): 0.0447, Train F1 (macro): 0.0004\n",
      "\n",
      "Val Loss: 6.7022, Val Accuracy: 0.0488\n",
      "Val Precision (micro): 0.0488, Val Precision (macro): 0.0004\n",
      "Val Recall (micro): 0.0488, Val Recall (macro): 0.0031\n",
      "Val F1 (micro): 0.0488, Val F1 (macro): 0.0006\n",
      "--------------------------------------------------------------------------------\n"
     ]
    },
    {
     "name": "stderr",
     "output_type": "stream",
     "text": [
      "  1%|▏         | 1296/100000 [00:44<33:15, 49.46it/s]  "
     ]
    },
    {
     "name": "stdout",
     "output_type": "stream",
     "text": [
      "Epoch [1300/100000]\n",
      "Train Loss: 6.6780, Train Accuracy: 0.0520\n",
      "Train Precision (micro): 0.0520, Train Precision (macro): 0.0007\n",
      "Train Recall (micro): 0.0520, Train Recall (macro): 0.0024\n",
      "Train F1 (micro): 0.0520, Train F1 (macro): 0.0007\n",
      "\n",
      "Val Loss: 6.6977, Val Accuracy: 0.0488\n",
      "Val Precision (micro): 0.0488, Val Precision (macro): 0.0004\n",
      "Val Recall (micro): 0.0488, Val Recall (macro): 0.0030\n",
      "Val F1 (micro): 0.0488, Val F1 (macro): 0.0006\n",
      "--------------------------------------------------------------------------------\n"
     ]
    },
    {
     "name": "stderr",
     "output_type": "stream",
     "text": [
      "  1%|▏         | 1395/100000 [00:47<33:30, 49.05it/s]  "
     ]
    },
    {
     "name": "stdout",
     "output_type": "stream",
     "text": [
      "Epoch [1400/100000]\n",
      "Train Loss: 6.7825, Train Accuracy: 0.0511\n",
      "Train Precision (micro): 0.0511, Train Precision (macro): 0.0003\n",
      "Train Recall (micro): 0.0511, Train Recall (macro): 0.0020\n",
      "Train F1 (micro): 0.0511, Train F1 (macro): 0.0004\n",
      "\n",
      "Val Loss: 6.6922, Val Accuracy: 0.0469\n",
      "Val Precision (micro): 0.0469, Val Precision (macro): 0.0011\n",
      "Val Recall (micro): 0.0469, Val Recall (macro): 0.0031\n",
      "Val F1 (micro): 0.0469, Val F1 (macro): 0.0007\n",
      "--------------------------------------------------------------------------------\n"
     ]
    },
    {
     "name": "stderr",
     "output_type": "stream",
     "text": [
      "  1%|▏         | 1497/100000 [00:51<35:04, 46.81it/s]  "
     ]
    },
    {
     "name": "stdout",
     "output_type": "stream",
     "text": [
      "Epoch [1500/100000]\n",
      "Train Loss: 6.6806, Train Accuracy: 0.0523\n",
      "Train Precision (micro): 0.0523, Train Precision (macro): 0.0003\n",
      "Train Recall (micro): 0.0523, Train Recall (macro): 0.0021\n",
      "Train F1 (micro): 0.0523, Train F1 (macro): 0.0005\n",
      "\n",
      "Val Loss: 6.6776, Val Accuracy: 0.0462\n",
      "Val Precision (micro): 0.0462, Val Precision (macro): 0.0004\n",
      "Val Recall (micro): 0.0462, Val Recall (macro): 0.0034\n",
      "Val F1 (micro): 0.0462, Val F1 (macro): 0.0007\n",
      "--------------------------------------------------------------------------------\n"
     ]
    },
    {
     "name": "stderr",
     "output_type": "stream",
     "text": [
      "  2%|▏         | 1598/100000 [00:55<35:31, 46.17it/s]  "
     ]
    },
    {
     "name": "stdout",
     "output_type": "stream",
     "text": [
      "Epoch [1600/100000]\n",
      "Train Loss: 6.6630, Train Accuracy: 0.0491\n",
      "Train Precision (micro): 0.0491, Train Precision (macro): 0.0003\n",
      "Train Recall (micro): 0.0491, Train Recall (macro): 0.0022\n",
      "Train F1 (micro): 0.0491, Train F1 (macro): 0.0004\n",
      "\n",
      "Val Loss: 6.6482, Val Accuracy: 0.0459\n",
      "Val Precision (micro): 0.0459, Val Precision (macro): 0.0005\n",
      "Val Recall (micro): 0.0459, Val Recall (macro): 0.0036\n",
      "Val F1 (micro): 0.0459, Val F1 (macro): 0.0008\n",
      "--------------------------------------------------------------------------------\n"
     ]
    },
    {
     "name": "stderr",
     "output_type": "stream",
     "text": [
      "  2%|▏         | 1699/100000 [00:59<37:54, 43.21it/s]  "
     ]
    },
    {
     "name": "stdout",
     "output_type": "stream",
     "text": [
      "Epoch [1700/100000]\n",
      "Train Loss: 6.5926, Train Accuracy: 0.0520\n",
      "Train Precision (micro): 0.0520, Train Precision (macro): 0.0006\n",
      "Train Recall (micro): 0.0520, Train Recall (macro): 0.0023\n",
      "Train F1 (micro): 0.0520, Train F1 (macro): 0.0005\n",
      "\n",
      "Val Loss: 6.6119, Val Accuracy: 0.0484\n",
      "Val Precision (micro): 0.0484, Val Precision (macro): 0.0006\n",
      "Val Recall (micro): 0.0484, Val Recall (macro): 0.0038\n",
      "Val F1 (micro): 0.0484, Val F1 (macro): 0.0009\n",
      "--------------------------------------------------------------------------------\n"
     ]
    },
    {
     "name": "stderr",
     "output_type": "stream",
     "text": [
      "  2%|▏         | 1797/100000 [01:03<34:11, 47.87it/s]  "
     ]
    },
    {
     "name": "stdout",
     "output_type": "stream",
     "text": [
      "Epoch [1800/100000]\n",
      "Train Loss: 6.5329, Train Accuracy: 0.0577\n",
      "Train Precision (micro): 0.0577, Train Precision (macro): 0.0007\n",
      "Train Recall (micro): 0.0577, Train Recall (macro): 0.0028\n",
      "Train F1 (micro): 0.0577, Train F1 (macro): 0.0008\n",
      "\n",
      "Val Loss: 6.5870, Val Accuracy: 0.0522\n",
      "Val Precision (micro): 0.0522, Val Precision (macro): 0.0013\n",
      "Val Recall (micro): 0.0522, Val Recall (macro): 0.0042\n",
      "Val F1 (micro): 0.0522, Val F1 (macro): 0.0014\n",
      "--------------------------------------------------------------------------------\n"
     ]
    },
    {
     "name": "stderr",
     "output_type": "stream",
     "text": [
      "  2%|▏         | 1896/100000 [01:06<33:39, 48.57it/s]  "
     ]
    },
    {
     "name": "stdout",
     "output_type": "stream",
     "text": [
      "Epoch [1900/100000]\n",
      "Train Loss: 6.5482, Train Accuracy: 0.0534\n",
      "Train Precision (micro): 0.0534, Train Precision (macro): 0.0004\n",
      "Train Recall (micro): 0.0534, Train Recall (macro): 0.0025\n",
      "Train F1 (micro): 0.0534, Train F1 (macro): 0.0006\n",
      "\n",
      "Val Loss: 6.5554, Val Accuracy: 0.0516\n",
      "Val Precision (micro): 0.0516, Val Precision (macro): 0.0010\n",
      "Val Recall (micro): 0.0516, Val Recall (macro): 0.0038\n",
      "Val F1 (micro): 0.0516, Val F1 (macro): 0.0012\n",
      "--------------------------------------------------------------------------------\n"
     ]
    },
    {
     "name": "stderr",
     "output_type": "stream",
     "text": [
      "  2%|▏         | 1997/100000 [01:09<33:48, 48.32it/s]  "
     ]
    },
    {
     "name": "stdout",
     "output_type": "stream",
     "text": [
      "Epoch [2000/100000]\n",
      "Train Loss: 6.4800, Train Accuracy: 0.0564\n",
      "Train Precision (micro): 0.0564, Train Precision (macro): 0.0005\n",
      "Train Recall (micro): 0.0564, Train Recall (macro): 0.0027\n",
      "Train F1 (micro): 0.0564, Train F1 (macro): 0.0007\n",
      "\n",
      "Val Loss: 6.5282, Val Accuracy: 0.0522\n",
      "Val Precision (micro): 0.0522, Val Precision (macro): 0.0008\n",
      "Val Recall (micro): 0.0522, Val Recall (macro): 0.0037\n",
      "Val F1 (micro): 0.0522, Val F1 (macro): 0.0009\n",
      "--------------------------------------------------------------------------------\n"
     ]
    },
    {
     "name": "stderr",
     "output_type": "stream",
     "text": [
      "  2%|▏         | 2096/100000 [01:13<32:56, 49.54it/s]  "
     ]
    },
    {
     "name": "stdout",
     "output_type": "stream",
     "text": [
      "Epoch [2100/100000]\n",
      "Train Loss: 6.4590, Train Accuracy: 0.0609\n",
      "Train Precision (micro): 0.0609, Train Precision (macro): 0.0011\n",
      "Train Recall (micro): 0.0609, Train Recall (macro): 0.0029\n",
      "Train F1 (micro): 0.0609, Train F1 (macro): 0.0009\n",
      "\n",
      "Val Loss: 6.5049, Val Accuracy: 0.0534\n",
      "Val Precision (micro): 0.0534, Val Precision (macro): 0.0006\n",
      "Val Recall (micro): 0.0534, Val Recall (macro): 0.0042\n",
      "Val F1 (micro): 0.0534, Val F1 (macro): 0.0010\n",
      "--------------------------------------------------------------------------------\n"
     ]
    },
    {
     "name": "stderr",
     "output_type": "stream",
     "text": [
      "  2%|▏         | 2199/100000 [01:16<33:55, 48.04it/s]  "
     ]
    },
    {
     "name": "stdout",
     "output_type": "stream",
     "text": [
      "Epoch [2200/100000]\n",
      "Train Loss: 6.4561, Train Accuracy: 0.0612\n",
      "Train Precision (micro): 0.0612, Train Precision (macro): 0.0009\n",
      "Train Recall (micro): 0.0612, Train Recall (macro): 0.0031\n",
      "Train F1 (micro): 0.0612, Train F1 (macro): 0.0010\n",
      "\n",
      "Val Loss: 6.4909, Val Accuracy: 0.0569\n",
      "Val Precision (micro): 0.0569, Val Precision (macro): 0.0012\n",
      "Val Recall (micro): 0.0569, Val Recall (macro): 0.0049\n",
      "Val F1 (micro): 0.0569, Val F1 (macro): 0.0015\n",
      "--------------------------------------------------------------------------------\n"
     ]
    },
    {
     "name": "stderr",
     "output_type": "stream",
     "text": [
      "  2%|▏         | 2294/100000 [01:19<35:45, 45.55it/s]  "
     ]
    },
    {
     "name": "stdout",
     "output_type": "stream",
     "text": [
      "Epoch [2300/100000]\n",
      "Train Loss: 6.4529, Train Accuracy: 0.0642\n",
      "Train Precision (micro): 0.0642, Train Precision (macro): 0.0007\n",
      "Train Recall (micro): 0.0642, Train Recall (macro): 0.0030\n",
      "Train F1 (micro): 0.0642, Train F1 (macro): 0.0009\n",
      "\n",
      "Val Loss: 6.4732, Val Accuracy: 0.0572\n",
      "Val Precision (micro): 0.0572, Val Precision (macro): 0.0011\n",
      "Val Recall (micro): 0.0572, Val Recall (macro): 0.0048\n",
      "Val F1 (micro): 0.0572, Val F1 (macro): 0.0013\n",
      "--------------------------------------------------------------------------------\n"
     ]
    },
    {
     "name": "stderr",
     "output_type": "stream",
     "text": [
      "  2%|▏         | 2395/100000 [01:24<32:58, 49.33it/s]  "
     ]
    },
    {
     "name": "stdout",
     "output_type": "stream",
     "text": [
      "Epoch [2400/100000]\n",
      "Train Loss: 6.4573, Train Accuracy: 0.0566\n",
      "Train Precision (micro): 0.0566, Train Precision (macro): 0.0008\n",
      "Train Recall (micro): 0.0566, Train Recall (macro): 0.0030\n",
      "Train F1 (micro): 0.0566, Train F1 (macro): 0.0010\n",
      "\n",
      "Val Loss: 6.4725, Val Accuracy: 0.0575\n",
      "Val Precision (micro): 0.0575, Val Precision (macro): 0.0009\n",
      "Val Recall (micro): 0.0575, Val Recall (macro): 0.0047\n",
      "Val F1 (micro): 0.0575, Val F1 (macro): 0.0012\n",
      "--------------------------------------------------------------------------------\n"
     ]
    },
    {
     "name": "stderr",
     "output_type": "stream",
     "text": [
      "  2%|▏         | 2499/100000 [01:27<32:27, 50.07it/s]  "
     ]
    },
    {
     "name": "stdout",
     "output_type": "stream",
     "text": [
      "Epoch [2500/100000]\n",
      "Train Loss: 6.4502, Train Accuracy: 0.0620\n",
      "Train Precision (micro): 0.0620, Train Precision (macro): 0.0007\n",
      "Train Recall (micro): 0.0620, Train Recall (macro): 0.0031\n",
      "Train F1 (micro): 0.0620, Train F1 (macro): 0.0010\n",
      "\n",
      "Val Loss: 6.4641, Val Accuracy: 0.0569\n",
      "Val Precision (micro): 0.0569, Val Precision (macro): 0.0012\n",
      "Val Recall (micro): 0.0569, Val Recall (macro): 0.0047\n",
      "Val F1 (micro): 0.0569, Val F1 (macro): 0.0012\n",
      "--------------------------------------------------------------------------------\n"
     ]
    },
    {
     "name": "stderr",
     "output_type": "stream",
     "text": [
      "  3%|▎         | 2599/100000 [01:30<33:34, 48.36it/s]  "
     ]
    },
    {
     "name": "stdout",
     "output_type": "stream",
     "text": [
      "Epoch [2600/100000]\n",
      "Train Loss: 6.4894, Train Accuracy: 0.0528\n",
      "Train Precision (micro): 0.0528, Train Precision (macro): 0.0009\n",
      "Train Recall (micro): 0.0528, Train Recall (macro): 0.0029\n",
      "Train F1 (micro): 0.0528, Train F1 (macro): 0.0009\n",
      "\n",
      "Val Loss: 6.4635, Val Accuracy: 0.0572\n",
      "Val Precision (micro): 0.0572, Val Precision (macro): 0.0012\n",
      "Val Recall (micro): 0.0572, Val Recall (macro): 0.0048\n",
      "Val F1 (micro): 0.0572, Val F1 (macro): 0.0013\n",
      "--------------------------------------------------------------------------------\n"
     ]
    },
    {
     "name": "stderr",
     "output_type": "stream",
     "text": [
      "  3%|▎         | 2698/100000 [01:34<41:11, 39.37it/s]  "
     ]
    },
    {
     "name": "stdout",
     "output_type": "stream",
     "text": [
      "Epoch [2700/100000]\n",
      "Train Loss: 6.5115, Train Accuracy: 0.0608\n",
      "Train Precision (micro): 0.0608, Train Precision (macro): 0.0008\n",
      "Train Recall (micro): 0.0608, Train Recall (macro): 0.0035\n",
      "Train F1 (micro): 0.0608, Train F1 (macro): 0.0012\n",
      "\n",
      "Val Loss: 6.4982, Val Accuracy: 0.0537\n",
      "Val Precision (micro): 0.0537, Val Precision (macro): 0.0010\n",
      "Val Recall (micro): 0.0537, Val Recall (macro): 0.0050\n",
      "Val F1 (micro): 0.0537, Val F1 (macro): 0.0014\n",
      "--------------------------------------------------------------------------------\n"
     ]
    },
    {
     "name": "stderr",
     "output_type": "stream",
     "text": [
      "  3%|▎         | 2799/100000 [01:37<32:45, 49.45it/s]  "
     ]
    },
    {
     "name": "stdout",
     "output_type": "stream",
     "text": [
      "Epoch [2800/100000]\n",
      "Train Loss: 6.4862, Train Accuracy: 0.0564\n",
      "Train Precision (micro): 0.0564, Train Precision (macro): 0.0010\n",
      "Train Recall (micro): 0.0564, Train Recall (macro): 0.0030\n",
      "Train F1 (micro): 0.0564, Train F1 (macro): 0.0010\n",
      "\n",
      "Val Loss: 6.4968, Val Accuracy: 0.0550\n",
      "Val Precision (micro): 0.0550, Val Precision (macro): 0.0007\n",
      "Val Recall (micro): 0.0550, Val Recall (macro): 0.0052\n",
      "Val F1 (micro): 0.0550, Val F1 (macro): 0.0012\n",
      "--------------------------------------------------------------------------------\n"
     ]
    },
    {
     "name": "stderr",
     "output_type": "stream",
     "text": [
      "  3%|▎         | 2899/100000 [01:41<33:29, 48.32it/s]  "
     ]
    },
    {
     "name": "stdout",
     "output_type": "stream",
     "text": [
      "Epoch [2900/100000]\n",
      "Train Loss: 6.4717, Train Accuracy: 0.0563\n",
      "Train Precision (micro): 0.0563, Train Precision (macro): 0.0012\n",
      "Train Recall (micro): 0.0563, Train Recall (macro): 0.0032\n",
      "Train F1 (micro): 0.0563, Train F1 (macro): 0.0013\n",
      "\n",
      "Val Loss: 6.4580, Val Accuracy: 0.0612\n",
      "Val Precision (micro): 0.0612, Val Precision (macro): 0.0020\n",
      "Val Recall (micro): 0.0612, Val Recall (macro): 0.0060\n",
      "Val F1 (micro): 0.0612, Val F1 (macro): 0.0022\n",
      "--------------------------------------------------------------------------------\n"
     ]
    },
    {
     "name": "stderr",
     "output_type": "stream",
     "text": [
      "  3%|▎         | 2999/100000 [01:44<33:25, 48.37it/s]  "
     ]
    },
    {
     "name": "stdout",
     "output_type": "stream",
     "text": [
      "Epoch [3000/100000]\n",
      "Train Loss: 6.4632, Train Accuracy: 0.0594\n",
      "Train Precision (micro): 0.0594, Train Precision (macro): 0.0009\n",
      "Train Recall (micro): 0.0594, Train Recall (macro): 0.0033\n",
      "Train F1 (micro): 0.0594, Train F1 (macro): 0.0010\n",
      "\n",
      "Val Loss: 6.4432, Val Accuracy: 0.0572\n",
      "Val Precision (micro): 0.0572, Val Precision (macro): 0.0012\n",
      "Val Recall (micro): 0.0572, Val Recall (macro): 0.0047\n",
      "Val F1 (micro): 0.0572, Val F1 (macro): 0.0016\n",
      "--------------------------------------------------------------------------------\n"
     ]
    },
    {
     "name": "stderr",
     "output_type": "stream",
     "text": [
      "  3%|▎         | 3094/100000 [01:48<33:47, 47.79it/s]  "
     ]
    },
    {
     "name": "stdout",
     "output_type": "stream",
     "text": [
      "Epoch [3100/100000]\n",
      "Train Loss: 6.4238, Train Accuracy: 0.0630\n",
      "Train Precision (micro): 0.0630, Train Precision (macro): 0.0015\n",
      "Train Recall (micro): 0.0630, Train Recall (macro): 0.0036\n",
      "Train F1 (micro): 0.0630, Train F1 (macro): 0.0014\n",
      "\n",
      "Val Loss: 6.4181, Val Accuracy: 0.0584\n",
      "Val Precision (micro): 0.0584, Val Precision (macro): 0.0013\n",
      "Val Recall (micro): 0.0584, Val Recall (macro): 0.0052\n",
      "Val F1 (micro): 0.0584, Val F1 (macro): 0.0018\n",
      "--------------------------------------------------------------------------------\n"
     ]
    },
    {
     "name": "stderr",
     "output_type": "stream",
     "text": [
      "  3%|▎         | 3198/100000 [01:51<33:05, 48.75it/s]  "
     ]
    },
    {
     "name": "stdout",
     "output_type": "stream",
     "text": [
      "Epoch [3200/100000]\n",
      "Train Loss: 6.4637, Train Accuracy: 0.0587\n",
      "Train Precision (micro): 0.0587, Train Precision (macro): 0.0008\n",
      "Train Recall (micro): 0.0587, Train Recall (macro): 0.0035\n",
      "Train F1 (micro): 0.0587, Train F1 (macro): 0.0011\n",
      "\n",
      "Val Loss: 6.3916, Val Accuracy: 0.0597\n",
      "Val Precision (micro): 0.0597, Val Precision (macro): 0.0024\n",
      "Val Recall (micro): 0.0597, Val Recall (macro): 0.0055\n",
      "Val F1 (micro): 0.0597, Val F1 (macro): 0.0023\n",
      "--------------------------------------------------------------------------------\n"
     ]
    },
    {
     "name": "stderr",
     "output_type": "stream",
     "text": [
      "  3%|▎         | 3296/100000 [01:54<32:56, 48.93it/s]  "
     ]
    },
    {
     "name": "stdout",
     "output_type": "stream",
     "text": [
      "Epoch [3300/100000]\n",
      "Train Loss: 6.3508, Train Accuracy: 0.0636\n",
      "Train Precision (micro): 0.0636, Train Precision (macro): 0.0015\n",
      "Train Recall (micro): 0.0636, Train Recall (macro): 0.0039\n",
      "Train F1 (micro): 0.0636, Train F1 (macro): 0.0016\n",
      "\n",
      "Val Loss: 6.3793, Val Accuracy: 0.0600\n",
      "Val Precision (micro): 0.0600, Val Precision (macro): 0.0012\n",
      "Val Recall (micro): 0.0600, Val Recall (macro): 0.0054\n",
      "Val F1 (micro): 0.0600, Val F1 (macro): 0.0017\n",
      "--------------------------------------------------------------------------------\n"
     ]
    },
    {
     "name": "stderr",
     "output_type": "stream",
     "text": [
      "  3%|▎         | 3396/100000 [01:58<32:18, 49.84it/s]  "
     ]
    },
    {
     "name": "stdout",
     "output_type": "stream",
     "text": [
      "Epoch [3400/100000]\n",
      "Train Loss: 6.3321, Train Accuracy: 0.0609\n",
      "Train Precision (micro): 0.0609, Train Precision (macro): 0.0010\n",
      "Train Recall (micro): 0.0609, Train Recall (macro): 0.0034\n",
      "Train F1 (micro): 0.0609, Train F1 (macro): 0.0011\n",
      "\n",
      "Val Loss: 6.3445, Val Accuracy: 0.0612\n",
      "Val Precision (micro): 0.0612, Val Precision (macro): 0.0011\n",
      "Val Recall (micro): 0.0612, Val Recall (macro): 0.0058\n",
      "Val F1 (micro): 0.0612, Val F1 (macro): 0.0017\n",
      "--------------------------------------------------------------------------------\n"
     ]
    },
    {
     "name": "stderr",
     "output_type": "stream",
     "text": [
      "  3%|▎         | 3499/100000 [02:01<32:55, 48.86it/s]  "
     ]
    },
    {
     "name": "stdout",
     "output_type": "stream",
     "text": [
      "Epoch [3500/100000]\n",
      "Train Loss: 6.3422, Train Accuracy: 0.0625\n",
      "Train Precision (micro): 0.0625, Train Precision (macro): 0.0010\n",
      "Train Recall (micro): 0.0625, Train Recall (macro): 0.0042\n",
      "Train F1 (micro): 0.0625, Train F1 (macro): 0.0014\n",
      "\n",
      "Val Loss: 6.3500, Val Accuracy: 0.0628\n",
      "Val Precision (micro): 0.0628, Val Precision (macro): 0.0022\n",
      "Val Recall (micro): 0.0628, Val Recall (macro): 0.0066\n",
      "Val F1 (micro): 0.0628, Val F1 (macro): 0.0024\n",
      "--------------------------------------------------------------------------------\n"
     ]
    },
    {
     "name": "stderr",
     "output_type": "stream",
     "text": [
      "  4%|▎         | 3595/100000 [02:04<32:51, 48.90it/s]  "
     ]
    },
    {
     "name": "stdout",
     "output_type": "stream",
     "text": [
      "Epoch [3600/100000]\n",
      "Train Loss: 6.3226, Train Accuracy: 0.0633\n",
      "Train Precision (micro): 0.0633, Train Precision (macro): 0.0013\n",
      "Train Recall (micro): 0.0633, Train Recall (macro): 0.0036\n",
      "Train F1 (micro): 0.0633, Train F1 (macro): 0.0014\n",
      "\n",
      "Val Loss: 6.3339, Val Accuracy: 0.0647\n",
      "Val Precision (micro): 0.0647, Val Precision (macro): 0.0025\n",
      "Val Recall (micro): 0.0647, Val Recall (macro): 0.0069\n",
      "Val F1 (micro): 0.0647, Val F1 (macro): 0.0024\n",
      "--------------------------------------------------------------------------------\n"
     ]
    },
    {
     "name": "stderr",
     "output_type": "stream",
     "text": [
      "  4%|▎         | 3698/100000 [02:08<45:25, 35.33it/s]  "
     ]
    },
    {
     "name": "stdout",
     "output_type": "stream",
     "text": [
      "Epoch [3700/100000]\n",
      "Train Loss: 6.2916, Train Accuracy: 0.0648\n",
      "Train Precision (micro): 0.0648, Train Precision (macro): 0.0013\n",
      "Train Recall (micro): 0.0648, Train Recall (macro): 0.0043\n",
      "Train F1 (micro): 0.0648, Train F1 (macro): 0.0015\n",
      "\n",
      "Val Loss: 6.2921, Val Accuracy: 0.0650\n",
      "Val Precision (micro): 0.0650, Val Precision (macro): 0.0018\n",
      "Val Recall (micro): 0.0650, Val Recall (macro): 0.0064\n",
      "Val F1 (micro): 0.0650, Val F1 (macro): 0.0023\n",
      "--------------------------------------------------------------------------------\n"
     ]
    },
    {
     "name": "stderr",
     "output_type": "stream",
     "text": [
      "  4%|▍         | 3795/100000 [02:12<38:08, 42.04it/s]  "
     ]
    },
    {
     "name": "stdout",
     "output_type": "stream",
     "text": [
      "Epoch [3800/100000]\n",
      "Train Loss: 6.3328, Train Accuracy: 0.0659\n",
      "Train Precision (micro): 0.0659, Train Precision (macro): 0.0027\n",
      "Train Recall (micro): 0.0659, Train Recall (macro): 0.0048\n",
      "Train F1 (micro): 0.0659, Train F1 (macro): 0.0023\n",
      "\n",
      "Val Loss: 6.2814, Val Accuracy: 0.0653\n",
      "Val Precision (micro): 0.0653, Val Precision (macro): 0.0023\n",
      "Val Recall (micro): 0.0653, Val Recall (macro): 0.0066\n",
      "Val F1 (micro): 0.0653, Val F1 (macro): 0.0026\n",
      "--------------------------------------------------------------------------------\n"
     ]
    },
    {
     "name": "stderr",
     "output_type": "stream",
     "text": [
      "  4%|▍         | 3897/100000 [02:15<32:05, 49.91it/s]  "
     ]
    },
    {
     "name": "stdout",
     "output_type": "stream",
     "text": [
      "Epoch [3900/100000]\n",
      "Train Loss: 6.2691, Train Accuracy: 0.0709\n",
      "Train Precision (micro): 0.0709, Train Precision (macro): 0.0018\n",
      "Train Recall (micro): 0.0709, Train Recall (macro): 0.0050\n",
      "Train F1 (micro): 0.0709, Train F1 (macro): 0.0022\n",
      "\n",
      "Val Loss: 6.2950, Val Accuracy: 0.0641\n",
      "Val Precision (micro): 0.0641, Val Precision (macro): 0.0025\n",
      "Val Recall (micro): 0.0641, Val Recall (macro): 0.0066\n",
      "Val F1 (micro): 0.0641, Val F1 (macro): 0.0026\n",
      "--------------------------------------------------------------------------------\n"
     ]
    },
    {
     "name": "stderr",
     "output_type": "stream",
     "text": [
      "  4%|▍         | 3998/100000 [02:18<32:52, 48.68it/s]  "
     ]
    },
    {
     "name": "stdout",
     "output_type": "stream",
     "text": [
      "Epoch [4000/100000]\n",
      "Train Loss: 6.3479, Train Accuracy: 0.0639\n",
      "Train Precision (micro): 0.0639, Train Precision (macro): 0.0024\n",
      "Train Recall (micro): 0.0639, Train Recall (macro): 0.0051\n",
      "Train F1 (micro): 0.0639, Train F1 (macro): 0.0023\n",
      "\n",
      "Val Loss: 6.2579, Val Accuracy: 0.0653\n",
      "Val Precision (micro): 0.0653, Val Precision (macro): 0.0023\n",
      "Val Recall (micro): 0.0653, Val Recall (macro): 0.0067\n",
      "Val F1 (micro): 0.0653, Val F1 (macro): 0.0024\n",
      "--------------------------------------------------------------------------------\n"
     ]
    },
    {
     "name": "stderr",
     "output_type": "stream",
     "text": [
      "  4%|▍         | 4098/100000 [02:22<32:52, 48.61it/s]  "
     ]
    },
    {
     "name": "stdout",
     "output_type": "stream",
     "text": [
      "Epoch [4100/100000]\n",
      "Train Loss: 6.2636, Train Accuracy: 0.0623\n",
      "Train Precision (micro): 0.0623, Train Precision (macro): 0.0017\n",
      "Train Recall (micro): 0.0623, Train Recall (macro): 0.0046\n",
      "Train F1 (micro): 0.0623, Train F1 (macro): 0.0019\n",
      "\n",
      "Val Loss: 6.2516, Val Accuracy: 0.0663\n",
      "Val Precision (micro): 0.0663, Val Precision (macro): 0.0037\n",
      "Val Recall (micro): 0.0663, Val Recall (macro): 0.0073\n",
      "Val F1 (micro): 0.0663, Val F1 (macro): 0.0033\n",
      "--------------------------------------------------------------------------------\n"
     ]
    },
    {
     "name": "stderr",
     "output_type": "stream",
     "text": [
      "  4%|▍         | 4196/100000 [02:25<32:03, 49.80it/s]  "
     ]
    },
    {
     "name": "stdout",
     "output_type": "stream",
     "text": [
      "Epoch [4200/100000]\n",
      "Train Loss: 6.2217, Train Accuracy: 0.0633\n",
      "Train Precision (micro): 0.0633, Train Precision (macro): 0.0019\n",
      "Train Recall (micro): 0.0633, Train Recall (macro): 0.0059\n",
      "Train F1 (micro): 0.0633, Train F1 (macro): 0.0024\n",
      "\n",
      "Val Loss: 6.2377, Val Accuracy: 0.0666\n",
      "Val Precision (micro): 0.0666, Val Precision (macro): 0.0029\n",
      "Val Recall (micro): 0.0666, Val Recall (macro): 0.0080\n",
      "Val F1 (micro): 0.0666, Val F1 (macro): 0.0034\n",
      "--------------------------------------------------------------------------------\n"
     ]
    },
    {
     "name": "stderr",
     "output_type": "stream",
     "text": [
      "  4%|▍         | 4295/100000 [02:29<34:08, 46.71it/s]  "
     ]
    },
    {
     "name": "stdout",
     "output_type": "stream",
     "text": [
      "Epoch [4300/100000]\n",
      "Train Loss: 6.2670, Train Accuracy: 0.0677\n",
      "Train Precision (micro): 0.0677, Train Precision (macro): 0.0022\n",
      "Train Recall (micro): 0.0677, Train Recall (macro): 0.0049\n",
      "Train F1 (micro): 0.0677, Train F1 (macro): 0.0022\n",
      "\n",
      "Val Loss: 6.2308, Val Accuracy: 0.0675\n",
      "Val Precision (micro): 0.0675, Val Precision (macro): 0.0027\n",
      "Val Recall (micro): 0.0675, Val Recall (macro): 0.0085\n",
      "Val F1 (micro): 0.0675, Val F1 (macro): 0.0034\n",
      "--------------------------------------------------------------------------------\n"
     ]
    },
    {
     "name": "stderr",
     "output_type": "stream",
     "text": [
      "  4%|▍         | 4395/100000 [02:32<33:36, 47.41it/s]  "
     ]
    },
    {
     "name": "stdout",
     "output_type": "stream",
     "text": [
      "Epoch [4400/100000]\n",
      "Train Loss: 6.2115, Train Accuracy: 0.0719\n",
      "Train Precision (micro): 0.0719, Train Precision (macro): 0.0022\n",
      "Train Recall (micro): 0.0719, Train Recall (macro): 0.0054\n",
      "Train F1 (micro): 0.0719, Train F1 (macro): 0.0023\n",
      "\n",
      "Val Loss: 6.2185, Val Accuracy: 0.0659\n",
      "Val Precision (micro): 0.0659, Val Precision (macro): 0.0025\n",
      "Val Recall (micro): 0.0659, Val Recall (macro): 0.0075\n",
      "Val F1 (micro): 0.0659, Val F1 (macro): 0.0031\n",
      "--------------------------------------------------------------------------------\n"
     ]
    },
    {
     "name": "stderr",
     "output_type": "stream",
     "text": [
      "  4%|▍         | 4496/100000 [02:35<34:00, 46.80it/s]  "
     ]
    },
    {
     "name": "stdout",
     "output_type": "stream",
     "text": [
      "Epoch [4500/100000]\n",
      "Train Loss: 6.2029, Train Accuracy: 0.0702\n",
      "Train Precision (micro): 0.0702, Train Precision (macro): 0.0020\n",
      "Train Recall (micro): 0.0702, Train Recall (macro): 0.0061\n",
      "Train F1 (micro): 0.0702, Train F1 (macro): 0.0025\n",
      "\n",
      "Val Loss: 6.2112, Val Accuracy: 0.0678\n",
      "Val Precision (micro): 0.0678, Val Precision (macro): 0.0031\n",
      "Val Recall (micro): 0.0678, Val Recall (macro): 0.0078\n",
      "Val F1 (micro): 0.0678, Val F1 (macro): 0.0035\n",
      "--------------------------------------------------------------------------------\n"
     ]
    },
    {
     "name": "stderr",
     "output_type": "stream",
     "text": [
      "  5%|▍         | 4596/100000 [02:39<37:38, 42.25it/s]  "
     ]
    },
    {
     "name": "stdout",
     "output_type": "stream",
     "text": [
      "Epoch [4600/100000]\n",
      "Train Loss: 6.2531, Train Accuracy: 0.0655\n",
      "Train Precision (micro): 0.0655, Train Precision (macro): 0.0022\n",
      "Train Recall (micro): 0.0655, Train Recall (macro): 0.0049\n",
      "Train F1 (micro): 0.0655, Train F1 (macro): 0.0021\n",
      "\n",
      "Val Loss: 6.2045, Val Accuracy: 0.0694\n",
      "Val Precision (micro): 0.0694, Val Precision (macro): 0.0035\n",
      "Val Recall (micro): 0.0694, Val Recall (macro): 0.0085\n",
      "Val F1 (micro): 0.0694, Val F1 (macro): 0.0036\n",
      "--------------------------------------------------------------------------------\n"
     ]
    },
    {
     "name": "stderr",
     "output_type": "stream",
     "text": [
      "  5%|▍         | 4698/100000 [02:43<46:52, 33.89it/s]  "
     ]
    },
    {
     "name": "stdout",
     "output_type": "stream",
     "text": [
      "Epoch [4700/100000]\n",
      "Train Loss: 6.1878, Train Accuracy: 0.0758\n",
      "Train Precision (micro): 0.0758, Train Precision (macro): 0.0021\n",
      "Train Recall (micro): 0.0758, Train Recall (macro): 0.0050\n",
      "Train F1 (micro): 0.0758, Train F1 (macro): 0.0021\n",
      "\n",
      "Val Loss: 6.2035, Val Accuracy: 0.0691\n",
      "Val Precision (micro): 0.0691, Val Precision (macro): 0.0026\n",
      "Val Recall (micro): 0.0691, Val Recall (macro): 0.0082\n",
      "Val F1 (micro): 0.0691, Val F1 (macro): 0.0032\n",
      "--------------------------------------------------------------------------------\n"
     ]
    },
    {
     "name": "stderr",
     "output_type": "stream",
     "text": [
      "  5%|▍         | 4795/100000 [02:47<2:35:23, 10.21it/s]"
     ]
    },
    {
     "name": "stdout",
     "output_type": "stream",
     "text": [
      "Epoch [4800/100000]\n",
      "Train Loss: 6.2028, Train Accuracy: 0.0702\n",
      "Train Precision (micro): 0.0702, Train Precision (macro): 0.0023\n",
      "Train Recall (micro): 0.0702, Train Recall (macro): 0.0050\n",
      "Train F1 (micro): 0.0702, Train F1 (macro): 0.0021\n",
      "\n",
      "Val Loss: 6.1977, Val Accuracy: 0.0684\n",
      "Val Precision (micro): 0.0684, Val Precision (macro): 0.0027\n",
      "Val Recall (micro): 0.0684, Val Recall (macro): 0.0081\n",
      "Val F1 (micro): 0.0684, Val F1 (macro): 0.0032\n",
      "--------------------------------------------------------------------------------\n"
     ]
    },
    {
     "name": "stderr",
     "output_type": "stream",
     "text": [
      "  5%|▍         | 4896/100000 [02:51<31:57, 49.60it/s]  "
     ]
    },
    {
     "name": "stdout",
     "output_type": "stream",
     "text": [
      "Epoch [4900/100000]\n",
      "Train Loss: 6.2690, Train Accuracy: 0.0697\n",
      "Train Precision (micro): 0.0697, Train Precision (macro): 0.0022\n",
      "Train Recall (micro): 0.0697, Train Recall (macro): 0.0050\n",
      "Train F1 (micro): 0.0697, Train F1 (macro): 0.0022\n",
      "\n",
      "Val Loss: 6.1971, Val Accuracy: 0.0694\n",
      "Val Precision (micro): 0.0694, Val Precision (macro): 0.0034\n",
      "Val Recall (micro): 0.0694, Val Recall (macro): 0.0083\n",
      "Val F1 (micro): 0.0694, Val F1 (macro): 0.0034\n",
      "--------------------------------------------------------------------------------\n"
     ]
    },
    {
     "name": "stderr",
     "output_type": "stream",
     "text": [
      "  5%|▍         | 4998/100000 [02:54<32:52, 48.16it/s]  "
     ]
    },
    {
     "name": "stdout",
     "output_type": "stream",
     "text": [
      "Epoch [5000/100000]\n",
      "Train Loss: 6.2508, Train Accuracy: 0.0708\n",
      "Train Precision (micro): 0.0708, Train Precision (macro): 0.0027\n",
      "Train Recall (micro): 0.0708, Train Recall (macro): 0.0057\n",
      "Train F1 (micro): 0.0708, Train F1 (macro): 0.0026\n",
      "\n",
      "Val Loss: 6.1963, Val Accuracy: 0.0688\n",
      "Val Precision (micro): 0.0688, Val Precision (macro): 0.0035\n",
      "Val Recall (micro): 0.0688, Val Recall (macro): 0.0081\n",
      "Val F1 (micro): 0.0688, Val F1 (macro): 0.0035\n",
      "--------------------------------------------------------------------------------\n"
     ]
    },
    {
     "name": "stderr",
     "output_type": "stream",
     "text": [
      "  5%|▌         | 5096/100000 [02:57<34:25, 45.96it/s]  "
     ]
    },
    {
     "name": "stdout",
     "output_type": "stream",
     "text": [
      "Epoch [5100/100000]\n",
      "Train Loss: 6.2180, Train Accuracy: 0.0639\n",
      "Train Precision (micro): 0.0639, Train Precision (macro): 0.0020\n",
      "Train Recall (micro): 0.0639, Train Recall (macro): 0.0045\n",
      "Train F1 (micro): 0.0639, Train F1 (macro): 0.0019\n",
      "\n",
      "Val Loss: 6.1955, Val Accuracy: 0.0691\n",
      "Val Precision (micro): 0.0691, Val Precision (macro): 0.0036\n",
      "Val Recall (micro): 0.0691, Val Recall (macro): 0.0082\n",
      "Val F1 (micro): 0.0691, Val F1 (macro): 0.0035\n",
      "--------------------------------------------------------------------------------\n"
     ]
    },
    {
     "name": "stderr",
     "output_type": "stream",
     "text": [
      "  5%|▌         | 5195/100000 [03:01<32:12, 49.07it/s]  "
     ]
    },
    {
     "name": "stdout",
     "output_type": "stream",
     "text": [
      "Epoch [5200/100000]\n",
      "Train Loss: 6.1824, Train Accuracy: 0.0737\n",
      "Train Precision (micro): 0.0737, Train Precision (macro): 0.0016\n",
      "Train Recall (micro): 0.0737, Train Recall (macro): 0.0049\n",
      "Train F1 (micro): 0.0737, Train F1 (macro): 0.0018\n",
      "\n",
      "Val Loss: 6.1955, Val Accuracy: 0.0691\n",
      "Val Precision (micro): 0.0691, Val Precision (macro): 0.0036\n",
      "Val Recall (micro): 0.0691, Val Recall (macro): 0.0082\n",
      "Val F1 (micro): 0.0691, Val F1 (macro): 0.0035\n",
      "--------------------------------------------------------------------------------\n"
     ]
    },
    {
     "name": "stderr",
     "output_type": "stream",
     "text": [
      "  5%|▌         | 5296/100000 [03:04<31:39, 49.86it/s]  "
     ]
    },
    {
     "name": "stdout",
     "output_type": "stream",
     "text": [
      "Epoch [5300/100000]\n",
      "Train Loss: 6.2576, Train Accuracy: 0.0688\n",
      "Train Precision (micro): 0.0688, Train Precision (macro): 0.0015\n",
      "Train Recall (micro): 0.0688, Train Recall (macro): 0.0050\n",
      "Train F1 (micro): 0.0688, Train F1 (macro): 0.0020\n",
      "\n",
      "Val Loss: 6.2414, Val Accuracy: 0.0666\n",
      "Val Precision (micro): 0.0666, Val Precision (macro): 0.0025\n",
      "Val Recall (micro): 0.0666, Val Recall (macro): 0.0076\n",
      "Val F1 (micro): 0.0666, Val F1 (macro): 0.0031\n",
      "--------------------------------------------------------------------------------\n"
     ]
    },
    {
     "name": "stderr",
     "output_type": "stream",
     "text": [
      "  5%|▌         | 5395/100000 [03:08<34:11, 46.11it/s]  "
     ]
    },
    {
     "name": "stdout",
     "output_type": "stream",
     "text": [
      "Epoch [5400/100000]\n",
      "Train Loss: 6.2360, Train Accuracy: 0.0642\n",
      "Train Precision (micro): 0.0642, Train Precision (macro): 0.0023\n",
      "Train Recall (micro): 0.0642, Train Recall (macro): 0.0056\n",
      "Train F1 (micro): 0.0642, Train F1 (macro): 0.0022\n",
      "\n",
      "Val Loss: 6.2524, Val Accuracy: 0.0675\n",
      "Val Precision (micro): 0.0675, Val Precision (macro): 0.0056\n",
      "Val Recall (micro): 0.0675, Val Recall (macro): 0.0090\n",
      "Val F1 (micro): 0.0675, Val F1 (macro): 0.0045\n",
      "--------------------------------------------------------------------------------\n"
     ]
    },
    {
     "name": "stderr",
     "output_type": "stream",
     "text": [
      "  5%|▌         | 5496/100000 [03:11<33:12, 47.43it/s]  "
     ]
    },
    {
     "name": "stdout",
     "output_type": "stream",
     "text": [
      "Epoch [5500/100000]\n",
      "Train Loss: 6.2008, Train Accuracy: 0.0691\n",
      "Train Precision (micro): 0.0691, Train Precision (macro): 0.0021\n",
      "Train Recall (micro): 0.0691, Train Recall (macro): 0.0057\n",
      "Train F1 (micro): 0.0691, Train F1 (macro): 0.0022\n",
      "\n",
      "Val Loss: 6.2328, Val Accuracy: 0.0622\n",
      "Val Precision (micro): 0.0622, Val Precision (macro): 0.0028\n",
      "Val Recall (micro): 0.0622, Val Recall (macro): 0.0080\n",
      "Val F1 (micro): 0.0622, Val F1 (macro): 0.0030\n",
      "--------------------------------------------------------------------------------\n"
     ]
    },
    {
     "name": "stderr",
     "output_type": "stream",
     "text": [
      "  6%|▌         | 5597/100000 [03:15<31:45, 49.53it/s]  "
     ]
    },
    {
     "name": "stdout",
     "output_type": "stream",
     "text": [
      "Epoch [5600/100000]\n",
      "Train Loss: 6.2296, Train Accuracy: 0.0670\n",
      "Train Precision (micro): 0.0670, Train Precision (macro): 0.0017\n",
      "Train Recall (micro): 0.0670, Train Recall (macro): 0.0053\n",
      "Train F1 (micro): 0.0670, Train F1 (macro): 0.0021\n",
      "\n",
      "Val Loss: 6.2179, Val Accuracy: 0.0672\n",
      "Val Precision (micro): 0.0672, Val Precision (macro): 0.0047\n",
      "Val Recall (micro): 0.0672, Val Recall (macro): 0.0091\n",
      "Val F1 (micro): 0.0672, Val F1 (macro): 0.0041\n",
      "--------------------------------------------------------------------------------\n"
     ]
    },
    {
     "name": "stderr",
     "output_type": "stream",
     "text": [
      "  6%|▌         | 5695/100000 [03:18<32:02, 49.06it/s]  "
     ]
    },
    {
     "name": "stdout",
     "output_type": "stream",
     "text": [
      "Epoch [5700/100000]\n",
      "Train Loss: 6.2321, Train Accuracy: 0.0664\n",
      "Train Precision (micro): 0.0664, Train Precision (macro): 0.0017\n",
      "Train Recall (micro): 0.0664, Train Recall (macro): 0.0048\n",
      "Train F1 (micro): 0.0664, Train F1 (macro): 0.0017\n",
      "\n",
      "Val Loss: 6.2054, Val Accuracy: 0.0672\n",
      "Val Precision (micro): 0.0672, Val Precision (macro): 0.0033\n",
      "Val Recall (micro): 0.0672, Val Recall (macro): 0.0074\n",
      "Val F1 (micro): 0.0672, Val F1 (macro): 0.0031\n",
      "--------------------------------------------------------------------------------\n"
     ]
    },
    {
     "name": "stderr",
     "output_type": "stream",
     "text": [
      "  6%|▌         | 5799/100000 [03:21<34:02, 46.11it/s]  "
     ]
    },
    {
     "name": "stdout",
     "output_type": "stream",
     "text": [
      "Epoch [5800/100000]\n",
      "Train Loss: 6.2102, Train Accuracy: 0.0680\n",
      "Train Precision (micro): 0.0680, Train Precision (macro): 0.0016\n",
      "Train Recall (micro): 0.0680, Train Recall (macro): 0.0052\n",
      "Train F1 (micro): 0.0680, Train F1 (macro): 0.0020\n",
      "\n",
      "Val Loss: 6.1949, Val Accuracy: 0.0663\n",
      "Val Precision (micro): 0.0663, Val Precision (macro): 0.0048\n",
      "Val Recall (micro): 0.0663, Val Recall (macro): 0.0088\n",
      "Val F1 (micro): 0.0663, Val F1 (macro): 0.0043\n",
      "--------------------------------------------------------------------------------\n"
     ]
    },
    {
     "name": "stderr",
     "output_type": "stream",
     "text": [
      "  6%|▌         | 5898/100000 [03:25<32:02, 48.95it/s]  "
     ]
    },
    {
     "name": "stdout",
     "output_type": "stream",
     "text": [
      "Epoch [5900/100000]\n",
      "Train Loss: 6.2884, Train Accuracy: 0.0620\n",
      "Train Precision (micro): 0.0620, Train Precision (macro): 0.0016\n",
      "Train Recall (micro): 0.0620, Train Recall (macro): 0.0047\n",
      "Train F1 (micro): 0.0620, Train F1 (macro): 0.0019\n",
      "\n",
      "Val Loss: 6.2116, Val Accuracy: 0.0656\n",
      "Val Precision (micro): 0.0656, Val Precision (macro): 0.0047\n",
      "Val Recall (micro): 0.0656, Val Recall (macro): 0.0090\n",
      "Val F1 (micro): 0.0656, Val F1 (macro): 0.0043\n",
      "--------------------------------------------------------------------------------\n"
     ]
    },
    {
     "name": "stderr",
     "output_type": "stream",
     "text": [
      "  6%|▌         | 5997/100000 [03:29<36:20, 43.11it/s]  "
     ]
    },
    {
     "name": "stdout",
     "output_type": "stream",
     "text": [
      "Epoch [6000/100000]\n",
      "Train Loss: 6.1345, Train Accuracy: 0.0684\n",
      "Train Precision (micro): 0.0684, Train Precision (macro): 0.0029\n",
      "Train Recall (micro): 0.0684, Train Recall (macro): 0.0051\n",
      "Train F1 (micro): 0.0684, Train F1 (macro): 0.0024\n",
      "\n",
      "Val Loss: 6.2109, Val Accuracy: 0.0647\n",
      "Val Precision (micro): 0.0647, Val Precision (macro): 0.0037\n",
      "Val Recall (micro): 0.0647, Val Recall (macro): 0.0095\n",
      "Val F1 (micro): 0.0647, Val F1 (macro): 0.0043\n",
      "--------------------------------------------------------------------------------\n"
     ]
    },
    {
     "name": "stderr",
     "output_type": "stream",
     "text": [
      "  6%|▌         | 6099/100000 [03:32<31:19, 49.96it/s]  "
     ]
    },
    {
     "name": "stdout",
     "output_type": "stream",
     "text": [
      "Epoch [6100/100000]\n",
      "Train Loss: 6.1930, Train Accuracy: 0.0750\n",
      "Train Precision (micro): 0.0750, Train Precision (macro): 0.0024\n",
      "Train Recall (micro): 0.0750, Train Recall (macro): 0.0062\n",
      "Train F1 (micro): 0.0750, Train F1 (macro): 0.0028\n",
      "\n",
      "Val Loss: 6.1876, Val Accuracy: 0.0681\n",
      "Val Precision (micro): 0.0681, Val Precision (macro): 0.0040\n",
      "Val Recall (micro): 0.0681, Val Recall (macro): 0.0101\n",
      "Val F1 (micro): 0.0681, Val F1 (macro): 0.0042\n",
      "--------------------------------------------------------------------------------\n"
     ]
    },
    {
     "name": "stderr",
     "output_type": "stream",
     "text": [
      "  6%|▌         | 6197/100000 [03:36<32:25, 48.22it/s]  "
     ]
    },
    {
     "name": "stdout",
     "output_type": "stream",
     "text": [
      "Epoch [6200/100000]\n",
      "Train Loss: 6.1438, Train Accuracy: 0.0711\n",
      "Train Precision (micro): 0.0711, Train Precision (macro): 0.0023\n",
      "Train Recall (micro): 0.0711, Train Recall (macro): 0.0060\n",
      "Train F1 (micro): 0.0711, Train F1 (macro): 0.0023\n",
      "\n",
      "Val Loss: 6.1629, Val Accuracy: 0.0625\n",
      "Val Precision (micro): 0.0625, Val Precision (macro): 0.0035\n",
      "Val Recall (micro): 0.0625, Val Recall (macro): 0.0085\n",
      "Val F1 (micro): 0.0625, Val F1 (macro): 0.0039\n",
      "--------------------------------------------------------------------------------\n"
     ]
    },
    {
     "name": "stderr",
     "output_type": "stream",
     "text": [
      "  6%|▋         | 6296/100000 [03:39<35:58, 43.41it/s]  "
     ]
    },
    {
     "name": "stdout",
     "output_type": "stream",
     "text": [
      "Epoch [6300/100000]\n",
      "Train Loss: 6.1400, Train Accuracy: 0.0731\n",
      "Train Precision (micro): 0.0731, Train Precision (macro): 0.0029\n",
      "Train Recall (micro): 0.0731, Train Recall (macro): 0.0068\n",
      "Train F1 (micro): 0.0731, Train F1 (macro): 0.0030\n",
      "\n",
      "Val Loss: 6.1438, Val Accuracy: 0.0703\n",
      "Val Precision (micro): 0.0703, Val Precision (macro): 0.0038\n",
      "Val Recall (micro): 0.0703, Val Recall (macro): 0.0089\n",
      "Val F1 (micro): 0.0703, Val F1 (macro): 0.0040\n",
      "--------------------------------------------------------------------------------\n"
     ]
    },
    {
     "name": "stderr",
     "output_type": "stream",
     "text": [
      "  6%|▋         | 6398/100000 [03:43<33:35, 46.45it/s]  "
     ]
    },
    {
     "name": "stdout",
     "output_type": "stream",
     "text": [
      "Epoch [6400/100000]\n",
      "Train Loss: 6.1579, Train Accuracy: 0.0747\n",
      "Train Precision (micro): 0.0747, Train Precision (macro): 0.0019\n",
      "Train Recall (micro): 0.0747, Train Recall (macro): 0.0058\n",
      "Train F1 (micro): 0.0747, Train F1 (macro): 0.0025\n",
      "\n",
      "Val Loss: 6.1651, Val Accuracy: 0.0644\n",
      "Val Precision (micro): 0.0644, Val Precision (macro): 0.0037\n",
      "Val Recall (micro): 0.0644, Val Recall (macro): 0.0082\n",
      "Val F1 (micro): 0.0644, Val F1 (macro): 0.0039\n",
      "--------------------------------------------------------------------------------\n"
     ]
    },
    {
     "name": "stderr",
     "output_type": "stream",
     "text": [
      "  6%|▋         | 6497/100000 [03:47<32:32, 47.90it/s]  "
     ]
    },
    {
     "name": "stdout",
     "output_type": "stream",
     "text": [
      "Epoch [6500/100000]\n",
      "Train Loss: 6.1292, Train Accuracy: 0.0711\n",
      "Train Precision (micro): 0.0711, Train Precision (macro): 0.0025\n",
      "Train Recall (micro): 0.0711, Train Recall (macro): 0.0062\n",
      "Train F1 (micro): 0.0711, Train F1 (macro): 0.0028\n",
      "\n",
      "Val Loss: 6.1444, Val Accuracy: 0.0675\n",
      "Val Precision (micro): 0.0675, Val Precision (macro): 0.0042\n",
      "Val Recall (micro): 0.0675, Val Recall (macro): 0.0088\n",
      "Val F1 (micro): 0.0675, Val F1 (macro): 0.0040\n",
      "--------------------------------------------------------------------------------\n"
     ]
    },
    {
     "name": "stderr",
     "output_type": "stream",
     "text": [
      "  7%|▋         | 6594/100000 [03:50<32:33, 47.82it/s]  "
     ]
    },
    {
     "name": "stdout",
     "output_type": "stream",
     "text": [
      "Epoch [6600/100000]\n",
      "Train Loss: 6.1258, Train Accuracy: 0.0716\n",
      "Train Precision (micro): 0.0716, Train Precision (macro): 0.0023\n",
      "Train Recall (micro): 0.0716, Train Recall (macro): 0.0061\n",
      "Train F1 (micro): 0.0716, Train F1 (macro): 0.0025\n",
      "\n",
      "Val Loss: 6.1335, Val Accuracy: 0.0681\n",
      "Val Precision (micro): 0.0681, Val Precision (macro): 0.0054\n",
      "Val Recall (micro): 0.0681, Val Recall (macro): 0.0095\n",
      "Val F1 (micro): 0.0681, Val F1 (macro): 0.0048\n",
      "--------------------------------------------------------------------------------\n"
     ]
    },
    {
     "name": "stderr",
     "output_type": "stream",
     "text": [
      "  7%|▋         | 6698/100000 [03:53<32:30, 47.84it/s]  "
     ]
    },
    {
     "name": "stdout",
     "output_type": "stream",
     "text": [
      "Epoch [6700/100000]\n",
      "Train Loss: 6.1291, Train Accuracy: 0.0708\n",
      "Train Precision (micro): 0.0708, Train Precision (macro): 0.0025\n",
      "Train Recall (micro): 0.0708, Train Recall (macro): 0.0063\n",
      "Train F1 (micro): 0.0708, Train F1 (macro): 0.0027\n",
      "\n",
      "Val Loss: 6.1169, Val Accuracy: 0.0700\n",
      "Val Precision (micro): 0.0700, Val Precision (macro): 0.0046\n",
      "Val Recall (micro): 0.0700, Val Recall (macro): 0.0094\n",
      "Val F1 (micro): 0.0700, Val F1 (macro): 0.0042\n",
      "--------------------------------------------------------------------------------\n"
     ]
    },
    {
     "name": "stderr",
     "output_type": "stream",
     "text": [
      "  7%|▋         | 6798/100000 [03:57<30:53, 50.27it/s]  "
     ]
    },
    {
     "name": "stdout",
     "output_type": "stream",
     "text": [
      "Epoch [6800/100000]\n",
      "Train Loss: 6.1257, Train Accuracy: 0.0714\n",
      "Train Precision (micro): 0.0714, Train Precision (macro): 0.0019\n",
      "Train Recall (micro): 0.0714, Train Recall (macro): 0.0057\n",
      "Train F1 (micro): 0.0714, Train F1 (macro): 0.0023\n",
      "\n",
      "Val Loss: 6.1172, Val Accuracy: 0.0703\n",
      "Val Precision (micro): 0.0703, Val Precision (macro): 0.0036\n",
      "Val Recall (micro): 0.0703, Val Recall (macro): 0.0094\n",
      "Val F1 (micro): 0.0703, Val F1 (macro): 0.0043\n",
      "--------------------------------------------------------------------------------\n"
     ]
    },
    {
     "name": "stderr",
     "output_type": "stream",
     "text": [
      "  7%|▋         | 6895/100000 [04:00<31:25, 49.39it/s]  "
     ]
    },
    {
     "name": "stdout",
     "output_type": "stream",
     "text": [
      "Epoch [6900/100000]\n",
      "Train Loss: 6.0999, Train Accuracy: 0.0769\n",
      "Train Precision (micro): 0.0769, Train Precision (macro): 0.0026\n",
      "Train Recall (micro): 0.0769, Train Recall (macro): 0.0065\n",
      "Train F1 (micro): 0.0769, Train F1 (macro): 0.0028\n",
      "\n",
      "Val Loss: 6.1279, Val Accuracy: 0.0678\n",
      "Val Precision (micro): 0.0678, Val Precision (macro): 0.0035\n",
      "Val Recall (micro): 0.0678, Val Recall (macro): 0.0098\n",
      "Val F1 (micro): 0.0678, Val F1 (macro): 0.0037\n",
      "--------------------------------------------------------------------------------\n"
     ]
    },
    {
     "name": "stderr",
     "output_type": "stream",
     "text": [
      "  7%|▋         | 6994/100000 [04:03<31:38, 49.00it/s]  "
     ]
    },
    {
     "name": "stdout",
     "output_type": "stream",
     "text": [
      "Epoch [7000/100000]\n",
      "Train Loss: 6.1179, Train Accuracy: 0.0705\n",
      "Train Precision (micro): 0.0705, Train Precision (macro): 0.0026\n",
      "Train Recall (micro): 0.0705, Train Recall (macro): 0.0067\n",
      "Train F1 (micro): 0.0705, Train F1 (macro): 0.0030\n",
      "\n",
      "Val Loss: 6.0990, Val Accuracy: 0.0706\n",
      "Val Precision (micro): 0.0706, Val Precision (macro): 0.0054\n",
      "Val Recall (micro): 0.0706, Val Recall (macro): 0.0105\n",
      "Val F1 (micro): 0.0706, Val F1 (macro): 0.0049\n",
      "--------------------------------------------------------------------------------\n"
     ]
    },
    {
     "name": "stderr",
     "output_type": "stream",
     "text": [
      "  7%|▋         | 7094/100000 [04:07<31:07, 49.74it/s]  "
     ]
    },
    {
     "name": "stdout",
     "output_type": "stream",
     "text": [
      "Epoch [7100/100000]\n",
      "Train Loss: 6.1037, Train Accuracy: 0.0744\n",
      "Train Precision (micro): 0.0744, Train Precision (macro): 0.0032\n",
      "Train Recall (micro): 0.0744, Train Recall (macro): 0.0063\n",
      "Train F1 (micro): 0.0744, Train F1 (macro): 0.0034\n",
      "\n",
      "Val Loss: 6.1009, Val Accuracy: 0.0675\n",
      "Val Precision (micro): 0.0675, Val Precision (macro): 0.0042\n",
      "Val Recall (micro): 0.0675, Val Recall (macro): 0.0094\n",
      "Val F1 (micro): 0.0675, Val F1 (macro): 0.0044\n",
      "--------------------------------------------------------------------------------\n"
     ]
    },
    {
     "name": "stderr",
     "output_type": "stream",
     "text": [
      "  7%|▋         | 7195/100000 [04:11<32:54, 47.01it/s]  "
     ]
    },
    {
     "name": "stdout",
     "output_type": "stream",
     "text": [
      "Epoch [7200/100000]\n",
      "Train Loss: 6.0993, Train Accuracy: 0.0741\n",
      "Train Precision (micro): 0.0741, Train Precision (macro): 0.0033\n",
      "Train Recall (micro): 0.0741, Train Recall (macro): 0.0067\n",
      "Train F1 (micro): 0.0741, Train F1 (macro): 0.0030\n",
      "\n",
      "Val Loss: 6.0906, Val Accuracy: 0.0709\n",
      "Val Precision (micro): 0.0709, Val Precision (macro): 0.0050\n",
      "Val Recall (micro): 0.0709, Val Recall (macro): 0.0095\n",
      "Val F1 (micro): 0.0709, Val F1 (macro): 0.0044\n",
      "--------------------------------------------------------------------------------\n"
     ]
    },
    {
     "name": "stderr",
     "output_type": "stream",
     "text": [
      "  7%|▋         | 7297/100000 [04:14<31:22, 49.23it/s]  "
     ]
    },
    {
     "name": "stdout",
     "output_type": "stream",
     "text": [
      "Epoch [7300/100000]\n",
      "Train Loss: 6.1289, Train Accuracy: 0.0700\n",
      "Train Precision (micro): 0.0700, Train Precision (macro): 0.0030\n",
      "Train Recall (micro): 0.0700, Train Recall (macro): 0.0067\n",
      "Train F1 (micro): 0.0700, Train F1 (macro): 0.0030\n",
      "\n",
      "Val Loss: 6.0805, Val Accuracy: 0.0756\n",
      "Val Precision (micro): 0.0756, Val Precision (macro): 0.0050\n",
      "Val Recall (micro): 0.0756, Val Recall (macro): 0.0110\n",
      "Val F1 (micro): 0.0756, Val F1 (macro): 0.0047\n",
      "--------------------------------------------------------------------------------\n"
     ]
    },
    {
     "name": "stderr",
     "output_type": "stream",
     "text": [
      "  7%|▋         | 7397/100000 [04:17<30:57, 49.85it/s]  "
     ]
    },
    {
     "name": "stdout",
     "output_type": "stream",
     "text": [
      "Epoch [7400/100000]\n",
      "Train Loss: 6.0811, Train Accuracy: 0.0709\n",
      "Train Precision (micro): 0.0709, Train Precision (macro): 0.0039\n",
      "Train Recall (micro): 0.0709, Train Recall (macro): 0.0074\n",
      "Train F1 (micro): 0.0709, Train F1 (macro): 0.0038\n",
      "\n",
      "Val Loss: 6.0826, Val Accuracy: 0.0731\n",
      "Val Precision (micro): 0.0731, Val Precision (macro): 0.0043\n",
      "Val Recall (micro): 0.0731, Val Recall (macro): 0.0106\n",
      "Val F1 (micro): 0.0731, Val F1 (macro): 0.0046\n",
      "--------------------------------------------------------------------------------\n"
     ]
    },
    {
     "name": "stderr",
     "output_type": "stream",
     "text": [
      "  7%|▋         | 7497/100000 [04:21<31:20, 49.20it/s]  "
     ]
    },
    {
     "name": "stdout",
     "output_type": "stream",
     "text": [
      "Epoch [7500/100000]\n",
      "Train Loss: 6.0483, Train Accuracy: 0.0766\n",
      "Train Precision (micro): 0.0766, Train Precision (macro): 0.0031\n",
      "Train Recall (micro): 0.0766, Train Recall (macro): 0.0068\n",
      "Train F1 (micro): 0.0766, Train F1 (macro): 0.0031\n",
      "\n",
      "Val Loss: 6.0876, Val Accuracy: 0.0703\n",
      "Val Precision (micro): 0.0703, Val Precision (macro): 0.0033\n",
      "Val Recall (micro): 0.0703, Val Recall (macro): 0.0099\n",
      "Val F1 (micro): 0.0703, Val F1 (macro): 0.0043\n",
      "--------------------------------------------------------------------------------\n"
     ]
    },
    {
     "name": "stderr",
     "output_type": "stream",
     "text": [
      "  8%|▊         | 7595/100000 [04:24<31:22, 49.07it/s]  "
     ]
    },
    {
     "name": "stdout",
     "output_type": "stream",
     "text": [
      "Epoch [7600/100000]\n",
      "Train Loss: 6.1072, Train Accuracy: 0.0709\n",
      "Train Precision (micro): 0.0709, Train Precision (macro): 0.0044\n",
      "Train Recall (micro): 0.0709, Train Recall (macro): 0.0076\n",
      "Train F1 (micro): 0.0709, Train F1 (macro): 0.0040\n",
      "\n",
      "Val Loss: 6.0980, Val Accuracy: 0.0731\n",
      "Val Precision (micro): 0.0731, Val Precision (macro): 0.0047\n",
      "Val Recall (micro): 0.0731, Val Recall (macro): 0.0104\n",
      "Val F1 (micro): 0.0731, Val F1 (macro): 0.0049\n",
      "--------------------------------------------------------------------------------\n"
     ]
    },
    {
     "name": "stderr",
     "output_type": "stream",
     "text": [
      "  8%|▊         | 7696/100000 [04:28<32:07, 47.88it/s]  "
     ]
    },
    {
     "name": "stdout",
     "output_type": "stream",
     "text": [
      "Epoch [7700/100000]\n",
      "Train Loss: 6.0994, Train Accuracy: 0.0703\n",
      "Train Precision (micro): 0.0703, Train Precision (macro): 0.0028\n",
      "Train Recall (micro): 0.0703, Train Recall (macro): 0.0059\n",
      "Train F1 (micro): 0.0703, Train F1 (macro): 0.0027\n",
      "\n",
      "Val Loss: 6.0752, Val Accuracy: 0.0744\n",
      "Val Precision (micro): 0.0744, Val Precision (macro): 0.0043\n",
      "Val Recall (micro): 0.0744, Val Recall (macro): 0.0113\n",
      "Val F1 (micro): 0.0744, Val F1 (macro): 0.0049\n",
      "--------------------------------------------------------------------------------\n"
     ]
    },
    {
     "name": "stderr",
     "output_type": "stream",
     "text": [
      "  8%|▊         | 7799/100000 [04:32<31:53, 48.18it/s]  "
     ]
    },
    {
     "name": "stdout",
     "output_type": "stream",
     "text": [
      "Epoch [7800/100000]\n",
      "Train Loss: 6.0438, Train Accuracy: 0.0780\n",
      "Train Precision (micro): 0.0780, Train Precision (macro): 0.0035\n",
      "Train Recall (micro): 0.0780, Train Recall (macro): 0.0071\n",
      "Train F1 (micro): 0.0780, Train F1 (macro): 0.0032\n",
      "\n",
      "Val Loss: 6.0710, Val Accuracy: 0.0753\n",
      "Val Precision (micro): 0.0753, Val Precision (macro): 0.0064\n",
      "Val Recall (micro): 0.0753, Val Recall (macro): 0.0118\n",
      "Val F1 (micro): 0.0753, Val F1 (macro): 0.0058\n",
      "--------------------------------------------------------------------------------\n"
     ]
    },
    {
     "name": "stderr",
     "output_type": "stream",
     "text": [
      "  8%|▊         | 7896/100000 [04:35<31:14, 49.13it/s]  "
     ]
    },
    {
     "name": "stdout",
     "output_type": "stream",
     "text": [
      "Epoch [7900/100000]\n",
      "Train Loss: 6.1160, Train Accuracy: 0.0761\n",
      "Train Precision (micro): 0.0761, Train Precision (macro): 0.0035\n",
      "Train Recall (micro): 0.0761, Train Recall (macro): 0.0072\n",
      "Train F1 (micro): 0.0761, Train F1 (macro): 0.0036\n",
      "\n",
      "Val Loss: 6.0636, Val Accuracy: 0.0719\n",
      "Val Precision (micro): 0.0719, Val Precision (macro): 0.0048\n",
      "Val Recall (micro): 0.0719, Val Recall (macro): 0.0115\n",
      "Val F1 (micro): 0.0719, Val F1 (macro): 0.0052\n",
      "--------------------------------------------------------------------------------\n"
     ]
    },
    {
     "name": "stderr",
     "output_type": "stream",
     "text": [
      "  8%|▊         | 7997/100000 [04:39<37:03, 41.37it/s]  "
     ]
    },
    {
     "name": "stdout",
     "output_type": "stream",
     "text": [
      "Epoch [8000/100000]\n",
      "Train Loss: 6.0491, Train Accuracy: 0.0730\n",
      "Train Precision (micro): 0.0730, Train Precision (macro): 0.0034\n",
      "Train Recall (micro): 0.0730, Train Recall (macro): 0.0076\n",
      "Train F1 (micro): 0.0730, Train F1 (macro): 0.0037\n",
      "\n",
      "Val Loss: 6.0503, Val Accuracy: 0.0762\n",
      "Val Precision (micro): 0.0762, Val Precision (macro): 0.0041\n",
      "Val Recall (micro): 0.0762, Val Recall (macro): 0.0114\n",
      "Val F1 (micro): 0.0762, Val F1 (macro): 0.0049\n",
      "--------------------------------------------------------------------------------\n"
     ]
    },
    {
     "name": "stderr",
     "output_type": "stream",
     "text": [
      "  8%|▊         | 8099/100000 [04:43<31:54, 47.99it/s]  "
     ]
    },
    {
     "name": "stdout",
     "output_type": "stream",
     "text": [
      "Epoch [8100/100000]\n",
      "Train Loss: 6.0805, Train Accuracy: 0.0705\n",
      "Train Precision (micro): 0.0705, Train Precision (macro): 0.0038\n",
      "Train Recall (micro): 0.0705, Train Recall (macro): 0.0075\n",
      "Train F1 (micro): 0.0705, Train F1 (macro): 0.0037\n",
      "\n",
      "Val Loss: 6.0511, Val Accuracy: 0.0728\n",
      "Val Precision (micro): 0.0728, Val Precision (macro): 0.0049\n",
      "Val Recall (micro): 0.0728, Val Recall (macro): 0.0112\n",
      "Val F1 (micro): 0.0728, Val F1 (macro): 0.0048\n",
      "--------------------------------------------------------------------------------\n"
     ]
    },
    {
     "name": "stderr",
     "output_type": "stream",
     "text": [
      "  8%|▊         | 8199/100000 [04:46<31:04, 49.25it/s]  "
     ]
    },
    {
     "name": "stdout",
     "output_type": "stream",
     "text": [
      "Epoch [8200/100000]\n",
      "Train Loss: 6.0799, Train Accuracy: 0.0733\n",
      "Train Precision (micro): 0.0733, Train Precision (macro): 0.0033\n",
      "Train Recall (micro): 0.0733, Train Recall (macro): 0.0081\n",
      "Train F1 (micro): 0.0733, Train F1 (macro): 0.0039\n",
      "\n",
      "Val Loss: 6.0440, Val Accuracy: 0.0778\n",
      "Val Precision (micro): 0.0778, Val Precision (macro): 0.0056\n",
      "Val Recall (micro): 0.0778, Val Recall (macro): 0.0122\n",
      "Val F1 (micro): 0.0778, Val F1 (macro): 0.0060\n",
      "--------------------------------------------------------------------------------\n"
     ]
    },
    {
     "name": "stderr",
     "output_type": "stream",
     "text": [
      "  8%|▊         | 8296/100000 [04:50<34:17, 44.57it/s]  "
     ]
    },
    {
     "name": "stdout",
     "output_type": "stream",
     "text": [
      "Epoch [8300/100000]\n",
      "Train Loss: 6.0892, Train Accuracy: 0.0700\n",
      "Train Precision (micro): 0.0700, Train Precision (macro): 0.0034\n",
      "Train Recall (micro): 0.0700, Train Recall (macro): 0.0070\n",
      "Train F1 (micro): 0.0700, Train F1 (macro): 0.0034\n",
      "\n",
      "Val Loss: 6.0395, Val Accuracy: 0.0741\n",
      "Val Precision (micro): 0.0741, Val Precision (macro): 0.0039\n",
      "Val Recall (micro): 0.0741, Val Recall (macro): 0.0110\n",
      "Val F1 (micro): 0.0741, Val F1 (macro): 0.0045\n",
      "--------------------------------------------------------------------------------\n"
     ]
    },
    {
     "name": "stderr",
     "output_type": "stream",
     "text": [
      "  8%|▊         | 8394/100000 [04:54<32:55, 46.37it/s]  "
     ]
    },
    {
     "name": "stdout",
     "output_type": "stream",
     "text": [
      "Epoch [8400/100000]\n",
      "Train Loss: 6.0259, Train Accuracy: 0.0747\n",
      "Train Precision (micro): 0.0747, Train Precision (macro): 0.0030\n",
      "Train Recall (micro): 0.0747, Train Recall (macro): 0.0071\n",
      "Train F1 (micro): 0.0747, Train F1 (macro): 0.0035\n",
      "\n",
      "Val Loss: 6.0378, Val Accuracy: 0.0753\n",
      "Val Precision (micro): 0.0753, Val Precision (macro): 0.0049\n",
      "Val Recall (micro): 0.0753, Val Recall (macro): 0.0113\n",
      "Val F1 (micro): 0.0753, Val F1 (macro): 0.0052\n",
      "--------------------------------------------------------------------------------\n"
     ]
    },
    {
     "name": "stderr",
     "output_type": "stream",
     "text": [
      "  8%|▊         | 8496/100000 [04:57<31:55, 47.76it/s]  "
     ]
    },
    {
     "name": "stdout",
     "output_type": "stream",
     "text": [
      "Epoch [8500/100000]\n",
      "Train Loss: 6.0237, Train Accuracy: 0.0739\n",
      "Train Precision (micro): 0.0739, Train Precision (macro): 0.0032\n",
      "Train Recall (micro): 0.0739, Train Recall (macro): 0.0067\n",
      "Train F1 (micro): 0.0739, Train F1 (macro): 0.0031\n",
      "\n",
      "Val Loss: 6.0374, Val Accuracy: 0.0759\n",
      "Val Precision (micro): 0.0759, Val Precision (macro): 0.0037\n",
      "Val Recall (micro): 0.0759, Val Recall (macro): 0.0114\n",
      "Val F1 (micro): 0.0759, Val F1 (macro): 0.0048\n",
      "--------------------------------------------------------------------------------\n"
     ]
    },
    {
     "name": "stderr",
     "output_type": "stream",
     "text": [
      "  9%|▊         | 8595/100000 [05:00<32:24, 47.01it/s]  "
     ]
    },
    {
     "name": "stdout",
     "output_type": "stream",
     "text": [
      "Epoch [8600/100000]\n",
      "Train Loss: 6.0353, Train Accuracy: 0.0827\n",
      "Train Precision (micro): 0.0827, Train Precision (macro): 0.0039\n",
      "Train Recall (micro): 0.0827, Train Recall (macro): 0.0075\n",
      "Train F1 (micro): 0.0827, Train F1 (macro): 0.0037\n",
      "\n",
      "Val Loss: 6.0293, Val Accuracy: 0.0756\n",
      "Val Precision (micro): 0.0756, Val Precision (macro): 0.0047\n",
      "Val Recall (micro): 0.0756, Val Recall (macro): 0.0115\n",
      "Val F1 (micro): 0.0756, Val F1 (macro): 0.0052\n",
      "--------------------------------------------------------------------------------\n"
     ]
    },
    {
     "name": "stderr",
     "output_type": "stream",
     "text": [
      "  9%|▊         | 8698/100000 [05:04<30:58, 49.12it/s]  "
     ]
    },
    {
     "name": "stdout",
     "output_type": "stream",
     "text": [
      "Epoch [8700/100000]\n",
      "Train Loss: 6.0356, Train Accuracy: 0.0783\n",
      "Train Precision (micro): 0.0783, Train Precision (macro): 0.0036\n",
      "Train Recall (micro): 0.0783, Train Recall (macro): 0.0076\n",
      "Train F1 (micro): 0.0783, Train F1 (macro): 0.0037\n",
      "\n",
      "Val Loss: 6.0291, Val Accuracy: 0.0781\n",
      "Val Precision (micro): 0.0781, Val Precision (macro): 0.0051\n",
      "Val Recall (micro): 0.0781, Val Recall (macro): 0.0115\n",
      "Val F1 (micro): 0.0781, Val F1 (macro): 0.0053\n",
      "--------------------------------------------------------------------------------\n"
     ]
    },
    {
     "name": "stderr",
     "output_type": "stream",
     "text": [
      "  9%|▉         | 8795/100000 [05:07<31:48, 47.78it/s]  "
     ]
    },
    {
     "name": "stdout",
     "output_type": "stream",
     "text": [
      "Epoch [8800/100000]\n",
      "Train Loss: 6.0470, Train Accuracy: 0.0761\n",
      "Train Precision (micro): 0.0761, Train Precision (macro): 0.0043\n",
      "Train Recall (micro): 0.0761, Train Recall (macro): 0.0078\n",
      "Train F1 (micro): 0.0761, Train F1 (macro): 0.0037\n",
      "\n",
      "Val Loss: 6.0278, Val Accuracy: 0.0775\n",
      "Val Precision (micro): 0.0775, Val Precision (macro): 0.0048\n",
      "Val Recall (micro): 0.0775, Val Recall (macro): 0.0115\n",
      "Val F1 (micro): 0.0775, Val F1 (macro): 0.0052\n",
      "--------------------------------------------------------------------------------\n"
     ]
    },
    {
     "name": "stderr",
     "output_type": "stream",
     "text": [
      "  9%|▉         | 8898/100000 [05:11<32:07, 47.27it/s]  "
     ]
    },
    {
     "name": "stdout",
     "output_type": "stream",
     "text": [
      "Epoch [8900/100000]\n",
      "Train Loss: 5.9865, Train Accuracy: 0.0780\n",
      "Train Precision (micro): 0.0780, Train Precision (macro): 0.0047\n",
      "Train Recall (micro): 0.0780, Train Recall (macro): 0.0089\n",
      "Train F1 (micro): 0.0780, Train F1 (macro): 0.0046\n",
      "\n",
      "Val Loss: 6.0271, Val Accuracy: 0.0784\n",
      "Val Precision (micro): 0.0784, Val Precision (macro): 0.0039\n",
      "Val Recall (micro): 0.0784, Val Recall (macro): 0.0117\n",
      "Val F1 (micro): 0.0784, Val F1 (macro): 0.0049\n",
      "--------------------------------------------------------------------------------\n"
     ]
    },
    {
     "name": "stderr",
     "output_type": "stream",
     "text": [
      "  9%|▉         | 8994/100000 [05:14<30:34, 49.61it/s]  "
     ]
    },
    {
     "name": "stdout",
     "output_type": "stream",
     "text": [
      "Epoch [9000/100000]\n",
      "Train Loss: 6.0476, Train Accuracy: 0.0756\n",
      "Train Precision (micro): 0.0756, Train Precision (macro): 0.0040\n",
      "Train Recall (micro): 0.0756, Train Recall (macro): 0.0071\n",
      "Train F1 (micro): 0.0756, Train F1 (macro): 0.0033\n",
      "\n",
      "Val Loss: 6.0273, Val Accuracy: 0.0775\n",
      "Val Precision (micro): 0.0775, Val Precision (macro): 0.0044\n",
      "Val Recall (micro): 0.0775, Val Recall (macro): 0.0117\n",
      "Val F1 (micro): 0.0775, Val F1 (macro): 0.0051\n",
      "--------------------------------------------------------------------------------\n"
     ]
    },
    {
     "name": "stderr",
     "output_type": "stream",
     "text": [
      "  9%|▉         | 9098/100000 [05:18<34:11, 44.30it/s]  "
     ]
    },
    {
     "name": "stdout",
     "output_type": "stream",
     "text": [
      "Epoch [9100/100000]\n",
      "Train Loss: 5.9993, Train Accuracy: 0.0794\n",
      "Train Precision (micro): 0.0794, Train Precision (macro): 0.0053\n",
      "Train Recall (micro): 0.0794, Train Recall (macro): 0.0094\n",
      "Train F1 (micro): 0.0794, Train F1 (macro): 0.0053\n",
      "\n",
      "Val Loss: 6.0250, Val Accuracy: 0.0744\n",
      "Val Precision (micro): 0.0744, Val Precision (macro): 0.0036\n",
      "Val Recall (micro): 0.0744, Val Recall (macro): 0.0108\n",
      "Val F1 (micro): 0.0744, Val F1 (macro): 0.0045\n",
      "--------------------------------------------------------------------------------\n"
     ]
    },
    {
     "name": "stderr",
     "output_type": "stream",
     "text": [
      "  9%|▉         | 9195/100000 [05:21<30:52, 49.02it/s]  "
     ]
    },
    {
     "name": "stdout",
     "output_type": "stream",
     "text": [
      "Epoch [9200/100000]\n",
      "Train Loss: 6.0931, Train Accuracy: 0.0691\n",
      "Train Precision (micro): 0.0691, Train Precision (macro): 0.0037\n",
      "Train Recall (micro): 0.0691, Train Recall (macro): 0.0057\n",
      "Train F1 (micro): 0.0691, Train F1 (macro): 0.0030\n",
      "\n",
      "Val Loss: 6.0226, Val Accuracy: 0.0766\n",
      "Val Precision (micro): 0.0766, Val Precision (macro): 0.0045\n",
      "Val Recall (micro): 0.0766, Val Recall (macro): 0.0115\n",
      "Val F1 (micro): 0.0766, Val F1 (macro): 0.0052\n",
      "--------------------------------------------------------------------------------\n"
     ]
    },
    {
     "name": "stderr",
     "output_type": "stream",
     "text": [
      "  9%|▉         | 9295/100000 [05:24<32:31, 46.47it/s]  "
     ]
    },
    {
     "name": "stdout",
     "output_type": "stream",
     "text": [
      "Epoch [9300/100000]\n",
      "Train Loss: 5.9735, Train Accuracy: 0.0777\n",
      "Train Precision (micro): 0.0777, Train Precision (macro): 0.0049\n",
      "Train Recall (micro): 0.0777, Train Recall (macro): 0.0076\n",
      "Train F1 (micro): 0.0777, Train F1 (macro): 0.0041\n",
      "\n",
      "Val Loss: 6.0192, Val Accuracy: 0.0778\n",
      "Val Precision (micro): 0.0778, Val Precision (macro): 0.0044\n",
      "Val Recall (micro): 0.0778, Val Recall (macro): 0.0115\n",
      "Val F1 (micro): 0.0778, Val F1 (macro): 0.0051\n",
      "--------------------------------------------------------------------------------\n"
     ]
    },
    {
     "name": "stderr",
     "output_type": "stream",
     "text": [
      "  9%|▉         | 9395/100000 [05:28<30:46, 49.07it/s]  "
     ]
    },
    {
     "name": "stdout",
     "output_type": "stream",
     "text": [
      "Epoch [9400/100000]\n",
      "Train Loss: 6.0152, Train Accuracy: 0.0767\n",
      "Train Precision (micro): 0.0767, Train Precision (macro): 0.0042\n",
      "Train Recall (micro): 0.0767, Train Recall (macro): 0.0076\n",
      "Train F1 (micro): 0.0767, Train F1 (macro): 0.0037\n",
      "\n",
      "Val Loss: 6.0171, Val Accuracy: 0.0778\n",
      "Val Precision (micro): 0.0778, Val Precision (macro): 0.0045\n",
      "Val Recall (micro): 0.0778, Val Recall (macro): 0.0117\n",
      "Val F1 (micro): 0.0778, Val F1 (macro): 0.0052\n",
      "--------------------------------------------------------------------------------\n"
     ]
    },
    {
     "name": "stderr",
     "output_type": "stream",
     "text": [
      "  9%|▉         | 9499/100000 [05:31<32:24, 46.54it/s]  "
     ]
    },
    {
     "name": "stdout",
     "output_type": "stream",
     "text": [
      "Epoch [9500/100000]\n",
      "Train Loss: 5.9771, Train Accuracy: 0.0797\n",
      "Train Precision (micro): 0.0797, Train Precision (macro): 0.0055\n",
      "Train Recall (micro): 0.0797, Train Recall (macro): 0.0088\n",
      "Train F1 (micro): 0.0797, Train F1 (macro): 0.0052\n",
      "\n",
      "Val Loss: 6.0170, Val Accuracy: 0.0750\n",
      "Val Precision (micro): 0.0750, Val Precision (macro): 0.0044\n",
      "Val Recall (micro): 0.0750, Val Recall (macro): 0.0113\n",
      "Val F1 (micro): 0.0750, Val F1 (macro): 0.0051\n",
      "--------------------------------------------------------------------------------\n"
     ]
    },
    {
     "name": "stderr",
     "output_type": "stream",
     "text": [
      " 10%|▉         | 9594/100000 [05:35<33:56, 44.40it/s]  "
     ]
    },
    {
     "name": "stdout",
     "output_type": "stream",
     "text": [
      "Epoch [9600/100000]\n",
      "Train Loss: 5.9942, Train Accuracy: 0.0755\n",
      "Train Precision (micro): 0.0755, Train Precision (macro): 0.0046\n",
      "Train Recall (micro): 0.0755, Train Recall (macro): 0.0084\n",
      "Train F1 (micro): 0.0755, Train F1 (macro): 0.0045\n",
      "\n",
      "Val Loss: 6.0161, Val Accuracy: 0.0769\n",
      "Val Precision (micro): 0.0769, Val Precision (macro): 0.0045\n",
      "Val Recall (micro): 0.0769, Val Recall (macro): 0.0115\n",
      "Val F1 (micro): 0.0769, Val F1 (macro): 0.0052\n",
      "--------------------------------------------------------------------------------\n"
     ]
    },
    {
     "name": "stderr",
     "output_type": "stream",
     "text": [
      " 10%|▉         | 9697/100000 [05:38<30:26, 49.43it/s]  "
     ]
    },
    {
     "name": "stdout",
     "output_type": "stream",
     "text": [
      "Epoch [9700/100000]\n",
      "Train Loss: 6.0158, Train Accuracy: 0.0773\n",
      "Train Precision (micro): 0.0773, Train Precision (macro): 0.0036\n",
      "Train Recall (micro): 0.0773, Train Recall (macro): 0.0070\n",
      "Train F1 (micro): 0.0773, Train F1 (macro): 0.0035\n",
      "\n",
      "Val Loss: 6.0148, Val Accuracy: 0.0762\n",
      "Val Precision (micro): 0.0762, Val Precision (macro): 0.0045\n",
      "Val Recall (micro): 0.0762, Val Recall (macro): 0.0115\n",
      "Val F1 (micro): 0.0762, Val F1 (macro): 0.0051\n",
      "--------------------------------------------------------------------------------\n"
     ]
    },
    {
     "name": "stderr",
     "output_type": "stream",
     "text": [
      " 10%|▉         | 9799/100000 [05:42<31:13, 48.16it/s]  "
     ]
    },
    {
     "name": "stdout",
     "output_type": "stream",
     "text": [
      "Epoch [9800/100000]\n",
      "Train Loss: 5.9986, Train Accuracy: 0.0764\n",
      "Train Precision (micro): 0.0764, Train Precision (macro): 0.0040\n",
      "Train Recall (micro): 0.0764, Train Recall (macro): 0.0081\n",
      "Train F1 (micro): 0.0764, Train F1 (macro): 0.0038\n",
      "\n",
      "Val Loss: 6.0160, Val Accuracy: 0.0762\n",
      "Val Precision (micro): 0.0762, Val Precision (macro): 0.0046\n",
      "Val Recall (micro): 0.0762, Val Recall (macro): 0.0115\n",
      "Val F1 (micro): 0.0762, Val F1 (macro): 0.0052\n",
      "--------------------------------------------------------------------------------\n"
     ]
    },
    {
     "name": "stderr",
     "output_type": "stream",
     "text": [
      " 10%|▉         | 9899/100000 [05:45<33:26, 44.91it/s]  "
     ]
    },
    {
     "name": "stdout",
     "output_type": "stream",
     "text": [
      "Epoch [9900/100000]\n",
      "Train Loss: 6.1012, Train Accuracy: 0.0755\n",
      "Train Precision (micro): 0.0755, Train Precision (macro): 0.0047\n",
      "Train Recall (micro): 0.0755, Train Recall (macro): 0.0083\n",
      "Train F1 (micro): 0.0755, Train F1 (macro): 0.0039\n",
      "\n",
      "Val Loss: 6.0163, Val Accuracy: 0.0753\n",
      "Val Precision (micro): 0.0753, Val Precision (macro): 0.0044\n",
      "Val Recall (micro): 0.0753, Val Recall (macro): 0.0114\n",
      "Val F1 (micro): 0.0753, Val F1 (macro): 0.0050\n",
      "--------------------------------------------------------------------------------\n"
     ]
    },
    {
     "name": "stderr",
     "output_type": "stream",
     "text": [
      " 10%|▉         | 9997/100000 [05:49<30:21, 49.42it/s]  "
     ]
    },
    {
     "name": "stdout",
     "output_type": "stream",
     "text": [
      "Epoch [10000/100000]\n",
      "Train Loss: 5.9513, Train Accuracy: 0.0762\n",
      "Train Precision (micro): 0.0762, Train Precision (macro): 0.0045\n",
      "Train Recall (micro): 0.0762, Train Recall (macro): 0.0070\n",
      "Train F1 (micro): 0.0762, Train F1 (macro): 0.0038\n",
      "\n",
      "Val Loss: 6.0148, Val Accuracy: 0.0759\n",
      "Val Precision (micro): 0.0759, Val Precision (macro): 0.0045\n",
      "Val Recall (micro): 0.0759, Val Recall (macro): 0.0115\n",
      "Val F1 (micro): 0.0759, Val F1 (macro): 0.0051\n",
      "--------------------------------------------------------------------------------\n"
     ]
    },
    {
     "name": "stderr",
     "output_type": "stream",
     "text": [
      " 10%|█         | 10097/100000 [05:52<30:20, 49.40it/s]  "
     ]
    },
    {
     "name": "stdout",
     "output_type": "stream",
     "text": [
      "Epoch [10100/100000]\n",
      "Train Loss: 6.0129, Train Accuracy: 0.0781\n",
      "Train Precision (micro): 0.0781, Train Precision (macro): 0.0030\n",
      "Train Recall (micro): 0.0781, Train Recall (macro): 0.0078\n",
      "Train F1 (micro): 0.0781, Train F1 (macro): 0.0035\n",
      "\n",
      "Val Loss: 6.0144, Val Accuracy: 0.0759\n",
      "Val Precision (micro): 0.0759, Val Precision (macro): 0.0046\n",
      "Val Recall (micro): 0.0759, Val Recall (macro): 0.0115\n",
      "Val F1 (micro): 0.0759, Val F1 (macro): 0.0052\n",
      "--------------------------------------------------------------------------------\n"
     ]
    },
    {
     "name": "stderr",
     "output_type": "stream",
     "text": [
      " 10%|█         | 10197/100000 [05:55<29:54, 50.05it/s]  "
     ]
    },
    {
     "name": "stdout",
     "output_type": "stream",
     "text": [
      "Epoch [10200/100000]\n",
      "Train Loss: 5.9770, Train Accuracy: 0.0731\n",
      "Train Precision (micro): 0.0731, Train Precision (macro): 0.0032\n",
      "Train Recall (micro): 0.0731, Train Recall (macro): 0.0066\n",
      "Train F1 (micro): 0.0731, Train F1 (macro): 0.0030\n",
      "\n",
      "Val Loss: 6.0143, Val Accuracy: 0.0766\n",
      "Val Precision (micro): 0.0766, Val Precision (macro): 0.0045\n",
      "Val Recall (micro): 0.0766, Val Recall (macro): 0.0115\n",
      "Val F1 (micro): 0.0766, Val F1 (macro): 0.0052\n",
      "--------------------------------------------------------------------------------\n"
     ]
    },
    {
     "name": "stderr",
     "output_type": "stream",
     "text": [
      " 10%|█         | 10299/100000 [06:01<2:00:16, 12.43it/s]"
     ]
    },
    {
     "name": "stdout",
     "output_type": "stream",
     "text": [
      "Epoch [10300/100000]\n",
      "Train Loss: 6.0416, Train Accuracy: 0.0725\n",
      "Train Precision (micro): 0.0725, Train Precision (macro): 0.0041\n",
      "Train Recall (micro): 0.0725, Train Recall (macro): 0.0077\n",
      "Train F1 (micro): 0.0725, Train F1 (macro): 0.0037\n",
      "\n",
      "Val Loss: 6.0143, Val Accuracy: 0.0772\n",
      "Val Precision (micro): 0.0772, Val Precision (macro): 0.0046\n",
      "Val Recall (micro): 0.0772, Val Recall (macro): 0.0116\n",
      "Val F1 (micro): 0.0772, Val F1 (macro): 0.0053\n",
      "--------------------------------------------------------------------------------\n"
     ]
    },
    {
     "name": "stderr",
     "output_type": "stream",
     "text": [
      " 10%|█         | 10399/100000 [06:04<31:45, 47.02it/s]  "
     ]
    },
    {
     "name": "stdout",
     "output_type": "stream",
     "text": [
      "Epoch [10400/100000]\n",
      "Train Loss: 6.0608, Train Accuracy: 0.0712\n",
      "Train Precision (micro): 0.0712, Train Precision (macro): 0.0034\n",
      "Train Recall (micro): 0.0712, Train Recall (macro): 0.0077\n",
      "Train F1 (micro): 0.0712, Train F1 (macro): 0.0036\n",
      "\n",
      "Val Loss: 6.0448, Val Accuracy: 0.0722\n",
      "Val Precision (micro): 0.0722, Val Precision (macro): 0.0050\n",
      "Val Recall (micro): 0.0722, Val Recall (macro): 0.0116\n",
      "Val F1 (micro): 0.0722, Val F1 (macro): 0.0055\n",
      "--------------------------------------------------------------------------------\n"
     ]
    },
    {
     "name": "stderr",
     "output_type": "stream",
     "text": [
      " 10%|█         | 10495/100000 [06:08<30:17, 49.26it/s]  "
     ]
    },
    {
     "name": "stdout",
     "output_type": "stream",
     "text": [
      "Epoch [10500/100000]\n",
      "Train Loss: 6.0813, Train Accuracy: 0.0736\n",
      "Train Precision (micro): 0.0736, Train Precision (macro): 0.0036\n",
      "Train Recall (micro): 0.0736, Train Recall (macro): 0.0069\n",
      "Train F1 (micro): 0.0736, Train F1 (macro): 0.0030\n",
      "\n",
      "Val Loss: 6.0542, Val Accuracy: 0.0697\n",
      "Val Precision (micro): 0.0697, Val Precision (macro): 0.0045\n",
      "Val Recall (micro): 0.0697, Val Recall (macro): 0.0112\n",
      "Val F1 (micro): 0.0697, Val F1 (macro): 0.0049\n",
      "--------------------------------------------------------------------------------\n"
     ]
    },
    {
     "name": "stderr",
     "output_type": "stream",
     "text": [
      " 11%|█         | 10597/100000 [06:11<31:07, 47.86it/s]  "
     ]
    },
    {
     "name": "stdout",
     "output_type": "stream",
     "text": [
      "Epoch [10600/100000]\n",
      "Train Loss: 6.0888, Train Accuracy: 0.0702\n",
      "Train Precision (micro): 0.0702, Train Precision (macro): 0.0025\n",
      "Train Recall (micro): 0.0702, Train Recall (macro): 0.0065\n",
      "Train F1 (micro): 0.0702, Train F1 (macro): 0.0028\n",
      "\n",
      "Val Loss: 6.0642, Val Accuracy: 0.0716\n",
      "Val Precision (micro): 0.0716, Val Precision (macro): 0.0048\n",
      "Val Recall (micro): 0.0716, Val Recall (macro): 0.0110\n",
      "Val F1 (micro): 0.0716, Val F1 (macro): 0.0054\n",
      "--------------------------------------------------------------------------------\n"
     ]
    },
    {
     "name": "stderr",
     "output_type": "stream",
     "text": [
      " 11%|█         | 10699/100000 [06:15<31:31, 47.21it/s]  "
     ]
    },
    {
     "name": "stdout",
     "output_type": "stream",
     "text": [
      "Epoch [10700/100000]\n",
      "Train Loss: 6.0533, Train Accuracy: 0.0741\n",
      "Train Precision (micro): 0.0741, Train Precision (macro): 0.0031\n",
      "Train Recall (micro): 0.0741, Train Recall (macro): 0.0060\n",
      "Train F1 (micro): 0.0741, Train F1 (macro): 0.0030\n",
      "\n",
      "Val Loss: 6.0690, Val Accuracy: 0.0750\n",
      "Val Precision (micro): 0.0750, Val Precision (macro): 0.0042\n",
      "Val Recall (micro): 0.0750, Val Recall (macro): 0.0112\n",
      "Val F1 (micro): 0.0750, Val F1 (macro): 0.0047\n",
      "--------------------------------------------------------------------------------\n"
     ]
    },
    {
     "name": "stderr",
     "output_type": "stream",
     "text": [
      " 11%|█         | 10798/100000 [06:18<31:20, 47.43it/s]  "
     ]
    },
    {
     "name": "stdout",
     "output_type": "stream",
     "text": [
      "Epoch [10800/100000]\n",
      "Train Loss: 6.1039, Train Accuracy: 0.0680\n",
      "Train Precision (micro): 0.0680, Train Precision (macro): 0.0035\n",
      "Train Recall (micro): 0.0680, Train Recall (macro): 0.0070\n",
      "Train F1 (micro): 0.0680, Train F1 (macro): 0.0034\n",
      "\n",
      "Val Loss: 6.0494, Val Accuracy: 0.0734\n",
      "Val Precision (micro): 0.0734, Val Precision (macro): 0.0051\n",
      "Val Recall (micro): 0.0734, Val Recall (macro): 0.0113\n",
      "Val F1 (micro): 0.0734, Val F1 (macro): 0.0054\n",
      "--------------------------------------------------------------------------------\n"
     ]
    },
    {
     "name": "stderr",
     "output_type": "stream",
     "text": [
      " 11%|█         | 10897/100000 [06:22<31:50, 46.64it/s]  "
     ]
    },
    {
     "name": "stdout",
     "output_type": "stream",
     "text": [
      "Epoch [10900/100000]\n",
      "Train Loss: 6.1060, Train Accuracy: 0.0663\n",
      "Train Precision (micro): 0.0663, Train Precision (macro): 0.0020\n",
      "Train Recall (micro): 0.0663, Train Recall (macro): 0.0063\n",
      "Train F1 (micro): 0.0663, Train F1 (macro): 0.0025\n",
      "\n",
      "Val Loss: 6.0498, Val Accuracy: 0.0706\n",
      "Val Precision (micro): 0.0706, Val Precision (macro): 0.0048\n",
      "Val Recall (micro): 0.0706, Val Recall (macro): 0.0114\n",
      "Val F1 (micro): 0.0706, Val F1 (macro): 0.0054\n",
      "--------------------------------------------------------------------------------\n"
     ]
    },
    {
     "name": "stderr",
     "output_type": "stream",
     "text": [
      " 11%|█         | 10997/100000 [06:25<31:54, 46.48it/s]  "
     ]
    },
    {
     "name": "stdout",
     "output_type": "stream",
     "text": [
      "Epoch [11000/100000]\n",
      "Train Loss: 6.0616, Train Accuracy: 0.0714\n",
      "Train Precision (micro): 0.0714, Train Precision (macro): 0.0047\n",
      "Train Recall (micro): 0.0714, Train Recall (macro): 0.0077\n",
      "Train F1 (micro): 0.0714, Train F1 (macro): 0.0044\n",
      "\n",
      "Val Loss: 6.0383, Val Accuracy: 0.0756\n",
      "Val Precision (micro): 0.0756, Val Precision (macro): 0.0049\n",
      "Val Recall (micro): 0.0756, Val Recall (macro): 0.0121\n",
      "Val F1 (micro): 0.0756, Val F1 (macro): 0.0057\n",
      "--------------------------------------------------------------------------------\n"
     ]
    },
    {
     "name": "stderr",
     "output_type": "stream",
     "text": [
      " 11%|█         | 11095/100000 [06:29<32:53, 45.06it/s]  "
     ]
    },
    {
     "name": "stdout",
     "output_type": "stream",
     "text": [
      "Epoch [11100/100000]\n",
      "Train Loss: 6.0604, Train Accuracy: 0.0777\n",
      "Train Precision (micro): 0.0777, Train Precision (macro): 0.0043\n",
      "Train Recall (micro): 0.0777, Train Recall (macro): 0.0078\n",
      "Train F1 (micro): 0.0777, Train F1 (macro): 0.0043\n",
      "\n",
      "Val Loss: 6.0600, Val Accuracy: 0.0772\n",
      "Val Precision (micro): 0.0772, Val Precision (macro): 0.0050\n",
      "Val Recall (micro): 0.0772, Val Recall (macro): 0.0112\n",
      "Val F1 (micro): 0.0772, Val F1 (macro): 0.0058\n",
      "--------------------------------------------------------------------------------\n"
     ]
    },
    {
     "name": "stderr",
     "output_type": "stream",
     "text": [
      " 11%|█         | 11198/100000 [06:32<30:00, 49.32it/s]  "
     ]
    },
    {
     "name": "stdout",
     "output_type": "stream",
     "text": [
      "Epoch [11200/100000]\n",
      "Train Loss: 6.0538, Train Accuracy: 0.0731\n",
      "Train Precision (micro): 0.0731, Train Precision (macro): 0.0027\n",
      "Train Recall (micro): 0.0731, Train Recall (macro): 0.0070\n",
      "Train F1 (micro): 0.0731, Train F1 (macro): 0.0032\n",
      "\n",
      "Val Loss: 6.0323, Val Accuracy: 0.0734\n",
      "Val Precision (micro): 0.0734, Val Precision (macro): 0.0042\n",
      "Val Recall (micro): 0.0734, Val Recall (macro): 0.0116\n",
      "Val F1 (micro): 0.0734, Val F1 (macro): 0.0055\n",
      "--------------------------------------------------------------------------------\n"
     ]
    },
    {
     "name": "stderr",
     "output_type": "stream",
     "text": [
      " 11%|█▏        | 11294/100000 [06:36<32:31, 45.46it/s]  "
     ]
    },
    {
     "name": "stdout",
     "output_type": "stream",
     "text": [
      "Epoch [11300/100000]\n",
      "Train Loss: 6.0696, Train Accuracy: 0.0761\n",
      "Train Precision (micro): 0.0761, Train Precision (macro): 0.0047\n",
      "Train Recall (micro): 0.0761, Train Recall (macro): 0.0083\n",
      "Train F1 (micro): 0.0761, Train F1 (macro): 0.0042\n",
      "\n",
      "Val Loss: 6.0214, Val Accuracy: 0.0791\n",
      "Val Precision (micro): 0.0791, Val Precision (macro): 0.0057\n",
      "Val Recall (micro): 0.0791, Val Recall (macro): 0.0138\n",
      "Val F1 (micro): 0.0791, Val F1 (macro): 0.0063\n",
      "--------------------------------------------------------------------------------\n"
     ]
    },
    {
     "name": "stderr",
     "output_type": "stream",
     "text": [
      " 11%|█▏        | 11395/100000 [06:39<31:55, 46.25it/s]  "
     ]
    },
    {
     "name": "stdout",
     "output_type": "stream",
     "text": [
      "Epoch [11400/100000]\n",
      "Train Loss: 6.0558, Train Accuracy: 0.0736\n",
      "Train Precision (micro): 0.0736, Train Precision (macro): 0.0037\n",
      "Train Recall (micro): 0.0736, Train Recall (macro): 0.0077\n",
      "Train F1 (micro): 0.0736, Train F1 (macro): 0.0038\n",
      "\n",
      "Val Loss: 6.0303, Val Accuracy: 0.0756\n",
      "Val Precision (micro): 0.0756, Val Precision (macro): 0.0055\n",
      "Val Recall (micro): 0.0756, Val Recall (macro): 0.0128\n",
      "Val F1 (micro): 0.0756, Val F1 (macro): 0.0061\n",
      "--------------------------------------------------------------------------------\n"
     ]
    },
    {
     "name": "stderr",
     "output_type": "stream",
     "text": [
      " 11%|█▏        | 11498/100000 [06:42<30:23, 48.54it/s]  "
     ]
    },
    {
     "name": "stdout",
     "output_type": "stream",
     "text": [
      "Epoch [11500/100000]\n",
      "Train Loss: 6.0482, Train Accuracy: 0.0769\n",
      "Train Precision (micro): 0.0769, Train Precision (macro): 0.0031\n",
      "Train Recall (micro): 0.0769, Train Recall (macro): 0.0075\n",
      "Train F1 (micro): 0.0769, Train F1 (macro): 0.0037\n",
      "\n",
      "Val Loss: 6.0217, Val Accuracy: 0.0731\n",
      "Val Precision (micro): 0.0731, Val Precision (macro): 0.0044\n",
      "Val Recall (micro): 0.0731, Val Recall (macro): 0.0117\n",
      "Val F1 (micro): 0.0731, Val F1 (macro): 0.0053\n",
      "--------------------------------------------------------------------------------\n"
     ]
    },
    {
     "name": "stderr",
     "output_type": "stream",
     "text": [
      " 12%|█▏        | 11598/100000 [06:46<31:56, 46.12it/s]  "
     ]
    },
    {
     "name": "stdout",
     "output_type": "stream",
     "text": [
      "Epoch [11600/100000]\n",
      "Train Loss: 6.0026, Train Accuracy: 0.0820\n",
      "Train Precision (micro): 0.0820, Train Precision (macro): 0.0035\n",
      "Train Recall (micro): 0.0820, Train Recall (macro): 0.0080\n",
      "Train F1 (micro): 0.0820, Train F1 (macro): 0.0041\n",
      "\n",
      "Val Loss: 6.0283, Val Accuracy: 0.0759\n",
      "Val Precision (micro): 0.0759, Val Precision (macro): 0.0033\n",
      "Val Recall (micro): 0.0759, Val Recall (macro): 0.0124\n",
      "Val F1 (micro): 0.0759, Val F1 (macro): 0.0046\n",
      "--------------------------------------------------------------------------------\n"
     ]
    },
    {
     "name": "stderr",
     "output_type": "stream",
     "text": [
      " 12%|█▏        | 11699/100000 [06:49<30:55, 47.59it/s]  "
     ]
    },
    {
     "name": "stdout",
     "output_type": "stream",
     "text": [
      "Epoch [11700/100000]\n",
      "Train Loss: 6.0564, Train Accuracy: 0.0739\n",
      "Train Precision (micro): 0.0739, Train Precision (macro): 0.0036\n",
      "Train Recall (micro): 0.0739, Train Recall (macro): 0.0078\n",
      "Train F1 (micro): 0.0739, Train F1 (macro): 0.0039\n",
      "\n",
      "Val Loss: 6.0385, Val Accuracy: 0.0703\n",
      "Val Precision (micro): 0.0703, Val Precision (macro): 0.0052\n",
      "Val Recall (micro): 0.0703, Val Recall (macro): 0.0114\n",
      "Val F1 (micro): 0.0703, Val F1 (macro): 0.0054\n",
      "--------------------------------------------------------------------------------\n"
     ]
    },
    {
     "name": "stderr",
     "output_type": "stream",
     "text": [
      " 12%|█▏        | 11799/100000 [06:53<32:24, 45.36it/s]  "
     ]
    },
    {
     "name": "stdout",
     "output_type": "stream",
     "text": [
      "Epoch [11800/100000]\n",
      "Train Loss: 6.0803, Train Accuracy: 0.0769\n",
      "Train Precision (micro): 0.0769, Train Precision (macro): 0.0035\n",
      "Train Recall (micro): 0.0769, Train Recall (macro): 0.0085\n",
      "Train F1 (micro): 0.0769, Train F1 (macro): 0.0043\n",
      "\n",
      "Val Loss: 6.0338, Val Accuracy: 0.0753\n",
      "Val Precision (micro): 0.0753, Val Precision (macro): 0.0050\n",
      "Val Recall (micro): 0.0753, Val Recall (macro): 0.0128\n",
      "Val F1 (micro): 0.0753, Val F1 (macro): 0.0058\n",
      "--------------------------------------------------------------------------------\n"
     ]
    },
    {
     "name": "stderr",
     "output_type": "stream",
     "text": [
      " 12%|█▏        | 11895/100000 [06:57<31:05, 47.23it/s]  "
     ]
    },
    {
     "name": "stdout",
     "output_type": "stream",
     "text": [
      "Epoch [11900/100000]\n",
      "Train Loss: 6.0652, Train Accuracy: 0.0730\n",
      "Train Precision (micro): 0.0730, Train Precision (macro): 0.0044\n",
      "Train Recall (micro): 0.0730, Train Recall (macro): 0.0081\n",
      "Train F1 (micro): 0.0730, Train F1 (macro): 0.0044\n",
      "\n",
      "Val Loss: 6.0183, Val Accuracy: 0.0744\n",
      "Val Precision (micro): 0.0744, Val Precision (macro): 0.0047\n",
      "Val Recall (micro): 0.0744, Val Recall (macro): 0.0115\n",
      "Val F1 (micro): 0.0744, Val F1 (macro): 0.0054\n",
      "--------------------------------------------------------------------------------\n"
     ]
    },
    {
     "name": "stderr",
     "output_type": "stream",
     "text": [
      " 12%|█▏        | 11998/100000 [07:00<29:50, 49.16it/s]  "
     ]
    },
    {
     "name": "stdout",
     "output_type": "stream",
     "text": [
      "Epoch [12000/100000]\n",
      "Train Loss: 5.9927, Train Accuracy: 0.0773\n",
      "Train Precision (micro): 0.0773, Train Precision (macro): 0.0047\n",
      "Train Recall (micro): 0.0773, Train Recall (macro): 0.0087\n",
      "Train F1 (micro): 0.0773, Train F1 (macro): 0.0049\n",
      "\n",
      "Val Loss: 6.0158, Val Accuracy: 0.0753\n",
      "Val Precision (micro): 0.0753, Val Precision (macro): 0.0057\n",
      "Val Recall (micro): 0.0753, Val Recall (macro): 0.0131\n",
      "Val F1 (micro): 0.0753, Val F1 (macro): 0.0066\n",
      "--------------------------------------------------------------------------------\n"
     ]
    },
    {
     "name": "stderr",
     "output_type": "stream",
     "text": [
      " 12%|█▏        | 12095/100000 [07:03<30:29, 48.04it/s]  "
     ]
    },
    {
     "name": "stdout",
     "output_type": "stream",
     "text": [
      "Epoch [12100/100000]\n",
      "Train Loss: 6.0573, Train Accuracy: 0.0730\n",
      "Train Precision (micro): 0.0730, Train Precision (macro): 0.0030\n",
      "Train Recall (micro): 0.0730, Train Recall (macro): 0.0078\n",
      "Train F1 (micro): 0.0730, Train F1 (macro): 0.0037\n",
      "\n",
      "Val Loss: 6.0242, Val Accuracy: 0.0741\n",
      "Val Precision (micro): 0.0741, Val Precision (macro): 0.0063\n",
      "Val Recall (micro): 0.0741, Val Recall (macro): 0.0143\n",
      "Val F1 (micro): 0.0741, Val F1 (macro): 0.0070\n",
      "--------------------------------------------------------------------------------\n"
     ]
    },
    {
     "name": "stderr",
     "output_type": "stream",
     "text": [
      " 12%|█▏        | 12195/100000 [07:07<29:27, 49.67it/s]  "
     ]
    },
    {
     "name": "stdout",
     "output_type": "stream",
     "text": [
      "Epoch [12200/100000]\n",
      "Train Loss: 6.0431, Train Accuracy: 0.0770\n",
      "Train Precision (micro): 0.0770, Train Precision (macro): 0.0040\n",
      "Train Recall (micro): 0.0770, Train Recall (macro): 0.0090\n",
      "Train F1 (micro): 0.0770, Train F1 (macro): 0.0044\n",
      "\n",
      "Val Loss: 6.0241, Val Accuracy: 0.0737\n",
      "Val Precision (micro): 0.0737, Val Precision (macro): 0.0054\n",
      "Val Recall (micro): 0.0737, Val Recall (macro): 0.0123\n",
      "Val F1 (micro): 0.0737, Val F1 (macro): 0.0060\n",
      "--------------------------------------------------------------------------------\n"
     ]
    },
    {
     "name": "stderr",
     "output_type": "stream",
     "text": [
      " 12%|█▏        | 12299/100000 [07:10<31:56, 45.76it/s]  "
     ]
    },
    {
     "name": "stdout",
     "output_type": "stream",
     "text": [
      "Epoch [12300/100000]\n",
      "Train Loss: 6.0165, Train Accuracy: 0.0783\n",
      "Train Precision (micro): 0.0783, Train Precision (macro): 0.0040\n",
      "Train Recall (micro): 0.0783, Train Recall (macro): 0.0078\n",
      "Train F1 (micro): 0.0783, Train F1 (macro): 0.0038\n",
      "\n",
      "Val Loss: 6.0106, Val Accuracy: 0.0737\n",
      "Val Precision (micro): 0.0737, Val Precision (macro): 0.0060\n",
      "Val Recall (micro): 0.0737, Val Recall (macro): 0.0126\n",
      "Val F1 (micro): 0.0737, Val F1 (macro): 0.0065\n",
      "--------------------------------------------------------------------------------\n"
     ]
    },
    {
     "name": "stderr",
     "output_type": "stream",
     "text": [
      " 12%|█▏        | 12398/100000 [07:14<31:34, 46.24it/s]  "
     ]
    },
    {
     "name": "stdout",
     "output_type": "stream",
     "text": [
      "Epoch [12400/100000]\n",
      "Train Loss: 6.0391, Train Accuracy: 0.0728\n",
      "Train Precision (micro): 0.0728, Train Precision (macro): 0.0046\n",
      "Train Recall (micro): 0.0728, Train Recall (macro): 0.0081\n",
      "Train F1 (micro): 0.0728, Train F1 (macro): 0.0040\n",
      "\n",
      "Val Loss: 5.9976, Val Accuracy: 0.0750\n",
      "Val Precision (micro): 0.0750, Val Precision (macro): 0.0060\n",
      "Val Recall (micro): 0.0750, Val Recall (macro): 0.0136\n",
      "Val F1 (micro): 0.0750, Val F1 (macro): 0.0067\n",
      "--------------------------------------------------------------------------------\n"
     ]
    },
    {
     "name": "stderr",
     "output_type": "stream",
     "text": [
      " 12%|█▏        | 12498/100000 [07:17<29:23, 49.61it/s]  "
     ]
    },
    {
     "name": "stdout",
     "output_type": "stream",
     "text": [
      "Epoch [12500/100000]\n",
      "Train Loss: 6.0060, Train Accuracy: 0.0786\n",
      "Train Precision (micro): 0.0786, Train Precision (macro): 0.0040\n",
      "Train Recall (micro): 0.0786, Train Recall (macro): 0.0092\n",
      "Train F1 (micro): 0.0786, Train F1 (macro): 0.0044\n",
      "\n",
      "Val Loss: 6.0051, Val Accuracy: 0.0753\n",
      "Val Precision (micro): 0.0753, Val Precision (macro): 0.0045\n",
      "Val Recall (micro): 0.0753, Val Recall (macro): 0.0125\n",
      "Val F1 (micro): 0.0753, Val F1 (macro): 0.0054\n",
      "--------------------------------------------------------------------------------\n"
     ]
    },
    {
     "name": "stderr",
     "output_type": "stream",
     "text": [
      " 13%|█▎        | 12597/100000 [07:21<30:53, 47.14it/s]  "
     ]
    },
    {
     "name": "stdout",
     "output_type": "stream",
     "text": [
      "Epoch [12600/100000]\n",
      "Train Loss: 6.0226, Train Accuracy: 0.0716\n",
      "Train Precision (micro): 0.0716, Train Precision (macro): 0.0031\n",
      "Train Recall (micro): 0.0716, Train Recall (macro): 0.0081\n",
      "Train F1 (micro): 0.0716, Train F1 (macro): 0.0036\n",
      "\n",
      "Val Loss: 6.0056, Val Accuracy: 0.0731\n",
      "Val Precision (micro): 0.0731, Val Precision (macro): 0.0051\n",
      "Val Recall (micro): 0.0731, Val Recall (macro): 0.0129\n",
      "Val F1 (micro): 0.0731, Val F1 (macro): 0.0059\n",
      "--------------------------------------------------------------------------------\n"
     ]
    },
    {
     "name": "stderr",
     "output_type": "stream",
     "text": [
      " 13%|█▎        | 12697/100000 [07:24<29:12, 49.82it/s]  "
     ]
    },
    {
     "name": "stdout",
     "output_type": "stream",
     "text": [
      "Epoch [12700/100000]\n",
      "Train Loss: 5.9895, Train Accuracy: 0.0742\n",
      "Train Precision (micro): 0.0742, Train Precision (macro): 0.0034\n",
      "Train Recall (micro): 0.0742, Train Recall (macro): 0.0085\n",
      "Train F1 (micro): 0.0742, Train F1 (macro): 0.0039\n",
      "\n",
      "Val Loss: 5.9927, Val Accuracy: 0.0778\n",
      "Val Precision (micro): 0.0778, Val Precision (macro): 0.0063\n",
      "Val Recall (micro): 0.0778, Val Recall (macro): 0.0141\n",
      "Val F1 (micro): 0.0778, Val F1 (macro): 0.0073\n",
      "--------------------------------------------------------------------------------\n"
     ]
    },
    {
     "name": "stderr",
     "output_type": "stream",
     "text": [
      " 13%|█▎        | 12797/100000 [07:28<36:57, 39.33it/s]  "
     ]
    },
    {
     "name": "stdout",
     "output_type": "stream",
     "text": [
      "Epoch [12800/100000]\n",
      "Train Loss: 6.0080, Train Accuracy: 0.0775\n",
      "Train Precision (micro): 0.0775, Train Precision (macro): 0.0030\n",
      "Train Recall (micro): 0.0775, Train Recall (macro): 0.0066\n",
      "Train F1 (micro): 0.0775, Train F1 (macro): 0.0033\n",
      "\n",
      "Val Loss: 6.0014, Val Accuracy: 0.0769\n",
      "Val Precision (micro): 0.0769, Val Precision (macro): 0.0063\n",
      "Val Recall (micro): 0.0769, Val Recall (macro): 0.0139\n",
      "Val F1 (micro): 0.0769, Val F1 (macro): 0.0067\n",
      "--------------------------------------------------------------------------------\n"
     ]
    },
    {
     "name": "stderr",
     "output_type": "stream",
     "text": [
      " 13%|█▎        | 12899/100000 [07:31<30:57, 46.90it/s]  "
     ]
    },
    {
     "name": "stdout",
     "output_type": "stream",
     "text": [
      "Epoch [12900/100000]\n",
      "Train Loss: 5.9822, Train Accuracy: 0.0783\n",
      "Train Precision (micro): 0.0783, Train Precision (macro): 0.0047\n",
      "Train Recall (micro): 0.0783, Train Recall (macro): 0.0084\n",
      "Train F1 (micro): 0.0783, Train F1 (macro): 0.0043\n",
      "\n",
      "Val Loss: 5.9910, Val Accuracy: 0.0784\n",
      "Val Precision (micro): 0.0784, Val Precision (macro): 0.0059\n",
      "Val Recall (micro): 0.0784, Val Recall (macro): 0.0131\n",
      "Val F1 (micro): 0.0784, Val F1 (macro): 0.0065\n",
      "--------------------------------------------------------------------------------\n"
     ]
    },
    {
     "name": "stderr",
     "output_type": "stream",
     "text": [
      " 13%|█▎        | 12999/100000 [07:34<31:23, 46.19it/s]  "
     ]
    },
    {
     "name": "stdout",
     "output_type": "stream",
     "text": [
      "Epoch [13000/100000]\n",
      "Train Loss: 5.9420, Train Accuracy: 0.0834\n",
      "Train Precision (micro): 0.0834, Train Precision (macro): 0.0041\n",
      "Train Recall (micro): 0.0834, Train Recall (macro): 0.0080\n",
      "Train F1 (micro): 0.0834, Train F1 (macro): 0.0039\n",
      "\n",
      "Val Loss: 5.9886, Val Accuracy: 0.0744\n",
      "Val Precision (micro): 0.0744, Val Precision (macro): 0.0048\n",
      "Val Recall (micro): 0.0744, Val Recall (macro): 0.0129\n",
      "Val F1 (micro): 0.0744, Val F1 (macro): 0.0058\n",
      "--------------------------------------------------------------------------------\n"
     ]
    },
    {
     "name": "stderr",
     "output_type": "stream",
     "text": [
      " 13%|█▎        | 13099/100000 [07:38<31:52, 45.44it/s]  "
     ]
    },
    {
     "name": "stdout",
     "output_type": "stream",
     "text": [
      "Epoch [13100/100000]\n",
      "Train Loss: 6.0469, Train Accuracy: 0.0781\n",
      "Train Precision (micro): 0.0781, Train Precision (macro): 0.0047\n",
      "Train Recall (micro): 0.0781, Train Recall (macro): 0.0097\n",
      "Train F1 (micro): 0.0781, Train F1 (macro): 0.0052\n",
      "\n",
      "Val Loss: 5.9856, Val Accuracy: 0.0741\n",
      "Val Precision (micro): 0.0741, Val Precision (macro): 0.0036\n",
      "Val Recall (micro): 0.0741, Val Recall (macro): 0.0124\n",
      "Val F1 (micro): 0.0741, Val F1 (macro): 0.0050\n",
      "--------------------------------------------------------------------------------\n"
     ]
    },
    {
     "name": "stderr",
     "output_type": "stream",
     "text": [
      " 13%|█▎        | 13198/100000 [07:41<33:40, 42.96it/s]  "
     ]
    },
    {
     "name": "stdout",
     "output_type": "stream",
     "text": [
      "Epoch [13200/100000]\n",
      "Train Loss: 5.9652, Train Accuracy: 0.0755\n",
      "Train Precision (micro): 0.0755, Train Precision (macro): 0.0033\n",
      "Train Recall (micro): 0.0755, Train Recall (macro): 0.0080\n",
      "Train F1 (micro): 0.0755, Train F1 (macro): 0.0034\n",
      "\n",
      "Val Loss: 5.9840, Val Accuracy: 0.0744\n",
      "Val Precision (micro): 0.0744, Val Precision (macro): 0.0062\n",
      "Val Recall (micro): 0.0744, Val Recall (macro): 0.0127\n",
      "Val F1 (micro): 0.0744, Val F1 (macro): 0.0064\n",
      "--------------------------------------------------------------------------------\n"
     ]
    },
    {
     "name": "stderr",
     "output_type": "stream",
     "text": [
      " 13%|█▎        | 13296/100000 [07:45<31:38, 45.67it/s]  "
     ]
    },
    {
     "name": "stdout",
     "output_type": "stream",
     "text": [
      "Epoch [13300/100000]\n",
      "Train Loss: 6.0013, Train Accuracy: 0.0761\n",
      "Train Precision (micro): 0.0761, Train Precision (macro): 0.0042\n",
      "Train Recall (micro): 0.0761, Train Recall (macro): 0.0077\n",
      "Train F1 (micro): 0.0761, Train F1 (macro): 0.0039\n",
      "\n",
      "Val Loss: 5.9934, Val Accuracy: 0.0762\n",
      "Val Precision (micro): 0.0762, Val Precision (macro): 0.0068\n",
      "Val Recall (micro): 0.0762, Val Recall (macro): 0.0129\n",
      "Val F1 (micro): 0.0762, Val F1 (macro): 0.0063\n",
      "--------------------------------------------------------------------------------\n"
     ]
    },
    {
     "name": "stderr",
     "output_type": "stream",
     "text": [
      " 13%|█▎        | 13395/100000 [07:48<31:25, 45.93it/s]  "
     ]
    },
    {
     "name": "stdout",
     "output_type": "stream",
     "text": [
      "Epoch [13400/100000]\n",
      "Train Loss: 5.9604, Train Accuracy: 0.0723\n",
      "Train Precision (micro): 0.0723, Train Precision (macro): 0.0031\n",
      "Train Recall (micro): 0.0723, Train Recall (macro): 0.0077\n",
      "Train F1 (micro): 0.0723, Train F1 (macro): 0.0034\n",
      "\n",
      "Val Loss: 5.9656, Val Accuracy: 0.0806\n",
      "Val Precision (micro): 0.0806, Val Precision (macro): 0.0068\n",
      "Val Recall (micro): 0.0806, Val Recall (macro): 0.0137\n",
      "Val F1 (micro): 0.0806, Val F1 (macro): 0.0067\n",
      "--------------------------------------------------------------------------------\n"
     ]
    },
    {
     "name": "stderr",
     "output_type": "stream",
     "text": [
      " 13%|█▎        | 13497/100000 [07:51<30:51, 46.71it/s]  "
     ]
    },
    {
     "name": "stdout",
     "output_type": "stream",
     "text": [
      "Epoch [13500/100000]\n",
      "Train Loss: 5.9600, Train Accuracy: 0.0831\n",
      "Train Precision (micro): 0.0831, Train Precision (macro): 0.0031\n",
      "Train Recall (micro): 0.0831, Train Recall (macro): 0.0081\n",
      "Train F1 (micro): 0.0831, Train F1 (macro): 0.0037\n",
      "\n",
      "Val Loss: 5.9855, Val Accuracy: 0.0762\n",
      "Val Precision (micro): 0.0762, Val Precision (macro): 0.0056\n",
      "Val Recall (micro): 0.0762, Val Recall (macro): 0.0133\n",
      "Val F1 (micro): 0.0762, Val F1 (macro): 0.0065\n",
      "--------------------------------------------------------------------------------\n"
     ]
    },
    {
     "name": "stderr",
     "output_type": "stream",
     "text": [
      " 14%|█▎        | 13596/100000 [07:55<28:51, 49.91it/s]  "
     ]
    },
    {
     "name": "stdout",
     "output_type": "stream",
     "text": [
      "Epoch [13600/100000]\n",
      "Train Loss: 5.9758, Train Accuracy: 0.0758\n",
      "Train Precision (micro): 0.0758, Train Precision (macro): 0.0027\n",
      "Train Recall (micro): 0.0758, Train Recall (macro): 0.0076\n",
      "Train F1 (micro): 0.0758, Train F1 (macro): 0.0034\n",
      "\n",
      "Val Loss: 5.9830, Val Accuracy: 0.0759\n",
      "Val Precision (micro): 0.0759, Val Precision (macro): 0.0056\n",
      "Val Recall (micro): 0.0759, Val Recall (macro): 0.0131\n",
      "Val F1 (micro): 0.0759, Val F1 (macro): 0.0060\n",
      "--------------------------------------------------------------------------------\n"
     ]
    },
    {
     "name": "stderr",
     "output_type": "stream",
     "text": [
      " 14%|█▎        | 13694/100000 [07:58<29:26, 48.86it/s]  "
     ]
    },
    {
     "name": "stdout",
     "output_type": "stream",
     "text": [
      "Epoch [13700/100000]\n",
      "Train Loss: 5.9546, Train Accuracy: 0.0727\n",
      "Train Precision (micro): 0.0727, Train Precision (macro): 0.0044\n",
      "Train Recall (micro): 0.0727, Train Recall (macro): 0.0086\n",
      "Train F1 (micro): 0.0727, Train F1 (macro): 0.0045\n",
      "\n",
      "Val Loss: 5.9660, Val Accuracy: 0.0825\n",
      "Val Precision (micro): 0.0825, Val Precision (macro): 0.0076\n",
      "Val Recall (micro): 0.0825, Val Recall (macro): 0.0154\n",
      "Val F1 (micro): 0.0825, Val F1 (macro): 0.0079\n",
      "--------------------------------------------------------------------------------\n"
     ]
    },
    {
     "name": "stderr",
     "output_type": "stream",
     "text": [
      " 14%|█▍        | 13795/100000 [08:02<37:04, 38.75it/s]  "
     ]
    },
    {
     "name": "stdout",
     "output_type": "stream",
     "text": [
      "Epoch [13800/100000]\n",
      "Train Loss: 5.9774, Train Accuracy: 0.0783\n",
      "Train Precision (micro): 0.0783, Train Precision (macro): 0.0038\n",
      "Train Recall (micro): 0.0783, Train Recall (macro): 0.0094\n",
      "Train F1 (micro): 0.0783, Train F1 (macro): 0.0044\n",
      "\n",
      "Val Loss: 5.9803, Val Accuracy: 0.0775\n",
      "Val Precision (micro): 0.0775, Val Precision (macro): 0.0069\n",
      "Val Recall (micro): 0.0775, Val Recall (macro): 0.0137\n",
      "Val F1 (micro): 0.0775, Val F1 (macro): 0.0064\n",
      "--------------------------------------------------------------------------------\n"
     ]
    },
    {
     "name": "stderr",
     "output_type": "stream",
     "text": [
      " 14%|█▍        | 13899/100000 [08:05<29:42, 48.32it/s]  "
     ]
    },
    {
     "name": "stdout",
     "output_type": "stream",
     "text": [
      "Epoch [13900/100000]\n",
      "Train Loss: 5.9553, Train Accuracy: 0.0772\n",
      "Train Precision (micro): 0.0772, Train Precision (macro): 0.0042\n",
      "Train Recall (micro): 0.0772, Train Recall (macro): 0.0085\n",
      "Train F1 (micro): 0.0772, Train F1 (macro): 0.0039\n",
      "\n",
      "Val Loss: 5.9914, Val Accuracy: 0.0769\n",
      "Val Precision (micro): 0.0769, Val Precision (macro): 0.0068\n",
      "Val Recall (micro): 0.0769, Val Recall (macro): 0.0138\n",
      "Val F1 (micro): 0.0769, Val F1 (macro): 0.0075\n",
      "--------------------------------------------------------------------------------\n"
     ]
    },
    {
     "name": "stderr",
     "output_type": "stream",
     "text": [
      " 14%|█▍        | 13994/100000 [08:09<29:00, 49.41it/s]  "
     ]
    },
    {
     "name": "stdout",
     "output_type": "stream",
     "text": [
      "Epoch [14000/100000]\n",
      "Train Loss: 5.9994, Train Accuracy: 0.0767\n",
      "Train Precision (micro): 0.0767, Train Precision (macro): 0.0054\n",
      "Train Recall (micro): 0.0767, Train Recall (macro): 0.0104\n",
      "Train F1 (micro): 0.0767, Train F1 (macro): 0.0055\n",
      "\n",
      "Val Loss: 5.9838, Val Accuracy: 0.0762\n",
      "Val Precision (micro): 0.0762, Val Precision (macro): 0.0060\n",
      "Val Recall (micro): 0.0762, Val Recall (macro): 0.0130\n",
      "Val F1 (micro): 0.0762, Val F1 (macro): 0.0062\n",
      "--------------------------------------------------------------------------------\n"
     ]
    },
    {
     "name": "stderr",
     "output_type": "stream",
     "text": [
      " 14%|█▍        | 14099/100000 [08:12<29:57, 47.78it/s]  "
     ]
    },
    {
     "name": "stdout",
     "output_type": "stream",
     "text": [
      "Epoch [14100/100000]\n",
      "Train Loss: 5.9682, Train Accuracy: 0.0820\n",
      "Train Precision (micro): 0.0820, Train Precision (macro): 0.0044\n",
      "Train Recall (micro): 0.0820, Train Recall (macro): 0.0086\n",
      "Train F1 (micro): 0.0820, Train F1 (macro): 0.0046\n",
      "\n",
      "Val Loss: 6.0019, Val Accuracy: 0.0737\n",
      "Val Precision (micro): 0.0737, Val Precision (macro): 0.0066\n",
      "Val Recall (micro): 0.0737, Val Recall (macro): 0.0132\n",
      "Val F1 (micro): 0.0737, Val F1 (macro): 0.0071\n",
      "--------------------------------------------------------------------------------\n"
     ]
    },
    {
     "name": "stderr",
     "output_type": "stream",
     "text": [
      " 14%|█▍        | 14194/100000 [08:16<28:50, 49.59it/s]  "
     ]
    },
    {
     "name": "stdout",
     "output_type": "stream",
     "text": [
      "Epoch [14200/100000]\n",
      "Train Loss: 5.9690, Train Accuracy: 0.0750\n",
      "Train Precision (micro): 0.0750, Train Precision (macro): 0.0052\n",
      "Train Recall (micro): 0.0750, Train Recall (macro): 0.0082\n",
      "Train F1 (micro): 0.0750, Train F1 (macro): 0.0043\n",
      "\n",
      "Val Loss: 5.9566, Val Accuracy: 0.0784\n",
      "Val Precision (micro): 0.0784, Val Precision (macro): 0.0061\n",
      "Val Recall (micro): 0.0784, Val Recall (macro): 0.0152\n",
      "Val F1 (micro): 0.0784, Val F1 (macro): 0.0076\n",
      "--------------------------------------------------------------------------------\n"
     ]
    },
    {
     "name": "stderr",
     "output_type": "stream",
     "text": [
      " 14%|█▍        | 14295/100000 [08:19<29:06, 49.08it/s]  "
     ]
    },
    {
     "name": "stdout",
     "output_type": "stream",
     "text": [
      "Epoch [14300/100000]\n",
      "Train Loss: 6.0258, Train Accuracy: 0.0775\n",
      "Train Precision (micro): 0.0775, Train Precision (macro): 0.0053\n",
      "Train Recall (micro): 0.0775, Train Recall (macro): 0.0091\n",
      "Train F1 (micro): 0.0775, Train F1 (macro): 0.0051\n",
      "\n",
      "Val Loss: 5.9690, Val Accuracy: 0.0791\n",
      "Val Precision (micro): 0.0791, Val Precision (macro): 0.0063\n",
      "Val Recall (micro): 0.0791, Val Recall (macro): 0.0148\n",
      "Val F1 (micro): 0.0791, Val F1 (macro): 0.0074\n",
      "--------------------------------------------------------------------------------\n"
     ]
    },
    {
     "name": "stderr",
     "output_type": "stream",
     "text": [
      " 14%|█▍        | 14399/100000 [08:22<28:44, 49.64it/s]  "
     ]
    },
    {
     "name": "stdout",
     "output_type": "stream",
     "text": [
      "Epoch [14400/100000]\n",
      "Train Loss: 5.9389, Train Accuracy: 0.0730\n",
      "Train Precision (micro): 0.0730, Train Precision (macro): 0.0046\n",
      "Train Recall (micro): 0.0730, Train Recall (macro): 0.0097\n",
      "Train F1 (micro): 0.0730, Train F1 (macro): 0.0046\n",
      "\n",
      "Val Loss: 5.9552, Val Accuracy: 0.0781\n",
      "Val Precision (micro): 0.0781, Val Precision (macro): 0.0063\n",
      "Val Recall (micro): 0.0781, Val Recall (macro): 0.0148\n",
      "Val F1 (micro): 0.0781, Val F1 (macro): 0.0075\n",
      "--------------------------------------------------------------------------------\n"
     ]
    },
    {
     "name": "stderr",
     "output_type": "stream",
     "text": [
      " 14%|█▍        | 14495/100000 [08:26<28:42, 49.65it/s]  "
     ]
    },
    {
     "name": "stdout",
     "output_type": "stream",
     "text": [
      "Epoch [14500/100000]\n",
      "Train Loss: 6.0050, Train Accuracy: 0.0805\n",
      "Train Precision (micro): 0.0805, Train Precision (macro): 0.0055\n",
      "Train Recall (micro): 0.0805, Train Recall (macro): 0.0106\n",
      "Train F1 (micro): 0.0805, Train F1 (macro): 0.0059\n",
      "\n",
      "Val Loss: 5.9602, Val Accuracy: 0.0794\n",
      "Val Precision (micro): 0.0794, Val Precision (macro): 0.0070\n",
      "Val Recall (micro): 0.0794, Val Recall (macro): 0.0151\n",
      "Val F1 (micro): 0.0794, Val F1 (macro): 0.0081\n",
      "--------------------------------------------------------------------------------\n"
     ]
    },
    {
     "name": "stderr",
     "output_type": "stream",
     "text": [
      " 15%|█▍        | 14599/100000 [08:29<30:27, 46.73it/s]  "
     ]
    },
    {
     "name": "stdout",
     "output_type": "stream",
     "text": [
      "Epoch [14600/100000]\n",
      "Train Loss: 5.9537, Train Accuracy: 0.0767\n",
      "Train Precision (micro): 0.0767, Train Precision (macro): 0.0044\n",
      "Train Recall (micro): 0.0767, Train Recall (macro): 0.0080\n",
      "Train F1 (micro): 0.0767, Train F1 (macro): 0.0041\n",
      "\n",
      "Val Loss: 5.9575, Val Accuracy: 0.0788\n",
      "Val Precision (micro): 0.0788, Val Precision (macro): 0.0062\n",
      "Val Recall (micro): 0.0788, Val Recall (macro): 0.0141\n",
      "Val F1 (micro): 0.0788, Val F1 (macro): 0.0067\n",
      "--------------------------------------------------------------------------------\n"
     ]
    },
    {
     "name": "stderr",
     "output_type": "stream",
     "text": [
      " 15%|█▍        | 14697/100000 [08:32<31:18, 45.40it/s]  "
     ]
    },
    {
     "name": "stdout",
     "output_type": "stream",
     "text": [
      "Epoch [14700/100000]\n",
      "Train Loss: 5.9678, Train Accuracy: 0.0753\n",
      "Train Precision (micro): 0.0753, Train Precision (macro): 0.0035\n",
      "Train Recall (micro): 0.0753, Train Recall (macro): 0.0082\n",
      "Train F1 (micro): 0.0753, Train F1 (macro): 0.0042\n",
      "\n",
      "Val Loss: 5.9573, Val Accuracy: 0.0794\n",
      "Val Precision (micro): 0.0794, Val Precision (macro): 0.0075\n",
      "Val Recall (micro): 0.0794, Val Recall (macro): 0.0139\n",
      "Val F1 (micro): 0.0794, Val F1 (macro): 0.0073\n",
      "--------------------------------------------------------------------------------\n"
     ]
    },
    {
     "name": "stderr",
     "output_type": "stream",
     "text": [
      " 15%|█▍        | 14798/100000 [08:36<37:26, 37.93it/s]  "
     ]
    },
    {
     "name": "stdout",
     "output_type": "stream",
     "text": [
      "Epoch [14800/100000]\n",
      "Train Loss: 5.9923, Train Accuracy: 0.0780\n",
      "Train Precision (micro): 0.0780, Train Precision (macro): 0.0043\n",
      "Train Recall (micro): 0.0780, Train Recall (macro): 0.0081\n",
      "Train F1 (micro): 0.0780, Train F1 (macro): 0.0043\n",
      "\n",
      "Val Loss: 5.9535, Val Accuracy: 0.0797\n",
      "Val Precision (micro): 0.0797, Val Precision (macro): 0.0065\n",
      "Val Recall (micro): 0.0797, Val Recall (macro): 0.0145\n",
      "Val F1 (micro): 0.0797, Val F1 (macro): 0.0075\n",
      "--------------------------------------------------------------------------------\n"
     ]
    },
    {
     "name": "stderr",
     "output_type": "stream",
     "text": [
      " 15%|█▍        | 14898/100000 [08:40<30:43, 46.17it/s]  "
     ]
    },
    {
     "name": "stdout",
     "output_type": "stream",
     "text": [
      "Epoch [14900/100000]\n",
      "Train Loss: 5.9753, Train Accuracy: 0.0778\n",
      "Train Precision (micro): 0.0778, Train Precision (macro): 0.0053\n",
      "Train Recall (micro): 0.0778, Train Recall (macro): 0.0100\n",
      "Train F1 (micro): 0.0778, Train F1 (macro): 0.0055\n",
      "\n",
      "Val Loss: 5.9649, Val Accuracy: 0.0772\n",
      "Val Precision (micro): 0.0772, Val Precision (macro): 0.0065\n",
      "Val Recall (micro): 0.0772, Val Recall (macro): 0.0155\n",
      "Val F1 (micro): 0.0772, Val F1 (macro): 0.0079\n",
      "--------------------------------------------------------------------------------\n"
     ]
    },
    {
     "name": "stderr",
     "output_type": "stream",
     "text": [
      " 15%|█▍        | 14998/100000 [08:43<28:19, 50.00it/s]  "
     ]
    },
    {
     "name": "stdout",
     "output_type": "stream",
     "text": [
      "Epoch [15000/100000]\n",
      "Train Loss: 5.9247, Train Accuracy: 0.0756\n",
      "Train Precision (micro): 0.0756, Train Precision (macro): 0.0034\n",
      "Train Recall (micro): 0.0756, Train Recall (macro): 0.0077\n",
      "Train F1 (micro): 0.0756, Train F1 (macro): 0.0040\n",
      "\n",
      "Val Loss: 5.9531, Val Accuracy: 0.0772\n",
      "Val Precision (micro): 0.0772, Val Precision (macro): 0.0067\n",
      "Val Recall (micro): 0.0772, Val Recall (macro): 0.0152\n",
      "Val F1 (micro): 0.0772, Val F1 (macro): 0.0077\n",
      "--------------------------------------------------------------------------------\n"
     ]
    },
    {
     "name": "stderr",
     "output_type": "stream",
     "text": [
      " 15%|█▌        | 15097/100000 [08:46<30:43, 46.05it/s]  "
     ]
    },
    {
     "name": "stdout",
     "output_type": "stream",
     "text": [
      "Epoch [15100/100000]\n",
      "Train Loss: 5.9417, Train Accuracy: 0.0827\n",
      "Train Precision (micro): 0.0827, Train Precision (macro): 0.0036\n",
      "Train Recall (micro): 0.0827, Train Recall (macro): 0.0093\n",
      "Train F1 (micro): 0.0827, Train F1 (macro): 0.0042\n",
      "\n",
      "Val Loss: 5.9475, Val Accuracy: 0.0784\n",
      "Val Precision (micro): 0.0784, Val Precision (macro): 0.0056\n",
      "Val Recall (micro): 0.0784, Val Recall (macro): 0.0150\n",
      "Val F1 (micro): 0.0784, Val F1 (macro): 0.0066\n",
      "--------------------------------------------------------------------------------\n"
     ]
    },
    {
     "name": "stderr",
     "output_type": "stream",
     "text": [
      " 15%|█▌        | 15198/100000 [08:51<28:37, 49.37it/s]  "
     ]
    },
    {
     "name": "stdout",
     "output_type": "stream",
     "text": [
      "Epoch [15200/100000]\n",
      "Train Loss: 5.9460, Train Accuracy: 0.0823\n",
      "Train Precision (micro): 0.0823, Train Precision (macro): 0.0041\n",
      "Train Recall (micro): 0.0823, Train Recall (macro): 0.0089\n",
      "Train F1 (micro): 0.0823, Train F1 (macro): 0.0043\n",
      "\n",
      "Val Loss: 5.9369, Val Accuracy: 0.0800\n",
      "Val Precision (micro): 0.0800, Val Precision (macro): 0.0066\n",
      "Val Recall (micro): 0.0800, Val Recall (macro): 0.0155\n",
      "Val F1 (micro): 0.0800, Val F1 (macro): 0.0076\n",
      "--------------------------------------------------------------------------------\n"
     ]
    },
    {
     "name": "stderr",
     "output_type": "stream",
     "text": [
      " 15%|█▌        | 15297/100000 [08:54<28:20, 49.82it/s]  "
     ]
    },
    {
     "name": "stdout",
     "output_type": "stream",
     "text": [
      "Epoch [15300/100000]\n",
      "Train Loss: 5.8996, Train Accuracy: 0.0848\n",
      "Train Precision (micro): 0.0848, Train Precision (macro): 0.0036\n",
      "Train Recall (micro): 0.0848, Train Recall (macro): 0.0097\n",
      "Train F1 (micro): 0.0848, Train F1 (macro): 0.0044\n",
      "\n",
      "Val Loss: 5.9423, Val Accuracy: 0.0769\n",
      "Val Precision (micro): 0.0769, Val Precision (macro): 0.0064\n",
      "Val Recall (micro): 0.0769, Val Recall (macro): 0.0145\n",
      "Val F1 (micro): 0.0769, Val F1 (macro): 0.0074\n",
      "--------------------------------------------------------------------------------\n"
     ]
    },
    {
     "name": "stderr",
     "output_type": "stream",
     "text": [
      " 15%|█▌        | 15395/100000 [08:59<31:31, 44.74it/s]  "
     ]
    },
    {
     "name": "stdout",
     "output_type": "stream",
     "text": [
      "Epoch [15400/100000]\n",
      "Train Loss: 5.9146, Train Accuracy: 0.0784\n",
      "Train Precision (micro): 0.0784, Train Precision (macro): 0.0049\n",
      "Train Recall (micro): 0.0784, Train Recall (macro): 0.0097\n",
      "Train F1 (micro): 0.0784, Train F1 (macro): 0.0050\n",
      "\n",
      "Val Loss: 5.9367, Val Accuracy: 0.0762\n",
      "Val Precision (micro): 0.0762, Val Precision (macro): 0.0056\n",
      "Val Recall (micro): 0.0762, Val Recall (macro): 0.0130\n",
      "Val F1 (micro): 0.0762, Val F1 (macro): 0.0065\n",
      "--------------------------------------------------------------------------------\n"
     ]
    },
    {
     "name": "stderr",
     "output_type": "stream",
     "text": [
      " 15%|█▌        | 15496/100000 [09:03<31:45, 44.34it/s]  "
     ]
    },
    {
     "name": "stdout",
     "output_type": "stream",
     "text": [
      "Epoch [15500/100000]\n",
      "Train Loss: 5.9984, Train Accuracy: 0.0719\n",
      "Train Precision (micro): 0.0719, Train Precision (macro): 0.0033\n",
      "Train Recall (micro): 0.0719, Train Recall (macro): 0.0084\n",
      "Train F1 (micro): 0.0719, Train F1 (macro): 0.0037\n",
      "\n",
      "Val Loss: 5.9445, Val Accuracy: 0.0784\n",
      "Val Precision (micro): 0.0784, Val Precision (macro): 0.0061\n",
      "Val Recall (micro): 0.0784, Val Recall (macro): 0.0133\n",
      "Val F1 (micro): 0.0784, Val F1 (macro): 0.0067\n",
      "--------------------------------------------------------------------------------\n"
     ]
    },
    {
     "name": "stderr",
     "output_type": "stream",
     "text": [
      " 16%|█▌        | 15599/100000 [09:07<28:51, 48.75it/s]  "
     ]
    },
    {
     "name": "stdout",
     "output_type": "stream",
     "text": [
      "Epoch [15600/100000]\n",
      "Train Loss: 5.9855, Train Accuracy: 0.0748\n",
      "Train Precision (micro): 0.0748, Train Precision (macro): 0.0038\n",
      "Train Recall (micro): 0.0748, Train Recall (macro): 0.0090\n",
      "Train F1 (micro): 0.0748, Train F1 (macro): 0.0045\n",
      "\n",
      "Val Loss: 5.9489, Val Accuracy: 0.0772\n",
      "Val Precision (micro): 0.0772, Val Precision (macro): 0.0070\n",
      "Val Recall (micro): 0.0772, Val Recall (macro): 0.0152\n",
      "Val F1 (micro): 0.0772, Val F1 (macro): 0.0078\n",
      "--------------------------------------------------------------------------------\n"
     ]
    },
    {
     "name": "stderr",
     "output_type": "stream",
     "text": [
      " 16%|█▌        | 15697/100000 [09:10<28:01, 50.12it/s]  "
     ]
    },
    {
     "name": "stdout",
     "output_type": "stream",
     "text": [
      "Epoch [15700/100000]\n",
      "Train Loss: 5.9644, Train Accuracy: 0.0806\n",
      "Train Precision (micro): 0.0806, Train Precision (macro): 0.0042\n",
      "Train Recall (micro): 0.0806, Train Recall (macro): 0.0088\n",
      "Train F1 (micro): 0.0806, Train F1 (macro): 0.0044\n",
      "\n",
      "Val Loss: 5.9646, Val Accuracy: 0.0784\n",
      "Val Precision (micro): 0.0784, Val Precision (macro): 0.0063\n",
      "Val Recall (micro): 0.0784, Val Recall (macro): 0.0136\n",
      "Val F1 (micro): 0.0784, Val F1 (macro): 0.0070\n",
      "--------------------------------------------------------------------------------\n"
     ]
    },
    {
     "name": "stderr",
     "output_type": "stream",
     "text": [
      " 16%|█▌        | 15798/100000 [09:14<45:41, 30.71it/s]  "
     ]
    },
    {
     "name": "stdout",
     "output_type": "stream",
     "text": [
      "Epoch [15800/100000]\n",
      "Train Loss: 5.9277, Train Accuracy: 0.0842\n",
      "Train Precision (micro): 0.0842, Train Precision (macro): 0.0039\n",
      "Train Recall (micro): 0.0842, Train Recall (macro): 0.0088\n",
      "Train F1 (micro): 0.0842, Train F1 (macro): 0.0046\n",
      "\n",
      "Val Loss: 5.9553, Val Accuracy: 0.0800\n",
      "Val Precision (micro): 0.0800, Val Precision (macro): 0.0079\n",
      "Val Recall (micro): 0.0800, Val Recall (macro): 0.0140\n",
      "Val F1 (micro): 0.0800, Val F1 (macro): 0.0075\n",
      "--------------------------------------------------------------------------------\n"
     ]
    },
    {
     "name": "stderr",
     "output_type": "stream",
     "text": [
      " 16%|█▌        | 15894/100000 [09:17<28:09, 49.78it/s]  "
     ]
    },
    {
     "name": "stdout",
     "output_type": "stream",
     "text": [
      "Epoch [15900/100000]\n",
      "Train Loss: 5.8984, Train Accuracy: 0.0886\n",
      "Train Precision (micro): 0.0886, Train Precision (macro): 0.0070\n",
      "Train Recall (micro): 0.0886, Train Recall (macro): 0.0123\n",
      "Train F1 (micro): 0.0886, Train F1 (macro): 0.0070\n",
      "\n",
      "Val Loss: 5.9525, Val Accuracy: 0.0769\n",
      "Val Precision (micro): 0.0769, Val Precision (macro): 0.0067\n",
      "Val Recall (micro): 0.0769, Val Recall (macro): 0.0134\n",
      "Val F1 (micro): 0.0769, Val F1 (macro): 0.0069\n",
      "--------------------------------------------------------------------------------\n"
     ]
    },
    {
     "name": "stderr",
     "output_type": "stream",
     "text": [
      " 16%|█▌        | 15997/100000 [09:20<28:35, 48.97it/s]  "
     ]
    },
    {
     "name": "stdout",
     "output_type": "stream",
     "text": [
      "Epoch [16000/100000]\n",
      "Train Loss: 5.9583, Train Accuracy: 0.0725\n",
      "Train Precision (micro): 0.0725, Train Precision (macro): 0.0061\n",
      "Train Recall (micro): 0.0725, Train Recall (macro): 0.0092\n",
      "Train F1 (micro): 0.0725, Train F1 (macro): 0.0056\n",
      "\n",
      "Val Loss: 5.9382, Val Accuracy: 0.0806\n",
      "Val Precision (micro): 0.0806, Val Precision (macro): 0.0072\n",
      "Val Recall (micro): 0.0806, Val Recall (macro): 0.0143\n",
      "Val F1 (micro): 0.0806, Val F1 (macro): 0.0074\n",
      "--------------------------------------------------------------------------------\n"
     ]
    },
    {
     "name": "stderr",
     "output_type": "stream",
     "text": [
      " 16%|█▌        | 16095/100000 [09:24<28:31, 49.02it/s]  "
     ]
    },
    {
     "name": "stdout",
     "output_type": "stream",
     "text": [
      "Epoch [16100/100000]\n",
      "Train Loss: 5.9082, Train Accuracy: 0.0756\n",
      "Train Precision (micro): 0.0756, Train Precision (macro): 0.0046\n",
      "Train Recall (micro): 0.0756, Train Recall (macro): 0.0088\n",
      "Train F1 (micro): 0.0756, Train F1 (macro): 0.0047\n",
      "\n",
      "Val Loss: 5.9273, Val Accuracy: 0.0803\n",
      "Val Precision (micro): 0.0803, Val Precision (macro): 0.0071\n",
      "Val Recall (micro): 0.0803, Val Recall (macro): 0.0149\n",
      "Val F1 (micro): 0.0803, Val F1 (macro): 0.0078\n",
      "--------------------------------------------------------------------------------\n"
     ]
    },
    {
     "name": "stderr",
     "output_type": "stream",
     "text": [
      " 16%|█▌        | 16195/100000 [09:27<28:02, 49.80it/s]  "
     ]
    },
    {
     "name": "stdout",
     "output_type": "stream",
     "text": [
      "Epoch [16200/100000]\n",
      "Train Loss: 5.9181, Train Accuracy: 0.0805\n",
      "Train Precision (micro): 0.0805, Train Precision (macro): 0.0051\n",
      "Train Recall (micro): 0.0805, Train Recall (macro): 0.0088\n",
      "Train F1 (micro): 0.0805, Train F1 (macro): 0.0051\n",
      "\n",
      "Val Loss: 5.9338, Val Accuracy: 0.0806\n",
      "Val Precision (micro): 0.0806, Val Precision (macro): 0.0071\n",
      "Val Recall (micro): 0.0806, Val Recall (macro): 0.0138\n",
      "Val F1 (micro): 0.0806, Val F1 (macro): 0.0072\n",
      "--------------------------------------------------------------------------------\n"
     ]
    },
    {
     "name": "stderr",
     "output_type": "stream",
     "text": [
      " 16%|█▋        | 16296/100000 [09:31<28:02, 49.76it/s]  "
     ]
    },
    {
     "name": "stdout",
     "output_type": "stream",
     "text": [
      "Epoch [16300/100000]\n",
      "Train Loss: 5.9181, Train Accuracy: 0.0798\n",
      "Train Precision (micro): 0.0798, Train Precision (macro): 0.0042\n",
      "Train Recall (micro): 0.0798, Train Recall (macro): 0.0092\n",
      "Train F1 (micro): 0.0798, Train F1 (macro): 0.0042\n",
      "\n",
      "Val Loss: 5.9304, Val Accuracy: 0.0800\n",
      "Val Precision (micro): 0.0800, Val Precision (macro): 0.0074\n",
      "Val Recall (micro): 0.0800, Val Recall (macro): 0.0135\n",
      "Val F1 (micro): 0.0800, Val F1 (macro): 0.0070\n",
      "--------------------------------------------------------------------------------\n"
     ]
    },
    {
     "name": "stderr",
     "output_type": "stream",
     "text": [
      " 16%|█▋        | 16397/100000 [09:34<27:55, 49.91it/s]  "
     ]
    },
    {
     "name": "stdout",
     "output_type": "stream",
     "text": [
      "Epoch [16400/100000]\n",
      "Train Loss: 5.9430, Train Accuracy: 0.0759\n",
      "Train Precision (micro): 0.0759, Train Precision (macro): 0.0047\n",
      "Train Recall (micro): 0.0759, Train Recall (macro): 0.0097\n",
      "Train F1 (micro): 0.0759, Train F1 (macro): 0.0050\n",
      "\n",
      "Val Loss: 5.9279, Val Accuracy: 0.0788\n",
      "Val Precision (micro): 0.0788, Val Precision (macro): 0.0073\n",
      "Val Recall (micro): 0.0788, Val Recall (macro): 0.0144\n",
      "Val F1 (micro): 0.0788, Val F1 (macro): 0.0075\n",
      "--------------------------------------------------------------------------------\n"
     ]
    },
    {
     "name": "stderr",
     "output_type": "stream",
     "text": [
      " 16%|█▋        | 16494/100000 [09:37<28:20, 49.10it/s]  "
     ]
    },
    {
     "name": "stdout",
     "output_type": "stream",
     "text": [
      "Epoch [16500/100000]\n",
      "Train Loss: 5.9369, Train Accuracy: 0.0767\n",
      "Train Precision (micro): 0.0767, Train Precision (macro): 0.0050\n",
      "Train Recall (micro): 0.0767, Train Recall (macro): 0.0087\n",
      "Train F1 (micro): 0.0767, Train F1 (macro): 0.0045\n",
      "\n",
      "Val Loss: 5.9314, Val Accuracy: 0.0769\n",
      "Val Precision (micro): 0.0769, Val Precision (macro): 0.0083\n",
      "Val Recall (micro): 0.0769, Val Recall (macro): 0.0153\n",
      "Val F1 (micro): 0.0769, Val F1 (macro): 0.0078\n",
      "--------------------------------------------------------------------------------\n"
     ]
    },
    {
     "name": "stderr",
     "output_type": "stream",
     "text": [
      " 17%|█▋        | 16596/100000 [09:41<29:55, 46.46it/s]  "
     ]
    },
    {
     "name": "stdout",
     "output_type": "stream",
     "text": [
      "Epoch [16600/100000]\n",
      "Train Loss: 5.9177, Train Accuracy: 0.0819\n",
      "Train Precision (micro): 0.0819, Train Precision (macro): 0.0061\n",
      "Train Recall (micro): 0.0819, Train Recall (macro): 0.0093\n",
      "Train F1 (micro): 0.0819, Train F1 (macro): 0.0055\n",
      "\n",
      "Val Loss: 5.9248, Val Accuracy: 0.0800\n",
      "Val Precision (micro): 0.0800, Val Precision (macro): 0.0072\n",
      "Val Recall (micro): 0.0800, Val Recall (macro): 0.0152\n",
      "Val F1 (micro): 0.0800, Val F1 (macro): 0.0073\n",
      "--------------------------------------------------------------------------------\n"
     ]
    },
    {
     "name": "stderr",
     "output_type": "stream",
     "text": [
      " 17%|█▋        | 16694/100000 [09:44<30:59, 44.80it/s]  "
     ]
    },
    {
     "name": "stdout",
     "output_type": "stream",
     "text": [
      "Epoch [16700/100000]\n",
      "Train Loss: 5.9625, Train Accuracy: 0.0769\n",
      "Train Precision (micro): 0.0769, Train Precision (macro): 0.0052\n",
      "Train Recall (micro): 0.0769, Train Recall (macro): 0.0096\n",
      "Train F1 (micro): 0.0769, Train F1 (macro): 0.0050\n",
      "\n",
      "Val Loss: 5.9242, Val Accuracy: 0.0778\n",
      "Val Precision (micro): 0.0778, Val Precision (macro): 0.0064\n",
      "Val Recall (micro): 0.0778, Val Recall (macro): 0.0143\n",
      "Val F1 (micro): 0.0778, Val F1 (macro): 0.0071\n",
      "--------------------------------------------------------------------------------\n"
     ]
    },
    {
     "name": "stderr",
     "output_type": "stream",
     "text": [
      " 17%|█▋        | 16798/100000 [09:48<28:25, 48.78it/s]  "
     ]
    },
    {
     "name": "stdout",
     "output_type": "stream",
     "text": [
      "Epoch [16800/100000]\n",
      "Train Loss: 5.9108, Train Accuracy: 0.0797\n",
      "Train Precision (micro): 0.0797, Train Precision (macro): 0.0055\n",
      "Train Recall (micro): 0.0797, Train Recall (macro): 0.0112\n",
      "Train F1 (micro): 0.0797, Train F1 (macro): 0.0060\n",
      "\n",
      "Val Loss: 5.9166, Val Accuracy: 0.0781\n",
      "Val Precision (micro): 0.0781, Val Precision (macro): 0.0061\n",
      "Val Recall (micro): 0.0781, Val Recall (macro): 0.0144\n",
      "Val F1 (micro): 0.0781, Val F1 (macro): 0.0070\n",
      "--------------------------------------------------------------------------------\n"
     ]
    },
    {
     "name": "stderr",
     "output_type": "stream",
     "text": [
      " 17%|█▋        | 16899/100000 [09:51<28:40, 48.29it/s]  "
     ]
    },
    {
     "name": "stdout",
     "output_type": "stream",
     "text": [
      "Epoch [16900/100000]\n",
      "Train Loss: 5.9206, Train Accuracy: 0.0772\n",
      "Train Precision (micro): 0.0772, Train Precision (macro): 0.0060\n",
      "Train Recall (micro): 0.0772, Train Recall (macro): 0.0111\n",
      "Train F1 (micro): 0.0772, Train F1 (macro): 0.0063\n",
      "\n",
      "Val Loss: 5.9250, Val Accuracy: 0.0769\n",
      "Val Precision (micro): 0.0769, Val Precision (macro): 0.0064\n",
      "Val Recall (micro): 0.0769, Val Recall (macro): 0.0137\n",
      "Val F1 (micro): 0.0769, Val F1 (macro): 0.0069\n",
      "--------------------------------------------------------------------------------\n"
     ]
    },
    {
     "name": "stderr",
     "output_type": "stream",
     "text": [
      " 17%|█▋        | 16998/100000 [09:55<29:07, 47.50it/s]  "
     ]
    },
    {
     "name": "stdout",
     "output_type": "stream",
     "text": [
      "Epoch [17000/100000]\n",
      "Train Loss: 5.8771, Train Accuracy: 0.0858\n",
      "Train Precision (micro): 0.0858, Train Precision (macro): 0.0063\n",
      "Train Recall (micro): 0.0858, Train Recall (macro): 0.0111\n",
      "Train F1 (micro): 0.0858, Train F1 (macro): 0.0065\n",
      "\n",
      "Val Loss: 5.9120, Val Accuracy: 0.0803\n",
      "Val Precision (micro): 0.0803, Val Precision (macro): 0.0070\n",
      "Val Recall (micro): 0.0803, Val Recall (macro): 0.0146\n",
      "Val F1 (micro): 0.0803, Val F1 (macro): 0.0074\n",
      "--------------------------------------------------------------------------------\n"
     ]
    },
    {
     "name": "stderr",
     "output_type": "stream",
     "text": [
      " 17%|█▋        | 17094/100000 [09:58<30:37, 45.11it/s]  "
     ]
    },
    {
     "name": "stdout",
     "output_type": "stream",
     "text": [
      "Epoch [17100/100000]\n",
      "Train Loss: 5.8846, Train Accuracy: 0.0773\n",
      "Train Precision (micro): 0.0773, Train Precision (macro): 0.0050\n",
      "Train Recall (micro): 0.0773, Train Recall (macro): 0.0106\n",
      "Train F1 (micro): 0.0773, Train F1 (macro): 0.0057\n",
      "\n",
      "Val Loss: 5.9132, Val Accuracy: 0.0791\n",
      "Val Precision (micro): 0.0791, Val Precision (macro): 0.0060\n",
      "Val Recall (micro): 0.0791, Val Recall (macro): 0.0140\n",
      "Val F1 (micro): 0.0791, Val F1 (macro): 0.0067\n",
      "--------------------------------------------------------------------------------\n"
     ]
    },
    {
     "name": "stderr",
     "output_type": "stream",
     "text": [
      " 17%|█▋        | 17197/100000 [10:02<29:04, 47.47it/s]  "
     ]
    },
    {
     "name": "stdout",
     "output_type": "stream",
     "text": [
      "Epoch [17200/100000]\n",
      "Train Loss: 5.9269, Train Accuracy: 0.0883\n",
      "Train Precision (micro): 0.0883, Train Precision (macro): 0.0054\n",
      "Train Recall (micro): 0.0883, Train Recall (macro): 0.0086\n",
      "Train F1 (micro): 0.0883, Train F1 (macro): 0.0049\n",
      "\n",
      "Val Loss: 5.9162, Val Accuracy: 0.0781\n",
      "Val Precision (micro): 0.0781, Val Precision (macro): 0.0059\n",
      "Val Recall (micro): 0.0781, Val Recall (macro): 0.0149\n",
      "Val F1 (micro): 0.0781, Val F1 (macro): 0.0070\n",
      "--------------------------------------------------------------------------------\n"
     ]
    },
    {
     "name": "stderr",
     "output_type": "stream",
     "text": [
      " 17%|█▋        | 17296/100000 [10:05<29:39, 46.49it/s]  "
     ]
    },
    {
     "name": "stdout",
     "output_type": "stream",
     "text": [
      "Epoch [17300/100000]\n",
      "Train Loss: 5.9424, Train Accuracy: 0.0756\n",
      "Train Precision (micro): 0.0756, Train Precision (macro): 0.0035\n",
      "Train Recall (micro): 0.0756, Train Recall (macro): 0.0081\n",
      "Train F1 (micro): 0.0756, Train F1 (macro): 0.0038\n",
      "\n",
      "Val Loss: 5.9149, Val Accuracy: 0.0750\n",
      "Val Precision (micro): 0.0750, Val Precision (macro): 0.0050\n",
      "Val Recall (micro): 0.0750, Val Recall (macro): 0.0130\n",
      "Val F1 (micro): 0.0750, Val F1 (macro): 0.0062\n",
      "--------------------------------------------------------------------------------\n"
     ]
    },
    {
     "name": "stderr",
     "output_type": "stream",
     "text": [
      " 17%|█▋        | 17399/100000 [10:08<27:45, 49.60it/s]  "
     ]
    },
    {
     "name": "stdout",
     "output_type": "stream",
     "text": [
      "Epoch [17400/100000]\n",
      "Train Loss: 6.0114, Train Accuracy: 0.0684\n",
      "Train Precision (micro): 0.0684, Train Precision (macro): 0.0038\n",
      "Train Recall (micro): 0.0684, Train Recall (macro): 0.0097\n",
      "Train F1 (micro): 0.0684, Train F1 (macro): 0.0044\n",
      "\n",
      "Val Loss: 5.9201, Val Accuracy: 0.0772\n",
      "Val Precision (micro): 0.0772, Val Precision (macro): 0.0055\n",
      "Val Recall (micro): 0.0772, Val Recall (macro): 0.0134\n",
      "Val F1 (micro): 0.0772, Val F1 (macro): 0.0064\n",
      "--------------------------------------------------------------------------------\n"
     ]
    },
    {
     "name": "stderr",
     "output_type": "stream",
     "text": [
      " 17%|█▋        | 17494/100000 [10:12<28:00, 49.11it/s]  "
     ]
    },
    {
     "name": "stdout",
     "output_type": "stream",
     "text": [
      "Epoch [17500/100000]\n",
      "Train Loss: 5.9362, Train Accuracy: 0.0816\n",
      "Train Precision (micro): 0.0816, Train Precision (macro): 0.0049\n",
      "Train Recall (micro): 0.0816, Train Recall (macro): 0.0088\n",
      "Train F1 (micro): 0.0816, Train F1 (macro): 0.0050\n",
      "\n",
      "Val Loss: 5.9144, Val Accuracy: 0.0781\n",
      "Val Precision (micro): 0.0781, Val Precision (macro): 0.0057\n",
      "Val Recall (micro): 0.0781, Val Recall (macro): 0.0142\n",
      "Val F1 (micro): 0.0781, Val F1 (macro): 0.0070\n",
      "--------------------------------------------------------------------------------\n"
     ]
    },
    {
     "name": "stderr",
     "output_type": "stream",
     "text": [
      " 18%|█▊        | 17598/100000 [10:16<27:34, 49.80it/s]  "
     ]
    },
    {
     "name": "stdout",
     "output_type": "stream",
     "text": [
      "Epoch [17600/100000]\n",
      "Train Loss: 5.8771, Train Accuracy: 0.0794\n",
      "Train Precision (micro): 0.0794, Train Precision (macro): 0.0047\n",
      "Train Recall (micro): 0.0794, Train Recall (macro): 0.0096\n",
      "Train F1 (micro): 0.0794, Train F1 (macro): 0.0050\n",
      "\n",
      "Val Loss: 5.9194, Val Accuracy: 0.0797\n",
      "Val Precision (micro): 0.0797, Val Precision (macro): 0.0061\n",
      "Val Recall (micro): 0.0797, Val Recall (macro): 0.0139\n",
      "Val F1 (micro): 0.0797, Val F1 (macro): 0.0070\n",
      "--------------------------------------------------------------------------------\n"
     ]
    },
    {
     "name": "stderr",
     "output_type": "stream",
     "text": [
      " 18%|█▊        | 17699/100000 [10:19<31:31, 43.52it/s]  "
     ]
    },
    {
     "name": "stdout",
     "output_type": "stream",
     "text": [
      "Epoch [17700/100000]\n",
      "Train Loss: 5.8926, Train Accuracy: 0.0830\n",
      "Train Precision (micro): 0.0830, Train Precision (macro): 0.0047\n",
      "Train Recall (micro): 0.0830, Train Recall (macro): 0.0097\n",
      "Train F1 (micro): 0.0830, Train F1 (macro): 0.0048\n",
      "\n",
      "Val Loss: 5.9057, Val Accuracy: 0.0806\n",
      "Val Precision (micro): 0.0806, Val Precision (macro): 0.0056\n",
      "Val Recall (micro): 0.0806, Val Recall (macro): 0.0139\n",
      "Val F1 (micro): 0.0806, Val F1 (macro): 0.0067\n",
      "--------------------------------------------------------------------------------\n"
     ]
    },
    {
     "name": "stderr",
     "output_type": "stream",
     "text": [
      " 18%|█▊        | 17795/100000 [10:23<31:09, 43.97it/s]  "
     ]
    },
    {
     "name": "stdout",
     "output_type": "stream",
     "text": [
      "Epoch [17800/100000]\n",
      "Train Loss: 5.9351, Train Accuracy: 0.0822\n",
      "Train Precision (micro): 0.0822, Train Precision (macro): 0.0050\n",
      "Train Recall (micro): 0.0822, Train Recall (macro): 0.0095\n",
      "Train F1 (micro): 0.0822, Train F1 (macro): 0.0052\n",
      "\n",
      "Val Loss: 5.9143, Val Accuracy: 0.0788\n",
      "Val Precision (micro): 0.0788, Val Precision (macro): 0.0054\n",
      "Val Recall (micro): 0.0788, Val Recall (macro): 0.0140\n",
      "Val F1 (micro): 0.0788, Val F1 (macro): 0.0065\n",
      "--------------------------------------------------------------------------------\n"
     ]
    },
    {
     "name": "stderr",
     "output_type": "stream",
     "text": [
      " 18%|█▊        | 17895/100000 [10:26<27:24, 49.91it/s]  "
     ]
    },
    {
     "name": "stdout",
     "output_type": "stream",
     "text": [
      "Epoch [17900/100000]\n",
      "Train Loss: 5.9101, Train Accuracy: 0.0788\n",
      "Train Precision (micro): 0.0788, Train Precision (macro): 0.0038\n",
      "Train Recall (micro): 0.0788, Train Recall (macro): 0.0084\n",
      "Train F1 (micro): 0.0788, Train F1 (macro): 0.0043\n",
      "\n",
      "Val Loss: 5.9070, Val Accuracy: 0.0800\n",
      "Val Precision (micro): 0.0800, Val Precision (macro): 0.0053\n",
      "Val Recall (micro): 0.0800, Val Recall (macro): 0.0139\n",
      "Val F1 (micro): 0.0800, Val F1 (macro): 0.0065\n",
      "--------------------------------------------------------------------------------\n"
     ]
    },
    {
     "name": "stderr",
     "output_type": "stream",
     "text": [
      " 18%|█▊        | 17998/100000 [10:30<28:13, 48.43it/s]  "
     ]
    },
    {
     "name": "stdout",
     "output_type": "stream",
     "text": [
      "Epoch [18000/100000]\n",
      "Train Loss: 5.9005, Train Accuracy: 0.0827\n",
      "Train Precision (micro): 0.0827, Train Precision (macro): 0.0041\n",
      "Train Recall (micro): 0.0827, Train Recall (macro): 0.0079\n",
      "Train F1 (micro): 0.0827, Train F1 (macro): 0.0043\n",
      "\n",
      "Val Loss: 5.9088, Val Accuracy: 0.0775\n",
      "Val Precision (micro): 0.0775, Val Precision (macro): 0.0050\n",
      "Val Recall (micro): 0.0775, Val Recall (macro): 0.0137\n",
      "Val F1 (micro): 0.0775, Val F1 (macro): 0.0062\n",
      "--------------------------------------------------------------------------------\n"
     ]
    },
    {
     "name": "stderr",
     "output_type": "stream",
     "text": [
      " 18%|█▊        | 18094/100000 [10:34<27:54, 48.91it/s]  "
     ]
    },
    {
     "name": "stdout",
     "output_type": "stream",
     "text": [
      "Epoch [18100/100000]\n",
      "Train Loss: 5.9049, Train Accuracy: 0.0820\n",
      "Train Precision (micro): 0.0820, Train Precision (macro): 0.0053\n",
      "Train Recall (micro): 0.0820, Train Recall (macro): 0.0112\n",
      "Train F1 (micro): 0.0820, Train F1 (macro): 0.0062\n",
      "\n",
      "Val Loss: 5.9032, Val Accuracy: 0.0791\n",
      "Val Precision (micro): 0.0791, Val Precision (macro): 0.0055\n",
      "Val Recall (micro): 0.0791, Val Recall (macro): 0.0140\n",
      "Val F1 (micro): 0.0791, Val F1 (macro): 0.0066\n",
      "--------------------------------------------------------------------------------\n"
     ]
    },
    {
     "name": "stderr",
     "output_type": "stream",
     "text": [
      " 18%|█▊        | 18194/100000 [10:37<27:22, 49.81it/s]  "
     ]
    },
    {
     "name": "stdout",
     "output_type": "stream",
     "text": [
      "Epoch [18200/100000]\n",
      "Train Loss: 5.9280, Train Accuracy: 0.0816\n",
      "Train Precision (micro): 0.0816, Train Precision (macro): 0.0049\n",
      "Train Recall (micro): 0.0816, Train Recall (macro): 0.0108\n",
      "Train F1 (micro): 0.0816, Train F1 (macro): 0.0057\n",
      "\n",
      "Val Loss: 5.9012, Val Accuracy: 0.0791\n",
      "Val Precision (micro): 0.0791, Val Precision (macro): 0.0054\n",
      "Val Recall (micro): 0.0791, Val Recall (macro): 0.0140\n",
      "Val F1 (micro): 0.0791, Val F1 (macro): 0.0066\n",
      "--------------------------------------------------------------------------------\n"
     ]
    },
    {
     "name": "stderr",
     "output_type": "stream",
     "text": [
      " 18%|█▊        | 18294/100000 [10:41<28:01, 48.60it/s]  "
     ]
    },
    {
     "name": "stdout",
     "output_type": "stream",
     "text": [
      "Epoch [18300/100000]\n",
      "Train Loss: 5.9085, Train Accuracy: 0.0766\n",
      "Train Precision (micro): 0.0766, Train Precision (macro): 0.0057\n",
      "Train Recall (micro): 0.0766, Train Recall (macro): 0.0104\n",
      "Train F1 (micro): 0.0766, Train F1 (macro): 0.0055\n",
      "\n",
      "Val Loss: 5.9039, Val Accuracy: 0.0800\n",
      "Val Precision (micro): 0.0800, Val Precision (macro): 0.0054\n",
      "Val Recall (micro): 0.0800, Val Recall (macro): 0.0140\n",
      "Val F1 (micro): 0.0800, Val F1 (macro): 0.0065\n",
      "--------------------------------------------------------------------------------\n"
     ]
    },
    {
     "name": "stderr",
     "output_type": "stream",
     "text": [
      " 18%|█▊        | 18396/100000 [10:45<27:57, 48.64it/s]  "
     ]
    },
    {
     "name": "stdout",
     "output_type": "stream",
     "text": [
      "Epoch [18400/100000]\n",
      "Train Loss: 5.8910, Train Accuracy: 0.0797\n",
      "Train Precision (micro): 0.0797, Train Precision (macro): 0.0057\n",
      "Train Recall (micro): 0.0797, Train Recall (macro): 0.0098\n",
      "Train F1 (micro): 0.0797, Train F1 (macro): 0.0058\n",
      "\n",
      "Val Loss: 5.9011, Val Accuracy: 0.0784\n",
      "Val Precision (micro): 0.0784, Val Precision (macro): 0.0054\n",
      "Val Recall (micro): 0.0784, Val Recall (macro): 0.0144\n",
      "Val F1 (micro): 0.0784, Val F1 (macro): 0.0068\n",
      "--------------------------------------------------------------------------------\n"
     ]
    },
    {
     "name": "stderr",
     "output_type": "stream",
     "text": [
      " 18%|█▊        | 18494/100000 [10:48<29:05, 46.71it/s]  "
     ]
    },
    {
     "name": "stdout",
     "output_type": "stream",
     "text": [
      "Epoch [18500/100000]\n",
      "Train Loss: 5.9316, Train Accuracy: 0.0788\n",
      "Train Precision (micro): 0.0788, Train Precision (macro): 0.0056\n",
      "Train Recall (micro): 0.0788, Train Recall (macro): 0.0100\n",
      "Train F1 (micro): 0.0788, Train F1 (macro): 0.0055\n",
      "\n",
      "Val Loss: 5.9002, Val Accuracy: 0.0819\n",
      "Val Precision (micro): 0.0819, Val Precision (macro): 0.0057\n",
      "Val Recall (micro): 0.0819, Val Recall (macro): 0.0152\n",
      "Val F1 (micro): 0.0819, Val F1 (macro): 0.0069\n",
      "--------------------------------------------------------------------------------\n"
     ]
    },
    {
     "name": "stderr",
     "output_type": "stream",
     "text": [
      " 19%|█▊        | 18596/100000 [10:51<28:33, 47.51it/s]  "
     ]
    },
    {
     "name": "stdout",
     "output_type": "stream",
     "text": [
      "Epoch [18600/100000]\n",
      "Train Loss: 5.9553, Train Accuracy: 0.0828\n",
      "Train Precision (micro): 0.0828, Train Precision (macro): 0.0056\n",
      "Train Recall (micro): 0.0828, Train Recall (macro): 0.0093\n",
      "Train F1 (micro): 0.0828, Train F1 (macro): 0.0052\n",
      "\n",
      "Val Loss: 5.9000, Val Accuracy: 0.0800\n",
      "Val Precision (micro): 0.0800, Val Precision (macro): 0.0066\n",
      "Val Recall (micro): 0.0800, Val Recall (macro): 0.0156\n",
      "Val F1 (micro): 0.0800, Val F1 (macro): 0.0078\n",
      "--------------------------------------------------------------------------------\n"
     ]
    },
    {
     "name": "stderr",
     "output_type": "stream",
     "text": [
      " 19%|█▊        | 18699/100000 [10:55<27:37, 49.06it/s]  "
     ]
    },
    {
     "name": "stdout",
     "output_type": "stream",
     "text": [
      "Epoch [18700/100000]\n",
      "Train Loss: 5.8859, Train Accuracy: 0.0766\n",
      "Train Precision (micro): 0.0766, Train Precision (macro): 0.0038\n",
      "Train Recall (micro): 0.0766, Train Recall (macro): 0.0085\n",
      "Train F1 (micro): 0.0766, Train F1 (macro): 0.0042\n",
      "\n",
      "Val Loss: 5.9041, Val Accuracy: 0.0806\n",
      "Val Precision (micro): 0.0806, Val Precision (macro): 0.0061\n",
      "Val Recall (micro): 0.0806, Val Recall (macro): 0.0157\n",
      "Val F1 (micro): 0.0806, Val F1 (macro): 0.0075\n",
      "--------------------------------------------------------------------------------\n"
     ]
    },
    {
     "name": "stderr",
     "output_type": "stream",
     "text": [
      " 19%|█▉        | 18797/100000 [10:58<30:03, 45.03it/s]  "
     ]
    },
    {
     "name": "stdout",
     "output_type": "stream",
     "text": [
      "Epoch [18800/100000]\n",
      "Train Loss: 5.9439, Train Accuracy: 0.0817\n",
      "Train Precision (micro): 0.0817, Train Precision (macro): 0.0053\n",
      "Train Recall (micro): 0.0817, Train Recall (macro): 0.0083\n",
      "Train F1 (micro): 0.0817, Train F1 (macro): 0.0047\n",
      "\n",
      "Val Loss: 5.9036, Val Accuracy: 0.0800\n",
      "Val Precision (micro): 0.0800, Val Precision (macro): 0.0060\n",
      "Val Recall (micro): 0.0800, Val Recall (macro): 0.0147\n",
      "Val F1 (micro): 0.0800, Val F1 (macro): 0.0069\n",
      "--------------------------------------------------------------------------------\n"
     ]
    },
    {
     "name": "stderr",
     "output_type": "stream",
     "text": [
      " 19%|█▉        | 18896/100000 [11:02<28:09, 48.02it/s]  "
     ]
    },
    {
     "name": "stdout",
     "output_type": "stream",
     "text": [
      "Epoch [18900/100000]\n",
      "Train Loss: 5.8343, Train Accuracy: 0.0859\n",
      "Train Precision (micro): 0.0859, Train Precision (macro): 0.0044\n",
      "Train Recall (micro): 0.0859, Train Recall (macro): 0.0097\n",
      "Train F1 (micro): 0.0859, Train F1 (macro): 0.0050\n",
      "\n",
      "Val Loss: 5.9003, Val Accuracy: 0.0794\n",
      "Val Precision (micro): 0.0794, Val Precision (macro): 0.0056\n",
      "Val Recall (micro): 0.0794, Val Recall (macro): 0.0145\n",
      "Val F1 (micro): 0.0794, Val F1 (macro): 0.0067\n",
      "--------------------------------------------------------------------------------\n"
     ]
    },
    {
     "name": "stderr",
     "output_type": "stream",
     "text": [
      " 19%|█▉        | 18995/100000 [11:05<27:32, 49.02it/s]  "
     ]
    },
    {
     "name": "stdout",
     "output_type": "stream",
     "text": [
      "Epoch [19000/100000]\n",
      "Train Loss: 5.9106, Train Accuracy: 0.0806\n",
      "Train Precision (micro): 0.0806, Train Precision (macro): 0.0064\n",
      "Train Recall (micro): 0.0806, Train Recall (macro): 0.0110\n",
      "Train F1 (micro): 0.0806, Train F1 (macro): 0.0065\n",
      "\n",
      "Val Loss: 5.8975, Val Accuracy: 0.0822\n",
      "Val Precision (micro): 0.0822, Val Precision (macro): 0.0067\n",
      "Val Recall (micro): 0.0822, Val Recall (macro): 0.0152\n",
      "Val F1 (micro): 0.0822, Val F1 (macro): 0.0073\n",
      "--------------------------------------------------------------------------------\n"
     ]
    },
    {
     "name": "stderr",
     "output_type": "stream",
     "text": [
      " 19%|█▉        | 19094/100000 [11:09<30:08, 44.74it/s]  "
     ]
    },
    {
     "name": "stdout",
     "output_type": "stream",
     "text": [
      "Epoch [19100/100000]\n",
      "Train Loss: 5.8830, Train Accuracy: 0.0833\n",
      "Train Precision (micro): 0.0833, Train Precision (macro): 0.0054\n",
      "Train Recall (micro): 0.0833, Train Recall (macro): 0.0101\n",
      "Train F1 (micro): 0.0833, Train F1 (macro): 0.0057\n",
      "\n",
      "Val Loss: 5.8968, Val Accuracy: 0.0828\n",
      "Val Precision (micro): 0.0828, Val Precision (macro): 0.0073\n",
      "Val Recall (micro): 0.0828, Val Recall (macro): 0.0163\n",
      "Val F1 (micro): 0.0828, Val F1 (macro): 0.0080\n",
      "--------------------------------------------------------------------------------\n"
     ]
    },
    {
     "name": "stderr",
     "output_type": "stream",
     "text": [
      " 19%|█▉        | 19198/100000 [11:12<26:54, 50.03it/s]  "
     ]
    },
    {
     "name": "stdout",
     "output_type": "stream",
     "text": [
      "Epoch [19200/100000]\n",
      "Train Loss: 5.8509, Train Accuracy: 0.0764\n",
      "Train Precision (micro): 0.0764, Train Precision (macro): 0.0043\n",
      "Train Recall (micro): 0.0764, Train Recall (macro): 0.0093\n",
      "Train F1 (micro): 0.0764, Train F1 (macro): 0.0049\n",
      "\n",
      "Val Loss: 5.8977, Val Accuracy: 0.0809\n",
      "Val Precision (micro): 0.0809, Val Precision (macro): 0.0058\n",
      "Val Recall (micro): 0.0809, Val Recall (macro): 0.0152\n",
      "Val F1 (micro): 0.0809, Val F1 (macro): 0.0069\n",
      "--------------------------------------------------------------------------------\n"
     ]
    },
    {
     "name": "stderr",
     "output_type": "stream",
     "text": [
      " 19%|█▉        | 19297/100000 [11:15<27:55, 48.17it/s]  "
     ]
    },
    {
     "name": "stdout",
     "output_type": "stream",
     "text": [
      "Epoch [19300/100000]\n",
      "Train Loss: 5.9308, Train Accuracy: 0.0797\n",
      "Train Precision (micro): 0.0797, Train Precision (macro): 0.0041\n",
      "Train Recall (micro): 0.0797, Train Recall (macro): 0.0089\n",
      "Train F1 (micro): 0.0797, Train F1 (macro): 0.0046\n",
      "\n",
      "Val Loss: 5.8990, Val Accuracy: 0.0800\n",
      "Val Precision (micro): 0.0800, Val Precision (macro): 0.0057\n",
      "Val Recall (micro): 0.0800, Val Recall (macro): 0.0151\n",
      "Val F1 (micro): 0.0800, Val F1 (macro): 0.0067\n",
      "--------------------------------------------------------------------------------\n"
     ]
    },
    {
     "name": "stderr",
     "output_type": "stream",
     "text": [
      " 19%|█▉        | 19396/100000 [11:19<31:22, 42.82it/s]  "
     ]
    },
    {
     "name": "stdout",
     "output_type": "stream",
     "text": [
      "Epoch [19400/100000]\n",
      "Train Loss: 5.9105, Train Accuracy: 0.0756\n",
      "Train Precision (micro): 0.0756, Train Precision (macro): 0.0051\n",
      "Train Recall (micro): 0.0756, Train Recall (macro): 0.0088\n",
      "Train F1 (micro): 0.0756, Train F1 (macro): 0.0048\n",
      "\n",
      "Val Loss: 5.8978, Val Accuracy: 0.0800\n",
      "Val Precision (micro): 0.0800, Val Precision (macro): 0.0057\n",
      "Val Recall (micro): 0.0800, Val Recall (macro): 0.0150\n",
      "Val F1 (micro): 0.0800, Val F1 (macro): 0.0068\n",
      "--------------------------------------------------------------------------------\n"
     ]
    },
    {
     "name": "stderr",
     "output_type": "stream",
     "text": [
      " 19%|█▉        | 19495/100000 [11:23<27:51, 48.16it/s]  "
     ]
    },
    {
     "name": "stdout",
     "output_type": "stream",
     "text": [
      "Epoch [19500/100000]\n",
      "Train Loss: 5.8196, Train Accuracy: 0.0856\n",
      "Train Precision (micro): 0.0856, Train Precision (macro): 0.0055\n",
      "Train Recall (micro): 0.0856, Train Recall (macro): 0.0100\n",
      "Train F1 (micro): 0.0856, Train F1 (macro): 0.0052\n",
      "\n",
      "Val Loss: 5.8969, Val Accuracy: 0.0791\n",
      "Val Precision (micro): 0.0791, Val Precision (macro): 0.0055\n",
      "Val Recall (micro): 0.0791, Val Recall (macro): 0.0149\n",
      "Val F1 (micro): 0.0791, Val F1 (macro): 0.0067\n",
      "--------------------------------------------------------------------------------\n"
     ]
    },
    {
     "name": "stderr",
     "output_type": "stream",
     "text": [
      " 20%|█▉        | 19597/100000 [11:26<26:36, 50.37it/s]  "
     ]
    },
    {
     "name": "stdout",
     "output_type": "stream",
     "text": [
      "Epoch [19600/100000]\n",
      "Train Loss: 5.8323, Train Accuracy: 0.0831\n",
      "Train Precision (micro): 0.0831, Train Precision (macro): 0.0077\n",
      "Train Recall (micro): 0.0831, Train Recall (macro): 0.0116\n",
      "Train F1 (micro): 0.0831, Train F1 (macro): 0.0068\n",
      "\n",
      "Val Loss: 5.8971, Val Accuracy: 0.0797\n",
      "Val Precision (micro): 0.0797, Val Precision (macro): 0.0057\n",
      "Val Recall (micro): 0.0797, Val Recall (macro): 0.0150\n",
      "Val F1 (micro): 0.0797, Val F1 (macro): 0.0069\n",
      "--------------------------------------------------------------------------------\n"
     ]
    },
    {
     "name": "stderr",
     "output_type": "stream",
     "text": [
      " 20%|█▉        | 19696/100000 [11:30<27:01, 49.53it/s]  "
     ]
    },
    {
     "name": "stdout",
     "output_type": "stream",
     "text": [
      "Epoch [19700/100000]\n",
      "Train Loss: 5.8940, Train Accuracy: 0.0792\n",
      "Train Precision (micro): 0.0792, Train Precision (macro): 0.0075\n",
      "Train Recall (micro): 0.0792, Train Recall (macro): 0.0126\n",
      "Train F1 (micro): 0.0792, Train F1 (macro): 0.0073\n",
      "\n",
      "Val Loss: 5.8973, Val Accuracy: 0.0797\n",
      "Val Precision (micro): 0.0797, Val Precision (macro): 0.0056\n",
      "Val Recall (micro): 0.0797, Val Recall (macro): 0.0150\n",
      "Val F1 (micro): 0.0797, Val F1 (macro): 0.0068\n",
      "--------------------------------------------------------------------------------\n"
     ]
    },
    {
     "name": "stderr",
     "output_type": "stream",
     "text": [
      " 20%|█▉        | 19799/100000 [11:33<29:02, 46.02it/s]  "
     ]
    },
    {
     "name": "stdout",
     "output_type": "stream",
     "text": [
      "Epoch [19800/100000]\n",
      "Train Loss: 5.9240, Train Accuracy: 0.0781\n",
      "Train Precision (micro): 0.0781, Train Precision (macro): 0.0054\n",
      "Train Recall (micro): 0.0781, Train Recall (macro): 0.0099\n",
      "Train F1 (micro): 0.0781, Train F1 (macro): 0.0054\n",
      "\n",
      "Val Loss: 5.8976, Val Accuracy: 0.0806\n",
      "Val Precision (micro): 0.0806, Val Precision (macro): 0.0066\n",
      "Val Recall (micro): 0.0806, Val Recall (macro): 0.0152\n",
      "Val F1 (micro): 0.0806, Val F1 (macro): 0.0070\n",
      "--------------------------------------------------------------------------------\n"
     ]
    },
    {
     "name": "stderr",
     "output_type": "stream",
     "text": [
      " 20%|█▉        | 19895/100000 [11:37<27:16, 48.94it/s]  "
     ]
    },
    {
     "name": "stdout",
     "output_type": "stream",
     "text": [
      "Epoch [19900/100000]\n",
      "Train Loss: 5.8997, Train Accuracy: 0.0825\n",
      "Train Precision (micro): 0.0825, Train Precision (macro): 0.0075\n",
      "Train Recall (micro): 0.0825, Train Recall (macro): 0.0118\n",
      "Train F1 (micro): 0.0825, Train F1 (macro): 0.0070\n",
      "\n",
      "Val Loss: 5.8963, Val Accuracy: 0.0794\n",
      "Val Precision (micro): 0.0794, Val Precision (macro): 0.0057\n",
      "Val Recall (micro): 0.0794, Val Recall (macro): 0.0149\n",
      "Val F1 (micro): 0.0794, Val F1 (macro): 0.0068\n",
      "--------------------------------------------------------------------------------\n"
     ]
    },
    {
     "name": "stderr",
     "output_type": "stream",
     "text": [
      " 20%|█▉        | 19999/100000 [11:40<30:57, 43.06it/s]  "
     ]
    },
    {
     "name": "stdout",
     "output_type": "stream",
     "text": [
      "Epoch [20000/100000]\n",
      "Train Loss: 5.9139, Train Accuracy: 0.0811\n",
      "Train Precision (micro): 0.0811, Train Precision (macro): 0.0034\n",
      "Train Recall (micro): 0.0811, Train Recall (macro): 0.0086\n",
      "Train F1 (micro): 0.0811, Train F1 (macro): 0.0040\n",
      "\n",
      "Val Loss: 5.8958, Val Accuracy: 0.0797\n",
      "Val Precision (micro): 0.0797, Val Precision (macro): 0.0057\n",
      "Val Recall (micro): 0.0797, Val Recall (macro): 0.0149\n",
      "Val F1 (micro): 0.0797, Val F1 (macro): 0.0067\n",
      "--------------------------------------------------------------------------------\n"
     ]
    },
    {
     "name": "stderr",
     "output_type": "stream",
     "text": [
      " 20%|██        | 20095/100000 [11:44<27:02, 49.25it/s]  "
     ]
    },
    {
     "name": "stdout",
     "output_type": "stream",
     "text": [
      "Epoch [20100/100000]\n",
      "Train Loss: 5.8783, Train Accuracy: 0.0814\n",
      "Train Precision (micro): 0.0814, Train Precision (macro): 0.0046\n",
      "Train Recall (micro): 0.0814, Train Recall (macro): 0.0088\n",
      "Train F1 (micro): 0.0814, Train F1 (macro): 0.0045\n",
      "\n",
      "Val Loss: 5.8953, Val Accuracy: 0.0794\n",
      "Val Precision (micro): 0.0794, Val Precision (macro): 0.0057\n",
      "Val Recall (micro): 0.0794, Val Recall (macro): 0.0149\n",
      "Val F1 (micro): 0.0794, Val F1 (macro): 0.0068\n",
      "--------------------------------------------------------------------------------\n"
     ]
    },
    {
     "name": "stderr",
     "output_type": "stream",
     "text": [
      " 20%|██        | 20198/100000 [11:48<36:05, 36.85it/s]  "
     ]
    },
    {
     "name": "stdout",
     "output_type": "stream",
     "text": [
      "Epoch [20200/100000]\n",
      "Train Loss: 5.8579, Train Accuracy: 0.0850\n",
      "Train Precision (micro): 0.0850, Train Precision (macro): 0.0071\n",
      "Train Recall (micro): 0.0850, Train Recall (macro): 0.0110\n",
      "Train F1 (micro): 0.0850, Train F1 (macro): 0.0059\n",
      "\n",
      "Val Loss: 5.8957, Val Accuracy: 0.0800\n",
      "Val Precision (micro): 0.0800, Val Precision (macro): 0.0057\n",
      "Val Recall (micro): 0.0800, Val Recall (macro): 0.0151\n",
      "Val F1 (micro): 0.0800, Val F1 (macro): 0.0068\n",
      "--------------------------------------------------------------------------------\n"
     ]
    },
    {
     "name": "stderr",
     "output_type": "stream",
     "text": [
      " 20%|██        | 20298/100000 [11:52<29:36, 44.87it/s]  "
     ]
    },
    {
     "name": "stdout",
     "output_type": "stream",
     "text": [
      "Epoch [20300/100000]\n",
      "Train Loss: 5.8785, Train Accuracy: 0.0813\n",
      "Train Precision (micro): 0.0813, Train Precision (macro): 0.0040\n",
      "Train Recall (micro): 0.0813, Train Recall (macro): 0.0090\n",
      "Train F1 (micro): 0.0813, Train F1 (macro): 0.0046\n",
      "\n",
      "Val Loss: 5.8957, Val Accuracy: 0.0803\n",
      "Val Precision (micro): 0.0803, Val Precision (macro): 0.0057\n",
      "Val Recall (micro): 0.0803, Val Recall (macro): 0.0150\n",
      "Val F1 (micro): 0.0803, Val F1 (macro): 0.0068\n",
      "--------------------------------------------------------------------------------\n"
     ]
    },
    {
     "name": "stderr",
     "output_type": "stream",
     "text": [
      " 20%|██        | 20397/100000 [11:55<27:45, 47.79it/s]  "
     ]
    },
    {
     "name": "stdout",
     "output_type": "stream",
     "text": [
      "Epoch [20400/100000]\n",
      "Train Loss: 5.8756, Train Accuracy: 0.0789\n",
      "Train Precision (micro): 0.0789, Train Precision (macro): 0.0049\n",
      "Train Recall (micro): 0.0789, Train Recall (macro): 0.0085\n",
      "Train F1 (micro): 0.0789, Train F1 (macro): 0.0045\n",
      "\n",
      "Val Loss: 5.8956, Val Accuracy: 0.0806\n",
      "Val Precision (micro): 0.0806, Val Precision (macro): 0.0058\n",
      "Val Recall (micro): 0.0806, Val Recall (macro): 0.0151\n",
      "Val F1 (micro): 0.0806, Val F1 (macro): 0.0069\n",
      "--------------------------------------------------------------------------------\n"
     ]
    },
    {
     "name": "stderr",
     "output_type": "stream",
     "text": [
      " 20%|██        | 20495/100000 [11:59<26:57, 49.16it/s]  "
     ]
    },
    {
     "name": "stdout",
     "output_type": "stream",
     "text": [
      "Epoch [20500/100000]\n",
      "Train Loss: 5.9468, Train Accuracy: 0.0781\n",
      "Train Precision (micro): 0.0781, Train Precision (macro): 0.0052\n",
      "Train Recall (micro): 0.0781, Train Recall (macro): 0.0098\n",
      "Train F1 (micro): 0.0781, Train F1 (macro): 0.0055\n",
      "\n",
      "Val Loss: 5.8956, Val Accuracy: 0.0803\n",
      "Val Precision (micro): 0.0803, Val Precision (macro): 0.0057\n",
      "Val Recall (micro): 0.0803, Val Recall (macro): 0.0150\n",
      "Val F1 (micro): 0.0803, Val F1 (macro): 0.0068\n",
      "--------------------------------------------------------------------------------\n"
     ]
    },
    {
     "name": "stderr",
     "output_type": "stream",
     "text": [
      " 21%|██        | 20594/100000 [12:02<28:07, 47.06it/s]  "
     ]
    },
    {
     "name": "stdout",
     "output_type": "stream",
     "text": [
      "Epoch [20600/100000]\n",
      "Train Loss: 5.9192, Train Accuracy: 0.0791\n",
      "Train Precision (micro): 0.0791, Train Precision (macro): 0.0040\n",
      "Train Recall (micro): 0.0791, Train Recall (macro): 0.0086\n",
      "Train F1 (micro): 0.0791, Train F1 (macro): 0.0042\n",
      "\n",
      "Val Loss: 5.9452, Val Accuracy: 0.0797\n",
      "Val Precision (micro): 0.0797, Val Precision (macro): 0.0057\n",
      "Val Recall (micro): 0.0797, Val Recall (macro): 0.0141\n",
      "Val F1 (micro): 0.0797, Val F1 (macro): 0.0068\n",
      "--------------------------------------------------------------------------------\n"
     ]
    },
    {
     "name": "stderr",
     "output_type": "stream",
     "text": [
      " 21%|██        | 20699/100000 [12:05<26:28, 49.93it/s]  "
     ]
    },
    {
     "name": "stdout",
     "output_type": "stream",
     "text": [
      "Epoch [20700/100000]\n",
      "Train Loss: 5.9278, Train Accuracy: 0.0794\n",
      "Train Precision (micro): 0.0794, Train Precision (macro): 0.0050\n",
      "Train Recall (micro): 0.0794, Train Recall (macro): 0.0098\n",
      "Train F1 (micro): 0.0794, Train F1 (macro): 0.0050\n",
      "\n",
      "Val Loss: 5.9336, Val Accuracy: 0.0788\n",
      "Val Precision (micro): 0.0788, Val Precision (macro): 0.0072\n",
      "Val Recall (micro): 0.0788, Val Recall (macro): 0.0150\n",
      "Val F1 (micro): 0.0788, Val F1 (macro): 0.0081\n",
      "--------------------------------------------------------------------------------\n"
     ]
    },
    {
     "name": "stderr",
     "output_type": "stream",
     "text": [
      " 21%|██        | 20795/100000 [12:09<27:46, 47.52it/s]  "
     ]
    },
    {
     "name": "stdout",
     "output_type": "stream",
     "text": [
      "Epoch [20800/100000]\n",
      "Train Loss: 5.9400, Train Accuracy: 0.0769\n",
      "Train Precision (micro): 0.0769, Train Precision (macro): 0.0042\n",
      "Train Recall (micro): 0.0769, Train Recall (macro): 0.0086\n",
      "Train F1 (micro): 0.0769, Train F1 (macro): 0.0043\n",
      "\n",
      "Val Loss: 5.9620, Val Accuracy: 0.0719\n",
      "Val Precision (micro): 0.0719, Val Precision (macro): 0.0045\n",
      "Val Recall (micro): 0.0719, Val Recall (macro): 0.0125\n",
      "Val F1 (micro): 0.0719, Val F1 (macro): 0.0057\n",
      "--------------------------------------------------------------------------------\n"
     ]
    },
    {
     "name": "stderr",
     "output_type": "stream",
     "text": [
      " 21%|██        | 20897/100000 [12:13<27:19, 48.26it/s]  "
     ]
    },
    {
     "name": "stdout",
     "output_type": "stream",
     "text": [
      "Epoch [20900/100000]\n",
      "Train Loss: 5.9417, Train Accuracy: 0.0798\n",
      "Train Precision (micro): 0.0798, Train Precision (macro): 0.0053\n",
      "Train Recall (micro): 0.0798, Train Recall (macro): 0.0094\n",
      "Train F1 (micro): 0.0798, Train F1 (macro): 0.0052\n",
      "\n",
      "Val Loss: 5.9544, Val Accuracy: 0.0734\n",
      "Val Precision (micro): 0.0734, Val Precision (macro): 0.0057\n",
      "Val Recall (micro): 0.0734, Val Recall (macro): 0.0128\n",
      "Val F1 (micro): 0.0734, Val F1 (macro): 0.0065\n",
      "--------------------------------------------------------------------------------\n"
     ]
    },
    {
     "name": "stderr",
     "output_type": "stream",
     "text": [
      " 21%|██        | 20995/100000 [12:16<27:25, 48.01it/s]  "
     ]
    },
    {
     "name": "stdout",
     "output_type": "stream",
     "text": [
      "Epoch [21000/100000]\n",
      "Train Loss: 5.9755, Train Accuracy: 0.0788\n",
      "Train Precision (micro): 0.0788, Train Precision (macro): 0.0051\n",
      "Train Recall (micro): 0.0788, Train Recall (macro): 0.0085\n",
      "Train F1 (micro): 0.0788, Train F1 (macro): 0.0043\n",
      "\n",
      "Val Loss: 5.9333, Val Accuracy: 0.0756\n",
      "Val Precision (micro): 0.0756, Val Precision (macro): 0.0037\n",
      "Val Recall (micro): 0.0756, Val Recall (macro): 0.0130\n",
      "Val F1 (micro): 0.0756, Val F1 (macro): 0.0051\n",
      "--------------------------------------------------------------------------------\n"
     ]
    },
    {
     "name": "stderr",
     "output_type": "stream",
     "text": [
      " 21%|██        | 21099/100000 [12:19<26:38, 49.35it/s]  "
     ]
    },
    {
     "name": "stdout",
     "output_type": "stream",
     "text": [
      "Epoch [21100/100000]\n",
      "Train Loss: 5.8990, Train Accuracy: 0.0819\n",
      "Train Precision (micro): 0.0819, Train Precision (macro): 0.0047\n",
      "Train Recall (micro): 0.0819, Train Recall (macro): 0.0100\n",
      "Train F1 (micro): 0.0819, Train F1 (macro): 0.0047\n",
      "\n",
      "Val Loss: 5.9349, Val Accuracy: 0.0778\n",
      "Val Precision (micro): 0.0778, Val Precision (macro): 0.0059\n",
      "Val Recall (micro): 0.0778, Val Recall (macro): 0.0152\n",
      "Val F1 (micro): 0.0778, Val F1 (macro): 0.0072\n",
      "--------------------------------------------------------------------------------\n"
     ]
    },
    {
     "name": "stderr",
     "output_type": "stream",
     "text": [
      " 21%|██        | 21198/100000 [12:24<29:52, 43.95it/s]  "
     ]
    },
    {
     "name": "stdout",
     "output_type": "stream",
     "text": [
      "Epoch [21200/100000]\n",
      "Train Loss: 5.9497, Train Accuracy: 0.0772\n",
      "Train Precision (micro): 0.0772, Train Precision (macro): 0.0033\n",
      "Train Recall (micro): 0.0772, Train Recall (macro): 0.0086\n",
      "Train F1 (micro): 0.0772, Train F1 (macro): 0.0039\n",
      "\n",
      "Val Loss: 5.9628, Val Accuracy: 0.0737\n",
      "Val Precision (micro): 0.0737, Val Precision (macro): 0.0060\n",
      "Val Recall (micro): 0.0737, Val Recall (macro): 0.0139\n",
      "Val F1 (micro): 0.0737, Val F1 (macro): 0.0068\n",
      "--------------------------------------------------------------------------------\n"
     ]
    },
    {
     "name": "stderr",
     "output_type": "stream",
     "text": [
      " 21%|██▏       | 21298/100000 [12:27<28:36, 45.86it/s]  "
     ]
    },
    {
     "name": "stdout",
     "output_type": "stream",
     "text": [
      "Epoch [21300/100000]\n",
      "Train Loss: 5.9713, Train Accuracy: 0.0759\n",
      "Train Precision (micro): 0.0759, Train Precision (macro): 0.0040\n",
      "Train Recall (micro): 0.0759, Train Recall (macro): 0.0082\n",
      "Train F1 (micro): 0.0759, Train F1 (macro): 0.0040\n",
      "\n",
      "Val Loss: 5.9631, Val Accuracy: 0.0781\n",
      "Val Precision (micro): 0.0781, Val Precision (macro): 0.0072\n",
      "Val Recall (micro): 0.0781, Val Recall (macro): 0.0150\n",
      "Val F1 (micro): 0.0781, Val F1 (macro): 0.0071\n",
      "--------------------------------------------------------------------------------\n"
     ]
    },
    {
     "name": "stderr",
     "output_type": "stream",
     "text": [
      " 21%|██▏       | 21399/100000 [12:31<27:31, 47.60it/s]  "
     ]
    },
    {
     "name": "stdout",
     "output_type": "stream",
     "text": [
      "Epoch [21400/100000]\n",
      "Train Loss: 5.9303, Train Accuracy: 0.0767\n",
      "Train Precision (micro): 0.0767, Train Precision (macro): 0.0043\n",
      "Train Recall (micro): 0.0767, Train Recall (macro): 0.0104\n",
      "Train F1 (micro): 0.0767, Train F1 (macro): 0.0051\n",
      "\n",
      "Val Loss: 5.9620, Val Accuracy: 0.0766\n",
      "Val Precision (micro): 0.0766, Val Precision (macro): 0.0067\n",
      "Val Recall (micro): 0.0766, Val Recall (macro): 0.0145\n",
      "Val F1 (micro): 0.0766, Val F1 (macro): 0.0072\n",
      "--------------------------------------------------------------------------------\n"
     ]
    },
    {
     "name": "stderr",
     "output_type": "stream",
     "text": [
      " 21%|██▏       | 21496/100000 [12:34<27:27, 47.65it/s]  "
     ]
    },
    {
     "name": "stdout",
     "output_type": "stream",
     "text": [
      "Epoch [21500/100000]\n",
      "Train Loss: 5.9265, Train Accuracy: 0.0766\n",
      "Train Precision (micro): 0.0766, Train Precision (macro): 0.0049\n",
      "Train Recall (micro): 0.0766, Train Recall (macro): 0.0089\n",
      "Train F1 (micro): 0.0766, Train F1 (macro): 0.0051\n",
      "\n",
      "Val Loss: 5.9804, Val Accuracy: 0.0762\n",
      "Val Precision (micro): 0.0762, Val Precision (macro): 0.0061\n",
      "Val Recall (micro): 0.0762, Val Recall (macro): 0.0150\n",
      "Val F1 (micro): 0.0762, Val F1 (macro): 0.0069\n",
      "--------------------------------------------------------------------------------\n"
     ]
    },
    {
     "name": "stderr",
     "output_type": "stream",
     "text": [
      " 22%|██▏       | 21594/100000 [12:38<27:17, 47.89it/s]  "
     ]
    },
    {
     "name": "stdout",
     "output_type": "stream",
     "text": [
      "Epoch [21600/100000]\n",
      "Train Loss: 5.9688, Train Accuracy: 0.0809\n",
      "Train Precision (micro): 0.0809, Train Precision (macro): 0.0050\n",
      "Train Recall (micro): 0.0809, Train Recall (macro): 0.0086\n",
      "Train F1 (micro): 0.0809, Train F1 (macro): 0.0048\n",
      "\n",
      "Val Loss: 5.9664, Val Accuracy: 0.0737\n",
      "Val Precision (micro): 0.0737, Val Precision (macro): 0.0054\n",
      "Val Recall (micro): 0.0737, Val Recall (macro): 0.0138\n",
      "Val F1 (micro): 0.0737, Val F1 (macro): 0.0063\n",
      "--------------------------------------------------------------------------------\n"
     ]
    },
    {
     "name": "stderr",
     "output_type": "stream",
     "text": [
      " 22%|██▏       | 21695/100000 [12:41<28:33, 45.69it/s]  "
     ]
    },
    {
     "name": "stdout",
     "output_type": "stream",
     "text": [
      "Epoch [21700/100000]\n",
      "Train Loss: 5.9057, Train Accuracy: 0.0842\n",
      "Train Precision (micro): 0.0842, Train Precision (macro): 0.0037\n",
      "Train Recall (micro): 0.0842, Train Recall (macro): 0.0077\n",
      "Train F1 (micro): 0.0842, Train F1 (macro): 0.0040\n",
      "\n",
      "Val Loss: 5.9773, Val Accuracy: 0.0725\n",
      "Val Precision (micro): 0.0725, Val Precision (macro): 0.0070\n",
      "Val Recall (micro): 0.0725, Val Recall (macro): 0.0131\n",
      "Val F1 (micro): 0.0725, Val F1 (macro): 0.0073\n",
      "--------------------------------------------------------------------------------\n"
     ]
    },
    {
     "name": "stderr",
     "output_type": "stream",
     "text": [
      " 22%|██▏       | 21794/100000 [12:44<26:43, 48.78it/s]  "
     ]
    },
    {
     "name": "stdout",
     "output_type": "stream",
     "text": [
      "Epoch [21800/100000]\n",
      "Train Loss: 5.9471, Train Accuracy: 0.0761\n",
      "Train Precision (micro): 0.0761, Train Precision (macro): 0.0041\n",
      "Train Recall (micro): 0.0761, Train Recall (macro): 0.0081\n",
      "Train F1 (micro): 0.0761, Train F1 (macro): 0.0042\n",
      "\n",
      "Val Loss: 5.9573, Val Accuracy: 0.0775\n",
      "Val Precision (micro): 0.0775, Val Precision (macro): 0.0060\n",
      "Val Recall (micro): 0.0775, Val Recall (macro): 0.0140\n",
      "Val F1 (micro): 0.0775, Val F1 (macro): 0.0066\n",
      "--------------------------------------------------------------------------------\n"
     ]
    },
    {
     "name": "stderr",
     "output_type": "stream",
     "text": [
      " 22%|██▏       | 21895/100000 [12:48<30:05, 43.27it/s]  "
     ]
    },
    {
     "name": "stdout",
     "output_type": "stream",
     "text": [
      "Epoch [21900/100000]\n",
      "Train Loss: 6.0212, Train Accuracy: 0.0663\n",
      "Train Precision (micro): 0.0663, Train Precision (macro): 0.0049\n",
      "Train Recall (micro): 0.0663, Train Recall (macro): 0.0091\n",
      "Train F1 (micro): 0.0663, Train F1 (macro): 0.0045\n",
      "\n",
      "Val Loss: 5.9377, Val Accuracy: 0.0803\n",
      "Val Precision (micro): 0.0803, Val Precision (macro): 0.0062\n",
      "Val Recall (micro): 0.0803, Val Recall (macro): 0.0142\n",
      "Val F1 (micro): 0.0803, Val F1 (macro): 0.0073\n",
      "--------------------------------------------------------------------------------\n"
     ]
    },
    {
     "name": "stderr",
     "output_type": "stream",
     "text": [
      " 22%|██▏       | 21999/100000 [12:52<29:36, 43.91it/s]  "
     ]
    },
    {
     "name": "stdout",
     "output_type": "stream",
     "text": [
      "Epoch [22000/100000]\n",
      "Train Loss: 5.9086, Train Accuracy: 0.0805\n",
      "Train Precision (micro): 0.0805, Train Precision (macro): 0.0055\n",
      "Train Recall (micro): 0.0805, Train Recall (macro): 0.0091\n",
      "Train F1 (micro): 0.0805, Train F1 (macro): 0.0049\n",
      "\n",
      "Val Loss: 5.9554, Val Accuracy: 0.0788\n",
      "Val Precision (micro): 0.0788, Val Precision (macro): 0.0070\n",
      "Val Recall (micro): 0.0788, Val Recall (macro): 0.0134\n",
      "Val F1 (micro): 0.0788, Val F1 (macro): 0.0068\n",
      "--------------------------------------------------------------------------------\n"
     ]
    },
    {
     "name": "stderr",
     "output_type": "stream",
     "text": [
      " 22%|██▏       | 22094/100000 [12:55<26:18, 49.36it/s]  "
     ]
    },
    {
     "name": "stdout",
     "output_type": "stream",
     "text": [
      "Epoch [22100/100000]\n",
      "Train Loss: 5.9290, Train Accuracy: 0.0737\n",
      "Train Precision (micro): 0.0737, Train Precision (macro): 0.0039\n",
      "Train Recall (micro): 0.0737, Train Recall (macro): 0.0093\n",
      "Train F1 (micro): 0.0737, Train F1 (macro): 0.0048\n",
      "\n",
      "Val Loss: 5.9426, Val Accuracy: 0.0797\n",
      "Val Precision (micro): 0.0797, Val Precision (macro): 0.0074\n",
      "Val Recall (micro): 0.0797, Val Recall (macro): 0.0148\n",
      "Val F1 (micro): 0.0797, Val F1 (macro): 0.0080\n",
      "--------------------------------------------------------------------------------\n"
     ]
    },
    {
     "name": "stderr",
     "output_type": "stream",
     "text": [
      " 22%|██▏       | 22196/100000 [12:58<28:19, 45.78it/s]  "
     ]
    },
    {
     "name": "stdout",
     "output_type": "stream",
     "text": [
      "Epoch [22200/100000]\n",
      "Train Loss: 5.9979, Train Accuracy: 0.0766\n",
      "Train Precision (micro): 0.0766, Train Precision (macro): 0.0036\n",
      "Train Recall (micro): 0.0766, Train Recall (macro): 0.0077\n",
      "Train F1 (micro): 0.0766, Train F1 (macro): 0.0038\n",
      "\n",
      "Val Loss: 5.9724, Val Accuracy: 0.0756\n",
      "Val Precision (micro): 0.0756, Val Precision (macro): 0.0067\n",
      "Val Recall (micro): 0.0756, Val Recall (macro): 0.0139\n",
      "Val F1 (micro): 0.0756, Val F1 (macro): 0.0071\n",
      "--------------------------------------------------------------------------------\n"
     ]
    },
    {
     "name": "stderr",
     "output_type": "stream",
     "text": [
      " 22%|██▏       | 22296/100000 [13:02<27:56, 46.35it/s]  "
     ]
    },
    {
     "name": "stdout",
     "output_type": "stream",
     "text": [
      "Epoch [22300/100000]\n",
      "Train Loss: 5.9505, Train Accuracy: 0.0764\n",
      "Train Precision (micro): 0.0764, Train Precision (macro): 0.0040\n",
      "Train Recall (micro): 0.0764, Train Recall (macro): 0.0084\n",
      "Train F1 (micro): 0.0764, Train F1 (macro): 0.0044\n",
      "\n",
      "Val Loss: 5.9367, Val Accuracy: 0.0788\n",
      "Val Precision (micro): 0.0788, Val Precision (macro): 0.0081\n",
      "Val Recall (micro): 0.0788, Val Recall (macro): 0.0151\n",
      "Val F1 (micro): 0.0788, Val F1 (macro): 0.0076\n",
      "--------------------------------------------------------------------------------\n"
     ]
    },
    {
     "name": "stderr",
     "output_type": "stream",
     "text": [
      " 22%|██▏       | 22394/100000 [13:05<25:56, 49.85it/s]  "
     ]
    },
    {
     "name": "stdout",
     "output_type": "stream",
     "text": [
      "Epoch [22400/100000]\n",
      "Train Loss: 5.9937, Train Accuracy: 0.0748\n",
      "Train Precision (micro): 0.0748, Train Precision (macro): 0.0046\n",
      "Train Recall (micro): 0.0748, Train Recall (macro): 0.0091\n",
      "Train F1 (micro): 0.0748, Train F1 (macro): 0.0048\n",
      "\n",
      "Val Loss: 5.9371, Val Accuracy: 0.0791\n",
      "Val Precision (micro): 0.0791, Val Precision (macro): 0.0075\n",
      "Val Recall (micro): 0.0791, Val Recall (macro): 0.0154\n",
      "Val F1 (micro): 0.0791, Val F1 (macro): 0.0081\n",
      "--------------------------------------------------------------------------------\n"
     ]
    },
    {
     "name": "stderr",
     "output_type": "stream",
     "text": [
      " 22%|██▏       | 22498/100000 [13:09<26:25, 48.88it/s]  "
     ]
    },
    {
     "name": "stdout",
     "output_type": "stream",
     "text": [
      "Epoch [22500/100000]\n",
      "Train Loss: 5.9249, Train Accuracy: 0.0750\n",
      "Train Precision (micro): 0.0750, Train Precision (macro): 0.0057\n",
      "Train Recall (micro): 0.0750, Train Recall (macro): 0.0095\n",
      "Train F1 (micro): 0.0750, Train F1 (macro): 0.0051\n",
      "\n",
      "Val Loss: 5.9454, Val Accuracy: 0.0794\n",
      "Val Precision (micro): 0.0794, Val Precision (macro): 0.0076\n",
      "Val Recall (micro): 0.0794, Val Recall (macro): 0.0143\n",
      "Val F1 (micro): 0.0794, Val F1 (macro): 0.0078\n",
      "--------------------------------------------------------------------------------\n"
     ]
    },
    {
     "name": "stderr",
     "output_type": "stream",
     "text": [
      " 23%|██▎       | 22598/100000 [13:12<27:29, 46.91it/s]  "
     ]
    },
    {
     "name": "stdout",
     "output_type": "stream",
     "text": [
      "Epoch [22600/100000]\n",
      "Train Loss: 5.9255, Train Accuracy: 0.0816\n",
      "Train Precision (micro): 0.0816, Train Precision (macro): 0.0063\n",
      "Train Recall (micro): 0.0816, Train Recall (macro): 0.0106\n",
      "Train F1 (micro): 0.0816, Train F1 (macro): 0.0063\n",
      "\n",
      "Val Loss: 5.9450, Val Accuracy: 0.0762\n",
      "Val Precision (micro): 0.0762, Val Precision (macro): 0.0068\n",
      "Val Recall (micro): 0.0762, Val Recall (macro): 0.0136\n",
      "Val F1 (micro): 0.0762, Val F1 (macro): 0.0069\n",
      "--------------------------------------------------------------------------------\n"
     ]
    },
    {
     "name": "stderr",
     "output_type": "stream",
     "text": [
      " 23%|██▎       | 22696/100000 [13:15<27:40, 46.55it/s]  "
     ]
    },
    {
     "name": "stdout",
     "output_type": "stream",
     "text": [
      "Epoch [22700/100000]\n",
      "Train Loss: 5.9424, Train Accuracy: 0.0788\n",
      "Train Precision (micro): 0.0788, Train Precision (macro): 0.0051\n",
      "Train Recall (micro): 0.0788, Train Recall (macro): 0.0092\n",
      "Train F1 (micro): 0.0788, Train F1 (macro): 0.0051\n",
      "\n",
      "Val Loss: 5.9370, Val Accuracy: 0.0775\n",
      "Val Precision (micro): 0.0775, Val Precision (macro): 0.0066\n",
      "Val Recall (micro): 0.0775, Val Recall (macro): 0.0127\n",
      "Val F1 (micro): 0.0775, Val F1 (macro): 0.0072\n",
      "--------------------------------------------------------------------------------\n"
     ]
    },
    {
     "name": "stderr",
     "output_type": "stream",
     "text": [
      " 23%|██▎       | 22798/100000 [13:19<25:59, 49.50it/s]  "
     ]
    },
    {
     "name": "stdout",
     "output_type": "stream",
     "text": [
      "Epoch [22800/100000]\n",
      "Train Loss: 5.9086, Train Accuracy: 0.0786\n",
      "Train Precision (micro): 0.0786, Train Precision (macro): 0.0045\n",
      "Train Recall (micro): 0.0786, Train Recall (macro): 0.0098\n",
      "Train F1 (micro): 0.0786, Train F1 (macro): 0.0046\n",
      "\n",
      "Val Loss: 5.9278, Val Accuracy: 0.0781\n",
      "Val Precision (micro): 0.0781, Val Precision (macro): 0.0070\n",
      "Val Recall (micro): 0.0781, Val Recall (macro): 0.0149\n",
      "Val F1 (micro): 0.0781, Val F1 (macro): 0.0079\n",
      "--------------------------------------------------------------------------------\n"
     ]
    },
    {
     "name": "stderr",
     "output_type": "stream",
     "text": [
      " 23%|██▎       | 22897/100000 [13:23<29:18, 43.86it/s]  "
     ]
    },
    {
     "name": "stdout",
     "output_type": "stream",
     "text": [
      "Epoch [22900/100000]\n",
      "Train Loss: 5.9456, Train Accuracy: 0.0786\n",
      "Train Precision (micro): 0.0786, Train Precision (macro): 0.0058\n",
      "Train Recall (micro): 0.0786, Train Recall (macro): 0.0103\n",
      "Train F1 (micro): 0.0786, Train F1 (macro): 0.0057\n",
      "\n",
      "Val Loss: 5.9315, Val Accuracy: 0.0756\n",
      "Val Precision (micro): 0.0756, Val Precision (macro): 0.0060\n",
      "Val Recall (micro): 0.0756, Val Recall (macro): 0.0132\n",
      "Val F1 (micro): 0.0756, Val F1 (macro): 0.0065\n",
      "--------------------------------------------------------------------------------\n"
     ]
    },
    {
     "name": "stderr",
     "output_type": "stream",
     "text": [
      " 23%|██▎       | 22997/100000 [13:26<25:44, 49.85it/s]  "
     ]
    },
    {
     "name": "stdout",
     "output_type": "stream",
     "text": [
      "Epoch [23000/100000]\n",
      "Train Loss: 5.9808, Train Accuracy: 0.0742\n",
      "Train Precision (micro): 0.0742, Train Precision (macro): 0.0037\n",
      "Train Recall (micro): 0.0742, Train Recall (macro): 0.0087\n",
      "Train F1 (micro): 0.0742, Train F1 (macro): 0.0043\n",
      "\n",
      "Val Loss: 5.9410, Val Accuracy: 0.0756\n",
      "Val Precision (micro): 0.0756, Val Precision (macro): 0.0062\n",
      "Val Recall (micro): 0.0756, Val Recall (macro): 0.0142\n",
      "Val F1 (micro): 0.0756, Val F1 (macro): 0.0067\n",
      "--------------------------------------------------------------------------------\n"
     ]
    },
    {
     "name": "stderr",
     "output_type": "stream",
     "text": [
      " 23%|██▎       | 23099/100000 [13:29<26:26, 48.48it/s]  "
     ]
    },
    {
     "name": "stdout",
     "output_type": "stream",
     "text": [
      "Epoch [23100/100000]\n",
      "Train Loss: 5.9474, Train Accuracy: 0.0720\n",
      "Train Precision (micro): 0.0720, Train Precision (macro): 0.0044\n",
      "Train Recall (micro): 0.0720, Train Recall (macro): 0.0097\n",
      "Train F1 (micro): 0.0720, Train F1 (macro): 0.0050\n",
      "\n",
      "Val Loss: 5.9279, Val Accuracy: 0.0762\n",
      "Val Precision (micro): 0.0762, Val Precision (macro): 0.0064\n",
      "Val Recall (micro): 0.0762, Val Recall (macro): 0.0138\n",
      "Val F1 (micro): 0.0762, Val F1 (macro): 0.0072\n",
      "--------------------------------------------------------------------------------\n"
     ]
    },
    {
     "name": "stderr",
     "output_type": "stream",
     "text": [
      " 23%|██▎       | 23196/100000 [13:33<25:45, 49.69it/s]  "
     ]
    },
    {
     "name": "stdout",
     "output_type": "stream",
     "text": [
      "Epoch [23200/100000]\n",
      "Train Loss: 5.9287, Train Accuracy: 0.0825\n",
      "Train Precision (micro): 0.0825, Train Precision (macro): 0.0042\n",
      "Train Recall (micro): 0.0825, Train Recall (macro): 0.0089\n",
      "Train F1 (micro): 0.0825, Train F1 (macro): 0.0049\n",
      "\n",
      "Val Loss: 5.9384, Val Accuracy: 0.0762\n",
      "Val Precision (micro): 0.0762, Val Precision (macro): 0.0075\n",
      "Val Recall (micro): 0.0762, Val Recall (macro): 0.0134\n",
      "Val F1 (micro): 0.0762, Val F1 (macro): 0.0074\n",
      "--------------------------------------------------------------------------------\n"
     ]
    },
    {
     "name": "stderr",
     "output_type": "stream",
     "text": [
      " 23%|██▎       | 23295/100000 [13:36<27:39, 46.23it/s]  "
     ]
    },
    {
     "name": "stdout",
     "output_type": "stream",
     "text": [
      "Epoch [23300/100000]\n",
      "Train Loss: 5.9650, Train Accuracy: 0.0784\n",
      "Train Precision (micro): 0.0784, Train Precision (macro): 0.0049\n",
      "Train Recall (micro): 0.0784, Train Recall (macro): 0.0094\n",
      "Train F1 (micro): 0.0784, Train F1 (macro): 0.0048\n",
      "\n",
      "Val Loss: 5.9358, Val Accuracy: 0.0816\n",
      "Val Precision (micro): 0.0816, Val Precision (macro): 0.0092\n",
      "Val Recall (micro): 0.0816, Val Recall (macro): 0.0145\n",
      "Val F1 (micro): 0.0816, Val F1 (macro): 0.0088\n",
      "--------------------------------------------------------------------------------\n"
     ]
    },
    {
     "name": "stderr",
     "output_type": "stream",
     "text": [
      " 23%|██▎       | 23397/100000 [13:40<27:22, 46.63it/s]  "
     ]
    },
    {
     "name": "stdout",
     "output_type": "stream",
     "text": [
      "Epoch [23400/100000]\n",
      "Train Loss: 5.9553, Train Accuracy: 0.0788\n",
      "Train Precision (micro): 0.0788, Train Precision (macro): 0.0043\n",
      "Train Recall (micro): 0.0788, Train Recall (macro): 0.0076\n",
      "Train F1 (micro): 0.0788, Train F1 (macro): 0.0044\n",
      "\n",
      "Val Loss: 5.9290, Val Accuracy: 0.0772\n",
      "Val Precision (micro): 0.0772, Val Precision (macro): 0.0059\n",
      "Val Recall (micro): 0.0772, Val Recall (macro): 0.0131\n",
      "Val F1 (micro): 0.0772, Val F1 (macro): 0.0064\n",
      "--------------------------------------------------------------------------------\n"
     ]
    },
    {
     "name": "stderr",
     "output_type": "stream",
     "text": [
      " 23%|██▎       | 23498/100000 [13:43<25:49, 49.37it/s]  "
     ]
    },
    {
     "name": "stdout",
     "output_type": "stream",
     "text": [
      "Epoch [23500/100000]\n",
      "Train Loss: 5.9608, Train Accuracy: 0.0803\n",
      "Train Precision (micro): 0.0803, Train Precision (macro): 0.0054\n",
      "Train Recall (micro): 0.0803, Train Recall (macro): 0.0099\n",
      "Train F1 (micro): 0.0803, Train F1 (macro): 0.0054\n",
      "\n",
      "Val Loss: 5.9299, Val Accuracy: 0.0772\n",
      "Val Precision (micro): 0.0772, Val Precision (macro): 0.0065\n",
      "Val Recall (micro): 0.0772, Val Recall (macro): 0.0134\n",
      "Val F1 (micro): 0.0772, Val F1 (macro): 0.0072\n",
      "--------------------------------------------------------------------------------\n"
     ]
    },
    {
     "name": "stderr",
     "output_type": "stream",
     "text": [
      " 24%|██▎       | 23599/100000 [13:47<28:54, 44.04it/s]  "
     ]
    },
    {
     "name": "stdout",
     "output_type": "stream",
     "text": [
      "Epoch [23600/100000]\n",
      "Train Loss: 5.9903, Train Accuracy: 0.0762\n",
      "Train Precision (micro): 0.0762, Train Precision (macro): 0.0053\n",
      "Train Recall (micro): 0.0762, Train Recall (macro): 0.0094\n",
      "Train F1 (micro): 0.0762, Train F1 (macro): 0.0052\n",
      "\n",
      "Val Loss: 5.9393, Val Accuracy: 0.0766\n",
      "Val Precision (micro): 0.0766, Val Precision (macro): 0.0073\n",
      "Val Recall (micro): 0.0766, Val Recall (macro): 0.0131\n",
      "Val F1 (micro): 0.0766, Val F1 (macro): 0.0072\n",
      "--------------------------------------------------------------------------------\n"
     ]
    },
    {
     "name": "stderr",
     "output_type": "stream",
     "text": [
      " 24%|██▎       | 23697/100000 [13:50<27:18, 46.56it/s]  "
     ]
    },
    {
     "name": "stdout",
     "output_type": "stream",
     "text": [
      "Epoch [23700/100000]\n",
      "Train Loss: 5.9538, Train Accuracy: 0.0777\n",
      "Train Precision (micro): 0.0777, Train Precision (macro): 0.0040\n",
      "Train Recall (micro): 0.0777, Train Recall (macro): 0.0092\n",
      "Train F1 (micro): 0.0777, Train F1 (macro): 0.0047\n",
      "\n",
      "Val Loss: 5.9367, Val Accuracy: 0.0794\n",
      "Val Precision (micro): 0.0794, Val Precision (macro): 0.0060\n",
      "Val Recall (micro): 0.0794, Val Recall (macro): 0.0131\n",
      "Val F1 (micro): 0.0794, Val F1 (macro): 0.0068\n",
      "--------------------------------------------------------------------------------\n"
     ]
    },
    {
     "name": "stderr",
     "output_type": "stream",
     "text": [
      " 24%|██▍       | 23794/100000 [13:53<25:24, 50.00it/s]  "
     ]
    },
    {
     "name": "stdout",
     "output_type": "stream",
     "text": [
      "Epoch [23800/100000]\n",
      "Train Loss: 5.9897, Train Accuracy: 0.0773\n",
      "Train Precision (micro): 0.0773, Train Precision (macro): 0.0058\n",
      "Train Recall (micro): 0.0773, Train Recall (macro): 0.0095\n",
      "Train F1 (micro): 0.0773, Train F1 (macro): 0.0056\n",
      "\n",
      "Val Loss: 5.9331, Val Accuracy: 0.0781\n",
      "Val Precision (micro): 0.0781, Val Precision (macro): 0.0064\n",
      "Val Recall (micro): 0.0781, Val Recall (macro): 0.0138\n",
      "Val F1 (micro): 0.0781, Val F1 (macro): 0.0068\n",
      "--------------------------------------------------------------------------------\n"
     ]
    },
    {
     "name": "stderr",
     "output_type": "stream",
     "text": [
      " 24%|██▍       | 23896/100000 [13:57<28:59, 43.74it/s]  "
     ]
    },
    {
     "name": "stdout",
     "output_type": "stream",
     "text": [
      "Epoch [23900/100000]\n",
      "Train Loss: 5.9370, Train Accuracy: 0.0753\n",
      "Train Precision (micro): 0.0753, Train Precision (macro): 0.0058\n",
      "Train Recall (micro): 0.0753, Train Recall (macro): 0.0099\n",
      "Train F1 (micro): 0.0753, Train F1 (macro): 0.0054\n",
      "\n",
      "Val Loss: 5.9255, Val Accuracy: 0.0831\n",
      "Val Precision (micro): 0.0831, Val Precision (macro): 0.0061\n",
      "Val Recall (micro): 0.0831, Val Recall (macro): 0.0150\n",
      "Val F1 (micro): 0.0831, Val F1 (macro): 0.0074\n",
      "--------------------------------------------------------------------------------\n"
     ]
    },
    {
     "name": "stderr",
     "output_type": "stream",
     "text": [
      " 24%|██▍       | 23995/100000 [14:01<27:12, 46.55it/s]  "
     ]
    },
    {
     "name": "stdout",
     "output_type": "stream",
     "text": [
      "Epoch [24000/100000]\n",
      "Train Loss: 5.9764, Train Accuracy: 0.0739\n",
      "Train Precision (micro): 0.0739, Train Precision (macro): 0.0046\n",
      "Train Recall (micro): 0.0739, Train Recall (macro): 0.0095\n",
      "Train F1 (micro): 0.0739, Train F1 (macro): 0.0052\n",
      "\n",
      "Val Loss: 5.9256, Val Accuracy: 0.0784\n",
      "Val Precision (micro): 0.0784, Val Precision (macro): 0.0058\n",
      "Val Recall (micro): 0.0784, Val Recall (macro): 0.0135\n",
      "Val F1 (micro): 0.0784, Val F1 (macro): 0.0068\n",
      "--------------------------------------------------------------------------------\n"
     ]
    },
    {
     "name": "stderr",
     "output_type": "stream",
     "text": [
      " 24%|██▍       | 24098/100000 [14:04<25:41, 49.25it/s]  "
     ]
    },
    {
     "name": "stdout",
     "output_type": "stream",
     "text": [
      "Epoch [24100/100000]\n",
      "Train Loss: 5.9286, Train Accuracy: 0.0788\n",
      "Train Precision (micro): 0.0788, Train Precision (macro): 0.0051\n",
      "Train Recall (micro): 0.0788, Train Recall (macro): 0.0092\n",
      "Train F1 (micro): 0.0788, Train F1 (macro): 0.0050\n",
      "\n",
      "Val Loss: 5.9368, Val Accuracy: 0.0744\n",
      "Val Precision (micro): 0.0744, Val Precision (macro): 0.0054\n",
      "Val Recall (micro): 0.0744, Val Recall (macro): 0.0131\n",
      "Val F1 (micro): 0.0744, Val F1 (macro): 0.0065\n",
      "--------------------------------------------------------------------------------\n"
     ]
    },
    {
     "name": "stderr",
     "output_type": "stream",
     "text": [
      " 24%|██▍       | 24199/100000 [14:08<26:35, 47.50it/s]  "
     ]
    },
    {
     "name": "stdout",
     "output_type": "stream",
     "text": [
      "Epoch [24200/100000]\n",
      "Train Loss: 5.9298, Train Accuracy: 0.0806\n",
      "Train Precision (micro): 0.0806, Train Precision (macro): 0.0055\n",
      "Train Recall (micro): 0.0806, Train Recall (macro): 0.0101\n",
      "Train F1 (micro): 0.0806, Train F1 (macro): 0.0055\n",
      "\n",
      "Val Loss: 5.9138, Val Accuracy: 0.0803\n",
      "Val Precision (micro): 0.0803, Val Precision (macro): 0.0081\n",
      "Val Recall (micro): 0.0803, Val Recall (macro): 0.0153\n",
      "Val F1 (micro): 0.0803, Val F1 (macro): 0.0085\n",
      "--------------------------------------------------------------------------------\n"
     ]
    },
    {
     "name": "stderr",
     "output_type": "stream",
     "text": [
      " 24%|██▍       | 24299/100000 [14:12<26:16, 48.01it/s]  "
     ]
    },
    {
     "name": "stdout",
     "output_type": "stream",
     "text": [
      "Epoch [24300/100000]\n",
      "Train Loss: 5.9233, Train Accuracy: 0.0741\n",
      "Train Precision (micro): 0.0741, Train Precision (macro): 0.0036\n",
      "Train Recall (micro): 0.0741, Train Recall (macro): 0.0083\n",
      "Train F1 (micro): 0.0741, Train F1 (macro): 0.0043\n",
      "\n",
      "Val Loss: 5.9180, Val Accuracy: 0.0794\n",
      "Val Precision (micro): 0.0794, Val Precision (macro): 0.0068\n",
      "Val Recall (micro): 0.0794, Val Recall (macro): 0.0141\n",
      "Val F1 (micro): 0.0794, Val F1 (macro): 0.0074\n",
      "--------------------------------------------------------------------------------\n"
     ]
    },
    {
     "name": "stderr",
     "output_type": "stream",
     "text": [
      " 24%|██▍       | 24396/100000 [14:15<28:08, 44.78it/s]  "
     ]
    },
    {
     "name": "stdout",
     "output_type": "stream",
     "text": [
      "Epoch [24400/100000]\n",
      "Train Loss: 5.9404, Train Accuracy: 0.0731\n",
      "Train Precision (micro): 0.0731, Train Precision (macro): 0.0040\n",
      "Train Recall (micro): 0.0731, Train Recall (macro): 0.0090\n",
      "Train F1 (micro): 0.0731, Train F1 (macro): 0.0046\n",
      "\n",
      "Val Loss: 5.9312, Val Accuracy: 0.0797\n",
      "Val Precision (micro): 0.0797, Val Precision (macro): 0.0053\n",
      "Val Recall (micro): 0.0797, Val Recall (macro): 0.0141\n",
      "Val F1 (micro): 0.0797, Val F1 (macro): 0.0065\n",
      "--------------------------------------------------------------------------------\n"
     ]
    },
    {
     "name": "stderr",
     "output_type": "stream",
     "text": [
      " 24%|██▍       | 24497/100000 [14:18<26:57, 46.67it/s]  "
     ]
    },
    {
     "name": "stdout",
     "output_type": "stream",
     "text": [
      "Epoch [24500/100000]\n",
      "Train Loss: 5.8680, Train Accuracy: 0.0805\n",
      "Train Precision (micro): 0.0805, Train Precision (macro): 0.0052\n",
      "Train Recall (micro): 0.0805, Train Recall (macro): 0.0110\n",
      "Train F1 (micro): 0.0805, Train F1 (macro): 0.0059\n",
      "\n",
      "Val Loss: 5.9132, Val Accuracy: 0.0803\n",
      "Val Precision (micro): 0.0803, Val Precision (macro): 0.0053\n",
      "Val Recall (micro): 0.0803, Val Recall (macro): 0.0141\n",
      "Val F1 (micro): 0.0803, Val F1 (macro): 0.0067\n",
      "--------------------------------------------------------------------------------\n"
     ]
    },
    {
     "name": "stderr",
     "output_type": "stream",
     "text": [
      " 25%|██▍       | 24597/100000 [14:22<27:56, 44.97it/s]  "
     ]
    },
    {
     "name": "stdout",
     "output_type": "stream",
     "text": [
      "Epoch [24600/100000]\n",
      "Train Loss: 5.9599, Train Accuracy: 0.0747\n",
      "Train Precision (micro): 0.0747, Train Precision (macro): 0.0040\n",
      "Train Recall (micro): 0.0747, Train Recall (macro): 0.0086\n",
      "Train F1 (micro): 0.0747, Train F1 (macro): 0.0041\n",
      "\n",
      "Val Loss: 5.9392, Val Accuracy: 0.0822\n",
      "Val Precision (micro): 0.0822, Val Precision (macro): 0.0077\n",
      "Val Recall (micro): 0.0822, Val Recall (macro): 0.0155\n",
      "Val F1 (micro): 0.0822, Val F1 (macro): 0.0086\n",
      "--------------------------------------------------------------------------------\n"
     ]
    },
    {
     "name": "stderr",
     "output_type": "stream",
     "text": [
      " 25%|██▍       | 24699/100000 [14:25<25:02, 50.11it/s]  "
     ]
    },
    {
     "name": "stdout",
     "output_type": "stream",
     "text": [
      "Epoch [24700/100000]\n",
      "Train Loss: 5.9189, Train Accuracy: 0.0789\n",
      "Train Precision (micro): 0.0789, Train Precision (macro): 0.0052\n",
      "Train Recall (micro): 0.0789, Train Recall (macro): 0.0089\n",
      "Train F1 (micro): 0.0789, Train F1 (macro): 0.0052\n",
      "\n",
      "Val Loss: 5.9460, Val Accuracy: 0.0816\n",
      "Val Precision (micro): 0.0816, Val Precision (macro): 0.0087\n",
      "Val Recall (micro): 0.0816, Val Recall (macro): 0.0153\n",
      "Val F1 (micro): 0.0816, Val F1 (macro): 0.0085\n",
      "--------------------------------------------------------------------------------\n"
     ]
    },
    {
     "name": "stderr",
     "output_type": "stream",
     "text": [
      " 25%|██▍       | 24795/100000 [14:29<27:37, 45.38it/s]  "
     ]
    },
    {
     "name": "stdout",
     "output_type": "stream",
     "text": [
      "Epoch [24800/100000]\n",
      "Train Loss: 5.9410, Train Accuracy: 0.0758\n",
      "Train Precision (micro): 0.0758, Train Precision (macro): 0.0065\n",
      "Train Recall (micro): 0.0758, Train Recall (macro): 0.0116\n",
      "Train F1 (micro): 0.0758, Train F1 (macro): 0.0068\n",
      "\n",
      "Val Loss: 5.9197, Val Accuracy: 0.0838\n",
      "Val Precision (micro): 0.0838, Val Precision (macro): 0.0083\n",
      "Val Recall (micro): 0.0838, Val Recall (macro): 0.0152\n",
      "Val F1 (micro): 0.0838, Val F1 (macro): 0.0084\n",
      "--------------------------------------------------------------------------------\n"
     ]
    },
    {
     "name": "stderr",
     "output_type": "stream",
     "text": [
      " 25%|██▍       | 24898/100000 [14:32<30:00, 41.72it/s]  "
     ]
    },
    {
     "name": "stdout",
     "output_type": "stream",
     "text": [
      "Epoch [24900/100000]\n",
      "Train Loss: 5.8691, Train Accuracy: 0.0791\n",
      "Train Precision (micro): 0.0791, Train Precision (macro): 0.0055\n",
      "Train Recall (micro): 0.0791, Train Recall (macro): 0.0091\n",
      "Train F1 (micro): 0.0791, Train F1 (macro): 0.0054\n",
      "\n",
      "Val Loss: 5.9258, Val Accuracy: 0.0806\n",
      "Val Precision (micro): 0.0806, Val Precision (macro): 0.0068\n",
      "Val Recall (micro): 0.0806, Val Recall (macro): 0.0144\n",
      "Val F1 (micro): 0.0806, Val F1 (macro): 0.0078\n",
      "--------------------------------------------------------------------------------\n"
     ]
    },
    {
     "name": "stderr",
     "output_type": "stream",
     "text": [
      " 25%|██▍       | 24995/100000 [14:36<27:28, 45.50it/s]  "
     ]
    },
    {
     "name": "stdout",
     "output_type": "stream",
     "text": [
      "Epoch [25000/100000]\n",
      "Train Loss: 5.9005, Train Accuracy: 0.0792\n",
      "Train Precision (micro): 0.0792, Train Precision (macro): 0.0069\n",
      "Train Recall (micro): 0.0792, Train Recall (macro): 0.0110\n",
      "Train F1 (micro): 0.0792, Train F1 (macro): 0.0065\n",
      "\n",
      "Val Loss: 5.9333, Val Accuracy: 0.0800\n",
      "Val Precision (micro): 0.0800, Val Precision (macro): 0.0083\n",
      "Val Recall (micro): 0.0800, Val Recall (macro): 0.0146\n",
      "Val F1 (micro): 0.0800, Val F1 (macro): 0.0087\n",
      "--------------------------------------------------------------------------------\n"
     ]
    },
    {
     "name": "stderr",
     "output_type": "stream",
     "text": [
      " 25%|██▌       | 25095/100000 [14:40<26:21, 47.36it/s]  "
     ]
    },
    {
     "name": "stdout",
     "output_type": "stream",
     "text": [
      "Epoch [25100/100000]\n",
      "Train Loss: 5.9275, Train Accuracy: 0.0783\n",
      "Train Precision (micro): 0.0783, Train Precision (macro): 0.0042\n",
      "Train Recall (micro): 0.0783, Train Recall (macro): 0.0094\n",
      "Train F1 (micro): 0.0783, Train F1 (macro): 0.0044\n",
      "\n",
      "Val Loss: 5.9427, Val Accuracy: 0.0828\n",
      "Val Precision (micro): 0.0828, Val Precision (macro): 0.0079\n",
      "Val Recall (micro): 0.0828, Val Recall (macro): 0.0151\n",
      "Val F1 (micro): 0.0828, Val F1 (macro): 0.0079\n",
      "--------------------------------------------------------------------------------\n"
     ]
    },
    {
     "name": "stderr",
     "output_type": "stream",
     "text": [
      " 25%|██▌       | 25197/100000 [14:43<25:09, 49.56it/s]  "
     ]
    },
    {
     "name": "stdout",
     "output_type": "stream",
     "text": [
      "Epoch [25200/100000]\n",
      "Train Loss: 5.9737, Train Accuracy: 0.0756\n",
      "Train Precision (micro): 0.0756, Train Precision (macro): 0.0044\n",
      "Train Recall (micro): 0.0756, Train Recall (macro): 0.0092\n",
      "Train F1 (micro): 0.0756, Train F1 (macro): 0.0044\n",
      "\n",
      "Val Loss: 5.9148, Val Accuracy: 0.0822\n",
      "Val Precision (micro): 0.0822, Val Precision (macro): 0.0077\n",
      "Val Recall (micro): 0.0822, Val Recall (macro): 0.0156\n",
      "Val F1 (micro): 0.0822, Val F1 (macro): 0.0086\n",
      "--------------------------------------------------------------------------------\n"
     ]
    },
    {
     "name": "stderr",
     "output_type": "stream",
     "text": [
      " 25%|██▌       | 25298/100000 [14:47<1:00:33, 20.56it/s]"
     ]
    },
    {
     "name": "stdout",
     "output_type": "stream",
     "text": [
      "Epoch [25300/100000]\n",
      "Train Loss: 5.9275, Train Accuracy: 0.0833\n",
      "Train Precision (micro): 0.0833, Train Precision (macro): 0.0062\n",
      "Train Recall (micro): 0.0833, Train Recall (macro): 0.0103\n",
      "Train F1 (micro): 0.0833, Train F1 (macro): 0.0062\n",
      "\n",
      "Val Loss: 5.9087, Val Accuracy: 0.0803\n",
      "Val Precision (micro): 0.0803, Val Precision (macro): 0.0068\n",
      "Val Recall (micro): 0.0803, Val Recall (macro): 0.0146\n",
      "Val F1 (micro): 0.0803, Val F1 (macro): 0.0076\n",
      "--------------------------------------------------------------------------------\n"
     ]
    },
    {
     "name": "stderr",
     "output_type": "stream",
     "text": [
      " 25%|██▌       | 25399/100000 [14:51<25:02, 49.67it/s]  "
     ]
    },
    {
     "name": "stdout",
     "output_type": "stream",
     "text": [
      "Epoch [25400/100000]\n",
      "Train Loss: 5.9281, Train Accuracy: 0.0803\n",
      "Train Precision (micro): 0.0803, Train Precision (macro): 0.0051\n",
      "Train Recall (micro): 0.0803, Train Recall (macro): 0.0086\n",
      "Train F1 (micro): 0.0803, Train F1 (macro): 0.0045\n",
      "\n",
      "Val Loss: 5.9161, Val Accuracy: 0.0778\n",
      "Val Precision (micro): 0.0778, Val Precision (macro): 0.0057\n",
      "Val Recall (micro): 0.0778, Val Recall (macro): 0.0144\n",
      "Val F1 (micro): 0.0778, Val F1 (macro): 0.0072\n",
      "--------------------------------------------------------------------------------\n"
     ]
    },
    {
     "name": "stderr",
     "output_type": "stream",
     "text": [
      " 25%|██▌       | 25496/100000 [14:54<28:25, 43.69it/s]  "
     ]
    },
    {
     "name": "stdout",
     "output_type": "stream",
     "text": [
      "Epoch [25500/100000]\n",
      "Train Loss: 5.9145, Train Accuracy: 0.0811\n",
      "Train Precision (micro): 0.0811, Train Precision (macro): 0.0068\n",
      "Train Recall (micro): 0.0811, Train Recall (macro): 0.0123\n",
      "Train F1 (micro): 0.0811, Train F1 (macro): 0.0074\n",
      "\n",
      "Val Loss: 5.9230, Val Accuracy: 0.0794\n",
      "Val Precision (micro): 0.0794, Val Precision (macro): 0.0068\n",
      "Val Recall (micro): 0.0794, Val Recall (macro): 0.0146\n",
      "Val F1 (micro): 0.0794, Val F1 (macro): 0.0076\n",
      "--------------------------------------------------------------------------------\n"
     ]
    },
    {
     "name": "stderr",
     "output_type": "stream",
     "text": [
      " 26%|██▌       | 25595/100000 [14:57<27:37, 44.90it/s]  "
     ]
    },
    {
     "name": "stdout",
     "output_type": "stream",
     "text": [
      "Epoch [25600/100000]\n",
      "Train Loss: 5.9152, Train Accuracy: 0.0780\n",
      "Train Precision (micro): 0.0780, Train Precision (macro): 0.0047\n",
      "Train Recall (micro): 0.0780, Train Recall (macro): 0.0101\n",
      "Train F1 (micro): 0.0780, Train F1 (macro): 0.0052\n",
      "\n",
      "Val Loss: 5.9004, Val Accuracy: 0.0809\n",
      "Val Precision (micro): 0.0809, Val Precision (macro): 0.0088\n",
      "Val Recall (micro): 0.0809, Val Recall (macro): 0.0156\n",
      "Val F1 (micro): 0.0809, Val F1 (macro): 0.0085\n",
      "--------------------------------------------------------------------------------\n"
     ]
    },
    {
     "name": "stderr",
     "output_type": "stream",
     "text": [
      " 26%|██▌       | 25698/100000 [15:01<24:53, 49.75it/s]  "
     ]
    },
    {
     "name": "stdout",
     "output_type": "stream",
     "text": [
      "Epoch [25700/100000]\n",
      "Train Loss: 5.9249, Train Accuracy: 0.0781\n",
      "Train Precision (micro): 0.0781, Train Precision (macro): 0.0056\n",
      "Train Recall (micro): 0.0781, Train Recall (macro): 0.0101\n",
      "Train F1 (micro): 0.0781, Train F1 (macro): 0.0061\n",
      "\n",
      "Val Loss: 5.9002, Val Accuracy: 0.0781\n",
      "Val Precision (micro): 0.0781, Val Precision (macro): 0.0067\n",
      "Val Recall (micro): 0.0781, Val Recall (macro): 0.0145\n",
      "Val F1 (micro): 0.0781, Val F1 (macro): 0.0080\n",
      "--------------------------------------------------------------------------------\n"
     ]
    },
    {
     "name": "stderr",
     "output_type": "stream",
     "text": [
      " 26%|██▌       | 25797/100000 [15:04<25:14, 48.99it/s]  "
     ]
    },
    {
     "name": "stdout",
     "output_type": "stream",
     "text": [
      "Epoch [25800/100000]\n",
      "Train Loss: 5.8997, Train Accuracy: 0.0833\n",
      "Train Precision (micro): 0.0833, Train Precision (macro): 0.0072\n",
      "Train Recall (micro): 0.0833, Train Recall (macro): 0.0099\n",
      "Train F1 (micro): 0.0833, Train F1 (macro): 0.0064\n",
      "\n",
      "Val Loss: 5.9085, Val Accuracy: 0.0816\n",
      "Val Precision (micro): 0.0816, Val Precision (macro): 0.0077\n",
      "Val Recall (micro): 0.0816, Val Recall (macro): 0.0145\n",
      "Val F1 (micro): 0.0816, Val F1 (macro): 0.0080\n",
      "--------------------------------------------------------------------------------\n"
     ]
    },
    {
     "name": "stderr",
     "output_type": "stream",
     "text": [
      " 26%|██▌       | 25895/100000 [15:08<35:44, 34.55it/s]  "
     ]
    },
    {
     "name": "stdout",
     "output_type": "stream",
     "text": [
      "Epoch [25900/100000]\n",
      "Train Loss: 5.8976, Train Accuracy: 0.0797\n",
      "Train Precision (micro): 0.0797, Train Precision (macro): 0.0056\n",
      "Train Recall (micro): 0.0797, Train Recall (macro): 0.0096\n",
      "Train F1 (micro): 0.0797, Train F1 (macro): 0.0053\n",
      "\n",
      "Val Loss: 5.9046, Val Accuracy: 0.0822\n",
      "Val Precision (micro): 0.0822, Val Precision (macro): 0.0069\n",
      "Val Recall (micro): 0.0822, Val Recall (macro): 0.0150\n",
      "Val F1 (micro): 0.0822, Val F1 (macro): 0.0081\n",
      "--------------------------------------------------------------------------------\n"
     ]
    },
    {
     "name": "stderr",
     "output_type": "stream",
     "text": [
      " 26%|██▌       | 25998/100000 [15:12<25:41, 48.00it/s]  "
     ]
    },
    {
     "name": "stdout",
     "output_type": "stream",
     "text": [
      "Epoch [26000/100000]\n",
      "Train Loss: 5.9365, Train Accuracy: 0.0833\n",
      "Train Precision (micro): 0.0833, Train Precision (macro): 0.0054\n",
      "Train Recall (micro): 0.0833, Train Recall (macro): 0.0094\n",
      "Train F1 (micro): 0.0833, Train F1 (macro): 0.0056\n",
      "\n",
      "Val Loss: 5.9003, Val Accuracy: 0.0809\n",
      "Val Precision (micro): 0.0809, Val Precision (macro): 0.0080\n",
      "Val Recall (micro): 0.0809, Val Recall (macro): 0.0149\n",
      "Val F1 (micro): 0.0809, Val F1 (macro): 0.0086\n",
      "--------------------------------------------------------------------------------\n"
     ]
    },
    {
     "name": "stderr",
     "output_type": "stream",
     "text": [
      " 26%|██▌       | 26095/100000 [15:15<26:08, 47.12it/s]  "
     ]
    },
    {
     "name": "stdout",
     "output_type": "stream",
     "text": [
      "Epoch [26100/100000]\n",
      "Train Loss: 5.9542, Train Accuracy: 0.0791\n",
      "Train Precision (micro): 0.0791, Train Precision (macro): 0.0062\n",
      "Train Recall (micro): 0.0791, Train Recall (macro): 0.0094\n",
      "Train F1 (micro): 0.0791, Train F1 (macro): 0.0057\n",
      "\n",
      "Val Loss: 5.9130, Val Accuracy: 0.0838\n",
      "Val Precision (micro): 0.0838, Val Precision (macro): 0.0076\n",
      "Val Recall (micro): 0.0838, Val Recall (macro): 0.0158\n",
      "Val F1 (micro): 0.0838, Val F1 (macro): 0.0087\n",
      "--------------------------------------------------------------------------------\n"
     ]
    },
    {
     "name": "stderr",
     "output_type": "stream",
     "text": [
      " 26%|██▌       | 26196/100000 [15:19<26:42, 46.05it/s]  "
     ]
    },
    {
     "name": "stdout",
     "output_type": "stream",
     "text": [
      "Epoch [26200/100000]\n",
      "Train Loss: 5.9125, Train Accuracy: 0.0739\n",
      "Train Precision (micro): 0.0739, Train Precision (macro): 0.0056\n",
      "Train Recall (micro): 0.0739, Train Recall (macro): 0.0098\n",
      "Train F1 (micro): 0.0739, Train F1 (macro): 0.0054\n",
      "\n",
      "Val Loss: 5.8981, Val Accuracy: 0.0825\n",
      "Val Precision (micro): 0.0825, Val Precision (macro): 0.0090\n",
      "Val Recall (micro): 0.0825, Val Recall (macro): 0.0152\n",
      "Val F1 (micro): 0.0825, Val F1 (macro): 0.0091\n",
      "--------------------------------------------------------------------------------\n"
     ]
    },
    {
     "name": "stderr",
     "output_type": "stream",
     "text": [
      " 26%|██▋       | 26299/100000 [15:22<27:00, 45.49it/s]  "
     ]
    },
    {
     "name": "stdout",
     "output_type": "stream",
     "text": [
      "Epoch [26300/100000]\n",
      "Train Loss: 5.8435, Train Accuracy: 0.0862\n",
      "Train Precision (micro): 0.0862, Train Precision (macro): 0.0054\n",
      "Train Recall (micro): 0.0862, Train Recall (macro): 0.0086\n",
      "Train F1 (micro): 0.0862, Train F1 (macro): 0.0049\n",
      "\n",
      "Val Loss: 5.9009, Val Accuracy: 0.0800\n",
      "Val Precision (micro): 0.0800, Val Precision (macro): 0.0065\n",
      "Val Recall (micro): 0.0800, Val Recall (macro): 0.0147\n",
      "Val F1 (micro): 0.0800, Val F1 (macro): 0.0075\n",
      "--------------------------------------------------------------------------------\n"
     ]
    },
    {
     "name": "stderr",
     "output_type": "stream",
     "text": [
      " 26%|██▋       | 26399/100000 [15:25<26:37, 46.08it/s]  "
     ]
    },
    {
     "name": "stdout",
     "output_type": "stream",
     "text": [
      "Epoch [26400/100000]\n",
      "Train Loss: 5.9188, Train Accuracy: 0.0750\n",
      "Train Precision (micro): 0.0750, Train Precision (macro): 0.0050\n",
      "Train Recall (micro): 0.0750, Train Recall (macro): 0.0103\n",
      "Train F1 (micro): 0.0750, Train F1 (macro): 0.0049\n",
      "\n",
      "Val Loss: 5.9162, Val Accuracy: 0.0813\n",
      "Val Precision (micro): 0.0813, Val Precision (macro): 0.0064\n",
      "Val Recall (micro): 0.0813, Val Recall (macro): 0.0151\n",
      "Val F1 (micro): 0.0813, Val F1 (macro): 0.0077\n",
      "--------------------------------------------------------------------------------\n"
     ]
    },
    {
     "name": "stderr",
     "output_type": "stream",
     "text": [
      " 26%|██▋       | 26495/100000 [15:29<25:19, 48.38it/s]  "
     ]
    },
    {
     "name": "stdout",
     "output_type": "stream",
     "text": [
      "Epoch [26500/100000]\n",
      "Train Loss: 5.9807, Train Accuracy: 0.0777\n",
      "Train Precision (micro): 0.0777, Train Precision (macro): 0.0040\n",
      "Train Recall (micro): 0.0777, Train Recall (macro): 0.0093\n",
      "Train F1 (micro): 0.0777, Train F1 (macro): 0.0045\n",
      "\n",
      "Val Loss: 5.9325, Val Accuracy: 0.0775\n",
      "Val Precision (micro): 0.0775, Val Precision (macro): 0.0067\n",
      "Val Recall (micro): 0.0775, Val Recall (macro): 0.0147\n",
      "Val F1 (micro): 0.0775, Val F1 (macro): 0.0077\n",
      "--------------------------------------------------------------------------------\n"
     ]
    },
    {
     "name": "stderr",
     "output_type": "stream",
     "text": [
      " 27%|██▋       | 26594/100000 [15:32<24:51, 49.21it/s]  "
     ]
    },
    {
     "name": "stdout",
     "output_type": "stream",
     "text": [
      "Epoch [26600/100000]\n",
      "Train Loss: 5.9546, Train Accuracy: 0.0736\n",
      "Train Precision (micro): 0.0736, Train Precision (macro): 0.0049\n",
      "Train Recall (micro): 0.0736, Train Recall (macro): 0.0087\n",
      "Train F1 (micro): 0.0736, Train F1 (macro): 0.0048\n",
      "\n",
      "Val Loss: 5.9071, Val Accuracy: 0.0784\n",
      "Val Precision (micro): 0.0784, Val Precision (macro): 0.0068\n",
      "Val Recall (micro): 0.0784, Val Recall (macro): 0.0143\n",
      "Val F1 (micro): 0.0784, Val F1 (macro): 0.0078\n",
      "--------------------------------------------------------------------------------\n"
     ]
    },
    {
     "name": "stderr",
     "output_type": "stream",
     "text": [
      " 27%|██▋       | 26698/100000 [15:36<24:18, 50.25it/s]  "
     ]
    },
    {
     "name": "stdout",
     "output_type": "stream",
     "text": [
      "Epoch [26700/100000]\n",
      "Train Loss: 5.8794, Train Accuracy: 0.0750\n",
      "Train Precision (micro): 0.0750, Train Precision (macro): 0.0043\n",
      "Train Recall (micro): 0.0750, Train Recall (macro): 0.0087\n",
      "Train F1 (micro): 0.0750, Train F1 (macro): 0.0044\n",
      "\n",
      "Val Loss: 5.9091, Val Accuracy: 0.0838\n",
      "Val Precision (micro): 0.0838, Val Precision (macro): 0.0074\n",
      "Val Recall (micro): 0.0838, Val Recall (macro): 0.0150\n",
      "Val F1 (micro): 0.0838, Val F1 (macro): 0.0080\n",
      "--------------------------------------------------------------------------------\n"
     ]
    },
    {
     "name": "stderr",
     "output_type": "stream",
     "text": [
      " 27%|██▋       | 26798/100000 [15:39<27:55, 43.68it/s]  "
     ]
    },
    {
     "name": "stdout",
     "output_type": "stream",
     "text": [
      "Epoch [26800/100000]\n",
      "Train Loss: 5.8554, Train Accuracy: 0.0831\n",
      "Train Precision (micro): 0.0831, Train Precision (macro): 0.0055\n",
      "Train Recall (micro): 0.0831, Train Recall (macro): 0.0114\n",
      "Train F1 (micro): 0.0831, Train F1 (macro): 0.0056\n",
      "\n",
      "Val Loss: 5.9143, Val Accuracy: 0.0784\n",
      "Val Precision (micro): 0.0784, Val Precision (macro): 0.0068\n",
      "Val Recall (micro): 0.0784, Val Recall (macro): 0.0150\n",
      "Val F1 (micro): 0.0784, Val F1 (macro): 0.0081\n",
      "--------------------------------------------------------------------------------\n"
     ]
    },
    {
     "name": "stderr",
     "output_type": "stream",
     "text": [
      " 27%|██▋       | 26897/100000 [15:43<40:57, 29.75it/s]  "
     ]
    },
    {
     "name": "stdout",
     "output_type": "stream",
     "text": [
      "Epoch [26900/100000]\n",
      "Train Loss: 5.8963, Train Accuracy: 0.0773\n",
      "Train Precision (micro): 0.0773, Train Precision (macro): 0.0053\n",
      "Train Recall (micro): 0.0773, Train Recall (macro): 0.0094\n",
      "Train F1 (micro): 0.0773, Train F1 (macro): 0.0053\n",
      "\n",
      "Val Loss: 5.9083, Val Accuracy: 0.0781\n",
      "Val Precision (micro): 0.0781, Val Precision (macro): 0.0062\n",
      "Val Recall (micro): 0.0781, Val Recall (macro): 0.0149\n",
      "Val F1 (micro): 0.0781, Val F1 (macro): 0.0074\n",
      "--------------------------------------------------------------------------------\n"
     ]
    },
    {
     "name": "stderr",
     "output_type": "stream",
     "text": [
      " 27%|██▋       | 26999/100000 [15:46<24:32, 49.57it/s]  "
     ]
    },
    {
     "name": "stdout",
     "output_type": "stream",
     "text": [
      "Epoch [27000/100000]\n",
      "Train Loss: 5.9311, Train Accuracy: 0.0780\n",
      "Train Precision (micro): 0.0780, Train Precision (macro): 0.0060\n",
      "Train Recall (micro): 0.0780, Train Recall (macro): 0.0095\n",
      "Train F1 (micro): 0.0780, Train F1 (macro): 0.0051\n",
      "\n",
      "Val Loss: 5.9123, Val Accuracy: 0.0778\n",
      "Val Precision (micro): 0.0778, Val Precision (macro): 0.0065\n",
      "Val Recall (micro): 0.0778, Val Recall (macro): 0.0147\n",
      "Val F1 (micro): 0.0778, Val F1 (macro): 0.0076\n",
      "--------------------------------------------------------------------------------\n"
     ]
    },
    {
     "name": "stderr",
     "output_type": "stream",
     "text": [
      " 27%|██▋       | 27099/100000 [15:50<24:31, 49.55it/s]  "
     ]
    },
    {
     "name": "stdout",
     "output_type": "stream",
     "text": [
      "Epoch [27100/100000]\n",
      "Train Loss: 5.9092, Train Accuracy: 0.0761\n",
      "Train Precision (micro): 0.0761, Train Precision (macro): 0.0047\n",
      "Train Recall (micro): 0.0761, Train Recall (macro): 0.0071\n",
      "Train F1 (micro): 0.0761, Train F1 (macro): 0.0042\n",
      "\n",
      "Val Loss: 5.9118, Val Accuracy: 0.0797\n",
      "Val Precision (micro): 0.0797, Val Precision (macro): 0.0069\n",
      "Val Recall (micro): 0.0797, Val Recall (macro): 0.0143\n",
      "Val F1 (micro): 0.0797, Val F1 (macro): 0.0076\n",
      "--------------------------------------------------------------------------------\n"
     ]
    },
    {
     "name": "stderr",
     "output_type": "stream",
     "text": [
      " 27%|██▋       | 27196/100000 [15:53<28:19, 42.85it/s]  "
     ]
    },
    {
     "name": "stdout",
     "output_type": "stream",
     "text": [
      "Epoch [27200/100000]\n",
      "Train Loss: 5.8451, Train Accuracy: 0.0825\n",
      "Train Precision (micro): 0.0825, Train Precision (macro): 0.0066\n",
      "Train Recall (micro): 0.0825, Train Recall (macro): 0.0104\n",
      "Train F1 (micro): 0.0825, Train F1 (macro): 0.0061\n",
      "\n",
      "Val Loss: 5.9112, Val Accuracy: 0.0781\n",
      "Val Precision (micro): 0.0781, Val Precision (macro): 0.0064\n",
      "Val Recall (micro): 0.0781, Val Recall (macro): 0.0145\n",
      "Val F1 (micro): 0.0781, Val F1 (macro): 0.0076\n",
      "--------------------------------------------------------------------------------\n"
     ]
    },
    {
     "name": "stderr",
     "output_type": "stream",
     "text": [
      " 27%|██▋       | 27295/100000 [15:56<24:25, 49.61it/s]  "
     ]
    },
    {
     "name": "stdout",
     "output_type": "stream",
     "text": [
      "Epoch [27300/100000]\n",
      "Train Loss: 5.9012, Train Accuracy: 0.0792\n",
      "Train Precision (micro): 0.0792, Train Precision (macro): 0.0053\n",
      "Train Recall (micro): 0.0792, Train Recall (macro): 0.0100\n",
      "Train F1 (micro): 0.0792, Train F1 (macro): 0.0058\n",
      "\n",
      "Val Loss: 5.9040, Val Accuracy: 0.0784\n",
      "Val Precision (micro): 0.0784, Val Precision (macro): 0.0066\n",
      "Val Recall (micro): 0.0784, Val Recall (macro): 0.0155\n",
      "Val F1 (micro): 0.0784, Val F1 (macro): 0.0078\n",
      "--------------------------------------------------------------------------------\n"
     ]
    },
    {
     "name": "stderr",
     "output_type": "stream",
     "text": [
      " 27%|██▋       | 27398/100000 [16:00<26:45, 45.22it/s]  "
     ]
    },
    {
     "name": "stdout",
     "output_type": "stream",
     "text": [
      "Epoch [27400/100000]\n",
      "Train Loss: 5.8696, Train Accuracy: 0.0809\n",
      "Train Precision (micro): 0.0809, Train Precision (macro): 0.0060\n",
      "Train Recall (micro): 0.0809, Train Recall (macro): 0.0110\n",
      "Train F1 (micro): 0.0809, Train F1 (macro): 0.0063\n",
      "\n",
      "Val Loss: 5.9034, Val Accuracy: 0.0778\n",
      "Val Precision (micro): 0.0778, Val Precision (macro): 0.0073\n",
      "Val Recall (micro): 0.0778, Val Recall (macro): 0.0150\n",
      "Val F1 (micro): 0.0778, Val F1 (macro): 0.0081\n",
      "--------------------------------------------------------------------------------\n"
     ]
    },
    {
     "name": "stderr",
     "output_type": "stream",
     "text": [
      " 27%|██▋       | 27497/100000 [16:04<24:42, 48.91it/s]  "
     ]
    },
    {
     "name": "stdout",
     "output_type": "stream",
     "text": [
      "Epoch [27500/100000]\n",
      "Train Loss: 5.9197, Train Accuracy: 0.0788\n",
      "Train Precision (micro): 0.0788, Train Precision (macro): 0.0052\n",
      "Train Recall (micro): 0.0788, Train Recall (macro): 0.0097\n",
      "Train F1 (micro): 0.0788, Train F1 (macro): 0.0053\n",
      "\n",
      "Val Loss: 5.9096, Val Accuracy: 0.0800\n",
      "Val Precision (micro): 0.0800, Val Precision (macro): 0.0068\n",
      "Val Recall (micro): 0.0800, Val Recall (macro): 0.0141\n",
      "Val F1 (micro): 0.0800, Val F1 (macro): 0.0075\n",
      "--------------------------------------------------------------------------------\n"
     ]
    },
    {
     "name": "stderr",
     "output_type": "stream",
     "text": [
      " 28%|██▊       | 27596/100000 [16:08<25:06, 48.06it/s]  "
     ]
    },
    {
     "name": "stdout",
     "output_type": "stream",
     "text": [
      "Epoch [27600/100000]\n",
      "Train Loss: 5.9134, Train Accuracy: 0.0777\n",
      "Train Precision (micro): 0.0777, Train Precision (macro): 0.0038\n",
      "Train Recall (micro): 0.0777, Train Recall (macro): 0.0083\n",
      "Train F1 (micro): 0.0777, Train F1 (macro): 0.0046\n",
      "\n",
      "Val Loss: 5.9162, Val Accuracy: 0.0794\n",
      "Val Precision (micro): 0.0794, Val Precision (macro): 0.0074\n",
      "Val Recall (micro): 0.0794, Val Recall (macro): 0.0148\n",
      "Val F1 (micro): 0.0794, Val F1 (macro): 0.0078\n",
      "--------------------------------------------------------------------------------\n"
     ]
    },
    {
     "name": "stderr",
     "output_type": "stream",
     "text": [
      " 28%|██▊       | 27698/100000 [16:11<24:10, 49.84it/s]  "
     ]
    },
    {
     "name": "stdout",
     "output_type": "stream",
     "text": [
      "Epoch [27700/100000]\n",
      "Train Loss: 5.9177, Train Accuracy: 0.0820\n",
      "Train Precision (micro): 0.0820, Train Precision (macro): 0.0050\n",
      "Train Recall (micro): 0.0820, Train Recall (macro): 0.0095\n",
      "Train F1 (micro): 0.0820, Train F1 (macro): 0.0047\n",
      "\n",
      "Val Loss: 5.8944, Val Accuracy: 0.0781\n",
      "Val Precision (micro): 0.0781, Val Precision (macro): 0.0067\n",
      "Val Recall (micro): 0.0781, Val Recall (macro): 0.0143\n",
      "Val F1 (micro): 0.0781, Val F1 (macro): 0.0074\n",
      "--------------------------------------------------------------------------------\n"
     ]
    },
    {
     "name": "stderr",
     "output_type": "stream",
     "text": [
      " 28%|██▊       | 27798/100000 [16:15<24:56, 48.24it/s]  "
     ]
    },
    {
     "name": "stdout",
     "output_type": "stream",
     "text": [
      "Epoch [27800/100000]\n",
      "Train Loss: 5.8974, Train Accuracy: 0.0800\n",
      "Train Precision (micro): 0.0800, Train Precision (macro): 0.0044\n",
      "Train Recall (micro): 0.0800, Train Recall (macro): 0.0103\n",
      "Train F1 (micro): 0.0800, Train F1 (macro): 0.0052\n",
      "\n",
      "Val Loss: 5.9259, Val Accuracy: 0.0831\n",
      "Val Precision (micro): 0.0831, Val Precision (macro): 0.0076\n",
      "Val Recall (micro): 0.0831, Val Recall (macro): 0.0156\n",
      "Val F1 (micro): 0.0831, Val F1 (macro): 0.0080\n",
      "--------------------------------------------------------------------------------\n"
     ]
    },
    {
     "name": "stderr",
     "output_type": "stream",
     "text": [
      " 28%|██▊       | 27895/100000 [16:18<25:57, 46.30it/s]  "
     ]
    },
    {
     "name": "stdout",
     "output_type": "stream",
     "text": [
      "Epoch [27900/100000]\n",
      "Train Loss: 5.8742, Train Accuracy: 0.0814\n",
      "Train Precision (micro): 0.0814, Train Precision (macro): 0.0059\n",
      "Train Recall (micro): 0.0814, Train Recall (macro): 0.0099\n",
      "Train F1 (micro): 0.0814, Train F1 (macro): 0.0058\n",
      "\n",
      "Val Loss: 5.8929, Val Accuracy: 0.0794\n",
      "Val Precision (micro): 0.0794, Val Precision (macro): 0.0072\n",
      "Val Recall (micro): 0.0794, Val Recall (macro): 0.0145\n",
      "Val F1 (micro): 0.0794, Val F1 (macro): 0.0081\n",
      "--------------------------------------------------------------------------------\n"
     ]
    },
    {
     "name": "stderr",
     "output_type": "stream",
     "text": [
      " 28%|██▊       | 27996/100000 [16:22<25:36, 46.87it/s]  "
     ]
    },
    {
     "name": "stdout",
     "output_type": "stream",
     "text": [
      "Epoch [28000/100000]\n",
      "Train Loss: 5.9243, Train Accuracy: 0.0778\n",
      "Train Precision (micro): 0.0778, Train Precision (macro): 0.0049\n",
      "Train Recall (micro): 0.0778, Train Recall (macro): 0.0100\n",
      "Train F1 (micro): 0.0778, Train F1 (macro): 0.0052\n",
      "\n",
      "Val Loss: 5.8998, Val Accuracy: 0.0834\n",
      "Val Precision (micro): 0.0834, Val Precision (macro): 0.0074\n",
      "Val Recall (micro): 0.0834, Val Recall (macro): 0.0151\n",
      "Val F1 (micro): 0.0834, Val F1 (macro): 0.0081\n",
      "--------------------------------------------------------------------------------\n"
     ]
    },
    {
     "name": "stderr",
     "output_type": "stream",
     "text": [
      " 28%|██▊       | 28097/100000 [16:25<24:44, 48.43it/s]  "
     ]
    },
    {
     "name": "stdout",
     "output_type": "stream",
     "text": [
      "Epoch [28100/100000]\n",
      "Train Loss: 5.8533, Train Accuracy: 0.0777\n",
      "Train Precision (micro): 0.0777, Train Precision (macro): 0.0058\n",
      "Train Recall (micro): 0.0777, Train Recall (macro): 0.0099\n",
      "Train F1 (micro): 0.0777, Train F1 (macro): 0.0058\n",
      "\n",
      "Val Loss: 5.8943, Val Accuracy: 0.0816\n",
      "Val Precision (micro): 0.0816, Val Precision (macro): 0.0066\n",
      "Val Recall (micro): 0.0816, Val Recall (macro): 0.0147\n",
      "Val F1 (micro): 0.0816, Val F1 (macro): 0.0076\n",
      "--------------------------------------------------------------------------------\n"
     ]
    },
    {
     "name": "stderr",
     "output_type": "stream",
     "text": [
      " 28%|██▊       | 28197/100000 [16:29<25:14, 47.42it/s]  "
     ]
    },
    {
     "name": "stdout",
     "output_type": "stream",
     "text": [
      "Epoch [28200/100000]\n",
      "Train Loss: 5.8870, Train Accuracy: 0.0816\n",
      "Train Precision (micro): 0.0816, Train Precision (macro): 0.0049\n",
      "Train Recall (micro): 0.0816, Train Recall (macro): 0.0103\n",
      "Train F1 (micro): 0.0816, Train F1 (macro): 0.0053\n",
      "\n",
      "Val Loss: 5.8970, Val Accuracy: 0.0809\n",
      "Val Precision (micro): 0.0809, Val Precision (macro): 0.0064\n",
      "Val Recall (micro): 0.0809, Val Recall (macro): 0.0150\n",
      "Val F1 (micro): 0.0809, Val F1 (macro): 0.0077\n",
      "--------------------------------------------------------------------------------\n"
     ]
    },
    {
     "name": "stderr",
     "output_type": "stream",
     "text": [
      " 28%|██▊       | 28295/100000 [16:32<25:32, 46.79it/s]  "
     ]
    },
    {
     "name": "stdout",
     "output_type": "stream",
     "text": [
      "Epoch [28300/100000]\n",
      "Train Loss: 5.8731, Train Accuracy: 0.0814\n",
      "Train Precision (micro): 0.0814, Train Precision (macro): 0.0045\n",
      "Train Recall (micro): 0.0814, Train Recall (macro): 0.0097\n",
      "Train F1 (micro): 0.0814, Train F1 (macro): 0.0054\n",
      "\n",
      "Val Loss: 5.9039, Val Accuracy: 0.0788\n",
      "Val Precision (micro): 0.0788, Val Precision (macro): 0.0065\n",
      "Val Recall (micro): 0.0788, Val Recall (macro): 0.0148\n",
      "Val F1 (micro): 0.0788, Val F1 (macro): 0.0079\n",
      "--------------------------------------------------------------------------------\n"
     ]
    },
    {
     "name": "stderr",
     "output_type": "stream",
     "text": [
      " 28%|██▊       | 28399/100000 [16:36<23:54, 49.91it/s]  "
     ]
    },
    {
     "name": "stdout",
     "output_type": "stream",
     "text": [
      "Epoch [28400/100000]\n",
      "Train Loss: 5.9365, Train Accuracy: 0.0761\n",
      "Train Precision (micro): 0.0761, Train Precision (macro): 0.0043\n",
      "Train Recall (micro): 0.0761, Train Recall (macro): 0.0087\n",
      "Train F1 (micro): 0.0761, Train F1 (macro): 0.0043\n",
      "\n",
      "Val Loss: 5.8953, Val Accuracy: 0.0806\n",
      "Val Precision (micro): 0.0806, Val Precision (macro): 0.0068\n",
      "Val Recall (micro): 0.0806, Val Recall (macro): 0.0147\n",
      "Val F1 (micro): 0.0806, Val F1 (macro): 0.0079\n",
      "--------------------------------------------------------------------------------\n"
     ]
    },
    {
     "name": "stderr",
     "output_type": "stream",
     "text": [
      " 28%|██▊       | 28494/100000 [16:39<25:38, 46.47it/s]  "
     ]
    },
    {
     "name": "stdout",
     "output_type": "stream",
     "text": [
      "Epoch [28500/100000]\n",
      "Train Loss: 5.9252, Train Accuracy: 0.0802\n",
      "Train Precision (micro): 0.0802, Train Precision (macro): 0.0059\n",
      "Train Recall (micro): 0.0802, Train Recall (macro): 0.0103\n",
      "Train F1 (micro): 0.0802, Train F1 (macro): 0.0060\n",
      "\n",
      "Val Loss: 5.9064, Val Accuracy: 0.0797\n",
      "Val Precision (micro): 0.0797, Val Precision (macro): 0.0075\n",
      "Val Recall (micro): 0.0797, Val Recall (macro): 0.0155\n",
      "Val F1 (micro): 0.0797, Val F1 (macro): 0.0081\n",
      "--------------------------------------------------------------------------------\n"
     ]
    },
    {
     "name": "stderr",
     "output_type": "stream",
     "text": [
      " 29%|██▊       | 28596/100000 [16:43<23:59, 49.59it/s]  "
     ]
    },
    {
     "name": "stdout",
     "output_type": "stream",
     "text": [
      "Epoch [28600/100000]\n",
      "Train Loss: 5.8903, Train Accuracy: 0.0773\n",
      "Train Precision (micro): 0.0773, Train Precision (macro): 0.0059\n",
      "Train Recall (micro): 0.0773, Train Recall (macro): 0.0098\n",
      "Train F1 (micro): 0.0773, Train F1 (macro): 0.0055\n",
      "\n",
      "Val Loss: 5.9275, Val Accuracy: 0.0788\n",
      "Val Precision (micro): 0.0788, Val Precision (macro): 0.0080\n",
      "Val Recall (micro): 0.0788, Val Recall (macro): 0.0148\n",
      "Val F1 (micro): 0.0788, Val F1 (macro): 0.0085\n",
      "--------------------------------------------------------------------------------\n"
     ]
    },
    {
     "name": "stderr",
     "output_type": "stream",
     "text": [
      " 29%|██▊       | 28698/100000 [16:46<24:06, 49.28it/s]  "
     ]
    },
    {
     "name": "stdout",
     "output_type": "stream",
     "text": [
      "Epoch [28700/100000]\n",
      "Train Loss: 5.9607, Train Accuracy: 0.0764\n",
      "Train Precision (micro): 0.0764, Train Precision (macro): 0.0043\n",
      "Train Recall (micro): 0.0764, Train Recall (macro): 0.0094\n",
      "Train F1 (micro): 0.0764, Train F1 (macro): 0.0048\n",
      "\n",
      "Val Loss: 5.9059, Val Accuracy: 0.0788\n",
      "Val Precision (micro): 0.0788, Val Precision (macro): 0.0069\n",
      "Val Recall (micro): 0.0788, Val Recall (macro): 0.0146\n",
      "Val F1 (micro): 0.0788, Val F1 (macro): 0.0076\n",
      "--------------------------------------------------------------------------------\n"
     ]
    },
    {
     "name": "stderr",
     "output_type": "stream",
     "text": [
      " 29%|██▉       | 28796/100000 [16:50<24:32, 48.37it/s]  "
     ]
    },
    {
     "name": "stdout",
     "output_type": "stream",
     "text": [
      "Epoch [28800/100000]\n",
      "Train Loss: 5.9230, Train Accuracy: 0.0780\n",
      "Train Precision (micro): 0.0780, Train Precision (macro): 0.0042\n",
      "Train Recall (micro): 0.0780, Train Recall (macro): 0.0074\n",
      "Train F1 (micro): 0.0780, Train F1 (macro): 0.0039\n",
      "\n",
      "Val Loss: 5.8991, Val Accuracy: 0.0791\n",
      "Val Precision (micro): 0.0791, Val Precision (macro): 0.0070\n",
      "Val Recall (micro): 0.0791, Val Recall (macro): 0.0148\n",
      "Val F1 (micro): 0.0791, Val F1 (macro): 0.0076\n",
      "--------------------------------------------------------------------------------\n"
     ]
    },
    {
     "name": "stderr",
     "output_type": "stream",
     "text": [
      " 29%|██▉       | 28898/100000 [16:53<23:52, 49.63it/s]  "
     ]
    },
    {
     "name": "stdout",
     "output_type": "stream",
     "text": [
      "Epoch [28900/100000]\n",
      "Train Loss: 5.8773, Train Accuracy: 0.0809\n",
      "Train Precision (micro): 0.0809, Train Precision (macro): 0.0069\n",
      "Train Recall (micro): 0.0809, Train Recall (macro): 0.0122\n",
      "Train F1 (micro): 0.0809, Train F1 (macro): 0.0073\n",
      "\n",
      "Val Loss: 5.8878, Val Accuracy: 0.0831\n",
      "Val Precision (micro): 0.0831, Val Precision (macro): 0.0067\n",
      "Val Recall (micro): 0.0831, Val Recall (macro): 0.0158\n",
      "Val F1 (micro): 0.0831, Val F1 (macro): 0.0078\n",
      "--------------------------------------------------------------------------------\n"
     ]
    },
    {
     "name": "stderr",
     "output_type": "stream",
     "text": [
      " 29%|██▉       | 28994/100000 [16:57<24:28, 48.36it/s]  "
     ]
    },
    {
     "name": "stdout",
     "output_type": "stream",
     "text": [
      "Epoch [29000/100000]\n",
      "Train Loss: 5.8730, Train Accuracy: 0.0784\n",
      "Train Precision (micro): 0.0784, Train Precision (macro): 0.0055\n",
      "Train Recall (micro): 0.0784, Train Recall (macro): 0.0093\n",
      "Train F1 (micro): 0.0784, Train F1 (macro): 0.0046\n",
      "\n",
      "Val Loss: 5.9177, Val Accuracy: 0.0769\n",
      "Val Precision (micro): 0.0769, Val Precision (macro): 0.0076\n",
      "Val Recall (micro): 0.0769, Val Recall (macro): 0.0140\n",
      "Val F1 (micro): 0.0769, Val F1 (macro): 0.0077\n",
      "--------------------------------------------------------------------------------\n"
     ]
    },
    {
     "name": "stderr",
     "output_type": "stream",
     "text": [
      " 29%|██▉       | 29096/100000 [17:00<26:15, 45.01it/s]  "
     ]
    },
    {
     "name": "stdout",
     "output_type": "stream",
     "text": [
      "Epoch [29100/100000]\n",
      "Train Loss: 5.8815, Train Accuracy: 0.0808\n",
      "Train Precision (micro): 0.0808, Train Precision (macro): 0.0063\n",
      "Train Recall (micro): 0.0808, Train Recall (macro): 0.0106\n",
      "Train F1 (micro): 0.0808, Train F1 (macro): 0.0061\n",
      "\n",
      "Val Loss: 5.8805, Val Accuracy: 0.0791\n",
      "Val Precision (micro): 0.0791, Val Precision (macro): 0.0066\n",
      "Val Recall (micro): 0.0791, Val Recall (macro): 0.0148\n",
      "Val F1 (micro): 0.0791, Val F1 (macro): 0.0077\n",
      "--------------------------------------------------------------------------------\n"
     ]
    },
    {
     "name": "stderr",
     "output_type": "stream",
     "text": [
      " 29%|██▉       | 29198/100000 [17:04<24:21, 48.43it/s]  "
     ]
    },
    {
     "name": "stdout",
     "output_type": "stream",
     "text": [
      "Epoch [29200/100000]\n",
      "Train Loss: 5.8851, Train Accuracy: 0.0794\n",
      "Train Precision (micro): 0.0794, Train Precision (macro): 0.0048\n",
      "Train Recall (micro): 0.0794, Train Recall (macro): 0.0095\n",
      "Train F1 (micro): 0.0794, Train F1 (macro): 0.0056\n",
      "\n",
      "Val Loss: 5.9093, Val Accuracy: 0.0788\n",
      "Val Precision (micro): 0.0788, Val Precision (macro): 0.0078\n",
      "Val Recall (micro): 0.0788, Val Recall (macro): 0.0151\n",
      "Val F1 (micro): 0.0788, Val F1 (macro): 0.0083\n",
      "--------------------------------------------------------------------------------\n"
     ]
    },
    {
     "name": "stderr",
     "output_type": "stream",
     "text": [
      " 29%|██▉       | 29295/100000 [17:07<24:08, 48.80it/s]  "
     ]
    },
    {
     "name": "stdout",
     "output_type": "stream",
     "text": [
      "Epoch [29300/100000]\n",
      "Train Loss: 5.9088, Train Accuracy: 0.0827\n",
      "Train Precision (micro): 0.0827, Train Precision (macro): 0.0047\n",
      "Train Recall (micro): 0.0827, Train Recall (macro): 0.0105\n",
      "Train F1 (micro): 0.0827, Train F1 (macro): 0.0053\n",
      "\n",
      "Val Loss: 5.8974, Val Accuracy: 0.0813\n",
      "Val Precision (micro): 0.0813, Val Precision (macro): 0.0071\n",
      "Val Recall (micro): 0.0813, Val Recall (macro): 0.0157\n",
      "Val F1 (micro): 0.0813, Val F1 (macro): 0.0082\n",
      "--------------------------------------------------------------------------------\n"
     ]
    },
    {
     "name": "stderr",
     "output_type": "stream",
     "text": [
      " 29%|██▉       | 29394/100000 [17:11<26:01, 45.23it/s]  "
     ]
    },
    {
     "name": "stdout",
     "output_type": "stream",
     "text": [
      "Epoch [29400/100000]\n",
      "Train Loss: 5.8519, Train Accuracy: 0.0836\n",
      "Train Precision (micro): 0.0836, Train Precision (macro): 0.0059\n",
      "Train Recall (micro): 0.0836, Train Recall (macro): 0.0101\n",
      "Train F1 (micro): 0.0836, Train F1 (macro): 0.0059\n",
      "\n",
      "Val Loss: 5.8903, Val Accuracy: 0.0800\n",
      "Val Precision (micro): 0.0800, Val Precision (macro): 0.0079\n",
      "Val Recall (micro): 0.0800, Val Recall (macro): 0.0155\n",
      "Val F1 (micro): 0.0800, Val F1 (macro): 0.0086\n",
      "--------------------------------------------------------------------------------\n"
     ]
    },
    {
     "name": "stderr",
     "output_type": "stream",
     "text": [
      " 29%|██▉       | 29494/100000 [17:14<23:50, 49.30it/s]  "
     ]
    },
    {
     "name": "stdout",
     "output_type": "stream",
     "text": [
      "Epoch [29500/100000]\n",
      "Train Loss: 5.8286, Train Accuracy: 0.0828\n",
      "Train Precision (micro): 0.0828, Train Precision (macro): 0.0088\n",
      "Train Recall (micro): 0.0828, Train Recall (macro): 0.0113\n",
      "Train F1 (micro): 0.0828, Train F1 (macro): 0.0078\n",
      "\n",
      "Val Loss: 5.9084, Val Accuracy: 0.0803\n",
      "Val Precision (micro): 0.0803, Val Precision (macro): 0.0074\n",
      "Val Recall (micro): 0.0803, Val Recall (macro): 0.0149\n",
      "Val F1 (micro): 0.0803, Val F1 (macro): 0.0078\n",
      "--------------------------------------------------------------------------------\n"
     ]
    },
    {
     "name": "stderr",
     "output_type": "stream",
     "text": [
      " 30%|██▉       | 29595/100000 [17:18<24:28, 47.95it/s]  "
     ]
    },
    {
     "name": "stdout",
     "output_type": "stream",
     "text": [
      "Epoch [29600/100000]\n",
      "Train Loss: 5.8973, Train Accuracy: 0.0798\n",
      "Train Precision (micro): 0.0798, Train Precision (macro): 0.0051\n",
      "Train Recall (micro): 0.0798, Train Recall (macro): 0.0105\n",
      "Train F1 (micro): 0.0798, Train F1 (macro): 0.0052\n",
      "\n",
      "Val Loss: 5.8893, Val Accuracy: 0.0816\n",
      "Val Precision (micro): 0.0816, Val Precision (macro): 0.0078\n",
      "Val Recall (micro): 0.0816, Val Recall (macro): 0.0162\n",
      "Val F1 (micro): 0.0816, Val F1 (macro): 0.0087\n",
      "--------------------------------------------------------------------------------\n"
     ]
    },
    {
     "name": "stderr",
     "output_type": "stream",
     "text": [
      " 30%|██▉       | 29694/100000 [17:21<23:46, 49.29it/s]  "
     ]
    },
    {
     "name": "stdout",
     "output_type": "stream",
     "text": [
      "Epoch [29700/100000]\n",
      "Train Loss: 5.8720, Train Accuracy: 0.0809\n",
      "Train Precision (micro): 0.0809, Train Precision (macro): 0.0039\n",
      "Train Recall (micro): 0.0809, Train Recall (macro): 0.0106\n",
      "Train F1 (micro): 0.0809, Train F1 (macro): 0.0050\n",
      "\n",
      "Val Loss: 5.9325, Val Accuracy: 0.0809\n",
      "Val Precision (micro): 0.0809, Val Precision (macro): 0.0067\n",
      "Val Recall (micro): 0.0809, Val Recall (macro): 0.0155\n",
      "Val F1 (micro): 0.0809, Val F1 (macro): 0.0078\n",
      "--------------------------------------------------------------------------------\n"
     ]
    },
    {
     "name": "stderr",
     "output_type": "stream",
     "text": [
      " 30%|██▉       | 29799/100000 [17:25<23:55, 48.92it/s]  "
     ]
    },
    {
     "name": "stdout",
     "output_type": "stream",
     "text": [
      "Epoch [29800/100000]\n",
      "Train Loss: 5.8717, Train Accuracy: 0.0830\n",
      "Train Precision (micro): 0.0830, Train Precision (macro): 0.0049\n",
      "Train Recall (micro): 0.0830, Train Recall (macro): 0.0102\n",
      "Train F1 (micro): 0.0830, Train F1 (macro): 0.0053\n",
      "\n",
      "Val Loss: 5.8853, Val Accuracy: 0.0800\n",
      "Val Precision (micro): 0.0800, Val Precision (macro): 0.0073\n",
      "Val Recall (micro): 0.0800, Val Recall (macro): 0.0154\n",
      "Val F1 (micro): 0.0800, Val F1 (macro): 0.0081\n",
      "--------------------------------------------------------------------------------\n"
     ]
    },
    {
     "name": "stderr",
     "output_type": "stream",
     "text": [
      " 30%|██▉       | 29899/100000 [17:28<25:00, 46.71it/s]  "
     ]
    },
    {
     "name": "stdout",
     "output_type": "stream",
     "text": [
      "Epoch [29900/100000]\n",
      "Train Loss: 5.9106, Train Accuracy: 0.0811\n",
      "Train Precision (micro): 0.0811, Train Precision (macro): 0.0069\n",
      "Train Recall (micro): 0.0811, Train Recall (macro): 0.0106\n",
      "Train F1 (micro): 0.0811, Train F1 (macro): 0.0065\n",
      "\n",
      "Val Loss: 5.8854, Val Accuracy: 0.0797\n",
      "Val Precision (micro): 0.0797, Val Precision (macro): 0.0069\n",
      "Val Recall (micro): 0.0797, Val Recall (macro): 0.0155\n",
      "Val F1 (micro): 0.0797, Val F1 (macro): 0.0082\n",
      "--------------------------------------------------------------------------------\n"
     ]
    },
    {
     "name": "stderr",
     "output_type": "stream",
     "text": [
      " 30%|██▉       | 29999/100000 [17:32<23:35, 49.45it/s]  "
     ]
    },
    {
     "name": "stdout",
     "output_type": "stream",
     "text": [
      "Epoch [30000/100000]\n",
      "Train Loss: 5.8925, Train Accuracy: 0.0841\n",
      "Train Precision (micro): 0.0841, Train Precision (macro): 0.0052\n",
      "Train Recall (micro): 0.0841, Train Recall (macro): 0.0102\n",
      "Train F1 (micro): 0.0841, Train F1 (macro): 0.0056\n",
      "\n",
      "Val Loss: 5.8840, Val Accuracy: 0.0831\n",
      "Val Precision (micro): 0.0831, Val Precision (macro): 0.0083\n",
      "Val Recall (micro): 0.0831, Val Recall (macro): 0.0171\n",
      "Val F1 (micro): 0.0831, Val F1 (macro): 0.0093\n",
      "--------------------------------------------------------------------------------\n"
     ]
    },
    {
     "name": "stderr",
     "output_type": "stream",
     "text": [
      " 30%|███       | 30098/100000 [17:37<26:55, 43.28it/s]  "
     ]
    },
    {
     "name": "stdout",
     "output_type": "stream",
     "text": [
      "Epoch [30100/100000]\n",
      "Train Loss: 5.8887, Train Accuracy: 0.0803\n",
      "Train Precision (micro): 0.0803, Train Precision (macro): 0.0053\n",
      "Train Recall (micro): 0.0803, Train Recall (macro): 0.0101\n",
      "Train F1 (micro): 0.0803, Train F1 (macro): 0.0057\n",
      "\n",
      "Val Loss: 5.8918, Val Accuracy: 0.0822\n",
      "Val Precision (micro): 0.0822, Val Precision (macro): 0.0071\n",
      "Val Recall (micro): 0.0822, Val Recall (macro): 0.0151\n",
      "Val F1 (micro): 0.0822, Val F1 (macro): 0.0080\n",
      "--------------------------------------------------------------------------------\n"
     ]
    },
    {
     "name": "stderr",
     "output_type": "stream",
     "text": [
      " 30%|███       | 30199/100000 [17:40<24:18, 47.85it/s]  "
     ]
    },
    {
     "name": "stdout",
     "output_type": "stream",
     "text": [
      "Epoch [30200/100000]\n",
      "Train Loss: 5.8725, Train Accuracy: 0.0769\n",
      "Train Precision (micro): 0.0769, Train Precision (macro): 0.0055\n",
      "Train Recall (micro): 0.0769, Train Recall (macro): 0.0090\n",
      "Train F1 (micro): 0.0769, Train F1 (macro): 0.0049\n",
      "\n",
      "Val Loss: 5.8972, Val Accuracy: 0.0794\n",
      "Val Precision (micro): 0.0794, Val Precision (macro): 0.0077\n",
      "Val Recall (micro): 0.0794, Val Recall (macro): 0.0151\n",
      "Val F1 (micro): 0.0794, Val F1 (macro): 0.0086\n",
      "--------------------------------------------------------------------------------\n"
     ]
    },
    {
     "name": "stderr",
     "output_type": "stream",
     "text": [
      " 30%|███       | 30299/100000 [17:44<23:44, 48.93it/s]  "
     ]
    },
    {
     "name": "stdout",
     "output_type": "stream",
     "text": [
      "Epoch [30300/100000]\n",
      "Train Loss: 5.9338, Train Accuracy: 0.0780\n",
      "Train Precision (micro): 0.0780, Train Precision (macro): 0.0051\n",
      "Train Recall (micro): 0.0780, Train Recall (macro): 0.0095\n",
      "Train F1 (micro): 0.0780, Train F1 (macro): 0.0054\n",
      "\n",
      "Val Loss: 5.8783, Val Accuracy: 0.0806\n",
      "Val Precision (micro): 0.0806, Val Precision (macro): 0.0087\n",
      "Val Recall (micro): 0.0806, Val Recall (macro): 0.0167\n",
      "Val F1 (micro): 0.0806, Val F1 (macro): 0.0095\n",
      "--------------------------------------------------------------------------------\n"
     ]
    },
    {
     "name": "stderr",
     "output_type": "stream",
     "text": [
      " 30%|███       | 30398/100000 [17:47<25:38, 45.23it/s]  "
     ]
    },
    {
     "name": "stdout",
     "output_type": "stream",
     "text": [
      "Epoch [30400/100000]\n",
      "Train Loss: 5.9246, Train Accuracy: 0.0766\n",
      "Train Precision (micro): 0.0766, Train Precision (macro): 0.0054\n",
      "Train Recall (micro): 0.0766, Train Recall (macro): 0.0095\n",
      "Train F1 (micro): 0.0766, Train F1 (macro): 0.0056\n",
      "\n",
      "Val Loss: 5.8785, Val Accuracy: 0.0819\n",
      "Val Precision (micro): 0.0819, Val Precision (macro): 0.0090\n",
      "Val Recall (micro): 0.0819, Val Recall (macro): 0.0169\n",
      "Val F1 (micro): 0.0819, Val F1 (macro): 0.0094\n",
      "--------------------------------------------------------------------------------\n"
     ]
    },
    {
     "name": "stderr",
     "output_type": "stream",
     "text": [
      " 30%|███       | 30499/100000 [17:51<23:37, 49.04it/s]  "
     ]
    },
    {
     "name": "stdout",
     "output_type": "stream",
     "text": [
      "Epoch [30500/100000]\n",
      "Train Loss: 5.9037, Train Accuracy: 0.0769\n",
      "Train Precision (micro): 0.0769, Train Precision (macro): 0.0034\n",
      "Train Recall (micro): 0.0769, Train Recall (macro): 0.0085\n",
      "Train F1 (micro): 0.0769, Train F1 (macro): 0.0037\n",
      "\n",
      "Val Loss: 5.8737, Val Accuracy: 0.0816\n",
      "Val Precision (micro): 0.0816, Val Precision (macro): 0.0093\n",
      "Val Recall (micro): 0.0816, Val Recall (macro): 0.0168\n",
      "Val F1 (micro): 0.0816, Val F1 (macro): 0.0099\n",
      "--------------------------------------------------------------------------------\n"
     ]
    },
    {
     "name": "stderr",
     "output_type": "stream",
     "text": [
      " 31%|███       | 30594/100000 [17:54<23:00, 50.28it/s]  "
     ]
    },
    {
     "name": "stdout",
     "output_type": "stream",
     "text": [
      "Epoch [30600/100000]\n",
      "Train Loss: 5.9090, Train Accuracy: 0.0827\n",
      "Train Precision (micro): 0.0827, Train Precision (macro): 0.0063\n",
      "Train Recall (micro): 0.0827, Train Recall (macro): 0.0104\n",
      "Train F1 (micro): 0.0827, Train F1 (macro): 0.0061\n",
      "\n",
      "Val Loss: 5.8773, Val Accuracy: 0.0806\n",
      "Val Precision (micro): 0.0806, Val Precision (macro): 0.0078\n",
      "Val Recall (micro): 0.0806, Val Recall (macro): 0.0157\n",
      "Val F1 (micro): 0.0806, Val F1 (macro): 0.0087\n",
      "--------------------------------------------------------------------------------\n"
     ]
    },
    {
     "name": "stderr",
     "output_type": "stream",
     "text": [
      " 31%|███       | 30697/100000 [17:58<27:29, 42.01it/s]  "
     ]
    },
    {
     "name": "stdout",
     "output_type": "stream",
     "text": [
      "Epoch [30700/100000]\n",
      "Train Loss: 5.9114, Train Accuracy: 0.0797\n",
      "Train Precision (micro): 0.0797, Train Precision (macro): 0.0057\n",
      "Train Recall (micro): 0.0797, Train Recall (macro): 0.0093\n",
      "Train F1 (micro): 0.0797, Train F1 (macro): 0.0053\n",
      "\n",
      "Val Loss: 5.8792, Val Accuracy: 0.0819\n",
      "Val Precision (micro): 0.0819, Val Precision (macro): 0.0075\n",
      "Val Recall (micro): 0.0819, Val Recall (macro): 0.0157\n",
      "Val F1 (micro): 0.0819, Val F1 (macro): 0.0085\n",
      "--------------------------------------------------------------------------------\n"
     ]
    },
    {
     "name": "stderr",
     "output_type": "stream",
     "text": [
      " 31%|███       | 30796/100000 [18:01<23:37, 48.81it/s]  "
     ]
    },
    {
     "name": "stdout",
     "output_type": "stream",
     "text": [
      "Epoch [30800/100000]\n",
      "Train Loss: 5.8462, Train Accuracy: 0.0834\n",
      "Train Precision (micro): 0.0834, Train Precision (macro): 0.0060\n",
      "Train Recall (micro): 0.0834, Train Recall (macro): 0.0106\n",
      "Train F1 (micro): 0.0834, Train F1 (macro): 0.0061\n",
      "\n",
      "Val Loss: 5.8672, Val Accuracy: 0.0806\n",
      "Val Precision (micro): 0.0806, Val Precision (macro): 0.0089\n",
      "Val Recall (micro): 0.0806, Val Recall (macro): 0.0159\n",
      "Val F1 (micro): 0.0806, Val F1 (macro): 0.0088\n",
      "--------------------------------------------------------------------------------\n"
     ]
    },
    {
     "name": "stderr",
     "output_type": "stream",
     "text": [
      " 31%|███       | 30898/100000 [18:05<23:01, 50.04it/s]  "
     ]
    },
    {
     "name": "stdout",
     "output_type": "stream",
     "text": [
      "Epoch [30900/100000]\n",
      "Train Loss: 5.8835, Train Accuracy: 0.0855\n",
      "Train Precision (micro): 0.0855, Train Precision (macro): 0.0068\n",
      "Train Recall (micro): 0.0855, Train Recall (macro): 0.0111\n",
      "Train F1 (micro): 0.0855, Train F1 (macro): 0.0067\n",
      "\n",
      "Val Loss: 5.8721, Val Accuracy: 0.0791\n",
      "Val Precision (micro): 0.0791, Val Precision (macro): 0.0075\n",
      "Val Recall (micro): 0.0791, Val Recall (macro): 0.0152\n",
      "Val F1 (micro): 0.0791, Val F1 (macro): 0.0085\n",
      "--------------------------------------------------------------------------------\n"
     ]
    },
    {
     "name": "stderr",
     "output_type": "stream",
     "text": [
      " 31%|███       | 30999/100000 [18:09<23:30, 48.91it/s]  "
     ]
    },
    {
     "name": "stdout",
     "output_type": "stream",
     "text": [
      "Epoch [31000/100000]\n",
      "Train Loss: 5.8603, Train Accuracy: 0.0862\n",
      "Train Precision (micro): 0.0862, Train Precision (macro): 0.0071\n",
      "Train Recall (micro): 0.0862, Train Recall (macro): 0.0119\n",
      "Train F1 (micro): 0.0862, Train F1 (macro): 0.0072\n",
      "\n",
      "Val Loss: 5.8793, Val Accuracy: 0.0803\n",
      "Val Precision (micro): 0.0803, Val Precision (macro): 0.0074\n",
      "Val Recall (micro): 0.0803, Val Recall (macro): 0.0149\n",
      "Val F1 (micro): 0.0803, Val F1 (macro): 0.0084\n",
      "--------------------------------------------------------------------------------\n"
     ]
    },
    {
     "name": "stderr",
     "output_type": "stream",
     "text": [
      " 31%|███       | 31096/100000 [18:12<24:14, 47.37it/s]  "
     ]
    },
    {
     "name": "stdout",
     "output_type": "stream",
     "text": [
      "Epoch [31100/100000]\n",
      "Train Loss: 5.8696, Train Accuracy: 0.0764\n",
      "Train Precision (micro): 0.0764, Train Precision (macro): 0.0048\n",
      "Train Recall (micro): 0.0764, Train Recall (macro): 0.0103\n",
      "Train F1 (micro): 0.0764, Train F1 (macro): 0.0054\n",
      "\n",
      "Val Loss: 5.8847, Val Accuracy: 0.0797\n",
      "Val Precision (micro): 0.0797, Val Precision (macro): 0.0078\n",
      "Val Recall (micro): 0.0797, Val Recall (macro): 0.0155\n",
      "Val F1 (micro): 0.0797, Val F1 (macro): 0.0079\n",
      "--------------------------------------------------------------------------------\n"
     ]
    },
    {
     "name": "stderr",
     "output_type": "stream",
     "text": [
      " 31%|███       | 31197/100000 [18:16<23:32, 48.70it/s]  "
     ]
    },
    {
     "name": "stdout",
     "output_type": "stream",
     "text": [
      "Epoch [31200/100000]\n",
      "Train Loss: 5.8430, Train Accuracy: 0.0864\n",
      "Train Precision (micro): 0.0864, Train Precision (macro): 0.0062\n",
      "Train Recall (micro): 0.0864, Train Recall (macro): 0.0119\n",
      "Train F1 (micro): 0.0864, Train F1 (macro): 0.0066\n",
      "\n",
      "Val Loss: 5.8766, Val Accuracy: 0.0797\n",
      "Val Precision (micro): 0.0797, Val Precision (macro): 0.0077\n",
      "Val Recall (micro): 0.0797, Val Recall (macro): 0.0155\n",
      "Val F1 (micro): 0.0797, Val F1 (macro): 0.0082\n",
      "--------------------------------------------------------------------------------\n"
     ]
    },
    {
     "name": "stderr",
     "output_type": "stream",
     "text": [
      " 31%|███▏      | 31298/100000 [18:19<26:59, 42.41it/s]  "
     ]
    },
    {
     "name": "stdout",
     "output_type": "stream",
     "text": [
      "Epoch [31300/100000]\n",
      "Train Loss: 5.8856, Train Accuracy: 0.0820\n",
      "Train Precision (micro): 0.0820, Train Precision (macro): 0.0051\n",
      "Train Recall (micro): 0.0820, Train Recall (macro): 0.0101\n",
      "Train F1 (micro): 0.0820, Train F1 (macro): 0.0054\n",
      "\n",
      "Val Loss: 5.8802, Val Accuracy: 0.0791\n",
      "Val Precision (micro): 0.0791, Val Precision (macro): 0.0074\n",
      "Val Recall (micro): 0.0791, Val Recall (macro): 0.0151\n",
      "Val F1 (micro): 0.0791, Val F1 (macro): 0.0083\n",
      "--------------------------------------------------------------------------------\n"
     ]
    },
    {
     "name": "stderr",
     "output_type": "stream",
     "text": [
      " 31%|███▏      | 31396/100000 [18:23<23:37, 48.41it/s]  "
     ]
    },
    {
     "name": "stdout",
     "output_type": "stream",
     "text": [
      "Epoch [31400/100000]\n",
      "Train Loss: 5.9087, Train Accuracy: 0.0834\n",
      "Train Precision (micro): 0.0834, Train Precision (macro): 0.0055\n",
      "Train Recall (micro): 0.0834, Train Recall (macro): 0.0103\n",
      "Train F1 (micro): 0.0834, Train F1 (macro): 0.0053\n",
      "\n",
      "Val Loss: 5.8711, Val Accuracy: 0.0813\n",
      "Val Precision (micro): 0.0813, Val Precision (macro): 0.0076\n",
      "Val Recall (micro): 0.0813, Val Recall (macro): 0.0161\n",
      "Val F1 (micro): 0.0813, Val F1 (macro): 0.0085\n",
      "--------------------------------------------------------------------------------\n"
     ]
    },
    {
     "name": "stderr",
     "output_type": "stream",
     "text": [
      " 31%|███▏      | 31494/100000 [18:27<23:04, 49.48it/s]  "
     ]
    },
    {
     "name": "stdout",
     "output_type": "stream",
     "text": [
      "Epoch [31500/100000]\n",
      "Train Loss: 5.8534, Train Accuracy: 0.0786\n",
      "Train Precision (micro): 0.0786, Train Precision (macro): 0.0076\n",
      "Train Recall (micro): 0.0786, Train Recall (macro): 0.0109\n",
      "Train F1 (micro): 0.0786, Train F1 (macro): 0.0069\n",
      "\n",
      "Val Loss: 5.8784, Val Accuracy: 0.0791\n",
      "Val Precision (micro): 0.0791, Val Precision (macro): 0.0079\n",
      "Val Recall (micro): 0.0791, Val Recall (macro): 0.0152\n",
      "Val F1 (micro): 0.0791, Val F1 (macro): 0.0083\n",
      "--------------------------------------------------------------------------------\n"
     ]
    },
    {
     "name": "stderr",
     "output_type": "stream",
     "text": [
      " 32%|███▏      | 31595/100000 [18:30<23:08, 49.27it/s]  "
     ]
    },
    {
     "name": "stdout",
     "output_type": "stream",
     "text": [
      "Epoch [31600/100000]\n",
      "Train Loss: 5.9281, Train Accuracy: 0.0772\n",
      "Train Precision (micro): 0.0772, Train Precision (macro): 0.0063\n",
      "Train Recall (micro): 0.0772, Train Recall (macro): 0.0120\n",
      "Train F1 (micro): 0.0772, Train F1 (macro): 0.0069\n",
      "\n",
      "Val Loss: 5.8662, Val Accuracy: 0.0806\n",
      "Val Precision (micro): 0.0806, Val Precision (macro): 0.0077\n",
      "Val Recall (micro): 0.0806, Val Recall (macro): 0.0158\n",
      "Val F1 (micro): 0.0806, Val F1 (macro): 0.0086\n",
      "--------------------------------------------------------------------------------\n"
     ]
    },
    {
     "name": "stderr",
     "output_type": "stream",
     "text": [
      " 32%|███▏      | 31696/100000 [18:33<22:51, 49.81it/s]  "
     ]
    },
    {
     "name": "stdout",
     "output_type": "stream",
     "text": [
      "Epoch [31700/100000]\n",
      "Train Loss: 5.8607, Train Accuracy: 0.0864\n",
      "Train Precision (micro): 0.0864, Train Precision (macro): 0.0078\n",
      "Train Recall (micro): 0.0864, Train Recall (macro): 0.0118\n",
      "Train F1 (micro): 0.0864, Train F1 (macro): 0.0071\n",
      "\n",
      "Val Loss: 5.8711, Val Accuracy: 0.0816\n",
      "Val Precision (micro): 0.0816, Val Precision (macro): 0.0074\n",
      "Val Recall (micro): 0.0816, Val Recall (macro): 0.0158\n",
      "Val F1 (micro): 0.0816, Val F1 (macro): 0.0084\n",
      "--------------------------------------------------------------------------------\n"
     ]
    },
    {
     "name": "stderr",
     "output_type": "stream",
     "text": [
      " 32%|███▏      | 31794/100000 [18:37<22:35, 50.30it/s]  "
     ]
    },
    {
     "name": "stdout",
     "output_type": "stream",
     "text": [
      "Epoch [31800/100000]\n",
      "Train Loss: 5.8623, Train Accuracy: 0.0836\n",
      "Train Precision (micro): 0.0836, Train Precision (macro): 0.0064\n",
      "Train Recall (micro): 0.0836, Train Recall (macro): 0.0101\n",
      "Train F1 (micro): 0.0836, Train F1 (macro): 0.0059\n",
      "\n",
      "Val Loss: 5.8716, Val Accuracy: 0.0825\n",
      "Val Precision (micro): 0.0825, Val Precision (macro): 0.0076\n",
      "Val Recall (micro): 0.0825, Val Recall (macro): 0.0168\n",
      "Val F1 (micro): 0.0825, Val F1 (macro): 0.0089\n",
      "--------------------------------------------------------------------------------\n"
     ]
    },
    {
     "name": "stderr",
     "output_type": "stream",
     "text": [
      " 32%|███▏      | 31897/100000 [18:41<22:46, 49.83it/s]  "
     ]
    },
    {
     "name": "stdout",
     "output_type": "stream",
     "text": [
      "Epoch [31900/100000]\n",
      "Train Loss: 5.9352, Train Accuracy: 0.0828\n",
      "Train Precision (micro): 0.0828, Train Precision (macro): 0.0061\n",
      "Train Recall (micro): 0.0828, Train Recall (macro): 0.0109\n",
      "Train F1 (micro): 0.0828, Train F1 (macro): 0.0062\n",
      "\n",
      "Val Loss: 5.8846, Val Accuracy: 0.0775\n",
      "Val Precision (micro): 0.0775, Val Precision (macro): 0.0066\n",
      "Val Recall (micro): 0.0775, Val Recall (macro): 0.0149\n",
      "Val F1 (micro): 0.0775, Val F1 (macro): 0.0076\n",
      "--------------------------------------------------------------------------------\n"
     ]
    },
    {
     "name": "stderr",
     "output_type": "stream",
     "text": [
      " 32%|███▏      | 31998/100000 [18:44<23:43, 47.78it/s]  "
     ]
    },
    {
     "name": "stdout",
     "output_type": "stream",
     "text": [
      "Epoch [32000/100000]\n",
      "Train Loss: 5.8788, Train Accuracy: 0.0778\n",
      "Train Precision (micro): 0.0778, Train Precision (macro): 0.0051\n",
      "Train Recall (micro): 0.0778, Train Recall (macro): 0.0089\n",
      "Train F1 (micro): 0.0778, Train F1 (macro): 0.0050\n",
      "\n",
      "Val Loss: 5.8619, Val Accuracy: 0.0791\n",
      "Val Precision (micro): 0.0791, Val Precision (macro): 0.0064\n",
      "Val Recall (micro): 0.0791, Val Recall (macro): 0.0154\n",
      "Val F1 (micro): 0.0791, Val F1 (macro): 0.0078\n",
      "--------------------------------------------------------------------------------\n"
     ]
    },
    {
     "name": "stderr",
     "output_type": "stream",
     "text": [
      " 32%|███▏      | 32098/100000 [18:48<25:00, 45.26it/s]  "
     ]
    },
    {
     "name": "stdout",
     "output_type": "stream",
     "text": [
      "Epoch [32100/100000]\n",
      "Train Loss: 5.8898, Train Accuracy: 0.0819\n",
      "Train Precision (micro): 0.0819, Train Precision (macro): 0.0047\n",
      "Train Recall (micro): 0.0819, Train Recall (macro): 0.0097\n",
      "Train F1 (micro): 0.0819, Train F1 (macro): 0.0052\n",
      "\n",
      "Val Loss: 5.8738, Val Accuracy: 0.0788\n",
      "Val Precision (micro): 0.0788, Val Precision (macro): 0.0070\n",
      "Val Recall (micro): 0.0788, Val Recall (macro): 0.0158\n",
      "Val F1 (micro): 0.0788, Val F1 (macro): 0.0083\n",
      "--------------------------------------------------------------------------------\n"
     ]
    },
    {
     "name": "stderr",
     "output_type": "stream",
     "text": [
      " 32%|███▏      | 32195/100000 [18:51<26:04, 43.35it/s]  "
     ]
    },
    {
     "name": "stdout",
     "output_type": "stream",
     "text": [
      "Epoch [32200/100000]\n",
      "Train Loss: 5.8121, Train Accuracy: 0.0817\n",
      "Train Precision (micro): 0.0817, Train Precision (macro): 0.0047\n",
      "Train Recall (micro): 0.0817, Train Recall (macro): 0.0094\n",
      "Train F1 (micro): 0.0817, Train F1 (macro): 0.0050\n",
      "\n",
      "Val Loss: 5.8854, Val Accuracy: 0.0772\n",
      "Val Precision (micro): 0.0772, Val Precision (macro): 0.0078\n",
      "Val Recall (micro): 0.0772, Val Recall (macro): 0.0152\n",
      "Val F1 (micro): 0.0772, Val F1 (macro): 0.0086\n",
      "--------------------------------------------------------------------------------\n"
     ]
    },
    {
     "name": "stderr",
     "output_type": "stream",
     "text": [
      " 32%|███▏      | 32295/100000 [18:55<22:58, 49.12it/s]  "
     ]
    },
    {
     "name": "stdout",
     "output_type": "stream",
     "text": [
      "Epoch [32300/100000]\n",
      "Train Loss: 5.9269, Train Accuracy: 0.0783\n",
      "Train Precision (micro): 0.0783, Train Precision (macro): 0.0038\n",
      "Train Recall (micro): 0.0783, Train Recall (macro): 0.0094\n",
      "Train F1 (micro): 0.0783, Train F1 (macro): 0.0046\n",
      "\n",
      "Val Loss: 5.8750, Val Accuracy: 0.0784\n",
      "Val Precision (micro): 0.0784, Val Precision (macro): 0.0068\n",
      "Val Recall (micro): 0.0784, Val Recall (macro): 0.0151\n",
      "Val F1 (micro): 0.0784, Val F1 (macro): 0.0078\n",
      "--------------------------------------------------------------------------------\n"
     ]
    },
    {
     "name": "stderr",
     "output_type": "stream",
     "text": [
      " 32%|███▏      | 32398/100000 [18:59<25:39, 43.92it/s]  "
     ]
    },
    {
     "name": "stdout",
     "output_type": "stream",
     "text": [
      "Epoch [32400/100000]\n",
      "Train Loss: 5.8091, Train Accuracy: 0.0813\n",
      "Train Precision (micro): 0.0813, Train Precision (macro): 0.0054\n",
      "Train Recall (micro): 0.0813, Train Recall (macro): 0.0102\n",
      "Train F1 (micro): 0.0813, Train F1 (macro): 0.0055\n",
      "\n",
      "Val Loss: 5.8684, Val Accuracy: 0.0791\n",
      "Val Precision (micro): 0.0791, Val Precision (macro): 0.0066\n",
      "Val Recall (micro): 0.0791, Val Recall (macro): 0.0157\n",
      "Val F1 (micro): 0.0791, Val F1 (macro): 0.0081\n",
      "--------------------------------------------------------------------------------\n"
     ]
    },
    {
     "name": "stderr",
     "output_type": "stream",
     "text": [
      " 32%|███▏      | 32499/100000 [19:02<24:22, 46.14it/s]  "
     ]
    },
    {
     "name": "stdout",
     "output_type": "stream",
     "text": [
      "Epoch [32500/100000]\n",
      "Train Loss: 5.9384, Train Accuracy: 0.0747\n",
      "Train Precision (micro): 0.0747, Train Precision (macro): 0.0041\n",
      "Train Recall (micro): 0.0747, Train Recall (macro): 0.0097\n",
      "Train F1 (micro): 0.0747, Train F1 (macro): 0.0046\n",
      "\n",
      "Val Loss: 5.8637, Val Accuracy: 0.0803\n",
      "Val Precision (micro): 0.0803, Val Precision (macro): 0.0069\n",
      "Val Recall (micro): 0.0803, Val Recall (macro): 0.0166\n",
      "Val F1 (micro): 0.0803, Val F1 (macro): 0.0083\n",
      "--------------------------------------------------------------------------------\n"
     ]
    },
    {
     "name": "stderr",
     "output_type": "stream",
     "text": [
      " 33%|███▎      | 32599/100000 [19:05<25:07, 44.71it/s]  "
     ]
    },
    {
     "name": "stdout",
     "output_type": "stream",
     "text": [
      "Epoch [32600/100000]\n",
      "Train Loss: 5.8656, Train Accuracy: 0.0797\n",
      "Train Precision (micro): 0.0797, Train Precision (macro): 0.0059\n",
      "Train Recall (micro): 0.0797, Train Recall (macro): 0.0110\n",
      "Train F1 (micro): 0.0797, Train F1 (macro): 0.0058\n",
      "\n",
      "Val Loss: 5.8592, Val Accuracy: 0.0781\n",
      "Val Precision (micro): 0.0781, Val Precision (macro): 0.0071\n",
      "Val Recall (micro): 0.0781, Val Recall (macro): 0.0148\n",
      "Val F1 (micro): 0.0781, Val F1 (macro): 0.0079\n",
      "--------------------------------------------------------------------------------\n"
     ]
    },
    {
     "name": "stderr",
     "output_type": "stream",
     "text": [
      " 33%|███▎      | 32696/100000 [19:09<24:21, 46.05it/s]  "
     ]
    },
    {
     "name": "stdout",
     "output_type": "stream",
     "text": [
      "Epoch [32700/100000]\n",
      "Train Loss: 5.8714, Train Accuracy: 0.0823\n",
      "Train Precision (micro): 0.0823, Train Precision (macro): 0.0078\n",
      "Train Recall (micro): 0.0823, Train Recall (macro): 0.0125\n",
      "Train F1 (micro): 0.0823, Train F1 (macro): 0.0075\n",
      "\n",
      "Val Loss: 5.8611, Val Accuracy: 0.0809\n",
      "Val Precision (micro): 0.0809, Val Precision (macro): 0.0072\n",
      "Val Recall (micro): 0.0809, Val Recall (macro): 0.0165\n",
      "Val F1 (micro): 0.0809, Val F1 (macro): 0.0083\n",
      "--------------------------------------------------------------------------------\n"
     ]
    },
    {
     "name": "stderr",
     "output_type": "stream",
     "text": [
      " 33%|███▎      | 32794/100000 [19:12<24:07, 46.43it/s]  "
     ]
    },
    {
     "name": "stdout",
     "output_type": "stream",
     "text": [
      "Epoch [32800/100000]\n",
      "Train Loss: 5.8565, Train Accuracy: 0.0838\n",
      "Train Precision (micro): 0.0838, Train Precision (macro): 0.0070\n",
      "Train Recall (micro): 0.0838, Train Recall (macro): 0.0114\n",
      "Train F1 (micro): 0.0838, Train F1 (macro): 0.0071\n",
      "\n",
      "Val Loss: 5.8637, Val Accuracy: 0.0834\n",
      "Val Precision (micro): 0.0834, Val Precision (macro): 0.0084\n",
      "Val Recall (micro): 0.0834, Val Recall (macro): 0.0171\n",
      "Val F1 (micro): 0.0834, Val F1 (macro): 0.0095\n",
      "--------------------------------------------------------------------------------\n"
     ]
    },
    {
     "name": "stderr",
     "output_type": "stream",
     "text": [
      " 33%|███▎      | 32899/100000 [19:16<23:45, 47.08it/s]  "
     ]
    },
    {
     "name": "stdout",
     "output_type": "stream",
     "text": [
      "Epoch [32900/100000]\n",
      "Train Loss: 5.8648, Train Accuracy: 0.0794\n",
      "Train Precision (micro): 0.0794, Train Precision (macro): 0.0056\n",
      "Train Recall (micro): 0.0794, Train Recall (macro): 0.0101\n",
      "Train F1 (micro): 0.0794, Train F1 (macro): 0.0057\n",
      "\n",
      "Val Loss: 5.8721, Val Accuracy: 0.0794\n",
      "Val Precision (micro): 0.0794, Val Precision (macro): 0.0077\n",
      "Val Recall (micro): 0.0794, Val Recall (macro): 0.0155\n",
      "Val F1 (micro): 0.0794, Val F1 (macro): 0.0084\n",
      "--------------------------------------------------------------------------------\n"
     ]
    },
    {
     "name": "stderr",
     "output_type": "stream",
     "text": [
      " 33%|███▎      | 32998/100000 [19:19<22:59, 48.58it/s]  "
     ]
    },
    {
     "name": "stdout",
     "output_type": "stream",
     "text": [
      "Epoch [33000/100000]\n",
      "Train Loss: 5.8560, Train Accuracy: 0.0806\n",
      "Train Precision (micro): 0.0806, Train Precision (macro): 0.0054\n",
      "Train Recall (micro): 0.0806, Train Recall (macro): 0.0105\n",
      "Train F1 (micro): 0.0806, Train F1 (macro): 0.0060\n",
      "\n",
      "Val Loss: 5.8715, Val Accuracy: 0.0809\n",
      "Val Precision (micro): 0.0809, Val Precision (macro): 0.0079\n",
      "Val Recall (micro): 0.0809, Val Recall (macro): 0.0163\n",
      "Val F1 (micro): 0.0809, Val F1 (macro): 0.0087\n",
      "--------------------------------------------------------------------------------\n"
     ]
    },
    {
     "name": "stderr",
     "output_type": "stream",
     "text": [
      " 33%|███▎      | 33096/100000 [19:22<23:03, 48.34it/s]  "
     ]
    },
    {
     "name": "stdout",
     "output_type": "stream",
     "text": [
      "Epoch [33100/100000]\n",
      "Train Loss: 5.8924, Train Accuracy: 0.0772\n",
      "Train Precision (micro): 0.0772, Train Precision (macro): 0.0045\n",
      "Train Recall (micro): 0.0772, Train Recall (macro): 0.0086\n",
      "Train F1 (micro): 0.0772, Train F1 (macro): 0.0045\n",
      "\n",
      "Val Loss: 5.8604, Val Accuracy: 0.0825\n",
      "Val Precision (micro): 0.0825, Val Precision (macro): 0.0074\n",
      "Val Recall (micro): 0.0825, Val Recall (macro): 0.0158\n",
      "Val F1 (micro): 0.0825, Val F1 (macro): 0.0085\n",
      "--------------------------------------------------------------------------------\n"
     ]
    },
    {
     "name": "stderr",
     "output_type": "stream",
     "text": [
      " 33%|███▎      | 33194/100000 [19:26<23:00, 48.39it/s]  "
     ]
    },
    {
     "name": "stdout",
     "output_type": "stream",
     "text": [
      "Epoch [33200/100000]\n",
      "Train Loss: 5.8617, Train Accuracy: 0.0842\n",
      "Train Precision (micro): 0.0842, Train Precision (macro): 0.0044\n",
      "Train Recall (micro): 0.0842, Train Recall (macro): 0.0085\n",
      "Train F1 (micro): 0.0842, Train F1 (macro): 0.0047\n",
      "\n",
      "Val Loss: 5.8648, Val Accuracy: 0.0816\n",
      "Val Precision (micro): 0.0816, Val Precision (macro): 0.0082\n",
      "Val Recall (micro): 0.0816, Val Recall (macro): 0.0159\n",
      "Val F1 (micro): 0.0816, Val F1 (macro): 0.0087\n",
      "--------------------------------------------------------------------------------\n"
     ]
    },
    {
     "name": "stderr",
     "output_type": "stream",
     "text": [
      " 33%|███▎      | 33297/100000 [19:29<22:50, 48.67it/s]  "
     ]
    },
    {
     "name": "stdout",
     "output_type": "stream",
     "text": [
      "Epoch [33300/100000]\n",
      "Train Loss: 5.8258, Train Accuracy: 0.0772\n",
      "Train Precision (micro): 0.0772, Train Precision (macro): 0.0051\n",
      "Train Recall (micro): 0.0772, Train Recall (macro): 0.0098\n",
      "Train F1 (micro): 0.0772, Train F1 (macro): 0.0055\n",
      "\n",
      "Val Loss: 5.8582, Val Accuracy: 0.0828\n",
      "Val Precision (micro): 0.0828, Val Precision (macro): 0.0081\n",
      "Val Recall (micro): 0.0828, Val Recall (macro): 0.0160\n",
      "Val F1 (micro): 0.0828, Val F1 (macro): 0.0087\n",
      "--------------------------------------------------------------------------------\n"
     ]
    },
    {
     "name": "stderr",
     "output_type": "stream",
     "text": [
      " 33%|███▎      | 33399/100000 [19:32<23:54, 46.41it/s]  "
     ]
    },
    {
     "name": "stdout",
     "output_type": "stream",
     "text": [
      "Epoch [33400/100000]\n",
      "Train Loss: 5.9069, Train Accuracy: 0.0766\n",
      "Train Precision (micro): 0.0766, Train Precision (macro): 0.0080\n",
      "Train Recall (micro): 0.0766, Train Recall (macro): 0.0126\n",
      "Train F1 (micro): 0.0766, Train F1 (macro): 0.0076\n",
      "\n",
      "Val Loss: 5.8675, Val Accuracy: 0.0803\n",
      "Val Precision (micro): 0.0803, Val Precision (macro): 0.0071\n",
      "Val Recall (micro): 0.0803, Val Recall (macro): 0.0156\n",
      "Val F1 (micro): 0.0803, Val F1 (macro): 0.0078\n",
      "--------------------------------------------------------------------------------\n"
     ]
    },
    {
     "name": "stderr",
     "output_type": "stream",
     "text": [
      " 33%|███▎      | 33498/100000 [19:36<22:53, 48.43it/s]  "
     ]
    },
    {
     "name": "stdout",
     "output_type": "stream",
     "text": [
      "Epoch [33500/100000]\n",
      "Train Loss: 5.8916, Train Accuracy: 0.0762\n",
      "Train Precision (micro): 0.0762, Train Precision (macro): 0.0051\n",
      "Train Recall (micro): 0.0762, Train Recall (macro): 0.0107\n",
      "Train F1 (micro): 0.0762, Train F1 (macro): 0.0053\n",
      "\n",
      "Val Loss: 5.8628, Val Accuracy: 0.0825\n",
      "Val Precision (micro): 0.0825, Val Precision (macro): 0.0078\n",
      "Val Recall (micro): 0.0825, Val Recall (macro): 0.0167\n",
      "Val F1 (micro): 0.0825, Val F1 (macro): 0.0089\n",
      "--------------------------------------------------------------------------------\n"
     ]
    },
    {
     "name": "stderr",
     "output_type": "stream",
     "text": [
      " 34%|███▎      | 33599/100000 [19:39<23:57, 46.19it/s]  "
     ]
    },
    {
     "name": "stdout",
     "output_type": "stream",
     "text": [
      "Epoch [33600/100000]\n",
      "Train Loss: 5.9016, Train Accuracy: 0.0750\n",
      "Train Precision (micro): 0.0750, Train Precision (macro): 0.0048\n",
      "Train Recall (micro): 0.0750, Train Recall (macro): 0.0098\n",
      "Train F1 (micro): 0.0750, Train F1 (macro): 0.0048\n",
      "\n",
      "Val Loss: 5.8630, Val Accuracy: 0.0813\n",
      "Val Precision (micro): 0.0813, Val Precision (macro): 0.0085\n",
      "Val Recall (micro): 0.0813, Val Recall (macro): 0.0159\n",
      "Val F1 (micro): 0.0813, Val F1 (macro): 0.0085\n",
      "--------------------------------------------------------------------------------\n"
     ]
    },
    {
     "name": "stderr",
     "output_type": "stream",
     "text": [
      " 34%|███▎      | 33697/100000 [19:43<22:39, 48.75it/s]  "
     ]
    },
    {
     "name": "stdout",
     "output_type": "stream",
     "text": [
      "Epoch [33700/100000]\n",
      "Train Loss: 5.7522, Train Accuracy: 0.0895\n",
      "Train Precision (micro): 0.0895, Train Precision (macro): 0.0066\n",
      "Train Recall (micro): 0.0895, Train Recall (macro): 0.0111\n",
      "Train F1 (micro): 0.0895, Train F1 (macro): 0.0063\n",
      "\n",
      "Val Loss: 5.8742, Val Accuracy: 0.0778\n",
      "Val Precision (micro): 0.0778, Val Precision (macro): 0.0085\n",
      "Val Recall (micro): 0.0778, Val Recall (macro): 0.0152\n",
      "Val F1 (micro): 0.0778, Val F1 (macro): 0.0085\n",
      "--------------------------------------------------------------------------------\n"
     ]
    },
    {
     "name": "stderr",
     "output_type": "stream",
     "text": [
      " 34%|███▍      | 33798/100000 [19:47<22:19, 49.42it/s]  "
     ]
    },
    {
     "name": "stdout",
     "output_type": "stream",
     "text": [
      "Epoch [33800/100000]\n",
      "Train Loss: 5.8645, Train Accuracy: 0.0822\n",
      "Train Precision (micro): 0.0822, Train Precision (macro): 0.0079\n",
      "Train Recall (micro): 0.0822, Train Recall (macro): 0.0109\n",
      "Train F1 (micro): 0.0822, Train F1 (macro): 0.0074\n",
      "\n",
      "Val Loss: 5.8570, Val Accuracy: 0.0803\n",
      "Val Precision (micro): 0.0803, Val Precision (macro): 0.0080\n",
      "Val Recall (micro): 0.0803, Val Recall (macro): 0.0148\n",
      "Val F1 (micro): 0.0803, Val F1 (macro): 0.0082\n",
      "--------------------------------------------------------------------------------\n"
     ]
    },
    {
     "name": "stderr",
     "output_type": "stream",
     "text": [
      " 34%|███▍      | 33895/100000 [19:50<23:53, 46.11it/s]  "
     ]
    },
    {
     "name": "stdout",
     "output_type": "stream",
     "text": [
      "Epoch [33900/100000]\n",
      "Train Loss: 5.9309, Train Accuracy: 0.0766\n",
      "Train Precision (micro): 0.0766, Train Precision (macro): 0.0057\n",
      "Train Recall (micro): 0.0766, Train Recall (macro): 0.0089\n",
      "Train F1 (micro): 0.0766, Train F1 (macro): 0.0052\n",
      "\n",
      "Val Loss: 5.8578, Val Accuracy: 0.0809\n",
      "Val Precision (micro): 0.0809, Val Precision (macro): 0.0073\n",
      "Val Recall (micro): 0.0809, Val Recall (macro): 0.0154\n",
      "Val F1 (micro): 0.0809, Val F1 (macro): 0.0082\n",
      "--------------------------------------------------------------------------------\n"
     ]
    },
    {
     "name": "stderr",
     "output_type": "stream",
     "text": [
      " 34%|███▍      | 33999/100000 [19:54<26:25, 41.62it/s]  "
     ]
    },
    {
     "name": "stdout",
     "output_type": "stream",
     "text": [
      "Epoch [34000/100000]\n",
      "Train Loss: 5.8792, Train Accuracy: 0.0809\n",
      "Train Precision (micro): 0.0809, Train Precision (macro): 0.0056\n",
      "Train Recall (micro): 0.0809, Train Recall (macro): 0.0092\n",
      "Train F1 (micro): 0.0809, Train F1 (macro): 0.0051\n",
      "\n",
      "Val Loss: 5.8563, Val Accuracy: 0.0816\n",
      "Val Precision (micro): 0.0816, Val Precision (macro): 0.0077\n",
      "Val Recall (micro): 0.0816, Val Recall (macro): 0.0155\n",
      "Val F1 (micro): 0.0816, Val F1 (macro): 0.0082\n",
      "--------------------------------------------------------------------------------\n"
     ]
    },
    {
     "name": "stderr",
     "output_type": "stream",
     "text": [
      " 34%|███▍      | 34094/100000 [19:57<22:08, 49.62it/s]  "
     ]
    },
    {
     "name": "stdout",
     "output_type": "stream",
     "text": [
      "Epoch [34100/100000]\n",
      "Train Loss: 5.9060, Train Accuracy: 0.0791\n",
      "Train Precision (micro): 0.0791, Train Precision (macro): 0.0052\n",
      "Train Recall (micro): 0.0791, Train Recall (macro): 0.0089\n",
      "Train F1 (micro): 0.0791, Train F1 (macro): 0.0046\n",
      "\n",
      "Val Loss: 5.8580, Val Accuracy: 0.0813\n",
      "Val Precision (micro): 0.0813, Val Precision (macro): 0.0075\n",
      "Val Recall (micro): 0.0813, Val Recall (macro): 0.0158\n",
      "Val F1 (micro): 0.0813, Val F1 (macro): 0.0083\n",
      "--------------------------------------------------------------------------------\n"
     ]
    },
    {
     "name": "stderr",
     "output_type": "stream",
     "text": [
      " 34%|███▍      | 34195/100000 [20:01<24:32, 44.69it/s]  "
     ]
    },
    {
     "name": "stdout",
     "output_type": "stream",
     "text": [
      "Epoch [34200/100000]\n",
      "Train Loss: 5.8458, Train Accuracy: 0.0855\n",
      "Train Precision (micro): 0.0855, Train Precision (macro): 0.0051\n",
      "Train Recall (micro): 0.0855, Train Recall (macro): 0.0106\n",
      "Train F1 (micro): 0.0855, Train F1 (macro): 0.0057\n",
      "\n",
      "Val Loss: 5.8613, Val Accuracy: 0.0809\n",
      "Val Precision (micro): 0.0809, Val Precision (macro): 0.0084\n",
      "Val Recall (micro): 0.0809, Val Recall (macro): 0.0166\n",
      "Val F1 (micro): 0.0809, Val F1 (macro): 0.0090\n",
      "--------------------------------------------------------------------------------\n"
     ]
    },
    {
     "name": "stderr",
     "output_type": "stream",
     "text": [
      " 34%|███▍      | 34296/100000 [20:04<22:52, 47.88it/s]  "
     ]
    },
    {
     "name": "stdout",
     "output_type": "stream",
     "text": [
      "Epoch [34300/100000]\n",
      "Train Loss: 5.8677, Train Accuracy: 0.0791\n",
      "Train Precision (micro): 0.0791, Train Precision (macro): 0.0055\n",
      "Train Recall (micro): 0.0791, Train Recall (macro): 0.0103\n",
      "Train F1 (micro): 0.0791, Train F1 (macro): 0.0052\n",
      "\n",
      "Val Loss: 5.8618, Val Accuracy: 0.0809\n",
      "Val Precision (micro): 0.0809, Val Precision (macro): 0.0069\n",
      "Val Recall (micro): 0.0809, Val Recall (macro): 0.0156\n",
      "Val F1 (micro): 0.0809, Val F1 (macro): 0.0080\n",
      "--------------------------------------------------------------------------------\n"
     ]
    },
    {
     "name": "stderr",
     "output_type": "stream",
     "text": [
      " 34%|███▍      | 34396/100000 [20:08<25:11, 43.41it/s]  "
     ]
    },
    {
     "name": "stdout",
     "output_type": "stream",
     "text": [
      "Epoch [34400/100000]\n",
      "Train Loss: 5.9111, Train Accuracy: 0.0788\n",
      "Train Precision (micro): 0.0788, Train Precision (macro): 0.0048\n",
      "Train Recall (micro): 0.0788, Train Recall (macro): 0.0084\n",
      "Train F1 (micro): 0.0788, Train F1 (macro): 0.0042\n",
      "\n",
      "Val Loss: 5.8565, Val Accuracy: 0.0813\n",
      "Val Precision (micro): 0.0813, Val Precision (macro): 0.0071\n",
      "Val Recall (micro): 0.0813, Val Recall (macro): 0.0161\n",
      "Val F1 (micro): 0.0813, Val F1 (macro): 0.0081\n",
      "--------------------------------------------------------------------------------\n"
     ]
    },
    {
     "name": "stderr",
     "output_type": "stream",
     "text": [
      " 34%|███▍      | 34496/100000 [20:11<23:23, 46.67it/s]  "
     ]
    },
    {
     "name": "stdout",
     "output_type": "stream",
     "text": [
      "Epoch [34500/100000]\n",
      "Train Loss: 5.8042, Train Accuracy: 0.0839\n",
      "Train Precision (micro): 0.0839, Train Precision (macro): 0.0052\n",
      "Train Recall (micro): 0.0839, Train Recall (macro): 0.0100\n",
      "Train F1 (micro): 0.0839, Train F1 (macro): 0.0054\n",
      "\n",
      "Val Loss: 5.8566, Val Accuracy: 0.0800\n",
      "Val Precision (micro): 0.0800, Val Precision (macro): 0.0068\n",
      "Val Recall (micro): 0.0800, Val Recall (macro): 0.0155\n",
      "Val F1 (micro): 0.0800, Val F1 (macro): 0.0079\n",
      "--------------------------------------------------------------------------------\n"
     ]
    },
    {
     "name": "stderr",
     "output_type": "stream",
     "text": [
      " 35%|███▍      | 34594/100000 [20:15<22:41, 48.03it/s]  "
     ]
    },
    {
     "name": "stdout",
     "output_type": "stream",
     "text": [
      "Epoch [34600/100000]\n",
      "Train Loss: 5.8685, Train Accuracy: 0.0836\n",
      "Train Precision (micro): 0.0836, Train Precision (macro): 0.0056\n",
      "Train Recall (micro): 0.0836, Train Recall (macro): 0.0101\n",
      "Train F1 (micro): 0.0836, Train F1 (macro): 0.0055\n",
      "\n",
      "Val Loss: 5.8587, Val Accuracy: 0.0813\n",
      "Val Precision (micro): 0.0813, Val Precision (macro): 0.0081\n",
      "Val Recall (micro): 0.0813, Val Recall (macro): 0.0161\n",
      "Val F1 (micro): 0.0813, Val F1 (macro): 0.0085\n",
      "--------------------------------------------------------------------------------\n"
     ]
    },
    {
     "name": "stderr",
     "output_type": "stream",
     "text": [
      " 35%|███▍      | 34695/100000 [20:18<25:12, 43.17it/s]  "
     ]
    },
    {
     "name": "stdout",
     "output_type": "stream",
     "text": [
      "Epoch [34700/100000]\n",
      "Train Loss: 5.8297, Train Accuracy: 0.0791\n",
      "Train Precision (micro): 0.0791, Train Precision (macro): 0.0063\n",
      "Train Recall (micro): 0.0791, Train Recall (macro): 0.0107\n",
      "Train F1 (micro): 0.0791, Train F1 (macro): 0.0063\n",
      "\n",
      "Val Loss: 5.8525, Val Accuracy: 0.0813\n",
      "Val Precision (micro): 0.0813, Val Precision (macro): 0.0080\n",
      "Val Recall (micro): 0.0813, Val Recall (macro): 0.0155\n",
      "Val F1 (micro): 0.0813, Val F1 (macro): 0.0084\n",
      "--------------------------------------------------------------------------------\n"
     ]
    },
    {
     "name": "stderr",
     "output_type": "stream",
     "text": [
      " 35%|███▍      | 34796/100000 [20:22<23:46, 45.71it/s]  "
     ]
    },
    {
     "name": "stdout",
     "output_type": "stream",
     "text": [
      "Epoch [34800/100000]\n",
      "Train Loss: 5.8838, Train Accuracy: 0.0850\n",
      "Train Precision (micro): 0.0850, Train Precision (macro): 0.0076\n",
      "Train Recall (micro): 0.0850, Train Recall (macro): 0.0131\n",
      "Train F1 (micro): 0.0850, Train F1 (macro): 0.0079\n",
      "\n",
      "Val Loss: 5.8557, Val Accuracy: 0.0831\n",
      "Val Precision (micro): 0.0831, Val Precision (macro): 0.0077\n",
      "Val Recall (micro): 0.0831, Val Recall (macro): 0.0165\n",
      "Val F1 (micro): 0.0831, Val F1 (macro): 0.0085\n",
      "--------------------------------------------------------------------------------\n"
     ]
    },
    {
     "name": "stderr",
     "output_type": "stream",
     "text": [
      " 35%|███▍      | 34894/100000 [20:25<23:17, 46.58it/s]  "
     ]
    },
    {
     "name": "stdout",
     "output_type": "stream",
     "text": [
      "Epoch [34900/100000]\n",
      "Train Loss: 5.8534, Train Accuracy: 0.0744\n",
      "Train Precision (micro): 0.0744, Train Precision (macro): 0.0047\n",
      "Train Recall (micro): 0.0744, Train Recall (macro): 0.0094\n",
      "Train F1 (micro): 0.0744, Train F1 (macro): 0.0051\n",
      "\n",
      "Val Loss: 5.8562, Val Accuracy: 0.0819\n",
      "Val Precision (micro): 0.0819, Val Precision (macro): 0.0091\n",
      "Val Recall (micro): 0.0819, Val Recall (macro): 0.0166\n",
      "Val F1 (micro): 0.0819, Val F1 (macro): 0.0094\n",
      "--------------------------------------------------------------------------------\n"
     ]
    },
    {
     "name": "stderr",
     "output_type": "stream",
     "text": [
      " 35%|███▍      | 34998/100000 [20:29<25:40, 42.20it/s]  "
     ]
    },
    {
     "name": "stdout",
     "output_type": "stream",
     "text": [
      "Epoch [35000/100000]\n",
      "Train Loss: 5.8644, Train Accuracy: 0.0800\n",
      "Train Precision (micro): 0.0800, Train Precision (macro): 0.0065\n",
      "Train Recall (micro): 0.0800, Train Recall (macro): 0.0097\n",
      "Train F1 (micro): 0.0800, Train F1 (macro): 0.0055\n",
      "\n",
      "Val Loss: 5.8546, Val Accuracy: 0.0816\n",
      "Val Precision (micro): 0.0816, Val Precision (macro): 0.0083\n",
      "Val Recall (micro): 0.0816, Val Recall (macro): 0.0161\n",
      "Val F1 (micro): 0.0816, Val F1 (macro): 0.0086\n",
      "--------------------------------------------------------------------------------\n"
     ]
    },
    {
     "name": "stderr",
     "output_type": "stream",
     "text": [
      " 35%|███▌      | 35096/100000 [20:32<23:05, 46.85it/s]  "
     ]
    },
    {
     "name": "stdout",
     "output_type": "stream",
     "text": [
      "Epoch [35100/100000]\n",
      "Train Loss: 5.8404, Train Accuracy: 0.0814\n",
      "Train Precision (micro): 0.0814, Train Precision (macro): 0.0063\n",
      "Train Recall (micro): 0.0814, Train Recall (macro): 0.0104\n",
      "Train F1 (micro): 0.0814, Train F1 (macro): 0.0060\n",
      "\n",
      "Val Loss: 5.8516, Val Accuracy: 0.0834\n",
      "Val Precision (micro): 0.0834, Val Precision (macro): 0.0077\n",
      "Val Recall (micro): 0.0834, Val Recall (macro): 0.0163\n",
      "Val F1 (micro): 0.0834, Val F1 (macro): 0.0087\n",
      "--------------------------------------------------------------------------------\n"
     ]
    },
    {
     "name": "stderr",
     "output_type": "stream",
     "text": [
      " 35%|███▌      | 35195/100000 [20:35<24:27, 44.15it/s]  "
     ]
    },
    {
     "name": "stdout",
     "output_type": "stream",
     "text": [
      "Epoch [35200/100000]\n",
      "Train Loss: 5.8034, Train Accuracy: 0.0866\n",
      "Train Precision (micro): 0.0866, Train Precision (macro): 0.0058\n",
      "Train Recall (micro): 0.0866, Train Recall (macro): 0.0093\n",
      "Train F1 (micro): 0.0866, Train F1 (macro): 0.0052\n",
      "\n",
      "Val Loss: 5.8571, Val Accuracy: 0.0819\n",
      "Val Precision (micro): 0.0819, Val Precision (macro): 0.0074\n",
      "Val Recall (micro): 0.0819, Val Recall (macro): 0.0158\n",
      "Val F1 (micro): 0.0819, Val F1 (macro): 0.0083\n",
      "--------------------------------------------------------------------------------\n"
     ]
    },
    {
     "name": "stderr",
     "output_type": "stream",
     "text": [
      " 35%|███▌      | 35297/100000 [20:39<22:12, 48.58it/s]  "
     ]
    },
    {
     "name": "stdout",
     "output_type": "stream",
     "text": [
      "Epoch [35300/100000]\n",
      "Train Loss: 5.8385, Train Accuracy: 0.0872\n",
      "Train Precision (micro): 0.0872, Train Precision (macro): 0.0042\n",
      "Train Recall (micro): 0.0872, Train Recall (macro): 0.0106\n",
      "Train F1 (micro): 0.0872, Train F1 (macro): 0.0053\n",
      "\n",
      "Val Loss: 5.8465, Val Accuracy: 0.0831\n",
      "Val Precision (micro): 0.0831, Val Precision (macro): 0.0084\n",
      "Val Recall (micro): 0.0831, Val Recall (macro): 0.0161\n",
      "Val F1 (micro): 0.0831, Val F1 (macro): 0.0089\n",
      "--------------------------------------------------------------------------------\n"
     ]
    },
    {
     "name": "stderr",
     "output_type": "stream",
     "text": [
      " 35%|███▌      | 35394/100000 [20:42<22:29, 47.86it/s]  "
     ]
    },
    {
     "name": "stdout",
     "output_type": "stream",
     "text": [
      "Epoch [35400/100000]\n",
      "Train Loss: 5.8573, Train Accuracy: 0.0808\n",
      "Train Precision (micro): 0.0808, Train Precision (macro): 0.0075\n",
      "Train Recall (micro): 0.0808, Train Recall (macro): 0.0114\n",
      "Train F1 (micro): 0.0808, Train F1 (macro): 0.0069\n",
      "\n",
      "Val Loss: 5.8497, Val Accuracy: 0.0803\n",
      "Val Precision (micro): 0.0803, Val Precision (macro): 0.0071\n",
      "Val Recall (micro): 0.0803, Val Recall (macro): 0.0157\n",
      "Val F1 (micro): 0.0803, Val F1 (macro): 0.0080\n",
      "--------------------------------------------------------------------------------\n"
     ]
    },
    {
     "name": "stderr",
     "output_type": "stream",
     "text": [
      " 35%|███▌      | 35496/100000 [20:46<22:17, 48.23it/s]  "
     ]
    },
    {
     "name": "stdout",
     "output_type": "stream",
     "text": [
      "Epoch [35500/100000]\n",
      "Train Loss: 5.8788, Train Accuracy: 0.0802\n",
      "Train Precision (micro): 0.0802, Train Precision (macro): 0.0061\n",
      "Train Recall (micro): 0.0802, Train Recall (macro): 0.0119\n",
      "Train F1 (micro): 0.0802, Train F1 (macro): 0.0066\n",
      "\n",
      "Val Loss: 5.8484, Val Accuracy: 0.0813\n",
      "Val Precision (micro): 0.0813, Val Precision (macro): 0.0079\n",
      "Val Recall (micro): 0.0813, Val Recall (macro): 0.0153\n",
      "Val F1 (micro): 0.0813, Val F1 (macro): 0.0082\n",
      "--------------------------------------------------------------------------------\n"
     ]
    },
    {
     "name": "stderr",
     "output_type": "stream",
     "text": [
      " 36%|███▌      | 35597/100000 [20:49<21:46, 49.30it/s]  "
     ]
    },
    {
     "name": "stdout",
     "output_type": "stream",
     "text": [
      "Epoch [35600/100000]\n",
      "Train Loss: 5.8960, Train Accuracy: 0.0819\n",
      "Train Precision (micro): 0.0819, Train Precision (macro): 0.0053\n",
      "Train Recall (micro): 0.0819, Train Recall (macro): 0.0106\n",
      "Train F1 (micro): 0.0819, Train F1 (macro): 0.0055\n",
      "\n",
      "Val Loss: 5.8494, Val Accuracy: 0.0813\n",
      "Val Precision (micro): 0.0813, Val Precision (macro): 0.0070\n",
      "Val Recall (micro): 0.0813, Val Recall (macro): 0.0159\n",
      "Val F1 (micro): 0.0813, Val F1 (macro): 0.0083\n",
      "--------------------------------------------------------------------------------\n"
     ]
    },
    {
     "name": "stderr",
     "output_type": "stream",
     "text": [
      " 36%|███▌      | 35698/100000 [20:52<22:59, 46.62it/s]  "
     ]
    },
    {
     "name": "stdout",
     "output_type": "stream",
     "text": [
      "Epoch [35700/100000]\n",
      "Train Loss: 5.8757, Train Accuracy: 0.0833\n",
      "Train Precision (micro): 0.0833, Train Precision (macro): 0.0061\n",
      "Train Recall (micro): 0.0833, Train Recall (macro): 0.0085\n",
      "Train F1 (micro): 0.0833, Train F1 (macro): 0.0050\n",
      "\n",
      "Val Loss: 5.8471, Val Accuracy: 0.0806\n",
      "Val Precision (micro): 0.0806, Val Precision (macro): 0.0072\n",
      "Val Recall (micro): 0.0806, Val Recall (macro): 0.0160\n",
      "Val F1 (micro): 0.0806, Val F1 (macro): 0.0080\n",
      "--------------------------------------------------------------------------------\n"
     ]
    },
    {
     "name": "stderr",
     "output_type": "stream",
     "text": [
      " 36%|███▌      | 35796/100000 [20:56<23:04, 46.36it/s]  "
     ]
    },
    {
     "name": "stdout",
     "output_type": "stream",
     "text": [
      "Epoch [35800/100000]\n",
      "Train Loss: 5.8216, Train Accuracy: 0.0862\n",
      "Train Precision (micro): 0.0862, Train Precision (macro): 0.0054\n",
      "Train Recall (micro): 0.0862, Train Recall (macro): 0.0093\n",
      "Train F1 (micro): 0.0862, Train F1 (macro): 0.0053\n",
      "\n",
      "Val Loss: 5.8508, Val Accuracy: 0.0816\n",
      "Val Precision (micro): 0.0816, Val Precision (macro): 0.0068\n",
      "Val Recall (micro): 0.0816, Val Recall (macro): 0.0160\n",
      "Val F1 (micro): 0.0816, Val F1 (macro): 0.0081\n",
      "--------------------------------------------------------------------------------\n"
     ]
    },
    {
     "name": "stderr",
     "output_type": "stream",
     "text": [
      " 36%|███▌      | 35895/100000 [21:01<27:31, 38.81it/s]  "
     ]
    },
    {
     "name": "stdout",
     "output_type": "stream",
     "text": [
      "Epoch [35900/100000]\n",
      "Train Loss: 5.8911, Train Accuracy: 0.0833\n",
      "Train Precision (micro): 0.0833, Train Precision (macro): 0.0069\n",
      "Train Recall (micro): 0.0833, Train Recall (macro): 0.0099\n",
      "Train F1 (micro): 0.0833, Train F1 (macro): 0.0056\n",
      "\n",
      "Val Loss: 5.8435, Val Accuracy: 0.0825\n",
      "Val Precision (micro): 0.0825, Val Precision (macro): 0.0071\n",
      "Val Recall (micro): 0.0825, Val Recall (macro): 0.0165\n",
      "Val F1 (micro): 0.0825, Val F1 (macro): 0.0084\n",
      "--------------------------------------------------------------------------------\n"
     ]
    },
    {
     "name": "stderr",
     "output_type": "stream",
     "text": [
      " 36%|███▌      | 35994/100000 [21:04<27:46, 38.42it/s]  "
     ]
    },
    {
     "name": "stdout",
     "output_type": "stream",
     "text": [
      "Epoch [36000/100000]\n",
      "Train Loss: 5.8916, Train Accuracy: 0.0784\n",
      "Train Precision (micro): 0.0784, Train Precision (macro): 0.0048\n",
      "Train Recall (micro): 0.0784, Train Recall (macro): 0.0087\n",
      "Train F1 (micro): 0.0784, Train F1 (macro): 0.0046\n",
      "\n",
      "Val Loss: 5.8476, Val Accuracy: 0.0816\n",
      "Val Precision (micro): 0.0816, Val Precision (macro): 0.0074\n",
      "Val Recall (micro): 0.0816, Val Recall (macro): 0.0165\n",
      "Val F1 (micro): 0.0816, Val F1 (macro): 0.0084\n",
      "--------------------------------------------------------------------------------\n"
     ]
    },
    {
     "name": "stderr",
     "output_type": "stream",
     "text": [
      " 36%|███▌      | 36098/100000 [21:08<22:09, 48.08it/s]  "
     ]
    },
    {
     "name": "stdout",
     "output_type": "stream",
     "text": [
      "Epoch [36100/100000]\n",
      "Train Loss: 5.8726, Train Accuracy: 0.0877\n",
      "Train Precision (micro): 0.0877, Train Precision (macro): 0.0078\n",
      "Train Recall (micro): 0.0877, Train Recall (macro): 0.0111\n",
      "Train F1 (micro): 0.0877, Train F1 (macro): 0.0067\n",
      "\n",
      "Val Loss: 5.8443, Val Accuracy: 0.0813\n",
      "Val Precision (micro): 0.0813, Val Precision (macro): 0.0070\n",
      "Val Recall (micro): 0.0813, Val Recall (macro): 0.0166\n",
      "Val F1 (micro): 0.0813, Val F1 (macro): 0.0083\n",
      "--------------------------------------------------------------------------------\n"
     ]
    },
    {
     "name": "stderr",
     "output_type": "stream",
     "text": [
      " 36%|███▌      | 36194/100000 [21:11<22:07, 48.07it/s]  "
     ]
    },
    {
     "name": "stdout",
     "output_type": "stream",
     "text": [
      "Epoch [36200/100000]\n",
      "Train Loss: 5.8224, Train Accuracy: 0.0855\n",
      "Train Precision (micro): 0.0855, Train Precision (macro): 0.0079\n",
      "Train Recall (micro): 0.0855, Train Recall (macro): 0.0120\n",
      "Train F1 (micro): 0.0855, Train F1 (macro): 0.0074\n",
      "\n",
      "Val Loss: 5.8463, Val Accuracy: 0.0822\n",
      "Val Precision (micro): 0.0822, Val Precision (macro): 0.0083\n",
      "Val Recall (micro): 0.0822, Val Recall (macro): 0.0168\n",
      "Val F1 (micro): 0.0822, Val F1 (macro): 0.0089\n",
      "--------------------------------------------------------------------------------\n"
     ]
    },
    {
     "name": "stderr",
     "output_type": "stream",
     "text": [
      " 36%|███▋      | 36295/100000 [21:15<21:34, 49.20it/s]  "
     ]
    },
    {
     "name": "stdout",
     "output_type": "stream",
     "text": [
      "Epoch [36300/100000]\n",
      "Train Loss: 5.8642, Train Accuracy: 0.0775\n",
      "Train Precision (micro): 0.0775, Train Precision (macro): 0.0051\n",
      "Train Recall (micro): 0.0775, Train Recall (macro): 0.0091\n",
      "Train F1 (micro): 0.0775, Train F1 (macro): 0.0051\n",
      "\n",
      "Val Loss: 5.8435, Val Accuracy: 0.0822\n",
      "Val Precision (micro): 0.0822, Val Precision (macro): 0.0075\n",
      "Val Recall (micro): 0.0822, Val Recall (macro): 0.0167\n",
      "Val F1 (micro): 0.0822, Val F1 (macro): 0.0085\n",
      "--------------------------------------------------------------------------------\n"
     ]
    },
    {
     "name": "stderr",
     "output_type": "stream",
     "text": [
      " 36%|███▋      | 36396/100000 [21:18<22:00, 48.18it/s]  "
     ]
    },
    {
     "name": "stdout",
     "output_type": "stream",
     "text": [
      "Epoch [36400/100000]\n",
      "Train Loss: 5.8586, Train Accuracy: 0.0833\n",
      "Train Precision (micro): 0.0833, Train Precision (macro): 0.0037\n",
      "Train Recall (micro): 0.0833, Train Recall (macro): 0.0084\n",
      "Train F1 (micro): 0.0833, Train F1 (macro): 0.0042\n",
      "\n",
      "Val Loss: 5.8454, Val Accuracy: 0.0822\n",
      "Val Precision (micro): 0.0822, Val Precision (macro): 0.0075\n",
      "Val Recall (micro): 0.0822, Val Recall (macro): 0.0167\n",
      "Val F1 (micro): 0.0822, Val F1 (macro): 0.0089\n",
      "--------------------------------------------------------------------------------\n"
     ]
    },
    {
     "name": "stderr",
     "output_type": "stream",
     "text": [
      " 36%|███▋      | 36496/100000 [21:22<23:14, 45.55it/s]  "
     ]
    },
    {
     "name": "stdout",
     "output_type": "stream",
     "text": [
      "Epoch [36500/100000]\n",
      "Train Loss: 5.8235, Train Accuracy: 0.0861\n",
      "Train Precision (micro): 0.0861, Train Precision (macro): 0.0062\n",
      "Train Recall (micro): 0.0861, Train Recall (macro): 0.0115\n",
      "Train F1 (micro): 0.0861, Train F1 (macro): 0.0064\n",
      "\n",
      "Val Loss: 5.8502, Val Accuracy: 0.0822\n",
      "Val Precision (micro): 0.0822, Val Precision (macro): 0.0074\n",
      "Val Recall (micro): 0.0822, Val Recall (macro): 0.0151\n",
      "Val F1 (micro): 0.0822, Val F1 (macro): 0.0081\n",
      "--------------------------------------------------------------------------------\n"
     ]
    },
    {
     "name": "stderr",
     "output_type": "stream",
     "text": [
      " 37%|███▋      | 36596/100000 [21:26<21:40, 48.75it/s]  "
     ]
    },
    {
     "name": "stdout",
     "output_type": "stream",
     "text": [
      "Epoch [36600/100000]\n",
      "Train Loss: 5.8895, Train Accuracy: 0.0825\n",
      "Train Precision (micro): 0.0825, Train Precision (macro): 0.0060\n",
      "Train Recall (micro): 0.0825, Train Recall (macro): 0.0118\n",
      "Train F1 (micro): 0.0825, Train F1 (macro): 0.0061\n",
      "\n",
      "Val Loss: 5.8478, Val Accuracy: 0.0813\n",
      "Val Precision (micro): 0.0813, Val Precision (macro): 0.0074\n",
      "Val Recall (micro): 0.0813, Val Recall (macro): 0.0165\n",
      "Val F1 (micro): 0.0813, Val F1 (macro): 0.0086\n",
      "--------------------------------------------------------------------------------\n"
     ]
    },
    {
     "name": "stderr",
     "output_type": "stream",
     "text": [
      " 37%|███▋      | 36696/100000 [21:29<22:39, 46.55it/s]  "
     ]
    },
    {
     "name": "stdout",
     "output_type": "stream",
     "text": [
      "Epoch [36700/100000]\n",
      "Train Loss: 5.8725, Train Accuracy: 0.0794\n",
      "Train Precision (micro): 0.0794, Train Precision (macro): 0.0051\n",
      "Train Recall (micro): 0.0794, Train Recall (macro): 0.0102\n",
      "Train F1 (micro): 0.0794, Train F1 (macro): 0.0055\n",
      "\n",
      "Val Loss: 5.8488, Val Accuracy: 0.0825\n",
      "Val Precision (micro): 0.0825, Val Precision (macro): 0.0075\n",
      "Val Recall (micro): 0.0825, Val Recall (macro): 0.0165\n",
      "Val F1 (micro): 0.0825, Val F1 (macro): 0.0088\n",
      "--------------------------------------------------------------------------------\n"
     ]
    },
    {
     "name": "stderr",
     "output_type": "stream",
     "text": [
      " 37%|███▋      | 36795/100000 [21:33<21:07, 49.86it/s]  "
     ]
    },
    {
     "name": "stdout",
     "output_type": "stream",
     "text": [
      "Epoch [36800/100000]\n",
      "Train Loss: 5.8490, Train Accuracy: 0.0830\n",
      "Train Precision (micro): 0.0830, Train Precision (macro): 0.0060\n",
      "Train Recall (micro): 0.0830, Train Recall (macro): 0.0098\n",
      "Train F1 (micro): 0.0830, Train F1 (macro): 0.0054\n",
      "\n",
      "Val Loss: 5.8503, Val Accuracy: 0.0813\n",
      "Val Precision (micro): 0.0813, Val Precision (macro): 0.0073\n",
      "Val Recall (micro): 0.0813, Val Recall (macro): 0.0167\n",
      "Val F1 (micro): 0.0813, Val F1 (macro): 0.0086\n",
      "--------------------------------------------------------------------------------\n"
     ]
    },
    {
     "name": "stderr",
     "output_type": "stream",
     "text": [
      " 37%|███▋      | 36894/100000 [21:36<21:04, 49.90it/s]  "
     ]
    },
    {
     "name": "stdout",
     "output_type": "stream",
     "text": [
      "Epoch [36900/100000]\n",
      "Train Loss: 5.8467, Train Accuracy: 0.0816\n",
      "Train Precision (micro): 0.0816, Train Precision (macro): 0.0069\n",
      "Train Recall (micro): 0.0816, Train Recall (macro): 0.0126\n",
      "Train F1 (micro): 0.0816, Train F1 (macro): 0.0073\n",
      "\n",
      "Val Loss: 5.8482, Val Accuracy: 0.0828\n",
      "Val Precision (micro): 0.0828, Val Precision (macro): 0.0080\n",
      "Val Recall (micro): 0.0828, Val Recall (macro): 0.0168\n",
      "Val F1 (micro): 0.0828, Val F1 (macro): 0.0088\n",
      "--------------------------------------------------------------------------------\n"
     ]
    },
    {
     "name": "stderr",
     "output_type": "stream",
     "text": [
      " 37%|███▋      | 36996/100000 [21:39<30:02, 34.95it/s]  "
     ]
    },
    {
     "name": "stdout",
     "output_type": "stream",
     "text": [
      "Epoch [37000/100000]\n",
      "Train Loss: 5.8861, Train Accuracy: 0.0770\n",
      "Train Precision (micro): 0.0770, Train Precision (macro): 0.0059\n",
      "Train Recall (micro): 0.0770, Train Recall (macro): 0.0099\n",
      "Train F1 (micro): 0.0770, Train F1 (macro): 0.0060\n",
      "\n",
      "Val Loss: 5.8475, Val Accuracy: 0.0828\n",
      "Val Precision (micro): 0.0828, Val Precision (macro): 0.0073\n",
      "Val Recall (micro): 0.0828, Val Recall (macro): 0.0166\n",
      "Val F1 (micro): 0.0828, Val F1 (macro): 0.0086\n",
      "--------------------------------------------------------------------------------\n"
     ]
    },
    {
     "name": "stderr",
     "output_type": "stream",
     "text": [
      " 37%|███▋      | 37098/100000 [21:43<20:46, 50.46it/s]  "
     ]
    },
    {
     "name": "stdout",
     "output_type": "stream",
     "text": [
      "Epoch [37100/100000]\n",
      "Train Loss: 5.8527, Train Accuracy: 0.0802\n",
      "Train Precision (micro): 0.0802, Train Precision (macro): 0.0056\n",
      "Train Recall (micro): 0.0802, Train Recall (macro): 0.0101\n",
      "Train F1 (micro): 0.0802, Train F1 (macro): 0.0053\n",
      "\n",
      "Val Loss: 5.8482, Val Accuracy: 0.0831\n",
      "Val Precision (micro): 0.0831, Val Precision (macro): 0.0072\n",
      "Val Recall (micro): 0.0831, Val Recall (macro): 0.0169\n",
      "Val F1 (micro): 0.0831, Val F1 (macro): 0.0087\n",
      "--------------------------------------------------------------------------------\n"
     ]
    },
    {
     "name": "stderr",
     "output_type": "stream",
     "text": [
      " 37%|███▋      | 37199/100000 [21:46<20:56, 49.98it/s]  "
     ]
    },
    {
     "name": "stdout",
     "output_type": "stream",
     "text": [
      "Epoch [37200/100000]\n",
      "Train Loss: 5.8636, Train Accuracy: 0.0797\n",
      "Train Precision (micro): 0.0797, Train Precision (macro): 0.0050\n",
      "Train Recall (micro): 0.0797, Train Recall (macro): 0.0110\n",
      "Train F1 (micro): 0.0797, Train F1 (macro): 0.0055\n",
      "\n",
      "Val Loss: 5.8467, Val Accuracy: 0.0797\n",
      "Val Precision (micro): 0.0797, Val Precision (macro): 0.0070\n",
      "Val Recall (micro): 0.0797, Val Recall (macro): 0.0159\n",
      "Val F1 (micro): 0.0797, Val F1 (macro): 0.0084\n",
      "--------------------------------------------------------------------------------\n"
     ]
    },
    {
     "name": "stderr",
     "output_type": "stream",
     "text": [
      " 37%|███▋      | 37299/100000 [21:49<21:40, 48.21it/s]  "
     ]
    },
    {
     "name": "stdout",
     "output_type": "stream",
     "text": [
      "Epoch [37300/100000]\n",
      "Train Loss: 5.8528, Train Accuracy: 0.0842\n",
      "Train Precision (micro): 0.0842, Train Precision (macro): 0.0065\n",
      "Train Recall (micro): 0.0842, Train Recall (macro): 0.0119\n",
      "Train F1 (micro): 0.0842, Train F1 (macro): 0.0067\n",
      "\n",
      "Val Loss: 5.8413, Val Accuracy: 0.0825\n",
      "Val Precision (micro): 0.0825, Val Precision (macro): 0.0079\n",
      "Val Recall (micro): 0.0825, Val Recall (macro): 0.0170\n",
      "Val F1 (micro): 0.0825, Val F1 (macro): 0.0091\n",
      "--------------------------------------------------------------------------------\n"
     ]
    },
    {
     "name": "stderr",
     "output_type": "stream",
     "text": [
      " 37%|███▋      | 37394/100000 [21:53<22:57, 45.43it/s]  "
     ]
    },
    {
     "name": "stdout",
     "output_type": "stream",
     "text": [
      "Epoch [37400/100000]\n",
      "Train Loss: 5.8608, Train Accuracy: 0.0798\n",
      "Train Precision (micro): 0.0798, Train Precision (macro): 0.0081\n",
      "Train Recall (micro): 0.0798, Train Recall (macro): 0.0131\n",
      "Train F1 (micro): 0.0798, Train F1 (macro): 0.0079\n",
      "\n",
      "Val Loss: 5.8413, Val Accuracy: 0.0825\n",
      "Val Precision (micro): 0.0825, Val Precision (macro): 0.0076\n",
      "Val Recall (micro): 0.0825, Val Recall (macro): 0.0175\n",
      "Val F1 (micro): 0.0825, Val F1 (macro): 0.0091\n",
      "--------------------------------------------------------------------------------\n"
     ]
    },
    {
     "name": "stderr",
     "output_type": "stream",
     "text": [
      " 37%|███▋      | 37495/100000 [21:56<23:18, 44.69it/s]  "
     ]
    },
    {
     "name": "stdout",
     "output_type": "stream",
     "text": [
      "Epoch [37500/100000]\n",
      "Train Loss: 5.8218, Train Accuracy: 0.0820\n",
      "Train Precision (micro): 0.0820, Train Precision (macro): 0.0064\n",
      "Train Recall (micro): 0.0820, Train Recall (macro): 0.0109\n",
      "Train F1 (micro): 0.0820, Train F1 (macro): 0.0061\n",
      "\n",
      "Val Loss: 5.8436, Val Accuracy: 0.0834\n",
      "Val Precision (micro): 0.0834, Val Precision (macro): 0.0076\n",
      "Val Recall (micro): 0.0834, Val Recall (macro): 0.0173\n",
      "Val F1 (micro): 0.0834, Val F1 (macro): 0.0090\n",
      "--------------------------------------------------------------------------------\n"
     ]
    },
    {
     "name": "stderr",
     "output_type": "stream",
     "text": [
      " 38%|███▊      | 37595/100000 [22:00<21:09, 49.15it/s]  "
     ]
    },
    {
     "name": "stdout",
     "output_type": "stream",
     "text": [
      "Epoch [37600/100000]\n",
      "Train Loss: 5.8660, Train Accuracy: 0.0828\n",
      "Train Precision (micro): 0.0828, Train Precision (macro): 0.0054\n",
      "Train Recall (micro): 0.0828, Train Recall (macro): 0.0105\n",
      "Train F1 (micro): 0.0828, Train F1 (macro): 0.0055\n",
      "\n",
      "Val Loss: 5.8424, Val Accuracy: 0.0825\n",
      "Val Precision (micro): 0.0825, Val Precision (macro): 0.0079\n",
      "Val Recall (micro): 0.0825, Val Recall (macro): 0.0172\n",
      "Val F1 (micro): 0.0825, Val F1 (macro): 0.0092\n",
      "--------------------------------------------------------------------------------\n"
     ]
    },
    {
     "name": "stderr",
     "output_type": "stream",
     "text": [
      " 38%|███▊      | 37696/100000 [22:03<20:58, 49.51it/s]  "
     ]
    },
    {
     "name": "stdout",
     "output_type": "stream",
     "text": [
      "Epoch [37700/100000]\n",
      "Train Loss: 5.7754, Train Accuracy: 0.0853\n",
      "Train Precision (micro): 0.0853, Train Precision (macro): 0.0060\n",
      "Train Recall (micro): 0.0853, Train Recall (macro): 0.0115\n",
      "Train F1 (micro): 0.0853, Train F1 (macro): 0.0060\n",
      "\n",
      "Val Loss: 5.8416, Val Accuracy: 0.0831\n",
      "Val Precision (micro): 0.0831, Val Precision (macro): 0.0075\n",
      "Val Recall (micro): 0.0831, Val Recall (macro): 0.0172\n",
      "Val F1 (micro): 0.0831, Val F1 (macro): 0.0089\n",
      "--------------------------------------------------------------------------------\n"
     ]
    },
    {
     "name": "stderr",
     "output_type": "stream",
     "text": [
      " 38%|███▊      | 37795/100000 [22:06<22:56, 45.20it/s]  "
     ]
    },
    {
     "name": "stdout",
     "output_type": "stream",
     "text": [
      "Epoch [37800/100000]\n",
      "Train Loss: 5.8642, Train Accuracy: 0.0831\n",
      "Train Precision (micro): 0.0831, Train Precision (macro): 0.0060\n",
      "Train Recall (micro): 0.0831, Train Recall (macro): 0.0100\n",
      "Train F1 (micro): 0.0831, Train F1 (macro): 0.0061\n",
      "\n",
      "Val Loss: 5.8453, Val Accuracy: 0.0819\n",
      "Val Precision (micro): 0.0819, Val Precision (macro): 0.0076\n",
      "Val Recall (micro): 0.0819, Val Recall (macro): 0.0170\n",
      "Val F1 (micro): 0.0819, Val F1 (macro): 0.0089\n",
      "--------------------------------------------------------------------------------\n"
     ]
    },
    {
     "name": "stderr",
     "output_type": "stream",
     "text": [
      " 38%|███▊      | 37899/100000 [22:10<21:39, 47.79it/s]  "
     ]
    },
    {
     "name": "stdout",
     "output_type": "stream",
     "text": [
      "Epoch [37900/100000]\n",
      "Train Loss: 5.8629, Train Accuracy: 0.0800\n",
      "Train Precision (micro): 0.0800, Train Precision (macro): 0.0062\n",
      "Train Recall (micro): 0.0800, Train Recall (macro): 0.0109\n",
      "Train F1 (micro): 0.0800, Train F1 (macro): 0.0063\n",
      "\n",
      "Val Loss: 5.8403, Val Accuracy: 0.0813\n",
      "Val Precision (micro): 0.0813, Val Precision (macro): 0.0075\n",
      "Val Recall (micro): 0.0813, Val Recall (macro): 0.0168\n",
      "Val F1 (micro): 0.0813, Val F1 (macro): 0.0089\n",
      "--------------------------------------------------------------------------------\n"
     ]
    },
    {
     "name": "stderr",
     "output_type": "stream",
     "text": [
      " 38%|███▊      | 37995/100000 [22:14<35:03, 29.48it/s]  "
     ]
    },
    {
     "name": "stdout",
     "output_type": "stream",
     "text": [
      "Epoch [38000/100000]\n",
      "Train Loss: 5.7918, Train Accuracy: 0.0881\n",
      "Train Precision (micro): 0.0881, Train Precision (macro): 0.0058\n",
      "Train Recall (micro): 0.0881, Train Recall (macro): 0.0116\n",
      "Train F1 (micro): 0.0881, Train F1 (macro): 0.0063\n",
      "\n",
      "Val Loss: 5.8415, Val Accuracy: 0.0831\n",
      "Val Precision (micro): 0.0831, Val Precision (macro): 0.0076\n",
      "Val Recall (micro): 0.0831, Val Recall (macro): 0.0174\n",
      "Val F1 (micro): 0.0831, Val F1 (macro): 0.0091\n",
      "--------------------------------------------------------------------------------\n"
     ]
    },
    {
     "name": "stderr",
     "output_type": "stream",
     "text": [
      " 38%|███▊      | 38094/100000 [22:17<21:56, 47.01it/s]  "
     ]
    },
    {
     "name": "stdout",
     "output_type": "stream",
     "text": [
      "Epoch [38100/100000]\n",
      "Train Loss: 5.8374, Train Accuracy: 0.0886\n",
      "Train Precision (micro): 0.0886, Train Precision (macro): 0.0056\n",
      "Train Recall (micro): 0.0886, Train Recall (macro): 0.0111\n",
      "Train F1 (micro): 0.0886, Train F1 (macro): 0.0060\n",
      "\n",
      "Val Loss: 5.8430, Val Accuracy: 0.0816\n",
      "Val Precision (micro): 0.0816, Val Precision (macro): 0.0075\n",
      "Val Recall (micro): 0.0816, Val Recall (macro): 0.0169\n",
      "Val F1 (micro): 0.0816, Val F1 (macro): 0.0088\n",
      "--------------------------------------------------------------------------------\n"
     ]
    },
    {
     "name": "stderr",
     "output_type": "stream",
     "text": [
      " 38%|███▊      | 38195/100000 [22:20<20:30, 50.22it/s]  "
     ]
    },
    {
     "name": "stdout",
     "output_type": "stream",
     "text": [
      "Epoch [38200/100000]\n",
      "Train Loss: 5.7617, Train Accuracy: 0.0869\n",
      "Train Precision (micro): 0.0869, Train Precision (macro): 0.0066\n",
      "Train Recall (micro): 0.0869, Train Recall (macro): 0.0126\n",
      "Train F1 (micro): 0.0869, Train F1 (macro): 0.0069\n",
      "\n",
      "Val Loss: 5.8438, Val Accuracy: 0.0813\n",
      "Val Precision (micro): 0.0813, Val Precision (macro): 0.0071\n",
      "Val Recall (micro): 0.0813, Val Recall (macro): 0.0161\n",
      "Val F1 (micro): 0.0813, Val F1 (macro): 0.0084\n",
      "--------------------------------------------------------------------------------\n"
     ]
    },
    {
     "name": "stderr",
     "output_type": "stream",
     "text": [
      " 38%|███▊      | 38294/100000 [22:24<20:30, 50.14it/s]  "
     ]
    },
    {
     "name": "stdout",
     "output_type": "stream",
     "text": [
      "Epoch [38300/100000]\n",
      "Train Loss: 5.8254, Train Accuracy: 0.0845\n",
      "Train Precision (micro): 0.0845, Train Precision (macro): 0.0054\n",
      "Train Recall (micro): 0.0845, Train Recall (macro): 0.0108\n",
      "Train F1 (micro): 0.0845, Train F1 (macro): 0.0061\n",
      "\n",
      "Val Loss: 5.8431, Val Accuracy: 0.0809\n",
      "Val Precision (micro): 0.0809, Val Precision (macro): 0.0070\n",
      "Val Recall (micro): 0.0809, Val Recall (macro): 0.0163\n",
      "Val F1 (micro): 0.0809, Val F1 (macro): 0.0083\n",
      "--------------------------------------------------------------------------------\n"
     ]
    },
    {
     "name": "stderr",
     "output_type": "stream",
     "text": [
      " 38%|███▊      | 38394/100000 [22:27<20:50, 49.26it/s]  "
     ]
    },
    {
     "name": "stdout",
     "output_type": "stream",
     "text": [
      "Epoch [38400/100000]\n",
      "Train Loss: 5.8119, Train Accuracy: 0.0841\n",
      "Train Precision (micro): 0.0841, Train Precision (macro): 0.0050\n",
      "Train Recall (micro): 0.0841, Train Recall (macro): 0.0090\n",
      "Train F1 (micro): 0.0841, Train F1 (macro): 0.0049\n",
      "\n",
      "Val Loss: 5.8405, Val Accuracy: 0.0825\n",
      "Val Precision (micro): 0.0825, Val Precision (macro): 0.0072\n",
      "Val Recall (micro): 0.0825, Val Recall (macro): 0.0164\n",
      "Val F1 (micro): 0.0825, Val F1 (macro): 0.0085\n",
      "--------------------------------------------------------------------------------\n"
     ]
    },
    {
     "name": "stderr",
     "output_type": "stream",
     "text": [
      " 38%|███▊      | 38498/100000 [22:31<20:43, 49.46it/s]  "
     ]
    },
    {
     "name": "stdout",
     "output_type": "stream",
     "text": [
      "Epoch [38500/100000]\n",
      "Train Loss: 5.8792, Train Accuracy: 0.0800\n",
      "Train Precision (micro): 0.0800, Train Precision (macro): 0.0053\n",
      "Train Recall (micro): 0.0800, Train Recall (macro): 0.0110\n",
      "Train F1 (micro): 0.0800, Train F1 (macro): 0.0059\n",
      "\n",
      "Val Loss: 5.8415, Val Accuracy: 0.0816\n",
      "Val Precision (micro): 0.0816, Val Precision (macro): 0.0072\n",
      "Val Recall (micro): 0.0816, Val Recall (macro): 0.0164\n",
      "Val F1 (micro): 0.0816, Val F1 (macro): 0.0086\n",
      "--------------------------------------------------------------------------------\n"
     ]
    },
    {
     "name": "stderr",
     "output_type": "stream",
     "text": [
      " 39%|███▊      | 38597/100000 [22:34<21:06, 48.47it/s]  "
     ]
    },
    {
     "name": "stdout",
     "output_type": "stream",
     "text": [
      "Epoch [38600/100000]\n",
      "Train Loss: 5.8269, Train Accuracy: 0.0875\n",
      "Train Precision (micro): 0.0875, Train Precision (macro): 0.0054\n",
      "Train Recall (micro): 0.0875, Train Recall (macro): 0.0103\n",
      "Train F1 (micro): 0.0875, Train F1 (macro): 0.0060\n",
      "\n",
      "Val Loss: 5.8424, Val Accuracy: 0.0813\n",
      "Val Precision (micro): 0.0813, Val Precision (macro): 0.0071\n",
      "Val Recall (micro): 0.0813, Val Recall (macro): 0.0157\n",
      "Val F1 (micro): 0.0813, Val F1 (macro): 0.0084\n",
      "--------------------------------------------------------------------------------\n"
     ]
    },
    {
     "name": "stderr",
     "output_type": "stream",
     "text": [
      " 39%|███▊      | 38698/100000 [22:37<22:38, 45.13it/s]  "
     ]
    },
    {
     "name": "stdout",
     "output_type": "stream",
     "text": [
      "Epoch [38700/100000]\n",
      "Train Loss: 5.8437, Train Accuracy: 0.0858\n",
      "Train Precision (micro): 0.0858, Train Precision (macro): 0.0061\n",
      "Train Recall (micro): 0.0858, Train Recall (macro): 0.0112\n",
      "Train F1 (micro): 0.0858, Train F1 (macro): 0.0062\n",
      "\n",
      "Val Loss: 5.8416, Val Accuracy: 0.0816\n",
      "Val Precision (micro): 0.0816, Val Precision (macro): 0.0071\n",
      "Val Recall (micro): 0.0816, Val Recall (macro): 0.0163\n",
      "Val F1 (micro): 0.0816, Val F1 (macro): 0.0085\n",
      "--------------------------------------------------------------------------------\n"
     ]
    },
    {
     "name": "stderr",
     "output_type": "stream",
     "text": [
      " 39%|███▉      | 38798/100000 [22:41<20:47, 49.08it/s]  "
     ]
    },
    {
     "name": "stdout",
     "output_type": "stream",
     "text": [
      "Epoch [38800/100000]\n",
      "Train Loss: 5.8700, Train Accuracy: 0.0803\n",
      "Train Precision (micro): 0.0803, Train Precision (macro): 0.0058\n",
      "Train Recall (micro): 0.0803, Train Recall (macro): 0.0119\n",
      "Train F1 (micro): 0.0803, Train F1 (macro): 0.0067\n",
      "\n",
      "Val Loss: 5.8416, Val Accuracy: 0.0816\n",
      "Val Precision (micro): 0.0816, Val Precision (macro): 0.0071\n",
      "Val Recall (micro): 0.0816, Val Recall (macro): 0.0163\n",
      "Val F1 (micro): 0.0816, Val F1 (macro): 0.0085\n",
      "--------------------------------------------------------------------------------\n"
     ]
    },
    {
     "name": "stderr",
     "output_type": "stream",
     "text": [
      " 39%|███▉      | 38894/100000 [22:44<20:37, 49.36it/s]  "
     ]
    },
    {
     "name": "stdout",
     "output_type": "stream",
     "text": [
      "Epoch [38900/100000]\n",
      "Train Loss: 5.8170, Train Accuracy: 0.0833\n",
      "Train Precision (micro): 0.0833, Train Precision (macro): 0.0041\n",
      "Train Recall (micro): 0.0833, Train Recall (macro): 0.0099\n",
      "Train F1 (micro): 0.0833, Train F1 (macro): 0.0050\n",
      "\n",
      "Val Loss: 5.8418, Val Accuracy: 0.0831\n",
      "Val Precision (micro): 0.0831, Val Precision (macro): 0.0072\n",
      "Val Recall (micro): 0.0831, Val Recall (macro): 0.0167\n",
      "Val F1 (micro): 0.0831, Val F1 (macro): 0.0086\n",
      "--------------------------------------------------------------------------------\n"
     ]
    },
    {
     "name": "stderr",
     "output_type": "stream",
     "text": [
      " 39%|███▉      | 38998/100000 [22:48<22:14, 45.71it/s]  "
     ]
    },
    {
     "name": "stdout",
     "output_type": "stream",
     "text": [
      "Epoch [39000/100000]\n",
      "Train Loss: 5.8769, Train Accuracy: 0.0795\n",
      "Train Precision (micro): 0.0795, Train Precision (macro): 0.0077\n",
      "Train Recall (micro): 0.0795, Train Recall (macro): 0.0115\n",
      "Train F1 (micro): 0.0795, Train F1 (macro): 0.0070\n",
      "\n",
      "Val Loss: 5.8428, Val Accuracy: 0.0822\n",
      "Val Precision (micro): 0.0822, Val Precision (macro): 0.0070\n",
      "Val Recall (micro): 0.0822, Val Recall (macro): 0.0163\n",
      "Val F1 (micro): 0.0822, Val F1 (macro): 0.0084\n",
      "--------------------------------------------------------------------------------\n"
     ]
    },
    {
     "name": "stderr",
     "output_type": "stream",
     "text": [
      " 39%|███▉      | 39094/100000 [22:52<20:36, 49.26it/s]  "
     ]
    },
    {
     "name": "stdout",
     "output_type": "stream",
     "text": [
      "Epoch [39100/100000]\n",
      "Train Loss: 5.8534, Train Accuracy: 0.0839\n",
      "Train Precision (micro): 0.0839, Train Precision (macro): 0.0063\n",
      "Train Recall (micro): 0.0839, Train Recall (macro): 0.0106\n",
      "Train F1 (micro): 0.0839, Train F1 (macro): 0.0060\n",
      "\n",
      "Val Loss: 5.8421, Val Accuracy: 0.0816\n",
      "Val Precision (micro): 0.0816, Val Precision (macro): 0.0072\n",
      "Val Recall (micro): 0.0816, Val Recall (macro): 0.0160\n",
      "Val F1 (micro): 0.0816, Val F1 (macro): 0.0085\n",
      "--------------------------------------------------------------------------------\n"
     ]
    },
    {
     "name": "stderr",
     "output_type": "stream",
     "text": [
      " 39%|███▉      | 39196/100000 [22:55<21:03, 48.13it/s]  "
     ]
    },
    {
     "name": "stdout",
     "output_type": "stream",
     "text": [
      "Epoch [39200/100000]\n",
      "Train Loss: 5.8352, Train Accuracy: 0.0798\n",
      "Train Precision (micro): 0.0798, Train Precision (macro): 0.0065\n",
      "Train Recall (micro): 0.0798, Train Recall (macro): 0.0110\n",
      "Train F1 (micro): 0.0798, Train F1 (macro): 0.0068\n",
      "\n",
      "Val Loss: 5.8411, Val Accuracy: 0.0809\n",
      "Val Precision (micro): 0.0809, Val Precision (macro): 0.0072\n",
      "Val Recall (micro): 0.0809, Val Recall (macro): 0.0159\n",
      "Val F1 (micro): 0.0809, Val F1 (macro): 0.0084\n",
      "--------------------------------------------------------------------------------\n"
     ]
    },
    {
     "name": "stderr",
     "output_type": "stream",
     "text": [
      " 39%|███▉      | 39298/100000 [22:59<21:12, 47.69it/s]  "
     ]
    },
    {
     "name": "stdout",
     "output_type": "stream",
     "text": [
      "Epoch [39300/100000]\n",
      "Train Loss: 5.8564, Train Accuracy: 0.0850\n",
      "Train Precision (micro): 0.0850, Train Precision (macro): 0.0068\n",
      "Train Recall (micro): 0.0850, Train Recall (macro): 0.0097\n",
      "Train F1 (micro): 0.0850, Train F1 (macro): 0.0053\n",
      "\n",
      "Val Loss: 5.8412, Val Accuracy: 0.0825\n",
      "Val Precision (micro): 0.0825, Val Precision (macro): 0.0072\n",
      "Val Recall (micro): 0.0825, Val Recall (macro): 0.0165\n",
      "Val F1 (micro): 0.0825, Val F1 (macro): 0.0086\n",
      "--------------------------------------------------------------------------------\n"
     ]
    },
    {
     "name": "stderr",
     "output_type": "stream",
     "text": [
      " 39%|███▉      | 39396/100000 [23:02<20:28, 49.34it/s]  "
     ]
    },
    {
     "name": "stdout",
     "output_type": "stream",
     "text": [
      "Epoch [39400/100000]\n",
      "Train Loss: 5.8152, Train Accuracy: 0.0820\n",
      "Train Precision (micro): 0.0820, Train Precision (macro): 0.0053\n",
      "Train Recall (micro): 0.0820, Train Recall (macro): 0.0100\n",
      "Train F1 (micro): 0.0820, Train F1 (macro): 0.0056\n",
      "\n",
      "Val Loss: 5.8412, Val Accuracy: 0.0819\n",
      "Val Precision (micro): 0.0819, Val Precision (macro): 0.0072\n",
      "Val Recall (micro): 0.0819, Val Recall (macro): 0.0163\n",
      "Val F1 (micro): 0.0819, Val F1 (macro): 0.0085\n",
      "--------------------------------------------------------------------------------\n"
     ]
    },
    {
     "name": "stderr",
     "output_type": "stream",
     "text": [
      " 39%|███▉      | 39498/100000 [23:06<20:40, 48.76it/s]  "
     ]
    },
    {
     "name": "stdout",
     "output_type": "stream",
     "text": [
      "Epoch [39500/100000]\n",
      "Train Loss: 5.8237, Train Accuracy: 0.0877\n",
      "Train Precision (micro): 0.0877, Train Precision (macro): 0.0057\n",
      "Train Recall (micro): 0.0877, Train Recall (macro): 0.0099\n",
      "Train F1 (micro): 0.0877, Train F1 (macro): 0.0055\n",
      "\n",
      "Val Loss: 5.8422, Val Accuracy: 0.0816\n",
      "Val Precision (micro): 0.0816, Val Precision (macro): 0.0071\n",
      "Val Recall (micro): 0.0816, Val Recall (macro): 0.0161\n",
      "Val F1 (micro): 0.0816, Val F1 (macro): 0.0084\n",
      "--------------------------------------------------------------------------------\n"
     ]
    },
    {
     "name": "stderr",
     "output_type": "stream",
     "text": [
      " 40%|███▉      | 39597/100000 [23:09<21:06, 47.70it/s]  "
     ]
    },
    {
     "name": "stdout",
     "output_type": "stream",
     "text": [
      "Epoch [39600/100000]\n",
      "Train Loss: 5.8808, Train Accuracy: 0.0808\n",
      "Train Precision (micro): 0.0808, Train Precision (macro): 0.0056\n",
      "Train Recall (micro): 0.0808, Train Recall (macro): 0.0103\n",
      "Train F1 (micro): 0.0808, Train F1 (macro): 0.0057\n",
      "\n",
      "Val Loss: 5.8412, Val Accuracy: 0.0819\n",
      "Val Precision (micro): 0.0819, Val Precision (macro): 0.0072\n",
      "Val Recall (micro): 0.0819, Val Recall (macro): 0.0163\n",
      "Val F1 (micro): 0.0819, Val F1 (macro): 0.0086\n",
      "--------------------------------------------------------------------------------\n"
     ]
    },
    {
     "name": "stderr",
     "output_type": "stream",
     "text": [
      " 40%|███▉      | 39696/100000 [23:13<20:11, 49.78it/s]  "
     ]
    },
    {
     "name": "stdout",
     "output_type": "stream",
     "text": [
      "Epoch [39700/100000]\n",
      "Train Loss: 5.8974, Train Accuracy: 0.0853\n",
      "Train Precision (micro): 0.0853, Train Precision (macro): 0.0045\n",
      "Train Recall (micro): 0.0853, Train Recall (macro): 0.0090\n",
      "Train F1 (micro): 0.0853, Train F1 (macro): 0.0048\n",
      "\n",
      "Val Loss: 5.8411, Val Accuracy: 0.0819\n",
      "Val Precision (micro): 0.0819, Val Precision (macro): 0.0072\n",
      "Val Recall (micro): 0.0819, Val Recall (macro): 0.0164\n",
      "Val F1 (micro): 0.0819, Val F1 (macro): 0.0086\n",
      "--------------------------------------------------------------------------------\n"
     ]
    },
    {
     "name": "stderr",
     "output_type": "stream",
     "text": [
      " 40%|███▉      | 39795/100000 [23:16<20:19, 49.36it/s]  "
     ]
    },
    {
     "name": "stdout",
     "output_type": "stream",
     "text": [
      "Epoch [39800/100000]\n",
      "Train Loss: 5.8273, Train Accuracy: 0.0845\n",
      "Train Precision (micro): 0.0845, Train Precision (macro): 0.0051\n",
      "Train Recall (micro): 0.0845, Train Recall (macro): 0.0097\n",
      "Train F1 (micro): 0.0845, Train F1 (macro): 0.0052\n",
      "\n",
      "Val Loss: 5.8404, Val Accuracy: 0.0816\n",
      "Val Precision (micro): 0.0816, Val Precision (macro): 0.0072\n",
      "Val Recall (micro): 0.0816, Val Recall (macro): 0.0164\n",
      "Val F1 (micro): 0.0816, Val F1 (macro): 0.0085\n",
      "--------------------------------------------------------------------------------\n"
     ]
    },
    {
     "name": "stderr",
     "output_type": "stream",
     "text": [
      " 40%|███▉      | 39898/100000 [23:20<21:51, 45.83it/s]  "
     ]
    },
    {
     "name": "stdout",
     "output_type": "stream",
     "text": [
      "Epoch [39900/100000]\n",
      "Train Loss: 5.8505, Train Accuracy: 0.0842\n",
      "Train Precision (micro): 0.0842, Train Precision (macro): 0.0039\n",
      "Train Recall (micro): 0.0842, Train Recall (macro): 0.0091\n",
      "Train F1 (micro): 0.0842, Train F1 (macro): 0.0044\n",
      "\n",
      "Val Loss: 5.8405, Val Accuracy: 0.0809\n",
      "Val Precision (micro): 0.0809, Val Precision (macro): 0.0073\n",
      "Val Recall (micro): 0.0809, Val Recall (macro): 0.0169\n",
      "Val F1 (micro): 0.0809, Val F1 (macro): 0.0087\n",
      "--------------------------------------------------------------------------------\n"
     ]
    },
    {
     "name": "stderr",
     "output_type": "stream",
     "text": [
      " 40%|███▉      | 39997/100000 [23:23<20:27, 48.88it/s]  "
     ]
    },
    {
     "name": "stdout",
     "output_type": "stream",
     "text": [
      "Epoch [40000/100000]\n",
      "Train Loss: 5.8277, Train Accuracy: 0.0798\n",
      "Train Precision (micro): 0.0798, Train Precision (macro): 0.0055\n",
      "Train Recall (micro): 0.0798, Train Recall (macro): 0.0108\n",
      "Train F1 (micro): 0.0798, Train F1 (macro): 0.0058\n",
      "\n",
      "Val Loss: 5.8410, Val Accuracy: 0.0813\n",
      "Val Precision (micro): 0.0813, Val Precision (macro): 0.0072\n",
      "Val Recall (micro): 0.0813, Val Recall (macro): 0.0162\n",
      "Val F1 (micro): 0.0813, Val F1 (macro): 0.0085\n",
      "--------------------------------------------------------------------------------\n"
     ]
    },
    {
     "name": "stderr",
     "output_type": "stream",
     "text": [
      " 40%|████      | 40098/100000 [23:27<20:00, 49.88it/s]  "
     ]
    },
    {
     "name": "stdout",
     "output_type": "stream",
     "text": [
      "Epoch [40100/100000]\n",
      "Train Loss: 5.8373, Train Accuracy: 0.0883\n",
      "Train Precision (micro): 0.0883, Train Precision (macro): 0.0064\n",
      "Train Recall (micro): 0.0883, Train Recall (macro): 0.0112\n",
      "Train F1 (micro): 0.0883, Train F1 (macro): 0.0067\n",
      "\n",
      "Val Loss: 5.8415, Val Accuracy: 0.0819\n",
      "Val Precision (micro): 0.0819, Val Precision (macro): 0.0072\n",
      "Val Recall (micro): 0.0819, Val Recall (macro): 0.0163\n",
      "Val F1 (micro): 0.0819, Val F1 (macro): 0.0085\n",
      "--------------------------------------------------------------------------------\n"
     ]
    },
    {
     "name": "stderr",
     "output_type": "stream",
     "text": [
      " 40%|████      | 40195/100000 [23:32<20:53, 47.71it/s]  "
     ]
    },
    {
     "name": "stdout",
     "output_type": "stream",
     "text": [
      "Epoch [40200/100000]\n",
      "Train Loss: 5.8147, Train Accuracy: 0.0797\n",
      "Train Precision (micro): 0.0797, Train Precision (macro): 0.0046\n",
      "Train Recall (micro): 0.0797, Train Recall (macro): 0.0096\n",
      "Train F1 (micro): 0.0797, Train F1 (macro): 0.0049\n",
      "\n",
      "Val Loss: 5.8415, Val Accuracy: 0.0822\n",
      "Val Precision (micro): 0.0822, Val Precision (macro): 0.0072\n",
      "Val Recall (micro): 0.0822, Val Recall (macro): 0.0164\n",
      "Val F1 (micro): 0.0822, Val F1 (macro): 0.0086\n",
      "--------------------------------------------------------------------------------\n"
     ]
    },
    {
     "name": "stderr",
     "output_type": "stream",
     "text": [
      " 40%|████      | 40297/100000 [23:36<20:53, 47.65it/s]  "
     ]
    },
    {
     "name": "stdout",
     "output_type": "stream",
     "text": [
      "Epoch [40300/100000]\n",
      "Train Loss: 5.8298, Train Accuracy: 0.0792\n",
      "Train Precision (micro): 0.0792, Train Precision (macro): 0.0060\n",
      "Train Recall (micro): 0.0792, Train Recall (macro): 0.0122\n",
      "Train F1 (micro): 0.0792, Train F1 (macro): 0.0067\n",
      "\n",
      "Val Loss: 5.8414, Val Accuracy: 0.0813\n",
      "Val Precision (micro): 0.0813, Val Precision (macro): 0.0071\n",
      "Val Recall (micro): 0.0813, Val Recall (macro): 0.0161\n",
      "Val F1 (micro): 0.0813, Val F1 (macro): 0.0084\n",
      "--------------------------------------------------------------------------------\n"
     ]
    },
    {
     "name": "stderr",
     "output_type": "stream",
     "text": [
      " 40%|████      | 40396/100000 [23:40<21:29, 46.24it/s]  "
     ]
    },
    {
     "name": "stdout",
     "output_type": "stream",
     "text": [
      "Epoch [40400/100000]\n",
      "Train Loss: 5.8642, Train Accuracy: 0.0822\n",
      "Train Precision (micro): 0.0822, Train Precision (macro): 0.0058\n",
      "Train Recall (micro): 0.0822, Train Recall (macro): 0.0103\n",
      "Train F1 (micro): 0.0822, Train F1 (macro): 0.0055\n",
      "\n",
      "Val Loss: 5.8410, Val Accuracy: 0.0816\n",
      "Val Precision (micro): 0.0816, Val Precision (macro): 0.0071\n",
      "Val Recall (micro): 0.0816, Val Recall (macro): 0.0162\n",
      "Val F1 (micro): 0.0816, Val F1 (macro): 0.0085\n",
      "--------------------------------------------------------------------------------\n"
     ]
    },
    {
     "name": "stderr",
     "output_type": "stream",
     "text": [
      " 40%|████      | 40497/100000 [23:43<19:54, 49.81it/s]  "
     ]
    },
    {
     "name": "stdout",
     "output_type": "stream",
     "text": [
      "Epoch [40500/100000]\n",
      "Train Loss: 5.8108, Train Accuracy: 0.0836\n",
      "Train Precision (micro): 0.0836, Train Precision (macro): 0.0052\n",
      "Train Recall (micro): 0.0836, Train Recall (macro): 0.0093\n",
      "Train F1 (micro): 0.0836, Train F1 (macro): 0.0049\n",
      "\n",
      "Val Loss: 5.8408, Val Accuracy: 0.0819\n",
      "Val Precision (micro): 0.0819, Val Precision (macro): 0.0072\n",
      "Val Recall (micro): 0.0819, Val Recall (macro): 0.0162\n",
      "Val F1 (micro): 0.0819, Val F1 (macro): 0.0085\n",
      "--------------------------------------------------------------------------------\n"
     ]
    },
    {
     "name": "stderr",
     "output_type": "stream",
     "text": [
      " 41%|████      | 40596/100000 [23:46<23:00, 43.04it/s]  "
     ]
    },
    {
     "name": "stdout",
     "output_type": "stream",
     "text": [
      "Epoch [40600/100000]\n",
      "Train Loss: 5.8365, Train Accuracy: 0.0878\n",
      "Train Precision (micro): 0.0878, Train Precision (macro): 0.0059\n",
      "Train Recall (micro): 0.0878, Train Recall (macro): 0.0106\n",
      "Train F1 (micro): 0.0878, Train F1 (macro): 0.0055\n",
      "\n",
      "Val Loss: 5.8407, Val Accuracy: 0.0822\n",
      "Val Precision (micro): 0.0822, Val Precision (macro): 0.0072\n",
      "Val Recall (micro): 0.0822, Val Recall (macro): 0.0164\n",
      "Val F1 (micro): 0.0822, Val F1 (macro): 0.0086\n",
      "--------------------------------------------------------------------------------\n"
     ]
    },
    {
     "name": "stderr",
     "output_type": "stream",
     "text": [
      " 41%|████      | 40695/100000 [23:51<21:31, 45.93it/s]  "
     ]
    },
    {
     "name": "stdout",
     "output_type": "stream",
     "text": [
      "Epoch [40700/100000]\n",
      "Train Loss: 5.8493, Train Accuracy: 0.0861\n",
      "Train Precision (micro): 0.0861, Train Precision (macro): 0.0067\n",
      "Train Recall (micro): 0.0861, Train Recall (macro): 0.0107\n",
      "Train F1 (micro): 0.0861, Train F1 (macro): 0.0062\n",
      "\n",
      "Val Loss: 5.8407, Val Accuracy: 0.0816\n",
      "Val Precision (micro): 0.0816, Val Precision (macro): 0.0071\n",
      "Val Recall (micro): 0.0816, Val Recall (macro): 0.0162\n",
      "Val F1 (micro): 0.0816, Val F1 (macro): 0.0085\n",
      "--------------------------------------------------------------------------------\n"
     ]
    },
    {
     "name": "stderr",
     "output_type": "stream",
     "text": [
      " 41%|████      | 40797/100000 [23:54<19:54, 49.56it/s]  "
     ]
    },
    {
     "name": "stdout",
     "output_type": "stream",
     "text": [
      "Epoch [40800/100000]\n",
      "Train Loss: 5.8541, Train Accuracy: 0.0836\n",
      "Train Precision (micro): 0.0836, Train Precision (macro): 0.0062\n",
      "Train Recall (micro): 0.0836, Train Recall (macro): 0.0098\n",
      "Train F1 (micro): 0.0836, Train F1 (macro): 0.0053\n",
      "\n",
      "Val Loss: 5.8408, Val Accuracy: 0.0819\n",
      "Val Precision (micro): 0.0819, Val Precision (macro): 0.0071\n",
      "Val Recall (micro): 0.0819, Val Recall (macro): 0.0162\n",
      "Val F1 (micro): 0.0819, Val F1 (macro): 0.0085\n",
      "--------------------------------------------------------------------------------\n"
     ]
    },
    {
     "name": "stderr",
     "output_type": "stream",
     "text": [
      " 41%|████      | 40899/100000 [23:58<21:13, 46.41it/s]  "
     ]
    },
    {
     "name": "stdout",
     "output_type": "stream",
     "text": [
      "Epoch [40900/100000]\n",
      "Train Loss: 5.8393, Train Accuracy: 0.0813\n",
      "Train Precision (micro): 0.0813, Train Precision (macro): 0.0061\n",
      "Train Recall (micro): 0.0813, Train Recall (macro): 0.0116\n",
      "Train F1 (micro): 0.0813, Train F1 (macro): 0.0064\n",
      "\n",
      "Val Loss: 5.8409, Val Accuracy: 0.0816\n",
      "Val Precision (micro): 0.0816, Val Precision (macro): 0.0072\n",
      "Val Recall (micro): 0.0816, Val Recall (macro): 0.0164\n",
      "Val F1 (micro): 0.0816, Val F1 (macro): 0.0085\n",
      "--------------------------------------------------------------------------------\n"
     ]
    },
    {
     "name": "stderr",
     "output_type": "stream",
     "text": [
      " 41%|████      | 40997/100000 [24:02<19:47, 49.67it/s]  "
     ]
    },
    {
     "name": "stdout",
     "output_type": "stream",
     "text": [
      "Epoch [41000/100000]\n",
      "Train Loss: 5.7916, Train Accuracy: 0.0858\n",
      "Train Precision (micro): 0.0858, Train Precision (macro): 0.0074\n",
      "Train Recall (micro): 0.0858, Train Recall (macro): 0.0121\n",
      "Train F1 (micro): 0.0858, Train F1 (macro): 0.0072\n",
      "\n",
      "Val Loss: 5.8408, Val Accuracy: 0.0819\n",
      "Val Precision (micro): 0.0819, Val Precision (macro): 0.0072\n",
      "Val Recall (micro): 0.0819, Val Recall (macro): 0.0164\n",
      "Val F1 (micro): 0.0819, Val F1 (macro): 0.0086\n",
      "--------------------------------------------------------------------------------\n"
     ]
    },
    {
     "name": "stderr",
     "output_type": "stream",
     "text": [
      " 41%|████      | 41099/100000 [24:05<20:01, 49.03it/s]  "
     ]
    },
    {
     "name": "stdout",
     "output_type": "stream",
     "text": [
      "Epoch [41100/100000]\n",
      "Train Loss: 5.9449, Train Accuracy: 0.0816\n",
      "Train Precision (micro): 0.0816, Train Precision (macro): 0.0062\n",
      "Train Recall (micro): 0.0816, Train Recall (macro): 0.0095\n",
      "Train F1 (micro): 0.0816, Train F1 (macro): 0.0061\n",
      "\n",
      "Val Loss: 5.8724, Val Accuracy: 0.0800\n",
      "Val Precision (micro): 0.0800, Val Precision (macro): 0.0075\n",
      "Val Recall (micro): 0.0800, Val Recall (macro): 0.0155\n",
      "Val F1 (micro): 0.0800, Val F1 (macro): 0.0082\n",
      "--------------------------------------------------------------------------------\n"
     ]
    },
    {
     "name": "stderr",
     "output_type": "stream",
     "text": [
      " 41%|████      | 41195/100000 [24:09<20:36, 47.56it/s]  "
     ]
    },
    {
     "name": "stdout",
     "output_type": "stream",
     "text": [
      "Epoch [41200/100000]\n",
      "Train Loss: 5.8905, Train Accuracy: 0.0775\n",
      "Train Precision (micro): 0.0775, Train Precision (macro): 0.0068\n",
      "Train Recall (micro): 0.0775, Train Recall (macro): 0.0108\n",
      "Train F1 (micro): 0.0775, Train F1 (macro): 0.0068\n",
      "\n",
      "Val Loss: 5.9189, Val Accuracy: 0.0762\n",
      "Val Precision (micro): 0.0762, Val Precision (macro): 0.0072\n",
      "Val Recall (micro): 0.0762, Val Recall (macro): 0.0154\n",
      "Val F1 (micro): 0.0762, Val F1 (macro): 0.0083\n",
      "--------------------------------------------------------------------------------\n"
     ]
    },
    {
     "name": "stderr",
     "output_type": "stream",
     "text": [
      " 41%|████▏     | 41299/100000 [24:12<21:23, 45.74it/s]  "
     ]
    },
    {
     "name": "stdout",
     "output_type": "stream",
     "text": [
      "Epoch [41300/100000]\n",
      "Train Loss: 5.8749, Train Accuracy: 0.0848\n",
      "Train Precision (micro): 0.0848, Train Precision (macro): 0.0055\n",
      "Train Recall (micro): 0.0848, Train Recall (macro): 0.0088\n",
      "Train F1 (micro): 0.0848, Train F1 (macro): 0.0049\n",
      "\n",
      "Val Loss: 5.8711, Val Accuracy: 0.0825\n",
      "Val Precision (micro): 0.0825, Val Precision (macro): 0.0083\n",
      "Val Recall (micro): 0.0825, Val Recall (macro): 0.0154\n",
      "Val F1 (micro): 0.0825, Val F1 (macro): 0.0087\n",
      "--------------------------------------------------------------------------------\n"
     ]
    },
    {
     "name": "stderr",
     "output_type": "stream",
     "text": [
      " 41%|████▏     | 41397/100000 [24:16<20:10, 48.39it/s]  "
     ]
    },
    {
     "name": "stdout",
     "output_type": "stream",
     "text": [
      "Epoch [41400/100000]\n",
      "Train Loss: 5.8767, Train Accuracy: 0.0770\n",
      "Train Precision (micro): 0.0770, Train Precision (macro): 0.0050\n",
      "Train Recall (micro): 0.0770, Train Recall (macro): 0.0099\n",
      "Train F1 (micro): 0.0770, Train F1 (macro): 0.0052\n",
      "\n",
      "Val Loss: 5.8671, Val Accuracy: 0.0825\n",
      "Val Precision (micro): 0.0825, Val Precision (macro): 0.0080\n",
      "Val Recall (micro): 0.0825, Val Recall (macro): 0.0154\n",
      "Val F1 (micro): 0.0825, Val F1 (macro): 0.0086\n",
      "--------------------------------------------------------------------------------\n"
     ]
    },
    {
     "name": "stderr",
     "output_type": "stream",
     "text": [
      " 41%|████▏     | 41495/100000 [24:19<20:15, 48.14it/s]  "
     ]
    },
    {
     "name": "stdout",
     "output_type": "stream",
     "text": [
      "Epoch [41500/100000]\n",
      "Train Loss: 5.8873, Train Accuracy: 0.0792\n",
      "Train Precision (micro): 0.0792, Train Precision (macro): 0.0050\n",
      "Train Recall (micro): 0.0792, Train Recall (macro): 0.0099\n",
      "Train F1 (micro): 0.0792, Train F1 (macro): 0.0049\n",
      "\n",
      "Val Loss: 5.8997, Val Accuracy: 0.0772\n",
      "Val Precision (micro): 0.0772, Val Precision (macro): 0.0072\n",
      "Val Recall (micro): 0.0772, Val Recall (macro): 0.0144\n",
      "Val F1 (micro): 0.0772, Val F1 (macro): 0.0078\n",
      "--------------------------------------------------------------------------------\n"
     ]
    },
    {
     "name": "stderr",
     "output_type": "stream",
     "text": [
      " 42%|████▏     | 41596/100000 [24:23<20:21, 47.80it/s]  "
     ]
    },
    {
     "name": "stdout",
     "output_type": "stream",
     "text": [
      "Epoch [41600/100000]\n",
      "Train Loss: 5.8891, Train Accuracy: 0.0775\n",
      "Train Precision (micro): 0.0775, Train Precision (macro): 0.0042\n",
      "Train Recall (micro): 0.0775, Train Recall (macro): 0.0100\n",
      "Train F1 (micro): 0.0775, Train F1 (macro): 0.0048\n",
      "\n",
      "Val Loss: 5.9288, Val Accuracy: 0.0816\n",
      "Val Precision (micro): 0.0816, Val Precision (macro): 0.0073\n",
      "Val Recall (micro): 0.0816, Val Recall (macro): 0.0155\n",
      "Val F1 (micro): 0.0816, Val F1 (macro): 0.0074\n",
      "--------------------------------------------------------------------------------\n"
     ]
    },
    {
     "name": "stderr",
     "output_type": "stream",
     "text": [
      " 42%|████▏     | 41697/100000 [24:26<20:00, 48.57it/s]  "
     ]
    },
    {
     "name": "stdout",
     "output_type": "stream",
     "text": [
      "Epoch [41700/100000]\n",
      "Train Loss: 5.8702, Train Accuracy: 0.0783\n",
      "Train Precision (micro): 0.0783, Train Precision (macro): 0.0064\n",
      "Train Recall (micro): 0.0783, Train Recall (macro): 0.0096\n",
      "Train F1 (micro): 0.0783, Train F1 (macro): 0.0055\n",
      "\n",
      "Val Loss: 5.8845, Val Accuracy: 0.0800\n",
      "Val Precision (micro): 0.0800, Val Precision (macro): 0.0076\n",
      "Val Recall (micro): 0.0800, Val Recall (macro): 0.0152\n",
      "Val F1 (micro): 0.0800, Val F1 (macro): 0.0082\n",
      "--------------------------------------------------------------------------------\n"
     ]
    },
    {
     "name": "stderr",
     "output_type": "stream",
     "text": [
      " 42%|████▏     | 41798/100000 [24:30<20:11, 48.05it/s]  "
     ]
    },
    {
     "name": "stdout",
     "output_type": "stream",
     "text": [
      "Epoch [41800/100000]\n",
      "Train Loss: 5.9234, Train Accuracy: 0.0819\n",
      "Train Precision (micro): 0.0819, Train Precision (macro): 0.0064\n",
      "Train Recall (micro): 0.0819, Train Recall (macro): 0.0111\n",
      "Train F1 (micro): 0.0819, Train F1 (macro): 0.0060\n",
      "\n",
      "Val Loss: 5.8781, Val Accuracy: 0.0791\n",
      "Val Precision (micro): 0.0791, Val Precision (macro): 0.0081\n",
      "Val Recall (micro): 0.0791, Val Recall (macro): 0.0160\n",
      "Val F1 (micro): 0.0791, Val F1 (macro): 0.0088\n",
      "--------------------------------------------------------------------------------\n"
     ]
    },
    {
     "name": "stderr",
     "output_type": "stream",
     "text": [
      " 42%|████▏     | 41897/100000 [24:33<20:30, 47.23it/s]  "
     ]
    },
    {
     "name": "stdout",
     "output_type": "stream",
     "text": [
      "Epoch [41900/100000]\n",
      "Train Loss: 5.9173, Train Accuracy: 0.0723\n",
      "Train Precision (micro): 0.0723, Train Precision (macro): 0.0040\n",
      "Train Recall (micro): 0.0723, Train Recall (macro): 0.0093\n",
      "Train F1 (micro): 0.0723, Train F1 (macro): 0.0046\n",
      "\n",
      "Val Loss: 5.8870, Val Accuracy: 0.0772\n",
      "Val Precision (micro): 0.0772, Val Precision (macro): 0.0074\n",
      "Val Recall (micro): 0.0772, Val Recall (macro): 0.0166\n",
      "Val F1 (micro): 0.0772, Val F1 (macro): 0.0083\n",
      "--------------------------------------------------------------------------------\n"
     ]
    },
    {
     "name": "stderr",
     "output_type": "stream",
     "text": [
      " 42%|████▏     | 41997/100000 [24:37<19:21, 49.92it/s]  "
     ]
    },
    {
     "name": "stdout",
     "output_type": "stream",
     "text": [
      "Epoch [42000/100000]\n",
      "Train Loss: 5.9779, Train Accuracy: 0.0717\n",
      "Train Precision (micro): 0.0717, Train Precision (macro): 0.0044\n",
      "Train Recall (micro): 0.0717, Train Recall (macro): 0.0083\n",
      "Train F1 (micro): 0.0717, Train F1 (macro): 0.0043\n",
      "\n",
      "Val Loss: 5.9182, Val Accuracy: 0.0769\n",
      "Val Precision (micro): 0.0769, Val Precision (macro): 0.0065\n",
      "Val Recall (micro): 0.0769, Val Recall (macro): 0.0158\n",
      "Val F1 (micro): 0.0769, Val F1 (macro): 0.0079\n",
      "--------------------------------------------------------------------------------\n"
     ]
    },
    {
     "name": "stderr",
     "output_type": "stream",
     "text": [
      " 42%|████▏     | 42096/100000 [24:40<21:04, 45.81it/s]  "
     ]
    },
    {
     "name": "stdout",
     "output_type": "stream",
     "text": [
      "Epoch [42100/100000]\n",
      "Train Loss: 5.8939, Train Accuracy: 0.0786\n",
      "Train Precision (micro): 0.0786, Train Precision (macro): 0.0048\n",
      "Train Recall (micro): 0.0786, Train Recall (macro): 0.0085\n",
      "Train F1 (micro): 0.0786, Train F1 (macro): 0.0046\n",
      "\n",
      "Val Loss: 5.9042, Val Accuracy: 0.0791\n",
      "Val Precision (micro): 0.0791, Val Precision (macro): 0.0081\n",
      "Val Recall (micro): 0.0791, Val Recall (macro): 0.0156\n",
      "Val F1 (micro): 0.0791, Val F1 (macro): 0.0086\n",
      "--------------------------------------------------------------------------------\n"
     ]
    },
    {
     "name": "stderr",
     "output_type": "stream",
     "text": [
      " 42%|████▏     | 42196/100000 [24:44<20:18, 47.43it/s]  "
     ]
    },
    {
     "name": "stdout",
     "output_type": "stream",
     "text": [
      "Epoch [42200/100000]\n",
      "Train Loss: 5.9248, Train Accuracy: 0.0789\n",
      "Train Precision (micro): 0.0789, Train Precision (macro): 0.0058\n",
      "Train Recall (micro): 0.0789, Train Recall (macro): 0.0097\n",
      "Train F1 (micro): 0.0789, Train F1 (macro): 0.0053\n",
      "\n",
      "Val Loss: 5.8888, Val Accuracy: 0.0769\n",
      "Val Precision (micro): 0.0769, Val Precision (macro): 0.0079\n",
      "Val Recall (micro): 0.0769, Val Recall (macro): 0.0154\n",
      "Val F1 (micro): 0.0769, Val F1 (macro): 0.0086\n",
      "--------------------------------------------------------------------------------\n"
     ]
    },
    {
     "name": "stderr",
     "output_type": "stream",
     "text": [
      " 42%|████▏     | 42298/100000 [24:47<19:16, 49.89it/s]  "
     ]
    },
    {
     "name": "stdout",
     "output_type": "stream",
     "text": [
      "Epoch [42300/100000]\n",
      "Train Loss: 5.8952, Train Accuracy: 0.0811\n",
      "Train Precision (micro): 0.0811, Train Precision (macro): 0.0055\n",
      "Train Recall (micro): 0.0811, Train Recall (macro): 0.0088\n",
      "Train F1 (micro): 0.0811, Train F1 (macro): 0.0049\n",
      "\n",
      "Val Loss: 5.8831, Val Accuracy: 0.0800\n",
      "Val Precision (micro): 0.0800, Val Precision (macro): 0.0070\n",
      "Val Recall (micro): 0.0800, Val Recall (macro): 0.0158\n",
      "Val F1 (micro): 0.0800, Val F1 (macro): 0.0083\n",
      "--------------------------------------------------------------------------------\n"
     ]
    },
    {
     "name": "stderr",
     "output_type": "stream",
     "text": [
      " 42%|████▏     | 42396/100000 [24:50<20:25, 46.99it/s]  "
     ]
    },
    {
     "name": "stdout",
     "output_type": "stream",
     "text": [
      "Epoch [42400/100000]\n",
      "Train Loss: 5.9102, Train Accuracy: 0.0777\n",
      "Train Precision (micro): 0.0777, Train Precision (macro): 0.0068\n",
      "Train Recall (micro): 0.0777, Train Recall (macro): 0.0089\n",
      "Train F1 (micro): 0.0777, Train F1 (macro): 0.0057\n",
      "\n",
      "Val Loss: 5.9073, Val Accuracy: 0.0741\n",
      "Val Precision (micro): 0.0741, Val Precision (macro): 0.0075\n",
      "Val Recall (micro): 0.0741, Val Recall (macro): 0.0147\n",
      "Val F1 (micro): 0.0741, Val F1 (macro): 0.0079\n",
      "--------------------------------------------------------------------------------\n"
     ]
    },
    {
     "name": "stderr",
     "output_type": "stream",
     "text": [
      " 42%|████▏     | 42497/100000 [24:54<21:01, 45.59it/s]  "
     ]
    },
    {
     "name": "stdout",
     "output_type": "stream",
     "text": [
      "Epoch [42500/100000]\n",
      "Train Loss: 5.9328, Train Accuracy: 0.0811\n",
      "Train Precision (micro): 0.0811, Train Precision (macro): 0.0062\n",
      "Train Recall (micro): 0.0811, Train Recall (macro): 0.0102\n",
      "Train F1 (micro): 0.0811, Train F1 (macro): 0.0059\n",
      "\n",
      "Val Loss: 5.9185, Val Accuracy: 0.0791\n",
      "Val Precision (micro): 0.0791, Val Precision (macro): 0.0081\n",
      "Val Recall (micro): 0.0791, Val Recall (macro): 0.0155\n",
      "Val F1 (micro): 0.0791, Val F1 (macro): 0.0090\n",
      "--------------------------------------------------------------------------------\n"
     ]
    },
    {
     "name": "stderr",
     "output_type": "stream",
     "text": [
      " 43%|████▎     | 42594/100000 [24:57<19:57, 47.94it/s]  "
     ]
    },
    {
     "name": "stdout",
     "output_type": "stream",
     "text": [
      "Epoch [42600/100000]\n",
      "Train Loss: 5.9189, Train Accuracy: 0.0737\n",
      "Train Precision (micro): 0.0737, Train Precision (macro): 0.0036\n",
      "Train Recall (micro): 0.0737, Train Recall (macro): 0.0075\n",
      "Train F1 (micro): 0.0737, Train F1 (macro): 0.0036\n",
      "\n",
      "Val Loss: 5.9203, Val Accuracy: 0.0750\n",
      "Val Precision (micro): 0.0750, Val Precision (macro): 0.0082\n",
      "Val Recall (micro): 0.0750, Val Recall (macro): 0.0143\n",
      "Val F1 (micro): 0.0750, Val F1 (macro): 0.0081\n",
      "--------------------------------------------------------------------------------\n"
     ]
    },
    {
     "name": "stderr",
     "output_type": "stream",
     "text": [
      " 43%|████▎     | 42695/100000 [25:00<19:01, 50.20it/s]  "
     ]
    },
    {
     "name": "stdout",
     "output_type": "stream",
     "text": [
      "Epoch [42700/100000]\n",
      "Train Loss: 5.8801, Train Accuracy: 0.0833\n",
      "Train Precision (micro): 0.0833, Train Precision (macro): 0.0063\n",
      "Train Recall (micro): 0.0833, Train Recall (macro): 0.0102\n",
      "Train F1 (micro): 0.0833, Train F1 (macro): 0.0063\n",
      "\n",
      "Val Loss: 5.8918, Val Accuracy: 0.0800\n",
      "Val Precision (micro): 0.0800, Val Precision (macro): 0.0085\n",
      "Val Recall (micro): 0.0800, Val Recall (macro): 0.0157\n",
      "Val F1 (micro): 0.0800, Val F1 (macro): 0.0089\n",
      "--------------------------------------------------------------------------------\n"
     ]
    },
    {
     "name": "stderr",
     "output_type": "stream",
     "text": [
      " 43%|████▎     | 42797/100000 [25:05<19:13, 49.60it/s]  "
     ]
    },
    {
     "name": "stdout",
     "output_type": "stream",
     "text": [
      "Epoch [42800/100000]\n",
      "Train Loss: 5.9379, Train Accuracy: 0.0759\n",
      "Train Precision (micro): 0.0759, Train Precision (macro): 0.0045\n",
      "Train Recall (micro): 0.0759, Train Recall (macro): 0.0089\n",
      "Train F1 (micro): 0.0759, Train F1 (macro): 0.0047\n",
      "\n",
      "Val Loss: 5.8999, Val Accuracy: 0.0756\n",
      "Val Precision (micro): 0.0756, Val Precision (macro): 0.0087\n",
      "Val Recall (micro): 0.0756, Val Recall (macro): 0.0156\n",
      "Val F1 (micro): 0.0756, Val F1 (macro): 0.0090\n",
      "--------------------------------------------------------------------------------\n"
     ]
    },
    {
     "name": "stderr",
     "output_type": "stream",
     "text": [
      " 43%|████▎     | 42899/100000 [25:08<19:23, 49.07it/s]  "
     ]
    },
    {
     "name": "stdout",
     "output_type": "stream",
     "text": [
      "Epoch [42900/100000]\n",
      "Train Loss: 5.9151, Train Accuracy: 0.0777\n",
      "Train Precision (micro): 0.0777, Train Precision (macro): 0.0056\n",
      "Train Recall (micro): 0.0777, Train Recall (macro): 0.0099\n",
      "Train F1 (micro): 0.0777, Train F1 (macro): 0.0058\n",
      "\n",
      "Val Loss: 5.9054, Val Accuracy: 0.0769\n",
      "Val Precision (micro): 0.0769, Val Precision (macro): 0.0073\n",
      "Val Recall (micro): 0.0769, Val Recall (macro): 0.0148\n",
      "Val F1 (micro): 0.0769, Val F1 (macro): 0.0081\n",
      "--------------------------------------------------------------------------------\n"
     ]
    },
    {
     "name": "stderr",
     "output_type": "stream",
     "text": [
      " 43%|████▎     | 42997/100000 [25:11<20:40, 45.94it/s]  "
     ]
    },
    {
     "name": "stdout",
     "output_type": "stream",
     "text": [
      "Epoch [43000/100000]\n",
      "Train Loss: 5.9534, Train Accuracy: 0.0747\n",
      "Train Precision (micro): 0.0747, Train Precision (macro): 0.0055\n",
      "Train Recall (micro): 0.0747, Train Recall (macro): 0.0103\n",
      "Train F1 (micro): 0.0747, Train F1 (macro): 0.0059\n",
      "\n",
      "Val Loss: 5.8767, Val Accuracy: 0.0806\n",
      "Val Precision (micro): 0.0806, Val Precision (macro): 0.0077\n",
      "Val Recall (micro): 0.0806, Val Recall (macro): 0.0158\n",
      "Val F1 (micro): 0.0806, Val F1 (macro): 0.0085\n",
      "--------------------------------------------------------------------------------\n"
     ]
    },
    {
     "name": "stderr",
     "output_type": "stream",
     "text": [
      " 43%|████▎     | 43097/100000 [25:15<19:21, 48.98it/s]  "
     ]
    },
    {
     "name": "stdout",
     "output_type": "stream",
     "text": [
      "Epoch [43100/100000]\n",
      "Train Loss: 5.8994, Train Accuracy: 0.0775\n",
      "Train Precision (micro): 0.0775, Train Precision (macro): 0.0044\n",
      "Train Recall (micro): 0.0775, Train Recall (macro): 0.0094\n",
      "Train F1 (micro): 0.0775, Train F1 (macro): 0.0051\n",
      "\n",
      "Val Loss: 5.8881, Val Accuracy: 0.0828\n",
      "Val Precision (micro): 0.0828, Val Precision (macro): 0.0081\n",
      "Val Recall (micro): 0.0828, Val Recall (macro): 0.0164\n",
      "Val F1 (micro): 0.0828, Val F1 (macro): 0.0090\n",
      "--------------------------------------------------------------------------------\n"
     ]
    },
    {
     "name": "stderr",
     "output_type": "stream",
     "text": [
      " 43%|████▎     | 43195/100000 [25:18<19:00, 49.79it/s]  "
     ]
    },
    {
     "name": "stdout",
     "output_type": "stream",
     "text": [
      "Epoch [43200/100000]\n",
      "Train Loss: 5.9162, Train Accuracy: 0.0736\n",
      "Train Precision (micro): 0.0736, Train Precision (macro): 0.0051\n",
      "Train Recall (micro): 0.0736, Train Recall (macro): 0.0097\n",
      "Train F1 (micro): 0.0736, Train F1 (macro): 0.0052\n",
      "\n",
      "Val Loss: 5.9158, Val Accuracy: 0.0825\n",
      "Val Precision (micro): 0.0825, Val Precision (macro): 0.0070\n",
      "Val Recall (micro): 0.0825, Val Recall (macro): 0.0158\n",
      "Val F1 (micro): 0.0825, Val F1 (macro): 0.0082\n",
      "--------------------------------------------------------------------------------\n"
     ]
    },
    {
     "name": "stderr",
     "output_type": "stream",
     "text": [
      " 43%|████▎     | 43295/100000 [25:22<20:58, 45.04it/s]  "
     ]
    },
    {
     "name": "stdout",
     "output_type": "stream",
     "text": [
      "Epoch [43300/100000]\n",
      "Train Loss: 5.9224, Train Accuracy: 0.0792\n",
      "Train Precision (micro): 0.0792, Train Precision (macro): 0.0063\n",
      "Train Recall (micro): 0.0792, Train Recall (macro): 0.0113\n",
      "Train F1 (micro): 0.0792, Train F1 (macro): 0.0061\n",
      "\n",
      "Val Loss: 5.9377, Val Accuracy: 0.0781\n",
      "Val Precision (micro): 0.0781, Val Precision (macro): 0.0074\n",
      "Val Recall (micro): 0.0781, Val Recall (macro): 0.0154\n",
      "Val F1 (micro): 0.0781, Val F1 (macro): 0.0079\n",
      "--------------------------------------------------------------------------------\n"
     ]
    },
    {
     "name": "stderr",
     "output_type": "stream",
     "text": [
      " 43%|████▎     | 43397/100000 [25:25<19:20, 48.78it/s]  "
     ]
    },
    {
     "name": "stdout",
     "output_type": "stream",
     "text": [
      "Epoch [43400/100000]\n",
      "Train Loss: 5.8738, Train Accuracy: 0.0764\n",
      "Train Precision (micro): 0.0764, Train Precision (macro): 0.0073\n",
      "Train Recall (micro): 0.0764, Train Recall (macro): 0.0111\n",
      "Train F1 (micro): 0.0764, Train F1 (macro): 0.0069\n",
      "\n",
      "Val Loss: 5.8823, Val Accuracy: 0.0841\n",
      "Val Precision (micro): 0.0841, Val Precision (macro): 0.0077\n",
      "Val Recall (micro): 0.0841, Val Recall (macro): 0.0167\n",
      "Val F1 (micro): 0.0841, Val F1 (macro): 0.0089\n",
      "--------------------------------------------------------------------------------\n"
     ]
    },
    {
     "name": "stderr",
     "output_type": "stream",
     "text": [
      " 43%|████▎     | 43496/100000 [25:28<20:56, 44.98it/s]  "
     ]
    },
    {
     "name": "stdout",
     "output_type": "stream",
     "text": [
      "Epoch [43500/100000]\n",
      "Train Loss: 5.8857, Train Accuracy: 0.0809\n",
      "Train Precision (micro): 0.0809, Train Precision (macro): 0.0039\n",
      "Train Recall (micro): 0.0809, Train Recall (macro): 0.0087\n",
      "Train F1 (micro): 0.0809, Train F1 (macro): 0.0045\n",
      "\n",
      "Val Loss: 5.9016, Val Accuracy: 0.0831\n",
      "Val Precision (micro): 0.0831, Val Precision (macro): 0.0073\n",
      "Val Recall (micro): 0.0831, Val Recall (macro): 0.0170\n",
      "Val F1 (micro): 0.0831, Val F1 (macro): 0.0090\n",
      "--------------------------------------------------------------------------------\n"
     ]
    },
    {
     "name": "stderr",
     "output_type": "stream",
     "text": [
      " 44%|████▎     | 43598/100000 [25:32<18:49, 49.92it/s]  "
     ]
    },
    {
     "name": "stdout",
     "output_type": "stream",
     "text": [
      "Epoch [43600/100000]\n",
      "Train Loss: 5.9298, Train Accuracy: 0.0766\n",
      "Train Precision (micro): 0.0766, Train Precision (macro): 0.0049\n",
      "Train Recall (micro): 0.0766, Train Recall (macro): 0.0103\n",
      "Train F1 (micro): 0.0766, Train F1 (macro): 0.0052\n",
      "\n",
      "Val Loss: 5.9192, Val Accuracy: 0.0775\n",
      "Val Precision (micro): 0.0775, Val Precision (macro): 0.0084\n",
      "Val Recall (micro): 0.0775, Val Recall (macro): 0.0171\n",
      "Val F1 (micro): 0.0775, Val F1 (macro): 0.0093\n",
      "--------------------------------------------------------------------------------\n"
     ]
    },
    {
     "name": "stderr",
     "output_type": "stream",
     "text": [
      " 44%|████▎     | 43697/100000 [25:35<18:48, 49.88it/s]  "
     ]
    },
    {
     "name": "stdout",
     "output_type": "stream",
     "text": [
      "Epoch [43700/100000]\n",
      "Train Loss: 5.9150, Train Accuracy: 0.0808\n",
      "Train Precision (micro): 0.0808, Train Precision (macro): 0.0052\n",
      "Train Recall (micro): 0.0808, Train Recall (macro): 0.0100\n",
      "Train F1 (micro): 0.0808, Train F1 (macro): 0.0052\n",
      "\n",
      "Val Loss: 5.8943, Val Accuracy: 0.0813\n",
      "Val Precision (micro): 0.0813, Val Precision (macro): 0.0078\n",
      "Val Recall (micro): 0.0813, Val Recall (macro): 0.0166\n",
      "Val F1 (micro): 0.0813, Val F1 (macro): 0.0091\n",
      "--------------------------------------------------------------------------------\n"
     ]
    },
    {
     "name": "stderr",
     "output_type": "stream",
     "text": [
      " 44%|████▍     | 43799/100000 [25:38<20:03, 46.71it/s]  "
     ]
    },
    {
     "name": "stdout",
     "output_type": "stream",
     "text": [
      "Epoch [43800/100000]\n",
      "Train Loss: 5.8952, Train Accuracy: 0.0825\n",
      "Train Precision (micro): 0.0825, Train Precision (macro): 0.0039\n",
      "Train Recall (micro): 0.0825, Train Recall (macro): 0.0098\n",
      "Train F1 (micro): 0.0825, Train F1 (macro): 0.0049\n",
      "\n",
      "Val Loss: 5.9054, Val Accuracy: 0.0772\n",
      "Val Precision (micro): 0.0772, Val Precision (macro): 0.0072\n",
      "Val Recall (micro): 0.0772, Val Recall (macro): 0.0144\n",
      "Val F1 (micro): 0.0772, Val F1 (macro): 0.0084\n",
      "--------------------------------------------------------------------------------\n"
     ]
    },
    {
     "name": "stderr",
     "output_type": "stream",
     "text": [
      " 44%|████▍     | 43895/100000 [25:42<19:54, 46.99it/s]  "
     ]
    },
    {
     "name": "stdout",
     "output_type": "stream",
     "text": [
      "Epoch [43900/100000]\n",
      "Train Loss: 5.9738, Train Accuracy: 0.0727\n",
      "Train Precision (micro): 0.0727, Train Precision (macro): 0.0053\n",
      "Train Recall (micro): 0.0727, Train Recall (macro): 0.0103\n",
      "Train F1 (micro): 0.0727, Train F1 (macro): 0.0055\n",
      "\n",
      "Val Loss: 5.9131, Val Accuracy: 0.0828\n",
      "Val Precision (micro): 0.0828, Val Precision (macro): 0.0091\n",
      "Val Recall (micro): 0.0828, Val Recall (macro): 0.0169\n",
      "Val F1 (micro): 0.0828, Val F1 (macro): 0.0100\n",
      "--------------------------------------------------------------------------------\n"
     ]
    },
    {
     "name": "stderr",
     "output_type": "stream",
     "text": [
      " 44%|████▍     | 43998/100000 [25:45<19:21, 48.22it/s]  "
     ]
    },
    {
     "name": "stdout",
     "output_type": "stream",
     "text": [
      "Epoch [44000/100000]\n",
      "Train Loss: 5.8864, Train Accuracy: 0.0792\n",
      "Train Precision (micro): 0.0792, Train Precision (macro): 0.0047\n",
      "Train Recall (micro): 0.0792, Train Recall (macro): 0.0089\n",
      "Train F1 (micro): 0.0792, Train F1 (macro): 0.0051\n",
      "\n",
      "Val Loss: 5.9076, Val Accuracy: 0.0803\n",
      "Val Precision (micro): 0.0803, Val Precision (macro): 0.0080\n",
      "Val Recall (micro): 0.0803, Val Recall (macro): 0.0149\n",
      "Val F1 (micro): 0.0803, Val F1 (macro): 0.0085\n",
      "--------------------------------------------------------------------------------\n"
     ]
    },
    {
     "name": "stderr",
     "output_type": "stream",
     "text": [
      " 44%|████▍     | 44096/100000 [25:50<19:52, 46.88it/s]  "
     ]
    },
    {
     "name": "stdout",
     "output_type": "stream",
     "text": [
      "Epoch [44100/100000]\n",
      "Train Loss: 5.9065, Train Accuracy: 0.0761\n",
      "Train Precision (micro): 0.0761, Train Precision (macro): 0.0050\n",
      "Train Recall (micro): 0.0761, Train Recall (macro): 0.0094\n",
      "Train F1 (micro): 0.0761, Train F1 (macro): 0.0052\n",
      "\n",
      "Val Loss: 5.8816, Val Accuracy: 0.0813\n",
      "Val Precision (micro): 0.0813, Val Precision (macro): 0.0078\n",
      "Val Recall (micro): 0.0813, Val Recall (macro): 0.0159\n",
      "Val F1 (micro): 0.0813, Val F1 (macro): 0.0092\n",
      "--------------------------------------------------------------------------------\n"
     ]
    },
    {
     "name": "stderr",
     "output_type": "stream",
     "text": [
      " 44%|████▍     | 44197/100000 [25:53<18:54, 49.19it/s]  "
     ]
    },
    {
     "name": "stdout",
     "output_type": "stream",
     "text": [
      "Epoch [44200/100000]\n",
      "Train Loss: 5.9348, Train Accuracy: 0.0800\n",
      "Train Precision (micro): 0.0800, Train Precision (macro): 0.0054\n",
      "Train Recall (micro): 0.0800, Train Recall (macro): 0.0090\n",
      "Train F1 (micro): 0.0800, Train F1 (macro): 0.0051\n",
      "\n",
      "Val Loss: 5.8919, Val Accuracy: 0.0822\n",
      "Val Precision (micro): 0.0822, Val Precision (macro): 0.0076\n",
      "Val Recall (micro): 0.0822, Val Recall (macro): 0.0164\n",
      "Val F1 (micro): 0.0822, Val F1 (macro): 0.0087\n",
      "--------------------------------------------------------------------------------\n"
     ]
    },
    {
     "name": "stderr",
     "output_type": "stream",
     "text": [
      " 44%|████▍     | 44298/100000 [25:57<19:17, 48.11it/s]  "
     ]
    },
    {
     "name": "stdout",
     "output_type": "stream",
     "text": [
      "Epoch [44300/100000]\n",
      "Train Loss: 5.9245, Train Accuracy: 0.0770\n",
      "Train Precision (micro): 0.0770, Train Precision (macro): 0.0043\n",
      "Train Recall (micro): 0.0770, Train Recall (macro): 0.0077\n",
      "Train F1 (micro): 0.0770, Train F1 (macro): 0.0039\n",
      "\n",
      "Val Loss: 5.9020, Val Accuracy: 0.0838\n",
      "Val Precision (micro): 0.0838, Val Precision (macro): 0.0084\n",
      "Val Recall (micro): 0.0838, Val Recall (macro): 0.0163\n",
      "Val F1 (micro): 0.0838, Val F1 (macro): 0.0088\n",
      "--------------------------------------------------------------------------------\n"
     ]
    },
    {
     "name": "stderr",
     "output_type": "stream",
     "text": [
      " 44%|████▍     | 44395/100000 [26:00<19:50, 46.69it/s]  "
     ]
    },
    {
     "name": "stdout",
     "output_type": "stream",
     "text": [
      "Epoch [44400/100000]\n",
      "Train Loss: 5.9255, Train Accuracy: 0.0794\n",
      "Train Precision (micro): 0.0794, Train Precision (macro): 0.0066\n",
      "Train Recall (micro): 0.0794, Train Recall (macro): 0.0103\n",
      "Train F1 (micro): 0.0794, Train F1 (macro): 0.0061\n",
      "\n",
      "Val Loss: 5.8942, Val Accuracy: 0.0784\n",
      "Val Precision (micro): 0.0784, Val Precision (macro): 0.0094\n",
      "Val Recall (micro): 0.0784, Val Recall (macro): 0.0175\n",
      "Val F1 (micro): 0.0784, Val F1 (macro): 0.0102\n",
      "--------------------------------------------------------------------------------\n"
     ]
    },
    {
     "name": "stderr",
     "output_type": "stream",
     "text": [
      " 44%|████▍     | 44496/100000 [26:03<18:40, 49.53it/s]  "
     ]
    },
    {
     "name": "stdout",
     "output_type": "stream",
     "text": [
      "Epoch [44500/100000]\n",
      "Train Loss: 5.8908, Train Accuracy: 0.0792\n",
      "Train Precision (micro): 0.0792, Train Precision (macro): 0.0054\n",
      "Train Recall (micro): 0.0792, Train Recall (macro): 0.0096\n",
      "Train F1 (micro): 0.0792, Train F1 (macro): 0.0050\n",
      "\n",
      "Val Loss: 5.8956, Val Accuracy: 0.0800\n",
      "Val Precision (micro): 0.0800, Val Precision (macro): 0.0100\n",
      "Val Recall (micro): 0.0800, Val Recall (macro): 0.0167\n",
      "Val F1 (micro): 0.0800, Val F1 (macro): 0.0099\n",
      "--------------------------------------------------------------------------------\n"
     ]
    },
    {
     "name": "stderr",
     "output_type": "stream",
     "text": [
      " 45%|████▍     | 44598/100000 [26:07<19:14, 47.98it/s]  "
     ]
    },
    {
     "name": "stdout",
     "output_type": "stream",
     "text": [
      "Epoch [44600/100000]\n",
      "Train Loss: 5.8696, Train Accuracy: 0.0828\n",
      "Train Precision (micro): 0.0828, Train Precision (macro): 0.0048\n",
      "Train Recall (micro): 0.0828, Train Recall (macro): 0.0099\n",
      "Train F1 (micro): 0.0828, Train F1 (macro): 0.0052\n",
      "\n",
      "Val Loss: 5.9401, Val Accuracy: 0.0709\n",
      "Val Precision (micro): 0.0709, Val Precision (macro): 0.0089\n",
      "Val Recall (micro): 0.0709, Val Recall (macro): 0.0153\n",
      "Val F1 (micro): 0.0709, Val F1 (macro): 0.0088\n",
      "--------------------------------------------------------------------------------\n"
     ]
    },
    {
     "name": "stderr",
     "output_type": "stream",
     "text": [
      " 45%|████▍     | 44696/100000 [26:10<18:36, 49.53it/s]  "
     ]
    },
    {
     "name": "stdout",
     "output_type": "stream",
     "text": [
      "Epoch [44700/100000]\n",
      "Train Loss: 5.8843, Train Accuracy: 0.0803\n",
      "Train Precision (micro): 0.0803, Train Precision (macro): 0.0039\n",
      "Train Recall (micro): 0.0803, Train Recall (macro): 0.0086\n",
      "Train F1 (micro): 0.0803, Train F1 (macro): 0.0046\n",
      "\n",
      "Val Loss: 5.9045, Val Accuracy: 0.0803\n",
      "Val Precision (micro): 0.0803, Val Precision (macro): 0.0076\n",
      "Val Recall (micro): 0.0803, Val Recall (macro): 0.0152\n",
      "Val F1 (micro): 0.0803, Val F1 (macro): 0.0084\n",
      "--------------------------------------------------------------------------------\n"
     ]
    },
    {
     "name": "stderr",
     "output_type": "stream",
     "text": [
      " 45%|████▍     | 44797/100000 [26:14<18:30, 49.69it/s]  "
     ]
    },
    {
     "name": "stdout",
     "output_type": "stream",
     "text": [
      "Epoch [44800/100000]\n",
      "Train Loss: 5.9042, Train Accuracy: 0.0767\n",
      "Train Precision (micro): 0.0767, Train Precision (macro): 0.0058\n",
      "Train Recall (micro): 0.0767, Train Recall (macro): 0.0112\n",
      "Train F1 (micro): 0.0767, Train F1 (macro): 0.0063\n",
      "\n",
      "Val Loss: 5.9275, Val Accuracy: 0.0781\n",
      "Val Precision (micro): 0.0781, Val Precision (macro): 0.0084\n",
      "Val Recall (micro): 0.0781, Val Recall (macro): 0.0164\n",
      "Val F1 (micro): 0.0781, Val F1 (macro): 0.0092\n",
      "--------------------------------------------------------------------------------\n"
     ]
    },
    {
     "name": "stderr",
     "output_type": "stream",
     "text": [
      " 45%|████▍     | 44897/100000 [26:17<19:37, 46.79it/s]  "
     ]
    },
    {
     "name": "stdout",
     "output_type": "stream",
     "text": [
      "Epoch [44900/100000]\n",
      "Train Loss: 5.9142, Train Accuracy: 0.0809\n",
      "Train Precision (micro): 0.0809, Train Precision (macro): 0.0058\n",
      "Train Recall (micro): 0.0809, Train Recall (macro): 0.0088\n",
      "Train F1 (micro): 0.0809, Train F1 (macro): 0.0054\n",
      "\n",
      "Val Loss: 5.9165, Val Accuracy: 0.0816\n",
      "Val Precision (micro): 0.0816, Val Precision (macro): 0.0096\n",
      "Val Recall (micro): 0.0816, Val Recall (macro): 0.0163\n",
      "Val F1 (micro): 0.0816, Val F1 (macro): 0.0097\n",
      "--------------------------------------------------------------------------------\n"
     ]
    },
    {
     "name": "stderr",
     "output_type": "stream",
     "text": [
      " 45%|████▍     | 44996/100000 [26:21<19:13, 47.68it/s]  "
     ]
    },
    {
     "name": "stdout",
     "output_type": "stream",
     "text": [
      "Epoch [45000/100000]\n",
      "Train Loss: 5.8730, Train Accuracy: 0.0819\n",
      "Train Precision (micro): 0.0819, Train Precision (macro): 0.0067\n",
      "Train Recall (micro): 0.0819, Train Recall (macro): 0.0103\n",
      "Train F1 (micro): 0.0819, Train F1 (macro): 0.0060\n",
      "\n",
      "Val Loss: 5.9032, Val Accuracy: 0.0778\n",
      "Val Precision (micro): 0.0778, Val Precision (macro): 0.0082\n",
      "Val Recall (micro): 0.0778, Val Recall (macro): 0.0164\n",
      "Val F1 (micro): 0.0778, Val F1 (macro): 0.0090\n",
      "--------------------------------------------------------------------------------\n"
     ]
    },
    {
     "name": "stderr",
     "output_type": "stream",
     "text": [
      " 45%|████▌     | 45098/100000 [26:24<19:34, 46.74it/s]  "
     ]
    },
    {
     "name": "stdout",
     "output_type": "stream",
     "text": [
      "Epoch [45100/100000]\n",
      "Train Loss: 5.9060, Train Accuracy: 0.0848\n",
      "Train Precision (micro): 0.0848, Train Precision (macro): 0.0052\n",
      "Train Recall (micro): 0.0848, Train Recall (macro): 0.0100\n",
      "Train F1 (micro): 0.0848, Train F1 (macro): 0.0057\n",
      "\n",
      "Val Loss: 5.9057, Val Accuracy: 0.0781\n",
      "Val Precision (micro): 0.0781, Val Precision (macro): 0.0091\n",
      "Val Recall (micro): 0.0781, Val Recall (macro): 0.0162\n",
      "Val F1 (micro): 0.0781, Val F1 (macro): 0.0095\n",
      "--------------------------------------------------------------------------------\n"
     ]
    },
    {
     "name": "stderr",
     "output_type": "stream",
     "text": [
      " 45%|████▌     | 45198/100000 [26:29<19:32, 46.76it/s]  "
     ]
    },
    {
     "name": "stdout",
     "output_type": "stream",
     "text": [
      "Epoch [45200/100000]\n",
      "Train Loss: 5.9337, Train Accuracy: 0.0811\n",
      "Train Precision (micro): 0.0811, Train Precision (macro): 0.0053\n",
      "Train Recall (micro): 0.0811, Train Recall (macro): 0.0095\n",
      "Train F1 (micro): 0.0811, Train F1 (macro): 0.0055\n",
      "\n",
      "Val Loss: 5.9033, Val Accuracy: 0.0788\n",
      "Val Precision (micro): 0.0788, Val Precision (macro): 0.0091\n",
      "Val Recall (micro): 0.0788, Val Recall (macro): 0.0156\n",
      "Val F1 (micro): 0.0788, Val F1 (macro): 0.0087\n",
      "--------------------------------------------------------------------------------\n"
     ]
    },
    {
     "name": "stderr",
     "output_type": "stream",
     "text": [
      " 45%|████▌     | 45295/100000 [26:32<19:54, 45.81it/s]  "
     ]
    },
    {
     "name": "stdout",
     "output_type": "stream",
     "text": [
      "Epoch [45300/100000]\n",
      "Train Loss: 5.8848, Train Accuracy: 0.0797\n",
      "Train Precision (micro): 0.0797, Train Precision (macro): 0.0066\n",
      "Train Recall (micro): 0.0797, Train Recall (macro): 0.0098\n",
      "Train F1 (micro): 0.0797, Train F1 (macro): 0.0058\n",
      "\n",
      "Val Loss: 5.9073, Val Accuracy: 0.0794\n",
      "Val Precision (micro): 0.0794, Val Precision (macro): 0.0080\n",
      "Val Recall (micro): 0.0794, Val Recall (macro): 0.0168\n",
      "Val F1 (micro): 0.0794, Val F1 (macro): 0.0090\n",
      "--------------------------------------------------------------------------------\n"
     ]
    },
    {
     "name": "stderr",
     "output_type": "stream",
     "text": [
      " 45%|████▌     | 45394/100000 [26:37<18:56, 48.03it/s]  "
     ]
    },
    {
     "name": "stdout",
     "output_type": "stream",
     "text": [
      "Epoch [45400/100000]\n",
      "Train Loss: 5.9579, Train Accuracy: 0.0834\n",
      "Train Precision (micro): 0.0834, Train Precision (macro): 0.0046\n",
      "Train Recall (micro): 0.0834, Train Recall (macro): 0.0092\n",
      "Train F1 (micro): 0.0834, Train F1 (macro): 0.0051\n",
      "\n",
      "Val Loss: 5.9442, Val Accuracy: 0.0772\n",
      "Val Precision (micro): 0.0772, Val Precision (macro): 0.0056\n",
      "Val Recall (micro): 0.0772, Val Recall (macro): 0.0142\n",
      "Val F1 (micro): 0.0772, Val F1 (macro): 0.0068\n",
      "--------------------------------------------------------------------------------\n"
     ]
    },
    {
     "name": "stderr",
     "output_type": "stream",
     "text": [
      " 45%|████▌     | 45498/100000 [26:41<18:59, 47.81it/s]  "
     ]
    },
    {
     "name": "stdout",
     "output_type": "stream",
     "text": [
      "Epoch [45500/100000]\n",
      "Train Loss: 5.9305, Train Accuracy: 0.0791\n",
      "Train Precision (micro): 0.0791, Train Precision (macro): 0.0052\n",
      "Train Recall (micro): 0.0791, Train Recall (macro): 0.0099\n",
      "Train F1 (micro): 0.0791, Train F1 (macro): 0.0054\n",
      "\n",
      "Val Loss: 5.9088, Val Accuracy: 0.0784\n",
      "Val Precision (micro): 0.0784, Val Precision (macro): 0.0081\n",
      "Val Recall (micro): 0.0784, Val Recall (macro): 0.0158\n",
      "Val F1 (micro): 0.0784, Val F1 (macro): 0.0089\n",
      "--------------------------------------------------------------------------------\n"
     ]
    },
    {
     "name": "stderr",
     "output_type": "stream",
     "text": [
      " 46%|████▌     | 45595/100000 [26:44<18:06, 50.06it/s]  "
     ]
    },
    {
     "name": "stdout",
     "output_type": "stream",
     "text": [
      "Epoch [45600/100000]\n",
      "Train Loss: 5.9211, Train Accuracy: 0.0791\n",
      "Train Precision (micro): 0.0791, Train Precision (macro): 0.0058\n",
      "Train Recall (micro): 0.0791, Train Recall (macro): 0.0096\n",
      "Train F1 (micro): 0.0791, Train F1 (macro): 0.0048\n",
      "\n",
      "Val Loss: 5.9134, Val Accuracy: 0.0772\n",
      "Val Precision (micro): 0.0772, Val Precision (macro): 0.0076\n",
      "Val Recall (micro): 0.0772, Val Recall (macro): 0.0157\n",
      "Val F1 (micro): 0.0772, Val F1 (macro): 0.0087\n",
      "--------------------------------------------------------------------------------\n"
     ]
    },
    {
     "name": "stderr",
     "output_type": "stream",
     "text": [
      " 46%|████▌     | 45698/100000 [26:48<18:47, 48.14it/s]  "
     ]
    },
    {
     "name": "stdout",
     "output_type": "stream",
     "text": [
      "Epoch [45700/100000]\n",
      "Train Loss: 5.9635, Train Accuracy: 0.0750\n",
      "Train Precision (micro): 0.0750, Train Precision (macro): 0.0046\n",
      "Train Recall (micro): 0.0750, Train Recall (macro): 0.0110\n",
      "Train F1 (micro): 0.0750, Train F1 (macro): 0.0057\n",
      "\n",
      "Val Loss: 5.8886, Val Accuracy: 0.0769\n",
      "Val Precision (micro): 0.0769, Val Precision (macro): 0.0089\n",
      "Val Recall (micro): 0.0769, Val Recall (macro): 0.0153\n",
      "Val F1 (micro): 0.0769, Val F1 (macro): 0.0089\n",
      "--------------------------------------------------------------------------------\n"
     ]
    },
    {
     "name": "stderr",
     "output_type": "stream",
     "text": [
      " 46%|████▌     | 45797/100000 [26:51<18:03, 50.02it/s]  "
     ]
    },
    {
     "name": "stdout",
     "output_type": "stream",
     "text": [
      "Epoch [45800/100000]\n",
      "Train Loss: 5.9506, Train Accuracy: 0.0792\n",
      "Train Precision (micro): 0.0792, Train Precision (macro): 0.0042\n",
      "Train Recall (micro): 0.0792, Train Recall (macro): 0.0078\n",
      "Train F1 (micro): 0.0792, Train F1 (macro): 0.0045\n",
      "\n",
      "Val Loss: 5.9042, Val Accuracy: 0.0806\n",
      "Val Precision (micro): 0.0806, Val Precision (macro): 0.0074\n",
      "Val Recall (micro): 0.0806, Val Recall (macro): 0.0154\n",
      "Val F1 (micro): 0.0806, Val F1 (macro): 0.0082\n",
      "--------------------------------------------------------------------------------\n"
     ]
    },
    {
     "name": "stderr",
     "output_type": "stream",
     "text": [
      " 46%|████▌     | 45898/100000 [26:55<18:02, 49.99it/s]  "
     ]
    },
    {
     "name": "stdout",
     "output_type": "stream",
     "text": [
      "Epoch [45900/100000]\n",
      "Train Loss: 5.9055, Train Accuracy: 0.0775\n",
      "Train Precision (micro): 0.0775, Train Precision (macro): 0.0066\n",
      "Train Recall (micro): 0.0775, Train Recall (macro): 0.0111\n",
      "Train F1 (micro): 0.0775, Train F1 (macro): 0.0069\n",
      "\n",
      "Val Loss: 5.9502, Val Accuracy: 0.0753\n",
      "Val Precision (micro): 0.0753, Val Precision (macro): 0.0089\n",
      "Val Recall (micro): 0.0753, Val Recall (macro): 0.0164\n",
      "Val F1 (micro): 0.0753, Val F1 (macro): 0.0092\n",
      "--------------------------------------------------------------------------------\n"
     ]
    },
    {
     "name": "stderr",
     "output_type": "stream",
     "text": [
      " 46%|████▌     | 45997/100000 [26:58<18:26, 48.82it/s]  "
     ]
    },
    {
     "name": "stdout",
     "output_type": "stream",
     "text": [
      "Epoch [46000/100000]\n",
      "Train Loss: 5.8672, Train Accuracy: 0.0773\n",
      "Train Precision (micro): 0.0773, Train Precision (macro): 0.0055\n",
      "Train Recall (micro): 0.0773, Train Recall (macro): 0.0099\n",
      "Train F1 (micro): 0.0773, Train F1 (macro): 0.0057\n",
      "\n",
      "Val Loss: 5.9332, Val Accuracy: 0.0747\n",
      "Val Precision (micro): 0.0747, Val Precision (macro): 0.0089\n",
      "Val Recall (micro): 0.0747, Val Recall (macro): 0.0160\n",
      "Val F1 (micro): 0.0747, Val F1 (macro): 0.0089\n",
      "--------------------------------------------------------------------------------\n"
     ]
    },
    {
     "name": "stderr",
     "output_type": "stream",
     "text": [
      " 46%|████▌     | 46097/100000 [27:02<20:20, 44.18it/s]  "
     ]
    },
    {
     "name": "stdout",
     "output_type": "stream",
     "text": [
      "Epoch [46100/100000]\n",
      "Train Loss: 5.9146, Train Accuracy: 0.0802\n",
      "Train Precision (micro): 0.0802, Train Precision (macro): 0.0070\n",
      "Train Recall (micro): 0.0802, Train Recall (macro): 0.0107\n",
      "Train F1 (micro): 0.0802, Train F1 (macro): 0.0069\n",
      "\n",
      "Val Loss: 5.9350, Val Accuracy: 0.0744\n",
      "Val Precision (micro): 0.0744, Val Precision (macro): 0.0099\n",
      "Val Recall (micro): 0.0744, Val Recall (macro): 0.0147\n",
      "Val F1 (micro): 0.0744, Val F1 (macro): 0.0089\n",
      "--------------------------------------------------------------------------------\n"
     ]
    },
    {
     "name": "stderr",
     "output_type": "stream",
     "text": [
      " 46%|████▌     | 46194/100000 [27:05<18:11, 49.29it/s]  "
     ]
    },
    {
     "name": "stdout",
     "output_type": "stream",
     "text": [
      "Epoch [46200/100000]\n",
      "Train Loss: 5.9561, Train Accuracy: 0.0780\n",
      "Train Precision (micro): 0.0780, Train Precision (macro): 0.0045\n",
      "Train Recall (micro): 0.0780, Train Recall (macro): 0.0078\n",
      "Train F1 (micro): 0.0780, Train F1 (macro): 0.0045\n",
      "\n",
      "Val Loss: 5.8915, Val Accuracy: 0.0753\n",
      "Val Precision (micro): 0.0753, Val Precision (macro): 0.0083\n",
      "Val Recall (micro): 0.0753, Val Recall (macro): 0.0150\n",
      "Val F1 (micro): 0.0753, Val F1 (macro): 0.0090\n",
      "--------------------------------------------------------------------------------\n"
     ]
    },
    {
     "name": "stderr",
     "output_type": "stream",
     "text": [
      " 46%|████▋     | 46296/100000 [27:08<19:39, 45.52it/s]  "
     ]
    },
    {
     "name": "stdout",
     "output_type": "stream",
     "text": [
      "Epoch [46300/100000]\n",
      "Train Loss: 5.8501, Train Accuracy: 0.0859\n",
      "Train Precision (micro): 0.0859, Train Precision (macro): 0.0059\n",
      "Train Recall (micro): 0.0859, Train Recall (macro): 0.0097\n",
      "Train F1 (micro): 0.0859, Train F1 (macro): 0.0058\n",
      "\n",
      "Val Loss: 5.9165, Val Accuracy: 0.0806\n",
      "Val Precision (micro): 0.0806, Val Precision (macro): 0.0087\n",
      "Val Recall (micro): 0.0806, Val Recall (macro): 0.0164\n",
      "Val F1 (micro): 0.0806, Val F1 (macro): 0.0092\n",
      "--------------------------------------------------------------------------------\n"
     ]
    },
    {
     "name": "stderr",
     "output_type": "stream",
     "text": [
      " 46%|████▋     | 46397/100000 [27:12<17:56, 49.81it/s]  "
     ]
    },
    {
     "name": "stdout",
     "output_type": "stream",
     "text": [
      "Epoch [46400/100000]\n",
      "Train Loss: 5.9385, Train Accuracy: 0.0789\n",
      "Train Precision (micro): 0.0789, Train Precision (macro): 0.0059\n",
      "Train Recall (micro): 0.0789, Train Recall (macro): 0.0101\n",
      "Train F1 (micro): 0.0789, Train F1 (macro): 0.0059\n",
      "\n",
      "Val Loss: 5.9130, Val Accuracy: 0.0769\n",
      "Val Precision (micro): 0.0769, Val Precision (macro): 0.0092\n",
      "Val Recall (micro): 0.0769, Val Recall (macro): 0.0155\n",
      "Val F1 (micro): 0.0769, Val F1 (macro): 0.0092\n",
      "--------------------------------------------------------------------------------\n"
     ]
    },
    {
     "name": "stderr",
     "output_type": "stream",
     "text": [
      " 46%|████▋     | 46495/100000 [27:15<18:45, 47.56it/s]  "
     ]
    },
    {
     "name": "stdout",
     "output_type": "stream",
     "text": [
      "Epoch [46500/100000]\n",
      "Train Loss: 5.8835, Train Accuracy: 0.0777\n",
      "Train Precision (micro): 0.0777, Train Precision (macro): 0.0062\n",
      "Train Recall (micro): 0.0777, Train Recall (macro): 0.0114\n",
      "Train F1 (micro): 0.0777, Train F1 (macro): 0.0065\n",
      "\n",
      "Val Loss: 5.8782, Val Accuracy: 0.0778\n",
      "Val Precision (micro): 0.0778, Val Precision (macro): 0.0095\n",
      "Val Recall (micro): 0.0778, Val Recall (macro): 0.0163\n",
      "Val F1 (micro): 0.0778, Val F1 (macro): 0.0095\n",
      "--------------------------------------------------------------------------------\n"
     ]
    },
    {
     "name": "stderr",
     "output_type": "stream",
     "text": [
      " 47%|████▋     | 46597/100000 [27:19<18:17, 48.65it/s]  "
     ]
    },
    {
     "name": "stdout",
     "output_type": "stream",
     "text": [
      "Epoch [46600/100000]\n",
      "Train Loss: 5.9448, Train Accuracy: 0.0797\n",
      "Train Precision (micro): 0.0797, Train Precision (macro): 0.0050\n",
      "Train Recall (micro): 0.0797, Train Recall (macro): 0.0101\n",
      "Train F1 (micro): 0.0797, Train F1 (macro): 0.0052\n",
      "\n",
      "Val Loss: 5.9059, Val Accuracy: 0.0747\n",
      "Val Precision (micro): 0.0747, Val Precision (macro): 0.0081\n",
      "Val Recall (micro): 0.0747, Val Recall (macro): 0.0153\n",
      "Val F1 (micro): 0.0747, Val F1 (macro): 0.0086\n",
      "--------------------------------------------------------------------------------\n"
     ]
    },
    {
     "name": "stderr",
     "output_type": "stream",
     "text": [
      " 47%|████▋     | 46695/100000 [27:23<17:54, 49.59it/s]  "
     ]
    },
    {
     "name": "stdout",
     "output_type": "stream",
     "text": [
      "Epoch [46700/100000]\n",
      "Train Loss: 5.8835, Train Accuracy: 0.0798\n",
      "Train Precision (micro): 0.0798, Train Precision (macro): 0.0045\n",
      "Train Recall (micro): 0.0798, Train Recall (macro): 0.0108\n",
      "Train F1 (micro): 0.0798, Train F1 (macro): 0.0050\n",
      "\n",
      "Val Loss: 5.8977, Val Accuracy: 0.0750\n",
      "Val Precision (micro): 0.0750, Val Precision (macro): 0.0074\n",
      "Val Recall (micro): 0.0750, Val Recall (macro): 0.0145\n",
      "Val F1 (micro): 0.0750, Val F1 (macro): 0.0082\n",
      "--------------------------------------------------------------------------------\n"
     ]
    },
    {
     "name": "stderr",
     "output_type": "stream",
     "text": [
      " 47%|████▋     | 46794/100000 [27:27<19:00, 46.64it/s]  "
     ]
    },
    {
     "name": "stdout",
     "output_type": "stream",
     "text": [
      "Epoch [46800/100000]\n",
      "Train Loss: 5.9049, Train Accuracy: 0.0733\n",
      "Train Precision (micro): 0.0733, Train Precision (macro): 0.0048\n",
      "Train Recall (micro): 0.0733, Train Recall (macro): 0.0080\n",
      "Train F1 (micro): 0.0733, Train F1 (macro): 0.0046\n",
      "\n",
      "Val Loss: 5.9183, Val Accuracy: 0.0744\n",
      "Val Precision (micro): 0.0744, Val Precision (macro): 0.0086\n",
      "Val Recall (micro): 0.0744, Val Recall (macro): 0.0168\n",
      "Val F1 (micro): 0.0744, Val F1 (macro): 0.0094\n",
      "--------------------------------------------------------------------------------\n"
     ]
    },
    {
     "name": "stderr",
     "output_type": "stream",
     "text": [
      " 47%|████▋     | 46896/100000 [27:30<18:25, 48.04it/s]  "
     ]
    },
    {
     "name": "stdout",
     "output_type": "stream",
     "text": [
      "Epoch [46900/100000]\n",
      "Train Loss: 5.9242, Train Accuracy: 0.0788\n",
      "Train Precision (micro): 0.0788, Train Precision (macro): 0.0060\n",
      "Train Recall (micro): 0.0788, Train Recall (macro): 0.0122\n",
      "Train F1 (micro): 0.0788, Train F1 (macro): 0.0066\n",
      "\n",
      "Val Loss: 5.8897, Val Accuracy: 0.0772\n",
      "Val Precision (micro): 0.0772, Val Precision (macro): 0.0088\n",
      "Val Recall (micro): 0.0772, Val Recall (macro): 0.0164\n",
      "Val F1 (micro): 0.0772, Val F1 (macro): 0.0094\n",
      "--------------------------------------------------------------------------------\n"
     ]
    },
    {
     "name": "stderr",
     "output_type": "stream",
     "text": [
      " 47%|████▋     | 46997/100000 [27:33<17:33, 50.29it/s]  "
     ]
    },
    {
     "name": "stdout",
     "output_type": "stream",
     "text": [
      "Epoch [47000/100000]\n",
      "Train Loss: 5.8794, Train Accuracy: 0.0789\n",
      "Train Precision (micro): 0.0789, Train Precision (macro): 0.0070\n",
      "Train Recall (micro): 0.0789, Train Recall (macro): 0.0111\n",
      "Train F1 (micro): 0.0789, Train F1 (macro): 0.0070\n",
      "\n",
      "Val Loss: 5.9164, Val Accuracy: 0.0794\n",
      "Val Precision (micro): 0.0794, Val Precision (macro): 0.0093\n",
      "Val Recall (micro): 0.0794, Val Recall (macro): 0.0165\n",
      "Val F1 (micro): 0.0794, Val F1 (macro): 0.0100\n",
      "--------------------------------------------------------------------------------\n"
     ]
    },
    {
     "name": "stderr",
     "output_type": "stream",
     "text": [
      " 47%|████▋     | 47098/100000 [27:37<21:10, 41.63it/s]  "
     ]
    },
    {
     "name": "stdout",
     "output_type": "stream",
     "text": [
      "Epoch [47100/100000]\n",
      "Train Loss: 5.8974, Train Accuracy: 0.0780\n",
      "Train Precision (micro): 0.0780, Train Precision (macro): 0.0043\n",
      "Train Recall (micro): 0.0780, Train Recall (macro): 0.0087\n",
      "Train F1 (micro): 0.0780, Train F1 (macro): 0.0048\n",
      "\n",
      "Val Loss: 5.9246, Val Accuracy: 0.0741\n",
      "Val Precision (micro): 0.0741, Val Precision (macro): 0.0084\n",
      "Val Recall (micro): 0.0741, Val Recall (macro): 0.0160\n",
      "Val F1 (micro): 0.0741, Val F1 (macro): 0.0093\n",
      "--------------------------------------------------------------------------------\n"
     ]
    },
    {
     "name": "stderr",
     "output_type": "stream",
     "text": [
      " 47%|████▋     | 47198/100000 [27:40<17:37, 49.94it/s]  "
     ]
    },
    {
     "name": "stdout",
     "output_type": "stream",
     "text": [
      "Epoch [47200/100000]\n",
      "Train Loss: 5.8474, Train Accuracy: 0.0850\n",
      "Train Precision (micro): 0.0850, Train Precision (macro): 0.0083\n",
      "Train Recall (micro): 0.0850, Train Recall (macro): 0.0109\n",
      "Train F1 (micro): 0.0850, Train F1 (macro): 0.0072\n",
      "\n",
      "Val Loss: 5.8978, Val Accuracy: 0.0762\n",
      "Val Precision (micro): 0.0762, Val Precision (macro): 0.0074\n",
      "Val Recall (micro): 0.0762, Val Recall (macro): 0.0149\n",
      "Val F1 (micro): 0.0762, Val F1 (macro): 0.0083\n",
      "--------------------------------------------------------------------------------\n"
     ]
    },
    {
     "name": "stderr",
     "output_type": "stream",
     "text": [
      " 47%|████▋     | 47296/100000 [27:44<17:59, 48.82it/s]  "
     ]
    },
    {
     "name": "stdout",
     "output_type": "stream",
     "text": [
      "Epoch [47300/100000]\n",
      "Train Loss: 5.9014, Train Accuracy: 0.0780\n",
      "Train Precision (micro): 0.0780, Train Precision (macro): 0.0045\n",
      "Train Recall (micro): 0.0780, Train Recall (macro): 0.0088\n",
      "Train F1 (micro): 0.0780, Train F1 (macro): 0.0048\n",
      "\n",
      "Val Loss: 5.9106, Val Accuracy: 0.0750\n",
      "Val Precision (micro): 0.0750, Val Precision (macro): 0.0082\n",
      "Val Recall (micro): 0.0750, Val Recall (macro): 0.0158\n",
      "Val F1 (micro): 0.0750, Val F1 (macro): 0.0085\n",
      "--------------------------------------------------------------------------------\n"
     ]
    },
    {
     "name": "stderr",
     "output_type": "stream",
     "text": [
      " 47%|████▋     | 47396/100000 [27:47<18:15, 48.01it/s]  "
     ]
    },
    {
     "name": "stdout",
     "output_type": "stream",
     "text": [
      "Epoch [47400/100000]\n",
      "Train Loss: 5.8479, Train Accuracy: 0.0867\n",
      "Train Precision (micro): 0.0867, Train Precision (macro): 0.0050\n",
      "Train Recall (micro): 0.0867, Train Recall (macro): 0.0107\n",
      "Train F1 (micro): 0.0867, Train F1 (macro): 0.0057\n",
      "\n",
      "Val Loss: 5.8773, Val Accuracy: 0.0747\n",
      "Val Precision (micro): 0.0747, Val Precision (macro): 0.0087\n",
      "Val Recall (micro): 0.0747, Val Recall (macro): 0.0153\n",
      "Val F1 (micro): 0.0747, Val F1 (macro): 0.0091\n",
      "--------------------------------------------------------------------------------\n"
     ]
    },
    {
     "name": "stderr",
     "output_type": "stream",
     "text": [
      " 47%|████▋     | 47499/100000 [27:50<17:34, 49.80it/s]  "
     ]
    },
    {
     "name": "stdout",
     "output_type": "stream",
     "text": [
      "Epoch [47500/100000]\n",
      "Train Loss: 5.9207, Train Accuracy: 0.0744\n",
      "Train Precision (micro): 0.0744, Train Precision (macro): 0.0064\n",
      "Train Recall (micro): 0.0744, Train Recall (macro): 0.0109\n",
      "Train F1 (micro): 0.0744, Train F1 (macro): 0.0063\n",
      "\n",
      "Val Loss: 5.8800, Val Accuracy: 0.0766\n",
      "Val Precision (micro): 0.0766, Val Precision (macro): 0.0082\n",
      "Val Recall (micro): 0.0766, Val Recall (macro): 0.0159\n",
      "Val F1 (micro): 0.0766, Val F1 (macro): 0.0091\n",
      "--------------------------------------------------------------------------------\n"
     ]
    },
    {
     "name": "stderr",
     "output_type": "stream",
     "text": [
      " 48%|████▊     | 47596/100000 [27:54<17:31, 49.86it/s]  "
     ]
    },
    {
     "name": "stdout",
     "output_type": "stream",
     "text": [
      "Epoch [47600/100000]\n",
      "Train Loss: 5.9038, Train Accuracy: 0.0836\n",
      "Train Precision (micro): 0.0836, Train Precision (macro): 0.0065\n",
      "Train Recall (micro): 0.0836, Train Recall (macro): 0.0106\n",
      "Train F1 (micro): 0.0836, Train F1 (macro): 0.0061\n",
      "\n",
      "Val Loss: 5.8868, Val Accuracy: 0.0772\n",
      "Val Precision (micro): 0.0772, Val Precision (macro): 0.0072\n",
      "Val Recall (micro): 0.0772, Val Recall (macro): 0.0156\n",
      "Val F1 (micro): 0.0772, Val F1 (macro): 0.0085\n",
      "--------------------------------------------------------------------------------\n"
     ]
    },
    {
     "name": "stderr",
     "output_type": "stream",
     "text": [
      " 48%|████▊     | 47695/100000 [27:57<17:33, 49.63it/s]  "
     ]
    },
    {
     "name": "stdout",
     "output_type": "stream",
     "text": [
      "Epoch [47700/100000]\n",
      "Train Loss: 5.8826, Train Accuracy: 0.0786\n",
      "Train Precision (micro): 0.0786, Train Precision (macro): 0.0060\n",
      "Train Recall (micro): 0.0786, Train Recall (macro): 0.0113\n",
      "Train F1 (micro): 0.0786, Train F1 (macro): 0.0067\n",
      "\n",
      "Val Loss: 5.8860, Val Accuracy: 0.0775\n",
      "Val Precision (micro): 0.0775, Val Precision (macro): 0.0088\n",
      "Val Recall (micro): 0.0775, Val Recall (macro): 0.0153\n",
      "Val F1 (micro): 0.0775, Val F1 (macro): 0.0090\n",
      "--------------------------------------------------------------------------------\n"
     ]
    },
    {
     "name": "stderr",
     "output_type": "stream",
     "text": [
      " 48%|████▊     | 47798/100000 [28:00<18:56, 45.93it/s]  "
     ]
    },
    {
     "name": "stdout",
     "output_type": "stream",
     "text": [
      "Epoch [47800/100000]\n",
      "Train Loss: 5.8283, Train Accuracy: 0.0841\n",
      "Train Precision (micro): 0.0841, Train Precision (macro): 0.0049\n",
      "Train Recall (micro): 0.0841, Train Recall (macro): 0.0086\n",
      "Train F1 (micro): 0.0841, Train F1 (macro): 0.0048\n",
      "\n",
      "Val Loss: 5.8901, Val Accuracy: 0.0800\n",
      "Val Precision (micro): 0.0800, Val Precision (macro): 0.0071\n",
      "Val Recall (micro): 0.0800, Val Recall (macro): 0.0161\n",
      "Val F1 (micro): 0.0800, Val F1 (macro): 0.0084\n",
      "--------------------------------------------------------------------------------\n"
     ]
    },
    {
     "name": "stderr",
     "output_type": "stream",
     "text": [
      " 48%|████▊     | 47898/100000 [28:04<18:04, 48.04it/s]  "
     ]
    },
    {
     "name": "stdout",
     "output_type": "stream",
     "text": [
      "Epoch [47900/100000]\n",
      "Train Loss: 5.9308, Train Accuracy: 0.0758\n",
      "Train Precision (micro): 0.0758, Train Precision (macro): 0.0074\n",
      "Train Recall (micro): 0.0758, Train Recall (macro): 0.0122\n",
      "Train F1 (micro): 0.0758, Train F1 (macro): 0.0078\n",
      "\n",
      "Val Loss: 5.8815, Val Accuracy: 0.0775\n",
      "Val Precision (micro): 0.0775, Val Precision (macro): 0.0085\n",
      "Val Recall (micro): 0.0775, Val Recall (macro): 0.0162\n",
      "Val F1 (micro): 0.0775, Val F1 (macro): 0.0093\n",
      "--------------------------------------------------------------------------------\n"
     ]
    },
    {
     "name": "stderr",
     "output_type": "stream",
     "text": [
      " 48%|████▊     | 47999/100000 [28:07<17:26, 49.70it/s]  "
     ]
    },
    {
     "name": "stdout",
     "output_type": "stream",
     "text": [
      "Epoch [48000/100000]\n",
      "Train Loss: 5.9388, Train Accuracy: 0.0803\n",
      "Train Precision (micro): 0.0803, Train Precision (macro): 0.0052\n",
      "Train Recall (micro): 0.0803, Train Recall (macro): 0.0097\n",
      "Train F1 (micro): 0.0803, Train F1 (macro): 0.0050\n",
      "\n",
      "Val Loss: 5.9108, Val Accuracy: 0.0772\n",
      "Val Precision (micro): 0.0772, Val Precision (macro): 0.0085\n",
      "Val Recall (micro): 0.0772, Val Recall (macro): 0.0155\n",
      "Val F1 (micro): 0.0772, Val F1 (macro): 0.0087\n",
      "--------------------------------------------------------------------------------\n"
     ]
    },
    {
     "name": "stderr",
     "output_type": "stream",
     "text": [
      " 48%|████▊     | 48095/100000 [28:11<23:30, 36.79it/s]  "
     ]
    },
    {
     "name": "stdout",
     "output_type": "stream",
     "text": [
      "Epoch [48100/100000]\n",
      "Train Loss: 5.9668, Train Accuracy: 0.0755\n",
      "Train Precision (micro): 0.0755, Train Precision (macro): 0.0042\n",
      "Train Recall (micro): 0.0755, Train Recall (macro): 0.0090\n",
      "Train F1 (micro): 0.0755, Train F1 (macro): 0.0044\n",
      "\n",
      "Val Loss: 5.8796, Val Accuracy: 0.0775\n",
      "Val Precision (micro): 0.0775, Val Precision (macro): 0.0095\n",
      "Val Recall (micro): 0.0775, Val Recall (macro): 0.0161\n",
      "Val F1 (micro): 0.0775, Val F1 (macro): 0.0096\n",
      "--------------------------------------------------------------------------------\n"
     ]
    },
    {
     "name": "stderr",
     "output_type": "stream",
     "text": [
      " 48%|████▊     | 48197/100000 [28:14<17:20, 49.78it/s]  "
     ]
    },
    {
     "name": "stdout",
     "output_type": "stream",
     "text": [
      "Epoch [48200/100000]\n",
      "Train Loss: 5.8792, Train Accuracy: 0.0841\n",
      "Train Precision (micro): 0.0841, Train Precision (macro): 0.0040\n",
      "Train Recall (micro): 0.0841, Train Recall (macro): 0.0095\n",
      "Train F1 (micro): 0.0841, Train F1 (macro): 0.0047\n",
      "\n",
      "Val Loss: 5.8693, Val Accuracy: 0.0791\n",
      "Val Precision (micro): 0.0791, Val Precision (macro): 0.0083\n",
      "Val Recall (micro): 0.0791, Val Recall (macro): 0.0170\n",
      "Val F1 (micro): 0.0791, Val F1 (macro): 0.0093\n",
      "--------------------------------------------------------------------------------\n"
     ]
    },
    {
     "name": "stderr",
     "output_type": "stream",
     "text": [
      " 48%|████▊     | 48297/100000 [28:18<19:34, 44.02it/s]  "
     ]
    },
    {
     "name": "stdout",
     "output_type": "stream",
     "text": [
      "Epoch [48300/100000]\n",
      "Train Loss: 5.8831, Train Accuracy: 0.0834\n",
      "Train Precision (micro): 0.0834, Train Precision (macro): 0.0051\n",
      "Train Recall (micro): 0.0834, Train Recall (macro): 0.0109\n",
      "Train F1 (micro): 0.0834, Train F1 (macro): 0.0060\n",
      "\n",
      "Val Loss: 5.9003, Val Accuracy: 0.0769\n",
      "Val Precision (micro): 0.0769, Val Precision (macro): 0.0075\n",
      "Val Recall (micro): 0.0769, Val Recall (macro): 0.0161\n",
      "Val F1 (micro): 0.0769, Val F1 (macro): 0.0089\n",
      "--------------------------------------------------------------------------------\n"
     ]
    },
    {
     "name": "stderr",
     "output_type": "stream",
     "text": [
      " 48%|████▊     | 48398/100000 [28:21<17:47, 48.32it/s]  "
     ]
    },
    {
     "name": "stdout",
     "output_type": "stream",
     "text": [
      "Epoch [48400/100000]\n",
      "Train Loss: 5.8923, Train Accuracy: 0.0778\n",
      "Train Precision (micro): 0.0778, Train Precision (macro): 0.0047\n",
      "Train Recall (micro): 0.0778, Train Recall (macro): 0.0096\n",
      "Train F1 (micro): 0.0778, Train F1 (macro): 0.0051\n",
      "\n",
      "Val Loss: 5.8940, Val Accuracy: 0.0769\n",
      "Val Precision (micro): 0.0769, Val Precision (macro): 0.0076\n",
      "Val Recall (micro): 0.0769, Val Recall (macro): 0.0154\n",
      "Val F1 (micro): 0.0769, Val F1 (macro): 0.0084\n",
      "--------------------------------------------------------------------------------\n"
     ]
    },
    {
     "name": "stderr",
     "output_type": "stream",
     "text": [
      " 48%|████▊     | 48495/100000 [28:25<18:21, 46.76it/s]  "
     ]
    },
    {
     "name": "stdout",
     "output_type": "stream",
     "text": [
      "Epoch [48500/100000]\n",
      "Train Loss: 5.9097, Train Accuracy: 0.0792\n",
      "Train Precision (micro): 0.0792, Train Precision (macro): 0.0056\n",
      "Train Recall (micro): 0.0792, Train Recall (macro): 0.0095\n",
      "Train F1 (micro): 0.0792, Train F1 (macro): 0.0053\n",
      "\n",
      "Val Loss: 5.8738, Val Accuracy: 0.0762\n",
      "Val Precision (micro): 0.0762, Val Precision (macro): 0.0086\n",
      "Val Recall (micro): 0.0762, Val Recall (macro): 0.0158\n",
      "Val F1 (micro): 0.0762, Val F1 (macro): 0.0085\n",
      "--------------------------------------------------------------------------------\n"
     ]
    },
    {
     "name": "stderr",
     "output_type": "stream",
     "text": [
      " 49%|████▊     | 48597/100000 [28:29<17:49, 48.05it/s]  "
     ]
    },
    {
     "name": "stdout",
     "output_type": "stream",
     "text": [
      "Epoch [48600/100000]\n",
      "Train Loss: 5.8861, Train Accuracy: 0.0828\n",
      "Train Precision (micro): 0.0828, Train Precision (macro): 0.0069\n",
      "Train Recall (micro): 0.0828, Train Recall (macro): 0.0108\n",
      "Train F1 (micro): 0.0828, Train F1 (macro): 0.0062\n",
      "\n",
      "Val Loss: 5.8871, Val Accuracy: 0.0797\n",
      "Val Precision (micro): 0.0797, Val Precision (macro): 0.0079\n",
      "Val Recall (micro): 0.0797, Val Recall (macro): 0.0168\n",
      "Val F1 (micro): 0.0797, Val F1 (macro): 0.0093\n",
      "--------------------------------------------------------------------------------\n"
     ]
    },
    {
     "name": "stderr",
     "output_type": "stream",
     "text": [
      " 49%|████▊     | 48698/100000 [28:32<17:22, 49.19it/s]  "
     ]
    },
    {
     "name": "stdout",
     "output_type": "stream",
     "text": [
      "Epoch [48700/100000]\n",
      "Train Loss: 5.9000, Train Accuracy: 0.0830\n",
      "Train Precision (micro): 0.0830, Train Precision (macro): 0.0058\n",
      "Train Recall (micro): 0.0830, Train Recall (macro): 0.0101\n",
      "Train F1 (micro): 0.0830, Train F1 (macro): 0.0056\n",
      "\n",
      "Val Loss: 5.8788, Val Accuracy: 0.0766\n",
      "Val Precision (micro): 0.0766, Val Precision (macro): 0.0074\n",
      "Val Recall (micro): 0.0766, Val Recall (macro): 0.0155\n",
      "Val F1 (micro): 0.0766, Val F1 (macro): 0.0082\n",
      "--------------------------------------------------------------------------------\n"
     ]
    },
    {
     "name": "stderr",
     "output_type": "stream",
     "text": [
      " 49%|████▉     | 48795/100000 [28:36<17:02, 50.08it/s]  "
     ]
    },
    {
     "name": "stdout",
     "output_type": "stream",
     "text": [
      "Epoch [48800/100000]\n",
      "Train Loss: 5.9345, Train Accuracy: 0.0800\n",
      "Train Precision (micro): 0.0800, Train Precision (macro): 0.0066\n",
      "Train Recall (micro): 0.0800, Train Recall (macro): 0.0084\n",
      "Train F1 (micro): 0.0800, Train F1 (macro): 0.0049\n",
      "\n",
      "Val Loss: 5.8960, Val Accuracy: 0.0747\n",
      "Val Precision (micro): 0.0747, Val Precision (macro): 0.0082\n",
      "Val Recall (micro): 0.0747, Val Recall (macro): 0.0156\n",
      "Val F1 (micro): 0.0747, Val F1 (macro): 0.0086\n",
      "--------------------------------------------------------------------------------\n"
     ]
    },
    {
     "name": "stderr",
     "output_type": "stream",
     "text": [
      " 49%|████▉     | 48899/100000 [28:40<17:27, 48.80it/s]  "
     ]
    },
    {
     "name": "stdout",
     "output_type": "stream",
     "text": [
      "Epoch [48900/100000]\n",
      "Train Loss: 5.8928, Train Accuracy: 0.0805\n",
      "Train Precision (micro): 0.0805, Train Precision (macro): 0.0059\n",
      "Train Recall (micro): 0.0805, Train Recall (macro): 0.0091\n",
      "Train F1 (micro): 0.0805, Train F1 (macro): 0.0051\n",
      "\n",
      "Val Loss: 5.8820, Val Accuracy: 0.0806\n",
      "Val Precision (micro): 0.0806, Val Precision (macro): 0.0094\n",
      "Val Recall (micro): 0.0806, Val Recall (macro): 0.0175\n",
      "Val F1 (micro): 0.0806, Val F1 (macro): 0.0098\n",
      "--------------------------------------------------------------------------------\n"
     ]
    },
    {
     "name": "stderr",
     "output_type": "stream",
     "text": [
      " 49%|████▉     | 48999/100000 [28:44<19:23, 43.83it/s]  "
     ]
    },
    {
     "name": "stdout",
     "output_type": "stream",
     "text": [
      "Epoch [49000/100000]\n",
      "Train Loss: 5.9379, Train Accuracy: 0.0789\n",
      "Train Precision (micro): 0.0789, Train Precision (macro): 0.0068\n",
      "Train Recall (micro): 0.0789, Train Recall (macro): 0.0106\n",
      "Train F1 (micro): 0.0789, Train F1 (macro): 0.0057\n",
      "\n",
      "Val Loss: 5.9116, Val Accuracy: 0.0741\n",
      "Val Precision (micro): 0.0741, Val Precision (macro): 0.0077\n",
      "Val Recall (micro): 0.0741, Val Recall (macro): 0.0156\n",
      "Val F1 (micro): 0.0741, Val F1 (macro): 0.0084\n",
      "--------------------------------------------------------------------------------\n"
     ]
    },
    {
     "name": "stderr",
     "output_type": "stream",
     "text": [
      " 49%|████▉     | 49099/100000 [28:48<25:58, 32.67it/s]  "
     ]
    },
    {
     "name": "stdout",
     "output_type": "stream",
     "text": [
      "Epoch [49100/100000]\n",
      "Train Loss: 5.8871, Train Accuracy: 0.0761\n",
      "Train Precision (micro): 0.0761, Train Precision (macro): 0.0052\n",
      "Train Recall (micro): 0.0761, Train Recall (macro): 0.0107\n",
      "Train F1 (micro): 0.0761, Train F1 (macro): 0.0055\n",
      "\n",
      "Val Loss: 5.9002, Val Accuracy: 0.0753\n",
      "Val Precision (micro): 0.0753, Val Precision (macro): 0.0063\n",
      "Val Recall (micro): 0.0753, Val Recall (macro): 0.0150\n",
      "Val F1 (micro): 0.0753, Val F1 (macro): 0.0072\n",
      "--------------------------------------------------------------------------------\n"
     ]
    },
    {
     "name": "stderr",
     "output_type": "stream",
     "text": [
      " 49%|████▉     | 49196/100000 [28:51<17:52, 47.38it/s]  "
     ]
    },
    {
     "name": "stdout",
     "output_type": "stream",
     "text": [
      "Epoch [49200/100000]\n",
      "Train Loss: 5.9100, Train Accuracy: 0.0811\n",
      "Train Precision (micro): 0.0811, Train Precision (macro): 0.0064\n",
      "Train Recall (micro): 0.0811, Train Recall (macro): 0.0105\n",
      "Train F1 (micro): 0.0811, Train F1 (macro): 0.0059\n",
      "\n",
      "Val Loss: 5.9146, Val Accuracy: 0.0744\n",
      "Val Precision (micro): 0.0744, Val Precision (macro): 0.0081\n",
      "Val Recall (micro): 0.0744, Val Recall (macro): 0.0156\n",
      "Val F1 (micro): 0.0744, Val F1 (macro): 0.0080\n",
      "--------------------------------------------------------------------------------\n"
     ]
    },
    {
     "name": "stderr",
     "output_type": "stream",
     "text": [
      " 49%|████▉     | 49299/100000 [28:55<17:46, 47.53it/s]  "
     ]
    },
    {
     "name": "stdout",
     "output_type": "stream",
     "text": [
      "Epoch [49300/100000]\n",
      "Train Loss: 5.9755, Train Accuracy: 0.0764\n",
      "Train Precision (micro): 0.0764, Train Precision (macro): 0.0055\n",
      "Train Recall (micro): 0.0764, Train Recall (macro): 0.0110\n",
      "Train F1 (micro): 0.0764, Train F1 (macro): 0.0054\n",
      "\n",
      "Val Loss: 5.8767, Val Accuracy: 0.0778\n",
      "Val Precision (micro): 0.0778, Val Precision (macro): 0.0075\n",
      "Val Recall (micro): 0.0778, Val Recall (macro): 0.0154\n",
      "Val F1 (micro): 0.0778, Val F1 (macro): 0.0080\n",
      "--------------------------------------------------------------------------------\n"
     ]
    },
    {
     "name": "stderr",
     "output_type": "stream",
     "text": [
      " 49%|████▉     | 49395/100000 [28:58<17:31, 48.13it/s]  "
     ]
    },
    {
     "name": "stdout",
     "output_type": "stream",
     "text": [
      "Epoch [49400/100000]\n",
      "Train Loss: 5.9160, Train Accuracy: 0.0817\n",
      "Train Precision (micro): 0.0817, Train Precision (macro): 0.0041\n",
      "Train Recall (micro): 0.0817, Train Recall (macro): 0.0084\n",
      "Train F1 (micro): 0.0817, Train F1 (macro): 0.0047\n",
      "\n",
      "Val Loss: 5.8840, Val Accuracy: 0.0803\n",
      "Val Precision (micro): 0.0803, Val Precision (macro): 0.0085\n",
      "Val Recall (micro): 0.0803, Val Recall (macro): 0.0169\n",
      "Val F1 (micro): 0.0803, Val F1 (macro): 0.0093\n",
      "--------------------------------------------------------------------------------\n"
     ]
    },
    {
     "name": "stderr",
     "output_type": "stream",
     "text": [
      " 49%|████▉     | 49495/100000 [29:02<18:12, 46.24it/s]  "
     ]
    },
    {
     "name": "stdout",
     "output_type": "stream",
     "text": [
      "Epoch [49500/100000]\n",
      "Train Loss: 5.9149, Train Accuracy: 0.0839\n",
      "Train Precision (micro): 0.0839, Train Precision (macro): 0.0044\n",
      "Train Recall (micro): 0.0839, Train Recall (macro): 0.0091\n",
      "Train F1 (micro): 0.0839, Train F1 (macro): 0.0047\n",
      "\n",
      "Val Loss: 5.8761, Val Accuracy: 0.0803\n",
      "Val Precision (micro): 0.0803, Val Precision (macro): 0.0090\n",
      "Val Recall (micro): 0.0803, Val Recall (macro): 0.0164\n",
      "Val F1 (micro): 0.0803, Val F1 (macro): 0.0091\n",
      "--------------------------------------------------------------------------------\n"
     ]
    },
    {
     "name": "stderr",
     "output_type": "stream",
     "text": [
      " 50%|████▉     | 49599/100000 [29:05<16:56, 49.59it/s]  "
     ]
    },
    {
     "name": "stdout",
     "output_type": "stream",
     "text": [
      "Epoch [49600/100000]\n",
      "Train Loss: 5.8700, Train Accuracy: 0.0789\n",
      "Train Precision (micro): 0.0789, Train Precision (macro): 0.0053\n",
      "Train Recall (micro): 0.0789, Train Recall (macro): 0.0094\n",
      "Train F1 (micro): 0.0789, Train F1 (macro): 0.0054\n",
      "\n",
      "Val Loss: 5.8766, Val Accuracy: 0.0775\n",
      "Val Precision (micro): 0.0775, Val Precision (macro): 0.0086\n",
      "Val Recall (micro): 0.0775, Val Recall (macro): 0.0167\n",
      "Val F1 (micro): 0.0775, Val F1 (macro): 0.0094\n",
      "--------------------------------------------------------------------------------\n"
     ]
    },
    {
     "name": "stderr",
     "output_type": "stream",
     "text": [
      " 50%|████▉     | 49697/100000 [29:08<17:24, 48.18it/s]  "
     ]
    },
    {
     "name": "stdout",
     "output_type": "stream",
     "text": [
      "Epoch [49700/100000]\n",
      "Train Loss: 5.9162, Train Accuracy: 0.0823\n",
      "Train Precision (micro): 0.0823, Train Precision (macro): 0.0078\n",
      "Train Recall (micro): 0.0823, Train Recall (macro): 0.0120\n",
      "Train F1 (micro): 0.0823, Train F1 (macro): 0.0073\n",
      "\n",
      "Val Loss: 5.8949, Val Accuracy: 0.0778\n",
      "Val Precision (micro): 0.0778, Val Precision (macro): 0.0092\n",
      "Val Recall (micro): 0.0778, Val Recall (macro): 0.0165\n",
      "Val F1 (micro): 0.0778, Val F1 (macro): 0.0099\n",
      "--------------------------------------------------------------------------------\n"
     ]
    },
    {
     "name": "stderr",
     "output_type": "stream",
     "text": [
      " 50%|████▉     | 49795/100000 [29:12<18:38, 44.89it/s]  "
     ]
    },
    {
     "name": "stdout",
     "output_type": "stream",
     "text": [
      "Epoch [49800/100000]\n",
      "Train Loss: 5.8764, Train Accuracy: 0.0813\n",
      "Train Precision (micro): 0.0813, Train Precision (macro): 0.0063\n",
      "Train Recall (micro): 0.0813, Train Recall (macro): 0.0101\n",
      "Train F1 (micro): 0.0813, Train F1 (macro): 0.0055\n",
      "\n",
      "Val Loss: 5.9030, Val Accuracy: 0.0784\n",
      "Val Precision (micro): 0.0784, Val Precision (macro): 0.0089\n",
      "Val Recall (micro): 0.0784, Val Recall (macro): 0.0169\n",
      "Val F1 (micro): 0.0784, Val F1 (macro): 0.0095\n",
      "--------------------------------------------------------------------------------\n"
     ]
    },
    {
     "name": "stderr",
     "output_type": "stream",
     "text": [
      " 50%|████▉     | 49894/100000 [29:15<16:43, 49.95it/s]  "
     ]
    },
    {
     "name": "stdout",
     "output_type": "stream",
     "text": [
      "Epoch [49900/100000]\n",
      "Train Loss: 5.9129, Train Accuracy: 0.0758\n",
      "Train Precision (micro): 0.0758, Train Precision (macro): 0.0050\n",
      "Train Recall (micro): 0.0758, Train Recall (macro): 0.0090\n",
      "Train F1 (micro): 0.0758, Train F1 (macro): 0.0051\n",
      "\n",
      "Val Loss: 5.8966, Val Accuracy: 0.0784\n",
      "Val Precision (micro): 0.0784, Val Precision (macro): 0.0066\n",
      "Val Recall (micro): 0.0784, Val Recall (macro): 0.0158\n",
      "Val F1 (micro): 0.0784, Val F1 (macro): 0.0077\n",
      "--------------------------------------------------------------------------------\n"
     ]
    },
    {
     "name": "stderr",
     "output_type": "stream",
     "text": [
      " 50%|████▉     | 49997/100000 [29:19<18:13, 45.74it/s]  "
     ]
    },
    {
     "name": "stdout",
     "output_type": "stream",
     "text": [
      "Epoch [50000/100000]\n",
      "Train Loss: 5.9086, Train Accuracy: 0.0792\n",
      "Train Precision (micro): 0.0792, Train Precision (macro): 0.0046\n",
      "Train Recall (micro): 0.0792, Train Recall (macro): 0.0092\n",
      "Train F1 (micro): 0.0792, Train F1 (macro): 0.0049\n",
      "\n",
      "Val Loss: 5.8762, Val Accuracy: 0.0791\n",
      "Val Precision (micro): 0.0791, Val Precision (macro): 0.0084\n",
      "Val Recall (micro): 0.0791, Val Recall (macro): 0.0166\n",
      "Val F1 (micro): 0.0791, Val F1 (macro): 0.0094\n",
      "--------------------------------------------------------------------------------\n"
     ]
    },
    {
     "name": "stderr",
     "output_type": "stream",
     "text": [
      " 50%|█████     | 50094/100000 [29:24<16:51, 49.35it/s]  "
     ]
    },
    {
     "name": "stdout",
     "output_type": "stream",
     "text": [
      "Epoch [50100/100000]\n",
      "Train Loss: 5.8956, Train Accuracy: 0.0808\n",
      "Train Precision (micro): 0.0808, Train Precision (macro): 0.0048\n",
      "Train Recall (micro): 0.0808, Train Recall (macro): 0.0082\n",
      "Train F1 (micro): 0.0808, Train F1 (macro): 0.0047\n",
      "\n",
      "Val Loss: 5.8872, Val Accuracy: 0.0781\n",
      "Val Precision (micro): 0.0781, Val Precision (macro): 0.0081\n",
      "Val Recall (micro): 0.0781, Val Recall (macro): 0.0161\n",
      "Val F1 (micro): 0.0781, Val F1 (macro): 0.0094\n",
      "--------------------------------------------------------------------------------\n"
     ]
    },
    {
     "name": "stderr",
     "output_type": "stream",
     "text": [
      " 50%|█████     | 50198/100000 [29:28<18:28, 44.91it/s]  "
     ]
    },
    {
     "name": "stdout",
     "output_type": "stream",
     "text": [
      "Epoch [50200/100000]\n",
      "Train Loss: 5.9152, Train Accuracy: 0.0755\n",
      "Train Precision (micro): 0.0755, Train Precision (macro): 0.0060\n",
      "Train Recall (micro): 0.0755, Train Recall (macro): 0.0097\n",
      "Train F1 (micro): 0.0755, Train F1 (macro): 0.0059\n",
      "\n",
      "Val Loss: 5.9018, Val Accuracy: 0.0778\n",
      "Val Precision (micro): 0.0778, Val Precision (macro): 0.0089\n",
      "Val Recall (micro): 0.0778, Val Recall (macro): 0.0165\n",
      "Val F1 (micro): 0.0778, Val F1 (macro): 0.0090\n",
      "--------------------------------------------------------------------------------\n"
     ]
    },
    {
     "name": "stderr",
     "output_type": "stream",
     "text": [
      " 50%|█████     | 50298/100000 [29:33<17:35, 47.11it/s]  "
     ]
    },
    {
     "name": "stdout",
     "output_type": "stream",
     "text": [
      "Epoch [50300/100000]\n",
      "Train Loss: 5.8952, Train Accuracy: 0.0809\n",
      "Train Precision (micro): 0.0809, Train Precision (macro): 0.0073\n",
      "Train Recall (micro): 0.0809, Train Recall (macro): 0.0109\n",
      "Train F1 (micro): 0.0809, Train F1 (macro): 0.0064\n",
      "\n",
      "Val Loss: 5.8766, Val Accuracy: 0.0788\n",
      "Val Precision (micro): 0.0788, Val Precision (macro): 0.0084\n",
      "Val Recall (micro): 0.0788, Val Recall (macro): 0.0161\n",
      "Val F1 (micro): 0.0788, Val F1 (macro): 0.0090\n",
      "--------------------------------------------------------------------------------\n"
     ]
    },
    {
     "name": "stderr",
     "output_type": "stream",
     "text": [
      " 50%|█████     | 50395/100000 [29:36<18:06, 45.64it/s]  "
     ]
    },
    {
     "name": "stdout",
     "output_type": "stream",
     "text": [
      "Epoch [50400/100000]\n",
      "Train Loss: 5.9397, Train Accuracy: 0.0813\n",
      "Train Precision (micro): 0.0813, Train Precision (macro): 0.0061\n",
      "Train Recall (micro): 0.0813, Train Recall (macro): 0.0101\n",
      "Train F1 (micro): 0.0813, Train F1 (macro): 0.0053\n",
      "\n",
      "Val Loss: 5.8822, Val Accuracy: 0.0813\n",
      "Val Precision (micro): 0.0813, Val Precision (macro): 0.0085\n",
      "Val Recall (micro): 0.0813, Val Recall (macro): 0.0165\n",
      "Val F1 (micro): 0.0813, Val F1 (macro): 0.0096\n",
      "--------------------------------------------------------------------------------\n"
     ]
    },
    {
     "name": "stderr",
     "output_type": "stream",
     "text": [
      " 50%|█████     | 50494/100000 [29:40<18:27, 44.70it/s]  "
     ]
    },
    {
     "name": "stdout",
     "output_type": "stream",
     "text": [
      "Epoch [50500/100000]\n",
      "Train Loss: 5.8824, Train Accuracy: 0.0789\n",
      "Train Precision (micro): 0.0789, Train Precision (macro): 0.0054\n",
      "Train Recall (micro): 0.0789, Train Recall (macro): 0.0101\n",
      "Train F1 (micro): 0.0789, Train F1 (macro): 0.0057\n",
      "\n",
      "Val Loss: 5.8786, Val Accuracy: 0.0828\n",
      "Val Precision (micro): 0.0828, Val Precision (macro): 0.0075\n",
      "Val Recall (micro): 0.0828, Val Recall (macro): 0.0165\n",
      "Val F1 (micro): 0.0828, Val F1 (macro): 0.0089\n",
      "--------------------------------------------------------------------------------\n"
     ]
    },
    {
     "name": "stderr",
     "output_type": "stream",
     "text": [
      " 51%|█████     | 50599/100000 [29:43<18:00, 45.71it/s]  "
     ]
    },
    {
     "name": "stdout",
     "output_type": "stream",
     "text": [
      "Epoch [50600/100000]\n",
      "Train Loss: 5.9063, Train Accuracy: 0.0752\n",
      "Train Precision (micro): 0.0752, Train Precision (macro): 0.0052\n",
      "Train Recall (micro): 0.0752, Train Recall (macro): 0.0089\n",
      "Train F1 (micro): 0.0752, Train F1 (macro): 0.0054\n",
      "\n",
      "Val Loss: 5.8907, Val Accuracy: 0.0803\n",
      "Val Precision (micro): 0.0803, Val Precision (macro): 0.0088\n",
      "Val Recall (micro): 0.0803, Val Recall (macro): 0.0170\n",
      "Val F1 (micro): 0.0803, Val F1 (macro): 0.0095\n",
      "--------------------------------------------------------------------------------\n"
     ]
    },
    {
     "name": "stderr",
     "output_type": "stream",
     "text": [
      " 51%|█████     | 50696/100000 [29:46<16:51, 48.76it/s]  "
     ]
    },
    {
     "name": "stdout",
     "output_type": "stream",
     "text": [
      "Epoch [50700/100000]\n",
      "Train Loss: 5.9466, Train Accuracy: 0.0759\n",
      "Train Precision (micro): 0.0759, Train Precision (macro): 0.0051\n",
      "Train Recall (micro): 0.0759, Train Recall (macro): 0.0094\n",
      "Train F1 (micro): 0.0759, Train F1 (macro): 0.0056\n",
      "\n",
      "Val Loss: 5.9279, Val Accuracy: 0.0788\n",
      "Val Precision (micro): 0.0788, Val Precision (macro): 0.0074\n",
      "Val Recall (micro): 0.0788, Val Recall (macro): 0.0169\n",
      "Val F1 (micro): 0.0788, Val F1 (macro): 0.0088\n",
      "--------------------------------------------------------------------------------\n"
     ]
    },
    {
     "name": "stderr",
     "output_type": "stream",
     "text": [
      " 51%|█████     | 50798/100000 [29:50<16:23, 50.01it/s]  "
     ]
    },
    {
     "name": "stdout",
     "output_type": "stream",
     "text": [
      "Epoch [50800/100000]\n",
      "Train Loss: 5.9100, Train Accuracy: 0.0848\n",
      "Train Precision (micro): 0.0848, Train Precision (macro): 0.0047\n",
      "Train Recall (micro): 0.0848, Train Recall (macro): 0.0100\n",
      "Train F1 (micro): 0.0848, Train F1 (macro): 0.0054\n",
      "\n",
      "Val Loss: 5.8989, Val Accuracy: 0.0819\n",
      "Val Precision (micro): 0.0819, Val Precision (macro): 0.0081\n",
      "Val Recall (micro): 0.0819, Val Recall (macro): 0.0177\n",
      "Val F1 (micro): 0.0819, Val F1 (macro): 0.0096\n",
      "--------------------------------------------------------------------------------\n"
     ]
    },
    {
     "name": "stderr",
     "output_type": "stream",
     "text": [
      " 51%|█████     | 50895/100000 [29:53<17:25, 46.99it/s]  "
     ]
    },
    {
     "name": "stdout",
     "output_type": "stream",
     "text": [
      "Epoch [50900/100000]\n",
      "Train Loss: 5.8959, Train Accuracy: 0.0819\n",
      "Train Precision (micro): 0.0819, Train Precision (macro): 0.0040\n",
      "Train Recall (micro): 0.0819, Train Recall (macro): 0.0090\n",
      "Train F1 (micro): 0.0819, Train F1 (macro): 0.0047\n",
      "\n",
      "Val Loss: 5.9056, Val Accuracy: 0.0781\n",
      "Val Precision (micro): 0.0781, Val Precision (macro): 0.0072\n",
      "Val Recall (micro): 0.0781, Val Recall (macro): 0.0164\n",
      "Val F1 (micro): 0.0781, Val F1 (macro): 0.0086\n",
      "--------------------------------------------------------------------------------\n"
     ]
    },
    {
     "name": "stderr",
     "output_type": "stream",
     "text": [
      " 51%|█████     | 50997/100000 [29:57<16:37, 49.13it/s]  "
     ]
    },
    {
     "name": "stdout",
     "output_type": "stream",
     "text": [
      "Epoch [51000/100000]\n",
      "Train Loss: 5.9236, Train Accuracy: 0.0833\n",
      "Train Precision (micro): 0.0833, Train Precision (macro): 0.0061\n",
      "Train Recall (micro): 0.0833, Train Recall (macro): 0.0108\n",
      "Train F1 (micro): 0.0833, Train F1 (macro): 0.0061\n",
      "\n",
      "Val Loss: 5.9111, Val Accuracy: 0.0800\n",
      "Val Precision (micro): 0.0800, Val Precision (macro): 0.0082\n",
      "Val Recall (micro): 0.0800, Val Recall (macro): 0.0163\n",
      "Val F1 (micro): 0.0800, Val F1 (macro): 0.0091\n",
      "--------------------------------------------------------------------------------\n"
     ]
    },
    {
     "name": "stderr",
     "output_type": "stream",
     "text": [
      " 51%|█████     | 51099/100000 [30:00<16:35, 49.11it/s]  "
     ]
    },
    {
     "name": "stdout",
     "output_type": "stream",
     "text": [
      "Epoch [51100/100000]\n",
      "Train Loss: 5.9227, Train Accuracy: 0.0783\n",
      "Train Precision (micro): 0.0783, Train Precision (macro): 0.0052\n",
      "Train Recall (micro): 0.0783, Train Recall (macro): 0.0091\n",
      "Train F1 (micro): 0.0783, Train F1 (macro): 0.0048\n",
      "\n",
      "Val Loss: 5.8877, Val Accuracy: 0.0759\n",
      "Val Precision (micro): 0.0759, Val Precision (macro): 0.0078\n",
      "Val Recall (micro): 0.0759, Val Recall (macro): 0.0158\n",
      "Val F1 (micro): 0.0759, Val F1 (macro): 0.0085\n",
      "--------------------------------------------------------------------------------\n"
     ]
    },
    {
     "name": "stderr",
     "output_type": "stream",
     "text": [
      " 51%|█████     | 51197/100000 [30:04<17:04, 47.62it/s]  "
     ]
    },
    {
     "name": "stdout",
     "output_type": "stream",
     "text": [
      "Epoch [51200/100000]\n",
      "Train Loss: 5.9294, Train Accuracy: 0.0769\n",
      "Train Precision (micro): 0.0769, Train Precision (macro): 0.0050\n",
      "Train Recall (micro): 0.0769, Train Recall (macro): 0.0092\n",
      "Train F1 (micro): 0.0769, Train F1 (macro): 0.0048\n",
      "\n",
      "Val Loss: 5.8847, Val Accuracy: 0.0800\n",
      "Val Precision (micro): 0.0800, Val Precision (macro): 0.0084\n",
      "Val Recall (micro): 0.0800, Val Recall (macro): 0.0162\n",
      "Val F1 (micro): 0.0800, Val F1 (macro): 0.0093\n",
      "--------------------------------------------------------------------------------\n"
     ]
    },
    {
     "name": "stderr",
     "output_type": "stream",
     "text": [
      " 51%|█████▏    | 51296/100000 [30:07<16:23, 49.50it/s]  "
     ]
    },
    {
     "name": "stdout",
     "output_type": "stream",
     "text": [
      "Epoch [51300/100000]\n",
      "Train Loss: 5.9080, Train Accuracy: 0.0689\n",
      "Train Precision (micro): 0.0689, Train Precision (macro): 0.0033\n",
      "Train Recall (micro): 0.0689, Train Recall (macro): 0.0097\n",
      "Train F1 (micro): 0.0689, Train F1 (macro): 0.0041\n",
      "\n",
      "Val Loss: 5.8884, Val Accuracy: 0.0806\n",
      "Val Precision (micro): 0.0806, Val Precision (macro): 0.0092\n",
      "Val Recall (micro): 0.0806, Val Recall (macro): 0.0165\n",
      "Val F1 (micro): 0.0806, Val F1 (macro): 0.0098\n",
      "--------------------------------------------------------------------------------\n"
     ]
    },
    {
     "name": "stderr",
     "output_type": "stream",
     "text": [
      " 51%|█████▏    | 51399/100000 [30:11<16:12, 49.97it/s]  "
     ]
    },
    {
     "name": "stdout",
     "output_type": "stream",
     "text": [
      "Epoch [51400/100000]\n",
      "Train Loss: 5.8712, Train Accuracy: 0.0844\n",
      "Train Precision (micro): 0.0844, Train Precision (macro): 0.0060\n",
      "Train Recall (micro): 0.0844, Train Recall (macro): 0.0108\n",
      "Train F1 (micro): 0.0844, Train F1 (macro): 0.0060\n",
      "\n",
      "Val Loss: 5.9284, Val Accuracy: 0.0803\n",
      "Val Precision (micro): 0.0803, Val Precision (macro): 0.0095\n",
      "Val Recall (micro): 0.0803, Val Recall (macro): 0.0168\n",
      "Val F1 (micro): 0.0803, Val F1 (macro): 0.0101\n",
      "--------------------------------------------------------------------------------\n"
     ]
    },
    {
     "name": "stderr",
     "output_type": "stream",
     "text": [
      " 51%|█████▏    | 51495/100000 [30:14<16:16, 49.69it/s]  "
     ]
    },
    {
     "name": "stdout",
     "output_type": "stream",
     "text": [
      "Epoch [51500/100000]\n",
      "Train Loss: 5.9187, Train Accuracy: 0.0778\n",
      "Train Precision (micro): 0.0778, Train Precision (macro): 0.0079\n",
      "Train Recall (micro): 0.0778, Train Recall (macro): 0.0109\n",
      "Train F1 (micro): 0.0778, Train F1 (macro): 0.0077\n",
      "\n",
      "Val Loss: 5.8966, Val Accuracy: 0.0800\n",
      "Val Precision (micro): 0.0800, Val Precision (macro): 0.0096\n",
      "Val Recall (micro): 0.0800, Val Recall (macro): 0.0169\n",
      "Val F1 (micro): 0.0800, Val F1 (macro): 0.0102\n",
      "--------------------------------------------------------------------------------\n"
     ]
    },
    {
     "name": "stderr",
     "output_type": "stream",
     "text": [
      " 52%|█████▏    | 51596/100000 [30:17<16:03, 50.22it/s]  "
     ]
    },
    {
     "name": "stdout",
     "output_type": "stream",
     "text": [
      "Epoch [51600/100000]\n",
      "Train Loss: 5.8974, Train Accuracy: 0.0853\n",
      "Train Precision (micro): 0.0853, Train Precision (macro): 0.0041\n",
      "Train Recall (micro): 0.0853, Train Recall (macro): 0.0104\n",
      "Train F1 (micro): 0.0853, Train F1 (macro): 0.0049\n",
      "\n",
      "Val Loss: 5.8914, Val Accuracy: 0.0797\n",
      "Val Precision (micro): 0.0797, Val Precision (macro): 0.0099\n",
      "Val Recall (micro): 0.0797, Val Recall (macro): 0.0174\n",
      "Val F1 (micro): 0.0797, Val F1 (macro): 0.0106\n",
      "--------------------------------------------------------------------------------\n"
     ]
    },
    {
     "name": "stderr",
     "output_type": "stream",
     "text": [
      " 52%|█████▏    | 51697/100000 [30:20<16:10, 49.79it/s]  "
     ]
    },
    {
     "name": "stdout",
     "output_type": "stream",
     "text": [
      "Epoch [51700/100000]\n",
      "Train Loss: 5.9194, Train Accuracy: 0.0766\n",
      "Train Precision (micro): 0.0766, Train Precision (macro): 0.0067\n",
      "Train Recall (micro): 0.0766, Train Recall (macro): 0.0108\n",
      "Train F1 (micro): 0.0766, Train F1 (macro): 0.0063\n",
      "\n",
      "Val Loss: 5.8741, Val Accuracy: 0.0797\n",
      "Val Precision (micro): 0.0797, Val Precision (macro): 0.0090\n",
      "Val Recall (micro): 0.0797, Val Recall (macro): 0.0164\n",
      "Val F1 (micro): 0.0797, Val F1 (macro): 0.0096\n",
      "--------------------------------------------------------------------------------\n"
     ]
    },
    {
     "name": "stderr",
     "output_type": "stream",
     "text": [
      " 52%|█████▏    | 51795/100000 [30:24<16:42, 48.07it/s]  "
     ]
    },
    {
     "name": "stdout",
     "output_type": "stream",
     "text": [
      "Epoch [51800/100000]\n",
      "Train Loss: 5.9083, Train Accuracy: 0.0816\n",
      "Train Precision (micro): 0.0816, Train Precision (macro): 0.0041\n",
      "Train Recall (micro): 0.0816, Train Recall (macro): 0.0091\n",
      "Train F1 (micro): 0.0816, Train F1 (macro): 0.0048\n",
      "\n",
      "Val Loss: 5.8859, Val Accuracy: 0.0809\n",
      "Val Precision (micro): 0.0809, Val Precision (macro): 0.0074\n",
      "Val Recall (micro): 0.0809, Val Recall (macro): 0.0157\n",
      "Val F1 (micro): 0.0809, Val F1 (macro): 0.0087\n",
      "--------------------------------------------------------------------------------\n"
     ]
    },
    {
     "name": "stderr",
     "output_type": "stream",
     "text": [
      " 52%|█████▏    | 51895/100000 [30:27<16:24, 48.85it/s]  "
     ]
    },
    {
     "name": "stdout",
     "output_type": "stream",
     "text": [
      "Epoch [51900/100000]\n",
      "Train Loss: 5.8529, Train Accuracy: 0.0844\n",
      "Train Precision (micro): 0.0844, Train Precision (macro): 0.0043\n",
      "Train Recall (micro): 0.0844, Train Recall (macro): 0.0084\n",
      "Train F1 (micro): 0.0844, Train F1 (macro): 0.0047\n",
      "\n",
      "Val Loss: 5.8991, Val Accuracy: 0.0775\n",
      "Val Precision (micro): 0.0775, Val Precision (macro): 0.0074\n",
      "Val Recall (micro): 0.0775, Val Recall (macro): 0.0161\n",
      "Val F1 (micro): 0.0775, Val F1 (macro): 0.0087\n",
      "--------------------------------------------------------------------------------\n"
     ]
    },
    {
     "name": "stderr",
     "output_type": "stream",
     "text": [
      " 52%|█████▏    | 51996/100000 [30:31<17:45, 45.07it/s]  "
     ]
    },
    {
     "name": "stdout",
     "output_type": "stream",
     "text": [
      "Epoch [52000/100000]\n",
      "Train Loss: 5.9111, Train Accuracy: 0.0809\n",
      "Train Precision (micro): 0.0809, Train Precision (macro): 0.0048\n",
      "Train Recall (micro): 0.0809, Train Recall (macro): 0.0098\n",
      "Train F1 (micro): 0.0809, Train F1 (macro): 0.0051\n",
      "\n",
      "Val Loss: 5.8929, Val Accuracy: 0.0791\n",
      "Val Precision (micro): 0.0791, Val Precision (macro): 0.0071\n",
      "Val Recall (micro): 0.0791, Val Recall (macro): 0.0148\n",
      "Val F1 (micro): 0.0791, Val F1 (macro): 0.0077\n",
      "--------------------------------------------------------------------------------\n"
     ]
    },
    {
     "name": "stderr",
     "output_type": "stream",
     "text": [
      " 52%|█████▏    | 52096/100000 [30:34<17:52, 44.67it/s]  "
     ]
    },
    {
     "name": "stdout",
     "output_type": "stream",
     "text": [
      "Epoch [52100/100000]\n",
      "Train Loss: 5.8995, Train Accuracy: 0.0748\n",
      "Train Precision (micro): 0.0748, Train Precision (macro): 0.0058\n",
      "Train Recall (micro): 0.0748, Train Recall (macro): 0.0085\n",
      "Train F1 (micro): 0.0748, Train F1 (macro): 0.0051\n",
      "\n",
      "Val Loss: 5.8843, Val Accuracy: 0.0803\n",
      "Val Precision (micro): 0.0803, Val Precision (macro): 0.0070\n",
      "Val Recall (micro): 0.0803, Val Recall (macro): 0.0155\n",
      "Val F1 (micro): 0.0803, Val F1 (macro): 0.0082\n",
      "--------------------------------------------------------------------------------\n"
     ]
    },
    {
     "name": "stderr",
     "output_type": "stream",
     "text": [
      " 52%|█████▏    | 52194/100000 [30:38<16:44, 47.61it/s]  "
     ]
    },
    {
     "name": "stdout",
     "output_type": "stream",
     "text": [
      "Epoch [52200/100000]\n",
      "Train Loss: 5.9145, Train Accuracy: 0.0803\n",
      "Train Precision (micro): 0.0803, Train Precision (macro): 0.0048\n",
      "Train Recall (micro): 0.0803, Train Recall (macro): 0.0113\n",
      "Train F1 (micro): 0.0803, Train F1 (macro): 0.0055\n",
      "\n",
      "Val Loss: 5.8925, Val Accuracy: 0.0778\n",
      "Val Precision (micro): 0.0778, Val Precision (macro): 0.0096\n",
      "Val Recall (micro): 0.0778, Val Recall (macro): 0.0163\n",
      "Val F1 (micro): 0.0778, Val F1 (macro): 0.0093\n",
      "--------------------------------------------------------------------------------\n"
     ]
    },
    {
     "name": "stderr",
     "output_type": "stream",
     "text": [
      " 52%|█████▏    | 52295/100000 [30:41<17:10, 46.29it/s]  "
     ]
    },
    {
     "name": "stdout",
     "output_type": "stream",
     "text": [
      "Epoch [52300/100000]\n",
      "Train Loss: 5.9404, Train Accuracy: 0.0831\n",
      "Train Precision (micro): 0.0831, Train Precision (macro): 0.0055\n",
      "Train Recall (micro): 0.0831, Train Recall (macro): 0.0098\n",
      "Train F1 (micro): 0.0831, Train F1 (macro): 0.0056\n",
      "\n",
      "Val Loss: 5.9029, Val Accuracy: 0.0809\n",
      "Val Precision (micro): 0.0809, Val Precision (macro): 0.0083\n",
      "Val Recall (micro): 0.0809, Val Recall (macro): 0.0170\n",
      "Val F1 (micro): 0.0809, Val F1 (macro): 0.0093\n",
      "--------------------------------------------------------------------------------\n"
     ]
    },
    {
     "name": "stderr",
     "output_type": "stream",
     "text": [
      " 52%|█████▏    | 52399/100000 [30:44<16:02, 49.44it/s]  "
     ]
    },
    {
     "name": "stdout",
     "output_type": "stream",
     "text": [
      "Epoch [52400/100000]\n",
      "Train Loss: 5.8548, Train Accuracy: 0.0858\n",
      "Train Precision (micro): 0.0858, Train Precision (macro): 0.0055\n",
      "Train Recall (micro): 0.0858, Train Recall (macro): 0.0109\n",
      "Train F1 (micro): 0.0858, Train F1 (macro): 0.0055\n",
      "\n",
      "Val Loss: 5.8956, Val Accuracy: 0.0791\n",
      "Val Precision (micro): 0.0791, Val Precision (macro): 0.0087\n",
      "Val Recall (micro): 0.0791, Val Recall (macro): 0.0175\n",
      "Val F1 (micro): 0.0791, Val F1 (macro): 0.0097\n",
      "--------------------------------------------------------------------------------\n"
     ]
    },
    {
     "name": "stderr",
     "output_type": "stream",
     "text": [
      " 52%|█████▏    | 52496/100000 [30:48<18:00, 43.95it/s]  "
     ]
    },
    {
     "name": "stdout",
     "output_type": "stream",
     "text": [
      "Epoch [52500/100000]\n",
      "Train Loss: 5.8278, Train Accuracy: 0.0841\n",
      "Train Precision (micro): 0.0841, Train Precision (macro): 0.0079\n",
      "Train Recall (micro): 0.0841, Train Recall (macro): 0.0120\n",
      "Train F1 (micro): 0.0841, Train F1 (macro): 0.0071\n",
      "\n",
      "Val Loss: 5.8762, Val Accuracy: 0.0797\n",
      "Val Precision (micro): 0.0797, Val Precision (macro): 0.0085\n",
      "Val Recall (micro): 0.0797, Val Recall (macro): 0.0163\n",
      "Val F1 (micro): 0.0797, Val F1 (macro): 0.0093\n",
      "--------------------------------------------------------------------------------\n"
     ]
    },
    {
     "name": "stderr",
     "output_type": "stream",
     "text": [
      " 53%|█████▎    | 52594/100000 [30:51<16:20, 48.37it/s]  "
     ]
    },
    {
     "name": "stdout",
     "output_type": "stream",
     "text": [
      "Epoch [52600/100000]\n",
      "Train Loss: 5.8982, Train Accuracy: 0.0792\n",
      "Train Precision (micro): 0.0792, Train Precision (macro): 0.0048\n",
      "Train Recall (micro): 0.0792, Train Recall (macro): 0.0094\n",
      "Train F1 (micro): 0.0792, Train F1 (macro): 0.0053\n",
      "\n",
      "Val Loss: 5.8659, Val Accuracy: 0.0766\n",
      "Val Precision (micro): 0.0766, Val Precision (macro): 0.0090\n",
      "Val Recall (micro): 0.0766, Val Recall (macro): 0.0162\n",
      "Val F1 (micro): 0.0766, Val F1 (macro): 0.0095\n",
      "--------------------------------------------------------------------------------\n"
     ]
    },
    {
     "name": "stderr",
     "output_type": "stream",
     "text": [
      " 53%|█████▎    | 52695/100000 [30:55<16:21, 48.21it/s]  "
     ]
    },
    {
     "name": "stdout",
     "output_type": "stream",
     "text": [
      "Epoch [52700/100000]\n",
      "Train Loss: 5.8933, Train Accuracy: 0.0745\n",
      "Train Precision (micro): 0.0745, Train Precision (macro): 0.0067\n",
      "Train Recall (micro): 0.0745, Train Recall (macro): 0.0128\n",
      "Train F1 (micro): 0.0745, Train F1 (macro): 0.0074\n",
      "\n",
      "Val Loss: 5.9026, Val Accuracy: 0.0800\n",
      "Val Precision (micro): 0.0800, Val Precision (macro): 0.0101\n",
      "Val Recall (micro): 0.0800, Val Recall (macro): 0.0167\n",
      "Val F1 (micro): 0.0800, Val F1 (macro): 0.0095\n",
      "--------------------------------------------------------------------------------\n"
     ]
    },
    {
     "name": "stderr",
     "output_type": "stream",
     "text": [
      " 53%|█████▎    | 52795/100000 [30:58<16:50, 46.72it/s]  "
     ]
    },
    {
     "name": "stdout",
     "output_type": "stream",
     "text": [
      "Epoch [52800/100000]\n",
      "Train Loss: 5.9158, Train Accuracy: 0.0752\n",
      "Train Precision (micro): 0.0752, Train Precision (macro): 0.0067\n",
      "Train Recall (micro): 0.0752, Train Recall (macro): 0.0109\n",
      "Train F1 (micro): 0.0752, Train F1 (macro): 0.0063\n",
      "\n",
      "Val Loss: 5.8798, Val Accuracy: 0.0800\n",
      "Val Precision (micro): 0.0800, Val Precision (macro): 0.0100\n",
      "Val Recall (micro): 0.0800, Val Recall (macro): 0.0169\n",
      "Val F1 (micro): 0.0800, Val F1 (macro): 0.0098\n",
      "--------------------------------------------------------------------------------\n"
     ]
    },
    {
     "name": "stderr",
     "output_type": "stream",
     "text": [
      " 53%|█████▎    | 52899/100000 [31:02<16:04, 48.85it/s]  "
     ]
    },
    {
     "name": "stdout",
     "output_type": "stream",
     "text": [
      "Epoch [52900/100000]\n",
      "Train Loss: 5.8290, Train Accuracy: 0.0834\n",
      "Train Precision (micro): 0.0834, Train Precision (macro): 0.0062\n",
      "Train Recall (micro): 0.0834, Train Recall (macro): 0.0096\n",
      "Train F1 (micro): 0.0834, Train F1 (macro): 0.0057\n",
      "\n",
      "Val Loss: 5.8972, Val Accuracy: 0.0788\n",
      "Val Precision (micro): 0.0788, Val Precision (macro): 0.0095\n",
      "Val Recall (micro): 0.0788, Val Recall (macro): 0.0168\n",
      "Val F1 (micro): 0.0788, Val F1 (macro): 0.0100\n",
      "--------------------------------------------------------------------------------\n"
     ]
    },
    {
     "name": "stderr",
     "output_type": "stream",
     "text": [
      " 53%|█████▎    | 52999/100000 [31:05<16:11, 48.40it/s]  "
     ]
    },
    {
     "name": "stdout",
     "output_type": "stream",
     "text": [
      "Epoch [53000/100000]\n",
      "Train Loss: 5.8696, Train Accuracy: 0.0800\n",
      "Train Precision (micro): 0.0800, Train Precision (macro): 0.0062\n",
      "Train Recall (micro): 0.0800, Train Recall (macro): 0.0096\n",
      "Train F1 (micro): 0.0800, Train F1 (macro): 0.0059\n",
      "\n",
      "Val Loss: 5.8840, Val Accuracy: 0.0797\n",
      "Val Precision (micro): 0.0797, Val Precision (macro): 0.0088\n",
      "Val Recall (micro): 0.0797, Val Recall (macro): 0.0164\n",
      "Val F1 (micro): 0.0797, Val F1 (macro): 0.0094\n",
      "--------------------------------------------------------------------------------\n"
     ]
    },
    {
     "name": "stderr",
     "output_type": "stream",
     "text": [
      " 53%|█████▎    | 53098/100000 [31:09<16:57, 46.07it/s]  "
     ]
    },
    {
     "name": "stdout",
     "output_type": "stream",
     "text": [
      "Epoch [53100/100000]\n",
      "Train Loss: 5.8565, Train Accuracy: 0.0809\n",
      "Train Precision (micro): 0.0809, Train Precision (macro): 0.0058\n",
      "Train Recall (micro): 0.0809, Train Recall (macro): 0.0113\n",
      "Train F1 (micro): 0.0809, Train F1 (macro): 0.0064\n",
      "\n",
      "Val Loss: 5.8902, Val Accuracy: 0.0831\n",
      "Val Precision (micro): 0.0831, Val Precision (macro): 0.0106\n",
      "Val Recall (micro): 0.0831, Val Recall (macro): 0.0179\n",
      "Val F1 (micro): 0.0831, Val F1 (macro): 0.0111\n",
      "--------------------------------------------------------------------------------\n"
     ]
    },
    {
     "name": "stderr",
     "output_type": "stream",
     "text": [
      " 53%|█████▎    | 53199/100000 [31:12<17:43, 43.99it/s]  "
     ]
    },
    {
     "name": "stdout",
     "output_type": "stream",
     "text": [
      "Epoch [53200/100000]\n",
      "Train Loss: 5.8410, Train Accuracy: 0.0814\n",
      "Train Precision (micro): 0.0814, Train Precision (macro): 0.0049\n",
      "Train Recall (micro): 0.0814, Train Recall (macro): 0.0095\n",
      "Train F1 (micro): 0.0814, Train F1 (macro): 0.0053\n",
      "\n",
      "Val Loss: 5.8751, Val Accuracy: 0.0806\n",
      "Val Precision (micro): 0.0806, Val Precision (macro): 0.0096\n",
      "Val Recall (micro): 0.0806, Val Recall (macro): 0.0170\n",
      "Val F1 (micro): 0.0806, Val F1 (macro): 0.0098\n",
      "--------------------------------------------------------------------------------\n"
     ]
    },
    {
     "name": "stderr",
     "output_type": "stream",
     "text": [
      " 53%|█████▎    | 53295/100000 [31:16<16:17, 47.76it/s]  "
     ]
    },
    {
     "name": "stdout",
     "output_type": "stream",
     "text": [
      "Epoch [53300/100000]\n",
      "Train Loss: 5.9026, Train Accuracy: 0.0833\n",
      "Train Precision (micro): 0.0833, Train Precision (macro): 0.0062\n",
      "Train Recall (micro): 0.0833, Train Recall (macro): 0.0101\n",
      "Train F1 (micro): 0.0833, Train F1 (macro): 0.0056\n",
      "\n",
      "Val Loss: 5.8779, Val Accuracy: 0.0784\n",
      "Val Precision (micro): 0.0784, Val Precision (macro): 0.0097\n",
      "Val Recall (micro): 0.0784, Val Recall (macro): 0.0161\n",
      "Val F1 (micro): 0.0784, Val F1 (macro): 0.0094\n",
      "--------------------------------------------------------------------------------\n"
     ]
    },
    {
     "name": "stderr",
     "output_type": "stream",
     "text": [
      " 53%|█████▎    | 53399/100000 [31:19<16:52, 46.01it/s]  "
     ]
    },
    {
     "name": "stdout",
     "output_type": "stream",
     "text": [
      "Epoch [53400/100000]\n",
      "Train Loss: 5.8829, Train Accuracy: 0.0803\n",
      "Train Precision (micro): 0.0803, Train Precision (macro): 0.0076\n",
      "Train Recall (micro): 0.0803, Train Recall (macro): 0.0123\n",
      "Train F1 (micro): 0.0803, Train F1 (macro): 0.0076\n",
      "\n",
      "Val Loss: 5.8762, Val Accuracy: 0.0803\n",
      "Val Precision (micro): 0.0803, Val Precision (macro): 0.0086\n",
      "Val Recall (micro): 0.0803, Val Recall (macro): 0.0171\n",
      "Val F1 (micro): 0.0803, Val F1 (macro): 0.0098\n",
      "--------------------------------------------------------------------------------\n"
     ]
    },
    {
     "name": "stderr",
     "output_type": "stream",
     "text": [
      " 53%|█████▎    | 53495/100000 [31:23<15:48, 49.04it/s]  "
     ]
    },
    {
     "name": "stdout",
     "output_type": "stream",
     "text": [
      "Epoch [53500/100000]\n",
      "Train Loss: 5.9033, Train Accuracy: 0.0791\n",
      "Train Precision (micro): 0.0791, Train Precision (macro): 0.0050\n",
      "Train Recall (micro): 0.0791, Train Recall (macro): 0.0086\n",
      "Train F1 (micro): 0.0791, Train F1 (macro): 0.0049\n",
      "\n",
      "Val Loss: 5.8617, Val Accuracy: 0.0828\n",
      "Val Precision (micro): 0.0828, Val Precision (macro): 0.0095\n",
      "Val Recall (micro): 0.0828, Val Recall (macro): 0.0173\n",
      "Val F1 (micro): 0.0828, Val F1 (macro): 0.0102\n",
      "--------------------------------------------------------------------------------\n"
     ]
    },
    {
     "name": "stderr",
     "output_type": "stream",
     "text": [
      " 54%|█████▎    | 53596/100000 [31:27<17:06, 45.22it/s]  "
     ]
    },
    {
     "name": "stdout",
     "output_type": "stream",
     "text": [
      "Epoch [53600/100000]\n",
      "Train Loss: 5.8380, Train Accuracy: 0.0808\n",
      "Train Precision (micro): 0.0808, Train Precision (macro): 0.0070\n",
      "Train Recall (micro): 0.0808, Train Recall (macro): 0.0110\n",
      "Train F1 (micro): 0.0808, Train F1 (macro): 0.0062\n",
      "\n",
      "Val Loss: 5.8668, Val Accuracy: 0.0822\n",
      "Val Precision (micro): 0.0822, Val Precision (macro): 0.0100\n",
      "Val Recall (micro): 0.0822, Val Recall (macro): 0.0186\n",
      "Val F1 (micro): 0.0822, Val F1 (macro): 0.0109\n",
      "--------------------------------------------------------------------------------\n"
     ]
    },
    {
     "name": "stderr",
     "output_type": "stream",
     "text": [
      " 54%|█████▎    | 53697/100000 [31:30<16:19, 47.28it/s]  "
     ]
    },
    {
     "name": "stdout",
     "output_type": "stream",
     "text": [
      "Epoch [53700/100000]\n",
      "Train Loss: 5.8635, Train Accuracy: 0.0827\n",
      "Train Precision (micro): 0.0827, Train Precision (macro): 0.0055\n",
      "Train Recall (micro): 0.0827, Train Recall (macro): 0.0108\n",
      "Train F1 (micro): 0.0827, Train F1 (macro): 0.0061\n",
      "\n",
      "Val Loss: 5.8615, Val Accuracy: 0.0797\n",
      "Val Precision (micro): 0.0797, Val Precision (macro): 0.0108\n",
      "Val Recall (micro): 0.0797, Val Recall (macro): 0.0181\n",
      "Val F1 (micro): 0.0797, Val F1 (macro): 0.0111\n",
      "--------------------------------------------------------------------------------\n"
     ]
    },
    {
     "name": "stderr",
     "output_type": "stream",
     "text": [
      " 54%|█████▍    | 53796/100000 [31:34<15:49, 48.68it/s]  "
     ]
    },
    {
     "name": "stdout",
     "output_type": "stream",
     "text": [
      "Epoch [53800/100000]\n",
      "Train Loss: 5.9112, Train Accuracy: 0.0889\n",
      "Train Precision (micro): 0.0889, Train Precision (macro): 0.0064\n",
      "Train Recall (micro): 0.0889, Train Recall (macro): 0.0124\n",
      "Train F1 (micro): 0.0889, Train F1 (macro): 0.0065\n",
      "\n",
      "Val Loss: 5.8949, Val Accuracy: 0.0784\n",
      "Val Precision (micro): 0.0784, Val Precision (macro): 0.0095\n",
      "Val Recall (micro): 0.0784, Val Recall (macro): 0.0169\n",
      "Val F1 (micro): 0.0784, Val F1 (macro): 0.0101\n",
      "--------------------------------------------------------------------------------\n"
     ]
    },
    {
     "name": "stderr",
     "output_type": "stream",
     "text": [
      " 54%|█████▍    | 53894/100000 [31:37<15:41, 48.96it/s]  "
     ]
    },
    {
     "name": "stdout",
     "output_type": "stream",
     "text": [
      "Epoch [53900/100000]\n",
      "Train Loss: 5.9194, Train Accuracy: 0.0853\n",
      "Train Precision (micro): 0.0853, Train Precision (macro): 0.0054\n",
      "Train Recall (micro): 0.0853, Train Recall (macro): 0.0114\n",
      "Train F1 (micro): 0.0853, Train F1 (macro): 0.0065\n",
      "\n",
      "Val Loss: 5.8708, Val Accuracy: 0.0769\n",
      "Val Precision (micro): 0.0769, Val Precision (macro): 0.0074\n",
      "Val Recall (micro): 0.0769, Val Recall (macro): 0.0161\n",
      "Val F1 (micro): 0.0769, Val F1 (macro): 0.0084\n",
      "--------------------------------------------------------------------------------\n"
     ]
    },
    {
     "name": "stderr",
     "output_type": "stream",
     "text": [
      " 54%|█████▍    | 53996/100000 [31:40<15:17, 50.14it/s]  "
     ]
    },
    {
     "name": "stdout",
     "output_type": "stream",
     "text": [
      "Epoch [54000/100000]\n",
      "Train Loss: 5.8603, Train Accuracy: 0.0845\n",
      "Train Precision (micro): 0.0845, Train Precision (macro): 0.0059\n",
      "Train Recall (micro): 0.0845, Train Recall (macro): 0.0118\n",
      "Train F1 (micro): 0.0845, Train F1 (macro): 0.0063\n",
      "\n",
      "Val Loss: 5.8834, Val Accuracy: 0.0797\n",
      "Val Precision (micro): 0.0797, Val Precision (macro): 0.0082\n",
      "Val Recall (micro): 0.0797, Val Recall (macro): 0.0162\n",
      "Val F1 (micro): 0.0797, Val F1 (macro): 0.0091\n",
      "--------------------------------------------------------------------------------\n"
     ]
    },
    {
     "name": "stderr",
     "output_type": "stream",
     "text": [
      " 54%|█████▍    | 54095/100000 [31:44<15:26, 49.53it/s]  "
     ]
    },
    {
     "name": "stdout",
     "output_type": "stream",
     "text": [
      "Epoch [54100/100000]\n",
      "Train Loss: 5.8826, Train Accuracy: 0.0822\n",
      "Train Precision (micro): 0.0822, Train Precision (macro): 0.0071\n",
      "Train Recall (micro): 0.0822, Train Recall (macro): 0.0101\n",
      "Train F1 (micro): 0.0822, Train F1 (macro): 0.0063\n",
      "\n",
      "Val Loss: 5.8992, Val Accuracy: 0.0784\n",
      "Val Precision (micro): 0.0784, Val Precision (macro): 0.0097\n",
      "Val Recall (micro): 0.0784, Val Recall (macro): 0.0169\n",
      "Val F1 (micro): 0.0784, Val F1 (macro): 0.0099\n",
      "--------------------------------------------------------------------------------\n"
     ]
    },
    {
     "name": "stderr",
     "output_type": "stream",
     "text": [
      " 54%|█████▍    | 54199/100000 [31:48<15:39, 48.77it/s]  "
     ]
    },
    {
     "name": "stdout",
     "output_type": "stream",
     "text": [
      "Epoch [54200/100000]\n",
      "Train Loss: 5.9084, Train Accuracy: 0.0772\n",
      "Train Precision (micro): 0.0772, Train Precision (macro): 0.0047\n",
      "Train Recall (micro): 0.0772, Train Recall (macro): 0.0098\n",
      "Train F1 (micro): 0.0772, Train F1 (macro): 0.0054\n",
      "\n",
      "Val Loss: 5.8643, Val Accuracy: 0.0791\n",
      "Val Precision (micro): 0.0791, Val Precision (macro): 0.0102\n",
      "Val Recall (micro): 0.0791, Val Recall (macro): 0.0171\n",
      "Val F1 (micro): 0.0791, Val F1 (macro): 0.0101\n",
      "--------------------------------------------------------------------------------\n"
     ]
    },
    {
     "name": "stderr",
     "output_type": "stream",
     "text": [
      " 54%|█████▍    | 54296/100000 [31:52<15:11, 50.13it/s]  "
     ]
    },
    {
     "name": "stdout",
     "output_type": "stream",
     "text": [
      "Epoch [54300/100000]\n",
      "Train Loss: 5.9566, Train Accuracy: 0.0722\n",
      "Train Precision (micro): 0.0722, Train Precision (macro): 0.0037\n",
      "Train Recall (micro): 0.0722, Train Recall (macro): 0.0077\n",
      "Train F1 (micro): 0.0722, Train F1 (macro): 0.0039\n",
      "\n",
      "Val Loss: 5.8770, Val Accuracy: 0.0803\n",
      "Val Precision (micro): 0.0803, Val Precision (macro): 0.0081\n",
      "Val Recall (micro): 0.0803, Val Recall (macro): 0.0160\n",
      "Val F1 (micro): 0.0803, Val F1 (macro): 0.0091\n",
      "--------------------------------------------------------------------------------\n"
     ]
    },
    {
     "name": "stderr",
     "output_type": "stream",
     "text": [
      " 54%|█████▍    | 54395/100000 [31:55<15:10, 50.10it/s]  "
     ]
    },
    {
     "name": "stdout",
     "output_type": "stream",
     "text": [
      "Epoch [54400/100000]\n",
      "Train Loss: 5.8970, Train Accuracy: 0.0816\n",
      "Train Precision (micro): 0.0816, Train Precision (macro): 0.0047\n",
      "Train Recall (micro): 0.0816, Train Recall (macro): 0.0090\n",
      "Train F1 (micro): 0.0816, Train F1 (macro): 0.0050\n",
      "\n",
      "Val Loss: 5.8644, Val Accuracy: 0.0753\n",
      "Val Precision (micro): 0.0753, Val Precision (macro): 0.0091\n",
      "Val Recall (micro): 0.0753, Val Recall (macro): 0.0161\n",
      "Val F1 (micro): 0.0753, Val F1 (macro): 0.0095\n",
      "--------------------------------------------------------------------------------\n"
     ]
    },
    {
     "name": "stderr",
     "output_type": "stream",
     "text": [
      " 54%|█████▍    | 54496/100000 [31:58<15:11, 49.92it/s]  "
     ]
    },
    {
     "name": "stdout",
     "output_type": "stream",
     "text": [
      "Epoch [54500/100000]\n",
      "Train Loss: 5.8575, Train Accuracy: 0.0814\n",
      "Train Precision (micro): 0.0814, Train Precision (macro): 0.0055\n",
      "Train Recall (micro): 0.0814, Train Recall (macro): 0.0091\n",
      "Train F1 (micro): 0.0814, Train F1 (macro): 0.0050\n",
      "\n",
      "Val Loss: 5.8914, Val Accuracy: 0.0734\n",
      "Val Precision (micro): 0.0734, Val Precision (macro): 0.0086\n",
      "Val Recall (micro): 0.0734, Val Recall (macro): 0.0152\n",
      "Val F1 (micro): 0.0734, Val F1 (macro): 0.0089\n",
      "--------------------------------------------------------------------------------\n"
     ]
    },
    {
     "name": "stderr",
     "output_type": "stream",
     "text": [
      " 55%|█████▍    | 54597/100000 [32:02<15:23, 49.15it/s]  "
     ]
    },
    {
     "name": "stdout",
     "output_type": "stream",
     "text": [
      "Epoch [54600/100000]\n",
      "Train Loss: 5.8931, Train Accuracy: 0.0764\n",
      "Train Precision (micro): 0.0764, Train Precision (macro): 0.0058\n",
      "Train Recall (micro): 0.0764, Train Recall (macro): 0.0115\n",
      "Train F1 (micro): 0.0764, Train F1 (macro): 0.0061\n",
      "\n",
      "Val Loss: 5.8766, Val Accuracy: 0.0803\n",
      "Val Precision (micro): 0.0803, Val Precision (macro): 0.0094\n",
      "Val Recall (micro): 0.0803, Val Recall (macro): 0.0173\n",
      "Val F1 (micro): 0.0803, Val F1 (macro): 0.0103\n",
      "--------------------------------------------------------------------------------\n"
     ]
    },
    {
     "name": "stderr",
     "output_type": "stream",
     "text": [
      " 55%|█████▍    | 54698/100000 [32:05<15:47, 47.83it/s]  "
     ]
    },
    {
     "name": "stdout",
     "output_type": "stream",
     "text": [
      "Epoch [54700/100000]\n",
      "Train Loss: 5.9300, Train Accuracy: 0.0762\n",
      "Train Precision (micro): 0.0762, Train Precision (macro): 0.0052\n",
      "Train Recall (micro): 0.0762, Train Recall (macro): 0.0107\n",
      "Train F1 (micro): 0.0762, Train F1 (macro): 0.0054\n",
      "\n",
      "Val Loss: 5.8814, Val Accuracy: 0.0822\n",
      "Val Precision (micro): 0.0822, Val Precision (macro): 0.0086\n",
      "Val Recall (micro): 0.0822, Val Recall (macro): 0.0163\n",
      "Val F1 (micro): 0.0822, Val F1 (macro): 0.0092\n",
      "--------------------------------------------------------------------------------\n"
     ]
    },
    {
     "name": "stderr",
     "output_type": "stream",
     "text": [
      " 55%|█████▍    | 54798/100000 [32:09<15:41, 48.03it/s]  "
     ]
    },
    {
     "name": "stdout",
     "output_type": "stream",
     "text": [
      "Epoch [54800/100000]\n",
      "Train Loss: 5.8718, Train Accuracy: 0.0858\n",
      "Train Precision (micro): 0.0858, Train Precision (macro): 0.0054\n",
      "Train Recall (micro): 0.0858, Train Recall (macro): 0.0101\n",
      "Train F1 (micro): 0.0858, Train F1 (macro): 0.0055\n",
      "\n",
      "Val Loss: 5.8977, Val Accuracy: 0.0813\n",
      "Val Precision (micro): 0.0813, Val Precision (macro): 0.0083\n",
      "Val Recall (micro): 0.0813, Val Recall (macro): 0.0170\n",
      "Val F1 (micro): 0.0813, Val F1 (macro): 0.0091\n",
      "--------------------------------------------------------------------------------\n"
     ]
    },
    {
     "name": "stderr",
     "output_type": "stream",
     "text": [
      " 55%|█████▍    | 54894/100000 [32:12<15:13, 49.36it/s]  "
     ]
    },
    {
     "name": "stdout",
     "output_type": "stream",
     "text": [
      "Epoch [54900/100000]\n",
      "Train Loss: 5.9189, Train Accuracy: 0.0795\n",
      "Train Precision (micro): 0.0795, Train Precision (macro): 0.0045\n",
      "Train Recall (micro): 0.0795, Train Recall (macro): 0.0104\n",
      "Train F1 (micro): 0.0795, Train F1 (macro): 0.0051\n",
      "\n",
      "Val Loss: 5.8856, Val Accuracy: 0.0803\n",
      "Val Precision (micro): 0.0803, Val Precision (macro): 0.0090\n",
      "Val Recall (micro): 0.0803, Val Recall (macro): 0.0163\n",
      "Val F1 (micro): 0.0803, Val F1 (macro): 0.0096\n",
      "--------------------------------------------------------------------------------\n"
     ]
    },
    {
     "name": "stderr",
     "output_type": "stream",
     "text": [
      " 55%|█████▍    | 54997/100000 [32:15<15:32, 48.25it/s]  "
     ]
    },
    {
     "name": "stdout",
     "output_type": "stream",
     "text": [
      "Epoch [55000/100000]\n",
      "Train Loss: 5.8898, Train Accuracy: 0.0872\n",
      "Train Precision (micro): 0.0872, Train Precision (macro): 0.0067\n",
      "Train Recall (micro): 0.0872, Train Recall (macro): 0.0105\n",
      "Train F1 (micro): 0.0872, Train F1 (macro): 0.0061\n",
      "\n",
      "Val Loss: 5.8733, Val Accuracy: 0.0813\n",
      "Val Precision (micro): 0.0813, Val Precision (macro): 0.0089\n",
      "Val Recall (micro): 0.0813, Val Recall (macro): 0.0160\n",
      "Val F1 (micro): 0.0813, Val F1 (macro): 0.0092\n",
      "--------------------------------------------------------------------------------\n"
     ]
    },
    {
     "name": "stderr",
     "output_type": "stream",
     "text": [
      " 55%|█████▌    | 55094/100000 [32:19<15:12, 49.22it/s]  "
     ]
    },
    {
     "name": "stdout",
     "output_type": "stream",
     "text": [
      "Epoch [55100/100000]\n",
      "Train Loss: 5.9090, Train Accuracy: 0.0756\n",
      "Train Precision (micro): 0.0756, Train Precision (macro): 0.0069\n",
      "Train Recall (micro): 0.0756, Train Recall (macro): 0.0111\n",
      "Train F1 (micro): 0.0756, Train F1 (macro): 0.0064\n",
      "\n",
      "Val Loss: 5.8871, Val Accuracy: 0.0797\n",
      "Val Precision (micro): 0.0797, Val Precision (macro): 0.0093\n",
      "Val Recall (micro): 0.0797, Val Recall (macro): 0.0161\n",
      "Val F1 (micro): 0.0797, Val F1 (macro): 0.0092\n",
      "--------------------------------------------------------------------------------\n"
     ]
    },
    {
     "name": "stderr",
     "output_type": "stream",
     "text": [
      " 55%|█████▌    | 55196/100000 [32:22<15:34, 47.96it/s]  "
     ]
    },
    {
     "name": "stdout",
     "output_type": "stream",
     "text": [
      "Epoch [55200/100000]\n",
      "Train Loss: 5.8285, Train Accuracy: 0.0827\n",
      "Train Precision (micro): 0.0827, Train Precision (macro): 0.0051\n",
      "Train Recall (micro): 0.0827, Train Recall (macro): 0.0097\n",
      "Train F1 (micro): 0.0827, Train F1 (macro): 0.0058\n",
      "\n",
      "Val Loss: 5.8744, Val Accuracy: 0.0781\n",
      "Val Precision (micro): 0.0781, Val Precision (macro): 0.0093\n",
      "Val Recall (micro): 0.0781, Val Recall (macro): 0.0167\n",
      "Val F1 (micro): 0.0781, Val F1 (macro): 0.0095\n",
      "--------------------------------------------------------------------------------\n"
     ]
    },
    {
     "name": "stderr",
     "output_type": "stream",
     "text": [
      " 55%|█████▌    | 55296/100000 [32:26<14:50, 50.18it/s]  "
     ]
    },
    {
     "name": "stdout",
     "output_type": "stream",
     "text": [
      "Epoch [55300/100000]\n",
      "Train Loss: 5.8931, Train Accuracy: 0.0794\n",
      "Train Precision (micro): 0.0794, Train Precision (macro): 0.0059\n",
      "Train Recall (micro): 0.0794, Train Recall (macro): 0.0109\n",
      "Train F1 (micro): 0.0794, Train F1 (macro): 0.0060\n",
      "\n",
      "Val Loss: 5.9070, Val Accuracy: 0.0756\n",
      "Val Precision (micro): 0.0756, Val Precision (macro): 0.0081\n",
      "Val Recall (micro): 0.0756, Val Recall (macro): 0.0157\n",
      "Val F1 (micro): 0.0756, Val F1 (macro): 0.0093\n",
      "--------------------------------------------------------------------------------\n"
     ]
    },
    {
     "name": "stderr",
     "output_type": "stream",
     "text": [
      " 55%|█████▌    | 55397/100000 [32:29<14:57, 49.68it/s]  "
     ]
    },
    {
     "name": "stdout",
     "output_type": "stream",
     "text": [
      "Epoch [55400/100000]\n",
      "Train Loss: 5.9401, Train Accuracy: 0.0758\n",
      "Train Precision (micro): 0.0758, Train Precision (macro): 0.0064\n",
      "Train Recall (micro): 0.0758, Train Recall (macro): 0.0100\n",
      "Train F1 (micro): 0.0758, Train F1 (macro): 0.0062\n",
      "\n",
      "Val Loss: 5.8837, Val Accuracy: 0.0781\n",
      "Val Precision (micro): 0.0781, Val Precision (macro): 0.0072\n",
      "Val Recall (micro): 0.0781, Val Recall (macro): 0.0149\n",
      "Val F1 (micro): 0.0781, Val F1 (macro): 0.0080\n",
      "--------------------------------------------------------------------------------\n"
     ]
    },
    {
     "name": "stderr",
     "output_type": "stream",
     "text": [
      " 55%|█████▌    | 55495/100000 [32:32<15:30, 47.82it/s]  "
     ]
    },
    {
     "name": "stdout",
     "output_type": "stream",
     "text": [
      "Epoch [55500/100000]\n",
      "Train Loss: 5.9364, Train Accuracy: 0.0813\n",
      "Train Precision (micro): 0.0813, Train Precision (macro): 0.0070\n",
      "Train Recall (micro): 0.0813, Train Recall (macro): 0.0121\n",
      "Train F1 (micro): 0.0813, Train F1 (macro): 0.0068\n",
      "\n",
      "Val Loss: 5.8675, Val Accuracy: 0.0831\n",
      "Val Precision (micro): 0.0831, Val Precision (macro): 0.0073\n",
      "Val Recall (micro): 0.0831, Val Recall (macro): 0.0160\n",
      "Val F1 (micro): 0.0831, Val F1 (macro): 0.0087\n",
      "--------------------------------------------------------------------------------\n"
     ]
    },
    {
     "name": "stderr",
     "output_type": "stream",
     "text": [
      " 56%|█████▌    | 55597/100000 [32:36<15:21, 48.20it/s]  "
     ]
    },
    {
     "name": "stdout",
     "output_type": "stream",
     "text": [
      "Epoch [55600/100000]\n",
      "Train Loss: 5.9439, Train Accuracy: 0.0722\n",
      "Train Precision (micro): 0.0722, Train Precision (macro): 0.0061\n",
      "Train Recall (micro): 0.0722, Train Recall (macro): 0.0104\n",
      "Train F1 (micro): 0.0722, Train F1 (macro): 0.0060\n",
      "\n",
      "Val Loss: 5.8926, Val Accuracy: 0.0769\n",
      "Val Precision (micro): 0.0769, Val Precision (macro): 0.0095\n",
      "Val Recall (micro): 0.0769, Val Recall (macro): 0.0152\n",
      "Val F1 (micro): 0.0769, Val F1 (macro): 0.0094\n",
      "--------------------------------------------------------------------------------\n"
     ]
    },
    {
     "name": "stderr",
     "output_type": "stream",
     "text": [
      " 56%|█████▌    | 55695/100000 [32:39<16:26, 44.90it/s]  "
     ]
    },
    {
     "name": "stdout",
     "output_type": "stream",
     "text": [
      "Epoch [55700/100000]\n",
      "Train Loss: 5.9318, Train Accuracy: 0.0786\n",
      "Train Precision (micro): 0.0786, Train Precision (macro): 0.0054\n",
      "Train Recall (micro): 0.0786, Train Recall (macro): 0.0094\n",
      "Train F1 (micro): 0.0786, Train F1 (macro): 0.0058\n",
      "\n",
      "Val Loss: 5.8882, Val Accuracy: 0.0819\n",
      "Val Precision (micro): 0.0819, Val Precision (macro): 0.0077\n",
      "Val Recall (micro): 0.0819, Val Recall (macro): 0.0159\n",
      "Val F1 (micro): 0.0819, Val F1 (macro): 0.0088\n",
      "--------------------------------------------------------------------------------\n"
     ]
    },
    {
     "name": "stderr",
     "output_type": "stream",
     "text": [
      " 56%|█████▌    | 55799/100000 [32:44<15:20, 48.00it/s]  "
     ]
    },
    {
     "name": "stdout",
     "output_type": "stream",
     "text": [
      "Epoch [55800/100000]\n",
      "Train Loss: 5.8478, Train Accuracy: 0.0820\n",
      "Train Precision (micro): 0.0820, Train Precision (macro): 0.0060\n",
      "Train Recall (micro): 0.0820, Train Recall (macro): 0.0116\n",
      "Train F1 (micro): 0.0820, Train F1 (macro): 0.0064\n",
      "\n",
      "Val Loss: 5.8924, Val Accuracy: 0.0778\n",
      "Val Precision (micro): 0.0778, Val Precision (macro): 0.0077\n",
      "Val Recall (micro): 0.0778, Val Recall (macro): 0.0159\n",
      "Val F1 (micro): 0.0778, Val F1 (macro): 0.0088\n",
      "--------------------------------------------------------------------------------\n"
     ]
    },
    {
     "name": "stderr",
     "output_type": "stream",
     "text": [
      " 56%|█████▌    | 55896/100000 [32:48<15:01, 48.90it/s]  "
     ]
    },
    {
     "name": "stdout",
     "output_type": "stream",
     "text": [
      "Epoch [55900/100000]\n",
      "Train Loss: 5.8827, Train Accuracy: 0.0772\n",
      "Train Precision (micro): 0.0772, Train Precision (macro): 0.0065\n",
      "Train Recall (micro): 0.0772, Train Recall (macro): 0.0109\n",
      "Train F1 (micro): 0.0772, Train F1 (macro): 0.0066\n",
      "\n",
      "Val Loss: 5.8717, Val Accuracy: 0.0766\n",
      "Val Precision (micro): 0.0766, Val Precision (macro): 0.0087\n",
      "Val Recall (micro): 0.0766, Val Recall (macro): 0.0152\n",
      "Val F1 (micro): 0.0766, Val F1 (macro): 0.0092\n",
      "--------------------------------------------------------------------------------\n"
     ]
    },
    {
     "name": "stderr",
     "output_type": "stream",
     "text": [
      " 56%|█████▌    | 55996/100000 [32:51<14:54, 49.19it/s]  "
     ]
    },
    {
     "name": "stdout",
     "output_type": "stream",
     "text": [
      "Epoch [56000/100000]\n",
      "Train Loss: 5.8427, Train Accuracy: 0.0847\n",
      "Train Precision (micro): 0.0847, Train Precision (macro): 0.0054\n",
      "Train Recall (micro): 0.0847, Train Recall (macro): 0.0102\n",
      "Train F1 (micro): 0.0847, Train F1 (macro): 0.0058\n",
      "\n",
      "Val Loss: 5.8737, Val Accuracy: 0.0809\n",
      "Val Precision (micro): 0.0809, Val Precision (macro): 0.0083\n",
      "Val Recall (micro): 0.0809, Val Recall (macro): 0.0167\n",
      "Val F1 (micro): 0.0809, Val F1 (macro): 0.0095\n",
      "--------------------------------------------------------------------------------\n"
     ]
    },
    {
     "name": "stderr",
     "output_type": "stream",
     "text": [
      " 56%|█████▌    | 56097/100000 [32:55<15:15, 47.94it/s]  "
     ]
    },
    {
     "name": "stdout",
     "output_type": "stream",
     "text": [
      "Epoch [56100/100000]\n",
      "Train Loss: 5.8303, Train Accuracy: 0.0850\n",
      "Train Precision (micro): 0.0850, Train Precision (macro): 0.0087\n",
      "Train Recall (micro): 0.0850, Train Recall (macro): 0.0119\n",
      "Train F1 (micro): 0.0850, Train F1 (macro): 0.0077\n",
      "\n",
      "Val Loss: 5.8586, Val Accuracy: 0.0803\n",
      "Val Precision (micro): 0.0803, Val Precision (macro): 0.0079\n",
      "Val Recall (micro): 0.0803, Val Recall (macro): 0.0163\n",
      "Val F1 (micro): 0.0803, Val F1 (macro): 0.0088\n",
      "--------------------------------------------------------------------------------\n"
     ]
    },
    {
     "name": "stderr",
     "output_type": "stream",
     "text": [
      " 56%|█████▌    | 56195/100000 [32:58<15:38, 46.70it/s]  "
     ]
    },
    {
     "name": "stdout",
     "output_type": "stream",
     "text": [
      "Epoch [56200/100000]\n",
      "Train Loss: 5.8609, Train Accuracy: 0.0858\n",
      "Train Precision (micro): 0.0858, Train Precision (macro): 0.0070\n",
      "Train Recall (micro): 0.0858, Train Recall (macro): 0.0120\n",
      "Train F1 (micro): 0.0858, Train F1 (macro): 0.0067\n",
      "\n",
      "Val Loss: 5.8636, Val Accuracy: 0.0825\n",
      "Val Precision (micro): 0.0825, Val Precision (macro): 0.0080\n",
      "Val Recall (micro): 0.0825, Val Recall (macro): 0.0158\n",
      "Val F1 (micro): 0.0825, Val F1 (macro): 0.0086\n",
      "--------------------------------------------------------------------------------\n"
     ]
    },
    {
     "name": "stderr",
     "output_type": "stream",
     "text": [
      " 56%|█████▋    | 56299/100000 [33:02<15:34, 46.75it/s]  "
     ]
    },
    {
     "name": "stdout",
     "output_type": "stream",
     "text": [
      "Epoch [56300/100000]\n",
      "Train Loss: 5.8565, Train Accuracy: 0.0798\n",
      "Train Precision (micro): 0.0798, Train Precision (macro): 0.0052\n",
      "Train Recall (micro): 0.0798, Train Recall (macro): 0.0094\n",
      "Train F1 (micro): 0.0798, Train F1 (macro): 0.0049\n",
      "\n",
      "Val Loss: 5.8703, Val Accuracy: 0.0828\n",
      "Val Precision (micro): 0.0828, Val Precision (macro): 0.0075\n",
      "Val Recall (micro): 0.0828, Val Recall (macro): 0.0163\n",
      "Val F1 (micro): 0.0828, Val F1 (macro): 0.0088\n",
      "--------------------------------------------------------------------------------\n"
     ]
    },
    {
     "name": "stderr",
     "output_type": "stream",
     "text": [
      " 56%|█████▋    | 56394/100000 [33:06<14:41, 49.46it/s]  "
     ]
    },
    {
     "name": "stdout",
     "output_type": "stream",
     "text": [
      "Epoch [56400/100000]\n",
      "Train Loss: 5.9179, Train Accuracy: 0.0878\n",
      "Train Precision (micro): 0.0878, Train Precision (macro): 0.0091\n",
      "Train Recall (micro): 0.0878, Train Recall (macro): 0.0109\n",
      "Train F1 (micro): 0.0878, Train F1 (macro): 0.0074\n",
      "\n",
      "Val Loss: 5.8619, Val Accuracy: 0.0831\n",
      "Val Precision (micro): 0.0831, Val Precision (macro): 0.0082\n",
      "Val Recall (micro): 0.0831, Val Recall (macro): 0.0165\n",
      "Val F1 (micro): 0.0831, Val F1 (macro): 0.0093\n",
      "--------------------------------------------------------------------------------\n"
     ]
    },
    {
     "name": "stderr",
     "output_type": "stream",
     "text": [
      " 56%|█████▋    | 56496/100000 [33:09<14:33, 49.82it/s]  "
     ]
    },
    {
     "name": "stdout",
     "output_type": "stream",
     "text": [
      "Epoch [56500/100000]\n",
      "Train Loss: 5.8843, Train Accuracy: 0.0781\n",
      "Train Precision (micro): 0.0781, Train Precision (macro): 0.0057\n",
      "Train Recall (micro): 0.0781, Train Recall (macro): 0.0083\n",
      "Train F1 (micro): 0.0781, Train F1 (macro): 0.0049\n",
      "\n",
      "Val Loss: 5.8716, Val Accuracy: 0.0809\n",
      "Val Precision (micro): 0.0809, Val Precision (macro): 0.0094\n",
      "Val Recall (micro): 0.0809, Val Recall (macro): 0.0171\n",
      "Val F1 (micro): 0.0809, Val F1 (macro): 0.0103\n",
      "--------------------------------------------------------------------------------\n"
     ]
    },
    {
     "name": "stderr",
     "output_type": "stream",
     "text": [
      " 57%|█████▋    | 56594/100000 [33:12<14:38, 49.38it/s]  "
     ]
    },
    {
     "name": "stdout",
     "output_type": "stream",
     "text": [
      "Epoch [56600/100000]\n",
      "Train Loss: 5.8709, Train Accuracy: 0.0813\n",
      "Train Precision (micro): 0.0813, Train Precision (macro): 0.0053\n",
      "Train Recall (micro): 0.0813, Train Recall (macro): 0.0105\n",
      "Train F1 (micro): 0.0813, Train F1 (macro): 0.0056\n",
      "\n",
      "Val Loss: 5.8649, Val Accuracy: 0.0797\n",
      "Val Precision (micro): 0.0797, Val Precision (macro): 0.0093\n",
      "Val Recall (micro): 0.0797, Val Recall (macro): 0.0174\n",
      "Val F1 (micro): 0.0797, Val F1 (macro): 0.0104\n",
      "--------------------------------------------------------------------------------\n"
     ]
    },
    {
     "name": "stderr",
     "output_type": "stream",
     "text": [
      " 57%|█████▋    | 56699/100000 [33:16<14:29, 49.82it/s]  "
     ]
    },
    {
     "name": "stdout",
     "output_type": "stream",
     "text": [
      "Epoch [56700/100000]\n",
      "Train Loss: 5.8979, Train Accuracy: 0.0809\n",
      "Train Precision (micro): 0.0809, Train Precision (macro): 0.0063\n",
      "Train Recall (micro): 0.0809, Train Recall (macro): 0.0101\n",
      "Train F1 (micro): 0.0809, Train F1 (macro): 0.0060\n",
      "\n",
      "Val Loss: 5.9063, Val Accuracy: 0.0778\n",
      "Val Precision (micro): 0.0778, Val Precision (macro): 0.0081\n",
      "Val Recall (micro): 0.0778, Val Recall (macro): 0.0162\n",
      "Val F1 (micro): 0.0778, Val F1 (macro): 0.0093\n",
      "--------------------------------------------------------------------------------\n"
     ]
    },
    {
     "name": "stderr",
     "output_type": "stream",
     "text": [
      " 57%|█████▋    | 56796/100000 [33:20<15:36, 46.11it/s]  "
     ]
    },
    {
     "name": "stdout",
     "output_type": "stream",
     "text": [
      "Epoch [56800/100000]\n",
      "Train Loss: 5.8572, Train Accuracy: 0.0814\n",
      "Train Precision (micro): 0.0814, Train Precision (macro): 0.0093\n",
      "Train Recall (micro): 0.0814, Train Recall (macro): 0.0126\n",
      "Train F1 (micro): 0.0814, Train F1 (macro): 0.0079\n",
      "\n",
      "Val Loss: 5.8730, Val Accuracy: 0.0772\n",
      "Val Precision (micro): 0.0772, Val Precision (macro): 0.0077\n",
      "Val Recall (micro): 0.0772, Val Recall (macro): 0.0166\n",
      "Val F1 (micro): 0.0772, Val F1 (macro): 0.0090\n",
      "--------------------------------------------------------------------------------\n"
     ]
    },
    {
     "name": "stderr",
     "output_type": "stream",
     "text": [
      " 57%|█████▋    | 56898/100000 [33:24<14:22, 50.00it/s]  "
     ]
    },
    {
     "name": "stdout",
     "output_type": "stream",
     "text": [
      "Epoch [56900/100000]\n",
      "Train Loss: 5.8873, Train Accuracy: 0.0805\n",
      "Train Precision (micro): 0.0805, Train Precision (macro): 0.0057\n",
      "Train Recall (micro): 0.0805, Train Recall (macro): 0.0115\n",
      "Train F1 (micro): 0.0805, Train F1 (macro): 0.0064\n",
      "\n",
      "Val Loss: 5.8672, Val Accuracy: 0.0813\n",
      "Val Precision (micro): 0.0813, Val Precision (macro): 0.0092\n",
      "Val Recall (micro): 0.0813, Val Recall (macro): 0.0160\n",
      "Val F1 (micro): 0.0813, Val F1 (macro): 0.0097\n",
      "--------------------------------------------------------------------------------\n"
     ]
    },
    {
     "name": "stderr",
     "output_type": "stream",
     "text": [
      " 57%|█████▋    | 56998/100000 [33:27<15:16, 46.93it/s]"
     ]
    },
    {
     "name": "stdout",
     "output_type": "stream",
     "text": [
      "Epoch [57000/100000]\n",
      "Train Loss: 5.8711, Train Accuracy: 0.0778\n",
      "Train Precision (micro): 0.0778, Train Precision (macro): 0.0079\n",
      "Train Recall (micro): 0.0778, Train Recall (macro): 0.0103\n",
      "Train F1 (micro): 0.0778, Train F1 (macro): 0.0059\n",
      "\n",
      "Val Loss: 5.8760, Val Accuracy: 0.0784\n",
      "Val Precision (micro): 0.0784, Val Precision (macro): 0.0082\n",
      "Val Recall (micro): 0.0784, Val Recall (macro): 0.0166\n",
      "Val F1 (micro): 0.0784, Val F1 (macro): 0.0095\n",
      "--------------------------------------------------------------------------------\n"
     ]
    },
    {
     "name": "stderr",
     "output_type": "stream",
     "text": [
      " 57%|█████▋    | 57097/100000 [33:31<15:32, 46.00it/s]  "
     ]
    },
    {
     "name": "stdout",
     "output_type": "stream",
     "text": [
      "Epoch [57100/100000]\n",
      "Train Loss: 5.9062, Train Accuracy: 0.0794\n",
      "Train Precision (micro): 0.0794, Train Precision (macro): 0.0071\n",
      "Train Recall (micro): 0.0794, Train Recall (macro): 0.0117\n",
      "Train F1 (micro): 0.0794, Train F1 (macro): 0.0067\n",
      "\n",
      "Val Loss: 5.8744, Val Accuracy: 0.0791\n",
      "Val Precision (micro): 0.0791, Val Precision (macro): 0.0071\n",
      "Val Recall (micro): 0.0791, Val Recall (macro): 0.0164\n",
      "Val F1 (micro): 0.0791, Val F1 (macro): 0.0087\n",
      "--------------------------------------------------------------------------------\n"
     ]
    },
    {
     "name": "stderr",
     "output_type": "stream",
     "text": [
      " 57%|█████▋    | 57197/100000 [33:35<16:27, 43.34it/s]  "
     ]
    },
    {
     "name": "stdout",
     "output_type": "stream",
     "text": [
      "Epoch [57200/100000]\n",
      "Train Loss: 5.8810, Train Accuracy: 0.0838\n",
      "Train Precision (micro): 0.0838, Train Precision (macro): 0.0060\n",
      "Train Recall (micro): 0.0838, Train Recall (macro): 0.0112\n",
      "Train F1 (micro): 0.0838, Train F1 (macro): 0.0065\n",
      "\n",
      "Val Loss: 5.8791, Val Accuracy: 0.0800\n",
      "Val Precision (micro): 0.0800, Val Precision (macro): 0.0093\n",
      "Val Recall (micro): 0.0800, Val Recall (macro): 0.0168\n",
      "Val F1 (micro): 0.0800, Val F1 (macro): 0.0098\n",
      "--------------------------------------------------------------------------------\n"
     ]
    },
    {
     "name": "stderr",
     "output_type": "stream",
     "text": [
      " 57%|█████▋    | 57297/100000 [33:38<15:41, 45.35it/s]  "
     ]
    },
    {
     "name": "stdout",
     "output_type": "stream",
     "text": [
      "Epoch [57300/100000]\n",
      "Train Loss: 5.8845, Train Accuracy: 0.0855\n",
      "Train Precision (micro): 0.0855, Train Precision (macro): 0.0067\n",
      "Train Recall (micro): 0.0855, Train Recall (macro): 0.0126\n",
      "Train F1 (micro): 0.0855, Train F1 (macro): 0.0074\n",
      "\n",
      "Val Loss: 5.8676, Val Accuracy: 0.0775\n",
      "Val Precision (micro): 0.0775, Val Precision (macro): 0.0089\n",
      "Val Recall (micro): 0.0775, Val Recall (macro): 0.0161\n",
      "Val F1 (micro): 0.0775, Val F1 (macro): 0.0092\n",
      "--------------------------------------------------------------------------------\n"
     ]
    },
    {
     "name": "stderr",
     "output_type": "stream",
     "text": [
      " 57%|█████▋    | 57396/100000 [33:42<15:46, 44.99it/s]  "
     ]
    },
    {
     "name": "stdout",
     "output_type": "stream",
     "text": [
      "Epoch [57400/100000]\n",
      "Train Loss: 5.8594, Train Accuracy: 0.0806\n",
      "Train Precision (micro): 0.0806, Train Precision (macro): 0.0052\n",
      "Train Recall (micro): 0.0806, Train Recall (macro): 0.0090\n",
      "Train F1 (micro): 0.0806, Train F1 (macro): 0.0053\n",
      "\n",
      "Val Loss: 5.8652, Val Accuracy: 0.0797\n",
      "Val Precision (micro): 0.0797, Val Precision (macro): 0.0073\n",
      "Val Recall (micro): 0.0797, Val Recall (macro): 0.0164\n",
      "Val F1 (micro): 0.0797, Val F1 (macro): 0.0086\n",
      "--------------------------------------------------------------------------------\n"
     ]
    },
    {
     "name": "stderr",
     "output_type": "stream",
     "text": [
      " 57%|█████▋    | 57499/100000 [33:46<14:47, 47.88it/s]  "
     ]
    },
    {
     "name": "stdout",
     "output_type": "stream",
     "text": [
      "Epoch [57500/100000]\n",
      "Train Loss: 5.8194, Train Accuracy: 0.0855\n",
      "Train Precision (micro): 0.0855, Train Precision (macro): 0.0066\n",
      "Train Recall (micro): 0.0855, Train Recall (macro): 0.0105\n",
      "Train F1 (micro): 0.0855, Train F1 (macro): 0.0065\n",
      "\n",
      "Val Loss: 5.8900, Val Accuracy: 0.0769\n",
      "Val Precision (micro): 0.0769, Val Precision (macro): 0.0078\n",
      "Val Recall (micro): 0.0769, Val Recall (macro): 0.0154\n",
      "Val F1 (micro): 0.0769, Val F1 (macro): 0.0081\n",
      "--------------------------------------------------------------------------------\n"
     ]
    },
    {
     "name": "stderr",
     "output_type": "stream",
     "text": [
      " 58%|█████▊    | 57599/100000 [33:49<14:11, 49.82it/s]  "
     ]
    },
    {
     "name": "stdout",
     "output_type": "stream",
     "text": [
      "Epoch [57600/100000]\n",
      "Train Loss: 5.9479, Train Accuracy: 0.0770\n",
      "Train Precision (micro): 0.0770, Train Precision (macro): 0.0067\n",
      "Train Recall (micro): 0.0770, Train Recall (macro): 0.0119\n",
      "Train F1 (micro): 0.0770, Train F1 (macro): 0.0067\n",
      "\n",
      "Val Loss: 5.8896, Val Accuracy: 0.0797\n",
      "Val Precision (micro): 0.0797, Val Precision (macro): 0.0077\n",
      "Val Recall (micro): 0.0797, Val Recall (macro): 0.0157\n",
      "Val F1 (micro): 0.0797, Val F1 (macro): 0.0084\n",
      "--------------------------------------------------------------------------------\n"
     ]
    },
    {
     "name": "stderr",
     "output_type": "stream",
     "text": [
      " 58%|█████▊    | 57699/100000 [33:53<15:03, 46.82it/s]  "
     ]
    },
    {
     "name": "stdout",
     "output_type": "stream",
     "text": [
      "Epoch [57700/100000]\n",
      "Train Loss: 5.9013, Train Accuracy: 0.0766\n",
      "Train Precision (micro): 0.0766, Train Precision (macro): 0.0064\n",
      "Train Recall (micro): 0.0766, Train Recall (macro): 0.0101\n",
      "Train F1 (micro): 0.0766, Train F1 (macro): 0.0063\n",
      "\n",
      "Val Loss: 5.8869, Val Accuracy: 0.0819\n",
      "Val Precision (micro): 0.0819, Val Precision (macro): 0.0088\n",
      "Val Recall (micro): 0.0819, Val Recall (macro): 0.0165\n",
      "Val F1 (micro): 0.0819, Val F1 (macro): 0.0093\n",
      "--------------------------------------------------------------------------------\n"
     ]
    },
    {
     "name": "stderr",
     "output_type": "stream",
     "text": [
      " 58%|█████▊    | 57798/100000 [33:57<14:11, 49.55it/s]  "
     ]
    },
    {
     "name": "stdout",
     "output_type": "stream",
     "text": [
      "Epoch [57800/100000]\n",
      "Train Loss: 5.8549, Train Accuracy: 0.0833\n",
      "Train Precision (micro): 0.0833, Train Precision (macro): 0.0066\n",
      "Train Recall (micro): 0.0833, Train Recall (macro): 0.0107\n",
      "Train F1 (micro): 0.0833, Train F1 (macro): 0.0067\n",
      "\n",
      "Val Loss: 5.8946, Val Accuracy: 0.0791\n",
      "Val Precision (micro): 0.0791, Val Precision (macro): 0.0071\n",
      "Val Recall (micro): 0.0791, Val Recall (macro): 0.0154\n",
      "Val F1 (micro): 0.0791, Val F1 (macro): 0.0080\n",
      "--------------------------------------------------------------------------------\n"
     ]
    },
    {
     "name": "stderr",
     "output_type": "stream",
     "text": [
      " 58%|█████▊    | 57896/100000 [34:01<14:42, 47.72it/s]  "
     ]
    },
    {
     "name": "stdout",
     "output_type": "stream",
     "text": [
      "Epoch [57900/100000]\n",
      "Train Loss: 5.9093, Train Accuracy: 0.0762\n",
      "Train Precision (micro): 0.0762, Train Precision (macro): 0.0054\n",
      "Train Recall (micro): 0.0762, Train Recall (macro): 0.0097\n",
      "Train F1 (micro): 0.0762, Train F1 (macro): 0.0053\n",
      "\n",
      "Val Loss: 5.8657, Val Accuracy: 0.0791\n",
      "Val Precision (micro): 0.0791, Val Precision (macro): 0.0076\n",
      "Val Recall (micro): 0.0791, Val Recall (macro): 0.0167\n",
      "Val F1 (micro): 0.0791, Val F1 (macro): 0.0089\n",
      "--------------------------------------------------------------------------------\n"
     ]
    },
    {
     "name": "stderr",
     "output_type": "stream",
     "text": [
      " 58%|█████▊    | 57999/100000 [34:05<14:14, 49.14it/s]  "
     ]
    },
    {
     "name": "stdout",
     "output_type": "stream",
     "text": [
      "Epoch [58000/100000]\n",
      "Train Loss: 5.9064, Train Accuracy: 0.0777\n",
      "Train Precision (micro): 0.0777, Train Precision (macro): 0.0070\n",
      "Train Recall (micro): 0.0777, Train Recall (macro): 0.0101\n",
      "Train F1 (micro): 0.0777, Train F1 (macro): 0.0055\n",
      "\n",
      "Val Loss: 5.8739, Val Accuracy: 0.0794\n",
      "Val Precision (micro): 0.0794, Val Precision (macro): 0.0080\n",
      "Val Recall (micro): 0.0794, Val Recall (macro): 0.0155\n",
      "Val F1 (micro): 0.0794, Val F1 (macro): 0.0089\n",
      "--------------------------------------------------------------------------------\n"
     ]
    },
    {
     "name": "stderr",
     "output_type": "stream",
     "text": [
      " 58%|█████▊    | 58096/100000 [34:08<14:13, 49.08it/s]  "
     ]
    },
    {
     "name": "stdout",
     "output_type": "stream",
     "text": [
      "Epoch [58100/100000]\n",
      "Train Loss: 5.8630, Train Accuracy: 0.0816\n",
      "Train Precision (micro): 0.0816, Train Precision (macro): 0.0038\n",
      "Train Recall (micro): 0.0816, Train Recall (macro): 0.0090\n",
      "Train F1 (micro): 0.0816, Train F1 (macro): 0.0047\n",
      "\n",
      "Val Loss: 5.8693, Val Accuracy: 0.0747\n",
      "Val Precision (micro): 0.0747, Val Precision (macro): 0.0065\n",
      "Val Recall (micro): 0.0747, Val Recall (macro): 0.0145\n",
      "Val F1 (micro): 0.0747, Val F1 (macro): 0.0075\n",
      "--------------------------------------------------------------------------------\n"
     ]
    },
    {
     "name": "stderr",
     "output_type": "stream",
     "text": [
      " 58%|█████▊    | 58194/100000 [34:12<17:48, 39.13it/s]"
     ]
    },
    {
     "name": "stdout",
     "output_type": "stream",
     "text": [
      "Epoch [58200/100000]\n",
      "Train Loss: 5.8683, Train Accuracy: 0.0823\n",
      "Train Precision (micro): 0.0823, Train Precision (macro): 0.0060\n",
      "Train Recall (micro): 0.0823, Train Recall (macro): 0.0098\n",
      "Train F1 (micro): 0.0823, Train F1 (macro): 0.0057\n",
      "\n",
      "Val Loss: 5.8866, Val Accuracy: 0.0816\n",
      "Val Precision (micro): 0.0816, Val Precision (macro): 0.0074\n",
      "Val Recall (micro): 0.0816, Val Recall (macro): 0.0163\n",
      "Val F1 (micro): 0.0816, Val F1 (macro): 0.0088\n",
      "--------------------------------------------------------------------------------\n"
     ]
    },
    {
     "name": "stderr",
     "output_type": "stream",
     "text": [
      " 58%|█████▊    | 58297/100000 [34:15<14:44, 47.15it/s]  "
     ]
    },
    {
     "name": "stdout",
     "output_type": "stream",
     "text": [
      "Epoch [58300/100000]\n",
      "Train Loss: 5.8921, Train Accuracy: 0.0806\n",
      "Train Precision (micro): 0.0806, Train Precision (macro): 0.0071\n",
      "Train Recall (micro): 0.0806, Train Recall (macro): 0.0111\n",
      "Train F1 (micro): 0.0806, Train F1 (macro): 0.0069\n",
      "\n",
      "Val Loss: 5.8800, Val Accuracy: 0.0797\n",
      "Val Precision (micro): 0.0797, Val Precision (macro): 0.0085\n",
      "Val Recall (micro): 0.0797, Val Recall (macro): 0.0161\n",
      "Val F1 (micro): 0.0797, Val F1 (macro): 0.0089\n",
      "--------------------------------------------------------------------------------\n"
     ]
    },
    {
     "name": "stderr",
     "output_type": "stream",
     "text": [
      " 58%|█████▊    | 58396/100000 [34:18<14:20, 48.37it/s]  "
     ]
    },
    {
     "name": "stdout",
     "output_type": "stream",
     "text": [
      "Epoch [58400/100000]\n",
      "Train Loss: 5.8702, Train Accuracy: 0.0809\n",
      "Train Precision (micro): 0.0809, Train Precision (macro): 0.0069\n",
      "Train Recall (micro): 0.0809, Train Recall (macro): 0.0095\n",
      "Train F1 (micro): 0.0809, Train F1 (macro): 0.0058\n",
      "\n",
      "Val Loss: 5.8721, Val Accuracy: 0.0813\n",
      "Val Precision (micro): 0.0813, Val Precision (macro): 0.0088\n",
      "Val Recall (micro): 0.0813, Val Recall (macro): 0.0177\n",
      "Val F1 (micro): 0.0813, Val F1 (macro): 0.0101\n",
      "--------------------------------------------------------------------------------\n"
     ]
    },
    {
     "name": "stderr",
     "output_type": "stream",
     "text": [
      " 58%|█████▊    | 58494/100000 [34:22<15:09, 45.62it/s]  "
     ]
    },
    {
     "name": "stdout",
     "output_type": "stream",
     "text": [
      "Epoch [58500/100000]\n",
      "Train Loss: 5.8876, Train Accuracy: 0.0797\n",
      "Train Precision (micro): 0.0797, Train Precision (macro): 0.0049\n",
      "Train Recall (micro): 0.0797, Train Recall (macro): 0.0114\n",
      "Train F1 (micro): 0.0797, Train F1 (macro): 0.0059\n",
      "\n",
      "Val Loss: 5.8652, Val Accuracy: 0.0806\n",
      "Val Precision (micro): 0.0806, Val Precision (macro): 0.0085\n",
      "Val Recall (micro): 0.0806, Val Recall (macro): 0.0174\n",
      "Val F1 (micro): 0.0806, Val F1 (macro): 0.0100\n",
      "--------------------------------------------------------------------------------\n"
     ]
    },
    {
     "name": "stderr",
     "output_type": "stream",
     "text": [
      " 59%|█████▊    | 58597/100000 [34:25<13:47, 50.04it/s]  "
     ]
    },
    {
     "name": "stdout",
     "output_type": "stream",
     "text": [
      "Epoch [58600/100000]\n",
      "Train Loss: 5.8711, Train Accuracy: 0.0839\n",
      "Train Precision (micro): 0.0839, Train Precision (macro): 0.0058\n",
      "Train Recall (micro): 0.0839, Train Recall (macro): 0.0103\n",
      "Train F1 (micro): 0.0839, Train F1 (macro): 0.0058\n",
      "\n",
      "Val Loss: 5.8770, Val Accuracy: 0.0816\n",
      "Val Precision (micro): 0.0816, Val Precision (macro): 0.0096\n",
      "Val Recall (micro): 0.0816, Val Recall (macro): 0.0179\n",
      "Val F1 (micro): 0.0816, Val F1 (macro): 0.0104\n",
      "--------------------------------------------------------------------------------\n"
     ]
    },
    {
     "name": "stderr",
     "output_type": "stream",
     "text": [
      " 59%|█████▊    | 58697/100000 [34:29<16:00, 43.02it/s]"
     ]
    },
    {
     "name": "stdout",
     "output_type": "stream",
     "text": [
      "Epoch [58700/100000]\n",
      "Train Loss: 5.8799, Train Accuracy: 0.0813\n",
      "Train Precision (micro): 0.0813, Train Precision (macro): 0.0064\n",
      "Train Recall (micro): 0.0813, Train Recall (macro): 0.0104\n",
      "Train F1 (micro): 0.0813, Train F1 (macro): 0.0060\n",
      "\n",
      "Val Loss: 5.8753, Val Accuracy: 0.0778\n",
      "Val Precision (micro): 0.0778, Val Precision (macro): 0.0078\n",
      "Val Recall (micro): 0.0778, Val Recall (macro): 0.0158\n",
      "Val F1 (micro): 0.0778, Val F1 (macro): 0.0088\n",
      "--------------------------------------------------------------------------------\n"
     ]
    },
    {
     "name": "stderr",
     "output_type": "stream",
     "text": [
      " 59%|█████▉    | 58796/100000 [34:32<15:05, 45.49it/s]  "
     ]
    },
    {
     "name": "stdout",
     "output_type": "stream",
     "text": [
      "Epoch [58800/100000]\n",
      "Train Loss: 5.8912, Train Accuracy: 0.0791\n",
      "Train Precision (micro): 0.0791, Train Precision (macro): 0.0065\n",
      "Train Recall (micro): 0.0791, Train Recall (macro): 0.0102\n",
      "Train F1 (micro): 0.0791, Train F1 (macro): 0.0060\n",
      "\n",
      "Val Loss: 5.8787, Val Accuracy: 0.0797\n",
      "Val Precision (micro): 0.0797, Val Precision (macro): 0.0070\n",
      "Val Recall (micro): 0.0797, Val Recall (macro): 0.0161\n",
      "Val F1 (micro): 0.0797, Val F1 (macro): 0.0082\n",
      "--------------------------------------------------------------------------------\n"
     ]
    },
    {
     "name": "stderr",
     "output_type": "stream",
     "text": [
      " 59%|█████▉    | 58898/100000 [34:36<13:51, 49.42it/s]  "
     ]
    },
    {
     "name": "stdout",
     "output_type": "stream",
     "text": [
      "Epoch [58900/100000]\n",
      "Train Loss: 5.8761, Train Accuracy: 0.0800\n",
      "Train Precision (micro): 0.0800, Train Precision (macro): 0.0067\n",
      "Train Recall (micro): 0.0800, Train Recall (macro): 0.0118\n",
      "Train F1 (micro): 0.0800, Train F1 (macro): 0.0069\n",
      "\n",
      "Val Loss: 5.8707, Val Accuracy: 0.0800\n",
      "Val Precision (micro): 0.0800, Val Precision (macro): 0.0082\n",
      "Val Recall (micro): 0.0800, Val Recall (macro): 0.0163\n",
      "Val F1 (micro): 0.0800, Val F1 (macro): 0.0091\n",
      "--------------------------------------------------------------------------------\n"
     ]
    },
    {
     "name": "stderr",
     "output_type": "stream",
     "text": [
      " 59%|█████▉    | 58995/100000 [34:39<14:34, 46.90it/s]  "
     ]
    },
    {
     "name": "stdout",
     "output_type": "stream",
     "text": [
      "Epoch [59000/100000]\n",
      "Train Loss: 5.8890, Train Accuracy: 0.0853\n",
      "Train Precision (micro): 0.0853, Train Precision (macro): 0.0095\n",
      "Train Recall (micro): 0.0853, Train Recall (macro): 0.0127\n",
      "Train F1 (micro): 0.0853, Train F1 (macro): 0.0081\n",
      "\n",
      "Val Loss: 5.8745, Val Accuracy: 0.0819\n",
      "Val Precision (micro): 0.0819, Val Precision (macro): 0.0094\n",
      "Val Recall (micro): 0.0819, Val Recall (macro): 0.0179\n",
      "Val F1 (micro): 0.0819, Val F1 (macro): 0.0103\n",
      "--------------------------------------------------------------------------------\n"
     ]
    },
    {
     "name": "stderr",
     "output_type": "stream",
     "text": [
      " 59%|█████▉    | 59099/100000 [34:43<15:39, 43.54it/s]  "
     ]
    },
    {
     "name": "stdout",
     "output_type": "stream",
     "text": [
      "Epoch [59100/100000]\n",
      "Train Loss: 5.8742, Train Accuracy: 0.0813\n",
      "Train Precision (micro): 0.0813, Train Precision (macro): 0.0068\n",
      "Train Recall (micro): 0.0813, Train Recall (macro): 0.0106\n",
      "Train F1 (micro): 0.0813, Train F1 (macro): 0.0067\n",
      "\n",
      "Val Loss: 5.8724, Val Accuracy: 0.0797\n",
      "Val Precision (micro): 0.0797, Val Precision (macro): 0.0081\n",
      "Val Recall (micro): 0.0797, Val Recall (macro): 0.0163\n",
      "Val F1 (micro): 0.0797, Val F1 (macro): 0.0092\n",
      "--------------------------------------------------------------------------------\n"
     ]
    },
    {
     "name": "stderr",
     "output_type": "stream",
     "text": [
      " 59%|█████▉    | 59197/100000 [34:46<17:40, 38.48it/s]  "
     ]
    },
    {
     "name": "stdout",
     "output_type": "stream",
     "text": [
      "Epoch [59200/100000]\n",
      "Train Loss: 5.8668, Train Accuracy: 0.0797\n",
      "Train Precision (micro): 0.0797, Train Precision (macro): 0.0048\n",
      "Train Recall (micro): 0.0797, Train Recall (macro): 0.0091\n",
      "Train F1 (micro): 0.0797, Train F1 (macro): 0.0050\n",
      "\n",
      "Val Loss: 5.8793, Val Accuracy: 0.0803\n",
      "Val Precision (micro): 0.0803, Val Precision (macro): 0.0076\n",
      "Val Recall (micro): 0.0803, Val Recall (macro): 0.0162\n",
      "Val F1 (micro): 0.0803, Val F1 (macro): 0.0089\n",
      "--------------------------------------------------------------------------------\n"
     ]
    },
    {
     "name": "stderr",
     "output_type": "stream",
     "text": [
      " 59%|█████▉    | 59297/100000 [34:50<14:10, 47.85it/s]  "
     ]
    },
    {
     "name": "stdout",
     "output_type": "stream",
     "text": [
      "Epoch [59300/100000]\n",
      "Train Loss: 5.9400, Train Accuracy: 0.0728\n",
      "Train Precision (micro): 0.0728, Train Precision (macro): 0.0066\n",
      "Train Recall (micro): 0.0728, Train Recall (macro): 0.0097\n",
      "Train F1 (micro): 0.0728, Train F1 (macro): 0.0060\n",
      "\n",
      "Val Loss: 5.8729, Val Accuracy: 0.0816\n",
      "Val Precision (micro): 0.0816, Val Precision (macro): 0.0090\n",
      "Val Recall (micro): 0.0816, Val Recall (macro): 0.0171\n",
      "Val F1 (micro): 0.0816, Val F1 (macro): 0.0100\n",
      "--------------------------------------------------------------------------------\n"
     ]
    },
    {
     "name": "stderr",
     "output_type": "stream",
     "text": [
      " 59%|█████▉    | 59396/100000 [34:53<14:14, 47.53it/s]  "
     ]
    },
    {
     "name": "stdout",
     "output_type": "stream",
     "text": [
      "Epoch [59400/100000]\n",
      "Train Loss: 5.9041, Train Accuracy: 0.0830\n",
      "Train Precision (micro): 0.0830, Train Precision (macro): 0.0069\n",
      "Train Recall (micro): 0.0830, Train Recall (macro): 0.0113\n",
      "Train F1 (micro): 0.0830, Train F1 (macro): 0.0062\n",
      "\n",
      "Val Loss: 5.8705, Val Accuracy: 0.0834\n",
      "Val Precision (micro): 0.0834, Val Precision (macro): 0.0099\n",
      "Val Recall (micro): 0.0834, Val Recall (macro): 0.0178\n",
      "Val F1 (micro): 0.0834, Val F1 (macro): 0.0107\n",
      "--------------------------------------------------------------------------------\n"
     ]
    },
    {
     "name": "stderr",
     "output_type": "stream",
     "text": [
      " 59%|█████▉    | 59495/100000 [34:56<14:33, 46.35it/s]  "
     ]
    },
    {
     "name": "stdout",
     "output_type": "stream",
     "text": [
      "Epoch [59500/100000]\n",
      "Train Loss: 5.9099, Train Accuracy: 0.0772\n",
      "Train Precision (micro): 0.0772, Train Precision (macro): 0.0077\n",
      "Train Recall (micro): 0.0772, Train Recall (macro): 0.0128\n",
      "Train F1 (micro): 0.0772, Train F1 (macro): 0.0078\n",
      "\n",
      "Val Loss: 5.8844, Val Accuracy: 0.0809\n",
      "Val Precision (micro): 0.0809, Val Precision (macro): 0.0085\n",
      "Val Recall (micro): 0.0809, Val Recall (macro): 0.0158\n",
      "Val F1 (micro): 0.0809, Val F1 (macro): 0.0092\n",
      "--------------------------------------------------------------------------------\n"
     ]
    },
    {
     "name": "stderr",
     "output_type": "stream",
     "text": [
      " 60%|█████▉    | 59596/100000 [35:00<13:27, 50.03it/s]  "
     ]
    },
    {
     "name": "stdout",
     "output_type": "stream",
     "text": [
      "Epoch [59600/100000]\n",
      "Train Loss: 5.9043, Train Accuracy: 0.0764\n",
      "Train Precision (micro): 0.0764, Train Precision (macro): 0.0055\n",
      "Train Recall (micro): 0.0764, Train Recall (macro): 0.0104\n",
      "Train F1 (micro): 0.0764, Train F1 (macro): 0.0056\n",
      "\n",
      "Val Loss: 5.8911, Val Accuracy: 0.0816\n",
      "Val Precision (micro): 0.0816, Val Precision (macro): 0.0087\n",
      "Val Recall (micro): 0.0816, Val Recall (macro): 0.0161\n",
      "Val F1 (micro): 0.0816, Val F1 (macro): 0.0093\n",
      "--------------------------------------------------------------------------------\n"
     ]
    },
    {
     "name": "stderr",
     "output_type": "stream",
     "text": [
      " 60%|█████▉    | 59698/100000 [35:03<14:18, 46.96it/s]"
     ]
    },
    {
     "name": "stdout",
     "output_type": "stream",
     "text": [
      "Epoch [59700/100000]\n",
      "Train Loss: 5.8981, Train Accuracy: 0.0816\n",
      "Train Precision (micro): 0.0816, Train Precision (macro): 0.0071\n",
      "Train Recall (micro): 0.0816, Train Recall (macro): 0.0110\n",
      "Train F1 (micro): 0.0816, Train F1 (macro): 0.0070\n",
      "\n",
      "Val Loss: 5.8832, Val Accuracy: 0.0772\n",
      "Val Precision (micro): 0.0772, Val Precision (macro): 0.0079\n",
      "Val Recall (micro): 0.0772, Val Recall (macro): 0.0152\n",
      "Val F1 (micro): 0.0772, Val F1 (macro): 0.0083\n",
      "--------------------------------------------------------------------------------\n"
     ]
    },
    {
     "name": "stderr",
     "output_type": "stream",
     "text": [
      " 60%|█████▉    | 59794/100000 [35:07<13:59, 47.92it/s]  "
     ]
    },
    {
     "name": "stdout",
     "output_type": "stream",
     "text": [
      "Epoch [59800/100000]\n",
      "Train Loss: 5.8532, Train Accuracy: 0.0808\n",
      "Train Precision (micro): 0.0808, Train Precision (macro): 0.0068\n",
      "Train Recall (micro): 0.0808, Train Recall (macro): 0.0113\n",
      "Train F1 (micro): 0.0808, Train F1 (macro): 0.0066\n",
      "\n",
      "Val Loss: 5.8785, Val Accuracy: 0.0816\n",
      "Val Precision (micro): 0.0816, Val Precision (macro): 0.0085\n",
      "Val Recall (micro): 0.0816, Val Recall (macro): 0.0161\n",
      "Val F1 (micro): 0.0816, Val F1 (macro): 0.0092\n",
      "--------------------------------------------------------------------------------\n"
     ]
    },
    {
     "name": "stderr",
     "output_type": "stream",
     "text": [
      " 60%|█████▉    | 59895/100000 [35:10<13:44, 48.65it/s]  "
     ]
    },
    {
     "name": "stdout",
     "output_type": "stream",
     "text": [
      "Epoch [59900/100000]\n",
      "Train Loss: 5.9201, Train Accuracy: 0.0756\n",
      "Train Precision (micro): 0.0756, Train Precision (macro): 0.0064\n",
      "Train Recall (micro): 0.0756, Train Recall (macro): 0.0111\n",
      "Train F1 (micro): 0.0756, Train F1 (macro): 0.0062\n",
      "\n",
      "Val Loss: 5.8715, Val Accuracy: 0.0819\n",
      "Val Precision (micro): 0.0819, Val Precision (macro): 0.0084\n",
      "Val Recall (micro): 0.0819, Val Recall (macro): 0.0157\n",
      "Val F1 (micro): 0.0819, Val F1 (macro): 0.0085\n",
      "--------------------------------------------------------------------------------\n"
     ]
    },
    {
     "name": "stderr",
     "output_type": "stream",
     "text": [
      " 60%|█████▉    | 59995/100000 [35:13<13:18, 50.11it/s]  "
     ]
    },
    {
     "name": "stdout",
     "output_type": "stream",
     "text": [
      "Epoch [60000/100000]\n",
      "Train Loss: 5.8389, Train Accuracy: 0.0838\n",
      "Train Precision (micro): 0.0838, Train Precision (macro): 0.0063\n",
      "Train Recall (micro): 0.0838, Train Recall (macro): 0.0111\n",
      "Train F1 (micro): 0.0838, Train F1 (macro): 0.0066\n",
      "\n",
      "Val Loss: 5.8724, Val Accuracy: 0.0806\n",
      "Val Precision (micro): 0.0806, Val Precision (macro): 0.0068\n",
      "Val Recall (micro): 0.0806, Val Recall (macro): 0.0156\n",
      "Val F1 (micro): 0.0806, Val F1 (macro): 0.0082\n",
      "--------------------------------------------------------------------------------\n"
     ]
    },
    {
     "name": "stderr",
     "output_type": "stream",
     "text": [
      " 60%|██████    | 60099/100000 [35:17<14:23, 46.22it/s]"
     ]
    },
    {
     "name": "stdout",
     "output_type": "stream",
     "text": [
      "Epoch [60100/100000]\n",
      "Train Loss: 5.8798, Train Accuracy: 0.0875\n",
      "Train Precision (micro): 0.0875, Train Precision (macro): 0.0066\n",
      "Train Recall (micro): 0.0875, Train Recall (macro): 0.0105\n",
      "Train F1 (micro): 0.0875, Train F1 (macro): 0.0063\n",
      "\n",
      "Val Loss: 5.8662, Val Accuracy: 0.0822\n",
      "Val Precision (micro): 0.0822, Val Precision (macro): 0.0077\n",
      "Val Recall (micro): 0.0822, Val Recall (macro): 0.0155\n",
      "Val F1 (micro): 0.0822, Val F1 (macro): 0.0084\n",
      "--------------------------------------------------------------------------------\n"
     ]
    },
    {
     "name": "stderr",
     "output_type": "stream",
     "text": [
      " 60%|██████    | 60194/100000 [35:21<21:05, 31.44it/s]  "
     ]
    },
    {
     "name": "stdout",
     "output_type": "stream",
     "text": [
      "Epoch [60200/100000]\n",
      "Train Loss: 5.8985, Train Accuracy: 0.0775\n",
      "Train Precision (micro): 0.0775, Train Precision (macro): 0.0056\n",
      "Train Recall (micro): 0.0775, Train Recall (macro): 0.0099\n",
      "Train F1 (micro): 0.0775, Train F1 (macro): 0.0054\n",
      "\n",
      "Val Loss: 5.9130, Val Accuracy: 0.0800\n",
      "Val Precision (micro): 0.0800, Val Precision (macro): 0.0082\n",
      "Val Recall (micro): 0.0800, Val Recall (macro): 0.0168\n",
      "Val F1 (micro): 0.0800, Val F1 (macro): 0.0090\n",
      "--------------------------------------------------------------------------------\n"
     ]
    },
    {
     "name": "stderr",
     "output_type": "stream",
     "text": [
      " 60%|██████    | 60298/100000 [35:24<13:18, 49.70it/s]  "
     ]
    },
    {
     "name": "stdout",
     "output_type": "stream",
     "text": [
      "Epoch [60300/100000]\n",
      "Train Loss: 5.8893, Train Accuracy: 0.0800\n",
      "Train Precision (micro): 0.0800, Train Precision (macro): 0.0067\n",
      "Train Recall (micro): 0.0800, Train Recall (macro): 0.0110\n",
      "Train F1 (micro): 0.0800, Train F1 (macro): 0.0065\n",
      "\n",
      "Val Loss: 5.8729, Val Accuracy: 0.0816\n",
      "Val Precision (micro): 0.0816, Val Precision (macro): 0.0106\n",
      "Val Recall (micro): 0.0816, Val Recall (macro): 0.0170\n",
      "Val F1 (micro): 0.0816, Val F1 (macro): 0.0098\n",
      "--------------------------------------------------------------------------------\n"
     ]
    },
    {
     "name": "stderr",
     "output_type": "stream",
     "text": [
      " 60%|██████    | 60399/100000 [35:28<15:08, 43.60it/s]  "
     ]
    },
    {
     "name": "stdout",
     "output_type": "stream",
     "text": [
      "Epoch [60400/100000]\n",
      "Train Loss: 5.8806, Train Accuracy: 0.0773\n",
      "Train Precision (micro): 0.0773, Train Precision (macro): 0.0050\n",
      "Train Recall (micro): 0.0773, Train Recall (macro): 0.0098\n",
      "Train F1 (micro): 0.0773, Train F1 (macro): 0.0051\n",
      "\n",
      "Val Loss: 5.8831, Val Accuracy: 0.0841\n",
      "Val Precision (micro): 0.0841, Val Precision (macro): 0.0087\n",
      "Val Recall (micro): 0.0841, Val Recall (macro): 0.0177\n",
      "Val F1 (micro): 0.0841, Val F1 (macro): 0.0099\n",
      "--------------------------------------------------------------------------------\n"
     ]
    },
    {
     "name": "stderr",
     "output_type": "stream",
     "text": [
      " 60%|██████    | 60499/100000 [35:31<14:25, 45.63it/s]  "
     ]
    },
    {
     "name": "stdout",
     "output_type": "stream",
     "text": [
      "Epoch [60500/100000]\n",
      "Train Loss: 5.9084, Train Accuracy: 0.0817\n",
      "Train Precision (micro): 0.0817, Train Precision (macro): 0.0063\n",
      "Train Recall (micro): 0.0817, Train Recall (macro): 0.0114\n",
      "Train F1 (micro): 0.0817, Train F1 (macro): 0.0066\n",
      "\n",
      "Val Loss: 5.8715, Val Accuracy: 0.0794\n",
      "Val Precision (micro): 0.0794, Val Precision (macro): 0.0090\n",
      "Val Recall (micro): 0.0794, Val Recall (macro): 0.0165\n",
      "Val F1 (micro): 0.0794, Val F1 (macro): 0.0094\n",
      "--------------------------------------------------------------------------------\n"
     ]
    },
    {
     "name": "stderr",
     "output_type": "stream",
     "text": [
      " 61%|██████    | 60594/100000 [35:34<13:18, 49.38it/s]  "
     ]
    },
    {
     "name": "stdout",
     "output_type": "stream",
     "text": [
      "Epoch [60600/100000]\n",
      "Train Loss: 5.8575, Train Accuracy: 0.0813\n",
      "Train Precision (micro): 0.0813, Train Precision (macro): 0.0063\n",
      "Train Recall (micro): 0.0813, Train Recall (macro): 0.0110\n",
      "Train F1 (micro): 0.0813, Train F1 (macro): 0.0063\n",
      "\n",
      "Val Loss: 5.8711, Val Accuracy: 0.0841\n",
      "Val Precision (micro): 0.0841, Val Precision (macro): 0.0082\n",
      "Val Recall (micro): 0.0841, Val Recall (macro): 0.0170\n",
      "Val F1 (micro): 0.0841, Val F1 (macro): 0.0093\n",
      "--------------------------------------------------------------------------------\n"
     ]
    },
    {
     "name": "stderr",
     "output_type": "stream",
     "text": [
      " 61%|██████    | 60698/100000 [35:38<13:11, 49.68it/s]  "
     ]
    },
    {
     "name": "stdout",
     "output_type": "stream",
     "text": [
      "Epoch [60700/100000]\n",
      "Train Loss: 5.8649, Train Accuracy: 0.0842\n",
      "Train Precision (micro): 0.0842, Train Precision (macro): 0.0071\n",
      "Train Recall (micro): 0.0842, Train Recall (macro): 0.0115\n",
      "Train F1 (micro): 0.0842, Train F1 (macro): 0.0071\n",
      "\n",
      "Val Loss: 5.8657, Val Accuracy: 0.0813\n",
      "Val Precision (micro): 0.0813, Val Precision (macro): 0.0081\n",
      "Val Recall (micro): 0.0813, Val Recall (macro): 0.0169\n",
      "Val F1 (micro): 0.0813, Val F1 (macro): 0.0095\n",
      "--------------------------------------------------------------------------------\n"
     ]
    },
    {
     "name": "stderr",
     "output_type": "stream",
     "text": [
      " 61%|██████    | 60797/100000 [35:42<14:31, 44.98it/s]  "
     ]
    },
    {
     "name": "stdout",
     "output_type": "stream",
     "text": [
      "Epoch [60800/100000]\n",
      "Train Loss: 5.8356, Train Accuracy: 0.0847\n",
      "Train Precision (micro): 0.0847, Train Precision (macro): 0.0062\n",
      "Train Recall (micro): 0.0847, Train Recall (macro): 0.0111\n",
      "Train F1 (micro): 0.0847, Train F1 (macro): 0.0066\n",
      "\n",
      "Val Loss: 5.8668, Val Accuracy: 0.0800\n",
      "Val Precision (micro): 0.0800, Val Precision (macro): 0.0092\n",
      "Val Recall (micro): 0.0800, Val Recall (macro): 0.0163\n",
      "Val F1 (micro): 0.0800, Val F1 (macro): 0.0096\n",
      "--------------------------------------------------------------------------------\n"
     ]
    },
    {
     "name": "stderr",
     "output_type": "stream",
     "text": [
      " 61%|██████    | 60894/100000 [35:45<13:06, 49.71it/s]  "
     ]
    },
    {
     "name": "stdout",
     "output_type": "stream",
     "text": [
      "Epoch [60900/100000]\n",
      "Train Loss: 5.8608, Train Accuracy: 0.0792\n",
      "Train Precision (micro): 0.0792, Train Precision (macro): 0.0079\n",
      "Train Recall (micro): 0.0792, Train Recall (macro): 0.0127\n",
      "Train F1 (micro): 0.0792, Train F1 (macro): 0.0076\n",
      "\n",
      "Val Loss: 5.8648, Val Accuracy: 0.0803\n",
      "Val Precision (micro): 0.0803, Val Precision (macro): 0.0070\n",
      "Val Recall (micro): 0.0803, Val Recall (macro): 0.0166\n",
      "Val F1 (micro): 0.0803, Val F1 (macro): 0.0085\n",
      "--------------------------------------------------------------------------------\n"
     ]
    },
    {
     "name": "stderr",
     "output_type": "stream",
     "text": [
      " 61%|██████    | 60996/100000 [35:48<14:18, 45.41it/s]"
     ]
    },
    {
     "name": "stdout",
     "output_type": "stream",
     "text": [
      "Epoch [61000/100000]\n",
      "Train Loss: 5.8623, Train Accuracy: 0.0836\n",
      "Train Precision (micro): 0.0836, Train Precision (macro): 0.0082\n",
      "Train Recall (micro): 0.0836, Train Recall (macro): 0.0130\n",
      "Train F1 (micro): 0.0836, Train F1 (macro): 0.0079\n",
      "\n",
      "Val Loss: 5.8677, Val Accuracy: 0.0775\n",
      "Val Precision (micro): 0.0775, Val Precision (macro): 0.0081\n",
      "Val Recall (micro): 0.0775, Val Recall (macro): 0.0168\n",
      "Val F1 (micro): 0.0775, Val F1 (macro): 0.0093\n",
      "--------------------------------------------------------------------------------\n"
     ]
    },
    {
     "name": "stderr",
     "output_type": "stream",
     "text": [
      " 61%|██████    | 61098/100000 [35:54<13:41, 47.37it/s]  "
     ]
    },
    {
     "name": "stdout",
     "output_type": "stream",
     "text": [
      "Epoch [61100/100000]\n",
      "Train Loss: 5.8967, Train Accuracy: 0.0784\n",
      "Train Precision (micro): 0.0784, Train Precision (macro): 0.0045\n",
      "Train Recall (micro): 0.0784, Train Recall (macro): 0.0086\n",
      "Train F1 (micro): 0.0784, Train F1 (macro): 0.0050\n",
      "\n",
      "Val Loss: 5.8585, Val Accuracy: 0.0816\n",
      "Val Precision (micro): 0.0816, Val Precision (macro): 0.0088\n",
      "Val Recall (micro): 0.0816, Val Recall (macro): 0.0163\n",
      "Val F1 (micro): 0.0816, Val F1 (macro): 0.0091\n",
      "--------------------------------------------------------------------------------\n"
     ]
    },
    {
     "name": "stderr",
     "output_type": "stream",
     "text": [
      " 61%|██████    | 61199/100000 [35:58<23:30, 27.51it/s]"
     ]
    },
    {
     "name": "stdout",
     "output_type": "stream",
     "text": [
      "Epoch [61200/100000]\n",
      "Train Loss: 5.9328, Train Accuracy: 0.0823\n",
      "Train Precision (micro): 0.0823, Train Precision (macro): 0.0081\n",
      "Train Recall (micro): 0.0823, Train Recall (macro): 0.0121\n",
      "Train F1 (micro): 0.0823, Train F1 (macro): 0.0073\n",
      "\n",
      "Val Loss: 5.8744, Val Accuracy: 0.0816\n",
      "Val Precision (micro): 0.0816, Val Precision (macro): 0.0077\n",
      "Val Recall (micro): 0.0816, Val Recall (macro): 0.0158\n",
      "Val F1 (micro): 0.0816, Val F1 (macro): 0.0082\n",
      "--------------------------------------------------------------------------------\n"
     ]
    },
    {
     "name": "stderr",
     "output_type": "stream",
     "text": [
      " 61%|██████▏   | 61297/100000 [36:02<13:18, 48.47it/s]  "
     ]
    },
    {
     "name": "stdout",
     "output_type": "stream",
     "text": [
      "Epoch [61300/100000]\n",
      "Train Loss: 5.8942, Train Accuracy: 0.0800\n",
      "Train Precision (micro): 0.0800, Train Precision (macro): 0.0080\n",
      "Train Recall (micro): 0.0800, Train Recall (macro): 0.0115\n",
      "Train F1 (micro): 0.0800, Train F1 (macro): 0.0071\n",
      "\n",
      "Val Loss: 5.8702, Val Accuracy: 0.0784\n",
      "Val Precision (micro): 0.0784, Val Precision (macro): 0.0078\n",
      "Val Recall (micro): 0.0784, Val Recall (macro): 0.0155\n",
      "Val F1 (micro): 0.0784, Val F1 (macro): 0.0085\n",
      "--------------------------------------------------------------------------------\n"
     ]
    },
    {
     "name": "stderr",
     "output_type": "stream",
     "text": [
      " 61%|██████▏   | 61396/100000 [36:05<13:05, 49.12it/s]  "
     ]
    },
    {
     "name": "stdout",
     "output_type": "stream",
     "text": [
      "Epoch [61400/100000]\n",
      "Train Loss: 5.9064, Train Accuracy: 0.0762\n",
      "Train Precision (micro): 0.0762, Train Precision (macro): 0.0064\n",
      "Train Recall (micro): 0.0762, Train Recall (macro): 0.0124\n",
      "Train F1 (micro): 0.0762, Train F1 (macro): 0.0071\n",
      "\n",
      "Val Loss: 5.8631, Val Accuracy: 0.0800\n",
      "Val Precision (micro): 0.0800, Val Precision (macro): 0.0078\n",
      "Val Recall (micro): 0.0800, Val Recall (macro): 0.0159\n",
      "Val F1 (micro): 0.0800, Val F1 (macro): 0.0084\n",
      "--------------------------------------------------------------------------------\n"
     ]
    },
    {
     "name": "stderr",
     "output_type": "stream",
     "text": [
      " 61%|██████▏   | 61498/100000 [36:09<14:43, 43.58it/s]"
     ]
    },
    {
     "name": "stdout",
     "output_type": "stream",
     "text": [
      "Epoch [61500/100000]\n",
      "Train Loss: 5.8610, Train Accuracy: 0.0762\n",
      "Train Precision (micro): 0.0762, Train Precision (macro): 0.0052\n",
      "Train Recall (micro): 0.0762, Train Recall (macro): 0.0106\n",
      "Train F1 (micro): 0.0762, Train F1 (macro): 0.0058\n",
      "\n",
      "Val Loss: 5.8658, Val Accuracy: 0.0803\n",
      "Val Precision (micro): 0.0803, Val Precision (macro): 0.0080\n",
      "Val Recall (micro): 0.0803, Val Recall (macro): 0.0157\n",
      "Val F1 (micro): 0.0803, Val F1 (macro): 0.0084\n",
      "--------------------------------------------------------------------------------\n"
     ]
    },
    {
     "name": "stderr",
     "output_type": "stream",
     "text": [
      " 62%|██████▏   | 61597/100000 [36:12<13:02, 49.05it/s]  "
     ]
    },
    {
     "name": "stdout",
     "output_type": "stream",
     "text": [
      "Epoch [61600/100000]\n",
      "Train Loss: 5.8653, Train Accuracy: 0.0797\n",
      "Train Precision (micro): 0.0797, Train Precision (macro): 0.0064\n",
      "Train Recall (micro): 0.0797, Train Recall (macro): 0.0112\n",
      "Train F1 (micro): 0.0797, Train F1 (macro): 0.0066\n",
      "\n",
      "Val Loss: 5.8505, Val Accuracy: 0.0831\n",
      "Val Precision (micro): 0.0831, Val Precision (macro): 0.0103\n",
      "Val Recall (micro): 0.0831, Val Recall (macro): 0.0177\n",
      "Val F1 (micro): 0.0831, Val F1 (macro): 0.0105\n",
      "--------------------------------------------------------------------------------\n"
     ]
    },
    {
     "name": "stderr",
     "output_type": "stream",
     "text": [
      " 62%|██████▏   | 61695/100000 [36:15<13:13, 48.27it/s]"
     ]
    },
    {
     "name": "stdout",
     "output_type": "stream",
     "text": [
      "Epoch [61700/100000]\n",
      "Train Loss: 5.9256, Train Accuracy: 0.0770\n",
      "Train Precision (micro): 0.0770, Train Precision (macro): 0.0048\n",
      "Train Recall (micro): 0.0770, Train Recall (macro): 0.0100\n",
      "Train F1 (micro): 0.0770, Train F1 (macro): 0.0050\n",
      "\n",
      "Val Loss: 5.8606, Val Accuracy: 0.0794\n",
      "Val Precision (micro): 0.0794, Val Precision (macro): 0.0088\n",
      "Val Recall (micro): 0.0794, Val Recall (macro): 0.0158\n",
      "Val F1 (micro): 0.0794, Val F1 (macro): 0.0088\n",
      "--------------------------------------------------------------------------------\n"
     ]
    },
    {
     "name": "stderr",
     "output_type": "stream",
     "text": [
      " 62%|██████▏   | 61794/100000 [36:19<13:33, 46.95it/s]"
     ]
    },
    {
     "name": "stdout",
     "output_type": "stream",
     "text": [
      "Epoch [61800/100000]\n",
      "Train Loss: 5.8425, Train Accuracy: 0.0850\n",
      "Train Precision (micro): 0.0850, Train Precision (macro): 0.0087\n",
      "Train Recall (micro): 0.0850, Train Recall (macro): 0.0110\n",
      "Train F1 (micro): 0.0850, Train F1 (macro): 0.0071\n",
      "\n",
      "Val Loss: 5.8629, Val Accuracy: 0.0794\n",
      "Val Precision (micro): 0.0794, Val Precision (macro): 0.0072\n",
      "Val Recall (micro): 0.0794, Val Recall (macro): 0.0156\n",
      "Val F1 (micro): 0.0794, Val F1 (macro): 0.0082\n",
      "--------------------------------------------------------------------------------\n"
     ]
    },
    {
     "name": "stderr",
     "output_type": "stream",
     "text": [
      " 62%|██████▏   | 61897/100000 [36:22<12:40, 50.10it/s]"
     ]
    },
    {
     "name": "stdout",
     "output_type": "stream",
     "text": [
      "Epoch [61900/100000]\n",
      "Train Loss: 5.8361, Train Accuracy: 0.0875\n",
      "Train Precision (micro): 0.0875, Train Precision (macro): 0.0075\n",
      "Train Recall (micro): 0.0875, Train Recall (macro): 0.0110\n",
      "Train F1 (micro): 0.0875, Train F1 (macro): 0.0071\n",
      "\n",
      "Val Loss: 5.8641, Val Accuracy: 0.0791\n",
      "Val Precision (micro): 0.0791, Val Precision (macro): 0.0075\n",
      "Val Recall (micro): 0.0791, Val Recall (macro): 0.0158\n",
      "Val F1 (micro): 0.0791, Val F1 (macro): 0.0087\n",
      "--------------------------------------------------------------------------------\n"
     ]
    },
    {
     "name": "stderr",
     "output_type": "stream",
     "text": [
      " 62%|██████▏   | 61999/100000 [36:26<12:37, 50.15it/s]"
     ]
    },
    {
     "name": "stdout",
     "output_type": "stream",
     "text": [
      "Epoch [62000/100000]\n",
      "Train Loss: 5.8617, Train Accuracy: 0.0847\n",
      "Train Precision (micro): 0.0847, Train Precision (macro): 0.0055\n",
      "Train Recall (micro): 0.0847, Train Recall (macro): 0.0106\n",
      "Train F1 (micro): 0.0847, Train F1 (macro): 0.0058\n",
      "\n",
      "Val Loss: 5.8808, Val Accuracy: 0.0816\n",
      "Val Precision (micro): 0.0816, Val Precision (macro): 0.0091\n",
      "Val Recall (micro): 0.0816, Val Recall (macro): 0.0163\n",
      "Val F1 (micro): 0.0816, Val F1 (macro): 0.0093\n",
      "--------------------------------------------------------------------------------\n"
     ]
    },
    {
     "name": "stderr",
     "output_type": "stream",
     "text": [
      " 62%|██████▏   | 62094/100000 [36:29<12:45, 49.49it/s]"
     ]
    },
    {
     "name": "stdout",
     "output_type": "stream",
     "text": [
      "Epoch [62100/100000]\n",
      "Train Loss: 5.9073, Train Accuracy: 0.0823\n",
      "Train Precision (micro): 0.0823, Train Precision (macro): 0.0062\n",
      "Train Recall (micro): 0.0823, Train Recall (macro): 0.0109\n",
      "Train F1 (micro): 0.0823, Train F1 (macro): 0.0061\n",
      "\n",
      "Val Loss: 5.8802, Val Accuracy: 0.0788\n",
      "Val Precision (micro): 0.0788, Val Precision (macro): 0.0066\n",
      "Val Recall (micro): 0.0788, Val Recall (macro): 0.0157\n",
      "Val F1 (micro): 0.0788, Val F1 (macro): 0.0081\n",
      "--------------------------------------------------------------------------------\n"
     ]
    },
    {
     "name": "stderr",
     "output_type": "stream",
     "text": [
      " 62%|██████▏   | 62197/100000 [36:32<12:45, 49.39it/s]"
     ]
    },
    {
     "name": "stdout",
     "output_type": "stream",
     "text": [
      "Epoch [62200/100000]\n",
      "Train Loss: 5.8514, Train Accuracy: 0.0831\n",
      "Train Precision (micro): 0.0831, Train Precision (macro): 0.0077\n",
      "Train Recall (micro): 0.0831, Train Recall (macro): 0.0135\n",
      "Train F1 (micro): 0.0831, Train F1 (macro): 0.0079\n",
      "\n",
      "Val Loss: 5.8709, Val Accuracy: 0.0825\n",
      "Val Precision (micro): 0.0825, Val Precision (macro): 0.0092\n",
      "Val Recall (micro): 0.0825, Val Recall (macro): 0.0170\n",
      "Val F1 (micro): 0.0825, Val F1 (macro): 0.0098\n",
      "--------------------------------------------------------------------------------\n"
     ]
    },
    {
     "name": "stderr",
     "output_type": "stream",
     "text": [
      " 62%|██████▏   | 62296/100000 [36:36<12:48, 49.08it/s]"
     ]
    },
    {
     "name": "stdout",
     "output_type": "stream",
     "text": [
      "Epoch [62300/100000]\n",
      "Train Loss: 5.8863, Train Accuracy: 0.0755\n",
      "Train Precision (micro): 0.0755, Train Precision (macro): 0.0061\n",
      "Train Recall (micro): 0.0755, Train Recall (macro): 0.0108\n",
      "Train F1 (micro): 0.0755, Train F1 (macro): 0.0061\n",
      "\n",
      "Val Loss: 5.8630, Val Accuracy: 0.0813\n",
      "Val Precision (micro): 0.0813, Val Precision (macro): 0.0091\n",
      "Val Recall (micro): 0.0813, Val Recall (macro): 0.0168\n",
      "Val F1 (micro): 0.0813, Val F1 (macro): 0.0098\n",
      "--------------------------------------------------------------------------------\n"
     ]
    },
    {
     "name": "stderr",
     "output_type": "stream",
     "text": [
      " 62%|██████▏   | 62397/100000 [36:40<13:14, 47.31it/s]  "
     ]
    },
    {
     "name": "stdout",
     "output_type": "stream",
     "text": [
      "Epoch [62400/100000]\n",
      "Train Loss: 5.8917, Train Accuracy: 0.0783\n",
      "Train Precision (micro): 0.0783, Train Precision (macro): 0.0078\n",
      "Train Recall (micro): 0.0783, Train Recall (macro): 0.0115\n",
      "Train F1 (micro): 0.0783, Train F1 (macro): 0.0076\n",
      "\n",
      "Val Loss: 5.8605, Val Accuracy: 0.0791\n",
      "Val Precision (micro): 0.0791, Val Precision (macro): 0.0080\n",
      "Val Recall (micro): 0.0791, Val Recall (macro): 0.0165\n",
      "Val F1 (micro): 0.0791, Val F1 (macro): 0.0091\n",
      "--------------------------------------------------------------------------------\n"
     ]
    },
    {
     "name": "stderr",
     "output_type": "stream",
     "text": [
      " 62%|██████▏   | 62498/100000 [36:44<13:02, 47.93it/s]"
     ]
    },
    {
     "name": "stdout",
     "output_type": "stream",
     "text": [
      "Epoch [62500/100000]\n",
      "Train Loss: 5.9002, Train Accuracy: 0.0762\n",
      "Train Precision (micro): 0.0762, Train Precision (macro): 0.0066\n",
      "Train Recall (micro): 0.0762, Train Recall (macro): 0.0117\n",
      "Train F1 (micro): 0.0762, Train F1 (macro): 0.0066\n",
      "\n",
      "Val Loss: 5.8568, Val Accuracy: 0.0800\n",
      "Val Precision (micro): 0.0800, Val Precision (macro): 0.0104\n",
      "Val Recall (micro): 0.0800, Val Recall (macro): 0.0184\n",
      "Val F1 (micro): 0.0800, Val F1 (macro): 0.0108\n",
      "--------------------------------------------------------------------------------\n"
     ]
    },
    {
     "name": "stderr",
     "output_type": "stream",
     "text": [
      " 63%|██████▎   | 62597/100000 [36:47<13:13, 47.12it/s]"
     ]
    },
    {
     "name": "stdout",
     "output_type": "stream",
     "text": [
      "Epoch [62600/100000]\n",
      "Train Loss: 5.8455, Train Accuracy: 0.0825\n",
      "Train Precision (micro): 0.0825, Train Precision (macro): 0.0071\n",
      "Train Recall (micro): 0.0825, Train Recall (macro): 0.0114\n",
      "Train F1 (micro): 0.0825, Train F1 (macro): 0.0065\n",
      "\n",
      "Val Loss: 5.8584, Val Accuracy: 0.0816\n",
      "Val Precision (micro): 0.0816, Val Precision (macro): 0.0075\n",
      "Val Recall (micro): 0.0816, Val Recall (macro): 0.0165\n",
      "Val F1 (micro): 0.0816, Val F1 (macro): 0.0089\n",
      "--------------------------------------------------------------------------------\n"
     ]
    },
    {
     "name": "stderr",
     "output_type": "stream",
     "text": [
      " 63%|██████▎   | 62697/100000 [36:51<12:32, 49.54it/s]  "
     ]
    },
    {
     "name": "stdout",
     "output_type": "stream",
     "text": [
      "Epoch [62700/100000]\n",
      "Train Loss: 5.8750, Train Accuracy: 0.0869\n",
      "Train Precision (micro): 0.0869, Train Precision (macro): 0.0079\n",
      "Train Recall (micro): 0.0869, Train Recall (macro): 0.0133\n",
      "Train F1 (micro): 0.0869, Train F1 (macro): 0.0078\n",
      "\n",
      "Val Loss: 5.8568, Val Accuracy: 0.0834\n",
      "Val Precision (micro): 0.0834, Val Precision (macro): 0.0090\n",
      "Val Recall (micro): 0.0834, Val Recall (macro): 0.0181\n",
      "Val F1 (micro): 0.0834, Val F1 (macro): 0.0102\n",
      "--------------------------------------------------------------------------------\n"
     ]
    },
    {
     "name": "stderr",
     "output_type": "stream",
     "text": [
      " 63%|██████▎   | 62795/100000 [36:54<12:36, 49.17it/s]"
     ]
    },
    {
     "name": "stdout",
     "output_type": "stream",
     "text": [
      "Epoch [62800/100000]\n",
      "Train Loss: 5.8377, Train Accuracy: 0.0823\n",
      "Train Precision (micro): 0.0823, Train Precision (macro): 0.0079\n",
      "Train Recall (micro): 0.0823, Train Recall (macro): 0.0145\n",
      "Train F1 (micro): 0.0823, Train F1 (macro): 0.0086\n",
      "\n",
      "Val Loss: 5.8533, Val Accuracy: 0.0791\n",
      "Val Precision (micro): 0.0791, Val Precision (macro): 0.0086\n",
      "Val Recall (micro): 0.0791, Val Recall (macro): 0.0164\n",
      "Val F1 (micro): 0.0791, Val F1 (macro): 0.0090\n",
      "--------------------------------------------------------------------------------\n"
     ]
    },
    {
     "name": "stderr",
     "output_type": "stream",
     "text": [
      " 63%|██████▎   | 62896/100000 [36:57<12:22, 49.94it/s]"
     ]
    },
    {
     "name": "stdout",
     "output_type": "stream",
     "text": [
      "Epoch [62900/100000]\n",
      "Train Loss: 5.8628, Train Accuracy: 0.0842\n",
      "Train Precision (micro): 0.0842, Train Precision (macro): 0.0068\n",
      "Train Recall (micro): 0.0842, Train Recall (macro): 0.0108\n",
      "Train F1 (micro): 0.0842, Train F1 (macro): 0.0064\n",
      "\n",
      "Val Loss: 5.8622, Val Accuracy: 0.0803\n",
      "Val Precision (micro): 0.0803, Val Precision (macro): 0.0085\n",
      "Val Recall (micro): 0.0803, Val Recall (macro): 0.0161\n",
      "Val F1 (micro): 0.0803, Val F1 (macro): 0.0093\n",
      "--------------------------------------------------------------------------------\n"
     ]
    },
    {
     "name": "stderr",
     "output_type": "stream",
     "text": [
      " 63%|██████▎   | 62997/100000 [37:01<12:53, 47.84it/s]"
     ]
    },
    {
     "name": "stdout",
     "output_type": "stream",
     "text": [
      "Epoch [63000/100000]\n",
      "Train Loss: 5.8473, Train Accuracy: 0.0841\n",
      "Train Precision (micro): 0.0841, Train Precision (macro): 0.0083\n",
      "Train Recall (micro): 0.0841, Train Recall (macro): 0.0115\n",
      "Train F1 (micro): 0.0841, Train F1 (macro): 0.0072\n",
      "\n",
      "Val Loss: 5.8709, Val Accuracy: 0.0813\n",
      "Val Precision (micro): 0.0813, Val Precision (macro): 0.0087\n",
      "Val Recall (micro): 0.0813, Val Recall (macro): 0.0165\n",
      "Val F1 (micro): 0.0813, Val F1 (macro): 0.0095\n",
      "--------------------------------------------------------------------------------\n"
     ]
    },
    {
     "name": "stderr",
     "output_type": "stream",
     "text": [
      " 63%|██████▎   | 63097/100000 [37:04<12:16, 50.12it/s]"
     ]
    },
    {
     "name": "stdout",
     "output_type": "stream",
     "text": [
      "Epoch [63100/100000]\n",
      "Train Loss: 5.8715, Train Accuracy: 0.0813\n",
      "Train Precision (micro): 0.0813, Train Precision (macro): 0.0060\n",
      "Train Recall (micro): 0.0813, Train Recall (macro): 0.0120\n",
      "Train F1 (micro): 0.0813, Train F1 (macro): 0.0065\n",
      "\n",
      "Val Loss: 5.8581, Val Accuracy: 0.0822\n",
      "Val Precision (micro): 0.0822, Val Precision (macro): 0.0104\n",
      "Val Recall (micro): 0.0822, Val Recall (macro): 0.0173\n",
      "Val F1 (micro): 0.0822, Val F1 (macro): 0.0104\n",
      "--------------------------------------------------------------------------------\n"
     ]
    },
    {
     "name": "stderr",
     "output_type": "stream",
     "text": [
      " 63%|██████▎   | 63198/100000 [37:07<12:58, 47.30it/s]"
     ]
    },
    {
     "name": "stdout",
     "output_type": "stream",
     "text": [
      "Epoch [63200/100000]\n",
      "Train Loss: 5.8600, Train Accuracy: 0.0816\n",
      "Train Precision (micro): 0.0816, Train Precision (macro): 0.0077\n",
      "Train Recall (micro): 0.0816, Train Recall (macro): 0.0118\n",
      "Train F1 (micro): 0.0816, Train F1 (macro): 0.0070\n",
      "\n",
      "Val Loss: 5.8574, Val Accuracy: 0.0813\n",
      "Val Precision (micro): 0.0813, Val Precision (macro): 0.0076\n",
      "Val Recall (micro): 0.0813, Val Recall (macro): 0.0154\n",
      "Val F1 (micro): 0.0813, Val F1 (macro): 0.0084\n",
      "--------------------------------------------------------------------------------\n"
     ]
    },
    {
     "name": "stderr",
     "output_type": "stream",
     "text": [
      " 63%|██████▎   | 63296/100000 [37:11<12:19, 49.65it/s]"
     ]
    },
    {
     "name": "stdout",
     "output_type": "stream",
     "text": [
      "Epoch [63300/100000]\n",
      "Train Loss: 5.8384, Train Accuracy: 0.0823\n",
      "Train Precision (micro): 0.0823, Train Precision (macro): 0.0076\n",
      "Train Recall (micro): 0.0823, Train Recall (macro): 0.0128\n",
      "Train F1 (micro): 0.0823, Train F1 (macro): 0.0078\n",
      "\n",
      "Val Loss: 5.8532, Val Accuracy: 0.0791\n",
      "Val Precision (micro): 0.0791, Val Precision (macro): 0.0072\n",
      "Val Recall (micro): 0.0791, Val Recall (macro): 0.0151\n",
      "Val F1 (micro): 0.0791, Val F1 (macro): 0.0083\n",
      "--------------------------------------------------------------------------------\n"
     ]
    },
    {
     "name": "stderr",
     "output_type": "stream",
     "text": [
      " 63%|██████▎   | 63396/100000 [37:14<12:15, 49.80it/s]"
     ]
    },
    {
     "name": "stdout",
     "output_type": "stream",
     "text": [
      "Epoch [63400/100000]\n",
      "Train Loss: 5.8905, Train Accuracy: 0.0800\n",
      "Train Precision (micro): 0.0800, Train Precision (macro): 0.0083\n",
      "Train Recall (micro): 0.0800, Train Recall (macro): 0.0124\n",
      "Train F1 (micro): 0.0800, Train F1 (macro): 0.0077\n",
      "\n",
      "Val Loss: 5.8585, Val Accuracy: 0.0784\n",
      "Val Precision (micro): 0.0784, Val Precision (macro): 0.0074\n",
      "Val Recall (micro): 0.0784, Val Recall (macro): 0.0156\n",
      "Val F1 (micro): 0.0784, Val F1 (macro): 0.0086\n",
      "--------------------------------------------------------------------------------\n"
     ]
    },
    {
     "name": "stderr",
     "output_type": "stream",
     "text": [
      " 63%|██████▎   | 63496/100000 [37:18<12:31, 48.58it/s]"
     ]
    },
    {
     "name": "stdout",
     "output_type": "stream",
     "text": [
      "Epoch [63500/100000]\n",
      "Train Loss: 5.8576, Train Accuracy: 0.0808\n",
      "Train Precision (micro): 0.0808, Train Precision (macro): 0.0067\n",
      "Train Recall (micro): 0.0808, Train Recall (macro): 0.0097\n",
      "Train F1 (micro): 0.0808, Train F1 (macro): 0.0056\n",
      "\n",
      "Val Loss: 5.8582, Val Accuracy: 0.0822\n",
      "Val Precision (micro): 0.0822, Val Precision (macro): 0.0082\n",
      "Val Recall (micro): 0.0822, Val Recall (macro): 0.0169\n",
      "Val F1 (micro): 0.0822, Val F1 (macro): 0.0096\n",
      "--------------------------------------------------------------------------------\n"
     ]
    },
    {
     "name": "stderr",
     "output_type": "stream",
     "text": [
      " 64%|██████▎   | 63594/100000 [37:21<12:28, 48.64it/s]"
     ]
    },
    {
     "name": "stdout",
     "output_type": "stream",
     "text": [
      "Epoch [63600/100000]\n",
      "Train Loss: 5.8476, Train Accuracy: 0.0791\n",
      "Train Precision (micro): 0.0791, Train Precision (macro): 0.0072\n",
      "Train Recall (micro): 0.0791, Train Recall (macro): 0.0113\n",
      "Train F1 (micro): 0.0791, Train F1 (macro): 0.0069\n",
      "\n",
      "Val Loss: 5.8634, Val Accuracy: 0.0781\n",
      "Val Precision (micro): 0.0781, Val Precision (macro): 0.0080\n",
      "Val Recall (micro): 0.0781, Val Recall (macro): 0.0162\n",
      "Val F1 (micro): 0.0781, Val F1 (macro): 0.0089\n",
      "--------------------------------------------------------------------------------\n"
     ]
    },
    {
     "name": "stderr",
     "output_type": "stream",
     "text": [
      " 64%|██████▎   | 63694/100000 [37:24<12:31, 48.32it/s]"
     ]
    },
    {
     "name": "stdout",
     "output_type": "stream",
     "text": [
      "Epoch [63700/100000]\n",
      "Train Loss: 5.8254, Train Accuracy: 0.0825\n",
      "Train Precision (micro): 0.0825, Train Precision (macro): 0.0073\n",
      "Train Recall (micro): 0.0825, Train Recall (macro): 0.0125\n",
      "Train F1 (micro): 0.0825, Train F1 (macro): 0.0071\n",
      "\n",
      "Val Loss: 5.8591, Val Accuracy: 0.0819\n",
      "Val Precision (micro): 0.0819, Val Precision (macro): 0.0078\n",
      "Val Recall (micro): 0.0819, Val Recall (macro): 0.0171\n",
      "Val F1 (micro): 0.0819, Val F1 (macro): 0.0094\n",
      "--------------------------------------------------------------------------------\n"
     ]
    },
    {
     "name": "stderr",
     "output_type": "stream",
     "text": [
      " 64%|██████▍   | 63794/100000 [37:28<12:08, 49.73it/s]"
     ]
    },
    {
     "name": "stdout",
     "output_type": "stream",
     "text": [
      "Epoch [63800/100000]\n",
      "Train Loss: 5.8291, Train Accuracy: 0.0820\n",
      "Train Precision (micro): 0.0820, Train Precision (macro): 0.0076\n",
      "Train Recall (micro): 0.0820, Train Recall (macro): 0.0128\n",
      "Train F1 (micro): 0.0820, Train F1 (macro): 0.0076\n",
      "\n",
      "Val Loss: 5.8591, Val Accuracy: 0.0803\n",
      "Val Precision (micro): 0.0803, Val Precision (macro): 0.0094\n",
      "Val Recall (micro): 0.0803, Val Recall (macro): 0.0168\n",
      "Val F1 (micro): 0.0803, Val F1 (macro): 0.0101\n",
      "--------------------------------------------------------------------------------\n"
     ]
    },
    {
     "name": "stderr",
     "output_type": "stream",
     "text": [
      " 64%|██████▍   | 63899/100000 [37:31<13:43, 43.84it/s]"
     ]
    },
    {
     "name": "stdout",
     "output_type": "stream",
     "text": [
      "Epoch [63900/100000]\n",
      "Train Loss: 5.8959, Train Accuracy: 0.0755\n",
      "Train Precision (micro): 0.0755, Train Precision (macro): 0.0047\n",
      "Train Recall (micro): 0.0755, Train Recall (macro): 0.0091\n",
      "Train F1 (micro): 0.0755, Train F1 (macro): 0.0044\n",
      "\n",
      "Val Loss: 5.8558, Val Accuracy: 0.0816\n",
      "Val Precision (micro): 0.0816, Val Precision (macro): 0.0074\n",
      "Val Recall (micro): 0.0816, Val Recall (macro): 0.0159\n",
      "Val F1 (micro): 0.0816, Val F1 (macro): 0.0088\n",
      "--------------------------------------------------------------------------------\n"
     ]
    },
    {
     "name": "stderr",
     "output_type": "stream",
     "text": [
      " 64%|██████▍   | 63996/100000 [37:35<12:55, 46.43it/s]"
     ]
    },
    {
     "name": "stdout",
     "output_type": "stream",
     "text": [
      "Epoch [64000/100000]\n",
      "Train Loss: 5.9292, Train Accuracy: 0.0773\n",
      "Train Precision (micro): 0.0773, Train Precision (macro): 0.0076\n",
      "Train Recall (micro): 0.0773, Train Recall (macro): 0.0109\n",
      "Train F1 (micro): 0.0773, Train F1 (macro): 0.0069\n",
      "\n",
      "Val Loss: 5.8585, Val Accuracy: 0.0816\n",
      "Val Precision (micro): 0.0816, Val Precision (macro): 0.0075\n",
      "Val Recall (micro): 0.0816, Val Recall (macro): 0.0154\n",
      "Val F1 (micro): 0.0816, Val F1 (macro): 0.0087\n",
      "--------------------------------------------------------------------------------\n"
     ]
    },
    {
     "name": "stderr",
     "output_type": "stream",
     "text": [
      " 64%|██████▍   | 64095/100000 [37:38<14:17, 41.86it/s]"
     ]
    },
    {
     "name": "stdout",
     "output_type": "stream",
     "text": [
      "Epoch [64100/100000]\n",
      "Train Loss: 5.8145, Train Accuracy: 0.0822\n",
      "Train Precision (micro): 0.0822, Train Precision (macro): 0.0066\n",
      "Train Recall (micro): 0.0822, Train Recall (macro): 0.0114\n",
      "Train F1 (micro): 0.0822, Train F1 (macro): 0.0069\n",
      "\n",
      "Val Loss: 5.8759, Val Accuracy: 0.0819\n",
      "Val Precision (micro): 0.0819, Val Precision (macro): 0.0075\n",
      "Val Recall (micro): 0.0819, Val Recall (macro): 0.0161\n",
      "Val F1 (micro): 0.0819, Val F1 (macro): 0.0088\n",
      "--------------------------------------------------------------------------------\n"
     ]
    },
    {
     "name": "stderr",
     "output_type": "stream",
     "text": [
      " 64%|██████▍   | 64197/100000 [37:42<12:45, 46.76it/s]"
     ]
    },
    {
     "name": "stdout",
     "output_type": "stream",
     "text": [
      "Epoch [64200/100000]\n",
      "Train Loss: 5.9081, Train Accuracy: 0.0759\n",
      "Train Precision (micro): 0.0759, Train Precision (macro): 0.0059\n",
      "Train Recall (micro): 0.0759, Train Recall (macro): 0.0098\n",
      "Train F1 (micro): 0.0759, Train F1 (macro): 0.0058\n",
      "\n",
      "Val Loss: 5.8585, Val Accuracy: 0.0800\n",
      "Val Precision (micro): 0.0800, Val Precision (macro): 0.0073\n",
      "Val Recall (micro): 0.0800, Val Recall (macro): 0.0154\n",
      "Val F1 (micro): 0.0800, Val F1 (macro): 0.0083\n",
      "--------------------------------------------------------------------------------\n"
     ]
    },
    {
     "name": "stderr",
     "output_type": "stream",
     "text": [
      " 64%|██████▍   | 64299/100000 [37:45<12:13, 48.64it/s]"
     ]
    },
    {
     "name": "stdout",
     "output_type": "stream",
     "text": [
      "Epoch [64300/100000]\n",
      "Train Loss: 5.8630, Train Accuracy: 0.0842\n",
      "Train Precision (micro): 0.0842, Train Precision (macro): 0.0057\n",
      "Train Recall (micro): 0.0842, Train Recall (macro): 0.0117\n",
      "Train F1 (micro): 0.0842, Train F1 (macro): 0.0062\n",
      "\n",
      "Val Loss: 5.8552, Val Accuracy: 0.0816\n",
      "Val Precision (micro): 0.0816, Val Precision (macro): 0.0078\n",
      "Val Recall (micro): 0.0816, Val Recall (macro): 0.0161\n",
      "Val F1 (micro): 0.0816, Val F1 (macro): 0.0090\n",
      "--------------------------------------------------------------------------------\n"
     ]
    },
    {
     "name": "stderr",
     "output_type": "stream",
     "text": [
      " 64%|██████▍   | 64395/100000 [37:49<12:57, 45.78it/s]"
     ]
    },
    {
     "name": "stdout",
     "output_type": "stream",
     "text": [
      "Epoch [64400/100000]\n",
      "Train Loss: 5.8326, Train Accuracy: 0.0877\n",
      "Train Precision (micro): 0.0877, Train Precision (macro): 0.0047\n",
      "Train Recall (micro): 0.0877, Train Recall (macro): 0.0107\n",
      "Train F1 (micro): 0.0877, Train F1 (macro): 0.0054\n",
      "\n",
      "Val Loss: 5.8775, Val Accuracy: 0.0813\n",
      "Val Precision (micro): 0.0813, Val Precision (macro): 0.0070\n",
      "Val Recall (micro): 0.0813, Val Recall (macro): 0.0160\n",
      "Val F1 (micro): 0.0813, Val F1 (macro): 0.0085\n",
      "--------------------------------------------------------------------------------\n"
     ]
    },
    {
     "name": "stderr",
     "output_type": "stream",
     "text": [
      " 64%|██████▍   | 64497/100000 [37:52<12:54, 45.86it/s]"
     ]
    },
    {
     "name": "stdout",
     "output_type": "stream",
     "text": [
      "Epoch [64500/100000]\n",
      "Train Loss: 5.8117, Train Accuracy: 0.0889\n",
      "Train Precision (micro): 0.0889, Train Precision (macro): 0.0091\n",
      "Train Recall (micro): 0.0889, Train Recall (macro): 0.0117\n",
      "Train F1 (micro): 0.0889, Train F1 (macro): 0.0081\n",
      "\n",
      "Val Loss: 5.8611, Val Accuracy: 0.0831\n",
      "Val Precision (micro): 0.0831, Val Precision (macro): 0.0098\n",
      "Val Recall (micro): 0.0831, Val Recall (macro): 0.0173\n",
      "Val F1 (micro): 0.0831, Val F1 (macro): 0.0100\n",
      "--------------------------------------------------------------------------------\n"
     ]
    },
    {
     "name": "stderr",
     "output_type": "stream",
     "text": [
      " 65%|██████▍   | 64597/100000 [37:55<12:02, 49.03it/s]"
     ]
    },
    {
     "name": "stdout",
     "output_type": "stream",
     "text": [
      "Epoch [64600/100000]\n",
      "Train Loss: 5.8426, Train Accuracy: 0.0827\n",
      "Train Precision (micro): 0.0827, Train Precision (macro): 0.0083\n",
      "Train Recall (micro): 0.0827, Train Recall (macro): 0.0124\n",
      "Train F1 (micro): 0.0827, Train F1 (macro): 0.0076\n",
      "\n",
      "Val Loss: 5.8568, Val Accuracy: 0.0816\n",
      "Val Precision (micro): 0.0816, Val Precision (macro): 0.0094\n",
      "Val Recall (micro): 0.0816, Val Recall (macro): 0.0180\n",
      "Val F1 (micro): 0.0816, Val F1 (macro): 0.0106\n",
      "--------------------------------------------------------------------------------\n"
     ]
    },
    {
     "name": "stderr",
     "output_type": "stream",
     "text": [
      " 65%|██████▍   | 64694/100000 [37:59<12:30, 47.03it/s]"
     ]
    },
    {
     "name": "stdout",
     "output_type": "stream",
     "text": [
      "Epoch [64700/100000]\n",
      "Train Loss: 5.8952, Train Accuracy: 0.0764\n",
      "Train Precision (micro): 0.0764, Train Precision (macro): 0.0058\n",
      "Train Recall (micro): 0.0764, Train Recall (macro): 0.0110\n",
      "Train F1 (micro): 0.0764, Train F1 (macro): 0.0063\n",
      "\n",
      "Val Loss: 5.8721, Val Accuracy: 0.0850\n",
      "Val Precision (micro): 0.0850, Val Precision (macro): 0.0098\n",
      "Val Recall (micro): 0.0850, Val Recall (macro): 0.0186\n",
      "Val F1 (micro): 0.0850, Val F1 (macro): 0.0110\n",
      "--------------------------------------------------------------------------------\n"
     ]
    },
    {
     "name": "stderr",
     "output_type": "stream",
     "text": [
      " 65%|██████▍   | 64799/100000 [38:02<11:47, 49.73it/s]"
     ]
    },
    {
     "name": "stdout",
     "output_type": "stream",
     "text": [
      "Epoch [64800/100000]\n",
      "Train Loss: 5.8485, Train Accuracy: 0.0862\n",
      "Train Precision (micro): 0.0862, Train Precision (macro): 0.0078\n",
      "Train Recall (micro): 0.0862, Train Recall (macro): 0.0123\n",
      "Train F1 (micro): 0.0862, Train F1 (macro): 0.0072\n",
      "\n",
      "Val Loss: 5.8578, Val Accuracy: 0.0825\n",
      "Val Precision (micro): 0.0825, Val Precision (macro): 0.0090\n",
      "Val Recall (micro): 0.0825, Val Recall (macro): 0.0172\n",
      "Val F1 (micro): 0.0825, Val F1 (macro): 0.0098\n",
      "--------------------------------------------------------------------------------\n"
     ]
    },
    {
     "name": "stderr",
     "output_type": "stream",
     "text": [
      " 65%|██████▍   | 64897/100000 [38:06<12:11, 47.97it/s]"
     ]
    },
    {
     "name": "stdout",
     "output_type": "stream",
     "text": [
      "Epoch [64900/100000]\n",
      "Train Loss: 5.8220, Train Accuracy: 0.0853\n",
      "Train Precision (micro): 0.0853, Train Precision (macro): 0.0058\n",
      "Train Recall (micro): 0.0853, Train Recall (macro): 0.0111\n",
      "Train F1 (micro): 0.0853, Train F1 (macro): 0.0062\n",
      "\n",
      "Val Loss: 5.8592, Val Accuracy: 0.0844\n",
      "Val Precision (micro): 0.0844, Val Precision (macro): 0.0077\n",
      "Val Recall (micro): 0.0844, Val Recall (macro): 0.0170\n",
      "Val F1 (micro): 0.0844, Val F1 (macro): 0.0093\n",
      "--------------------------------------------------------------------------------\n"
     ]
    },
    {
     "name": "stderr",
     "output_type": "stream",
     "text": [
      " 65%|██████▍   | 64998/100000 [38:09<13:11, 44.21it/s]"
     ]
    },
    {
     "name": "stdout",
     "output_type": "stream",
     "text": [
      "Epoch [65000/100000]\n",
      "Train Loss: 5.8520, Train Accuracy: 0.0839\n",
      "Train Precision (micro): 0.0839, Train Precision (macro): 0.0064\n",
      "Train Recall (micro): 0.0839, Train Recall (macro): 0.0113\n",
      "Train F1 (micro): 0.0839, Train F1 (macro): 0.0068\n",
      "\n",
      "Val Loss: 5.8507, Val Accuracy: 0.0831\n",
      "Val Precision (micro): 0.0831, Val Precision (macro): 0.0079\n",
      "Val Recall (micro): 0.0831, Val Recall (macro): 0.0172\n",
      "Val F1 (micro): 0.0831, Val F1 (macro): 0.0095\n",
      "--------------------------------------------------------------------------------\n"
     ]
    },
    {
     "name": "stderr",
     "output_type": "stream",
     "text": [
      " 65%|██████▌   | 65098/100000 [38:12<11:42, 49.69it/s]"
     ]
    },
    {
     "name": "stdout",
     "output_type": "stream",
     "text": [
      "Epoch [65100/100000]\n",
      "Train Loss: 5.8432, Train Accuracy: 0.0834\n",
      "Train Precision (micro): 0.0834, Train Precision (macro): 0.0068\n",
      "Train Recall (micro): 0.0834, Train Recall (macro): 0.0116\n",
      "Train F1 (micro): 0.0834, Train F1 (macro): 0.0063\n",
      "\n",
      "Val Loss: 5.8646, Val Accuracy: 0.0806\n",
      "Val Precision (micro): 0.0806, Val Precision (macro): 0.0081\n",
      "Val Recall (micro): 0.0806, Val Recall (macro): 0.0165\n",
      "Val F1 (micro): 0.0806, Val F1 (macro): 0.0093\n",
      "--------------------------------------------------------------------------------\n"
     ]
    },
    {
     "name": "stderr",
     "output_type": "stream",
     "text": [
      " 65%|██████▌   | 65197/100000 [38:16<12:38, 45.85it/s]"
     ]
    },
    {
     "name": "stdout",
     "output_type": "stream",
     "text": [
      "Epoch [65200/100000]\n",
      "Train Loss: 5.8623, Train Accuracy: 0.0798\n",
      "Train Precision (micro): 0.0798, Train Precision (macro): 0.0082\n",
      "Train Recall (micro): 0.0798, Train Recall (macro): 0.0118\n",
      "Train F1 (micro): 0.0798, Train F1 (macro): 0.0070\n",
      "\n",
      "Val Loss: 5.8559, Val Accuracy: 0.0816\n",
      "Val Precision (micro): 0.0816, Val Precision (macro): 0.0081\n",
      "Val Recall (micro): 0.0816, Val Recall (macro): 0.0163\n",
      "Val F1 (micro): 0.0816, Val F1 (macro): 0.0089\n",
      "--------------------------------------------------------------------------------\n"
     ]
    },
    {
     "name": "stderr",
     "output_type": "stream",
     "text": [
      " 65%|██████▌   | 65296/100000 [38:20<12:58, 44.59it/s]"
     ]
    },
    {
     "name": "stdout",
     "output_type": "stream",
     "text": [
      "Epoch [65300/100000]\n",
      "Train Loss: 5.9069, Train Accuracy: 0.0797\n",
      "Train Precision (micro): 0.0797, Train Precision (macro): 0.0044\n",
      "Train Recall (micro): 0.0797, Train Recall (macro): 0.0102\n",
      "Train F1 (micro): 0.0797, Train F1 (macro): 0.0052\n",
      "\n",
      "Val Loss: 5.8578, Val Accuracy: 0.0828\n",
      "Val Precision (micro): 0.0828, Val Precision (macro): 0.0084\n",
      "Val Recall (micro): 0.0828, Val Recall (macro): 0.0182\n",
      "Val F1 (micro): 0.0828, Val F1 (macro): 0.0101\n",
      "--------------------------------------------------------------------------------\n"
     ]
    },
    {
     "name": "stderr",
     "output_type": "stream",
     "text": [
      " 65%|██████▌   | 65396/100000 [38:23<11:50, 48.69it/s]"
     ]
    },
    {
     "name": "stdout",
     "output_type": "stream",
     "text": [
      "Epoch [65400/100000]\n",
      "Train Loss: 5.8639, Train Accuracy: 0.0811\n",
      "Train Precision (micro): 0.0811, Train Precision (macro): 0.0055\n",
      "Train Recall (micro): 0.0811, Train Recall (macro): 0.0109\n",
      "Train F1 (micro): 0.0811, Train F1 (macro): 0.0063\n",
      "\n",
      "Val Loss: 5.8814, Val Accuracy: 0.0809\n",
      "Val Precision (micro): 0.0809, Val Precision (macro): 0.0098\n",
      "Val Recall (micro): 0.0809, Val Recall (macro): 0.0171\n",
      "Val F1 (micro): 0.0809, Val F1 (macro): 0.0102\n",
      "--------------------------------------------------------------------------------\n"
     ]
    },
    {
     "name": "stderr",
     "output_type": "stream",
     "text": [
      " 65%|██████▌   | 65494/100000 [38:26<11:30, 49.97it/s]"
     ]
    },
    {
     "name": "stdout",
     "output_type": "stream",
     "text": [
      "Epoch [65500/100000]\n",
      "Train Loss: 5.8183, Train Accuracy: 0.0842\n",
      "Train Precision (micro): 0.0842, Train Precision (macro): 0.0077\n",
      "Train Recall (micro): 0.0842, Train Recall (macro): 0.0119\n",
      "Train F1 (micro): 0.0842, Train F1 (macro): 0.0069\n",
      "\n",
      "Val Loss: 5.8609, Val Accuracy: 0.0816\n",
      "Val Precision (micro): 0.0816, Val Precision (macro): 0.0094\n",
      "Val Recall (micro): 0.0816, Val Recall (macro): 0.0178\n",
      "Val F1 (micro): 0.0816, Val F1 (macro): 0.0102\n",
      "--------------------------------------------------------------------------------\n"
     ]
    },
    {
     "name": "stderr",
     "output_type": "stream",
     "text": [
      " 66%|██████▌   | 65598/100000 [38:30<11:28, 49.94it/s]"
     ]
    },
    {
     "name": "stdout",
     "output_type": "stream",
     "text": [
      "Epoch [65600/100000]\n",
      "Train Loss: 5.8224, Train Accuracy: 0.0898\n",
      "Train Precision (micro): 0.0898, Train Precision (macro): 0.0094\n",
      "Train Recall (micro): 0.0898, Train Recall (macro): 0.0131\n",
      "Train F1 (micro): 0.0898, Train F1 (macro): 0.0084\n",
      "\n",
      "Val Loss: 5.8515, Val Accuracy: 0.0822\n",
      "Val Precision (micro): 0.0822, Val Precision (macro): 0.0093\n",
      "Val Recall (micro): 0.0822, Val Recall (macro): 0.0177\n",
      "Val F1 (micro): 0.0822, Val F1 (macro): 0.0101\n",
      "--------------------------------------------------------------------------------\n"
     ]
    },
    {
     "name": "stderr",
     "output_type": "stream",
     "text": [
      " 66%|██████▌   | 65699/100000 [38:33<12:02, 47.48it/s]"
     ]
    },
    {
     "name": "stdout",
     "output_type": "stream",
     "text": [
      "Epoch [65700/100000]\n",
      "Train Loss: 5.8162, Train Accuracy: 0.0864\n",
      "Train Precision (micro): 0.0864, Train Precision (macro): 0.0068\n",
      "Train Recall (micro): 0.0864, Train Recall (macro): 0.0115\n",
      "Train F1 (micro): 0.0864, Train F1 (macro): 0.0063\n",
      "\n",
      "Val Loss: 5.8534, Val Accuracy: 0.0800\n",
      "Val Precision (micro): 0.0800, Val Precision (macro): 0.0086\n",
      "Val Recall (micro): 0.0800, Val Recall (macro): 0.0163\n",
      "Val F1 (micro): 0.0800, Val F1 (macro): 0.0097\n",
      "--------------------------------------------------------------------------------\n"
     ]
    },
    {
     "name": "stderr",
     "output_type": "stream",
     "text": [
      " 66%|██████▌   | 65796/100000 [38:37<13:36, 41.87it/s]"
     ]
    },
    {
     "name": "stdout",
     "output_type": "stream",
     "text": [
      "Epoch [65800/100000]\n",
      "Train Loss: 5.8941, Train Accuracy: 0.0842\n",
      "Train Precision (micro): 0.0842, Train Precision (macro): 0.0063\n",
      "Train Recall (micro): 0.0842, Train Recall (macro): 0.0110\n",
      "Train F1 (micro): 0.0842, Train F1 (macro): 0.0067\n",
      "\n",
      "Val Loss: 5.8516, Val Accuracy: 0.0788\n",
      "Val Precision (micro): 0.0788, Val Precision (macro): 0.0083\n",
      "Val Recall (micro): 0.0788, Val Recall (macro): 0.0156\n",
      "Val F1 (micro): 0.0788, Val F1 (macro): 0.0089\n",
      "--------------------------------------------------------------------------------\n"
     ]
    },
    {
     "name": "stderr",
     "output_type": "stream",
     "text": [
      " 66%|██████▌   | 65895/100000 [38:40<12:12, 46.56it/s]  "
     ]
    },
    {
     "name": "stdout",
     "output_type": "stream",
     "text": [
      "Epoch [65900/100000]\n",
      "Train Loss: 5.8560, Train Accuracy: 0.0850\n",
      "Train Precision (micro): 0.0850, Train Precision (macro): 0.0064\n",
      "Train Recall (micro): 0.0850, Train Recall (macro): 0.0116\n",
      "Train F1 (micro): 0.0850, Train F1 (macro): 0.0066\n",
      "\n",
      "Val Loss: 5.8553, Val Accuracy: 0.0803\n",
      "Val Precision (micro): 0.0803, Val Precision (macro): 0.0083\n",
      "Val Recall (micro): 0.0803, Val Recall (macro): 0.0171\n",
      "Val F1 (micro): 0.0803, Val F1 (macro): 0.0097\n",
      "--------------------------------------------------------------------------------\n"
     ]
    },
    {
     "name": "stderr",
     "output_type": "stream",
     "text": [
      " 66%|██████▌   | 65998/100000 [38:44<11:26, 49.54it/s]"
     ]
    },
    {
     "name": "stdout",
     "output_type": "stream",
     "text": [
      "Epoch [66000/100000]\n",
      "Train Loss: 5.8948, Train Accuracy: 0.0766\n",
      "Train Precision (micro): 0.0766, Train Precision (macro): 0.0068\n",
      "Train Recall (micro): 0.0766, Train Recall (macro): 0.0113\n",
      "Train F1 (micro): 0.0766, Train F1 (macro): 0.0069\n",
      "\n",
      "Val Loss: 5.8690, Val Accuracy: 0.0822\n",
      "Val Precision (micro): 0.0822, Val Precision (macro): 0.0089\n",
      "Val Recall (micro): 0.0822, Val Recall (macro): 0.0170\n",
      "Val F1 (micro): 0.0822, Val F1 (macro): 0.0094\n",
      "--------------------------------------------------------------------------------\n"
     ]
    },
    {
     "name": "stderr",
     "output_type": "stream",
     "text": [
      " 66%|██████▌   | 66098/100000 [38:47<13:02, 43.32it/s]"
     ]
    },
    {
     "name": "stdout",
     "output_type": "stream",
     "text": [
      "Epoch [66100/100000]\n",
      "Train Loss: 5.8684, Train Accuracy: 0.0833\n",
      "Train Precision (micro): 0.0833, Train Precision (macro): 0.0082\n",
      "Train Recall (micro): 0.0833, Train Recall (macro): 0.0128\n",
      "Train F1 (micro): 0.0833, Train F1 (macro): 0.0079\n",
      "\n",
      "Val Loss: 5.8466, Val Accuracy: 0.0803\n",
      "Val Precision (micro): 0.0803, Val Precision (macro): 0.0091\n",
      "Val Recall (micro): 0.0803, Val Recall (macro): 0.0171\n",
      "Val F1 (micro): 0.0803, Val F1 (macro): 0.0095\n",
      "--------------------------------------------------------------------------------\n"
     ]
    },
    {
     "name": "stderr",
     "output_type": "stream",
     "text": [
      " 66%|██████▌   | 66196/100000 [38:51<12:06, 46.55it/s]"
     ]
    },
    {
     "name": "stdout",
     "output_type": "stream",
     "text": [
      "Epoch [66200/100000]\n",
      "Train Loss: 5.8774, Train Accuracy: 0.0848\n",
      "Train Precision (micro): 0.0848, Train Precision (macro): 0.0087\n",
      "Train Recall (micro): 0.0848, Train Recall (macro): 0.0132\n",
      "Train F1 (micro): 0.0848, Train F1 (macro): 0.0076\n",
      "\n",
      "Val Loss: 5.8640, Val Accuracy: 0.0794\n",
      "Val Precision (micro): 0.0794, Val Precision (macro): 0.0083\n",
      "Val Recall (micro): 0.0794, Val Recall (macro): 0.0167\n",
      "Val F1 (micro): 0.0794, Val F1 (macro): 0.0088\n",
      "--------------------------------------------------------------------------------\n"
     ]
    },
    {
     "name": "stderr",
     "output_type": "stream",
     "text": [
      " 66%|██████▋   | 66297/100000 [38:54<11:45, 47.77it/s]"
     ]
    },
    {
     "name": "stdout",
     "output_type": "stream",
     "text": [
      "Epoch [66300/100000]\n",
      "Train Loss: 5.9094, Train Accuracy: 0.0808\n",
      "Train Precision (micro): 0.0808, Train Precision (macro): 0.0073\n",
      "Train Recall (micro): 0.0808, Train Recall (macro): 0.0123\n",
      "Train F1 (micro): 0.0808, Train F1 (macro): 0.0071\n",
      "\n",
      "Val Loss: 5.8478, Val Accuracy: 0.0788\n",
      "Val Precision (micro): 0.0788, Val Precision (macro): 0.0098\n",
      "Val Recall (micro): 0.0788, Val Recall (macro): 0.0168\n",
      "Val F1 (micro): 0.0788, Val F1 (macro): 0.0095\n",
      "--------------------------------------------------------------------------------\n"
     ]
    },
    {
     "name": "stderr",
     "output_type": "stream",
     "text": [
      " 66%|██████▋   | 66395/100000 [38:58<11:16, 49.69it/s]"
     ]
    },
    {
     "name": "stdout",
     "output_type": "stream",
     "text": [
      "Epoch [66400/100000]\n",
      "Train Loss: 5.8718, Train Accuracy: 0.0830\n",
      "Train Precision (micro): 0.0830, Train Precision (macro): 0.0075\n",
      "Train Recall (micro): 0.0830, Train Recall (macro): 0.0124\n",
      "Train F1 (micro): 0.0830, Train F1 (macro): 0.0073\n",
      "\n",
      "Val Loss: 5.8459, Val Accuracy: 0.0819\n",
      "Val Precision (micro): 0.0819, Val Precision (macro): 0.0100\n",
      "Val Recall (micro): 0.0819, Val Recall (macro): 0.0184\n",
      "Val F1 (micro): 0.0819, Val F1 (macro): 0.0105\n",
      "--------------------------------------------------------------------------------\n"
     ]
    },
    {
     "name": "stderr",
     "output_type": "stream",
     "text": [
      " 66%|██████▋   | 66496/100000 [39:01<11:47, 47.36it/s]"
     ]
    },
    {
     "name": "stdout",
     "output_type": "stream",
     "text": [
      "Epoch [66500/100000]\n",
      "Train Loss: 5.8603, Train Accuracy: 0.0841\n",
      "Train Precision (micro): 0.0841, Train Precision (macro): 0.0076\n",
      "Train Recall (micro): 0.0841, Train Recall (macro): 0.0132\n",
      "Train F1 (micro): 0.0841, Train F1 (macro): 0.0078\n",
      "\n",
      "Val Loss: 5.8501, Val Accuracy: 0.0816\n",
      "Val Precision (micro): 0.0816, Val Precision (macro): 0.0091\n",
      "Val Recall (micro): 0.0816, Val Recall (macro): 0.0171\n",
      "Val F1 (micro): 0.0816, Val F1 (macro): 0.0099\n",
      "--------------------------------------------------------------------------------\n"
     ]
    },
    {
     "name": "stderr",
     "output_type": "stream",
     "text": [
      " 67%|██████▋   | 66597/100000 [39:05<11:58, 46.47it/s]"
     ]
    },
    {
     "name": "stdout",
     "output_type": "stream",
     "text": [
      "Epoch [66600/100000]\n",
      "Train Loss: 5.8565, Train Accuracy: 0.0827\n",
      "Train Precision (micro): 0.0827, Train Precision (macro): 0.0069\n",
      "Train Recall (micro): 0.0827, Train Recall (macro): 0.0107\n",
      "Train F1 (micro): 0.0827, Train F1 (macro): 0.0070\n",
      "\n",
      "Val Loss: 5.8505, Val Accuracy: 0.0813\n",
      "Val Precision (micro): 0.0813, Val Precision (macro): 0.0096\n",
      "Val Recall (micro): 0.0813, Val Recall (macro): 0.0171\n",
      "Val F1 (micro): 0.0813, Val F1 (macro): 0.0098\n",
      "--------------------------------------------------------------------------------\n"
     ]
    },
    {
     "name": "stderr",
     "output_type": "stream",
     "text": [
      " 67%|██████▋   | 66697/100000 [39:09<11:29, 48.27it/s]  "
     ]
    },
    {
     "name": "stdout",
     "output_type": "stream",
     "text": [
      "Epoch [66700/100000]\n",
      "Train Loss: 5.8368, Train Accuracy: 0.0834\n",
      "Train Precision (micro): 0.0834, Train Precision (macro): 0.0060\n",
      "Train Recall (micro): 0.0834, Train Recall (macro): 0.0103\n",
      "Train F1 (micro): 0.0834, Train F1 (macro): 0.0058\n",
      "\n",
      "Val Loss: 5.8502, Val Accuracy: 0.0813\n",
      "Val Precision (micro): 0.0813, Val Precision (macro): 0.0089\n",
      "Val Recall (micro): 0.0813, Val Recall (macro): 0.0166\n",
      "Val F1 (micro): 0.0813, Val F1 (macro): 0.0093\n",
      "--------------------------------------------------------------------------------\n"
     ]
    },
    {
     "name": "stderr",
     "output_type": "stream",
     "text": [
      " 67%|██████▋   | 66797/100000 [39:14<11:51, 46.65it/s]  "
     ]
    },
    {
     "name": "stdout",
     "output_type": "stream",
     "text": [
      "Epoch [66800/100000]\n",
      "Train Loss: 5.8925, Train Accuracy: 0.0752\n",
      "Train Precision (micro): 0.0752, Train Precision (macro): 0.0045\n",
      "Train Recall (micro): 0.0752, Train Recall (macro): 0.0093\n",
      "Train F1 (micro): 0.0752, Train F1 (macro): 0.0049\n",
      "\n",
      "Val Loss: 5.8599, Val Accuracy: 0.0819\n",
      "Val Precision (micro): 0.0819, Val Precision (macro): 0.0085\n",
      "Val Recall (micro): 0.0819, Val Recall (macro): 0.0172\n",
      "Val F1 (micro): 0.0819, Val F1 (macro): 0.0092\n",
      "--------------------------------------------------------------------------------\n"
     ]
    },
    {
     "name": "stderr",
     "output_type": "stream",
     "text": [
      " 67%|██████▋   | 66899/100000 [39:17<10:55, 50.47it/s]"
     ]
    },
    {
     "name": "stdout",
     "output_type": "stream",
     "text": [
      "Epoch [66900/100000]\n",
      "Train Loss: 5.8677, Train Accuracy: 0.0834\n",
      "Train Precision (micro): 0.0834, Train Precision (macro): 0.0046\n",
      "Train Recall (micro): 0.0834, Train Recall (macro): 0.0110\n",
      "Train F1 (micro): 0.0834, Train F1 (macro): 0.0054\n",
      "\n",
      "Val Loss: 5.8634, Val Accuracy: 0.0800\n",
      "Val Precision (micro): 0.0800, Val Precision (macro): 0.0096\n",
      "Val Recall (micro): 0.0800, Val Recall (macro): 0.0174\n",
      "Val F1 (micro): 0.0800, Val F1 (macro): 0.0101\n",
      "--------------------------------------------------------------------------------\n"
     ]
    },
    {
     "name": "stderr",
     "output_type": "stream",
     "text": [
      " 67%|██████▋   | 66996/100000 [39:20<11:12, 49.07it/s]"
     ]
    },
    {
     "name": "stdout",
     "output_type": "stream",
     "text": [
      "Epoch [67000/100000]\n",
      "Train Loss: 5.8766, Train Accuracy: 0.0809\n",
      "Train Precision (micro): 0.0809, Train Precision (macro): 0.0065\n",
      "Train Recall (micro): 0.0809, Train Recall (macro): 0.0107\n",
      "Train F1 (micro): 0.0809, Train F1 (macro): 0.0060\n",
      "\n",
      "Val Loss: 5.8483, Val Accuracy: 0.0831\n",
      "Val Precision (micro): 0.0831, Val Precision (macro): 0.0084\n",
      "Val Recall (micro): 0.0831, Val Recall (macro): 0.0173\n",
      "Val F1 (micro): 0.0831, Val F1 (macro): 0.0099\n",
      "--------------------------------------------------------------------------------\n"
     ]
    },
    {
     "name": "stderr",
     "output_type": "stream",
     "text": [
      " 67%|██████▋   | 67094/100000 [39:24<10:58, 49.97it/s]"
     ]
    },
    {
     "name": "stdout",
     "output_type": "stream",
     "text": [
      "Epoch [67100/100000]\n",
      "Train Loss: 5.8996, Train Accuracy: 0.0802\n",
      "Train Precision (micro): 0.0802, Train Precision (macro): 0.0060\n",
      "Train Recall (micro): 0.0802, Train Recall (macro): 0.0096\n",
      "Train F1 (micro): 0.0802, Train F1 (macro): 0.0056\n",
      "\n",
      "Val Loss: 5.8560, Val Accuracy: 0.0822\n",
      "Val Precision (micro): 0.0822, Val Precision (macro): 0.0088\n",
      "Val Recall (micro): 0.0822, Val Recall (macro): 0.0177\n",
      "Val F1 (micro): 0.0822, Val F1 (macro): 0.0103\n",
      "--------------------------------------------------------------------------------\n"
     ]
    },
    {
     "name": "stderr",
     "output_type": "stream",
     "text": [
      " 67%|██████▋   | 67196/100000 [39:27<10:59, 49.71it/s]"
     ]
    },
    {
     "name": "stdout",
     "output_type": "stream",
     "text": [
      "Epoch [67200/100000]\n",
      "Train Loss: 5.8489, Train Accuracy: 0.0805\n",
      "Train Precision (micro): 0.0805, Train Precision (macro): 0.0053\n",
      "Train Recall (micro): 0.0805, Train Recall (macro): 0.0089\n",
      "Train F1 (micro): 0.0805, Train F1 (macro): 0.0056\n",
      "\n",
      "Val Loss: 5.8474, Val Accuracy: 0.0816\n",
      "Val Precision (micro): 0.0816, Val Precision (macro): 0.0088\n",
      "Val Recall (micro): 0.0816, Val Recall (macro): 0.0181\n",
      "Val F1 (micro): 0.0816, Val F1 (macro): 0.0104\n",
      "--------------------------------------------------------------------------------\n"
     ]
    },
    {
     "name": "stderr",
     "output_type": "stream",
     "text": [
      " 67%|██████▋   | 67298/100000 [39:31<12:50, 42.44it/s]"
     ]
    },
    {
     "name": "stdout",
     "output_type": "stream",
     "text": [
      "Epoch [67300/100000]\n",
      "Train Loss: 5.8187, Train Accuracy: 0.0862\n",
      "Train Precision (micro): 0.0862, Train Precision (macro): 0.0087\n",
      "Train Recall (micro): 0.0862, Train Recall (macro): 0.0130\n",
      "Train F1 (micro): 0.0862, Train F1 (macro): 0.0084\n",
      "\n",
      "Val Loss: 5.8450, Val Accuracy: 0.0819\n",
      "Val Precision (micro): 0.0819, Val Precision (macro): 0.0092\n",
      "Val Recall (micro): 0.0819, Val Recall (macro): 0.0184\n",
      "Val F1 (micro): 0.0819, Val F1 (macro): 0.0107\n",
      "--------------------------------------------------------------------------------\n"
     ]
    },
    {
     "name": "stderr",
     "output_type": "stream",
     "text": [
      " 67%|██████▋   | 67397/100000 [39:35<11:25, 47.56it/s]  "
     ]
    },
    {
     "name": "stdout",
     "output_type": "stream",
     "text": [
      "Epoch [67400/100000]\n",
      "Train Loss: 5.8722, Train Accuracy: 0.0747\n",
      "Train Precision (micro): 0.0747, Train Precision (macro): 0.0059\n",
      "Train Recall (micro): 0.0747, Train Recall (macro): 0.0102\n",
      "Train F1 (micro): 0.0747, Train F1 (macro): 0.0055\n",
      "\n",
      "Val Loss: 5.8552, Val Accuracy: 0.0828\n",
      "Val Precision (micro): 0.0828, Val Precision (macro): 0.0091\n",
      "Val Recall (micro): 0.0828, Val Recall (macro): 0.0184\n",
      "Val F1 (micro): 0.0828, Val F1 (macro): 0.0105\n",
      "--------------------------------------------------------------------------------\n"
     ]
    },
    {
     "name": "stderr",
     "output_type": "stream",
     "text": [
      " 67%|██████▋   | 67494/100000 [39:38<11:17, 48.01it/s]"
     ]
    },
    {
     "name": "stdout",
     "output_type": "stream",
     "text": [
      "Epoch [67500/100000]\n",
      "Train Loss: 5.8886, Train Accuracy: 0.0864\n",
      "Train Precision (micro): 0.0864, Train Precision (macro): 0.0081\n",
      "Train Recall (micro): 0.0864, Train Recall (macro): 0.0137\n",
      "Train F1 (micro): 0.0864, Train F1 (macro): 0.0078\n",
      "\n",
      "Val Loss: 5.8520, Val Accuracy: 0.0838\n",
      "Val Precision (micro): 0.0838, Val Precision (macro): 0.0085\n",
      "Val Recall (micro): 0.0838, Val Recall (macro): 0.0175\n",
      "Val F1 (micro): 0.0838, Val F1 (macro): 0.0098\n",
      "--------------------------------------------------------------------------------\n"
     ]
    },
    {
     "name": "stderr",
     "output_type": "stream",
     "text": [
      " 68%|██████▊   | 67598/100000 [39:41<10:56, 49.32it/s]"
     ]
    },
    {
     "name": "stdout",
     "output_type": "stream",
     "text": [
      "Epoch [67600/100000]\n",
      "Train Loss: 5.8770, Train Accuracy: 0.0822\n",
      "Train Precision (micro): 0.0822, Train Precision (macro): 0.0047\n",
      "Train Recall (micro): 0.0822, Train Recall (macro): 0.0102\n",
      "Train F1 (micro): 0.0822, Train F1 (macro): 0.0054\n",
      "\n",
      "Val Loss: 5.8490, Val Accuracy: 0.0831\n",
      "Val Precision (micro): 0.0831, Val Precision (macro): 0.0093\n",
      "Val Recall (micro): 0.0831, Val Recall (macro): 0.0175\n",
      "Val F1 (micro): 0.0831, Val F1 (macro): 0.0101\n",
      "--------------------------------------------------------------------------------\n"
     ]
    },
    {
     "name": "stderr",
     "output_type": "stream",
     "text": [
      " 68%|██████▊   | 67699/100000 [39:45<10:41, 50.32it/s]  "
     ]
    },
    {
     "name": "stdout",
     "output_type": "stream",
     "text": [
      "Epoch [67700/100000]\n",
      "Train Loss: 5.8145, Train Accuracy: 0.0805\n",
      "Train Precision (micro): 0.0805, Train Precision (macro): 0.0064\n",
      "Train Recall (micro): 0.0805, Train Recall (macro): 0.0116\n",
      "Train F1 (micro): 0.0805, Train F1 (macro): 0.0071\n",
      "\n",
      "Val Loss: 5.8517, Val Accuracy: 0.0813\n",
      "Val Precision (micro): 0.0813, Val Precision (macro): 0.0093\n",
      "Val Recall (micro): 0.0813, Val Recall (macro): 0.0169\n",
      "Val F1 (micro): 0.0813, Val F1 (macro): 0.0103\n",
      "--------------------------------------------------------------------------------\n"
     ]
    },
    {
     "name": "stderr",
     "output_type": "stream",
     "text": [
      " 68%|██████▊   | 67797/100000 [39:49<11:38, 46.10it/s]"
     ]
    },
    {
     "name": "stdout",
     "output_type": "stream",
     "text": [
      "Epoch [67800/100000]\n",
      "Train Loss: 5.8927, Train Accuracy: 0.0750\n",
      "Train Precision (micro): 0.0750, Train Precision (macro): 0.0064\n",
      "Train Recall (micro): 0.0750, Train Recall (macro): 0.0104\n",
      "Train F1 (micro): 0.0750, Train F1 (macro): 0.0058\n",
      "\n",
      "Val Loss: 5.8446, Val Accuracy: 0.0803\n",
      "Val Precision (micro): 0.0803, Val Precision (macro): 0.0090\n",
      "Val Recall (micro): 0.0803, Val Recall (macro): 0.0172\n",
      "Val F1 (micro): 0.0803, Val F1 (macro): 0.0101\n",
      "--------------------------------------------------------------------------------\n"
     ]
    },
    {
     "name": "stderr",
     "output_type": "stream",
     "text": [
      " 68%|██████▊   | 67895/100000 [39:52<10:59, 48.65it/s]"
     ]
    },
    {
     "name": "stdout",
     "output_type": "stream",
     "text": [
      "Epoch [67900/100000]\n",
      "Train Loss: 5.8107, Train Accuracy: 0.0839\n",
      "Train Precision (micro): 0.0839, Train Precision (macro): 0.0071\n",
      "Train Recall (micro): 0.0839, Train Recall (macro): 0.0117\n",
      "Train F1 (micro): 0.0839, Train F1 (macro): 0.0069\n",
      "\n",
      "Val Loss: 5.8451, Val Accuracy: 0.0788\n",
      "Val Precision (micro): 0.0788, Val Precision (macro): 0.0083\n",
      "Val Recall (micro): 0.0788, Val Recall (macro): 0.0171\n",
      "Val F1 (micro): 0.0788, Val F1 (macro): 0.0094\n",
      "--------------------------------------------------------------------------------\n"
     ]
    },
    {
     "name": "stderr",
     "output_type": "stream",
     "text": [
      " 68%|██████▊   | 67998/100000 [39:56<11:08, 47.86it/s]"
     ]
    },
    {
     "name": "stdout",
     "output_type": "stream",
     "text": [
      "Epoch [68000/100000]\n",
      "Train Loss: 5.8461, Train Accuracy: 0.0853\n",
      "Train Precision (micro): 0.0853, Train Precision (macro): 0.0098\n",
      "Train Recall (micro): 0.0853, Train Recall (macro): 0.0143\n",
      "Train F1 (micro): 0.0853, Train F1 (macro): 0.0095\n",
      "\n",
      "Val Loss: 5.8435, Val Accuracy: 0.0809\n",
      "Val Precision (micro): 0.0809, Val Precision (macro): 0.0086\n",
      "Val Recall (micro): 0.0809, Val Recall (macro): 0.0172\n",
      "Val F1 (micro): 0.0809, Val F1 (macro): 0.0098\n",
      "--------------------------------------------------------------------------------\n"
     ]
    },
    {
     "name": "stderr",
     "output_type": "stream",
     "text": [
      " 68%|██████▊   | 68096/100000 [39:59<10:49, 49.14it/s]"
     ]
    },
    {
     "name": "stdout",
     "output_type": "stream",
     "text": [
      "Epoch [68100/100000]\n",
      "Train Loss: 5.8340, Train Accuracy: 0.0833\n",
      "Train Precision (micro): 0.0833, Train Precision (macro): 0.0058\n",
      "Train Recall (micro): 0.0833, Train Recall (macro): 0.0115\n",
      "Train F1 (micro): 0.0833, Train F1 (macro): 0.0063\n",
      "\n",
      "Val Loss: 5.8428, Val Accuracy: 0.0800\n",
      "Val Precision (micro): 0.0800, Val Precision (macro): 0.0102\n",
      "Val Recall (micro): 0.0800, Val Recall (macro): 0.0170\n",
      "Val F1 (micro): 0.0800, Val F1 (macro): 0.0102\n",
      "--------------------------------------------------------------------------------\n"
     ]
    },
    {
     "name": "stderr",
     "output_type": "stream",
     "text": [
      " 68%|██████▊   | 68199/100000 [40:03<11:48, 44.87it/s]"
     ]
    },
    {
     "name": "stdout",
     "output_type": "stream",
     "text": [
      "Epoch [68200/100000]\n",
      "Train Loss: 5.8168, Train Accuracy: 0.0875\n",
      "Train Precision (micro): 0.0875, Train Precision (macro): 0.0063\n",
      "Train Recall (micro): 0.0875, Train Recall (macro): 0.0112\n",
      "Train F1 (micro): 0.0875, Train F1 (macro): 0.0069\n",
      "\n",
      "Val Loss: 5.8496, Val Accuracy: 0.0834\n",
      "Val Precision (micro): 0.0834, Val Precision (macro): 0.0115\n",
      "Val Recall (micro): 0.0834, Val Recall (macro): 0.0187\n",
      "Val F1 (micro): 0.0834, Val F1 (macro): 0.0111\n",
      "--------------------------------------------------------------------------------\n"
     ]
    },
    {
     "name": "stderr",
     "output_type": "stream",
     "text": [
      " 68%|██████▊   | 68297/100000 [40:07<12:10, 43.43it/s]"
     ]
    },
    {
     "name": "stdout",
     "output_type": "stream",
     "text": [
      "Epoch [68300/100000]\n",
      "Train Loss: 5.8905, Train Accuracy: 0.0789\n",
      "Train Precision (micro): 0.0789, Train Precision (macro): 0.0069\n",
      "Train Recall (micro): 0.0789, Train Recall (macro): 0.0116\n",
      "Train F1 (micro): 0.0789, Train F1 (macro): 0.0067\n",
      "\n",
      "Val Loss: 5.8458, Val Accuracy: 0.0788\n",
      "Val Precision (micro): 0.0788, Val Precision (macro): 0.0092\n",
      "Val Recall (micro): 0.0788, Val Recall (macro): 0.0172\n",
      "Val F1 (micro): 0.0788, Val F1 (macro): 0.0101\n",
      "--------------------------------------------------------------------------------\n"
     ]
    },
    {
     "name": "stderr",
     "output_type": "stream",
     "text": [
      " 68%|██████▊   | 68397/100000 [40:10<12:29, 42.15it/s]"
     ]
    },
    {
     "name": "stdout",
     "output_type": "stream",
     "text": [
      "Epoch [68400/100000]\n",
      "Train Loss: 5.8371, Train Accuracy: 0.0814\n",
      "Train Precision (micro): 0.0814, Train Precision (macro): 0.0072\n",
      "Train Recall (micro): 0.0814, Train Recall (macro): 0.0108\n",
      "Train F1 (micro): 0.0814, Train F1 (macro): 0.0065\n",
      "\n",
      "Val Loss: 5.8479, Val Accuracy: 0.0813\n",
      "Val Precision (micro): 0.0813, Val Precision (macro): 0.0098\n",
      "Val Recall (micro): 0.0813, Val Recall (macro): 0.0171\n",
      "Val F1 (micro): 0.0813, Val F1 (macro): 0.0102\n",
      "--------------------------------------------------------------------------------\n"
     ]
    },
    {
     "name": "stderr",
     "output_type": "stream",
     "text": [
      " 68%|██████▊   | 68498/100000 [40:14<11:11, 46.93it/s]"
     ]
    },
    {
     "name": "stdout",
     "output_type": "stream",
     "text": [
      "Epoch [68500/100000]\n",
      "Train Loss: 5.8865, Train Accuracy: 0.0802\n",
      "Train Precision (micro): 0.0802, Train Precision (macro): 0.0066\n",
      "Train Recall (micro): 0.0802, Train Recall (macro): 0.0102\n",
      "Train F1 (micro): 0.0802, Train F1 (macro): 0.0062\n",
      "\n",
      "Val Loss: 5.8519, Val Accuracy: 0.0822\n",
      "Val Precision (micro): 0.0822, Val Precision (macro): 0.0094\n",
      "Val Recall (micro): 0.0822, Val Recall (macro): 0.0182\n",
      "Val F1 (micro): 0.0822, Val F1 (macro): 0.0104\n",
      "--------------------------------------------------------------------------------\n"
     ]
    },
    {
     "name": "stderr",
     "output_type": "stream",
     "text": [
      " 69%|██████▊   | 68596/100000 [40:18<10:52, 48.14it/s]  "
     ]
    },
    {
     "name": "stdout",
     "output_type": "stream",
     "text": [
      "Epoch [68600/100000]\n",
      "Train Loss: 5.7932, Train Accuracy: 0.0862\n",
      "Train Precision (micro): 0.0862, Train Precision (macro): 0.0056\n",
      "Train Recall (micro): 0.0862, Train Recall (macro): 0.0101\n",
      "Train F1 (micro): 0.0862, Train F1 (macro): 0.0053\n",
      "\n",
      "Val Loss: 5.8397, Val Accuracy: 0.0838\n",
      "Val Precision (micro): 0.0838, Val Precision (macro): 0.0092\n",
      "Val Recall (micro): 0.0838, Val Recall (macro): 0.0181\n",
      "Val F1 (micro): 0.0838, Val F1 (macro): 0.0100\n",
      "--------------------------------------------------------------------------------\n"
     ]
    },
    {
     "name": "stderr",
     "output_type": "stream",
     "text": [
      " 69%|██████▊   | 68694/100000 [40:21<11:00, 47.42it/s]"
     ]
    },
    {
     "name": "stdout",
     "output_type": "stream",
     "text": [
      "Epoch [68700/100000]\n",
      "Train Loss: 5.8698, Train Accuracy: 0.0780\n",
      "Train Precision (micro): 0.0780, Train Precision (macro): 0.0058\n",
      "Train Recall (micro): 0.0780, Train Recall (macro): 0.0105\n",
      "Train F1 (micro): 0.0780, Train F1 (macro): 0.0059\n",
      "\n",
      "Val Loss: 5.8513, Val Accuracy: 0.0816\n",
      "Val Precision (micro): 0.0816, Val Precision (macro): 0.0091\n",
      "Val Recall (micro): 0.0816, Val Recall (macro): 0.0176\n",
      "Val F1 (micro): 0.0816, Val F1 (macro): 0.0102\n",
      "--------------------------------------------------------------------------------\n"
     ]
    },
    {
     "name": "stderr",
     "output_type": "stream",
     "text": [
      " 69%|██████▉   | 68796/100000 [40:25<10:40, 48.68it/s]"
     ]
    },
    {
     "name": "stdout",
     "output_type": "stream",
     "text": [
      "Epoch [68800/100000]\n",
      "Train Loss: 5.8659, Train Accuracy: 0.0839\n",
      "Train Precision (micro): 0.0839, Train Precision (macro): 0.0063\n",
      "Train Recall (micro): 0.0839, Train Recall (macro): 0.0121\n",
      "Train F1 (micro): 0.0839, Train F1 (macro): 0.0069\n",
      "\n",
      "Val Loss: 5.8419, Val Accuracy: 0.0797\n",
      "Val Precision (micro): 0.0797, Val Precision (macro): 0.0116\n",
      "Val Recall (micro): 0.0797, Val Recall (macro): 0.0179\n",
      "Val F1 (micro): 0.0797, Val F1 (macro): 0.0114\n",
      "--------------------------------------------------------------------------------\n"
     ]
    },
    {
     "name": "stderr",
     "output_type": "stream",
     "text": [
      " 69%|██████▉   | 68899/100000 [40:28<10:40, 48.57it/s]"
     ]
    },
    {
     "name": "stdout",
     "output_type": "stream",
     "text": [
      "Epoch [68900/100000]\n",
      "Train Loss: 5.7787, Train Accuracy: 0.0873\n",
      "Train Precision (micro): 0.0873, Train Precision (macro): 0.0057\n",
      "Train Recall (micro): 0.0873, Train Recall (macro): 0.0107\n",
      "Train F1 (micro): 0.0873, Train F1 (macro): 0.0060\n",
      "\n",
      "Val Loss: 5.8444, Val Accuracy: 0.0797\n",
      "Val Precision (micro): 0.0797, Val Precision (macro): 0.0083\n",
      "Val Recall (micro): 0.0797, Val Recall (macro): 0.0169\n",
      "Val F1 (micro): 0.0797, Val F1 (macro): 0.0096\n",
      "--------------------------------------------------------------------------------\n"
     ]
    },
    {
     "name": "stderr",
     "output_type": "stream",
     "text": [
      " 69%|██████▉   | 68998/100000 [40:31<11:13, 46.03it/s]"
     ]
    },
    {
     "name": "stdout",
     "output_type": "stream",
     "text": [
      "Epoch [69000/100000]\n",
      "Train Loss: 5.8072, Train Accuracy: 0.0841\n",
      "Train Precision (micro): 0.0841, Train Precision (macro): 0.0083\n",
      "Train Recall (micro): 0.0841, Train Recall (macro): 0.0132\n",
      "Train F1 (micro): 0.0841, Train F1 (macro): 0.0075\n",
      "\n",
      "Val Loss: 5.8502, Val Accuracy: 0.0831\n",
      "Val Precision (micro): 0.0831, Val Precision (macro): 0.0098\n",
      "Val Recall (micro): 0.0831, Val Recall (macro): 0.0179\n",
      "Val F1 (micro): 0.0831, Val F1 (macro): 0.0103\n",
      "--------------------------------------------------------------------------------\n"
     ]
    },
    {
     "name": "stderr",
     "output_type": "stream",
     "text": [
      " 69%|██████▉   | 69096/100000 [40:35<10:51, 47.41it/s]"
     ]
    },
    {
     "name": "stdout",
     "output_type": "stream",
     "text": [
      "Epoch [69100/100000]\n",
      "Train Loss: 5.8428, Train Accuracy: 0.0798\n",
      "Train Precision (micro): 0.0798, Train Precision (macro): 0.0068\n",
      "Train Recall (micro): 0.0798, Train Recall (macro): 0.0109\n",
      "Train F1 (micro): 0.0798, Train F1 (macro): 0.0060\n",
      "\n",
      "Val Loss: 5.8434, Val Accuracy: 0.0834\n",
      "Val Precision (micro): 0.0834, Val Precision (macro): 0.0094\n",
      "Val Recall (micro): 0.0834, Val Recall (macro): 0.0177\n",
      "Val F1 (micro): 0.0834, Val F1 (macro): 0.0103\n",
      "--------------------------------------------------------------------------------\n"
     ]
    },
    {
     "name": "stderr",
     "output_type": "stream",
     "text": [
      " 69%|██████▉   | 69199/100000 [40:39<11:35, 44.26it/s]"
     ]
    },
    {
     "name": "stdout",
     "output_type": "stream",
     "text": [
      "Epoch [69200/100000]\n",
      "Train Loss: 5.7916, Train Accuracy: 0.0909\n",
      "Train Precision (micro): 0.0909, Train Precision (macro): 0.0078\n",
      "Train Recall (micro): 0.0909, Train Recall (macro): 0.0118\n",
      "Train F1 (micro): 0.0909, Train F1 (macro): 0.0070\n",
      "\n",
      "Val Loss: 5.8408, Val Accuracy: 0.0825\n",
      "Val Precision (micro): 0.0825, Val Precision (macro): 0.0097\n",
      "Val Recall (micro): 0.0825, Val Recall (macro): 0.0176\n",
      "Val F1 (micro): 0.0825, Val F1 (macro): 0.0102\n",
      "--------------------------------------------------------------------------------\n"
     ]
    },
    {
     "name": "stderr",
     "output_type": "stream",
     "text": [
      " 69%|██████▉   | 69298/100000 [40:43<12:49, 39.92it/s]"
     ]
    },
    {
     "name": "stdout",
     "output_type": "stream",
     "text": [
      "Epoch [69300/100000]\n",
      "Train Loss: 5.8474, Train Accuracy: 0.0878\n",
      "Train Precision (micro): 0.0878, Train Precision (macro): 0.0086\n",
      "Train Recall (micro): 0.0878, Train Recall (macro): 0.0140\n",
      "Train F1 (micro): 0.0878, Train F1 (macro): 0.0083\n",
      "\n",
      "Val Loss: 5.8417, Val Accuracy: 0.0813\n",
      "Val Precision (micro): 0.0813, Val Precision (macro): 0.0096\n",
      "Val Recall (micro): 0.0813, Val Recall (macro): 0.0170\n",
      "Val F1 (micro): 0.0813, Val F1 (macro): 0.0100\n",
      "--------------------------------------------------------------------------------\n"
     ]
    },
    {
     "name": "stderr",
     "output_type": "stream",
     "text": [
      " 69%|██████▉   | 69395/100000 [40:46<11:00, 46.36it/s]"
     ]
    },
    {
     "name": "stdout",
     "output_type": "stream",
     "text": [
      "Epoch [69400/100000]\n",
      "Train Loss: 5.9203, Train Accuracy: 0.0788\n",
      "Train Precision (micro): 0.0788, Train Precision (macro): 0.0062\n",
      "Train Recall (micro): 0.0788, Train Recall (macro): 0.0108\n",
      "Train F1 (micro): 0.0788, Train F1 (macro): 0.0061\n",
      "\n",
      "Val Loss: 5.8442, Val Accuracy: 0.0813\n",
      "Val Precision (micro): 0.0813, Val Precision (macro): 0.0094\n",
      "Val Recall (micro): 0.0813, Val Recall (macro): 0.0173\n",
      "Val F1 (micro): 0.0813, Val F1 (macro): 0.0097\n",
      "--------------------------------------------------------------------------------\n"
     ]
    },
    {
     "name": "stderr",
     "output_type": "stream",
     "text": [
      " 69%|██████▉   | 69497/100000 [40:49<10:24, 48.88it/s]"
     ]
    },
    {
     "name": "stdout",
     "output_type": "stream",
     "text": [
      "Epoch [69500/100000]\n",
      "Train Loss: 5.8551, Train Accuracy: 0.0820\n",
      "Train Precision (micro): 0.0820, Train Precision (macro): 0.0092\n",
      "Train Recall (micro): 0.0820, Train Recall (macro): 0.0133\n",
      "Train F1 (micro): 0.0820, Train F1 (macro): 0.0084\n",
      "\n",
      "Val Loss: 5.8409, Val Accuracy: 0.0834\n",
      "Val Precision (micro): 0.0834, Val Precision (macro): 0.0104\n",
      "Val Recall (micro): 0.0834, Val Recall (macro): 0.0184\n",
      "Val F1 (micro): 0.0834, Val F1 (macro): 0.0108\n",
      "--------------------------------------------------------------------------------\n"
     ]
    },
    {
     "name": "stderr",
     "output_type": "stream",
     "text": [
      " 70%|██████▉   | 69595/100000 [40:53<10:16, 49.31it/s]"
     ]
    },
    {
     "name": "stdout",
     "output_type": "stream",
     "text": [
      "Epoch [69600/100000]\n",
      "Train Loss: 5.8122, Train Accuracy: 0.0778\n",
      "Train Precision (micro): 0.0778, Train Precision (macro): 0.0071\n",
      "Train Recall (micro): 0.0778, Train Recall (macro): 0.0107\n",
      "Train F1 (micro): 0.0778, Train F1 (macro): 0.0063\n",
      "\n",
      "Val Loss: 5.8407, Val Accuracy: 0.0838\n",
      "Val Precision (micro): 0.0838, Val Precision (macro): 0.0094\n",
      "Val Recall (micro): 0.0838, Val Recall (macro): 0.0184\n",
      "Val F1 (micro): 0.0838, Val F1 (macro): 0.0107\n",
      "--------------------------------------------------------------------------------\n"
     ]
    },
    {
     "name": "stderr",
     "output_type": "stream",
     "text": [
      " 70%|██████▉   | 69697/100000 [40:56<10:18, 49.00it/s]"
     ]
    },
    {
     "name": "stdout",
     "output_type": "stream",
     "text": [
      "Epoch [69700/100000]\n",
      "Train Loss: 5.8513, Train Accuracy: 0.0794\n",
      "Train Precision (micro): 0.0794, Train Precision (macro): 0.0077\n",
      "Train Recall (micro): 0.0794, Train Recall (macro): 0.0108\n",
      "Train F1 (micro): 0.0794, Train F1 (macro): 0.0068\n",
      "\n",
      "Val Loss: 5.8458, Val Accuracy: 0.0800\n",
      "Val Precision (micro): 0.0800, Val Precision (macro): 0.0093\n",
      "Val Recall (micro): 0.0800, Val Recall (macro): 0.0177\n",
      "Val F1 (micro): 0.0800, Val F1 (macro): 0.0102\n",
      "--------------------------------------------------------------------------------\n"
     ]
    },
    {
     "name": "stderr",
     "output_type": "stream",
     "text": [
      " 70%|██████▉   | 69797/100000 [41:00<10:17, 48.94it/s]"
     ]
    },
    {
     "name": "stdout",
     "output_type": "stream",
     "text": [
      "Epoch [69800/100000]\n",
      "Train Loss: 5.9049, Train Accuracy: 0.0823\n",
      "Train Precision (micro): 0.0823, Train Precision (macro): 0.0086\n",
      "Train Recall (micro): 0.0823, Train Recall (macro): 0.0123\n",
      "Train F1 (micro): 0.0823, Train F1 (macro): 0.0079\n",
      "\n",
      "Val Loss: 5.8449, Val Accuracy: 0.0825\n",
      "Val Precision (micro): 0.0825, Val Precision (macro): 0.0088\n",
      "Val Recall (micro): 0.0825, Val Recall (macro): 0.0181\n",
      "Val F1 (micro): 0.0825, Val F1 (macro): 0.0102\n",
      "--------------------------------------------------------------------------------\n"
     ]
    },
    {
     "name": "stderr",
     "output_type": "stream",
     "text": [
      " 70%|██████▉   | 69896/100000 [41:03<11:22, 44.13it/s]"
     ]
    },
    {
     "name": "stdout",
     "output_type": "stream",
     "text": [
      "Epoch [69900/100000]\n",
      "Train Loss: 5.8735, Train Accuracy: 0.0750\n",
      "Train Precision (micro): 0.0750, Train Precision (macro): 0.0056\n",
      "Train Recall (micro): 0.0750, Train Recall (macro): 0.0104\n",
      "Train F1 (micro): 0.0750, Train F1 (macro): 0.0057\n",
      "\n",
      "Val Loss: 5.8406, Val Accuracy: 0.0800\n",
      "Val Precision (micro): 0.0800, Val Precision (macro): 0.0089\n",
      "Val Recall (micro): 0.0800, Val Recall (macro): 0.0169\n",
      "Val F1 (micro): 0.0800, Val F1 (macro): 0.0095\n",
      "--------------------------------------------------------------------------------\n"
     ]
    },
    {
     "name": "stderr",
     "output_type": "stream",
     "text": [
      " 70%|██████▉   | 69997/100000 [41:06<10:12, 48.97it/s]"
     ]
    },
    {
     "name": "stdout",
     "output_type": "stream",
     "text": [
      "Epoch [70000/100000]\n",
      "Train Loss: 5.8658, Train Accuracy: 0.0791\n",
      "Train Precision (micro): 0.0791, Train Precision (macro): 0.0084\n",
      "Train Recall (micro): 0.0791, Train Recall (macro): 0.0129\n",
      "Train F1 (micro): 0.0791, Train F1 (macro): 0.0084\n",
      "\n",
      "Val Loss: 5.8438, Val Accuracy: 0.0838\n",
      "Val Precision (micro): 0.0838, Val Precision (macro): 0.0100\n",
      "Val Recall (micro): 0.0838, Val Recall (macro): 0.0178\n",
      "Val F1 (micro): 0.0838, Val F1 (macro): 0.0104\n",
      "--------------------------------------------------------------------------------\n"
     ]
    },
    {
     "name": "stderr",
     "output_type": "stream",
     "text": [
      " 70%|███████   | 70097/100000 [41:10<10:08, 49.11it/s]"
     ]
    },
    {
     "name": "stdout",
     "output_type": "stream",
     "text": [
      "Epoch [70100/100000]\n",
      "Train Loss: 5.9121, Train Accuracy: 0.0838\n",
      "Train Precision (micro): 0.0838, Train Precision (macro): 0.0050\n",
      "Train Recall (micro): 0.0838, Train Recall (macro): 0.0111\n",
      "Train F1 (micro): 0.0838, Train F1 (macro): 0.0058\n",
      "\n",
      "Val Loss: 5.8514, Val Accuracy: 0.0784\n",
      "Val Precision (micro): 0.0784, Val Precision (macro): 0.0092\n",
      "Val Recall (micro): 0.0784, Val Recall (macro): 0.0167\n",
      "Val F1 (micro): 0.0784, Val F1 (macro): 0.0094\n",
      "--------------------------------------------------------------------------------\n"
     ]
    },
    {
     "name": "stderr",
     "output_type": "stream",
     "text": [
      " 70%|███████   | 70195/100000 [41:13<10:19, 48.14it/s]"
     ]
    },
    {
     "name": "stdout",
     "output_type": "stream",
     "text": [
      "Epoch [70200/100000]\n",
      "Train Loss: 5.8822, Train Accuracy: 0.0813\n",
      "Train Precision (micro): 0.0813, Train Precision (macro): 0.0057\n",
      "Train Recall (micro): 0.0813, Train Recall (macro): 0.0096\n",
      "Train F1 (micro): 0.0813, Train F1 (macro): 0.0058\n",
      "\n",
      "Val Loss: 5.8408, Val Accuracy: 0.0844\n",
      "Val Precision (micro): 0.0844, Val Precision (macro): 0.0107\n",
      "Val Recall (micro): 0.0844, Val Recall (macro): 0.0184\n",
      "Val F1 (micro): 0.0844, Val F1 (macro): 0.0108\n",
      "--------------------------------------------------------------------------------\n"
     ]
    },
    {
     "name": "stderr",
     "output_type": "stream",
     "text": [
      " 70%|███████   | 70298/100000 [41:17<12:23, 39.97it/s]"
     ]
    },
    {
     "name": "stdout",
     "output_type": "stream",
     "text": [
      "Epoch [70300/100000]\n",
      "Train Loss: 5.8284, Train Accuracy: 0.0820\n",
      "Train Precision (micro): 0.0820, Train Precision (macro): 0.0065\n",
      "Train Recall (micro): 0.0820, Train Recall (macro): 0.0114\n",
      "Train F1 (micro): 0.0820, Train F1 (macro): 0.0061\n",
      "\n",
      "Val Loss: 5.8479, Val Accuracy: 0.0791\n",
      "Val Precision (micro): 0.0791, Val Precision (macro): 0.0081\n",
      "Val Recall (micro): 0.0791, Val Recall (macro): 0.0168\n",
      "Val F1 (micro): 0.0791, Val F1 (macro): 0.0092\n",
      "--------------------------------------------------------------------------------\n"
     ]
    },
    {
     "name": "stderr",
     "output_type": "stream",
     "text": [
      " 70%|███████   | 70397/100000 [41:20<10:33, 46.72it/s]"
     ]
    },
    {
     "name": "stdout",
     "output_type": "stream",
     "text": [
      "Epoch [70400/100000]\n",
      "Train Loss: 5.8212, Train Accuracy: 0.0809\n",
      "Train Precision (micro): 0.0809, Train Precision (macro): 0.0070\n",
      "Train Recall (micro): 0.0809, Train Recall (macro): 0.0117\n",
      "Train F1 (micro): 0.0809, Train F1 (macro): 0.0067\n",
      "\n",
      "Val Loss: 5.8495, Val Accuracy: 0.0794\n",
      "Val Precision (micro): 0.0794, Val Precision (macro): 0.0076\n",
      "Val Recall (micro): 0.0794, Val Recall (macro): 0.0161\n",
      "Val F1 (micro): 0.0794, Val F1 (macro): 0.0086\n",
      "--------------------------------------------------------------------------------\n"
     ]
    },
    {
     "name": "stderr",
     "output_type": "stream",
     "text": [
      " 70%|███████   | 70496/100000 [41:24<10:37, 46.27it/s]"
     ]
    },
    {
     "name": "stdout",
     "output_type": "stream",
     "text": [
      "Epoch [70500/100000]\n",
      "Train Loss: 5.8440, Train Accuracy: 0.0794\n",
      "Train Precision (micro): 0.0794, Train Precision (macro): 0.0071\n",
      "Train Recall (micro): 0.0794, Train Recall (macro): 0.0119\n",
      "Train F1 (micro): 0.0794, Train F1 (macro): 0.0069\n",
      "\n",
      "Val Loss: 5.8397, Val Accuracy: 0.0816\n",
      "Val Precision (micro): 0.0816, Val Precision (macro): 0.0105\n",
      "Val Recall (micro): 0.0816, Val Recall (macro): 0.0175\n",
      "Val F1 (micro): 0.0816, Val F1 (macro): 0.0102\n",
      "--------------------------------------------------------------------------------\n"
     ]
    },
    {
     "name": "stderr",
     "output_type": "stream",
     "text": [
      " 71%|███████   | 70596/100000 [41:27<10:53, 44.97it/s]"
     ]
    },
    {
     "name": "stdout",
     "output_type": "stream",
     "text": [
      "Epoch [70600/100000]\n",
      "Train Loss: 5.8885, Train Accuracy: 0.0806\n",
      "Train Precision (micro): 0.0806, Train Precision (macro): 0.0055\n",
      "Train Recall (micro): 0.0806, Train Recall (macro): 0.0113\n",
      "Train F1 (micro): 0.0806, Train F1 (macro): 0.0059\n",
      "\n",
      "Val Loss: 5.8769, Val Accuracy: 0.0828\n",
      "Val Precision (micro): 0.0828, Val Precision (macro): 0.0093\n",
      "Val Recall (micro): 0.0828, Val Recall (macro): 0.0179\n",
      "Val F1 (micro): 0.0828, Val F1 (macro): 0.0106\n",
      "--------------------------------------------------------------------------------\n"
     ]
    },
    {
     "name": "stderr",
     "output_type": "stream",
     "text": [
      " 71%|███████   | 70696/100000 [41:31<10:19, 47.32it/s]"
     ]
    },
    {
     "name": "stdout",
     "output_type": "stream",
     "text": [
      "Epoch [70700/100000]\n",
      "Train Loss: 5.8198, Train Accuracy: 0.0867\n",
      "Train Precision (micro): 0.0867, Train Precision (macro): 0.0061\n",
      "Train Recall (micro): 0.0867, Train Recall (macro): 0.0108\n",
      "Train F1 (micro): 0.0867, Train F1 (macro): 0.0066\n",
      "\n",
      "Val Loss: 5.8412, Val Accuracy: 0.0825\n",
      "Val Precision (micro): 0.0825, Val Precision (macro): 0.0081\n",
      "Val Recall (micro): 0.0825, Val Recall (macro): 0.0171\n",
      "Val F1 (micro): 0.0825, Val F1 (macro): 0.0094\n",
      "--------------------------------------------------------------------------------\n"
     ]
    },
    {
     "name": "stderr",
     "output_type": "stream",
     "text": [
      " 71%|███████   | 70799/100000 [41:34<10:17, 47.26it/s]"
     ]
    },
    {
     "name": "stdout",
     "output_type": "stream",
     "text": [
      "Epoch [70800/100000]\n",
      "Train Loss: 5.8531, Train Accuracy: 0.0856\n",
      "Train Precision (micro): 0.0856, Train Precision (macro): 0.0087\n",
      "Train Recall (micro): 0.0856, Train Recall (macro): 0.0125\n",
      "Train F1 (micro): 0.0856, Train F1 (macro): 0.0074\n",
      "\n",
      "Val Loss: 5.8424, Val Accuracy: 0.0813\n",
      "Val Precision (micro): 0.0813, Val Precision (macro): 0.0102\n",
      "Val Recall (micro): 0.0813, Val Recall (macro): 0.0179\n",
      "Val F1 (micro): 0.0813, Val F1 (macro): 0.0107\n",
      "--------------------------------------------------------------------------------\n"
     ]
    },
    {
     "name": "stderr",
     "output_type": "stream",
     "text": [
      " 71%|███████   | 70896/100000 [41:38<10:26, 46.44it/s]"
     ]
    },
    {
     "name": "stdout",
     "output_type": "stream",
     "text": [
      "Epoch [70900/100000]\n",
      "Train Loss: 5.8587, Train Accuracy: 0.0856\n",
      "Train Precision (micro): 0.0856, Train Precision (macro): 0.0071\n",
      "Train Recall (micro): 0.0856, Train Recall (macro): 0.0107\n",
      "Train F1 (micro): 0.0856, Train F1 (macro): 0.0062\n",
      "\n",
      "Val Loss: 5.8352, Val Accuracy: 0.0813\n",
      "Val Precision (micro): 0.0813, Val Precision (macro): 0.0090\n",
      "Val Recall (micro): 0.0813, Val Recall (macro): 0.0172\n",
      "Val F1 (micro): 0.0813, Val F1 (macro): 0.0099\n",
      "--------------------------------------------------------------------------------\n"
     ]
    },
    {
     "name": "stderr",
     "output_type": "stream",
     "text": [
      " 71%|███████   | 70997/100000 [41:41<10:54, 44.30it/s]"
     ]
    },
    {
     "name": "stdout",
     "output_type": "stream",
     "text": [
      "Epoch [71000/100000]\n",
      "Train Loss: 5.8500, Train Accuracy: 0.0831\n",
      "Train Precision (micro): 0.0831, Train Precision (macro): 0.0064\n",
      "Train Recall (micro): 0.0831, Train Recall (macro): 0.0118\n",
      "Train F1 (micro): 0.0831, Train F1 (macro): 0.0070\n",
      "\n",
      "Val Loss: 5.8451, Val Accuracy: 0.0822\n",
      "Val Precision (micro): 0.0822, Val Precision (macro): 0.0098\n",
      "Val Recall (micro): 0.0822, Val Recall (macro): 0.0178\n",
      "Val F1 (micro): 0.0822, Val F1 (macro): 0.0102\n",
      "--------------------------------------------------------------------------------\n"
     ]
    },
    {
     "name": "stderr",
     "output_type": "stream",
     "text": [
      " 71%|███████   | 71094/100000 [41:44<09:38, 49.96it/s]"
     ]
    },
    {
     "name": "stdout",
     "output_type": "stream",
     "text": [
      "Epoch [71100/100000]\n",
      "Train Loss: 5.8344, Train Accuracy: 0.0862\n",
      "Train Precision (micro): 0.0862, Train Precision (macro): 0.0059\n",
      "Train Recall (micro): 0.0862, Train Recall (macro): 0.0110\n",
      "Train F1 (micro): 0.0862, Train F1 (macro): 0.0063\n",
      "\n",
      "Val Loss: 5.8452, Val Accuracy: 0.0825\n",
      "Val Precision (micro): 0.0825, Val Precision (macro): 0.0101\n",
      "Val Recall (micro): 0.0825, Val Recall (macro): 0.0181\n",
      "Val F1 (micro): 0.0825, Val F1 (macro): 0.0105\n",
      "--------------------------------------------------------------------------------\n"
     ]
    },
    {
     "name": "stderr",
     "output_type": "stream",
     "text": [
      " 71%|███████   | 71195/100000 [41:48<11:20, 42.33it/s]"
     ]
    },
    {
     "name": "stdout",
     "output_type": "stream",
     "text": [
      "Epoch [71200/100000]\n",
      "Train Loss: 5.7984, Train Accuracy: 0.0853\n",
      "Train Precision (micro): 0.0853, Train Precision (macro): 0.0058\n",
      "Train Recall (micro): 0.0853, Train Recall (macro): 0.0091\n",
      "Train F1 (micro): 0.0853, Train F1 (macro): 0.0053\n",
      "\n",
      "Val Loss: 5.8400, Val Accuracy: 0.0825\n",
      "Val Precision (micro): 0.0825, Val Precision (macro): 0.0078\n",
      "Val Recall (micro): 0.0825, Val Recall (macro): 0.0163\n",
      "Val F1 (micro): 0.0825, Val F1 (macro): 0.0089\n",
      "--------------------------------------------------------------------------------\n"
     ]
    },
    {
     "name": "stderr",
     "output_type": "stream",
     "text": [
      " 71%|███████▏  | 71298/100000 [41:53<13:13, 36.17it/s]  "
     ]
    },
    {
     "name": "stdout",
     "output_type": "stream",
     "text": [
      "Epoch [71300/100000]\n",
      "Train Loss: 5.8234, Train Accuracy: 0.0894\n",
      "Train Precision (micro): 0.0894, Train Precision (macro): 0.0063\n",
      "Train Recall (micro): 0.0894, Train Recall (macro): 0.0119\n",
      "Train F1 (micro): 0.0894, Train F1 (macro): 0.0069\n",
      "\n",
      "Val Loss: 5.8406, Val Accuracy: 0.0813\n",
      "Val Precision (micro): 0.0813, Val Precision (macro): 0.0078\n",
      "Val Recall (micro): 0.0813, Val Recall (macro): 0.0168\n",
      "Val F1 (micro): 0.0813, Val F1 (macro): 0.0090\n",
      "--------------------------------------------------------------------------------\n"
     ]
    },
    {
     "name": "stderr",
     "output_type": "stream",
     "text": [
      " 71%|███████▏  | 71395/100000 [41:56<09:49, 48.49it/s]"
     ]
    },
    {
     "name": "stdout",
     "output_type": "stream",
     "text": [
      "Epoch [71400/100000]\n",
      "Train Loss: 5.8455, Train Accuracy: 0.0770\n",
      "Train Precision (micro): 0.0770, Train Precision (macro): 0.0068\n",
      "Train Recall (micro): 0.0770, Train Recall (macro): 0.0099\n",
      "Train F1 (micro): 0.0770, Train F1 (macro): 0.0060\n",
      "\n",
      "Val Loss: 5.8438, Val Accuracy: 0.0819\n",
      "Val Precision (micro): 0.0819, Val Precision (macro): 0.0091\n",
      "Val Recall (micro): 0.0819, Val Recall (macro): 0.0179\n",
      "Val F1 (micro): 0.0819, Val F1 (macro): 0.0103\n",
      "--------------------------------------------------------------------------------\n"
     ]
    },
    {
     "name": "stderr",
     "output_type": "stream",
     "text": [
      " 71%|███████▏  | 71495/100000 [42:00<09:30, 49.96it/s]"
     ]
    },
    {
     "name": "stdout",
     "output_type": "stream",
     "text": [
      "Epoch [71500/100000]\n",
      "Train Loss: 5.8537, Train Accuracy: 0.0828\n",
      "Train Precision (micro): 0.0828, Train Precision (macro): 0.0072\n",
      "Train Recall (micro): 0.0828, Train Recall (macro): 0.0121\n",
      "Train F1 (micro): 0.0828, Train F1 (macro): 0.0069\n",
      "\n",
      "Val Loss: 5.8384, Val Accuracy: 0.0847\n",
      "Val Precision (micro): 0.0847, Val Precision (macro): 0.0099\n",
      "Val Recall (micro): 0.0847, Val Recall (macro): 0.0189\n",
      "Val F1 (micro): 0.0847, Val F1 (macro): 0.0109\n",
      "--------------------------------------------------------------------------------\n"
     ]
    },
    {
     "name": "stderr",
     "output_type": "stream",
     "text": [
      " 72%|███████▏  | 71599/100000 [42:03<09:37, 49.18it/s]"
     ]
    },
    {
     "name": "stdout",
     "output_type": "stream",
     "text": [
      "Epoch [71600/100000]\n",
      "Train Loss: 5.8559, Train Accuracy: 0.0847\n",
      "Train Precision (micro): 0.0847, Train Precision (macro): 0.0084\n",
      "Train Recall (micro): 0.0847, Train Recall (macro): 0.0128\n",
      "Train F1 (micro): 0.0847, Train F1 (macro): 0.0082\n",
      "\n",
      "Val Loss: 5.8403, Val Accuracy: 0.0809\n",
      "Val Precision (micro): 0.0809, Val Precision (macro): 0.0084\n",
      "Val Recall (micro): 0.0809, Val Recall (macro): 0.0169\n",
      "Val F1 (micro): 0.0809, Val F1 (macro): 0.0095\n",
      "--------------------------------------------------------------------------------\n"
     ]
    },
    {
     "name": "stderr",
     "output_type": "stream",
     "text": [
      " 72%|███████▏  | 71694/100000 [42:06<09:29, 49.68it/s]"
     ]
    },
    {
     "name": "stdout",
     "output_type": "stream",
     "text": [
      "Epoch [71700/100000]\n",
      "Train Loss: 5.8322, Train Accuracy: 0.0825\n",
      "Train Precision (micro): 0.0825, Train Precision (macro): 0.0055\n",
      "Train Recall (micro): 0.0825, Train Recall (macro): 0.0109\n",
      "Train F1 (micro): 0.0825, Train F1 (macro): 0.0059\n",
      "\n",
      "Val Loss: 5.8469, Val Accuracy: 0.0781\n",
      "Val Precision (micro): 0.0781, Val Precision (macro): 0.0085\n",
      "Val Recall (micro): 0.0781, Val Recall (macro): 0.0166\n",
      "Val F1 (micro): 0.0781, Val F1 (macro): 0.0095\n",
      "--------------------------------------------------------------------------------\n"
     ]
    },
    {
     "name": "stderr",
     "output_type": "stream",
     "text": [
      " 72%|███████▏  | 71796/100000 [42:10<09:48, 47.93it/s]"
     ]
    },
    {
     "name": "stdout",
     "output_type": "stream",
     "text": [
      "Epoch [71800/100000]\n",
      "Train Loss: 5.8075, Train Accuracy: 0.0827\n",
      "Train Precision (micro): 0.0827, Train Precision (macro): 0.0060\n",
      "Train Recall (micro): 0.0827, Train Recall (macro): 0.0092\n",
      "Train F1 (micro): 0.0827, Train F1 (macro): 0.0056\n",
      "\n",
      "Val Loss: 5.8372, Val Accuracy: 0.0797\n",
      "Val Precision (micro): 0.0797, Val Precision (macro): 0.0082\n",
      "Val Recall (micro): 0.0797, Val Recall (macro): 0.0169\n",
      "Val F1 (micro): 0.0797, Val F1 (macro): 0.0094\n",
      "--------------------------------------------------------------------------------\n"
     ]
    },
    {
     "name": "stderr",
     "output_type": "stream",
     "text": [
      " 72%|███████▏  | 71898/100000 [42:14<10:14, 45.74it/s]  "
     ]
    },
    {
     "name": "stdout",
     "output_type": "stream",
     "text": [
      "Epoch [71900/100000]\n",
      "Train Loss: 5.8250, Train Accuracy: 0.0809\n",
      "Train Precision (micro): 0.0809, Train Precision (macro): 0.0058\n",
      "Train Recall (micro): 0.0809, Train Recall (macro): 0.0111\n",
      "Train F1 (micro): 0.0809, Train F1 (macro): 0.0065\n",
      "\n",
      "Val Loss: 5.8450, Val Accuracy: 0.0819\n",
      "Val Precision (micro): 0.0819, Val Precision (macro): 0.0082\n",
      "Val Recall (micro): 0.0819, Val Recall (macro): 0.0167\n",
      "Val F1 (micro): 0.0819, Val F1 (macro): 0.0093\n",
      "--------------------------------------------------------------------------------\n"
     ]
    },
    {
     "name": "stderr",
     "output_type": "stream",
     "text": [
      " 72%|███████▏  | 71995/100000 [42:17<09:25, 49.55it/s]"
     ]
    },
    {
     "name": "stdout",
     "output_type": "stream",
     "text": [
      "Epoch [72000/100000]\n",
      "Train Loss: 5.8386, Train Accuracy: 0.0880\n",
      "Train Precision (micro): 0.0880, Train Precision (macro): 0.0079\n",
      "Train Recall (micro): 0.0880, Train Recall (macro): 0.0125\n",
      "Train F1 (micro): 0.0880, Train F1 (macro): 0.0075\n",
      "\n",
      "Val Loss: 5.8420, Val Accuracy: 0.0834\n",
      "Val Precision (micro): 0.0834, Val Precision (macro): 0.0084\n",
      "Val Recall (micro): 0.0834, Val Recall (macro): 0.0181\n",
      "Val F1 (micro): 0.0834, Val F1 (macro): 0.0100\n",
      "--------------------------------------------------------------------------------\n"
     ]
    },
    {
     "name": "stderr",
     "output_type": "stream",
     "text": [
      " 72%|███████▏  | 72096/100000 [42:21<09:24, 49.39it/s]"
     ]
    },
    {
     "name": "stdout",
     "output_type": "stream",
     "text": [
      "Epoch [72100/100000]\n",
      "Train Loss: 5.7746, Train Accuracy: 0.0791\n",
      "Train Precision (micro): 0.0791, Train Precision (macro): 0.0060\n",
      "Train Recall (micro): 0.0791, Train Recall (macro): 0.0111\n",
      "Train F1 (micro): 0.0791, Train F1 (macro): 0.0060\n",
      "\n",
      "Val Loss: 5.8409, Val Accuracy: 0.0813\n",
      "Val Precision (micro): 0.0813, Val Precision (macro): 0.0090\n",
      "Val Recall (micro): 0.0813, Val Recall (macro): 0.0170\n",
      "Val F1 (micro): 0.0813, Val F1 (macro): 0.0097\n",
      "--------------------------------------------------------------------------------\n"
     ]
    },
    {
     "name": "stderr",
     "output_type": "stream",
     "text": [
      " 72%|███████▏  | 72197/100000 [42:24<10:21, 44.72it/s]"
     ]
    },
    {
     "name": "stdout",
     "output_type": "stream",
     "text": [
      "Epoch [72200/100000]\n",
      "Train Loss: 5.8531, Train Accuracy: 0.0836\n",
      "Train Precision (micro): 0.0836, Train Precision (macro): 0.0070\n",
      "Train Recall (micro): 0.0836, Train Recall (macro): 0.0106\n",
      "Train F1 (micro): 0.0836, Train F1 (macro): 0.0061\n",
      "\n",
      "Val Loss: 5.8497, Val Accuracy: 0.0822\n",
      "Val Precision (micro): 0.0822, Val Precision (macro): 0.0081\n",
      "Val Recall (micro): 0.0822, Val Recall (macro): 0.0173\n",
      "Val F1 (micro): 0.0822, Val F1 (macro): 0.0095\n",
      "--------------------------------------------------------------------------------\n"
     ]
    },
    {
     "name": "stderr",
     "output_type": "stream",
     "text": [
      " 72%|███████▏  | 72295/100000 [42:28<10:32, 43.77it/s]"
     ]
    },
    {
     "name": "stdout",
     "output_type": "stream",
     "text": [
      "Epoch [72300/100000]\n",
      "Train Loss: 5.8760, Train Accuracy: 0.0786\n",
      "Train Precision (micro): 0.0786, Train Precision (macro): 0.0063\n",
      "Train Recall (micro): 0.0786, Train Recall (macro): 0.0108\n",
      "Train F1 (micro): 0.0786, Train F1 (macro): 0.0062\n",
      "\n",
      "Val Loss: 5.8389, Val Accuracy: 0.0813\n",
      "Val Precision (micro): 0.0813, Val Precision (macro): 0.0082\n",
      "Val Recall (micro): 0.0813, Val Recall (macro): 0.0170\n",
      "Val F1 (micro): 0.0813, Val F1 (macro): 0.0094\n",
      "--------------------------------------------------------------------------------\n"
     ]
    },
    {
     "name": "stderr",
     "output_type": "stream",
     "text": [
      " 72%|███████▏  | 72397/100000 [42:31<10:01, 45.91it/s]"
     ]
    },
    {
     "name": "stdout",
     "output_type": "stream",
     "text": [
      "Epoch [72400/100000]\n",
      "Train Loss: 5.7966, Train Accuracy: 0.0862\n",
      "Train Precision (micro): 0.0862, Train Precision (macro): 0.0089\n",
      "Train Recall (micro): 0.0862, Train Recall (macro): 0.0138\n",
      "Train F1 (micro): 0.0862, Train F1 (macro): 0.0082\n",
      "\n",
      "Val Loss: 5.8402, Val Accuracy: 0.0813\n",
      "Val Precision (micro): 0.0813, Val Precision (macro): 0.0082\n",
      "Val Recall (micro): 0.0813, Val Recall (macro): 0.0172\n",
      "Val F1 (micro): 0.0813, Val F1 (macro): 0.0095\n",
      "--------------------------------------------------------------------------------\n"
     ]
    },
    {
     "name": "stderr",
     "output_type": "stream",
     "text": [
      " 72%|███████▏  | 72498/100000 [42:35<09:22, 48.90it/s]"
     ]
    },
    {
     "name": "stdout",
     "output_type": "stream",
     "text": [
      "Epoch [72500/100000]\n",
      "Train Loss: 5.8592, Train Accuracy: 0.0798\n",
      "Train Precision (micro): 0.0798, Train Precision (macro): 0.0060\n",
      "Train Recall (micro): 0.0798, Train Recall (macro): 0.0118\n",
      "Train F1 (micro): 0.0798, Train F1 (macro): 0.0065\n",
      "\n",
      "Val Loss: 5.8480, Val Accuracy: 0.0841\n",
      "Val Precision (micro): 0.0841, Val Precision (macro): 0.0089\n",
      "Val Recall (micro): 0.0841, Val Recall (macro): 0.0179\n",
      "Val F1 (micro): 0.0841, Val F1 (macro): 0.0102\n",
      "--------------------------------------------------------------------------------\n"
     ]
    },
    {
     "name": "stderr",
     "output_type": "stream",
     "text": [
      " 73%|███████▎  | 72598/100000 [42:38<09:56, 45.91it/s]"
     ]
    },
    {
     "name": "stdout",
     "output_type": "stream",
     "text": [
      "Epoch [72600/100000]\n",
      "Train Loss: 5.8052, Train Accuracy: 0.0816\n",
      "Train Precision (micro): 0.0816, Train Precision (macro): 0.0073\n",
      "Train Recall (micro): 0.0816, Train Recall (macro): 0.0112\n",
      "Train F1 (micro): 0.0816, Train F1 (macro): 0.0065\n",
      "\n",
      "Val Loss: 5.8381, Val Accuracy: 0.0806\n",
      "Val Precision (micro): 0.0806, Val Precision (macro): 0.0091\n",
      "Val Recall (micro): 0.0806, Val Recall (macro): 0.0172\n",
      "Val F1 (micro): 0.0806, Val F1 (macro): 0.0097\n",
      "--------------------------------------------------------------------------------\n"
     ]
    },
    {
     "name": "stderr",
     "output_type": "stream",
     "text": [
      " 73%|███████▎  | 72699/100000 [42:42<09:11, 49.48it/s]"
     ]
    },
    {
     "name": "stdout",
     "output_type": "stream",
     "text": [
      "Epoch [72700/100000]\n",
      "Train Loss: 5.8306, Train Accuracy: 0.0862\n",
      "Train Precision (micro): 0.0862, Train Precision (macro): 0.0086\n",
      "Train Recall (micro): 0.0862, Train Recall (macro): 0.0136\n",
      "Train F1 (micro): 0.0862, Train F1 (macro): 0.0088\n",
      "\n",
      "Val Loss: 5.8420, Val Accuracy: 0.0825\n",
      "Val Precision (micro): 0.0825, Val Precision (macro): 0.0071\n",
      "Val Recall (micro): 0.0825, Val Recall (macro): 0.0169\n",
      "Val F1 (micro): 0.0825, Val F1 (macro): 0.0086\n",
      "--------------------------------------------------------------------------------\n"
     ]
    },
    {
     "name": "stderr",
     "output_type": "stream",
     "text": [
      " 73%|███████▎  | 72799/100000 [42:45<09:47, 46.30it/s]"
     ]
    },
    {
     "name": "stdout",
     "output_type": "stream",
     "text": [
      "Epoch [72800/100000]\n",
      "Train Loss: 5.9252, Train Accuracy: 0.0777\n",
      "Train Precision (micro): 0.0777, Train Precision (macro): 0.0068\n",
      "Train Recall (micro): 0.0777, Train Recall (macro): 0.0114\n",
      "Train F1 (micro): 0.0777, Train F1 (macro): 0.0063\n",
      "\n",
      "Val Loss: 5.8372, Val Accuracy: 0.0794\n",
      "Val Precision (micro): 0.0794, Val Precision (macro): 0.0077\n",
      "Val Recall (micro): 0.0794, Val Recall (macro): 0.0169\n",
      "Val F1 (micro): 0.0794, Val F1 (macro): 0.0091\n",
      "--------------------------------------------------------------------------------\n"
     ]
    },
    {
     "name": "stderr",
     "output_type": "stream",
     "text": [
      " 73%|███████▎  | 72898/100000 [42:48<09:26, 47.85it/s]"
     ]
    },
    {
     "name": "stdout",
     "output_type": "stream",
     "text": [
      "Epoch [72900/100000]\n",
      "Train Loss: 5.8145, Train Accuracy: 0.0830\n",
      "Train Precision (micro): 0.0830, Train Precision (macro): 0.0097\n",
      "Train Recall (micro): 0.0830, Train Recall (macro): 0.0127\n",
      "Train F1 (micro): 0.0830, Train F1 (macro): 0.0082\n",
      "\n",
      "Val Loss: 5.8389, Val Accuracy: 0.0800\n",
      "Val Precision (micro): 0.0800, Val Precision (macro): 0.0078\n",
      "Val Recall (micro): 0.0800, Val Recall (macro): 0.0168\n",
      "Val F1 (micro): 0.0800, Val F1 (macro): 0.0091\n",
      "--------------------------------------------------------------------------------\n"
     ]
    },
    {
     "name": "stderr",
     "output_type": "stream",
     "text": [
      " 73%|███████▎  | 72996/100000 [42:52<09:04, 49.59it/s]"
     ]
    },
    {
     "name": "stdout",
     "output_type": "stream",
     "text": [
      "Epoch [73000/100000]\n",
      "Train Loss: 5.8461, Train Accuracy: 0.0820\n",
      "Train Precision (micro): 0.0820, Train Precision (macro): 0.0063\n",
      "Train Recall (micro): 0.0820, Train Recall (macro): 0.0125\n",
      "Train F1 (micro): 0.0820, Train F1 (macro): 0.0071\n",
      "\n",
      "Val Loss: 5.8430, Val Accuracy: 0.0816\n",
      "Val Precision (micro): 0.0816, Val Precision (macro): 0.0082\n",
      "Val Recall (micro): 0.0816, Val Recall (macro): 0.0173\n",
      "Val F1 (micro): 0.0816, Val F1 (macro): 0.0094\n",
      "--------------------------------------------------------------------------------\n"
     ]
    },
    {
     "name": "stderr",
     "output_type": "stream",
     "text": [
      " 73%|███████▎  | 73097/100000 [42:55<09:31, 47.05it/s]"
     ]
    },
    {
     "name": "stdout",
     "output_type": "stream",
     "text": [
      "Epoch [73100/100000]\n",
      "Train Loss: 5.7975, Train Accuracy: 0.0858\n",
      "Train Precision (micro): 0.0858, Train Precision (macro): 0.0063\n",
      "Train Recall (micro): 0.0858, Train Recall (macro): 0.0107\n",
      "Train F1 (micro): 0.0858, Train F1 (macro): 0.0060\n",
      "\n",
      "Val Loss: 5.8377, Val Accuracy: 0.0834\n",
      "Val Precision (micro): 0.0834, Val Precision (macro): 0.0080\n",
      "Val Recall (micro): 0.0834, Val Recall (macro): 0.0174\n",
      "Val F1 (micro): 0.0834, Val F1 (macro): 0.0095\n",
      "--------------------------------------------------------------------------------\n"
     ]
    },
    {
     "name": "stderr",
     "output_type": "stream",
     "text": [
      " 73%|███████▎  | 73199/100000 [42:59<09:24, 47.50it/s]"
     ]
    },
    {
     "name": "stdout",
     "output_type": "stream",
     "text": [
      "Epoch [73200/100000]\n",
      "Train Loss: 5.8569, Train Accuracy: 0.0789\n",
      "Train Precision (micro): 0.0789, Train Precision (macro): 0.0058\n",
      "Train Recall (micro): 0.0789, Train Recall (macro): 0.0111\n",
      "Train F1 (micro): 0.0789, Train F1 (macro): 0.0062\n",
      "\n",
      "Val Loss: 5.8384, Val Accuracy: 0.0813\n",
      "Val Precision (micro): 0.0813, Val Precision (macro): 0.0094\n",
      "Val Recall (micro): 0.0813, Val Recall (macro): 0.0173\n",
      "Val F1 (micro): 0.0813, Val F1 (macro): 0.0099\n",
      "--------------------------------------------------------------------------------\n"
     ]
    },
    {
     "name": "stderr",
     "output_type": "stream",
     "text": [
      " 73%|███████▎  | 73294/100000 [43:02<09:38, 46.17it/s]"
     ]
    },
    {
     "name": "stdout",
     "output_type": "stream",
     "text": [
      "Epoch [73300/100000]\n",
      "Train Loss: 5.7873, Train Accuracy: 0.0873\n",
      "Train Precision (micro): 0.0873, Train Precision (macro): 0.0090\n",
      "Train Recall (micro): 0.0873, Train Recall (macro): 0.0142\n",
      "Train F1 (micro): 0.0873, Train F1 (macro): 0.0090\n",
      "\n",
      "Val Loss: 5.8407, Val Accuracy: 0.0844\n",
      "Val Precision (micro): 0.0844, Val Precision (macro): 0.0087\n",
      "Val Recall (micro): 0.0844, Val Recall (macro): 0.0182\n",
      "Val F1 (micro): 0.0844, Val F1 (macro): 0.0101\n",
      "--------------------------------------------------------------------------------\n"
     ]
    },
    {
     "name": "stderr",
     "output_type": "stream",
     "text": [
      " 73%|███████▎  | 73395/100000 [43:06<09:45, 45.43it/s]"
     ]
    },
    {
     "name": "stdout",
     "output_type": "stream",
     "text": [
      "Epoch [73400/100000]\n",
      "Train Loss: 5.8627, Train Accuracy: 0.0825\n",
      "Train Precision (micro): 0.0825, Train Precision (macro): 0.0052\n",
      "Train Recall (micro): 0.0825, Train Recall (macro): 0.0103\n",
      "Train F1 (micro): 0.0825, Train F1 (macro): 0.0057\n",
      "\n",
      "Val Loss: 5.8353, Val Accuracy: 0.0822\n",
      "Val Precision (micro): 0.0822, Val Precision (macro): 0.0093\n",
      "Val Recall (micro): 0.0822, Val Recall (macro): 0.0174\n",
      "Val F1 (micro): 0.0822, Val F1 (macro): 0.0099\n",
      "--------------------------------------------------------------------------------\n"
     ]
    },
    {
     "name": "stderr",
     "output_type": "stream",
     "text": [
      " 73%|███████▎  | 73497/100000 [43:09<09:34, 46.14it/s]"
     ]
    },
    {
     "name": "stdout",
     "output_type": "stream",
     "text": [
      "Epoch [73500/100000]\n",
      "Train Loss: 5.8335, Train Accuracy: 0.0817\n",
      "Train Precision (micro): 0.0817, Train Precision (macro): 0.0049\n",
      "Train Recall (micro): 0.0817, Train Recall (macro): 0.0116\n",
      "Train F1 (micro): 0.0817, Train F1 (macro): 0.0058\n",
      "\n",
      "Val Loss: 5.8388, Val Accuracy: 0.0806\n",
      "Val Precision (micro): 0.0806, Val Precision (macro): 0.0085\n",
      "Val Recall (micro): 0.0806, Val Recall (macro): 0.0166\n",
      "Val F1 (micro): 0.0806, Val F1 (macro): 0.0095\n",
      "--------------------------------------------------------------------------------\n"
     ]
    },
    {
     "name": "stderr",
     "output_type": "stream",
     "text": [
      " 74%|███████▎  | 73598/100000 [43:13<09:49, 44.76it/s]"
     ]
    },
    {
     "name": "stdout",
     "output_type": "stream",
     "text": [
      "Epoch [73600/100000]\n",
      "Train Loss: 5.8171, Train Accuracy: 0.0802\n",
      "Train Precision (micro): 0.0802, Train Precision (macro): 0.0052\n",
      "Train Recall (micro): 0.0802, Train Recall (macro): 0.0113\n",
      "Train F1 (micro): 0.0802, Train F1 (macro): 0.0059\n",
      "\n",
      "Val Loss: 5.8381, Val Accuracy: 0.0825\n",
      "Val Precision (micro): 0.0825, Val Precision (macro): 0.0085\n",
      "Val Recall (micro): 0.0825, Val Recall (macro): 0.0174\n",
      "Val F1 (micro): 0.0825, Val F1 (macro): 0.0097\n",
      "--------------------------------------------------------------------------------\n"
     ]
    },
    {
     "name": "stderr",
     "output_type": "stream",
     "text": [
      " 74%|███████▎  | 73697/100000 [43:16<09:08, 47.95it/s]"
     ]
    },
    {
     "name": "stdout",
     "output_type": "stream",
     "text": [
      "Epoch [73700/100000]\n",
      "Train Loss: 5.7931, Train Accuracy: 0.0808\n",
      "Train Precision (micro): 0.0808, Train Precision (macro): 0.0065\n",
      "Train Recall (micro): 0.0808, Train Recall (macro): 0.0120\n",
      "Train F1 (micro): 0.0808, Train F1 (macro): 0.0069\n",
      "\n",
      "Val Loss: 5.8356, Val Accuracy: 0.0800\n",
      "Val Precision (micro): 0.0800, Val Precision (macro): 0.0088\n",
      "Val Recall (micro): 0.0800, Val Recall (macro): 0.0177\n",
      "Val F1 (micro): 0.0800, Val F1 (macro): 0.0100\n",
      "--------------------------------------------------------------------------------\n"
     ]
    },
    {
     "name": "stderr",
     "output_type": "stream",
     "text": [
      " 74%|███████▍  | 73794/100000 [43:19<09:11, 47.53it/s]"
     ]
    },
    {
     "name": "stdout",
     "output_type": "stream",
     "text": [
      "Epoch [73800/100000]\n",
      "Train Loss: 5.8272, Train Accuracy: 0.0858\n",
      "Train Precision (micro): 0.0858, Train Precision (macro): 0.0069\n",
      "Train Recall (micro): 0.0858, Train Recall (macro): 0.0115\n",
      "Train F1 (micro): 0.0858, Train F1 (macro): 0.0069\n",
      "\n",
      "Val Loss: 5.8359, Val Accuracy: 0.0819\n",
      "Val Precision (micro): 0.0819, Val Precision (macro): 0.0089\n",
      "Val Recall (micro): 0.0819, Val Recall (macro): 0.0178\n",
      "Val F1 (micro): 0.0819, Val F1 (macro): 0.0100\n",
      "--------------------------------------------------------------------------------\n"
     ]
    },
    {
     "name": "stderr",
     "output_type": "stream",
     "text": [
      " 74%|███████▍  | 73894/100000 [43:23<08:58, 48.45it/s]"
     ]
    },
    {
     "name": "stdout",
     "output_type": "stream",
     "text": [
      "Epoch [73900/100000]\n",
      "Train Loss: 5.8308, Train Accuracy: 0.0806\n",
      "Train Precision (micro): 0.0806, Train Precision (macro): 0.0073\n",
      "Train Recall (micro): 0.0806, Train Recall (macro): 0.0116\n",
      "Train F1 (micro): 0.0806, Train F1 (macro): 0.0069\n",
      "\n",
      "Val Loss: 5.8327, Val Accuracy: 0.0825\n",
      "Val Precision (micro): 0.0825, Val Precision (macro): 0.0092\n",
      "Val Recall (micro): 0.0825, Val Recall (macro): 0.0184\n",
      "Val F1 (micro): 0.0825, Val F1 (macro): 0.0107\n",
      "--------------------------------------------------------------------------------\n"
     ]
    },
    {
     "name": "stderr",
     "output_type": "stream",
     "text": [
      " 74%|███████▍  | 73996/100000 [43:27<09:03, 47.83it/s]"
     ]
    },
    {
     "name": "stdout",
     "output_type": "stream",
     "text": [
      "Epoch [74000/100000]\n",
      "Train Loss: 5.8657, Train Accuracy: 0.0797\n",
      "Train Precision (micro): 0.0797, Train Precision (macro): 0.0077\n",
      "Train Recall (micro): 0.0797, Train Recall (macro): 0.0128\n",
      "Train F1 (micro): 0.0797, Train F1 (macro): 0.0076\n",
      "\n",
      "Val Loss: 5.8364, Val Accuracy: 0.0813\n",
      "Val Precision (micro): 0.0813, Val Precision (macro): 0.0085\n",
      "Val Recall (micro): 0.0813, Val Recall (macro): 0.0173\n",
      "Val F1 (micro): 0.0813, Val F1 (macro): 0.0099\n",
      "--------------------------------------------------------------------------------\n"
     ]
    },
    {
     "name": "stderr",
     "output_type": "stream",
     "text": [
      " 74%|███████▍  | 74096/100000 [43:30<09:22, 46.01it/s]"
     ]
    },
    {
     "name": "stdout",
     "output_type": "stream",
     "text": [
      "Epoch [74100/100000]\n",
      "Train Loss: 5.8693, Train Accuracy: 0.0823\n",
      "Train Precision (micro): 0.0823, Train Precision (macro): 0.0049\n",
      "Train Recall (micro): 0.0823, Train Recall (macro): 0.0102\n",
      "Train F1 (micro): 0.0823, Train F1 (macro): 0.0053\n",
      "\n",
      "Val Loss: 5.8354, Val Accuracy: 0.0825\n",
      "Val Precision (micro): 0.0825, Val Precision (macro): 0.0080\n",
      "Val Recall (micro): 0.0825, Val Recall (macro): 0.0174\n",
      "Val F1 (micro): 0.0825, Val F1 (macro): 0.0095\n",
      "--------------------------------------------------------------------------------\n"
     ]
    },
    {
     "name": "stderr",
     "output_type": "stream",
     "text": [
      " 74%|███████▍  | 74194/100000 [43:34<08:39, 49.71it/s]  "
     ]
    },
    {
     "name": "stdout",
     "output_type": "stream",
     "text": [
      "Epoch [74200/100000]\n",
      "Train Loss: 5.8802, Train Accuracy: 0.0823\n",
      "Train Precision (micro): 0.0823, Train Precision (macro): 0.0075\n",
      "Train Recall (micro): 0.0823, Train Recall (macro): 0.0112\n",
      "Train F1 (micro): 0.0823, Train F1 (macro): 0.0071\n",
      "\n",
      "Val Loss: 5.8311, Val Accuracy: 0.0822\n",
      "Val Precision (micro): 0.0822, Val Precision (macro): 0.0093\n",
      "Val Recall (micro): 0.0822, Val Recall (macro): 0.0174\n",
      "Val F1 (micro): 0.0822, Val F1 (macro): 0.0099\n",
      "--------------------------------------------------------------------------------\n"
     ]
    },
    {
     "name": "stderr",
     "output_type": "stream",
     "text": [
      " 74%|███████▍  | 74297/100000 [43:38<09:07, 46.92it/s]"
     ]
    },
    {
     "name": "stdout",
     "output_type": "stream",
     "text": [
      "Epoch [74300/100000]\n",
      "Train Loss: 5.7980, Train Accuracy: 0.0842\n",
      "Train Precision (micro): 0.0842, Train Precision (macro): 0.0072\n",
      "Train Recall (micro): 0.0842, Train Recall (macro): 0.0119\n",
      "Train F1 (micro): 0.0842, Train F1 (macro): 0.0069\n",
      "\n",
      "Val Loss: 5.8392, Val Accuracy: 0.0806\n",
      "Val Precision (micro): 0.0806, Val Precision (macro): 0.0081\n",
      "Val Recall (micro): 0.0806, Val Recall (macro): 0.0175\n",
      "Val F1 (micro): 0.0806, Val F1 (macro): 0.0096\n",
      "--------------------------------------------------------------------------------\n"
     ]
    },
    {
     "name": "stderr",
     "output_type": "stream",
     "text": [
      " 74%|███████▍  | 74395/100000 [43:42<08:44, 48.81it/s]"
     ]
    },
    {
     "name": "stdout",
     "output_type": "stream",
     "text": [
      "Epoch [74400/100000]\n",
      "Train Loss: 5.8727, Train Accuracy: 0.0856\n",
      "Train Precision (micro): 0.0856, Train Precision (macro): 0.0073\n",
      "Train Recall (micro): 0.0856, Train Recall (macro): 0.0133\n",
      "Train F1 (micro): 0.0856, Train F1 (macro): 0.0074\n",
      "\n",
      "Val Loss: 5.8306, Val Accuracy: 0.0813\n",
      "Val Precision (micro): 0.0813, Val Precision (macro): 0.0085\n",
      "Val Recall (micro): 0.0813, Val Recall (macro): 0.0174\n",
      "Val F1 (micro): 0.0813, Val F1 (macro): 0.0097\n",
      "--------------------------------------------------------------------------------\n"
     ]
    },
    {
     "name": "stderr",
     "output_type": "stream",
     "text": [
      " 74%|███████▍  | 74494/100000 [43:45<08:31, 49.82it/s]"
     ]
    },
    {
     "name": "stdout",
     "output_type": "stream",
     "text": [
      "Epoch [74500/100000]\n",
      "Train Loss: 5.8660, Train Accuracy: 0.0834\n",
      "Train Precision (micro): 0.0834, Train Precision (macro): 0.0055\n",
      "Train Recall (micro): 0.0834, Train Recall (macro): 0.0115\n",
      "Train F1 (micro): 0.0834, Train F1 (macro): 0.0061\n",
      "\n",
      "Val Loss: 5.8329, Val Accuracy: 0.0822\n",
      "Val Precision (micro): 0.0822, Val Precision (macro): 0.0096\n",
      "Val Recall (micro): 0.0822, Val Recall (macro): 0.0183\n",
      "Val F1 (micro): 0.0822, Val F1 (macro): 0.0106\n",
      "--------------------------------------------------------------------------------\n"
     ]
    },
    {
     "name": "stderr",
     "output_type": "stream",
     "text": [
      " 75%|███████▍  | 74595/100000 [43:49<08:38, 49.03it/s]"
     ]
    },
    {
     "name": "stdout",
     "output_type": "stream",
     "text": [
      "Epoch [74600/100000]\n",
      "Train Loss: 5.8494, Train Accuracy: 0.0877\n",
      "Train Precision (micro): 0.0877, Train Precision (macro): 0.0072\n",
      "Train Recall (micro): 0.0877, Train Recall (macro): 0.0111\n",
      "Train F1 (micro): 0.0877, Train F1 (macro): 0.0062\n",
      "\n",
      "Val Loss: 5.8353, Val Accuracy: 0.0822\n",
      "Val Precision (micro): 0.0822, Val Precision (macro): 0.0089\n",
      "Val Recall (micro): 0.0822, Val Recall (macro): 0.0174\n",
      "Val F1 (micro): 0.0822, Val F1 (macro): 0.0101\n",
      "--------------------------------------------------------------------------------\n"
     ]
    },
    {
     "name": "stderr",
     "output_type": "stream",
     "text": [
      " 75%|███████▍  | 74698/100000 [43:52<08:39, 48.73it/s]"
     ]
    },
    {
     "name": "stdout",
     "output_type": "stream",
     "text": [
      "Epoch [74700/100000]\n",
      "Train Loss: 5.7807, Train Accuracy: 0.0839\n",
      "Train Precision (micro): 0.0839, Train Precision (macro): 0.0071\n",
      "Train Recall (micro): 0.0839, Train Recall (macro): 0.0104\n",
      "Train F1 (micro): 0.0839, Train F1 (macro): 0.0060\n",
      "\n",
      "Val Loss: 5.8329, Val Accuracy: 0.0831\n",
      "Val Precision (micro): 0.0831, Val Precision (macro): 0.0091\n",
      "Val Recall (micro): 0.0831, Val Recall (macro): 0.0173\n",
      "Val F1 (micro): 0.0831, Val F1 (macro): 0.0100\n",
      "--------------------------------------------------------------------------------\n"
     ]
    },
    {
     "name": "stderr",
     "output_type": "stream",
     "text": [
      " 75%|███████▍  | 74794/100000 [43:56<08:37, 48.72it/s]"
     ]
    },
    {
     "name": "stdout",
     "output_type": "stream",
     "text": [
      "Epoch [74800/100000]\n",
      "Train Loss: 5.8140, Train Accuracy: 0.0898\n",
      "Train Precision (micro): 0.0898, Train Precision (macro): 0.0061\n",
      "Train Recall (micro): 0.0898, Train Recall (macro): 0.0121\n",
      "Train F1 (micro): 0.0898, Train F1 (macro): 0.0069\n",
      "\n",
      "Val Loss: 5.8303, Val Accuracy: 0.0794\n",
      "Val Precision (micro): 0.0794, Val Precision (macro): 0.0093\n",
      "Val Recall (micro): 0.0794, Val Recall (macro): 0.0167\n",
      "Val F1 (micro): 0.0794, Val F1 (macro): 0.0098\n",
      "--------------------------------------------------------------------------------\n"
     ]
    },
    {
     "name": "stderr",
     "output_type": "stream",
     "text": [
      " 75%|███████▍  | 74895/100000 [43:59<09:04, 46.10it/s]"
     ]
    },
    {
     "name": "stdout",
     "output_type": "stream",
     "text": [
      "Epoch [74900/100000]\n",
      "Train Loss: 5.8523, Train Accuracy: 0.0809\n",
      "Train Precision (micro): 0.0809, Train Precision (macro): 0.0102\n",
      "Train Recall (micro): 0.0809, Train Recall (macro): 0.0147\n",
      "Train F1 (micro): 0.0809, Train F1 (macro): 0.0092\n",
      "\n",
      "Val Loss: 5.8327, Val Accuracy: 0.0828\n",
      "Val Precision (micro): 0.0828, Val Precision (macro): 0.0081\n",
      "Val Recall (micro): 0.0828, Val Recall (macro): 0.0175\n",
      "Val F1 (micro): 0.0828, Val F1 (macro): 0.0096\n",
      "--------------------------------------------------------------------------------\n"
     ]
    },
    {
     "name": "stderr",
     "output_type": "stream",
     "text": [
      " 75%|███████▍  | 74998/100000 [44:03<08:38, 48.20it/s]"
     ]
    },
    {
     "name": "stdout",
     "output_type": "stream",
     "text": [
      "Epoch [75000/100000]\n",
      "Train Loss: 5.8018, Train Accuracy: 0.0825\n",
      "Train Precision (micro): 0.0825, Train Precision (macro): 0.0068\n",
      "Train Recall (micro): 0.0825, Train Recall (macro): 0.0136\n",
      "Train F1 (micro): 0.0825, Train F1 (macro): 0.0075\n",
      "\n",
      "Val Loss: 5.8269, Val Accuracy: 0.0822\n",
      "Val Precision (micro): 0.0822, Val Precision (macro): 0.0099\n",
      "Val Recall (micro): 0.0822, Val Recall (macro): 0.0170\n",
      "Val F1 (micro): 0.0822, Val F1 (macro): 0.0100\n",
      "--------------------------------------------------------------------------------\n"
     ]
    },
    {
     "name": "stderr",
     "output_type": "stream",
     "text": [
      " 75%|███████▌  | 75096/100000 [44:06<08:54, 46.58it/s]"
     ]
    },
    {
     "name": "stdout",
     "output_type": "stream",
     "text": [
      "Epoch [75100/100000]\n",
      "Train Loss: 5.8973, Train Accuracy: 0.0789\n",
      "Train Precision (micro): 0.0789, Train Precision (macro): 0.0057\n",
      "Train Recall (micro): 0.0789, Train Recall (macro): 0.0108\n",
      "Train F1 (micro): 0.0789, Train F1 (macro): 0.0060\n",
      "\n",
      "Val Loss: 5.8340, Val Accuracy: 0.0838\n",
      "Val Precision (micro): 0.0838, Val Precision (macro): 0.0090\n",
      "Val Recall (micro): 0.0838, Val Recall (macro): 0.0175\n",
      "Val F1 (micro): 0.0838, Val F1 (macro): 0.0102\n",
      "--------------------------------------------------------------------------------\n"
     ]
    },
    {
     "name": "stderr",
     "output_type": "stream",
     "text": [
      " 75%|███████▌  | 75195/100000 [44:09<08:17, 49.89it/s]"
     ]
    },
    {
     "name": "stdout",
     "output_type": "stream",
     "text": [
      "Epoch [75200/100000]\n",
      "Train Loss: 5.8468, Train Accuracy: 0.0781\n",
      "Train Precision (micro): 0.0781, Train Precision (macro): 0.0067\n",
      "Train Recall (micro): 0.0781, Train Recall (macro): 0.0116\n",
      "Train F1 (micro): 0.0781, Train F1 (macro): 0.0070\n",
      "\n",
      "Val Loss: 5.8373, Val Accuracy: 0.0828\n",
      "Val Precision (micro): 0.0828, Val Precision (macro): 0.0085\n",
      "Val Recall (micro): 0.0828, Val Recall (macro): 0.0177\n",
      "Val F1 (micro): 0.0828, Val F1 (macro): 0.0100\n",
      "--------------------------------------------------------------------------------\n"
     ]
    },
    {
     "name": "stderr",
     "output_type": "stream",
     "text": [
      " 75%|███████▌  | 75299/100000 [44:13<08:20, 49.32it/s]"
     ]
    },
    {
     "name": "stdout",
     "output_type": "stream",
     "text": [
      "Epoch [75300/100000]\n",
      "Train Loss: 5.8231, Train Accuracy: 0.0828\n",
      "Train Precision (micro): 0.0828, Train Precision (macro): 0.0074\n",
      "Train Recall (micro): 0.0828, Train Recall (macro): 0.0126\n",
      "Train F1 (micro): 0.0828, Train F1 (macro): 0.0071\n",
      "\n",
      "Val Loss: 5.8310, Val Accuracy: 0.0834\n",
      "Val Precision (micro): 0.0834, Val Precision (macro): 0.0086\n",
      "Val Recall (micro): 0.0834, Val Recall (macro): 0.0178\n",
      "Val F1 (micro): 0.0834, Val F1 (macro): 0.0099\n",
      "--------------------------------------------------------------------------------\n"
     ]
    },
    {
     "name": "stderr",
     "output_type": "stream",
     "text": [
      " 75%|███████▌  | 75399/100000 [44:17<08:34, 47.84it/s]"
     ]
    },
    {
     "name": "stdout",
     "output_type": "stream",
     "text": [
      "Epoch [75400/100000]\n",
      "Train Loss: 5.7662, Train Accuracy: 0.0856\n",
      "Train Precision (micro): 0.0856, Train Precision (macro): 0.0078\n",
      "Train Recall (micro): 0.0856, Train Recall (macro): 0.0125\n",
      "Train F1 (micro): 0.0856, Train F1 (macro): 0.0077\n",
      "\n",
      "Val Loss: 5.8305, Val Accuracy: 0.0825\n",
      "Val Precision (micro): 0.0825, Val Precision (macro): 0.0079\n",
      "Val Recall (micro): 0.0825, Val Recall (macro): 0.0175\n",
      "Val F1 (micro): 0.0825, Val F1 (macro): 0.0095\n",
      "--------------------------------------------------------------------------------\n"
     ]
    },
    {
     "name": "stderr",
     "output_type": "stream",
     "text": [
      " 75%|███████▌  | 75496/100000 [44:20<08:09, 50.02it/s]"
     ]
    },
    {
     "name": "stdout",
     "output_type": "stream",
     "text": [
      "Epoch [75500/100000]\n",
      "Train Loss: 5.8619, Train Accuracy: 0.0809\n",
      "Train Precision (micro): 0.0809, Train Precision (macro): 0.0062\n",
      "Train Recall (micro): 0.0809, Train Recall (macro): 0.0113\n",
      "Train F1 (micro): 0.0809, Train F1 (macro): 0.0063\n",
      "\n",
      "Val Loss: 5.8384, Val Accuracy: 0.0850\n",
      "Val Precision (micro): 0.0850, Val Precision (macro): 0.0084\n",
      "Val Recall (micro): 0.0850, Val Recall (macro): 0.0183\n",
      "Val F1 (micro): 0.0850, Val F1 (macro): 0.0101\n",
      "--------------------------------------------------------------------------------\n"
     ]
    },
    {
     "name": "stderr",
     "output_type": "stream",
     "text": [
      " 76%|███████▌  | 75597/100000 [44:23<08:07, 50.06it/s]"
     ]
    },
    {
     "name": "stdout",
     "output_type": "stream",
     "text": [
      "Epoch [75600/100000]\n",
      "Train Loss: 5.8343, Train Accuracy: 0.0814\n",
      "Train Precision (micro): 0.0814, Train Precision (macro): 0.0049\n",
      "Train Recall (micro): 0.0814, Train Recall (macro): 0.0106\n",
      "Train F1 (micro): 0.0814, Train F1 (macro): 0.0055\n",
      "\n",
      "Val Loss: 5.8281, Val Accuracy: 0.0809\n",
      "Val Precision (micro): 0.0809, Val Precision (macro): 0.0086\n",
      "Val Recall (micro): 0.0809, Val Recall (macro): 0.0170\n",
      "Val F1 (micro): 0.0809, Val F1 (macro): 0.0094\n",
      "--------------------------------------------------------------------------------\n"
     ]
    },
    {
     "name": "stderr",
     "output_type": "stream",
     "text": [
      " 76%|███████▌  | 75698/100000 [44:26<08:07, 49.82it/s]"
     ]
    },
    {
     "name": "stdout",
     "output_type": "stream",
     "text": [
      "Epoch [75700/100000]\n",
      "Train Loss: 5.7469, Train Accuracy: 0.0873\n",
      "Train Precision (micro): 0.0873, Train Precision (macro): 0.0076\n",
      "Train Recall (micro): 0.0873, Train Recall (macro): 0.0112\n",
      "Train F1 (micro): 0.0873, Train F1 (macro): 0.0066\n",
      "\n",
      "Val Loss: 5.8297, Val Accuracy: 0.0838\n",
      "Val Precision (micro): 0.0838, Val Precision (macro): 0.0100\n",
      "Val Recall (micro): 0.0838, Val Recall (macro): 0.0184\n",
      "Val F1 (micro): 0.0838, Val F1 (macro): 0.0107\n",
      "--------------------------------------------------------------------------------\n"
     ]
    },
    {
     "name": "stderr",
     "output_type": "stream",
     "text": [
      " 76%|███████▌  | 75797/100000 [44:30<08:37, 46.73it/s]"
     ]
    },
    {
     "name": "stdout",
     "output_type": "stream",
     "text": [
      "Epoch [75800/100000]\n",
      "Train Loss: 5.8105, Train Accuracy: 0.0780\n",
      "Train Precision (micro): 0.0780, Train Precision (macro): 0.0065\n",
      "Train Recall (micro): 0.0780, Train Recall (macro): 0.0109\n",
      "Train F1 (micro): 0.0780, Train F1 (macro): 0.0063\n",
      "\n",
      "Val Loss: 5.8352, Val Accuracy: 0.0825\n",
      "Val Precision (micro): 0.0825, Val Precision (macro): 0.0088\n",
      "Val Recall (micro): 0.0825, Val Recall (macro): 0.0179\n",
      "Val F1 (micro): 0.0825, Val F1 (macro): 0.0102\n",
      "--------------------------------------------------------------------------------\n"
     ]
    },
    {
     "name": "stderr",
     "output_type": "stream",
     "text": [
      " 76%|███████▌  | 75899/100000 [44:33<08:19, 48.27it/s]"
     ]
    },
    {
     "name": "stdout",
     "output_type": "stream",
     "text": [
      "Epoch [75900/100000]\n",
      "Train Loss: 5.8382, Train Accuracy: 0.0819\n",
      "Train Precision (micro): 0.0819, Train Precision (macro): 0.0059\n",
      "Train Recall (micro): 0.0819, Train Recall (macro): 0.0116\n",
      "Train F1 (micro): 0.0819, Train F1 (macro): 0.0066\n",
      "\n",
      "Val Loss: 5.8319, Val Accuracy: 0.0828\n",
      "Val Precision (micro): 0.0828, Val Precision (macro): 0.0086\n",
      "Val Recall (micro): 0.0828, Val Recall (macro): 0.0177\n",
      "Val F1 (micro): 0.0828, Val F1 (macro): 0.0099\n",
      "--------------------------------------------------------------------------------\n"
     ]
    },
    {
     "name": "stderr",
     "output_type": "stream",
     "text": [
      " 76%|███████▌  | 75998/100000 [44:37<08:08, 49.12it/s]"
     ]
    },
    {
     "name": "stdout",
     "output_type": "stream",
     "text": [
      "Epoch [76000/100000]\n",
      "Train Loss: 5.8140, Train Accuracy: 0.0841\n",
      "Train Precision (micro): 0.0841, Train Precision (macro): 0.0064\n",
      "Train Recall (micro): 0.0841, Train Recall (macro): 0.0120\n",
      "Train F1 (micro): 0.0841, Train F1 (macro): 0.0066\n",
      "\n",
      "Val Loss: 5.8329, Val Accuracy: 0.0841\n",
      "Val Precision (micro): 0.0841, Val Precision (macro): 0.0084\n",
      "Val Recall (micro): 0.0841, Val Recall (macro): 0.0180\n",
      "Val F1 (micro): 0.0841, Val F1 (macro): 0.0100\n",
      "--------------------------------------------------------------------------------\n"
     ]
    },
    {
     "name": "stderr",
     "output_type": "stream",
     "text": [
      " 76%|███████▌  | 76095/100000 [44:40<08:01, 49.64it/s]"
     ]
    },
    {
     "name": "stdout",
     "output_type": "stream",
     "text": [
      "Epoch [76100/100000]\n",
      "Train Loss: 5.8469, Train Accuracy: 0.0809\n",
      "Train Precision (micro): 0.0809, Train Precision (macro): 0.0077\n",
      "Train Recall (micro): 0.0809, Train Recall (macro): 0.0106\n",
      "Train F1 (micro): 0.0809, Train F1 (macro): 0.0062\n",
      "\n",
      "Val Loss: 5.8325, Val Accuracy: 0.0825\n",
      "Val Precision (micro): 0.0825, Val Precision (macro): 0.0083\n",
      "Val Recall (micro): 0.0825, Val Recall (macro): 0.0177\n",
      "Val F1 (micro): 0.0825, Val F1 (macro): 0.0098\n",
      "--------------------------------------------------------------------------------\n"
     ]
    },
    {
     "name": "stderr",
     "output_type": "stream",
     "text": [
      " 76%|███████▌  | 76196/100000 [44:43<09:12, 43.09it/s]"
     ]
    },
    {
     "name": "stdout",
     "output_type": "stream",
     "text": [
      "Epoch [76200/100000]\n",
      "Train Loss: 5.8175, Train Accuracy: 0.0845\n",
      "Train Precision (micro): 0.0845, Train Precision (macro): 0.0088\n",
      "Train Recall (micro): 0.0845, Train Recall (macro): 0.0125\n",
      "Train F1 (micro): 0.0845, Train F1 (macro): 0.0078\n",
      "\n",
      "Val Loss: 5.8314, Val Accuracy: 0.0813\n",
      "Val Precision (micro): 0.0813, Val Precision (macro): 0.0084\n",
      "Val Recall (micro): 0.0813, Val Recall (macro): 0.0174\n",
      "Val F1 (micro): 0.0813, Val F1 (macro): 0.0098\n",
      "--------------------------------------------------------------------------------\n"
     ]
    },
    {
     "name": "stderr",
     "output_type": "stream",
     "text": [
      " 76%|███████▋  | 76294/100000 [44:47<08:00, 49.33it/s]"
     ]
    },
    {
     "name": "stdout",
     "output_type": "stream",
     "text": [
      "Epoch [76300/100000]\n",
      "Train Loss: 5.7865, Train Accuracy: 0.0859\n",
      "Train Precision (micro): 0.0859, Train Precision (macro): 0.0066\n",
      "Train Recall (micro): 0.0859, Train Recall (macro): 0.0111\n",
      "Train F1 (micro): 0.0859, Train F1 (macro): 0.0067\n",
      "\n",
      "Val Loss: 5.8268, Val Accuracy: 0.0819\n",
      "Val Precision (micro): 0.0819, Val Precision (macro): 0.0084\n",
      "Val Recall (micro): 0.0819, Val Recall (macro): 0.0175\n",
      "Val F1 (micro): 0.0819, Val F1 (macro): 0.0097\n",
      "--------------------------------------------------------------------------------\n"
     ]
    },
    {
     "name": "stderr",
     "output_type": "stream",
     "text": [
      " 76%|███████▋  | 76395/100000 [44:50<07:59, 49.25it/s]"
     ]
    },
    {
     "name": "stdout",
     "output_type": "stream",
     "text": [
      "Epoch [76400/100000]\n",
      "Train Loss: 5.8350, Train Accuracy: 0.0806\n",
      "Train Precision (micro): 0.0806, Train Precision (macro): 0.0059\n",
      "Train Recall (micro): 0.0806, Train Recall (macro): 0.0104\n",
      "Train F1 (micro): 0.0806, Train F1 (macro): 0.0059\n",
      "\n",
      "Val Loss: 5.8328, Val Accuracy: 0.0809\n",
      "Val Precision (micro): 0.0809, Val Precision (macro): 0.0088\n",
      "Val Recall (micro): 0.0809, Val Recall (macro): 0.0172\n",
      "Val F1 (micro): 0.0809, Val F1 (macro): 0.0096\n",
      "--------------------------------------------------------------------------------\n"
     ]
    },
    {
     "name": "stderr",
     "output_type": "stream",
     "text": [
      " 76%|███████▋  | 76496/100000 [44:54<08:26, 46.38it/s]"
     ]
    },
    {
     "name": "stdout",
     "output_type": "stream",
     "text": [
      "Epoch [76500/100000]\n",
      "Train Loss: 5.8185, Train Accuracy: 0.0833\n",
      "Train Precision (micro): 0.0833, Train Precision (macro): 0.0068\n",
      "Train Recall (micro): 0.0833, Train Recall (macro): 0.0111\n",
      "Train F1 (micro): 0.0833, Train F1 (macro): 0.0063\n",
      "\n",
      "Val Loss: 5.8317, Val Accuracy: 0.0809\n",
      "Val Precision (micro): 0.0809, Val Precision (macro): 0.0085\n",
      "Val Recall (micro): 0.0809, Val Recall (macro): 0.0172\n",
      "Val F1 (micro): 0.0809, Val F1 (macro): 0.0097\n",
      "--------------------------------------------------------------------------------\n"
     ]
    },
    {
     "name": "stderr",
     "output_type": "stream",
     "text": [
      " 77%|███████▋  | 76599/100000 [44:57<08:25, 46.27it/s]"
     ]
    },
    {
     "name": "stdout",
     "output_type": "stream",
     "text": [
      "Epoch [76600/100000]\n",
      "Train Loss: 5.7934, Train Accuracy: 0.0842\n",
      "Train Precision (micro): 0.0842, Train Precision (macro): 0.0063\n",
      "Train Recall (micro): 0.0842, Train Recall (macro): 0.0116\n",
      "Train F1 (micro): 0.0842, Train F1 (macro): 0.0069\n",
      "\n",
      "Val Loss: 5.8353, Val Accuracy: 0.0834\n",
      "Val Precision (micro): 0.0834, Val Precision (macro): 0.0088\n",
      "Val Recall (micro): 0.0834, Val Recall (macro): 0.0180\n",
      "Val F1 (micro): 0.0834, Val F1 (macro): 0.0101\n",
      "--------------------------------------------------------------------------------\n"
     ]
    },
    {
     "name": "stderr",
     "output_type": "stream",
     "text": [
      " 77%|███████▋  | 76699/100000 [45:00<08:08, 47.71it/s]"
     ]
    },
    {
     "name": "stdout",
     "output_type": "stream",
     "text": [
      "Epoch [76700/100000]\n",
      "Train Loss: 5.8498, Train Accuracy: 0.0855\n",
      "Train Precision (micro): 0.0855, Train Precision (macro): 0.0085\n",
      "Train Recall (micro): 0.0855, Train Recall (macro): 0.0115\n",
      "Train F1 (micro): 0.0855, Train F1 (macro): 0.0079\n",
      "\n",
      "Val Loss: 5.8308, Val Accuracy: 0.0828\n",
      "Val Precision (micro): 0.0828, Val Precision (macro): 0.0085\n",
      "Val Recall (micro): 0.0828, Val Recall (macro): 0.0176\n",
      "Val F1 (micro): 0.0828, Val F1 (macro): 0.0098\n",
      "--------------------------------------------------------------------------------\n"
     ]
    },
    {
     "name": "stderr",
     "output_type": "stream",
     "text": [
      " 77%|███████▋  | 76798/100000 [45:04<08:31, 45.36it/s]"
     ]
    },
    {
     "name": "stdout",
     "output_type": "stream",
     "text": [
      "Epoch [76800/100000]\n",
      "Train Loss: 5.7955, Train Accuracy: 0.0884\n",
      "Train Precision (micro): 0.0884, Train Precision (macro): 0.0070\n",
      "Train Recall (micro): 0.0884, Train Recall (macro): 0.0112\n",
      "Train F1 (micro): 0.0884, Train F1 (macro): 0.0066\n",
      "\n",
      "Val Loss: 5.8300, Val Accuracy: 0.0809\n",
      "Val Precision (micro): 0.0809, Val Precision (macro): 0.0089\n",
      "Val Recall (micro): 0.0809, Val Recall (macro): 0.0172\n",
      "Val F1 (micro): 0.0809, Val F1 (macro): 0.0097\n",
      "--------------------------------------------------------------------------------\n"
     ]
    },
    {
     "name": "stderr",
     "output_type": "stream",
     "text": [
      " 77%|███████▋  | 76897/100000 [45:07<08:00, 48.05it/s]"
     ]
    },
    {
     "name": "stdout",
     "output_type": "stream",
     "text": [
      "Epoch [76900/100000]\n",
      "Train Loss: 5.8376, Train Accuracy: 0.0820\n",
      "Train Precision (micro): 0.0820, Train Precision (macro): 0.0057\n",
      "Train Recall (micro): 0.0820, Train Recall (macro): 0.0107\n",
      "Train F1 (micro): 0.0820, Train F1 (macro): 0.0058\n",
      "\n",
      "Val Loss: 5.8308, Val Accuracy: 0.0809\n",
      "Val Precision (micro): 0.0809, Val Precision (macro): 0.0087\n",
      "Val Recall (micro): 0.0809, Val Recall (macro): 0.0170\n",
      "Val F1 (micro): 0.0809, Val F1 (macro): 0.0095\n",
      "--------------------------------------------------------------------------------\n"
     ]
    },
    {
     "name": "stderr",
     "output_type": "stream",
     "text": [
      " 77%|███████▋  | 76999/100000 [45:11<07:51, 48.80it/s]"
     ]
    },
    {
     "name": "stdout",
     "output_type": "stream",
     "text": [
      "Epoch [77000/100000]\n",
      "Train Loss: 5.8498, Train Accuracy: 0.0831\n",
      "Train Precision (micro): 0.0831, Train Precision (macro): 0.0055\n",
      "Train Recall (micro): 0.0831, Train Recall (macro): 0.0096\n",
      "Train F1 (micro): 0.0831, Train F1 (macro): 0.0054\n",
      "\n",
      "Val Loss: 5.8314, Val Accuracy: 0.0838\n",
      "Val Precision (micro): 0.0838, Val Precision (macro): 0.0087\n",
      "Val Recall (micro): 0.0838, Val Recall (macro): 0.0178\n",
      "Val F1 (micro): 0.0838, Val F1 (macro): 0.0100\n",
      "--------------------------------------------------------------------------------\n"
     ]
    },
    {
     "name": "stderr",
     "output_type": "stream",
     "text": [
      " 77%|███████▋  | 77095/100000 [45:14<08:17, 46.00it/s]"
     ]
    },
    {
     "name": "stdout",
     "output_type": "stream",
     "text": [
      "Epoch [77100/100000]\n",
      "Train Loss: 5.8240, Train Accuracy: 0.0839\n",
      "Train Precision (micro): 0.0839, Train Precision (macro): 0.0065\n",
      "Train Recall (micro): 0.0839, Train Recall (macro): 0.0112\n",
      "Train F1 (micro): 0.0839, Train F1 (macro): 0.0067\n",
      "\n",
      "Val Loss: 5.8292, Val Accuracy: 0.0834\n",
      "Val Precision (micro): 0.0834, Val Precision (macro): 0.0087\n",
      "Val Recall (micro): 0.0834, Val Recall (macro): 0.0177\n",
      "Val F1 (micro): 0.0834, Val F1 (macro): 0.0099\n",
      "--------------------------------------------------------------------------------\n"
     ]
    },
    {
     "name": "stderr",
     "output_type": "stream",
     "text": [
      " 77%|███████▋  | 77194/100000 [45:18<08:00, 47.45it/s]"
     ]
    },
    {
     "name": "stdout",
     "output_type": "stream",
     "text": [
      "Epoch [77200/100000]\n",
      "Train Loss: 5.8986, Train Accuracy: 0.0775\n",
      "Train Precision (micro): 0.0775, Train Precision (macro): 0.0073\n",
      "Train Recall (micro): 0.0775, Train Recall (macro): 0.0117\n",
      "Train F1 (micro): 0.0775, Train F1 (macro): 0.0067\n",
      "\n",
      "Val Loss: 5.8318, Val Accuracy: 0.0794\n",
      "Val Precision (micro): 0.0794, Val Precision (macro): 0.0092\n",
      "Val Recall (micro): 0.0794, Val Recall (macro): 0.0170\n",
      "Val F1 (micro): 0.0794, Val F1 (macro): 0.0098\n",
      "--------------------------------------------------------------------------------\n"
     ]
    },
    {
     "name": "stderr",
     "output_type": "stream",
     "text": [
      " 77%|███████▋  | 77297/100000 [45:21<08:35, 44.02it/s]"
     ]
    },
    {
     "name": "stdout",
     "output_type": "stream",
     "text": [
      "Epoch [77300/100000]\n",
      "Train Loss: 5.8428, Train Accuracy: 0.0855\n",
      "Train Precision (micro): 0.0855, Train Precision (macro): 0.0075\n",
      "Train Recall (micro): 0.0855, Train Recall (macro): 0.0111\n",
      "Train F1 (micro): 0.0855, Train F1 (macro): 0.0070\n",
      "\n",
      "Val Loss: 5.8306, Val Accuracy: 0.0831\n",
      "Val Precision (micro): 0.0831, Val Precision (macro): 0.0093\n",
      "Val Recall (micro): 0.0831, Val Recall (macro): 0.0176\n",
      "Val F1 (micro): 0.0831, Val F1 (macro): 0.0101\n",
      "--------------------------------------------------------------------------------\n"
     ]
    },
    {
     "name": "stderr",
     "output_type": "stream",
     "text": [
      " 77%|███████▋  | 77397/100000 [45:25<08:38, 43.57it/s]"
     ]
    },
    {
     "name": "stdout",
     "output_type": "stream",
     "text": [
      "Epoch [77400/100000]\n",
      "Train Loss: 5.8228, Train Accuracy: 0.0845\n",
      "Train Precision (micro): 0.0845, Train Precision (macro): 0.0076\n",
      "Train Recall (micro): 0.0845, Train Recall (macro): 0.0110\n",
      "Train F1 (micro): 0.0845, Train F1 (macro): 0.0068\n",
      "\n",
      "Val Loss: 5.8300, Val Accuracy: 0.0828\n",
      "Val Precision (micro): 0.0828, Val Precision (macro): 0.0090\n",
      "Val Recall (micro): 0.0828, Val Recall (macro): 0.0176\n",
      "Val F1 (micro): 0.0828, Val F1 (macro): 0.0101\n",
      "--------------------------------------------------------------------------------\n"
     ]
    },
    {
     "name": "stderr",
     "output_type": "stream",
     "text": [
      " 77%|███████▋  | 77497/100000 [45:29<08:20, 44.92it/s]"
     ]
    },
    {
     "name": "stdout",
     "output_type": "stream",
     "text": [
      "Epoch [77500/100000]\n",
      "Train Loss: 5.7856, Train Accuracy: 0.0886\n",
      "Train Precision (micro): 0.0886, Train Precision (macro): 0.0054\n",
      "Train Recall (micro): 0.0886, Train Recall (macro): 0.0112\n",
      "Train F1 (micro): 0.0886, Train F1 (macro): 0.0063\n",
      "\n",
      "Val Loss: 5.8302, Val Accuracy: 0.0822\n",
      "Val Precision (micro): 0.0822, Val Precision (macro): 0.0090\n",
      "Val Recall (micro): 0.0822, Val Recall (macro): 0.0174\n",
      "Val F1 (micro): 0.0822, Val F1 (macro): 0.0097\n",
      "--------------------------------------------------------------------------------\n"
     ]
    },
    {
     "name": "stderr",
     "output_type": "stream",
     "text": [
      " 78%|███████▊  | 77594/100000 [45:33<08:22, 44.61it/s]"
     ]
    },
    {
     "name": "stdout",
     "output_type": "stream",
     "text": [
      "Epoch [77600/100000]\n",
      "Train Loss: 5.8304, Train Accuracy: 0.0852\n",
      "Train Precision (micro): 0.0852, Train Precision (macro): 0.0086\n",
      "Train Recall (micro): 0.0852, Train Recall (macro): 0.0123\n",
      "Train F1 (micro): 0.0852, Train F1 (macro): 0.0081\n",
      "\n",
      "Val Loss: 5.8333, Val Accuracy: 0.0791\n",
      "Val Precision (micro): 0.0791, Val Precision (macro): 0.0084\n",
      "Val Recall (micro): 0.0791, Val Recall (macro): 0.0170\n",
      "Val F1 (micro): 0.0791, Val F1 (macro): 0.0097\n",
      "--------------------------------------------------------------------------------\n"
     ]
    },
    {
     "name": "stderr",
     "output_type": "stream",
     "text": [
      " 78%|███████▊  | 77697/100000 [45:37<07:58, 46.58it/s]"
     ]
    },
    {
     "name": "stdout",
     "output_type": "stream",
     "text": [
      "Epoch [77700/100000]\n",
      "Train Loss: 5.7805, Train Accuracy: 0.0841\n",
      "Train Precision (micro): 0.0841, Train Precision (macro): 0.0075\n",
      "Train Recall (micro): 0.0841, Train Recall (macro): 0.0112\n",
      "Train F1 (micro): 0.0841, Train F1 (macro): 0.0075\n",
      "\n",
      "Val Loss: 5.8323, Val Accuracy: 0.0828\n",
      "Val Precision (micro): 0.0828, Val Precision (macro): 0.0086\n",
      "Val Recall (micro): 0.0828, Val Recall (macro): 0.0175\n",
      "Val F1 (micro): 0.0828, Val F1 (macro): 0.0099\n",
      "--------------------------------------------------------------------------------\n"
     ]
    },
    {
     "name": "stderr",
     "output_type": "stream",
     "text": [
      " 78%|███████▊  | 77799/100000 [45:40<07:31, 49.15it/s]"
     ]
    },
    {
     "name": "stdout",
     "output_type": "stream",
     "text": [
      "Epoch [77800/100000]\n",
      "Train Loss: 5.8135, Train Accuracy: 0.0873\n",
      "Train Precision (micro): 0.0873, Train Precision (macro): 0.0090\n",
      "Train Recall (micro): 0.0873, Train Recall (macro): 0.0123\n",
      "Train F1 (micro): 0.0873, Train F1 (macro): 0.0079\n",
      "\n",
      "Val Loss: 5.8309, Val Accuracy: 0.0825\n",
      "Val Precision (micro): 0.0825, Val Precision (macro): 0.0083\n",
      "Val Recall (micro): 0.0825, Val Recall (macro): 0.0172\n",
      "Val F1 (micro): 0.0825, Val F1 (macro): 0.0097\n",
      "--------------------------------------------------------------------------------\n"
     ]
    },
    {
     "name": "stderr",
     "output_type": "stream",
     "text": [
      " 78%|███████▊  | 77898/100000 [45:43<08:05, 45.54it/s]"
     ]
    },
    {
     "name": "stdout",
     "output_type": "stream",
     "text": [
      "Epoch [77900/100000]\n",
      "Train Loss: 5.8355, Train Accuracy: 0.0773\n",
      "Train Precision (micro): 0.0773, Train Precision (macro): 0.0076\n",
      "Train Recall (micro): 0.0773, Train Recall (macro): 0.0123\n",
      "Train F1 (micro): 0.0773, Train F1 (macro): 0.0075\n",
      "\n",
      "Val Loss: 5.8307, Val Accuracy: 0.0825\n",
      "Val Precision (micro): 0.0825, Val Precision (macro): 0.0087\n",
      "Val Recall (micro): 0.0825, Val Recall (macro): 0.0174\n",
      "Val F1 (micro): 0.0825, Val F1 (macro): 0.0099\n",
      "--------------------------------------------------------------------------------\n"
     ]
    },
    {
     "name": "stderr",
     "output_type": "stream",
     "text": [
      " 78%|███████▊  | 77999/100000 [45:47<07:49, 46.89it/s]"
     ]
    },
    {
     "name": "stdout",
     "output_type": "stream",
     "text": [
      "Epoch [78000/100000]\n",
      "Train Loss: 5.8142, Train Accuracy: 0.0853\n",
      "Train Precision (micro): 0.0853, Train Precision (macro): 0.0100\n",
      "Train Recall (micro): 0.0853, Train Recall (macro): 0.0144\n",
      "Train F1 (micro): 0.0853, Train F1 (macro): 0.0089\n",
      "\n",
      "Val Loss: 5.8305, Val Accuracy: 0.0825\n",
      "Val Precision (micro): 0.0825, Val Precision (macro): 0.0094\n",
      "Val Recall (micro): 0.0825, Val Recall (macro): 0.0174\n",
      "Val F1 (micro): 0.0825, Val F1 (macro): 0.0099\n",
      "--------------------------------------------------------------------------------\n"
     ]
    },
    {
     "name": "stderr",
     "output_type": "stream",
     "text": [
      " 78%|███████▊  | 78096/100000 [45:50<07:19, 49.80it/s]"
     ]
    },
    {
     "name": "stdout",
     "output_type": "stream",
     "text": [
      "Epoch [78100/100000]\n",
      "Train Loss: 5.7718, Train Accuracy: 0.0803\n",
      "Train Precision (micro): 0.0803, Train Precision (macro): 0.0064\n",
      "Train Recall (micro): 0.0803, Train Recall (macro): 0.0115\n",
      "Train F1 (micro): 0.0803, Train F1 (macro): 0.0063\n",
      "\n",
      "Val Loss: 5.8291, Val Accuracy: 0.0834\n",
      "Val Precision (micro): 0.0834, Val Precision (macro): 0.0093\n",
      "Val Recall (micro): 0.0834, Val Recall (macro): 0.0176\n",
      "Val F1 (micro): 0.0834, Val F1 (macro): 0.0100\n",
      "--------------------------------------------------------------------------------\n"
     ]
    },
    {
     "name": "stderr",
     "output_type": "stream",
     "text": [
      " 78%|███████▊  | 78197/100000 [45:54<07:25, 48.97it/s]"
     ]
    },
    {
     "name": "stdout",
     "output_type": "stream",
     "text": [
      "Epoch [78200/100000]\n",
      "Train Loss: 5.8033, Train Accuracy: 0.0834\n",
      "Train Precision (micro): 0.0834, Train Precision (macro): 0.0080\n",
      "Train Recall (micro): 0.0834, Train Recall (macro): 0.0132\n",
      "Train F1 (micro): 0.0834, Train F1 (macro): 0.0082\n",
      "\n",
      "Val Loss: 5.8297, Val Accuracy: 0.0816\n",
      "Val Precision (micro): 0.0816, Val Precision (macro): 0.0084\n",
      "Val Recall (micro): 0.0816, Val Recall (macro): 0.0175\n",
      "Val F1 (micro): 0.0816, Val F1 (macro): 0.0098\n",
      "--------------------------------------------------------------------------------\n"
     ]
    },
    {
     "name": "stderr",
     "output_type": "stream",
     "text": [
      " 78%|███████▊  | 78299/100000 [45:57<07:49, 46.22it/s]"
     ]
    },
    {
     "name": "stdout",
     "output_type": "stream",
     "text": [
      "Epoch [78300/100000]\n",
      "Train Loss: 5.8743, Train Accuracy: 0.0775\n",
      "Train Precision (micro): 0.0775, Train Precision (macro): 0.0058\n",
      "Train Recall (micro): 0.0775, Train Recall (macro): 0.0111\n",
      "Train F1 (micro): 0.0775, Train F1 (macro): 0.0060\n",
      "\n",
      "Val Loss: 5.8299, Val Accuracy: 0.0822\n",
      "Val Precision (micro): 0.0822, Val Precision (macro): 0.0086\n",
      "Val Recall (micro): 0.0822, Val Recall (macro): 0.0175\n",
      "Val F1 (micro): 0.0822, Val F1 (macro): 0.0099\n",
      "--------------------------------------------------------------------------------\n"
     ]
    },
    {
     "name": "stderr",
     "output_type": "stream",
     "text": [
      " 78%|███████▊  | 78395/100000 [46:01<08:09, 44.18it/s]"
     ]
    },
    {
     "name": "stdout",
     "output_type": "stream",
     "text": [
      "Epoch [78400/100000]\n",
      "Train Loss: 5.7314, Train Accuracy: 0.0834\n",
      "Train Precision (micro): 0.0834, Train Precision (macro): 0.0056\n",
      "Train Recall (micro): 0.0834, Train Recall (macro): 0.0108\n",
      "Train F1 (micro): 0.0834, Train F1 (macro): 0.0063\n",
      "\n",
      "Val Loss: 5.8287, Val Accuracy: 0.0809\n",
      "Val Precision (micro): 0.0809, Val Precision (macro): 0.0094\n",
      "Val Recall (micro): 0.0809, Val Recall (macro): 0.0174\n",
      "Val F1 (micro): 0.0809, Val F1 (macro): 0.0100\n",
      "--------------------------------------------------------------------------------\n"
     ]
    },
    {
     "name": "stderr",
     "output_type": "stream",
     "text": [
      " 78%|███████▊  | 78496/100000 [46:04<07:40, 46.71it/s]"
     ]
    },
    {
     "name": "stdout",
     "output_type": "stream",
     "text": [
      "Epoch [78500/100000]\n",
      "Train Loss: 5.8271, Train Accuracy: 0.0805\n",
      "Train Precision (micro): 0.0805, Train Precision (macro): 0.0069\n",
      "Train Recall (micro): 0.0805, Train Recall (macro): 0.0113\n",
      "Train F1 (micro): 0.0805, Train F1 (macro): 0.0069\n",
      "\n",
      "Val Loss: 5.8295, Val Accuracy: 0.0828\n",
      "Val Precision (micro): 0.0828, Val Precision (macro): 0.0089\n",
      "Val Recall (micro): 0.0828, Val Recall (macro): 0.0176\n",
      "Val F1 (micro): 0.0828, Val F1 (macro): 0.0101\n",
      "--------------------------------------------------------------------------------\n"
     ]
    },
    {
     "name": "stderr",
     "output_type": "stream",
     "text": [
      " 79%|███████▊  | 78598/100000 [46:08<08:10, 43.66it/s]"
     ]
    },
    {
     "name": "stdout",
     "output_type": "stream",
     "text": [
      "Epoch [78600/100000]\n",
      "Train Loss: 5.8106, Train Accuracy: 0.0895\n",
      "Train Precision (micro): 0.0895, Train Precision (macro): 0.0069\n",
      "Train Recall (micro): 0.0895, Train Recall (macro): 0.0130\n",
      "Train F1 (micro): 0.0895, Train F1 (macro): 0.0078\n",
      "\n",
      "Val Loss: 5.8293, Val Accuracy: 0.0809\n",
      "Val Precision (micro): 0.0809, Val Precision (macro): 0.0092\n",
      "Val Recall (micro): 0.0809, Val Recall (macro): 0.0172\n",
      "Val F1 (micro): 0.0809, Val F1 (macro): 0.0099\n",
      "--------------------------------------------------------------------------------\n"
     ]
    },
    {
     "name": "stderr",
     "output_type": "stream",
     "text": [
      " 79%|███████▊  | 78699/100000 [46:11<07:50, 45.29it/s]"
     ]
    },
    {
     "name": "stdout",
     "output_type": "stream",
     "text": [
      "Epoch [78700/100000]\n",
      "Train Loss: 5.8018, Train Accuracy: 0.0827\n",
      "Train Precision (micro): 0.0827, Train Precision (macro): 0.0083\n",
      "Train Recall (micro): 0.0827, Train Recall (macro): 0.0125\n",
      "Train F1 (micro): 0.0827, Train F1 (macro): 0.0070\n",
      "\n",
      "Val Loss: 5.8285, Val Accuracy: 0.0806\n",
      "Val Precision (micro): 0.0806, Val Precision (macro): 0.0086\n",
      "Val Recall (micro): 0.0806, Val Recall (macro): 0.0173\n",
      "Val F1 (micro): 0.0806, Val F1 (macro): 0.0099\n",
      "--------------------------------------------------------------------------------\n"
     ]
    },
    {
     "name": "stderr",
     "output_type": "stream",
     "text": [
      " 79%|███████▉  | 78794/100000 [46:15<07:07, 49.59it/s]"
     ]
    },
    {
     "name": "stdout",
     "output_type": "stream",
     "text": [
      "Epoch [78800/100000]\n",
      "Train Loss: 5.8673, Train Accuracy: 0.0803\n",
      "Train Precision (micro): 0.0803, Train Precision (macro): 0.0067\n",
      "Train Recall (micro): 0.0803, Train Recall (macro): 0.0115\n",
      "Train F1 (micro): 0.0803, Train F1 (macro): 0.0068\n",
      "\n",
      "Val Loss: 5.8289, Val Accuracy: 0.0806\n",
      "Val Precision (micro): 0.0806, Val Precision (macro): 0.0091\n",
      "Val Recall (micro): 0.0806, Val Recall (macro): 0.0172\n",
      "Val F1 (micro): 0.0806, Val F1 (macro): 0.0098\n",
      "--------------------------------------------------------------------------------\n"
     ]
    },
    {
     "name": "stderr",
     "output_type": "stream",
     "text": [
      " 79%|███████▉  | 78894/100000 [46:18<07:25, 47.36it/s]"
     ]
    },
    {
     "name": "stdout",
     "output_type": "stream",
     "text": [
      "Epoch [78900/100000]\n",
      "Train Loss: 5.7872, Train Accuracy: 0.0867\n",
      "Train Precision (micro): 0.0867, Train Precision (macro): 0.0056\n",
      "Train Recall (micro): 0.0867, Train Recall (macro): 0.0121\n",
      "Train F1 (micro): 0.0867, Train F1 (macro): 0.0059\n",
      "\n",
      "Val Loss: 5.8294, Val Accuracy: 0.0825\n",
      "Val Precision (micro): 0.0825, Val Precision (macro): 0.0087\n",
      "Val Recall (micro): 0.0825, Val Recall (macro): 0.0175\n",
      "Val F1 (micro): 0.0825, Val F1 (macro): 0.0100\n",
      "--------------------------------------------------------------------------------\n"
     ]
    },
    {
     "name": "stderr",
     "output_type": "stream",
     "text": [
      " 79%|███████▉  | 78996/100000 [46:22<07:21, 47.56it/s]"
     ]
    },
    {
     "name": "stdout",
     "output_type": "stream",
     "text": [
      "Epoch [79000/100000]\n",
      "Train Loss: 5.8363, Train Accuracy: 0.0869\n",
      "Train Precision (micro): 0.0869, Train Precision (macro): 0.0064\n",
      "Train Recall (micro): 0.0869, Train Recall (macro): 0.0120\n",
      "Train F1 (micro): 0.0869, Train F1 (macro): 0.0070\n",
      "\n",
      "Val Loss: 5.8297, Val Accuracy: 0.0825\n",
      "Val Precision (micro): 0.0825, Val Precision (macro): 0.0094\n",
      "Val Recall (micro): 0.0825, Val Recall (macro): 0.0177\n",
      "Val F1 (micro): 0.0825, Val F1 (macro): 0.0101\n",
      "--------------------------------------------------------------------------------\n"
     ]
    },
    {
     "name": "stderr",
     "output_type": "stream",
     "text": [
      " 79%|███████▉  | 79099/100000 [46:26<07:04, 49.26it/s]"
     ]
    },
    {
     "name": "stdout",
     "output_type": "stream",
     "text": [
      "Epoch [79100/100000]\n",
      "Train Loss: 5.8387, Train Accuracy: 0.0803\n",
      "Train Precision (micro): 0.0803, Train Precision (macro): 0.0065\n",
      "Train Recall (micro): 0.0803, Train Recall (macro): 0.0113\n",
      "Train F1 (micro): 0.0803, Train F1 (macro): 0.0064\n",
      "\n",
      "Val Loss: 5.8303, Val Accuracy: 0.0819\n",
      "Val Precision (micro): 0.0819, Val Precision (macro): 0.0085\n",
      "Val Recall (micro): 0.0819, Val Recall (macro): 0.0175\n",
      "Val F1 (micro): 0.0819, Val F1 (macro): 0.0099\n",
      "--------------------------------------------------------------------------------\n"
     ]
    },
    {
     "name": "stderr",
     "output_type": "stream",
     "text": [
      " 79%|███████▉  | 79195/100000 [46:29<07:14, 47.93it/s]"
     ]
    },
    {
     "name": "stdout",
     "output_type": "stream",
     "text": [
      "Epoch [79200/100000]\n",
      "Train Loss: 5.8398, Train Accuracy: 0.0838\n",
      "Train Precision (micro): 0.0838, Train Precision (macro): 0.0062\n",
      "Train Recall (micro): 0.0838, Train Recall (macro): 0.0115\n",
      "Train F1 (micro): 0.0838, Train F1 (macro): 0.0066\n",
      "\n",
      "Val Loss: 5.8295, Val Accuracy: 0.0819\n",
      "Val Precision (micro): 0.0819, Val Precision (macro): 0.0085\n",
      "Val Recall (micro): 0.0819, Val Recall (macro): 0.0176\n",
      "Val F1 (micro): 0.0819, Val F1 (macro): 0.0099\n",
      "--------------------------------------------------------------------------------\n"
     ]
    },
    {
     "name": "stderr",
     "output_type": "stream",
     "text": [
      " 79%|███████▉  | 79297/100000 [46:32<07:01, 49.11it/s]"
     ]
    },
    {
     "name": "stdout",
     "output_type": "stream",
     "text": [
      "Epoch [79300/100000]\n",
      "Train Loss: 5.8993, Train Accuracy: 0.0791\n",
      "Train Precision (micro): 0.0791, Train Precision (macro): 0.0058\n",
      "Train Recall (micro): 0.0791, Train Recall (macro): 0.0100\n",
      "Train F1 (micro): 0.0791, Train F1 (macro): 0.0056\n",
      "\n",
      "Val Loss: 5.8286, Val Accuracy: 0.0813\n",
      "Val Precision (micro): 0.0813, Val Precision (macro): 0.0085\n",
      "Val Recall (micro): 0.0813, Val Recall (macro): 0.0172\n",
      "Val F1 (micro): 0.0813, Val F1 (macro): 0.0097\n",
      "--------------------------------------------------------------------------------\n"
     ]
    },
    {
     "name": "stderr",
     "output_type": "stream",
     "text": [
      " 79%|███████▉  | 79395/100000 [46:36<07:56, 43.26it/s]"
     ]
    },
    {
     "name": "stdout",
     "output_type": "stream",
     "text": [
      "Epoch [79400/100000]\n",
      "Train Loss: 5.8472, Train Accuracy: 0.0794\n",
      "Train Precision (micro): 0.0794, Train Precision (macro): 0.0056\n",
      "Train Recall (micro): 0.0794, Train Recall (macro): 0.0103\n",
      "Train F1 (micro): 0.0794, Train F1 (macro): 0.0056\n",
      "\n",
      "Val Loss: 5.8305, Val Accuracy: 0.0825\n",
      "Val Precision (micro): 0.0825, Val Precision (macro): 0.0088\n",
      "Val Recall (micro): 0.0825, Val Recall (macro): 0.0178\n",
      "Val F1 (micro): 0.0825, Val F1 (macro): 0.0102\n",
      "--------------------------------------------------------------------------------\n"
     ]
    },
    {
     "name": "stderr",
     "output_type": "stream",
     "text": [
      " 79%|███████▉  | 79494/100000 [46:39<07:07, 47.94it/s]"
     ]
    },
    {
     "name": "stdout",
     "output_type": "stream",
     "text": [
      "Epoch [79500/100000]\n",
      "Train Loss: 5.8386, Train Accuracy: 0.0800\n",
      "Train Precision (micro): 0.0800, Train Precision (macro): 0.0062\n",
      "Train Recall (micro): 0.0800, Train Recall (macro): 0.0121\n",
      "Train F1 (micro): 0.0800, Train F1 (macro): 0.0071\n",
      "\n",
      "Val Loss: 5.8290, Val Accuracy: 0.0800\n",
      "Val Precision (micro): 0.0800, Val Precision (macro): 0.0091\n",
      "Val Recall (micro): 0.0800, Val Recall (macro): 0.0171\n",
      "Val F1 (micro): 0.0800, Val F1 (macro): 0.0098\n",
      "--------------------------------------------------------------------------------\n"
     ]
    },
    {
     "name": "stderr",
     "output_type": "stream",
     "text": [
      " 80%|███████▉  | 79599/100000 [46:43<07:11, 47.27it/s]"
     ]
    },
    {
     "name": "stdout",
     "output_type": "stream",
     "text": [
      "Epoch [79600/100000]\n",
      "Train Loss: 5.8582, Train Accuracy: 0.0848\n",
      "Train Precision (micro): 0.0848, Train Precision (macro): 0.0073\n",
      "Train Recall (micro): 0.0848, Train Recall (macro): 0.0113\n",
      "Train F1 (micro): 0.0848, Train F1 (macro): 0.0072\n",
      "\n",
      "Val Loss: 5.8293, Val Accuracy: 0.0819\n",
      "Val Precision (micro): 0.0819, Val Precision (macro): 0.0089\n",
      "Val Recall (micro): 0.0819, Val Recall (macro): 0.0176\n",
      "Val F1 (micro): 0.0819, Val F1 (macro): 0.0100\n",
      "--------------------------------------------------------------------------------\n"
     ]
    },
    {
     "name": "stderr",
     "output_type": "stream",
     "text": [
      " 80%|███████▉  | 79695/100000 [46:46<07:26, 45.47it/s]"
     ]
    },
    {
     "name": "stdout",
     "output_type": "stream",
     "text": [
      "Epoch [79700/100000]\n",
      "Train Loss: 5.8515, Train Accuracy: 0.0831\n",
      "Train Precision (micro): 0.0831, Train Precision (macro): 0.0069\n",
      "Train Recall (micro): 0.0831, Train Recall (macro): 0.0113\n",
      "Train F1 (micro): 0.0831, Train F1 (macro): 0.0069\n",
      "\n",
      "Val Loss: 5.8299, Val Accuracy: 0.0816\n",
      "Val Precision (micro): 0.0816, Val Precision (macro): 0.0089\n",
      "Val Recall (micro): 0.0816, Val Recall (macro): 0.0176\n",
      "Val F1 (micro): 0.0816, Val F1 (macro): 0.0101\n",
      "--------------------------------------------------------------------------------\n"
     ]
    },
    {
     "name": "stderr",
     "output_type": "stream",
     "text": [
      " 80%|███████▉  | 79797/100000 [46:50<06:57, 48.38it/s]"
     ]
    },
    {
     "name": "stdout",
     "output_type": "stream",
     "text": [
      "Epoch [79800/100000]\n",
      "Train Loss: 5.8421, Train Accuracy: 0.0866\n",
      "Train Precision (micro): 0.0866, Train Precision (macro): 0.0085\n",
      "Train Recall (micro): 0.0866, Train Recall (macro): 0.0127\n",
      "Train F1 (micro): 0.0866, Train F1 (macro): 0.0075\n",
      "\n",
      "Val Loss: 5.8299, Val Accuracy: 0.0822\n",
      "Val Precision (micro): 0.0822, Val Precision (macro): 0.0088\n",
      "Val Recall (micro): 0.0822, Val Recall (macro): 0.0177\n",
      "Val F1 (micro): 0.0822, Val F1 (macro): 0.0101\n",
      "--------------------------------------------------------------------------------\n"
     ]
    },
    {
     "name": "stderr",
     "output_type": "stream",
     "text": [
      " 80%|███████▉  | 79896/100000 [46:53<06:47, 49.39it/s]"
     ]
    },
    {
     "name": "stdout",
     "output_type": "stream",
     "text": [
      "Epoch [79900/100000]\n",
      "Train Loss: 5.8199, Train Accuracy: 0.0872\n",
      "Train Precision (micro): 0.0872, Train Precision (macro): 0.0074\n",
      "Train Recall (micro): 0.0872, Train Recall (macro): 0.0123\n",
      "Train F1 (micro): 0.0872, Train F1 (macro): 0.0074\n",
      "\n",
      "Val Loss: 5.8306, Val Accuracy: 0.0809\n",
      "Val Precision (micro): 0.0809, Val Precision (macro): 0.0086\n",
      "Val Recall (micro): 0.0809, Val Recall (macro): 0.0174\n",
      "Val F1 (micro): 0.0809, Val F1 (macro): 0.0099\n",
      "--------------------------------------------------------------------------------\n"
     ]
    },
    {
     "name": "stderr",
     "output_type": "stream",
     "text": [
      " 80%|███████▉  | 79997/100000 [46:56<06:59, 47.69it/s]"
     ]
    },
    {
     "name": "stdout",
     "output_type": "stream",
     "text": [
      "Epoch [80000/100000]\n",
      "Train Loss: 5.8369, Train Accuracy: 0.0859\n",
      "Train Precision (micro): 0.0859, Train Precision (macro): 0.0060\n",
      "Train Recall (micro): 0.0859, Train Recall (macro): 0.0113\n",
      "Train F1 (micro): 0.0859, Train F1 (macro): 0.0067\n",
      "\n",
      "Val Loss: 5.8303, Val Accuracy: 0.0809\n",
      "Val Precision (micro): 0.0809, Val Precision (macro): 0.0089\n",
      "Val Recall (micro): 0.0809, Val Recall (macro): 0.0174\n",
      "Val F1 (micro): 0.0809, Val F1 (macro): 0.0100\n",
      "--------------------------------------------------------------------------------\n"
     ]
    },
    {
     "name": "stderr",
     "output_type": "stream",
     "text": [
      " 80%|████████  | 80094/100000 [47:00<06:52, 48.28it/s]"
     ]
    },
    {
     "name": "stdout",
     "output_type": "stream",
     "text": [
      "Epoch [80100/100000]\n",
      "Train Loss: 5.8488, Train Accuracy: 0.0864\n",
      "Train Precision (micro): 0.0864, Train Precision (macro): 0.0083\n",
      "Train Recall (micro): 0.0864, Train Recall (macro): 0.0137\n",
      "Train F1 (micro): 0.0864, Train F1 (macro): 0.0082\n",
      "\n",
      "Val Loss: 5.8293, Val Accuracy: 0.0825\n",
      "Val Precision (micro): 0.0825, Val Precision (macro): 0.0089\n",
      "Val Recall (micro): 0.0825, Val Recall (macro): 0.0177\n",
      "Val F1 (micro): 0.0825, Val F1 (macro): 0.0101\n",
      "--------------------------------------------------------------------------------\n"
     ]
    },
    {
     "name": "stderr",
     "output_type": "stream",
     "text": [
      " 80%|████████  | 80197/100000 [47:04<06:42, 49.18it/s]"
     ]
    },
    {
     "name": "stdout",
     "output_type": "stream",
     "text": [
      "Epoch [80200/100000]\n",
      "Train Loss: 5.8248, Train Accuracy: 0.0925\n",
      "Train Precision (micro): 0.0925, Train Precision (macro): 0.0070\n",
      "Train Recall (micro): 0.0925, Train Recall (macro): 0.0116\n",
      "Train F1 (micro): 0.0925, Train F1 (macro): 0.0070\n",
      "\n",
      "Val Loss: 5.8287, Val Accuracy: 0.0822\n",
      "Val Precision (micro): 0.0822, Val Precision (macro): 0.0092\n",
      "Val Recall (micro): 0.0822, Val Recall (macro): 0.0175\n",
      "Val F1 (micro): 0.0822, Val F1 (macro): 0.0100\n",
      "--------------------------------------------------------------------------------\n"
     ]
    },
    {
     "name": "stderr",
     "output_type": "stream",
     "text": [
      " 80%|████████  | 80296/100000 [47:08<07:00, 46.86it/s]"
     ]
    },
    {
     "name": "stdout",
     "output_type": "stream",
     "text": [
      "Epoch [80300/100000]\n",
      "Train Loss: 5.8066, Train Accuracy: 0.0842\n",
      "Train Precision (micro): 0.0842, Train Precision (macro): 0.0068\n",
      "Train Recall (micro): 0.0842, Train Recall (macro): 0.0109\n",
      "Train F1 (micro): 0.0842, Train F1 (macro): 0.0070\n",
      "\n",
      "Val Loss: 5.8286, Val Accuracy: 0.0819\n",
      "Val Precision (micro): 0.0819, Val Precision (macro): 0.0091\n",
      "Val Recall (micro): 0.0819, Val Recall (macro): 0.0174\n",
      "Val F1 (micro): 0.0819, Val F1 (macro): 0.0099\n",
      "--------------------------------------------------------------------------------\n"
     ]
    },
    {
     "name": "stderr",
     "output_type": "stream",
     "text": [
      " 80%|████████  | 80395/100000 [47:12<08:03, 40.54it/s]"
     ]
    },
    {
     "name": "stdout",
     "output_type": "stream",
     "text": [
      "Epoch [80400/100000]\n",
      "Train Loss: 5.7825, Train Accuracy: 0.0912\n",
      "Train Precision (micro): 0.0912, Train Precision (macro): 0.0114\n",
      "Train Recall (micro): 0.0912, Train Recall (macro): 0.0151\n",
      "Train F1 (micro): 0.0912, Train F1 (macro): 0.0103\n",
      "\n",
      "Val Loss: 5.8289, Val Accuracy: 0.0828\n",
      "Val Precision (micro): 0.0828, Val Precision (macro): 0.0093\n",
      "Val Recall (micro): 0.0828, Val Recall (macro): 0.0176\n",
      "Val F1 (micro): 0.0828, Val F1 (macro): 0.0100\n",
      "--------------------------------------------------------------------------------\n"
     ]
    },
    {
     "name": "stderr",
     "output_type": "stream",
     "text": [
      " 80%|████████  | 80494/100000 [47:16<06:52, 47.27it/s]"
     ]
    },
    {
     "name": "stdout",
     "output_type": "stream",
     "text": [
      "Epoch [80500/100000]\n",
      "Train Loss: 5.8490, Train Accuracy: 0.0755\n",
      "Train Precision (micro): 0.0755, Train Precision (macro): 0.0052\n",
      "Train Recall (micro): 0.0755, Train Recall (macro): 0.0089\n",
      "Train F1 (micro): 0.0755, Train F1 (macro): 0.0054\n",
      "\n",
      "Val Loss: 5.8288, Val Accuracy: 0.0819\n",
      "Val Precision (micro): 0.0819, Val Precision (macro): 0.0093\n",
      "Val Recall (micro): 0.0819, Val Recall (macro): 0.0175\n",
      "Val F1 (micro): 0.0819, Val F1 (macro): 0.0100\n",
      "--------------------------------------------------------------------------------\n"
     ]
    },
    {
     "name": "stderr",
     "output_type": "stream",
     "text": [
      " 81%|████████  | 80599/100000 [47:19<06:30, 49.64it/s]"
     ]
    },
    {
     "name": "stdout",
     "output_type": "stream",
     "text": [
      "Epoch [80600/100000]\n",
      "Train Loss: 5.7972, Train Accuracy: 0.0887\n",
      "Train Precision (micro): 0.0887, Train Precision (macro): 0.0086\n",
      "Train Recall (micro): 0.0887, Train Recall (macro): 0.0124\n",
      "Train F1 (micro): 0.0887, Train F1 (macro): 0.0078\n",
      "\n",
      "Val Loss: 5.8287, Val Accuracy: 0.0819\n",
      "Val Precision (micro): 0.0819, Val Precision (macro): 0.0092\n",
      "Val Recall (micro): 0.0819, Val Recall (macro): 0.0173\n",
      "Val F1 (micro): 0.0819, Val F1 (macro): 0.0099\n",
      "--------------------------------------------------------------------------------\n"
     ]
    },
    {
     "name": "stderr",
     "output_type": "stream",
     "text": [
      " 81%|████████  | 80697/100000 [47:23<06:37, 48.57it/s]"
     ]
    },
    {
     "name": "stdout",
     "output_type": "stream",
     "text": [
      "Epoch [80700/100000]\n",
      "Train Loss: 5.8936, Train Accuracy: 0.0806\n",
      "Train Precision (micro): 0.0806, Train Precision (macro): 0.0061\n",
      "Train Recall (micro): 0.0806, Train Recall (macro): 0.0120\n",
      "Train F1 (micro): 0.0806, Train F1 (macro): 0.0071\n",
      "\n",
      "Val Loss: 5.8287, Val Accuracy: 0.0822\n",
      "Val Precision (micro): 0.0822, Val Precision (macro): 0.0092\n",
      "Val Recall (micro): 0.0822, Val Recall (macro): 0.0173\n",
      "Val F1 (micro): 0.0822, Val F1 (macro): 0.0099\n",
      "--------------------------------------------------------------------------------\n"
     ]
    },
    {
     "name": "stderr",
     "output_type": "stream",
     "text": [
      " 81%|████████  | 80798/100000 [47:26<06:31, 49.08it/s]"
     ]
    },
    {
     "name": "stdout",
     "output_type": "stream",
     "text": [
      "Epoch [80800/100000]\n",
      "Train Loss: 5.8529, Train Accuracy: 0.0827\n",
      "Train Precision (micro): 0.0827, Train Precision (macro): 0.0057\n",
      "Train Recall (micro): 0.0827, Train Recall (macro): 0.0094\n",
      "Train F1 (micro): 0.0827, Train F1 (macro): 0.0059\n",
      "\n",
      "Val Loss: 5.8287, Val Accuracy: 0.0825\n",
      "Val Precision (micro): 0.0825, Val Precision (macro): 0.0093\n",
      "Val Recall (micro): 0.0825, Val Recall (macro): 0.0177\n",
      "Val F1 (micro): 0.0825, Val F1 (macro): 0.0101\n",
      "--------------------------------------------------------------------------------\n"
     ]
    },
    {
     "name": "stderr",
     "output_type": "stream",
     "text": [
      " 81%|████████  | 80899/100000 [47:30<06:38, 47.98it/s]"
     ]
    },
    {
     "name": "stdout",
     "output_type": "stream",
     "text": [
      "Epoch [80900/100000]\n",
      "Train Loss: 5.8266, Train Accuracy: 0.0839\n",
      "Train Precision (micro): 0.0839, Train Precision (macro): 0.0047\n",
      "Train Recall (micro): 0.0839, Train Recall (macro): 0.0100\n",
      "Train F1 (micro): 0.0839, Train F1 (macro): 0.0049\n",
      "\n",
      "Val Loss: 5.8288, Val Accuracy: 0.0831\n",
      "Val Precision (micro): 0.0831, Val Precision (macro): 0.0091\n",
      "Val Recall (micro): 0.0831, Val Recall (macro): 0.0178\n",
      "Val F1 (micro): 0.0831, Val F1 (macro): 0.0102\n",
      "--------------------------------------------------------------------------------\n"
     ]
    },
    {
     "name": "stderr",
     "output_type": "stream",
     "text": [
      " 81%|████████  | 80999/100000 [47:33<06:44, 47.01it/s]"
     ]
    },
    {
     "name": "stdout",
     "output_type": "stream",
     "text": [
      "Epoch [81000/100000]\n",
      "Train Loss: 5.8087, Train Accuracy: 0.0833\n",
      "Train Precision (micro): 0.0833, Train Precision (macro): 0.0065\n",
      "Train Recall (micro): 0.0833, Train Recall (macro): 0.0129\n",
      "Train F1 (micro): 0.0833, Train F1 (macro): 0.0076\n",
      "\n",
      "Val Loss: 5.8287, Val Accuracy: 0.0828\n",
      "Val Precision (micro): 0.0828, Val Precision (macro): 0.0091\n",
      "Val Recall (micro): 0.0828, Val Recall (macro): 0.0177\n",
      "Val F1 (micro): 0.0828, Val F1 (macro): 0.0102\n",
      "--------------------------------------------------------------------------------\n"
     ]
    },
    {
     "name": "stderr",
     "output_type": "stream",
     "text": [
      " 81%|████████  | 81097/100000 [47:37<06:23, 49.34it/s]"
     ]
    },
    {
     "name": "stdout",
     "output_type": "stream",
     "text": [
      "Epoch [81100/100000]\n",
      "Train Loss: 5.8223, Train Accuracy: 0.0800\n",
      "Train Precision (micro): 0.0800, Train Precision (macro): 0.0074\n",
      "Train Recall (micro): 0.0800, Train Recall (macro): 0.0124\n",
      "Train F1 (micro): 0.0800, Train F1 (macro): 0.0075\n",
      "\n",
      "Val Loss: 5.8292, Val Accuracy: 0.0822\n",
      "Val Precision (micro): 0.0822, Val Precision (macro): 0.0090\n",
      "Val Recall (micro): 0.0822, Val Recall (macro): 0.0175\n",
      "Val F1 (micro): 0.0822, Val F1 (macro): 0.0100\n",
      "--------------------------------------------------------------------------------\n"
     ]
    },
    {
     "name": "stderr",
     "output_type": "stream",
     "text": [
      " 81%|████████  | 81195/100000 [47:40<07:09, 43.76it/s]"
     ]
    },
    {
     "name": "stdout",
     "output_type": "stream",
     "text": [
      "Epoch [81200/100000]\n",
      "Train Loss: 5.8157, Train Accuracy: 0.0781\n",
      "Train Precision (micro): 0.0781, Train Precision (macro): 0.0069\n",
      "Train Recall (micro): 0.0781, Train Recall (macro): 0.0107\n",
      "Train F1 (micro): 0.0781, Train F1 (macro): 0.0063\n",
      "\n",
      "Val Loss: 5.8292, Val Accuracy: 0.0819\n",
      "Val Precision (micro): 0.0819, Val Precision (macro): 0.0089\n",
      "Val Recall (micro): 0.0819, Val Recall (macro): 0.0175\n",
      "Val F1 (micro): 0.0819, Val F1 (macro): 0.0100\n",
      "--------------------------------------------------------------------------------\n"
     ]
    },
    {
     "name": "stderr",
     "output_type": "stream",
     "text": [
      " 81%|████████▏ | 81298/100000 [47:44<07:10, 43.46it/s]"
     ]
    },
    {
     "name": "stdout",
     "output_type": "stream",
     "text": [
      "Epoch [81300/100000]\n",
      "Train Loss: 5.8250, Train Accuracy: 0.0819\n",
      "Train Precision (micro): 0.0819, Train Precision (macro): 0.0077\n",
      "Train Recall (micro): 0.0819, Train Recall (macro): 0.0116\n",
      "Train F1 (micro): 0.0819, Train F1 (macro): 0.0069\n",
      "\n",
      "Val Loss: 5.8292, Val Accuracy: 0.0819\n",
      "Val Precision (micro): 0.0819, Val Precision (macro): 0.0089\n",
      "Val Recall (micro): 0.0819, Val Recall (macro): 0.0174\n",
      "Val F1 (micro): 0.0819, Val F1 (macro): 0.0100\n",
      "--------------------------------------------------------------------------------\n"
     ]
    },
    {
     "name": "stderr",
     "output_type": "stream",
     "text": [
      " 81%|████████▏ | 81399/100000 [47:48<08:12, 37.75it/s]"
     ]
    },
    {
     "name": "stdout",
     "output_type": "stream",
     "text": [
      "Epoch [81400/100000]\n",
      "Train Loss: 5.8112, Train Accuracy: 0.0855\n",
      "Train Precision (micro): 0.0855, Train Precision (macro): 0.0067\n",
      "Train Recall (micro): 0.0855, Train Recall (macro): 0.0109\n",
      "Train F1 (micro): 0.0855, Train F1 (macro): 0.0068\n",
      "\n",
      "Val Loss: 5.8293, Val Accuracy: 0.0822\n",
      "Val Precision (micro): 0.0822, Val Precision (macro): 0.0090\n",
      "Val Recall (micro): 0.0822, Val Recall (macro): 0.0175\n",
      "Val F1 (micro): 0.0822, Val F1 (macro): 0.0101\n",
      "--------------------------------------------------------------------------------\n"
     ]
    },
    {
     "name": "stderr",
     "output_type": "stream",
     "text": [
      " 81%|████████▏ | 81496/100000 [47:51<06:54, 44.67it/s]"
     ]
    },
    {
     "name": "stdout",
     "output_type": "stream",
     "text": [
      "Epoch [81500/100000]\n",
      "Train Loss: 5.8359, Train Accuracy: 0.0816\n",
      "Train Precision (micro): 0.0816, Train Precision (macro): 0.0055\n",
      "Train Recall (micro): 0.0816, Train Recall (macro): 0.0102\n",
      "Train F1 (micro): 0.0816, Train F1 (macro): 0.0055\n",
      "\n",
      "Val Loss: 5.8293, Val Accuracy: 0.0822\n",
      "Val Precision (micro): 0.0822, Val Precision (macro): 0.0090\n",
      "Val Recall (micro): 0.0822, Val Recall (macro): 0.0175\n",
      "Val F1 (micro): 0.0822, Val F1 (macro): 0.0101\n",
      "--------------------------------------------------------------------------------\n"
     ]
    },
    {
     "name": "stderr",
     "output_type": "stream",
     "text": [
      " 82%|████████▏ | 81595/100000 [47:54<07:08, 42.96it/s]"
     ]
    },
    {
     "name": "stdout",
     "output_type": "stream",
     "text": [
      "Epoch [81600/100000]\n",
      "Train Loss: 5.8288, Train Accuracy: 0.0869\n",
      "Train Precision (micro): 0.0869, Train Precision (macro): 0.0077\n",
      "Train Recall (micro): 0.0869, Train Recall (macro): 0.0136\n",
      "Train F1 (micro): 0.0869, Train F1 (macro): 0.0075\n",
      "\n",
      "Val Loss: 5.8295, Val Accuracy: 0.0819\n",
      "Val Precision (micro): 0.0819, Val Precision (macro): 0.0090\n",
      "Val Recall (micro): 0.0819, Val Recall (macro): 0.0175\n",
      "Val F1 (micro): 0.0819, Val F1 (macro): 0.0101\n",
      "--------------------------------------------------------------------------------\n"
     ]
    },
    {
     "name": "stderr",
     "output_type": "stream",
     "text": [
      " 82%|████████▏ | 81694/100000 [47:58<06:10, 49.39it/s]"
     ]
    },
    {
     "name": "stdout",
     "output_type": "stream",
     "text": [
      "Epoch [81700/100000]\n",
      "Train Loss: 5.9095, Train Accuracy: 0.0808\n",
      "Train Precision (micro): 0.0808, Train Precision (macro): 0.0063\n",
      "Train Recall (micro): 0.0808, Train Recall (macro): 0.0112\n",
      "Train F1 (micro): 0.0808, Train F1 (macro): 0.0064\n",
      "\n",
      "Val Loss: 5.8296, Val Accuracy: 0.0822\n",
      "Val Precision (micro): 0.0822, Val Precision (macro): 0.0091\n",
      "Val Recall (micro): 0.0822, Val Recall (macro): 0.0175\n",
      "Val F1 (micro): 0.0822, Val F1 (macro): 0.0101\n",
      "--------------------------------------------------------------------------------\n"
     ]
    },
    {
     "name": "stderr",
     "output_type": "stream",
     "text": [
      " 82%|████████▏ | 81794/100000 [48:05<27:33, 11.01it/s]  "
     ]
    },
    {
     "name": "stdout",
     "output_type": "stream",
     "text": [
      "Epoch [81800/100000]\n",
      "Train Loss: 5.8368, Train Accuracy: 0.0850\n",
      "Train Precision (micro): 0.0850, Train Precision (macro): 0.0073\n",
      "Train Recall (micro): 0.0850, Train Recall (macro): 0.0114\n",
      "Train F1 (micro): 0.0850, Train F1 (macro): 0.0068\n",
      "\n",
      "Val Loss: 5.8297, Val Accuracy: 0.0822\n",
      "Val Precision (micro): 0.0822, Val Precision (macro): 0.0090\n",
      "Val Recall (micro): 0.0822, Val Recall (macro): 0.0177\n",
      "Val F1 (micro): 0.0822, Val F1 (macro): 0.0101\n",
      "--------------------------------------------------------------------------------\n"
     ]
    },
    {
     "name": "stderr",
     "output_type": "stream",
     "text": [
      " 82%|████████▏ | 81897/100000 [48:08<06:07, 49.21it/s]"
     ]
    },
    {
     "name": "stdout",
     "output_type": "stream",
     "text": [
      "Epoch [81900/100000]\n",
      "Train Loss: 5.8064, Train Accuracy: 0.0833\n",
      "Train Precision (micro): 0.0833, Train Precision (macro): 0.0059\n",
      "Train Recall (micro): 0.0833, Train Recall (macro): 0.0107\n",
      "Train F1 (micro): 0.0833, Train F1 (macro): 0.0062\n",
      "\n",
      "Val Loss: 5.8295, Val Accuracy: 0.0825\n",
      "Val Precision (micro): 0.0825, Val Precision (macro): 0.0090\n",
      "Val Recall (micro): 0.0825, Val Recall (macro): 0.0177\n",
      "Val F1 (micro): 0.0825, Val F1 (macro): 0.0101\n",
      "--------------------------------------------------------------------------------\n"
     ]
    },
    {
     "name": "stderr",
     "output_type": "stream",
     "text": [
      " 82%|████████▏ | 81996/100000 [48:12<06:01, 49.74it/s]"
     ]
    },
    {
     "name": "stdout",
     "output_type": "stream",
     "text": [
      "Epoch [82000/100000]\n",
      "Train Loss: 5.8673, Train Accuracy: 0.0867\n",
      "Train Precision (micro): 0.0867, Train Precision (macro): 0.0054\n",
      "Train Recall (micro): 0.0867, Train Recall (macro): 0.0113\n",
      "Train F1 (micro): 0.0867, Train F1 (macro): 0.0063\n",
      "\n",
      "Val Loss: 5.8296, Val Accuracy: 0.0819\n",
      "Val Precision (micro): 0.0819, Val Precision (macro): 0.0090\n",
      "Val Recall (micro): 0.0819, Val Recall (macro): 0.0176\n",
      "Val F1 (micro): 0.0819, Val F1 (macro): 0.0101\n",
      "--------------------------------------------------------------------------------\n"
     ]
    },
    {
     "name": "stderr",
     "output_type": "stream",
     "text": [
      " 82%|████████▏ | 82094/100000 [48:15<06:01, 49.60it/s]"
     ]
    },
    {
     "name": "stdout",
     "output_type": "stream",
     "text": [
      "Epoch [82100/100000]\n",
      "Train Loss: 5.8629, Train Accuracy: 0.0867\n",
      "Train Precision (micro): 0.0867, Train Precision (macro): 0.0064\n",
      "Train Recall (micro): 0.0867, Train Recall (macro): 0.0110\n",
      "Train F1 (micro): 0.0867, Train F1 (macro): 0.0065\n",
      "\n",
      "Val Loss: 5.8870, Val Accuracy: 0.0778\n",
      "Val Precision (micro): 0.0778, Val Precision (macro): 0.0088\n",
      "Val Recall (micro): 0.0778, Val Recall (macro): 0.0178\n",
      "Val F1 (micro): 0.0778, Val F1 (macro): 0.0103\n",
      "--------------------------------------------------------------------------------\n"
     ]
    },
    {
     "name": "stderr",
     "output_type": "stream",
     "text": [
      " 82%|████████▏ | 82194/100000 [48:19<06:25, 46.22it/s]"
     ]
    },
    {
     "name": "stdout",
     "output_type": "stream",
     "text": [
      "Epoch [82200/100000]\n",
      "Train Loss: 5.9207, Train Accuracy: 0.0858\n",
      "Train Precision (micro): 0.0858, Train Precision (macro): 0.0075\n",
      "Train Recall (micro): 0.0858, Train Recall (macro): 0.0106\n",
      "Train F1 (micro): 0.0858, Train F1 (macro): 0.0066\n",
      "\n",
      "Val Loss: 5.9166, Val Accuracy: 0.0797\n",
      "Val Precision (micro): 0.0797, Val Precision (macro): 0.0079\n",
      "Val Recall (micro): 0.0797, Val Recall (macro): 0.0165\n",
      "Val F1 (micro): 0.0797, Val F1 (macro): 0.0093\n",
      "--------------------------------------------------------------------------------\n"
     ]
    },
    {
     "name": "stderr",
     "output_type": "stream",
     "text": [
      " 82%|████████▏ | 82295/100000 [48:22<06:08, 48.00it/s]"
     ]
    },
    {
     "name": "stdout",
     "output_type": "stream",
     "text": [
      "Epoch [82300/100000]\n",
      "Train Loss: 5.9647, Train Accuracy: 0.0750\n",
      "Train Precision (micro): 0.0750, Train Precision (macro): 0.0051\n",
      "Train Recall (micro): 0.0750, Train Recall (macro): 0.0093\n",
      "Train F1 (micro): 0.0750, Train F1 (macro): 0.0054\n",
      "\n",
      "Val Loss: 5.8932, Val Accuracy: 0.0791\n",
      "Val Precision (micro): 0.0791, Val Precision (macro): 0.0094\n",
      "Val Recall (micro): 0.0791, Val Recall (macro): 0.0171\n",
      "Val F1 (micro): 0.0791, Val F1 (macro): 0.0102\n",
      "--------------------------------------------------------------------------------\n"
     ]
    },
    {
     "name": "stderr",
     "output_type": "stream",
     "text": [
      " 82%|████████▏ | 82399/100000 [48:26<08:09, 35.98it/s]"
     ]
    },
    {
     "name": "stdout",
     "output_type": "stream",
     "text": [
      "Epoch [82400/100000]\n",
      "Train Loss: 5.8476, Train Accuracy: 0.0741\n",
      "Train Precision (micro): 0.0741, Train Precision (macro): 0.0052\n",
      "Train Recall (micro): 0.0741, Train Recall (macro): 0.0101\n",
      "Train F1 (micro): 0.0741, Train F1 (macro): 0.0056\n",
      "\n",
      "Val Loss: 5.8875, Val Accuracy: 0.0794\n",
      "Val Precision (micro): 0.0794, Val Precision (macro): 0.0087\n",
      "Val Recall (micro): 0.0794, Val Recall (macro): 0.0173\n",
      "Val F1 (micro): 0.0794, Val F1 (macro): 0.0100\n",
      "--------------------------------------------------------------------------------\n"
     ]
    },
    {
     "name": "stderr",
     "output_type": "stream",
     "text": [
      " 82%|████████▏ | 82499/100000 [48:31<06:49, 42.71it/s]"
     ]
    },
    {
     "name": "stdout",
     "output_type": "stream",
     "text": [
      "Epoch [82500/100000]\n",
      "Train Loss: 5.9013, Train Accuracy: 0.0817\n",
      "Train Precision (micro): 0.0817, Train Precision (macro): 0.0094\n",
      "Train Recall (micro): 0.0817, Train Recall (macro): 0.0112\n",
      "Train F1 (micro): 0.0817, Train F1 (macro): 0.0076\n",
      "\n",
      "Val Loss: 5.8778, Val Accuracy: 0.0809\n",
      "Val Precision (micro): 0.0809, Val Precision (macro): 0.0096\n",
      "Val Recall (micro): 0.0809, Val Recall (macro): 0.0165\n",
      "Val F1 (micro): 0.0809, Val F1 (macro): 0.0102\n",
      "--------------------------------------------------------------------------------\n"
     ]
    },
    {
     "name": "stderr",
     "output_type": "stream",
     "text": [
      " 83%|████████▎ | 82594/100000 [48:34<06:16, 46.18it/s]"
     ]
    },
    {
     "name": "stdout",
     "output_type": "stream",
     "text": [
      "Epoch [82600/100000]\n",
      "Train Loss: 5.8744, Train Accuracy: 0.0852\n",
      "Train Precision (micro): 0.0852, Train Precision (macro): 0.0086\n",
      "Train Recall (micro): 0.0852, Train Recall (macro): 0.0121\n",
      "Train F1 (micro): 0.0852, Train F1 (macro): 0.0078\n",
      "\n",
      "Val Loss: 5.9121, Val Accuracy: 0.0838\n",
      "Val Precision (micro): 0.0838, Val Precision (macro): 0.0105\n",
      "Val Recall (micro): 0.0838, Val Recall (macro): 0.0176\n",
      "Val F1 (micro): 0.0838, Val F1 (macro): 0.0108\n",
      "--------------------------------------------------------------------------------\n"
     ]
    },
    {
     "name": "stderr",
     "output_type": "stream",
     "text": [
      " 83%|████████▎ | 82699/100000 [48:38<06:14, 46.14it/s]"
     ]
    },
    {
     "name": "stdout",
     "output_type": "stream",
     "text": [
      "Epoch [82700/100000]\n",
      "Train Loss: 5.9079, Train Accuracy: 0.0814\n",
      "Train Precision (micro): 0.0814, Train Precision (macro): 0.0069\n",
      "Train Recall (micro): 0.0814, Train Recall (macro): 0.0103\n",
      "Train F1 (micro): 0.0814, Train F1 (macro): 0.0058\n",
      "\n",
      "Val Loss: 5.9325, Val Accuracy: 0.0772\n",
      "Val Precision (micro): 0.0772, Val Precision (macro): 0.0079\n",
      "Val Recall (micro): 0.0772, Val Recall (macro): 0.0152\n",
      "Val F1 (micro): 0.0772, Val F1 (macro): 0.0090\n",
      "--------------------------------------------------------------------------------\n"
     ]
    },
    {
     "name": "stderr",
     "output_type": "stream",
     "text": [
      " 83%|████████▎ | 82796/100000 [48:41<06:09, 46.62it/s]"
     ]
    },
    {
     "name": "stdout",
     "output_type": "stream",
     "text": [
      "Epoch [82800/100000]\n",
      "Train Loss: 5.9253, Train Accuracy: 0.0852\n",
      "Train Precision (micro): 0.0852, Train Precision (macro): 0.0085\n",
      "Train Recall (micro): 0.0852, Train Recall (macro): 0.0108\n",
      "Train F1 (micro): 0.0852, Train F1 (macro): 0.0065\n",
      "\n",
      "Val Loss: 5.9217, Val Accuracy: 0.0766\n",
      "Val Precision (micro): 0.0766, Val Precision (macro): 0.0093\n",
      "Val Recall (micro): 0.0766, Val Recall (macro): 0.0165\n",
      "Val F1 (micro): 0.0766, Val F1 (macro): 0.0097\n",
      "--------------------------------------------------------------------------------\n"
     ]
    },
    {
     "name": "stderr",
     "output_type": "stream",
     "text": [
      " 83%|████████▎ | 82896/100000 [48:44<05:41, 50.10it/s]"
     ]
    },
    {
     "name": "stdout",
     "output_type": "stream",
     "text": [
      "Epoch [82900/100000]\n",
      "Train Loss: 5.8608, Train Accuracy: 0.0806\n",
      "Train Precision (micro): 0.0806, Train Precision (macro): 0.0059\n",
      "Train Recall (micro): 0.0806, Train Recall (macro): 0.0113\n",
      "Train F1 (micro): 0.0806, Train F1 (macro): 0.0064\n",
      "\n",
      "Val Loss: 5.8791, Val Accuracy: 0.0797\n",
      "Val Precision (micro): 0.0797, Val Precision (macro): 0.0088\n",
      "Val Recall (micro): 0.0797, Val Recall (macro): 0.0166\n",
      "Val F1 (micro): 0.0797, Val F1 (macro): 0.0099\n",
      "--------------------------------------------------------------------------------\n"
     ]
    },
    {
     "name": "stderr",
     "output_type": "stream",
     "text": [
      " 83%|████████▎ | 82995/100000 [48:48<06:16, 45.20it/s]"
     ]
    },
    {
     "name": "stdout",
     "output_type": "stream",
     "text": [
      "Epoch [83000/100000]\n",
      "Train Loss: 5.9373, Train Accuracy: 0.0752\n",
      "Train Precision (micro): 0.0752, Train Precision (macro): 0.0047\n",
      "Train Recall (micro): 0.0752, Train Recall (macro): 0.0094\n",
      "Train F1 (micro): 0.0752, Train F1 (macro): 0.0051\n",
      "\n",
      "Val Loss: 5.8787, Val Accuracy: 0.0775\n",
      "Val Precision (micro): 0.0775, Val Precision (macro): 0.0092\n",
      "Val Recall (micro): 0.0775, Val Recall (macro): 0.0172\n",
      "Val F1 (micro): 0.0775, Val F1 (macro): 0.0100\n",
      "--------------------------------------------------------------------------------\n"
     ]
    },
    {
     "name": "stderr",
     "output_type": "stream",
     "text": [
      " 83%|████████▎ | 83097/100000 [48:51<05:43, 49.15it/s]"
     ]
    },
    {
     "name": "stdout",
     "output_type": "stream",
     "text": [
      "Epoch [83100/100000]\n",
      "Train Loss: 5.9560, Train Accuracy: 0.0769\n",
      "Train Precision (micro): 0.0769, Train Precision (macro): 0.0057\n",
      "Train Recall (micro): 0.0769, Train Recall (macro): 0.0113\n",
      "Train F1 (micro): 0.0769, Train F1 (macro): 0.0063\n",
      "\n",
      "Val Loss: 5.8800, Val Accuracy: 0.0794\n",
      "Val Precision (micro): 0.0794, Val Precision (macro): 0.0077\n",
      "Val Recall (micro): 0.0794, Val Recall (macro): 0.0159\n",
      "Val F1 (micro): 0.0794, Val F1 (macro): 0.0086\n",
      "--------------------------------------------------------------------------------\n"
     ]
    },
    {
     "name": "stderr",
     "output_type": "stream",
     "text": [
      " 83%|████████▎ | 83199/100000 [48:55<05:46, 48.52it/s]"
     ]
    },
    {
     "name": "stdout",
     "output_type": "stream",
     "text": [
      "Epoch [83200/100000]\n",
      "Train Loss: 5.9021, Train Accuracy: 0.0788\n",
      "Train Precision (micro): 0.0788, Train Precision (macro): 0.0060\n",
      "Train Recall (micro): 0.0788, Train Recall (macro): 0.0112\n",
      "Train F1 (micro): 0.0788, Train F1 (macro): 0.0064\n",
      "\n",
      "Val Loss: 5.8610, Val Accuracy: 0.0784\n",
      "Val Precision (micro): 0.0784, Val Precision (macro): 0.0104\n",
      "Val Recall (micro): 0.0784, Val Recall (macro): 0.0169\n",
      "Val F1 (micro): 0.0784, Val F1 (macro): 0.0107\n",
      "--------------------------------------------------------------------------------\n"
     ]
    },
    {
     "name": "stderr",
     "output_type": "stream",
     "text": [
      " 83%|████████▎ | 83299/100000 [48:58<06:00, 46.37it/s]"
     ]
    },
    {
     "name": "stdout",
     "output_type": "stream",
     "text": [
      "Epoch [83300/100000]\n",
      "Train Loss: 5.8709, Train Accuracy: 0.0855\n",
      "Train Precision (micro): 0.0855, Train Precision (macro): 0.0070\n",
      "Train Recall (micro): 0.0855, Train Recall (macro): 0.0125\n",
      "Train F1 (micro): 0.0855, Train F1 (macro): 0.0077\n",
      "\n",
      "Val Loss: 5.8808, Val Accuracy: 0.0766\n",
      "Val Precision (micro): 0.0766, Val Precision (macro): 0.0089\n",
      "Val Recall (micro): 0.0766, Val Recall (macro): 0.0162\n",
      "Val F1 (micro): 0.0766, Val F1 (macro): 0.0092\n",
      "--------------------------------------------------------------------------------\n"
     ]
    },
    {
     "name": "stderr",
     "output_type": "stream",
     "text": [
      " 83%|████████▎ | 83395/100000 [49:02<10:34, 26.16it/s]"
     ]
    },
    {
     "name": "stdout",
     "output_type": "stream",
     "text": [
      "Epoch [83400/100000]\n",
      "Train Loss: 5.9122, Train Accuracy: 0.0811\n",
      "Train Precision (micro): 0.0811, Train Precision (macro): 0.0053\n",
      "Train Recall (micro): 0.0811, Train Recall (macro): 0.0123\n",
      "Train F1 (micro): 0.0811, Train F1 (macro): 0.0061\n",
      "\n",
      "Val Loss: 5.9043, Val Accuracy: 0.0759\n",
      "Val Precision (micro): 0.0759, Val Precision (macro): 0.0094\n",
      "Val Recall (micro): 0.0759, Val Recall (macro): 0.0155\n",
      "Val F1 (micro): 0.0759, Val F1 (macro): 0.0097\n",
      "--------------------------------------------------------------------------------\n"
     ]
    },
    {
     "name": "stderr",
     "output_type": "stream",
     "text": [
      " 83%|████████▎ | 83498/100000 [49:05<05:32, 49.60it/s]"
     ]
    },
    {
     "name": "stdout",
     "output_type": "stream",
     "text": [
      "Epoch [83500/100000]\n",
      "Train Loss: 5.9476, Train Accuracy: 0.0737\n",
      "Train Precision (micro): 0.0737, Train Precision (macro): 0.0047\n",
      "Train Recall (micro): 0.0737, Train Recall (macro): 0.0088\n",
      "Train F1 (micro): 0.0737, Train F1 (macro): 0.0049\n",
      "\n",
      "Val Loss: 5.9106, Val Accuracy: 0.0806\n",
      "Val Precision (micro): 0.0806, Val Precision (macro): 0.0094\n",
      "Val Recall (micro): 0.0806, Val Recall (macro): 0.0171\n",
      "Val F1 (micro): 0.0806, Val F1 (macro): 0.0095\n",
      "--------------------------------------------------------------------------------\n"
     ]
    },
    {
     "name": "stderr",
     "output_type": "stream",
     "text": [
      " 84%|████████▎ | 83596/100000 [49:09<05:42, 47.86it/s]"
     ]
    },
    {
     "name": "stdout",
     "output_type": "stream",
     "text": [
      "Epoch [83600/100000]\n",
      "Train Loss: 5.8995, Train Accuracy: 0.0830\n",
      "Train Precision (micro): 0.0830, Train Precision (macro): 0.0092\n",
      "Train Recall (micro): 0.0830, Train Recall (macro): 0.0109\n",
      "Train F1 (micro): 0.0830, Train F1 (macro): 0.0073\n",
      "\n",
      "Val Loss: 5.8952, Val Accuracy: 0.0775\n",
      "Val Precision (micro): 0.0775, Val Precision (macro): 0.0069\n",
      "Val Recall (micro): 0.0775, Val Recall (macro): 0.0155\n",
      "Val F1 (micro): 0.0775, Val F1 (macro): 0.0084\n",
      "--------------------------------------------------------------------------------\n"
     ]
    },
    {
     "name": "stderr",
     "output_type": "stream",
     "text": [
      " 84%|████████▎ | 83695/100000 [49:12<05:42, 47.54it/s]"
     ]
    },
    {
     "name": "stdout",
     "output_type": "stream",
     "text": [
      "Epoch [83700/100000]\n",
      "Train Loss: 5.8893, Train Accuracy: 0.0714\n",
      "Train Precision (micro): 0.0714, Train Precision (macro): 0.0053\n",
      "Train Recall (micro): 0.0714, Train Recall (macro): 0.0098\n",
      "Train F1 (micro): 0.0714, Train F1 (macro): 0.0053\n",
      "\n",
      "Val Loss: 5.9135, Val Accuracy: 0.0756\n",
      "Val Precision (micro): 0.0756, Val Precision (macro): 0.0079\n",
      "Val Recall (micro): 0.0756, Val Recall (macro): 0.0157\n",
      "Val F1 (micro): 0.0756, Val F1 (macro): 0.0089\n",
      "--------------------------------------------------------------------------------\n"
     ]
    },
    {
     "name": "stderr",
     "output_type": "stream",
     "text": [
      " 84%|████████▍ | 83795/100000 [49:16<05:48, 46.44it/s]"
     ]
    },
    {
     "name": "stdout",
     "output_type": "stream",
     "text": [
      "Epoch [83800/100000]\n",
      "Train Loss: 5.9239, Train Accuracy: 0.0813\n",
      "Train Precision (micro): 0.0813, Train Precision (macro): 0.0079\n",
      "Train Recall (micro): 0.0813, Train Recall (macro): 0.0112\n",
      "Train F1 (micro): 0.0813, Train F1 (macro): 0.0072\n",
      "\n",
      "Val Loss: 5.8806, Val Accuracy: 0.0791\n",
      "Val Precision (micro): 0.0791, Val Precision (macro): 0.0096\n",
      "Val Recall (micro): 0.0791, Val Recall (macro): 0.0169\n",
      "Val F1 (micro): 0.0791, Val F1 (macro): 0.0099\n",
      "--------------------------------------------------------------------------------\n"
     ]
    },
    {
     "name": "stderr",
     "output_type": "stream",
     "text": [
      " 84%|████████▍ | 83897/100000 [49:19<05:43, 46.81it/s]"
     ]
    },
    {
     "name": "stdout",
     "output_type": "stream",
     "text": [
      "Epoch [83900/100000]\n",
      "Train Loss: 5.8980, Train Accuracy: 0.0814\n",
      "Train Precision (micro): 0.0814, Train Precision (macro): 0.0066\n",
      "Train Recall (micro): 0.0814, Train Recall (macro): 0.0125\n",
      "Train F1 (micro): 0.0814, Train F1 (macro): 0.0072\n",
      "\n",
      "Val Loss: 5.8910, Val Accuracy: 0.0791\n",
      "Val Precision (micro): 0.0791, Val Precision (macro): 0.0097\n",
      "Val Recall (micro): 0.0791, Val Recall (macro): 0.0169\n",
      "Val F1 (micro): 0.0791, Val F1 (macro): 0.0102\n",
      "--------------------------------------------------------------------------------\n"
     ]
    },
    {
     "name": "stderr",
     "output_type": "stream",
     "text": [
      " 84%|████████▍ | 83999/100000 [49:23<05:56, 44.83it/s]"
     ]
    },
    {
     "name": "stdout",
     "output_type": "stream",
     "text": [
      "Epoch [84000/100000]\n",
      "Train Loss: 5.8570, Train Accuracy: 0.0791\n",
      "Train Precision (micro): 0.0791, Train Precision (macro): 0.0048\n",
      "Train Recall (micro): 0.0791, Train Recall (macro): 0.0100\n",
      "Train F1 (micro): 0.0791, Train F1 (macro): 0.0056\n",
      "\n",
      "Val Loss: 5.8807, Val Accuracy: 0.0766\n",
      "Val Precision (micro): 0.0766, Val Precision (macro): 0.0096\n",
      "Val Recall (micro): 0.0766, Val Recall (macro): 0.0172\n",
      "Val F1 (micro): 0.0766, Val F1 (macro): 0.0102\n",
      "--------------------------------------------------------------------------------\n"
     ]
    },
    {
     "name": "stderr",
     "output_type": "stream",
     "text": [
      " 84%|████████▍ | 84099/100000 [49:26<06:10, 42.88it/s]"
     ]
    },
    {
     "name": "stdout",
     "output_type": "stream",
     "text": [
      "Epoch [84100/100000]\n",
      "Train Loss: 5.8460, Train Accuracy: 0.0842\n",
      "Train Precision (micro): 0.0842, Train Precision (macro): 0.0057\n",
      "Train Recall (micro): 0.0842, Train Recall (macro): 0.0110\n",
      "Train F1 (micro): 0.0842, Train F1 (macro): 0.0062\n",
      "\n",
      "Val Loss: 5.8959, Val Accuracy: 0.0778\n",
      "Val Precision (micro): 0.0778, Val Precision (macro): 0.0108\n",
      "Val Recall (micro): 0.0778, Val Recall (macro): 0.0160\n",
      "Val F1 (micro): 0.0778, Val F1 (macro): 0.0099\n",
      "--------------------------------------------------------------------------------\n"
     ]
    },
    {
     "name": "stderr",
     "output_type": "stream",
     "text": [
      " 84%|████████▍ | 84194/100000 [49:30<05:43, 46.05it/s]"
     ]
    },
    {
     "name": "stdout",
     "output_type": "stream",
     "text": [
      "Epoch [84200/100000]\n",
      "Train Loss: 5.9022, Train Accuracy: 0.0808\n",
      "Train Precision (micro): 0.0808, Train Precision (macro): 0.0062\n",
      "Train Recall (micro): 0.0808, Train Recall (macro): 0.0106\n",
      "Train F1 (micro): 0.0808, Train F1 (macro): 0.0063\n",
      "\n",
      "Val Loss: 5.8779, Val Accuracy: 0.0781\n",
      "Val Precision (micro): 0.0781, Val Precision (macro): 0.0082\n",
      "Val Recall (micro): 0.0781, Val Recall (macro): 0.0167\n",
      "Val F1 (micro): 0.0781, Val F1 (macro): 0.0096\n",
      "--------------------------------------------------------------------------------\n"
     ]
    },
    {
     "name": "stderr",
     "output_type": "stream",
     "text": [
      " 84%|████████▍ | 84294/100000 [49:34<05:34, 47.00it/s]"
     ]
    },
    {
     "name": "stdout",
     "output_type": "stream",
     "text": [
      "Epoch [84300/100000]\n",
      "Train Loss: 5.9246, Train Accuracy: 0.0727\n",
      "Train Precision (micro): 0.0727, Train Precision (macro): 0.0059\n",
      "Train Recall (micro): 0.0727, Train Recall (macro): 0.0108\n",
      "Train F1 (micro): 0.0727, Train F1 (macro): 0.0064\n",
      "\n",
      "Val Loss: 5.8969, Val Accuracy: 0.0753\n",
      "Val Precision (micro): 0.0753, Val Precision (macro): 0.0087\n",
      "Val Recall (micro): 0.0753, Val Recall (macro): 0.0155\n",
      "Val F1 (micro): 0.0753, Val F1 (macro): 0.0094\n",
      "--------------------------------------------------------------------------------\n"
     ]
    },
    {
     "name": "stderr",
     "output_type": "stream",
     "text": [
      " 84%|████████▍ | 84395/100000 [49:37<05:28, 47.50it/s]"
     ]
    },
    {
     "name": "stdout",
     "output_type": "stream",
     "text": [
      "Epoch [84400/100000]\n",
      "Train Loss: 5.9454, Train Accuracy: 0.0766\n",
      "Train Precision (micro): 0.0766, Train Precision (macro): 0.0078\n",
      "Train Recall (micro): 0.0766, Train Recall (macro): 0.0130\n",
      "Train F1 (micro): 0.0766, Train F1 (macro): 0.0085\n",
      "\n",
      "Val Loss: 5.8888, Val Accuracy: 0.0813\n",
      "Val Precision (micro): 0.0813, Val Precision (macro): 0.0094\n",
      "Val Recall (micro): 0.0813, Val Recall (macro): 0.0176\n",
      "Val F1 (micro): 0.0813, Val F1 (macro): 0.0098\n",
      "--------------------------------------------------------------------------------\n"
     ]
    },
    {
     "name": "stderr",
     "output_type": "stream",
     "text": [
      " 84%|████████▍ | 84496/100000 [49:41<05:30, 46.97it/s]"
     ]
    },
    {
     "name": "stdout",
     "output_type": "stream",
     "text": [
      "Epoch [84500/100000]\n",
      "Train Loss: 5.9226, Train Accuracy: 0.0820\n",
      "Train Precision (micro): 0.0820, Train Precision (macro): 0.0049\n",
      "Train Recall (micro): 0.0820, Train Recall (macro): 0.0100\n",
      "Train F1 (micro): 0.0820, Train F1 (macro): 0.0054\n",
      "\n",
      "Val Loss: 5.8728, Val Accuracy: 0.0788\n",
      "Val Precision (micro): 0.0788, Val Precision (macro): 0.0079\n",
      "Val Recall (micro): 0.0788, Val Recall (macro): 0.0168\n",
      "Val F1 (micro): 0.0788, Val F1 (macro): 0.0090\n",
      "--------------------------------------------------------------------------------\n"
     ]
    },
    {
     "name": "stderr",
     "output_type": "stream",
     "text": [
      " 85%|████████▍ | 84594/100000 [49:44<05:15, 48.82it/s]"
     ]
    },
    {
     "name": "stdout",
     "output_type": "stream",
     "text": [
      "Epoch [84600/100000]\n",
      "Train Loss: 5.9098, Train Accuracy: 0.0758\n",
      "Train Precision (micro): 0.0758, Train Precision (macro): 0.0058\n",
      "Train Recall (micro): 0.0758, Train Recall (macro): 0.0112\n",
      "Train F1 (micro): 0.0758, Train F1 (macro): 0.0063\n",
      "\n",
      "Val Loss: 5.8723, Val Accuracy: 0.0809\n",
      "Val Precision (micro): 0.0809, Val Precision (macro): 0.0085\n",
      "Val Recall (micro): 0.0809, Val Recall (macro): 0.0174\n",
      "Val F1 (micro): 0.0809, Val F1 (macro): 0.0096\n",
      "--------------------------------------------------------------------------------\n"
     ]
    },
    {
     "name": "stderr",
     "output_type": "stream",
     "text": [
      " 85%|████████▍ | 84694/100000 [49:48<05:06, 49.96it/s]"
     ]
    },
    {
     "name": "stdout",
     "output_type": "stream",
     "text": [
      "Epoch [84700/100000]\n",
      "Train Loss: 5.9507, Train Accuracy: 0.0797\n",
      "Train Precision (micro): 0.0797, Train Precision (macro): 0.0054\n",
      "Train Recall (micro): 0.0797, Train Recall (macro): 0.0100\n",
      "Train F1 (micro): 0.0797, Train F1 (macro): 0.0055\n",
      "\n",
      "Val Loss: 5.8890, Val Accuracy: 0.0791\n",
      "Val Precision (micro): 0.0791, Val Precision (macro): 0.0091\n",
      "Val Recall (micro): 0.0791, Val Recall (macro): 0.0170\n",
      "Val F1 (micro): 0.0791, Val F1 (macro): 0.0102\n",
      "--------------------------------------------------------------------------------\n"
     ]
    },
    {
     "name": "stderr",
     "output_type": "stream",
     "text": [
      " 85%|████████▍ | 84798/100000 [49:51<05:13, 48.55it/s]"
     ]
    },
    {
     "name": "stdout",
     "output_type": "stream",
     "text": [
      "Epoch [84800/100000]\n",
      "Train Loss: 5.9127, Train Accuracy: 0.0831\n",
      "Train Precision (micro): 0.0831, Train Precision (macro): 0.0059\n",
      "Train Recall (micro): 0.0831, Train Recall (macro): 0.0100\n",
      "Train F1 (micro): 0.0831, Train F1 (macro): 0.0058\n",
      "\n",
      "Val Loss: 5.9140, Val Accuracy: 0.0766\n",
      "Val Precision (micro): 0.0766, Val Precision (macro): 0.0075\n",
      "Val Recall (micro): 0.0766, Val Recall (macro): 0.0155\n",
      "Val F1 (micro): 0.0766, Val F1 (macro): 0.0084\n",
      "--------------------------------------------------------------------------------\n"
     ]
    },
    {
     "name": "stderr",
     "output_type": "stream",
     "text": [
      " 85%|████████▍ | 84899/100000 [49:55<05:23, 46.62it/s]"
     ]
    },
    {
     "name": "stdout",
     "output_type": "stream",
     "text": [
      "Epoch [84900/100000]\n",
      "Train Loss: 5.8339, Train Accuracy: 0.0875\n",
      "Train Precision (micro): 0.0875, Train Precision (macro): 0.0057\n",
      "Train Recall (micro): 0.0875, Train Recall (macro): 0.0107\n",
      "Train F1 (micro): 0.0875, Train F1 (macro): 0.0063\n",
      "\n",
      "Val Loss: 5.8888, Val Accuracy: 0.0791\n",
      "Val Precision (micro): 0.0791, Val Precision (macro): 0.0097\n",
      "Val Recall (micro): 0.0791, Val Recall (macro): 0.0164\n",
      "Val F1 (micro): 0.0791, Val F1 (macro): 0.0096\n",
      "--------------------------------------------------------------------------------\n"
     ]
    },
    {
     "name": "stderr",
     "output_type": "stream",
     "text": [
      " 85%|████████▍ | 84997/100000 [49:59<05:09, 48.49it/s]"
     ]
    },
    {
     "name": "stdout",
     "output_type": "stream",
     "text": [
      "Epoch [85000/100000]\n",
      "Train Loss: 5.8475, Train Accuracy: 0.0813\n",
      "Train Precision (micro): 0.0813, Train Precision (macro): 0.0059\n",
      "Train Recall (micro): 0.0813, Train Recall (macro): 0.0101\n",
      "Train F1 (micro): 0.0813, Train F1 (macro): 0.0057\n",
      "\n",
      "Val Loss: 5.9006, Val Accuracy: 0.0791\n",
      "Val Precision (micro): 0.0791, Val Precision (macro): 0.0077\n",
      "Val Recall (micro): 0.0791, Val Recall (macro): 0.0155\n",
      "Val F1 (micro): 0.0791, Val F1 (macro): 0.0086\n",
      "--------------------------------------------------------------------------------\n"
     ]
    },
    {
     "name": "stderr",
     "output_type": "stream",
     "text": [
      " 85%|████████▌ | 85099/100000 [50:02<05:18, 46.75it/s]"
     ]
    },
    {
     "name": "stdout",
     "output_type": "stream",
     "text": [
      "Epoch [85100/100000]\n",
      "Train Loss: 5.9230, Train Accuracy: 0.0792\n",
      "Train Precision (micro): 0.0792, Train Precision (macro): 0.0081\n",
      "Train Recall (micro): 0.0792, Train Recall (macro): 0.0125\n",
      "Train F1 (micro): 0.0792, Train F1 (macro): 0.0076\n",
      "\n",
      "Val Loss: 5.9218, Val Accuracy: 0.0788\n",
      "Val Precision (micro): 0.0788, Val Precision (macro): 0.0095\n",
      "Val Recall (micro): 0.0788, Val Recall (macro): 0.0176\n",
      "Val F1 (micro): 0.0788, Val F1 (macro): 0.0102\n",
      "--------------------------------------------------------------------------------\n"
     ]
    },
    {
     "name": "stderr",
     "output_type": "stream",
     "text": [
      " 85%|████████▌ | 85194/100000 [50:05<04:59, 49.49it/s]"
     ]
    },
    {
     "name": "stdout",
     "output_type": "stream",
     "text": [
      "Epoch [85200/100000]\n",
      "Train Loss: 5.8955, Train Accuracy: 0.0817\n",
      "Train Precision (micro): 0.0817, Train Precision (macro): 0.0050\n",
      "Train Recall (micro): 0.0817, Train Recall (macro): 0.0103\n",
      "Train F1 (micro): 0.0817, Train F1 (macro): 0.0052\n",
      "\n",
      "Val Loss: 5.8891, Val Accuracy: 0.0819\n",
      "Val Precision (micro): 0.0819, Val Precision (macro): 0.0082\n",
      "Val Recall (micro): 0.0819, Val Recall (macro): 0.0171\n",
      "Val F1 (micro): 0.0819, Val F1 (macro): 0.0094\n",
      "--------------------------------------------------------------------------------\n"
     ]
    },
    {
     "name": "stderr",
     "output_type": "stream",
     "text": [
      " 85%|████████▌ | 85297/100000 [50:09<05:29, 44.63it/s]"
     ]
    },
    {
     "name": "stdout",
     "output_type": "stream",
     "text": [
      "Epoch [85300/100000]\n",
      "Train Loss: 5.9576, Train Accuracy: 0.0766\n",
      "Train Precision (micro): 0.0766, Train Precision (macro): 0.0058\n",
      "Train Recall (micro): 0.0766, Train Recall (macro): 0.0093\n",
      "Train F1 (micro): 0.0766, Train F1 (macro): 0.0055\n",
      "\n",
      "Val Loss: 5.9190, Val Accuracy: 0.0788\n",
      "Val Precision (micro): 0.0788, Val Precision (macro): 0.0078\n",
      "Val Recall (micro): 0.0788, Val Recall (macro): 0.0158\n",
      "Val F1 (micro): 0.0788, Val F1 (macro): 0.0085\n",
      "--------------------------------------------------------------------------------\n"
     ]
    },
    {
     "name": "stderr",
     "output_type": "stream",
     "text": [
      " 85%|████████▌ | 85396/100000 [50:12<04:53, 49.84it/s]"
     ]
    },
    {
     "name": "stdout",
     "output_type": "stream",
     "text": [
      "Epoch [85400/100000]\n",
      "Train Loss: 5.8867, Train Accuracy: 0.0803\n",
      "Train Precision (micro): 0.0803, Train Precision (macro): 0.0053\n",
      "Train Recall (micro): 0.0803, Train Recall (macro): 0.0101\n",
      "Train F1 (micro): 0.0803, Train F1 (macro): 0.0056\n",
      "\n",
      "Val Loss: 5.9209, Val Accuracy: 0.0731\n",
      "Val Precision (micro): 0.0731, Val Precision (macro): 0.0097\n",
      "Val Recall (micro): 0.0731, Val Recall (macro): 0.0165\n",
      "Val F1 (micro): 0.0731, Val F1 (macro): 0.0102\n",
      "--------------------------------------------------------------------------------\n"
     ]
    },
    {
     "name": "stderr",
     "output_type": "stream",
     "text": [
      " 85%|████████▌ | 85494/100000 [50:16<04:53, 49.49it/s]"
     ]
    },
    {
     "name": "stdout",
     "output_type": "stream",
     "text": [
      "Epoch [85500/100000]\n",
      "Train Loss: 5.9355, Train Accuracy: 0.0762\n",
      "Train Precision (micro): 0.0762, Train Precision (macro): 0.0056\n",
      "Train Recall (micro): 0.0762, Train Recall (macro): 0.0093\n",
      "Train F1 (micro): 0.0762, Train F1 (macro): 0.0055\n",
      "\n",
      "Val Loss: 5.8829, Val Accuracy: 0.0772\n",
      "Val Precision (micro): 0.0772, Val Precision (macro): 0.0098\n",
      "Val Recall (micro): 0.0772, Val Recall (macro): 0.0163\n",
      "Val F1 (micro): 0.0772, Val F1 (macro): 0.0100\n",
      "--------------------------------------------------------------------------------\n"
     ]
    },
    {
     "name": "stderr",
     "output_type": "stream",
     "text": [
      " 86%|████████▌ | 85595/100000 [50:19<04:52, 49.33it/s]"
     ]
    },
    {
     "name": "stdout",
     "output_type": "stream",
     "text": [
      "Epoch [85600/100000]\n",
      "Train Loss: 5.9059, Train Accuracy: 0.0870\n",
      "Train Precision (micro): 0.0870, Train Precision (macro): 0.0060\n",
      "Train Recall (micro): 0.0870, Train Recall (macro): 0.0122\n",
      "Train F1 (micro): 0.0870, Train F1 (macro): 0.0069\n",
      "\n",
      "Val Loss: 5.8951, Val Accuracy: 0.0762\n",
      "Val Precision (micro): 0.0762, Val Precision (macro): 0.0089\n",
      "Val Recall (micro): 0.0762, Val Recall (macro): 0.0165\n",
      "Val F1 (micro): 0.0762, Val F1 (macro): 0.0097\n",
      "--------------------------------------------------------------------------------\n"
     ]
    },
    {
     "name": "stderr",
     "output_type": "stream",
     "text": [
      " 86%|████████▌ | 85698/100000 [50:23<04:49, 49.40it/s]"
     ]
    },
    {
     "name": "stdout",
     "output_type": "stream",
     "text": [
      "Epoch [85700/100000]\n",
      "Train Loss: 5.9539, Train Accuracy: 0.0789\n",
      "Train Precision (micro): 0.0789, Train Precision (macro): 0.0068\n",
      "Train Recall (micro): 0.0789, Train Recall (macro): 0.0109\n",
      "Train F1 (micro): 0.0789, Train F1 (macro): 0.0064\n",
      "\n",
      "Val Loss: 5.9364, Val Accuracy: 0.0784\n",
      "Val Precision (micro): 0.0784, Val Precision (macro): 0.0096\n",
      "Val Recall (micro): 0.0784, Val Recall (macro): 0.0174\n",
      "Val F1 (micro): 0.0784, Val F1 (macro): 0.0107\n",
      "--------------------------------------------------------------------------------\n"
     ]
    },
    {
     "name": "stderr",
     "output_type": "stream",
     "text": [
      " 86%|████████▌ | 85794/100000 [50:26<04:50, 48.98it/s]"
     ]
    },
    {
     "name": "stdout",
     "output_type": "stream",
     "text": [
      "Epoch [85800/100000]\n",
      "Train Loss: 5.8755, Train Accuracy: 0.0797\n",
      "Train Precision (micro): 0.0797, Train Precision (macro): 0.0057\n",
      "Train Recall (micro): 0.0797, Train Recall (macro): 0.0092\n",
      "Train F1 (micro): 0.0797, Train F1 (macro): 0.0053\n",
      "\n",
      "Val Loss: 5.9101, Val Accuracy: 0.0766\n",
      "Val Precision (micro): 0.0766, Val Precision (macro): 0.0086\n",
      "Val Recall (micro): 0.0766, Val Recall (macro): 0.0167\n",
      "Val F1 (micro): 0.0766, Val F1 (macro): 0.0096\n",
      "--------------------------------------------------------------------------------\n"
     ]
    },
    {
     "name": "stderr",
     "output_type": "stream",
     "text": [
      " 86%|████████▌ | 85896/100000 [50:30<04:43, 49.74it/s]"
     ]
    },
    {
     "name": "stdout",
     "output_type": "stream",
     "text": [
      "Epoch [85900/100000]\n",
      "Train Loss: 5.8883, Train Accuracy: 0.0756\n",
      "Train Precision (micro): 0.0756, Train Precision (macro): 0.0050\n",
      "Train Recall (micro): 0.0756, Train Recall (macro): 0.0094\n",
      "Train F1 (micro): 0.0756, Train F1 (macro): 0.0050\n",
      "\n",
      "Val Loss: 5.9007, Val Accuracy: 0.0759\n",
      "Val Precision (micro): 0.0759, Val Precision (macro): 0.0067\n",
      "Val Recall (micro): 0.0759, Val Recall (macro): 0.0148\n",
      "Val F1 (micro): 0.0759, Val F1 (macro): 0.0076\n",
      "--------------------------------------------------------------------------------\n"
     ]
    },
    {
     "name": "stderr",
     "output_type": "stream",
     "text": [
      " 86%|████████▌ | 85999/100000 [50:33<04:57, 47.02it/s]"
     ]
    },
    {
     "name": "stdout",
     "output_type": "stream",
     "text": [
      "Epoch [86000/100000]\n",
      "Train Loss: 5.8964, Train Accuracy: 0.0819\n",
      "Train Precision (micro): 0.0819, Train Precision (macro): 0.0040\n",
      "Train Recall (micro): 0.0819, Train Recall (macro): 0.0076\n",
      "Train F1 (micro): 0.0819, Train F1 (macro): 0.0041\n",
      "\n",
      "Val Loss: 5.8865, Val Accuracy: 0.0816\n",
      "Val Precision (micro): 0.0816, Val Precision (macro): 0.0076\n",
      "Val Recall (micro): 0.0816, Val Recall (macro): 0.0161\n",
      "Val F1 (micro): 0.0816, Val F1 (macro): 0.0082\n",
      "--------------------------------------------------------------------------------\n"
     ]
    },
    {
     "name": "stderr",
     "output_type": "stream",
     "text": [
      " 86%|████████▌ | 86098/100000 [50:37<04:40, 49.54it/s]"
     ]
    },
    {
     "name": "stdout",
     "output_type": "stream",
     "text": [
      "Epoch [86100/100000]\n",
      "Train Loss: 5.8872, Train Accuracy: 0.0789\n",
      "Train Precision (micro): 0.0789, Train Precision (macro): 0.0090\n",
      "Train Recall (micro): 0.0789, Train Recall (macro): 0.0128\n",
      "Train F1 (micro): 0.0789, Train F1 (macro): 0.0086\n",
      "\n",
      "Val Loss: 5.8892, Val Accuracy: 0.0784\n",
      "Val Precision (micro): 0.0784, Val Precision (macro): 0.0085\n",
      "Val Recall (micro): 0.0784, Val Recall (macro): 0.0161\n",
      "Val F1 (micro): 0.0784, Val F1 (macro): 0.0092\n",
      "--------------------------------------------------------------------------------\n"
     ]
    },
    {
     "name": "stderr",
     "output_type": "stream",
     "text": [
      " 86%|████████▌ | 86196/100000 [50:40<04:59, 46.09it/s]"
     ]
    },
    {
     "name": "stdout",
     "output_type": "stream",
     "text": [
      "Epoch [86200/100000]\n",
      "Train Loss: 5.8684, Train Accuracy: 0.0839\n",
      "Train Precision (micro): 0.0839, Train Precision (macro): 0.0058\n",
      "Train Recall (micro): 0.0839, Train Recall (macro): 0.0104\n",
      "Train F1 (micro): 0.0839, Train F1 (macro): 0.0057\n",
      "\n",
      "Val Loss: 5.9169, Val Accuracy: 0.0753\n",
      "Val Precision (micro): 0.0753, Val Precision (macro): 0.0085\n",
      "Val Recall (micro): 0.0753, Val Recall (macro): 0.0154\n",
      "Val F1 (micro): 0.0753, Val F1 (macro): 0.0091\n",
      "--------------------------------------------------------------------------------\n"
     ]
    },
    {
     "name": "stderr",
     "output_type": "stream",
     "text": [
      " 86%|████████▋ | 86298/100000 [50:44<04:35, 49.68it/s]"
     ]
    },
    {
     "name": "stdout",
     "output_type": "stream",
     "text": [
      "Epoch [86300/100000]\n",
      "Train Loss: 5.9509, Train Accuracy: 0.0744\n",
      "Train Precision (micro): 0.0744, Train Precision (macro): 0.0043\n",
      "Train Recall (micro): 0.0744, Train Recall (macro): 0.0089\n",
      "Train F1 (micro): 0.0744, Train F1 (macro): 0.0046\n",
      "\n",
      "Val Loss: 5.8916, Val Accuracy: 0.0819\n",
      "Val Precision (micro): 0.0819, Val Precision (macro): 0.0080\n",
      "Val Recall (micro): 0.0819, Val Recall (macro): 0.0163\n",
      "Val F1 (micro): 0.0819, Val F1 (macro): 0.0088\n",
      "--------------------------------------------------------------------------------\n"
     ]
    },
    {
     "name": "stderr",
     "output_type": "stream",
     "text": [
      " 86%|████████▋ | 86397/100000 [50:48<04:38, 48.88it/s]"
     ]
    },
    {
     "name": "stdout",
     "output_type": "stream",
     "text": [
      "Epoch [86400/100000]\n",
      "Train Loss: 5.8725, Train Accuracy: 0.0803\n",
      "Train Precision (micro): 0.0803, Train Precision (macro): 0.0060\n",
      "Train Recall (micro): 0.0803, Train Recall (macro): 0.0103\n",
      "Train F1 (micro): 0.0803, Train F1 (macro): 0.0057\n",
      "\n",
      "Val Loss: 5.8788, Val Accuracy: 0.0803\n",
      "Val Precision (micro): 0.0803, Val Precision (macro): 0.0085\n",
      "Val Recall (micro): 0.0803, Val Recall (macro): 0.0168\n",
      "Val F1 (micro): 0.0803, Val F1 (macro): 0.0095\n",
      "--------------------------------------------------------------------------------\n"
     ]
    },
    {
     "name": "stderr",
     "output_type": "stream",
     "text": [
      " 86%|████████▋ | 86498/100000 [50:52<04:45, 47.31it/s]"
     ]
    },
    {
     "name": "stdout",
     "output_type": "stream",
     "text": [
      "Epoch [86500/100000]\n",
      "Train Loss: 5.9093, Train Accuracy: 0.0742\n",
      "Train Precision (micro): 0.0742, Train Precision (macro): 0.0050\n",
      "Train Recall (micro): 0.0742, Train Recall (macro): 0.0101\n",
      "Train F1 (micro): 0.0742, Train F1 (macro): 0.0057\n",
      "\n",
      "Val Loss: 5.9053, Val Accuracy: 0.0769\n",
      "Val Precision (micro): 0.0769, Val Precision (macro): 0.0103\n",
      "Val Recall (micro): 0.0769, Val Recall (macro): 0.0164\n",
      "Val F1 (micro): 0.0769, Val F1 (macro): 0.0097\n",
      "--------------------------------------------------------------------------------\n"
     ]
    },
    {
     "name": "stderr",
     "output_type": "stream",
     "text": [
      " 87%|████████▋ | 86595/100000 [50:55<04:30, 49.64it/s]"
     ]
    },
    {
     "name": "stdout",
     "output_type": "stream",
     "text": [
      "Epoch [86600/100000]\n",
      "Train Loss: 5.9019, Train Accuracy: 0.0822\n",
      "Train Precision (micro): 0.0822, Train Precision (macro): 0.0054\n",
      "Train Recall (micro): 0.0822, Train Recall (macro): 0.0099\n",
      "Train F1 (micro): 0.0822, Train F1 (macro): 0.0060\n",
      "\n",
      "Val Loss: 5.8934, Val Accuracy: 0.0784\n",
      "Val Precision (micro): 0.0784, Val Precision (macro): 0.0083\n",
      "Val Recall (micro): 0.0784, Val Recall (macro): 0.0149\n",
      "Val F1 (micro): 0.0784, Val F1 (macro): 0.0085\n",
      "--------------------------------------------------------------------------------\n"
     ]
    },
    {
     "name": "stderr",
     "output_type": "stream",
     "text": [
      " 87%|████████▋ | 86695/100000 [50:59<04:37, 47.99it/s]"
     ]
    },
    {
     "name": "stdout",
     "output_type": "stream",
     "text": [
      "Epoch [86700/100000]\n",
      "Train Loss: 5.9185, Train Accuracy: 0.0770\n",
      "Train Precision (micro): 0.0770, Train Precision (macro): 0.0067\n",
      "Train Recall (micro): 0.0770, Train Recall (macro): 0.0098\n",
      "Train F1 (micro): 0.0770, Train F1 (macro): 0.0065\n",
      "\n",
      "Val Loss: 5.9128, Val Accuracy: 0.0778\n",
      "Val Precision (micro): 0.0778, Val Precision (macro): 0.0089\n",
      "Val Recall (micro): 0.0778, Val Recall (macro): 0.0156\n",
      "Val F1 (micro): 0.0778, Val F1 (macro): 0.0096\n",
      "--------------------------------------------------------------------------------\n"
     ]
    },
    {
     "name": "stderr",
     "output_type": "stream",
     "text": [
      " 87%|████████▋ | 86798/100000 [51:03<04:34, 48.10it/s]"
     ]
    },
    {
     "name": "stdout",
     "output_type": "stream",
     "text": [
      "Epoch [86800/100000]\n",
      "Train Loss: 5.9036, Train Accuracy: 0.0800\n",
      "Train Precision (micro): 0.0800, Train Precision (macro): 0.0071\n",
      "Train Recall (micro): 0.0800, Train Recall (macro): 0.0129\n",
      "Train F1 (micro): 0.0800, Train F1 (macro): 0.0078\n",
      "\n",
      "Val Loss: 5.8993, Val Accuracy: 0.0775\n",
      "Val Precision (micro): 0.0775, Val Precision (macro): 0.0082\n",
      "Val Recall (micro): 0.0775, Val Recall (macro): 0.0156\n",
      "Val F1 (micro): 0.0775, Val F1 (macro): 0.0086\n",
      "--------------------------------------------------------------------------------\n"
     ]
    },
    {
     "name": "stderr",
     "output_type": "stream",
     "text": [
      " 87%|████████▋ | 86898/100000 [51:08<05:26, 40.18it/s]"
     ]
    },
    {
     "name": "stdout",
     "output_type": "stream",
     "text": [
      "Epoch [86900/100000]\n",
      "Train Loss: 5.9025, Train Accuracy: 0.0797\n",
      "Train Precision (micro): 0.0797, Train Precision (macro): 0.0082\n",
      "Train Recall (micro): 0.0797, Train Recall (macro): 0.0104\n",
      "Train F1 (micro): 0.0797, Train F1 (macro): 0.0071\n",
      "\n",
      "Val Loss: 5.9100, Val Accuracy: 0.0800\n",
      "Val Precision (micro): 0.0800, Val Precision (macro): 0.0084\n",
      "Val Recall (micro): 0.0800, Val Recall (macro): 0.0161\n",
      "Val F1 (micro): 0.0800, Val F1 (macro): 0.0088\n",
      "--------------------------------------------------------------------------------\n"
     ]
    },
    {
     "name": "stderr",
     "output_type": "stream",
     "text": [
      " 87%|████████▋ | 86998/100000 [51:11<04:41, 46.16it/s]"
     ]
    },
    {
     "name": "stdout",
     "output_type": "stream",
     "text": [
      "Epoch [87000/100000]\n",
      "Train Loss: 5.8952, Train Accuracy: 0.0816\n",
      "Train Precision (micro): 0.0816, Train Precision (macro): 0.0062\n",
      "Train Recall (micro): 0.0816, Train Recall (macro): 0.0107\n",
      "Train F1 (micro): 0.0816, Train F1 (macro): 0.0065\n",
      "\n",
      "Val Loss: 5.9011, Val Accuracy: 0.0775\n",
      "Val Precision (micro): 0.0775, Val Precision (macro): 0.0070\n",
      "Val Recall (micro): 0.0775, Val Recall (macro): 0.0161\n",
      "Val F1 (micro): 0.0775, Val F1 (macro): 0.0082\n",
      "--------------------------------------------------------------------------------\n"
     ]
    },
    {
     "name": "stderr",
     "output_type": "stream",
     "text": [
      " 87%|████████▋ | 87098/100000 [51:15<04:18, 49.97it/s]"
     ]
    },
    {
     "name": "stdout",
     "output_type": "stream",
     "text": [
      "Epoch [87100/100000]\n",
      "Train Loss: 5.8715, Train Accuracy: 0.0841\n",
      "Train Precision (micro): 0.0841, Train Precision (macro): 0.0066\n",
      "Train Recall (micro): 0.0841, Train Recall (macro): 0.0097\n",
      "Train F1 (micro): 0.0841, Train F1 (macro): 0.0062\n",
      "\n",
      "Val Loss: 5.9155, Val Accuracy: 0.0784\n",
      "Val Precision (micro): 0.0784, Val Precision (macro): 0.0076\n",
      "Val Recall (micro): 0.0784, Val Recall (macro): 0.0157\n",
      "Val F1 (micro): 0.0784, Val F1 (macro): 0.0084\n",
      "--------------------------------------------------------------------------------\n"
     ]
    },
    {
     "name": "stderr",
     "output_type": "stream",
     "text": [
      " 87%|████████▋ | 87199/100000 [51:18<04:19, 49.28it/s]"
     ]
    },
    {
     "name": "stdout",
     "output_type": "stream",
     "text": [
      "Epoch [87200/100000]\n",
      "Train Loss: 5.8439, Train Accuracy: 0.0844\n",
      "Train Precision (micro): 0.0844, Train Precision (macro): 0.0071\n",
      "Train Recall (micro): 0.0844, Train Recall (macro): 0.0108\n",
      "Train F1 (micro): 0.0844, Train F1 (macro): 0.0062\n",
      "\n",
      "Val Loss: 5.9017, Val Accuracy: 0.0747\n",
      "Val Precision (micro): 0.0747, Val Precision (macro): 0.0071\n",
      "Val Recall (micro): 0.0747, Val Recall (macro): 0.0143\n",
      "Val F1 (micro): 0.0747, Val F1 (macro): 0.0077\n",
      "--------------------------------------------------------------------------------\n"
     ]
    },
    {
     "name": "stderr",
     "output_type": "stream",
     "text": [
      " 87%|████████▋ | 87294/100000 [51:21<04:15, 49.81it/s]"
     ]
    },
    {
     "name": "stdout",
     "output_type": "stream",
     "text": [
      "Epoch [87300/100000]\n",
      "Train Loss: 5.8379, Train Accuracy: 0.0823\n",
      "Train Precision (micro): 0.0823, Train Precision (macro): 0.0055\n",
      "Train Recall (micro): 0.0823, Train Recall (macro): 0.0087\n",
      "Train F1 (micro): 0.0823, Train F1 (macro): 0.0052\n",
      "\n",
      "Val Loss: 5.9298, Val Accuracy: 0.0775\n",
      "Val Precision (micro): 0.0775, Val Precision (macro): 0.0095\n",
      "Val Recall (micro): 0.0775, Val Recall (macro): 0.0157\n",
      "Val F1 (micro): 0.0775, Val F1 (macro): 0.0093\n",
      "--------------------------------------------------------------------------------\n"
     ]
    },
    {
     "name": "stderr",
     "output_type": "stream",
     "text": [
      " 87%|████████▋ | 87397/100000 [51:25<04:27, 47.08it/s]"
     ]
    },
    {
     "name": "stdout",
     "output_type": "stream",
     "text": [
      "Epoch [87400/100000]\n",
      "Train Loss: 5.9177, Train Accuracy: 0.0809\n",
      "Train Precision (micro): 0.0809, Train Precision (macro): 0.0075\n",
      "Train Recall (micro): 0.0809, Train Recall (macro): 0.0117\n",
      "Train F1 (micro): 0.0809, Train F1 (macro): 0.0072\n",
      "\n",
      "Val Loss: 5.9341, Val Accuracy: 0.0756\n",
      "Val Precision (micro): 0.0756, Val Precision (macro): 0.0072\n",
      "Val Recall (micro): 0.0756, Val Recall (macro): 0.0145\n",
      "Val F1 (micro): 0.0756, Val F1 (macro): 0.0072\n",
      "--------------------------------------------------------------------------------\n"
     ]
    },
    {
     "name": "stderr",
     "output_type": "stream",
     "text": [
      " 87%|████████▋ | 87495/100000 [51:28<04:15, 49.02it/s]"
     ]
    },
    {
     "name": "stdout",
     "output_type": "stream",
     "text": [
      "Epoch [87500/100000]\n",
      "Train Loss: 5.9163, Train Accuracy: 0.0870\n",
      "Train Precision (micro): 0.0870, Train Precision (macro): 0.0089\n",
      "Train Recall (micro): 0.0870, Train Recall (macro): 0.0142\n",
      "Train F1 (micro): 0.0870, Train F1 (macro): 0.0090\n",
      "\n",
      "Val Loss: 5.8840, Val Accuracy: 0.0775\n",
      "Val Precision (micro): 0.0775, Val Precision (macro): 0.0088\n",
      "Val Recall (micro): 0.0775, Val Recall (macro): 0.0162\n",
      "Val F1 (micro): 0.0775, Val F1 (macro): 0.0095\n",
      "--------------------------------------------------------------------------------\n"
     ]
    },
    {
     "name": "stderr",
     "output_type": "stream",
     "text": [
      " 88%|████████▊ | 87598/100000 [51:32<04:44, 43.57it/s]"
     ]
    },
    {
     "name": "stdout",
     "output_type": "stream",
     "text": [
      "Epoch [87600/100000]\n",
      "Train Loss: 5.9210, Train Accuracy: 0.0839\n",
      "Train Precision (micro): 0.0839, Train Precision (macro): 0.0051\n",
      "Train Recall (micro): 0.0839, Train Recall (macro): 0.0101\n",
      "Train F1 (micro): 0.0839, Train F1 (macro): 0.0056\n",
      "\n",
      "Val Loss: 5.8886, Val Accuracy: 0.0750\n",
      "Val Precision (micro): 0.0750, Val Precision (macro): 0.0086\n",
      "Val Recall (micro): 0.0750, Val Recall (macro): 0.0141\n",
      "Val F1 (micro): 0.0750, Val F1 (macro): 0.0078\n",
      "--------------------------------------------------------------------------------\n"
     ]
    },
    {
     "name": "stderr",
     "output_type": "stream",
     "text": [
      " 88%|████████▊ | 87695/100000 [51:35<04:06, 49.82it/s]"
     ]
    },
    {
     "name": "stdout",
     "output_type": "stream",
     "text": [
      "Epoch [87700/100000]\n",
      "Train Loss: 5.9110, Train Accuracy: 0.0767\n",
      "Train Precision (micro): 0.0767, Train Precision (macro): 0.0047\n",
      "Train Recall (micro): 0.0767, Train Recall (macro): 0.0084\n",
      "Train F1 (micro): 0.0767, Train F1 (macro): 0.0049\n",
      "\n",
      "Val Loss: 5.9334, Val Accuracy: 0.0750\n",
      "Val Precision (micro): 0.0750, Val Precision (macro): 0.0073\n",
      "Val Recall (micro): 0.0750, Val Recall (macro): 0.0151\n",
      "Val F1 (micro): 0.0750, Val F1 (macro): 0.0080\n",
      "--------------------------------------------------------------------------------\n"
     ]
    },
    {
     "name": "stderr",
     "output_type": "stream",
     "text": [
      " 88%|████████▊ | 87799/100000 [51:39<04:22, 46.50it/s]"
     ]
    },
    {
     "name": "stdout",
     "output_type": "stream",
     "text": [
      "Epoch [87800/100000]\n",
      "Train Loss: 5.9538, Train Accuracy: 0.0767\n",
      "Train Precision (micro): 0.0767, Train Precision (macro): 0.0065\n",
      "Train Recall (micro): 0.0767, Train Recall (macro): 0.0107\n",
      "Train F1 (micro): 0.0767, Train F1 (macro): 0.0063\n",
      "\n",
      "Val Loss: 5.9212, Val Accuracy: 0.0781\n",
      "Val Precision (micro): 0.0781, Val Precision (macro): 0.0089\n",
      "Val Recall (micro): 0.0781, Val Recall (macro): 0.0155\n",
      "Val F1 (micro): 0.0781, Val F1 (macro): 0.0089\n",
      "--------------------------------------------------------------------------------\n"
     ]
    },
    {
     "name": "stderr",
     "output_type": "stream",
     "text": [
      " 88%|████████▊ | 87896/100000 [51:42<04:30, 44.79it/s]"
     ]
    },
    {
     "name": "stdout",
     "output_type": "stream",
     "text": [
      "Epoch [87900/100000]\n",
      "Train Loss: 5.8994, Train Accuracy: 0.0827\n",
      "Train Precision (micro): 0.0827, Train Precision (macro): 0.0052\n",
      "Train Recall (micro): 0.0827, Train Recall (macro): 0.0092\n",
      "Train F1 (micro): 0.0827, Train F1 (macro): 0.0052\n",
      "\n",
      "Val Loss: 5.9297, Val Accuracy: 0.0781\n",
      "Val Precision (micro): 0.0781, Val Precision (macro): 0.0073\n",
      "Val Recall (micro): 0.0781, Val Recall (macro): 0.0162\n",
      "Val F1 (micro): 0.0781, Val F1 (macro): 0.0089\n",
      "--------------------------------------------------------------------------------\n"
     ]
    },
    {
     "name": "stderr",
     "output_type": "stream",
     "text": [
      " 88%|████████▊ | 87996/100000 [51:45<04:21, 45.94it/s]"
     ]
    },
    {
     "name": "stdout",
     "output_type": "stream",
     "text": [
      "Epoch [88000/100000]\n",
      "Train Loss: 5.8972, Train Accuracy: 0.0847\n",
      "Train Precision (micro): 0.0847, Train Precision (macro): 0.0066\n",
      "Train Recall (micro): 0.0847, Train Recall (macro): 0.0121\n",
      "Train F1 (micro): 0.0847, Train F1 (macro): 0.0069\n",
      "\n",
      "Val Loss: 5.9053, Val Accuracy: 0.0778\n",
      "Val Precision (micro): 0.0778, Val Precision (macro): 0.0069\n",
      "Val Recall (micro): 0.0778, Val Recall (macro): 0.0153\n",
      "Val F1 (micro): 0.0778, Val F1 (macro): 0.0079\n",
      "--------------------------------------------------------------------------------\n"
     ]
    },
    {
     "name": "stderr",
     "output_type": "stream",
     "text": [
      " 88%|████████▊ | 88098/100000 [51:49<04:17, 46.24it/s]"
     ]
    },
    {
     "name": "stdout",
     "output_type": "stream",
     "text": [
      "Epoch [88100/100000]\n",
      "Train Loss: 5.8688, Train Accuracy: 0.0834\n",
      "Train Precision (micro): 0.0834, Train Precision (macro): 0.0073\n",
      "Train Recall (micro): 0.0834, Train Recall (macro): 0.0100\n",
      "Train F1 (micro): 0.0834, Train F1 (macro): 0.0062\n",
      "\n",
      "Val Loss: 5.9211, Val Accuracy: 0.0769\n",
      "Val Precision (micro): 0.0769, Val Precision (macro): 0.0074\n",
      "Val Recall (micro): 0.0769, Val Recall (macro): 0.0147\n",
      "Val F1 (micro): 0.0769, Val F1 (macro): 0.0086\n",
      "--------------------------------------------------------------------------------\n"
     ]
    },
    {
     "name": "stderr",
     "output_type": "stream",
     "text": [
      " 88%|████████▊ | 88197/100000 [51:52<04:22, 45.05it/s]"
     ]
    },
    {
     "name": "stdout",
     "output_type": "stream",
     "text": [
      "Epoch [88200/100000]\n",
      "Train Loss: 5.9434, Train Accuracy: 0.0791\n",
      "Train Precision (micro): 0.0791, Train Precision (macro): 0.0048\n",
      "Train Recall (micro): 0.0791, Train Recall (macro): 0.0093\n",
      "Train F1 (micro): 0.0791, Train F1 (macro): 0.0048\n",
      "\n",
      "Val Loss: 5.9035, Val Accuracy: 0.0775\n",
      "Val Precision (micro): 0.0775, Val Precision (macro): 0.0075\n",
      "Val Recall (micro): 0.0775, Val Recall (macro): 0.0152\n",
      "Val F1 (micro): 0.0775, Val F1 (macro): 0.0086\n",
      "--------------------------------------------------------------------------------\n"
     ]
    },
    {
     "name": "stderr",
     "output_type": "stream",
     "text": [
      " 88%|████████▊ | 88299/100000 [51:56<04:03, 48.07it/s]"
     ]
    },
    {
     "name": "stdout",
     "output_type": "stream",
     "text": [
      "Epoch [88300/100000]\n",
      "Train Loss: 5.9407, Train Accuracy: 0.0761\n",
      "Train Precision (micro): 0.0761, Train Precision (macro): 0.0043\n",
      "Train Recall (micro): 0.0761, Train Recall (macro): 0.0096\n",
      "Train F1 (micro): 0.0761, Train F1 (macro): 0.0050\n",
      "\n",
      "Val Loss: 5.8930, Val Accuracy: 0.0734\n",
      "Val Precision (micro): 0.0734, Val Precision (macro): 0.0078\n",
      "Val Recall (micro): 0.0734, Val Recall (macro): 0.0139\n",
      "Val F1 (micro): 0.0734, Val F1 (macro): 0.0078\n",
      "--------------------------------------------------------------------------------\n"
     ]
    },
    {
     "name": "stderr",
     "output_type": "stream",
     "text": [
      " 88%|████████▊ | 88398/100000 [51:59<03:53, 49.76it/s]"
     ]
    },
    {
     "name": "stdout",
     "output_type": "stream",
     "text": [
      "Epoch [88400/100000]\n",
      "Train Loss: 5.9027, Train Accuracy: 0.0788\n",
      "Train Precision (micro): 0.0788, Train Precision (macro): 0.0081\n",
      "Train Recall (micro): 0.0788, Train Recall (macro): 0.0102\n",
      "Train F1 (micro): 0.0788, Train F1 (macro): 0.0066\n",
      "\n",
      "Val Loss: 5.8926, Val Accuracy: 0.0756\n",
      "Val Precision (micro): 0.0756, Val Precision (macro): 0.0085\n",
      "Val Recall (micro): 0.0756, Val Recall (macro): 0.0153\n",
      "Val F1 (micro): 0.0756, Val F1 (macro): 0.0090\n",
      "--------------------------------------------------------------------------------\n"
     ]
    },
    {
     "name": "stderr",
     "output_type": "stream",
     "text": [
      " 88%|████████▊ | 88498/100000 [52:03<03:57, 48.50it/s]"
     ]
    },
    {
     "name": "stdout",
     "output_type": "stream",
     "text": [
      "Epoch [88500/100000]\n",
      "Train Loss: 5.8844, Train Accuracy: 0.0800\n",
      "Train Precision (micro): 0.0800, Train Precision (macro): 0.0061\n",
      "Train Recall (micro): 0.0800, Train Recall (macro): 0.0090\n",
      "Train F1 (micro): 0.0800, Train F1 (macro): 0.0051\n",
      "\n",
      "Val Loss: 5.9256, Val Accuracy: 0.0781\n",
      "Val Precision (micro): 0.0781, Val Precision (macro): 0.0081\n",
      "Val Recall (micro): 0.0781, Val Recall (macro): 0.0159\n",
      "Val F1 (micro): 0.0781, Val F1 (macro): 0.0088\n",
      "--------------------------------------------------------------------------------\n"
     ]
    },
    {
     "name": "stderr",
     "output_type": "stream",
     "text": [
      " 89%|████████▊ | 88598/100000 [52:06<03:46, 50.29it/s]"
     ]
    },
    {
     "name": "stdout",
     "output_type": "stream",
     "text": [
      "Epoch [88600/100000]\n",
      "Train Loss: 5.9061, Train Accuracy: 0.0784\n",
      "Train Precision (micro): 0.0784, Train Precision (macro): 0.0055\n",
      "Train Recall (micro): 0.0784, Train Recall (macro): 0.0088\n",
      "Train F1 (micro): 0.0784, Train F1 (macro): 0.0049\n",
      "\n",
      "Val Loss: 5.9025, Val Accuracy: 0.0784\n",
      "Val Precision (micro): 0.0784, Val Precision (macro): 0.0078\n",
      "Val Recall (micro): 0.0784, Val Recall (macro): 0.0161\n",
      "Val F1 (micro): 0.0784, Val F1 (macro): 0.0089\n",
      "--------------------------------------------------------------------------------\n"
     ]
    },
    {
     "name": "stderr",
     "output_type": "stream",
     "text": [
      " 89%|████████▊ | 88696/100000 [52:10<04:01, 46.81it/s]"
     ]
    },
    {
     "name": "stdout",
     "output_type": "stream",
     "text": [
      "Epoch [88700/100000]\n",
      "Train Loss: 5.9651, Train Accuracy: 0.0806\n",
      "Train Precision (micro): 0.0806, Train Precision (macro): 0.0076\n",
      "Train Recall (micro): 0.0806, Train Recall (macro): 0.0125\n",
      "Train F1 (micro): 0.0806, Train F1 (macro): 0.0074\n",
      "\n",
      "Val Loss: 5.9191, Val Accuracy: 0.0766\n",
      "Val Precision (micro): 0.0766, Val Precision (macro): 0.0073\n",
      "Val Recall (micro): 0.0766, Val Recall (macro): 0.0150\n",
      "Val F1 (micro): 0.0766, Val F1 (macro): 0.0080\n",
      "--------------------------------------------------------------------------------\n"
     ]
    },
    {
     "name": "stderr",
     "output_type": "stream",
     "text": [
      " 89%|████████▉ | 88794/100000 [52:13<03:45, 49.62it/s]"
     ]
    },
    {
     "name": "stdout",
     "output_type": "stream",
     "text": [
      "Epoch [88800/100000]\n",
      "Train Loss: 5.9079, Train Accuracy: 0.0755\n",
      "Train Precision (micro): 0.0755, Train Precision (macro): 0.0070\n",
      "Train Recall (micro): 0.0755, Train Recall (macro): 0.0117\n",
      "Train F1 (micro): 0.0755, Train F1 (macro): 0.0066\n",
      "\n",
      "Val Loss: 5.8888, Val Accuracy: 0.0781\n",
      "Val Precision (micro): 0.0781, Val Precision (macro): 0.0081\n",
      "Val Recall (micro): 0.0781, Val Recall (macro): 0.0167\n",
      "Val F1 (micro): 0.0781, Val F1 (macro): 0.0092\n",
      "--------------------------------------------------------------------------------\n"
     ]
    },
    {
     "name": "stderr",
     "output_type": "stream",
     "text": [
      " 89%|████████▉ | 88898/100000 [52:16<03:49, 48.30it/s]"
     ]
    },
    {
     "name": "stdout",
     "output_type": "stream",
     "text": [
      "Epoch [88900/100000]\n",
      "Train Loss: 5.9588, Train Accuracy: 0.0784\n",
      "Train Precision (micro): 0.0784, Train Precision (macro): 0.0067\n",
      "Train Recall (micro): 0.0784, Train Recall (macro): 0.0114\n",
      "Train F1 (micro): 0.0784, Train F1 (macro): 0.0066\n",
      "\n",
      "Val Loss: 5.9087, Val Accuracy: 0.0769\n",
      "Val Precision (micro): 0.0769, Val Precision (macro): 0.0076\n",
      "Val Recall (micro): 0.0769, Val Recall (macro): 0.0152\n",
      "Val F1 (micro): 0.0769, Val F1 (macro): 0.0088\n",
      "--------------------------------------------------------------------------------\n"
     ]
    },
    {
     "name": "stderr",
     "output_type": "stream",
     "text": [
      " 89%|████████▉ | 88994/100000 [52:20<04:01, 45.54it/s]"
     ]
    },
    {
     "name": "stdout",
     "output_type": "stream",
     "text": [
      "Epoch [89000/100000]\n",
      "Train Loss: 5.8929, Train Accuracy: 0.0766\n",
      "Train Precision (micro): 0.0766, Train Precision (macro): 0.0063\n",
      "Train Recall (micro): 0.0766, Train Recall (macro): 0.0099\n",
      "Train F1 (micro): 0.0766, Train F1 (macro): 0.0059\n",
      "\n",
      "Val Loss: 5.9033, Val Accuracy: 0.0788\n",
      "Val Precision (micro): 0.0788, Val Precision (macro): 0.0075\n",
      "Val Recall (micro): 0.0788, Val Recall (macro): 0.0149\n",
      "Val F1 (micro): 0.0788, Val F1 (macro): 0.0080\n",
      "--------------------------------------------------------------------------------\n"
     ]
    },
    {
     "name": "stderr",
     "output_type": "stream",
     "text": [
      " 89%|████████▉ | 89097/100000 [52:23<03:55, 46.39it/s]"
     ]
    },
    {
     "name": "stdout",
     "output_type": "stream",
     "text": [
      "Epoch [89100/100000]\n",
      "Train Loss: 5.8862, Train Accuracy: 0.0753\n",
      "Train Precision (micro): 0.0753, Train Precision (macro): 0.0047\n",
      "Train Recall (micro): 0.0753, Train Recall (macro): 0.0084\n",
      "Train F1 (micro): 0.0753, Train F1 (macro): 0.0045\n",
      "\n",
      "Val Loss: 5.9032, Val Accuracy: 0.0781\n",
      "Val Precision (micro): 0.0781, Val Precision (macro): 0.0084\n",
      "Val Recall (micro): 0.0781, Val Recall (macro): 0.0158\n",
      "Val F1 (micro): 0.0781, Val F1 (macro): 0.0093\n",
      "--------------------------------------------------------------------------------\n"
     ]
    },
    {
     "name": "stderr",
     "output_type": "stream",
     "text": [
      " 89%|████████▉ | 89198/100000 [52:27<03:42, 48.51it/s]"
     ]
    },
    {
     "name": "stdout",
     "output_type": "stream",
     "text": [
      "Epoch [89200/100000]\n",
      "Train Loss: 5.9578, Train Accuracy: 0.0725\n",
      "Train Precision (micro): 0.0725, Train Precision (macro): 0.0073\n",
      "Train Recall (micro): 0.0725, Train Recall (macro): 0.0097\n",
      "Train F1 (micro): 0.0725, Train F1 (macro): 0.0065\n",
      "\n",
      "Val Loss: 5.9043, Val Accuracy: 0.0725\n",
      "Val Precision (micro): 0.0725, Val Precision (macro): 0.0075\n",
      "Val Recall (micro): 0.0725, Val Recall (macro): 0.0145\n",
      "Val F1 (micro): 0.0725, Val F1 (macro): 0.0080\n",
      "--------------------------------------------------------------------------------\n"
     ]
    },
    {
     "name": "stderr",
     "output_type": "stream",
     "text": [
      " 89%|████████▉ | 89299/100000 [52:30<03:53, 45.74it/s]"
     ]
    },
    {
     "name": "stdout",
     "output_type": "stream",
     "text": [
      "Epoch [89300/100000]\n",
      "Train Loss: 5.8498, Train Accuracy: 0.0805\n",
      "Train Precision (micro): 0.0805, Train Precision (macro): 0.0067\n",
      "Train Recall (micro): 0.0805, Train Recall (macro): 0.0101\n",
      "Train F1 (micro): 0.0805, Train F1 (macro): 0.0061\n",
      "\n",
      "Val Loss: 5.9007, Val Accuracy: 0.0809\n",
      "Val Precision (micro): 0.0809, Val Precision (macro): 0.0091\n",
      "Val Recall (micro): 0.0809, Val Recall (macro): 0.0165\n",
      "Val F1 (micro): 0.0809, Val F1 (macro): 0.0098\n",
      "--------------------------------------------------------------------------------\n"
     ]
    },
    {
     "name": "stderr",
     "output_type": "stream",
     "text": [
      " 89%|████████▉ | 89395/100000 [52:34<03:47, 46.71it/s]"
     ]
    },
    {
     "name": "stdout",
     "output_type": "stream",
     "text": [
      "Epoch [89400/100000]\n",
      "Train Loss: 5.8402, Train Accuracy: 0.0825\n",
      "Train Precision (micro): 0.0825, Train Precision (macro): 0.0087\n",
      "Train Recall (micro): 0.0825, Train Recall (macro): 0.0128\n",
      "Train F1 (micro): 0.0825, Train F1 (macro): 0.0085\n",
      "\n",
      "Val Loss: 5.8922, Val Accuracy: 0.0788\n",
      "Val Precision (micro): 0.0788, Val Precision (macro): 0.0081\n",
      "Val Recall (micro): 0.0788, Val Recall (macro): 0.0165\n",
      "Val F1 (micro): 0.0788, Val F1 (macro): 0.0093\n",
      "--------------------------------------------------------------------------------\n"
     ]
    },
    {
     "name": "stderr",
     "output_type": "stream",
     "text": [
      " 89%|████████▉ | 89497/100000 [52:37<03:38, 48.05it/s]"
     ]
    },
    {
     "name": "stdout",
     "output_type": "stream",
     "text": [
      "Epoch [89500/100000]\n",
      "Train Loss: 5.9546, Train Accuracy: 0.0789\n",
      "Train Precision (micro): 0.0789, Train Precision (macro): 0.0052\n",
      "Train Recall (micro): 0.0789, Train Recall (macro): 0.0106\n",
      "Train F1 (micro): 0.0789, Train F1 (macro): 0.0058\n",
      "\n",
      "Val Loss: 5.9062, Val Accuracy: 0.0791\n",
      "Val Precision (micro): 0.0791, Val Precision (macro): 0.0085\n",
      "Val Recall (micro): 0.0791, Val Recall (macro): 0.0149\n",
      "Val F1 (micro): 0.0791, Val F1 (macro): 0.0084\n",
      "--------------------------------------------------------------------------------\n"
     ]
    },
    {
     "name": "stderr",
     "output_type": "stream",
     "text": [
      " 90%|████████▉ | 89597/100000 [52:41<03:30, 49.32it/s]"
     ]
    },
    {
     "name": "stdout",
     "output_type": "stream",
     "text": [
      "Epoch [89600/100000]\n",
      "Train Loss: 5.9007, Train Accuracy: 0.0777\n",
      "Train Precision (micro): 0.0777, Train Precision (macro): 0.0058\n",
      "Train Recall (micro): 0.0777, Train Recall (macro): 0.0102\n",
      "Train F1 (micro): 0.0777, Train F1 (macro): 0.0059\n",
      "\n",
      "Val Loss: 5.9179, Val Accuracy: 0.0803\n",
      "Val Precision (micro): 0.0803, Val Precision (macro): 0.0080\n",
      "Val Recall (micro): 0.0803, Val Recall (macro): 0.0162\n",
      "Val F1 (micro): 0.0803, Val F1 (macro): 0.0092\n",
      "--------------------------------------------------------------------------------\n"
     ]
    },
    {
     "name": "stderr",
     "output_type": "stream",
     "text": [
      " 90%|████████▉ | 89695/100000 [52:44<03:29, 49.09it/s]"
     ]
    },
    {
     "name": "stdout",
     "output_type": "stream",
     "text": [
      "Epoch [89700/100000]\n",
      "Train Loss: 5.9014, Train Accuracy: 0.0827\n",
      "Train Precision (micro): 0.0827, Train Precision (macro): 0.0073\n",
      "Train Recall (micro): 0.0827, Train Recall (macro): 0.0111\n",
      "Train F1 (micro): 0.0827, Train F1 (macro): 0.0069\n",
      "\n",
      "Val Loss: 5.8996, Val Accuracy: 0.0750\n",
      "Val Precision (micro): 0.0750, Val Precision (macro): 0.0073\n",
      "Val Recall (micro): 0.0750, Val Recall (macro): 0.0149\n",
      "Val F1 (micro): 0.0750, Val F1 (macro): 0.0085\n",
      "--------------------------------------------------------------------------------\n"
     ]
    },
    {
     "name": "stderr",
     "output_type": "stream",
     "text": [
      " 90%|████████▉ | 89794/100000 [52:48<03:25, 49.72it/s]"
     ]
    },
    {
     "name": "stdout",
     "output_type": "stream",
     "text": [
      "Epoch [89800/100000]\n",
      "Train Loss: 5.8879, Train Accuracy: 0.0855\n",
      "Train Precision (micro): 0.0855, Train Precision (macro): 0.0074\n",
      "Train Recall (micro): 0.0855, Train Recall (macro): 0.0124\n",
      "Train F1 (micro): 0.0855, Train F1 (macro): 0.0072\n",
      "\n",
      "Val Loss: 5.9194, Val Accuracy: 0.0759\n",
      "Val Precision (micro): 0.0759, Val Precision (macro): 0.0066\n",
      "Val Recall (micro): 0.0759, Val Recall (macro): 0.0139\n",
      "Val F1 (micro): 0.0759, Val F1 (macro): 0.0076\n",
      "--------------------------------------------------------------------------------\n"
     ]
    },
    {
     "name": "stderr",
     "output_type": "stream",
     "text": [
      " 90%|████████▉ | 89894/100000 [52:51<03:25, 49.08it/s]"
     ]
    },
    {
     "name": "stdout",
     "output_type": "stream",
     "text": [
      "Epoch [89900/100000]\n",
      "Train Loss: 5.9217, Train Accuracy: 0.0806\n",
      "Train Precision (micro): 0.0806, Train Precision (macro): 0.0051\n",
      "Train Recall (micro): 0.0806, Train Recall (macro): 0.0097\n",
      "Train F1 (micro): 0.0806, Train F1 (macro): 0.0055\n",
      "\n",
      "Val Loss: 5.9081, Val Accuracy: 0.0769\n",
      "Val Precision (micro): 0.0769, Val Precision (macro): 0.0069\n",
      "Val Recall (micro): 0.0769, Val Recall (macro): 0.0157\n",
      "Val F1 (micro): 0.0769, Val F1 (macro): 0.0082\n",
      "--------------------------------------------------------------------------------\n"
     ]
    },
    {
     "name": "stderr",
     "output_type": "stream",
     "text": [
      " 90%|████████▉ | 89997/100000 [52:55<03:33, 46.84it/s]"
     ]
    },
    {
     "name": "stdout",
     "output_type": "stream",
     "text": [
      "Epoch [90000/100000]\n",
      "Train Loss: 5.9523, Train Accuracy: 0.0747\n",
      "Train Precision (micro): 0.0747, Train Precision (macro): 0.0071\n",
      "Train Recall (micro): 0.0747, Train Recall (macro): 0.0107\n",
      "Train F1 (micro): 0.0747, Train F1 (macro): 0.0066\n",
      "\n",
      "Val Loss: 5.8980, Val Accuracy: 0.0788\n",
      "Val Precision (micro): 0.0788, Val Precision (macro): 0.0094\n",
      "Val Recall (micro): 0.0788, Val Recall (macro): 0.0158\n",
      "Val F1 (micro): 0.0788, Val F1 (macro): 0.0098\n",
      "--------------------------------------------------------------------------------\n"
     ]
    },
    {
     "name": "stderr",
     "output_type": "stream",
     "text": [
      " 90%|█████████ | 90099/100000 [52:58<03:33, 46.45it/s]"
     ]
    },
    {
     "name": "stdout",
     "output_type": "stream",
     "text": [
      "Epoch [90100/100000]\n",
      "Train Loss: 5.9011, Train Accuracy: 0.0842\n",
      "Train Precision (micro): 0.0842, Train Precision (macro): 0.0076\n",
      "Train Recall (micro): 0.0842, Train Recall (macro): 0.0108\n",
      "Train F1 (micro): 0.0842, Train F1 (macro): 0.0071\n",
      "\n",
      "Val Loss: 5.9223, Val Accuracy: 0.0750\n",
      "Val Precision (micro): 0.0750, Val Precision (macro): 0.0074\n",
      "Val Recall (micro): 0.0750, Val Recall (macro): 0.0151\n",
      "Val F1 (micro): 0.0750, Val F1 (macro): 0.0080\n",
      "--------------------------------------------------------------------------------\n"
     ]
    },
    {
     "name": "stderr",
     "output_type": "stream",
     "text": [
      " 90%|█████████ | 90194/100000 [53:02<03:26, 47.46it/s]"
     ]
    },
    {
     "name": "stdout",
     "output_type": "stream",
     "text": [
      "Epoch [90200/100000]\n",
      "Train Loss: 5.8998, Train Accuracy: 0.0817\n",
      "Train Precision (micro): 0.0817, Train Precision (macro): 0.0063\n",
      "Train Recall (micro): 0.0817, Train Recall (macro): 0.0112\n",
      "Train F1 (micro): 0.0817, Train F1 (macro): 0.0067\n",
      "\n",
      "Val Loss: 5.8838, Val Accuracy: 0.0825\n",
      "Val Precision (micro): 0.0825, Val Precision (macro): 0.0074\n",
      "Val Recall (micro): 0.0825, Val Recall (macro): 0.0165\n",
      "Val F1 (micro): 0.0825, Val F1 (macro): 0.0085\n",
      "--------------------------------------------------------------------------------\n"
     ]
    },
    {
     "name": "stderr",
     "output_type": "stream",
     "text": [
      " 90%|█████████ | 90297/100000 [53:06<03:26, 46.90it/s]"
     ]
    },
    {
     "name": "stdout",
     "output_type": "stream",
     "text": [
      "Epoch [90300/100000]\n",
      "Train Loss: 5.9197, Train Accuracy: 0.0825\n",
      "Train Precision (micro): 0.0825, Train Precision (macro): 0.0061\n",
      "Train Recall (micro): 0.0825, Train Recall (macro): 0.0110\n",
      "Train F1 (micro): 0.0825, Train F1 (macro): 0.0063\n",
      "\n",
      "Val Loss: 5.9254, Val Accuracy: 0.0797\n",
      "Val Precision (micro): 0.0797, Val Precision (macro): 0.0081\n",
      "Val Recall (micro): 0.0797, Val Recall (macro): 0.0149\n",
      "Val F1 (micro): 0.0797, Val F1 (macro): 0.0086\n",
      "--------------------------------------------------------------------------------\n"
     ]
    },
    {
     "name": "stderr",
     "output_type": "stream",
     "text": [
      " 90%|█████████ | 90399/100000 [53:09<03:39, 43.75it/s]"
     ]
    },
    {
     "name": "stdout",
     "output_type": "stream",
     "text": [
      "Epoch [90400/100000]\n",
      "Train Loss: 5.9035, Train Accuracy: 0.0817\n",
      "Train Precision (micro): 0.0817, Train Precision (macro): 0.0059\n",
      "Train Recall (micro): 0.0817, Train Recall (macro): 0.0107\n",
      "Train F1 (micro): 0.0817, Train F1 (macro): 0.0059\n",
      "\n",
      "Val Loss: 5.9147, Val Accuracy: 0.0794\n",
      "Val Precision (micro): 0.0794, Val Precision (macro): 0.0073\n",
      "Val Recall (micro): 0.0794, Val Recall (macro): 0.0152\n",
      "Val F1 (micro): 0.0794, Val F1 (macro): 0.0083\n",
      "--------------------------------------------------------------------------------\n"
     ]
    },
    {
     "name": "stderr",
     "output_type": "stream",
     "text": [
      " 90%|█████████ | 90494/100000 [53:13<03:41, 42.85it/s]"
     ]
    },
    {
     "name": "stdout",
     "output_type": "stream",
     "text": [
      "Epoch [90500/100000]\n",
      "Train Loss: 5.9178, Train Accuracy: 0.0800\n",
      "Train Precision (micro): 0.0800, Train Precision (macro): 0.0062\n",
      "Train Recall (micro): 0.0800, Train Recall (macro): 0.0100\n",
      "Train F1 (micro): 0.0800, Train F1 (macro): 0.0055\n",
      "\n",
      "Val Loss: 5.8975, Val Accuracy: 0.0797\n",
      "Val Precision (micro): 0.0797, Val Precision (macro): 0.0082\n",
      "Val Recall (micro): 0.0797, Val Recall (macro): 0.0160\n",
      "Val F1 (micro): 0.0797, Val F1 (macro): 0.0092\n",
      "--------------------------------------------------------------------------------\n"
     ]
    },
    {
     "name": "stderr",
     "output_type": "stream",
     "text": [
      " 91%|█████████ | 90594/100000 [53:16<03:12, 48.75it/s]"
     ]
    },
    {
     "name": "stdout",
     "output_type": "stream",
     "text": [
      "Epoch [90600/100000]\n",
      "Train Loss: 5.9450, Train Accuracy: 0.0828\n",
      "Train Precision (micro): 0.0828, Train Precision (macro): 0.0064\n",
      "Train Recall (micro): 0.0828, Train Recall (macro): 0.0118\n",
      "Train F1 (micro): 0.0828, Train F1 (macro): 0.0066\n",
      "\n",
      "Val Loss: 5.9261, Val Accuracy: 0.0778\n",
      "Val Precision (micro): 0.0778, Val Precision (macro): 0.0093\n",
      "Val Recall (micro): 0.0778, Val Recall (macro): 0.0156\n",
      "Val F1 (micro): 0.0778, Val F1 (macro): 0.0095\n",
      "--------------------------------------------------------------------------------\n"
     ]
    },
    {
     "name": "stderr",
     "output_type": "stream",
     "text": [
      " 91%|█████████ | 90699/100000 [53:21<03:12, 48.37it/s]"
     ]
    },
    {
     "name": "stdout",
     "output_type": "stream",
     "text": [
      "Epoch [90700/100000]\n",
      "Train Loss: 5.8995, Train Accuracy: 0.0816\n",
      "Train Precision (micro): 0.0816, Train Precision (macro): 0.0062\n",
      "Train Recall (micro): 0.0816, Train Recall (macro): 0.0129\n",
      "Train F1 (micro): 0.0816, Train F1 (macro): 0.0071\n",
      "\n",
      "Val Loss: 5.8919, Val Accuracy: 0.0788\n",
      "Val Precision (micro): 0.0788, Val Precision (macro): 0.0090\n",
      "Val Recall (micro): 0.0788, Val Recall (macro): 0.0172\n",
      "Val F1 (micro): 0.0788, Val F1 (macro): 0.0103\n",
      "--------------------------------------------------------------------------------\n"
     ]
    },
    {
     "name": "stderr",
     "output_type": "stream",
     "text": [
      " 91%|█████████ | 90798/100000 [53:24<03:02, 50.40it/s]"
     ]
    },
    {
     "name": "stdout",
     "output_type": "stream",
     "text": [
      "Epoch [90800/100000]\n",
      "Train Loss: 5.9327, Train Accuracy: 0.0759\n",
      "Train Precision (micro): 0.0759, Train Precision (macro): 0.0050\n",
      "Train Recall (micro): 0.0759, Train Recall (macro): 0.0096\n",
      "Train F1 (micro): 0.0759, Train F1 (macro): 0.0054\n",
      "\n",
      "Val Loss: 5.9021, Val Accuracy: 0.0791\n",
      "Val Precision (micro): 0.0791, Val Precision (macro): 0.0077\n",
      "Val Recall (micro): 0.0791, Val Recall (macro): 0.0161\n",
      "Val F1 (micro): 0.0791, Val F1 (macro): 0.0088\n",
      "--------------------------------------------------------------------------------\n"
     ]
    },
    {
     "name": "stderr",
     "output_type": "stream",
     "text": [
      " 91%|█████████ | 90894/100000 [53:28<03:03, 49.50it/s]"
     ]
    },
    {
     "name": "stdout",
     "output_type": "stream",
     "text": [
      "Epoch [90900/100000]\n",
      "Train Loss: 5.9004, Train Accuracy: 0.0786\n",
      "Train Precision (micro): 0.0786, Train Precision (macro): 0.0056\n",
      "Train Recall (micro): 0.0786, Train Recall (macro): 0.0107\n",
      "Train F1 (micro): 0.0786, Train F1 (macro): 0.0062\n",
      "\n",
      "Val Loss: 5.9111, Val Accuracy: 0.0775\n",
      "Val Precision (micro): 0.0775, Val Precision (macro): 0.0078\n",
      "Val Recall (micro): 0.0775, Val Recall (macro): 0.0176\n",
      "Val F1 (micro): 0.0775, Val F1 (macro): 0.0092\n",
      "--------------------------------------------------------------------------------\n"
     ]
    },
    {
     "name": "stderr",
     "output_type": "stream",
     "text": [
      " 91%|█████████ | 90995/100000 [53:32<02:59, 50.27it/s]"
     ]
    },
    {
     "name": "stdout",
     "output_type": "stream",
     "text": [
      "Epoch [91000/100000]\n",
      "Train Loss: 5.9032, Train Accuracy: 0.0798\n",
      "Train Precision (micro): 0.0798, Train Precision (macro): 0.0077\n",
      "Train Recall (micro): 0.0798, Train Recall (macro): 0.0105\n",
      "Train F1 (micro): 0.0798, Train F1 (macro): 0.0065\n",
      "\n",
      "Val Loss: 5.9180, Val Accuracy: 0.0797\n",
      "Val Precision (micro): 0.0797, Val Precision (macro): 0.0082\n",
      "Val Recall (micro): 0.0797, Val Recall (macro): 0.0178\n",
      "Val F1 (micro): 0.0797, Val F1 (macro): 0.0097\n",
      "--------------------------------------------------------------------------------\n"
     ]
    },
    {
     "name": "stderr",
     "output_type": "stream",
     "text": [
      " 91%|█████████ | 91099/100000 [53:35<03:07, 47.36it/s]"
     ]
    },
    {
     "name": "stdout",
     "output_type": "stream",
     "text": [
      "Epoch [91100/100000]\n",
      "Train Loss: 5.9226, Train Accuracy: 0.0806\n",
      "Train Precision (micro): 0.0806, Train Precision (macro): 0.0070\n",
      "Train Recall (micro): 0.0806, Train Recall (macro): 0.0113\n",
      "Train F1 (micro): 0.0806, Train F1 (macro): 0.0066\n",
      "\n",
      "Val Loss: 5.9013, Val Accuracy: 0.0769\n",
      "Val Precision (micro): 0.0769, Val Precision (macro): 0.0074\n",
      "Val Recall (micro): 0.0769, Val Recall (macro): 0.0165\n",
      "Val F1 (micro): 0.0769, Val F1 (macro): 0.0090\n",
      "--------------------------------------------------------------------------------\n"
     ]
    },
    {
     "name": "stderr",
     "output_type": "stream",
     "text": [
      " 91%|█████████ | 91196/100000 [53:39<03:04, 47.70it/s]"
     ]
    },
    {
     "name": "stdout",
     "output_type": "stream",
     "text": [
      "Epoch [91200/100000]\n",
      "Train Loss: 5.8950, Train Accuracy: 0.0803\n",
      "Train Precision (micro): 0.0803, Train Precision (macro): 0.0072\n",
      "Train Recall (micro): 0.0803, Train Recall (macro): 0.0112\n",
      "Train F1 (micro): 0.0803, Train F1 (macro): 0.0066\n",
      "\n",
      "Val Loss: 5.8945, Val Accuracy: 0.0766\n",
      "Val Precision (micro): 0.0766, Val Precision (macro): 0.0075\n",
      "Val Recall (micro): 0.0766, Val Recall (macro): 0.0166\n",
      "Val F1 (micro): 0.0766, Val F1 (macro): 0.0086\n",
      "--------------------------------------------------------------------------------\n"
     ]
    },
    {
     "name": "stderr",
     "output_type": "stream",
     "text": [
      " 91%|█████████▏| 91296/100000 [53:42<03:06, 46.59it/s]"
     ]
    },
    {
     "name": "stdout",
     "output_type": "stream",
     "text": [
      "Epoch [91300/100000]\n",
      "Train Loss: 5.8384, Train Accuracy: 0.0823\n",
      "Train Precision (micro): 0.0823, Train Precision (macro): 0.0078\n",
      "Train Recall (micro): 0.0823, Train Recall (macro): 0.0130\n",
      "Train F1 (micro): 0.0823, Train F1 (macro): 0.0082\n",
      "\n",
      "Val Loss: 5.9033, Val Accuracy: 0.0759\n",
      "Val Precision (micro): 0.0759, Val Precision (macro): 0.0087\n",
      "Val Recall (micro): 0.0759, Val Recall (macro): 0.0156\n",
      "Val F1 (micro): 0.0759, Val F1 (macro): 0.0090\n",
      "--------------------------------------------------------------------------------\n"
     ]
    },
    {
     "name": "stderr",
     "output_type": "stream",
     "text": [
      " 91%|█████████▏| 91396/100000 [53:45<02:53, 49.61it/s]"
     ]
    },
    {
     "name": "stdout",
     "output_type": "stream",
     "text": [
      "Epoch [91400/100000]\n",
      "Train Loss: 5.9057, Train Accuracy: 0.0795\n",
      "Train Precision (micro): 0.0795, Train Precision (macro): 0.0052\n",
      "Train Recall (micro): 0.0795, Train Recall (macro): 0.0092\n",
      "Train F1 (micro): 0.0795, Train F1 (macro): 0.0055\n",
      "\n",
      "Val Loss: 5.9374, Val Accuracy: 0.0753\n",
      "Val Precision (micro): 0.0753, Val Precision (macro): 0.0087\n",
      "Val Recall (micro): 0.0753, Val Recall (macro): 0.0143\n",
      "Val F1 (micro): 0.0753, Val F1 (macro): 0.0082\n",
      "--------------------------------------------------------------------------------\n"
     ]
    },
    {
     "name": "stderr",
     "output_type": "stream",
     "text": [
      " 91%|█████████▏| 91498/100000 [53:49<03:14, 43.79it/s]"
     ]
    },
    {
     "name": "stdout",
     "output_type": "stream",
     "text": [
      "Epoch [91500/100000]\n",
      "Train Loss: 5.8883, Train Accuracy: 0.0744\n",
      "Train Precision (micro): 0.0744, Train Precision (macro): 0.0069\n",
      "Train Recall (micro): 0.0744, Train Recall (macro): 0.0107\n",
      "Train F1 (micro): 0.0744, Train F1 (macro): 0.0069\n",
      "\n",
      "Val Loss: 5.9175, Val Accuracy: 0.0741\n",
      "Val Precision (micro): 0.0741, Val Precision (macro): 0.0080\n",
      "Val Recall (micro): 0.0741, Val Recall (macro): 0.0144\n",
      "Val F1 (micro): 0.0741, Val F1 (macro): 0.0083\n",
      "--------------------------------------------------------------------------------\n"
     ]
    },
    {
     "name": "stderr",
     "output_type": "stream",
     "text": [
      " 92%|█████████▏| 91597/100000 [53:53<02:51, 49.00it/s]"
     ]
    },
    {
     "name": "stdout",
     "output_type": "stream",
     "text": [
      "Epoch [91600/100000]\n",
      "Train Loss: 5.9285, Train Accuracy: 0.0813\n",
      "Train Precision (micro): 0.0813, Train Precision (macro): 0.0043\n",
      "Train Recall (micro): 0.0813, Train Recall (macro): 0.0088\n",
      "Train F1 (micro): 0.0813, Train F1 (macro): 0.0049\n",
      "\n",
      "Val Loss: 5.9056, Val Accuracy: 0.0778\n",
      "Val Precision (micro): 0.0778, Val Precision (macro): 0.0095\n",
      "Val Recall (micro): 0.0778, Val Recall (macro): 0.0169\n",
      "Val F1 (micro): 0.0778, Val F1 (macro): 0.0098\n",
      "--------------------------------------------------------------------------------\n"
     ]
    },
    {
     "name": "stderr",
     "output_type": "stream",
     "text": [
      " 92%|█████████▏| 91695/100000 [53:56<02:46, 49.96it/s]"
     ]
    },
    {
     "name": "stdout",
     "output_type": "stream",
     "text": [
      "Epoch [91700/100000]\n",
      "Train Loss: 5.9165, Train Accuracy: 0.0813\n",
      "Train Precision (micro): 0.0813, Train Precision (macro): 0.0072\n",
      "Train Recall (micro): 0.0813, Train Recall (macro): 0.0122\n",
      "Train F1 (micro): 0.0813, Train F1 (macro): 0.0073\n",
      "\n",
      "Val Loss: 5.9052, Val Accuracy: 0.0803\n",
      "Val Precision (micro): 0.0803, Val Precision (macro): 0.0078\n",
      "Val Recall (micro): 0.0803, Val Recall (macro): 0.0171\n",
      "Val F1 (micro): 0.0803, Val F1 (macro): 0.0095\n",
      "--------------------------------------------------------------------------------\n"
     ]
    },
    {
     "name": "stderr",
     "output_type": "stream",
     "text": [
      " 92%|█████████▏| 91795/100000 [53:59<03:00, 45.55it/s]"
     ]
    },
    {
     "name": "stdout",
     "output_type": "stream",
     "text": [
      "Epoch [91800/100000]\n",
      "Train Loss: 5.9259, Train Accuracy: 0.0755\n",
      "Train Precision (micro): 0.0755, Train Precision (macro): 0.0046\n",
      "Train Recall (micro): 0.0755, Train Recall (macro): 0.0093\n",
      "Train F1 (micro): 0.0755, Train F1 (macro): 0.0050\n",
      "\n",
      "Val Loss: 5.9175, Val Accuracy: 0.0766\n",
      "Val Precision (micro): 0.0766, Val Precision (macro): 0.0074\n",
      "Val Recall (micro): 0.0766, Val Recall (macro): 0.0153\n",
      "Val F1 (micro): 0.0766, Val F1 (macro): 0.0085\n",
      "--------------------------------------------------------------------------------\n"
     ]
    },
    {
     "name": "stderr",
     "output_type": "stream",
     "text": [
      " 92%|█████████▏| 91895/100000 [54:03<02:45, 48.89it/s]"
     ]
    },
    {
     "name": "stdout",
     "output_type": "stream",
     "text": [
      "Epoch [91900/100000]\n",
      "Train Loss: 5.8789, Train Accuracy: 0.0816\n",
      "Train Precision (micro): 0.0816, Train Precision (macro): 0.0061\n",
      "Train Recall (micro): 0.0816, Train Recall (macro): 0.0117\n",
      "Train F1 (micro): 0.0816, Train F1 (macro): 0.0065\n",
      "\n",
      "Val Loss: 5.9603, Val Accuracy: 0.0731\n",
      "Val Precision (micro): 0.0731, Val Precision (macro): 0.0077\n",
      "Val Recall (micro): 0.0731, Val Recall (macro): 0.0147\n",
      "Val F1 (micro): 0.0731, Val F1 (macro): 0.0087\n",
      "--------------------------------------------------------------------------------\n"
     ]
    },
    {
     "name": "stderr",
     "output_type": "stream",
     "text": [
      " 92%|█████████▏| 91996/100000 [54:06<02:40, 49.73it/s]"
     ]
    },
    {
     "name": "stdout",
     "output_type": "stream",
     "text": [
      "Epoch [92000/100000]\n",
      "Train Loss: 5.8986, Train Accuracy: 0.0811\n",
      "Train Precision (micro): 0.0811, Train Precision (macro): 0.0057\n",
      "Train Recall (micro): 0.0811, Train Recall (macro): 0.0106\n",
      "Train F1 (micro): 0.0811, Train F1 (macro): 0.0059\n",
      "\n",
      "Val Loss: 5.9335, Val Accuracy: 0.0775\n",
      "Val Precision (micro): 0.0775, Val Precision (macro): 0.0081\n",
      "Val Recall (micro): 0.0775, Val Recall (macro): 0.0166\n",
      "Val F1 (micro): 0.0775, Val F1 (macro): 0.0092\n",
      "--------------------------------------------------------------------------------\n"
     ]
    },
    {
     "name": "stderr",
     "output_type": "stream",
     "text": [
      " 92%|█████████▏| 92096/100000 [54:10<02:44, 48.18it/s]"
     ]
    },
    {
     "name": "stdout",
     "output_type": "stream",
     "text": [
      "Epoch [92100/100000]\n",
      "Train Loss: 5.9023, Train Accuracy: 0.0828\n",
      "Train Precision (micro): 0.0828, Train Precision (macro): 0.0069\n",
      "Train Recall (micro): 0.0828, Train Recall (macro): 0.0122\n",
      "Train F1 (micro): 0.0828, Train F1 (macro): 0.0075\n",
      "\n",
      "Val Loss: 5.8916, Val Accuracy: 0.0788\n",
      "Val Precision (micro): 0.0788, Val Precision (macro): 0.0071\n",
      "Val Recall (micro): 0.0788, Val Recall (macro): 0.0165\n",
      "Val F1 (micro): 0.0788, Val F1 (macro): 0.0082\n",
      "--------------------------------------------------------------------------------\n"
     ]
    },
    {
     "name": "stderr",
     "output_type": "stream",
     "text": [
      " 92%|█████████▏| 92196/100000 [54:14<02:50, 45.79it/s]"
     ]
    },
    {
     "name": "stdout",
     "output_type": "stream",
     "text": [
      "Epoch [92200/100000]\n",
      "Train Loss: 5.8862, Train Accuracy: 0.0828\n",
      "Train Precision (micro): 0.0828, Train Precision (macro): 0.0052\n",
      "Train Recall (micro): 0.0828, Train Recall (macro): 0.0101\n",
      "Train F1 (micro): 0.0828, Train F1 (macro): 0.0054\n",
      "\n",
      "Val Loss: 5.9229, Val Accuracy: 0.0772\n",
      "Val Precision (micro): 0.0772, Val Precision (macro): 0.0093\n",
      "Val Recall (micro): 0.0772, Val Recall (macro): 0.0169\n",
      "Val F1 (micro): 0.0772, Val F1 (macro): 0.0096\n",
      "--------------------------------------------------------------------------------\n"
     ]
    },
    {
     "name": "stderr",
     "output_type": "stream",
     "text": [
      " 92%|█████████▏| 92298/100000 [54:17<02:57, 43.39it/s]"
     ]
    },
    {
     "name": "stdout",
     "output_type": "stream",
     "text": [
      "Epoch [92300/100000]\n",
      "Train Loss: 5.9085, Train Accuracy: 0.0766\n",
      "Train Precision (micro): 0.0766, Train Precision (macro): 0.0072\n",
      "Train Recall (micro): 0.0766, Train Recall (macro): 0.0093\n",
      "Train F1 (micro): 0.0766, Train F1 (macro): 0.0062\n",
      "\n",
      "Val Loss: 5.9011, Val Accuracy: 0.0803\n",
      "Val Precision (micro): 0.0803, Val Precision (macro): 0.0088\n",
      "Val Recall (micro): 0.0803, Val Recall (macro): 0.0155\n",
      "Val F1 (micro): 0.0803, Val F1 (macro): 0.0089\n",
      "--------------------------------------------------------------------------------\n"
     ]
    },
    {
     "name": "stderr",
     "output_type": "stream",
     "text": [
      " 92%|█████████▏| 92396/100000 [54:22<02:52, 44.15it/s]"
     ]
    },
    {
     "name": "stdout",
     "output_type": "stream",
     "text": [
      "Epoch [92400/100000]\n",
      "Train Loss: 5.8528, Train Accuracy: 0.0723\n",
      "Train Precision (micro): 0.0723, Train Precision (macro): 0.0068\n",
      "Train Recall (micro): 0.0723, Train Recall (macro): 0.0100\n",
      "Train F1 (micro): 0.0723, Train F1 (macro): 0.0060\n",
      "\n",
      "Val Loss: 5.9005, Val Accuracy: 0.0797\n",
      "Val Precision (micro): 0.0797, Val Precision (macro): 0.0103\n",
      "Val Recall (micro): 0.0797, Val Recall (macro): 0.0182\n",
      "Val F1 (micro): 0.0797, Val F1 (macro): 0.0106\n",
      "--------------------------------------------------------------------------------\n"
     ]
    },
    {
     "name": "stderr",
     "output_type": "stream",
     "text": [
      " 92%|█████████▏| 92494/100000 [54:26<03:09, 39.54it/s]"
     ]
    },
    {
     "name": "stdout",
     "output_type": "stream",
     "text": [
      "Epoch [92500/100000]\n",
      "Train Loss: 5.9878, Train Accuracy: 0.0800\n",
      "Train Precision (micro): 0.0800, Train Precision (macro): 0.0070\n",
      "Train Recall (micro): 0.0800, Train Recall (macro): 0.0122\n",
      "Train F1 (micro): 0.0800, Train F1 (macro): 0.0064\n",
      "\n",
      "Val Loss: 5.9042, Val Accuracy: 0.0791\n",
      "Val Precision (micro): 0.0791, Val Precision (macro): 0.0088\n",
      "Val Recall (micro): 0.0791, Val Recall (macro): 0.0174\n",
      "Val F1 (micro): 0.0791, Val F1 (macro): 0.0101\n",
      "--------------------------------------------------------------------------------\n"
     ]
    },
    {
     "name": "stderr",
     "output_type": "stream",
     "text": [
      " 93%|█████████▎| 92597/100000 [54:30<02:37, 47.02it/s]"
     ]
    },
    {
     "name": "stdout",
     "output_type": "stream",
     "text": [
      "Epoch [92600/100000]\n",
      "Train Loss: 5.9205, Train Accuracy: 0.0766\n",
      "Train Precision (micro): 0.0766, Train Precision (macro): 0.0064\n",
      "Train Recall (micro): 0.0766, Train Recall (macro): 0.0117\n",
      "Train F1 (micro): 0.0766, Train F1 (macro): 0.0068\n",
      "\n",
      "Val Loss: 5.9042, Val Accuracy: 0.0803\n",
      "Val Precision (micro): 0.0803, Val Precision (macro): 0.0087\n",
      "Val Recall (micro): 0.0803, Val Recall (macro): 0.0170\n",
      "Val F1 (micro): 0.0803, Val F1 (macro): 0.0097\n",
      "--------------------------------------------------------------------------------\n"
     ]
    },
    {
     "name": "stderr",
     "output_type": "stream",
     "text": [
      " 93%|█████████▎| 92697/100000 [54:33<02:29, 48.93it/s]"
     ]
    },
    {
     "name": "stdout",
     "output_type": "stream",
     "text": [
      "Epoch [92700/100000]\n",
      "Train Loss: 5.8725, Train Accuracy: 0.0836\n",
      "Train Precision (micro): 0.0836, Train Precision (macro): 0.0057\n",
      "Train Recall (micro): 0.0836, Train Recall (macro): 0.0096\n",
      "Train F1 (micro): 0.0836, Train F1 (macro): 0.0060\n",
      "\n",
      "Val Loss: 5.8970, Val Accuracy: 0.0794\n",
      "Val Precision (micro): 0.0794, Val Precision (macro): 0.0102\n",
      "Val Recall (micro): 0.0794, Val Recall (macro): 0.0175\n",
      "Val F1 (micro): 0.0794, Val F1 (macro): 0.0104\n",
      "--------------------------------------------------------------------------------\n"
     ]
    },
    {
     "name": "stderr",
     "output_type": "stream",
     "text": [
      " 93%|█████████▎| 92798/100000 [54:36<02:35, 46.36it/s]"
     ]
    },
    {
     "name": "stdout",
     "output_type": "stream",
     "text": [
      "Epoch [92800/100000]\n",
      "Train Loss: 5.8988, Train Accuracy: 0.0814\n",
      "Train Precision (micro): 0.0814, Train Precision (macro): 0.0050\n",
      "Train Recall (micro): 0.0814, Train Recall (macro): 0.0102\n",
      "Train F1 (micro): 0.0814, Train F1 (macro): 0.0056\n",
      "\n",
      "Val Loss: 5.8944, Val Accuracy: 0.0819\n",
      "Val Precision (micro): 0.0819, Val Precision (macro): 0.0115\n",
      "Val Recall (micro): 0.0819, Val Recall (macro): 0.0178\n",
      "Val F1 (micro): 0.0819, Val F1 (macro): 0.0108\n",
      "--------------------------------------------------------------------------------\n"
     ]
    },
    {
     "name": "stderr",
     "output_type": "stream",
     "text": [
      " 93%|█████████▎| 92897/100000 [54:40<02:28, 47.79it/s]"
     ]
    },
    {
     "name": "stdout",
     "output_type": "stream",
     "text": [
      "Epoch [92900/100000]\n",
      "Train Loss: 5.9203, Train Accuracy: 0.0798\n",
      "Train Precision (micro): 0.0798, Train Precision (macro): 0.0054\n",
      "Train Recall (micro): 0.0798, Train Recall (macro): 0.0095\n",
      "Train F1 (micro): 0.0798, Train F1 (macro): 0.0057\n",
      "\n",
      "Val Loss: 5.9612, Val Accuracy: 0.0762\n",
      "Val Precision (micro): 0.0762, Val Precision (macro): 0.0088\n",
      "Val Recall (micro): 0.0762, Val Recall (macro): 0.0161\n",
      "Val F1 (micro): 0.0762, Val F1 (macro): 0.0094\n",
      "--------------------------------------------------------------------------------\n"
     ]
    },
    {
     "name": "stderr",
     "output_type": "stream",
     "text": [
      " 93%|█████████▎| 92998/100000 [54:43<02:21, 49.57it/s]"
     ]
    },
    {
     "name": "stdout",
     "output_type": "stream",
     "text": [
      "Epoch [93000/100000]\n",
      "Train Loss: 5.9158, Train Accuracy: 0.0823\n",
      "Train Precision (micro): 0.0823, Train Precision (macro): 0.0048\n",
      "Train Recall (micro): 0.0823, Train Recall (macro): 0.0097\n",
      "Train F1 (micro): 0.0823, Train F1 (macro): 0.0053\n",
      "\n",
      "Val Loss: 5.9362, Val Accuracy: 0.0784\n",
      "Val Precision (micro): 0.0784, Val Precision (macro): 0.0090\n",
      "Val Recall (micro): 0.0784, Val Recall (macro): 0.0158\n",
      "Val F1 (micro): 0.0784, Val F1 (macro): 0.0093\n",
      "--------------------------------------------------------------------------------\n"
     ]
    },
    {
     "name": "stderr",
     "output_type": "stream",
     "text": [
      " 93%|█████████▎| 93097/100000 [54:47<02:37, 43.75it/s]"
     ]
    },
    {
     "name": "stdout",
     "output_type": "stream",
     "text": [
      "Epoch [93100/100000]\n",
      "Train Loss: 5.9418, Train Accuracy: 0.0780\n",
      "Train Precision (micro): 0.0780, Train Precision (macro): 0.0057\n",
      "Train Recall (micro): 0.0780, Train Recall (macro): 0.0110\n",
      "Train F1 (micro): 0.0780, Train F1 (macro): 0.0056\n",
      "\n",
      "Val Loss: 5.9103, Val Accuracy: 0.0750\n",
      "Val Precision (micro): 0.0750, Val Precision (macro): 0.0069\n",
      "Val Recall (micro): 0.0750, Val Recall (macro): 0.0149\n",
      "Val F1 (micro): 0.0750, Val F1 (macro): 0.0079\n",
      "--------------------------------------------------------------------------------\n"
     ]
    },
    {
     "name": "stderr",
     "output_type": "stream",
     "text": [
      " 93%|█████████▎| 93196/100000 [54:50<02:15, 50.11it/s]"
     ]
    },
    {
     "name": "stdout",
     "output_type": "stream",
     "text": [
      "Epoch [93200/100000]\n",
      "Train Loss: 5.9289, Train Accuracy: 0.0780\n",
      "Train Precision (micro): 0.0780, Train Precision (macro): 0.0064\n",
      "Train Recall (micro): 0.0780, Train Recall (macro): 0.0118\n",
      "Train F1 (micro): 0.0780, Train F1 (macro): 0.0068\n",
      "\n",
      "Val Loss: 5.9059, Val Accuracy: 0.0800\n",
      "Val Precision (micro): 0.0800, Val Precision (macro): 0.0087\n",
      "Val Recall (micro): 0.0800, Val Recall (macro): 0.0177\n",
      "Val F1 (micro): 0.0800, Val F1 (macro): 0.0101\n",
      "--------------------------------------------------------------------------------\n"
     ]
    },
    {
     "name": "stderr",
     "output_type": "stream",
     "text": [
      " 93%|█████████▎| 93298/100000 [54:54<02:17, 48.62it/s]"
     ]
    },
    {
     "name": "stdout",
     "output_type": "stream",
     "text": [
      "Epoch [93300/100000]\n",
      "Train Loss: 5.8713, Train Accuracy: 0.0820\n",
      "Train Precision (micro): 0.0820, Train Precision (macro): 0.0060\n",
      "Train Recall (micro): 0.0820, Train Recall (macro): 0.0109\n",
      "Train F1 (micro): 0.0820, Train F1 (macro): 0.0066\n",
      "\n",
      "Val Loss: 5.8799, Val Accuracy: 0.0791\n",
      "Val Precision (micro): 0.0791, Val Precision (macro): 0.0089\n",
      "Val Recall (micro): 0.0791, Val Recall (macro): 0.0170\n",
      "Val F1 (micro): 0.0791, Val F1 (macro): 0.0101\n",
      "--------------------------------------------------------------------------------\n"
     ]
    },
    {
     "name": "stderr",
     "output_type": "stream",
     "text": [
      " 93%|█████████▎| 93398/100000 [54:57<02:15, 48.58it/s]"
     ]
    },
    {
     "name": "stdout",
     "output_type": "stream",
     "text": [
      "Epoch [93400/100000]\n",
      "Train Loss: 5.9305, Train Accuracy: 0.0823\n",
      "Train Precision (micro): 0.0823, Train Precision (macro): 0.0051\n",
      "Train Recall (micro): 0.0823, Train Recall (macro): 0.0103\n",
      "Train F1 (micro): 0.0823, Train F1 (macro): 0.0054\n",
      "\n",
      "Val Loss: 5.9238, Val Accuracy: 0.0753\n",
      "Val Precision (micro): 0.0753, Val Precision (macro): 0.0067\n",
      "Val Recall (micro): 0.0753, Val Recall (macro): 0.0145\n",
      "Val F1 (micro): 0.0753, Val F1 (macro): 0.0070\n",
      "--------------------------------------------------------------------------------\n"
     ]
    },
    {
     "name": "stderr",
     "output_type": "stream",
     "text": [
      " 93%|█████████▎| 93497/100000 [55:01<03:07, 34.73it/s]"
     ]
    },
    {
     "name": "stdout",
     "output_type": "stream",
     "text": [
      "Epoch [93500/100000]\n",
      "Train Loss: 5.8824, Train Accuracy: 0.0827\n",
      "Train Precision (micro): 0.0827, Train Precision (macro): 0.0072\n",
      "Train Recall (micro): 0.0827, Train Recall (macro): 0.0125\n",
      "Train F1 (micro): 0.0827, Train F1 (macro): 0.0075\n",
      "\n",
      "Val Loss: 5.8898, Val Accuracy: 0.0816\n",
      "Val Precision (micro): 0.0816, Val Precision (macro): 0.0101\n",
      "Val Recall (micro): 0.0816, Val Recall (macro): 0.0183\n",
      "Val F1 (micro): 0.0816, Val F1 (macro): 0.0108\n",
      "--------------------------------------------------------------------------------\n"
     ]
    },
    {
     "name": "stderr",
     "output_type": "stream",
     "text": [
      " 94%|█████████▎| 93596/100000 [55:05<02:10, 48.95it/s]"
     ]
    },
    {
     "name": "stdout",
     "output_type": "stream",
     "text": [
      "Epoch [93600/100000]\n",
      "Train Loss: 5.9028, Train Accuracy: 0.0775\n",
      "Train Precision (micro): 0.0775, Train Precision (macro): 0.0067\n",
      "Train Recall (micro): 0.0775, Train Recall (macro): 0.0106\n",
      "Train F1 (micro): 0.0775, Train F1 (macro): 0.0067\n",
      "\n",
      "Val Loss: 5.8949, Val Accuracy: 0.0775\n",
      "Val Precision (micro): 0.0775, Val Precision (macro): 0.0079\n",
      "Val Recall (micro): 0.0775, Val Recall (macro): 0.0146\n",
      "Val F1 (micro): 0.0775, Val F1 (macro): 0.0080\n",
      "--------------------------------------------------------------------------------\n"
     ]
    },
    {
     "name": "stderr",
     "output_type": "stream",
     "text": [
      " 94%|█████████▎| 93695/100000 [55:08<02:10, 48.23it/s]"
     ]
    },
    {
     "name": "stdout",
     "output_type": "stream",
     "text": [
      "Epoch [93700/100000]\n",
      "Train Loss: 5.9003, Train Accuracy: 0.0841\n",
      "Train Precision (micro): 0.0841, Train Precision (macro): 0.0069\n",
      "Train Recall (micro): 0.0841, Train Recall (macro): 0.0107\n",
      "Train F1 (micro): 0.0841, Train F1 (macro): 0.0070\n",
      "\n",
      "Val Loss: 5.8872, Val Accuracy: 0.0800\n",
      "Val Precision (micro): 0.0800, Val Precision (macro): 0.0083\n",
      "Val Recall (micro): 0.0800, Val Recall (macro): 0.0167\n",
      "Val F1 (micro): 0.0800, Val F1 (macro): 0.0090\n",
      "--------------------------------------------------------------------------------\n"
     ]
    },
    {
     "name": "stderr",
     "output_type": "stream",
     "text": [
      " 94%|█████████▍| 93798/100000 [55:12<02:07, 48.75it/s]"
     ]
    },
    {
     "name": "stdout",
     "output_type": "stream",
     "text": [
      "Epoch [93800/100000]\n",
      "Train Loss: 5.9165, Train Accuracy: 0.0800\n",
      "Train Precision (micro): 0.0800, Train Precision (macro): 0.0061\n",
      "Train Recall (micro): 0.0800, Train Recall (macro): 0.0113\n",
      "Train F1 (micro): 0.0800, Train F1 (macro): 0.0066\n",
      "\n",
      "Val Loss: 5.8798, Val Accuracy: 0.0819\n",
      "Val Precision (micro): 0.0819, Val Precision (macro): 0.0077\n",
      "Val Recall (micro): 0.0819, Val Recall (macro): 0.0170\n",
      "Val F1 (micro): 0.0819, Val F1 (macro): 0.0092\n",
      "--------------------------------------------------------------------------------\n"
     ]
    },
    {
     "name": "stderr",
     "output_type": "stream",
     "text": [
      " 94%|█████████▍| 93895/100000 [55:15<02:02, 49.88it/s]"
     ]
    },
    {
     "name": "stdout",
     "output_type": "stream",
     "text": [
      "Epoch [93900/100000]\n",
      "Train Loss: 5.8903, Train Accuracy: 0.0761\n",
      "Train Precision (micro): 0.0761, Train Precision (macro): 0.0062\n",
      "Train Recall (micro): 0.0761, Train Recall (macro): 0.0105\n",
      "Train F1 (micro): 0.0761, Train F1 (macro): 0.0065\n",
      "\n",
      "Val Loss: 5.8833, Val Accuracy: 0.0788\n",
      "Val Precision (micro): 0.0788, Val Precision (macro): 0.0079\n",
      "Val Recall (micro): 0.0788, Val Recall (macro): 0.0161\n",
      "Val F1 (micro): 0.0788, Val F1 (macro): 0.0088\n",
      "--------------------------------------------------------------------------------\n"
     ]
    },
    {
     "name": "stderr",
     "output_type": "stream",
     "text": [
      " 94%|█████████▍| 93999/100000 [55:19<02:03, 48.49it/s]"
     ]
    },
    {
     "name": "stdout",
     "output_type": "stream",
     "text": [
      "Epoch [94000/100000]\n",
      "Train Loss: 5.9041, Train Accuracy: 0.0836\n",
      "Train Precision (micro): 0.0836, Train Precision (macro): 0.0069\n",
      "Train Recall (micro): 0.0836, Train Recall (macro): 0.0109\n",
      "Train F1 (micro): 0.0836, Train F1 (macro): 0.0063\n",
      "\n",
      "Val Loss: 5.9237, Val Accuracy: 0.0781\n",
      "Val Precision (micro): 0.0781, Val Precision (macro): 0.0069\n",
      "Val Recall (micro): 0.0781, Val Recall (macro): 0.0156\n",
      "Val F1 (micro): 0.0781, Val F1 (macro): 0.0083\n",
      "--------------------------------------------------------------------------------\n"
     ]
    },
    {
     "name": "stderr",
     "output_type": "stream",
     "text": [
      " 94%|█████████▍| 94098/100000 [55:22<02:02, 47.99it/s]"
     ]
    },
    {
     "name": "stdout",
     "output_type": "stream",
     "text": [
      "Epoch [94100/100000]\n",
      "Train Loss: 5.9270, Train Accuracy: 0.0802\n",
      "Train Precision (micro): 0.0802, Train Precision (macro): 0.0050\n",
      "Train Recall (micro): 0.0802, Train Recall (macro): 0.0107\n",
      "Train F1 (micro): 0.0802, Train F1 (macro): 0.0061\n",
      "\n",
      "Val Loss: 5.9064, Val Accuracy: 0.0794\n",
      "Val Precision (micro): 0.0794, Val Precision (macro): 0.0092\n",
      "Val Recall (micro): 0.0794, Val Recall (macro): 0.0162\n",
      "Val F1 (micro): 0.0794, Val F1 (macro): 0.0094\n",
      "--------------------------------------------------------------------------------\n"
     ]
    },
    {
     "name": "stderr",
     "output_type": "stream",
     "text": [
      " 94%|█████████▍| 94194/100000 [55:25<02:10, 44.54it/s]"
     ]
    },
    {
     "name": "stdout",
     "output_type": "stream",
     "text": [
      "Epoch [94200/100000]\n",
      "Train Loss: 5.9093, Train Accuracy: 0.0788\n",
      "Train Precision (micro): 0.0788, Train Precision (macro): 0.0062\n",
      "Train Recall (micro): 0.0788, Train Recall (macro): 0.0119\n",
      "Train F1 (micro): 0.0788, Train F1 (macro): 0.0068\n",
      "\n",
      "Val Loss: 5.8712, Val Accuracy: 0.0806\n",
      "Val Precision (micro): 0.0806, Val Precision (macro): 0.0089\n",
      "Val Recall (micro): 0.0806, Val Recall (macro): 0.0162\n",
      "Val F1 (micro): 0.0806, Val F1 (macro): 0.0092\n",
      "--------------------------------------------------------------------------------\n"
     ]
    },
    {
     "name": "stderr",
     "output_type": "stream",
     "text": [
      " 94%|█████████▍| 94295/100000 [55:29<02:05, 45.44it/s]"
     ]
    },
    {
     "name": "stdout",
     "output_type": "stream",
     "text": [
      "Epoch [94300/100000]\n",
      "Train Loss: 5.9453, Train Accuracy: 0.0795\n",
      "Train Precision (micro): 0.0795, Train Precision (macro): 0.0054\n",
      "Train Recall (micro): 0.0795, Train Recall (macro): 0.0108\n",
      "Train F1 (micro): 0.0795, Train F1 (macro): 0.0059\n",
      "\n",
      "Val Loss: 5.9161, Val Accuracy: 0.0766\n",
      "Val Precision (micro): 0.0766, Val Precision (macro): 0.0093\n",
      "Val Recall (micro): 0.0766, Val Recall (macro): 0.0161\n",
      "Val F1 (micro): 0.0766, Val F1 (macro): 0.0086\n",
      "--------------------------------------------------------------------------------\n"
     ]
    },
    {
     "name": "stderr",
     "output_type": "stream",
     "text": [
      " 94%|█████████▍| 94399/100000 [55:32<02:09, 43.30it/s]"
     ]
    },
    {
     "name": "stdout",
     "output_type": "stream",
     "text": [
      "Epoch [94400/100000]\n",
      "Train Loss: 5.9245, Train Accuracy: 0.0798\n",
      "Train Precision (micro): 0.0798, Train Precision (macro): 0.0062\n",
      "Train Recall (micro): 0.0798, Train Recall (macro): 0.0098\n",
      "Train F1 (micro): 0.0798, Train F1 (macro): 0.0055\n",
      "\n",
      "Val Loss: 5.8950, Val Accuracy: 0.0788\n",
      "Val Precision (micro): 0.0788, Val Precision (macro): 0.0097\n",
      "Val Recall (micro): 0.0788, Val Recall (macro): 0.0172\n",
      "Val F1 (micro): 0.0788, Val F1 (macro): 0.0102\n",
      "--------------------------------------------------------------------------------\n"
     ]
    },
    {
     "name": "stderr",
     "output_type": "stream",
     "text": [
      " 94%|█████████▍| 94498/100000 [55:36<03:19, 27.61it/s]"
     ]
    },
    {
     "name": "stdout",
     "output_type": "stream",
     "text": [
      "Epoch [94500/100000]\n",
      "Train Loss: 5.8850, Train Accuracy: 0.0759\n",
      "Train Precision (micro): 0.0759, Train Precision (macro): 0.0079\n",
      "Train Recall (micro): 0.0759, Train Recall (macro): 0.0124\n",
      "Train F1 (micro): 0.0759, Train F1 (macro): 0.0075\n",
      "\n",
      "Val Loss: 5.9260, Val Accuracy: 0.0759\n",
      "Val Precision (micro): 0.0759, Val Precision (macro): 0.0078\n",
      "Val Recall (micro): 0.0759, Val Recall (macro): 0.0157\n",
      "Val F1 (micro): 0.0759, Val F1 (macro): 0.0089\n",
      "--------------------------------------------------------------------------------\n"
     ]
    },
    {
     "name": "stderr",
     "output_type": "stream",
     "text": [
      " 95%|█████████▍| 94595/100000 [55:40<02:00, 44.91it/s]"
     ]
    },
    {
     "name": "stdout",
     "output_type": "stream",
     "text": [
      "Epoch [94600/100000]\n",
      "Train Loss: 5.9282, Train Accuracy: 0.0744\n",
      "Train Precision (micro): 0.0744, Train Precision (macro): 0.0052\n",
      "Train Recall (micro): 0.0744, Train Recall (macro): 0.0105\n",
      "Train F1 (micro): 0.0744, Train F1 (macro): 0.0054\n",
      "\n",
      "Val Loss: 5.8825, Val Accuracy: 0.0794\n",
      "Val Precision (micro): 0.0794, Val Precision (macro): 0.0091\n",
      "Val Recall (micro): 0.0794, Val Recall (macro): 0.0176\n",
      "Val F1 (micro): 0.0794, Val F1 (macro): 0.0105\n",
      "--------------------------------------------------------------------------------\n"
     ]
    },
    {
     "name": "stderr",
     "output_type": "stream",
     "text": [
      " 95%|█████████▍| 94698/100000 [55:43<01:48, 48.92it/s]"
     ]
    },
    {
     "name": "stdout",
     "output_type": "stream",
     "text": [
      "Epoch [94700/100000]\n",
      "Train Loss: 5.8947, Train Accuracy: 0.0819\n",
      "Train Precision (micro): 0.0819, Train Precision (macro): 0.0066\n",
      "Train Recall (micro): 0.0819, Train Recall (macro): 0.0104\n",
      "Train F1 (micro): 0.0819, Train F1 (macro): 0.0059\n",
      "\n",
      "Val Loss: 5.9278, Val Accuracy: 0.0769\n",
      "Val Precision (micro): 0.0769, Val Precision (macro): 0.0092\n",
      "Val Recall (micro): 0.0769, Val Recall (macro): 0.0157\n",
      "Val F1 (micro): 0.0769, Val F1 (macro): 0.0095\n",
      "--------------------------------------------------------------------------------\n"
     ]
    },
    {
     "name": "stderr",
     "output_type": "stream",
     "text": [
      " 95%|█████████▍| 94799/100000 [55:47<01:44, 49.87it/s]"
     ]
    },
    {
     "name": "stdout",
     "output_type": "stream",
     "text": [
      "Epoch [94800/100000]\n",
      "Train Loss: 5.8427, Train Accuracy: 0.0852\n",
      "Train Precision (micro): 0.0852, Train Precision (macro): 0.0086\n",
      "Train Recall (micro): 0.0852, Train Recall (macro): 0.0119\n",
      "Train F1 (micro): 0.0852, Train F1 (macro): 0.0077\n",
      "\n",
      "Val Loss: 5.9074, Val Accuracy: 0.0797\n",
      "Val Precision (micro): 0.0797, Val Precision (macro): 0.0082\n",
      "Val Recall (micro): 0.0797, Val Recall (macro): 0.0173\n",
      "Val F1 (micro): 0.0797, Val F1 (macro): 0.0097\n",
      "--------------------------------------------------------------------------------\n"
     ]
    },
    {
     "name": "stderr",
     "output_type": "stream",
     "text": [
      " 95%|█████████▍| 94895/100000 [55:50<01:53, 45.14it/s]"
     ]
    },
    {
     "name": "stdout",
     "output_type": "stream",
     "text": [
      "Epoch [94900/100000]\n",
      "Train Loss: 5.8759, Train Accuracy: 0.0797\n",
      "Train Precision (micro): 0.0797, Train Precision (macro): 0.0061\n",
      "Train Recall (micro): 0.0797, Train Recall (macro): 0.0100\n",
      "Train F1 (micro): 0.0797, Train F1 (macro): 0.0061\n",
      "\n",
      "Val Loss: 5.9034, Val Accuracy: 0.0784\n",
      "Val Precision (micro): 0.0784, Val Precision (macro): 0.0067\n",
      "Val Recall (micro): 0.0784, Val Recall (macro): 0.0160\n",
      "Val F1 (micro): 0.0784, Val F1 (macro): 0.0083\n",
      "--------------------------------------------------------------------------------\n"
     ]
    },
    {
     "name": "stderr",
     "output_type": "stream",
     "text": [
      " 95%|█████████▍| 94998/100000 [55:54<01:50, 45.13it/s]"
     ]
    },
    {
     "name": "stdout",
     "output_type": "stream",
     "text": [
      "Epoch [95000/100000]\n",
      "Train Loss: 5.8841, Train Accuracy: 0.0842\n",
      "Train Precision (micro): 0.0842, Train Precision (macro): 0.0056\n",
      "Train Recall (micro): 0.0842, Train Recall (macro): 0.0113\n",
      "Train F1 (micro): 0.0842, Train F1 (macro): 0.0062\n",
      "\n",
      "Val Loss: 5.8803, Val Accuracy: 0.0800\n",
      "Val Precision (micro): 0.0800, Val Precision (macro): 0.0093\n",
      "Val Recall (micro): 0.0800, Val Recall (macro): 0.0177\n",
      "Val F1 (micro): 0.0800, Val F1 (macro): 0.0101\n",
      "--------------------------------------------------------------------------------\n"
     ]
    },
    {
     "name": "stderr",
     "output_type": "stream",
     "text": [
      " 95%|█████████▌| 95098/100000 [55:57<01:37, 50.07it/s]"
     ]
    },
    {
     "name": "stdout",
     "output_type": "stream",
     "text": [
      "Epoch [95100/100000]\n",
      "Train Loss: 5.9153, Train Accuracy: 0.0830\n",
      "Train Precision (micro): 0.0830, Train Precision (macro): 0.0059\n",
      "Train Recall (micro): 0.0830, Train Recall (macro): 0.0108\n",
      "Train F1 (micro): 0.0830, Train F1 (macro): 0.0063\n",
      "\n",
      "Val Loss: 5.8951, Val Accuracy: 0.0772\n",
      "Val Precision (micro): 0.0772, Val Precision (macro): 0.0082\n",
      "Val Recall (micro): 0.0772, Val Recall (macro): 0.0155\n",
      "Val F1 (micro): 0.0772, Val F1 (macro): 0.0087\n",
      "--------------------------------------------------------------------------------\n"
     ]
    },
    {
     "name": "stderr",
     "output_type": "stream",
     "text": [
      " 95%|█████████▌| 95195/100000 [56:01<01:44, 45.94it/s]"
     ]
    },
    {
     "name": "stdout",
     "output_type": "stream",
     "text": [
      "Epoch [95200/100000]\n",
      "Train Loss: 5.9314, Train Accuracy: 0.0791\n",
      "Train Precision (micro): 0.0791, Train Precision (macro): 0.0066\n",
      "Train Recall (micro): 0.0791, Train Recall (macro): 0.0117\n",
      "Train F1 (micro): 0.0791, Train F1 (macro): 0.0066\n",
      "\n",
      "Val Loss: 5.8903, Val Accuracy: 0.0803\n",
      "Val Precision (micro): 0.0803, Val Precision (macro): 0.0084\n",
      "Val Recall (micro): 0.0803, Val Recall (macro): 0.0167\n",
      "Val F1 (micro): 0.0803, Val F1 (macro): 0.0096\n",
      "--------------------------------------------------------------------------------\n"
     ]
    },
    {
     "name": "stderr",
     "output_type": "stream",
     "text": [
      " 95%|█████████▌| 95294/100000 [56:04<01:34, 49.66it/s]"
     ]
    },
    {
     "name": "stdout",
     "output_type": "stream",
     "text": [
      "Epoch [95300/100000]\n",
      "Train Loss: 5.9372, Train Accuracy: 0.0744\n",
      "Train Precision (micro): 0.0744, Train Precision (macro): 0.0061\n",
      "Train Recall (micro): 0.0744, Train Recall (macro): 0.0115\n",
      "Train F1 (micro): 0.0744, Train F1 (macro): 0.0065\n",
      "\n",
      "Val Loss: 5.8996, Val Accuracy: 0.0775\n",
      "Val Precision (micro): 0.0775, Val Precision (macro): 0.0083\n",
      "Val Recall (micro): 0.0775, Val Recall (macro): 0.0164\n",
      "Val F1 (micro): 0.0775, Val F1 (macro): 0.0091\n",
      "--------------------------------------------------------------------------------\n"
     ]
    },
    {
     "name": "stderr",
     "output_type": "stream",
     "text": [
      " 95%|█████████▌| 95396/100000 [56:07<01:35, 48.23it/s]"
     ]
    },
    {
     "name": "stdout",
     "output_type": "stream",
     "text": [
      "Epoch [95400/100000]\n",
      "Train Loss: 5.8996, Train Accuracy: 0.0753\n",
      "Train Precision (micro): 0.0753, Train Precision (macro): 0.0048\n",
      "Train Recall (micro): 0.0753, Train Recall (macro): 0.0087\n",
      "Train F1 (micro): 0.0753, Train F1 (macro): 0.0046\n",
      "\n",
      "Val Loss: 5.9098, Val Accuracy: 0.0788\n",
      "Val Precision (micro): 0.0788, Val Precision (macro): 0.0080\n",
      "Val Recall (micro): 0.0788, Val Recall (macro): 0.0160\n",
      "Val F1 (micro): 0.0788, Val F1 (macro): 0.0090\n",
      "--------------------------------------------------------------------------------\n"
     ]
    },
    {
     "name": "stderr",
     "output_type": "stream",
     "text": [
      " 95%|█████████▌| 95497/100000 [56:11<01:30, 49.80it/s]"
     ]
    },
    {
     "name": "stdout",
     "output_type": "stream",
     "text": [
      "Epoch [95500/100000]\n",
      "Train Loss: 5.8811, Train Accuracy: 0.0814\n",
      "Train Precision (micro): 0.0814, Train Precision (macro): 0.0077\n",
      "Train Recall (micro): 0.0814, Train Recall (macro): 0.0108\n",
      "Train F1 (micro): 0.0814, Train F1 (macro): 0.0070\n",
      "\n",
      "Val Loss: 5.9058, Val Accuracy: 0.0756\n",
      "Val Precision (micro): 0.0756, Val Precision (macro): 0.0096\n",
      "Val Recall (micro): 0.0756, Val Recall (macro): 0.0162\n",
      "Val F1 (micro): 0.0756, Val F1 (macro): 0.0100\n",
      "--------------------------------------------------------------------------------\n"
     ]
    },
    {
     "name": "stderr",
     "output_type": "stream",
     "text": [
      " 96%|█████████▌| 95597/100000 [56:15<01:29, 49.37it/s]"
     ]
    },
    {
     "name": "stdout",
     "output_type": "stream",
     "text": [
      "Epoch [95600/100000]\n",
      "Train Loss: 5.9320, Train Accuracy: 0.0803\n",
      "Train Precision (micro): 0.0803, Train Precision (macro): 0.0073\n",
      "Train Recall (micro): 0.0803, Train Recall (macro): 0.0107\n",
      "Train F1 (micro): 0.0803, Train F1 (macro): 0.0069\n",
      "\n",
      "Val Loss: 5.9047, Val Accuracy: 0.0772\n",
      "Val Precision (micro): 0.0772, Val Precision (macro): 0.0094\n",
      "Val Recall (micro): 0.0772, Val Recall (macro): 0.0166\n",
      "Val F1 (micro): 0.0772, Val F1 (macro): 0.0098\n",
      "--------------------------------------------------------------------------------\n"
     ]
    },
    {
     "name": "stderr",
     "output_type": "stream",
     "text": [
      " 96%|█████████▌| 95697/100000 [56:18<01:29, 48.09it/s]"
     ]
    },
    {
     "name": "stdout",
     "output_type": "stream",
     "text": [
      "Epoch [95700/100000]\n",
      "Train Loss: 5.8981, Train Accuracy: 0.0845\n",
      "Train Precision (micro): 0.0845, Train Precision (macro): 0.0057\n",
      "Train Recall (micro): 0.0845, Train Recall (macro): 0.0097\n",
      "Train F1 (micro): 0.0845, Train F1 (macro): 0.0055\n",
      "\n",
      "Val Loss: 5.9247, Val Accuracy: 0.0750\n",
      "Val Precision (micro): 0.0750, Val Precision (macro): 0.0079\n",
      "Val Recall (micro): 0.0750, Val Recall (macro): 0.0146\n",
      "Val F1 (micro): 0.0750, Val F1 (macro): 0.0082\n",
      "--------------------------------------------------------------------------------\n"
     ]
    },
    {
     "name": "stderr",
     "output_type": "stream",
     "text": [
      " 96%|█████████▌| 95798/100000 [56:22<01:26, 48.34it/s]"
     ]
    },
    {
     "name": "stdout",
     "output_type": "stream",
     "text": [
      "Epoch [95800/100000]\n",
      "Train Loss: 5.8196, Train Accuracy: 0.0778\n",
      "Train Precision (micro): 0.0778, Train Precision (macro): 0.0080\n",
      "Train Recall (micro): 0.0778, Train Recall (macro): 0.0124\n",
      "Train F1 (micro): 0.0778, Train F1 (macro): 0.0081\n",
      "\n",
      "Val Loss: 5.9283, Val Accuracy: 0.0756\n",
      "Val Precision (micro): 0.0756, Val Precision (macro): 0.0092\n",
      "Val Recall (micro): 0.0756, Val Recall (macro): 0.0160\n",
      "Val F1 (micro): 0.0756, Val F1 (macro): 0.0092\n",
      "--------------------------------------------------------------------------------\n"
     ]
    },
    {
     "name": "stderr",
     "output_type": "stream",
     "text": [
      " 96%|█████████▌| 95899/100000 [56:25<01:21, 50.32it/s]"
     ]
    },
    {
     "name": "stdout",
     "output_type": "stream",
     "text": [
      "Epoch [95900/100000]\n",
      "Train Loss: 5.9804, Train Accuracy: 0.0702\n",
      "Train Precision (micro): 0.0702, Train Precision (macro): 0.0049\n",
      "Train Recall (micro): 0.0702, Train Recall (macro): 0.0095\n",
      "Train F1 (micro): 0.0702, Train F1 (macro): 0.0052\n",
      "\n",
      "Val Loss: 5.9252, Val Accuracy: 0.0775\n",
      "Val Precision (micro): 0.0775, Val Precision (macro): 0.0080\n",
      "Val Recall (micro): 0.0775, Val Recall (macro): 0.0153\n",
      "Val F1 (micro): 0.0775, Val F1 (macro): 0.0088\n",
      "--------------------------------------------------------------------------------\n"
     ]
    },
    {
     "name": "stderr",
     "output_type": "stream",
     "text": [
      " 96%|█████████▌| 95996/100000 [56:28<01:21, 49.37it/s]"
     ]
    },
    {
     "name": "stdout",
     "output_type": "stream",
     "text": [
      "Epoch [96000/100000]\n",
      "Train Loss: 5.9377, Train Accuracy: 0.0795\n",
      "Train Precision (micro): 0.0795, Train Precision (macro): 0.0074\n",
      "Train Recall (micro): 0.0795, Train Recall (macro): 0.0115\n",
      "Train F1 (micro): 0.0795, Train F1 (macro): 0.0068\n",
      "\n",
      "Val Loss: 5.8863, Val Accuracy: 0.0809\n",
      "Val Precision (micro): 0.0809, Val Precision (macro): 0.0086\n",
      "Val Recall (micro): 0.0809, Val Recall (macro): 0.0158\n",
      "Val F1 (micro): 0.0809, Val F1 (macro): 0.0089\n",
      "--------------------------------------------------------------------------------\n"
     ]
    },
    {
     "name": "stderr",
     "output_type": "stream",
     "text": [
      " 96%|█████████▌| 96096/100000 [56:32<01:22, 47.47it/s]"
     ]
    },
    {
     "name": "stdout",
     "output_type": "stream",
     "text": [
      "Epoch [96100/100000]\n",
      "Train Loss: 5.9245, Train Accuracy: 0.0752\n",
      "Train Precision (micro): 0.0752, Train Precision (macro): 0.0066\n",
      "Train Recall (micro): 0.0752, Train Recall (macro): 0.0106\n",
      "Train F1 (micro): 0.0752, Train F1 (macro): 0.0065\n",
      "\n",
      "Val Loss: 5.9100, Val Accuracy: 0.0778\n",
      "Val Precision (micro): 0.0778, Val Precision (macro): 0.0080\n",
      "Val Recall (micro): 0.0778, Val Recall (macro): 0.0154\n",
      "Val F1 (micro): 0.0778, Val F1 (macro): 0.0090\n",
      "--------------------------------------------------------------------------------\n"
     ]
    },
    {
     "name": "stderr",
     "output_type": "stream",
     "text": [
      " 96%|█████████▌| 96197/100000 [56:35<01:16, 50.01it/s]"
     ]
    },
    {
     "name": "stdout",
     "output_type": "stream",
     "text": [
      "Epoch [96200/100000]\n",
      "Train Loss: 5.8930, Train Accuracy: 0.0878\n",
      "Train Precision (micro): 0.0878, Train Precision (macro): 0.0066\n",
      "Train Recall (micro): 0.0878, Train Recall (macro): 0.0114\n",
      "Train F1 (micro): 0.0878, Train F1 (macro): 0.0069\n",
      "\n",
      "Val Loss: 5.8955, Val Accuracy: 0.0809\n",
      "Val Precision (micro): 0.0809, Val Precision (macro): 0.0091\n",
      "Val Recall (micro): 0.0809, Val Recall (macro): 0.0169\n",
      "Val F1 (micro): 0.0809, Val F1 (macro): 0.0097\n",
      "--------------------------------------------------------------------------------\n"
     ]
    },
    {
     "name": "stderr",
     "output_type": "stream",
     "text": [
      " 96%|█████████▋| 96297/100000 [56:38<01:14, 49.64it/s]"
     ]
    },
    {
     "name": "stdout",
     "output_type": "stream",
     "text": [
      "Epoch [96300/100000]\n",
      "Train Loss: 5.9270, Train Accuracy: 0.0744\n",
      "Train Precision (micro): 0.0744, Train Precision (macro): 0.0061\n",
      "Train Recall (micro): 0.0744, Train Recall (macro): 0.0096\n",
      "Train F1 (micro): 0.0744, Train F1 (macro): 0.0056\n",
      "\n",
      "Val Loss: 5.8967, Val Accuracy: 0.0769\n",
      "Val Precision (micro): 0.0769, Val Precision (macro): 0.0089\n",
      "Val Recall (micro): 0.0769, Val Recall (macro): 0.0156\n",
      "Val F1 (micro): 0.0769, Val F1 (macro): 0.0094\n",
      "--------------------------------------------------------------------------------\n"
     ]
    },
    {
     "name": "stderr",
     "output_type": "stream",
     "text": [
      " 96%|█████████▋| 96397/100000 [56:42<01:14, 48.36it/s]"
     ]
    },
    {
     "name": "stdout",
     "output_type": "stream",
     "text": [
      "Epoch [96400/100000]\n",
      "Train Loss: 5.9133, Train Accuracy: 0.0858\n",
      "Train Precision (micro): 0.0858, Train Precision (macro): 0.0062\n",
      "Train Recall (micro): 0.0858, Train Recall (macro): 0.0087\n",
      "Train F1 (micro): 0.0858, Train F1 (macro): 0.0052\n",
      "\n",
      "Val Loss: 5.8950, Val Accuracy: 0.0819\n",
      "Val Precision (micro): 0.0819, Val Precision (macro): 0.0087\n",
      "Val Recall (micro): 0.0819, Val Recall (macro): 0.0164\n",
      "Val F1 (micro): 0.0819, Val F1 (macro): 0.0094\n",
      "--------------------------------------------------------------------------------\n"
     ]
    },
    {
     "name": "stderr",
     "output_type": "stream",
     "text": [
      " 96%|█████████▋| 96495/100000 [56:45<01:13, 47.89it/s]"
     ]
    },
    {
     "name": "stdout",
     "output_type": "stream",
     "text": [
      "Epoch [96500/100000]\n",
      "Train Loss: 5.9131, Train Accuracy: 0.0791\n",
      "Train Precision (micro): 0.0791, Train Precision (macro): 0.0045\n",
      "Train Recall (micro): 0.0791, Train Recall (macro): 0.0094\n",
      "Train F1 (micro): 0.0791, Train F1 (macro): 0.0054\n",
      "\n",
      "Val Loss: 5.9134, Val Accuracy: 0.0794\n",
      "Val Precision (micro): 0.0794, Val Precision (macro): 0.0093\n",
      "Val Recall (micro): 0.0794, Val Recall (macro): 0.0174\n",
      "Val F1 (micro): 0.0794, Val F1 (macro): 0.0106\n",
      "--------------------------------------------------------------------------------\n"
     ]
    },
    {
     "name": "stderr",
     "output_type": "stream",
     "text": [
      " 97%|█████████▋| 96599/100000 [56:49<01:09, 48.89it/s]"
     ]
    },
    {
     "name": "stdout",
     "output_type": "stream",
     "text": [
      "Epoch [96600/100000]\n",
      "Train Loss: 5.9218, Train Accuracy: 0.0781\n",
      "Train Precision (micro): 0.0781, Train Precision (macro): 0.0060\n",
      "Train Recall (micro): 0.0781, Train Recall (macro): 0.0100\n",
      "Train F1 (micro): 0.0781, Train F1 (macro): 0.0060\n",
      "\n",
      "Val Loss: 5.9626, Val Accuracy: 0.0750\n",
      "Val Precision (micro): 0.0750, Val Precision (macro): 0.0073\n",
      "Val Recall (micro): 0.0750, Val Recall (macro): 0.0152\n",
      "Val F1 (micro): 0.0750, Val F1 (macro): 0.0082\n",
      "--------------------------------------------------------------------------------\n"
     ]
    },
    {
     "name": "stderr",
     "output_type": "stream",
     "text": [
      " 97%|█████████▋| 96699/100000 [56:53<01:11, 46.15it/s]"
     ]
    },
    {
     "name": "stdout",
     "output_type": "stream",
     "text": [
      "Epoch [96700/100000]\n",
      "Train Loss: 5.9893, Train Accuracy: 0.0759\n",
      "Train Precision (micro): 0.0759, Train Precision (macro): 0.0078\n",
      "Train Recall (micro): 0.0759, Train Recall (macro): 0.0117\n",
      "Train F1 (micro): 0.0759, Train F1 (macro): 0.0076\n",
      "\n",
      "Val Loss: 5.8889, Val Accuracy: 0.0791\n",
      "Val Precision (micro): 0.0791, Val Precision (macro): 0.0082\n",
      "Val Recall (micro): 0.0791, Val Recall (macro): 0.0163\n",
      "Val F1 (micro): 0.0791, Val F1 (macro): 0.0090\n",
      "--------------------------------------------------------------------------------\n"
     ]
    },
    {
     "name": "stderr",
     "output_type": "stream",
     "text": [
      " 97%|█████████▋| 96797/100000 [56:56<01:07, 47.53it/s]"
     ]
    },
    {
     "name": "stdout",
     "output_type": "stream",
     "text": [
      "Epoch [96800/100000]\n",
      "Train Loss: 5.8849, Train Accuracy: 0.0828\n",
      "Train Precision (micro): 0.0828, Train Precision (macro): 0.0055\n",
      "Train Recall (micro): 0.0828, Train Recall (macro): 0.0096\n",
      "Train F1 (micro): 0.0828, Train F1 (macro): 0.0054\n",
      "\n",
      "Val Loss: 5.8878, Val Accuracy: 0.0800\n",
      "Val Precision (micro): 0.0800, Val Precision (macro): 0.0085\n",
      "Val Recall (micro): 0.0800, Val Recall (macro): 0.0160\n",
      "Val F1 (micro): 0.0800, Val F1 (macro): 0.0093\n",
      "--------------------------------------------------------------------------------\n"
     ]
    },
    {
     "name": "stderr",
     "output_type": "stream",
     "text": [
      " 97%|█████████▋| 96898/100000 [57:00<01:03, 48.85it/s]"
     ]
    },
    {
     "name": "stdout",
     "output_type": "stream",
     "text": [
      "Epoch [96900/100000]\n",
      "Train Loss: 5.9131, Train Accuracy: 0.0855\n",
      "Train Precision (micro): 0.0855, Train Precision (macro): 0.0061\n",
      "Train Recall (micro): 0.0855, Train Recall (macro): 0.0102\n",
      "Train F1 (micro): 0.0855, Train F1 (macro): 0.0060\n",
      "\n",
      "Val Loss: 5.8942, Val Accuracy: 0.0775\n",
      "Val Precision (micro): 0.0775, Val Precision (macro): 0.0090\n",
      "Val Recall (micro): 0.0775, Val Recall (macro): 0.0166\n",
      "Val F1 (micro): 0.0775, Val F1 (macro): 0.0099\n",
      "--------------------------------------------------------------------------------\n"
     ]
    },
    {
     "name": "stderr",
     "output_type": "stream",
     "text": [
      " 97%|█████████▋| 96999/100000 [57:03<01:09, 42.94it/s]"
     ]
    },
    {
     "name": "stdout",
     "output_type": "stream",
     "text": [
      "Epoch [97000/100000]\n",
      "Train Loss: 5.9361, Train Accuracy: 0.0766\n",
      "Train Precision (micro): 0.0766, Train Precision (macro): 0.0054\n",
      "Train Recall (micro): 0.0766, Train Recall (macro): 0.0093\n",
      "Train F1 (micro): 0.0766, Train F1 (macro): 0.0056\n",
      "\n",
      "Val Loss: 5.9101, Val Accuracy: 0.0747\n",
      "Val Precision (micro): 0.0747, Val Precision (macro): 0.0092\n",
      "Val Recall (micro): 0.0747, Val Recall (macro): 0.0155\n",
      "Val F1 (micro): 0.0747, Val F1 (macro): 0.0095\n",
      "--------------------------------------------------------------------------------\n"
     ]
    },
    {
     "name": "stderr",
     "output_type": "stream",
     "text": [
      " 97%|█████████▋| 97094/100000 [57:06<00:58, 49.76it/s]"
     ]
    },
    {
     "name": "stdout",
     "output_type": "stream",
     "text": [
      "Epoch [97100/100000]\n",
      "Train Loss: 5.8671, Train Accuracy: 0.0794\n",
      "Train Precision (micro): 0.0794, Train Precision (macro): 0.0067\n",
      "Train Recall (micro): 0.0794, Train Recall (macro): 0.0108\n",
      "Train F1 (micro): 0.0794, Train F1 (macro): 0.0069\n",
      "\n",
      "Val Loss: 5.8853, Val Accuracy: 0.0769\n",
      "Val Precision (micro): 0.0769, Val Precision (macro): 0.0081\n",
      "Val Recall (micro): 0.0769, Val Recall (macro): 0.0143\n",
      "Val F1 (micro): 0.0769, Val F1 (macro): 0.0082\n",
      "--------------------------------------------------------------------------------\n"
     ]
    },
    {
     "name": "stderr",
     "output_type": "stream",
     "text": [
      " 97%|█████████▋| 97196/100000 [57:10<01:03, 43.99it/s]"
     ]
    },
    {
     "name": "stdout",
     "output_type": "stream",
     "text": [
      "Epoch [97200/100000]\n",
      "Train Loss: 5.9208, Train Accuracy: 0.0797\n",
      "Train Precision (micro): 0.0797, Train Precision (macro): 0.0086\n",
      "Train Recall (micro): 0.0797, Train Recall (macro): 0.0111\n",
      "Train F1 (micro): 0.0797, Train F1 (macro): 0.0076\n",
      "\n",
      "Val Loss: 5.9007, Val Accuracy: 0.0766\n",
      "Val Precision (micro): 0.0766, Val Precision (macro): 0.0070\n",
      "Val Recall (micro): 0.0766, Val Recall (macro): 0.0143\n",
      "Val F1 (micro): 0.0766, Val F1 (macro): 0.0077\n",
      "--------------------------------------------------------------------------------\n"
     ]
    },
    {
     "name": "stderr",
     "output_type": "stream",
     "text": [
      " 97%|█████████▋| 97294/100000 [57:14<01:10, 38.53it/s]"
     ]
    },
    {
     "name": "stdout",
     "output_type": "stream",
     "text": [
      "Epoch [97300/100000]\n",
      "Train Loss: 5.8596, Train Accuracy: 0.0803\n",
      "Train Precision (micro): 0.0803, Train Precision (macro): 0.0076\n",
      "Train Recall (micro): 0.0803, Train Recall (macro): 0.0110\n",
      "Train F1 (micro): 0.0803, Train F1 (macro): 0.0067\n",
      "\n",
      "Val Loss: 5.9040, Val Accuracy: 0.0778\n",
      "Val Precision (micro): 0.0778, Val Precision (macro): 0.0090\n",
      "Val Recall (micro): 0.0778, Val Recall (macro): 0.0155\n",
      "Val F1 (micro): 0.0778, Val F1 (macro): 0.0095\n",
      "--------------------------------------------------------------------------------\n"
     ]
    },
    {
     "name": "stderr",
     "output_type": "stream",
     "text": [
      " 97%|█████████▋| 97396/100000 [57:18<00:52, 49.21it/s]"
     ]
    },
    {
     "name": "stdout",
     "output_type": "stream",
     "text": [
      "Epoch [97400/100000]\n",
      "Train Loss: 5.9428, Train Accuracy: 0.0734\n",
      "Train Precision (micro): 0.0734, Train Precision (macro): 0.0089\n",
      "Train Recall (micro): 0.0734, Train Recall (macro): 0.0124\n",
      "Train F1 (micro): 0.0734, Train F1 (macro): 0.0083\n",
      "\n",
      "Val Loss: 5.9132, Val Accuracy: 0.0788\n",
      "Val Precision (micro): 0.0788, Val Precision (macro): 0.0089\n",
      "Val Recall (micro): 0.0788, Val Recall (macro): 0.0166\n",
      "Val F1 (micro): 0.0788, Val F1 (macro): 0.0095\n",
      "--------------------------------------------------------------------------------\n"
     ]
    },
    {
     "name": "stderr",
     "output_type": "stream",
     "text": [
      " 97%|█████████▋| 97494/100000 [57:22<00:55, 44.96it/s]"
     ]
    },
    {
     "name": "stdout",
     "output_type": "stream",
     "text": [
      "Epoch [97500/100000]\n",
      "Train Loss: 5.8740, Train Accuracy: 0.0822\n",
      "Train Precision (micro): 0.0822, Train Precision (macro): 0.0078\n",
      "Train Recall (micro): 0.0822, Train Recall (macro): 0.0118\n",
      "Train F1 (micro): 0.0822, Train F1 (macro): 0.0073\n",
      "\n",
      "Val Loss: 5.9172, Val Accuracy: 0.0778\n",
      "Val Precision (micro): 0.0778, Val Precision (macro): 0.0089\n",
      "Val Recall (micro): 0.0778, Val Recall (macro): 0.0152\n",
      "Val F1 (micro): 0.0778, Val F1 (macro): 0.0092\n",
      "--------------------------------------------------------------------------------\n"
     ]
    },
    {
     "name": "stderr",
     "output_type": "stream",
     "text": [
      " 98%|█████████▊| 97595/100000 [57:26<00:51, 46.97it/s]"
     ]
    },
    {
     "name": "stdout",
     "output_type": "stream",
     "text": [
      "Epoch [97600/100000]\n",
      "Train Loss: 5.8830, Train Accuracy: 0.0861\n",
      "Train Precision (micro): 0.0861, Train Precision (macro): 0.0070\n",
      "Train Recall (micro): 0.0861, Train Recall (macro): 0.0116\n",
      "Train F1 (micro): 0.0861, Train F1 (macro): 0.0070\n",
      "\n",
      "Val Loss: 5.8991, Val Accuracy: 0.0800\n",
      "Val Precision (micro): 0.0800, Val Precision (macro): 0.0099\n",
      "Val Recall (micro): 0.0800, Val Recall (macro): 0.0170\n",
      "Val F1 (micro): 0.0800, Val F1 (macro): 0.0102\n",
      "--------------------------------------------------------------------------------\n"
     ]
    },
    {
     "name": "stderr",
     "output_type": "stream",
     "text": [
      " 98%|█████████▊| 97697/100000 [57:29<00:50, 45.38it/s]"
     ]
    },
    {
     "name": "stdout",
     "output_type": "stream",
     "text": [
      "Epoch [97700/100000]\n",
      "Train Loss: 5.9001, Train Accuracy: 0.0816\n",
      "Train Precision (micro): 0.0816, Train Precision (macro): 0.0062\n",
      "Train Recall (micro): 0.0816, Train Recall (macro): 0.0099\n",
      "Train F1 (micro): 0.0816, Train F1 (macro): 0.0056\n",
      "\n",
      "Val Loss: 5.9121, Val Accuracy: 0.0797\n",
      "Val Precision (micro): 0.0797, Val Precision (macro): 0.0082\n",
      "Val Recall (micro): 0.0797, Val Recall (macro): 0.0161\n",
      "Val F1 (micro): 0.0797, Val F1 (macro): 0.0088\n",
      "--------------------------------------------------------------------------------\n"
     ]
    },
    {
     "name": "stderr",
     "output_type": "stream",
     "text": [
      " 98%|█████████▊| 97795/100000 [57:33<00:44, 49.63it/s]"
     ]
    },
    {
     "name": "stdout",
     "output_type": "stream",
     "text": [
      "Epoch [97800/100000]\n",
      "Train Loss: 5.9224, Train Accuracy: 0.0750\n",
      "Train Precision (micro): 0.0750, Train Precision (macro): 0.0055\n",
      "Train Recall (micro): 0.0750, Train Recall (macro): 0.0085\n",
      "Train F1 (micro): 0.0750, Train F1 (macro): 0.0050\n",
      "\n",
      "Val Loss: 5.9006, Val Accuracy: 0.0788\n",
      "Val Precision (micro): 0.0788, Val Precision (macro): 0.0094\n",
      "Val Recall (micro): 0.0788, Val Recall (macro): 0.0157\n",
      "Val F1 (micro): 0.0788, Val F1 (macro): 0.0093\n",
      "--------------------------------------------------------------------------------\n"
     ]
    },
    {
     "name": "stderr",
     "output_type": "stream",
     "text": [
      " 98%|█████████▊| 97894/100000 [57:36<00:42, 49.81it/s]"
     ]
    },
    {
     "name": "stdout",
     "output_type": "stream",
     "text": [
      "Epoch [97900/100000]\n",
      "Train Loss: 5.8836, Train Accuracy: 0.0805\n",
      "Train Precision (micro): 0.0805, Train Precision (macro): 0.0061\n",
      "Train Recall (micro): 0.0805, Train Recall (macro): 0.0116\n",
      "Train F1 (micro): 0.0805, Train F1 (macro): 0.0065\n",
      "\n",
      "Val Loss: 5.9036, Val Accuracy: 0.0781\n",
      "Val Precision (micro): 0.0781, Val Precision (macro): 0.0081\n",
      "Val Recall (micro): 0.0781, Val Recall (macro): 0.0161\n",
      "Val F1 (micro): 0.0781, Val F1 (macro): 0.0089\n",
      "--------------------------------------------------------------------------------\n"
     ]
    },
    {
     "name": "stderr",
     "output_type": "stream",
     "text": [
      " 98%|█████████▊| 97995/100000 [57:40<00:41, 48.53it/s]"
     ]
    },
    {
     "name": "stdout",
     "output_type": "stream",
     "text": [
      "Epoch [98000/100000]\n",
      "Train Loss: 5.8850, Train Accuracy: 0.0783\n",
      "Train Precision (micro): 0.0783, Train Precision (macro): 0.0056\n",
      "Train Recall (micro): 0.0783, Train Recall (macro): 0.0115\n",
      "Train F1 (micro): 0.0783, Train F1 (macro): 0.0061\n",
      "\n",
      "Val Loss: 5.9405, Val Accuracy: 0.0756\n",
      "Val Precision (micro): 0.0756, Val Precision (macro): 0.0098\n",
      "Val Recall (micro): 0.0756, Val Recall (macro): 0.0147\n",
      "Val F1 (micro): 0.0756, Val F1 (macro): 0.0094\n",
      "--------------------------------------------------------------------------------\n"
     ]
    },
    {
     "name": "stderr",
     "output_type": "stream",
     "text": [
      " 98%|█████████▊| 98094/100000 [57:43<00:38, 50.08it/s]"
     ]
    },
    {
     "name": "stdout",
     "output_type": "stream",
     "text": [
      "Epoch [98100/100000]\n",
      "Train Loss: 5.8602, Train Accuracy: 0.0770\n",
      "Train Precision (micro): 0.0770, Train Precision (macro): 0.0072\n",
      "Train Recall (micro): 0.0770, Train Recall (macro): 0.0113\n",
      "Train F1 (micro): 0.0770, Train F1 (macro): 0.0070\n",
      "\n",
      "Val Loss: 5.9226, Val Accuracy: 0.0791\n",
      "Val Precision (micro): 0.0791, Val Precision (macro): 0.0069\n",
      "Val Recall (micro): 0.0791, Val Recall (macro): 0.0159\n",
      "Val F1 (micro): 0.0791, Val F1 (macro): 0.0085\n",
      "--------------------------------------------------------------------------------\n"
     ]
    },
    {
     "name": "stderr",
     "output_type": "stream",
     "text": [
      " 98%|█████████▊| 98199/100000 [57:46<00:38, 46.28it/s]"
     ]
    },
    {
     "name": "stdout",
     "output_type": "stream",
     "text": [
      "Epoch [98200/100000]\n",
      "Train Loss: 5.8798, Train Accuracy: 0.0797\n",
      "Train Precision (micro): 0.0797, Train Precision (macro): 0.0067\n",
      "Train Recall (micro): 0.0797, Train Recall (macro): 0.0094\n",
      "Train F1 (micro): 0.0797, Train F1 (macro): 0.0058\n",
      "\n",
      "Val Loss: 5.8956, Val Accuracy: 0.0834\n",
      "Val Precision (micro): 0.0834, Val Precision (macro): 0.0098\n",
      "Val Recall (micro): 0.0834, Val Recall (macro): 0.0189\n",
      "Val F1 (micro): 0.0834, Val F1 (macro): 0.0108\n",
      "--------------------------------------------------------------------------------\n"
     ]
    },
    {
     "name": "stderr",
     "output_type": "stream",
     "text": [
      " 98%|█████████▊| 98297/100000 [57:50<00:34, 49.30it/s]"
     ]
    },
    {
     "name": "stdout",
     "output_type": "stream",
     "text": [
      "Epoch [98300/100000]\n",
      "Train Loss: 5.9653, Train Accuracy: 0.0717\n",
      "Train Precision (micro): 0.0717, Train Precision (macro): 0.0036\n",
      "Train Recall (micro): 0.0717, Train Recall (macro): 0.0076\n",
      "Train F1 (micro): 0.0717, Train F1 (macro): 0.0036\n",
      "\n",
      "Val Loss: 5.8987, Val Accuracy: 0.0816\n",
      "Val Precision (micro): 0.0816, Val Precision (macro): 0.0078\n",
      "Val Recall (micro): 0.0816, Val Recall (macro): 0.0162\n",
      "Val F1 (micro): 0.0816, Val F1 (macro): 0.0090\n",
      "--------------------------------------------------------------------------------\n"
     ]
    },
    {
     "name": "stderr",
     "output_type": "stream",
     "text": [
      " 98%|█████████▊| 98395/100000 [57:53<00:35, 45.70it/s]"
     ]
    },
    {
     "name": "stdout",
     "output_type": "stream",
     "text": [
      "Epoch [98400/100000]\n",
      "Train Loss: 5.9482, Train Accuracy: 0.0813\n",
      "Train Precision (micro): 0.0813, Train Precision (macro): 0.0058\n",
      "Train Recall (micro): 0.0813, Train Recall (macro): 0.0112\n",
      "Train F1 (micro): 0.0813, Train F1 (macro): 0.0065\n",
      "\n",
      "Val Loss: 5.9042, Val Accuracy: 0.0778\n",
      "Val Precision (micro): 0.0778, Val Precision (macro): 0.0098\n",
      "Val Recall (micro): 0.0778, Val Recall (macro): 0.0164\n",
      "Val F1 (micro): 0.0778, Val F1 (macro): 0.0093\n",
      "--------------------------------------------------------------------------------\n"
     ]
    },
    {
     "name": "stderr",
     "output_type": "stream",
     "text": [
      " 98%|█████████▊| 98498/100000 [57:57<00:31, 47.45it/s]"
     ]
    },
    {
     "name": "stdout",
     "output_type": "stream",
     "text": [
      "Epoch [98500/100000]\n",
      "Train Loss: 5.9631, Train Accuracy: 0.0784\n",
      "Train Precision (micro): 0.0784, Train Precision (macro): 0.0060\n",
      "Train Recall (micro): 0.0784, Train Recall (macro): 0.0107\n",
      "Train F1 (micro): 0.0784, Train F1 (macro): 0.0060\n",
      "\n",
      "Val Loss: 5.9048, Val Accuracy: 0.0775\n",
      "Val Precision (micro): 0.0775, Val Precision (macro): 0.0088\n",
      "Val Recall (micro): 0.0775, Val Recall (macro): 0.0175\n",
      "Val F1 (micro): 0.0775, Val F1 (macro): 0.0095\n",
      "--------------------------------------------------------------------------------\n"
     ]
    },
    {
     "name": "stderr",
     "output_type": "stream",
     "text": [
      " 99%|█████████▊| 98595/100000 [58:00<00:31, 44.50it/s]"
     ]
    },
    {
     "name": "stdout",
     "output_type": "stream",
     "text": [
      "Epoch [98600/100000]\n",
      "Train Loss: 5.9864, Train Accuracy: 0.0759\n",
      "Train Precision (micro): 0.0759, Train Precision (macro): 0.0080\n",
      "Train Recall (micro): 0.0759, Train Recall (macro): 0.0116\n",
      "Train F1 (micro): 0.0759, Train F1 (macro): 0.0076\n",
      "\n",
      "Val Loss: 5.9042, Val Accuracy: 0.0778\n",
      "Val Precision (micro): 0.0778, Val Precision (macro): 0.0083\n",
      "Val Recall (micro): 0.0778, Val Recall (macro): 0.0162\n",
      "Val F1 (micro): 0.0778, Val F1 (macro): 0.0088\n",
      "--------------------------------------------------------------------------------\n"
     ]
    },
    {
     "name": "stderr",
     "output_type": "stream",
     "text": [
      " 99%|█████████▊| 98697/100000 [58:04<00:25, 50.12it/s]"
     ]
    },
    {
     "name": "stdout",
     "output_type": "stream",
     "text": [
      "Epoch [98700/100000]\n",
      "Train Loss: 5.9442, Train Accuracy: 0.0759\n",
      "Train Precision (micro): 0.0759, Train Precision (macro): 0.0080\n",
      "Train Recall (micro): 0.0759, Train Recall (macro): 0.0116\n",
      "Train F1 (micro): 0.0759, Train F1 (macro): 0.0076\n",
      "\n",
      "Val Loss: 5.9007, Val Accuracy: 0.0788\n",
      "Val Precision (micro): 0.0788, Val Precision (macro): 0.0096\n",
      "Val Recall (micro): 0.0788, Val Recall (macro): 0.0171\n",
      "Val F1 (micro): 0.0788, Val F1 (macro): 0.0100\n",
      "--------------------------------------------------------------------------------\n"
     ]
    },
    {
     "name": "stderr",
     "output_type": "stream",
     "text": [
      " 99%|█████████▉| 98799/100000 [58:07<00:27, 44.09it/s]"
     ]
    },
    {
     "name": "stdout",
     "output_type": "stream",
     "text": [
      "Epoch [98800/100000]\n",
      "Train Loss: 5.9335, Train Accuracy: 0.0742\n",
      "Train Precision (micro): 0.0742, Train Precision (macro): 0.0076\n",
      "Train Recall (micro): 0.0742, Train Recall (macro): 0.0113\n",
      "Train F1 (micro): 0.0742, Train F1 (macro): 0.0070\n",
      "\n",
      "Val Loss: 5.9100, Val Accuracy: 0.0794\n",
      "Val Precision (micro): 0.0794, Val Precision (macro): 0.0104\n",
      "Val Recall (micro): 0.0794, Val Recall (macro): 0.0182\n",
      "Val F1 (micro): 0.0794, Val F1 (macro): 0.0109\n",
      "--------------------------------------------------------------------------------\n"
     ]
    },
    {
     "name": "stderr",
     "output_type": "stream",
     "text": [
      " 99%|█████████▉| 98896/100000 [58:11<00:22, 49.73it/s]"
     ]
    },
    {
     "name": "stdout",
     "output_type": "stream",
     "text": [
      "Epoch [98900/100000]\n",
      "Train Loss: 5.8990, Train Accuracy: 0.0803\n",
      "Train Precision (micro): 0.0803, Train Precision (macro): 0.0072\n",
      "Train Recall (micro): 0.0803, Train Recall (macro): 0.0106\n",
      "Train F1 (micro): 0.0803, Train F1 (macro): 0.0065\n",
      "\n",
      "Val Loss: 5.9372, Val Accuracy: 0.0766\n",
      "Val Precision (micro): 0.0766, Val Precision (macro): 0.0081\n",
      "Val Recall (micro): 0.0766, Val Recall (macro): 0.0163\n",
      "Val F1 (micro): 0.0766, Val F1 (macro): 0.0089\n",
      "--------------------------------------------------------------------------------\n"
     ]
    },
    {
     "name": "stderr",
     "output_type": "stream",
     "text": [
      " 99%|█████████▉| 98996/100000 [58:15<00:20, 47.98it/s]"
     ]
    },
    {
     "name": "stdout",
     "output_type": "stream",
     "text": [
      "Epoch [99000/100000]\n",
      "Train Loss: 5.9250, Train Accuracy: 0.0847\n",
      "Train Precision (micro): 0.0847, Train Precision (macro): 0.0075\n",
      "Train Recall (micro): 0.0847, Train Recall (macro): 0.0119\n",
      "Train F1 (micro): 0.0847, Train F1 (macro): 0.0074\n",
      "\n",
      "Val Loss: 5.9173, Val Accuracy: 0.0762\n",
      "Val Precision (micro): 0.0762, Val Precision (macro): 0.0080\n",
      "Val Recall (micro): 0.0762, Val Recall (macro): 0.0162\n",
      "Val F1 (micro): 0.0762, Val F1 (macro): 0.0089\n",
      "--------------------------------------------------------------------------------\n"
     ]
    },
    {
     "name": "stderr",
     "output_type": "stream",
     "text": [
      " 99%|█████████▉| 99095/100000 [58:18<00:19, 47.63it/s]"
     ]
    },
    {
     "name": "stdout",
     "output_type": "stream",
     "text": [
      "Epoch [99100/100000]\n",
      "Train Loss: 5.9306, Train Accuracy: 0.0809\n",
      "Train Precision (micro): 0.0809, Train Precision (macro): 0.0054\n",
      "Train Recall (micro): 0.0809, Train Recall (macro): 0.0092\n",
      "Train F1 (micro): 0.0809, Train F1 (macro): 0.0053\n",
      "\n",
      "Val Loss: 5.9064, Val Accuracy: 0.0781\n",
      "Val Precision (micro): 0.0781, Val Precision (macro): 0.0089\n",
      "Val Recall (micro): 0.0781, Val Recall (macro): 0.0162\n",
      "Val F1 (micro): 0.0781, Val F1 (macro): 0.0098\n",
      "--------------------------------------------------------------------------------\n"
     ]
    },
    {
     "name": "stderr",
     "output_type": "stream",
     "text": [
      " 99%|█████████▉| 99199/100000 [58:23<00:17, 45.75it/s]"
     ]
    },
    {
     "name": "stdout",
     "output_type": "stream",
     "text": [
      "Epoch [99200/100000]\n",
      "Train Loss: 5.9751, Train Accuracy: 0.0816\n",
      "Train Precision (micro): 0.0816, Train Precision (macro): 0.0071\n",
      "Train Recall (micro): 0.0816, Train Recall (macro): 0.0122\n",
      "Train F1 (micro): 0.0816, Train F1 (macro): 0.0076\n",
      "\n",
      "Val Loss: 5.9242, Val Accuracy: 0.0788\n",
      "Val Precision (micro): 0.0788, Val Precision (macro): 0.0068\n",
      "Val Recall (micro): 0.0788, Val Recall (macro): 0.0146\n",
      "Val F1 (micro): 0.0788, Val F1 (macro): 0.0075\n",
      "--------------------------------------------------------------------------------\n"
     ]
    },
    {
     "name": "stderr",
     "output_type": "stream",
     "text": [
      " 99%|█████████▉| 99297/100000 [58:26<00:14, 50.05it/s]"
     ]
    },
    {
     "name": "stdout",
     "output_type": "stream",
     "text": [
      "Epoch [99300/100000]\n",
      "Train Loss: 5.8583, Train Accuracy: 0.0830\n",
      "Train Precision (micro): 0.0830, Train Precision (macro): 0.0090\n",
      "Train Recall (micro): 0.0830, Train Recall (macro): 0.0121\n",
      "Train F1 (micro): 0.0830, Train F1 (macro): 0.0081\n",
      "\n",
      "Val Loss: 5.9179, Val Accuracy: 0.0784\n",
      "Val Precision (micro): 0.0784, Val Precision (macro): 0.0078\n",
      "Val Recall (micro): 0.0784, Val Recall (macro): 0.0169\n",
      "Val F1 (micro): 0.0784, Val F1 (macro): 0.0092\n",
      "--------------------------------------------------------------------------------\n"
     ]
    },
    {
     "name": "stderr",
     "output_type": "stream",
     "text": [
      " 99%|█████████▉| 99397/100000 [58:30<00:12, 49.76it/s]"
     ]
    },
    {
     "name": "stdout",
     "output_type": "stream",
     "text": [
      "Epoch [99400/100000]\n",
      "Train Loss: 5.9585, Train Accuracy: 0.0739\n",
      "Train Precision (micro): 0.0739, Train Precision (macro): 0.0052\n",
      "Train Recall (micro): 0.0739, Train Recall (macro): 0.0080\n",
      "Train F1 (micro): 0.0739, Train F1 (macro): 0.0044\n",
      "\n",
      "Val Loss: 5.9182, Val Accuracy: 0.0775\n",
      "Val Precision (micro): 0.0775, Val Precision (macro): 0.0095\n",
      "Val Recall (micro): 0.0775, Val Recall (macro): 0.0162\n",
      "Val F1 (micro): 0.0775, Val F1 (macro): 0.0097\n",
      "--------------------------------------------------------------------------------\n"
     ]
    },
    {
     "name": "stderr",
     "output_type": "stream",
     "text": [
      " 99%|█████████▉| 99494/100000 [58:33<00:10, 49.62it/s]"
     ]
    },
    {
     "name": "stdout",
     "output_type": "stream",
     "text": [
      "Epoch [99500/100000]\n",
      "Train Loss: 5.9058, Train Accuracy: 0.0742\n",
      "Train Precision (micro): 0.0742, Train Precision (macro): 0.0053\n",
      "Train Recall (micro): 0.0742, Train Recall (macro): 0.0098\n",
      "Train F1 (micro): 0.0742, Train F1 (macro): 0.0050\n",
      "\n",
      "Val Loss: 5.9082, Val Accuracy: 0.0809\n",
      "Val Precision (micro): 0.0809, Val Precision (macro): 0.0090\n",
      "Val Recall (micro): 0.0809, Val Recall (macro): 0.0166\n",
      "Val F1 (micro): 0.0809, Val F1 (macro): 0.0096\n",
      "--------------------------------------------------------------------------------\n"
     ]
    },
    {
     "name": "stderr",
     "output_type": "stream",
     "text": [
      "100%|█████████▉| 99597/100000 [58:37<00:08, 45.81it/s]"
     ]
    },
    {
     "name": "stdout",
     "output_type": "stream",
     "text": [
      "Epoch [99600/100000]\n",
      "Train Loss: 5.9221, Train Accuracy: 0.0811\n",
      "Train Precision (micro): 0.0811, Train Precision (macro): 0.0062\n",
      "Train Recall (micro): 0.0811, Train Recall (macro): 0.0102\n",
      "Train F1 (micro): 0.0811, Train F1 (macro): 0.0062\n",
      "\n",
      "Val Loss: 5.9236, Val Accuracy: 0.0778\n",
      "Val Precision (micro): 0.0778, Val Precision (macro): 0.0078\n",
      "Val Recall (micro): 0.0778, Val Recall (macro): 0.0154\n",
      "Val F1 (micro): 0.0778, Val F1 (macro): 0.0087\n",
      "--------------------------------------------------------------------------------\n"
     ]
    },
    {
     "name": "stderr",
     "output_type": "stream",
     "text": [
      "100%|█████████▉| 99697/100000 [58:40<00:06, 48.81it/s]"
     ]
    },
    {
     "name": "stdout",
     "output_type": "stream",
     "text": [
      "Epoch [99700/100000]\n",
      "Train Loss: 5.8768, Train Accuracy: 0.0808\n",
      "Train Precision (micro): 0.0808, Train Precision (macro): 0.0080\n",
      "Train Recall (micro): 0.0808, Train Recall (macro): 0.0123\n",
      "Train F1 (micro): 0.0808, Train F1 (macro): 0.0077\n",
      "\n",
      "Val Loss: 5.9088, Val Accuracy: 0.0769\n",
      "Val Precision (micro): 0.0769, Val Precision (macro): 0.0085\n",
      "Val Recall (micro): 0.0769, Val Recall (macro): 0.0153\n",
      "Val F1 (micro): 0.0769, Val F1 (macro): 0.0094\n",
      "--------------------------------------------------------------------------------\n"
     ]
    },
    {
     "name": "stderr",
     "output_type": "stream",
     "text": [
      "100%|█████████▉| 99797/100000 [58:45<00:04, 43.64it/s]"
     ]
    },
    {
     "name": "stdout",
     "output_type": "stream",
     "text": [
      "Epoch [99800/100000]\n",
      "Train Loss: 5.9391, Train Accuracy: 0.0834\n",
      "Train Precision (micro): 0.0834, Train Precision (macro): 0.0089\n",
      "Train Recall (micro): 0.0834, Train Recall (macro): 0.0132\n",
      "Train F1 (micro): 0.0834, Train F1 (macro): 0.0084\n",
      "\n",
      "Val Loss: 5.9098, Val Accuracy: 0.0772\n",
      "Val Precision (micro): 0.0772, Val Precision (macro): 0.0084\n",
      "Val Recall (micro): 0.0772, Val Recall (macro): 0.0155\n",
      "Val F1 (micro): 0.0772, Val F1 (macro): 0.0089\n",
      "--------------------------------------------------------------------------------\n"
     ]
    },
    {
     "name": "stderr",
     "output_type": "stream",
     "text": [
      "100%|█████████▉| 99896/100000 [58:48<00:02, 48.55it/s]"
     ]
    },
    {
     "name": "stdout",
     "output_type": "stream",
     "text": [
      "Epoch [99900/100000]\n",
      "Train Loss: 5.8850, Train Accuracy: 0.0855\n",
      "Train Precision (micro): 0.0855, Train Precision (macro): 0.0093\n",
      "Train Recall (micro): 0.0855, Train Recall (macro): 0.0136\n",
      "Train F1 (micro): 0.0855, Train F1 (macro): 0.0087\n",
      "\n",
      "Val Loss: 5.9408, Val Accuracy: 0.0744\n",
      "Val Precision (micro): 0.0744, Val Precision (macro): 0.0083\n",
      "Val Recall (micro): 0.0744, Val Recall (macro): 0.0130\n",
      "Val F1 (micro): 0.0744, Val F1 (macro): 0.0074\n",
      "--------------------------------------------------------------------------------\n"
     ]
    },
    {
     "name": "stderr",
     "output_type": "stream",
     "text": [
      "100%|█████████▉| 99999/100000 [58:52<00:00, 48.83it/s]"
     ]
    },
    {
     "name": "stdout",
     "output_type": "stream",
     "text": [
      "Epoch [100000/100000]\n",
      "Train Loss: 5.9066, Train Accuracy: 0.0786\n",
      "Train Precision (micro): 0.0786, Train Precision (macro): 0.0052\n",
      "Train Recall (micro): 0.0786, Train Recall (macro): 0.0096\n",
      "Train F1 (micro): 0.0786, Train F1 (macro): 0.0055\n",
      "\n",
      "Val Loss: 5.9248, Val Accuracy: 0.0766\n",
      "Val Precision (micro): 0.0766, Val Precision (macro): 0.0079\n",
      "Val Recall (micro): 0.0766, Val Recall (macro): 0.0134\n",
      "Val F1 (micro): 0.0766, Val F1 (macro): 0.0080\n",
      "--------------------------------------------------------------------------------\n"
     ]
    },
    {
     "name": "stderr",
     "output_type": "stream",
     "text": [
      "100%|██████████| 100000/100000 [58:53<00:00, 28.30it/s]\n"
     ]
    },
    {
     "data": {
      "text/html": [
       "\n",
       "    <style>\n",
       "        .wandb-row {\n",
       "            display: flex;\n",
       "            flex-direction: row;\n",
       "            flex-wrap: wrap;\n",
       "            justify-content: flex-start;\n",
       "            width: 100%;\n",
       "        }\n",
       "        .wandb-col {\n",
       "            display: flex;\n",
       "            flex-direction: column;\n",
       "            flex-basis: 100%;\n",
       "            flex: 1;\n",
       "            padding: 10px;\n",
       "        }\n",
       "    </style>\n",
       "<div class=\"wandb-row\"><div class=\"wandb-col\"><h3>Run history:</h3><br/><table class=\"wandb\"><tr><td>epoch</td><td>▁▁▁▁▁▂▂▂▂▂▂▃▃▃▃▃▃▃▃▄▄▄▄▄▄▅▅▅▆▆▆▆▆▆▆▇▇▇██</td></tr><tr><td>lr</td><td>▂▅▁▃█▁████▆▅▄▄▃▂▂▁███▇▇▇▇▆▅▅▅▄▂▂▁▁█████▇</td></tr><tr><td>train_accuracy</td><td>▁▃▄▆▅▅▄▆▅▆▆▅▃▅▅▆▆▇██▆▆▆▅▇▇▆▆▅▆▆▇▆██▇▆▅█▇</td></tr><tr><td>train_f1_macro</td><td>▁▂▃▃▃▅▆▅▅▅▆▆▇▅▆▆▆▇▅▆▆▇▅▆▆█▆▆▇▇▇▆▇▆▆▇▇▆▇▆</td></tr><tr><td>train_f1_micro</td><td>▁▄▆▆█▇▇█▇▇█▇█▇█▇▇▇█▇█▇▇▆█▇███▇███▇██▇▇██</td></tr><tr><td>train_loss</td><td>█▄▂▂▂▂▂▂▂▂▂▂▂▂▂▂▂▂▁▂▂▂▁▂▂▁▂▁▁▁▁▁▂▁▂▂▂▂▂▂</td></tr><tr><td>train_precision_macro</td><td>▁▂▃▄▅▇▃▄▆▄▄▇▅▅▆▄▄▅▃▄▇▄▅▄▆▆▇▆▇▇▅█▆▆▆▇▅▅██</td></tr><tr><td>train_precision_micro</td><td>▁▃▄▅▇▇▆▇▆▇▇▇▇▇▆▆▇█▇█▇▇▆▆▇▇▇█▇▇▇▇▇▇▇▇▇▇▆▆</td></tr><tr><td>train_recall_macro</td><td>▁▃▃▄▄▅▆▆▅▆▅▅▆▅▆▅▆▅▅▆▆▇▅▆▆▆▆▆▇▆▇▆▆█▇▆▆▅▅▇</td></tr><tr><td>train_recall_micro</td><td>▁▆▅▄▅▇▆▇▆▇▆▇█▇▆▇█▆▇▇▇▇▆▆▆▆▇▇█▆▇█▇▇▇▆▇▇▇█</td></tr><tr><td>val_accuracy</td><td>▁▃▂▄▅▆▅▆▅▇▇▆▆█▇▇▇█▇▇▆▆▆▆▆▇█▆▇▆▇▇▆▇▆███▆▆</td></tr><tr><td>val_f1_macro</td><td>▁▃▄▄▅▆▅▅▆▆▇▆▆▇▆▇▇▇▇▇▇▇▇█▇▇▇▇▇▇█▆▆▇▆██▇██</td></tr><tr><td>val_f1_micro</td><td>▁▅▅▆▇▇█████████▇▇▇▇▇▇▇▇█▇█████▇██▇█▇▇▇▇▇</td></tr><tr><td>val_loss</td><td>█▂▂▂▂▂▁▁▁▁▁▁▁▁▁▁▁▁▁▁▁▁▁▁▁▁▁▁▁▁▁▁▁▁▁▁▁▁▁▁</td></tr><tr><td>val_precision_macro</td><td>▁▂▄▄▄▆▅▆▆▆▆▇▆▇▇▆▆▇▆▇█▇▆▇█▆▇██▆▇▇█████▇█▇</td></tr><tr><td>val_precision_micro</td><td>▁▂▄▄▆▇▇▇▇▇██▇▇█████▇██▇▇▇█████▇████▇▇▇▇▇</td></tr><tr><td>val_recall_macro</td><td>▁▂▂▃▃▅▆▆▆▇▇▇▇▇▆▆▇▇▇█▇▇▆▇█▇▇▇█▇▇▇▇▆▇▇▇▇▇▇</td></tr><tr><td>val_recall_micro</td><td>▁▂▅▅▆▇▇▇█▇▇▇█▇██████▇██▇▇██▇███████▇▇▇▇▇</td></tr></table><br/></div><div class=\"wandb-col\"><h3>Run summary:</h3><br/><table class=\"wandb\"><tr><td>epoch</td><td>100000</td></tr><tr><td>lr</td><td>0.00089</td></tr><tr><td>train_accuracy</td><td>0.07859</td></tr><tr><td>train_f1_macro</td><td>0.00547</td></tr><tr><td>train_f1_micro</td><td>0.07859</td></tr><tr><td>train_loss</td><td>5.90663</td></tr><tr><td>train_precision_macro</td><td>0.00519</td></tr><tr><td>train_precision_micro</td><td>0.07859</td></tr><tr><td>train_recall_macro</td><td>0.00958</td></tr><tr><td>train_recall_micro</td><td>0.07859</td></tr><tr><td>val_accuracy</td><td>0.07656</td></tr><tr><td>val_f1_macro</td><td>0.00795</td></tr><tr><td>val_f1_micro</td><td>0.07656</td></tr><tr><td>val_loss</td><td>5.92484</td></tr><tr><td>val_precision_macro</td><td>0.00785</td></tr><tr><td>val_precision_micro</td><td>0.07656</td></tr><tr><td>val_recall_macro</td><td>0.0134</td></tr><tr><td>val_recall_micro</td><td>0.07656</td></tr></table><br/></div></div>"
      ],
      "text/plain": [
       "<IPython.core.display.HTML object>"
      ]
     },
     "metadata": {},
     "output_type": "display_data"
    },
    {
     "data": {
      "text/html": [
       " View run <strong style=\"color:#cdcd00\">lemon-frost-1</strong> at: <a href='https://wandb.ai/alireza_noroozi/FNN%20last%20level/runs/7p03ti2r' target=\"_blank\">https://wandb.ai/alireza_noroozi/FNN%20last%20level/runs/7p03ti2r</a><br/> View project at: <a href='https://wandb.ai/alireza_noroozi/FNN%20last%20level' target=\"_blank\">https://wandb.ai/alireza_noroozi/FNN%20last%20level</a><br/>Synced 4 W&B file(s), 0 media file(s), 3 artifact file(s) and 0 other file(s)"
      ],
      "text/plain": [
       "<IPython.core.display.HTML object>"
      ]
     },
     "metadata": {},
     "output_type": "display_data"
    },
    {
     "data": {
      "text/html": [
       "Find logs at: <code>./wandb/run-20241121_064104-7p03ti2r/logs</code>"
      ],
      "text/plain": [
       "<IPython.core.display.HTML object>"
      ]
     },
     "metadata": {},
     "output_type": "display_data"
    }
   ],
   "source": [
    "running_loss = 0\n",
    "train_preds = []\n",
    "train_labels = []\n",
    "current_lr = lr\n",
    "\n",
    "for epoch in tqdm(range(epochs)):\n",
    "    model.train()\n",
    "\n",
    "    tensor_batch = data_to_tensor_batch(da.get_batch())\n",
    "    tensor_batch.gpu(device)\n",
    "    \n",
    "    labels = tensor_batch.taxes\n",
    "    outputs = model(tensor_batch.seq_ids)\n",
    "    loss = criterion(outputs, labels)\n",
    "    \n",
    "    optimizer.zero_grad()\n",
    "    loss.backward()\n",
    "    optimizer.step()\n",
    "    \n",
    "    running_loss += loss.item()\n",
    "    \n",
    "    preds = torch.argmax(outputs, dim=1)\n",
    "    \n",
    "    train_preds.append(preds.cpu())\n",
    "    train_labels.append(labels.cpu())\n",
    "    \n",
    "    if (epoch + 1) % val_epoch == 0:\n",
    "        # Calculate training metrics\n",
    "        train_metrics = compute_metrics(train_labels, train_preds, running_loss, val_epoch)\n",
    "\n",
    "        print(f\"Epoch [{epoch + 1}/{epochs}]\")\n",
    "        # Training metrics\n",
    "        print(f\"Train Loss: {train_metrics['loss']:.4f}, Train Accuracy: {train_metrics['accuracy']:.4f}\")\n",
    "        print(f\"Train Precision (micro): {train_metrics['precision_micro']:.4f}, Train Precision (macro): {train_metrics['precision_macro']:.4f}\")\n",
    "        print(f\"Train Recall (micro): {train_metrics['recall_micro']:.4f}, Train Recall (macro): {train_metrics['recall_macro']:.4f}\")\n",
    "        print(f\"Train F1 (micro): {train_metrics['f1_micro']:.4f}, Train F1 (macro): {train_metrics['f1_macro']:.4f}\")\n",
    "        # print(\"Train Confusion Matrix:\")\n",
    "        # print(train_metrics['confusion_matrix'])\n",
    "\n",
    "        print()\n",
    "        val_metrics = evaluate()\n",
    "        \n",
    "        # Validation metrics\n",
    "        print(f\"Val Loss: {val_metrics['loss']:.4f}, Val Accuracy: {val_metrics['accuracy']:.4f}\")\n",
    "        print(f\"Val Precision (micro): {val_metrics['precision_micro']:.4f}, Val Precision (macro): {val_metrics['precision_macro']:.4f}\")\n",
    "        print(f\"Val Recall (micro): {val_metrics['recall_micro']:.4f}, Val Recall (macro): {val_metrics['recall_macro']:.4f}\")\n",
    "        print(f\"Val F1 (micro): {val_metrics['f1_micro']:.4f}, Val F1 (macro): {val_metrics['f1_macro']:.4f}\")\n",
    "        # print(\"Val Confusion Matrix:\")\n",
    "        # print(val_metrics['confusion_matrix'])\n",
    "        print(\"-\" * 80)  # Separator\n",
    "        \n",
    "        metrics = {\n",
    "            # Training metrics\n",
    "            \"train_loss\": train_metrics['loss'],\n",
    "            \"train_accuracy\": train_metrics['accuracy'],\n",
    "            \"train_precision_micro\": train_metrics['precision_micro'],\n",
    "            \"train_precision_macro\": train_metrics['precision_macro'],\n",
    "            \"train_recall_micro\": train_metrics['recall_micro'],\n",
    "            \"train_recall_macro\": train_metrics['recall_macro'],\n",
    "            \"train_f1_micro\": train_metrics['f1_micro'],\n",
    "            \"train_f1_macro\": train_metrics['f1_macro'],\n",
    "            # \"train_confusion_matrix\": train_metrics['confusion_matrix'],\n",
    "            \n",
    "            # Validation metrics\n",
    "            \"val_loss\": val_metrics['loss'],\n",
    "            \"val_accuracy\": val_metrics['accuracy'],\n",
    "            \"val_precision_micro\": val_metrics['precision_micro'],\n",
    "            \"val_precision_macro\": val_metrics['precision_macro'],\n",
    "            \"val_recall_micro\": val_metrics['recall_micro'],\n",
    "            \"val_recall_macro\": val_metrics['recall_macro'],\n",
    "            \"val_f1_micro\": val_metrics['f1_micro'],\n",
    "            \"val_f1_macro\": val_metrics['f1_macro'],\n",
    "            # \"val_confusion_matrix\": val_metrics['confusion_matrix'],\n",
    "            \n",
    "            # Additional info\n",
    "            \"epoch\": epoch + 1,\n",
    "            \"lr\": current_lr\n",
    "        }\n",
    "\n",
    "        # Save periodic checkpoint\n",
    "        checkpoint_path = os.path.join(checkpoint_dir, f'checkpoint_epoch_{epoch}.pt')\n",
    "        torch.save({\n",
    "            'epoch': epoch,\n",
    "            'model_state_dict': model.state_dict(),\n",
    "            'optimizer_state_dict': optimizer.state_dict(),\n",
    "            'scheduler_state_dict': scheduler.state_dict(),\n",
    "            'metrics': metrics\n",
    "        }, checkpoint_path)\n",
    "        \n",
    "        # Log to wandb\n",
    "        wandb.log(metrics)\n",
    "\n",
    "        # Step the scheduler\n",
    "        scheduler.step(epoch + loss.item())\n",
    "        current_lr = scheduler.get_last_lr()[0]\n",
    "        \n",
    "        # Reset training metrics\n",
    "        running_loss = 0\n",
    "        train_preds = []\n",
    "        train_labels = []\n",
    "\n",
    "wandb.finish()"
   ]
  },
  {
   "cell_type": "code",
   "execution_count": 28,
   "id": "99c67a58-c0ac-4206-80f4-79b7ab30a531",
   "metadata": {},
   "outputs": [
    {
     "data": {
      "text/plain": [
       "2773"
      ]
     },
     "execution_count": 28,
     "metadata": {},
     "output_type": "execute_result"
    }
   ],
   "source": [
    "input_seq = \"TLWQRPLVSIKVGGQIKEALLDTGADDTVLEDINLPGKWKPKMIGGIGGFIKVKQYDNITKILDPFRAKNPELVIYQYMDDLYVGSDLEIGQHRAKIEE\"\n",
    "true_tax_id = 12721\n",
    "Label = map_label[true_tax_id]\n",
    "Label"
   ]
  },
  {
   "cell_type": "code",
   "execution_count": 29,
   "id": "aac2b0b7-4faa-4112-a6cd-aa6ade01dd3c",
   "metadata": {},
   "outputs": [
    {
     "ename": "ModuleNotFoundError",
     "evalue": "No module named 'taxonkit_util.py'; 'taxonkit_util' is not a package",
     "output_type": "error",
     "traceback": [
      "\u001b[0;31m---------------------------------------------------------------------------\u001b[0m",
      "\u001b[0;31mModuleNotFoundError\u001b[0m                       Traceback (most recent call last)",
      "Cell \u001b[0;32mIn[29], line 1\u001b[0m\n\u001b[0;32m----> 1\u001b[0m \u001b[38;5;28;01mfrom\u001b[39;00m \u001b[38;5;21;01mtaxonkit_util\u001b[39;00m\u001b[38;5;21;01m.\u001b[39;00m\u001b[38;5;21;01mpy\u001b[39;00m \u001b[38;5;28;01mimport\u001b[39;00m trace_back\n\u001b[1;32m      3\u001b[0m trace_back(\u001b[38;5;28mstr\u001b[39m(Label))\n",
      "\u001b[0;31mModuleNotFoundError\u001b[0m: No module named 'taxonkit_util.py'; 'taxonkit_util' is not a package"
     ]
    }
   ],
   "source": [
    "from taxonkit_util.py import trace_back\n",
    "\n",
    "trace_back(str(Label))"
   ]
  },
  {
   "cell_type": "code",
   "execution_count": 26,
   "id": "fa48a0b8-1e57-4f69-83d6-98a604111c81",
   "metadata": {},
   "outputs": [
    {
     "name": "stdout",
     "output_type": "stream",
     "text": [
      "tensor([[ -4.1667, -18.9106,  -1.9891,  ..., -15.5333, -11.1934, -17.2228]],\n",
      "       device='cuda:1', grad_fn=<AddmmBackward0>)\n"
     ]
    },
    {
     "data": {
      "text/plain": [
       "327045"
      ]
     },
     "execution_count": 26,
     "metadata": {},
     "output_type": "execute_result"
    }
   ],
   "source": [
    "[map_label[e['Taxonomic_lineage_IDs']] for e in b]\n",
    "\n",
    "input_tensor = torch.LongTensor([encode_sequence(\"\")])\n",
    "input_tensor = input_tensor.to(device)\n",
    "outputs = model(input_tensor)\n",
    "print(outputs)\n",
    "preds = torch.argmax(outputs, dim=1).item()\n",
    "idx_to_label[preds]"
   ]
  },
  {
   "cell_type": "code",
   "execution_count": null,
   "id": "3fdf6f6d-ac1d-4753-94cb-e7867519ede3",
   "metadata": {},
   "outputs": [],
   "source": [
    "\"Orthoretrovirinae\""
   ]
  },
  {
   "cell_type": "code",
   "execution_count": null,
   "id": "466f3944-5f7f-47e6-a969-fac5711e882c",
   "metadata": {},
   "outputs": [],
   "source": [
    "probs = torch.nn.functional.softmax(outputs, dim=1)\n",
    "# Get top k probabilities and indices\n",
    "top_probs, top_indices = torch.topk(probs, k, dim=1)"
   ]
  }
 ],
 "metadata": {
  "kernelspec": {
   "display_name": "Python 3 (ipykernel)",
   "language": "python",
   "name": "python3"
  },
  "language_info": {
   "codemirror_mode": {
    "name": "ipython",
    "version": 3
   },
   "file_extension": ".py",
   "mimetype": "text/x-python",
   "name": "python",
   "nbconvert_exporter": "python",
   "pygments_lexer": "ipython3",
   "version": "3.10.14"
  }
 },
 "nbformat": 4,
 "nbformat_minor": 5
}

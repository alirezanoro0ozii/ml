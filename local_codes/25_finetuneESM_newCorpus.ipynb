{
 "cells": [
  {
   "cell_type": "code",
   "execution_count": 1,
   "id": "b58a335c-334c-4774-a47a-881b3352ea12",
   "metadata": {},
   "outputs": [
    {
     "name": "stderr",
     "output_type": "stream",
     "text": [
      "/opt/conda/envs/py_3.10/lib/python3.10/site-packages/tqdm/auto.py:21: TqdmWarning: IProgress not found. Please update jupyter and ipywidgets. See https://ipywidgets.readthedocs.io/en/stable/user_install.html\n",
      "  from .autonotebook import tqdm as notebook_tqdm\n"
     ]
    },
    {
     "name": "stdout",
     "output_type": "stream",
     "text": [
      "cuda:0\n",
      " WORLD_SIZE=1 , LOCAL_WORLD_SIZE=1,RANK =0,LOCAL_RANK = 0 \n",
      "../checkpoints/Finetune_ESM_checkpoints\n"
     ]
    },
    {
     "name": "stderr",
     "output_type": "stream",
     "text": [
      "git root error: Cmd('git') failed due to: exit code(128)\n",
      "  cmdline: git rev-parse --show-toplevel\n",
      "  stderr: 'fatal: detected dubious ownership in repository at '/home/aac/Alireza'\n",
      "To add an exception for this directory, call:\n",
      "\n",
      "\tgit config --global --add safe.directory /home/aac/Alireza'\n",
      "\u001b[34m\u001b[1mwandb\u001b[0m: Using wandb-core as the SDK backend.  Please refer to https://wandb.me/wandb-core for more information.\n",
      "\u001b[34m\u001b[1mwandb\u001b[0m: Currently logged in as: \u001b[33malirezanor\u001b[0m (\u001b[33malireza_noroozi\u001b[0m). Use \u001b[1m`wandb login --relogin`\u001b[0m to force relogin\n"
     ]
    },
    {
     "data": {
      "text/html": [
       "Tracking run with wandb version 0.19.0"
      ],
      "text/plain": [
       "<IPython.core.display.HTML object>"
      ]
     },
     "metadata": {},
     "output_type": "display_data"
    },
    {
     "data": {
      "text/html": [
       "Run data is saved locally in <code>/home/aac/Alireza/local_codes/wandb/run-20241210_141752-x76cv7k5</code>"
      ],
      "text/plain": [
       "<IPython.core.display.HTML object>"
      ]
     },
     "metadata": {},
     "output_type": "display_data"
    },
    {
     "data": {
      "text/html": [
       "Syncing run <strong><a href='https://wandb.ai/alireza_noroozi/Finetune_ESM/runs/x76cv7k5' target=\"_blank\">rosy-flower-12</a></strong> to <a href='https://wandb.ai/alireza_noroozi/Finetune_ESM' target=\"_blank\">Weights & Biases</a> (<a href='https://wandb.me/developer-guide' target=\"_blank\">docs</a>)<br/>"
      ],
      "text/plain": [
       "<IPython.core.display.HTML object>"
      ]
     },
     "metadata": {},
     "output_type": "display_data"
    },
    {
     "data": {
      "text/html": [
       " View project at <a href='https://wandb.ai/alireza_noroozi/Finetune_ESM' target=\"_blank\">https://wandb.ai/alireza_noroozi/Finetune_ESM</a>"
      ],
      "text/plain": [
       "<IPython.core.display.HTML object>"
      ]
     },
     "metadata": {},
     "output_type": "display_data"
    },
    {
     "data": {
      "text/html": [
       " View run at <a href='https://wandb.ai/alireza_noroozi/Finetune_ESM/runs/x76cv7k5' target=\"_blank\">https://wandb.ai/alireza_noroozi/Finetune_ESM/runs/x76cv7k5</a>"
      ],
      "text/plain": [
       "<IPython.core.display.HTML object>"
      ]
     },
     "metadata": {},
     "output_type": "display_data"
    },
    {
     "data": {
      "text/html": [
       "<button onClick=\"this.nextSibling.style.display='block';this.style.display='none';\">Display W&B run</button><iframe src='https://wandb.ai/alireza_noroozi/Finetune_ESM/runs/x76cv7k5?jupyter=true' style='border:none;width:100%;height:420px;display:none;'></iframe>"
      ],
      "text/plain": [
       "<wandb.sdk.wandb_run.Run at 0x75aa51991ed0>"
      ]
     },
     "execution_count": 1,
     "metadata": {},
     "output_type": "execute_result"
    }
   ],
   "source": [
    "import torch\n",
    "import torch.nn as nn\n",
    "import torch.nn.functional as F\n",
    "import pandas as pd\n",
    "import numpy as np\n",
    "import torch.optim as optim\n",
    "from tqdm import tqdm\n",
    "import sys, os, math\n",
    "import wandb\n",
    "from sklearn.metrics import f1_score, confusion_matrix, accuracy_score\n",
    "import json\n",
    "from transformers import EsmModel, AutoTokenizer\n",
    "\n",
    "sys.path.insert(0, '../dlp')\n",
    "from batch import Batch\n",
    "\n",
    "device = 'cuda:0' if torch.cuda.is_available() else 'cpu'\n",
    "print(device)\n",
    "\n",
    "epochs = 100_000\n",
    "val_epoch = 100\n",
    "num_val = 10\n",
    "batch_size = 8\n",
    "dataset_name = \"new_corpus\"\n",
    "lr = 0.001\n",
    "model_name = \"Finetune_ESM\"\n",
    "max_seq_len = 500\n",
    "\n",
    "from data_access import PQDataAccess\n",
    "da = PQDataAccess(f\"/home/aac/Alireza/datasets/export_pqt_4_taxseq_new/{dataset_name}\", batch_size)\n",
    "\n",
    "checkpoint_dir = f\"../checkpoints/{model_name}_checkpoints\"\n",
    "if not os.path.exists(checkpoint_dir):\n",
    "    os.makedirs(checkpoint_dir)\n",
    "print(checkpoint_dir)\n",
    "\n",
    "wandb.init(\n",
    "    # set the wandb project where this run will be logged\n",
    "    project=model_name,\n",
    "\n",
    "    # track hyperparameters and run metadata\n",
    "    config={\n",
    "        \"learning_rate\": lr,\n",
    "        \"architecture\": model_name,\n",
    "        \"epochs\": epochs,\n",
    "        \"batch_szie\": batch_size,\n",
    "        \"max_seq_len\": max_seq_len\n",
    "    }\n",
    ")"
   ]
  },
  {
   "cell_type": "code",
   "execution_count": 2,
   "id": "e229e48c-c96e-42c6-9468-d296236b0518",
   "metadata": {},
   "outputs": [
    {
     "name": "stdout",
     "output_type": "stream",
     "text": [
      "67486\n"
     ]
    }
   ],
   "source": [
    "tax_ids_file = \"../data/tax_ids.csv\"\n",
    "\n",
    "tax_ids = pd.read_csv(tax_ids_file)\n",
    "# print(tax_ids)\n",
    "num_classes = len(tax_ids) + 1\n",
    "print(num_classes)\n",
    "id_encoder = {name: idx + 1 for idx, name in enumerate(tax_ids['Taxonomic_lineage_IDs'].values)}\n",
    "\n",
    "id_decoder = {idx + 1: name for idx, name in enumerate(tax_ids['Taxonomic_lineage_IDs'].values)}\n",
    "id_decoder[0] = \"NOT DEFINED\"\n",
    "\n",
    "tokenizer_ = AutoTokenizer.from_pretrained(\"facebook/esm2_t33_650M_UR50D\")\n",
    "\n",
    "def data_to_tensor_batch(b):\n",
    "    inputs = tokenizer_(\n",
    "        [e['sequence'] for e in b],\n",
    "        return_tensors=\"pt\", \n",
    "        padding='max_length', \n",
    "        truncation=True, \n",
    "        max_length=max_seq_len\n",
    "    )\n",
    "\n",
    "    tax_ids = torch.LongTensor([id_encoder.get(e['Taxonomic_lineage_IDs'], 0) for e in b])\n",
    "\n",
    "    return Batch(inputs, tax_ids)"
   ]
  },
  {
   "cell_type": "code",
   "execution_count": 3,
   "id": "0ebcdf2b-8d60-41d4-af40-e8dd0e07e0ce",
   "metadata": {},
   "outputs": [],
   "source": [
    "class ESM2(nn.Module):\n",
    "    def __init__(self, num_classes):\n",
    "        super().__init__()\n",
    "        self.esm = EsmModel.from_pretrained(\"facebook/esm2_t33_650M_UR50D\")\n",
    "        \n",
    "        self.layer1 = nn.Linear(1280, 512)\n",
    "        self.layer_norm = nn.LayerNorm(512)\n",
    "        self.relu = nn.ReLU()\n",
    "        self.dropout = nn.Dropout(0.1)\n",
    "        self.layer2 = nn.Linear(512, num_classes)\n",
    "\n",
    "    def forward(self, x, attention_mask=None):\n",
    "        outputs = self.esm(x, attention_mask=attention_mask).pooler_output\n",
    "\n",
    "        outputs = self.layer1(outputs)\n",
    "        outputs = self.layer_norm(outputs)\n",
    "        outputs = self.relu(outputs)\n",
    "        outputs = self.dropout(outputs)\n",
    "        outputs = self.layer2(outputs)\n",
    "        return outputs"
   ]
  },
  {
   "cell_type": "code",
   "execution_count": 4,
   "id": "bc32d340-2117-4019-b644-2cab007728d7",
   "metadata": {},
   "outputs": [
    {
     "name": "stderr",
     "output_type": "stream",
     "text": [
      "Some weights of EsmModel were not initialized from the model checkpoint at facebook/esm2_t33_650M_UR50D and are newly initialized: ['esm.pooler.dense.bias', 'esm.pooler.dense.weight']\n",
      "You should probably TRAIN this model on a down-stream task to be able to use it for predictions and inference.\n"
     ]
    },
    {
     "name": "stdout",
     "output_type": "stream",
     "text": [
      "Total parameters: 687.631155 M\n"
     ]
    }
   ],
   "source": [
    "model = ESM2(num_classes).to(device)\n",
    "\n",
    "total = sum(p.numel() for p in model.parameters())\n",
    "print(f'Total parameters: {total/ 1e6} M')\n",
    "# print(model)\n",
    "\n",
    "optimizer = torch.optim.Adam(model.parameters(), lr=lr)\n",
    "\n",
    "criterion = nn.CrossEntropyLoss()\n",
    "# Cosine annealing with warm restarts\n",
    "scheduler = torch.optim.lr_scheduler.CosineAnnealingWarmRestarts(\n",
    "    optimizer,\n",
    "    T_0=10,  # Initial restart interval\n",
    "    T_mult=2,  # Multiply interval by 2 after each restart\n",
    "    eta_min=1e-6  # Minimum learning rate\n",
    ")"
   ]
  },
  {
   "cell_type": "code",
   "execution_count": 5,
   "id": "beb78789-231b-4972-896c-43c06da3c1c4",
   "metadata": {},
   "outputs": [
    {
     "data": {
      "text/plain": [
       "(11.243791866302491, 0.0, 0.0, 0.0)"
      ]
     },
     "execution_count": 5,
     "metadata": {},
     "output_type": "execute_result"
    }
   ],
   "source": [
    "val_dir = f\"val_results/{model_name}\"\n",
    "if not os.path.exists(val_dir):\n",
    "    os.makedirs(val_dir)\n",
    "    \n",
    "val_batches = [da.get_batch() for _ in range(num_val)]\n",
    "# print(val_batches[0])\n",
    "\n",
    "def evaluate(model):\n",
    "    model.eval()  # Set model to evaluation mode\n",
    "    \n",
    "    running_loss = 0.0\n",
    "    all_preds = []\n",
    "    all_labels = []\n",
    "    \n",
    "    for epoch in range(num_val):\n",
    "        with torch.no_grad():  # Disable gradient computation during evaluation\n",
    "            tensor_batch = data_to_tensor_batch(val_batches[epoch])\n",
    "            tensor_batch.gpu(device)\n",
    "        \n",
    "            labels = tensor_batch.taxes\n",
    "            outputs = model(tensor_batch.seq_ids['input_ids'], tensor_batch.seq_ids['attention_mask'])\n",
    "\n",
    "            # Calculate the loss\n",
    "            loss = criterion(outputs, labels)\n",
    "    \n",
    "            running_loss += loss.item()\n",
    "                \n",
    "            preds = torch.argmax(outputs, dim=1)\n",
    "    \n",
    "            all_preds.append(preds.cpu())\n",
    "            all_labels.append(labels.cpu())\n",
    "    \n",
    "    # Concatenate all batches into single tensors\n",
    "    all_preds = torch.cat(all_preds)\n",
    "    all_labels = torch.cat(all_labels)\n",
    "\n",
    "    # Compute evaluation metrics (example: accuracy, F1 score)\n",
    "    accuracy = accuracy_score(all_labels.numpy(), all_preds.numpy())\n",
    "    f1_macro = f1_score(all_labels.numpy(), all_preds.numpy(), average='macro')  # F1-score for multi-label classification\n",
    "    f1_micro = f1_score(all_labels.numpy(), all_preds.numpy(), average='micro')  # F1-score for multi-label classification\n",
    "    # conf_matrix = confusion_matrix(all_labels.numpy(), all_preds.numpy())\n",
    "    avg_loss = running_loss / num_val\n",
    "    \n",
    "    return avg_loss, accuracy, f1_micro, f1_macro\n",
    "\n",
    "evaluate(model)"
   ]
  },
  {
   "cell_type": "code",
   "execution_count": 6,
   "id": "ba226938-d105-4ca0-888f-36c42f24ceab",
   "metadata": {},
   "outputs": [],
   "source": [
    "import glob\n",
    "def load_checkpoint(model, optimizer=None, scheduler=None):\n",
    "    checkpoints = glob.glob(os.path.join(checkpoint_dir, 'checkpoint_epoch_*.pt'))        \n",
    "    # Extract epoch numbers and find latest\n",
    "    latest_checkpoint = max(checkpoints, key=lambda x: int(x.split('_')[-1].split('.')[0]))\n",
    "    checkpoint = torch.load(latest_checkpoint)\n",
    "    \n",
    "    # Load model state\n",
    "    model.load_state_dict(checkpoint['model_state_dict'])\n",
    "    model = model.to(device)\n",
    "    \n",
    "    # Load optimizer state if provided (for training)\n",
    "    if optimizer is not None:\n",
    "        optimizer.load_state_dict(checkpoint['optimizer_state_dict'])\n",
    "        # Move optimizer state to GPU if necessary\n",
    "        for state in optimizer.state.values():\n",
    "            for k, v in state.items():\n",
    "                if isinstance(v, torch.Tensor):\n",
    "                    state[k] = v.to(device)\n",
    "    if scheduler is not None:\n",
    "        scheduler.load_state_dict(checkpoint['scheduler_state_dict'])\n",
    "    \n",
    "    # Get training metadata\n",
    "    epoch = checkpoint['epoch']\n",
    "    metrics = checkpoint['metrics']\n",
    "    \n",
    "    print(f\"Successfully loaded checkpoint from epoch {epoch}\")\n",
    "    # print(\"Metrics at checkpoint:\", metrics)\n",
    "    \n",
    "    return model, optimizer, scheduler, epoch, metrics\n",
    "        \n",
    "\n",
    "# model, optimizer, scheduler, latest_epoch, metrics = load_checkpoint(model, optimizer, scheduler)\n",
    "latest_epoch = 0"
   ]
  },
  {
   "cell_type": "code",
   "execution_count": 7,
   "id": "bb5b1591-7164-4cd1-b328-0268291bf092",
   "metadata": {
    "scrolled": true,
    "tags": []
   },
   "outputs": [
    {
     "name": "stderr",
     "output_type": "stream",
     "text": [
      "  0%|          | 98/100000 [01:23<23:50:12,  1.16it/s]"
     ]
    },
    {
     "name": "stdout",
     "output_type": "stream",
     "text": [
      "Epoch [100/100000]\n",
      "Train Loss: 10.9839\n",
      "test Loss: 11.0489, test Accuracy: 0.0000\n",
      "test F1 (micro): 0.0000, test F1 (macro): 0.0000\n"
     ]
    },
    {
     "name": "stderr",
     "output_type": "stream",
     "text": [
      "  0%|          | 198/100000 [03:19<23:45:52,  1.17it/s] "
     ]
    },
    {
     "name": "stdout",
     "output_type": "stream",
     "text": [
      "Epoch [200/100000]\n",
      "Train Loss: 10.7905\n",
      "test Loss: 10.5840, test Accuracy: 0.0000\n",
      "test F1 (micro): 0.0000, test F1 (macro): 0.0000\n"
     ]
    },
    {
     "name": "stderr",
     "output_type": "stream",
     "text": [
      "  0%|          | 298/100000 [05:11<23:42:55,  1.17it/s] "
     ]
    },
    {
     "name": "stdout",
     "output_type": "stream",
     "text": [
      "Epoch [300/100000]\n",
      "Train Loss: 10.6935\n",
      "test Loss: 10.3726, test Accuracy: 0.0000\n",
      "test F1 (micro): 0.0000, test F1 (macro): 0.0000\n"
     ]
    },
    {
     "name": "stderr",
     "output_type": "stream",
     "text": [
      "  0%|          | 398/100000 [06:56<23:38:15,  1.17it/s] "
     ]
    },
    {
     "name": "stdout",
     "output_type": "stream",
     "text": [
      "Epoch [400/100000]\n",
      "Train Loss: 10.6458\n",
      "test Loss: 10.3708, test Accuracy: 0.0000\n",
      "test F1 (micro): 0.0000, test F1 (macro): 0.0000\n"
     ]
    },
    {
     "name": "stderr",
     "output_type": "stream",
     "text": [
      "  0%|          | 498/100000 [08:43<23:42:00,  1.17it/s] "
     ]
    },
    {
     "name": "stdout",
     "output_type": "stream",
     "text": [
      "Epoch [500/100000]\n",
      "Train Loss: 10.5916\n",
      "test Loss: 10.2280, test Accuracy: 0.0000\n",
      "test F1 (micro): 0.0000, test F1 (macro): 0.0000\n"
     ]
    },
    {
     "name": "stderr",
     "output_type": "stream",
     "text": [
      "  1%|          | 698/100000 [12:21<23:36:50,  1.17it/s] "
     ]
    },
    {
     "name": "stdout",
     "output_type": "stream",
     "text": [
      "Epoch [700/100000]\n",
      "Train Loss: 10.5770\n",
      "test Loss: 10.2566, test Accuracy: 0.0000\n",
      "test F1 (micro): 0.0000, test F1 (macro): 0.0000\n"
     ]
    },
    {
     "name": "stderr",
     "output_type": "stream",
     "text": [
      "  1%|          | 798/100000 [14:08<23:33:19,  1.17it/s] "
     ]
    },
    {
     "name": "stdout",
     "output_type": "stream",
     "text": [
      "Epoch [800/100000]\n",
      "Train Loss: 10.5264\n",
      "test Loss: 10.2511, test Accuracy: 0.0000\n",
      "test F1 (micro): 0.0000, test F1 (macro): 0.0000\n"
     ]
    },
    {
     "name": "stderr",
     "output_type": "stream",
     "text": [
      "  1%|          | 898/100000 [15:59<23:31:48,  1.17it/s] "
     ]
    },
    {
     "name": "stdout",
     "output_type": "stream",
     "text": [
      "Epoch [900/100000]\n",
      "Train Loss: 10.5826\n",
      "test Loss: 10.1532, test Accuracy: 0.0000\n",
      "test F1 (micro): 0.0000, test F1 (macro): 0.0000\n"
     ]
    },
    {
     "name": "stderr",
     "output_type": "stream",
     "text": [
      "  1%|          | 998/100000 [17:43<23:38:26,  1.16it/s] "
     ]
    },
    {
     "name": "stdout",
     "output_type": "stream",
     "text": [
      "Epoch [1000/100000]\n",
      "Train Loss: 10.4992\n",
      "test Loss: 10.1603, test Accuracy: 0.0000\n",
      "test F1 (micro): 0.0000, test F1 (macro): 0.0000\n"
     ]
    },
    {
     "name": "stderr",
     "output_type": "stream",
     "text": [
      "  1%|          | 1098/100000 [19:32<23:21:34,  1.18it/s] "
     ]
    },
    {
     "name": "stdout",
     "output_type": "stream",
     "text": [
      "Epoch [1100/100000]\n",
      "Train Loss: 10.4366\n",
      "test Loss: 10.1345, test Accuracy: 0.0000\n",
      "test F1 (micro): 0.0000, test F1 (macro): 0.0000\n"
     ]
    },
    {
     "name": "stderr",
     "output_type": "stream",
     "text": [
      "  1%|          | 1198/100000 [21:18<23:31:32,  1.17it/s] "
     ]
    },
    {
     "name": "stdout",
     "output_type": "stream",
     "text": [
      "Epoch [1200/100000]\n",
      "Train Loss: 10.4988\n",
      "test Loss: 10.1922, test Accuracy: 0.0000\n",
      "test F1 (micro): 0.0000, test F1 (macro): 0.0000\n"
     ]
    },
    {
     "name": "stderr",
     "output_type": "stream",
     "text": [
      "  1%|▏         | 1298/100000 [23:05<23:31:24,  1.17it/s] "
     ]
    },
    {
     "name": "stdout",
     "output_type": "stream",
     "text": [
      "Epoch [1300/100000]\n",
      "Train Loss: 10.4969\n",
      "test Loss: 10.1520, test Accuracy: 0.0000\n",
      "test F1 (micro): 0.0000, test F1 (macro): 0.0000\n"
     ]
    },
    {
     "name": "stderr",
     "output_type": "stream",
     "text": [
      "  1%|▏         | 1398/100000 [24:53<23:14:23,  1.18it/s] "
     ]
    },
    {
     "name": "stdout",
     "output_type": "stream",
     "text": [
      "Epoch [1400/100000]\n",
      "Train Loss: 10.3082\n",
      "test Loss: 10.1369, test Accuracy: 0.0000\n",
      "test F1 (micro): 0.0000, test F1 (macro): 0.0000\n"
     ]
    },
    {
     "name": "stderr",
     "output_type": "stream",
     "text": [
      "  2%|▏         | 1598/100000 [28:36<23:20:35,  1.17it/s] "
     ]
    },
    {
     "name": "stdout",
     "output_type": "stream",
     "text": [
      "Epoch [1600/100000]\n",
      "Train Loss: 10.2984\n",
      "test Loss: 10.0398, test Accuracy: 0.0000\n",
      "test F1 (micro): 0.0000, test F1 (macro): 0.0000\n"
     ]
    },
    {
     "name": "stderr",
     "output_type": "stream",
     "text": [
      "  2%|▏         | 2498/100000 [44:58<23:08:20,  1.17it/s]"
     ]
    },
    {
     "name": "stdout",
     "output_type": "stream",
     "text": [
      "Epoch [2500/100000]\n",
      "Train Loss: 10.2772\n",
      "test Loss: 9.9119, test Accuracy: 0.0000\n",
      "test F1 (micro): 0.0000, test F1 (macro): 0.0000\n"
     ]
    },
    {
     "name": "stderr",
     "output_type": "stream",
     "text": [
      "  3%|▎         | 2598/100000 [46:41<23:08:41,  1.17it/s] "
     ]
    },
    {
     "name": "stdout",
     "output_type": "stream",
     "text": [
      "Epoch [2600/100000]\n",
      "Train Loss: 10.3002\n",
      "test Loss: 9.9121, test Accuracy: 0.0000\n",
      "test F1 (micro): 0.0000, test F1 (macro): 0.0000\n"
     ]
    },
    {
     "name": "stderr",
     "output_type": "stream",
     "text": [
      "  3%|▎         | 2698/100000 [48:23<23:11:16,  1.17it/s] "
     ]
    },
    {
     "name": "stdout",
     "output_type": "stream",
     "text": [
      "Epoch [2700/100000]\n",
      "Train Loss: 10.2658\n",
      "test Loss: 9.9387, test Accuracy: 0.0000\n",
      "test F1 (micro): 0.0000, test F1 (macro): 0.0000\n"
     ]
    },
    {
     "name": "stderr",
     "output_type": "stream",
     "text": [
      "  3%|▎         | 2798/100000 [50:07<23:10:33,  1.17it/s] "
     ]
    },
    {
     "name": "stdout",
     "output_type": "stream",
     "text": [
      "Epoch [2800/100000]\n",
      "Train Loss: 10.2264\n",
      "test Loss: 9.9310, test Accuracy: 0.0125\n",
      "test F1 (micro): 0.0125, test F1 (macro): 0.0003\n"
     ]
    },
    {
     "name": "stderr",
     "output_type": "stream",
     "text": [
      "  3%|▎         | 2898/100000 [51:52<23:05:58,  1.17it/s] "
     ]
    },
    {
     "name": "stdout",
     "output_type": "stream",
     "text": [
      "Epoch [2900/100000]\n",
      "Train Loss: 10.3502\n",
      "test Loss: 9.9088, test Accuracy: 0.0000\n",
      "test F1 (micro): 0.0000, test F1 (macro): 0.0000\n"
     ]
    },
    {
     "name": "stderr",
     "output_type": "stream",
     "text": [
      "  3%|▎         | 2998/100000 [53:43<22:59:48,  1.17it/s] "
     ]
    },
    {
     "name": "stdout",
     "output_type": "stream",
     "text": [
      "Epoch [3000/100000]\n",
      "Train Loss: 10.3410\n",
      "test Loss: 9.8685, test Accuracy: 0.0000\n",
      "test F1 (micro): 0.0000, test F1 (macro): 0.0000\n"
     ]
    },
    {
     "name": "stderr",
     "output_type": "stream",
     "text": [
      "  3%|▎         | 3098/100000 [55:31<22:52:33,  1.18it/s] "
     ]
    },
    {
     "name": "stdout",
     "output_type": "stream",
     "text": [
      "Epoch [3100/100000]\n",
      "Train Loss: 10.2105\n",
      "test Loss: 9.9348, test Accuracy: 0.0125\n",
      "test F1 (micro): 0.0125, test F1 (macro): 0.0003\n"
     ]
    },
    {
     "name": "stderr",
     "output_type": "stream",
     "text": [
      "  3%|▎         | 3198/100000 [57:22<22:56:18,  1.17it/s] "
     ]
    },
    {
     "name": "stdout",
     "output_type": "stream",
     "text": [
      "Epoch [3200/100000]\n",
      "Train Loss: 10.2321\n",
      "test Loss: 9.8927, test Accuracy: 0.0000\n",
      "test F1 (micro): 0.0000, test F1 (macro): 0.0000\n"
     ]
    },
    {
     "name": "stderr",
     "output_type": "stream",
     "text": [
      "  3%|▎         | 3298/100000 [59:10<22:59:41,  1.17it/s] "
     ]
    },
    {
     "name": "stdout",
     "output_type": "stream",
     "text": [
      "Epoch [3300/100000]\n",
      "Train Loss: 10.3060\n",
      "test Loss: 9.9776, test Accuracy: 0.0000\n",
      "test F1 (micro): 0.0000, test F1 (macro): 0.0000\n"
     ]
    },
    {
     "name": "stderr",
     "output_type": "stream",
     "text": [
      "  3%|▎         | 3398/100000 [1:00:57<22:55:42,  1.17it/s]"
     ]
    },
    {
     "name": "stdout",
     "output_type": "stream",
     "text": [
      "Epoch [3400/100000]\n",
      "Train Loss: 10.1084\n",
      "test Loss: 9.8358, test Accuracy: 0.0000\n",
      "test F1 (micro): 0.0000, test F1 (macro): 0.0000\n"
     ]
    },
    {
     "name": "stderr",
     "output_type": "stream",
     "text": [
      "  3%|▎         | 3498/100000 [1:02:46<22:59:27,  1.17it/s] "
     ]
    },
    {
     "name": "stdout",
     "output_type": "stream",
     "text": [
      "Epoch [3500/100000]\n",
      "Train Loss: 10.2265\n",
      "test Loss: 9.9052, test Accuracy: 0.0000\n",
      "test F1 (micro): 0.0000, test F1 (macro): 0.0000\n"
     ]
    },
    {
     "name": "stderr",
     "output_type": "stream",
     "text": [
      "  4%|▎         | 3598/100000 [1:04:45<22:59:22,  1.16it/s] "
     ]
    },
    {
     "name": "stdout",
     "output_type": "stream",
     "text": [
      "Epoch [3600/100000]\n",
      "Train Loss: 10.3402\n",
      "test Loss: 9.9393, test Accuracy: 0.0000\n",
      "test F1 (micro): 0.0000, test F1 (macro): 0.0000\n"
     ]
    },
    {
     "name": "stderr",
     "output_type": "stream",
     "text": [
      "  4%|▎         | 3698/100000 [1:06:34<22:53:06,  1.17it/s] "
     ]
    },
    {
     "name": "stdout",
     "output_type": "stream",
     "text": [
      "Epoch [3700/100000]\n",
      "Train Loss: 10.1987\n",
      "test Loss: 9.8702, test Accuracy: 0.0000\n",
      "test F1 (micro): 0.0000, test F1 (macro): 0.0000\n"
     ]
    },
    {
     "name": "stderr",
     "output_type": "stream",
     "text": [
      "  4%|▍         | 3798/100000 [1:08:21<22:52:52,  1.17it/s] "
     ]
    },
    {
     "name": "stdout",
     "output_type": "stream",
     "text": [
      "Epoch [3800/100000]\n",
      "Train Loss: 10.2467\n",
      "test Loss: 9.9193, test Accuracy: 0.0000\n",
      "test F1 (micro): 0.0000, test F1 (macro): 0.0000\n"
     ]
    },
    {
     "name": "stderr",
     "output_type": "stream",
     "text": [
      "  4%|▍         | 3898/100000 [1:10:06<22:54:20,  1.17it/s] "
     ]
    },
    {
     "name": "stdout",
     "output_type": "stream",
     "text": [
      "Epoch [3900/100000]\n",
      "Train Loss: 10.3373\n",
      "test Loss: 9.9886, test Accuracy: 0.0000\n",
      "test F1 (micro): 0.0000, test F1 (macro): 0.0000\n"
     ]
    },
    {
     "name": "stderr",
     "output_type": "stream",
     "text": [
      "  4%|▍         | 3998/100000 [1:11:54<22:40:42,  1.18it/s] "
     ]
    },
    {
     "name": "stdout",
     "output_type": "stream",
     "text": [
      "Epoch [4000/100000]\n",
      "Train Loss: 10.2399\n",
      "test Loss: 9.8428, test Accuracy: 0.0000\n",
      "test F1 (micro): 0.0000, test F1 (macro): 0.0000\n"
     ]
    },
    {
     "name": "stderr",
     "output_type": "stream",
     "text": [
      "  4%|▍         | 4098/100000 [1:13:41<22:46:31,  1.17it/s] "
     ]
    },
    {
     "name": "stdout",
     "output_type": "stream",
     "text": [
      "Epoch [4100/100000]\n",
      "Train Loss: 10.2230\n",
      "test Loss: 9.8572, test Accuracy: 0.0000\n",
      "test F1 (micro): 0.0000, test F1 (macro): 0.0000\n"
     ]
    },
    {
     "name": "stderr",
     "output_type": "stream",
     "text": [
      "  4%|▍         | 4198/100000 [1:15:25<22:36:26,  1.18it/s] "
     ]
    },
    {
     "name": "stdout",
     "output_type": "stream",
     "text": [
      "Epoch [4200/100000]\n",
      "Train Loss: 10.2443\n",
      "test Loss: 9.8650, test Accuracy: 0.0000\n",
      "test F1 (micro): 0.0000, test F1 (macro): 0.0000\n"
     ]
    },
    {
     "name": "stderr",
     "output_type": "stream",
     "text": [
      "  4%|▍         | 4298/100000 [1:17:11<23:02:30,  1.15it/s] "
     ]
    },
    {
     "name": "stdout",
     "output_type": "stream",
     "text": [
      "Epoch [4300/100000]\n",
      "Train Loss: 10.2075\n",
      "test Loss: 9.8768, test Accuracy: 0.0000\n",
      "test F1 (micro): 0.0000, test F1 (macro): 0.0000\n"
     ]
    },
    {
     "name": "stderr",
     "output_type": "stream",
     "text": [
      "  4%|▍         | 4398/100000 [1:19:01<22:45:16,  1.17it/s] "
     ]
    },
    {
     "name": "stdout",
     "output_type": "stream",
     "text": [
      "Epoch [4400/100000]\n",
      "Train Loss: 10.2353\n",
      "test Loss: 9.8379, test Accuracy: 0.0000\n",
      "test F1 (micro): 0.0000, test F1 (macro): 0.0000\n"
     ]
    },
    {
     "name": "stderr",
     "output_type": "stream",
     "text": [
      "  4%|▍         | 4498/100000 [1:20:46<22:39:32,  1.17it/s] "
     ]
    },
    {
     "name": "stdout",
     "output_type": "stream",
     "text": [
      "Epoch [4500/100000]\n",
      "Train Loss: 10.2091\n",
      "test Loss: 9.8507, test Accuracy: 0.0000\n",
      "test F1 (micro): 0.0000, test F1 (macro): 0.0000\n"
     ]
    },
    {
     "name": "stderr",
     "output_type": "stream",
     "text": [
      "  5%|▍         | 4598/100000 [1:22:37<22:46:02,  1.16it/s] "
     ]
    },
    {
     "name": "stdout",
     "output_type": "stream",
     "text": [
      "Epoch [4600/100000]\n",
      "Train Loss: 10.1832\n",
      "test Loss: 9.8413, test Accuracy: 0.0000\n",
      "test F1 (micro): 0.0000, test F1 (macro): 0.0000\n"
     ]
    },
    {
     "name": "stderr",
     "output_type": "stream",
     "text": [
      "  5%|▍         | 4698/100000 [1:24:30<22:40:11,  1.17it/s] "
     ]
    },
    {
     "name": "stdout",
     "output_type": "stream",
     "text": [
      "Epoch [4700/100000]\n",
      "Train Loss: 10.2155\n",
      "test Loss: 9.8500, test Accuracy: 0.0000\n",
      "test F1 (micro): 0.0000, test F1 (macro): 0.0000\n"
     ]
    },
    {
     "name": "stderr",
     "output_type": "stream",
     "text": [
      "  5%|▍         | 4798/100000 [1:26:24<22:40:32,  1.17it/s] "
     ]
    },
    {
     "name": "stdout",
     "output_type": "stream",
     "text": [
      "Epoch [4800/100000]\n",
      "Train Loss: 10.1529\n",
      "test Loss: 9.8459, test Accuracy: 0.0000\n",
      "test F1 (micro): 0.0000, test F1 (macro): 0.0000\n"
     ]
    },
    {
     "name": "stderr",
     "output_type": "stream",
     "text": [
      "  5%|▍         | 4898/100000 [1:28:09<22:31:48,  1.17it/s] "
     ]
    },
    {
     "name": "stdout",
     "output_type": "stream",
     "text": [
      "Epoch [4900/100000]\n",
      "Train Loss: 10.2520\n",
      "test Loss: 9.8512, test Accuracy: 0.0000\n",
      "test F1 (micro): 0.0000, test F1 (macro): 0.0000\n"
     ]
    },
    {
     "name": "stderr",
     "output_type": "stream",
     "text": [
      "  5%|▍         | 4998/100000 [1:30:03<22:25:56,  1.18it/s] "
     ]
    },
    {
     "name": "stdout",
     "output_type": "stream",
     "text": [
      "Epoch [5000/100000]\n",
      "Train Loss: 10.2844\n",
      "test Loss: 9.8563, test Accuracy: 0.0000\n",
      "test F1 (micro): 0.0000, test F1 (macro): 0.0000\n"
     ]
    },
    {
     "name": "stderr",
     "output_type": "stream",
     "text": [
      "  5%|▌         | 5098/100000 [1:31:51<22:37:43,  1.16it/s] "
     ]
    },
    {
     "name": "stdout",
     "output_type": "stream",
     "text": [
      "Epoch [5100/100000]\n",
      "Train Loss: 10.1657\n",
      "test Loss: 9.8549, test Accuracy: 0.0000\n",
      "test F1 (micro): 0.0000, test F1 (macro): 0.0000\n"
     ]
    },
    {
     "name": "stderr",
     "output_type": "stream",
     "text": [
      "  5%|▌         | 5198/100000 [1:33:38<22:31:31,  1.17it/s] "
     ]
    },
    {
     "name": "stdout",
     "output_type": "stream",
     "text": [
      "Epoch [5200/100000]\n",
      "Train Loss: 10.2654\n",
      "test Loss: 9.8551, test Accuracy: 0.0000\n",
      "test F1 (micro): 0.0000, test F1 (macro): 0.0000\n"
     ]
    },
    {
     "name": "stderr",
     "output_type": "stream",
     "text": [
      "  5%|▌         | 5298/100000 [1:35:25<22:29:26,  1.17it/s] "
     ]
    },
    {
     "name": "stdout",
     "output_type": "stream",
     "text": [
      "Epoch [5300/100000]\n",
      "Train Loss: 10.2141\n",
      "test Loss: 9.8808, test Accuracy: 0.0000\n",
      "test F1 (micro): 0.0000, test F1 (macro): 0.0000\n"
     ]
    },
    {
     "name": "stderr",
     "output_type": "stream",
     "text": [
      "  5%|▌         | 5398/100000 [1:37:12<22:23:32,  1.17it/s] "
     ]
    },
    {
     "name": "stdout",
     "output_type": "stream",
     "text": [
      "Epoch [5400/100000]\n",
      "Train Loss: 10.2586\n",
      "test Loss: 9.9591, test Accuracy: 0.0000\n",
      "test F1 (micro): 0.0000, test F1 (macro): 0.0000\n"
     ]
    },
    {
     "name": "stderr",
     "output_type": "stream",
     "text": [
      "  5%|▌         | 5498/100000 [1:38:58<22:24:38,  1.17it/s] "
     ]
    },
    {
     "name": "stdout",
     "output_type": "stream",
     "text": [
      "Epoch [5500/100000]\n",
      "Train Loss: 10.2305\n",
      "test Loss: 9.8920, test Accuracy: 0.0250\n",
      "test F1 (micro): 0.0250, test F1 (macro): 0.0006\n"
     ]
    },
    {
     "name": "stderr",
     "output_type": "stream",
     "text": [
      "  6%|▌         | 5598/100000 [1:40:47<22:24:21,  1.17it/s] "
     ]
    },
    {
     "name": "stdout",
     "output_type": "stream",
     "text": [
      "Epoch [5600/100000]\n",
      "Train Loss: 10.2416\n",
      "test Loss: 9.8798, test Accuracy: 0.0000\n",
      "test F1 (micro): 0.0000, test F1 (macro): 0.0000\n"
     ]
    },
    {
     "name": "stderr",
     "output_type": "stream",
     "text": [
      "  6%|▌         | 5698/100000 [1:42:35<22:26:40,  1.17it/s] "
     ]
    },
    {
     "name": "stdout",
     "output_type": "stream",
     "text": [
      "Epoch [5700/100000]\n",
      "Train Loss: 10.0899\n",
      "test Loss: 9.8406, test Accuracy: 0.0000\n",
      "test F1 (micro): 0.0000, test F1 (macro): 0.0000\n"
     ]
    },
    {
     "name": "stderr",
     "output_type": "stream",
     "text": [
      "  6%|▌         | 5798/100000 [1:44:23<22:36:22,  1.16it/s] "
     ]
    },
    {
     "name": "stdout",
     "output_type": "stream",
     "text": [
      "Epoch [5800/100000]\n",
      "Train Loss: 10.2330\n",
      "test Loss: 9.9097, test Accuracy: 0.0000\n",
      "test F1 (micro): 0.0000, test F1 (macro): 0.0000\n"
     ]
    },
    {
     "name": "stderr",
     "output_type": "stream",
     "text": [
      "  6%|▌         | 5898/100000 [1:46:12<22:24:46,  1.17it/s] "
     ]
    },
    {
     "name": "stdout",
     "output_type": "stream",
     "text": [
      "Epoch [5900/100000]\n",
      "Train Loss: 10.1574\n",
      "test Loss: 9.9145, test Accuracy: 0.0000\n",
      "test F1 (micro): 0.0000, test F1 (macro): 0.0000\n"
     ]
    },
    {
     "name": "stderr",
     "output_type": "stream",
     "text": [
      "  6%|▌         | 5998/100000 [1:48:06<22:15:16,  1.17it/s] "
     ]
    },
    {
     "name": "stdout",
     "output_type": "stream",
     "text": [
      "Epoch [6000/100000]\n",
      "Train Loss: 10.2457\n",
      "test Loss: 9.8572, test Accuracy: 0.0250\n",
      "test F1 (micro): 0.0250, test F1 (macro): 0.0006\n"
     ]
    },
    {
     "name": "stderr",
     "output_type": "stream",
     "text": [
      "  6%|▌         | 6098/100000 [1:49:55<22:18:36,  1.17it/s] "
     ]
    },
    {
     "name": "stdout",
     "output_type": "stream",
     "text": [
      "Epoch [6100/100000]\n",
      "Train Loss: 10.0967\n",
      "test Loss: 9.8741, test Accuracy: 0.0000\n",
      "test F1 (micro): 0.0000, test F1 (macro): 0.0000\n"
     ]
    },
    {
     "name": "stderr",
     "output_type": "stream",
     "text": [
      "  6%|▌         | 6198/100000 [1:51:42<22:16:54,  1.17it/s] "
     ]
    },
    {
     "name": "stdout",
     "output_type": "stream",
     "text": [
      "Epoch [6200/100000]\n",
      "Train Loss: 10.2032\n",
      "test Loss: 9.9327, test Accuracy: 0.0000\n",
      "test F1 (micro): 0.0000, test F1 (macro): 0.0000\n"
     ]
    },
    {
     "name": "stderr",
     "output_type": "stream",
     "text": [
      "  6%|▋         | 6298/100000 [1:53:31<22:17:31,  1.17it/s] "
     ]
    },
    {
     "name": "stdout",
     "output_type": "stream",
     "text": [
      "Epoch [6300/100000]\n",
      "Train Loss: 10.2815\n",
      "test Loss: 9.9015, test Accuracy: 0.0000\n",
      "test F1 (micro): 0.0000, test F1 (macro): 0.0000\n"
     ]
    },
    {
     "name": "stderr",
     "output_type": "stream",
     "text": [
      "  6%|▋         | 6398/100000 [1:55:18<22:11:22,  1.17it/s] "
     ]
    },
    {
     "name": "stdout",
     "output_type": "stream",
     "text": [
      "Epoch [6400/100000]\n",
      "Train Loss: 10.2280\n",
      "test Loss: 9.9432, test Accuracy: 0.0000\n",
      "test F1 (micro): 0.0000, test F1 (macro): 0.0000\n"
     ]
    },
    {
     "name": "stderr",
     "output_type": "stream",
     "text": [
      "  6%|▋         | 6498/100000 [1:57:05<22:17:43,  1.16it/s] "
     ]
    },
    {
     "name": "stdout",
     "output_type": "stream",
     "text": [
      "Epoch [6500/100000]\n",
      "Train Loss: 10.1315\n",
      "test Loss: 9.8989, test Accuracy: 0.0000\n",
      "test F1 (micro): 0.0000, test F1 (macro): 0.0000\n"
     ]
    },
    {
     "name": "stderr",
     "output_type": "stream",
     "text": [
      "  7%|▋         | 6598/100000 [1:58:56<22:15:26,  1.17it/s] "
     ]
    },
    {
     "name": "stdout",
     "output_type": "stream",
     "text": [
      "Epoch [6600/100000]\n",
      "Train Loss: 10.2961\n",
      "test Loss: 9.9240, test Accuracy: 0.0000\n",
      "test F1 (micro): 0.0000, test F1 (macro): 0.0000\n"
     ]
    },
    {
     "name": "stderr",
     "output_type": "stream",
     "text": [
      "  7%|▋         | 6698/100000 [2:00:42<22:10:21,  1.17it/s] "
     ]
    },
    {
     "name": "stdout",
     "output_type": "stream",
     "text": [
      "Epoch [6700/100000]\n",
      "Train Loss: 10.2215\n",
      "test Loss: 9.9514, test Accuracy: 0.0000\n",
      "test F1 (micro): 0.0000, test F1 (macro): 0.0000\n"
     ]
    },
    {
     "name": "stderr",
     "output_type": "stream",
     "text": [
      "  7%|▋         | 6798/100000 [2:02:32<22:04:41,  1.17it/s] "
     ]
    },
    {
     "name": "stdout",
     "output_type": "stream",
     "text": [
      "Epoch [6800/100000]\n",
      "Train Loss: 10.2397\n",
      "test Loss: 9.9354, test Accuracy: 0.0000\n",
      "test F1 (micro): 0.0000, test F1 (macro): 0.0000\n"
     ]
    },
    {
     "name": "stderr",
     "output_type": "stream",
     "text": [
      "  7%|▋         | 6898/100000 [2:04:25<22:05:18,  1.17it/s] "
     ]
    },
    {
     "name": "stdout",
     "output_type": "stream",
     "text": [
      "Epoch [6900/100000]\n",
      "Train Loss: 10.1755\n",
      "test Loss: 9.9303, test Accuracy: 0.0000\n",
      "test F1 (micro): 0.0000, test F1 (macro): 0.0000\n"
     ]
    },
    {
     "name": "stderr",
     "output_type": "stream",
     "text": [
      "  7%|▋         | 6998/100000 [2:06:09<22:04:58,  1.17it/s] "
     ]
    },
    {
     "name": "stdout",
     "output_type": "stream",
     "text": [
      "Epoch [7000/100000]\n",
      "Train Loss: 10.1580\n",
      "test Loss: 9.9841, test Accuracy: 0.0000\n",
      "test F1 (micro): 0.0000, test F1 (macro): 0.0000\n"
     ]
    },
    {
     "name": "stderr",
     "output_type": "stream",
     "text": [
      "  7%|▋         | 7098/100000 [2:07:57<22:04:53,  1.17it/s] "
     ]
    },
    {
     "name": "stdout",
     "output_type": "stream",
     "text": [
      "Epoch [7100/100000]\n",
      "Train Loss: 10.1968\n",
      "test Loss: 9.9468, test Accuracy: 0.0000\n",
      "test F1 (micro): 0.0000, test F1 (macro): 0.0000\n"
     ]
    },
    {
     "name": "stderr",
     "output_type": "stream",
     "text": [
      " 11%|█▏        | 11398/100000 [3:25:49<21:03:39,  1.17it/s]"
     ]
    },
    {
     "name": "stdout",
     "output_type": "stream",
     "text": [
      "Epoch [11400/100000]\n",
      "Train Loss: 10.1088\n",
      "test Loss: 10.0872, test Accuracy: 0.0000\n",
      "test F1 (micro): 0.0000, test F1 (macro): 0.0000\n"
     ]
    },
    {
     "name": "stderr",
     "output_type": "stream",
     "text": [
      " 11%|█▏        | 11498/100000 [3:27:36<21:05:29,  1.17it/s] "
     ]
    },
    {
     "name": "stdout",
     "output_type": "stream",
     "text": [
      "Epoch [11500/100000]\n",
      "Train Loss: 10.1869\n",
      "test Loss: 10.1001, test Accuracy: 0.0000\n",
      "test F1 (micro): 0.0000, test F1 (macro): 0.0000\n"
     ]
    },
    {
     "name": "stderr",
     "output_type": "stream",
     "text": [
      " 12%|█▏        | 11598/100000 [3:29:22<20:58:33,  1.17it/s] "
     ]
    },
    {
     "name": "stdout",
     "output_type": "stream",
     "text": [
      "Epoch [11600/100000]\n",
      "Train Loss: 10.2427\n",
      "test Loss: 10.1338, test Accuracy: 0.0000\n",
      "test F1 (micro): 0.0000, test F1 (macro): 0.0000\n"
     ]
    },
    {
     "name": "stderr",
     "output_type": "stream",
     "text": [
      " 12%|█▏        | 11698/100000 [3:31:09<21:04:51,  1.16it/s] "
     ]
    },
    {
     "name": "stdout",
     "output_type": "stream",
     "text": [
      "Epoch [11700/100000]\n",
      "Train Loss: 10.0887\n",
      "test Loss: 10.0980, test Accuracy: 0.0000\n",
      "test F1 (micro): 0.0000, test F1 (macro): 0.0000\n"
     ]
    },
    {
     "name": "stderr",
     "output_type": "stream",
     "text": [
      " 12%|█▏        | 11798/100000 [3:32:54<21:10:32,  1.16it/s] "
     ]
    },
    {
     "name": "stdout",
     "output_type": "stream",
     "text": [
      "Epoch [11800/100000]\n",
      "Train Loss: 10.2298\n",
      "test Loss: 10.0627, test Accuracy: 0.0000\n",
      "test F1 (micro): 0.0000, test F1 (macro): 0.0000\n"
     ]
    },
    {
     "name": "stderr",
     "output_type": "stream",
     "text": [
      " 12%|█▏        | 11898/100000 [3:34:43<20:47:10,  1.18it/s] "
     ]
    },
    {
     "name": "stdout",
     "output_type": "stream",
     "text": [
      "Epoch [11900/100000]\n",
      "Train Loss: 10.0509\n",
      "test Loss: 10.0716, test Accuracy: 0.0000\n",
      "test F1 (micro): 0.0000, test F1 (macro): 0.0000\n"
     ]
    },
    {
     "name": "stderr",
     "output_type": "stream",
     "text": [
      " 12%|█▏        | 11998/100000 [3:36:27<20:50:13,  1.17it/s] "
     ]
    },
    {
     "name": "stdout",
     "output_type": "stream",
     "text": [
      "Epoch [12000/100000]\n",
      "Train Loss: 10.1462\n",
      "test Loss: 10.0701, test Accuracy: 0.0000\n",
      "test F1 (micro): 0.0000, test F1 (macro): 0.0000\n"
     ]
    },
    {
     "name": "stderr",
     "output_type": "stream",
     "text": [
      " 12%|█▏        | 12098/100000 [3:38:14<20:48:52,  1.17it/s] "
     ]
    },
    {
     "name": "stdout",
     "output_type": "stream",
     "text": [
      "Epoch [12100/100000]\n",
      "Train Loss: 10.1219\n",
      "test Loss: 10.1235, test Accuracy: 0.0000\n",
      "test F1 (micro): 0.0000, test F1 (macro): 0.0000\n"
     ]
    },
    {
     "name": "stderr",
     "output_type": "stream",
     "text": [
      " 12%|█▏        | 12198/100000 [3:40:00<20:52:41,  1.17it/s] "
     ]
    },
    {
     "name": "stdout",
     "output_type": "stream",
     "text": [
      "Epoch [12200/100000]\n",
      "Train Loss: 10.2327\n",
      "test Loss: 10.1035, test Accuracy: 0.0000\n",
      "test F1 (micro): 0.0000, test F1 (macro): 0.0000\n"
     ]
    },
    {
     "name": "stderr",
     "output_type": "stream",
     "text": [
      " 12%|█▏        | 12298/100000 [3:41:48<20:46:56,  1.17it/s] "
     ]
    },
    {
     "name": "stdout",
     "output_type": "stream",
     "text": [
      "Epoch [12300/100000]\n",
      "Train Loss: 10.1796\n",
      "test Loss: 10.1201, test Accuracy: 0.0000\n",
      "test F1 (micro): 0.0000, test F1 (macro): 0.0000\n"
     ]
    },
    {
     "name": "stderr",
     "output_type": "stream",
     "text": [
      " 12%|█▏        | 12398/100000 [3:43:38<20:50:41,  1.17it/s] "
     ]
    },
    {
     "name": "stdout",
     "output_type": "stream",
     "text": [
      "Epoch [12400/100000]\n",
      "Train Loss: 10.2172\n",
      "test Loss: 10.1147, test Accuracy: 0.0000\n",
      "test F1 (micro): 0.0000, test F1 (macro): 0.0000\n"
     ]
    },
    {
     "name": "stderr",
     "output_type": "stream",
     "text": [
      " 12%|█▏        | 12498/100000 [3:45:24<20:53:19,  1.16it/s] "
     ]
    },
    {
     "name": "stdout",
     "output_type": "stream",
     "text": [
      "Epoch [12500/100000]\n",
      "Train Loss: 10.2045\n",
      "test Loss: 10.1099, test Accuracy: 0.0000\n",
      "test F1 (micro): 0.0000, test F1 (macro): 0.0000\n"
     ]
    },
    {
     "name": "stderr",
     "output_type": "stream",
     "text": [
      " 13%|█▎        | 12598/100000 [3:47:11<20:42:51,  1.17it/s] "
     ]
    },
    {
     "name": "stdout",
     "output_type": "stream",
     "text": [
      "Epoch [12600/100000]\n",
      "Train Loss: 10.1225\n",
      "test Loss: 10.1606, test Accuracy: 0.0000\n",
      "test F1 (micro): 0.0000, test F1 (macro): 0.0000\n"
     ]
    },
    {
     "name": "stderr",
     "output_type": "stream",
     "text": [
      " 13%|█▎        | 12698/100000 [3:48:58<20:49:32,  1.16it/s] "
     ]
    },
    {
     "name": "stdout",
     "output_type": "stream",
     "text": [
      "Epoch [12700/100000]\n",
      "Train Loss: 10.3396\n",
      "test Loss: 10.0879, test Accuracy: 0.0000\n",
      "test F1 (micro): 0.0000, test F1 (macro): 0.0000\n"
     ]
    },
    {
     "name": "stderr",
     "output_type": "stream",
     "text": [
      " 13%|█▎        | 12798/100000 [3:50:50<20:42:08,  1.17it/s] "
     ]
    },
    {
     "name": "stdout",
     "output_type": "stream",
     "text": [
      "Epoch [12800/100000]\n",
      "Train Loss: 10.3361\n",
      "test Loss: 10.0822, test Accuracy: 0.0000\n",
      "test F1 (micro): 0.0000, test F1 (macro): 0.0000\n"
     ]
    },
    {
     "name": "stderr",
     "output_type": "stream",
     "text": [
      " 13%|█▎        | 12898/100000 [3:52:37<20:38:53,  1.17it/s] "
     ]
    },
    {
     "name": "stdout",
     "output_type": "stream",
     "text": [
      "Epoch [12900/100000]\n",
      "Train Loss: 10.2739\n",
      "test Loss: 10.0925, test Accuracy: 0.0000\n",
      "test F1 (micro): 0.0000, test F1 (macro): 0.0000\n"
     ]
    },
    {
     "name": "stderr",
     "output_type": "stream",
     "text": [
      " 13%|█▎        | 12998/100000 [3:54:32<20:45:33,  1.16it/s] "
     ]
    },
    {
     "name": "stdout",
     "output_type": "stream",
     "text": [
      "Epoch [13000/100000]\n",
      "Train Loss: 10.3044\n",
      "test Loss: 10.1169, test Accuracy: 0.0000\n",
      "test F1 (micro): 0.0000, test F1 (macro): 0.0000\n"
     ]
    },
    {
     "name": "stderr",
     "output_type": "stream",
     "text": [
      " 13%|█▎        | 13035/100000 [3:55:25<20:56:13,  1.15it/s] "
     ]
    },
    {
     "name": "stdout",
     "output_type": "stream",
     "text": [
      "Epoch [13400/100000]\n",
      "Train Loss: 10.2396\n",
      "test Loss: 10.0828, test Accuracy: 0.0000\n",
      "test F1 (micro): 0.0000, test F1 (macro): 0.0000\n"
     ]
    },
    {
     "name": "stderr",
     "output_type": "stream",
     "text": [
      " 15%|█▍        | 14698/100000 [4:25:10<20:08:24,  1.18it/s]"
     ]
    },
    {
     "name": "stdout",
     "output_type": "stream",
     "text": [
      "Epoch [14700/100000]\n",
      "Train Loss: 10.2065\n",
      "test Loss: 10.0989, test Accuracy: 0.0000\n",
      "test F1 (micro): 0.0000, test F1 (macro): 0.0000\n"
     ]
    },
    {
     "name": "stderr",
     "output_type": "stream",
     "text": [
      " 15%|█▍        | 14798/100000 [4:27:01<20:15:13,  1.17it/s] "
     ]
    },
    {
     "name": "stdout",
     "output_type": "stream",
     "text": [
      "Epoch [14800/100000]\n",
      "Train Loss: 10.2286\n",
      "test Loss: 10.0816, test Accuracy: 0.0000\n",
      "test F1 (micro): 0.0000, test F1 (macro): 0.0000\n"
     ]
    },
    {
     "name": "stderr",
     "output_type": "stream",
     "text": [
      " 15%|█▍        | 14898/100000 [4:28:50<20:16:13,  1.17it/s] "
     ]
    },
    {
     "name": "stdout",
     "output_type": "stream",
     "text": [
      "Epoch [14900/100000]\n",
      "Train Loss: 9.9974\n",
      "test Loss: 10.0587, test Accuracy: 0.0000\n",
      "test F1 (micro): 0.0000, test F1 (macro): 0.0000\n"
     ]
    },
    {
     "name": "stderr",
     "output_type": "stream",
     "text": [
      " 15%|█▍        | 14998/100000 [4:30:39<20:03:27,  1.18it/s] "
     ]
    },
    {
     "name": "stdout",
     "output_type": "stream",
     "text": [
      "Epoch [15000/100000]\n",
      "Train Loss: 10.0144\n",
      "test Loss: 10.0706, test Accuracy: 0.0000\n",
      "test F1 (micro): 0.0000, test F1 (macro): 0.0000\n"
     ]
    },
    {
     "name": "stderr",
     "output_type": "stream",
     "text": [
      " 15%|█▌        | 15098/100000 [4:32:35<20:34:35,  1.15it/s] "
     ]
    },
    {
     "name": "stdout",
     "output_type": "stream",
     "text": [
      "Epoch [15100/100000]\n",
      "Train Loss: 10.2259\n",
      "test Loss: 10.1082, test Accuracy: 0.0000\n",
      "test F1 (micro): 0.0000, test F1 (macro): 0.0000\n"
     ]
    },
    {
     "name": "stderr",
     "output_type": "stream",
     "text": [
      " 15%|█▌        | 15198/100000 [4:34:18<20:07:23,  1.17it/s] "
     ]
    },
    {
     "name": "stdout",
     "output_type": "stream",
     "text": [
      "Epoch [15200/100000]\n",
      "Train Loss: 10.2681\n",
      "test Loss: 10.1124, test Accuracy: 0.0000\n",
      "test F1 (micro): 0.0000, test F1 (macro): 0.0000\n"
     ]
    },
    {
     "name": "stderr",
     "output_type": "stream",
     "text": [
      " 15%|█▌        | 15298/100000 [4:36:06<20:08:36,  1.17it/s] "
     ]
    },
    {
     "name": "stdout",
     "output_type": "stream",
     "text": [
      "Epoch [15300/100000]\n",
      "Train Loss: 10.2144\n",
      "test Loss: 10.1167, test Accuracy: 0.0000\n",
      "test F1 (micro): 0.0000, test F1 (macro): 0.0000\n"
     ]
    },
    {
     "name": "stderr",
     "output_type": "stream",
     "text": [
      " 15%|█▌        | 15398/100000 [4:37:55<20:14:43,  1.16it/s] "
     ]
    },
    {
     "name": "stdout",
     "output_type": "stream",
     "text": [
      "Epoch [15400/100000]\n",
      "Train Loss: 10.0875\n",
      "test Loss: 10.0870, test Accuracy: 0.0000\n",
      "test F1 (micro): 0.0000, test F1 (macro): 0.0000\n"
     ]
    },
    {
     "name": "stderr",
     "output_type": "stream",
     "text": [
      " 15%|█▌        | 15498/100000 [4:39:41<20:03:39,  1.17it/s] "
     ]
    },
    {
     "name": "stdout",
     "output_type": "stream",
     "text": [
      "Epoch [15500/100000]\n",
      "Train Loss: 10.5019\n",
      "test Loss: 10.1593, test Accuracy: 0.0000\n",
      "test F1 (micro): 0.0000, test F1 (macro): 0.0000\n"
     ]
    },
    {
     "name": "stderr",
     "output_type": "stream",
     "text": [
      " 16%|█▌        | 15598/100000 [4:41:31<20:03:32,  1.17it/s] "
     ]
    },
    {
     "name": "stdout",
     "output_type": "stream",
     "text": [
      "Epoch [15600/100000]\n",
      "Train Loss: 10.2275\n",
      "test Loss: 10.0901, test Accuracy: 0.0000\n",
      "test F1 (micro): 0.0000, test F1 (macro): 0.0000\n"
     ]
    },
    {
     "name": "stderr",
     "output_type": "stream",
     "text": [
      " 16%|█▌        | 15698/100000 [4:43:18<20:05:31,  1.17it/s] "
     ]
    },
    {
     "name": "stdout",
     "output_type": "stream",
     "text": [
      "Epoch [15700/100000]\n",
      "Train Loss: 10.1456\n",
      "test Loss: 10.1090, test Accuracy: 0.0000\n",
      "test F1 (micro): 0.0000, test F1 (macro): 0.0000\n"
     ]
    },
    {
     "name": "stderr",
     "output_type": "stream",
     "text": [
      " 16%|█▌        | 15798/100000 [4:45:08<20:03:04,  1.17it/s] "
     ]
    },
    {
     "name": "stdout",
     "output_type": "stream",
     "text": [
      "Epoch [15800/100000]\n",
      "Train Loss: 10.2332\n",
      "test Loss: 10.1021, test Accuracy: 0.0000\n",
      "test F1 (micro): 0.0000, test F1 (macro): 0.0000\n"
     ]
    },
    {
     "name": "stderr",
     "output_type": "stream",
     "text": [
      " 16%|█▌        | 15898/100000 [4:46:56<20:02:55,  1.17it/s] "
     ]
    },
    {
     "name": "stdout",
     "output_type": "stream",
     "text": [
      "Epoch [15900/100000]\n",
      "Train Loss: 10.3044\n",
      "test Loss: 10.1308, test Accuracy: 0.0000\n",
      "test F1 (micro): 0.0000, test F1 (macro): 0.0000\n"
     ]
    },
    {
     "name": "stderr",
     "output_type": "stream",
     "text": [
      " 16%|█▌        | 15998/100000 [4:48:41<19:47:22,  1.18it/s] "
     ]
    },
    {
     "name": "stdout",
     "output_type": "stream",
     "text": [
      "Epoch [16000/100000]\n",
      "Train Loss: 10.3263\n",
      "test Loss: 10.1287, test Accuracy: 0.0000\n",
      "test F1 (micro): 0.0000, test F1 (macro): 0.0000\n"
     ]
    },
    {
     "name": "stderr",
     "output_type": "stream",
     "text": [
      " 16%|█▌        | 16098/100000 [4:50:28<19:58:29,  1.17it/s] "
     ]
    },
    {
     "name": "stdout",
     "output_type": "stream",
     "text": [
      "Epoch [16100/100000]\n",
      "Train Loss: 10.1703\n",
      "test Loss: 10.1197, test Accuracy: 0.0000\n",
      "test F1 (micro): 0.0000, test F1 (macro): 0.0000\n"
     ]
    },
    {
     "name": "stderr",
     "output_type": "stream",
     "text": [
      " 16%|█▌        | 16198/100000 [4:52:17<19:55:24,  1.17it/s] "
     ]
    },
    {
     "name": "stdout",
     "output_type": "stream",
     "text": [
      "Epoch [16200/100000]\n",
      "Train Loss: 10.3130\n",
      "test Loss: 10.1161, test Accuracy: 0.0000\n",
      "test F1 (micro): 0.0000, test F1 (macro): 0.0000\n"
     ]
    },
    {
     "name": "stderr",
     "output_type": "stream",
     "text": [
      " 16%|█▋        | 16298/100000 [4:54:07<19:44:41,  1.18it/s] "
     ]
    },
    {
     "name": "stdout",
     "output_type": "stream",
     "text": [
      "Epoch [16300/100000]\n",
      "Train Loss: 10.3831\n",
      "test Loss: 10.1375, test Accuracy: 0.0000\n",
      "test F1 (micro): 0.0000, test F1 (macro): 0.0000\n"
     ]
    },
    {
     "name": "stderr",
     "output_type": "stream",
     "text": [
      " 16%|█▋        | 16398/100000 [4:55:54<19:56:05,  1.16it/s] "
     ]
    },
    {
     "name": "stdout",
     "output_type": "stream",
     "text": [
      "Epoch [16400/100000]\n",
      "Train Loss: 10.4414\n",
      "test Loss: 10.0923, test Accuracy: 0.0000\n",
      "test F1 (micro): 0.0000, test F1 (macro): 0.0000\n"
     ]
    },
    {
     "name": "stderr",
     "output_type": "stream",
     "text": [
      " 16%|█▋        | 16498/100000 [4:57:38<19:50:44,  1.17it/s] "
     ]
    },
    {
     "name": "stdout",
     "output_type": "stream",
     "text": [
      "Epoch [16500/100000]\n",
      "Train Loss: 10.3328\n",
      "test Loss: 10.0981, test Accuracy: 0.0000\n",
      "test F1 (micro): 0.0000, test F1 (macro): 0.0000\n"
     ]
    },
    {
     "name": "stderr",
     "output_type": "stream",
     "text": [
      " 17%|█▋        | 16598/100000 [4:59:33<19:49:06,  1.17it/s] "
     ]
    },
    {
     "name": "stdout",
     "output_type": "stream",
     "text": [
      "Epoch [16600/100000]\n",
      "Train Loss: 10.3343\n",
      "test Loss: 10.0891, test Accuracy: 0.0000\n",
      "test F1 (micro): 0.0000, test F1 (macro): 0.0000\n"
     ]
    },
    {
     "name": "stderr",
     "output_type": "stream",
     "text": [
      " 17%|█▋        | 16698/100000 [5:01:20<19:46:37,  1.17it/s] "
     ]
    },
    {
     "name": "stdout",
     "output_type": "stream",
     "text": [
      "Epoch [16700/100000]\n",
      "Train Loss: 10.3932\n",
      "test Loss: 10.0900, test Accuracy: 0.0000\n",
      "test F1 (micro): 0.0000, test F1 (macro): 0.0000\n"
     ]
    },
    {
     "name": "stderr",
     "output_type": "stream",
     "text": [
      " 17%|█▋        | 16798/100000 [5:03:06<19:46:44,  1.17it/s] "
     ]
    },
    {
     "name": "stdout",
     "output_type": "stream",
     "text": [
      "Epoch [16800/100000]\n",
      "Train Loss: 10.2173\n",
      "test Loss: 10.0836, test Accuracy: 0.0000\n",
      "test F1 (micro): 0.0000, test F1 (macro): 0.0000\n"
     ]
    },
    {
     "name": "stderr",
     "output_type": "stream",
     "text": [
      " 17%|█▋        | 16898/100000 [5:04:55<19:41:46,  1.17it/s] "
     ]
    },
    {
     "name": "stdout",
     "output_type": "stream",
     "text": [
      "Epoch [16900/100000]\n",
      "Train Loss: 10.2809\n",
      "test Loss: 10.0939, test Accuracy: 0.0000\n",
      "test F1 (micro): 0.0000, test F1 (macro): 0.0000\n"
     ]
    },
    {
     "name": "stderr",
     "output_type": "stream",
     "text": [
      " 55%|█████▍    | 54698/100000 [16:28:18<10:43:00,  1.17it/s]"
     ]
    },
    {
     "name": "stdout",
     "output_type": "stream",
     "text": [
      "Epoch [54700/100000]\n",
      "Train Loss: 10.6800\n",
      "test Loss: 10.2332, test Accuracy: 0.0000\n",
      "test F1 (micro): 0.0000, test F1 (macro): 0.0000\n"
     ]
    },
    {
     "name": "stderr",
     "output_type": "stream",
     "text": [
      " 55%|█████▍    | 54798/100000 [16:30:04<10:41:18,  1.17it/s]"
     ]
    },
    {
     "name": "stdout",
     "output_type": "stream",
     "text": [
      "Epoch [54800/100000]\n",
      "Train Loss: 10.8184\n",
      "test Loss: 10.2363, test Accuracy: 0.0000\n",
      "test F1 (micro): 0.0000, test F1 (macro): 0.0000\n"
     ]
    },
    {
     "name": "stderr",
     "output_type": "stream",
     "text": [
      " 55%|█████▍    | 54898/100000 [16:31:53<10:42:53,  1.17it/s]"
     ]
    },
    {
     "name": "stdout",
     "output_type": "stream",
     "text": [
      "Epoch [54900/100000]\n",
      "Train Loss: 10.7230\n",
      "test Loss: 10.2428, test Accuracy: 0.0000\n",
      "test F1 (micro): 0.0000, test F1 (macro): 0.0000\n"
     ]
    },
    {
     "name": "stderr",
     "output_type": "stream",
     "text": [
      " 55%|█████▍    | 54998/100000 [16:33:39<10:41:50,  1.17it/s]"
     ]
    },
    {
     "name": "stdout",
     "output_type": "stream",
     "text": [
      "Epoch [55000/100000]\n",
      "Train Loss: 10.8448\n",
      "test Loss: 10.2459, test Accuracy: 0.0000\n",
      "test F1 (micro): 0.0000, test F1 (macro): 0.0000\n"
     ]
    },
    {
     "name": "stderr",
     "output_type": "stream",
     "text": [
      " 55%|█████▌    | 55098/100000 [16:35:25<10:40:37,  1.17it/s]"
     ]
    },
    {
     "name": "stdout",
     "output_type": "stream",
     "text": [
      "Epoch [55100/100000]\n",
      "Train Loss: 10.8187\n",
      "test Loss: 10.2491, test Accuracy: 0.0000\n",
      "test F1 (micro): 0.0000, test F1 (macro): 0.0000\n"
     ]
    },
    {
     "name": "stderr",
     "output_type": "stream",
     "text": [
      " 55%|█████▌    | 55198/100000 [16:37:18<10:35:28,  1.18it/s] "
     ]
    },
    {
     "name": "stdout",
     "output_type": "stream",
     "text": [
      "Epoch [55200/100000]\n",
      "Train Loss: 10.6867\n",
      "test Loss: 10.2582, test Accuracy: 0.0000\n",
      "test F1 (micro): 0.0000, test F1 (macro): 0.0000\n"
     ]
    },
    {
     "name": "stderr",
     "output_type": "stream",
     "text": [
      " 55%|█████▌    | 55298/100000 [16:39:04<10:32:49,  1.18it/s]"
     ]
    },
    {
     "name": "stdout",
     "output_type": "stream",
     "text": [
      "Epoch [55300/100000]\n",
      "Train Loss: 10.6648\n",
      "test Loss: 10.2632, test Accuracy: 0.0000\n",
      "test F1 (micro): 0.0000, test F1 (macro): 0.0000\n"
     ]
    },
    {
     "name": "stderr",
     "output_type": "stream",
     "text": [
      " 55%|█████▌    | 55398/100000 [16:40:52<10:32:51,  1.17it/s]"
     ]
    },
    {
     "name": "stdout",
     "output_type": "stream",
     "text": [
      "Epoch [55400/100000]\n",
      "Train Loss: 10.8662\n",
      "test Loss: 10.2655, test Accuracy: 0.0000\n",
      "test F1 (micro): 0.0000, test F1 (macro): 0.0000\n"
     ]
    },
    {
     "name": "stderr",
     "output_type": "stream",
     "text": [
      " 55%|█████▌    | 55498/100000 [16:42:40<10:30:08,  1.18it/s]"
     ]
    },
    {
     "name": "stdout",
     "output_type": "stream",
     "text": [
      "Epoch [55500/100000]\n",
      "Train Loss: 10.8319\n",
      "test Loss: 10.2728, test Accuracy: 0.0000\n",
      "test F1 (micro): 0.0000, test F1 (macro): 0.0000\n"
     ]
    },
    {
     "name": "stderr",
     "output_type": "stream",
     "text": [
      " 56%|█████▌    | 55598/100000 [16:44:27<10:30:39,  1.17it/s]"
     ]
    },
    {
     "name": "stdout",
     "output_type": "stream",
     "text": [
      "Epoch [55600/100000]\n",
      "Train Loss: 10.5894\n",
      "test Loss: 10.2699, test Accuracy: 0.0000\n",
      "test F1 (micro): 0.0000, test F1 (macro): 0.0000\n"
     ]
    },
    {
     "name": "stderr",
     "output_type": "stream",
     "text": [
      " 56%|█████▌    | 55698/100000 [16:46:18<10:29:02,  1.17it/s] "
     ]
    },
    {
     "name": "stdout",
     "output_type": "stream",
     "text": [
      "Epoch [55700/100000]\n",
      "Train Loss: 10.5876\n",
      "test Loss: 10.2730, test Accuracy: 0.0000\n",
      "test F1 (micro): 0.0000, test F1 (macro): 0.0000\n"
     ]
    },
    {
     "name": "stderr",
     "output_type": "stream",
     "text": [
      " 56%|█████▌    | 55798/100000 [16:48:13<10:27:35,  1.17it/s] "
     ]
    },
    {
     "name": "stdout",
     "output_type": "stream",
     "text": [
      "Epoch [55800/100000]\n",
      "Train Loss: 10.7381\n",
      "test Loss: 10.2768, test Accuracy: 0.0000\n",
      "test F1 (micro): 0.0000, test F1 (macro): 0.0000\n"
     ]
    },
    {
     "name": "stderr",
     "output_type": "stream",
     "text": [
      " 56%|█████▌    | 55898/100000 [16:50:06<10:24:03,  1.18it/s] "
     ]
    },
    {
     "name": "stdout",
     "output_type": "stream",
     "text": [
      "Epoch [55900/100000]\n",
      "Train Loss: 10.5894\n",
      "test Loss: 10.2749, test Accuracy: 0.0000\n",
      "test F1 (micro): 0.0000, test F1 (macro): 0.0000\n"
     ]
    },
    {
     "name": "stderr",
     "output_type": "stream",
     "text": [
      " 56%|█████▌    | 55998/100000 [16:51:55<10:25:49,  1.17it/s]"
     ]
    },
    {
     "name": "stdout",
     "output_type": "stream",
     "text": [
      "Epoch [56000/100000]\n",
      "Train Loss: 10.8644\n",
      "test Loss: 10.2741, test Accuracy: 0.0000\n",
      "test F1 (micro): 0.0000, test F1 (macro): 0.0000\n"
     ]
    },
    {
     "name": "stderr",
     "output_type": "stream",
     "text": [
      " 56%|█████▌    | 56098/100000 [16:53:49<10:23:52,  1.17it/s] "
     ]
    },
    {
     "name": "stdout",
     "output_type": "stream",
     "text": [
      "Epoch [56100/100000]\n",
      "Train Loss: 10.6020\n",
      "test Loss: 10.2675, test Accuracy: 0.0000\n",
      "test F1 (micro): 0.0000, test F1 (macro): 0.0000\n"
     ]
    },
    {
     "name": "stderr",
     "output_type": "stream",
     "text": [
      " 56%|█████▌    | 56198/100000 [16:55:38<10:19:05,  1.18it/s]"
     ]
    },
    {
     "name": "stdout",
     "output_type": "stream",
     "text": [
      "Epoch [56200/100000]\n",
      "Train Loss: 10.7712\n",
      "test Loss: 10.2682, test Accuracy: 0.0000\n",
      "test F1 (micro): 0.0000, test F1 (macro): 0.0000\n"
     ]
    },
    {
     "name": "stderr",
     "output_type": "stream",
     "text": [
      " 56%|█████▋    | 56298/100000 [16:57:24<10:20:56,  1.17it/s]"
     ]
    },
    {
     "name": "stdout",
     "output_type": "stream",
     "text": [
      "Epoch [56300/100000]\n",
      "Train Loss: 10.6139\n",
      "test Loss: 10.2655, test Accuracy: 0.0000\n",
      "test F1 (micro): 0.0000, test F1 (macro): 0.0000\n"
     ]
    },
    {
     "name": "stderr",
     "output_type": "stream",
     "text": [
      " 56%|█████▋    | 56398/100000 [16:59:19<10:19:05,  1.17it/s] "
     ]
    },
    {
     "name": "stdout",
     "output_type": "stream",
     "text": [
      "Epoch [56400/100000]\n",
      "Train Loss: 11.1227\n",
      "test Loss: 10.2644, test Accuracy: 0.0000\n",
      "test F1 (micro): 0.0000, test F1 (macro): 0.0000\n"
     ]
    },
    {
     "name": "stderr",
     "output_type": "stream",
     "text": [
      " 56%|█████▋    | 56498/100000 [17:01:04<10:18:08,  1.17it/s]"
     ]
    },
    {
     "name": "stdout",
     "output_type": "stream",
     "text": [
      "Epoch [56500/100000]\n",
      "Train Loss: 10.7543\n",
      "test Loss: 10.2628, test Accuracy: 0.0000\n",
      "test F1 (micro): 0.0000, test F1 (macro): 0.0000\n"
     ]
    },
    {
     "name": "stderr",
     "output_type": "stream",
     "text": [
      " 57%|█████▋    | 56598/100000 [17:02:51<10:18:10,  1.17it/s]"
     ]
    },
    {
     "name": "stdout",
     "output_type": "stream",
     "text": [
      "Epoch [56600/100000]\n",
      "Train Loss: 10.8055\n",
      "test Loss: 10.2730, test Accuracy: 0.0000\n",
      "test F1 (micro): 0.0000, test F1 (macro): 0.0000\n"
     ]
    },
    {
     "name": "stderr",
     "output_type": "stream",
     "text": [
      " 57%|█████▋    | 56698/100000 [17:04:37<10:14:56,  1.17it/s]"
     ]
    },
    {
     "name": "stdout",
     "output_type": "stream",
     "text": [
      "Epoch [56700/100000]\n",
      "Train Loss: 10.8270\n",
      "test Loss: 10.2560, test Accuracy: 0.0000\n",
      "test F1 (micro): 0.0000, test F1 (macro): 0.0000\n"
     ]
    },
    {
     "name": "stderr",
     "output_type": "stream",
     "text": [
      " 57%|█████▋    | 56798/100000 [17:06:24<10:13:53,  1.17it/s]"
     ]
    },
    {
     "name": "stdout",
     "output_type": "stream",
     "text": [
      "Epoch [56800/100000]\n",
      "Train Loss: 10.9367\n",
      "test Loss: 10.2463, test Accuracy: 0.0000\n",
      "test F1 (micro): 0.0000, test F1 (macro): 0.0000\n"
     ]
    },
    {
     "name": "stderr",
     "output_type": "stream",
     "text": [
      " 57%|█████▋    | 56898/100000 [17:08:11<10:12:36,  1.17it/s]"
     ]
    },
    {
     "name": "stdout",
     "output_type": "stream",
     "text": [
      "Epoch [56900/100000]\n",
      "Train Loss: 10.7645\n",
      "test Loss: 10.2521, test Accuracy: 0.0000\n",
      "test F1 (micro): 0.0000, test F1 (macro): 0.0000\n"
     ]
    },
    {
     "name": "stderr",
     "output_type": "stream",
     "text": [
      " 57%|█████▋    | 56998/100000 [17:09:57<10:11:49,  1.17it/s]"
     ]
    },
    {
     "name": "stdout",
     "output_type": "stream",
     "text": [
      "Epoch [57000/100000]\n",
      "Train Loss: 10.6957\n",
      "test Loss: 10.2581, test Accuracy: 0.0000\n",
      "test F1 (micro): 0.0000, test F1 (macro): 0.0000\n"
     ]
    },
    {
     "name": "stderr",
     "output_type": "stream",
     "text": [
      " 57%|█████▋    | 57098/100000 [17:11:43<10:09:22,  1.17it/s]"
     ]
    },
    {
     "name": "stdout",
     "output_type": "stream",
     "text": [
      "Epoch [57100/100000]\n",
      "Train Loss: 10.5851\n",
      "test Loss: 10.2669, test Accuracy: 0.0000\n",
      "test F1 (micro): 0.0000, test F1 (macro): 0.0000\n"
     ]
    },
    {
     "name": "stderr",
     "output_type": "stream",
     "text": [
      " 57%|█████▋    | 57198/100000 [17:13:33<10:04:22,  1.18it/s]"
     ]
    },
    {
     "name": "stdout",
     "output_type": "stream",
     "text": [
      "Epoch [57200/100000]\n",
      "Train Loss: 10.6629\n",
      "test Loss: 10.2736, test Accuracy: 0.0000\n",
      "test F1 (micro): 0.0000, test F1 (macro): 0.0000\n"
     ]
    },
    {
     "name": "stderr",
     "output_type": "stream",
     "text": [
      " 57%|█████▋    | 57298/100000 [17:15:22<10:08:11,  1.17it/s]"
     ]
    },
    {
     "name": "stdout",
     "output_type": "stream",
     "text": [
      "Epoch [57300/100000]\n",
      "Train Loss: 10.9352\n",
      "test Loss: 10.2824, test Accuracy: 0.0000\n",
      "test F1 (micro): 0.0000, test F1 (macro): 0.0000\n"
     ]
    },
    {
     "name": "stderr",
     "output_type": "stream",
     "text": [
      " 57%|█████▋    | 57398/100000 [17:17:07<13:26:46,  1.14s/it]"
     ]
    },
    {
     "name": "stdout",
     "output_type": "stream",
     "text": [
      "Epoch [57400/100000]\n",
      "Train Loss: 10.7548\n",
      "test Loss: 10.2723, test Accuracy: 0.0000\n",
      "test F1 (micro): 0.0000, test F1 (macro): 0.0000\n"
     ]
    },
    {
     "name": "stderr",
     "output_type": "stream",
     "text": [
      " 57%|█████▋    | 57498/100000 [17:18:58<10:03:59,  1.17it/s] "
     ]
    },
    {
     "name": "stdout",
     "output_type": "stream",
     "text": [
      "Epoch [57500/100000]\n",
      "Train Loss: 10.9737\n",
      "test Loss: 10.2689, test Accuracy: 0.0000\n",
      "test F1 (micro): 0.0000, test F1 (macro): 0.0000\n"
     ]
    },
    {
     "name": "stderr",
     "output_type": "stream",
     "text": [
      " 58%|█████▊    | 57598/100000 [17:20:59<10:02:07,  1.17it/s] "
     ]
    },
    {
     "name": "stdout",
     "output_type": "stream",
     "text": [
      "Epoch [57600/100000]\n",
      "Train Loss: 10.8730\n",
      "test Loss: 10.2694, test Accuracy: 0.0000\n",
      "test F1 (micro): 0.0000, test F1 (macro): 0.0000\n"
     ]
    },
    {
     "name": "stderr",
     "output_type": "stream",
     "text": [
      " 58%|█████▊    | 57631/100000 [17:21:51<10:03:36,  1.17it/s]IOPub message rate exceeded.\n",
      "The Jupyter server will temporarily stop sending output\n",
      "to the client in order to avoid crashing it.\n",
      "To change this limit, set the config variable\n",
      "`--ServerApp.iopub_msg_rate_limit`.\n",
      "\n",
      "Current values:\n",
      "ServerApp.iopub_msg_rate_limit=1000.0 (msgs/sec)\n",
      "ServerApp.rate_limit_window=3.0 (secs)\n",
      "\n",
      " 58%|█████▊    | 57698/100000 [17:22:48<10:03:39,  1.17it/s]"
     ]
    },
    {
     "name": "stdout",
     "output_type": "stream",
     "text": [
      "Epoch [57700/100000]\n",
      "Train Loss: 10.7168\n",
      "test Loss: 10.2712, test Accuracy: 0.0000\n",
      "test F1 (micro): 0.0000, test F1 (macro): 0.0000\n"
     ]
    },
    {
     "name": "stderr",
     "output_type": "stream",
     "text": [
      " 58%|█████▊    | 57798/100000 [17:24:36<9:59:53,  1.17it/s] "
     ]
    },
    {
     "name": "stdout",
     "output_type": "stream",
     "text": [
      "Epoch [57800/100000]\n",
      "Train Loss: 11.0049\n",
      "test Loss: 10.2744, test Accuracy: 0.0000\n",
      "test F1 (micro): 0.0000, test F1 (macro): 0.0000\n"
     ]
    },
    {
     "name": "stderr",
     "output_type": "stream",
     "text": [
      " 58%|█████▊    | 57898/100000 [17:26:24<9:59:20,  1.17it/s] "
     ]
    },
    {
     "name": "stdout",
     "output_type": "stream",
     "text": [
      "Epoch [57900/100000]\n",
      "Train Loss: 10.6853\n",
      "test Loss: 10.2806, test Accuracy: 0.0000\n",
      "test F1 (micro): 0.0000, test F1 (macro): 0.0000\n"
     ]
    },
    {
     "name": "stderr",
     "output_type": "stream",
     "text": [
      " 58%|█████▊    | 57998/100000 [17:28:14<9:57:27,  1.17it/s] "
     ]
    },
    {
     "name": "stdout",
     "output_type": "stream",
     "text": [
      "Epoch [58000/100000]\n",
      "Train Loss: 10.9313\n",
      "test Loss: 10.2825, test Accuracy: 0.0000\n",
      "test F1 (micro): 0.0000, test F1 (macro): 0.0000\n"
     ]
    },
    {
     "name": "stderr",
     "output_type": "stream",
     "text": [
      " 58%|█████▊    | 58098/100000 [17:30:01<9:58:14,  1.17it/s] "
     ]
    },
    {
     "name": "stdout",
     "output_type": "stream",
     "text": [
      "Epoch [58100/100000]\n",
      "Train Loss: 10.6521\n",
      "test Loss: 10.2907, test Accuracy: 0.0000\n",
      "test F1 (micro): 0.0000, test F1 (macro): 0.0000\n"
     ]
    },
    {
     "name": "stderr",
     "output_type": "stream",
     "text": [
      " 58%|█████▊    | 58198/100000 [17:31:47<9:54:42,  1.17it/s] "
     ]
    },
    {
     "name": "stdout",
     "output_type": "stream",
     "text": [
      "Epoch [58200/100000]\n",
      "Train Loss: 10.9455\n",
      "test Loss: 10.2747, test Accuracy: 0.0000\n",
      "test F1 (micro): 0.0000, test F1 (macro): 0.0000\n"
     ]
    },
    {
     "name": "stderr",
     "output_type": "stream",
     "text": [
      " 58%|█████▊    | 58298/100000 [17:33:40<9:51:45,  1.17it/s]  "
     ]
    },
    {
     "name": "stdout",
     "output_type": "stream",
     "text": [
      "Epoch [58300/100000]\n",
      "Train Loss: 10.8063\n",
      "test Loss: 10.2731, test Accuracy: 0.0000\n",
      "test F1 (micro): 0.0000, test F1 (macro): 0.0000\n"
     ]
    },
    {
     "name": "stderr",
     "output_type": "stream",
     "text": [
      " 58%|█████▊    | 58398/100000 [17:35:26<9:51:45,  1.17it/s] "
     ]
    },
    {
     "name": "stdout",
     "output_type": "stream",
     "text": [
      "Epoch [58400/100000]\n",
      "Train Loss: 11.0033\n",
      "test Loss: 10.2660, test Accuracy: 0.0000\n",
      "test F1 (micro): 0.0000, test F1 (macro): 0.0000\n"
     ]
    },
    {
     "name": "stderr",
     "output_type": "stream",
     "text": [
      " 58%|█████▊    | 58498/100000 [17:37:21<9:50:19,  1.17it/s]  "
     ]
    },
    {
     "name": "stdout",
     "output_type": "stream",
     "text": [
      "Epoch [58500/100000]\n",
      "Train Loss: 10.5239\n",
      "test Loss: 10.2649, test Accuracy: 0.0000\n",
      "test F1 (micro): 0.0000, test F1 (macro): 0.0000\n"
     ]
    },
    {
     "name": "stderr",
     "output_type": "stream",
     "text": [
      " 59%|█████▊    | 58698/100000 [17:40:57<9:47:53,  1.17it/s] "
     ]
    },
    {
     "name": "stdout",
     "output_type": "stream",
     "text": [
      "Epoch [58700/100000]\n",
      "Train Loss: 10.7430\n",
      "test Loss: 10.2624, test Accuracy: 0.0000\n",
      "test F1 (micro): 0.0000, test F1 (macro): 0.0000\n"
     ]
    },
    {
     "name": "stderr",
     "output_type": "stream",
     "text": [
      " 59%|█████▉    | 58798/100000 [17:42:44<9:48:04,  1.17it/s] "
     ]
    },
    {
     "name": "stdout",
     "output_type": "stream",
     "text": [
      "Epoch [58800/100000]\n",
      "Train Loss: 10.7497\n",
      "test Loss: 10.2758, test Accuracy: 0.0000\n",
      "test F1 (micro): 0.0000, test F1 (macro): 0.0000\n"
     ]
    },
    {
     "name": "stderr",
     "output_type": "stream",
     "text": [
      " 59%|█████▉    | 58898/100000 [17:44:33<9:45:19,  1.17it/s] "
     ]
    },
    {
     "name": "stdout",
     "output_type": "stream",
     "text": [
      "Epoch [58900/100000]\n",
      "Train Loss: 10.8886\n",
      "test Loss: 10.2813, test Accuracy: 0.0000\n",
      "test F1 (micro): 0.0000, test F1 (macro): 0.0000\n"
     ]
    },
    {
     "name": "stderr",
     "output_type": "stream",
     "text": [
      " 59%|█████▉    | 58998/100000 [17:46:19<9:44:50,  1.17it/s] "
     ]
    },
    {
     "name": "stdout",
     "output_type": "stream",
     "text": [
      "Epoch [59000/100000]\n",
      "Train Loss: 10.9599\n",
      "test Loss: 10.2867, test Accuracy: 0.0000\n",
      "test F1 (micro): 0.0000, test F1 (macro): 0.0000\n"
     ]
    },
    {
     "name": "stderr",
     "output_type": "stream",
     "text": [
      " 59%|█████▉    | 59098/100000 [17:48:05<9:45:35,  1.16it/s] "
     ]
    },
    {
     "name": "stdout",
     "output_type": "stream",
     "text": [
      "Epoch [59100/100000]\n",
      "Train Loss: 10.7295\n",
      "test Loss: 10.3030, test Accuracy: 0.0000\n",
      "test F1 (micro): 0.0000, test F1 (macro): 0.0000\n"
     ]
    },
    {
     "name": "stderr",
     "output_type": "stream",
     "text": [
      " 59%|█████▉    | 59198/100000 [17:49:51<9:39:47,  1.17it/s] "
     ]
    },
    {
     "name": "stdout",
     "output_type": "stream",
     "text": [
      "Epoch [59200/100000]\n",
      "Train Loss: 10.8504\n",
      "test Loss: 10.2982, test Accuracy: 0.0000\n",
      "test F1 (micro): 0.0000, test F1 (macro): 0.0000\n"
     ]
    },
    {
     "name": "stderr",
     "output_type": "stream",
     "text": [
      " 59%|█████▉    | 59298/100000 [17:51:42<9:36:32,  1.18it/s] "
     ]
    },
    {
     "name": "stdout",
     "output_type": "stream",
     "text": [
      "Epoch [59300/100000]\n",
      "Train Loss: 10.9713\n",
      "test Loss: 10.3098, test Accuracy: 0.0000\n",
      "test F1 (micro): 0.0000, test F1 (macro): 0.0000\n"
     ]
    },
    {
     "name": "stderr",
     "output_type": "stream",
     "text": [
      " 59%|█████▉    | 59398/100000 [17:53:27<9:33:35,  1.18it/s] "
     ]
    },
    {
     "name": "stdout",
     "output_type": "stream",
     "text": [
      "Epoch [59400/100000]\n",
      "Train Loss: 10.7640\n",
      "test Loss: 10.3013, test Accuracy: 0.0000\n",
      "test F1 (micro): 0.0000, test F1 (macro): 0.0000\n"
     ]
    },
    {
     "name": "stderr",
     "output_type": "stream",
     "text": [
      " 59%|█████▉    | 59498/100000 [17:55:12<9:32:10,  1.18it/s] "
     ]
    },
    {
     "name": "stdout",
     "output_type": "stream",
     "text": [
      "Epoch [59500/100000]\n",
      "Train Loss: 10.7323\n",
      "test Loss: 10.3043, test Accuracy: 0.0000\n",
      "test F1 (micro): 0.0000, test F1 (macro): 0.0000\n"
     ]
    },
    {
     "name": "stderr",
     "output_type": "stream",
     "text": [
      " 60%|█████▉    | 59598/100000 [17:56:59<9:34:22,  1.17it/s] "
     ]
    },
    {
     "name": "stdout",
     "output_type": "stream",
     "text": [
      "Epoch [59600/100000]\n",
      "Train Loss: 10.5696\n",
      "test Loss: 10.3117, test Accuracy: 0.0000\n",
      "test F1 (micro): 0.0000, test F1 (macro): 0.0000\n"
     ]
    },
    {
     "name": "stderr",
     "output_type": "stream",
     "text": [
      " 60%|█████▉    | 59698/100000 [17:58:45<9:33:05,  1.17it/s] "
     ]
    },
    {
     "name": "stdout",
     "output_type": "stream",
     "text": [
      "Epoch [59700/100000]\n",
      "Train Loss: 10.6906\n",
      "test Loss: 10.3176, test Accuracy: 0.0000\n",
      "test F1 (micro): 0.0000, test F1 (macro): 0.0000\n"
     ]
    },
    {
     "name": "stderr",
     "output_type": "stream",
     "text": [
      " 60%|█████▉    | 59798/100000 [18:00:31<9:29:46,  1.18it/s] "
     ]
    },
    {
     "name": "stdout",
     "output_type": "stream",
     "text": [
      "Epoch [59800/100000]\n",
      "Train Loss: 11.1062\n",
      "test Loss: 10.3144, test Accuracy: 0.0000\n",
      "test F1 (micro): 0.0000, test F1 (macro): 0.0000\n"
     ]
    },
    {
     "name": "stderr",
     "output_type": "stream",
     "text": [
      " 60%|█████▉    | 59898/100000 [18:02:22<9:30:21,  1.17it/s] "
     ]
    },
    {
     "name": "stdout",
     "output_type": "stream",
     "text": [
      "Epoch [59900/100000]\n",
      "Train Loss: 10.8275\n",
      "test Loss: 10.2988, test Accuracy: 0.0000\n",
      "test F1 (micro): 0.0000, test F1 (macro): 0.0000\n"
     ]
    },
    {
     "name": "stderr",
     "output_type": "stream",
     "text": [
      " 60%|█████▉    | 59998/100000 [18:04:10<9:28:54,  1.17it/s] "
     ]
    },
    {
     "name": "stdout",
     "output_type": "stream",
     "text": [
      "Epoch [60000/100000]\n",
      "Train Loss: 10.7924\n",
      "test Loss: 10.2853, test Accuracy: 0.0000\n",
      "test F1 (micro): 0.0000, test F1 (macro): 0.0000\n"
     ]
    },
    {
     "name": "stderr",
     "output_type": "stream",
     "text": [
      " 60%|██████    | 60098/100000 [18:05:56<9:25:52,  1.18it/s] "
     ]
    },
    {
     "name": "stdout",
     "output_type": "stream",
     "text": [
      "Epoch [60100/100000]\n",
      "Train Loss: 10.8168\n",
      "test Loss: 10.2900, test Accuracy: 0.0000\n",
      "test F1 (micro): 0.0000, test F1 (macro): 0.0000\n"
     ]
    },
    {
     "name": "stderr",
     "output_type": "stream",
     "text": [
      " 60%|██████    | 60198/100000 [18:07:48<9:28:29,  1.17it/s] "
     ]
    },
    {
     "name": "stdout",
     "output_type": "stream",
     "text": [
      "Epoch [60200/100000]\n",
      "Train Loss: 10.8674\n",
      "test Loss: 10.2874, test Accuracy: 0.0000\n",
      "test F1 (micro): 0.0000, test F1 (macro): 0.0000\n"
     ]
    },
    {
     "name": "stderr",
     "output_type": "stream",
     "text": [
      " 60%|██████    | 60298/100000 [18:09:38<9:23:47,  1.17it/s] "
     ]
    },
    {
     "name": "stdout",
     "output_type": "stream",
     "text": [
      "Epoch [60300/100000]\n",
      "Train Loss: 10.8455\n",
      "test Loss: 10.2865, test Accuracy: 0.0000\n",
      "test F1 (micro): 0.0000, test F1 (macro): 0.0000\n"
     ]
    },
    {
     "name": "stderr",
     "output_type": "stream",
     "text": [
      " 60%|██████    | 60398/100000 [18:11:24<9:22:32,  1.17it/s] "
     ]
    },
    {
     "name": "stdout",
     "output_type": "stream",
     "text": [
      "Epoch [60400/100000]\n",
      "Train Loss: 10.5248\n",
      "test Loss: 10.2820, test Accuracy: 0.0000\n",
      "test F1 (micro): 0.0000, test F1 (macro): 0.0000\n"
     ]
    },
    {
     "name": "stderr",
     "output_type": "stream",
     "text": [
      " 60%|██████    | 60498/100000 [18:13:11<9:20:29,  1.17it/s] "
     ]
    },
    {
     "name": "stdout",
     "output_type": "stream",
     "text": [
      "Epoch [60500/100000]\n",
      "Train Loss: 11.0790\n",
      "test Loss: 10.2866, test Accuracy: 0.0000\n",
      "test F1 (micro): 0.0000, test F1 (macro): 0.0000\n"
     ]
    },
    {
     "name": "stderr",
     "output_type": "stream",
     "text": [
      " 61%|██████    | 60598/100000 [18:15:03<9:19:54,  1.17it/s]  "
     ]
    },
    {
     "name": "stdout",
     "output_type": "stream",
     "text": [
      "Epoch [60600/100000]\n",
      "Train Loss: 10.8817\n",
      "test Loss: 10.2927, test Accuracy: 0.0000\n",
      "test F1 (micro): 0.0000, test F1 (macro): 0.0000\n"
     ]
    },
    {
     "name": "stderr",
     "output_type": "stream",
     "text": [
      " 61%|██████    | 60798/100000 [18:18:40<9:17:07,  1.17it/s] "
     ]
    },
    {
     "name": "stdout",
     "output_type": "stream",
     "text": [
      "Epoch [60800/100000]\n",
      "Train Loss: 10.8234\n",
      "test Loss: 10.2978, test Accuracy: 0.0000\n",
      "test F1 (micro): 0.0000, test F1 (macro): 0.0000\n"
     ]
    },
    {
     "name": "stderr",
     "output_type": "stream",
     "text": [
      " 61%|██████    | 60898/100000 [18:20:31<9:13:24,  1.18it/s] "
     ]
    },
    {
     "name": "stdout",
     "output_type": "stream",
     "text": [
      "Epoch [60900/100000]\n",
      "Train Loss: 10.9520\n",
      "test Loss: 10.3011, test Accuracy: 0.0000\n",
      "test F1 (micro): 0.0000, test F1 (macro): 0.0000\n"
     ]
    },
    {
     "name": "stderr",
     "output_type": "stream",
     "text": [
      " 61%|██████    | 60998/100000 [18:22:22<9:15:42,  1.17it/s] "
     ]
    },
    {
     "name": "stdout",
     "output_type": "stream",
     "text": [
      "Epoch [61000/100000]\n",
      "Train Loss: 11.0879\n",
      "test Loss: 10.3001, test Accuracy: 0.0000\n",
      "test F1 (micro): 0.0000, test F1 (macro): 0.0000\n"
     ]
    },
    {
     "name": "stderr",
     "output_type": "stream",
     "text": [
      " 61%|██████    | 61098/100000 [18:24:08<9:14:52,  1.17it/s] "
     ]
    },
    {
     "name": "stdout",
     "output_type": "stream",
     "text": [
      "Epoch [61100/100000]\n",
      "Train Loss: 10.8336\n",
      "test Loss: 10.2980, test Accuracy: 0.0000\n",
      "test F1 (micro): 0.0000, test F1 (macro): 0.0000\n"
     ]
    },
    {
     "name": "stderr",
     "output_type": "stream",
     "text": [
      " 61%|██████    | 61198/100000 [18:26:01<9:10:02,  1.18it/s] "
     ]
    },
    {
     "name": "stdout",
     "output_type": "stream",
     "text": [
      "Epoch [61200/100000]\n",
      "Train Loss: 10.9054\n",
      "test Loss: 10.2875, test Accuracy: 0.0000\n",
      "test F1 (micro): 0.0000, test F1 (macro): 0.0000\n"
     ]
    },
    {
     "name": "stderr",
     "output_type": "stream",
     "text": [
      " 61%|██████▏   | 61298/100000 [18:27:46<9:07:50,  1.18it/s] "
     ]
    },
    {
     "name": "stdout",
     "output_type": "stream",
     "text": [
      "Epoch [61300/100000]\n",
      "Train Loss: 10.7067\n",
      "test Loss: 10.2882, test Accuracy: 0.0000\n",
      "test F1 (micro): 0.0000, test F1 (macro): 0.0000\n"
     ]
    },
    {
     "name": "stderr",
     "output_type": "stream",
     "text": [
      " 61%|██████▏   | 61398/100000 [18:29:34<9:12:17,  1.16it/s] "
     ]
    },
    {
     "name": "stdout",
     "output_type": "stream",
     "text": [
      "Epoch [61400/100000]\n",
      "Train Loss: 11.0296\n",
      "test Loss: 10.2847, test Accuracy: 0.0000\n",
      "test F1 (micro): 0.0000, test F1 (macro): 0.0000\n"
     ]
    },
    {
     "name": "stderr",
     "output_type": "stream",
     "text": [
      " 61%|██████▏   | 61498/100000 [18:31:27<9:08:34,  1.17it/s] "
     ]
    },
    {
     "name": "stdout",
     "output_type": "stream",
     "text": [
      "Epoch [61500/100000]\n",
      "Train Loss: 11.0405\n",
      "test Loss: 10.2832, test Accuracy: 0.0000\n",
      "test F1 (micro): 0.0000, test F1 (macro): 0.0000\n"
     ]
    },
    {
     "name": "stderr",
     "output_type": "stream",
     "text": [
      " 62%|██████▏   | 61598/100000 [18:33:16<9:03:53,  1.18it/s] "
     ]
    },
    {
     "name": "stdout",
     "output_type": "stream",
     "text": [
      "Epoch [61600/100000]\n",
      "Train Loss: 10.8631\n",
      "test Loss: 10.2629, test Accuracy: 0.0000\n",
      "test F1 (micro): 0.0000, test F1 (macro): 0.0000\n"
     ]
    },
    {
     "name": "stderr",
     "output_type": "stream",
     "text": [
      " 62%|██████▏   | 61698/100000 [18:35:07<9:04:06,  1.17it/s] "
     ]
    },
    {
     "name": "stdout",
     "output_type": "stream",
     "text": [
      "Epoch [61700/100000]\n",
      "Train Loss: 10.7250\n",
      "test Loss: 10.2540, test Accuracy: 0.0000\n",
      "test F1 (micro): 0.0000, test F1 (macro): 0.0000\n"
     ]
    },
    {
     "name": "stderr",
     "output_type": "stream",
     "text": [
      " 62%|██████▏   | 61798/100000 [18:36:52<9:04:04,  1.17it/s] "
     ]
    },
    {
     "name": "stdout",
     "output_type": "stream",
     "text": [
      "Epoch [61800/100000]\n",
      "Train Loss: 10.9204\n",
      "test Loss: 10.2653, test Accuracy: 0.0000\n",
      "test F1 (micro): 0.0000, test F1 (macro): 0.0000\n"
     ]
    },
    {
     "name": "stderr",
     "output_type": "stream",
     "text": [
      " 62%|██████▏   | 61898/100000 [18:38:46<8:59:46,  1.18it/s]  "
     ]
    },
    {
     "name": "stdout",
     "output_type": "stream",
     "text": [
      "Epoch [61900/100000]\n",
      "Train Loss: 10.8448\n",
      "test Loss: 10.2657, test Accuracy: 0.0000\n",
      "test F1 (micro): 0.0000, test F1 (macro): 0.0000\n"
     ]
    },
    {
     "name": "stderr",
     "output_type": "stream",
     "text": [
      " 62%|██████▏   | 61998/100000 [18:40:38<8:56:05,  1.18it/s] "
     ]
    },
    {
     "name": "stdout",
     "output_type": "stream",
     "text": [
      "Epoch [62000/100000]\n",
      "Train Loss: 10.8463\n",
      "test Loss: 10.2793, test Accuracy: 0.0000\n",
      "test F1 (micro): 0.0000, test F1 (macro): 0.0000\n"
     ]
    },
    {
     "name": "stderr",
     "output_type": "stream",
     "text": [
      " 62%|██████▏   | 62098/100000 [18:42:26<9:04:22,  1.16it/s] "
     ]
    },
    {
     "name": "stdout",
     "output_type": "stream",
     "text": [
      "Epoch [62100/100000]\n",
      "Train Loss: 10.6437\n",
      "test Loss: 10.2882, test Accuracy: 0.0000\n",
      "test F1 (micro): 0.0000, test F1 (macro): 0.0000\n"
     ]
    },
    {
     "name": "stderr",
     "output_type": "stream",
     "text": [
      " 62%|██████▏   | 62198/100000 [18:44:11<8:56:37,  1.17it/s] "
     ]
    },
    {
     "name": "stdout",
     "output_type": "stream",
     "text": [
      "Epoch [62200/100000]\n",
      "Train Loss: 10.9923\n",
      "test Loss: 10.2914, test Accuracy: 0.0000\n",
      "test F1 (micro): 0.0000, test F1 (macro): 0.0000\n"
     ]
    },
    {
     "name": "stderr",
     "output_type": "stream",
     "text": [
      " 62%|██████▏   | 62298/100000 [18:45:55<8:53:27,  1.18it/s] "
     ]
    },
    {
     "name": "stdout",
     "output_type": "stream",
     "text": [
      "Epoch [62300/100000]\n",
      "Train Loss: 10.9693\n",
      "test Loss: 10.2914, test Accuracy: 0.0000\n",
      "test F1 (micro): 0.0000, test F1 (macro): 0.0000\n"
     ]
    },
    {
     "name": "stderr",
     "output_type": "stream",
     "text": [
      " 62%|██████▏   | 62398/100000 [18:47:43<8:55:46,  1.17it/s] "
     ]
    },
    {
     "name": "stdout",
     "output_type": "stream",
     "text": [
      "Epoch [62400/100000]\n",
      "Train Loss: 11.0782\n",
      "test Loss: 10.3004, test Accuracy: 0.0000\n",
      "test F1 (micro): 0.0000, test F1 (macro): 0.0000\n"
     ]
    },
    {
     "name": "stderr",
     "output_type": "stream",
     "text": [
      " 62%|██████▏   | 62498/100000 [18:49:32<8:53:16,  1.17it/s] "
     ]
    },
    {
     "name": "stdout",
     "output_type": "stream",
     "text": [
      "Epoch [62500/100000]\n",
      "Train Loss: 10.8707\n",
      "test Loss: 10.3085, test Accuracy: 0.0000\n",
      "test F1 (micro): 0.0000, test F1 (macro): 0.0000\n"
     ]
    },
    {
     "name": "stderr",
     "output_type": "stream",
     "text": [
      " 63%|██████▎   | 62598/100000 [18:51:18<8:52:05,  1.17it/s] "
     ]
    },
    {
     "name": "stdout",
     "output_type": "stream",
     "text": [
      "Epoch [62600/100000]\n",
      "Train Loss: 11.0078\n",
      "test Loss: 10.3128, test Accuracy: 0.0000\n",
      "test F1 (micro): 0.0000, test F1 (macro): 0.0000\n"
     ]
    },
    {
     "name": "stderr",
     "output_type": "stream",
     "text": [
      " 63%|██████▎   | 62698/100000 [18:53:07<8:48:37,  1.18it/s] "
     ]
    },
    {
     "name": "stdout",
     "output_type": "stream",
     "text": [
      "Epoch [62700/100000]\n",
      "Train Loss: 10.7935\n",
      "test Loss: 10.3194, test Accuracy: 0.0000\n",
      "test F1 (micro): 0.0000, test F1 (macro): 0.0000\n"
     ]
    },
    {
     "name": "stderr",
     "output_type": "stream",
     "text": [
      " 63%|██████▎   | 62798/100000 [18:54:55<8:52:56,  1.16it/s] "
     ]
    },
    {
     "name": "stdout",
     "output_type": "stream",
     "text": [
      "Epoch [62800/100000]\n",
      "Train Loss: 10.6752\n",
      "test Loss: 10.3137, test Accuracy: 0.0000\n",
      "test F1 (micro): 0.0000, test F1 (macro): 0.0000\n"
     ]
    },
    {
     "name": "stderr",
     "output_type": "stream",
     "text": [
      " 63%|██████▎   | 62898/100000 [18:56:44<8:48:43,  1.17it/s] "
     ]
    },
    {
     "name": "stdout",
     "output_type": "stream",
     "text": [
      "Epoch [62900/100000]\n",
      "Train Loss: 11.0366\n",
      "test Loss: 10.3108, test Accuracy: 0.0000\n",
      "test F1 (micro): 0.0000, test F1 (macro): 0.0000\n"
     ]
    },
    {
     "name": "stderr",
     "output_type": "stream",
     "text": [
      " 63%|██████▎   | 62998/100000 [18:58:33<8:41:09,  1.18it/s] "
     ]
    },
    {
     "name": "stdout",
     "output_type": "stream",
     "text": [
      "Epoch [63000/100000]\n",
      "Train Loss: 10.8691\n",
      "test Loss: 10.3153, test Accuracy: 0.0000\n",
      "test F1 (micro): 0.0000, test F1 (macro): 0.0000\n"
     ]
    },
    {
     "name": "stderr",
     "output_type": "stream",
     "text": [
      " 63%|██████▎   | 63098/100000 [19:00:18<8:44:03,  1.17it/s] "
     ]
    },
    {
     "name": "stdout",
     "output_type": "stream",
     "text": [
      "Epoch [63100/100000]\n",
      "Train Loss: 10.8628\n",
      "test Loss: 10.3131, test Accuracy: 0.0000\n",
      "test F1 (micro): 0.0000, test F1 (macro): 0.0000\n"
     ]
    },
    {
     "name": "stderr",
     "output_type": "stream",
     "text": [
      " 63%|██████▎   | 63198/100000 [19:02:04<8:42:42,  1.17it/s] "
     ]
    },
    {
     "name": "stdout",
     "output_type": "stream",
     "text": [
      "Epoch [63200/100000]\n",
      "Train Loss: 10.9903\n",
      "test Loss: 10.3124, test Accuracy: 0.0000\n",
      "test F1 (micro): 0.0000, test F1 (macro): 0.0000\n"
     ]
    },
    {
     "name": "stderr",
     "output_type": "stream",
     "text": [
      " 63%|██████▎   | 63298/100000 [19:03:50<8:42:53,  1.17it/s] "
     ]
    },
    {
     "name": "stdout",
     "output_type": "stream",
     "text": [
      "Epoch [63300/100000]\n",
      "Train Loss: 10.8535\n",
      "test Loss: 10.3198, test Accuracy: 0.0000\n",
      "test F1 (micro): 0.0000, test F1 (macro): 0.0000\n"
     ]
    },
    {
     "name": "stderr",
     "output_type": "stream",
     "text": [
      " 63%|██████▎   | 63398/100000 [19:05:36<8:40:22,  1.17it/s] "
     ]
    },
    {
     "name": "stdout",
     "output_type": "stream",
     "text": [
      "Epoch [63400/100000]\n",
      "Train Loss: 10.9760\n",
      "test Loss: 10.3261, test Accuracy: 0.0000\n",
      "test F1 (micro): 0.0000, test F1 (macro): 0.0000\n"
     ]
    },
    {
     "name": "stderr",
     "output_type": "stream",
     "text": [
      " 63%|██████▎   | 63498/100000 [19:07:24<8:40:02,  1.17it/s] "
     ]
    },
    {
     "name": "stdout",
     "output_type": "stream",
     "text": [
      "Epoch [63500/100000]\n",
      "Train Loss: 10.8154\n",
      "test Loss: 10.3307, test Accuracy: 0.0000\n",
      "test F1 (micro): 0.0000, test F1 (macro): 0.0000\n"
     ]
    },
    {
     "name": "stderr",
     "output_type": "stream",
     "text": [
      " 64%|██████▎   | 63598/100000 [19:09:14<8:36:50,  1.17it/s] "
     ]
    },
    {
     "name": "stdout",
     "output_type": "stream",
     "text": [
      "Epoch [63600/100000]\n",
      "Train Loss: 10.8001\n",
      "test Loss: 10.3340, test Accuracy: 0.0000\n",
      "test F1 (micro): 0.0000, test F1 (macro): 0.0000\n"
     ]
    },
    {
     "name": "stderr",
     "output_type": "stream",
     "text": [
      " 64%|██████▎   | 63698/100000 [19:11:05<8:35:03,  1.17it/s] "
     ]
    },
    {
     "name": "stdout",
     "output_type": "stream",
     "text": [
      "Epoch [63700/100000]\n",
      "Train Loss: 10.9333\n",
      "test Loss: 10.3392, test Accuracy: 0.0000\n",
      "test F1 (micro): 0.0000, test F1 (macro): 0.0000\n"
     ]
    },
    {
     "name": "stderr",
     "output_type": "stream",
     "text": [
      " 64%|██████▍   | 63798/100000 [19:12:51<8:34:25,  1.17it/s] "
     ]
    },
    {
     "name": "stdout",
     "output_type": "stream",
     "text": [
      "Epoch [63800/100000]\n",
      "Train Loss: 10.8556\n",
      "test Loss: 10.3430, test Accuracy: 0.0000\n",
      "test F1 (micro): 0.0000, test F1 (macro): 0.0000\n"
     ]
    },
    {
     "name": "stderr",
     "output_type": "stream",
     "text": [
      " 64%|██████▍   | 63898/100000 [19:14:45<8:31:53,  1.18it/s] "
     ]
    },
    {
     "name": "stdout",
     "output_type": "stream",
     "text": [
      "Epoch [63900/100000]\n",
      "Train Loss: 10.9405\n",
      "test Loss: 10.3468, test Accuracy: 0.0000\n",
      "test F1 (micro): 0.0000, test F1 (macro): 0.0000\n"
     ]
    },
    {
     "name": "stderr",
     "output_type": "stream",
     "text": [
      " 64%|██████▍   | 63998/100000 [19:16:37<8:33:15,  1.17it/s] "
     ]
    },
    {
     "name": "stdout",
     "output_type": "stream",
     "text": [
      "Epoch [64000/100000]\n",
      "Train Loss: 11.0868\n",
      "test Loss: 10.3503, test Accuracy: 0.0000\n",
      "test F1 (micro): 0.0000, test F1 (macro): 0.0000\n"
     ]
    },
    {
     "name": "stderr",
     "output_type": "stream",
     "text": [
      " 64%|██████▍   | 64098/100000 [19:18:22<8:31:58,  1.17it/s] "
     ]
    },
    {
     "name": "stdout",
     "output_type": "stream",
     "text": [
      "Epoch [64100/100000]\n",
      "Train Loss: 10.8514\n",
      "test Loss: 10.3523, test Accuracy: 0.0000\n",
      "test F1 (micro): 0.0000, test F1 (macro): 0.0000\n"
     ]
    },
    {
     "name": "stderr",
     "output_type": "stream",
     "text": [
      " 64%|██████▍   | 64198/100000 [19:20:11<8:30:04,  1.17it/s] "
     ]
    },
    {
     "name": "stdout",
     "output_type": "stream",
     "text": [
      "Epoch [64200/100000]\n",
      "Train Loss: 10.7574\n",
      "test Loss: 10.3580, test Accuracy: 0.0000\n",
      "test F1 (micro): 0.0000, test F1 (macro): 0.0000\n"
     ]
    },
    {
     "name": "stderr",
     "output_type": "stream",
     "text": [
      " 64%|██████▍   | 64298/100000 [19:21:58<8:25:17,  1.18it/s] "
     ]
    },
    {
     "name": "stdout",
     "output_type": "stream",
     "text": [
      "Epoch [64300/100000]\n",
      "Train Loss: 10.9051\n",
      "test Loss: 10.3594, test Accuracy: 0.0000\n",
      "test F1 (micro): 0.0000, test F1 (macro): 0.0000\n"
     ]
    },
    {
     "name": "stderr",
     "output_type": "stream",
     "text": [
      " 64%|██████▍   | 64498/100000 [19:25:32<8:24:26,  1.17it/s] "
     ]
    },
    {
     "name": "stdout",
     "output_type": "stream",
     "text": [
      "Epoch [64500/100000]\n",
      "Train Loss: 10.8949\n",
      "test Loss: 10.3639, test Accuracy: 0.0000\n",
      "test F1 (micro): 0.0000, test F1 (macro): 0.0000\n"
     ]
    },
    {
     "name": "stderr",
     "output_type": "stream",
     "text": [
      " 65%|██████▍   | 64598/100000 [19:27:19<8:23:16,  1.17it/s] "
     ]
    },
    {
     "name": "stdout",
     "output_type": "stream",
     "text": [
      "Epoch [64600/100000]\n",
      "Train Loss: 10.9919\n",
      "test Loss: 10.3663, test Accuracy: 0.0000\n",
      "test F1 (micro): 0.0000, test F1 (macro): 0.0000\n"
     ]
    },
    {
     "name": "stderr",
     "output_type": "stream",
     "text": [
      " 65%|██████▍   | 64698/100000 [19:29:09<8:21:17,  1.17it/s] "
     ]
    },
    {
     "name": "stdout",
     "output_type": "stream",
     "text": [
      "Epoch [64700/100000]\n",
      "Train Loss: 10.8488\n",
      "test Loss: 10.3687, test Accuracy: 0.0000\n",
      "test F1 (micro): 0.0000, test F1 (macro): 0.0000\n"
     ]
    },
    {
     "name": "stderr",
     "output_type": "stream",
     "text": [
      " 65%|██████▍   | 64798/100000 [19:30:57<8:20:24,  1.17it/s] "
     ]
    },
    {
     "name": "stdout",
     "output_type": "stream",
     "text": [
      "Epoch [64800/100000]\n",
      "Train Loss: 10.8307\n",
      "test Loss: 10.3706, test Accuracy: 0.0000\n",
      "test F1 (micro): 0.0000, test F1 (macro): 0.0000\n"
     ]
    },
    {
     "name": "stderr",
     "output_type": "stream",
     "text": [
      " 65%|██████▍   | 64898/100000 [19:32:45<8:16:43,  1.18it/s] "
     ]
    },
    {
     "name": "stdout",
     "output_type": "stream",
     "text": [
      "Epoch [64900/100000]\n",
      "Train Loss: 11.0139\n",
      "test Loss: 10.3719, test Accuracy: 0.0000\n",
      "test F1 (micro): 0.0000, test F1 (macro): 0.0000\n"
     ]
    },
    {
     "name": "stderr",
     "output_type": "stream",
     "text": [
      " 65%|██████▍   | 64998/100000 [19:34:34<8:19:10,  1.17it/s] "
     ]
    },
    {
     "name": "stdout",
     "output_type": "stream",
     "text": [
      "Epoch [65000/100000]\n",
      "Train Loss: 10.8012\n",
      "test Loss: 10.3739, test Accuracy: 0.0000\n",
      "test F1 (micro): 0.0000, test F1 (macro): 0.0000\n"
     ]
    },
    {
     "name": "stderr",
     "output_type": "stream",
     "text": [
      " 65%|██████▌   | 65098/100000 [19:36:22<8:15:15,  1.17it/s] "
     ]
    },
    {
     "name": "stdout",
     "output_type": "stream",
     "text": [
      "Epoch [65100/100000]\n",
      "Train Loss: 10.8355\n",
      "test Loss: 10.3762, test Accuracy: 0.0000\n",
      "test F1 (micro): 0.0000, test F1 (macro): 0.0000\n"
     ]
    },
    {
     "name": "stderr",
     "output_type": "stream",
     "text": [
      " 65%|██████▌   | 65198/100000 [19:38:13<8:15:28,  1.17it/s] "
     ]
    },
    {
     "name": "stdout",
     "output_type": "stream",
     "text": [
      "Epoch [65200/100000]\n",
      "Train Loss: 11.0790\n",
      "test Loss: 10.3784, test Accuracy: 0.0000\n",
      "test F1 (micro): 0.0000, test F1 (macro): 0.0000\n"
     ]
    },
    {
     "name": "stderr",
     "output_type": "stream",
     "text": [
      " 65%|██████▌   | 65298/100000 [19:39:59<8:12:06,  1.18it/s] "
     ]
    },
    {
     "name": "stdout",
     "output_type": "stream",
     "text": [
      "Epoch [65300/100000]\n",
      "Train Loss: 10.8366\n",
      "test Loss: 10.3806, test Accuracy: 0.0000\n",
      "test F1 (micro): 0.0000, test F1 (macro): 0.0000\n"
     ]
    },
    {
     "name": "stderr",
     "output_type": "stream",
     "text": [
      " 65%|██████▌   | 65398/100000 [19:41:50<8:09:28,  1.18it/s] "
     ]
    },
    {
     "name": "stdout",
     "output_type": "stream",
     "text": [
      "Epoch [65400/100000]\n",
      "Train Loss: 11.0202\n",
      "test Loss: 10.3816, test Accuracy: 0.0000\n",
      "test F1 (micro): 0.0000, test F1 (macro): 0.0000\n"
     ]
    },
    {
     "name": "stderr",
     "output_type": "stream",
     "text": [
      " 65%|██████▌   | 65498/100000 [19:43:37<8:10:45,  1.17it/s] "
     ]
    },
    {
     "name": "stdout",
     "output_type": "stream",
     "text": [
      "Epoch [65500/100000]\n",
      "Train Loss: 10.8622\n",
      "test Loss: 10.3827, test Accuracy: 0.0000\n",
      "test F1 (micro): 0.0000, test F1 (macro): 0.0000\n"
     ]
    },
    {
     "name": "stderr",
     "output_type": "stream",
     "text": [
      " 66%|██████▌   | 65598/100000 [19:45:29<8:08:30,  1.17it/s] "
     ]
    },
    {
     "name": "stdout",
     "output_type": "stream",
     "text": [
      "Epoch [65600/100000]\n",
      "Train Loss: 10.9407\n",
      "test Loss: 10.3833, test Accuracy: 0.0000\n",
      "test F1 (micro): 0.0000, test F1 (macro): 0.0000\n"
     ]
    },
    {
     "name": "stderr",
     "output_type": "stream",
     "text": [
      " 66%|██████▌   | 65698/100000 [19:47:16<8:07:34,  1.17it/s] "
     ]
    },
    {
     "name": "stdout",
     "output_type": "stream",
     "text": [
      "Epoch [65700/100000]\n",
      "Train Loss: 11.0641\n",
      "test Loss: 10.3848, test Accuracy: 0.0000\n",
      "test F1 (micro): 0.0000, test F1 (macro): 0.0000\n"
     ]
    },
    {
     "name": "stderr",
     "output_type": "stream",
     "text": [
      " 66%|██████▌   | 65798/100000 [19:49:07<8:05:24,  1.17it/s] "
     ]
    },
    {
     "name": "stdout",
     "output_type": "stream",
     "text": [
      "Epoch [65800/100000]\n",
      "Train Loss: 10.9410\n",
      "test Loss: 10.3867, test Accuracy: 0.0000\n",
      "test F1 (micro): 0.0000, test F1 (macro): 0.0000\n"
     ]
    },
    {
     "name": "stderr",
     "output_type": "stream",
     "text": [
      " 66%|██████▌   | 65898/100000 [19:50:54<8:05:21,  1.17it/s] "
     ]
    },
    {
     "name": "stdout",
     "output_type": "stream",
     "text": [
      "Epoch [65900/100000]\n",
      "Train Loss: 10.9099\n",
      "test Loss: 10.3878, test Accuracy: 0.0000\n",
      "test F1 (micro): 0.0000, test F1 (macro): 0.0000\n"
     ]
    },
    {
     "name": "stderr",
     "output_type": "stream",
     "text": [
      " 66%|██████▌   | 65998/100000 [19:52:46<8:04:05,  1.17it/s] "
     ]
    },
    {
     "name": "stdout",
     "output_type": "stream",
     "text": [
      "Epoch [66000/100000]\n",
      "Train Loss: 10.7981\n",
      "test Loss: 10.3882, test Accuracy: 0.0000\n",
      "test F1 (micro): 0.0000, test F1 (macro): 0.0000\n"
     ]
    },
    {
     "name": "stderr",
     "output_type": "stream",
     "text": [
      " 66%|██████▌   | 66098/100000 [19:54:34<8:00:21,  1.18it/s] "
     ]
    },
    {
     "name": "stdout",
     "output_type": "stream",
     "text": [
      "Epoch [66100/100000]\n",
      "Train Loss: 10.9973\n",
      "test Loss: 10.3911, test Accuracy: 0.0000\n",
      "test F1 (micro): 0.0000, test F1 (macro): 0.0000\n"
     ]
    },
    {
     "name": "stderr",
     "output_type": "stream",
     "text": [
      " 66%|██████▌   | 66198/100000 [19:56:30<8:01:37,  1.17it/s] "
     ]
    },
    {
     "name": "stdout",
     "output_type": "stream",
     "text": [
      "Epoch [66200/100000]\n",
      "Train Loss: 11.0171\n",
      "test Loss: 10.3907, test Accuracy: 0.0000\n",
      "test F1 (micro): 0.0000, test F1 (macro): 0.0000\n"
     ]
    },
    {
     "name": "stderr",
     "output_type": "stream",
     "text": [
      " 66%|██████▋   | 66298/100000 [19:58:19<7:59:14,  1.17it/s] "
     ]
    },
    {
     "name": "stdout",
     "output_type": "stream",
     "text": [
      "Epoch [66300/100000]\n",
      "Train Loss: 10.9533\n",
      "test Loss: 10.3907, test Accuracy: 0.0000\n",
      "test F1 (micro): 0.0000, test F1 (macro): 0.0000\n"
     ]
    },
    {
     "name": "stderr",
     "output_type": "stream",
     "text": [
      " 66%|██████▋   | 66398/100000 [20:00:14<7:59:06,  1.17it/s] "
     ]
    },
    {
     "name": "stdout",
     "output_type": "stream",
     "text": [
      "Epoch [66400/100000]\n",
      "Train Loss: 11.0184\n",
      "test Loss: 10.3916, test Accuracy: 0.0000\n",
      "test F1 (micro): 0.0000, test F1 (macro): 0.0000\n"
     ]
    },
    {
     "name": "stderr",
     "output_type": "stream",
     "text": [
      " 71%|███████   | 71198/100000 [21:26:47<6:43:19,  1.19it/s] "
     ]
    },
    {
     "name": "stdout",
     "output_type": "stream",
     "text": [
      "Epoch [71200/100000]\n",
      "Train Loss: 10.7082\n",
      "test Loss: 10.4285, test Accuracy: 0.0000\n",
      "test F1 (micro): 0.0000, test F1 (macro): 0.0000\n"
     ]
    },
    {
     "name": "stderr",
     "output_type": "stream",
     "text": [
      " 71%|███████▏  | 71298/100000 [21:28:33<6:42:26,  1.19it/s] "
     ]
    },
    {
     "name": "stdout",
     "output_type": "stream",
     "text": [
      "Epoch [71300/100000]\n",
      "Train Loss: 10.9747\n",
      "test Loss: 10.4288, test Accuracy: 0.0000\n",
      "test F1 (micro): 0.0000, test F1 (macro): 0.0000\n"
     ]
    },
    {
     "name": "stderr",
     "output_type": "stream",
     "text": [
      " 71%|███████▏  | 71398/100000 [21:30:18<6:39:59,  1.19it/s] "
     ]
    },
    {
     "name": "stdout",
     "output_type": "stream",
     "text": [
      "Epoch [71400/100000]\n",
      "Train Loss: 11.0484\n",
      "test Loss: 10.4292, test Accuracy: 0.0000\n",
      "test F1 (micro): 0.0000, test F1 (macro): 0.0000\n"
     ]
    },
    {
     "name": "stderr",
     "output_type": "stream",
     "text": [
      " 71%|███████▏  | 71498/100000 [21:32:03<6:39:00,  1.19it/s] "
     ]
    },
    {
     "name": "stdout",
     "output_type": "stream",
     "text": [
      "Epoch [71500/100000]\n",
      "Train Loss: 10.8250\n",
      "test Loss: 10.4295, test Accuracy: 0.0000\n",
      "test F1 (micro): 0.0000, test F1 (macro): 0.0000\n"
     ]
    },
    {
     "name": "stderr",
     "output_type": "stream",
     "text": [
      " 72%|███████▏  | 71598/100000 [21:33:48<6:37:50,  1.19it/s] "
     ]
    },
    {
     "name": "stdout",
     "output_type": "stream",
     "text": [
      "Epoch [71600/100000]\n",
      "Train Loss: 10.9892\n",
      "test Loss: 10.4298, test Accuracy: 0.0000\n",
      "test F1 (micro): 0.0000, test F1 (macro): 0.0000\n"
     ]
    },
    {
     "name": "stderr",
     "output_type": "stream",
     "text": [
      " 72%|███████▏  | 71698/100000 [21:35:36<6:36:45,  1.19it/s] "
     ]
    },
    {
     "name": "stdout",
     "output_type": "stream",
     "text": [
      "Epoch [71700/100000]\n",
      "Train Loss: 11.2356\n",
      "test Loss: 10.4302, test Accuracy: 0.0000\n",
      "test F1 (micro): 0.0000, test F1 (macro): 0.0000\n"
     ]
    },
    {
     "name": "stderr",
     "output_type": "stream",
     "text": [
      " 72%|███████▏  | 71798/100000 [21:37:26<6:34:18,  1.19it/s] "
     ]
    },
    {
     "name": "stdout",
     "output_type": "stream",
     "text": [
      "Epoch [71800/100000]\n",
      "Train Loss: 10.8283\n",
      "test Loss: 10.4305, test Accuracy: 0.0000\n",
      "test F1 (micro): 0.0000, test F1 (macro): 0.0000\n"
     ]
    },
    {
     "name": "stderr",
     "output_type": "stream",
     "text": [
      " 72%|███████▏  | 71898/100000 [21:39:13<6:35:41,  1.18it/s] "
     ]
    },
    {
     "name": "stdout",
     "output_type": "stream",
     "text": [
      "Epoch [71900/100000]\n",
      "Train Loss: 10.8872\n",
      "test Loss: 10.4310, test Accuracy: 0.0000\n",
      "test F1 (micro): 0.0000, test F1 (macro): 0.0000\n"
     ]
    },
    {
     "name": "stderr",
     "output_type": "stream",
     "text": [
      " 72%|███████▏  | 71998/100000 [21:40:57<6:31:55,  1.19it/s] "
     ]
    },
    {
     "name": "stdout",
     "output_type": "stream",
     "text": [
      "Epoch [72000/100000]\n",
      "Train Loss: 10.7607\n",
      "test Loss: 10.4315, test Accuracy: 0.0000\n",
      "test F1 (micro): 0.0000, test F1 (macro): 0.0000\n"
     ]
    },
    {
     "name": "stderr",
     "output_type": "stream",
     "text": [
      " 72%|███████▏  | 72098/100000 [21:42:46<6:30:14,  1.19it/s] "
     ]
    },
    {
     "name": "stdout",
     "output_type": "stream",
     "text": [
      "Epoch [72100/100000]\n",
      "Train Loss: 11.0414\n",
      "test Loss: 10.4319, test Accuracy: 0.0000\n",
      "test F1 (micro): 0.0000, test F1 (macro): 0.0000\n"
     ]
    },
    {
     "name": "stderr",
     "output_type": "stream",
     "text": [
      " 72%|███████▏  | 72198/100000 [21:44:33<6:29:22,  1.19it/s] "
     ]
    },
    {
     "name": "stdout",
     "output_type": "stream",
     "text": [
      "Epoch [72200/100000]\n",
      "Train Loss: 10.9540\n",
      "test Loss: 10.4323, test Accuracy: 0.0000\n",
      "test F1 (micro): 0.0000, test F1 (macro): 0.0000\n"
     ]
    },
    {
     "name": "stderr",
     "output_type": "stream",
     "text": [
      " 72%|███████▏  | 72298/100000 [21:46:19<6:27:33,  1.19it/s] "
     ]
    },
    {
     "name": "stdout",
     "output_type": "stream",
     "text": [
      "Epoch [72300/100000]\n",
      "Train Loss: 11.0232\n",
      "test Loss: 10.4327, test Accuracy: 0.0000\n",
      "test F1 (micro): 0.0000, test F1 (macro): 0.0000\n"
     ]
    },
    {
     "name": "stderr",
     "output_type": "stream",
     "text": [
      " 72%|███████▏  | 72398/100000 [21:48:03<6:26:12,  1.19it/s] "
     ]
    },
    {
     "name": "stdout",
     "output_type": "stream",
     "text": [
      "Epoch [72400/100000]\n",
      "Train Loss: 11.1795\n",
      "test Loss: 10.4331, test Accuracy: 0.0000\n",
      "test F1 (micro): 0.0000, test F1 (macro): 0.0000\n"
     ]
    },
    {
     "name": "stderr",
     "output_type": "stream",
     "text": [
      " 72%|███████▏  | 72498/100000 [21:49:54<6:24:36,  1.19it/s] "
     ]
    },
    {
     "name": "stdout",
     "output_type": "stream",
     "text": [
      "Epoch [72500/100000]\n",
      "Train Loss: 10.9181\n",
      "test Loss: 10.4335, test Accuracy: 0.0000\n",
      "test F1 (micro): 0.0000, test F1 (macro): 0.0000\n"
     ]
    },
    {
     "name": "stderr",
     "output_type": "stream",
     "text": [
      " 73%|███████▎  | 72598/100000 [21:51:45<6:22:43,  1.19it/s] "
     ]
    },
    {
     "name": "stdout",
     "output_type": "stream",
     "text": [
      "Epoch [72600/100000]\n",
      "Train Loss: 10.9036\n",
      "test Loss: 10.4339, test Accuracy: 0.0000\n",
      "test F1 (micro): 0.0000, test F1 (macro): 0.0000\n"
     ]
    },
    {
     "name": "stderr",
     "output_type": "stream",
     "text": [
      " 73%|███████▎  | 72698/100000 [21:53:32<6:20:28,  1.20it/s] "
     ]
    },
    {
     "name": "stdout",
     "output_type": "stream",
     "text": [
      "Epoch [72700/100000]\n",
      "Train Loss: 11.0813\n",
      "test Loss: 10.4343, test Accuracy: 0.0000\n",
      "test F1 (micro): 0.0000, test F1 (macro): 0.0000\n"
     ]
    },
    {
     "name": "stderr",
     "output_type": "stream",
     "text": [
      " 73%|███████▎  | 72798/100000 [21:55:17<6:20:08,  1.19it/s] "
     ]
    },
    {
     "name": "stdout",
     "output_type": "stream",
     "text": [
      "Epoch [72800/100000]\n",
      "Train Loss: 11.0893\n",
      "test Loss: 10.4349, test Accuracy: 0.0000\n",
      "test F1 (micro): 0.0000, test F1 (macro): 0.0000\n"
     ]
    },
    {
     "name": "stderr",
     "output_type": "stream",
     "text": [
      " 73%|███████▎  | 72898/100000 [21:57:05<6:20:48,  1.19it/s] "
     ]
    },
    {
     "name": "stdout",
     "output_type": "stream",
     "text": [
      "Epoch [72900/100000]\n",
      "Train Loss: 10.9561\n",
      "test Loss: 10.4353, test Accuracy: 0.0000\n",
      "test F1 (micro): 0.0000, test F1 (macro): 0.0000\n"
     ]
    },
    {
     "name": "stderr",
     "output_type": "stream",
     "text": [
      " 73%|███████▎  | 72998/100000 [21:58:50<6:17:46,  1.19it/s] "
     ]
    },
    {
     "name": "stdout",
     "output_type": "stream",
     "text": [
      "Epoch [73000/100000]\n",
      "Train Loss: 11.0459\n",
      "test Loss: 10.4357, test Accuracy: 0.0000\n",
      "test F1 (micro): 0.0000, test F1 (macro): 0.0000\n"
     ]
    },
    {
     "name": "stderr",
     "output_type": "stream",
     "text": [
      " 73%|███████▎  | 73098/100000 [22:00:39<6:14:44,  1.20it/s] "
     ]
    },
    {
     "name": "stdout",
     "output_type": "stream",
     "text": [
      "Epoch [73100/100000]\n",
      "Train Loss: 11.0246\n",
      "test Loss: 10.4360, test Accuracy: 0.0000\n",
      "test F1 (micro): 0.0000, test F1 (macro): 0.0000\n"
     ]
    },
    {
     "name": "stderr",
     "output_type": "stream",
     "text": [
      " 73%|███████▎  | 73198/100000 [22:02:28<6:16:07,  1.19it/s] "
     ]
    },
    {
     "name": "stdout",
     "output_type": "stream",
     "text": [
      "Epoch [73200/100000]\n",
      "Train Loss: 10.5786\n",
      "test Loss: 10.4363, test Accuracy: 0.0000\n",
      "test F1 (micro): 0.0000, test F1 (macro): 0.0000\n"
     ]
    },
    {
     "name": "stderr",
     "output_type": "stream",
     "text": [
      " 73%|███████▎  | 73298/100000 [22:04:21<6:11:45,  1.20it/s] "
     ]
    },
    {
     "name": "stdout",
     "output_type": "stream",
     "text": [
      "Epoch [73300/100000]\n",
      "Train Loss: 10.8871\n",
      "test Loss: 10.4366, test Accuracy: 0.0000\n",
      "test F1 (micro): 0.0000, test F1 (macro): 0.0000\n"
     ]
    },
    {
     "name": "stderr",
     "output_type": "stream",
     "text": [
      " 73%|███████▎  | 73398/100000 [22:06:06<6:11:57,  1.19it/s] "
     ]
    },
    {
     "name": "stdout",
     "output_type": "stream",
     "text": [
      "Epoch [73400/100000]\n",
      "Train Loss: 10.9103\n",
      "test Loss: 10.4368, test Accuracy: 0.0000\n",
      "test F1 (micro): 0.0000, test F1 (macro): 0.0000\n"
     ]
    },
    {
     "name": "stderr",
     "output_type": "stream",
     "text": [
      " 73%|███████▎  | 73498/100000 [22:07:51<6:11:00,  1.19it/s] "
     ]
    },
    {
     "name": "stdout",
     "output_type": "stream",
     "text": [
      "Epoch [73500/100000]\n",
      "Train Loss: 11.0391\n",
      "test Loss: 10.4370, test Accuracy: 0.0000\n",
      "test F1 (micro): 0.0000, test F1 (macro): 0.0000\n"
     ]
    },
    {
     "name": "stderr",
     "output_type": "stream",
     "text": [
      " 74%|███████▎  | 73598/100000 [22:09:38<6:09:14,  1.19it/s] "
     ]
    },
    {
     "name": "stdout",
     "output_type": "stream",
     "text": [
      "Epoch [73600/100000]\n",
      "Train Loss: 10.9995\n",
      "test Loss: 10.4372, test Accuracy: 0.0000\n",
      "test F1 (micro): 0.0000, test F1 (macro): 0.0000\n"
     ]
    },
    {
     "name": "stderr",
     "output_type": "stream",
     "text": [
      " 74%|███████▎  | 73698/100000 [22:11:29<6:07:41,  1.19it/s] "
     ]
    },
    {
     "name": "stdout",
     "output_type": "stream",
     "text": [
      "Epoch [73700/100000]\n",
      "Train Loss: 10.7613\n",
      "test Loss: 10.4374, test Accuracy: 0.0000\n",
      "test F1 (micro): 0.0000, test F1 (macro): 0.0000\n"
     ]
    },
    {
     "name": "stderr",
     "output_type": "stream",
     "text": [
      " 74%|███████▍  | 73798/100000 [22:13:16<6:06:55,  1.19it/s] "
     ]
    },
    {
     "name": "stdout",
     "output_type": "stream",
     "text": [
      "Epoch [73800/100000]\n",
      "Train Loss: 10.8608\n",
      "test Loss: 10.4375, test Accuracy: 0.0000\n",
      "test F1 (micro): 0.0000, test F1 (macro): 0.0000\n"
     ]
    },
    {
     "name": "stderr",
     "output_type": "stream",
     "text": [
      " 74%|███████▍  | 73898/100000 [22:15:02<6:06:05,  1.19it/s] "
     ]
    },
    {
     "name": "stdout",
     "output_type": "stream",
     "text": [
      "Epoch [73900/100000]\n",
      "Train Loss: 10.7740\n",
      "test Loss: 10.4376, test Accuracy: 0.0000\n",
      "test F1 (micro): 0.0000, test F1 (macro): 0.0000\n"
     ]
    },
    {
     "name": "stderr",
     "output_type": "stream",
     "text": [
      " 74%|███████▍  | 73998/100000 [22:16:48<6:02:40,  1.19it/s] "
     ]
    },
    {
     "name": "stdout",
     "output_type": "stream",
     "text": [
      "Epoch [74000/100000]\n",
      "Train Loss: 10.8439\n",
      "test Loss: 10.4377, test Accuracy: 0.0000\n",
      "test F1 (micro): 0.0000, test F1 (macro): 0.0000\n"
     ]
    },
    {
     "name": "stderr",
     "output_type": "stream",
     "text": [
      " 74%|███████▍  | 74069/100000 [22:18:08<6:00:57,  1.20it/s] IOPub message rate exceeded.\n",
      "The Jupyter server will temporarily stop sending output\n",
      "to the client in order to avoid crashing it.\n",
      "To change this limit, set the config variable\n",
      "`--ServerApp.iopub_msg_rate_limit`.\n",
      "\n",
      "Current values:\n",
      "ServerApp.iopub_msg_rate_limit=1000.0 (msgs/sec)\n",
      "ServerApp.rate_limit_window=3.0 (secs)\n",
      "\n",
      " 77%|███████▋  | 76598/100000 [23:02:50<5:26:14,  1.20it/s]"
     ]
    },
    {
     "name": "stdout",
     "output_type": "stream",
     "text": [
      "Epoch [76600/100000]\n",
      "Train Loss: 11.0695\n",
      "test Loss: 10.4410, test Accuracy: 0.0000\n",
      "test F1 (micro): 0.0000, test F1 (macro): 0.0000\n"
     ]
    },
    {
     "name": "stderr",
     "output_type": "stream",
     "text": [
      " 77%|███████▋  | 76698/100000 [23:04:39<5:25:51,  1.19it/s] "
     ]
    },
    {
     "name": "stdout",
     "output_type": "stream",
     "text": [
      "Epoch [76700/100000]\n",
      "Train Loss: 11.0008\n",
      "test Loss: 10.4412, test Accuracy: 0.0000\n",
      "test F1 (micro): 0.0000, test F1 (macro): 0.0000\n"
     ]
    },
    {
     "name": "stderr",
     "output_type": "stream",
     "text": [
      " 77%|███████▋  | 76798/100000 [23:06:24<5:24:05,  1.19it/s] "
     ]
    },
    {
     "name": "stdout",
     "output_type": "stream",
     "text": [
      "Epoch [76800/100000]\n",
      "Train Loss: 10.9674\n",
      "test Loss: 10.4413, test Accuracy: 0.0000\n",
      "test F1 (micro): 0.0000, test F1 (macro): 0.0000\n"
     ]
    },
    {
     "name": "stderr",
     "output_type": "stream",
     "text": [
      " 77%|███████▋  | 76898/100000 [23:08:08<5:22:48,  1.19it/s] "
     ]
    },
    {
     "name": "stdout",
     "output_type": "stream",
     "text": [
      "Epoch [76900/100000]\n",
      "Train Loss: 10.9105\n",
      "test Loss: 10.4414, test Accuracy: 0.0000\n",
      "test F1 (micro): 0.0000, test F1 (macro): 0.0000\n"
     ]
    },
    {
     "name": "stderr",
     "output_type": "stream",
     "text": [
      " 77%|███████▋  | 76998/100000 [23:09:53<5:21:24,  1.19it/s] "
     ]
    },
    {
     "name": "stdout",
     "output_type": "stream",
     "text": [
      "Epoch [77000/100000]\n",
      "Train Loss: 10.7943\n",
      "test Loss: 10.4415, test Accuracy: 0.0000\n",
      "test F1 (micro): 0.0000, test F1 (macro): 0.0000\n"
     ]
    },
    {
     "name": "stderr",
     "output_type": "stream",
     "text": [
      " 77%|███████▋  | 77098/100000 [23:11:38<5:20:40,  1.19it/s] "
     ]
    },
    {
     "name": "stdout",
     "output_type": "stream",
     "text": [
      "Epoch [77100/100000]\n",
      "Train Loss: 10.9989\n",
      "test Loss: 10.4417, test Accuracy: 0.0000\n",
      "test F1 (micro): 0.0000, test F1 (macro): 0.0000\n"
     ]
    },
    {
     "name": "stderr",
     "output_type": "stream",
     "text": [
      " 77%|███████▋  | 77198/100000 [23:13:23<5:21:02,  1.18it/s] "
     ]
    },
    {
     "name": "stdout",
     "output_type": "stream",
     "text": [
      "Epoch [77200/100000]\n",
      "Train Loss: 10.8869\n",
      "test Loss: 10.4418, test Accuracy: 0.0000\n",
      "test F1 (micro): 0.0000, test F1 (macro): 0.0000\n"
     ]
    },
    {
     "name": "stderr",
     "output_type": "stream",
     "text": [
      " 77%|███████▋  | 77298/100000 [23:15:09<5:17:18,  1.19it/s] "
     ]
    },
    {
     "name": "stdout",
     "output_type": "stream",
     "text": [
      "Epoch [77300/100000]\n",
      "Train Loss: 10.8008\n",
      "test Loss: 10.4419, test Accuracy: 0.0000\n",
      "test F1 (micro): 0.0000, test F1 (macro): 0.0000\n"
     ]
    },
    {
     "name": "stderr",
     "output_type": "stream",
     "text": [
      " 77%|███████▋  | 77398/100000 [23:16:58<5:15:00,  1.20it/s] "
     ]
    },
    {
     "name": "stdout",
     "output_type": "stream",
     "text": [
      "Epoch [77400/100000]\n",
      "Train Loss: 10.9384\n",
      "test Loss: 10.4420, test Accuracy: 0.0000\n",
      "test F1 (micro): 0.0000, test F1 (macro): 0.0000\n"
     ]
    },
    {
     "name": "stderr",
     "output_type": "stream",
     "text": [
      " 78%|███████▊  | 77598/100000 [23:20:27<5:15:03,  1.19it/s] "
     ]
    },
    {
     "name": "stdout",
     "output_type": "stream",
     "text": [
      "Epoch [77600/100000]\n",
      "Train Loss: 10.9719\n",
      "test Loss: 10.4423, test Accuracy: 0.0000\n",
      "test F1 (micro): 0.0000, test F1 (macro): 0.0000\n"
     ]
    },
    {
     "name": "stderr",
     "output_type": "stream",
     "text": [
      " 78%|███████▊  | 77698/100000 [23:22:16<5:10:33,  1.20it/s] "
     ]
    },
    {
     "name": "stdout",
     "output_type": "stream",
     "text": [
      "Epoch [77700/100000]\n",
      "Train Loss: 11.1764\n",
      "test Loss: 10.4424, test Accuracy: 0.0000\n",
      "test F1 (micro): 0.0000, test F1 (macro): 0.0000\n"
     ]
    },
    {
     "name": "stderr",
     "output_type": "stream",
     "text": [
      " 78%|███████▊  | 77798/100000 [23:24:03<5:12:22,  1.18it/s] "
     ]
    },
    {
     "name": "stdout",
     "output_type": "stream",
     "text": [
      "Epoch [77800/100000]\n",
      "Train Loss: 11.0845\n",
      "test Loss: 10.4425, test Accuracy: 0.0000\n",
      "test F1 (micro): 0.0000, test F1 (macro): 0.0000\n"
     ]
    },
    {
     "name": "stderr",
     "output_type": "stream",
     "text": [
      " 78%|███████▊  | 77898/100000 [23:25:47<5:10:57,  1.18it/s] "
     ]
    },
    {
     "name": "stdout",
     "output_type": "stream",
     "text": [
      "Epoch [77900/100000]\n",
      "Train Loss: 10.8241\n",
      "test Loss: 10.4426, test Accuracy: 0.0000\n",
      "test F1 (micro): 0.0000, test F1 (macro): 0.0000\n"
     ]
    },
    {
     "name": "stderr",
     "output_type": "stream",
     "text": [
      " 78%|███████▊  | 77998/100000 [23:27:41<5:06:48,  1.20it/s] "
     ]
    },
    {
     "name": "stdout",
     "output_type": "stream",
     "text": [
      "Epoch [78000/100000]\n",
      "Train Loss: 10.8046\n",
      "test Loss: 10.4427, test Accuracy: 0.0000\n",
      "test F1 (micro): 0.0000, test F1 (macro): 0.0000\n"
     ]
    },
    {
     "name": "stderr",
     "output_type": "stream",
     "text": [
      " 78%|███████▊  | 78098/100000 [23:29:28<5:03:54,  1.20it/s] "
     ]
    },
    {
     "name": "stdout",
     "output_type": "stream",
     "text": [
      "Epoch [78100/100000]\n",
      "Train Loss: 10.8164\n",
      "test Loss: 10.4428, test Accuracy: 0.0000\n",
      "test F1 (micro): 0.0000, test F1 (macro): 0.0000\n"
     ]
    },
    {
     "name": "stderr",
     "output_type": "stream",
     "text": [
      " 78%|███████▊  | 78198/100000 [23:31:13<5:05:18,  1.19it/s] "
     ]
    },
    {
     "name": "stdout",
     "output_type": "stream",
     "text": [
      "Epoch [78200/100000]\n",
      "Train Loss: 10.7768\n",
      "test Loss: 10.4429, test Accuracy: 0.0000\n",
      "test F1 (micro): 0.0000, test F1 (macro): 0.0000\n"
     ]
    },
    {
     "name": "stderr",
     "output_type": "stream",
     "text": [
      " 78%|███████▊  | 78298/100000 [23:32:57<5:01:16,  1.20it/s] "
     ]
    },
    {
     "name": "stdout",
     "output_type": "stream",
     "text": [
      "Epoch [78300/100000]\n",
      "Train Loss: 11.1067\n",
      "test Loss: 10.4430, test Accuracy: 0.0000\n",
      "test F1 (micro): 0.0000, test F1 (macro): 0.0000\n"
     ]
    },
    {
     "name": "stderr",
     "output_type": "stream",
     "text": [
      " 78%|███████▊  | 78398/100000 [23:34:42<5:02:40,  1.19it/s] "
     ]
    },
    {
     "name": "stdout",
     "output_type": "stream",
     "text": [
      "Epoch [78400/100000]\n",
      "Train Loss: 10.9743\n",
      "test Loss: 10.4431, test Accuracy: 0.0000\n",
      "test F1 (micro): 0.0000, test F1 (macro): 0.0000\n"
     ]
    },
    {
     "name": "stderr",
     "output_type": "stream",
     "text": [
      " 78%|███████▊  | 78498/100000 [23:36:30<5:00:52,  1.19it/s] "
     ]
    },
    {
     "name": "stdout",
     "output_type": "stream",
     "text": [
      "Epoch [78500/100000]\n",
      "Train Loss: 11.1398\n",
      "test Loss: 10.4432, test Accuracy: 0.0000\n",
      "test F1 (micro): 0.0000, test F1 (macro): 0.0000\n"
     ]
    },
    {
     "name": "stderr",
     "output_type": "stream",
     "text": [
      " 79%|███████▊  | 78598/100000 [23:38:15<4:59:17,  1.19it/s] "
     ]
    },
    {
     "name": "stdout",
     "output_type": "stream",
     "text": [
      "Epoch [78600/100000]\n",
      "Train Loss: 10.7948\n",
      "test Loss: 10.4433, test Accuracy: 0.0000\n",
      "test F1 (micro): 0.0000, test F1 (macro): 0.0000\n"
     ]
    },
    {
     "name": "stderr",
     "output_type": "stream",
     "text": [
      " 79%|███████▊  | 78698/100000 [23:40:01<4:57:43,  1.19it/s] "
     ]
    },
    {
     "name": "stdout",
     "output_type": "stream",
     "text": [
      "Epoch [78700/100000]\n",
      "Train Loss: 10.8073\n",
      "test Loss: 10.4434, test Accuracy: 0.0000\n",
      "test F1 (micro): 0.0000, test F1 (macro): 0.0000\n"
     ]
    },
    {
     "name": "stderr",
     "output_type": "stream",
     "text": [
      " 79%|███████▉  | 78798/100000 [23:41:47<4:57:12,  1.19it/s] "
     ]
    },
    {
     "name": "stdout",
     "output_type": "stream",
     "text": [
      "Epoch [78800/100000]\n",
      "Train Loss: 11.2095\n",
      "test Loss: 10.4435, test Accuracy: 0.0000\n",
      "test F1 (micro): 0.0000, test F1 (macro): 0.0000\n"
     ]
    },
    {
     "name": "stderr",
     "output_type": "stream",
     "text": [
      " 79%|███████▉  | 78898/100000 [23:43:31<4:53:41,  1.20it/s] "
     ]
    },
    {
     "name": "stdout",
     "output_type": "stream",
     "text": [
      "Epoch [78900/100000]\n",
      "Train Loss: 10.9462\n",
      "test Loss: 10.4435, test Accuracy: 0.0000\n",
      "test F1 (micro): 0.0000, test F1 (macro): 0.0000\n"
     ]
    },
    {
     "name": "stderr",
     "output_type": "stream",
     "text": [
      " 79%|███████▉  | 78998/100000 [23:45:16<4:53:41,  1.19it/s] "
     ]
    },
    {
     "name": "stdout",
     "output_type": "stream",
     "text": [
      "Epoch [79000/100000]\n",
      "Train Loss: 11.0422\n",
      "test Loss: 10.4436, test Accuracy: 0.0000\n",
      "test F1 (micro): 0.0000, test F1 (macro): 0.0000\n"
     ]
    },
    {
     "name": "stderr",
     "output_type": "stream",
     "text": [
      " 79%|███████▉  | 79098/100000 [23:47:02<4:52:23,  1.19it/s] "
     ]
    },
    {
     "name": "stdout",
     "output_type": "stream",
     "text": [
      "Epoch [79100/100000]\n",
      "Train Loss: 10.9515\n",
      "test Loss: 10.4437, test Accuracy: 0.0000\n",
      "test F1 (micro): 0.0000, test F1 (macro): 0.0000\n"
     ]
    },
    {
     "name": "stderr",
     "output_type": "stream",
     "text": [
      " 79%|███████▉  | 79198/100000 [23:48:51<4:50:30,  1.19it/s] "
     ]
    },
    {
     "name": "stdout",
     "output_type": "stream",
     "text": [
      "Epoch [79200/100000]\n",
      "Train Loss: 11.1030\n",
      "test Loss: 10.4438, test Accuracy: 0.0000\n",
      "test F1 (micro): 0.0000, test F1 (macro): 0.0000\n"
     ]
    },
    {
     "name": "stderr",
     "output_type": "stream",
     "text": [
      " 79%|███████▉  | 79298/100000 [23:50:36<4:50:49,  1.19it/s] "
     ]
    },
    {
     "name": "stdout",
     "output_type": "stream",
     "text": [
      "Epoch [79300/100000]\n",
      "Train Loss: 10.8269\n",
      "test Loss: 10.4438, test Accuracy: 0.0000\n",
      "test F1 (micro): 0.0000, test F1 (macro): 0.0000\n"
     ]
    },
    {
     "name": "stderr",
     "output_type": "stream",
     "text": [
      " 79%|███████▉  | 79398/100000 [23:52:20<4:46:03,  1.20it/s] "
     ]
    },
    {
     "name": "stdout",
     "output_type": "stream",
     "text": [
      "Epoch [79400/100000]\n",
      "Train Loss: 11.0503\n",
      "test Loss: 10.4439, test Accuracy: 0.0000\n",
      "test F1 (micro): 0.0000, test F1 (macro): 0.0000\n"
     ]
    },
    {
     "name": "stderr",
     "output_type": "stream",
     "text": [
      " 79%|███████▉  | 79498/100000 [23:54:07<4:44:58,  1.20it/s] "
     ]
    },
    {
     "name": "stdout",
     "output_type": "stream",
     "text": [
      "Epoch [79500/100000]\n",
      "Train Loss: 10.9035\n",
      "test Loss: 10.4439, test Accuracy: 0.0000\n",
      "test F1 (micro): 0.0000, test F1 (macro): 0.0000\n"
     ]
    },
    {
     "name": "stderr",
     "output_type": "stream",
     "text": [
      " 80%|███████▉  | 79598/100000 [23:55:56<4:45:32,  1.19it/s] "
     ]
    },
    {
     "name": "stdout",
     "output_type": "stream",
     "text": [
      "Epoch [79600/100000]\n",
      "Train Loss: 10.9335\n",
      "test Loss: 10.4440, test Accuracy: 0.0000\n",
      "test F1 (micro): 0.0000, test F1 (macro): 0.0000\n"
     ]
    },
    {
     "name": "stderr",
     "output_type": "stream",
     "text": [
      " 80%|███████▉  | 79698/100000 [23:57:44<4:43:02,  1.20it/s] "
     ]
    },
    {
     "name": "stdout",
     "output_type": "stream",
     "text": [
      "Epoch [79700/100000]\n",
      "Train Loss: 10.8148\n",
      "test Loss: 10.4441, test Accuracy: 0.0000\n",
      "test F1 (micro): 0.0000, test F1 (macro): 0.0000\n"
     ]
    },
    {
     "name": "stderr",
     "output_type": "stream",
     "text": [
      " 80%|███████▉  | 79798/100000 [23:59:33<4:43:19,  1.19it/s] "
     ]
    },
    {
     "name": "stdout",
     "output_type": "stream",
     "text": [
      "Epoch [79800/100000]\n",
      "Train Loss: 10.9089\n",
      "test Loss: 10.4441, test Accuracy: 0.0000\n",
      "test F1 (micro): 0.0000, test F1 (macro): 0.0000\n"
     ]
    },
    {
     "name": "stderr",
     "output_type": "stream",
     "text": [
      " 80%|███████▉  | 79898/100000 [24:01:20<4:44:18,  1.18it/s] "
     ]
    },
    {
     "name": "stdout",
     "output_type": "stream",
     "text": [
      "Epoch [79900/100000]\n",
      "Train Loss: 10.8234\n",
      "test Loss: 10.4441, test Accuracy: 0.0000\n",
      "test F1 (micro): 0.0000, test F1 (macro): 0.0000\n"
     ]
    },
    {
     "name": "stderr",
     "output_type": "stream",
     "text": [
      " 80%|███████▉  | 79998/100000 [24:03:04<4:40:15,  1.19it/s] "
     ]
    },
    {
     "name": "stdout",
     "output_type": "stream",
     "text": [
      "Epoch [80000/100000]\n",
      "Train Loss: 11.0830\n",
      "test Loss: 10.4442, test Accuracy: 0.0000\n",
      "test F1 (micro): 0.0000, test F1 (macro): 0.0000\n"
     ]
    },
    {
     "name": "stderr",
     "output_type": "stream",
     "text": [
      " 80%|████████  | 80098/100000 [24:04:52<4:37:14,  1.20it/s] "
     ]
    },
    {
     "name": "stdout",
     "output_type": "stream",
     "text": [
      "Epoch [80100/100000]\n",
      "Train Loss: 10.8292\n",
      "test Loss: 10.4442, test Accuracy: 0.0000\n",
      "test F1 (micro): 0.0000, test F1 (macro): 0.0000\n"
     ]
    },
    {
     "name": "stderr",
     "output_type": "stream",
     "text": [
      " 80%|████████  | 80198/100000 [24:06:41<4:37:34,  1.19it/s] "
     ]
    },
    {
     "name": "stdout",
     "output_type": "stream",
     "text": [
      "Epoch [80200/100000]\n",
      "Train Loss: 10.9028\n",
      "test Loss: 10.4442, test Accuracy: 0.0000\n",
      "test F1 (micro): 0.0000, test F1 (macro): 0.0000\n"
     ]
    },
    {
     "name": "stderr",
     "output_type": "stream",
     "text": [
      " 80%|████████  | 80298/100000 [24:08:29<4:35:03,  1.19it/s] "
     ]
    },
    {
     "name": "stdout",
     "output_type": "stream",
     "text": [
      "Epoch [80300/100000]\n",
      "Train Loss: 11.0031\n",
      "test Loss: 10.4442, test Accuracy: 0.0000\n",
      "test F1 (micro): 0.0000, test F1 (macro): 0.0000\n"
     ]
    },
    {
     "name": "stderr",
     "output_type": "stream",
     "text": [
      " 80%|████████  | 80398/100000 [24:10:15<4:35:17,  1.19it/s] "
     ]
    },
    {
     "name": "stdout",
     "output_type": "stream",
     "text": [
      "Epoch [80400/100000]\n",
      "Train Loss: 11.0854\n",
      "test Loss: 10.4443, test Accuracy: 0.0000\n",
      "test F1 (micro): 0.0000, test F1 (macro): 0.0000\n"
     ]
    },
    {
     "name": "stderr",
     "output_type": "stream",
     "text": [
      " 80%|████████  | 80498/100000 [24:12:00<4:32:27,  1.19it/s] "
     ]
    },
    {
     "name": "stdout",
     "output_type": "stream",
     "text": [
      "Epoch [80500/100000]\n",
      "Train Loss: 11.0213\n",
      "test Loss: 10.4443, test Accuracy: 0.0000\n",
      "test F1 (micro): 0.0000, test F1 (macro): 0.0000\n"
     ]
    },
    {
     "name": "stderr",
     "output_type": "stream",
     "text": [
      " 81%|████████  | 80598/100000 [24:13:49<4:28:44,  1.20it/s] "
     ]
    },
    {
     "name": "stdout",
     "output_type": "stream",
     "text": [
      "Epoch [80600/100000]\n",
      "Train Loss: 10.7986\n",
      "test Loss: 10.4443, test Accuracy: 0.0000\n",
      "test F1 (micro): 0.0000, test F1 (macro): 0.0000\n"
     ]
    },
    {
     "name": "stderr",
     "output_type": "stream",
     "text": [
      " 81%|████████  | 80698/100000 [24:15:32<4:30:37,  1.19it/s] "
     ]
    },
    {
     "name": "stdout",
     "output_type": "stream",
     "text": [
      "Epoch [80700/100000]\n",
      "Train Loss: 11.1455\n",
      "test Loss: 10.4443, test Accuracy: 0.0000\n",
      "test F1 (micro): 0.0000, test F1 (macro): 0.0000\n"
     ]
    },
    {
     "name": "stderr",
     "output_type": "stream",
     "text": [
      " 81%|████████  | 80898/100000 [24:19:00<4:27:24,  1.19it/s] "
     ]
    },
    {
     "name": "stdout",
     "output_type": "stream",
     "text": [
      "Epoch [80900/100000]\n",
      "Train Loss: 11.1555\n",
      "test Loss: 10.4443, test Accuracy: 0.0000\n",
      "test F1 (micro): 0.0000, test F1 (macro): 0.0000\n"
     ]
    },
    {
     "name": "stderr",
     "output_type": "stream",
     "text": [
      " 81%|████████  | 80998/100000 [24:20:45<4:26:36,  1.19it/s] "
     ]
    },
    {
     "name": "stdout",
     "output_type": "stream",
     "text": [
      "Epoch [81000/100000]\n",
      "Train Loss: 10.7550\n",
      "test Loss: 10.4443, test Accuracy: 0.0000\n",
      "test F1 (micro): 0.0000, test F1 (macro): 0.0000\n"
     ]
    },
    {
     "name": "stderr",
     "output_type": "stream",
     "text": [
      " 81%|████████  | 81098/100000 [24:22:31<4:24:09,  1.19it/s] "
     ]
    },
    {
     "name": "stdout",
     "output_type": "stream",
     "text": [
      "Epoch [81100/100000]\n",
      "Train Loss: 10.9020\n",
      "test Loss: 10.4443, test Accuracy: 0.0000\n",
      "test F1 (micro): 0.0000, test F1 (macro): 0.0000\n"
     ]
    },
    {
     "name": "stderr",
     "output_type": "stream",
     "text": [
      " 81%|████████  | 81198/100000 [24:24:17<4:21:46,  1.20it/s] "
     ]
    },
    {
     "name": "stdout",
     "output_type": "stream",
     "text": [
      "Epoch [81200/100000]\n",
      "Train Loss: 10.8549\n",
      "test Loss: 10.4443, test Accuracy: 0.0000\n",
      "test F1 (micro): 0.0000, test F1 (macro): 0.0000\n"
     ]
    },
    {
     "name": "stderr",
     "output_type": "stream",
     "text": [
      " 81%|████████▏ | 81298/100000 [24:26:06<4:21:43,  1.19it/s] "
     ]
    },
    {
     "name": "stdout",
     "output_type": "stream",
     "text": [
      "Epoch [81300/100000]\n",
      "Train Loss: 10.9987\n",
      "test Loss: 10.4443, test Accuracy: 0.0000\n",
      "test F1 (micro): 0.0000, test F1 (macro): 0.0000\n"
     ]
    },
    {
     "name": "stderr",
     "output_type": "stream",
     "text": [
      " 81%|████████▏ | 81398/100000 [24:27:56<4:21:15,  1.19it/s] "
     ]
    },
    {
     "name": "stdout",
     "output_type": "stream",
     "text": [
      "Epoch [81400/100000]\n",
      "Train Loss: 11.0393\n",
      "test Loss: 10.4443, test Accuracy: 0.0000\n",
      "test F1 (micro): 0.0000, test F1 (macro): 0.0000\n"
     ]
    },
    {
     "name": "stderr",
     "output_type": "stream",
     "text": [
      " 82%|████████▏ | 81598/100000 [24:31:40<4:17:29,  1.19it/s] "
     ]
    },
    {
     "name": "stdout",
     "output_type": "stream",
     "text": [
      "Epoch [81600/100000]\n",
      "Train Loss: 10.9489\n",
      "test Loss: 10.4443, test Accuracy: 0.0000\n",
      "test F1 (micro): 0.0000, test F1 (macro): 0.0000\n"
     ]
    },
    {
     "name": "stderr",
     "output_type": "stream",
     "text": [
      " 82%|████████▏ | 81698/100000 [24:33:25<4:17:20,  1.19it/s] "
     ]
    },
    {
     "name": "stdout",
     "output_type": "stream",
     "text": [
      "Epoch [81700/100000]\n",
      "Train Loss: 11.0192\n",
      "test Loss: 10.4443, test Accuracy: 0.0000\n",
      "test F1 (micro): 0.0000, test F1 (macro): 0.0000\n"
     ]
    },
    {
     "name": "stderr",
     "output_type": "stream",
     "text": [
      " 82%|████████▏ | 81798/100000 [24:35:11<4:14:35,  1.19it/s] "
     ]
    },
    {
     "name": "stdout",
     "output_type": "stream",
     "text": [
      "Epoch [81800/100000]\n",
      "Train Loss: 10.7249\n",
      "test Loss: 10.4443, test Accuracy: 0.0000\n",
      "test F1 (micro): 0.0000, test F1 (macro): 0.0000\n"
     ]
    },
    {
     "name": "stderr",
     "output_type": "stream",
     "text": [
      " 82%|████████▏ | 81898/100000 [24:36:56<4:13:33,  1.19it/s] "
     ]
    },
    {
     "name": "stdout",
     "output_type": "stream",
     "text": [
      "Epoch [81900/100000]\n",
      "Train Loss: 10.8555\n",
      "test Loss: 10.4443, test Accuracy: 0.0000\n",
      "test F1 (micro): 0.0000, test F1 (macro): 0.0000\n"
     ]
    },
    {
     "name": "stderr",
     "output_type": "stream",
     "text": [
      " 82%|████████▏ | 81998/100000 [24:38:41<4:12:09,  1.19it/s] "
     ]
    },
    {
     "name": "stdout",
     "output_type": "stream",
     "text": [
      "Epoch [82000/100000]\n",
      "Train Loss: 11.0550\n",
      "test Loss: 10.4454, test Accuracy: 0.0000\n",
      "test F1 (micro): 0.0000, test F1 (macro): 0.0000\n"
     ]
    },
    {
     "name": "stderr",
     "output_type": "stream",
     "text": [
      " 82%|████████▏ | 82098/100000 [24:40:26<4:09:35,  1.20it/s] "
     ]
    },
    {
     "name": "stdout",
     "output_type": "stream",
     "text": [
      "Epoch [82100/100000]\n",
      "Train Loss: 10.8519\n",
      "test Loss: 10.4469, test Accuracy: 0.0000\n",
      "test F1 (micro): 0.0000, test F1 (macro): 0.0000\n"
     ]
    },
    {
     "name": "stderr",
     "output_type": "stream",
     "text": [
      " 82%|████████▏ | 82198/100000 [24:42:12<4:08:44,  1.19it/s] "
     ]
    },
    {
     "name": "stdout",
     "output_type": "stream",
     "text": [
      "Epoch [82200/100000]\n",
      "Train Loss: 10.9856\n",
      "test Loss: 10.4487, test Accuracy: 0.0000\n",
      "test F1 (micro): 0.0000, test F1 (macro): 0.0000\n"
     ]
    },
    {
     "name": "stderr",
     "output_type": "stream",
     "text": [
      " 82%|████████▏ | 82298/100000 [24:43:56<4:08:13,  1.19it/s] "
     ]
    },
    {
     "name": "stdout",
     "output_type": "stream",
     "text": [
      "Epoch [82300/100000]\n",
      "Train Loss: 11.1587\n",
      "test Loss: 10.4498, test Accuracy: 0.0000\n",
      "test F1 (micro): 0.0000, test F1 (macro): 0.0000\n"
     ]
    },
    {
     "name": "stderr",
     "output_type": "stream",
     "text": [
      " 82%|████████▏ | 82398/100000 [24:45:41<4:05:47,  1.19it/s] "
     ]
    },
    {
     "name": "stdout",
     "output_type": "stream",
     "text": [
      "Epoch [82400/100000]\n",
      "Train Loss: 10.8650\n",
      "test Loss: 10.4510, test Accuracy: 0.0000\n",
      "test F1 (micro): 0.0000, test F1 (macro): 0.0000\n"
     ]
    },
    {
     "name": "stderr",
     "output_type": "stream",
     "text": [
      " 82%|████████▏ | 82498/100000 [24:47:26<4:05:11,  1.19it/s] "
     ]
    },
    {
     "name": "stdout",
     "output_type": "stream",
     "text": [
      "Epoch [82500/100000]\n",
      "Train Loss: 11.0508\n",
      "test Loss: 10.4514, test Accuracy: 0.0000\n",
      "test F1 (micro): 0.0000, test F1 (macro): 0.0000\n"
     ]
    },
    {
     "name": "stderr",
     "output_type": "stream",
     "text": [
      " 83%|████████▎ | 82598/100000 [24:49:13<4:04:04,  1.19it/s] "
     ]
    },
    {
     "name": "stdout",
     "output_type": "stream",
     "text": [
      "Epoch [82600/100000]\n",
      "Train Loss: 10.7157\n",
      "test Loss: 10.4519, test Accuracy: 0.0000\n",
      "test F1 (micro): 0.0000, test F1 (macro): 0.0000\n"
     ]
    },
    {
     "name": "stderr",
     "output_type": "stream",
     "text": [
      " 83%|████████▎ | 82698/100000 [24:50:58<4:02:05,  1.19it/s] "
     ]
    },
    {
     "name": "stdout",
     "output_type": "stream",
     "text": [
      "Epoch [82700/100000]\n",
      "Train Loss: 10.9591\n",
      "test Loss: 10.4535, test Accuracy: 0.0000\n",
      "test F1 (micro): 0.0000, test F1 (macro): 0.0000\n"
     ]
    },
    {
     "name": "stderr",
     "output_type": "stream",
     "text": [
      " 83%|████████▎ | 82798/100000 [24:52:44<4:00:10,  1.19it/s] "
     ]
    },
    {
     "name": "stdout",
     "output_type": "stream",
     "text": [
      "Epoch [82800/100000]\n",
      "Train Loss: 10.9429\n",
      "test Loss: 10.4543, test Accuracy: 0.0000\n",
      "test F1 (micro): 0.0000, test F1 (macro): 0.0000\n"
     ]
    },
    {
     "name": "stderr",
     "output_type": "stream",
     "text": [
      " 83%|████████▎ | 82998/100000 [24:56:16<3:57:36,  1.19it/s] "
     ]
    },
    {
     "name": "stdout",
     "output_type": "stream",
     "text": [
      "Epoch [83000/100000]\n",
      "Train Loss: 10.9089\n",
      "test Loss: 10.4578, test Accuracy: 0.0000\n",
      "test F1 (micro): 0.0000, test F1 (macro): 0.0000\n"
     ]
    },
    {
     "name": "stderr",
     "output_type": "stream",
     "text": [
      " 83%|████████▎ | 83098/100000 [24:58:03<3:56:41,  1.19it/s] "
     ]
    },
    {
     "name": "stdout",
     "output_type": "stream",
     "text": [
      "Epoch [83100/100000]\n",
      "Train Loss: 10.7143\n",
      "test Loss: 10.4587, test Accuracy: 0.0000\n",
      "test F1 (micro): 0.0000, test F1 (macro): 0.0000\n"
     ]
    },
    {
     "name": "stderr",
     "output_type": "stream",
     "text": [
      " 83%|████████▎ | 83198/100000 [24:59:56<3:53:39,  1.20it/s] "
     ]
    },
    {
     "name": "stdout",
     "output_type": "stream",
     "text": [
      "Epoch [83200/100000]\n",
      "Train Loss: 11.1179\n",
      "test Loss: 10.4592, test Accuracy: 0.0000\n",
      "test F1 (micro): 0.0000, test F1 (macro): 0.0000\n"
     ]
    },
    {
     "name": "stderr",
     "output_type": "stream",
     "text": [
      " 83%|████████▎ | 83298/100000 [25:01:50<3:52:58,  1.19it/s] "
     ]
    },
    {
     "name": "stdout",
     "output_type": "stream",
     "text": [
      "Epoch [83300/100000]\n",
      "Train Loss: 10.9860\n",
      "test Loss: 10.4598, test Accuracy: 0.0000\n",
      "test F1 (micro): 0.0000, test F1 (macro): 0.0000\n"
     ]
    },
    {
     "name": "stderr",
     "output_type": "stream",
     "text": [
      " 83%|████████▎ | 83398/100000 [25:03:36<3:51:06,  1.20it/s] "
     ]
    },
    {
     "name": "stdout",
     "output_type": "stream",
     "text": [
      "Epoch [83400/100000]\n",
      "Train Loss: 10.9179\n",
      "test Loss: 10.4610, test Accuracy: 0.0000\n",
      "test F1 (micro): 0.0000, test F1 (macro): 0.0000\n"
     ]
    },
    {
     "name": "stderr",
     "output_type": "stream",
     "text": [
      " 83%|████████▎ | 83498/100000 [25:05:20<3:49:38,  1.20it/s] "
     ]
    },
    {
     "name": "stdout",
     "output_type": "stream",
     "text": [
      "Epoch [83500/100000]\n",
      "Train Loss: 10.8518\n",
      "test Loss: 10.4618, test Accuracy: 0.0000\n",
      "test F1 (micro): 0.0000, test F1 (macro): 0.0000\n"
     ]
    },
    {
     "name": "stderr",
     "output_type": "stream",
     "text": [
      " 84%|████████▎ | 83598/100000 [25:07:11<3:49:22,  1.19it/s] "
     ]
    },
    {
     "name": "stdout",
     "output_type": "stream",
     "text": [
      "Epoch [83600/100000]\n",
      "Train Loss: 11.1102\n",
      "test Loss: 10.4621, test Accuracy: 0.0000\n",
      "test F1 (micro): 0.0000, test F1 (macro): 0.0000\n"
     ]
    },
    {
     "name": "stderr",
     "output_type": "stream",
     "text": [
      " 84%|████████▎ | 83698/100000 [25:08:57<3:48:27,  1.19it/s] "
     ]
    },
    {
     "name": "stdout",
     "output_type": "stream",
     "text": [
      "Epoch [83700/100000]\n",
      "Train Loss: 10.7893\n",
      "test Loss: 10.4631, test Accuracy: 0.0000\n",
      "test F1 (micro): 0.0000, test F1 (macro): 0.0000\n"
     ]
    },
    {
     "name": "stderr",
     "output_type": "stream",
     "text": [
      " 84%|████████▍ | 83798/100000 [25:10:42<3:45:25,  1.20it/s] "
     ]
    },
    {
     "name": "stdout",
     "output_type": "stream",
     "text": [
      "Epoch [83800/100000]\n",
      "Train Loss: 11.2292\n",
      "test Loss: 10.4634, test Accuracy: 0.0000\n",
      "test F1 (micro): 0.0000, test F1 (macro): 0.0000\n"
     ]
    },
    {
     "name": "stderr",
     "output_type": "stream",
     "text": [
      " 84%|████████▍ | 83898/100000 [25:12:28<3:44:00,  1.20it/s] "
     ]
    },
    {
     "name": "stdout",
     "output_type": "stream",
     "text": [
      "Epoch [83900/100000]\n",
      "Train Loss: 11.0729\n",
      "test Loss: 10.4644, test Accuracy: 0.0000\n",
      "test F1 (micro): 0.0000, test F1 (macro): 0.0000\n"
     ]
    },
    {
     "name": "stderr",
     "output_type": "stream",
     "text": [
      " 84%|████████▍ | 83998/100000 [25:14:20<3:43:56,  1.19it/s] "
     ]
    },
    {
     "name": "stdout",
     "output_type": "stream",
     "text": [
      "Epoch [84000/100000]\n",
      "Train Loss: 10.8024\n",
      "test Loss: 10.4643, test Accuracy: 0.0000\n",
      "test F1 (micro): 0.0000, test F1 (macro): 0.0000\n"
     ]
    },
    {
     "name": "stderr",
     "output_type": "stream",
     "text": [
      " 84%|████████▍ | 84098/100000 [25:16:06<3:42:08,  1.19it/s] "
     ]
    },
    {
     "name": "stdout",
     "output_type": "stream",
     "text": [
      "Epoch [84100/100000]\n",
      "Train Loss: 10.7443\n",
      "test Loss: 10.4650, test Accuracy: 0.0000\n",
      "test F1 (micro): 0.0000, test F1 (macro): 0.0000\n"
     ]
    },
    {
     "name": "stderr",
     "output_type": "stream",
     "text": [
      " 84%|████████▍ | 84198/100000 [25:17:55<3:40:57,  1.19it/s] "
     ]
    },
    {
     "name": "stdout",
     "output_type": "stream",
     "text": [
      "Epoch [84200/100000]\n",
      "Train Loss: 10.9505\n",
      "test Loss: 10.4661, test Accuracy: 0.0000\n",
      "test F1 (micro): 0.0000, test F1 (macro): 0.0000\n"
     ]
    },
    {
     "name": "stderr",
     "output_type": "stream",
     "text": [
      " 84%|████████▍ | 84298/100000 [25:19:43<3:39:15,  1.19it/s] "
     ]
    },
    {
     "name": "stdout",
     "output_type": "stream",
     "text": [
      "Epoch [84300/100000]\n",
      "Train Loss: 10.8306\n",
      "test Loss: 10.4654, test Accuracy: 0.0000\n",
      "test F1 (micro): 0.0000, test F1 (macro): 0.0000\n"
     ]
    },
    {
     "name": "stderr",
     "output_type": "stream",
     "text": [
      " 84%|████████▍ | 84398/100000 [25:21:29<3:38:16,  1.19it/s] "
     ]
    },
    {
     "name": "stdout",
     "output_type": "stream",
     "text": [
      "Epoch [84400/100000]\n",
      "Train Loss: 11.0671\n",
      "test Loss: 10.4663, test Accuracy: 0.0000\n",
      "test F1 (micro): 0.0000, test F1 (macro): 0.0000\n"
     ]
    },
    {
     "name": "stderr",
     "output_type": "stream",
     "text": [
      " 84%|████████▍ | 84498/100000 [25:23:17<3:37:45,  1.19it/s] "
     ]
    },
    {
     "name": "stdout",
     "output_type": "stream",
     "text": [
      "Epoch [84500/100000]\n",
      "Train Loss: 11.1620\n",
      "test Loss: 10.4668, test Accuracy: 0.0000\n",
      "test F1 (micro): 0.0000, test F1 (macro): 0.0000\n"
     ]
    },
    {
     "name": "stderr",
     "output_type": "stream",
     "text": [
      " 85%|████████▍ | 84598/100000 [25:25:01<3:35:15,  1.19it/s] "
     ]
    },
    {
     "name": "stdout",
     "output_type": "stream",
     "text": [
      "Epoch [84600/100000]\n",
      "Train Loss: 11.0088\n",
      "test Loss: 10.4671, test Accuracy: 0.0000\n",
      "test F1 (micro): 0.0000, test F1 (macro): 0.0000\n"
     ]
    },
    {
     "name": "stderr",
     "output_type": "stream",
     "text": [
      " 85%|████████▍ | 84698/100000 [25:26:50<3:33:55,  1.19it/s] "
     ]
    },
    {
     "name": "stdout",
     "output_type": "stream",
     "text": [
      "Epoch [84700/100000]\n",
      "Train Loss: 10.9986\n",
      "test Loss: 10.4676, test Accuracy: 0.0000\n",
      "test F1 (micro): 0.0000, test F1 (macro): 0.0000\n"
     ]
    },
    {
     "name": "stderr",
     "output_type": "stream",
     "text": [
      " 85%|████████▍ | 84798/100000 [25:28:35<3:33:21,  1.19it/s] "
     ]
    },
    {
     "name": "stdout",
     "output_type": "stream",
     "text": [
      "Epoch [84800/100000]\n",
      "Train Loss: 10.8953\n",
      "test Loss: 10.4674, test Accuracy: 0.0000\n",
      "test F1 (micro): 0.0000, test F1 (macro): 0.0000\n"
     ]
    },
    {
     "name": "stderr",
     "output_type": "stream",
     "text": [
      " 85%|████████▍ | 84898/100000 [25:30:20<3:31:28,  1.19it/s] "
     ]
    },
    {
     "name": "stdout",
     "output_type": "stream",
     "text": [
      "Epoch [84900/100000]\n",
      "Train Loss: 11.0771\n",
      "test Loss: 10.4673, test Accuracy: 0.0000\n",
      "test F1 (micro): 0.0000, test F1 (macro): 0.0000\n"
     ]
    },
    {
     "name": "stderr",
     "output_type": "stream",
     "text": [
      " 85%|████████▌ | 85098/100000 [25:33:52<3:28:23,  1.19it/s] "
     ]
    },
    {
     "name": "stdout",
     "output_type": "stream",
     "text": [
      "Epoch [85100/100000]\n",
      "Train Loss: 10.7978\n",
      "test Loss: 10.4676, test Accuracy: 0.0000\n",
      "test F1 (micro): 0.0000, test F1 (macro): 0.0000\n"
     ]
    },
    {
     "name": "stderr",
     "output_type": "stream",
     "text": [
      " 85%|████████▌ | 85198/100000 [25:35:39<3:25:55,  1.20it/s] "
     ]
    },
    {
     "name": "stdout",
     "output_type": "stream",
     "text": [
      "Epoch [85200/100000]\n",
      "Train Loss: 11.1095\n",
      "test Loss: 10.4684, test Accuracy: 0.0000\n",
      "test F1 (micro): 0.0000, test F1 (macro): 0.0000\n"
     ]
    },
    {
     "name": "stderr",
     "output_type": "stream",
     "text": [
      " 85%|████████▌ | 85298/100000 [25:37:28<3:25:54,  1.19it/s] "
     ]
    },
    {
     "name": "stdout",
     "output_type": "stream",
     "text": [
      "Epoch [85300/100000]\n",
      "Train Loss: 10.8948\n",
      "test Loss: 10.4686, test Accuracy: 0.0000\n",
      "test F1 (micro): 0.0000, test F1 (macro): 0.0000\n"
     ]
    },
    {
     "name": "stderr",
     "output_type": "stream",
     "text": [
      " 85%|████████▌ | 85398/100000 [25:39:13<3:23:25,  1.20it/s] "
     ]
    },
    {
     "name": "stdout",
     "output_type": "stream",
     "text": [
      "Epoch [85400/100000]\n",
      "Train Loss: 10.8032\n",
      "test Loss: 10.4696, test Accuracy: 0.0000\n",
      "test F1 (micro): 0.0000, test F1 (macro): 0.0000\n"
     ]
    },
    {
     "name": "stderr",
     "output_type": "stream",
     "text": [
      " 85%|████████▌ | 85498/100000 [25:40:59<3:22:42,  1.19it/s] "
     ]
    },
    {
     "name": "stdout",
     "output_type": "stream",
     "text": [
      "Epoch [85500/100000]\n",
      "Train Loss: 10.8110\n",
      "test Loss: 10.4706, test Accuracy: 0.0000\n",
      "test F1 (micro): 0.0000, test F1 (macro): 0.0000\n"
     ]
    },
    {
     "name": "stderr",
     "output_type": "stream",
     "text": [
      " 86%|████████▌ | 85598/100000 [25:42:45<3:20:10,  1.20it/s] "
     ]
    },
    {
     "name": "stdout",
     "output_type": "stream",
     "text": [
      "Epoch [85600/100000]\n",
      "Train Loss: 10.9572\n",
      "test Loss: 10.4701, test Accuracy: 0.0000\n",
      "test F1 (micro): 0.0000, test F1 (macro): 0.0000\n"
     ]
    },
    {
     "name": "stderr",
     "output_type": "stream",
     "text": [
      " 86%|████████▌ | 85698/100000 [25:44:37<3:19:56,  1.19it/s] "
     ]
    },
    {
     "name": "stdout",
     "output_type": "stream",
     "text": [
      "Epoch [85700/100000]\n",
      "Train Loss: 10.8747\n",
      "test Loss: 10.4719, test Accuracy: 0.0000\n",
      "test F1 (micro): 0.0000, test F1 (macro): 0.0000\n"
     ]
    },
    {
     "name": "stderr",
     "output_type": "stream",
     "text": [
      " 86%|████████▌ | 85798/100000 [25:46:29<3:17:32,  1.20it/s] "
     ]
    },
    {
     "name": "stdout",
     "output_type": "stream",
     "text": [
      "Epoch [85800/100000]\n",
      "Train Loss: 11.0501\n",
      "test Loss: 10.4708, test Accuracy: 0.0000\n",
      "test F1 (micro): 0.0000, test F1 (macro): 0.0000\n"
     ]
    },
    {
     "name": "stderr",
     "output_type": "stream",
     "text": [
      " 86%|████████▌ | 85898/100000 [25:48:17<3:16:35,  1.20it/s] "
     ]
    },
    {
     "name": "stdout",
     "output_type": "stream",
     "text": [
      "Epoch [85900/100000]\n",
      "Train Loss: 10.8295\n",
      "test Loss: 10.4707, test Accuracy: 0.0000\n",
      "test F1 (micro): 0.0000, test F1 (macro): 0.0000\n"
     ]
    },
    {
     "name": "stderr",
     "output_type": "stream",
     "text": [
      " 86%|████████▌ | 85998/100000 [25:50:04<3:16:01,  1.19it/s] "
     ]
    },
    {
     "name": "stdout",
     "output_type": "stream",
     "text": [
      "Epoch [86000/100000]\n",
      "Train Loss: 10.9990\n",
      "test Loss: 10.4717, test Accuracy: 0.0000\n",
      "test F1 (micro): 0.0000, test F1 (macro): 0.0000\n"
     ]
    },
    {
     "name": "stderr",
     "output_type": "stream",
     "text": [
      " 86%|████████▌ | 86098/100000 [25:51:49<3:14:18,  1.19it/s] "
     ]
    },
    {
     "name": "stdout",
     "output_type": "stream",
     "text": [
      "Epoch [86100/100000]\n",
      "Train Loss: 11.1087\n",
      "test Loss: 10.4730, test Accuracy: 0.0000\n",
      "test F1 (micro): 0.0000, test F1 (macro): 0.0000\n"
     ]
    },
    {
     "name": "stderr",
     "output_type": "stream",
     "text": [
      " 86%|████████▌ | 86198/100000 [25:53:34<3:13:09,  1.19it/s] "
     ]
    },
    {
     "name": "stdout",
     "output_type": "stream",
     "text": [
      "Epoch [86200/100000]\n",
      "Train Loss: 11.1809\n",
      "test Loss: 10.4748, test Accuracy: 0.0000\n",
      "test F1 (micro): 0.0000, test F1 (macro): 0.0000\n"
     ]
    },
    {
     "name": "stderr",
     "output_type": "stream",
     "text": [
      " 86%|████████▋ | 86298/100000 [25:55:20<3:11:43,  1.19it/s] "
     ]
    },
    {
     "name": "stdout",
     "output_type": "stream",
     "text": [
      "Epoch [86300/100000]\n",
      "Train Loss: 11.0614\n",
      "test Loss: 10.4759, test Accuracy: 0.0000\n",
      "test F1 (micro): 0.0000, test F1 (macro): 0.0000\n"
     ]
    },
    {
     "name": "stderr",
     "output_type": "stream",
     "text": [
      " 86%|████████▋ | 86398/100000 [25:57:05<3:09:37,  1.20it/s] "
     ]
    },
    {
     "name": "stdout",
     "output_type": "stream",
     "text": [
      "Epoch [86400/100000]\n",
      "Train Loss: 11.0023\n",
      "test Loss: 10.4775, test Accuracy: 0.0000\n",
      "test F1 (micro): 0.0000, test F1 (macro): 0.0000\n"
     ]
    },
    {
     "name": "stderr",
     "output_type": "stream",
     "text": [
      " 86%|████████▋ | 86498/100000 [25:58:50<3:07:37,  1.20it/s] "
     ]
    },
    {
     "name": "stdout",
     "output_type": "stream",
     "text": [
      "Epoch [86500/100000]\n",
      "Train Loss: 10.9523\n",
      "test Loss: 10.4790, test Accuracy: 0.0000\n",
      "test F1 (micro): 0.0000, test F1 (macro): 0.0000\n"
     ]
    },
    {
     "name": "stderr",
     "output_type": "stream",
     "text": [
      " 87%|████████▋ | 86598/100000 [26:00:36<3:07:34,  1.19it/s] "
     ]
    },
    {
     "name": "stdout",
     "output_type": "stream",
     "text": [
      "Epoch [86600/100000]\n",
      "Train Loss: 10.8320\n",
      "test Loss: 10.4803, test Accuracy: 0.0000\n",
      "test F1 (micro): 0.0000, test F1 (macro): 0.0000\n"
     ]
    },
    {
     "name": "stderr",
     "output_type": "stream",
     "text": [
      " 87%|████████▋ | 86698/100000 [26:02:20<3:05:33,  1.19it/s] "
     ]
    },
    {
     "name": "stdout",
     "output_type": "stream",
     "text": [
      "Epoch [86700/100000]\n",
      "Train Loss: 11.1177\n",
      "test Loss: 10.4816, test Accuracy: 0.0000\n",
      "test F1 (micro): 0.0000, test F1 (macro): 0.0000\n"
     ]
    },
    {
     "name": "stderr",
     "output_type": "stream",
     "text": [
      " 87%|████████▋ | 86798/100000 [26:04:12<3:04:07,  1.20it/s] "
     ]
    },
    {
     "name": "stdout",
     "output_type": "stream",
     "text": [
      "Epoch [86800/100000]\n",
      "Train Loss: 10.9898\n",
      "test Loss: 10.4817, test Accuracy: 0.0000\n",
      "test F1 (micro): 0.0000, test F1 (macro): 0.0000\n"
     ]
    },
    {
     "name": "stderr",
     "output_type": "stream",
     "text": [
      " 87%|████████▋ | 86898/100000 [26:06:01<3:03:19,  1.19it/s] "
     ]
    },
    {
     "name": "stdout",
     "output_type": "stream",
     "text": [
      "Epoch [86900/100000]\n",
      "Train Loss: 11.0165\n",
      "test Loss: 10.4839, test Accuracy: 0.0000\n",
      "test F1 (micro): 0.0000, test F1 (macro): 0.0000\n"
     ]
    },
    {
     "name": "stderr",
     "output_type": "stream",
     "text": [
      " 87%|████████▋ | 86998/100000 [26:07:47<3:01:20,  1.20it/s] "
     ]
    },
    {
     "name": "stdout",
     "output_type": "stream",
     "text": [
      "Epoch [87000/100000]\n",
      "Train Loss: 11.1467\n",
      "test Loss: 10.4847, test Accuracy: 0.0000\n",
      "test F1 (micro): 0.0000, test F1 (macro): 0.0000\n"
     ]
    },
    {
     "name": "stderr",
     "output_type": "stream",
     "text": [
      " 87%|████████▋ | 87098/100000 [26:09:31<2:59:42,  1.20it/s] "
     ]
    },
    {
     "name": "stdout",
     "output_type": "stream",
     "text": [
      "Epoch [87100/100000]\n",
      "Train Loss: 10.9241\n",
      "test Loss: 10.4867, test Accuracy: 0.0000\n",
      "test F1 (micro): 0.0000, test F1 (macro): 0.0000\n"
     ]
    },
    {
     "name": "stderr",
     "output_type": "stream",
     "text": [
      " 87%|████████▋ | 87198/100000 [26:11:20<2:58:31,  1.20it/s] "
     ]
    },
    {
     "name": "stdout",
     "output_type": "stream",
     "text": [
      "Epoch [87200/100000]\n",
      "Train Loss: 10.8692\n",
      "test Loss: 10.4893, test Accuracy: 0.0000\n",
      "test F1 (micro): 0.0000, test F1 (macro): 0.0000\n"
     ]
    },
    {
     "name": "stderr",
     "output_type": "stream",
     "text": [
      " 87%|████████▋ | 87298/100000 [26:13:07<2:57:19,  1.19it/s] "
     ]
    },
    {
     "name": "stdout",
     "output_type": "stream",
     "text": [
      "Epoch [87300/100000]\n",
      "Train Loss: 11.0007\n",
      "test Loss: 10.4901, test Accuracy: 0.0000\n",
      "test F1 (micro): 0.0000, test F1 (macro): 0.0000\n"
     ]
    },
    {
     "name": "stderr",
     "output_type": "stream",
     "text": [
      " 87%|████████▋ | 87398/100000 [26:14:52<2:56:46,  1.19it/s] "
     ]
    },
    {
     "name": "stdout",
     "output_type": "stream",
     "text": [
      "Epoch [87400/100000]\n",
      "Train Loss: 11.0650\n",
      "test Loss: 10.4917, test Accuracy: 0.0000\n",
      "test F1 (micro): 0.0000, test F1 (macro): 0.0000\n"
     ]
    },
    {
     "name": "stderr",
     "output_type": "stream",
     "text": [
      " 87%|████████▋ | 87498/100000 [26:16:45<2:55:56,  1.18it/s] "
     ]
    },
    {
     "name": "stdout",
     "output_type": "stream",
     "text": [
      "Epoch [87500/100000]\n",
      "Train Loss: 10.8414\n",
      "test Loss: 10.4925, test Accuracy: 0.0000\n",
      "test F1 (micro): 0.0000, test F1 (macro): 0.0000\n"
     ]
    },
    {
     "name": "stderr",
     "output_type": "stream",
     "text": [
      " 88%|████████▊ | 87598/100000 [26:18:31<2:53:12,  1.19it/s] "
     ]
    },
    {
     "name": "stdout",
     "output_type": "stream",
     "text": [
      "Epoch [87600/100000]\n",
      "Train Loss: 10.9992\n",
      "test Loss: 10.4949, test Accuracy: 0.0000\n",
      "test F1 (micro): 0.0000, test F1 (macro): 0.0000\n"
     ]
    },
    {
     "name": "stderr",
     "output_type": "stream",
     "text": [
      " 88%|████████▊ | 87698/100000 [26:20:16<2:51:16,  1.20it/s] "
     ]
    },
    {
     "name": "stdout",
     "output_type": "stream",
     "text": [
      "Epoch [87700/100000]\n",
      "Train Loss: 11.0202\n",
      "test Loss: 10.4951, test Accuracy: 0.0000\n",
      "test F1 (micro): 0.0000, test F1 (macro): 0.0000\n"
     ]
    },
    {
     "name": "stderr",
     "output_type": "stream",
     "text": [
      " 88%|████████▊ | 87798/100000 [26:22:00<2:50:38,  1.19it/s] "
     ]
    },
    {
     "name": "stdout",
     "output_type": "stream",
     "text": [
      "Epoch [87800/100000]\n",
      "Train Loss: 10.8696\n",
      "test Loss: 10.4948, test Accuracy: 0.0000\n",
      "test F1 (micro): 0.0000, test F1 (macro): 0.0000\n"
     ]
    },
    {
     "name": "stderr",
     "output_type": "stream",
     "text": [
      " 88%|████████▊ | 87898/100000 [26:23:47<2:49:43,  1.19it/s] "
     ]
    },
    {
     "name": "stdout",
     "output_type": "stream",
     "text": [
      "Epoch [87900/100000]\n",
      "Train Loss: 10.8249\n",
      "test Loss: 10.4952, test Accuracy: 0.0000\n",
      "test F1 (micro): 0.0000, test F1 (macro): 0.0000\n"
     ]
    },
    {
     "name": "stderr",
     "output_type": "stream",
     "text": [
      " 88%|████████▊ | 87998/100000 [26:25:30<2:47:45,  1.19it/s] "
     ]
    },
    {
     "name": "stdout",
     "output_type": "stream",
     "text": [
      "Epoch [88000/100000]\n",
      "Train Loss: 11.0344\n",
      "test Loss: 10.4948, test Accuracy: 0.0000\n",
      "test F1 (micro): 0.0000, test F1 (macro): 0.0000\n"
     ]
    },
    {
     "name": "stderr",
     "output_type": "stream",
     "text": [
      " 88%|████████▊ | 88098/100000 [26:27:15<2:46:31,  1.19it/s] "
     ]
    },
    {
     "name": "stdout",
     "output_type": "stream",
     "text": [
      "Epoch [88100/100000]\n",
      "Train Loss: 10.9119\n",
      "test Loss: 10.4964, test Accuracy: 0.0000\n",
      "test F1 (micro): 0.0000, test F1 (macro): 0.0000\n"
     ]
    },
    {
     "name": "stderr",
     "output_type": "stream",
     "text": [
      " 88%|████████▊ | 88098/100000 [26:27:37<3:34:29,  1.08s/it]\n"
     ]
    },
    {
     "ename": "KeyboardInterrupt",
     "evalue": "",
     "output_type": "error",
     "traceback": [
      "\u001b[0;31m---------------------------------------------------------------------------\u001b[0m",
      "\u001b[0;31mKeyboardInterrupt\u001b[0m                         Traceback (most recent call last)",
      "Cell \u001b[0;32mIn[7], line 44\u001b[0m\n\u001b[1;32m     42\u001b[0m \u001b[38;5;66;03m# Save periodic checkpoint\u001b[39;00m\n\u001b[1;32m     43\u001b[0m checkpoint_path \u001b[38;5;241m=\u001b[39m os\u001b[38;5;241m.\u001b[39mpath\u001b[38;5;241m.\u001b[39mjoin(checkpoint_dir, \u001b[38;5;124mf\u001b[39m\u001b[38;5;124m'\u001b[39m\u001b[38;5;124mcheckpoint_epoch_\u001b[39m\u001b[38;5;132;01m{\u001b[39;00mepoch\u001b[38;5;132;01m}\u001b[39;00m\u001b[38;5;124m.pt\u001b[39m\u001b[38;5;124m'\u001b[39m)\n\u001b[0;32m---> 44\u001b[0m \u001b[43mtorch\u001b[49m\u001b[38;5;241;43m.\u001b[39;49m\u001b[43msave\u001b[49m\u001b[43m(\u001b[49m\u001b[43m{\u001b[49m\n\u001b[1;32m     45\u001b[0m \u001b[43m    \u001b[49m\u001b[38;5;124;43m'\u001b[39;49m\u001b[38;5;124;43mepoch\u001b[39;49m\u001b[38;5;124;43m'\u001b[39;49m\u001b[43m:\u001b[49m\u001b[43m \u001b[49m\u001b[43mepoch\u001b[49m\u001b[43m,\u001b[49m\n\u001b[1;32m     46\u001b[0m \u001b[43m    \u001b[49m\u001b[38;5;124;43m'\u001b[39;49m\u001b[38;5;124;43mmodel_state_dict\u001b[39;49m\u001b[38;5;124;43m'\u001b[39;49m\u001b[43m:\u001b[49m\u001b[43m \u001b[49m\u001b[43mmodel\u001b[49m\u001b[38;5;241;43m.\u001b[39;49m\u001b[43mstate_dict\u001b[49m\u001b[43m(\u001b[49m\u001b[43m)\u001b[49m\u001b[43m,\u001b[49m\n\u001b[1;32m     47\u001b[0m \u001b[43m    \u001b[49m\u001b[38;5;124;43m'\u001b[39;49m\u001b[38;5;124;43moptimizer_state_dict\u001b[39;49m\u001b[38;5;124;43m'\u001b[39;49m\u001b[43m:\u001b[49m\u001b[43m \u001b[49m\u001b[43moptimizer\u001b[49m\u001b[38;5;241;43m.\u001b[39;49m\u001b[43mstate_dict\u001b[49m\u001b[43m(\u001b[49m\u001b[43m)\u001b[49m\u001b[43m,\u001b[49m\n\u001b[1;32m     48\u001b[0m \u001b[43m    \u001b[49m\u001b[38;5;124;43m'\u001b[39;49m\u001b[38;5;124;43mscheduler_state_dict\u001b[39;49m\u001b[38;5;124;43m'\u001b[39;49m\u001b[43m:\u001b[49m\u001b[43m \u001b[49m\u001b[43mscheduler\u001b[49m\u001b[38;5;241;43m.\u001b[39;49m\u001b[43mstate_dict\u001b[49m\u001b[43m(\u001b[49m\u001b[43m)\u001b[49m\u001b[43m,\u001b[49m\n\u001b[1;32m     49\u001b[0m \u001b[43m    \u001b[49m\u001b[38;5;124;43m'\u001b[39;49m\u001b[38;5;124;43mmetrics\u001b[39;49m\u001b[38;5;124;43m'\u001b[39;49m\u001b[43m:\u001b[49m\u001b[43m \u001b[49m\u001b[43mmetrics\u001b[49m\n\u001b[1;32m     50\u001b[0m \u001b[43m\u001b[49m\u001b[43m}\u001b[49m\u001b[43m,\u001b[49m\u001b[43m \u001b[49m\u001b[43mcheckpoint_path\u001b[49m\u001b[43m)\u001b[49m\n\u001b[1;32m     52\u001b[0m \u001b[38;5;66;03m# Log to wandb\u001b[39;00m\n\u001b[1;32m     53\u001b[0m wandb\u001b[38;5;241m.\u001b[39mlog(metrics)\n",
      "File \u001b[0;32m/opt/conda/envs/py_3.10/lib/python3.10/site-packages/torch/serialization.py:627\u001b[0m, in \u001b[0;36msave\u001b[0;34m(obj, f, pickle_module, pickle_protocol, _use_new_zipfile_serialization, _disable_byteorder_record)\u001b[0m\n\u001b[1;32m    624\u001b[0m _check_save_filelike(f)\n\u001b[1;32m    626\u001b[0m \u001b[38;5;28;01mif\u001b[39;00m _use_new_zipfile_serialization:\n\u001b[0;32m--> 627\u001b[0m     \u001b[38;5;28;01mwith\u001b[39;00m _open_zipfile_writer(f) \u001b[38;5;28;01mas\u001b[39;00m opened_zipfile:\n\u001b[1;32m    628\u001b[0m         _save(obj, opened_zipfile, pickle_module, pickle_protocol, _disable_byteorder_record)\n\u001b[1;32m    629\u001b[0m         \u001b[38;5;28;01mreturn\u001b[39;00m\n",
      "File \u001b[0;32m/opt/conda/envs/py_3.10/lib/python3.10/site-packages/torch/serialization.py:475\u001b[0m, in \u001b[0;36m_open_zipfile_writer_file.__exit__\u001b[0;34m(self, *args)\u001b[0m\n\u001b[1;32m    474\u001b[0m \u001b[38;5;28;01mdef\u001b[39;00m \u001b[38;5;21m__exit__\u001b[39m(\u001b[38;5;28mself\u001b[39m, \u001b[38;5;241m*\u001b[39margs) \u001b[38;5;241m-\u001b[39m\u001b[38;5;241m>\u001b[39m \u001b[38;5;28;01mNone\u001b[39;00m:\n\u001b[0;32m--> 475\u001b[0m     \u001b[38;5;28;43mself\u001b[39;49m\u001b[38;5;241;43m.\u001b[39;49m\u001b[43mfile_like\u001b[49m\u001b[38;5;241;43m.\u001b[39;49m\u001b[43mwrite_end_of_file\u001b[49m\u001b[43m(\u001b[49m\u001b[43m)\u001b[49m\n\u001b[1;32m    476\u001b[0m     \u001b[38;5;28;01mif\u001b[39;00m \u001b[38;5;28mself\u001b[39m\u001b[38;5;241m.\u001b[39mfile_stream \u001b[38;5;129;01mis\u001b[39;00m \u001b[38;5;129;01mnot\u001b[39;00m \u001b[38;5;28;01mNone\u001b[39;00m:\n\u001b[1;32m    477\u001b[0m         \u001b[38;5;28mself\u001b[39m\u001b[38;5;241m.\u001b[39mfile_stream\u001b[38;5;241m.\u001b[39mclose()\n",
      "\u001b[0;31mKeyboardInterrupt\u001b[0m: "
     ]
    }
   ],
   "source": [
    "running_loss = 0\n",
    "current_lr = lr\n",
    "\n",
    "for epoch in tqdm(range(latest_epoch + 1, latest_epoch + epochs + 1)):\n",
    "    model.train()\n",
    "    \n",
    "    tensor_batch = data_to_tensor_batch(da.get_batch())\n",
    "    tensor_batch.gpu(device)\n",
    "    \n",
    "    labels = tensor_batch.taxes\n",
    "    outputs = model(tensor_batch.seq_ids['input_ids'], tensor_batch.seq_ids['attention_mask'])\n",
    "    \n",
    "    loss = criterion(outputs, labels)\n",
    "    \n",
    "    optimizer.zero_grad()\n",
    "    loss.backward()\n",
    "    optimizer.step()\n",
    "    \n",
    "    running_loss += loss.item()\n",
    "    \n",
    "    if (epoch + 1) % val_epoch == 0:\n",
    "        train_loss = running_loss / val_epoch\n",
    "        # Evaluate on validation set\n",
    "        val_loss, val_accuracy, val_f1_micro, val_f1_macro = evaluate(model)\n",
    "        \n",
    "        print(f\"Epoch [{epoch + 1}/{epochs}]\")\n",
    "        print(f\"Train Loss: {train_loss:.4f}\")\n",
    "        print(f\"test Loss: {val_loss:.4f}, test Accuracy: {val_accuracy:.4f}\")\n",
    "        print(f\"test F1 (micro): {val_f1_micro:.4f}, test F1 (macro): {val_f1_macro:.4f}\")\n",
    "        \n",
    "        # Create metrics dictionary for saving\n",
    "        metrics = {\n",
    "            \"train_loss\": train_loss,\n",
    "            \"test_loss\": val_loss,\n",
    "            \"test_accuracy\": val_accuracy,\n",
    "            \"test_f1_micro\": val_f1_micro,\n",
    "            \"test_f1_macro\": val_f1_macro,\n",
    "            \"epoch\": epoch + 1,\n",
    "            \"lr\": current_lr\n",
    "        }\n",
    "\n",
    "        # Save periodic checkpoint\n",
    "        checkpoint_path = os.path.join(checkpoint_dir, f'checkpoint_epoch_{epoch}.pt')\n",
    "        torch.save({\n",
    "            'epoch': epoch,\n",
    "            'model_state_dict': model.state_dict(),\n",
    "            'optimizer_state_dict': optimizer.state_dict(),\n",
    "            'scheduler_state_dict': scheduler.state_dict(),\n",
    "            'metrics': metrics\n",
    "        }, checkpoint_path)\n",
    "        \n",
    "        # Log to wandb\n",
    "        wandb.log(metrics)\n",
    "\n",
    "        # Step the scheduler\n",
    "        scheduler.step(epoch + loss.item())\n",
    "        current_lr = scheduler.get_last_lr()[0]\n",
    "        \n",
    "        # Reset training metrics\n",
    "        running_loss = 0\n",
    "\n",
    "wandb.finish()"
   ]
  },
  {
   "cell_type": "code",
   "execution_count": null,
   "id": "9f4d2b86-4822-422b-a3f3-c6617b3701ab",
   "metadata": {},
   "outputs": [
    {
     "name": "stdout",
     "output_type": "stream",
     "text": [
      "\u001b[1;34mwandb\u001b[0m: 🚀 View run \u001b[33mlight-terrain-11\u001b[0m at: \u001b[34mhttps://wandb.ai/alireza_noroozi/Finetune_ESM/runs/nvokgtnu\u001b[0m\n",
      "\u001b[1;34mwandb\u001b[0m: Find logs at: \u001b[1;35mwandb/run-20241205_144714-nvokgtnu/logs\u001b[0m\n"
     ]
    }
   ],
   "source": [
    "model, _, _, latest_epoch, metrics = load_checkpoint(model)\n",
    "\n",
    "val_batches_ = [virus_da.get_batch() for _ in range(num_val // 2)] + [cellular_da.get_batch() for _ in range(num_val // 2)]\n",
    "\n",
    "# input_sequences_ = [e['Sequence'] for b in val_batches_ for e in b]\n",
    "# labels_ = [encode_lineage(e['Taxonomic_lineage__ALL_'])  for b in val_batches_ for e in b]\n",
    "\n",
    "input_sequences_ = [\"ACACAD\"]\n",
    "labels_ = [{0: 1}]\n",
    "\n",
    "def evaluate_df(model):\n",
    "    model.eval()  # Set model to evaluation mode\n",
    "    \n",
    "    df = {\n",
    "        \"sequence\": [],\n",
    "        \"label\": [],\n",
    "        \"pred\": [],\n",
    "        \"loss\": []\n",
    "    }\n",
    "\n",
    "    metrics = {\n",
    "        \"loss\": 0,\n",
    "        \"accuracy\": 0,\n",
    "        \"f1 macro\": 0,\n",
    "        \"f1 micro\": 0\n",
    "    }\n",
    "    \n",
    "    # Process each sequence\n",
    "    for sequence, label in zip(input_sequences_, labels_):\n",
    "        inputs = tokenizer_(\n",
    "            [sequence],\n",
    "            return_tensors=\"pt\",\n",
    "            padding='max_length',\n",
    "            truncation=True,\n",
    "            max_length=max_seq_len\n",
    "        ).to(device)\n",
    "    \n",
    "        # Get model output\n",
    "        with torch.no_grad():\n",
    "            output = model(inputs['input_ids'], inputs['attention_mask'])\n",
    "\n",
    "        pred = output.argmax(dim=-1).cpu().item()\n",
    "        loss = criterion(output, torch.tensor([label[0]]).to(device))\n",
    "        df[\"sequence\"].append(sequence)\n",
    "        df[\"label\"].append(level_decoder[0][label[0]])\n",
    "        df[\"pred\"].append(level_decoder[0][pred])\n",
    "        df[\"loss\"].append(round(loss.cpu().item(), 4))\n",
    "\n",
    "    # Convert to DataFrame\n",
    "    new_df = pd.DataFrame(df)\n",
    "    new_df['is_incorrect'] = new_df['label'] != new_df['pred']\n",
    "    new_df = new_df.sort_values(['is_incorrect', 'loss'], ascending=[False, False])\n",
    "    new_df.to_csv(f'classification_results__new_att.csv', index=False)\n",
    "\n",
    "    metrics[\"loss\"] = np.array(df[\"loss\"]).mean()\n",
    "    metrics[\"accuracy\"] = accuracy_score(np.array(df[\"label\"]), np.array(df[\"pred\"]))\n",
    "    metrics[\"f1 macro\"] = f1_score(np.array(df[\"label\"]), np.array(df[\"pred\"]), average='macro')  # F1-score for multi-label classification\n",
    "    metrics[\"f1 micro\"] = f1_score(np.array(df[\"label\"]), np.array(df[\"pred\"]), average='micro') \n",
    "    print(metrics)\n",
    "\n",
    "evaluate_df(model)"
   ]
  },
  {
   "cell_type": "code",
   "execution_count": null,
   "id": "125ef5ce-baca-4389-b958-e2f2aff6b4aa",
   "metadata": {},
   "outputs": [],
   "source": []
  },
  {
   "cell_type": "code",
   "execution_count": null,
   "id": "018f9007-8e44-4eff-b37a-27fcd1600262",
   "metadata": {},
   "outputs": [],
   "source": []
  }
 ],
 "metadata": {
  "kernelspec": {
   "display_name": "Python 3 (ipykernel)",
   "language": "python",
   "name": "python3"
  },
  "language_info": {
   "codemirror_mode": {
    "name": "ipython",
    "version": 3
   },
   "file_extension": ".py",
   "mimetype": "text/x-python",
   "name": "python",
   "nbconvert_exporter": "python",
   "pygments_lexer": "ipython3",
   "version": "3.10.14"
  }
 },
 "nbformat": 4,
 "nbformat_minor": 5
}

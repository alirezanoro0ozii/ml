{
 "cells": [
  {
   "cell_type": "code",
   "execution_count": 1,
   "id": "bd53ee37-152c-447c-ad01-0e567857459f",
   "metadata": {},
   "outputs": [
    {
     "name": "stdout",
     "output_type": "stream",
     "text": [
      " WORLD_SIZE=1 , LOCAL_WORLD_SIZE=1,RANK =0,LOCAL_RANK = 0 \n"
     ]
    },
    {
     "name": "stderr",
     "output_type": "stream",
     "text": [
      "/opt/conda/envs/py_3.10/lib/python3.10/site-packages/tqdm/auto.py:21: TqdmWarning: IProgress not found. Please update jupyter and ipywidgets. See https://ipywidgets.readthedocs.io/en/stable/user_install.html\n",
      "  from .autonotebook import tqdm as notebook_tqdm\n"
     ]
    },
    {
     "name": "stdout",
     "output_type": "stream",
     "text": [
      "Loaded dictionary.\n",
      "cuda:0\n",
      "../checkpoints/new_hierarchy_checkpoints\n"
     ]
    }
   ],
   "source": [
    "import torch\n",
    "import pandas as pd\n",
    "import numpy as np\n",
    "import torch.nn as nn\n",
    "import torch.optim as optim\n",
    "from tqdm import tqdm\n",
    "import sys, os, math\n",
    "\n",
    "sys.path.insert(0, '../dlp')\n",
    "from data_access import PQDataAccess\n",
    "from data_process import *\n",
    "\n",
    "pd.set_option('future.no_silent_downcasting', True)\n",
    "device = 'cuda:0' if torch.cuda.is_available() else 'cpu'\n",
    "print(device)\n",
    "\n",
    "batch_size = 32\n",
    "da = PQDataAccess(\"/home/aac/Alireza/datasets/taxseq/corpus_1000\", batch_size)\n",
    "epochs= 10_000\n",
    "val_epoch = 50\n",
    "num_val = 25\n",
    "\n",
    "model_name = \"new_hierarchy\"\n",
    "checkpoint_dir = f\"../checkpoints/{model_name}_checkpoints\"\n",
    "\n",
    "if not os.path.exists(checkpoint_dir):\n",
    "    os.makedirs(checkpoint_dir)\n",
    "print(checkpoint_dir)"
   ]
  },
  {
   "cell_type": "code",
   "execution_count": 2,
   "id": "a9630d96-6b98-4224-bf1e-482605688b02",
   "metadata": {},
   "outputs": [
    {
     "name": "stderr",
     "output_type": "stream",
     "text": [
      "/opt/conda/envs/py_3.10/lib/python3.10/site-packages/torch/nn/modules/transformer.py:306: UserWarning: enable_nested_tensor is True, but self.use_nested_tensor is False because encoder_layer.self_attn.batch_first was not True(use batch_first for better inference performance)\n",
      "  warnings.warn(f\"enable_nested_tensor is True, but self.use_nested_tensor is False because {why_not_sparsity_fast_path}\")\n",
      "/opt/conda/envs/py_3.10/lib/python3.10/site-packages/tqdm/auto.py:21: TqdmWarning: IProgress not found. Please update jupyter and ipywidgets. See https://ipywidgets.readthedocs.io/en/stable/user_install.html\n",
      "  from .autonotebook import tqdm as notebook_tqdm\n"
     ]
    },
    {
     "name": "stdout",
     "output_type": "stream",
     "text": [
      "model: 120.04096 M parameters\n"
     ]
    }
   ],
   "source": [
    "from models.TaxonomyClassifier import TaxonomyClassifier\n",
    "\n",
    "total = sum(importance_dict.values())\n",
    "level_weights = {key: value / total for key, value in importance_dict.items()}\n",
    "\n",
    "model = TaxonomyClassifier(taxonomy_levels=tax_vocab_sizes).to(device)\n",
    "\n",
    "optimizer = torch.optim.Adam(model.parameters(), lr=1e-4)\n",
    "\n",
    "print(\"model:\", sum(p.numel() for p in model.parameters()) / 1e6, 'M parameters')"
   ]
  },
  {
   "cell_type": "code",
   "execution_count": null,
   "id": "4f21f4b4-1f5b-43ce-9512-af44c8a53454",
   "metadata": {},
   "outputs": [],
   "source": [
    "from train import train_step\n",
    "from evaluate import evaluate\n",
    "\n",
    "model.train()\n",
    "\n",
    "train_losses = []\n",
    "val_losses = []\n",
    "val_accuracies = []\n",
    "val_f1s = []\n",
    "\n",
    "for epoch in range(epochs):\n",
    "    train_loss, level_losses = train_step(model, optimizer, da, device, level_weights)\n",
    "    train_losses.append(train_loss)\n",
    "    \n",
    "    if (epoch + 1) % val_epoch == 0:\n",
    "        val_loss, level_losses, acc, level_f1, cms = evaluate(model, da, device, tax_vocab_sizes, level_weights, num_val)\n",
    "        print(\"cms\", cms)\n",
    "        val_losses.append(val_loss)\n",
    "        val_accuracies.append(acc)\n",
    "        val_f1s.append(level_f1)\n",
    "\n",
    "        mean_train_loss = sum(train_losses[-val_epoch:]) / val_epoch\n",
    "        \n",
    "        print(f\"Epoch {epoch+1}, Train Loss: {mean_train_loss:.4f}, Val Loss: {val_loss:.4f}, val acc: {acc:.4f}\")\n",
    "        print(sum(level_f1.values()) / len(level_f1))\n",
    "    \n",
    "        checkpoint_path = os.path.join(checkpoint_dir, f\"checkpoint_step_{epoch + 1}.pt\")\n",
    "        torch.save({\n",
    "            'epoch': epoch,\n",
    "            'model_state_dict': model.state_dict(),\n",
    "            'optimizer_state_dict': optimizer.state_dict(),\n",
    "            'train_loss': train_loss,\n",
    "            'val_loss': val_loss,\n",
    "            'accuracy': acc,\n",
    "            'f1_score': level_f1\n",
    "        }, checkpoint_path)"
   ]
  },
  {
   "cell_type": "code",
   "execution_count": 4,
   "id": "3448896f-7820-4e7a-9be6-a5f3908e2745",
   "metadata": {},
   "outputs": [],
   "source": [
    "def load_latest_checkpoint(checkpoint_dir, model, specific=None):\n",
    "    # List all checkpoint files and sort them by step number\n",
    "    checkpoints = [f for f in os.listdir(checkpoint_dir) if f.startswith(\"checkpoint_step_\")]\n",
    "    if not checkpoints:\n",
    "        print(\"No checkpoints found in directory.\")\n",
    "        return None\n",
    "\n",
    "    # Find the latest checkpoint based on step number\n",
    "    checkpoints.sort(key=lambda x: int(x.split(\"_\")[-1].split(\".\")[0]), reverse=True)\n",
    "    if specific is None:\n",
    "        latest_checkpoint_path = os.path.join(checkpoint_dir, checkpoints[0])\n",
    "    else:\n",
    "        latest_checkpoint_path = os.path.join(checkpoint_dir, specific)\n",
    "\n",
    "    # Load the checkpoint\n",
    "    checkpoint = torch.load(latest_checkpoint_path)\n",
    "    model.load_state_dict(checkpoint['model_state_dict'])\n",
    "    epoch = checkpoint['epoch']\n",
    "    train_loss = checkpoint['train_loss']\n",
    "    val_loss = checkpoint['val_loss']\n",
    "    accuracy = checkpoint['accuracy']\n",
    "    f1_score = checkpoint['f1_score']\n",
    "\n",
    "    print(f\"Loaded checkpoint from epoch {epoch+1}\")\n",
    "    \n",
    "    return {\n",
    "        \"epoch\": epoch,\n",
    "        \"train_loss\": train_loss,\n",
    "        \"val_loss\": val_loss,\n",
    "        \"accuracy\": accuracy,\n",
    "        \"f1_score\": f1_score\n",
    "    }"
   ]
  },
  {
   "cell_type": "code",
   "execution_count": 35,
   "id": "45da7505-9ea8-4b10-9ccf-88f41ae46b99",
   "metadata": {},
   "outputs": [
    {
     "name": "stdout",
     "output_type": "stream",
     "text": [
      "Loaded checkpoint from epoch 10000\n",
      "begining root \t cellular organisms\n",
      "superkingdom \t Bacteria\n",
      "--------\n",
      "cellular organisms, Bacteria, Pseudomonadota, Betaproteobacteria, unclassified Betaproteobacteria, Betaproteobacteria bacterium GR16-43\n",
      "begining root \t cellular organisms\n",
      "no rank \t unclassified Betaproteobacteria\n",
      "superkingdom \t Bacteria\n",
      "phylum \t Pseudomonadota\n",
      "class \t Betaproteobacteria\n"
     ]
    }
   ],
   "source": [
    "import sys\n",
    "sys.path.insert(0, '../dlp')\n",
    "\n",
    "from data_process import *\n",
    "\n",
    "test_seq = \"MKRLRPSDKFFELLGYKPHHVQLAIHRSTAKRRVACLGRQSGKSEAASVEAVFELFARPGSQGWIIAPTYDQAEIIFGRVVEKVERLSEVFPTTEVQLQRRRLRLLVHHYDRPVNAPGAKRVATSEFRGKSADRPDNLRGATLDFVILDEAAMIPFSVWSEAIEPTLSVRDGWALIISTPKGLNWFYEFFLMGWRGGLKEGIPNSGINQTHPDFESFHAASWDVWPERREWYMERRLYIPDLEFRQEYGAEFVSHSNSVFSGLDMLILLPYERRGTRLVVEDYRPDHIYCIGADFGKNQDYSVFSVLDLDTGAIACLERMNGATWSDQVARLKALSEDYGHAYVVADTWGVGDAIAEELDAQGINYTPLPVKSSSVKEQLISNLALLMEKGQVAVPNDKTILDELRNFRYYRTASGNQVMRAYGRGHDDIVMSLALAYSQYEGKDGYKFELAEERPSKLKHEESVMSLVEDDFTDLELANRAFSA\"\n",
    "tax_lineage = \"cellular organisms, Bacteria, Pseudomonadota, Betaproteobacteria, unclassified Betaproteobacteria, Betaproteobacteria bacterium GR16-43\"\n",
    "\n",
    "model = TaxonomyClassifier(taxonomy_levels=tax_vocab_sizes).to(device)\n",
    "latest_checkpoint = load_latest_checkpoint(checkpoint_dir, model)\n",
    "\n",
    "input_tensor = torch.LongTensor([encode_sequence(test_seq)]).to(device)\n",
    "output = model(input_tensor)\n",
    "\n",
    "output_indexes = {k: v.argmax().item() for k,v in output.items()}\n",
    "\n",
    "hierarchy = [\n",
    "    \"begining root\", \"no rank\", \"superkingdom\", \"kingdom\", \"subkingdom\", \"superphylum\", \"phylum\",\n",
    "    \"subphylum\", \"superclass\", \"class\", \"subclass\", \"infraclass\", \"superorder\", \"order\", \"suborder\",\n",
    "    \"infraorder\", \"parvorder\", \"superfamily\", \"family\", \"subfamily\", \"tribe\", \"subtribe\", \"genus\",\n",
    "    \"subgenus\", \"species group\", \"species subgroup\", \"species\", \"subspecies\", \"varietas\", \"forma specialis\",\n",
    "    \"forma\", \"biotype\", \"pathogroup\", \"serogroup\", \"serotype\", \"isolate\", \"strain\", \"genotype\", \"clade\",\n",
    "    \"cohort\", \"subcohort\", \"section\", \"subsection\", \"series\", \"morph\",\n",
    "]\n",
    "\n",
    "def pretty_print(dict_index):\n",
    "    for k in hierarchy:\n",
    "        if k in dict_index:\n",
    "            v = dict_index[k]\n",
    "            if v > 0:\n",
    "                print(k, \"\\t\", level_decoder[k][v])\n",
    "\n",
    "\n",
    "def decode_input_lineage(tax_lineage):\n",
    "    print(tax_lineage)\n",
    "    test_input = encode_lineage(tax_lineage)\n",
    "    for k in hierarchy:\n",
    "        if k in test_input:\n",
    "            v = test_input[k][0]\n",
    "            if v > 0:\n",
    "                print(k, \"\\t\", level_decoder[k][v])\n",
    "\n",
    "\n",
    "pretty_print(output_indexes)\n",
    "print(\"--------\")\n",
    "decode_input_lineage(tax_lineage)"
   ]
  }
 ],
 "metadata": {
  "kernelspec": {
   "display_name": "Python 3 (ipykernel)",
   "language": "python",
   "name": "python3"
  },
  "language_info": {
   "codemirror_mode": {
    "name": "ipython",
    "version": 3
   },
   "file_extension": ".py",
   "mimetype": "text/x-python",
   "name": "python",
   "nbconvert_exporter": "python",
   "pygments_lexer": "ipython3",
   "version": "3.10.14"
  }
 },
 "nbformat": 4,
 "nbformat_minor": 5
}

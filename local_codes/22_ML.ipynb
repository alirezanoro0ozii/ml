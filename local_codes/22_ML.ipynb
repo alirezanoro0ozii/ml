{
 "cells": [
  {
   "cell_type": "code",
   "execution_count": 1,
   "id": "d7cd1b0e-e0e4-4fd8-a680-ccdf0e1918a1",
   "metadata": {},
   "outputs": [
    {
     "name": "stdout",
     "output_type": "stream",
     "text": [
      "cuda:1\n",
      " WORLD_SIZE=1 , LOCAL_WORLD_SIZE=1,RANK =0,LOCAL_RANK = 0 \n"
     ]
    }
   ],
   "source": [
    "import pandas as pd\n",
    "import numpy as np\n",
    "from tqdm import tqdm\n",
    "import sys, os, math\n",
    "import torch\n",
    "import json\n",
    "\n",
    "device = 'cuda:1' if torch.cuda.is_available() else 'cpu'\n",
    "print(device)\n",
    "\n",
    "epochs = 100_000\n",
    "val_epoch = 1000\n",
    "num_val = 100\n",
    "batch_size = 128\n",
    "virus_dataset_name = \"corpus_1000_Viruses\"\n",
    "cellular_dataset_name = \"corpus_1000_cellular\"\n",
    "model_name = \"ML\"\n",
    "max_seq_len = 1000\n",
    "\n",
    "sys.path.insert(0, '../dlp')\n",
    "from data_access import PQDataAccess\n",
    "virus_da = PQDataAccess(f\"/home/aac/Alireza/datasets/export_pqt_4_taxseq_new/{virus_dataset_name}\", batch_size)\n",
    "cellular_da = PQDataAccess(f\"/home/aac/Alireza/datasets/export_pqt_4_taxseq_new/{cellular_dataset_name}\", batch_size)"
   ]
  },
  {
   "cell_type": "code",
   "execution_count": 2,
   "id": "b9b8f22e-a680-496e-973a-a7b7c552913f",
   "metadata": {},
   "outputs": [],
   "source": [
    "import random\n",
    "index2name_file = \"../data/taxonomy_index.json\"\n",
    "\n",
    "# Check if the file exists\n",
    "if os.path.exists(index2name_file):\n",
    "    with open(index2name_file, \"rb\") as f:\n",
    "        index2name = json.load(f)\n",
    "\n",
    "tax_vocab_sizes = {\n",
    "    int(k): len(v) for k,v in index2name.items()\n",
    "}\n",
    "\n",
    "level_encoder = {\n",
    "    int(k): {name: idx + 1 for idx, name in enumerate(v)} for k,v in index2name.items()\n",
    "}\n",
    "\n",
    "level_decoder = {\n",
    "    int(k): {idx + 1: name for idx, name in enumerate(v)} for k,v in index2name.items()\n",
    "}\n",
    "\n",
    "for k, v in level_decoder.items():\n",
    "    level_decoder[k][0] = \"NOT DEFINED\"\n",
    "\n",
    "\n",
    "def encode_lineage(lineage_str):\n",
    "    taxes_str = lineage_str.split(\", \")\n",
    "\n",
    "    encoded = {int(k): 0 for k in index2name.keys()}\n",
    "    \n",
    "    for i, tax_str in enumerate(taxes_str):\n",
    "        encoded[i] = level_encoder[i][tax_str]\n",
    "\n",
    "    return encoded\n",
    "\n",
    "\n",
    "from sklearn.preprocessing import LabelEncoder, OneHotEncoder\n",
    "\n",
    "\n",
    "def one_hot_encode_sequence(seq):\n",
    "    amino_acids = '-ACDEFGHIKLMNPQRSTVWY'  # 20 standard amino acids\n",
    "    encoder = OneHotEncoder(categories=[list(amino_acids)], sparse_output=False)\n",
    "\n",
    "    # Convert sequence into a 2D array (each amino acid as a separate row)\n",
    "    sequence_array = np.array([aa if aa in amino_acids else '-' for aa in seq] + ['-' for _ in range(max_seq_len - len(seq))]).reshape(-1, 1)\n",
    "\n",
    "    # Perform one-hot encoding\n",
    "    one_hot_encoded = encoder.fit_transform(sequence_array)\n",
    "\n",
    "    # Flatten the one-hot encoded array to a single vector for each sequence\n",
    "    return one_hot_encoded.flatten()\n",
    "\n",
    "def mix_data_to_tensor_batch(b_virues, b_cellular, max_seq_len=max_seq_len, partition=0.25):\n",
    "    split_point = int(len(b_virues) * partition)\n",
    "    b = b_virues[:split_point] + b_cellular[-len(b_virues) + split_point:]\n",
    "    random.shuffle(b)  # In-place shuffle\n",
    "    \n",
    "    inputs = np.array([one_hot_encode_sequence(e['Sequence']) for e in b])\n",
    "\n",
    "    tax_ids = [encode_lineage(e['Taxonomic_lineage__ALL_']) for e in b]\n",
    "    combined_dict = {}\n",
    "    for d in tax_ids:\n",
    "        for key, value in d.items():\n",
    "            combined_dict.setdefault(key, []).append(value)\n",
    "\n",
    "    encoded = {k: np.array(v) for k, v in combined_dict.items()}\n",
    "    return {\"sequences\": inputs, \"labels\":encoded}\n",
    "\n",
    "def val_loader():\n",
    "    val_batches = [virus_da.get_batch() for _ in range(num_val // 2)] + [cellular_da.get_batch() for _ in range(num_val // 2)]\n",
    "\n",
    "    inputs = np.array([one_hot_encode_sequence(e['Sequence']) for b in val_batches for e in b])\n",
    "\n",
    "    tax_ids = [encode_lineage(e['Taxonomic_lineage__ALL_']) for b in val_batches for e in b]\n",
    "    combined_dict = {}\n",
    "    for d in tax_ids:\n",
    "        for key, value in d.items():\n",
    "            combined_dict.setdefault(key, []).append(value)\n",
    "\n",
    "    encoded = {k: np.array(v) for k, v in combined_dict.items()}\n",
    "    return {\"sequences\": inputs, \"labels\":encoded}"
   ]
  },
  {
   "cell_type": "code",
   "execution_count": 3,
   "id": "a2cb1410-5ec8-4c88-854d-be599e54e957",
   "metadata": {},
   "outputs": [],
   "source": [
    "from sklearn.ensemble import RandomForestClassifier\n",
    "from sklearn.metrics import accuracy_score, precision_score, recall_score, f1_score, roc_auc_score, confusion_matrix, \\\n",
    "    classification_report, confusion_matrix\n",
    "# import xgboost as xgb\n",
    "#\n",
    "# # Set up the DMatrix for XGBoost (with GPU)\n",
    "# dtrain = xgb.DMatrix(X_train, label=y_train)\n",
    "# dtest = xgb.DMatrix(X_test, label=y_test)\n",
    "#\n",
    "# # Set GPU parameters\n",
    "# params = {\n",
    "#     'tree_method': 'gpu_hist',  # Use GPU acceleration\n",
    "#     'device': 'cuda:0',\n",
    "#     'objective': 'binary:logistic',\n",
    "#     'eval_metric': 'logloss',\n",
    "#     'max_depth': 6\n",
    "# }\n",
    "#\n",
    "# # Train the model\n",
    "# bst = xgb.train(params, dtrain, num_boost_round=100)\n",
    "#\n",
    "# # Predict and evaluate\n",
    "# y_pred = (bst.predict(dtest) > 0.5).astype(int)\n",
    "# y_proba = bst.predict(dtest)"
   ]
  },
  {
   "cell_type": "code",
   "execution_count": 4,
   "id": "edfc2957-4cfc-4e87-b993-17fd6390ff5f",
   "metadata": {},
   "outputs": [],
   "source": [
    "def get_partition_ratio(epoch, decay_epochs=100000):\n",
    "    \"\"\"\n",
    "    Calculate partition ratio that decreases from 8/16 to 1/16 in steps\n",
    "    \"\"\"\n",
    "    # Calculate how many epochs before each step down\n",
    "    epochs_per_step = decay_epochs // 7  # 7 steps from 8/16 down to 1/16\n",
    "    \n",
    "    # Calculate current step based on epoch\n",
    "    step = min(epoch // epochs_per_step, 7)  # Max 7 steps down from 8\n",
    "    \n",
    "    # Map step to fraction\n",
    "    fraction = (8 - step) / 16\n",
    "    \n",
    "    return fraction"
   ]
  },
  {
   "cell_type": "code",
   "execution_count": null,
   "id": "ae97be1d-63bb-42a9-99d8-c1f4b9e720ad",
   "metadata": {},
   "outputs": [
    {
     "name": "stderr",
     "output_type": "stream",
     "text": [
      "  1%|          | 999/100000 [06:25<11:25:35,  2.41it/s]"
     ]
    },
    {
     "name": "stdout",
     "output_type": "stream",
     "text": [
      "Epoch [1000/100000]\n"
     ]
    },
    {
     "name": "stderr",
     "output_type": "stream",
     "text": [
      "  1%|          | 1000/100000 [06:27<21:34:08,  1.27it/s]"
     ]
    },
    {
     "name": "stdout",
     "output_type": "stream",
     "text": [
      "Accuracy:0.6062\n",
      "Precision:0.6134\n",
      "Recall:0.5745\n",
      "F1-Score:0.5934\n",
      "ROC-AUC:0.6670\n",
      "\n",
      "Confusion Matrix:\n",
      " [[3677 2723]\n",
      " [2317 4083]]\n",
      "\n",
      "Classification Report:\n",
      "               precision    recall  f1-score   support\n",
      "\n",
      "           1       0.61      0.57      0.59      6400\n",
      "           2       0.60      0.64      0.62      6400\n",
      "\n",
      "    accuracy                           0.61     12800\n",
      "   macro avg       0.61      0.61      0.61     12800\n",
      "weighted avg       0.61      0.61      0.61     12800\n",
      "\n"
     ]
    },
    {
     "name": "stderr",
     "output_type": "stream",
     "text": [
      "  2%|▏         | 1999/100000 [13:01<10:41:52,  2.54it/s]"
     ]
    },
    {
     "name": "stdout",
     "output_type": "stream",
     "text": [
      "Epoch [2000/100000]\n"
     ]
    },
    {
     "name": "stderr",
     "output_type": "stream",
     "text": [
      "  2%|▏         | 2000/100000 [13:03<20:46:12,  1.31it/s]"
     ]
    },
    {
     "name": "stdout",
     "output_type": "stream",
     "text": [
      "Accuracy:0.6344\n",
      "Precision:0.6032\n",
      "Recall:0.7856\n",
      "F1-Score:0.6824\n",
      "ROC-AUC:0.6892\n",
      "\n",
      "Confusion Matrix:\n",
      " [[5028 1372]\n",
      " [3308 3092]]\n",
      "\n",
      "Classification Report:\n",
      "               precision    recall  f1-score   support\n",
      "\n",
      "           1       0.60      0.79      0.68      6400\n",
      "           2       0.69      0.48      0.57      6400\n",
      "\n",
      "    accuracy                           0.63     12800\n",
      "   macro avg       0.65      0.63      0.63     12800\n",
      "weighted avg       0.65      0.63      0.63     12800\n",
      "\n"
     ]
    },
    {
     "name": "stderr",
     "output_type": "stream",
     "text": [
      "  3%|▎         | 2999/100000 [19:36<11:03:45,  2.44it/s]"
     ]
    },
    {
     "name": "stdout",
     "output_type": "stream",
     "text": [
      "Epoch [3000/100000]\n"
     ]
    },
    {
     "name": "stderr",
     "output_type": "stream",
     "text": [
      "  3%|▎         | 3000/100000 [19:37<19:48:33,  1.36it/s]"
     ]
    },
    {
     "name": "stdout",
     "output_type": "stream",
     "text": [
      "Accuracy:0.6488\n",
      "Precision:0.6350\n",
      "Recall:0.6998\n",
      "F1-Score:0.6658\n",
      "ROC-AUC:0.6910\n",
      "\n",
      "Confusion Matrix:\n",
      " [[4479 1921]\n",
      " [2575 3825]]\n",
      "\n",
      "Classification Report:\n",
      "               precision    recall  f1-score   support\n",
      "\n",
      "           1       0.63      0.70      0.67      6400\n",
      "           2       0.67      0.60      0.63      6400\n",
      "\n",
      "    accuracy                           0.65     12800\n",
      "   macro avg       0.65      0.65      0.65     12800\n",
      "weighted avg       0.65      0.65      0.65     12800\n",
      "\n"
     ]
    },
    {
     "name": "stderr",
     "output_type": "stream",
     "text": [
      "  4%|▍         | 3999/100000 [26:04<10:02:21,  2.66it/s]"
     ]
    },
    {
     "name": "stdout",
     "output_type": "stream",
     "text": [
      "Epoch [4000/100000]\n"
     ]
    },
    {
     "name": "stderr",
     "output_type": "stream",
     "text": [
      "  4%|▍         | 4000/100000 [26:05<18:35:56,  1.43it/s]"
     ]
    },
    {
     "name": "stdout",
     "output_type": "stream",
     "text": [
      "Accuracy:0.6427\n",
      "Precision:0.6268\n",
      "Recall:0.7058\n",
      "F1-Score:0.6639\n",
      "ROC-AUC:0.6893\n",
      "\n",
      "Confusion Matrix:\n",
      " [[4517 1883]\n",
      " [2690 3710]]\n",
      "\n",
      "Classification Report:\n",
      "               precision    recall  f1-score   support\n",
      "\n",
      "           1       0.63      0.71      0.66      6400\n",
      "           2       0.66      0.58      0.62      6400\n",
      "\n",
      "    accuracy                           0.64     12800\n",
      "   macro avg       0.65      0.64      0.64     12800\n",
      "weighted avg       0.65      0.64      0.64     12800\n",
      "\n"
     ]
    },
    {
     "name": "stderr",
     "output_type": "stream",
     "text": [
      "  5%|▍         | 4999/100000 [32:41<10:03:10,  2.63it/s]"
     ]
    },
    {
     "name": "stdout",
     "output_type": "stream",
     "text": [
      "Epoch [5000/100000]\n"
     ]
    },
    {
     "name": "stderr",
     "output_type": "stream",
     "text": [
      "  5%|▌         | 5000/100000 [32:42<19:51:42,  1.33it/s]"
     ]
    },
    {
     "name": "stdout",
     "output_type": "stream",
     "text": [
      "Accuracy:0.6215\n",
      "Precision:0.6129\n",
      "Recall:0.6594\n",
      "F1-Score:0.6353\n",
      "ROC-AUC:0.6733\n",
      "\n",
      "Confusion Matrix:\n",
      " [[4220 2180]\n",
      " [2665 3735]]\n",
      "\n",
      "Classification Report:\n",
      "               precision    recall  f1-score   support\n",
      "\n",
      "           1       0.61      0.66      0.64      6400\n",
      "           2       0.63      0.58      0.61      6400\n",
      "\n",
      "    accuracy                           0.62     12800\n",
      "   macro avg       0.62      0.62      0.62     12800\n",
      "weighted avg       0.62      0.62      0.62     12800\n",
      "\n"
     ]
    },
    {
     "name": "stderr",
     "output_type": "stream",
     "text": [
      "  6%|▌         | 5999/100000 [39:05<9:55:17,  2.63it/s] "
     ]
    },
    {
     "name": "stdout",
     "output_type": "stream",
     "text": [
      "Epoch [6000/100000]\n"
     ]
    },
    {
     "name": "stderr",
     "output_type": "stream",
     "text": [
      "  6%|▌         | 6000/100000 [39:06<19:05:05,  1.37it/s]"
     ]
    },
    {
     "name": "stdout",
     "output_type": "stream",
     "text": [
      "Accuracy:0.6272\n",
      "Precision:0.6409\n",
      "Recall:0.5786\n",
      "F1-Score:0.6081\n",
      "ROC-AUC:0.6892\n",
      "\n",
      "Confusion Matrix:\n",
      " [[3703 2697]\n",
      " [2075 4325]]\n",
      "\n",
      "Classification Report:\n",
      "               precision    recall  f1-score   support\n",
      "\n",
      "           1       0.64      0.58      0.61      6400\n",
      "           2       0.62      0.68      0.64      6400\n",
      "\n",
      "    accuracy                           0.63     12800\n",
      "   macro avg       0.63      0.63      0.63     12800\n",
      "weighted avg       0.63      0.63      0.63     12800\n",
      "\n"
     ]
    },
    {
     "name": "stderr",
     "output_type": "stream",
     "text": [
      "  7%|▋         | 6999/100000 [45:29<9:43:36,  2.66it/s] "
     ]
    },
    {
     "name": "stdout",
     "output_type": "stream",
     "text": [
      "Epoch [7000/100000]\n"
     ]
    },
    {
     "name": "stderr",
     "output_type": "stream",
     "text": [
      "  7%|▋         | 7000/100000 [45:31<18:16:31,  1.41it/s]"
     ]
    },
    {
     "name": "stdout",
     "output_type": "stream",
     "text": [
      "Accuracy:0.6213\n",
      "Precision:0.5924\n",
      "Recall:0.7777\n",
      "F1-Score:0.6725\n",
      "ROC-AUC:0.6669\n",
      "\n",
      "Confusion Matrix:\n",
      " [[4977 1423]\n",
      " [3424 2976]]\n",
      "\n",
      "Classification Report:\n",
      "               precision    recall  f1-score   support\n",
      "\n",
      "           1       0.59      0.78      0.67      6400\n",
      "           2       0.68      0.47      0.55      6400\n",
      "\n",
      "    accuracy                           0.62     12800\n",
      "   macro avg       0.63      0.62      0.61     12800\n",
      "weighted avg       0.63      0.62      0.61     12800\n",
      "\n"
     ]
    },
    {
     "name": "stderr",
     "output_type": "stream",
     "text": [
      "  8%|▊         | 7999/100000 [51:54<9:32:33,  2.68it/s] "
     ]
    },
    {
     "name": "stdout",
     "output_type": "stream",
     "text": [
      "Epoch [8000/100000]\n"
     ]
    },
    {
     "name": "stderr",
     "output_type": "stream",
     "text": [
      "  8%|▊         | 8000/100000 [51:55<17:48:30,  1.44it/s]"
     ]
    },
    {
     "name": "stdout",
     "output_type": "stream",
     "text": [
      "Accuracy:0.6149\n",
      "Precision:0.6465\n",
      "Recall:0.5070\n",
      "F1-Score:0.5684\n",
      "ROC-AUC:0.7010\n",
      "\n",
      "Confusion Matrix:\n",
      " [[3245 3155]\n",
      " [1774 4626]]\n",
      "\n",
      "Classification Report:\n",
      "               precision    recall  f1-score   support\n",
      "\n",
      "           1       0.65      0.51      0.57      6400\n",
      "           2       0.59      0.72      0.65      6400\n",
      "\n",
      "    accuracy                           0.61     12800\n",
      "   macro avg       0.62      0.61      0.61     12800\n",
      "weighted avg       0.62      0.61      0.61     12800\n",
      "\n"
     ]
    },
    {
     "name": "stderr",
     "output_type": "stream",
     "text": [
      "  9%|▉         | 8999/100000 [58:19<9:31:43,  2.65it/s] "
     ]
    },
    {
     "name": "stdout",
     "output_type": "stream",
     "text": [
      "Epoch [9000/100000]\n"
     ]
    },
    {
     "name": "stderr",
     "output_type": "stream",
     "text": [
      "  9%|▉         | 9000/100000 [58:20<18:31:43,  1.36it/s]"
     ]
    },
    {
     "name": "stdout",
     "output_type": "stream",
     "text": [
      "Accuracy:0.6529\n",
      "Precision:0.6406\n",
      "Recall:0.6964\n",
      "F1-Score:0.6674\n",
      "ROC-AUC:0.7099\n",
      "\n",
      "Confusion Matrix:\n",
      " [[4457 1943]\n",
      " [2500 3900]]\n",
      "\n",
      "Classification Report:\n",
      "               precision    recall  f1-score   support\n",
      "\n",
      "           1       0.64      0.70      0.67      6400\n",
      "           2       0.67      0.61      0.64      6400\n",
      "\n",
      "    accuracy                           0.65     12800\n",
      "   macro avg       0.65      0.65      0.65     12800\n",
      "weighted avg       0.65      0.65      0.65     12800\n",
      "\n"
     ]
    },
    {
     "name": "stderr",
     "output_type": "stream",
     "text": [
      " 10%|▉         | 9999/100000 [1:04:50<11:05:21,  2.25it/s]"
     ]
    },
    {
     "name": "stdout",
     "output_type": "stream",
     "text": [
      "Epoch [10000/100000]\n"
     ]
    },
    {
     "name": "stderr",
     "output_type": "stream",
     "text": [
      " 10%|█         | 10000/100000 [1:04:52<20:00:31,  1.25it/s]"
     ]
    },
    {
     "name": "stdout",
     "output_type": "stream",
     "text": [
      "Accuracy:0.6041\n",
      "Precision:0.5774\n",
      "Recall:0.7770\n",
      "F1-Score:0.6625\n",
      "ROC-AUC:0.6602\n",
      "\n",
      "Confusion Matrix:\n",
      " [[4973 1427]\n",
      " [3640 2760]]\n",
      "\n",
      "Classification Report:\n",
      "               precision    recall  f1-score   support\n",
      "\n",
      "           1       0.58      0.78      0.66      6400\n",
      "           2       0.66      0.43      0.52      6400\n",
      "\n",
      "    accuracy                           0.60     12800\n",
      "   macro avg       0.62      0.60      0.59     12800\n",
      "weighted avg       0.62      0.60      0.59     12800\n",
      "\n"
     ]
    },
    {
     "name": "stderr",
     "output_type": "stream",
     "text": [
      " 11%|█         | 10999/100000 [1:11:16<9:17:45,  2.66it/s] "
     ]
    },
    {
     "name": "stdout",
     "output_type": "stream",
     "text": [
      "Epoch [11000/100000]\n"
     ]
    },
    {
     "name": "stderr",
     "output_type": "stream",
     "text": [
      " 11%|█         | 11000/100000 [1:11:18<17:37:15,  1.40it/s]"
     ]
    },
    {
     "name": "stdout",
     "output_type": "stream",
     "text": [
      "Accuracy:0.6484\n",
      "Precision:0.6306\n",
      "Recall:0.7164\n",
      "F1-Score:0.6708\n",
      "ROC-AUC:0.6948\n",
      "\n",
      "Confusion Matrix:\n",
      " [[4585 1815]\n",
      " [2686 3714]]\n",
      "\n",
      "Classification Report:\n",
      "               precision    recall  f1-score   support\n",
      "\n",
      "           1       0.63      0.72      0.67      6400\n",
      "           2       0.67      0.58      0.62      6400\n",
      "\n",
      "    accuracy                           0.65     12800\n",
      "   macro avg       0.65      0.65      0.65     12800\n",
      "weighted avg       0.65      0.65      0.65     12800\n",
      "\n"
     ]
    },
    {
     "name": "stderr",
     "output_type": "stream",
     "text": [
      " 12%|█▏        | 11999/100000 [1:17:43<9:36:33,  2.54it/s] "
     ]
    },
    {
     "name": "stdout",
     "output_type": "stream",
     "text": [
      "Epoch [12000/100000]\n"
     ]
    },
    {
     "name": "stderr",
     "output_type": "stream",
     "text": [
      " 12%|█▏        | 12000/100000 [1:17:45<18:50:36,  1.30it/s]"
     ]
    },
    {
     "name": "stdout",
     "output_type": "stream",
     "text": [
      "Accuracy:0.6413\n",
      "Precision:0.6340\n",
      "Recall:0.6686\n",
      "F1-Score:0.6508\n",
      "ROC-AUC:0.7089\n",
      "\n",
      "Confusion Matrix:\n",
      " [[4279 2121]\n",
      " [2470 3930]]\n",
      "\n",
      "Classification Report:\n",
      "               precision    recall  f1-score   support\n",
      "\n",
      "           1       0.63      0.67      0.65      6400\n",
      "           2       0.65      0.61      0.63      6400\n",
      "\n",
      "    accuracy                           0.64     12800\n",
      "   macro avg       0.64      0.64      0.64     12800\n",
      "weighted avg       0.64      0.64      0.64     12800\n",
      "\n"
     ]
    },
    {
     "name": "stderr",
     "output_type": "stream",
     "text": [
      " 13%|█▎        | 12999/100000 [1:24:16<9:25:01,  2.57it/s] "
     ]
    },
    {
     "name": "stdout",
     "output_type": "stream",
     "text": [
      "Epoch [13000/100000]\n"
     ]
    },
    {
     "name": "stderr",
     "output_type": "stream",
     "text": [
      " 13%|█▎        | 13000/100000 [1:24:18<18:13:27,  1.33it/s]"
     ]
    },
    {
     "name": "stdout",
     "output_type": "stream",
     "text": [
      "Accuracy:0.6392\n",
      "Precision:0.6257\n",
      "Recall:0.6930\n",
      "F1-Score:0.6576\n",
      "ROC-AUC:0.6828\n",
      "\n",
      "Confusion Matrix:\n",
      " [[4435 1965]\n",
      " [2653 3747]]\n",
      "\n",
      "Classification Report:\n",
      "               precision    recall  f1-score   support\n",
      "\n",
      "           1       0.63      0.69      0.66      6400\n",
      "           2       0.66      0.59      0.62      6400\n",
      "\n",
      "    accuracy                           0.64     12800\n",
      "   macro avg       0.64      0.64      0.64     12800\n",
      "weighted avg       0.64      0.64      0.64     12800\n",
      "\n"
     ]
    },
    {
     "name": "stderr",
     "output_type": "stream",
     "text": [
      " 14%|█▍        | 13999/100000 [1:30:44<9:10:24,  2.60it/s] "
     ]
    },
    {
     "name": "stdout",
     "output_type": "stream",
     "text": [
      "Epoch [14000/100000]\n"
     ]
    },
    {
     "name": "stderr",
     "output_type": "stream",
     "text": [
      " 14%|█▍        | 14000/100000 [1:30:45<17:25:15,  1.37it/s]"
     ]
    },
    {
     "name": "stdout",
     "output_type": "stream",
     "text": [
      "Accuracy:0.5860\n",
      "Precision:0.5728\n",
      "Recall:0.6770\n",
      "F1-Score:0.6206\n",
      "ROC-AUC:0.6477\n",
      "\n",
      "Confusion Matrix:\n",
      " [[4333 2067]\n",
      " [3232 3168]]\n",
      "\n",
      "Classification Report:\n",
      "               precision    recall  f1-score   support\n",
      "\n",
      "           1       0.57      0.68      0.62      6400\n",
      "           2       0.61      0.49      0.54      6400\n",
      "\n",
      "    accuracy                           0.59     12800\n",
      "   macro avg       0.59      0.59      0.58     12800\n",
      "weighted avg       0.59      0.59      0.58     12800\n",
      "\n"
     ]
    },
    {
     "name": "stderr",
     "output_type": "stream",
     "text": [
      " 15%|█▍        | 14999/100000 [1:37:06<8:45:01,  2.70it/s] "
     ]
    },
    {
     "name": "stdout",
     "output_type": "stream",
     "text": [
      "Epoch [15000/100000]\n"
     ]
    },
    {
     "name": "stderr",
     "output_type": "stream",
     "text": [
      " 15%|█▌        | 15000/100000 [1:37:08<16:55:10,  1.40it/s]"
     ]
    },
    {
     "name": "stdout",
     "output_type": "stream",
     "text": [
      "Accuracy:0.6475\n",
      "Precision:0.6010\n",
      "Recall:0.8775\n",
      "F1-Score:0.7134\n",
      "ROC-AUC:0.7275\n",
      "\n",
      "Confusion Matrix:\n",
      " [[5616  784]\n",
      " [3728 2672]]\n",
      "\n",
      "Classification Report:\n",
      "               precision    recall  f1-score   support\n",
      "\n",
      "           1       0.60      0.88      0.71      6400\n",
      "           2       0.77      0.42      0.54      6400\n",
      "\n",
      "    accuracy                           0.65     12800\n",
      "   macro avg       0.69      0.65      0.63     12800\n",
      "weighted avg       0.69      0.65      0.63     12800\n",
      "\n"
     ]
    },
    {
     "name": "stderr",
     "output_type": "stream",
     "text": [
      " 16%|█▌        | 15999/100000 [1:43:28<8:45:31,  2.66it/s] "
     ]
    },
    {
     "name": "stdout",
     "output_type": "stream",
     "text": [
      "Epoch [16000/100000]\n"
     ]
    },
    {
     "name": "stderr",
     "output_type": "stream",
     "text": [
      " 16%|█▌        | 16000/100000 [1:43:29<16:30:25,  1.41it/s]"
     ]
    },
    {
     "name": "stdout",
     "output_type": "stream",
     "text": [
      "Accuracy:0.6166\n",
      "Precision:0.5757\n",
      "Recall:0.8862\n",
      "F1-Score:0.6980\n",
      "ROC-AUC:0.7093\n",
      "\n",
      "Confusion Matrix:\n",
      " [[5672  728]\n",
      " [4180 2220]]\n",
      "\n",
      "Classification Report:\n",
      "               precision    recall  f1-score   support\n",
      "\n",
      "           1       0.58      0.89      0.70      6400\n",
      "           2       0.75      0.35      0.47      6400\n",
      "\n",
      "    accuracy                           0.62     12800\n",
      "   macro avg       0.66      0.62      0.59     12800\n",
      "weighted avg       0.66      0.62      0.59     12800\n",
      "\n"
     ]
    },
    {
     "name": "stderr",
     "output_type": "stream",
     "text": [
      " 17%|█▋        | 16999/100000 [1:49:56<8:34:46,  2.69it/s] "
     ]
    },
    {
     "name": "stdout",
     "output_type": "stream",
     "text": [
      "Epoch [17000/100000]\n"
     ]
    },
    {
     "name": "stderr",
     "output_type": "stream",
     "text": [
      " 17%|█▋        | 17000/100000 [1:49:57<16:33:49,  1.39it/s]"
     ]
    },
    {
     "name": "stdout",
     "output_type": "stream",
     "text": [
      "Accuracy:0.6277\n",
      "Precision:0.5880\n",
      "Recall:0.8527\n",
      "F1-Score:0.6960\n",
      "ROC-AUC:0.6899\n",
      "\n",
      "Confusion Matrix:\n",
      " [[5457  943]\n",
      " [3823 2577]]\n",
      "\n",
      "Classification Report:\n",
      "               precision    recall  f1-score   support\n",
      "\n",
      "           1       0.59      0.85      0.70      6400\n",
      "           2       0.73      0.40      0.52      6400\n",
      "\n",
      "    accuracy                           0.63     12800\n",
      "   macro avg       0.66      0.63      0.61     12800\n",
      "weighted avg       0.66      0.63      0.61     12800\n",
      "\n"
     ]
    },
    {
     "name": "stderr",
     "output_type": "stream",
     "text": [
      " 18%|█▊        | 17999/100000 [1:56:18<8:32:26,  2.67it/s] "
     ]
    },
    {
     "name": "stdout",
     "output_type": "stream",
     "text": [
      "Epoch [18000/100000]\n"
     ]
    },
    {
     "name": "stderr",
     "output_type": "stream",
     "text": [
      " 18%|█▊        | 18000/100000 [1:56:19<15:43:45,  1.45it/s]"
     ]
    },
    {
     "name": "stdout",
     "output_type": "stream",
     "text": [
      "Accuracy:0.5992\n",
      "Precision:0.5711\n",
      "Recall:0.7973\n",
      "F1-Score:0.6655\n",
      "ROC-AUC:0.6714\n",
      "\n",
      "Confusion Matrix:\n",
      " [[5103 1297]\n",
      " [3833 2567]]\n",
      "\n",
      "Classification Report:\n",
      "               precision    recall  f1-score   support\n",
      "\n",
      "           1       0.57      0.80      0.67      6400\n",
      "           2       0.66      0.40      0.50      6400\n",
      "\n",
      "    accuracy                           0.60     12800\n",
      "   macro avg       0.62      0.60      0.58     12800\n",
      "weighted avg       0.62      0.60      0.58     12800\n",
      "\n"
     ]
    },
    {
     "name": "stderr",
     "output_type": "stream",
     "text": [
      " 19%|█▉        | 18999/100000 [2:02:40<9:24:51,  2.39it/s] "
     ]
    },
    {
     "name": "stdout",
     "output_type": "stream",
     "text": [
      "Epoch [19000/100000]\n"
     ]
    },
    {
     "name": "stderr",
     "output_type": "stream",
     "text": [
      " 19%|█▉        | 19000/100000 [2:02:42<17:11:52,  1.31it/s]"
     ]
    },
    {
     "name": "stdout",
     "output_type": "stream",
     "text": [
      "Accuracy:0.6111\n",
      "Precision:0.5823\n",
      "Recall:0.7864\n",
      "F1-Score:0.6691\n",
      "ROC-AUC:0.6606\n",
      "\n",
      "Confusion Matrix:\n",
      " [[5033 1367]\n",
      " [3611 2789]]\n",
      "\n",
      "Classification Report:\n",
      "               precision    recall  f1-score   support\n",
      "\n",
      "           1       0.58      0.79      0.67      6400\n",
      "           2       0.67      0.44      0.53      6400\n",
      "\n",
      "    accuracy                           0.61     12800\n",
      "   macro avg       0.63      0.61      0.60     12800\n",
      "weighted avg       0.63      0.61      0.60     12800\n",
      "\n"
     ]
    },
    {
     "name": "stderr",
     "output_type": "stream",
     "text": [
      " 20%|█▉        | 19999/100000 [2:09:18<8:38:08,  2.57it/s] "
     ]
    },
    {
     "name": "stdout",
     "output_type": "stream",
     "text": [
      "Epoch [20000/100000]\n"
     ]
    },
    {
     "name": "stderr",
     "output_type": "stream",
     "text": [
      " 20%|██        | 20000/100000 [2:09:19<16:10:42,  1.37it/s]"
     ]
    },
    {
     "name": "stdout",
     "output_type": "stream",
     "text": [
      "Accuracy:0.6166\n",
      "Precision:0.5857\n",
      "Recall:0.7975\n",
      "F1-Score:0.6754\n",
      "ROC-AUC:0.6730\n",
      "\n",
      "Confusion Matrix:\n",
      " [[5104 1296]\n",
      " [3611 2789]]\n",
      "\n",
      "Classification Report:\n",
      "               precision    recall  f1-score   support\n",
      "\n",
      "           1       0.59      0.80      0.68      6400\n",
      "           2       0.68      0.44      0.53      6400\n",
      "\n",
      "    accuracy                           0.62     12800\n",
      "   macro avg       0.63      0.62      0.60     12800\n",
      "weighted avg       0.63      0.62      0.60     12800\n",
      "\n"
     ]
    },
    {
     "name": "stderr",
     "output_type": "stream",
     "text": [
      " 21%|██        | 20999/100000 [2:15:54<8:26:25,  2.60it/s] "
     ]
    },
    {
     "name": "stdout",
     "output_type": "stream",
     "text": [
      "Epoch [21000/100000]\n"
     ]
    },
    {
     "name": "stderr",
     "output_type": "stream",
     "text": [
      " 21%|██        | 21000/100000 [2:15:56<16:20:19,  1.34it/s]"
     ]
    },
    {
     "name": "stdout",
     "output_type": "stream",
     "text": [
      "Accuracy:0.5591\n",
      "Precision:0.5402\n",
      "Recall:0.7944\n",
      "F1-Score:0.6431\n",
      "ROC-AUC:0.5818\n",
      "\n",
      "Confusion Matrix:\n",
      " [[5084 1316]\n",
      " [4327 2073]]\n",
      "\n",
      "Classification Report:\n",
      "               precision    recall  f1-score   support\n",
      "\n",
      "           1       0.54      0.79      0.64      6400\n",
      "           2       0.61      0.32      0.42      6400\n",
      "\n",
      "    accuracy                           0.56     12800\n",
      "   macro avg       0.58      0.56      0.53     12800\n",
      "weighted avg       0.58      0.56      0.53     12800\n",
      "\n"
     ]
    },
    {
     "name": "stderr",
     "output_type": "stream",
     "text": [
      " 22%|██▏       | 21999/100000 [2:22:26<8:14:03,  2.63it/s] "
     ]
    },
    {
     "name": "stdout",
     "output_type": "stream",
     "text": [
      "Epoch [22000/100000]\n"
     ]
    },
    {
     "name": "stderr",
     "output_type": "stream",
     "text": [
      " 22%|██▏       | 22000/100000 [2:22:27<15:23:05,  1.41it/s]"
     ]
    },
    {
     "name": "stdout",
     "output_type": "stream",
     "text": [
      "Accuracy:0.6136\n",
      "Precision:0.5792\n",
      "Recall:0.8306\n",
      "F1-Score:0.6825\n",
      "ROC-AUC:0.6686\n",
      "\n",
      "Confusion Matrix:\n",
      " [[5316 1084]\n",
      " [3862 2538]]\n",
      "\n",
      "Classification Report:\n",
      "               precision    recall  f1-score   support\n",
      "\n",
      "           1       0.58      0.83      0.68      6400\n",
      "           2       0.70      0.40      0.51      6400\n",
      "\n",
      "    accuracy                           0.61     12800\n",
      "   macro avg       0.64      0.61      0.59     12800\n",
      "weighted avg       0.64      0.61      0.59     12800\n",
      "\n"
     ]
    },
    {
     "name": "stderr",
     "output_type": "stream",
     "text": [
      " 23%|██▎       | 22999/100000 [2:28:55<8:15:25,  2.59it/s] "
     ]
    },
    {
     "name": "stdout",
     "output_type": "stream",
     "text": [
      "Epoch [23000/100000]\n"
     ]
    },
    {
     "name": "stderr",
     "output_type": "stream",
     "text": [
      " 23%|██▎       | 23000/100000 [2:28:57<16:21:30,  1.31it/s]"
     ]
    },
    {
     "name": "stdout",
     "output_type": "stream",
     "text": [
      "Accuracy:0.5926\n",
      "Precision:0.5531\n",
      "Recall:0.9647\n",
      "F1-Score:0.7031\n",
      "ROC-AUC:0.6740\n",
      "\n",
      "Confusion Matrix:\n",
      " [[6174  226]\n",
      " [4989 1411]]\n",
      "\n",
      "Classification Report:\n",
      "               precision    recall  f1-score   support\n",
      "\n",
      "           1       0.55      0.96      0.70      6400\n",
      "           2       0.86      0.22      0.35      6400\n",
      "\n",
      "    accuracy                           0.59     12800\n",
      "   macro avg       0.71      0.59      0.53     12800\n",
      "weighted avg       0.71      0.59      0.53     12800\n",
      "\n"
     ]
    },
    {
     "name": "stderr",
     "output_type": "stream",
     "text": [
      " 24%|██▍       | 23999/100000 [2:35:32<8:21:09,  2.53it/s] "
     ]
    },
    {
     "name": "stdout",
     "output_type": "stream",
     "text": [
      "Epoch [24000/100000]\n"
     ]
    },
    {
     "name": "stderr",
     "output_type": "stream",
     "text": [
      " 24%|██▍       | 24000/100000 [2:35:33<15:57:37,  1.32it/s]"
     ]
    },
    {
     "name": "stdout",
     "output_type": "stream",
     "text": [
      "Accuracy:0.6134\n",
      "Precision:0.5784\n",
      "Recall:0.8370\n",
      "F1-Score:0.6841\n",
      "ROC-AUC:0.6764\n",
      "\n",
      "Confusion Matrix:\n",
      " [[5357 1043]\n",
      " [3905 2495]]\n",
      "\n",
      "Classification Report:\n",
      "               precision    recall  f1-score   support\n",
      "\n",
      "           1       0.58      0.84      0.68      6400\n",
      "           2       0.71      0.39      0.50      6400\n",
      "\n",
      "    accuracy                           0.61     12800\n",
      "   macro avg       0.64      0.61      0.59     12800\n",
      "weighted avg       0.64      0.61      0.59     12800\n",
      "\n"
     ]
    },
    {
     "name": "stderr",
     "output_type": "stream",
     "text": [
      " 25%|██▍       | 24999/100000 [2:42:07<7:58:26,  2.61it/s] "
     ]
    },
    {
     "name": "stdout",
     "output_type": "stream",
     "text": [
      "Epoch [25000/100000]\n"
     ]
    },
    {
     "name": "stderr",
     "output_type": "stream",
     "text": [
      " 25%|██▌       | 25000/100000 [2:42:09<15:35:11,  1.34it/s]"
     ]
    },
    {
     "name": "stdout",
     "output_type": "stream",
     "text": [
      "Accuracy:0.6098\n",
      "Precision:0.5723\n",
      "Recall:0.8700\n",
      "F1-Score:0.6904\n",
      "ROC-AUC:0.7001\n",
      "\n",
      "Confusion Matrix:\n",
      " [[5568  832]\n",
      " [4162 2238]]\n",
      "\n",
      "Classification Report:\n",
      "               precision    recall  f1-score   support\n",
      "\n",
      "           1       0.57      0.87      0.69      6400\n",
      "           2       0.73      0.35      0.47      6400\n",
      "\n",
      "    accuracy                           0.61     12800\n",
      "   macro avg       0.65      0.61      0.58     12800\n",
      "weighted avg       0.65      0.61      0.58     12800\n",
      "\n"
     ]
    },
    {
     "name": "stderr",
     "output_type": "stream",
     "text": [
      " 26%|██▌       | 25999/100000 [2:48:40<8:11:07,  2.51it/s] "
     ]
    },
    {
     "name": "stdout",
     "output_type": "stream",
     "text": [
      "Epoch [26000/100000]\n"
     ]
    },
    {
     "name": "stderr",
     "output_type": "stream",
     "text": [
      " 26%|██▌       | 26000/100000 [2:48:42<16:42:24,  1.23it/s]"
     ]
    },
    {
     "name": "stdout",
     "output_type": "stream",
     "text": [
      "Accuracy:0.6116\n",
      "Precision:0.5789\n",
      "Recall:0.8194\n",
      "F1-Score:0.6784\n",
      "ROC-AUC:0.6490\n",
      "\n",
      "Confusion Matrix:\n",
      " [[5244 1156]\n",
      " [3815 2585]]\n",
      "\n",
      "Classification Report:\n",
      "               precision    recall  f1-score   support\n",
      "\n",
      "           1       0.58      0.82      0.68      6400\n",
      "           2       0.69      0.40      0.51      6400\n",
      "\n",
      "    accuracy                           0.61     12800\n",
      "   macro avg       0.63      0.61      0.59     12800\n",
      "weighted avg       0.63      0.61      0.59     12800\n",
      "\n"
     ]
    },
    {
     "name": "stderr",
     "output_type": "stream",
     "text": [
      " 27%|██▋       | 26999/100000 [2:55:06<7:27:39,  2.72it/s] "
     ]
    },
    {
     "name": "stdout",
     "output_type": "stream",
     "text": [
      "Epoch [27000/100000]\n"
     ]
    },
    {
     "name": "stderr",
     "output_type": "stream",
     "text": [
      " 27%|██▋       | 27000/100000 [2:55:08<13:33:59,  1.49it/s]"
     ]
    },
    {
     "name": "stdout",
     "output_type": "stream",
     "text": [
      "Accuracy:0.6155\n",
      "Precision:0.5834\n",
      "Recall:0.8080\n",
      "F1-Score:0.6776\n",
      "ROC-AUC:0.6855\n",
      "\n",
      "Confusion Matrix:\n",
      " [[5171 1229]\n",
      " [3692 2708]]\n",
      "\n",
      "Classification Report:\n",
      "               precision    recall  f1-score   support\n",
      "\n",
      "           1       0.58      0.81      0.68      6400\n",
      "           2       0.69      0.42      0.52      6400\n",
      "\n",
      "    accuracy                           0.62     12800\n",
      "   macro avg       0.64      0.62      0.60     12800\n",
      "weighted avg       0.64      0.62      0.60     12800\n",
      "\n"
     ]
    },
    {
     "name": "stderr",
     "output_type": "stream",
     "text": [
      " 28%|██▊       | 27999/100000 [3:01:39<7:58:05,  2.51it/s] "
     ]
    },
    {
     "name": "stdout",
     "output_type": "stream",
     "text": [
      "Epoch [28000/100000]\n"
     ]
    },
    {
     "name": "stderr",
     "output_type": "stream",
     "text": [
      " 28%|██▊       | 28000/100000 [3:01:40<14:33:17,  1.37it/s]"
     ]
    },
    {
     "name": "stdout",
     "output_type": "stream",
     "text": [
      "Accuracy:0.6343\n",
      "Precision:0.5975\n",
      "Recall:0.8228\n",
      "F1-Score:0.6923\n",
      "ROC-AUC:0.7152\n",
      "\n",
      "Confusion Matrix:\n",
      " [[5266 1134]\n",
      " [3547 2853]]\n",
      "\n",
      "Classification Report:\n",
      "               precision    recall  f1-score   support\n",
      "\n",
      "           1       0.60      0.82      0.69      6400\n",
      "           2       0.72      0.45      0.55      6400\n",
      "\n",
      "    accuracy                           0.63     12800\n",
      "   macro avg       0.66      0.63      0.62     12800\n",
      "weighted avg       0.66      0.63      0.62     12800\n",
      "\n"
     ]
    },
    {
     "name": "stderr",
     "output_type": "stream",
     "text": [
      " 29%|██▉       | 28999/100000 [3:08:07<7:40:29,  2.57it/s] "
     ]
    },
    {
     "name": "stdout",
     "output_type": "stream",
     "text": [
      "Epoch [29000/100000]\n"
     ]
    },
    {
     "name": "stderr",
     "output_type": "stream",
     "text": [
      " 29%|██▉       | 29000/100000 [3:08:09<14:48:38,  1.33it/s]"
     ]
    },
    {
     "name": "stdout",
     "output_type": "stream",
     "text": [
      "Accuracy:0.5923\n",
      "Precision:0.5541\n",
      "Recall:0.9455\n",
      "F1-Score:0.6987\n",
      "ROC-AUC:0.6909\n",
      "\n",
      "Confusion Matrix:\n",
      " [[6051  349]\n",
      " [4869 1531]]\n",
      "\n",
      "Classification Report:\n",
      "               precision    recall  f1-score   support\n",
      "\n",
      "           1       0.55      0.95      0.70      6400\n",
      "           2       0.81      0.24      0.37      6400\n",
      "\n",
      "    accuracy                           0.59     12800\n",
      "   macro avg       0.68      0.59      0.53     12800\n",
      "weighted avg       0.68      0.59      0.53     12800\n",
      "\n"
     ]
    },
    {
     "name": "stderr",
     "output_type": "stream",
     "text": [
      " 30%|██▉       | 29999/100000 [3:14:43<8:01:54,  2.42it/s] "
     ]
    },
    {
     "name": "stdout",
     "output_type": "stream",
     "text": [
      "Epoch [30000/100000]\n"
     ]
    },
    {
     "name": "stderr",
     "output_type": "stream",
     "text": [
      " 30%|███       | 30000/100000 [3:14:44<14:27:36,  1.34it/s]"
     ]
    },
    {
     "name": "stdout",
     "output_type": "stream",
     "text": [
      "Accuracy:0.6059\n",
      "Precision:0.5732\n",
      "Recall:0.8295\n",
      "F1-Score:0.6779\n",
      "ROC-AUC:0.6804\n",
      "\n",
      "Confusion Matrix:\n",
      " [[5309 1091]\n",
      " [3953 2447]]\n",
      "\n",
      "Classification Report:\n",
      "               precision    recall  f1-score   support\n",
      "\n",
      "           1       0.57      0.83      0.68      6400\n",
      "           2       0.69      0.38      0.49      6400\n",
      "\n",
      "    accuracy                           0.61     12800\n",
      "   macro avg       0.63      0.61      0.59     12800\n",
      "weighted avg       0.63      0.61      0.59     12800\n",
      "\n"
     ]
    },
    {
     "name": "stderr",
     "output_type": "stream",
     "text": [
      " 31%|███       | 30999/100000 [3:21:17<7:23:37,  2.59it/s] "
     ]
    },
    {
     "name": "stdout",
     "output_type": "stream",
     "text": [
      "Epoch [31000/100000]\n"
     ]
    },
    {
     "name": "stderr",
     "output_type": "stream",
     "text": [
      " 31%|███       | 31000/100000 [3:21:18<13:52:31,  1.38it/s]"
     ]
    },
    {
     "name": "stdout",
     "output_type": "stream",
     "text": [
      "Accuracy:0.6205\n",
      "Precision:0.5879\n",
      "Recall:0.8058\n",
      "F1-Score:0.6798\n",
      "ROC-AUC:0.6795\n",
      "\n",
      "Confusion Matrix:\n",
      " [[5157 1243]\n",
      " [3615 2785]]\n",
      "\n",
      "Classification Report:\n",
      "               precision    recall  f1-score   support\n",
      "\n",
      "           1       0.59      0.81      0.68      6400\n",
      "           2       0.69      0.44      0.53      6400\n",
      "\n",
      "    accuracy                           0.62     12800\n",
      "   macro avg       0.64      0.62      0.61     12800\n",
      "weighted avg       0.64      0.62      0.61     12800\n",
      "\n"
     ]
    },
    {
     "name": "stderr",
     "output_type": "stream",
     "text": [
      " 32%|███▏      | 31999/100000 [3:27:45<7:55:41,  2.38it/s] "
     ]
    },
    {
     "name": "stdout",
     "output_type": "stream",
     "text": [
      "Epoch [32000/100000]\n"
     ]
    },
    {
     "name": "stderr",
     "output_type": "stream",
     "text": [
      " 32%|███▏      | 32000/100000 [3:27:46<13:52:20,  1.36it/s]"
     ]
    },
    {
     "name": "stdout",
     "output_type": "stream",
     "text": [
      "Accuracy:0.5850\n",
      "Precision:0.5522\n",
      "Recall:0.8994\n",
      "F1-Score:0.6843\n",
      "ROC-AUC:0.6610\n",
      "\n",
      "Confusion Matrix:\n",
      " [[5756  644]\n",
      " [4668 1732]]\n",
      "\n",
      "Classification Report:\n",
      "               precision    recall  f1-score   support\n",
      "\n",
      "           1       0.55      0.90      0.68      6400\n",
      "           2       0.73      0.27      0.39      6400\n",
      "\n",
      "    accuracy                           0.58     12800\n",
      "   macro avg       0.64      0.58      0.54     12800\n",
      "weighted avg       0.64      0.58      0.54     12800\n",
      "\n"
     ]
    },
    {
     "name": "stderr",
     "output_type": "stream",
     "text": [
      " 33%|███▎      | 32999/100000 [3:34:08<7:09:15,  2.60it/s] "
     ]
    },
    {
     "name": "stdout",
     "output_type": "stream",
     "text": [
      "Epoch [33000/100000]\n"
     ]
    },
    {
     "name": "stderr",
     "output_type": "stream",
     "text": [
      " 33%|███▎      | 33000/100000 [3:34:10<13:55:47,  1.34it/s]"
     ]
    },
    {
     "name": "stdout",
     "output_type": "stream",
     "text": [
      "Accuracy:0.5850\n",
      "Precision:0.5469\n",
      "Recall:0.9919\n",
      "F1-Score:0.7050\n",
      "ROC-AUC:0.6796\n",
      "\n",
      "Confusion Matrix:\n",
      " [[6348   52]\n",
      " [5260 1140]]\n",
      "\n",
      "Classification Report:\n",
      "               precision    recall  f1-score   support\n",
      "\n",
      "           1       0.55      0.99      0.71      6400\n",
      "           2       0.96      0.18      0.30      6400\n",
      "\n",
      "    accuracy                           0.58     12800\n",
      "   macro avg       0.75      0.58      0.50     12800\n",
      "weighted avg       0.75      0.58      0.50     12800\n",
      "\n"
     ]
    },
    {
     "name": "stderr",
     "output_type": "stream",
     "text": [
      " 34%|███▍      | 33999/100000 [3:40:42<7:04:12,  2.59it/s] "
     ]
    },
    {
     "name": "stdout",
     "output_type": "stream",
     "text": [
      "Epoch [34000/100000]\n"
     ]
    },
    {
     "name": "stderr",
     "output_type": "stream",
     "text": [
      " 34%|███▍      | 34000/100000 [3:40:44<13:46:03,  1.33it/s]"
     ]
    },
    {
     "name": "stdout",
     "output_type": "stream",
     "text": [
      "Accuracy:0.6011\n",
      "Precision:0.5602\n",
      "Recall:0.9414\n",
      "F1-Score:0.7024\n",
      "ROC-AUC:0.6477\n",
      "\n",
      "Confusion Matrix:\n",
      " [[6025  375]\n",
      " [4731 1669]]\n",
      "\n",
      "Classification Report:\n",
      "               precision    recall  f1-score   support\n",
      "\n",
      "           1       0.56      0.94      0.70      6400\n",
      "           2       0.82      0.26      0.40      6400\n",
      "\n",
      "    accuracy                           0.60     12800\n",
      "   macro avg       0.69      0.60      0.55     12800\n",
      "weighted avg       0.69      0.60      0.55     12800\n",
      "\n"
     ]
    },
    {
     "name": "stderr",
     "output_type": "stream",
     "text": [
      " 35%|███▍      | 34999/100000 [3:47:09<6:47:45,  2.66it/s] "
     ]
    },
    {
     "name": "stdout",
     "output_type": "stream",
     "text": [
      "Epoch [35000/100000]\n"
     ]
    },
    {
     "name": "stderr",
     "output_type": "stream",
     "text": [
      " 35%|███▌      | 35000/100000 [3:47:10<12:35:32,  1.43it/s]"
     ]
    },
    {
     "name": "stdout",
     "output_type": "stream",
     "text": [
      "Accuracy:0.5834\n",
      "Precision:0.5492\n",
      "Recall:0.9303\n",
      "F1-Score:0.6907\n",
      "ROC-AUC:0.6612\n",
      "\n",
      "Confusion Matrix:\n",
      " [[5954  446]\n",
      " [4887 1513]]\n",
      "\n",
      "Classification Report:\n",
      "               precision    recall  f1-score   support\n",
      "\n",
      "           1       0.55      0.93      0.69      6400\n",
      "           2       0.77      0.24      0.36      6400\n",
      "\n",
      "    accuracy                           0.58     12800\n",
      "   macro avg       0.66      0.58      0.53     12800\n",
      "weighted avg       0.66      0.58      0.53     12800\n",
      "\n"
     ]
    },
    {
     "name": "stderr",
     "output_type": "stream",
     "text": [
      " 36%|███▌      | 35999/100000 [3:53:30<6:58:09,  2.55it/s] "
     ]
    },
    {
     "name": "stdout",
     "output_type": "stream",
     "text": [
      "Epoch [36000/100000]\n"
     ]
    },
    {
     "name": "stderr",
     "output_type": "stream",
     "text": [
      " 36%|███▌      | 36000/100000 [3:53:32<13:07:26,  1.35it/s]"
     ]
    },
    {
     "name": "stdout",
     "output_type": "stream",
     "text": [
      "Accuracy:0.6151\n",
      "Precision:0.5812\n",
      "Recall:0.8237\n",
      "F1-Score:0.6815\n",
      "ROC-AUC:0.6907\n",
      "\n",
      "Confusion Matrix:\n",
      " [[5272 1128]\n",
      " [3799 2601]]\n",
      "\n",
      "Classification Report:\n",
      "               precision    recall  f1-score   support\n",
      "\n",
      "           1       0.58      0.82      0.68      6400\n",
      "           2       0.70      0.41      0.51      6400\n",
      "\n",
      "    accuracy                           0.62     12800\n",
      "   macro avg       0.64      0.62      0.60     12800\n",
      "weighted avg       0.64      0.62      0.60     12800\n",
      "\n"
     ]
    },
    {
     "name": "stderr",
     "output_type": "stream",
     "text": [
      " 37%|███▋      | 36999/100000 [3:59:58<6:37:02,  2.64it/s] "
     ]
    },
    {
     "name": "stdout",
     "output_type": "stream",
     "text": [
      "Epoch [37000/100000]\n"
     ]
    },
    {
     "name": "stderr",
     "output_type": "stream",
     "text": [
      " 37%|███▋      | 37000/100000 [4:00:00<12:54:53,  1.36it/s]"
     ]
    },
    {
     "name": "stdout",
     "output_type": "stream",
     "text": [
      "Accuracy:0.5593\n",
      "Precision:0.5317\n",
      "Recall:0.9953\n",
      "F1-Score:0.6931\n",
      "ROC-AUC:0.6347\n",
      "\n",
      "Confusion Matrix:\n",
      " [[6370   30]\n",
      " [5611  789]]\n",
      "\n",
      "Classification Report:\n",
      "               precision    recall  f1-score   support\n",
      "\n",
      "           1       0.53      1.00      0.69      6400\n",
      "           2       0.96      0.12      0.22      6400\n",
      "\n",
      "    accuracy                           0.56     12800\n",
      "   macro avg       0.75      0.56      0.46     12800\n",
      "weighted avg       0.75      0.56      0.46     12800\n",
      "\n"
     ]
    },
    {
     "name": "stderr",
     "output_type": "stream",
     "text": [
      " 38%|███▊      | 37999/100000 [4:06:17<6:18:38,  2.73it/s] "
     ]
    },
    {
     "name": "stdout",
     "output_type": "stream",
     "text": [
      "Epoch [38000/100000]\n"
     ]
    },
    {
     "name": "stderr",
     "output_type": "stream",
     "text": [
      " 38%|███▊      | 38000/100000 [4:06:19<11:33:31,  1.49it/s]"
     ]
    },
    {
     "name": "stdout",
     "output_type": "stream",
     "text": [
      "Accuracy:0.5548\n",
      "Precision:0.5407\n",
      "Recall:0.7280\n",
      "F1-Score:0.6205\n",
      "ROC-AUC:0.5914\n",
      "\n",
      "Confusion Matrix:\n",
      " [[4659 1741]\n",
      " [3958 2442]]\n",
      "\n",
      "Classification Report:\n",
      "               precision    recall  f1-score   support\n",
      "\n",
      "           1       0.54      0.73      0.62      6400\n",
      "           2       0.58      0.38      0.46      6400\n",
      "\n",
      "    accuracy                           0.55     12800\n",
      "   macro avg       0.56      0.55      0.54     12800\n",
      "weighted avg       0.56      0.55      0.54     12800\n",
      "\n"
     ]
    },
    {
     "name": "stderr",
     "output_type": "stream",
     "text": [
      " 39%|███▉      | 38999/100000 [4:12:57<6:22:23,  2.66it/s] "
     ]
    },
    {
     "name": "stdout",
     "output_type": "stream",
     "text": [
      "Epoch [39000/100000]\n"
     ]
    },
    {
     "name": "stderr",
     "output_type": "stream",
     "text": [
      " 39%|███▉      | 39000/100000 [4:12:58<11:46:21,  1.44it/s]"
     ]
    },
    {
     "name": "stdout",
     "output_type": "stream",
     "text": [
      "Accuracy:0.6044\n",
      "Precision:0.5668\n",
      "Recall:0.8859\n",
      "F1-Score:0.6913\n",
      "ROC-AUC:0.6790\n",
      "\n",
      "Confusion Matrix:\n",
      " [[5670  730]\n",
      " [4334 2066]]\n",
      "\n",
      "Classification Report:\n",
      "               precision    recall  f1-score   support\n",
      "\n",
      "           1       0.57      0.89      0.69      6400\n",
      "           2       0.74      0.32      0.45      6400\n",
      "\n",
      "    accuracy                           0.60     12800\n",
      "   macro avg       0.65      0.60      0.57     12800\n",
      "weighted avg       0.65      0.60      0.57     12800\n",
      "\n"
     ]
    },
    {
     "name": "stderr",
     "output_type": "stream",
     "text": [
      " 40%|███▉      | 39999/100000 [4:19:17<6:09:54,  2.70it/s] "
     ]
    },
    {
     "name": "stdout",
     "output_type": "stream",
     "text": [
      "Epoch [40000/100000]\n"
     ]
    },
    {
     "name": "stderr",
     "output_type": "stream",
     "text": [
      " 40%|████      | 40000/100000 [4:19:18<11:31:40,  1.45it/s]"
     ]
    },
    {
     "name": "stdout",
     "output_type": "stream",
     "text": [
      "Accuracy:0.5964\n",
      "Precision:0.5611\n",
      "Recall:0.8856\n",
      "F1-Score:0.6869\n",
      "ROC-AUC:0.6984\n",
      "\n",
      "Confusion Matrix:\n",
      " [[5668  732]\n",
      " [4434 1966]]\n",
      "\n",
      "Classification Report:\n",
      "               precision    recall  f1-score   support\n",
      "\n",
      "           1       0.56      0.89      0.69      6400\n",
      "           2       0.73      0.31      0.43      6400\n",
      "\n",
      "    accuracy                           0.60     12800\n",
      "   macro avg       0.64      0.60      0.56     12800\n",
      "weighted avg       0.64      0.60      0.56     12800\n",
      "\n"
     ]
    },
    {
     "name": "stderr",
     "output_type": "stream",
     "text": [
      " 41%|████      | 40999/100000 [4:25:36<6:06:58,  2.68it/s] "
     ]
    },
    {
     "name": "stdout",
     "output_type": "stream",
     "text": [
      "Epoch [41000/100000]\n"
     ]
    },
    {
     "name": "stderr",
     "output_type": "stream",
     "text": [
      " 41%|████      | 41000/100000 [4:25:38<11:38:45,  1.41it/s]"
     ]
    },
    {
     "name": "stdout",
     "output_type": "stream",
     "text": [
      "Accuracy:0.5557\n",
      "Precision:0.5296\n",
      "Recall:0.9969\n",
      "F1-Score:0.6917\n",
      "ROC-AUC:0.5728\n",
      "\n",
      "Confusion Matrix:\n",
      " [[6380   20]\n",
      " [5667  733]]\n",
      "\n",
      "Classification Report:\n",
      "               precision    recall  f1-score   support\n",
      "\n",
      "           1       0.53      1.00      0.69      6400\n",
      "           2       0.97      0.11      0.20      6400\n",
      "\n",
      "    accuracy                           0.56     12800\n",
      "   macro avg       0.75      0.56      0.45     12800\n",
      "weighted avg       0.75      0.56      0.45     12800\n",
      "\n"
     ]
    },
    {
     "name": "stderr",
     "output_type": "stream",
     "text": [
      " 42%|████▏     | 41999/100000 [4:32:11<6:11:44,  2.60it/s] "
     ]
    },
    {
     "name": "stdout",
     "output_type": "stream",
     "text": [
      "Epoch [42000/100000]\n"
     ]
    },
    {
     "name": "stderr",
     "output_type": "stream",
     "text": [
      " 42%|████▏     | 42000/100000 [4:32:13<11:56:49,  1.35it/s]"
     ]
    },
    {
     "name": "stdout",
     "output_type": "stream",
     "text": [
      "Accuracy:0.5929\n",
      "Precision:0.5549\n",
      "Recall:0.9395\n",
      "F1-Score:0.6977\n",
      "ROC-AUC:0.6558\n",
      "\n",
      "Confusion Matrix:\n",
      " [[6013  387]\n",
      " [4824 1576]]\n",
      "\n",
      "Classification Report:\n",
      "               precision    recall  f1-score   support\n",
      "\n",
      "           1       0.55      0.94      0.70      6400\n",
      "           2       0.80      0.25      0.38      6400\n",
      "\n",
      "    accuracy                           0.59     12800\n",
      "   macro avg       0.68      0.59      0.54     12800\n",
      "weighted avg       0.68      0.59      0.54     12800\n",
      "\n"
     ]
    },
    {
     "name": "stderr",
     "output_type": "stream",
     "text": [
      " 43%|████▎     | 42999/100000 [4:38:39<5:58:17,  2.65it/s] "
     ]
    },
    {
     "name": "stdout",
     "output_type": "stream",
     "text": [
      "Epoch [43000/100000]\n"
     ]
    },
    {
     "name": "stderr",
     "output_type": "stream",
     "text": [
      " 43%|████▎     | 43000/100000 [4:38:41<10:50:01,  1.46it/s]"
     ]
    },
    {
     "name": "stdout",
     "output_type": "stream",
     "text": [
      "Accuracy:0.5689\n",
      "Precision:0.5389\n",
      "Recall:0.9545\n",
      "F1-Score:0.6889\n",
      "ROC-AUC:0.6827\n",
      "\n",
      "Confusion Matrix:\n",
      " [[6109  291]\n",
      " [5227 1173]]\n",
      "\n",
      "Classification Report:\n",
      "               precision    recall  f1-score   support\n",
      "\n",
      "           1       0.54      0.95      0.69      6400\n",
      "           2       0.80      0.18      0.30      6400\n",
      "\n",
      "    accuracy                           0.57     12800\n",
      "   macro avg       0.67      0.57      0.49     12800\n",
      "weighted avg       0.67      0.57      0.49     12800\n",
      "\n"
     ]
    },
    {
     "name": "stderr",
     "output_type": "stream",
     "text": [
      " 44%|████▍     | 43999/100000 [4:45:01<5:46:56,  2.69it/s] "
     ]
    },
    {
     "name": "stdout",
     "output_type": "stream",
     "text": [
      "Epoch [44000/100000]\n"
     ]
    },
    {
     "name": "stderr",
     "output_type": "stream",
     "text": [
      " 44%|████▍     | 44000/100000 [4:45:03<10:43:13,  1.45it/s]"
     ]
    },
    {
     "name": "stdout",
     "output_type": "stream",
     "text": [
      "Accuracy:0.5665\n",
      "Precision:0.5357\n",
      "Recall:0.9988\n",
      "F1-Score:0.6973\n",
      "ROC-AUC:0.6771\n",
      "\n",
      "Confusion Matrix:\n",
      " [[6392    8]\n",
      " [5541  859]]\n",
      "\n",
      "Classification Report:\n",
      "               precision    recall  f1-score   support\n",
      "\n",
      "           1       0.54      1.00      0.70      6400\n",
      "           2       0.99      0.13      0.24      6400\n",
      "\n",
      "    accuracy                           0.57     12800\n",
      "   macro avg       0.76      0.57      0.47     12800\n",
      "weighted avg       0.76      0.57      0.47     12800\n",
      "\n"
     ]
    },
    {
     "name": "stderr",
     "output_type": "stream",
     "text": [
      " 45%|████▍     | 44999/100000 [4:51:20<5:59:25,  2.55it/s] "
     ]
    },
    {
     "name": "stdout",
     "output_type": "stream",
     "text": [
      "Epoch [45000/100000]\n"
     ]
    },
    {
     "name": "stderr",
     "output_type": "stream",
     "text": [
      " 45%|████▌     | 45000/100000 [4:51:22<12:16:06,  1.25it/s]"
     ]
    },
    {
     "name": "stdout",
     "output_type": "stream",
     "text": [
      "Accuracy:0.5719\n",
      "Precision:0.5440\n",
      "Recall:0.8895\n",
      "F1-Score:0.6751\n",
      "ROC-AUC:0.6465\n",
      "\n",
      "Confusion Matrix:\n",
      " [[5693  707]\n",
      " [4773 1627]]\n",
      "\n",
      "Classification Report:\n",
      "               precision    recall  f1-score   support\n",
      "\n",
      "           1       0.54      0.89      0.68      6400\n",
      "           2       0.70      0.25      0.37      6400\n",
      "\n",
      "    accuracy                           0.57     12800\n",
      "   macro avg       0.62      0.57      0.52     12800\n",
      "weighted avg       0.62      0.57      0.52     12800\n",
      "\n"
     ]
    },
    {
     "name": "stderr",
     "output_type": "stream",
     "text": [
      " 46%|████▌     | 45999/100000 [4:57:46<5:28:47,  2.74it/s] "
     ]
    },
    {
     "name": "stdout",
     "output_type": "stream",
     "text": [
      "Epoch [46000/100000]\n"
     ]
    },
    {
     "name": "stderr",
     "output_type": "stream",
     "text": [
      " 46%|████▌     | 46000/100000 [4:57:47<11:04:29,  1.35it/s]"
     ]
    },
    {
     "name": "stdout",
     "output_type": "stream",
     "text": [
      "Accuracy:0.5448\n",
      "Precision:0.5236\n",
      "Recall:0.9952\n",
      "F1-Score:0.6861\n",
      "ROC-AUC:0.6100\n",
      "\n",
      "Confusion Matrix:\n",
      " [[6369   31]\n",
      " [5796  604]]\n",
      "\n",
      "Classification Report:\n",
      "               precision    recall  f1-score   support\n",
      "\n",
      "           1       0.52      1.00      0.69      6400\n",
      "           2       0.95      0.09      0.17      6400\n",
      "\n",
      "    accuracy                           0.54     12800\n",
      "   macro avg       0.74      0.54      0.43     12800\n",
      "weighted avg       0.74      0.54      0.43     12800\n",
      "\n"
     ]
    },
    {
     "name": "stderr",
     "output_type": "stream",
     "text": [
      " 47%|████▋     | 46999/100000 [5:04:06<5:29:51,  2.68it/s] "
     ]
    },
    {
     "name": "stdout",
     "output_type": "stream",
     "text": [
      "Epoch [47000/100000]\n"
     ]
    },
    {
     "name": "stderr",
     "output_type": "stream",
     "text": [
      " 47%|████▋     | 47000/100000 [5:04:07<10:52:55,  1.35it/s]"
     ]
    },
    {
     "name": "stdout",
     "output_type": "stream",
     "text": [
      "Accuracy:0.5725\n",
      "Precision:0.5394\n",
      "Recall:0.9931\n",
      "F1-Score:0.6991\n",
      "ROC-AUC:0.6902\n",
      "\n",
      "Confusion Matrix:\n",
      " [[6356   44]\n",
      " [5428  972]]\n",
      "\n",
      "Classification Report:\n",
      "               precision    recall  f1-score   support\n",
      "\n",
      "           1       0.54      0.99      0.70      6400\n",
      "           2       0.96      0.15      0.26      6400\n",
      "\n",
      "    accuracy                           0.57     12800\n",
      "   macro avg       0.75      0.57      0.48     12800\n",
      "weighted avg       0.75      0.57      0.48     12800\n",
      "\n"
     ]
    },
    {
     "name": "stderr",
     "output_type": "stream",
     "text": [
      " 48%|████▊     | 47999/100000 [5:10:26<5:17:09,  2.73it/s] "
     ]
    },
    {
     "name": "stdout",
     "output_type": "stream",
     "text": [
      "Epoch [48000/100000]\n"
     ]
    },
    {
     "name": "stderr",
     "output_type": "stream",
     "text": [
      " 48%|████▊     | 48000/100000 [5:10:28<10:33:39,  1.37it/s]"
     ]
    },
    {
     "name": "stdout",
     "output_type": "stream",
     "text": [
      "Accuracy:0.5608\n",
      "Precision:0.5327\n",
      "Recall:0.9897\n",
      "F1-Score:0.6926\n",
      "ROC-AUC:0.6789\n",
      "\n",
      "Confusion Matrix:\n",
      " [[6334   66]\n",
      " [5556  844]]\n",
      "\n",
      "Classification Report:\n",
      "               precision    recall  f1-score   support\n",
      "\n",
      "           1       0.53      0.99      0.69      6400\n",
      "           2       0.93      0.13      0.23      6400\n",
      "\n",
      "    accuracy                           0.56     12800\n",
      "   macro avg       0.73      0.56      0.46     12800\n",
      "weighted avg       0.73      0.56      0.46     12800\n",
      "\n"
     ]
    },
    {
     "name": "stderr",
     "output_type": "stream",
     "text": [
      " 49%|████▉     | 48999/100000 [5:16:46<5:22:17,  2.64it/s] "
     ]
    },
    {
     "name": "stdout",
     "output_type": "stream",
     "text": [
      "Epoch [49000/100000]\n"
     ]
    },
    {
     "name": "stderr",
     "output_type": "stream",
     "text": [
      " 49%|████▉     | 49000/100000 [5:16:48<10:15:59,  1.38it/s]"
     ]
    },
    {
     "name": "stdout",
     "output_type": "stream",
     "text": [
      "Accuracy:0.5824\n",
      "Precision:0.5505\n",
      "Recall:0.8981\n",
      "F1-Score:0.6826\n",
      "ROC-AUC:0.6518\n",
      "\n",
      "Confusion Matrix:\n",
      " [[5748  652]\n",
      " [4693 1707]]\n",
      "\n",
      "Classification Report:\n",
      "               precision    recall  f1-score   support\n",
      "\n",
      "           1       0.55      0.90      0.68      6400\n",
      "           2       0.72      0.27      0.39      6400\n",
      "\n",
      "    accuracy                           0.58     12800\n",
      "   macro avg       0.64      0.58      0.54     12800\n",
      "weighted avg       0.64      0.58      0.54     12800\n",
      "\n"
     ]
    },
    {
     "name": "stderr",
     "output_type": "stream",
     "text": [
      " 50%|████▉     | 49999/100000 [5:23:04<5:18:14,  2.62it/s] "
     ]
    },
    {
     "name": "stdout",
     "output_type": "stream",
     "text": [
      "Epoch [50000/100000]\n"
     ]
    },
    {
     "name": "stderr",
     "output_type": "stream",
     "text": [
      " 50%|█████     | 50000/100000 [5:23:06<10:44:05,  1.29it/s]"
     ]
    },
    {
     "name": "stdout",
     "output_type": "stream",
     "text": [
      "Accuracy:0.6289\n",
      "Precision:0.5856\n",
      "Recall:0.8822\n",
      "F1-Score:0.7039\n",
      "ROC-AUC:0.6784\n",
      "\n",
      "Confusion Matrix:\n",
      " [[5646  754]\n",
      " [3996 2404]]\n",
      "\n",
      "Classification Report:\n",
      "               precision    recall  f1-score   support\n",
      "\n",
      "           1       0.59      0.88      0.70      6400\n",
      "           2       0.76      0.38      0.50      6400\n",
      "\n",
      "    accuracy                           0.63     12800\n",
      "   macro avg       0.67      0.63      0.60     12800\n",
      "weighted avg       0.67      0.63      0.60     12800\n",
      "\n"
     ]
    },
    {
     "name": "stderr",
     "output_type": "stream",
     "text": [
      " 51%|█████     | 50999/100000 [5:29:32<5:11:09,  2.62it/s] "
     ]
    },
    {
     "name": "stdout",
     "output_type": "stream",
     "text": [
      "Epoch [51000/100000]\n"
     ]
    },
    {
     "name": "stderr",
     "output_type": "stream",
     "text": [
      " 51%|█████     | 51000/100000 [5:29:34<10:05:14,  1.35it/s]"
     ]
    },
    {
     "name": "stdout",
     "output_type": "stream",
     "text": [
      "Accuracy:0.5434\n",
      "Precision:0.5229\n",
      "Recall:0.9920\n",
      "F1-Score:0.6848\n",
      "ROC-AUC:0.6472\n",
      "\n",
      "Confusion Matrix:\n",
      " [[6349   51]\n",
      " [5794  606]]\n",
      "\n",
      "Classification Report:\n",
      "               precision    recall  f1-score   support\n",
      "\n",
      "           1       0.52      0.99      0.68      6400\n",
      "           2       0.92      0.09      0.17      6400\n",
      "\n",
      "    accuracy                           0.54     12800\n",
      "   macro avg       0.72      0.54      0.43     12800\n",
      "weighted avg       0.72      0.54      0.43     12800\n",
      "\n"
     ]
    },
    {
     "name": "stderr",
     "output_type": "stream",
     "text": [
      " 52%|█████▏    | 51999/100000 [5:35:50<5:05:20,  2.62it/s] "
     ]
    },
    {
     "name": "stdout",
     "output_type": "stream",
     "text": [
      "Epoch [52000/100000]\n"
     ]
    },
    {
     "name": "stderr",
     "output_type": "stream",
     "text": [
      " 52%|█████▏    | 52000/100000 [5:35:51<9:54:28,  1.35it/s]"
     ]
    },
    {
     "name": "stdout",
     "output_type": "stream",
     "text": [
      "Accuracy:0.5748\n",
      "Precision:0.5414\n",
      "Recall:0.9788\n",
      "F1-Score:0.6972\n",
      "ROC-AUC:0.6749\n",
      "\n",
      "Confusion Matrix:\n",
      " [[6264  136]\n",
      " [5306 1094]]\n",
      "\n",
      "Classification Report:\n",
      "               precision    recall  f1-score   support\n",
      "\n",
      "           1       0.54      0.98      0.70      6400\n",
      "           2       0.89      0.17      0.29      6400\n",
      "\n",
      "    accuracy                           0.57     12800\n",
      "   macro avg       0.72      0.57      0.49     12800\n",
      "weighted avg       0.72      0.57      0.49     12800\n",
      "\n"
     ]
    },
    {
     "name": "stderr",
     "output_type": "stream",
     "text": [
      " 53%|█████▎    | 52999/100000 [5:42:16<5:19:04,  2.46it/s]"
     ]
    },
    {
     "name": "stdout",
     "output_type": "stream",
     "text": [
      "Epoch [53000/100000]\n"
     ]
    },
    {
     "name": "stderr",
     "output_type": "stream",
     "text": [
      " 53%|█████▎    | 53000/100000 [5:42:18<10:27:06,  1.25it/s]"
     ]
    },
    {
     "name": "stdout",
     "output_type": "stream",
     "text": [
      "Accuracy:0.5881\n",
      "Precision:0.5534\n",
      "Recall:0.9125\n",
      "F1-Score:0.6890\n",
      "ROC-AUC:0.6680\n",
      "\n",
      "Confusion Matrix:\n",
      " [[5840  560]\n",
      " [4712 1688]]\n",
      "\n",
      "Classification Report:\n",
      "               precision    recall  f1-score   support\n",
      "\n",
      "           1       0.55      0.91      0.69      6400\n",
      "           2       0.75      0.26      0.39      6400\n",
      "\n",
      "    accuracy                           0.59     12800\n",
      "   macro avg       0.65      0.59      0.54     12800\n",
      "weighted avg       0.65      0.59      0.54     12800\n",
      "\n"
     ]
    },
    {
     "name": "stderr",
     "output_type": "stream",
     "text": [
      " 54%|█████▍    | 53999/100000 [5:48:40<4:43:10,  2.71it/s] "
     ]
    },
    {
     "name": "stdout",
     "output_type": "stream",
     "text": [
      "Epoch [54000/100000]\n"
     ]
    },
    {
     "name": "stderr",
     "output_type": "stream",
     "text": [
      " 54%|█████▍    | 54000/100000 [5:48:41<9:27:27,  1.35it/s]"
     ]
    },
    {
     "name": "stdout",
     "output_type": "stream",
     "text": [
      "Accuracy:0.5387\n",
      "Precision:0.5202\n",
      "Recall:0.9992\n",
      "F1-Score:0.6842\n",
      "ROC-AUC:0.5983\n",
      "\n",
      "Confusion Matrix:\n",
      " [[6395    5]\n",
      " [5899  501]]\n",
      "\n",
      "Classification Report:\n",
      "               precision    recall  f1-score   support\n",
      "\n",
      "           1       0.52      1.00      0.68      6400\n",
      "           2       0.99      0.08      0.15      6400\n",
      "\n",
      "    accuracy                           0.54     12800\n",
      "   macro avg       0.76      0.54      0.41     12800\n",
      "weighted avg       0.76      0.54      0.41     12800\n",
      "\n"
     ]
    },
    {
     "name": "stderr",
     "output_type": "stream",
     "text": [
      " 55%|█████▍    | 54999/100000 [5:54:58<5:08:05,  2.43it/s]"
     ]
    },
    {
     "name": "stdout",
     "output_type": "stream",
     "text": [
      "Epoch [55000/100000]\n"
     ]
    },
    {
     "name": "stderr",
     "output_type": "stream",
     "text": [
      " 55%|█████▌    | 55000/100000 [5:55:00<10:07:46,  1.23it/s]"
     ]
    },
    {
     "name": "stdout",
     "output_type": "stream",
     "text": [
      "Accuracy:0.5493\n",
      "Precision:0.5260\n",
      "Recall:0.9973\n",
      "F1-Score:0.6888\n",
      "ROC-AUC:0.6875\n",
      "\n",
      "Confusion Matrix:\n",
      " [[6383   17]\n",
      " [5752  648]]\n",
      "\n",
      "Classification Report:\n",
      "               precision    recall  f1-score   support\n",
      "\n",
      "           1       0.53      1.00      0.69      6400\n",
      "           2       0.97      0.10      0.18      6400\n",
      "\n",
      "    accuracy                           0.55     12800\n",
      "   macro avg       0.75      0.55      0.44     12800\n",
      "weighted avg       0.75      0.55      0.44     12800\n",
      "\n"
     ]
    },
    {
     "name": "stderr",
     "output_type": "stream",
     "text": [
      " 56%|█████▌    | 55999/100000 [6:01:22<4:39:51,  2.62it/s] "
     ]
    },
    {
     "name": "stdout",
     "output_type": "stream",
     "text": [
      "Epoch [56000/100000]\n"
     ]
    },
    {
     "name": "stderr",
     "output_type": "stream",
     "text": [
      " 56%|█████▌    | 56000/100000 [6:01:23<9:35:03,  1.28it/s]"
     ]
    },
    {
     "name": "stdout",
     "output_type": "stream",
     "text": [
      "Accuracy:0.6038\n",
      "Precision:0.5667\n",
      "Recall:0.8819\n",
      "F1-Score:0.6900\n",
      "ROC-AUC:0.6948\n",
      "\n",
      "Confusion Matrix:\n",
      " [[5644  756]\n",
      " [4316 2084]]\n",
      "\n",
      "Classification Report:\n",
      "               precision    recall  f1-score   support\n",
      "\n",
      "           1       0.57      0.88      0.69      6400\n",
      "           2       0.73      0.33      0.45      6400\n",
      "\n",
      "    accuracy                           0.60     12800\n",
      "   macro avg       0.65      0.60      0.57     12800\n",
      "weighted avg       0.65      0.60      0.57     12800\n",
      "\n"
     ]
    },
    {
     "name": "stderr",
     "output_type": "stream",
     "text": [
      " 57%|█████▋    | 56999/100000 [6:07:43<4:50:57,  2.46it/s]"
     ]
    },
    {
     "name": "stdout",
     "output_type": "stream",
     "text": [
      "Epoch [57000/100000]\n"
     ]
    },
    {
     "name": "stderr",
     "output_type": "stream",
     "text": [
      " 57%|█████▋    | 57000/100000 [6:07:45<8:52:51,  1.34it/s]"
     ]
    },
    {
     "name": "stdout",
     "output_type": "stream",
     "text": [
      "Accuracy:0.5474\n",
      "Precision:0.5274\n",
      "Recall:0.9113\n",
      "F1-Score:0.6682\n",
      "ROC-AUC:0.6562\n",
      "\n",
      "Confusion Matrix:\n",
      " [[5832  568]\n",
      " [5225 1175]]\n",
      "\n",
      "Classification Report:\n",
      "               precision    recall  f1-score   support\n",
      "\n",
      "           1       0.53      0.91      0.67      6400\n",
      "           2       0.67      0.18      0.29      6400\n",
      "\n",
      "    accuracy                           0.55     12800\n",
      "   macro avg       0.60      0.55      0.48     12800\n",
      "weighted avg       0.60      0.55      0.48     12800\n",
      "\n"
     ]
    },
    {
     "name": "stderr",
     "output_type": "stream",
     "text": [
      " 58%|█████▊    | 57999/100000 [6:13:54<4:13:13,  2.76it/s]"
     ]
    },
    {
     "name": "stdout",
     "output_type": "stream",
     "text": [
      "Epoch [58000/100000]\n"
     ]
    },
    {
     "name": "stderr",
     "output_type": "stream",
     "text": [
      " 58%|█████▊    | 58000/100000 [6:13:55<8:21:38,  1.40it/s]"
     ]
    },
    {
     "name": "stdout",
     "output_type": "stream",
     "text": [
      "Accuracy:0.5367\n",
      "Precision:0.5191\n",
      "Recall:1.0000\n",
      "F1-Score:0.6834\n",
      "ROC-AUC:0.5775\n",
      "\n",
      "Confusion Matrix:\n",
      " [[6400    0]\n",
      " [5930  470]]\n",
      "\n",
      "Classification Report:\n",
      "               precision    recall  f1-score   support\n",
      "\n",
      "           1       0.52      1.00      0.68      6400\n",
      "           2       1.00      0.07      0.14      6400\n",
      "\n",
      "    accuracy                           0.54     12800\n",
      "   macro avg       0.76      0.54      0.41     12800\n",
      "weighted avg       0.76      0.54      0.41     12800\n",
      "\n"
     ]
    },
    {
     "name": "stderr",
     "output_type": "stream",
     "text": [
      " 59%|█████▉    | 58999/100000 [6:20:15<4:07:44,  2.76it/s]"
     ]
    },
    {
     "name": "stdout",
     "output_type": "stream",
     "text": [
      "Epoch [59000/100000]\n"
     ]
    },
    {
     "name": "stderr",
     "output_type": "stream",
     "text": [
      " 59%|█████▉    | 59000/100000 [6:20:17<8:40:21,  1.31it/s]"
     ]
    },
    {
     "name": "stdout",
     "output_type": "stream",
     "text": [
      "Accuracy:0.5613\n",
      "Precision:0.5327\n",
      "Recall:0.9998\n",
      "F1-Score:0.6951\n",
      "ROC-AUC:0.6690\n",
      "\n",
      "Confusion Matrix:\n",
      " [[6399    1]\n",
      " [5614  786]]\n",
      "\n",
      "Classification Report:\n",
      "               precision    recall  f1-score   support\n",
      "\n",
      "           1       0.53      1.00      0.70      6400\n",
      "           2       1.00      0.12      0.22      6400\n",
      "\n",
      "    accuracy                           0.56     12800\n",
      "   macro avg       0.77      0.56      0.46     12800\n",
      "weighted avg       0.77      0.56      0.46     12800\n",
      "\n"
     ]
    },
    {
     "name": "stderr",
     "output_type": "stream",
     "text": [
      " 60%|█████▉    | 59999/100000 [6:26:31<4:02:37,  2.75it/s]"
     ]
    },
    {
     "name": "stdout",
     "output_type": "stream",
     "text": [
      "Epoch [60000/100000]\n"
     ]
    },
    {
     "name": "stderr",
     "output_type": "stream",
     "text": [
      " 60%|██████    | 60000/100000 [6:26:32<7:14:01,  1.54it/s]"
     ]
    },
    {
     "name": "stdout",
     "output_type": "stream",
     "text": [
      "Accuracy:0.5352\n",
      "Precision:0.5183\n",
      "Recall:0.9994\n",
      "F1-Score:0.6826\n",
      "ROC-AUC:0.6993\n",
      "\n",
      "Confusion Matrix:\n",
      " [[6396    4]\n",
      " [5945  455]]\n",
      "\n",
      "Classification Report:\n",
      "               precision    recall  f1-score   support\n",
      "\n",
      "           1       0.52      1.00      0.68      6400\n",
      "           2       0.99      0.07      0.13      6400\n",
      "\n",
      "    accuracy                           0.54     12800\n",
      "   macro avg       0.75      0.54      0.41     12800\n",
      "weighted avg       0.75      0.54      0.41     12800\n",
      "\n"
     ]
    },
    {
     "name": "stderr",
     "output_type": "stream",
     "text": [
      " 61%|██████    | 60999/100000 [6:32:41<3:57:05,  2.74it/s]"
     ]
    },
    {
     "name": "stdout",
     "output_type": "stream",
     "text": [
      "Epoch [61000/100000]\n"
     ]
    },
    {
     "name": "stderr",
     "output_type": "stream",
     "text": [
      " 61%|██████    | 61000/100000 [6:32:43<7:34:15,  1.43it/s]"
     ]
    },
    {
     "name": "stdout",
     "output_type": "stream",
     "text": [
      "Accuracy:0.5798\n",
      "Precision:0.5508\n",
      "Recall:0.8655\n",
      "F1-Score:0.6732\n",
      "ROC-AUC:0.6408\n",
      "\n",
      "Confusion Matrix:\n",
      " [[5539  861]\n",
      " [4517 1883]]\n",
      "\n",
      "Classification Report:\n",
      "               precision    recall  f1-score   support\n",
      "\n",
      "           1       0.55      0.87      0.67      6400\n",
      "           2       0.69      0.29      0.41      6400\n",
      "\n",
      "    accuracy                           0.58     12800\n",
      "   macro avg       0.62      0.58      0.54     12800\n",
      "weighted avg       0.62      0.58      0.54     12800\n",
      "\n"
     ]
    },
    {
     "name": "stderr",
     "output_type": "stream",
     "text": [
      " 62%|██████▏   | 61999/100000 [6:38:57<3:54:12,  2.70it/s] "
     ]
    },
    {
     "name": "stdout",
     "output_type": "stream",
     "text": [
      "Epoch [62000/100000]\n"
     ]
    },
    {
     "name": "stderr",
     "output_type": "stream",
     "text": [
      " 62%|██████▏   | 62000/100000 [6:38:58<8:09:27,  1.29it/s]"
     ]
    },
    {
     "name": "stdout",
     "output_type": "stream",
     "text": [
      "Accuracy:0.5436\n",
      "Precision:0.5228\n",
      "Recall:1.0000\n",
      "F1-Score:0.6866\n",
      "ROC-AUC:0.5532\n",
      "\n",
      "Confusion Matrix:\n",
      " [[6400    0]\n",
      " [5842  558]]\n",
      "\n",
      "Classification Report:\n",
      "               precision    recall  f1-score   support\n",
      "\n",
      "           1       0.52      1.00      0.69      6400\n",
      "           2       1.00      0.09      0.16      6400\n",
      "\n",
      "    accuracy                           0.54     12800\n",
      "   macro avg       0.76      0.54      0.42     12800\n",
      "weighted avg       0.76      0.54      0.42     12800\n",
      "\n"
     ]
    },
    {
     "name": "stderr",
     "output_type": "stream",
     "text": [
      " 63%|██████▎   | 62999/100000 [6:45:22<3:55:25,  2.62it/s]"
     ]
    },
    {
     "name": "stdout",
     "output_type": "stream",
     "text": [
      "Epoch [63000/100000]\n"
     ]
    },
    {
     "name": "stderr",
     "output_type": "stream",
     "text": [
      " 63%|██████▎   | 63000/100000 [6:45:23<7:31:14,  1.37it/s]"
     ]
    },
    {
     "name": "stdout",
     "output_type": "stream",
     "text": [
      "Accuracy:0.5352\n",
      "Precision:0.5182\n",
      "Recall:1.0000\n",
      "F1-Score:0.6827\n",
      "ROC-AUC:0.5312\n",
      "\n",
      "Confusion Matrix:\n",
      " [[6400    0]\n",
      " [5950  450]]\n",
      "\n",
      "Classification Report:\n",
      "               precision    recall  f1-score   support\n",
      "\n",
      "           1       0.52      1.00      0.68      6400\n",
      "           2       1.00      0.07      0.13      6400\n",
      "\n",
      "    accuracy                           0.54     12800\n",
      "   macro avg       0.76      0.54      0.41     12800\n",
      "weighted avg       0.76      0.54      0.41     12800\n",
      "\n"
     ]
    },
    {
     "name": "stderr",
     "output_type": "stream",
     "text": [
      " 64%|██████▍   | 63999/100000 [6:51:42<3:39:28,  2.73it/s]"
     ]
    },
    {
     "name": "stdout",
     "output_type": "stream",
     "text": [
      "Epoch [64000/100000]\n"
     ]
    },
    {
     "name": "stderr",
     "output_type": "stream",
     "text": [
      " 64%|██████▍   | 64000/100000 [6:51:43<6:40:58,  1.50it/s]"
     ]
    },
    {
     "name": "stdout",
     "output_type": "stream",
     "text": [
      "Accuracy:0.5501\n",
      "Precision:0.5264\n",
      "Recall:0.9998\n",
      "F1-Score:0.6897\n",
      "ROC-AUC:0.6237\n",
      "\n",
      "Confusion Matrix:\n",
      " [[6399    1]\n",
      " [5758  642]]\n",
      "\n",
      "Classification Report:\n",
      "               precision    recall  f1-score   support\n",
      "\n",
      "           1       0.53      1.00      0.69      6400\n",
      "           2       1.00      0.10      0.18      6400\n",
      "\n",
      "    accuracy                           0.55     12800\n",
      "   macro avg       0.76      0.55      0.44     12800\n",
      "weighted avg       0.76      0.55      0.44     12800\n",
      "\n"
     ]
    },
    {
     "name": "stderr",
     "output_type": "stream",
     "text": [
      " 65%|██████▍   | 64999/100000 [6:58:03<3:31:16,  2.76it/s]"
     ]
    },
    {
     "name": "stdout",
     "output_type": "stream",
     "text": [
      "Epoch [65000/100000]\n"
     ]
    },
    {
     "name": "stderr",
     "output_type": "stream",
     "text": [
      " 65%|██████▌   | 65000/100000 [6:58:05<7:03:25,  1.38it/s]"
     ]
    },
    {
     "name": "stdout",
     "output_type": "stream",
     "text": [
      "Accuracy:0.5200\n",
      "Precision:0.5102\n",
      "Recall:1.0000\n",
      "F1-Score:0.6757\n",
      "ROC-AUC:0.5563\n",
      "\n",
      "Confusion Matrix:\n",
      " [[6400    0]\n",
      " [6144  256]]\n",
      "\n",
      "Classification Report:\n",
      "               precision    recall  f1-score   support\n",
      "\n",
      "           1       0.51      1.00      0.68      6400\n",
      "           2       1.00      0.04      0.08      6400\n",
      "\n",
      "    accuracy                           0.52     12800\n",
      "   macro avg       0.76      0.52      0.38     12800\n",
      "weighted avg       0.76      0.52      0.38     12800\n",
      "\n"
     ]
    },
    {
     "name": "stderr",
     "output_type": "stream",
     "text": [
      " 66%|██████▌   | 65999/100000 [7:04:22<3:35:54,  2.62it/s]"
     ]
    },
    {
     "name": "stdout",
     "output_type": "stream",
     "text": [
      "Epoch [66000/100000]\n"
     ]
    },
    {
     "name": "stderr",
     "output_type": "stream",
     "text": [
      " 66%|██████▌   | 66000/100000 [7:04:23<6:52:49,  1.37it/s]"
     ]
    },
    {
     "name": "stdout",
     "output_type": "stream",
     "text": [
      "Accuracy:0.5413\n",
      "Precision:0.5225\n",
      "Recall:0.9569\n",
      "F1-Score:0.6759\n",
      "ROC-AUC:0.6472\n",
      "\n",
      "Confusion Matrix:\n",
      " [[6124  276]\n",
      " [5596  804]]\n",
      "\n",
      "Classification Report:\n",
      "               precision    recall  f1-score   support\n",
      "\n",
      "           1       0.52      0.96      0.68      6400\n",
      "           2       0.74      0.13      0.21      6400\n",
      "\n",
      "    accuracy                           0.54     12800\n",
      "   macro avg       0.63      0.54      0.45     12800\n",
      "weighted avg       0.63      0.54      0.45     12800\n",
      "\n"
     ]
    },
    {
     "name": "stderr",
     "output_type": "stream",
     "text": [
      " 67%|██████▋   | 66999/100000 [7:10:36<3:19:35,  2.76it/s]"
     ]
    },
    {
     "name": "stdout",
     "output_type": "stream",
     "text": [
      "Epoch [67000/100000]\n"
     ]
    },
    {
     "name": "stderr",
     "output_type": "stream",
     "text": [
      " 67%|██████▋   | 67000/100000 [7:10:38<6:43:09,  1.36it/s]"
     ]
    },
    {
     "name": "stdout",
     "output_type": "stream",
     "text": [
      "Accuracy:0.5483\n",
      "Precision:0.5254\n",
      "Recall:1.0000\n",
      "F1-Score:0.6888\n",
      "ROC-AUC:0.6081\n",
      "\n",
      "Confusion Matrix:\n",
      " [[6400    0]\n",
      " [5782  618]]\n",
      "\n",
      "Classification Report:\n",
      "               precision    recall  f1-score   support\n",
      "\n",
      "           1       0.53      1.00      0.69      6400\n",
      "           2       1.00      0.10      0.18      6400\n",
      "\n",
      "    accuracy                           0.55     12800\n",
      "   macro avg       0.76      0.55      0.43     12800\n",
      "weighted avg       0.76      0.55      0.43     12800\n",
      "\n"
     ]
    },
    {
     "name": "stderr",
     "output_type": "stream",
     "text": [
      " 68%|██████▊   | 67999/100000 [7:16:53<3:21:18,  2.65it/s]"
     ]
    },
    {
     "name": "stdout",
     "output_type": "stream",
     "text": [
      "Epoch [68000/100000]\n"
     ]
    },
    {
     "name": "stderr",
     "output_type": "stream",
     "text": [
      " 68%|██████▊   | 68000/100000 [7:16:55<6:04:34,  1.46it/s]"
     ]
    },
    {
     "name": "stdout",
     "output_type": "stream",
     "text": [
      "Accuracy:0.5528\n",
      "Precision:0.5279\n",
      "Recall:1.0000\n",
      "F1-Score:0.6910\n",
      "ROC-AUC:0.5533\n",
      "\n",
      "Confusion Matrix:\n",
      " [[6400    0]\n",
      " [5724  676]]\n",
      "\n",
      "Classification Report:\n",
      "               precision    recall  f1-score   support\n",
      "\n",
      "           1       0.53      1.00      0.69      6400\n",
      "           2       1.00      0.11      0.19      6400\n",
      "\n",
      "    accuracy                           0.55     12800\n",
      "   macro avg       0.76      0.55      0.44     12800\n",
      "weighted avg       0.76      0.55      0.44     12800\n",
      "\n"
     ]
    },
    {
     "name": "stderr",
     "output_type": "stream",
     "text": [
      " 69%|██████▉   | 68999/100000 [7:23:10<3:10:33,  2.71it/s]"
     ]
    },
    {
     "name": "stdout",
     "output_type": "stream",
     "text": [
      "Epoch [69000/100000]\n"
     ]
    },
    {
     "name": "stderr",
     "output_type": "stream",
     "text": [
      " 69%|██████▉   | 69000/100000 [7:23:11<6:04:38,  1.42it/s]"
     ]
    },
    {
     "name": "stdout",
     "output_type": "stream",
     "text": [
      "Accuracy:0.5406\n",
      "Precision:0.5212\n",
      "Recall:1.0000\n",
      "F1-Score:0.6852\n",
      "ROC-AUC:0.6536\n",
      "\n",
      "Confusion Matrix:\n",
      " [[6400    0]\n",
      " [5880  520]]\n",
      "\n",
      "Classification Report:\n",
      "               precision    recall  f1-score   support\n",
      "\n",
      "           1       0.52      1.00      0.69      6400\n",
      "           2       1.00      0.08      0.15      6400\n",
      "\n",
      "    accuracy                           0.54     12800\n",
      "   macro avg       0.76      0.54      0.42     12800\n",
      "weighted avg       0.76      0.54      0.42     12800\n",
      "\n"
     ]
    },
    {
     "name": "stderr",
     "output_type": "stream",
     "text": [
      " 69%|██████▉   | 69256/100000 [7:24:50<3:08:23,  2.72it/s]"
     ]
    }
   ],
   "source": [
    "val_inputs = val_loader()\n",
    "\n",
    "\n",
    "def evaluate(clf):\n",
    "    y_test = val_inputs[\"labels\"][0]\n",
    "    y_pred = clf.predict(val_inputs[\"sequences\"])\n",
    "    y_proba = clf.predict_proba(val_inputs[\"sequences\"])[:, 1]  # Probabilities for ROC-AUC\n",
    "    \n",
    "    # Calculate metrics\n",
    "    accuracy = accuracy_score(y_test, y_pred)\n",
    "    precision = precision_score(y_test, y_pred)\n",
    "    recall = recall_score(y_test, y_pred)\n",
    "    f1 = f1_score(y_test, y_pred)\n",
    "    roc_auc = roc_auc_score(y_test, y_proba)\n",
    "    conf_matrix = confusion_matrix(y_test, y_pred)\n",
    "    \n",
    "    print(f\"Accuracy:{accuracy:.4f}\")\n",
    "    print(f\"Precision:{precision:.4f}\")\n",
    "    print(f\"Recall:{recall:.4f}\")\n",
    "    print(f\"F1-Score:{f1:.4f}\")\n",
    "    print(f\"ROC-AUC:{roc_auc:.4f}\")\n",
    "    print(\"\\nConfusion Matrix:\\n\", conf_matrix)\n",
    "    print(\"\\nClassification Report:\\n\", classification_report(y_test, y_pred))\n",
    "    \n",
    "def get_partition_ratio(epoch, decay_epochs=100000):\n",
    "    \"\"\"\n",
    "    Calculate partition ratio that decreases from 8/16 to 1/16 in steps\n",
    "    \"\"\"\n",
    "    # Calculate how many epochs before each step down\n",
    "    epochs_per_step = decay_epochs // 7  # 7 steps from 8/16 down to 1/16\n",
    "    \n",
    "    # Calculate current step based on epoch\n",
    "    step = min(epoch // epochs_per_step, 7)  # Max 7 steps down from 8\n",
    "    \n",
    "    # Map step to fraction\n",
    "    fraction = (8 - step) / 16\n",
    "    \n",
    "    return fraction\n",
    "\n",
    "\n",
    "clf = RandomForestClassifier(n_estimators=200, random_state=42)\n",
    "for epoch in tqdm(range(epochs)):\n",
    "    inputs = mix_data_to_tensor_batch(virus_da.get_batch(), cellular_da.get_batch(), partition = get_partition_ratio(epoch+1))\n",
    "    sequences = inputs[\"sequences\"]\n",
    "    labels = inputs[\"labels\"][0]\n",
    "    clf.fit(sequences, labels)\n",
    "    \n",
    "    if (epoch + 1) % val_epoch == 0:\n",
    "        print(f\"Epoch [{epoch + 1}/{epochs}]\")\n",
    "        evaluate(clf)"
   ]
  },
  {
   "cell_type": "code",
   "execution_count": null,
   "id": "37fede89-9b77-4f1e-951b-3f6a2600d5cd",
   "metadata": {
    "scrolled": true
   },
   "outputs": [],
   "source": [
    "model = ESM1b(tax_vocab_sizes).to(device)\n",
    "optimizers = model.get_optimizers()\n",
    "\n",
    "\n",
    "trainable = sum(p.numel() for p in model.parameters() if p.requires_grad)\n",
    "total = sum(p.numel() for p in model.parameters())\n",
    "print(f'Trainable parameters: {trainable/ 1e6} M')\n",
    "print(f'Total parameters: {total/ 1e6} M')\n",
    "print(model)\n",
    "\n",
    "# optimizer = torch.optim.Adam(filter(lambda p: p.requires_grad, model.parameters()), lr=lr)\n",
    "criterion = nn.CrossEntropyLoss()\n",
    "# Cosine annealing with warm restarts\n",
    "scheduler = torch.optim.lr_scheduler.CosineAnnealingWarmRestarts(\n",
    "    optimizers['0'],\n",
    "    T_0=10,  # Initial restart interval\n",
    "    T_mult=2,  # Multiply interval by 2 after each restart\n",
    "    eta_min=1e-6  # Minimum learning rate\n",
    ")"
   ]
  },
  {
   "cell_type": "code",
   "execution_count": null,
   "id": "33d5aae5-876d-48ad-be0c-31c7acba9aba",
   "metadata": {},
   "outputs": [],
   "source": [
    "from sklearn.metrics import confusion_matrix, accuracy_score, f1_score\n",
    "\n",
    "val_dir = f\"val_results/{model_name}\"\n",
    "if not os.path.exists(val_dir):\n",
    "    os.makedirs(val_dir)\n",
    "    \n",
    "val_batches = [virus_da.get_batch() for _ in range(num_val // 2)] + [cellular_da.get_batch() for _ in range(num_val // 2)]\n",
    "\n",
    "input_sequences = [e['Sequence'] for b in val_batches for e in b]\n",
    "labels_ = [encode_lineage(e['Taxonomic_lineage__ALL_'])  for b in val_batches for e in b]\n",
    "\n",
    "def evaluate(model):\n",
    "    model.eval()  # Set model to evaluation mode\n",
    "    \n",
    "    df = {\n",
    "        i : {\n",
    "            \"sequence\": [],\n",
    "            \"label\": [],\n",
    "            \"pred\": [],\n",
    "            \"loss\": []\n",
    "        } for i in tax_vocab_sizes.keys()\n",
    "    }\n",
    "\n",
    "    metrics = {\n",
    "        i : {\n",
    "            \"loss\": 0,\n",
    "            \"accuracy\": 0,\n",
    "            \"f1 macro\": 0,\n",
    "            \"f1 micro\": 0\n",
    "        } for i in tax_vocab_sizes.keys()\n",
    "    }\n",
    "    \n",
    "    # Process each sequence\n",
    "    for sequence, label in zip(input_sequences, labels_):\n",
    "        inputs = tokenizer_(\n",
    "            [sequence],\n",
    "            return_tensors=\"pt\",\n",
    "            padding='max_length',\n",
    "            truncation=True,\n",
    "            max_length=max_seq_len\n",
    "        ).to(device)\n",
    "    \n",
    "        # Get model output\n",
    "        with torch.no_grad():\n",
    "            output = model(inputs['input_ids'], inputs['attention_mask'])\n",
    "\n",
    "        for k in tax_vocab_sizes.keys():\n",
    "            pred = output[str(k)].argmax(dim=-1).cpu().item()\n",
    "            loss = criterion(output[str(k)], torch.tensor([label[k]]).to(device))\n",
    "            df[k][\"sequence\"].append(sequence)\n",
    "            df[k][\"label\"].append(level_decoder[k][label[k]])\n",
    "            df[k][\"pred\"].append(level_decoder[k][pred])\n",
    "            df[k][\"loss\"].append(round(loss.cpu().item(), 4))\n",
    "\n",
    "    for k in tax_vocab_sizes.keys():\n",
    "        # Convert to DataFrame\n",
    "        new_df = pd.DataFrame(df[k])\n",
    "        new_df['is_incorrect'] = new_df['label'] != new_df['pred']\n",
    "        new_df = new_df.sort_values(['is_incorrect', 'loss'], ascending=[False, False])\n",
    "        new_df.to_csv(f'val_results/{model_name}/classification_results_{k}.csv', index=False)\n",
    "\n",
    "        metrics[k][\"loss\"] = np.array(df[k][\"loss\"]).mean()\n",
    "        metrics[k][\"accuracy\"] = accuracy_score(np.array(df[k][\"label\"]), np.array(df[k][\"pred\"]))\n",
    "        metrics[k][\"f1 macro\"] = f1_score(np.array(df[k][\"label\"]), np.array(df[k][\"pred\"]), average='macro')  # F1-score for multi-label classification\n",
    "        metrics[k][\"f1 micro\"] = f1_score(np.array(df[k][\"label\"]), np.array(df[k][\"pred\"]), average='micro') \n",
    "    \n",
    "    return metrics"
   ]
  },
  {
   "cell_type": "code",
   "execution_count": null,
   "id": "686acc3d-51ee-42a4-908f-cd988f426daf",
   "metadata": {},
   "outputs": [],
   "source": [
    "evaluate(model)"
   ]
  },
  {
   "cell_type": "code",
   "execution_count": null,
   "id": "d5cfdd29-cb15-4367-8804-5e730c99d32d",
   "metadata": {},
   "outputs": [],
   "source": []
  },
  {
   "cell_type": "code",
   "execution_count": null,
   "id": "413b487e-69ce-4c41-be78-a1b6dcb58e97",
   "metadata": {
    "scrolled": true
   },
   "outputs": [],
   "source": [
    "running_loss = 0\n",
    "current_lr = lr\n",
    "\n",
    "for epoch in tqdm(range(epochs)):\n",
    "    model.train()\n",
    "\n",
    "    tensor_batch = mix_data_to_tensor_batch(virus_da.get_batch(), cellular_da.get_batch(), partition = get_partition_ratio(epoch+1))\n",
    "    tensor_batch.gpu(device)\n",
    "    \n",
    "    labels = tensor_batch.taxes\n",
    "\n",
    "    batch_loss = 0\n",
    "    for index, optimizer in optimizers.items():\n",
    "        optimizer.zero_grad()\n",
    "        output = model(tensor_batch.seq_ids['input_ids'], tensor_batch.seq_ids['attention_mask'], index=index)\n",
    "        loss = criterion(output, labels[int(index)])\n",
    "        loss.backward()\n",
    "        optimizer.step()\n",
    "        batch_loss += loss\n",
    "    \n",
    "    running_loss += batch_loss.item()\n",
    "    \n",
    "    if (epoch + 1) % val_epoch == 0:\n",
    "        train_loss = running_loss / val_epoch\n",
    "        val_metrics = evaluate(model)\n",
    "        val_losses = {k: v[\"loss\"] for k, v in val_metrics.items()} \n",
    "        val_loss = sum([entry['loss'] for entry in val_metrics.values()]) \n",
    "        print(f\"Epoch [{epoch + 1}/{epochs}]\")\n",
    "        print(f\"Train Loss: {train_loss:.4f}\")\n",
    "        print(f\"Val Loss: {val_loss:.4f}\")\n",
    "        print(val_losses)\n",
    "        \n",
    "        # Create metrics dictionary for saving\n",
    "        metrics = {\n",
    "            \"train_loss\": train_loss,\n",
    "            \"val_loss\": val_loss,\n",
    "            \"epoch\": epoch + 1,\n",
    "            \"lr\": current_lr,\n",
    "            \"partition\": get_partition_ratio(epoch+1)\n",
    "        }\n",
    "        metrics.update(val_losses)\n",
    "            \n",
    "        # Save periodic checkpoint\n",
    "        checkpoint_path = os.path.join(checkpoint_dir, f'checkpoint_epoch_{epoch}.pt')\n",
    "        torch.save({\n",
    "            'epoch': epoch,\n",
    "            'model_state_dict': model.state_dict(),\n",
    "            'optimizer_state_dict': optimizers,\n",
    "            'scheduler_state_dict': scheduler.state_dict(),\n",
    "            'metrics': metrics\n",
    "        }, checkpoint_path)\n",
    "        \n",
    "        # Log to wandb\n",
    "        wandb.log(metrics)\n",
    "\n",
    "        # Step the scheduler\n",
    "        scheduler.step(epoch + batch_loss.item())\n",
    "        current_lr = scheduler.get_last_lr()[0]\n",
    "        \n",
    "        # Reset training metrics\n",
    "        running_loss = 0\n",
    "wandb.finish()"
   ]
  },
  {
   "cell_type": "code",
   "execution_count": null,
   "id": "4e11fb7d-2d37-4e03-be2d-52d1faac30b4",
   "metadata": {},
   "outputs": [],
   "source": []
  },
  {
   "cell_type": "code",
   "execution_count": null,
   "id": "0f4777ee-67b9-405f-b633-5e2320984387",
   "metadata": {},
   "outputs": [],
   "source": []
  }
 ],
 "metadata": {
  "kernelspec": {
   "display_name": "Python 3 (ipykernel)",
   "language": "python",
   "name": "python3"
  },
  "language_info": {
   "codemirror_mode": {
    "name": "ipython",
    "version": 3
   },
   "file_extension": ".py",
   "mimetype": "text/x-python",
   "name": "python",
   "nbconvert_exporter": "python",
   "pygments_lexer": "ipython3",
   "version": "3.10.14"
  }
 },
 "nbformat": 4,
 "nbformat_minor": 5
}

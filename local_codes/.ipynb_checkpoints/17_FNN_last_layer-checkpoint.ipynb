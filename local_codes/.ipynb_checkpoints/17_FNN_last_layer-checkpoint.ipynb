{
 "cells": [
  {
   "cell_type": "code",
   "execution_count": 19,
   "id": "2befeae9-1cd7-4585-88ae-0309f4def9f2",
   "metadata": {},
   "outputs": [
    {
     "name": "stdout",
     "output_type": "stream",
     "text": [
      "cuda:0\n",
      "../checkpoints/Freeze ESM last level_checkpoints\n"
     ]
    },
    {
     "data": {
      "text/html": [
       "Finishing last run (ID:2syoablz) before initializing another..."
      ],
      "text/plain": [
       "<IPython.core.display.HTML object>"
      ]
     },
     "metadata": {},
     "output_type": "display_data"
    },
    {
     "data": {
      "text/html": [
       " View run <strong style=\"color:#cdcd00\">hopeful-water-8</strong> at: <a href='https://wandb.ai/alireza_noroozi/Freeze%20ESM%20last%20level/runs/2syoablz' target=\"_blank\">https://wandb.ai/alireza_noroozi/Freeze%20ESM%20last%20level/runs/2syoablz</a><br/> View project at: <a href='https://wandb.ai/alireza_noroozi/Freeze%20ESM%20last%20level' target=\"_blank\">https://wandb.ai/alireza_noroozi/Freeze%20ESM%20last%20level</a><br/>Synced 5 W&B file(s), 0 media file(s), 0 artifact file(s) and 0 other file(s)"
      ],
      "text/plain": [
       "<IPython.core.display.HTML object>"
      ]
     },
     "metadata": {},
     "output_type": "display_data"
    },
    {
     "data": {
      "text/html": [
       "Find logs at: <code>./wandb/run-20241120_121327-2syoablz/logs</code>"
      ],
      "text/plain": [
       "<IPython.core.display.HTML object>"
      ]
     },
     "metadata": {},
     "output_type": "display_data"
    },
    {
     "data": {
      "text/html": [
       "Successfully finished last run (ID:2syoablz). Initializing new run:<br/>"
      ],
      "text/plain": [
       "<IPython.core.display.HTML object>"
      ]
     },
     "metadata": {},
     "output_type": "display_data"
    },
    {
     "data": {
      "text/html": [
       "Tracking run with wandb version 0.18.7"
      ],
      "text/plain": [
       "<IPython.core.display.HTML object>"
      ]
     },
     "metadata": {},
     "output_type": "display_data"
    },
    {
     "data": {
      "text/html": [
       "Run data is saved locally in <code>/home/aac/Alireza/local_codes/wandb/run-20241120_125907-f43ub5gi</code>"
      ],
      "text/plain": [
       "<IPython.core.display.HTML object>"
      ]
     },
     "metadata": {},
     "output_type": "display_data"
    },
    {
     "data": {
      "text/html": [
       "Syncing run <strong><a href='https://wandb.ai/alireza_noroozi/Freeze%20ESM%20last%20level/runs/f43ub5gi' target=\"_blank\">classic-snowball-9</a></strong> to <a href='https://wandb.ai/alireza_noroozi/Freeze%20ESM%20last%20level' target=\"_blank\">Weights & Biases</a> (<a href='https://wandb.me/developer-guide' target=\"_blank\">docs</a>)<br/>"
      ],
      "text/plain": [
       "<IPython.core.display.HTML object>"
      ]
     },
     "metadata": {},
     "output_type": "display_data"
    },
    {
     "data": {
      "text/html": [
       " View project at <a href='https://wandb.ai/alireza_noroozi/Freeze%20ESM%20last%20level' target=\"_blank\">https://wandb.ai/alireza_noroozi/Freeze%20ESM%20last%20level</a>"
      ],
      "text/plain": [
       "<IPython.core.display.HTML object>"
      ]
     },
     "metadata": {},
     "output_type": "display_data"
    },
    {
     "data": {
      "text/html": [
       " View run at <a href='https://wandb.ai/alireza_noroozi/Freeze%20ESM%20last%20level/runs/f43ub5gi' target=\"_blank\">https://wandb.ai/alireza_noroozi/Freeze%20ESM%20last%20level/runs/f43ub5gi</a>"
      ],
      "text/plain": [
       "<IPython.core.display.HTML object>"
      ]
     },
     "metadata": {},
     "output_type": "display_data"
    },
    {
     "data": {
      "text/html": [
       "<button onClick=\"this.nextSibling.style.display='block';this.style.display='none';\">Display W&B run</button><iframe src='https://wandb.ai/alireza_noroozi/Freeze%20ESM%20last%20level/runs/f43ub5gi?jupyter=true' style='border:none;width:100%;height:420px;display:none;'></iframe>"
      ],
      "text/plain": [
       "<wandb.sdk.wandb_run.Run at 0x74e43ae128c0>"
      ]
     },
     "execution_count": 19,
     "metadata": {},
     "output_type": "execute_result"
    }
   ],
   "source": [
    "import torch\n",
    "import torch.nn as nn\n",
    "import torch.nn.functional as F\n",
    "import pandas as pd\n",
    "import numpy as np\n",
    "import torch.optim as optim\n",
    "from tqdm import tqdm\n",
    "import sys, os, math\n",
    "import wandb\n",
    "from transformers import AutoTokenizer, EsmModel\n",
    "import warnings\n",
    "warnings.simplefilter(\"ignore\")\n",
    "\n",
    "\n",
    "sys.path.insert(0, '../dlp')\n",
    "from batch import Batch\n",
    "\n",
    "device = 'cuda:0' if torch.cuda.is_available() else 'cpu'\n",
    "print(device)\n",
    "\n",
    "epochs = 100_000\n",
    "val_epoch = 100\n",
    "num_val = 50\n",
    "batch_size = 64\n",
    "dataset_name = \"corpus_200_500_random\"\n",
    "lr = 0.001\n",
    "model_name = \"Freeze ESM last level\"\n",
    "max_seq_len = 500\n",
    "\n",
    "from data_access import PQDataAccess\n",
    "da = PQDataAccess(f\"/home/aac/Alireza/datasets/export_pqt_4_taxseq_new/{dataset_name}\", batch_size)\n",
    "\n",
    "checkpoint_dir = f\"../checkpoints/{model_name}_checkpoints\"\n",
    "if not os.path.exists(checkpoint_dir):\n",
    "    os.makedirs(checkpoint_dir)\n",
    "print(checkpoint_dir)\n",
    "\n",
    "wandb.init(\n",
    "    # set the wandb project where this run will be logged\n",
    "    project=model_name,\n",
    "\n",
    "    # track hyperparameters and run metadata\n",
    "    config={\n",
    "        \"learning_rate\": lr,\n",
    "        \"architecture\": \"Freeze ESM\",\n",
    "        \"dataset\": dataset_name,\n",
    "        \"epochs\": epochs,\n",
    "        \"batch_szie\": batch_size,\n",
    "        \"max_seq_len\": max_seq_len\n",
    "    }\n",
    ")"
   ]
  },
  {
   "cell_type": "code",
   "execution_count": 2,
   "id": "6dfdfe06-6b3a-4114-ab48-b9ca602c4c1b",
   "metadata": {},
   "outputs": [
    {
     "name": "stdout",
     "output_type": "stream",
     "text": [
      "# of Classes 51952\n"
     ]
    }
   ],
   "source": [
    "df = pd.read_csv('../data/new_output_id.csv')\n",
    "\n",
    "unique_labels = sorted(set(df['new label'].values))\n",
    "label_to_idx = {label: idx for idx, label in enumerate(unique_labels)}\n",
    "idx_to_label = {idx: label for label, idx in label_to_idx.items()}\n",
    "map_label = {r['Organism_ID']: label_to_idx[r['new label']] for _, r in df.iterrows()}\n",
    "\n",
    "print(\"# of Classes\", len(unique_labels))\n",
    "num_classes = len(unique_labels)\n",
    "\n",
    "tokenizer_ = AutoTokenizer.from_pretrained(f\"facebook/esm1b_t33_650M_UR50S\")\n",
    "\n",
    "def father_data_to_tensor_batch(b):\n",
    "    inputs = tokenizer_(\n",
    "        [e['Sequence'] for e in b],\n",
    "        return_tensors=\"pt\", \n",
    "        padding='max_length', \n",
    "        truncation=True, \n",
    "        max_length=max_seq_len\n",
    "    ).to(device)\n",
    "    \n",
    "    tax_ids = [map_label[e['Taxonomic_lineage_IDs']] for e in b]\n",
    "\n",
    "    return Batch(inputs, torch.LongTensor(tax_ids))"
   ]
  },
  {
   "cell_type": "code",
   "execution_count": 20,
   "id": "745d1e6b-1ad8-4e00-89e0-27fe792ab39f",
   "metadata": {},
   "outputs": [],
   "source": [
    "class ESM1b(nn.Module):\n",
    "    def __init__(self, num_classes):\n",
    "        super().__init__()\n",
    "        self.esm = EsmModel.from_pretrained(\"facebook/esm1b_t33_650M_UR50S\")\n",
    "        for param in self.esm.parameters():\n",
    "            param.requires_grad = False\n",
    "        self.layer1 = nn.Linear(1280, 512)\n",
    "        self.relu = nn.ReLU()\n",
    "        self.layer2 = nn.Linear(512, num_classes)\n",
    "        \n",
    "    def forward(self, x, attention_mask=None):\n",
    "        outputs = self.esm(x, attention_mask=attention_mask)\n",
    "        # Mean pooling over all residues\n",
    "        outputs = outputs.last_hidden_state.mean(dim=1)\n",
    "        outputs = self.layer1(outputs)\n",
    "        outputs = self.relu(outputs)\n",
    "        outputs = self.layer2(outputs)\n",
    "        return outputs"
   ]
  },
  {
   "cell_type": "code",
   "execution_count": 21,
   "id": "eaa89a30-38aa-40b1-9e4b-b2320f35c242",
   "metadata": {},
   "outputs": [
    {
     "name": "stderr",
     "output_type": "stream",
     "text": [
      "Some weights of EsmModel were not initialized from the model checkpoint at facebook/esm1b_t33_650M_UR50S and are newly initialized: ['esm.pooler.dense.bias', 'esm.pooler.dense.weight']\n",
      "You should probably TRAIN this model on a down-stream task to be able to use it for predictions and inference.\n"
     ]
    },
    {
     "name": "stdout",
     "output_type": "stream",
     "text": [
      "Trainable parameters: 27.307248 M\n",
      "Total parameters: 679.663749 M\n",
      "ESM1b(\n",
      "  (esm): EsmModel(\n",
      "    (embeddings): EsmEmbeddings(\n",
      "      (word_embeddings): Embedding(33, 1280, padding_idx=1)\n",
      "      (layer_norm): LayerNorm((1280,), eps=1e-05, elementwise_affine=True)\n",
      "      (dropout): Dropout(p=0.0, inplace=False)\n",
      "      (position_embeddings): Embedding(1026, 1280, padding_idx=1)\n",
      "    )\n",
      "    (encoder): EsmEncoder(\n",
      "      (layer): ModuleList(\n",
      "        (0-32): 33 x EsmLayer(\n",
      "          (attention): EsmAttention(\n",
      "            (self): EsmSelfAttention(\n",
      "              (query): Linear(in_features=1280, out_features=1280, bias=True)\n",
      "              (key): Linear(in_features=1280, out_features=1280, bias=True)\n",
      "              (value): Linear(in_features=1280, out_features=1280, bias=True)\n",
      "              (dropout): Dropout(p=0.0, inplace=False)\n",
      "            )\n",
      "            (output): EsmSelfOutput(\n",
      "              (dense): Linear(in_features=1280, out_features=1280, bias=True)\n",
      "              (dropout): Dropout(p=0.0, inplace=False)\n",
      "            )\n",
      "            (LayerNorm): LayerNorm((1280,), eps=1e-05, elementwise_affine=True)\n",
      "          )\n",
      "          (intermediate): EsmIntermediate(\n",
      "            (dense): Linear(in_features=1280, out_features=5120, bias=True)\n",
      "          )\n",
      "          (output): EsmOutput(\n",
      "            (dense): Linear(in_features=5120, out_features=1280, bias=True)\n",
      "            (dropout): Dropout(p=0.0, inplace=False)\n",
      "          )\n",
      "          (LayerNorm): LayerNorm((1280,), eps=1e-05, elementwise_affine=True)\n",
      "        )\n",
      "      )\n",
      "      (emb_layer_norm_after): LayerNorm((1280,), eps=1e-05, elementwise_affine=True)\n",
      "    )\n",
      "    (pooler): EsmPooler(\n",
      "      (dense): Linear(in_features=1280, out_features=1280, bias=True)\n",
      "      (activation): Tanh()\n",
      "    )\n",
      "    (contact_head): EsmContactPredictionHead(\n",
      "      (regression): Linear(in_features=660, out_features=1, bias=True)\n",
      "      (activation): Sigmoid()\n",
      "    )\n",
      "  )\n",
      "  (layer1): Linear(in_features=1280, out_features=512, bias=True)\n",
      "  (relu): ReLU()\n",
      "  (layer2): Linear(in_features=512, out_features=51952, bias=True)\n",
      ")\n"
     ]
    }
   ],
   "source": [
    "model = ESM1b(num_classes).to(device)\n",
    "\n",
    "trainable = sum(p.numel() for p in model.parameters() if p.requires_grad)\n",
    "total = sum(p.numel() for p in model.parameters())\n",
    "print(f'Trainable parameters: {trainable/ 1e6} M')\n",
    "print(f'Total parameters: {total/ 1e6} M')\n",
    "print(model)\n",
    "\n",
    "optimizer = torch.optim.Adam(filter(lambda p: p.requires_grad, model.parameters()), lr=lr)\n",
    "criterion = nn.CrossEntropyLoss()\n",
    "# Cosine annealing with warm restarts\n",
    "scheduler = torch.optim.lr_scheduler.CosineAnnealingWarmRestarts(\n",
    "    optimizer,\n",
    "    T_0=10,  # Initial restart interval\n",
    "    T_mult=2,  # Multiply interval by 2 after each restart\n",
    "    eta_min=1e-6  # Minimum learning rate\n",
    ")"
   ]
  },
  {
   "cell_type": "code",
   "execution_count": 22,
   "id": "8f7e7196-959f-44bb-85cf-e5d815477a04",
   "metadata": {},
   "outputs": [],
   "source": [
    "from sklearn.metrics import accuracy_score, f1_score, confusion_matrix, precision_score, recall_score\n",
    "\n",
    "def compute_metrics(all_labels, all_preds, running_loss, num_val):\n",
    "    # Convert tensors to numpy arrays\n",
    "    labels_np = torch.cat(all_labels).numpy()\n",
    "    preds_np = torch.cat(all_preds).numpy()\n",
    "\n",
    "    # print(\"labels:\", labels_np)\n",
    "    # print(\"preds:\", preds_np)\n",
    "    \n",
    "    # Compute evaluation metrics\n",
    "    accuracy = accuracy_score(labels_np, preds_np)\n",
    "    \n",
    "    # Precision scores\n",
    "    precision_macro = precision_score(labels_np, preds_np, average='macro')\n",
    "    precision_micro = precision_score(labels_np, preds_np, average='micro')\n",
    "    \n",
    "    # Recall scores\n",
    "    recall_macro = recall_score(labels_np, preds_np, average='macro')\n",
    "    recall_micro = recall_score(labels_np, preds_np, average='micro')\n",
    "    \n",
    "    # F1 scores\n",
    "    f1_macro = f1_score(labels_np, preds_np, average='macro')\n",
    "    f1_micro = f1_score(labels_np, preds_np, average='micro')\n",
    "    \n",
    "    # Confusion matrix\n",
    "    # conf_matrix = confusion_matrix(labels_np, preds_np, labels=[_ for _ in range(num_classes)])\n",
    "    \n",
    "    # Average loss\n",
    "    avg_loss = running_loss / num_val\n",
    "    \n",
    "    return {\n",
    "        'loss': avg_loss,\n",
    "        'accuracy': accuracy,\n",
    "        'precision_macro': precision_macro,\n",
    "        'precision_micro': precision_micro,\n",
    "        'recall_macro': recall_macro,\n",
    "        'recall_micro': recall_micro,\n",
    "        'f1_macro': f1_macro,\n",
    "        'f1_micro': f1_micro,\n",
    "        # 'confusion_matrix': conf_matrix\n",
    "    }"
   ]
  },
  {
   "cell_type": "code",
   "execution_count": 23,
   "id": "7bf4ba70-1529-4719-97c7-b176b91709eb",
   "metadata": {},
   "outputs": [],
   "source": [
    "val_batches = [da.get_batch() for _ in range(num_val)]\n",
    "\n",
    "def evaluate():\n",
    "    model.eval()  # Set model to evaluation mode\n",
    "    \n",
    "    running_loss = 0.0\n",
    "    all_preds = []\n",
    "    all_labels = []\n",
    "    \n",
    "    for epoch in range(num_val):\n",
    "        with torch.no_grad():  # Disable gradient computation during evaluation\n",
    "            tensor_batch = father_data_to_tensor_batch(val_batches[epoch])\n",
    "            tensor_batch.gpu(device)\n",
    "        \n",
    "            labels = tensor_batch.taxes\n",
    "            outputs = model(tensor_batch.seq_ids['input_ids'], tensor_batch.seq_ids['attention_mask'])\n",
    "\n",
    "            # Calculate the loss\n",
    "            loss = criterion(outputs, labels)\n",
    "    \n",
    "            running_loss += loss.item()\n",
    "                \n",
    "            preds = torch.argmax(outputs, dim=1)\n",
    "    \n",
    "            all_preds.append(preds.cpu())\n",
    "            all_labels.append(labels.cpu())\n",
    "    \n",
    "    return compute_metrics(all_labels, all_preds, running_loss, num_val)"
   ]
  },
  {
   "cell_type": "code",
   "execution_count": null,
   "id": "7d542958-94d1-42b1-8e5a-8fe0f78515f8",
   "metadata": {},
   "outputs": [
    {
     "name": "stderr",
     "output_type": "stream",
     "text": [
      "  0%|          | 99/100000 [03:10<53:25:10,  1.93s/it]"
     ]
    },
    {
     "name": "stdout",
     "output_type": "stream",
     "text": [
      "Epoch [100/100000]\n",
      "Train Loss: 8.3674, Train Accuracy: 0.0247\n",
      "Train Precision (micro): 0.0247, Train Precision (macro): 0.0003\n",
      "Train Recall (micro): 0.0247, Train Recall (macro): 0.0010\n",
      "Train F1 (micro): 0.0247, Train F1 (macro): 0.0002\n",
      "\n",
      "Val Loss: 7.5271, Val Accuracy: 0.0394\n",
      "Val Precision (micro): 0.0394, Val Precision (macro): 0.0003\n",
      "Val Recall (micro): 0.0394, Val Recall (macro): 0.0029\n",
      "Val F1 (micro): 0.0394, Val F1 (macro): 0.0005\n",
      "--------------------------------------------------------------------------------\n"
     ]
    },
    {
     "name": "stderr",
     "output_type": "stream",
     "text": [
      "  0%|          | 199/100000 [08:05<53:19:49,  1.92s/it] "
     ]
    },
    {
     "name": "stdout",
     "output_type": "stream",
     "text": [
      "Epoch [200/100000]\n",
      "Train Loss: 7.3583, Train Accuracy: 0.0494\n",
      "Train Precision (micro): 0.0494, Train Precision (macro): 0.0006\n",
      "Train Recall (micro): 0.0494, Train Recall (macro): 0.0026\n",
      "Train F1 (micro): 0.0494, Train F1 (macro): 0.0004\n",
      "\n",
      "Val Loss: 7.0981, Val Accuracy: 0.0584\n",
      "Val Precision (micro): 0.0584, Val Precision (macro): 0.0013\n",
      "Val Recall (micro): 0.0584, Val Recall (macro): 0.0046\n",
      "Val F1 (micro): 0.0584, Val F1 (macro): 0.0010\n",
      "--------------------------------------------------------------------------------\n"
     ]
    },
    {
     "name": "stderr",
     "output_type": "stream",
     "text": [
      "  0%|          | 299/100000 [12:59<53:38:08,  1.94s/it] "
     ]
    },
    {
     "name": "stdout",
     "output_type": "stream",
     "text": [
      "Epoch [300/100000]\n",
      "Train Loss: 6.9524, Train Accuracy: 0.0597\n",
      "Train Precision (micro): 0.0597, Train Precision (macro): 0.0004\n",
      "Train Recall (micro): 0.0597, Train Recall (macro): 0.0030\n",
      "Train F1 (micro): 0.0597, Train F1 (macro): 0.0006\n",
      "\n",
      "Val Loss: 6.7670, Val Accuracy: 0.0628\n",
      "Val Precision (micro): 0.0628, Val Precision (macro): 0.0006\n",
      "Val Recall (micro): 0.0628, Val Recall (macro): 0.0051\n",
      "Val F1 (micro): 0.0628, Val F1 (macro): 0.0010\n",
      "--------------------------------------------------------------------------------\n"
     ]
    },
    {
     "name": "stderr",
     "output_type": "stream",
     "text": [
      "  0%|          | 399/100000 [17:53<53:18:24,  1.93s/it] "
     ]
    },
    {
     "name": "stdout",
     "output_type": "stream",
     "text": [
      "Epoch [400/100000]\n",
      "Train Loss: 6.7967, Train Accuracy: 0.0611\n",
      "Train Precision (micro): 0.0611, Train Precision (macro): 0.0005\n",
      "Train Recall (micro): 0.0611, Train Recall (macro): 0.0033\n",
      "Train F1 (micro): 0.0611, Train F1 (macro): 0.0006\n",
      "\n",
      "Val Loss: 6.7612, Val Accuracy: 0.0625\n",
      "Val Precision (micro): 0.0625, Val Precision (macro): 0.0007\n",
      "Val Recall (micro): 0.0625, Val Recall (macro): 0.0053\n",
      "Val F1 (micro): 0.0625, Val F1 (macro): 0.0011\n",
      "--------------------------------------------------------------------------------\n"
     ]
    },
    {
     "name": "stderr",
     "output_type": "stream",
     "text": [
      "  0%|          | 499/100000 [22:48<53:07:31,  1.92s/it] "
     ]
    },
    {
     "name": "stdout",
     "output_type": "stream",
     "text": [
      "Epoch [500/100000]\n",
      "Train Loss: 6.6807, Train Accuracy: 0.0633\n",
      "Train Precision (micro): 0.0633, Train Precision (macro): 0.0007\n",
      "Train Recall (micro): 0.0633, Train Recall (macro): 0.0033\n",
      "Train F1 (micro): 0.0633, Train F1 (macro): 0.0009\n",
      "\n",
      "Val Loss: 6.4899, Val Accuracy: 0.0691\n",
      "Val Precision (micro): 0.0691, Val Precision (macro): 0.0010\n",
      "Val Recall (micro): 0.0691, Val Recall (macro): 0.0064\n",
      "Val F1 (micro): 0.0691, Val F1 (macro): 0.0014\n",
      "--------------------------------------------------------------------------------\n"
     ]
    },
    {
     "name": "stderr",
     "output_type": "stream",
     "text": [
      "  1%|          | 599/100000 [27:42<53:03:40,  1.92s/it] "
     ]
    },
    {
     "name": "stdout",
     "output_type": "stream",
     "text": [
      "Epoch [600/100000]\n",
      "Train Loss: 6.4395, Train Accuracy: 0.0686\n",
      "Train Precision (micro): 0.0686, Train Precision (macro): 0.0006\n",
      "Train Recall (micro): 0.0686, Train Recall (macro): 0.0045\n",
      "Train F1 (micro): 0.0686, Train F1 (macro): 0.0010\n",
      "\n",
      "Val Loss: 6.3815, Val Accuracy: 0.0778\n",
      "Val Precision (micro): 0.0778, Val Precision (macro): 0.0010\n",
      "Val Recall (micro): 0.0778, Val Recall (macro): 0.0080\n",
      "Val F1 (micro): 0.0778, Val F1 (macro): 0.0018\n",
      "--------------------------------------------------------------------------------\n"
     ]
    },
    {
     "name": "stderr",
     "output_type": "stream",
     "text": [
      "  1%|          | 699/100000 [32:38<53:09:17,  1.93s/it] "
     ]
    },
    {
     "name": "stdout",
     "output_type": "stream",
     "text": [
      "Epoch [700/100000]\n",
      "Train Loss: 6.4458, Train Accuracy: 0.0733\n",
      "Train Precision (micro): 0.0733, Train Precision (macro): 0.0006\n",
      "Train Recall (micro): 0.0733, Train Recall (macro): 0.0050\n",
      "Train F1 (micro): 0.0733, Train F1 (macro): 0.0010\n",
      "\n",
      "Val Loss: 6.3748, Val Accuracy: 0.0772\n",
      "Val Precision (micro): 0.0772, Val Precision (macro): 0.0010\n",
      "Val Recall (micro): 0.0772, Val Recall (macro): 0.0080\n",
      "Val F1 (micro): 0.0772, Val F1 (macro): 0.0017\n",
      "--------------------------------------------------------------------------------\n"
     ]
    },
    {
     "name": "stderr",
     "output_type": "stream",
     "text": [
      "  1%|          | 799/100000 [37:32<53:23:40,  1.94s/it] "
     ]
    },
    {
     "name": "stdout",
     "output_type": "stream",
     "text": [
      "Epoch [800/100000]\n",
      "Train Loss: 6.2580, Train Accuracy: 0.0769\n",
      "Train Precision (micro): 0.0769, Train Precision (macro): 0.0014\n",
      "Train Recall (micro): 0.0769, Train Recall (macro): 0.0048\n",
      "Train F1 (micro): 0.0769, Train F1 (macro): 0.0014\n",
      "\n",
      "Val Loss: 6.2029, Val Accuracy: 0.0797\n",
      "Val Precision (micro): 0.0797, Val Precision (macro): 0.0015\n",
      "Val Recall (micro): 0.0797, Val Recall (macro): 0.0087\n",
      "Val F1 (micro): 0.0797, Val F1 (macro): 0.0022\n",
      "--------------------------------------------------------------------------------\n"
     ]
    },
    {
     "name": "stderr",
     "output_type": "stream",
     "text": [
      "  1%|          | 899/100000 [42:27<53:17:55,  1.94s/it] "
     ]
    },
    {
     "name": "stdout",
     "output_type": "stream",
     "text": [
      "Epoch [900/100000]\n",
      "Train Loss: 6.2106, Train Accuracy: 0.0783\n",
      "Train Precision (micro): 0.0783, Train Precision (macro): 0.0011\n",
      "Train Recall (micro): 0.0783, Train Recall (macro): 0.0055\n",
      "Train F1 (micro): 0.0783, Train F1 (macro): 0.0016\n",
      "\n",
      "Val Loss: 6.0680, Val Accuracy: 0.0850\n",
      "Val Precision (micro): 0.0850, Val Precision (macro): 0.0027\n",
      "Val Recall (micro): 0.0850, Val Recall (macro): 0.0092\n",
      "Val F1 (micro): 0.0850, Val F1 (macro): 0.0029\n",
      "--------------------------------------------------------------------------------\n"
     ]
    },
    {
     "name": "stderr",
     "output_type": "stream",
     "text": [
      "  1%|          | 999/100000 [47:24<54:43:02,  1.99s/it] "
     ]
    },
    {
     "name": "stdout",
     "output_type": "stream",
     "text": [
      "Epoch [1000/100000]\n",
      "Train Loss: 6.1061, Train Accuracy: 0.0809\n",
      "Train Precision (micro): 0.0809, Train Precision (macro): 0.0015\n",
      "Train Recall (micro): 0.0809, Train Recall (macro): 0.0055\n",
      "Train F1 (micro): 0.0809, Train F1 (macro): 0.0016\n",
      "\n",
      "Val Loss: 5.9679, Val Accuracy: 0.0906\n",
      "Val Precision (micro): 0.0906, Val Precision (macro): 0.0025\n",
      "Val Recall (micro): 0.0906, Val Recall (macro): 0.0105\n",
      "Val F1 (micro): 0.0906, Val F1 (macro): 0.0034\n",
      "--------------------------------------------------------------------------------\n"
     ]
    },
    {
     "name": "stderr",
     "output_type": "stream",
     "text": [
      "  1%|          | 1099/100000 [52:19<52:53:52,  1.93s/it] "
     ]
    },
    {
     "name": "stdout",
     "output_type": "stream",
     "text": [
      "Epoch [1100/100000]\n",
      "Train Loss: 6.0320, Train Accuracy: 0.0813\n",
      "Train Precision (micro): 0.0813, Train Precision (macro): 0.0022\n",
      "Train Recall (micro): 0.0813, Train Recall (macro): 0.0060\n",
      "Train F1 (micro): 0.0813, Train F1 (macro): 0.0018\n",
      "\n",
      "Val Loss: 5.9089, Val Accuracy: 0.0891\n",
      "Val Precision (micro): 0.0891, Val Precision (macro): 0.0031\n",
      "Val Recall (micro): 0.0891, Val Recall (macro): 0.0097\n",
      "Val F1 (micro): 0.0891, Val F1 (macro): 0.0033\n",
      "--------------------------------------------------------------------------------\n"
     ]
    },
    {
     "name": "stderr",
     "output_type": "stream",
     "text": [
      "  1%|          | 1199/100000 [57:13<52:41:11,  1.92s/it] "
     ]
    },
    {
     "name": "stdout",
     "output_type": "stream",
     "text": [
      "Epoch [1200/100000]\n",
      "Train Loss: 5.9441, Train Accuracy: 0.0900\n",
      "Train Precision (micro): 0.0900, Train Precision (macro): 0.0020\n",
      "Train Recall (micro): 0.0900, Train Recall (macro): 0.0072\n",
      "Train F1 (micro): 0.0900, Train F1 (macro): 0.0024\n",
      "\n",
      "Val Loss: 5.8819, Val Accuracy: 0.0934\n",
      "Val Precision (micro): 0.0934, Val Precision (macro): 0.0031\n",
      "Val Recall (micro): 0.0934, Val Recall (macro): 0.0113\n",
      "Val F1 (micro): 0.0934, Val F1 (macro): 0.0038\n",
      "--------------------------------------------------------------------------------\n"
     ]
    },
    {
     "name": "stderr",
     "output_type": "stream",
     "text": [
      "  1%|▏         | 1299/100000 [1:02:08<52:43:43,  1.92s/it]"
     ]
    },
    {
     "name": "stdout",
     "output_type": "stream",
     "text": [
      "Epoch [1300/100000]\n",
      "Train Loss: 5.9294, Train Accuracy: 0.0941\n",
      "Train Precision (micro): 0.0941, Train Precision (macro): 0.0017\n",
      "Train Recall (micro): 0.0941, Train Recall (macro): 0.0070\n",
      "Train F1 (micro): 0.0941, Train F1 (macro): 0.0023\n",
      "\n",
      "Val Loss: 5.8761, Val Accuracy: 0.0969\n",
      "Val Precision (micro): 0.0969, Val Precision (macro): 0.0036\n",
      "Val Recall (micro): 0.0969, Val Recall (macro): 0.0117\n",
      "Val F1 (micro): 0.0969, Val F1 (macro): 0.0041\n",
      "--------------------------------------------------------------------------------\n"
     ]
    },
    {
     "name": "stderr",
     "output_type": "stream",
     "text": [
      "  1%|▏         | 1399/100000 [1:07:03<52:38:14,  1.92s/it] "
     ]
    },
    {
     "name": "stdout",
     "output_type": "stream",
     "text": [
      "Epoch [1400/100000]\n",
      "Train Loss: 5.9808, Train Accuracy: 0.0848\n",
      "Train Precision (micro): 0.0848, Train Precision (macro): 0.0018\n",
      "Train Recall (micro): 0.0848, Train Recall (macro): 0.0065\n",
      "Train F1 (micro): 0.0848, Train F1 (macro): 0.0022\n",
      "\n",
      "Val Loss: 5.8227, Val Accuracy: 0.0947\n",
      "Val Precision (micro): 0.0947, Val Precision (macro): 0.0046\n",
      "Val Recall (micro): 0.0947, Val Recall (macro): 0.0111\n",
      "Val F1 (micro): 0.0947, Val F1 (macro): 0.0039\n",
      "--------------------------------------------------------------------------------\n"
     ]
    },
    {
     "name": "stderr",
     "output_type": "stream",
     "text": [
      "  1%|▏         | 1499/100000 [1:11:59<52:37:07,  1.92s/it] "
     ]
    },
    {
     "name": "stdout",
     "output_type": "stream",
     "text": [
      "Epoch [1500/100000]\n",
      "Train Loss: 5.8103, Train Accuracy: 0.0934\n",
      "Train Precision (micro): 0.0934, Train Precision (macro): 0.0020\n",
      "Train Recall (micro): 0.0934, Train Recall (macro): 0.0070\n",
      "Train F1 (micro): 0.0934, Train F1 (macro): 0.0025\n",
      "\n",
      "Val Loss: 5.7473, Val Accuracy: 0.0925\n",
      "Val Precision (micro): 0.0925, Val Precision (macro): 0.0044\n",
      "Val Recall (micro): 0.0925, Val Recall (macro): 0.0118\n",
      "Val F1 (micro): 0.0925, Val F1 (macro): 0.0044\n",
      "--------------------------------------------------------------------------------\n"
     ]
    },
    {
     "name": "stderr",
     "output_type": "stream",
     "text": [
      "  2%|▏         | 1599/100000 [1:16:55<52:40:04,  1.93s/it] "
     ]
    },
    {
     "name": "stdout",
     "output_type": "stream",
     "text": [
      "Epoch [1600/100000]\n",
      "Train Loss: 5.7851, Train Accuracy: 0.0927\n",
      "Train Precision (micro): 0.0927, Train Precision (macro): 0.0028\n",
      "Train Recall (micro): 0.0927, Train Recall (macro): 0.0083\n",
      "Train F1 (micro): 0.0927, Train F1 (macro): 0.0031\n",
      "\n",
      "Val Loss: 5.6933, Val Accuracy: 0.0938\n",
      "Val Precision (micro): 0.0938, Val Precision (macro): 0.0053\n",
      "Val Recall (micro): 0.0938, Val Recall (macro): 0.0126\n",
      "Val F1 (micro): 0.0938, Val F1 (macro): 0.0048\n",
      "--------------------------------------------------------------------------------\n"
     ]
    },
    {
     "name": "stderr",
     "output_type": "stream",
     "text": [
      "  2%|▏         | 1699/100000 [1:21:49<52:26:54,  1.92s/it] "
     ]
    },
    {
     "name": "stdout",
     "output_type": "stream",
     "text": [
      "Epoch [1700/100000]\n",
      "Train Loss: 5.7383, Train Accuracy: 0.1033\n",
      "Train Precision (micro): 0.1033, Train Precision (macro): 0.0030\n",
      "Train Recall (micro): 0.1033, Train Recall (macro): 0.0090\n",
      "Train F1 (micro): 0.1033, Train F1 (macro): 0.0037\n",
      "\n",
      "Val Loss: 5.6094, Val Accuracy: 0.1050\n",
      "Val Precision (micro): 0.1050, Val Precision (macro): 0.0051\n",
      "Val Recall (micro): 0.1050, Val Recall (macro): 0.0141\n",
      "Val F1 (micro): 0.1050, Val F1 (macro): 0.0050\n",
      "--------------------------------------------------------------------------------\n"
     ]
    },
    {
     "name": "stderr",
     "output_type": "stream",
     "text": [
      "  2%|▏         | 1799/100000 [1:26:43<52:31:14,  1.93s/it] "
     ]
    },
    {
     "name": "stdout",
     "output_type": "stream",
     "text": [
      "Epoch [1800/100000]\n",
      "Train Loss: 5.6586, Train Accuracy: 0.0977\n",
      "Train Precision (micro): 0.0977, Train Precision (macro): 0.0028\n",
      "Train Recall (micro): 0.0977, Train Recall (macro): 0.0078\n",
      "Train F1 (micro): 0.0977, Train F1 (macro): 0.0032\n",
      "\n",
      "Val Loss: 5.5663, Val Accuracy: 0.1047\n",
      "Val Precision (micro): 0.1047, Val Precision (macro): 0.0044\n",
      "Val Recall (micro): 0.1047, Val Recall (macro): 0.0136\n",
      "Val F1 (micro): 0.1047, Val F1 (macro): 0.0054\n",
      "--------------------------------------------------------------------------------\n"
     ]
    },
    {
     "name": "stderr",
     "output_type": "stream",
     "text": [
      "  2%|▏         | 1899/100000 [1:31:38<52:21:39,  1.92s/it] "
     ]
    },
    {
     "name": "stdout",
     "output_type": "stream",
     "text": [
      "Epoch [1900/100000]\n",
      "Train Loss: 5.6342, Train Accuracy: 0.0958\n",
      "Train Precision (micro): 0.0958, Train Precision (macro): 0.0028\n",
      "Train Recall (micro): 0.0958, Train Recall (macro): 0.0081\n",
      "Train F1 (micro): 0.0958, Train F1 (macro): 0.0033\n",
      "\n",
      "Val Loss: 5.5157, Val Accuracy: 0.1047\n",
      "Val Precision (micro): 0.1047, Val Precision (macro): 0.0040\n",
      "Val Recall (micro): 0.1047, Val Recall (macro): 0.0147\n",
      "Val F1 (micro): 0.1047, Val F1 (macro): 0.0053\n",
      "--------------------------------------------------------------------------------\n"
     ]
    },
    {
     "name": "stderr",
     "output_type": "stream",
     "text": [
      "  2%|▏         | 1999/100000 [1:36:32<52:27:52,  1.93s/it] "
     ]
    },
    {
     "name": "stdout",
     "output_type": "stream",
     "text": [
      "Epoch [2000/100000]\n",
      "Train Loss: 5.5684, Train Accuracy: 0.1055\n",
      "Train Precision (micro): 0.1055, Train Precision (macro): 0.0027\n",
      "Train Recall (micro): 0.1055, Train Recall (macro): 0.0097\n",
      "Train F1 (micro): 0.1055, Train F1 (macro): 0.0036\n",
      "\n",
      "Val Loss: 5.4934, Val Accuracy: 0.1081\n",
      "Val Precision (micro): 0.1081, Val Precision (macro): 0.0055\n",
      "Val Recall (micro): 0.1081, Val Recall (macro): 0.0158\n",
      "Val F1 (micro): 0.1081, Val F1 (macro): 0.0060\n",
      "--------------------------------------------------------------------------------\n"
     ]
    },
    {
     "name": "stderr",
     "output_type": "stream",
     "text": [
      "  2%|▏         | 2099/100000 [1:41:30<52:16:16,  1.92s/it] "
     ]
    },
    {
     "name": "stdout",
     "output_type": "stream",
     "text": [
      "Epoch [2100/100000]\n",
      "Train Loss: 5.6313, Train Accuracy: 0.1014\n",
      "Train Precision (micro): 0.1014, Train Precision (macro): 0.0035\n",
      "Train Recall (micro): 0.1014, Train Recall (macro): 0.0093\n",
      "Train F1 (micro): 0.1014, Train F1 (macro): 0.0037\n",
      "\n",
      "Val Loss: 5.4692, Val Accuracy: 0.1081\n",
      "Val Precision (micro): 0.1081, Val Precision (macro): 0.0051\n",
      "Val Recall (micro): 0.1081, Val Recall (macro): 0.0149\n",
      "Val F1 (micro): 0.1081, Val F1 (macro): 0.0058\n",
      "--------------------------------------------------------------------------------\n"
     ]
    },
    {
     "name": "stderr",
     "output_type": "stream",
     "text": [
      "  2%|▏         | 2199/100000 [1:46:27<52:17:28,  1.92s/it] "
     ]
    },
    {
     "name": "stdout",
     "output_type": "stream",
     "text": [
      "Epoch [2200/100000]\n",
      "Train Loss: 5.5146, Train Accuracy: 0.1077\n",
      "Train Precision (micro): 0.1077, Train Precision (macro): 0.0031\n",
      "Train Recall (micro): 0.1077, Train Recall (macro): 0.0096\n",
      "Train F1 (micro): 0.1077, Train F1 (macro): 0.0041\n",
      "\n",
      "Val Loss: 5.4464, Val Accuracy: 0.1122\n",
      "Val Precision (micro): 0.1122, Val Precision (macro): 0.0058\n",
      "Val Recall (micro): 0.1122, Val Recall (macro): 0.0161\n",
      "Val F1 (micro): 0.1122, Val F1 (macro): 0.0068\n",
      "--------------------------------------------------------------------------------\n"
     ]
    },
    {
     "name": "stderr",
     "output_type": "stream",
     "text": [
      "  2%|▏         | 2299/100000 [1:51:23<52:18:49,  1.93s/it] "
     ]
    },
    {
     "name": "stdout",
     "output_type": "stream",
     "text": [
      "Epoch [2300/100000]\n",
      "Train Loss: 5.5244, Train Accuracy: 0.0984\n",
      "Train Precision (micro): 0.0984, Train Precision (macro): 0.0036\n",
      "Train Recall (micro): 0.0984, Train Recall (macro): 0.0097\n",
      "Train F1 (micro): 0.0984, Train F1 (macro): 0.0038\n",
      "\n",
      "Val Loss: 5.4312, Val Accuracy: 0.1147\n",
      "Val Precision (micro): 0.1147, Val Precision (macro): 0.0069\n",
      "Val Recall (micro): 0.1147, Val Recall (macro): 0.0161\n",
      "Val F1 (micro): 0.1147, Val F1 (macro): 0.0068\n",
      "--------------------------------------------------------------------------------\n"
     ]
    },
    {
     "name": "stderr",
     "output_type": "stream",
     "text": [
      "  2%|▏         | 2399/100000 [1:56:19<52:07:46,  1.92s/it] "
     ]
    },
    {
     "name": "stdout",
     "output_type": "stream",
     "text": [
      "Epoch [2400/100000]\n",
      "Train Loss: 5.4641, Train Accuracy: 0.1091\n",
      "Train Precision (micro): 0.1091, Train Precision (macro): 0.0060\n",
      "Train Recall (micro): 0.1091, Train Recall (macro): 0.0107\n",
      "Train F1 (micro): 0.1091, Train F1 (macro): 0.0052\n",
      "\n",
      "Val Loss: 5.4230, Val Accuracy: 0.1150\n",
      "Val Precision (micro): 0.1150, Val Precision (macro): 0.0072\n",
      "Val Recall (micro): 0.1150, Val Recall (macro): 0.0167\n",
      "Val F1 (micro): 0.1150, Val F1 (macro): 0.0073\n",
      "--------------------------------------------------------------------------------\n"
     ]
    },
    {
     "name": "stderr",
     "output_type": "stream",
     "text": [
      "  2%|▏         | 2499/100000 [2:01:14<52:05:11,  1.92s/it] "
     ]
    },
    {
     "name": "stdout",
     "output_type": "stream",
     "text": [
      "Epoch [2500/100000]\n",
      "Train Loss: 5.4593, Train Accuracy: 0.1075\n",
      "Train Precision (micro): 0.1075, Train Precision (macro): 0.0045\n",
      "Train Recall (micro): 0.1075, Train Recall (macro): 0.0104\n",
      "Train F1 (micro): 0.1075, Train F1 (macro): 0.0045\n",
      "\n",
      "Val Loss: 5.4192, Val Accuracy: 0.1122\n",
      "Val Precision (micro): 0.1122, Val Precision (macro): 0.0066\n",
      "Val Recall (micro): 0.1122, Val Recall (macro): 0.0160\n",
      "Val F1 (micro): 0.1122, Val F1 (macro): 0.0069\n",
      "--------------------------------------------------------------------------------\n"
     ]
    },
    {
     "name": "stderr",
     "output_type": "stream",
     "text": [
      "  3%|▎         | 2599/100000 [2:06:10<52:15:21,  1.93s/it] "
     ]
    },
    {
     "name": "stdout",
     "output_type": "stream",
     "text": [
      "Epoch [2600/100000]\n",
      "Train Loss: 5.4917, Train Accuracy: 0.1067\n",
      "Train Precision (micro): 0.1067, Train Precision (macro): 0.0041\n",
      "Train Recall (micro): 0.1067, Train Recall (macro): 0.0106\n",
      "Train F1 (micro): 0.1067, Train F1 (macro): 0.0044\n",
      "\n",
      "Val Loss: 5.4187, Val Accuracy: 0.1125\n",
      "Val Precision (micro): 0.1125, Val Precision (macro): 0.0069\n",
      "Val Recall (micro): 0.1125, Val Recall (macro): 0.0161\n",
      "Val F1 (micro): 0.1125, Val F1 (macro): 0.0070\n",
      "--------------------------------------------------------------------------------\n"
     ]
    },
    {
     "name": "stderr",
     "output_type": "stream",
     "text": [
      "  3%|▎         | 2699/100000 [2:11:04<52:12:13,  1.93s/it] "
     ]
    },
    {
     "name": "stdout",
     "output_type": "stream",
     "text": [
      "Epoch [2700/100000]\n",
      "Train Loss: 5.4639, Train Accuracy: 0.1058\n",
      "Train Precision (micro): 0.1058, Train Precision (macro): 0.0038\n",
      "Train Recall (micro): 0.1058, Train Recall (macro): 0.0099\n",
      "Train F1 (micro): 0.1058, Train F1 (macro): 0.0046\n",
      "\n",
      "Val Loss: 5.4278, Val Accuracy: 0.1069\n",
      "Val Precision (micro): 0.1069, Val Precision (macro): 0.0056\n",
      "Val Recall (micro): 0.1069, Val Recall (macro): 0.0148\n",
      "Val F1 (micro): 0.1069, Val F1 (macro): 0.0059\n",
      "--------------------------------------------------------------------------------\n"
     ]
    },
    {
     "name": "stderr",
     "output_type": "stream",
     "text": [
      "  3%|▎         | 2799/100000 [2:16:00<51:53:36,  1.92s/it] "
     ]
    },
    {
     "name": "stdout",
     "output_type": "stream",
     "text": [
      "Epoch [2800/100000]\n",
      "Train Loss: 5.4350, Train Accuracy: 0.1028\n",
      "Train Precision (micro): 0.1028, Train Precision (macro): 0.0036\n",
      "Train Recall (micro): 0.1028, Train Recall (macro): 0.0097\n",
      "Train F1 (micro): 0.1028, Train F1 (macro): 0.0047\n",
      "\n",
      "Val Loss: 5.4105, Val Accuracy: 0.1131\n",
      "Val Precision (micro): 0.1131, Val Precision (macro): 0.0075\n",
      "Val Recall (micro): 0.1131, Val Recall (macro): 0.0180\n",
      "Val F1 (micro): 0.1131, Val F1 (macro): 0.0080\n",
      "--------------------------------------------------------------------------------\n"
     ]
    },
    {
     "name": "stderr",
     "output_type": "stream",
     "text": [
      "  3%|▎         | 2899/100000 [2:20:55<52:13:13,  1.94s/it] "
     ]
    },
    {
     "name": "stdout",
     "output_type": "stream",
     "text": [
      "Epoch [2900/100000]\n",
      "Train Loss: 5.4270, Train Accuracy: 0.1103\n",
      "Train Precision (micro): 0.1103, Train Precision (macro): 0.0044\n",
      "Train Recall (micro): 0.1103, Train Recall (macro): 0.0098\n",
      "Train F1 (micro): 0.1103, Train F1 (macro): 0.0049\n",
      "\n",
      "Val Loss: 5.3563, Val Accuracy: 0.1163\n",
      "Val Precision (micro): 0.1163, Val Precision (macro): 0.0073\n",
      "Val Recall (micro): 0.1163, Val Recall (macro): 0.0178\n",
      "Val F1 (micro): 0.1163, Val F1 (macro): 0.0084\n",
      "--------------------------------------------------------------------------------\n"
     ]
    },
    {
     "name": "stderr",
     "output_type": "stream",
     "text": [
      "  3%|▎         | 2999/100000 [2:25:50<51:56:30,  1.93s/it] "
     ]
    },
    {
     "name": "stdout",
     "output_type": "stream",
     "text": [
      "Epoch [3000/100000]\n",
      "Train Loss: 5.3893, Train Accuracy: 0.1067\n",
      "Train Precision (micro): 0.1067, Train Precision (macro): 0.0050\n",
      "Train Recall (micro): 0.1067, Train Recall (macro): 0.0103\n",
      "Train F1 (micro): 0.1067, Train F1 (macro): 0.0053\n",
      "\n",
      "Val Loss: 5.3571, Val Accuracy: 0.1125\n",
      "Val Precision (micro): 0.1125, Val Precision (macro): 0.0070\n",
      "Val Recall (micro): 0.1125, Val Recall (macro): 0.0180\n",
      "Val F1 (micro): 0.1125, Val F1 (macro): 0.0083\n",
      "--------------------------------------------------------------------------------\n"
     ]
    },
    {
     "name": "stderr",
     "output_type": "stream",
     "text": [
      "  3%|▎         | 3099/100000 [2:30:46<51:52:10,  1.93s/it] "
     ]
    },
    {
     "name": "stdout",
     "output_type": "stream",
     "text": [
      "Epoch [3100/100000]\n",
      "Train Loss: 5.3947, Train Accuracy: 0.1122\n",
      "Train Precision (micro): 0.1122, Train Precision (macro): 0.0055\n",
      "Train Recall (micro): 0.1122, Train Recall (macro): 0.0114\n",
      "Train F1 (micro): 0.1122, Train F1 (macro): 0.0058\n",
      "\n",
      "Val Loss: 5.3035, Val Accuracy: 0.1200\n",
      "Val Precision (micro): 0.1200, Val Precision (macro): 0.0087\n",
      "Val Recall (micro): 0.1200, Val Recall (macro): 0.0192\n",
      "Val F1 (micro): 0.1200, Val F1 (macro): 0.0096\n",
      "--------------------------------------------------------------------------------\n"
     ]
    },
    {
     "name": "stderr",
     "output_type": "stream",
     "text": [
      "  3%|▎         | 3199/100000 [2:35:42<51:45:26,  1.92s/it] "
     ]
    },
    {
     "name": "stdout",
     "output_type": "stream",
     "text": [
      "Epoch [3200/100000]\n",
      "Train Loss: 5.3767, Train Accuracy: 0.1141\n",
      "Train Precision (micro): 0.1141, Train Precision (macro): 0.0060\n",
      "Train Recall (micro): 0.1141, Train Recall (macro): 0.0119\n",
      "Train F1 (micro): 0.1141, Train F1 (macro): 0.0058\n",
      "\n",
      "Val Loss: 5.2945, Val Accuracy: 0.1172\n",
      "Val Precision (micro): 0.1172, Val Precision (macro): 0.0084\n",
      "Val Recall (micro): 0.1172, Val Recall (macro): 0.0188\n",
      "Val F1 (micro): 0.1172, Val F1 (macro): 0.0098\n",
      "--------------------------------------------------------------------------------\n"
     ]
    },
    {
     "name": "stderr",
     "output_type": "stream",
     "text": [
      "  3%|▎         | 3299/100000 [2:40:37<51:47:13,  1.93s/it] "
     ]
    },
    {
     "name": "stdout",
     "output_type": "stream",
     "text": [
      "Epoch [3300/100000]\n",
      "Train Loss: 5.3846, Train Accuracy: 0.1044\n",
      "Train Precision (micro): 0.1044, Train Precision (macro): 0.0051\n",
      "Train Recall (micro): 0.1044, Train Recall (macro): 0.0116\n",
      "Train F1 (micro): 0.1044, Train F1 (macro): 0.0054\n",
      "\n",
      "Val Loss: 5.2710, Val Accuracy: 0.1187\n",
      "Val Precision (micro): 0.1187, Val Precision (macro): 0.0095\n",
      "Val Recall (micro): 0.1187, Val Recall (macro): 0.0199\n",
      "Val F1 (micro): 0.1187, Val F1 (macro): 0.0102\n",
      "--------------------------------------------------------------------------------\n"
     ]
    },
    {
     "name": "stderr",
     "output_type": "stream",
     "text": [
      "  3%|▎         | 3399/100000 [2:45:32<51:51:49,  1.93s/it] "
     ]
    },
    {
     "name": "stdout",
     "output_type": "stream",
     "text": [
      "Epoch [3400/100000]\n",
      "Train Loss: 5.3553, Train Accuracy: 0.1116\n",
      "Train Precision (micro): 0.1116, Train Precision (macro): 0.0055\n",
      "Train Recall (micro): 0.1116, Train Recall (macro): 0.0120\n",
      "Train F1 (micro): 0.1116, Train F1 (macro): 0.0059\n",
      "\n",
      "Val Loss: 5.2567, Val Accuracy: 0.1203\n",
      "Val Precision (micro): 0.1203, Val Precision (macro): 0.0104\n",
      "Val Recall (micro): 0.1203, Val Recall (macro): 0.0198\n",
      "Val F1 (micro): 0.1203, Val F1 (macro): 0.0105\n",
      "--------------------------------------------------------------------------------\n"
     ]
    },
    {
     "name": "stderr",
     "output_type": "stream",
     "text": [
      "  3%|▎         | 3499/100000 [2:50:28<51:43:00,  1.93s/it] "
     ]
    },
    {
     "name": "stdout",
     "output_type": "stream",
     "text": [
      "Epoch [3500/100000]\n",
      "Train Loss: 5.3213, Train Accuracy: 0.1108\n",
      "Train Precision (micro): 0.1108, Train Precision (macro): 0.0063\n",
      "Train Recall (micro): 0.1108, Train Recall (macro): 0.0123\n",
      "Train F1 (micro): 0.1108, Train F1 (macro): 0.0068\n",
      "\n",
      "Val Loss: 5.2373, Val Accuracy: 0.1228\n",
      "Val Precision (micro): 0.1228, Val Precision (macro): 0.0119\n",
      "Val Recall (micro): 0.1228, Val Recall (macro): 0.0225\n",
      "Val F1 (micro): 0.1228, Val F1 (macro): 0.0118\n",
      "--------------------------------------------------------------------------------\n"
     ]
    },
    {
     "name": "stderr",
     "output_type": "stream",
     "text": [
      "  4%|▎         | 3599/100000 [2:55:25<51:40:03,  1.93s/it] "
     ]
    },
    {
     "name": "stdout",
     "output_type": "stream",
     "text": [
      "Epoch [3600/100000]\n",
      "Train Loss: 5.2915, Train Accuracy: 0.1145\n",
      "Train Precision (micro): 0.1145, Train Precision (macro): 0.0056\n",
      "Train Recall (micro): 0.1145, Train Recall (macro): 0.0127\n",
      "Train F1 (micro): 0.1145, Train F1 (macro): 0.0064\n",
      "\n",
      "Val Loss: 5.2298, Val Accuracy: 0.1219\n",
      "Val Precision (micro): 0.1219, Val Precision (macro): 0.0097\n",
      "Val Recall (micro): 0.1219, Val Recall (macro): 0.0206\n",
      "Val F1 (micro): 0.1219, Val F1 (macro): 0.0107\n",
      "--------------------------------------------------------------------------------\n"
     ]
    },
    {
     "name": "stderr",
     "output_type": "stream",
     "text": [
      "  4%|▎         | 3699/100000 [3:00:21<51:28:27,  1.92s/it] "
     ]
    },
    {
     "name": "stdout",
     "output_type": "stream",
     "text": [
      "Epoch [3700/100000]\n",
      "Train Loss: 5.3005, Train Accuracy: 0.1148\n",
      "Train Precision (micro): 0.1148, Train Precision (macro): 0.0052\n",
      "Train Recall (micro): 0.1148, Train Recall (macro): 0.0125\n",
      "Train F1 (micro): 0.1148, Train F1 (macro): 0.0058\n",
      "\n",
      "Val Loss: 5.2104, Val Accuracy: 0.1212\n",
      "Val Precision (micro): 0.1212, Val Precision (macro): 0.0102\n",
      "Val Recall (micro): 0.1212, Val Recall (macro): 0.0209\n",
      "Val F1 (micro): 0.1212, Val F1 (macro): 0.0112\n",
      "--------------------------------------------------------------------------------\n"
     ]
    },
    {
     "name": "stderr",
     "output_type": "stream",
     "text": [
      "  4%|▍         | 3799/100000 [3:05:17<51:19:57,  1.92s/it] "
     ]
    },
    {
     "name": "stdout",
     "output_type": "stream",
     "text": [
      "Epoch [3800/100000]\n",
      "Train Loss: 5.2373, Train Accuracy: 0.1163\n",
      "Train Precision (micro): 0.1163, Train Precision (macro): 0.0062\n",
      "Train Recall (micro): 0.1163, Train Recall (macro): 0.0126\n",
      "Train F1 (micro): 0.1163, Train F1 (macro): 0.0066\n",
      "\n",
      "Val Loss: 5.1905, Val Accuracy: 0.1237\n",
      "Val Precision (micro): 0.1237, Val Precision (macro): 0.0111\n",
      "Val Recall (micro): 0.1237, Val Recall (macro): 0.0217\n",
      "Val F1 (micro): 0.1237, Val F1 (macro): 0.0119\n",
      "--------------------------------------------------------------------------------\n"
     ]
    },
    {
     "name": "stderr",
     "output_type": "stream",
     "text": [
      "  4%|▍         | 3899/100000 [3:10:11<51:33:34,  1.93s/it] "
     ]
    },
    {
     "name": "stdout",
     "output_type": "stream",
     "text": [
      "Epoch [3900/100000]\n",
      "Train Loss: 5.3002, Train Accuracy: 0.1077\n",
      "Train Precision (micro): 0.1077, Train Precision (macro): 0.0054\n",
      "Train Recall (micro): 0.1077, Train Recall (macro): 0.0129\n",
      "Train F1 (micro): 0.1077, Train F1 (macro): 0.0063\n",
      "\n",
      "Val Loss: 5.1900, Val Accuracy: 0.1241\n",
      "Val Precision (micro): 0.1241, Val Precision (macro): 0.0104\n",
      "Val Recall (micro): 0.1241, Val Recall (macro): 0.0213\n",
      "Val F1 (micro): 0.1241, Val F1 (macro): 0.0108\n",
      "--------------------------------------------------------------------------------\n"
     ]
    },
    {
     "name": "stderr",
     "output_type": "stream",
     "text": [
      "  4%|▍         | 3999/100000 [3:15:06<52:54:43,  1.98s/it] "
     ]
    },
    {
     "name": "stdout",
     "output_type": "stream",
     "text": [
      "Epoch [4000/100000]\n",
      "Train Loss: 5.1866, Train Accuracy: 0.1173\n",
      "Train Precision (micro): 0.1173, Train Precision (macro): 0.0085\n",
      "Train Recall (micro): 0.1173, Train Recall (macro): 0.0143\n",
      "Train F1 (micro): 0.1173, Train F1 (macro): 0.0080\n",
      "\n",
      "Val Loss: 5.1775, Val Accuracy: 0.1222\n",
      "Val Precision (micro): 0.1222, Val Precision (macro): 0.0110\n",
      "Val Recall (micro): 0.1222, Val Recall (macro): 0.0212\n",
      "Val F1 (micro): 0.1222, Val F1 (macro): 0.0116\n",
      "--------------------------------------------------------------------------------\n"
     ]
    },
    {
     "name": "stderr",
     "output_type": "stream",
     "text": [
      "  4%|▍         | 4099/100000 [3:20:00<51:13:05,  1.92s/it] "
     ]
    },
    {
     "name": "stdout",
     "output_type": "stream",
     "text": [
      "Epoch [4100/100000]\n",
      "Train Loss: 5.1891, Train Accuracy: 0.1158\n",
      "Train Precision (micro): 0.1158, Train Precision (macro): 0.0094\n",
      "Train Recall (micro): 0.1158, Train Recall (macro): 0.0144\n",
      "Train F1 (micro): 0.1158, Train F1 (macro): 0.0081\n",
      "\n",
      "Val Loss: 5.1662, Val Accuracy: 0.1266\n",
      "Val Precision (micro): 0.1266, Val Precision (macro): 0.0118\n",
      "Val Recall (micro): 0.1266, Val Recall (macro): 0.0238\n",
      "Val F1 (micro): 0.1266, Val F1 (macro): 0.0123\n",
      "--------------------------------------------------------------------------------\n"
     ]
    },
    {
     "name": "stderr",
     "output_type": "stream",
     "text": [
      "  4%|▍         | 4199/100000 [3:24:55<51:12:28,  1.92s/it] "
     ]
    },
    {
     "name": "stdout",
     "output_type": "stream",
     "text": [
      "Epoch [4200/100000]\n",
      "Train Loss: 5.2007, Train Accuracy: 0.1184\n",
      "Train Precision (micro): 0.1184, Train Precision (macro): 0.0068\n",
      "Train Recall (micro): 0.1184, Train Recall (macro): 0.0142\n",
      "Train F1 (micro): 0.1184, Train F1 (macro): 0.0069\n",
      "\n",
      "Val Loss: 5.1578, Val Accuracy: 0.1288\n",
      "Val Precision (micro): 0.1288, Val Precision (macro): 0.0120\n",
      "Val Recall (micro): 0.1288, Val Recall (macro): 0.0241\n",
      "Val F1 (micro): 0.1288, Val F1 (macro): 0.0131\n",
      "--------------------------------------------------------------------------------\n"
     ]
    },
    {
     "name": "stderr",
     "output_type": "stream",
     "text": [
      "  4%|▍         | 4299/100000 [3:29:51<51:17:13,  1.93s/it] "
     ]
    },
    {
     "name": "stdout",
     "output_type": "stream",
     "text": [
      "Epoch [4300/100000]\n",
      "Train Loss: 5.1855, Train Accuracy: 0.1197\n",
      "Train Precision (micro): 0.1197, Train Precision (macro): 0.0073\n",
      "Train Recall (micro): 0.1197, Train Recall (macro): 0.0125\n",
      "Train F1 (micro): 0.1197, Train F1 (macro): 0.0069\n",
      "\n",
      "Val Loss: 5.1482, Val Accuracy: 0.1300\n",
      "Val Precision (micro): 0.1300, Val Precision (macro): 0.0126\n",
      "Val Recall (micro): 0.1300, Val Recall (macro): 0.0247\n",
      "Val F1 (micro): 0.1300, Val F1 (macro): 0.0129\n",
      "--------------------------------------------------------------------------------\n"
     ]
    },
    {
     "name": "stderr",
     "output_type": "stream",
     "text": [
      "  4%|▍         | 4399/100000 [3:34:49<51:19:50,  1.93s/it] "
     ]
    },
    {
     "name": "stdout",
     "output_type": "stream",
     "text": [
      "Epoch [4400/100000]\n",
      "Train Loss: 5.1434, Train Accuracy: 0.1194\n",
      "Train Precision (micro): 0.1194, Train Precision (macro): 0.0082\n",
      "Train Recall (micro): 0.1194, Train Recall (macro): 0.0142\n",
      "Train F1 (micro): 0.1194, Train F1 (macro): 0.0075\n",
      "\n",
      "Val Loss: 5.1374, Val Accuracy: 0.1291\n",
      "Val Precision (micro): 0.1291, Val Precision (macro): 0.0130\n",
      "Val Recall (micro): 0.1291, Val Recall (macro): 0.0244\n",
      "Val F1 (micro): 0.1291, Val F1 (macro): 0.0131\n",
      "--------------------------------------------------------------------------------\n"
     ]
    },
    {
     "name": "stderr",
     "output_type": "stream",
     "text": [
      "  4%|▍         | 4499/100000 [3:39:45<51:14:06,  1.93s/it] "
     ]
    },
    {
     "name": "stdout",
     "output_type": "stream",
     "text": [
      "Epoch [4500/100000]\n",
      "Train Loss: 5.1894, Train Accuracy: 0.1198\n",
      "Train Precision (micro): 0.1198, Train Precision (macro): 0.0083\n",
      "Train Recall (micro): 0.1198, Train Recall (macro): 0.0150\n",
      "Train F1 (micro): 0.1198, Train F1 (macro): 0.0083\n",
      "\n",
      "Val Loss: 5.1306, Val Accuracy: 0.1269\n",
      "Val Precision (micro): 0.1269, Val Precision (macro): 0.0117\n",
      "Val Recall (micro): 0.1269, Val Recall (macro): 0.0236\n",
      "Val F1 (micro): 0.1269, Val F1 (macro): 0.0125\n",
      "--------------------------------------------------------------------------------\n"
     ]
    },
    {
     "name": "stderr",
     "output_type": "stream",
     "text": [
      "  5%|▍         | 4599/100000 [3:44:39<50:55:48,  1.92s/it] "
     ]
    },
    {
     "name": "stdout",
     "output_type": "stream",
     "text": [
      "Epoch [4600/100000]\n",
      "Train Loss: 5.1725, Train Accuracy: 0.1228\n",
      "Train Precision (micro): 0.1228, Train Precision (macro): 0.0068\n",
      "Train Recall (micro): 0.1228, Train Recall (macro): 0.0135\n",
      "Train F1 (micro): 0.1228, Train F1 (macro): 0.0075\n",
      "\n",
      "Val Loss: 5.1241, Val Accuracy: 0.1275\n",
      "Val Precision (micro): 0.1275, Val Precision (macro): 0.0121\n",
      "Val Recall (micro): 0.1275, Val Recall (macro): 0.0238\n",
      "Val F1 (micro): 0.1275, Val F1 (macro): 0.0125\n",
      "--------------------------------------------------------------------------------\n"
     ]
    },
    {
     "name": "stderr",
     "output_type": "stream",
     "text": [
      "  5%|▍         | 4699/100000 [3:49:35<50:53:11,  1.92s/it] "
     ]
    },
    {
     "name": "stdout",
     "output_type": "stream",
     "text": [
      "Epoch [4700/100000]\n",
      "Train Loss: 5.2126, Train Accuracy: 0.1163\n",
      "Train Precision (micro): 0.1163, Train Precision (macro): 0.0088\n",
      "Train Recall (micro): 0.1163, Train Recall (macro): 0.0148\n",
      "Train F1 (micro): 0.1163, Train F1 (macro): 0.0079\n",
      "\n",
      "Val Loss: 5.1212, Val Accuracy: 0.1297\n",
      "Val Precision (micro): 0.1297, Val Precision (macro): 0.0107\n",
      "Val Recall (micro): 0.1297, Val Recall (macro): 0.0236\n",
      "Val F1 (micro): 0.1297, Val F1 (macro): 0.0120\n",
      "--------------------------------------------------------------------------------\n"
     ]
    },
    {
     "name": "stderr",
     "output_type": "stream",
     "text": [
      "  5%|▍         | 4799/100000 [3:54:32<50:55:51,  1.93s/it] "
     ]
    },
    {
     "name": "stdout",
     "output_type": "stream",
     "text": [
      "Epoch [4800/100000]\n",
      "Train Loss: 5.1450, Train Accuracy: 0.1169\n",
      "Train Precision (micro): 0.1169, Train Precision (macro): 0.0081\n",
      "Train Recall (micro): 0.1169, Train Recall (macro): 0.0152\n",
      "Train F1 (micro): 0.1169, Train F1 (macro): 0.0085\n",
      "\n",
      "Val Loss: 5.1186, Val Accuracy: 0.1284\n",
      "Val Precision (micro): 0.1284, Val Precision (macro): 0.0110\n",
      "Val Recall (micro): 0.1284, Val Recall (macro): 0.0236\n",
      "Val F1 (micro): 0.1284, Val F1 (macro): 0.0121\n",
      "--------------------------------------------------------------------------------\n"
     ]
    },
    {
     "name": "stderr",
     "output_type": "stream",
     "text": [
      "  5%|▍         | 4899/100000 [3:59:27<50:53:09,  1.93s/it] "
     ]
    },
    {
     "name": "stdout",
     "output_type": "stream",
     "text": [
      "Epoch [4900/100000]\n",
      "Train Loss: 5.1482, Train Accuracy: 0.1153\n",
      "Train Precision (micro): 0.1153, Train Precision (macro): 0.0090\n",
      "Train Recall (micro): 0.1153, Train Recall (macro): 0.0166\n",
      "Train F1 (micro): 0.1153, Train F1 (macro): 0.0088\n",
      "\n",
      "Val Loss: 5.1160, Val Accuracy: 0.1313\n",
      "Val Precision (micro): 0.1313, Val Precision (macro): 0.0131\n",
      "Val Recall (micro): 0.1313, Val Recall (macro): 0.0249\n",
      "Val F1 (micro): 0.1313, Val F1 (macro): 0.0134\n",
      "--------------------------------------------------------------------------------\n"
     ]
    },
    {
     "name": "stderr",
     "output_type": "stream",
     "text": [
      "  5%|▍         | 4999/100000 [4:04:23<50:50:25,  1.93s/it] "
     ]
    },
    {
     "name": "stdout",
     "output_type": "stream",
     "text": [
      "Epoch [5000/100000]\n",
      "Train Loss: 5.1947, Train Accuracy: 0.1169\n",
      "Train Precision (micro): 0.1169, Train Precision (macro): 0.0064\n",
      "Train Recall (micro): 0.1169, Train Recall (macro): 0.0150\n",
      "Train F1 (micro): 0.1169, Train F1 (macro): 0.0075\n",
      "\n",
      "Val Loss: 5.1154, Val Accuracy: 0.1303\n",
      "Val Precision (micro): 0.1303, Val Precision (macro): 0.0129\n",
      "Val Recall (micro): 0.1303, Val Recall (macro): 0.0247\n",
      "Val F1 (micro): 0.1303, Val F1 (macro): 0.0131\n",
      "--------------------------------------------------------------------------------\n"
     ]
    },
    {
     "name": "stderr",
     "output_type": "stream",
     "text": [
      "  5%|▌         | 5099/100000 [4:09:18<50:47:52,  1.93s/it] "
     ]
    },
    {
     "name": "stdout",
     "output_type": "stream",
     "text": [
      "Epoch [5100/100000]\n",
      "Train Loss: 5.1129, Train Accuracy: 0.1248\n",
      "Train Precision (micro): 0.1248, Train Precision (macro): 0.0081\n",
      "Train Recall (micro): 0.1248, Train Recall (macro): 0.0154\n",
      "Train F1 (micro): 0.1248, Train F1 (macro): 0.0085\n",
      "\n",
      "Val Loss: 5.1149, Val Accuracy: 0.1306\n",
      "Val Precision (micro): 0.1306, Val Precision (macro): 0.0125\n",
      "Val Recall (micro): 0.1306, Val Recall (macro): 0.0247\n",
      "Val F1 (micro): 0.1306, Val F1 (macro): 0.0131\n",
      "--------------------------------------------------------------------------------\n"
     ]
    },
    {
     "name": "stderr",
     "output_type": "stream",
     "text": [
      "  5%|▌         | 5199/100000 [4:14:18<50:40:15,  1.92s/it] "
     ]
    },
    {
     "name": "stdout",
     "output_type": "stream",
     "text": [
      "Epoch [5200/100000]\n",
      "Train Loss: 5.1462, Train Accuracy: 0.1252\n",
      "Train Precision (micro): 0.1252, Train Precision (macro): 0.0074\n",
      "Train Recall (micro): 0.1252, Train Recall (macro): 0.0151\n",
      "Train F1 (micro): 0.1252, Train F1 (macro): 0.0079\n",
      "\n",
      "Val Loss: 5.1149, Val Accuracy: 0.1303\n",
      "Val Precision (micro): 0.1303, Val Precision (macro): 0.0125\n",
      "Val Recall (micro): 0.1303, Val Recall (macro): 0.0246\n",
      "Val F1 (micro): 0.1303, Val F1 (macro): 0.0131\n",
      "--------------------------------------------------------------------------------\n"
     ]
    },
    {
     "name": "stderr",
     "output_type": "stream",
     "text": [
      "  5%|▌         | 5299/100000 [4:19:13<50:43:03,  1.93s/it] "
     ]
    },
    {
     "name": "stdout",
     "output_type": "stream",
     "text": [
      "Epoch [5300/100000]\n",
      "Train Loss: 5.2185, Train Accuracy: 0.1117\n",
      "Train Precision (micro): 0.1117, Train Precision (macro): 0.0061\n",
      "Train Recall (micro): 0.1117, Train Recall (macro): 0.0127\n",
      "Train F1 (micro): 0.1117, Train F1 (macro): 0.0069\n",
      "\n",
      "Val Loss: 5.1405, Val Accuracy: 0.1228\n",
      "Val Precision (micro): 0.1228, Val Precision (macro): 0.0108\n",
      "Val Recall (micro): 0.1228, Val Recall (macro): 0.0227\n",
      "Val F1 (micro): 0.1228, Val F1 (macro): 0.0115\n",
      "--------------------------------------------------------------------------------\n"
     ]
    },
    {
     "name": "stderr",
     "output_type": "stream",
     "text": [
      "  5%|▌         | 5399/100000 [4:24:08<50:35:24,  1.93s/it] "
     ]
    },
    {
     "name": "stdout",
     "output_type": "stream",
     "text": [
      "Epoch [5400/100000]\n",
      "Train Loss: 5.1561, Train Accuracy: 0.1220\n",
      "Train Precision (micro): 0.1220, Train Precision (macro): 0.0073\n",
      "Train Recall (micro): 0.1220, Train Recall (macro): 0.0139\n",
      "Train F1 (micro): 0.1220, Train F1 (macro): 0.0078\n",
      "\n",
      "Val Loss: 5.1400, Val Accuracy: 0.1288\n",
      "Val Precision (micro): 0.1288, Val Precision (macro): 0.0100\n",
      "Val Recall (micro): 0.1288, Val Recall (macro): 0.0241\n",
      "Val F1 (micro): 0.1288, Val F1 (macro): 0.0121\n",
      "--------------------------------------------------------------------------------\n"
     ]
    },
    {
     "name": "stderr",
     "output_type": "stream",
     "text": [
      "  5%|▌         | 5499/100000 [4:29:04<51:58:45,  1.98s/it] "
     ]
    },
    {
     "name": "stdout",
     "output_type": "stream",
     "text": [
      "Epoch [5500/100000]\n",
      "Train Loss: 5.1780, Train Accuracy: 0.1231\n",
      "Train Precision (micro): 0.1231, Train Precision (macro): 0.0072\n",
      "Train Recall (micro): 0.1231, Train Recall (macro): 0.0156\n",
      "Train F1 (micro): 0.1231, Train F1 (macro): 0.0080\n",
      "\n",
      "Val Loss: 5.1293, Val Accuracy: 0.1316\n",
      "Val Precision (micro): 0.1316, Val Precision (macro): 0.0099\n",
      "Val Recall (micro): 0.1316, Val Recall (macro): 0.0253\n",
      "Val F1 (micro): 0.1316, Val F1 (macro): 0.0124\n",
      "--------------------------------------------------------------------------------\n"
     ]
    },
    {
     "name": "stderr",
     "output_type": "stream",
     "text": [
      "  6%|▌         | 5599/100000 [4:33:59<50:35:18,  1.93s/it] "
     ]
    },
    {
     "name": "stdout",
     "output_type": "stream",
     "text": [
      "Epoch [5600/100000]\n",
      "Train Loss: 5.2394, Train Accuracy: 0.1192\n",
      "Train Precision (micro): 0.1192, Train Precision (macro): 0.0081\n",
      "Train Recall (micro): 0.1192, Train Recall (macro): 0.0135\n",
      "Train F1 (micro): 0.1192, Train F1 (macro): 0.0078\n",
      "\n",
      "Val Loss: 5.1270, Val Accuracy: 0.1278\n",
      "Val Precision (micro): 0.1278, Val Precision (macro): 0.0085\n",
      "Val Recall (micro): 0.1278, Val Recall (macro): 0.0229\n",
      "Val F1 (micro): 0.1278, Val F1 (macro): 0.0105\n",
      "--------------------------------------------------------------------------------\n"
     ]
    },
    {
     "name": "stderr",
     "output_type": "stream",
     "text": [
      "  6%|▌         | 5699/100000 [4:38:55<50:34:26,  1.93s/it] "
     ]
    },
    {
     "name": "stdout",
     "output_type": "stream",
     "text": [
      "Epoch [5700/100000]\n",
      "Train Loss: 5.2057, Train Accuracy: 0.1147\n",
      "Train Precision (micro): 0.1147, Train Precision (macro): 0.0073\n",
      "Train Recall (micro): 0.1147, Train Recall (macro): 0.0150\n",
      "Train F1 (micro): 0.1147, Train F1 (macro): 0.0081\n",
      "\n",
      "Val Loss: 5.1126, Val Accuracy: 0.1300\n",
      "Val Precision (micro): 0.1300, Val Precision (macro): 0.0100\n",
      "Val Recall (micro): 0.1300, Val Recall (macro): 0.0242\n",
      "Val F1 (micro): 0.1300, Val F1 (macro): 0.0118\n",
      "--------------------------------------------------------------------------------\n"
     ]
    },
    {
     "name": "stderr",
     "output_type": "stream",
     "text": [
      "  6%|▌         | 5799/100000 [4:43:51<50:27:35,  1.93s/it] "
     ]
    },
    {
     "name": "stdout",
     "output_type": "stream",
     "text": [
      "Epoch [5800/100000]\n",
      "Train Loss: 5.1886, Train Accuracy: 0.1114\n",
      "Train Precision (micro): 0.1114, Train Precision (macro): 0.0067\n",
      "Train Recall (micro): 0.1114, Train Recall (macro): 0.0128\n",
      "Train F1 (micro): 0.1114, Train F1 (macro): 0.0067\n",
      "\n",
      "Val Loss: 5.1092, Val Accuracy: 0.1241\n",
      "Val Precision (micro): 0.1241, Val Precision (macro): 0.0104\n",
      "Val Recall (micro): 0.1241, Val Recall (macro): 0.0256\n",
      "Val F1 (micro): 0.1241, Val F1 (macro): 0.0127\n",
      "--------------------------------------------------------------------------------\n"
     ]
    },
    {
     "name": "stderr",
     "output_type": "stream",
     "text": [
      "  6%|▌         | 5899/100000 [4:48:46<50:17:45,  1.92s/it] "
     ]
    },
    {
     "name": "stdout",
     "output_type": "stream",
     "text": [
      "Epoch [5900/100000]\n",
      "Train Loss: 5.1365, Train Accuracy: 0.1206\n",
      "Train Precision (micro): 0.1206, Train Precision (macro): 0.0070\n",
      "Train Recall (micro): 0.1206, Train Recall (macro): 0.0142\n",
      "Train F1 (micro): 0.1206, Train F1 (macro): 0.0076\n",
      "\n",
      "Val Loss: 5.0929, Val Accuracy: 0.1291\n",
      "Val Precision (micro): 0.1291, Val Precision (macro): 0.0129\n",
      "Val Recall (micro): 0.1291, Val Recall (macro): 0.0248\n",
      "Val F1 (micro): 0.1291, Val F1 (macro): 0.0129\n",
      "--------------------------------------------------------------------------------\n"
     ]
    },
    {
     "name": "stderr",
     "output_type": "stream",
     "text": [
      "  6%|▌         | 5999/100000 [4:53:42<50:15:52,  1.93s/it] "
     ]
    },
    {
     "name": "stdout",
     "output_type": "stream",
     "text": [
      "Epoch [6000/100000]\n",
      "Train Loss: 5.1514, Train Accuracy: 0.1214\n",
      "Train Precision (micro): 0.1214, Train Precision (macro): 0.0067\n",
      "Train Recall (micro): 0.1214, Train Recall (macro): 0.0148\n",
      "Train F1 (micro): 0.1214, Train F1 (macro): 0.0077\n",
      "\n",
      "Val Loss: 5.0925, Val Accuracy: 0.1325\n",
      "Val Precision (micro): 0.1325, Val Precision (macro): 0.0144\n",
      "Val Recall (micro): 0.1325, Val Recall (macro): 0.0266\n",
      "Val F1 (micro): 0.1325, Val F1 (macro): 0.0150\n",
      "--------------------------------------------------------------------------------\n"
     ]
    },
    {
     "name": "stderr",
     "output_type": "stream",
     "text": [
      "  6%|▌         | 6099/100000 [4:58:37<50:09:17,  1.92s/it] "
     ]
    },
    {
     "name": "stdout",
     "output_type": "stream",
     "text": [
      "Epoch [6100/100000]\n",
      "Train Loss: 5.1080, Train Accuracy: 0.1166\n",
      "Train Precision (micro): 0.1166, Train Precision (macro): 0.0087\n",
      "Train Recall (micro): 0.1166, Train Recall (macro): 0.0156\n",
      "Train F1 (micro): 0.1166, Train F1 (macro): 0.0089\n",
      "\n",
      "Val Loss: 5.0895, Val Accuracy: 0.1400\n",
      "Val Precision (micro): 0.1400, Val Precision (macro): 0.0167\n",
      "Val Recall (micro): 0.1400, Val Recall (macro): 0.0285\n",
      "Val F1 (micro): 0.1400, Val F1 (macro): 0.0167\n",
      "--------------------------------------------------------------------------------\n"
     ]
    },
    {
     "name": "stderr",
     "output_type": "stream",
     "text": [
      "  6%|▌         | 6199/100000 [5:03:33<50:07:50,  1.92s/it] "
     ]
    },
    {
     "name": "stdout",
     "output_type": "stream",
     "text": [
      "Epoch [6200/100000]\n",
      "Train Loss: 5.0930, Train Accuracy: 0.1234\n",
      "Train Precision (micro): 0.1234, Train Precision (macro): 0.0092\n",
      "Train Recall (micro): 0.1234, Train Recall (macro): 0.0165\n",
      "Train F1 (micro): 0.1234, Train F1 (macro): 0.0091\n",
      "\n",
      "Val Loss: 5.0624, Val Accuracy: 0.1313\n",
      "Val Precision (micro): 0.1313, Val Precision (macro): 0.0130\n",
      "Val Recall (micro): 0.1313, Val Recall (macro): 0.0248\n",
      "Val F1 (micro): 0.1313, Val F1 (macro): 0.0140\n",
      "--------------------------------------------------------------------------------\n"
     ]
    },
    {
     "name": "stderr",
     "output_type": "stream",
     "text": [
      "  6%|▋         | 6299/100000 [5:08:28<50:00:48,  1.92s/it] "
     ]
    },
    {
     "name": "stdout",
     "output_type": "stream",
     "text": [
      "Epoch [6300/100000]\n",
      "Train Loss: 5.1105, Train Accuracy: 0.1225\n",
      "Train Precision (micro): 0.1225, Train Precision (macro): 0.0066\n",
      "Train Recall (micro): 0.1225, Train Recall (macro): 0.0149\n",
      "Train F1 (micro): 0.1225, Train F1 (macro): 0.0077\n",
      "\n",
      "Val Loss: 5.0720, Val Accuracy: 0.1303\n",
      "Val Precision (micro): 0.1303, Val Precision (macro): 0.0156\n",
      "Val Recall (micro): 0.1303, Val Recall (macro): 0.0260\n",
      "Val F1 (micro): 0.1303, Val F1 (macro): 0.0161\n",
      "--------------------------------------------------------------------------------\n"
     ]
    },
    {
     "name": "stderr",
     "output_type": "stream",
     "text": [
      "  6%|▋         | 6399/100000 [5:13:24<50:22:23,  1.94s/it] "
     ]
    },
    {
     "name": "stdout",
     "output_type": "stream",
     "text": [
      "Epoch [6400/100000]\n",
      "Train Loss: 5.1003, Train Accuracy: 0.1244\n",
      "Train Precision (micro): 0.1244, Train Precision (macro): 0.0079\n",
      "Train Recall (micro): 0.1244, Train Recall (macro): 0.0144\n",
      "Train F1 (micro): 0.1244, Train F1 (macro): 0.0080\n",
      "\n",
      "Val Loss: 5.0625, Val Accuracy: 0.1275\n",
      "Val Precision (micro): 0.1275, Val Precision (macro): 0.0121\n",
      "Val Recall (micro): 0.1275, Val Recall (macro): 0.0253\n",
      "Val F1 (micro): 0.1275, Val F1 (macro): 0.0133\n",
      "--------------------------------------------------------------------------------\n"
     ]
    },
    {
     "name": "stderr",
     "output_type": "stream",
     "text": [
      "  6%|▋         | 6499/100000 [5:18:20<50:12:59,  1.93s/it] "
     ]
    },
    {
     "name": "stdout",
     "output_type": "stream",
     "text": [
      "Epoch [6500/100000]\n",
      "Train Loss: 5.1153, Train Accuracy: 0.1156\n",
      "Train Precision (micro): 0.1156, Train Precision (macro): 0.0092\n",
      "Train Recall (micro): 0.1156, Train Recall (macro): 0.0164\n",
      "Train F1 (micro): 0.1156, Train F1 (macro): 0.0089\n",
      "\n",
      "Val Loss: 5.0510, Val Accuracy: 0.1347\n",
      "Val Precision (micro): 0.1347, Val Precision (macro): 0.0149\n",
      "Val Recall (micro): 0.1347, Val Recall (macro): 0.0277\n",
      "Val F1 (micro): 0.1347, Val F1 (macro): 0.0157\n",
      "--------------------------------------------------------------------------------\n"
     ]
    },
    {
     "name": "stderr",
     "output_type": "stream",
     "text": [
      "  7%|▋         | 6599/100000 [5:23:15<49:48:39,  1.92s/it] "
     ]
    },
    {
     "name": "stdout",
     "output_type": "stream",
     "text": [
      "Epoch [6600/100000]\n",
      "Train Loss: 5.1557, Train Accuracy: 0.1200\n",
      "Train Precision (micro): 0.1200, Train Precision (macro): 0.0071\n",
      "Train Recall (micro): 0.1200, Train Recall (macro): 0.0146\n",
      "Train F1 (micro): 0.1200, Train F1 (macro): 0.0080\n",
      "\n",
      "Val Loss: 5.0234, Val Accuracy: 0.1303\n",
      "Val Precision (micro): 0.1303, Val Precision (macro): 0.0121\n",
      "Val Recall (micro): 0.1303, Val Recall (macro): 0.0260\n",
      "Val F1 (micro): 0.1303, Val F1 (macro): 0.0137\n",
      "--------------------------------------------------------------------------------\n"
     ]
    },
    {
     "name": "stderr",
     "output_type": "stream",
     "text": [
      "  7%|▋         | 6699/100000 [5:28:10<49:51:12,  1.92s/it] "
     ]
    },
    {
     "name": "stdout",
     "output_type": "stream",
     "text": [
      "Epoch [6700/100000]\n",
      "Train Loss: 5.0256, Train Accuracy: 0.1303\n",
      "Train Precision (micro): 0.1303, Train Precision (macro): 0.0090\n",
      "Train Recall (micro): 0.1303, Train Recall (macro): 0.0167\n",
      "Train F1 (micro): 0.1303, Train F1 (macro): 0.0093\n",
      "\n",
      "Val Loss: 5.0280, Val Accuracy: 0.1269\n",
      "Val Precision (micro): 0.1269, Val Precision (macro): 0.0128\n",
      "Val Recall (micro): 0.1269, Val Recall (macro): 0.0247\n",
      "Val F1 (micro): 0.1269, Val F1 (macro): 0.0138\n",
      "--------------------------------------------------------------------------------\n"
     ]
    },
    {
     "name": "stderr",
     "output_type": "stream",
     "text": [
      "  7%|▋         | 6799/100000 [5:33:05<49:48:37,  1.92s/it] "
     ]
    },
    {
     "name": "stdout",
     "output_type": "stream",
     "text": [
      "Epoch [6800/100000]\n",
      "Train Loss: 5.0491, Train Accuracy: 0.1270\n",
      "Train Precision (micro): 0.1270, Train Precision (macro): 0.0085\n",
      "Train Recall (micro): 0.1270, Train Recall (macro): 0.0164\n",
      "Train F1 (micro): 0.1270, Train F1 (macro): 0.0091\n",
      "\n",
      "Val Loss: 5.0231, Val Accuracy: 0.1353\n",
      "Val Precision (micro): 0.1353, Val Precision (macro): 0.0133\n",
      "Val Recall (micro): 0.1353, Val Recall (macro): 0.0270\n",
      "Val F1 (micro): 0.1353, Val F1 (macro): 0.0146\n",
      "--------------------------------------------------------------------------------\n"
     ]
    },
    {
     "name": "stderr",
     "output_type": "stream",
     "text": [
      "  7%|▋         | 6899/100000 [5:38:02<49:51:29,  1.93s/it] "
     ]
    },
    {
     "name": "stdout",
     "output_type": "stream",
     "text": [
      "Epoch [6900/100000]\n",
      "Train Loss: 5.0435, Train Accuracy: 0.1261\n",
      "Train Precision (micro): 0.1261, Train Precision (macro): 0.0106\n",
      "Train Recall (micro): 0.1261, Train Recall (macro): 0.0196\n",
      "Train F1 (micro): 0.1261, Train F1 (macro): 0.0114\n",
      "\n",
      "Val Loss: 5.0027, Val Accuracy: 0.1334\n",
      "Val Precision (micro): 0.1334, Val Precision (macro): 0.0137\n",
      "Val Recall (micro): 0.1334, Val Recall (macro): 0.0266\n",
      "Val F1 (micro): 0.1334, Val F1 (macro): 0.0150\n",
      "--------------------------------------------------------------------------------\n"
     ]
    },
    {
     "name": "stderr",
     "output_type": "stream",
     "text": [
      "  7%|▋         | 6999/100000 [5:42:57<49:33:02,  1.92s/it] "
     ]
    },
    {
     "name": "stdout",
     "output_type": "stream",
     "text": [
      "Epoch [7000/100000]\n",
      "Train Loss: 5.0138, Train Accuracy: 0.1286\n",
      "Train Precision (micro): 0.1286, Train Precision (macro): 0.0085\n",
      "Train Recall (micro): 0.1286, Train Recall (macro): 0.0183\n",
      "Train F1 (micro): 0.1286, Train F1 (macro): 0.0104\n",
      "\n",
      "Val Loss: 4.9914, Val Accuracy: 0.1341\n",
      "Val Precision (micro): 0.1341, Val Precision (macro): 0.0147\n",
      "Val Recall (micro): 0.1341, Val Recall (macro): 0.0262\n",
      "Val F1 (micro): 0.1341, Val F1 (macro): 0.0152\n",
      "--------------------------------------------------------------------------------\n"
     ]
    },
    {
     "name": "stderr",
     "output_type": "stream",
     "text": [
      "  7%|▋         | 7099/100000 [5:47:53<49:39:51,  1.92s/it] "
     ]
    },
    {
     "name": "stdout",
     "output_type": "stream",
     "text": [
      "Epoch [7100/100000]\n",
      "Train Loss: 5.0314, Train Accuracy: 0.1269\n",
      "Train Precision (micro): 0.1269, Train Precision (macro): 0.0106\n",
      "Train Recall (micro): 0.1269, Train Recall (macro): 0.0168\n",
      "Train F1 (micro): 0.1269, Train F1 (macro): 0.0101\n",
      "\n",
      "Val Loss: 4.9976, Val Accuracy: 0.1394\n",
      "Val Precision (micro): 0.1394, Val Precision (macro): 0.0149\n",
      "Val Recall (micro): 0.1394, Val Recall (macro): 0.0281\n",
      "Val F1 (micro): 0.1394, Val F1 (macro): 0.0162\n",
      "--------------------------------------------------------------------------------\n"
     ]
    },
    {
     "name": "stderr",
     "output_type": "stream",
     "text": [
      "  7%|▋         | 7199/100000 [5:52:49<49:35:39,  1.92s/it] "
     ]
    },
    {
     "name": "stdout",
     "output_type": "stream",
     "text": [
      "Epoch [7200/100000]\n",
      "Train Loss: 5.0457, Train Accuracy: 0.1198\n",
      "Train Precision (micro): 0.1198, Train Precision (macro): 0.0062\n",
      "Train Recall (micro): 0.1198, Train Recall (macro): 0.0157\n",
      "Train F1 (micro): 0.1198, Train F1 (macro): 0.0080\n",
      "\n",
      "Val Loss: 4.9909, Val Accuracy: 0.1363\n",
      "Val Precision (micro): 0.1363, Val Precision (macro): 0.0160\n",
      "Val Recall (micro): 0.1363, Val Recall (macro): 0.0275\n",
      "Val F1 (micro): 0.1363, Val F1 (macro): 0.0152\n",
      "--------------------------------------------------------------------------------\n"
     ]
    },
    {
     "name": "stderr",
     "output_type": "stream",
     "text": [
      "  7%|▋         | 7299/100000 [5:57:48<49:38:12,  1.93s/it] "
     ]
    },
    {
     "name": "stdout",
     "output_type": "stream",
     "text": [
      "Epoch [7300/100000]\n",
      "Train Loss: 5.0037, Train Accuracy: 0.1223\n",
      "Train Precision (micro): 0.1223, Train Precision (macro): 0.0092\n",
      "Train Recall (micro): 0.1223, Train Recall (macro): 0.0172\n",
      "Train F1 (micro): 0.1223, Train F1 (macro): 0.0094\n",
      "\n",
      "Val Loss: 4.9828, Val Accuracy: 0.1359\n",
      "Val Precision (micro): 0.1359, Val Precision (macro): 0.0140\n",
      "Val Recall (micro): 0.1359, Val Recall (macro): 0.0270\n",
      "Val F1 (micro): 0.1359, Val F1 (macro): 0.0153\n",
      "--------------------------------------------------------------------------------\n"
     ]
    },
    {
     "name": "stderr",
     "output_type": "stream",
     "text": [
      "  7%|▋         | 7399/100000 [6:02:43<49:27:51,  1.92s/it] "
     ]
    },
    {
     "name": "stdout",
     "output_type": "stream",
     "text": [
      "Epoch [7400/100000]\n",
      "Train Loss: 5.0100, Train Accuracy: 0.1261\n",
      "Train Precision (micro): 0.1261, Train Precision (macro): 0.0106\n",
      "Train Recall (micro): 0.1261, Train Recall (macro): 0.0193\n",
      "Train F1 (micro): 0.1261, Train F1 (macro): 0.0111\n",
      "\n",
      "Val Loss: 4.9827, Val Accuracy: 0.1341\n",
      "Val Precision (micro): 0.1341, Val Precision (macro): 0.0126\n",
      "Val Recall (micro): 0.1341, Val Recall (macro): 0.0282\n",
      "Val F1 (micro): 0.1341, Val F1 (macro): 0.0148\n",
      "--------------------------------------------------------------------------------\n"
     ]
    },
    {
     "name": "stderr",
     "output_type": "stream",
     "text": [
      "  7%|▋         | 7499/100000 [6:07:39<49:29:35,  1.93s/it] "
     ]
    },
    {
     "name": "stdout",
     "output_type": "stream",
     "text": [
      "Epoch [7500/100000]\n",
      "Train Loss: 4.9901, Train Accuracy: 0.1259\n",
      "Train Precision (micro): 0.1259, Train Precision (macro): 0.0102\n",
      "Train Recall (micro): 0.1259, Train Recall (macro): 0.0173\n",
      "Train F1 (micro): 0.1259, Train F1 (macro): 0.0102\n",
      "\n",
      "Val Loss: 4.9668, Val Accuracy: 0.1341\n",
      "Val Precision (micro): 0.1341, Val Precision (macro): 0.0117\n",
      "Val Recall (micro): 0.1341, Val Recall (macro): 0.0254\n",
      "Val F1 (micro): 0.1341, Val F1 (macro): 0.0137\n",
      "--------------------------------------------------------------------------------\n"
     ]
    },
    {
     "name": "stderr",
     "output_type": "stream",
     "text": [
      "  8%|▊         | 7599/100000 [6:12:35<49:22:42,  1.92s/it] "
     ]
    },
    {
     "name": "stdout",
     "output_type": "stream",
     "text": [
      "Epoch [7600/100000]\n",
      "Train Loss: 4.9982, Train Accuracy: 0.1316\n",
      "Train Precision (micro): 0.1316, Train Precision (macro): 0.0096\n",
      "Train Recall (micro): 0.1316, Train Recall (macro): 0.0186\n",
      "Train F1 (micro): 0.1316, Train F1 (macro): 0.0105\n",
      "\n",
      "Val Loss: 4.9749, Val Accuracy: 0.1334\n",
      "Val Precision (micro): 0.1334, Val Precision (macro): 0.0158\n",
      "Val Recall (micro): 0.1334, Val Recall (macro): 0.0262\n",
      "Val F1 (micro): 0.1334, Val F1 (macro): 0.0150\n",
      "--------------------------------------------------------------------------------\n"
     ]
    },
    {
     "name": "stderr",
     "output_type": "stream",
     "text": [
      "  8%|▊         | 7699/100000 [6:17:30<49:27:20,  1.93s/it] "
     ]
    },
    {
     "name": "stdout",
     "output_type": "stream",
     "text": [
      "Epoch [7700/100000]\n",
      "Train Loss: 5.0055, Train Accuracy: 0.1219\n",
      "Train Precision (micro): 0.1219, Train Precision (macro): 0.0092\n",
      "Train Recall (micro): 0.1219, Train Recall (macro): 0.0172\n",
      "Train F1 (micro): 0.1219, Train F1 (macro): 0.0096\n",
      "\n",
      "Val Loss: 4.9635, Val Accuracy: 0.1356\n",
      "Val Precision (micro): 0.1356, Val Precision (macro): 0.0136\n",
      "Val Recall (micro): 0.1356, Val Recall (macro): 0.0274\n",
      "Val F1 (micro): 0.1356, Val F1 (macro): 0.0153\n",
      "--------------------------------------------------------------------------------\n"
     ]
    },
    {
     "name": "stderr",
     "output_type": "stream",
     "text": [
      "  8%|▊         | 7799/100000 [6:22:26<49:19:56,  1.93s/it] "
     ]
    },
    {
     "name": "stdout",
     "output_type": "stream",
     "text": [
      "Epoch [7800/100000]\n",
      "Train Loss: 4.9900, Train Accuracy: 0.1394\n",
      "Train Precision (micro): 0.1394, Train Precision (macro): 0.0096\n",
      "Train Recall (micro): 0.1394, Train Recall (macro): 0.0185\n",
      "Train F1 (micro): 0.1394, Train F1 (macro): 0.0102\n",
      "\n",
      "Val Loss: 4.9561, Val Accuracy: 0.1372\n",
      "Val Precision (micro): 0.1372, Val Precision (macro): 0.0159\n",
      "Val Recall (micro): 0.1372, Val Recall (macro): 0.0279\n",
      "Val F1 (micro): 0.1372, Val F1 (macro): 0.0162\n",
      "--------------------------------------------------------------------------------\n"
     ]
    },
    {
     "name": "stderr",
     "output_type": "stream",
     "text": [
      "  8%|▊         | 7899/100000 [6:27:21<49:13:02,  1.92s/it] "
     ]
    },
    {
     "name": "stdout",
     "output_type": "stream",
     "text": [
      "Epoch [7900/100000]\n",
      "Train Loss: 4.9867, Train Accuracy: 0.1275\n",
      "Train Precision (micro): 0.1275, Train Precision (macro): 0.0096\n",
      "Train Recall (micro): 0.1275, Train Recall (macro): 0.0176\n",
      "Train F1 (micro): 0.1275, Train F1 (macro): 0.0100\n",
      "\n",
      "Val Loss: 4.9468, Val Accuracy: 0.1403\n",
      "Val Precision (micro): 0.1403, Val Precision (macro): 0.0138\n",
      "Val Recall (micro): 0.1403, Val Recall (macro): 0.0283\n",
      "Val F1 (micro): 0.1403, Val F1 (macro): 0.0153\n",
      "--------------------------------------------------------------------------------\n"
     ]
    },
    {
     "name": "stderr",
     "output_type": "stream",
     "text": [
      "  8%|▊         | 7999/100000 [6:32:17<49:27:51,  1.94s/it] "
     ]
    },
    {
     "name": "stdout",
     "output_type": "stream",
     "text": [
      "Epoch [8000/100000]\n",
      "Train Loss: 5.0030, Train Accuracy: 0.1283\n",
      "Train Precision (micro): 0.1283, Train Precision (macro): 0.0100\n",
      "Train Recall (micro): 0.1283, Train Recall (macro): 0.0191\n",
      "Train F1 (micro): 0.1283, Train F1 (macro): 0.0105\n",
      "\n",
      "Val Loss: 4.9538, Val Accuracy: 0.1363\n",
      "Val Precision (micro): 0.1363, Val Precision (macro): 0.0124\n",
      "Val Recall (micro): 0.1363, Val Recall (macro): 0.0269\n",
      "Val F1 (micro): 0.1363, Val F1 (macro): 0.0140\n",
      "--------------------------------------------------------------------------------\n"
     ]
    },
    {
     "name": "stderr",
     "output_type": "stream",
     "text": [
      "  8%|▊         | 8099/100000 [6:37:13<49:03:11,  1.92s/it] "
     ]
    },
    {
     "name": "stdout",
     "output_type": "stream",
     "text": [
      "Epoch [8100/100000]\n",
      "Train Loss: 5.0165, Train Accuracy: 0.1227\n",
      "Train Precision (micro): 0.1227, Train Precision (macro): 0.0111\n",
      "Train Recall (micro): 0.1227, Train Recall (macro): 0.0183\n",
      "Train F1 (micro): 0.1227, Train F1 (macro): 0.0108\n",
      "\n",
      "Val Loss: 4.9460, Val Accuracy: 0.1381\n",
      "Val Precision (micro): 0.1381, Val Precision (macro): 0.0162\n",
      "Val Recall (micro): 0.1381, Val Recall (macro): 0.0280\n",
      "Val F1 (micro): 0.1381, Val F1 (macro): 0.0160\n",
      "--------------------------------------------------------------------------------\n"
     ]
    },
    {
     "name": "stderr",
     "output_type": "stream",
     "text": [
      "  8%|▊         | 8199/100000 [6:42:08<49:01:47,  1.92s/it] "
     ]
    },
    {
     "name": "stdout",
     "output_type": "stream",
     "text": [
      "Epoch [8200/100000]\n",
      "Train Loss: 4.9461, Train Accuracy: 0.1306\n",
      "Train Precision (micro): 0.1306, Train Precision (macro): 0.0097\n",
      "Train Recall (micro): 0.1306, Train Recall (macro): 0.0178\n",
      "Train F1 (micro): 0.1306, Train F1 (macro): 0.0103\n",
      "\n",
      "Val Loss: 4.9382, Val Accuracy: 0.1397\n",
      "Val Precision (micro): 0.1397, Val Precision (macro): 0.0151\n",
      "Val Recall (micro): 0.1397, Val Recall (macro): 0.0277\n",
      "Val F1 (micro): 0.1397, Val F1 (macro): 0.0157\n",
      "--------------------------------------------------------------------------------\n"
     ]
    },
    {
     "name": "stderr",
     "output_type": "stream",
     "text": [
      "  8%|▊         | 8299/100000 [6:47:04<49:02:05,  1.93s/it] "
     ]
    },
    {
     "name": "stdout",
     "output_type": "stream",
     "text": [
      "Epoch [8300/100000]\n",
      "Train Loss: 5.0072, Train Accuracy: 0.1237\n",
      "Train Precision (micro): 0.1237, Train Precision (macro): 0.0092\n",
      "Train Recall (micro): 0.1237, Train Recall (macro): 0.0193\n",
      "Train F1 (micro): 0.1237, Train F1 (macro): 0.0109\n",
      "\n",
      "Val Loss: 4.9294, Val Accuracy: 0.1400\n",
      "Val Precision (micro): 0.1400, Val Precision (macro): 0.0140\n",
      "Val Recall (micro): 0.1400, Val Recall (macro): 0.0267\n",
      "Val F1 (micro): 0.1400, Val F1 (macro): 0.0153\n",
      "--------------------------------------------------------------------------------\n"
     ]
    },
    {
     "name": "stderr",
     "output_type": "stream",
     "text": [
      "  8%|▊         | 8399/100000 [6:52:00<49:06:14,  1.93s/it] "
     ]
    },
    {
     "name": "stdout",
     "output_type": "stream",
     "text": [
      "Epoch [8400/100000]\n",
      "Train Loss: 4.9909, Train Accuracy: 0.1259\n",
      "Train Precision (micro): 0.1259, Train Precision (macro): 0.0102\n",
      "Train Recall (micro): 0.1259, Train Recall (macro): 0.0185\n",
      "Train F1 (micro): 0.1259, Train F1 (macro): 0.0105\n",
      "\n",
      "Val Loss: 4.9271, Val Accuracy: 0.1416\n",
      "Val Precision (micro): 0.1416, Val Precision (macro): 0.0143\n",
      "Val Recall (micro): 0.1416, Val Recall (macro): 0.0286\n",
      "Val F1 (micro): 0.1416, Val F1 (macro): 0.0163\n",
      "--------------------------------------------------------------------------------\n"
     ]
    },
    {
     "name": "stderr",
     "output_type": "stream",
     "text": [
      "  8%|▊         | 8499/100000 [6:56:54<48:56:52,  1.93s/it] "
     ]
    },
    {
     "name": "stdout",
     "output_type": "stream",
     "text": [
      "Epoch [8500/100000]\n",
      "Train Loss: 4.9791, Train Accuracy: 0.1306\n",
      "Train Precision (micro): 0.1306, Train Precision (macro): 0.0094\n",
      "Train Recall (micro): 0.1306, Train Recall (macro): 0.0173\n",
      "Train F1 (micro): 0.1306, Train F1 (macro): 0.0097\n",
      "\n",
      "Val Loss: 4.9205, Val Accuracy: 0.1400\n",
      "Val Precision (micro): 0.1400, Val Precision (macro): 0.0135\n",
      "Val Recall (micro): 0.1400, Val Recall (macro): 0.0273\n",
      "Val F1 (micro): 0.1400, Val F1 (macro): 0.0154\n",
      "--------------------------------------------------------------------------------\n"
     ]
    },
    {
     "name": "stderr",
     "output_type": "stream",
     "text": [
      "  9%|▊         | 8599/100000 [7:01:51<48:51:03,  1.92s/it] "
     ]
    },
    {
     "name": "stdout",
     "output_type": "stream",
     "text": [
      "Epoch [8600/100000]\n",
      "Train Loss: 4.9891, Train Accuracy: 0.1308\n",
      "Train Precision (micro): 0.1308, Train Precision (macro): 0.0109\n",
      "Train Recall (micro): 0.1308, Train Recall (macro): 0.0201\n",
      "Train F1 (micro): 0.1308, Train F1 (macro): 0.0120\n",
      "\n",
      "Val Loss: 4.9198, Val Accuracy: 0.1378\n",
      "Val Precision (micro): 0.1378, Val Precision (macro): 0.0141\n",
      "Val Recall (micro): 0.1378, Val Recall (macro): 0.0264\n",
      "Val F1 (micro): 0.1378, Val F1 (macro): 0.0154\n",
      "--------------------------------------------------------------------------------\n"
     ]
    },
    {
     "name": "stderr",
     "output_type": "stream",
     "text": [
      "  9%|▊         | 8699/100000 [7:06:46<48:55:09,  1.93s/it] "
     ]
    },
    {
     "name": "stdout",
     "output_type": "stream",
     "text": [
      "Epoch [8700/100000]\n",
      "Train Loss: 4.9490, Train Accuracy: 0.1309\n",
      "Train Precision (micro): 0.1309, Train Precision (macro): 0.0131\n",
      "Train Recall (micro): 0.1309, Train Recall (macro): 0.0205\n",
      "Train F1 (micro): 0.1309, Train F1 (macro): 0.0122\n",
      "\n",
      "Val Loss: 4.9244, Val Accuracy: 0.1400\n",
      "Val Precision (micro): 0.1400, Val Precision (macro): 0.0140\n",
      "Val Recall (micro): 0.1400, Val Recall (macro): 0.0280\n",
      "Val F1 (micro): 0.1400, Val F1 (macro): 0.0163\n",
      "--------------------------------------------------------------------------------\n"
     ]
    },
    {
     "name": "stderr",
     "output_type": "stream",
     "text": [
      "  9%|▉         | 8799/100000 [7:11:43<48:40:09,  1.92s/it] "
     ]
    },
    {
     "name": "stdout",
     "output_type": "stream",
     "text": [
      "Epoch [8800/100000]\n",
      "Train Loss: 4.9776, Train Accuracy: 0.1267\n",
      "Train Precision (micro): 0.1267, Train Precision (macro): 0.0117\n",
      "Train Recall (micro): 0.1267, Train Recall (macro): 0.0201\n",
      "Train F1 (micro): 0.1267, Train F1 (macro): 0.0116\n",
      "\n",
      "Val Loss: 4.9161, Val Accuracy: 0.1409\n",
      "Val Precision (micro): 0.1409, Val Precision (macro): 0.0171\n",
      "Val Recall (micro): 0.1409, Val Recall (macro): 0.0287\n",
      "Val F1 (micro): 0.1409, Val F1 (macro): 0.0175\n",
      "--------------------------------------------------------------------------------\n"
     ]
    },
    {
     "name": "stderr",
     "output_type": "stream",
     "text": [
      "  9%|▉         | 8899/100000 [7:16:39<48:39:24,  1.92s/it] "
     ]
    },
    {
     "name": "stdout",
     "output_type": "stream",
     "text": [
      "Epoch [8900/100000]\n",
      "Train Loss: 4.9792, Train Accuracy: 0.1309\n",
      "Train Precision (micro): 0.1309, Train Precision (macro): 0.0103\n",
      "Train Recall (micro): 0.1309, Train Recall (macro): 0.0184\n",
      "Train F1 (micro): 0.1309, Train F1 (macro): 0.0108\n",
      "\n",
      "Val Loss: 4.9132, Val Accuracy: 0.1397\n",
      "Val Precision (micro): 0.1397, Val Precision (macro): 0.0160\n",
      "Val Recall (micro): 0.1397, Val Recall (macro): 0.0280\n",
      "Val F1 (micro): 0.1397, Val F1 (macro): 0.0169\n",
      "--------------------------------------------------------------------------------\n"
     ]
    },
    {
     "name": "stderr",
     "output_type": "stream",
     "text": [
      "  9%|▉         | 8999/100000 [7:21:35<48:35:23,  1.92s/it] "
     ]
    },
    {
     "name": "stdout",
     "output_type": "stream",
     "text": [
      "Epoch [9000/100000]\n",
      "Train Loss: 5.0031, Train Accuracy: 0.1258\n",
      "Train Precision (micro): 0.1258, Train Precision (macro): 0.0098\n",
      "Train Recall (micro): 0.1258, Train Recall (macro): 0.0175\n",
      "Train F1 (micro): 0.1258, Train F1 (macro): 0.0102\n",
      "\n",
      "Val Loss: 4.9126, Val Accuracy: 0.1381\n",
      "Val Precision (micro): 0.1381, Val Precision (macro): 0.0172\n",
      "Val Recall (micro): 0.1381, Val Recall (macro): 0.0291\n",
      "Val F1 (micro): 0.1381, Val F1 (macro): 0.0173\n",
      "--------------------------------------------------------------------------------\n"
     ]
    },
    {
     "name": "stderr",
     "output_type": "stream",
     "text": [
      "  9%|▉         | 9099/100000 [7:26:30<48:41:00,  1.93s/it] "
     ]
    },
    {
     "name": "stdout",
     "output_type": "stream",
     "text": [
      "Epoch [9100/100000]\n",
      "Train Loss: 4.9063, Train Accuracy: 0.1331\n",
      "Train Precision (micro): 0.1331, Train Precision (macro): 0.0104\n",
      "Train Recall (micro): 0.1331, Train Recall (macro): 0.0184\n",
      "Train F1 (micro): 0.1331, Train F1 (macro): 0.0106\n",
      "\n",
      "Val Loss: 4.9082, Val Accuracy: 0.1419\n",
      "Val Precision (micro): 0.1419, Val Precision (macro): 0.0160\n",
      "Val Recall (micro): 0.1419, Val Recall (macro): 0.0287\n",
      "Val F1 (micro): 0.1419, Val F1 (macro): 0.0170\n",
      "--------------------------------------------------------------------------------\n"
     ]
    },
    {
     "name": "stderr",
     "output_type": "stream",
     "text": [
      "  9%|▉         | 9199/100000 [7:31:26<48:40:50,  1.93s/it] "
     ]
    },
    {
     "name": "stdout",
     "output_type": "stream",
     "text": [
      "Epoch [9200/100000]\n",
      "Train Loss: 4.9481, Train Accuracy: 0.1339\n",
      "Train Precision (micro): 0.1339, Train Precision (macro): 0.0106\n",
      "Train Recall (micro): 0.1339, Train Recall (macro): 0.0205\n",
      "Train F1 (micro): 0.1339, Train F1 (macro): 0.0116\n",
      "\n",
      "Val Loss: 4.9057, Val Accuracy: 0.1397\n",
      "Val Precision (micro): 0.1397, Val Precision (macro): 0.0168\n",
      "Val Recall (micro): 0.1397, Val Recall (macro): 0.0286\n",
      "Val F1 (micro): 0.1397, Val F1 (macro): 0.0171\n",
      "--------------------------------------------------------------------------------\n"
     ]
    },
    {
     "name": "stderr",
     "output_type": "stream",
     "text": [
      "  9%|▉         | 9299/100000 [7:36:22<48:29:42,  1.92s/it] "
     ]
    },
    {
     "name": "stdout",
     "output_type": "stream",
     "text": [
      "Epoch [9300/100000]\n",
      "Train Loss: 4.9427, Train Accuracy: 0.1361\n",
      "Train Precision (micro): 0.1361, Train Precision (macro): 0.0107\n",
      "Train Recall (micro): 0.1361, Train Recall (macro): 0.0188\n",
      "Train F1 (micro): 0.1361, Train F1 (macro): 0.0107\n",
      "\n",
      "Val Loss: 4.9044, Val Accuracy: 0.1406\n",
      "Val Precision (micro): 0.1406, Val Precision (macro): 0.0150\n",
      "Val Recall (micro): 0.1406, Val Recall (macro): 0.0275\n",
      "Val F1 (micro): 0.1406, Val F1 (macro): 0.0161\n",
      "--------------------------------------------------------------------------------\n"
     ]
    },
    {
     "name": "stderr",
     "output_type": "stream",
     "text": [
      "  9%|▉         | 9399/100000 [7:41:17<48:23:51,  1.92s/it] "
     ]
    },
    {
     "name": "stdout",
     "output_type": "stream",
     "text": [
      "Epoch [9400/100000]\n",
      "Train Loss: 4.9651, Train Accuracy: 0.1327\n",
      "Train Precision (micro): 0.1327, Train Precision (macro): 0.0110\n",
      "Train Recall (micro): 0.1327, Train Recall (macro): 0.0187\n",
      "Train F1 (micro): 0.1327, Train F1 (macro): 0.0111\n",
      "\n",
      "Val Loss: 4.9039, Val Accuracy: 0.1394\n",
      "Val Precision (micro): 0.1394, Val Precision (macro): 0.0137\n",
      "Val Recall (micro): 0.1394, Val Recall (macro): 0.0270\n",
      "Val F1 (micro): 0.1394, Val F1 (macro): 0.0152\n",
      "--------------------------------------------------------------------------------\n"
     ]
    },
    {
     "name": "stderr",
     "output_type": "stream",
     "text": [
      "  9%|▉         | 9499/100000 [7:46:13<48:23:30,  1.92s/it] "
     ]
    },
    {
     "name": "stdout",
     "output_type": "stream",
     "text": [
      "Epoch [9500/100000]\n",
      "Train Loss: 4.9618, Train Accuracy: 0.1266\n",
      "Train Precision (micro): 0.1266, Train Precision (macro): 0.0092\n",
      "Train Recall (micro): 0.1266, Train Recall (macro): 0.0185\n",
      "Train F1 (micro): 0.1266, Train F1 (macro): 0.0102\n",
      "\n",
      "Val Loss: 4.9012, Val Accuracy: 0.1394\n",
      "Val Precision (micro): 0.1394, Val Precision (macro): 0.0148\n",
      "Val Recall (micro): 0.1394, Val Recall (macro): 0.0280\n",
      "Val F1 (micro): 0.1394, Val F1 (macro): 0.0160\n",
      "--------------------------------------------------------------------------------\n"
     ]
    },
    {
     "name": "stderr",
     "output_type": "stream",
     "text": [
      " 10%|▉         | 9599/100000 [7:51:09<48:26:15,  1.93s/it] "
     ]
    },
    {
     "name": "stdout",
     "output_type": "stream",
     "text": [
      "Epoch [9600/100000]\n",
      "Train Loss: 4.9282, Train Accuracy: 0.1314\n",
      "Train Precision (micro): 0.1314, Train Precision (macro): 0.0106\n",
      "Train Recall (micro): 0.1314, Train Recall (macro): 0.0207\n",
      "Train F1 (micro): 0.1314, Train F1 (macro): 0.0115\n",
      "\n",
      "Val Loss: 4.9021, Val Accuracy: 0.1409\n",
      "Val Precision (micro): 0.1409, Val Precision (macro): 0.0152\n",
      "Val Recall (micro): 0.1409, Val Recall (macro): 0.0283\n",
      "Val F1 (micro): 0.1409, Val F1 (macro): 0.0162\n",
      "--------------------------------------------------------------------------------\n"
     ]
    },
    {
     "name": "stderr",
     "output_type": "stream",
     "text": [
      " 10%|▉         | 9699/100000 [7:56:05<48:14:51,  1.92s/it] "
     ]
    },
    {
     "name": "stdout",
     "output_type": "stream",
     "text": [
      "Epoch [9700/100000]\n",
      "Train Loss: 4.9905, Train Accuracy: 0.1328\n",
      "Train Precision (micro): 0.1328, Train Precision (macro): 0.0106\n",
      "Train Recall (micro): 0.1328, Train Recall (macro): 0.0182\n",
      "Train F1 (micro): 0.1328, Train F1 (macro): 0.0106\n",
      "\n",
      "Val Loss: 4.9007, Val Accuracy: 0.1425\n",
      "Val Precision (micro): 0.1425, Val Precision (macro): 0.0151\n",
      "Val Recall (micro): 0.1425, Val Recall (macro): 0.0279\n",
      "Val F1 (micro): 0.1425, Val F1 (macro): 0.0161\n",
      "--------------------------------------------------------------------------------\n"
     ]
    },
    {
     "name": "stderr",
     "output_type": "stream",
     "text": [
      " 10%|▉         | 9799/100000 [8:01:01<48:13:56,  1.92s/it] "
     ]
    },
    {
     "name": "stdout",
     "output_type": "stream",
     "text": [
      "Epoch [9800/100000]\n",
      "Train Loss: 4.9280, Train Accuracy: 0.1333\n",
      "Train Precision (micro): 0.1333, Train Precision (macro): 0.0130\n",
      "Train Recall (micro): 0.1333, Train Recall (macro): 0.0214\n",
      "Train F1 (micro): 0.1333, Train F1 (macro): 0.0129\n",
      "\n",
      "Val Loss: 4.8998, Val Accuracy: 0.1416\n",
      "Val Precision (micro): 0.1416, Val Precision (macro): 0.0147\n",
      "Val Recall (micro): 0.1416, Val Recall (macro): 0.0276\n",
      "Val F1 (micro): 0.1416, Val F1 (macro): 0.0158\n",
      "--------------------------------------------------------------------------------\n"
     ]
    },
    {
     "name": "stderr",
     "output_type": "stream",
     "text": [
      " 10%|▉         | 9899/100000 [8:05:57<48:07:26,  1.92s/it] "
     ]
    },
    {
     "name": "stdout",
     "output_type": "stream",
     "text": [
      "Epoch [9900/100000]\n",
      "Train Loss: 5.0005, Train Accuracy: 0.1261\n",
      "Train Precision (micro): 0.1261, Train Precision (macro): 0.0106\n",
      "Train Recall (micro): 0.1261, Train Recall (macro): 0.0192\n",
      "Train F1 (micro): 0.1261, Train F1 (macro): 0.0112\n",
      "\n",
      "Val Loss: 4.8994, Val Accuracy: 0.1425\n",
      "Val Precision (micro): 0.1425, Val Precision (macro): 0.0151\n",
      "Val Recall (micro): 0.1425, Val Recall (macro): 0.0279\n",
      "Val F1 (micro): 0.1425, Val F1 (macro): 0.0161\n",
      "--------------------------------------------------------------------------------\n"
     ]
    },
    {
     "name": "stderr",
     "output_type": "stream",
     "text": [
      " 10%|▉         | 9999/100000 [8:10:52<48:10:10,  1.93s/it] "
     ]
    },
    {
     "name": "stdout",
     "output_type": "stream",
     "text": [
      "Epoch [10000/100000]\n",
      "Train Loss: 4.8877, Train Accuracy: 0.1348\n",
      "Train Precision (micro): 0.1348, Train Precision (macro): 0.0099\n",
      "Train Recall (micro): 0.1348, Train Recall (macro): 0.0189\n",
      "Train F1 (micro): 0.1348, Train F1 (macro): 0.0108\n",
      "\n",
      "Val Loss: 4.8983, Val Accuracy: 0.1422\n",
      "Val Precision (micro): 0.1422, Val Precision (macro): 0.0150\n",
      "Val Recall (micro): 0.1422, Val Recall (macro): 0.0279\n",
      "Val F1 (micro): 0.1422, Val F1 (macro): 0.0161\n",
      "--------------------------------------------------------------------------------\n"
     ]
    },
    {
     "name": "stderr",
     "output_type": "stream",
     "text": [
      " 10%|█         | 10099/100000 [8:15:48<47:59:36,  1.92s/it] "
     ]
    },
    {
     "name": "stdout",
     "output_type": "stream",
     "text": [
      "Epoch [10100/100000]\n",
      "Train Loss: 4.9410, Train Accuracy: 0.1316\n",
      "Train Precision (micro): 0.1316, Train Precision (macro): 0.0107\n",
      "Train Recall (micro): 0.1316, Train Recall (macro): 0.0181\n",
      "Train F1 (micro): 0.1316, Train F1 (macro): 0.0104\n",
      "\n",
      "Val Loss: 4.8983, Val Accuracy: 0.1419\n",
      "Val Precision (micro): 0.1419, Val Precision (macro): 0.0149\n",
      "Val Recall (micro): 0.1419, Val Recall (macro): 0.0278\n",
      "Val F1 (micro): 0.1419, Val F1 (macro): 0.0160\n",
      "--------------------------------------------------------------------------------\n"
     ]
    },
    {
     "name": "stderr",
     "output_type": "stream",
     "text": [
      " 10%|█         | 10199/100000 [8:20:43<50:19:01,  2.02s/it] "
     ]
    },
    {
     "name": "stdout",
     "output_type": "stream",
     "text": [
      "Epoch [10200/100000]\n",
      "Train Loss: 4.8872, Train Accuracy: 0.1366\n",
      "Train Precision (micro): 0.1366, Train Precision (macro): 0.0125\n",
      "Train Recall (micro): 0.1366, Train Recall (macro): 0.0204\n",
      "Train F1 (micro): 0.1366, Train F1 (macro): 0.0125\n",
      "\n",
      "Val Loss: 4.8981, Val Accuracy: 0.1419\n",
      "Val Precision (micro): 0.1419, Val Precision (macro): 0.0149\n",
      "Val Recall (micro): 0.1419, Val Recall (macro): 0.0278\n",
      "Val F1 (micro): 0.1419, Val F1 (macro): 0.0160\n",
      "--------------------------------------------------------------------------------\n"
     ]
    },
    {
     "name": "stderr",
     "output_type": "stream",
     "text": [
      " 10%|█         | 10299/100000 [8:25:38<47:57:39,  1.92s/it] "
     ]
    },
    {
     "name": "stdout",
     "output_type": "stream",
     "text": [
      "Epoch [10300/100000]\n",
      "Train Loss: 4.9502, Train Accuracy: 0.1295\n",
      "Train Precision (micro): 0.1295, Train Precision (macro): 0.0116\n",
      "Train Recall (micro): 0.1295, Train Recall (macro): 0.0208\n",
      "Train F1 (micro): 0.1295, Train F1 (macro): 0.0119\n",
      "\n",
      "Val Loss: 4.8981, Val Accuracy: 0.1419\n",
      "Val Precision (micro): 0.1419, Val Precision (macro): 0.0149\n",
      "Val Recall (micro): 0.1419, Val Recall (macro): 0.0278\n",
      "Val F1 (micro): 0.1419, Val F1 (macro): 0.0160\n",
      "--------------------------------------------------------------------------------\n"
     ]
    },
    {
     "name": "stderr",
     "output_type": "stream",
     "text": [
      " 10%|█         | 10399/100000 [8:30:34<47:54:32,  1.92s/it] "
     ]
    },
    {
     "name": "stdout",
     "output_type": "stream",
     "text": [
      "Epoch [10400/100000]\n",
      "Train Loss: 4.9767, Train Accuracy: 0.1344\n",
      "Train Precision (micro): 0.1344, Train Precision (macro): 0.0111\n",
      "Train Recall (micro): 0.1344, Train Recall (macro): 0.0199\n",
      "Train F1 (micro): 0.1344, Train F1 (macro): 0.0119\n",
      "\n",
      "Val Loss: 4.9473, Val Accuracy: 0.1341\n",
      "Val Precision (micro): 0.1341, Val Precision (macro): 0.0155\n",
      "Val Recall (micro): 0.1341, Val Recall (macro): 0.0280\n",
      "Val F1 (micro): 0.1341, Val F1 (macro): 0.0163\n",
      "--------------------------------------------------------------------------------\n"
     ]
    },
    {
     "name": "stderr",
     "output_type": "stream",
     "text": [
      " 10%|█         | 10499/100000 [8:35:29<47:50:55,  1.92s/it] "
     ]
    },
    {
     "name": "stdout",
     "output_type": "stream",
     "text": [
      "Epoch [10500/100000]\n",
      "Train Loss: 4.9927, Train Accuracy: 0.1239\n",
      "Train Precision (micro): 0.1239, Train Precision (macro): 0.0080\n",
      "Train Recall (micro): 0.1239, Train Recall (macro): 0.0167\n",
      "Train F1 (micro): 0.1239, Train F1 (macro): 0.0094\n",
      "\n",
      "Val Loss: 4.9499, Val Accuracy: 0.1331\n",
      "Val Precision (micro): 0.1331, Val Precision (macro): 0.0154\n",
      "Val Recall (micro): 0.1331, Val Recall (macro): 0.0279\n",
      "Val F1 (micro): 0.1331, Val F1 (macro): 0.0162\n",
      "--------------------------------------------------------------------------------\n"
     ]
    },
    {
     "name": "stderr",
     "output_type": "stream",
     "text": [
      " 11%|█         | 10599/100000 [8:40:24<47:50:57,  1.93s/it] "
     ]
    },
    {
     "name": "stdout",
     "output_type": "stream",
     "text": [
      "Epoch [10600/100000]\n",
      "Train Loss: 5.0675, Train Accuracy: 0.1220\n",
      "Train Precision (micro): 0.1220, Train Precision (macro): 0.0116\n",
      "Train Recall (micro): 0.1220, Train Recall (macro): 0.0198\n",
      "Train F1 (micro): 0.1220, Train F1 (macro): 0.0112\n",
      "\n",
      "Val Loss: 4.9456, Val Accuracy: 0.1353\n",
      "Val Precision (micro): 0.1353, Val Precision (macro): 0.0127\n",
      "Val Recall (micro): 0.1353, Val Recall (macro): 0.0282\n",
      "Val F1 (micro): 0.1353, Val F1 (macro): 0.0152\n",
      "--------------------------------------------------------------------------------\n"
     ]
    },
    {
     "name": "stderr",
     "output_type": "stream",
     "text": [
      " 11%|█         | 10699/100000 [8:45:19<47:53:21,  1.93s/it] "
     ]
    },
    {
     "name": "stdout",
     "output_type": "stream",
     "text": [
      "Epoch [10700/100000]\n",
      "Train Loss: 4.9205, Train Accuracy: 0.1264\n",
      "Train Precision (micro): 0.1264, Train Precision (macro): 0.0113\n",
      "Train Recall (micro): 0.1264, Train Recall (macro): 0.0194\n",
      "Train F1 (micro): 0.1264, Train F1 (macro): 0.0115\n",
      "\n",
      "Val Loss: 4.9523, Val Accuracy: 0.1353\n",
      "Val Precision (micro): 0.1353, Val Precision (macro): 0.0140\n",
      "Val Recall (micro): 0.1353, Val Recall (macro): 0.0285\n",
      "Val F1 (micro): 0.1353, Val F1 (macro): 0.0154\n",
      "--------------------------------------------------------------------------------\n"
     ]
    },
    {
     "name": "stderr",
     "output_type": "stream",
     "text": [
      " 11%|█         | 10799/100000 [8:50:15<47:42:56,  1.93s/it] "
     ]
    },
    {
     "name": "stdout",
     "output_type": "stream",
     "text": [
      "Epoch [10800/100000]\n",
      "Train Loss: 4.9998, Train Accuracy: 0.1272\n",
      "Train Precision (micro): 0.1272, Train Precision (macro): 0.0104\n",
      "Train Recall (micro): 0.1272, Train Recall (macro): 0.0177\n",
      "Train F1 (micro): 0.1272, Train F1 (macro): 0.0103\n",
      "\n",
      "Val Loss: 4.9434, Val Accuracy: 0.1422\n",
      "Val Precision (micro): 0.1422, Val Precision (macro): 0.0145\n",
      "Val Recall (micro): 0.1422, Val Recall (macro): 0.0290\n",
      "Val F1 (micro): 0.1422, Val F1 (macro): 0.0163\n",
      "--------------------------------------------------------------------------------\n"
     ]
    },
    {
     "name": "stderr",
     "output_type": "stream",
     "text": [
      " 11%|█         | 10899/100000 [8:55:10<47:56:20,  1.94s/it] "
     ]
    },
    {
     "name": "stdout",
     "output_type": "stream",
     "text": [
      "Epoch [10900/100000]\n",
      "Train Loss: 4.9713, Train Accuracy: 0.1264\n",
      "Train Precision (micro): 0.1264, Train Precision (macro): 0.0100\n",
      "Train Recall (micro): 0.1264, Train Recall (macro): 0.0187\n",
      "Train F1 (micro): 0.1264, Train F1 (macro): 0.0107\n",
      "\n",
      "Val Loss: 4.9332, Val Accuracy: 0.1403\n",
      "Val Precision (micro): 0.1403, Val Precision (macro): 0.0139\n",
      "Val Recall (micro): 0.1403, Val Recall (macro): 0.0292\n",
      "Val F1 (micro): 0.1403, Val F1 (macro): 0.0158\n",
      "--------------------------------------------------------------------------------\n"
     ]
    },
    {
     "name": "stderr",
     "output_type": "stream",
     "text": [
      " 11%|█         | 10999/100000 [9:00:07<47:45:53,  1.93s/it] "
     ]
    },
    {
     "name": "stdout",
     "output_type": "stream",
     "text": [
      "Epoch [11000/100000]\n",
      "Train Loss: 5.0437, Train Accuracy: 0.1233\n",
      "Train Precision (micro): 0.1233, Train Precision (macro): 0.0113\n",
      "Train Recall (micro): 0.1233, Train Recall (macro): 0.0190\n",
      "Train F1 (micro): 0.1233, Train F1 (macro): 0.0112\n",
      "\n",
      "Val Loss: 4.9357, Val Accuracy: 0.1347\n",
      "Val Precision (micro): 0.1347, Val Precision (macro): 0.0129\n",
      "Val Recall (micro): 0.1347, Val Recall (macro): 0.0264\n",
      "Val F1 (micro): 0.1347, Val F1 (macro): 0.0144\n",
      "--------------------------------------------------------------------------------\n"
     ]
    },
    {
     "name": "stderr",
     "output_type": "stream",
     "text": [
      " 11%|█         | 11099/100000 [9:05:03<47:35:32,  1.93s/it] "
     ]
    },
    {
     "name": "stdout",
     "output_type": "stream",
     "text": [
      "Epoch [11100/100000]\n",
      "Train Loss: 4.9659, Train Accuracy: 0.1300\n",
      "Train Precision (micro): 0.1300, Train Precision (macro): 0.0122\n",
      "Train Recall (micro): 0.1300, Train Recall (macro): 0.0182\n",
      "Train F1 (micro): 0.1300, Train F1 (macro): 0.0110\n",
      "\n",
      "Val Loss: 4.9441, Val Accuracy: 0.1400\n",
      "Val Precision (micro): 0.1400, Val Precision (macro): 0.0143\n",
      "Val Recall (micro): 0.1400, Val Recall (macro): 0.0281\n",
      "Val F1 (micro): 0.1400, Val F1 (macro): 0.0158\n",
      "--------------------------------------------------------------------------------\n"
     ]
    },
    {
     "name": "stderr",
     "output_type": "stream",
     "text": [
      " 11%|█         | 11199/100000 [9:09:58<47:31:36,  1.93s/it] "
     ]
    },
    {
     "name": "stdout",
     "output_type": "stream",
     "text": [
      "Epoch [11200/100000]\n",
      "Train Loss: 4.9737, Train Accuracy: 0.1316\n",
      "Train Precision (micro): 0.1316, Train Precision (macro): 0.0132\n",
      "Train Recall (micro): 0.1316, Train Recall (macro): 0.0212\n",
      "Train F1 (micro): 0.1316, Train F1 (macro): 0.0120\n",
      "\n",
      "Val Loss: 4.9423, Val Accuracy: 0.1359\n",
      "Val Precision (micro): 0.1359, Val Precision (macro): 0.0145\n",
      "Val Recall (micro): 0.1359, Val Recall (macro): 0.0282\n",
      "Val F1 (micro): 0.1359, Val F1 (macro): 0.0161\n",
      "--------------------------------------------------------------------------------\n"
     ]
    },
    {
     "name": "stderr",
     "output_type": "stream",
     "text": [
      " 11%|█▏        | 11299/100000 [9:14:54<47:25:09,  1.92s/it] "
     ]
    },
    {
     "name": "stdout",
     "output_type": "stream",
     "text": [
      "Epoch [11300/100000]\n",
      "Train Loss: 4.9799, Train Accuracy: 0.1248\n",
      "Train Precision (micro): 0.1248, Train Precision (macro): 0.0110\n",
      "Train Recall (micro): 0.1248, Train Recall (macro): 0.0189\n",
      "Train F1 (micro): 0.1248, Train F1 (macro): 0.0115\n",
      "\n",
      "Val Loss: 4.9347, Val Accuracy: 0.1356\n",
      "Val Precision (micro): 0.1356, Val Precision (macro): 0.0161\n",
      "Val Recall (micro): 0.1356, Val Recall (macro): 0.0286\n",
      "Val F1 (micro): 0.1356, Val F1 (macro): 0.0169\n",
      "--------------------------------------------------------------------------------\n"
     ]
    },
    {
     "name": "stderr",
     "output_type": "stream",
     "text": [
      " 11%|█▏        | 11399/100000 [9:19:50<47:26:33,  1.93s/it] "
     ]
    },
    {
     "name": "stdout",
     "output_type": "stream",
     "text": [
      "Epoch [11400/100000]\n",
      "Train Loss: 4.9615, Train Accuracy: 0.1267\n",
      "Train Precision (micro): 0.1267, Train Precision (macro): 0.0091\n",
      "Train Recall (micro): 0.1267, Train Recall (macro): 0.0179\n",
      "Train F1 (micro): 0.1267, Train F1 (macro): 0.0104\n",
      "\n",
      "Val Loss: 4.9398, Val Accuracy: 0.1356\n",
      "Val Precision (micro): 0.1356, Val Precision (macro): 0.0169\n",
      "Val Recall (micro): 0.1356, Val Recall (macro): 0.0282\n",
      "Val F1 (micro): 0.1356, Val F1 (macro): 0.0170\n",
      "--------------------------------------------------------------------------------\n"
     ]
    },
    {
     "name": "stderr",
     "output_type": "stream",
     "text": [
      " 11%|█▏        | 11499/100000 [9:24:45<47:23:17,  1.93s/it] "
     ]
    },
    {
     "name": "stdout",
     "output_type": "stream",
     "text": [
      "Epoch [11500/100000]\n",
      "Train Loss: 5.0041, Train Accuracy: 0.1183\n",
      "Train Precision (micro): 0.1183, Train Precision (macro): 0.0081\n",
      "Train Recall (micro): 0.1183, Train Recall (macro): 0.0181\n",
      "Train F1 (micro): 0.1183, Train F1 (macro): 0.0095\n",
      "\n",
      "Val Loss: 4.9373, Val Accuracy: 0.1388\n",
      "Val Precision (micro): 0.1388, Val Precision (macro): 0.0155\n",
      "Val Recall (micro): 0.1388, Val Recall (macro): 0.0319\n",
      "Val F1 (micro): 0.1388, Val F1 (macro): 0.0179\n",
      "--------------------------------------------------------------------------------\n"
     ]
    },
    {
     "name": "stderr",
     "output_type": "stream",
     "text": [
      " 12%|█▏        | 11599/100000 [9:29:40<47:17:25,  1.93s/it] "
     ]
    },
    {
     "name": "stdout",
     "output_type": "stream",
     "text": [
      "Epoch [11600/100000]\n",
      "Train Loss: 5.0234, Train Accuracy: 0.1186\n",
      "Train Precision (micro): 0.1186, Train Precision (macro): 0.0128\n",
      "Train Recall (micro): 0.1186, Train Recall (macro): 0.0217\n",
      "Train F1 (micro): 0.1186, Train F1 (macro): 0.0128\n",
      "\n",
      "Val Loss: 4.9286, Val Accuracy: 0.1347\n",
      "Val Precision (micro): 0.1347, Val Precision (macro): 0.0153\n",
      "Val Recall (micro): 0.1347, Val Recall (macro): 0.0288\n",
      "Val F1 (micro): 0.1347, Val F1 (macro): 0.0171\n",
      "--------------------------------------------------------------------------------\n"
     ]
    },
    {
     "name": "stderr",
     "output_type": "stream",
     "text": [
      " 12%|█▏        | 11699/100000 [9:34:35<47:17:29,  1.93s/it] "
     ]
    },
    {
     "name": "stdout",
     "output_type": "stream",
     "text": [
      "Epoch [11700/100000]\n",
      "Train Loss: 4.9713, Train Accuracy: 0.1300\n",
      "Train Precision (micro): 0.1300, Train Precision (macro): 0.0125\n",
      "Train Recall (micro): 0.1300, Train Recall (macro): 0.0201\n",
      "Train F1 (micro): 0.1300, Train F1 (macro): 0.0126\n",
      "\n",
      "Val Loss: 4.9361, Val Accuracy: 0.1403\n",
      "Val Precision (micro): 0.1403, Val Precision (macro): 0.0158\n",
      "Val Recall (micro): 0.1403, Val Recall (macro): 0.0295\n",
      "Val F1 (micro): 0.1403, Val F1 (macro): 0.0164\n",
      "--------------------------------------------------------------------------------\n"
     ]
    },
    {
     "name": "stderr",
     "output_type": "stream",
     "text": [
      " 12%|█▏        | 11799/100000 [9:39:31<47:19:28,  1.93s/it] "
     ]
    },
    {
     "name": "stdout",
     "output_type": "stream",
     "text": [
      "Epoch [11800/100000]\n",
      "Train Loss: 4.9660, Train Accuracy: 0.1339\n",
      "Train Precision (micro): 0.1339, Train Precision (macro): 0.0122\n",
      "Train Recall (micro): 0.1339, Train Recall (macro): 0.0190\n",
      "Train F1 (micro): 0.1339, Train F1 (macro): 0.0121\n",
      "\n",
      "Val Loss: 4.9281, Val Accuracy: 0.1388\n",
      "Val Precision (micro): 0.1388, Val Precision (macro): 0.0144\n",
      "Val Recall (micro): 0.1388, Val Recall (macro): 0.0278\n",
      "Val F1 (micro): 0.1388, Val F1 (macro): 0.0155\n",
      "--------------------------------------------------------------------------------\n"
     ]
    },
    {
     "name": "stderr",
     "output_type": "stream",
     "text": [
      " 12%|█▏        | 11899/100000 [9:44:28<47:02:30,  1.92s/it] "
     ]
    },
    {
     "name": "stdout",
     "output_type": "stream",
     "text": [
      "Epoch [11900/100000]\n",
      "Train Loss: 4.9178, Train Accuracy: 0.1338\n",
      "Train Precision (micro): 0.1338, Train Precision (macro): 0.0116\n",
      "Train Recall (micro): 0.1338, Train Recall (macro): 0.0195\n",
      "Train F1 (micro): 0.1338, Train F1 (macro): 0.0118\n",
      "\n",
      "Val Loss: 4.9139, Val Accuracy: 0.1338\n",
      "Val Precision (micro): 0.1338, Val Precision (macro): 0.0155\n",
      "Val Recall (micro): 0.1338, Val Recall (macro): 0.0277\n",
      "Val F1 (micro): 0.1338, Val F1 (macro): 0.0164\n",
      "--------------------------------------------------------------------------------\n"
     ]
    },
    {
     "name": "stderr",
     "output_type": "stream",
     "text": [
      " 12%|█▏        | 11999/100000 [9:49:23<46:59:09,  1.92s/it] "
     ]
    },
    {
     "name": "stdout",
     "output_type": "stream",
     "text": [
      "Epoch [12000/100000]\n",
      "Train Loss: 4.9862, Train Accuracy: 0.1306\n",
      "Train Precision (micro): 0.1306, Train Precision (macro): 0.0127\n",
      "Train Recall (micro): 0.1306, Train Recall (macro): 0.0193\n",
      "Train F1 (micro): 0.1306, Train F1 (macro): 0.0120\n",
      "\n",
      "Val Loss: 4.9223, Val Accuracy: 0.1381\n",
      "Val Precision (micro): 0.1381, Val Precision (macro): 0.0146\n",
      "Val Recall (micro): 0.1381, Val Recall (macro): 0.0301\n",
      "Val F1 (micro): 0.1381, Val F1 (macro): 0.0165\n",
      "--------------------------------------------------------------------------------\n"
     ]
    },
    {
     "name": "stderr",
     "output_type": "stream",
     "text": [
      " 12%|█▏        | 12099/100000 [9:54:22<47:01:07,  1.93s/it] "
     ]
    },
    {
     "name": "stdout",
     "output_type": "stream",
     "text": [
      "Epoch [12100/100000]\n",
      "Train Loss: 4.9706, Train Accuracy: 0.1298\n",
      "Train Precision (micro): 0.1298, Train Precision (macro): 0.0123\n",
      "Train Recall (micro): 0.1298, Train Recall (macro): 0.0211\n",
      "Train F1 (micro): 0.1298, Train F1 (macro): 0.0125\n",
      "\n",
      "Val Loss: 4.9019, Val Accuracy: 0.1434\n",
      "Val Precision (micro): 0.1434, Val Precision (macro): 0.0140\n",
      "Val Recall (micro): 0.1434, Val Recall (macro): 0.0288\n",
      "Val F1 (micro): 0.1434, Val F1 (macro): 0.0159\n",
      "--------------------------------------------------------------------------------\n"
     ]
    },
    {
     "name": "stderr",
     "output_type": "stream",
     "text": [
      " 12%|█▏        | 12199/100000 [9:59:17<47:06:12,  1.93s/it] "
     ]
    },
    {
     "name": "stdout",
     "output_type": "stream",
     "text": [
      "Epoch [12200/100000]\n",
      "Train Loss: 4.9641, Train Accuracy: 0.1333\n",
      "Train Precision (micro): 0.1333, Train Precision (macro): 0.0104\n",
      "Train Recall (micro): 0.1333, Train Recall (macro): 0.0181\n",
      "Train F1 (micro): 0.1333, Train F1 (macro): 0.0104\n",
      "\n",
      "Val Loss: 4.9304, Val Accuracy: 0.1388\n",
      "Val Precision (micro): 0.1388, Val Precision (macro): 0.0132\n",
      "Val Recall (micro): 0.1388, Val Recall (macro): 0.0272\n",
      "Val F1 (micro): 0.1388, Val F1 (macro): 0.0151\n",
      "--------------------------------------------------------------------------------\n"
     ]
    },
    {
     "name": "stderr",
     "output_type": "stream",
     "text": [
      " 12%|█▏        | 12299/100000 [10:04:14<46:56:01,  1.93s/it] "
     ]
    },
    {
     "name": "stdout",
     "output_type": "stream",
     "text": [
      "Epoch [12300/100000]\n",
      "Train Loss: 4.9344, Train Accuracy: 0.1334\n",
      "Train Precision (micro): 0.1334, Train Precision (macro): 0.0130\n",
      "Train Recall (micro): 0.1334, Train Recall (macro): 0.0210\n",
      "Train F1 (micro): 0.1334, Train F1 (macro): 0.0125\n",
      "\n",
      "Val Loss: 4.9148, Val Accuracy: 0.1350\n",
      "Val Precision (micro): 0.1350, Val Precision (macro): 0.0148\n",
      "Val Recall (micro): 0.1350, Val Recall (macro): 0.0285\n",
      "Val F1 (micro): 0.1350, Val F1 (macro): 0.0161\n",
      "--------------------------------------------------------------------------------\n"
     ]
    },
    {
     "name": "stderr",
     "output_type": "stream",
     "text": [
      " 12%|█▏        | 12399/100000 [10:09:10<46:56:25,  1.93s/it] "
     ]
    },
    {
     "name": "stdout",
     "output_type": "stream",
     "text": [
      "Epoch [12400/100000]\n",
      "Train Loss: 4.9634, Train Accuracy: 0.1288\n",
      "Train Precision (micro): 0.1288, Train Precision (macro): 0.0131\n",
      "Train Recall (micro): 0.1288, Train Recall (macro): 0.0208\n",
      "Train F1 (micro): 0.1288, Train F1 (macro): 0.0131\n",
      "\n",
      "Val Loss: 4.9171, Val Accuracy: 0.1366\n",
      "Val Precision (micro): 0.1366, Val Precision (macro): 0.0155\n",
      "Val Recall (micro): 0.1366, Val Recall (macro): 0.0280\n",
      "Val F1 (micro): 0.1366, Val F1 (macro): 0.0164\n",
      "--------------------------------------------------------------------------------\n"
     ]
    },
    {
     "name": "stderr",
     "output_type": "stream",
     "text": [
      " 12%|█▏        | 12499/100000 [10:14:05<46:41:54,  1.92s/it] "
     ]
    },
    {
     "name": "stdout",
     "output_type": "stream",
     "text": [
      "Epoch [12500/100000]\n",
      "Train Loss: 4.9872, Train Accuracy: 0.1359\n",
      "Train Precision (micro): 0.1359, Train Precision (macro): 0.0125\n",
      "Train Recall (micro): 0.1359, Train Recall (macro): 0.0213\n",
      "Train F1 (micro): 0.1359, Train F1 (macro): 0.0133\n",
      "\n",
      "Val Loss: 4.9163, Val Accuracy: 0.1391\n",
      "Val Precision (micro): 0.1391, Val Precision (macro): 0.0158\n",
      "Val Recall (micro): 0.1391, Val Recall (macro): 0.0304\n",
      "Val F1 (micro): 0.1391, Val F1 (macro): 0.0170\n",
      "--------------------------------------------------------------------------------\n"
     ]
    },
    {
     "name": "stderr",
     "output_type": "stream",
     "text": [
      " 13%|█▎        | 12599/100000 [10:19:01<46:39:12,  1.92s/it] "
     ]
    },
    {
     "name": "stdout",
     "output_type": "stream",
     "text": [
      "Epoch [12600/100000]\n",
      "Train Loss: 4.9612, Train Accuracy: 0.1230\n",
      "Train Precision (micro): 0.1230, Train Precision (macro): 0.0124\n",
      "Train Recall (micro): 0.1230, Train Recall (macro): 0.0193\n",
      "Train F1 (micro): 0.1230, Train F1 (macro): 0.0122\n",
      "\n",
      "Val Loss: 4.9062, Val Accuracy: 0.1391\n",
      "Val Precision (micro): 0.1391, Val Precision (macro): 0.0155\n",
      "Val Recall (micro): 0.1391, Val Recall (macro): 0.0304\n",
      "Val F1 (micro): 0.1391, Val F1 (macro): 0.0173\n",
      "--------------------------------------------------------------------------------\n"
     ]
    },
    {
     "name": "stderr",
     "output_type": "stream",
     "text": [
      " 13%|█▎        | 12699/100000 [10:23:57<46:40:06,  1.92s/it] "
     ]
    },
    {
     "name": "stdout",
     "output_type": "stream",
     "text": [
      "Epoch [12700/100000]\n",
      "Train Loss: 4.9164, Train Accuracy: 0.1333\n",
      "Train Precision (micro): 0.1333, Train Precision (macro): 0.0139\n",
      "Train Recall (micro): 0.1333, Train Recall (macro): 0.0223\n",
      "Train F1 (micro): 0.1333, Train F1 (macro): 0.0140\n",
      "\n",
      "Val Loss: 4.9066, Val Accuracy: 0.1406\n",
      "Val Precision (micro): 0.1406, Val Precision (macro): 0.0129\n",
      "Val Recall (micro): 0.1406, Val Recall (macro): 0.0290\n",
      "Val F1 (micro): 0.1406, Val F1 (macro): 0.0150\n",
      "--------------------------------------------------------------------------------\n"
     ]
    },
    {
     "name": "stderr",
     "output_type": "stream",
     "text": [
      " 13%|█▎        | 12799/100000 [10:28:52<46:34:28,  1.92s/it] "
     ]
    },
    {
     "name": "stdout",
     "output_type": "stream",
     "text": [
      "Epoch [12800/100000]\n",
      "Train Loss: 4.9675, Train Accuracy: 0.1292\n",
      "Train Precision (micro): 0.1292, Train Precision (macro): 0.0113\n",
      "Train Recall (micro): 0.1292, Train Recall (macro): 0.0207\n",
      "Train F1 (micro): 0.1292, Train F1 (macro): 0.0117\n",
      "\n",
      "Val Loss: 4.9003, Val Accuracy: 0.1381\n",
      "Val Precision (micro): 0.1381, Val Precision (macro): 0.0144\n",
      "Val Recall (micro): 0.1381, Val Recall (macro): 0.0288\n",
      "Val F1 (micro): 0.1381, Val F1 (macro): 0.0160\n",
      "--------------------------------------------------------------------------------\n"
     ]
    },
    {
     "name": "stderr",
     "output_type": "stream",
     "text": [
      " 13%|█▎        | 12899/100000 [10:33:46<46:28:45,  1.92s/it] "
     ]
    },
    {
     "name": "stdout",
     "output_type": "stream",
     "text": [
      "Epoch [12900/100000]\n",
      "Train Loss: 4.9421, Train Accuracy: 0.1259\n",
      "Train Precision (micro): 0.1259, Train Precision (macro): 0.0110\n",
      "Train Recall (micro): 0.1259, Train Recall (macro): 0.0196\n",
      "Train F1 (micro): 0.1259, Train F1 (macro): 0.0117\n",
      "\n",
      "Val Loss: 4.9015, Val Accuracy: 0.1381\n",
      "Val Precision (micro): 0.1381, Val Precision (macro): 0.0143\n",
      "Val Recall (micro): 0.1381, Val Recall (macro): 0.0271\n",
      "Val F1 (micro): 0.1381, Val F1 (macro): 0.0155\n",
      "--------------------------------------------------------------------------------\n"
     ]
    },
    {
     "name": "stderr",
     "output_type": "stream",
     "text": [
      " 13%|█▎        | 12999/100000 [10:38:41<46:26:58,  1.92s/it] "
     ]
    },
    {
     "name": "stdout",
     "output_type": "stream",
     "text": [
      "Epoch [13000/100000]\n",
      "Train Loss: 4.8993, Train Accuracy: 0.1319\n",
      "Train Precision (micro): 0.1319, Train Precision (macro): 0.0111\n",
      "Train Recall (micro): 0.1319, Train Recall (macro): 0.0194\n",
      "Train F1 (micro): 0.1319, Train F1 (macro): 0.0112\n",
      "\n",
      "Val Loss: 4.9033, Val Accuracy: 0.1378\n",
      "Val Precision (micro): 0.1378, Val Precision (macro): 0.0175\n",
      "Val Recall (micro): 0.1378, Val Recall (macro): 0.0296\n",
      "Val F1 (micro): 0.1378, Val F1 (macro): 0.0179\n",
      "--------------------------------------------------------------------------------\n"
     ]
    },
    {
     "name": "stderr",
     "output_type": "stream",
     "text": [
      " 13%|█▎        | 13099/100000 [10:43:37<46:36:31,  1.93s/it] "
     ]
    },
    {
     "name": "stdout",
     "output_type": "stream",
     "text": [
      "Epoch [13100/100000]\n",
      "Train Loss: 4.9394, Train Accuracy: 0.1292\n",
      "Train Precision (micro): 0.1292, Train Precision (macro): 0.0126\n",
      "Train Recall (micro): 0.1292, Train Recall (macro): 0.0220\n",
      "Train F1 (micro): 0.1292, Train F1 (macro): 0.0137\n",
      "\n",
      "Val Loss: 4.9024, Val Accuracy: 0.1353\n",
      "Val Precision (micro): 0.1353, Val Precision (macro): 0.0163\n",
      "Val Recall (micro): 0.1353, Val Recall (macro): 0.0305\n",
      "Val F1 (micro): 0.1353, Val F1 (macro): 0.0180\n",
      "--------------------------------------------------------------------------------\n"
     ]
    },
    {
     "name": "stderr",
     "output_type": "stream",
     "text": [
      " 13%|█▎        | 13199/100000 [10:48:32<46:28:41,  1.93s/it] "
     ]
    },
    {
     "name": "stdout",
     "output_type": "stream",
     "text": [
      "Epoch [13200/100000]\n",
      "Train Loss: 4.9245, Train Accuracy: 0.1369\n",
      "Train Precision (micro): 0.1369, Train Precision (macro): 0.0145\n",
      "Train Recall (micro): 0.1369, Train Recall (macro): 0.0208\n",
      "Train F1 (micro): 0.1369, Train F1 (macro): 0.0135\n",
      "\n",
      "Val Loss: 4.8978, Val Accuracy: 0.1419\n",
      "Val Precision (micro): 0.1419, Val Precision (macro): 0.0151\n",
      "Val Recall (micro): 0.1419, Val Recall (macro): 0.0307\n",
      "Val F1 (micro): 0.1419, Val F1 (macro): 0.0172\n",
      "--------------------------------------------------------------------------------\n"
     ]
    },
    {
     "name": "stderr",
     "output_type": "stream",
     "text": [
      " 13%|█▎        | 13299/100000 [10:53:30<46:35:51,  1.93s/it] "
     ]
    },
    {
     "name": "stdout",
     "output_type": "stream",
     "text": [
      "Epoch [13300/100000]\n",
      "Train Loss: 4.9497, Train Accuracy: 0.1261\n",
      "Train Precision (micro): 0.1261, Train Precision (macro): 0.0110\n",
      "Train Recall (micro): 0.1261, Train Recall (macro): 0.0188\n",
      "Train F1 (micro): 0.1261, Train F1 (macro): 0.0116\n",
      "\n",
      "Val Loss: 4.8830, Val Accuracy: 0.1422\n",
      "Val Precision (micro): 0.1422, Val Precision (macro): 0.0180\n",
      "Val Recall (micro): 0.1422, Val Recall (macro): 0.0321\n",
      "Val F1 (micro): 0.1422, Val F1 (macro): 0.0193\n",
      "--------------------------------------------------------------------------------\n"
     ]
    },
    {
     "name": "stderr",
     "output_type": "stream",
     "text": [
      " 13%|█▎        | 13399/100000 [10:58:25<46:18:09,  1.92s/it] "
     ]
    },
    {
     "name": "stdout",
     "output_type": "stream",
     "text": [
      "Epoch [13400/100000]\n",
      "Train Loss: 4.9197, Train Accuracy: 0.1234\n",
      "Train Precision (micro): 0.1234, Train Precision (macro): 0.0100\n",
      "Train Recall (micro): 0.1234, Train Recall (macro): 0.0209\n",
      "Train F1 (micro): 0.1234, Train F1 (macro): 0.0117\n",
      "\n",
      "Val Loss: 4.9008, Val Accuracy: 0.1400\n",
      "Val Precision (micro): 0.1400, Val Precision (macro): 0.0178\n",
      "Val Recall (micro): 0.1400, Val Recall (macro): 0.0306\n",
      "Val F1 (micro): 0.1400, Val F1 (macro): 0.0181\n",
      "--------------------------------------------------------------------------------\n"
     ]
    },
    {
     "name": "stderr",
     "output_type": "stream",
     "text": [
      " 13%|█▎        | 13499/100000 [11:03:21<46:25:55,  1.93s/it] "
     ]
    },
    {
     "name": "stdout",
     "output_type": "stream",
     "text": [
      "Epoch [13500/100000]\n",
      "Train Loss: 4.9315, Train Accuracy: 0.1266\n",
      "Train Precision (micro): 0.1266, Train Precision (macro): 0.0133\n",
      "Train Recall (micro): 0.1266, Train Recall (macro): 0.0215\n",
      "Train F1 (micro): 0.1266, Train F1 (macro): 0.0137\n",
      "\n",
      "Val Loss: 4.8858, Val Accuracy: 0.1462\n",
      "Val Precision (micro): 0.1462, Val Precision (macro): 0.0163\n",
      "Val Recall (micro): 0.1462, Val Recall (macro): 0.0327\n",
      "Val F1 (micro): 0.1462, Val F1 (macro): 0.0190\n",
      "--------------------------------------------------------------------------------\n"
     ]
    },
    {
     "name": "stderr",
     "output_type": "stream",
     "text": [
      " 14%|█▎        | 13599/100000 [11:08:16<46:27:48,  1.94s/it] "
     ]
    },
    {
     "name": "stdout",
     "output_type": "stream",
     "text": [
      "Epoch [13600/100000]\n",
      "Train Loss: 4.8435, Train Accuracy: 0.1345\n",
      "Train Precision (micro): 0.1345, Train Precision (macro): 0.0131\n",
      "Train Recall (micro): 0.1345, Train Recall (macro): 0.0235\n",
      "Train F1 (micro): 0.1345, Train F1 (macro): 0.0145\n",
      "\n",
      "Val Loss: 4.8790, Val Accuracy: 0.1416\n",
      "Val Precision (micro): 0.1416, Val Precision (macro): 0.0167\n",
      "Val Recall (micro): 0.1416, Val Recall (macro): 0.0302\n",
      "Val F1 (micro): 0.1416, Val F1 (macro): 0.0178\n",
      "--------------------------------------------------------------------------------\n"
     ]
    },
    {
     "name": "stderr",
     "output_type": "stream",
     "text": [
      " 14%|█▎        | 13699/100000 [11:13:12<46:09:11,  1.93s/it] "
     ]
    },
    {
     "name": "stdout",
     "output_type": "stream",
     "text": [
      "Epoch [13700/100000]\n",
      "Train Loss: 4.8656, Train Accuracy: 0.1369\n",
      "Train Precision (micro): 0.1369, Train Precision (macro): 0.0123\n",
      "Train Recall (micro): 0.1369, Train Recall (macro): 0.0197\n",
      "Train F1 (micro): 0.1369, Train F1 (macro): 0.0125\n",
      "\n",
      "Val Loss: 4.8814, Val Accuracy: 0.1437\n",
      "Val Precision (micro): 0.1437, Val Precision (macro): 0.0181\n",
      "Val Recall (micro): 0.1437, Val Recall (macro): 0.0304\n",
      "Val F1 (micro): 0.1437, Val F1 (macro): 0.0180\n",
      "--------------------------------------------------------------------------------\n"
     ]
    },
    {
     "name": "stderr",
     "output_type": "stream",
     "text": [
      " 14%|█▍        | 13799/100000 [11:18:08<46:06:46,  1.93s/it] "
     ]
    },
    {
     "name": "stdout",
     "output_type": "stream",
     "text": [
      "Epoch [13800/100000]\n",
      "Train Loss: 4.9227, Train Accuracy: 0.1319\n",
      "Train Precision (micro): 0.1319, Train Precision (macro): 0.0115\n",
      "Train Recall (micro): 0.1319, Train Recall (macro): 0.0215\n",
      "Train F1 (micro): 0.1319, Train F1 (macro): 0.0128\n",
      "\n",
      "Val Loss: 4.8634, Val Accuracy: 0.1431\n",
      "Val Precision (micro): 0.1431, Val Precision (macro): 0.0182\n",
      "Val Recall (micro): 0.1431, Val Recall (macro): 0.0306\n",
      "Val F1 (micro): 0.1431, Val F1 (macro): 0.0192\n",
      "--------------------------------------------------------------------------------\n"
     ]
    },
    {
     "name": "stderr",
     "output_type": "stream",
     "text": [
      " 14%|█▍        | 13899/100000 [11:23:03<46:06:49,  1.93s/it] "
     ]
    },
    {
     "name": "stdout",
     "output_type": "stream",
     "text": [
      "Epoch [13900/100000]\n",
      "Train Loss: 4.8642, Train Accuracy: 0.1333\n",
      "Train Precision (micro): 0.1333, Train Precision (macro): 0.0122\n",
      "Train Recall (micro): 0.1333, Train Recall (macro): 0.0227\n",
      "Train F1 (micro): 0.1333, Train F1 (macro): 0.0132\n",
      "\n",
      "Val Loss: 4.8638, Val Accuracy: 0.1403\n",
      "Val Precision (micro): 0.1403, Val Precision (macro): 0.0183\n",
      "Val Recall (micro): 0.1403, Val Recall (macro): 0.0313\n",
      "Val F1 (micro): 0.1403, Val F1 (macro): 0.0189\n",
      "--------------------------------------------------------------------------------\n"
     ]
    },
    {
     "name": "stderr",
     "output_type": "stream",
     "text": [
      " 14%|█▍        | 13999/100000 [11:28:00<45:57:58,  1.92s/it] "
     ]
    },
    {
     "name": "stdout",
     "output_type": "stream",
     "text": [
      "Epoch [14000/100000]\n",
      "Train Loss: 4.9338, Train Accuracy: 0.1331\n",
      "Train Precision (micro): 0.1331, Train Precision (macro): 0.0144\n",
      "Train Recall (micro): 0.1331, Train Recall (macro): 0.0217\n",
      "Train F1 (micro): 0.1331, Train F1 (macro): 0.0138\n",
      "\n",
      "Val Loss: 4.8686, Val Accuracy: 0.1397\n",
      "Val Precision (micro): 0.1397, Val Precision (macro): 0.0172\n",
      "Val Recall (micro): 0.1397, Val Recall (macro): 0.0297\n",
      "Val F1 (micro): 0.1397, Val F1 (macro): 0.0175\n",
      "--------------------------------------------------------------------------------\n"
     ]
    },
    {
     "name": "stderr",
     "output_type": "stream",
     "text": [
      " 14%|█▍        | 14099/100000 [11:32:56<45:56:06,  1.93s/it] "
     ]
    },
    {
     "name": "stdout",
     "output_type": "stream",
     "text": [
      "Epoch [14100/100000]\n",
      "Train Loss: 4.8150, Train Accuracy: 0.1300\n",
      "Train Precision (micro): 0.1300, Train Precision (macro): 0.0151\n",
      "Train Recall (micro): 0.1300, Train Recall (macro): 0.0221\n",
      "Train F1 (micro): 0.1300, Train F1 (macro): 0.0150\n",
      "\n",
      "Val Loss: 4.8520, Val Accuracy: 0.1434\n",
      "Val Precision (micro): 0.1434, Val Precision (macro): 0.0169\n",
      "Val Recall (micro): 0.1434, Val Recall (macro): 0.0305\n",
      "Val F1 (micro): 0.1434, Val F1 (macro): 0.0187\n",
      "--------------------------------------------------------------------------------\n"
     ]
    },
    {
     "name": "stderr",
     "output_type": "stream",
     "text": [
      " 14%|█▍        | 14199/100000 [11:37:52<45:51:30,  1.92s/it] "
     ]
    },
    {
     "name": "stdout",
     "output_type": "stream",
     "text": [
      "Epoch [14200/100000]\n",
      "Train Loss: 4.8777, Train Accuracy: 0.1353\n",
      "Train Precision (micro): 0.1353, Train Precision (macro): 0.0138\n",
      "Train Recall (micro): 0.1353, Train Recall (macro): 0.0210\n",
      "Train F1 (micro): 0.1353, Train F1 (macro): 0.0137\n",
      "\n",
      "Val Loss: 4.8595, Val Accuracy: 0.1437\n",
      "Val Precision (micro): 0.1437, Val Precision (macro): 0.0160\n",
      "Val Recall (micro): 0.1437, Val Recall (macro): 0.0286\n",
      "Val F1 (micro): 0.1437, Val F1 (macro): 0.0174\n",
      "--------------------------------------------------------------------------------\n"
     ]
    },
    {
     "name": "stderr",
     "output_type": "stream",
     "text": [
      " 14%|█▍        | 14299/100000 [11:42:47<45:40:58,  1.92s/it] "
     ]
    },
    {
     "name": "stdout",
     "output_type": "stream",
     "text": [
      "Epoch [14300/100000]\n",
      "Train Loss: 4.8683, Train Accuracy: 0.1306\n",
      "Train Precision (micro): 0.1306, Train Precision (macro): 0.0158\n",
      "Train Recall (micro): 0.1306, Train Recall (macro): 0.0217\n",
      "Train F1 (micro): 0.1306, Train F1 (macro): 0.0143\n",
      "\n",
      "Val Loss: 4.8540, Val Accuracy: 0.1412\n",
      "Val Precision (micro): 0.1412, Val Precision (macro): 0.0191\n",
      "Val Recall (micro): 0.1412, Val Recall (macro): 0.0317\n",
      "Val F1 (micro): 0.1412, Val F1 (macro): 0.0197\n",
      "--------------------------------------------------------------------------------\n"
     ]
    },
    {
     "name": "stderr",
     "output_type": "stream",
     "text": [
      " 14%|█▍        | 14399/100000 [11:47:43<46:03:50,  1.94s/it] "
     ]
    },
    {
     "name": "stdout",
     "output_type": "stream",
     "text": [
      "Epoch [14400/100000]\n",
      "Train Loss: 4.8592, Train Accuracy: 0.1338\n",
      "Train Precision (micro): 0.1338, Train Precision (macro): 0.0148\n",
      "Train Recall (micro): 0.1338, Train Recall (macro): 0.0225\n",
      "Train F1 (micro): 0.1338, Train F1 (macro): 0.0147\n",
      "\n",
      "Val Loss: 4.8456, Val Accuracy: 0.1416\n",
      "Val Precision (micro): 0.1416, Val Precision (macro): 0.0178\n",
      "Val Recall (micro): 0.1416, Val Recall (macro): 0.0289\n",
      "Val F1 (micro): 0.1416, Val F1 (macro): 0.0189\n",
      "--------------------------------------------------------------------------------\n"
     ]
    },
    {
     "name": "stderr",
     "output_type": "stream",
     "text": [
      " 14%|█▍        | 14499/100000 [11:52:37<46:11:25,  1.94s/it] "
     ]
    },
    {
     "name": "stdout",
     "output_type": "stream",
     "text": [
      "Epoch [14500/100000]\n",
      "Train Loss: 4.8641, Train Accuracy: 0.1359\n",
      "Train Precision (micro): 0.1359, Train Precision (macro): 0.0150\n",
      "Train Recall (micro): 0.1359, Train Recall (macro): 0.0237\n",
      "Train F1 (micro): 0.1359, Train F1 (macro): 0.0153\n",
      "\n",
      "Val Loss: 4.8422, Val Accuracy: 0.1412\n",
      "Val Precision (micro): 0.1412, Val Precision (macro): 0.0175\n",
      "Val Recall (micro): 0.1412, Val Recall (macro): 0.0314\n",
      "Val F1 (micro): 0.1412, Val F1 (macro): 0.0195\n",
      "--------------------------------------------------------------------------------\n"
     ]
    },
    {
     "name": "stderr",
     "output_type": "stream",
     "text": [
      " 15%|█▍        | 14599/100000 [11:57:32<45:40:46,  1.93s/it] "
     ]
    },
    {
     "name": "stdout",
     "output_type": "stream",
     "text": [
      "Epoch [14600/100000]\n",
      "Train Loss: 4.8557, Train Accuracy: 0.1356\n",
      "Train Precision (micro): 0.1356, Train Precision (macro): 0.0155\n",
      "Train Recall (micro): 0.1356, Train Recall (macro): 0.0238\n",
      "Train F1 (micro): 0.1356, Train F1 (macro): 0.0150\n",
      "\n",
      "Val Loss: 4.8395, Val Accuracy: 0.1469\n",
      "Val Precision (micro): 0.1469, Val Precision (macro): 0.0199\n",
      "Val Recall (micro): 0.1469, Val Recall (macro): 0.0321\n",
      "Val F1 (micro): 0.1469, Val F1 (macro): 0.0204\n",
      "--------------------------------------------------------------------------------\n"
     ]
    },
    {
     "name": "stderr",
     "output_type": "stream",
     "text": [
      " 15%|█▍        | 14699/100000 [12:02:28<45:40:35,  1.93s/it] "
     ]
    },
    {
     "name": "stdout",
     "output_type": "stream",
     "text": [
      "Epoch [14700/100000]\n",
      "Train Loss: 4.9271, Train Accuracy: 0.1317\n",
      "Train Precision (micro): 0.1317, Train Precision (macro): 0.0169\n",
      "Train Recall (micro): 0.1317, Train Recall (macro): 0.0243\n",
      "Train F1 (micro): 0.1317, Train F1 (macro): 0.0158\n",
      "\n",
      "Val Loss: 4.8383, Val Accuracy: 0.1506\n",
      "Val Precision (micro): 0.1506, Val Precision (macro): 0.0199\n",
      "Val Recall (micro): 0.1506, Val Recall (macro): 0.0327\n",
      "Val F1 (micro): 0.1506, Val F1 (macro): 0.0207\n",
      "--------------------------------------------------------------------------------\n"
     ]
    },
    {
     "name": "stderr",
     "output_type": "stream",
     "text": [
      " 15%|█▍        | 14799/100000 [12:07:24<45:29:32,  1.92s/it] "
     ]
    },
    {
     "name": "stdout",
     "output_type": "stream",
     "text": [
      "Epoch [14800/100000]\n",
      "Train Loss: 4.8355, Train Accuracy: 0.1431\n",
      "Train Precision (micro): 0.1431, Train Precision (macro): 0.0184\n",
      "Train Recall (micro): 0.1431, Train Recall (macro): 0.0252\n",
      "Train F1 (micro): 0.1431, Train F1 (macro): 0.0177\n",
      "\n",
      "Val Loss: 4.8465, Val Accuracy: 0.1450\n",
      "Val Precision (micro): 0.1450, Val Precision (macro): 0.0201\n",
      "Val Recall (micro): 0.1450, Val Recall (macro): 0.0316\n",
      "Val F1 (micro): 0.1450, Val F1 (macro): 0.0196\n",
      "--------------------------------------------------------------------------------\n"
     ]
    },
    {
     "name": "stderr",
     "output_type": "stream",
     "text": [
      " 15%|█▍        | 14899/100000 [12:12:21<45:31:19,  1.93s/it] "
     ]
    },
    {
     "name": "stdout",
     "output_type": "stream",
     "text": [
      "Epoch [14900/100000]\n",
      "Train Loss: 4.9177, Train Accuracy: 0.1300\n",
      "Train Precision (micro): 0.1300, Train Precision (macro): 0.0126\n",
      "Train Recall (micro): 0.1300, Train Recall (macro): 0.0205\n",
      "Train F1 (micro): 0.1300, Train F1 (macro): 0.0128\n",
      "\n",
      "Val Loss: 4.8367, Val Accuracy: 0.1431\n",
      "Val Precision (micro): 0.1431, Val Precision (macro): 0.0186\n",
      "Val Recall (micro): 0.1431, Val Recall (macro): 0.0309\n",
      "Val F1 (micro): 0.1431, Val F1 (macro): 0.0193\n",
      "--------------------------------------------------------------------------------\n"
     ]
    },
    {
     "name": "stderr",
     "output_type": "stream",
     "text": [
      " 15%|█▍        | 14999/100000 [12:17:15<45:17:11,  1.92s/it] "
     ]
    },
    {
     "name": "stdout",
     "output_type": "stream",
     "text": [
      "Epoch [15000/100000]\n",
      "Train Loss: 4.9476, Train Accuracy: 0.1328\n",
      "Train Precision (micro): 0.1328, Train Precision (macro): 0.0168\n",
      "Train Recall (micro): 0.1328, Train Recall (macro): 0.0221\n",
      "Train F1 (micro): 0.1328, Train F1 (macro): 0.0152\n",
      "\n",
      "Val Loss: 4.8383, Val Accuracy: 0.1459\n",
      "Val Precision (micro): 0.1459, Val Precision (macro): 0.0179\n",
      "Val Recall (micro): 0.1459, Val Recall (macro): 0.0336\n",
      "Val F1 (micro): 0.1459, Val F1 (macro): 0.0200\n",
      "--------------------------------------------------------------------------------\n"
     ]
    },
    {
     "name": "stderr",
     "output_type": "stream",
     "text": [
      " 15%|█▌        | 15099/100000 [12:22:11<45:28:45,  1.93s/it] "
     ]
    },
    {
     "name": "stdout",
     "output_type": "stream",
     "text": [
      "Epoch [15100/100000]\n",
      "Train Loss: 4.8291, Train Accuracy: 0.1297\n",
      "Train Precision (micro): 0.1297, Train Precision (macro): 0.0151\n",
      "Train Recall (micro): 0.1297, Train Recall (macro): 0.0234\n",
      "Train F1 (micro): 0.1297, Train F1 (macro): 0.0154\n",
      "\n",
      "Val Loss: 4.8277, Val Accuracy: 0.1416\n",
      "Val Precision (micro): 0.1416, Val Precision (macro): 0.0203\n",
      "Val Recall (micro): 0.1416, Val Recall (macro): 0.0330\n",
      "Val F1 (micro): 0.1416, Val F1 (macro): 0.0208\n",
      "--------------------------------------------------------------------------------\n"
     ]
    },
    {
     "name": "stderr",
     "output_type": "stream",
     "text": [
      " 15%|█▌        | 15199/100000 [12:27:06<45:38:36,  1.94s/it] "
     ]
    },
    {
     "name": "stdout",
     "output_type": "stream",
     "text": [
      "Epoch [15200/100000]\n",
      "Train Loss: 4.8863, Train Accuracy: 0.1392\n",
      "Train Precision (micro): 0.1392, Train Precision (macro): 0.0166\n",
      "Train Recall (micro): 0.1392, Train Recall (macro): 0.0240\n",
      "Train F1 (micro): 0.1392, Train F1 (macro): 0.0158\n",
      "\n",
      "Val Loss: 4.8231, Val Accuracy: 0.1412\n",
      "Val Precision (micro): 0.1412, Val Precision (macro): 0.0190\n",
      "Val Recall (micro): 0.1412, Val Recall (macro): 0.0303\n",
      "Val F1 (micro): 0.1412, Val F1 (macro): 0.0187\n",
      "--------------------------------------------------------------------------------\n"
     ]
    },
    {
     "name": "stderr",
     "output_type": "stream",
     "text": [
      " 15%|█▌        | 15299/100000 [12:32:01<45:12:56,  1.92s/it] "
     ]
    },
    {
     "name": "stdout",
     "output_type": "stream",
     "text": [
      "Epoch [15300/100000]\n",
      "Train Loss: 4.8388, Train Accuracy: 0.1397\n",
      "Train Precision (micro): 0.1397, Train Precision (macro): 0.0155\n",
      "Train Recall (micro): 0.1397, Train Recall (macro): 0.0251\n",
      "Train F1 (micro): 0.1397, Train F1 (macro): 0.0157\n",
      "\n",
      "Val Loss: 4.8084, Val Accuracy: 0.1487\n",
      "Val Precision (micro): 0.1487, Val Precision (macro): 0.0193\n",
      "Val Recall (micro): 0.1487, Val Recall (macro): 0.0327\n",
      "Val F1 (micro): 0.1487, Val F1 (macro): 0.0198\n",
      "--------------------------------------------------------------------------------\n"
     ]
    },
    {
     "name": "stderr",
     "output_type": "stream",
     "text": [
      " 15%|█▌        | 15399/100000 [12:36:56<45:13:32,  1.92s/it] "
     ]
    },
    {
     "name": "stdout",
     "output_type": "stream",
     "text": [
      "Epoch [15400/100000]\n",
      "Train Loss: 4.8722, Train Accuracy: 0.1344\n",
      "Train Precision (micro): 0.1344, Train Precision (macro): 0.0133\n",
      "Train Recall (micro): 0.1344, Train Recall (macro): 0.0215\n",
      "Train F1 (micro): 0.1344, Train F1 (macro): 0.0138\n",
      "\n",
      "Val Loss: 4.8083, Val Accuracy: 0.1484\n",
      "Val Precision (micro): 0.1484, Val Precision (macro): 0.0210\n",
      "Val Recall (micro): 0.1484, Val Recall (macro): 0.0342\n",
      "Val F1 (micro): 0.1484, Val F1 (macro): 0.0207\n",
      "--------------------------------------------------------------------------------\n"
     ]
    },
    {
     "name": "stderr",
     "output_type": "stream",
     "text": [
      " 15%|█▌        | 15499/100000 [12:41:52<45:08:51,  1.92s/it] "
     ]
    },
    {
     "name": "stdout",
     "output_type": "stream",
     "text": [
      "Epoch [15500/100000]\n",
      "Train Loss: 4.9175, Train Accuracy: 0.1289\n",
      "Train Precision (micro): 0.1289, Train Precision (macro): 0.0126\n",
      "Train Recall (micro): 0.1289, Train Recall (macro): 0.0188\n",
      "Train F1 (micro): 0.1289, Train F1 (macro): 0.0116\n",
      "\n",
      "Val Loss: 4.8178, Val Accuracy: 0.1409\n",
      "Val Precision (micro): 0.1409, Val Precision (macro): 0.0189\n",
      "Val Recall (micro): 0.1409, Val Recall (macro): 0.0309\n",
      "Val F1 (micro): 0.1409, Val F1 (macro): 0.0201\n",
      "--------------------------------------------------------------------------------\n"
     ]
    },
    {
     "name": "stderr",
     "output_type": "stream",
     "text": [
      " 16%|█▌        | 15599/100000 [12:46:49<45:07:12,  1.92s/it] "
     ]
    },
    {
     "name": "stdout",
     "output_type": "stream",
     "text": [
      "Epoch [15600/100000]\n",
      "Train Loss: 4.8631, Train Accuracy: 0.1372\n",
      "Train Precision (micro): 0.1372, Train Precision (macro): 0.0145\n",
      "Train Recall (micro): 0.1372, Train Recall (macro): 0.0255\n",
      "Train F1 (micro): 0.1372, Train F1 (macro): 0.0158\n",
      "\n",
      "Val Loss: 4.8094, Val Accuracy: 0.1487\n",
      "Val Precision (micro): 0.1487, Val Precision (macro): 0.0191\n",
      "Val Recall (micro): 0.1487, Val Recall (macro): 0.0330\n",
      "Val F1 (micro): 0.1487, Val F1 (macro): 0.0202\n",
      "--------------------------------------------------------------------------------\n"
     ]
    },
    {
     "name": "stderr",
     "output_type": "stream",
     "text": [
      " 16%|█▌        | 15699/100000 [12:51:45<45:10:20,  1.93s/it] "
     ]
    },
    {
     "name": "stdout",
     "output_type": "stream",
     "text": [
      "Epoch [15700/100000]\n",
      "Train Loss: 4.8432, Train Accuracy: 0.1416\n",
      "Train Precision (micro): 0.1416, Train Precision (macro): 0.0156\n",
      "Train Recall (micro): 0.1416, Train Recall (macro): 0.0237\n",
      "Train F1 (micro): 0.1416, Train F1 (macro): 0.0158\n",
      "\n",
      "Val Loss: 4.8119, Val Accuracy: 0.1437\n",
      "Val Precision (micro): 0.1437, Val Precision (macro): 0.0204\n",
      "Val Recall (micro): 0.1437, Val Recall (macro): 0.0312\n",
      "Val F1 (micro): 0.1437, Val F1 (macro): 0.0198\n",
      "--------------------------------------------------------------------------------\n"
     ]
    },
    {
     "name": "stderr",
     "output_type": "stream",
     "text": [
      " 16%|█▌        | 15799/100000 [12:56:41<44:52:32,  1.92s/it] "
     ]
    },
    {
     "name": "stdout",
     "output_type": "stream",
     "text": [
      "Epoch [15800/100000]\n",
      "Train Loss: 4.8474, Train Accuracy: 0.1370\n",
      "Train Precision (micro): 0.1370, Train Precision (macro): 0.0149\n",
      "Train Recall (micro): 0.1370, Train Recall (macro): 0.0245\n",
      "Train F1 (micro): 0.1370, Train F1 (macro): 0.0154\n",
      "\n",
      "Val Loss: 4.8133, Val Accuracy: 0.1462\n",
      "Val Precision (micro): 0.1462, Val Precision (macro): 0.0197\n",
      "Val Recall (micro): 0.1462, Val Recall (macro): 0.0320\n",
      "Val F1 (micro): 0.1462, Val F1 (macro): 0.0200\n",
      "--------------------------------------------------------------------------------\n"
     ]
    },
    {
     "name": "stderr",
     "output_type": "stream",
     "text": [
      " 16%|█▌        | 15899/100000 [13:01:36<44:58:41,  1.93s/it] "
     ]
    },
    {
     "name": "stdout",
     "output_type": "stream",
     "text": [
      "Epoch [15900/100000]\n",
      "Train Loss: 4.8458, Train Accuracy: 0.1348\n",
      "Train Precision (micro): 0.1348, Train Precision (macro): 0.0133\n",
      "Train Recall (micro): 0.1348, Train Recall (macro): 0.0220\n",
      "Train F1 (micro): 0.1348, Train F1 (macro): 0.0135\n",
      "\n",
      "Val Loss: 4.8067, Val Accuracy: 0.1447\n",
      "Val Precision (micro): 0.1447, Val Precision (macro): 0.0181\n",
      "Val Recall (micro): 0.1447, Val Recall (macro): 0.0316\n",
      "Val F1 (micro): 0.1447, Val F1 (macro): 0.0186\n",
      "--------------------------------------------------------------------------------\n"
     ]
    },
    {
     "name": "stderr",
     "output_type": "stream",
     "text": [
      " 16%|█▌        | 15999/100000 [13:06:33<54:08:06,  2.32s/it] "
     ]
    },
    {
     "name": "stdout",
     "output_type": "stream",
     "text": [
      "Epoch [16000/100000]\n",
      "Train Loss: 4.7982, Train Accuracy: 0.1402\n",
      "Train Precision (micro): 0.1402, Train Precision (macro): 0.0140\n",
      "Train Recall (micro): 0.1402, Train Recall (macro): 0.0236\n",
      "Train F1 (micro): 0.1402, Train F1 (macro): 0.0147\n",
      "\n",
      "Val Loss: 4.8099, Val Accuracy: 0.1434\n",
      "Val Precision (micro): 0.1434, Val Precision (macro): 0.0186\n",
      "Val Recall (micro): 0.1434, Val Recall (macro): 0.0314\n",
      "Val F1 (micro): 0.1434, Val F1 (macro): 0.0195\n",
      "--------------------------------------------------------------------------------\n"
     ]
    },
    {
     "name": "stderr",
     "output_type": "stream",
     "text": [
      " 16%|█▌        | 16099/100000 [13:11:28<44:51:32,  1.92s/it] "
     ]
    },
    {
     "name": "stdout",
     "output_type": "stream",
     "text": [
      "Epoch [16100/100000]\n",
      "Train Loss: 4.8313, Train Accuracy: 0.1344\n",
      "Train Precision (micro): 0.1344, Train Precision (macro): 0.0163\n",
      "Train Recall (micro): 0.1344, Train Recall (macro): 0.0244\n",
      "Train F1 (micro): 0.1344, Train F1 (macro): 0.0157\n",
      "\n",
      "Val Loss: 4.8066, Val Accuracy: 0.1487\n",
      "Val Precision (micro): 0.1487, Val Precision (macro): 0.0183\n",
      "Val Recall (micro): 0.1487, Val Recall (macro): 0.0328\n",
      "Val F1 (micro): 0.1487, Val F1 (macro): 0.0193\n",
      "--------------------------------------------------------------------------------\n"
     ]
    },
    {
     "name": "stderr",
     "output_type": "stream",
     "text": [
      " 16%|█▌        | 16199/100000 [13:16:25<44:48:42,  1.93s/it] "
     ]
    },
    {
     "name": "stdout",
     "output_type": "stream",
     "text": [
      "Epoch [16200/100000]\n",
      "Train Loss: 4.8768, Train Accuracy: 0.1280\n",
      "Train Precision (micro): 0.1280, Train Precision (macro): 0.0146\n",
      "Train Recall (micro): 0.1280, Train Recall (macro): 0.0230\n",
      "Train F1 (micro): 0.1280, Train F1 (macro): 0.0142\n",
      "\n",
      "Val Loss: 4.8148, Val Accuracy: 0.1478\n",
      "Val Precision (micro): 0.1478, Val Precision (macro): 0.0160\n",
      "Val Recall (micro): 0.1478, Val Recall (macro): 0.0323\n",
      "Val F1 (micro): 0.1478, Val F1 (macro): 0.0183\n",
      "--------------------------------------------------------------------------------\n"
     ]
    },
    {
     "name": "stderr",
     "output_type": "stream",
     "text": [
      " 16%|█▋        | 16299/100000 [13:21:20<44:41:39,  1.92s/it] "
     ]
    },
    {
     "name": "stdout",
     "output_type": "stream",
     "text": [
      "Epoch [16300/100000]\n",
      "Train Loss: 4.8640, Train Accuracy: 0.1286\n",
      "Train Precision (micro): 0.1286, Train Precision (macro): 0.0170\n",
      "Train Recall (micro): 0.1286, Train Recall (macro): 0.0235\n",
      "Train F1 (micro): 0.1286, Train F1 (macro): 0.0161\n",
      "\n",
      "Val Loss: 4.8010, Val Accuracy: 0.1497\n",
      "Val Precision (micro): 0.1497, Val Precision (macro): 0.0164\n",
      "Val Recall (micro): 0.1497, Val Recall (macro): 0.0318\n",
      "Val F1 (micro): 0.1497, Val F1 (macro): 0.0184\n",
      "--------------------------------------------------------------------------------\n"
     ]
    },
    {
     "name": "stderr",
     "output_type": "stream",
     "text": [
      " 16%|█▋        | 16399/100000 [13:26:16<44:49:50,  1.93s/it] "
     ]
    },
    {
     "name": "stdout",
     "output_type": "stream",
     "text": [
      "Epoch [16400/100000]\n",
      "Train Loss: 4.8439, Train Accuracy: 0.1338\n",
      "Train Precision (micro): 0.1338, Train Precision (macro): 0.0155\n",
      "Train Recall (micro): 0.1338, Train Recall (macro): 0.0202\n",
      "Train F1 (micro): 0.1338, Train F1 (macro): 0.0141\n",
      "\n",
      "Val Loss: 4.8066, Val Accuracy: 0.1453\n",
      "Val Precision (micro): 0.1453, Val Precision (macro): 0.0175\n",
      "Val Recall (micro): 0.1453, Val Recall (macro): 0.0320\n",
      "Val F1 (micro): 0.1453, Val F1 (macro): 0.0183\n",
      "--------------------------------------------------------------------------------\n"
     ]
    },
    {
     "name": "stderr",
     "output_type": "stream",
     "text": [
      " 16%|█▋        | 16499/100000 [13:31:12<44:33:22,  1.92s/it] "
     ]
    },
    {
     "name": "stdout",
     "output_type": "stream",
     "text": [
      "Epoch [16500/100000]\n",
      "Train Loss: 4.8382, Train Accuracy: 0.1416\n",
      "Train Precision (micro): 0.1416, Train Precision (macro): 0.0160\n",
      "Train Recall (micro): 0.1416, Train Recall (macro): 0.0233\n",
      "Train F1 (micro): 0.1416, Train F1 (macro): 0.0158\n",
      "\n",
      "Val Loss: 4.8041, Val Accuracy: 0.1487\n",
      "Val Precision (micro): 0.1487, Val Precision (macro): 0.0179\n",
      "Val Recall (micro): 0.1487, Val Recall (macro): 0.0324\n",
      "Val F1 (micro): 0.1487, Val F1 (macro): 0.0190\n",
      "--------------------------------------------------------------------------------\n"
     ]
    },
    {
     "name": "stderr",
     "output_type": "stream",
     "text": [
      " 17%|█▋        | 16599/100000 [13:36:07<44:33:01,  1.92s/it] "
     ]
    },
    {
     "name": "stdout",
     "output_type": "stream",
     "text": [
      "Epoch [16600/100000]\n",
      "Train Loss: 4.7715, Train Accuracy: 0.1437\n",
      "Train Precision (micro): 0.1437, Train Precision (macro): 0.0168\n",
      "Train Recall (micro): 0.1437, Train Recall (macro): 0.0258\n",
      "Train F1 (micro): 0.1437, Train F1 (macro): 0.0166\n",
      "\n",
      "Val Loss: 4.7992, Val Accuracy: 0.1506\n",
      "Val Precision (micro): 0.1506, Val Precision (macro): 0.0174\n",
      "Val Recall (micro): 0.1506, Val Recall (macro): 0.0329\n",
      "Val F1 (micro): 0.1506, Val F1 (macro): 0.0193\n",
      "--------------------------------------------------------------------------------\n"
     ]
    },
    {
     "name": "stderr",
     "output_type": "stream",
     "text": [
      " 17%|█▋        | 16699/100000 [13:41:03<44:33:18,  1.93s/it] "
     ]
    },
    {
     "name": "stdout",
     "output_type": "stream",
     "text": [
      "Epoch [16700/100000]\n",
      "Train Loss: 4.8557, Train Accuracy: 0.1369\n",
      "Train Precision (micro): 0.1369, Train Precision (macro): 0.0170\n",
      "Train Recall (micro): 0.1369, Train Recall (macro): 0.0247\n",
      "Train F1 (micro): 0.1369, Train F1 (macro): 0.0161\n",
      "\n",
      "Val Loss: 4.7980, Val Accuracy: 0.1444\n",
      "Val Precision (micro): 0.1444, Val Precision (macro): 0.0168\n",
      "Val Recall (micro): 0.1444, Val Recall (macro): 0.0313\n",
      "Val F1 (micro): 0.1444, Val F1 (macro): 0.0186\n",
      "--------------------------------------------------------------------------------\n"
     ]
    },
    {
     "name": "stderr",
     "output_type": "stream",
     "text": [
      " 17%|█▋        | 16799/100000 [13:45:58<44:31:41,  1.93s/it] "
     ]
    },
    {
     "name": "stdout",
     "output_type": "stream",
     "text": [
      "Epoch [16800/100000]\n",
      "Train Loss: 4.7956, Train Accuracy: 0.1330\n",
      "Train Precision (micro): 0.1330, Train Precision (macro): 0.0139\n",
      "Train Recall (micro): 0.1330, Train Recall (macro): 0.0207\n",
      "Train F1 (micro): 0.1330, Train F1 (macro): 0.0137\n",
      "\n",
      "Val Loss: 4.7968, Val Accuracy: 0.1487\n",
      "Val Precision (micro): 0.1487, Val Precision (macro): 0.0201\n",
      "Val Recall (micro): 0.1487, Val Recall (macro): 0.0345\n",
      "Val F1 (micro): 0.1487, Val F1 (macro): 0.0212\n",
      "--------------------------------------------------------------------------------\n"
     ]
    },
    {
     "name": "stderr",
     "output_type": "stream",
     "text": [
      " 17%|█▋        | 16899/100000 [13:50:53<44:20:08,  1.92s/it] "
     ]
    },
    {
     "name": "stdout",
     "output_type": "stream",
     "text": [
      "Epoch [16900/100000]\n",
      "Train Loss: 4.7960, Train Accuracy: 0.1427\n",
      "Train Precision (micro): 0.1427, Train Precision (macro): 0.0147\n",
      "Train Recall (micro): 0.1427, Train Recall (macro): 0.0239\n",
      "Train F1 (micro): 0.1427, Train F1 (macro): 0.0153\n",
      "\n",
      "Val Loss: 4.7928, Val Accuracy: 0.1506\n",
      "Val Precision (micro): 0.1506, Val Precision (macro): 0.0203\n",
      "Val Recall (micro): 0.1506, Val Recall (macro): 0.0335\n",
      "Val F1 (micro): 0.1506, Val F1 (macro): 0.0210\n",
      "--------------------------------------------------------------------------------\n"
     ]
    },
    {
     "name": "stderr",
     "output_type": "stream",
     "text": [
      " 17%|█▋        | 16999/100000 [13:55:48<44:26:59,  1.93s/it] "
     ]
    },
    {
     "name": "stdout",
     "output_type": "stream",
     "text": [
      "Epoch [17000/100000]\n",
      "Train Loss: 4.8211, Train Accuracy: 0.1347\n",
      "Train Precision (micro): 0.1347, Train Precision (macro): 0.0143\n",
      "Train Recall (micro): 0.1347, Train Recall (macro): 0.0224\n",
      "Train F1 (micro): 0.1347, Train F1 (macro): 0.0141\n",
      "\n",
      "Val Loss: 4.7903, Val Accuracy: 0.1428\n",
      "Val Precision (micro): 0.1428, Val Precision (macro): 0.0189\n",
      "Val Recall (micro): 0.1428, Val Recall (macro): 0.0314\n",
      "Val F1 (micro): 0.1428, Val F1 (macro): 0.0194\n",
      "--------------------------------------------------------------------------------\n"
     ]
    },
    {
     "name": "stderr",
     "output_type": "stream",
     "text": [
      " 17%|█▋        | 17099/100000 [14:00:44<44:19:01,  1.92s/it] "
     ]
    },
    {
     "name": "stdout",
     "output_type": "stream",
     "text": [
      "Epoch [17100/100000]\n",
      "Train Loss: 4.8570, Train Accuracy: 0.1352\n",
      "Train Precision (micro): 0.1352, Train Precision (macro): 0.0173\n",
      "Train Recall (micro): 0.1352, Train Recall (macro): 0.0232\n",
      "Train F1 (micro): 0.1352, Train F1 (macro): 0.0159\n",
      "\n",
      "Val Loss: 4.7895, Val Accuracy: 0.1450\n",
      "Val Precision (micro): 0.1450, Val Precision (macro): 0.0184\n",
      "Val Recall (micro): 0.1450, Val Recall (macro): 0.0308\n",
      "Val F1 (micro): 0.1450, Val F1 (macro): 0.0194\n",
      "--------------------------------------------------------------------------------\n"
     ]
    },
    {
     "name": "stderr",
     "output_type": "stream",
     "text": [
      " 17%|█▋        | 17199/100000 [14:05:38<44:20:47,  1.93s/it] "
     ]
    },
    {
     "name": "stdout",
     "output_type": "stream",
     "text": [
      "Epoch [17200/100000]\n",
      "Train Loss: 4.8093, Train Accuracy: 0.1392\n",
      "Train Precision (micro): 0.1392, Train Precision (macro): 0.0155\n",
      "Train Recall (micro): 0.1392, Train Recall (macro): 0.0243\n",
      "Train F1 (micro): 0.1392, Train F1 (macro): 0.0149\n",
      "\n",
      "Val Loss: 4.7818, Val Accuracy: 0.1466\n",
      "Val Precision (micro): 0.1466, Val Precision (macro): 0.0179\n",
      "Val Recall (micro): 0.1466, Val Recall (macro): 0.0319\n",
      "Val F1 (micro): 0.1466, Val F1 (macro): 0.0196\n",
      "--------------------------------------------------------------------------------\n"
     ]
    },
    {
     "name": "stderr",
     "output_type": "stream",
     "text": [
      " 17%|█▋        | 17299/100000 [14:10:35<44:06:57,  1.92s/it] "
     ]
    },
    {
     "name": "stdout",
     "output_type": "stream",
     "text": [
      "Epoch [17300/100000]\n",
      "Train Loss: 4.8189, Train Accuracy: 0.1389\n",
      "Train Precision (micro): 0.1389, Train Precision (macro): 0.0147\n",
      "Train Recall (micro): 0.1389, Train Recall (macro): 0.0226\n",
      "Train F1 (micro): 0.1389, Train F1 (macro): 0.0146\n",
      "\n",
      "Val Loss: 4.7872, Val Accuracy: 0.1437\n",
      "Val Precision (micro): 0.1437, Val Precision (macro): 0.0174\n",
      "Val Recall (micro): 0.1437, Val Recall (macro): 0.0316\n",
      "Val F1 (micro): 0.1437, Val F1 (macro): 0.0191\n",
      "--------------------------------------------------------------------------------\n"
     ]
    },
    {
     "name": "stderr",
     "output_type": "stream",
     "text": [
      " 17%|█▋        | 17399/100000 [14:15:32<44:22:41,  1.93s/it] "
     ]
    },
    {
     "name": "stdout",
     "output_type": "stream",
     "text": [
      "Epoch [17400/100000]\n",
      "Train Loss: 4.8619, Train Accuracy: 0.1345\n",
      "Train Precision (micro): 0.1345, Train Precision (macro): 0.0145\n",
      "Train Recall (micro): 0.1345, Train Recall (macro): 0.0233\n",
      "Train F1 (micro): 0.1345, Train F1 (macro): 0.0147\n",
      "\n",
      "Val Loss: 4.7842, Val Accuracy: 0.1475\n",
      "Val Precision (micro): 0.1475, Val Precision (macro): 0.0174\n",
      "Val Recall (micro): 0.1475, Val Recall (macro): 0.0323\n",
      "Val F1 (micro): 0.1475, Val F1 (macro): 0.0193\n",
      "--------------------------------------------------------------------------------\n"
     ]
    },
    {
     "name": "stderr",
     "output_type": "stream",
     "text": [
      " 17%|█▋        | 17499/100000 [14:20:28<44:08:54,  1.93s/it] "
     ]
    },
    {
     "name": "stdout",
     "output_type": "stream",
     "text": [
      "Epoch [17500/100000]\n",
      "Train Loss: 4.8338, Train Accuracy: 0.1352\n",
      "Train Precision (micro): 0.1352, Train Precision (macro): 0.0153\n",
      "Train Recall (micro): 0.1352, Train Recall (macro): 0.0257\n",
      "Train F1 (micro): 0.1352, Train F1 (macro): 0.0161\n",
      "\n",
      "Val Loss: 4.7843, Val Accuracy: 0.1481\n",
      "Val Precision (micro): 0.1481, Val Precision (macro): 0.0192\n",
      "Val Recall (micro): 0.1481, Val Recall (macro): 0.0331\n",
      "Val F1 (micro): 0.1481, Val F1 (macro): 0.0206\n",
      "--------------------------------------------------------------------------------\n"
     ]
    },
    {
     "name": "stderr",
     "output_type": "stream",
     "text": [
      " 18%|█▊        | 17599/100000 [14:25:22<44:11:05,  1.93s/it] "
     ]
    },
    {
     "name": "stdout",
     "output_type": "stream",
     "text": [
      "Epoch [17600/100000]\n",
      "Train Loss: 4.8075, Train Accuracy: 0.1313\n",
      "Train Precision (micro): 0.1313, Train Precision (macro): 0.0169\n",
      "Train Recall (micro): 0.1313, Train Recall (macro): 0.0247\n",
      "Train F1 (micro): 0.1313, Train F1 (macro): 0.0160\n",
      "\n",
      "Val Loss: 4.7853, Val Accuracy: 0.1494\n",
      "Val Precision (micro): 0.1494, Val Precision (macro): 0.0202\n",
      "Val Recall (micro): 0.1494, Val Recall (macro): 0.0346\n",
      "Val F1 (micro): 0.1494, Val F1 (macro): 0.0217\n",
      "--------------------------------------------------------------------------------\n"
     ]
    },
    {
     "name": "stderr",
     "output_type": "stream",
     "text": [
      " 18%|█▊        | 17699/100000 [14:30:18<44:04:14,  1.93s/it] "
     ]
    },
    {
     "name": "stdout",
     "output_type": "stream",
     "text": [
      "Epoch [17700/100000]\n",
      "Train Loss: 4.8074, Train Accuracy: 0.1444\n",
      "Train Precision (micro): 0.1444, Train Precision (macro): 0.0164\n",
      "Train Recall (micro): 0.1444, Train Recall (macro): 0.0262\n",
      "Train F1 (micro): 0.1444, Train F1 (macro): 0.0164\n",
      "\n",
      "Val Loss: 4.7834, Val Accuracy: 0.1469\n",
      "Val Precision (micro): 0.1469, Val Precision (macro): 0.0179\n",
      "Val Recall (micro): 0.1469, Val Recall (macro): 0.0320\n",
      "Val F1 (micro): 0.1469, Val F1 (macro): 0.0192\n",
      "--------------------------------------------------------------------------------\n"
     ]
    },
    {
     "name": "stderr",
     "output_type": "stream",
     "text": [
      " 18%|█▊        | 17799/100000 [14:35:13<43:52:56,  1.92s/it] "
     ]
    },
    {
     "name": "stdout",
     "output_type": "stream",
     "text": [
      "Epoch [17800/100000]\n",
      "Train Loss: 4.7778, Train Accuracy: 0.1408\n",
      "Train Precision (micro): 0.1408, Train Precision (macro): 0.0183\n",
      "Train Recall (micro): 0.1408, Train Recall (macro): 0.0276\n",
      "Train F1 (micro): 0.1408, Train F1 (macro): 0.0181\n",
      "\n",
      "Val Loss: 4.7829, Val Accuracy: 0.1462\n",
      "Val Precision (micro): 0.1462, Val Precision (macro): 0.0177\n",
      "Val Recall (micro): 0.1462, Val Recall (macro): 0.0321\n",
      "Val F1 (micro): 0.1462, Val F1 (macro): 0.0190\n",
      "--------------------------------------------------------------------------------\n"
     ]
    },
    {
     "name": "stderr",
     "output_type": "stream",
     "text": [
      " 18%|█▊        | 17899/100000 [14:40:08<43:52:46,  1.92s/it] "
     ]
    },
    {
     "name": "stdout",
     "output_type": "stream",
     "text": [
      "Epoch [17900/100000]\n",
      "Train Loss: 4.8383, Train Accuracy: 0.1378\n",
      "Train Precision (micro): 0.1378, Train Precision (macro): 0.0162\n",
      "Train Recall (micro): 0.1378, Train Recall (macro): 0.0233\n",
      "Train F1 (micro): 0.1378, Train F1 (macro): 0.0150\n",
      "\n",
      "Val Loss: 4.7827, Val Accuracy: 0.1487\n",
      "Val Precision (micro): 0.1487, Val Precision (macro): 0.0191\n",
      "Val Recall (micro): 0.1487, Val Recall (macro): 0.0321\n",
      "Val F1 (micro): 0.1487, Val F1 (macro): 0.0195\n",
      "--------------------------------------------------------------------------------\n"
     ]
    },
    {
     "name": "stderr",
     "output_type": "stream",
     "text": [
      " 18%|█▊        | 17999/100000 [14:45:04<43:54:05,  1.93s/it] "
     ]
    },
    {
     "name": "stdout",
     "output_type": "stream",
     "text": [
      "Epoch [18000/100000]\n",
      "Train Loss: 4.8221, Train Accuracy: 0.1336\n",
      "Train Precision (micro): 0.1336, Train Precision (macro): 0.0148\n",
      "Train Recall (micro): 0.1336, Train Recall (macro): 0.0224\n",
      "Train F1 (micro): 0.1336, Train F1 (macro): 0.0145\n",
      "\n",
      "Val Loss: 4.7810, Val Accuracy: 0.1478\n",
      "Val Precision (micro): 0.1478, Val Precision (macro): 0.0179\n",
      "Val Recall (micro): 0.1478, Val Recall (macro): 0.0321\n",
      "Val F1 (micro): 0.1478, Val F1 (macro): 0.0191\n",
      "--------------------------------------------------------------------------------\n"
     ]
    },
    {
     "name": "stderr",
     "output_type": "stream",
     "text": [
      " 18%|█▊        | 18099/100000 [14:49:59<44:18:25,  1.95s/it] "
     ]
    },
    {
     "name": "stdout",
     "output_type": "stream",
     "text": [
      "Epoch [18100/100000]\n",
      "Train Loss: 4.8882, Train Accuracy: 0.1275\n",
      "Train Precision (micro): 0.1275, Train Precision (macro): 0.0164\n",
      "Train Recall (micro): 0.1275, Train Recall (macro): 0.0253\n",
      "Train F1 (micro): 0.1275, Train F1 (macro): 0.0154\n",
      "\n",
      "Val Loss: 4.7797, Val Accuracy: 0.1497\n",
      "Val Precision (micro): 0.1497, Val Precision (macro): 0.0191\n",
      "Val Recall (micro): 0.1497, Val Recall (macro): 0.0324\n",
      "Val F1 (micro): 0.1497, Val F1 (macro): 0.0197\n",
      "--------------------------------------------------------------------------------\n"
     ]
    },
    {
     "name": "stderr",
     "output_type": "stream",
     "text": [
      " 18%|█▊        | 18199/100000 [14:54:56<43:45:19,  1.93s/it] "
     ]
    },
    {
     "name": "stdout",
     "output_type": "stream",
     "text": [
      "Epoch [18200/100000]\n",
      "Train Loss: 4.8407, Train Accuracy: 0.1328\n",
      "Train Precision (micro): 0.1328, Train Precision (macro): 0.0164\n",
      "Train Recall (micro): 0.1328, Train Recall (macro): 0.0239\n",
      "Train F1 (micro): 0.1328, Train F1 (macro): 0.0163\n",
      "\n",
      "Val Loss: 4.7777, Val Accuracy: 0.1462\n",
      "Val Precision (micro): 0.1462, Val Precision (macro): 0.0196\n",
      "Val Recall (micro): 0.1462, Val Recall (macro): 0.0315\n",
      "Val F1 (micro): 0.1462, Val F1 (macro): 0.0197\n",
      "--------------------------------------------------------------------------------\n"
     ]
    },
    {
     "name": "stderr",
     "output_type": "stream",
     "text": [
      " 18%|█▊        | 18299/100000 [14:59:52<43:44:05,  1.93s/it] "
     ]
    },
    {
     "name": "stdout",
     "output_type": "stream",
     "text": [
      "Epoch [18300/100000]\n",
      "Train Loss: 4.7853, Train Accuracy: 0.1369\n",
      "Train Precision (micro): 0.1369, Train Precision (macro): 0.0170\n",
      "Train Recall (micro): 0.1369, Train Recall (macro): 0.0240\n",
      "Train F1 (micro): 0.1369, Train F1 (macro): 0.0161\n",
      "\n",
      "Val Loss: 4.7782, Val Accuracy: 0.1491\n",
      "Val Precision (micro): 0.1491, Val Precision (macro): 0.0197\n",
      "Val Recall (micro): 0.1491, Val Recall (macro): 0.0325\n",
      "Val F1 (micro): 0.1491, Val F1 (macro): 0.0203\n",
      "--------------------------------------------------------------------------------\n"
     ]
    },
    {
     "name": "stderr",
     "output_type": "stream",
     "text": [
      " 18%|█▊        | 18399/100000 [15:04:47<43:34:13,  1.92s/it] "
     ]
    },
    {
     "name": "stdout",
     "output_type": "stream",
     "text": [
      "Epoch [18400/100000]\n",
      "Train Loss: 4.8172, Train Accuracy: 0.1456\n",
      "Train Precision (micro): 0.1456, Train Precision (macro): 0.0175\n",
      "Train Recall (micro): 0.1456, Train Recall (macro): 0.0277\n",
      "Train F1 (micro): 0.1456, Train F1 (macro): 0.0181\n",
      "\n",
      "Val Loss: 4.7746, Val Accuracy: 0.1475\n",
      "Val Precision (micro): 0.1475, Val Precision (macro): 0.0192\n",
      "Val Recall (micro): 0.1475, Val Recall (macro): 0.0320\n",
      "Val F1 (micro): 0.1475, Val F1 (macro): 0.0197\n",
      "--------------------------------------------------------------------------------\n"
     ]
    },
    {
     "name": "stderr",
     "output_type": "stream",
     "text": [
      " 18%|█▊        | 18499/100000 [15:09:43<43:30:12,  1.92s/it] "
     ]
    },
    {
     "name": "stdout",
     "output_type": "stream",
     "text": [
      "Epoch [18500/100000]\n",
      "Train Loss: 4.8234, Train Accuracy: 0.1412\n",
      "Train Precision (micro): 0.1412, Train Precision (macro): 0.0166\n",
      "Train Recall (micro): 0.1412, Train Recall (macro): 0.0239\n",
      "Train F1 (micro): 0.1412, Train F1 (macro): 0.0157\n",
      "\n",
      "Val Loss: 4.7721, Val Accuracy: 0.1478\n",
      "Val Precision (micro): 0.1478, Val Precision (macro): 0.0191\n",
      "Val Recall (micro): 0.1478, Val Recall (macro): 0.0311\n",
      "Val F1 (micro): 0.1478, Val F1 (macro): 0.0195\n",
      "--------------------------------------------------------------------------------\n"
     ]
    },
    {
     "name": "stderr",
     "output_type": "stream",
     "text": [
      " 19%|█▊        | 18599/100000 [15:14:40<43:35:36,  1.93s/it] "
     ]
    },
    {
     "name": "stdout",
     "output_type": "stream",
     "text": [
      "Epoch [18600/100000]\n",
      "Train Loss: 4.7830, Train Accuracy: 0.1427\n",
      "Train Precision (micro): 0.1427, Train Precision (macro): 0.0165\n",
      "Train Recall (micro): 0.1427, Train Recall (macro): 0.0250\n",
      "Train F1 (micro): 0.1427, Train F1 (macro): 0.0160\n",
      "\n",
      "Val Loss: 4.7718, Val Accuracy: 0.1487\n",
      "Val Precision (micro): 0.1487, Val Precision (macro): 0.0193\n",
      "Val Recall (micro): 0.1487, Val Recall (macro): 0.0320\n",
      "Val F1 (micro): 0.1487, Val F1 (macro): 0.0199\n",
      "--------------------------------------------------------------------------------\n"
     ]
    },
    {
     "name": "stderr",
     "output_type": "stream",
     "text": [
      " 19%|█▊        | 18699/100000 [15:19:35<43:24:20,  1.92s/it] "
     ]
    },
    {
     "name": "stdout",
     "output_type": "stream",
     "text": [
      "Epoch [18700/100000]\n",
      "Train Loss: 4.7879, Train Accuracy: 0.1397\n",
      "Train Precision (micro): 0.1397, Train Precision (macro): 0.0173\n",
      "Train Recall (micro): 0.1397, Train Recall (macro): 0.0226\n",
      "Train F1 (micro): 0.1397, Train F1 (macro): 0.0162\n",
      "\n",
      "Val Loss: 4.7739, Val Accuracy: 0.1475\n",
      "Val Precision (micro): 0.1475, Val Precision (macro): 0.0186\n",
      "Val Recall (micro): 0.1475, Val Recall (macro): 0.0315\n",
      "Val F1 (micro): 0.1475, Val F1 (macro): 0.0196\n",
      "--------------------------------------------------------------------------------\n"
     ]
    },
    {
     "name": "stderr",
     "output_type": "stream",
     "text": [
      " 19%|█▉        | 18799/100000 [15:24:32<43:27:42,  1.93s/it] "
     ]
    },
    {
     "name": "stdout",
     "output_type": "stream",
     "text": [
      "Epoch [18800/100000]\n",
      "Train Loss: 4.7844, Train Accuracy: 0.1436\n",
      "Train Precision (micro): 0.1436, Train Precision (macro): 0.0183\n",
      "Train Recall (micro): 0.1436, Train Recall (macro): 0.0268\n",
      "Train F1 (micro): 0.1436, Train F1 (macro): 0.0177\n",
      "\n",
      "Val Loss: 4.7718, Val Accuracy: 0.1487\n",
      "Val Precision (micro): 0.1487, Val Precision (macro): 0.0195\n",
      "Val Recall (micro): 0.1487, Val Recall (macro): 0.0322\n",
      "Val F1 (micro): 0.1487, Val F1 (macro): 0.0202\n",
      "--------------------------------------------------------------------------------\n"
     ]
    },
    {
     "name": "stderr",
     "output_type": "stream",
     "text": [
      " 19%|█▉        | 18899/100000 [15:29:28<43:26:46,  1.93s/it] "
     ]
    },
    {
     "name": "stdout",
     "output_type": "stream",
     "text": [
      "Epoch [18900/100000]\n",
      "Train Loss: 4.8178, Train Accuracy: 0.1336\n",
      "Train Precision (micro): 0.1336, Train Precision (macro): 0.0151\n",
      "Train Recall (micro): 0.1336, Train Recall (macro): 0.0242\n",
      "Train F1 (micro): 0.1336, Train F1 (macro): 0.0152\n",
      "\n",
      "Val Loss: 4.7719, Val Accuracy: 0.1497\n",
      "Val Precision (micro): 0.1497, Val Precision (macro): 0.0200\n",
      "Val Recall (micro): 0.1497, Val Recall (macro): 0.0320\n",
      "Val F1 (micro): 0.1497, Val F1 (macro): 0.0201\n",
      "--------------------------------------------------------------------------------\n"
     ]
    },
    {
     "name": "stderr",
     "output_type": "stream",
     "text": [
      " 19%|█▉        | 18999/100000 [15:34:22<43:13:20,  1.92s/it] "
     ]
    },
    {
     "name": "stdout",
     "output_type": "stream",
     "text": [
      "Epoch [19000/100000]\n",
      "Train Loss: 4.7946, Train Accuracy: 0.1364\n",
      "Train Precision (micro): 0.1364, Train Precision (macro): 0.0181\n",
      "Train Recall (micro): 0.1364, Train Recall (macro): 0.0275\n",
      "Train F1 (micro): 0.1364, Train F1 (macro): 0.0175\n",
      "\n",
      "Val Loss: 4.7710, Val Accuracy: 0.1494\n",
      "Val Precision (micro): 0.1494, Val Precision (macro): 0.0188\n",
      "Val Recall (micro): 0.1494, Val Recall (macro): 0.0318\n",
      "Val F1 (micro): 0.1494, Val F1 (macro): 0.0198\n",
      "--------------------------------------------------------------------------------\n"
     ]
    },
    {
     "name": "stderr",
     "output_type": "stream",
     "text": [
      " 19%|█▉        | 19099/100000 [15:39:17<43:15:55,  1.93s/it] "
     ]
    },
    {
     "name": "stdout",
     "output_type": "stream",
     "text": [
      "Epoch [19100/100000]\n",
      "Train Loss: 4.8011, Train Accuracy: 0.1408\n",
      "Train Precision (micro): 0.1408, Train Precision (macro): 0.0172\n",
      "Train Recall (micro): 0.1408, Train Recall (macro): 0.0276\n",
      "Train F1 (micro): 0.1408, Train F1 (macro): 0.0183\n",
      "\n",
      "Val Loss: 4.7711, Val Accuracy: 0.1466\n",
      "Val Precision (micro): 0.1466, Val Precision (macro): 0.0185\n",
      "Val Recall (micro): 0.1466, Val Recall (macro): 0.0316\n",
      "Val F1 (micro): 0.1466, Val F1 (macro): 0.0193\n",
      "--------------------------------------------------------------------------------\n"
     ]
    },
    {
     "name": "stderr",
     "output_type": "stream",
     "text": [
      " 19%|█▉        | 19199/100000 [15:44:13<43:21:45,  1.93s/it] "
     ]
    },
    {
     "name": "stdout",
     "output_type": "stream",
     "text": [
      "Epoch [19200/100000]\n",
      "Train Loss: 4.8409, Train Accuracy: 0.1348\n",
      "Train Precision (micro): 0.1348, Train Precision (macro): 0.0177\n",
      "Train Recall (micro): 0.1348, Train Recall (macro): 0.0247\n",
      "Train F1 (micro): 0.1348, Train F1 (macro): 0.0164\n",
      "\n",
      "Val Loss: 4.7707, Val Accuracy: 0.1466\n",
      "Val Precision (micro): 0.1466, Val Precision (macro): 0.0193\n",
      "Val Recall (micro): 0.1466, Val Recall (macro): 0.0326\n",
      "Val F1 (micro): 0.1466, Val F1 (macro): 0.0204\n",
      "--------------------------------------------------------------------------------\n"
     ]
    },
    {
     "name": "stderr",
     "output_type": "stream",
     "text": [
      " 19%|█▉        | 19299/100000 [15:49:09<43:25:11,  1.94s/it] "
     ]
    },
    {
     "name": "stdout",
     "output_type": "stream",
     "text": [
      "Epoch [19300/100000]\n",
      "Train Loss: 4.8705, Train Accuracy: 0.1391\n",
      "Train Precision (micro): 0.1391, Train Precision (macro): 0.0129\n",
      "Train Recall (micro): 0.1391, Train Recall (macro): 0.0217\n",
      "Train F1 (micro): 0.1391, Train F1 (macro): 0.0138\n",
      "\n",
      "Val Loss: 4.7705, Val Accuracy: 0.1462\n",
      "Val Precision (micro): 0.1462, Val Precision (macro): 0.0186\n",
      "Val Recall (micro): 0.1462, Val Recall (macro): 0.0323\n",
      "Val F1 (micro): 0.1462, Val F1 (macro): 0.0199\n",
      "--------------------------------------------------------------------------------\n"
     ]
    },
    {
     "name": "stderr",
     "output_type": "stream",
     "text": [
      " 19%|█▉        | 19399/100000 [15:54:04<43:11:56,  1.93s/it] "
     ]
    },
    {
     "name": "stdout",
     "output_type": "stream",
     "text": [
      "Epoch [19400/100000]\n",
      "Train Loss: 4.7782, Train Accuracy: 0.1334\n",
      "Train Precision (micro): 0.1334, Train Precision (macro): 0.0153\n",
      "Train Recall (micro): 0.1334, Train Recall (macro): 0.0226\n",
      "Train F1 (micro): 0.1334, Train F1 (macro): 0.0147\n",
      "\n",
      "Val Loss: 4.7690, Val Accuracy: 0.1491\n",
      "Val Precision (micro): 0.1491, Val Precision (macro): 0.0204\n",
      "Val Recall (micro): 0.1491, Val Recall (macro): 0.0333\n",
      "Val F1 (micro): 0.1491, Val F1 (macro): 0.0210\n",
      "--------------------------------------------------------------------------------\n"
     ]
    },
    {
     "name": "stderr",
     "output_type": "stream",
     "text": [
      " 19%|█▉        | 19499/100000 [15:59:00<42:59:30,  1.92s/it] "
     ]
    },
    {
     "name": "stdout",
     "output_type": "stream",
     "text": [
      "Epoch [19500/100000]\n",
      "Train Loss: 4.8215, Train Accuracy: 0.1370\n",
      "Train Precision (micro): 0.1370, Train Precision (macro): 0.0145\n",
      "Train Recall (micro): 0.1370, Train Recall (macro): 0.0230\n",
      "Train F1 (micro): 0.1370, Train F1 (macro): 0.0146\n",
      "\n",
      "Val Loss: 4.7678, Val Accuracy: 0.1484\n",
      "Val Precision (micro): 0.1484, Val Precision (macro): 0.0203\n",
      "Val Recall (micro): 0.1484, Val Recall (macro): 0.0326\n",
      "Val F1 (micro): 0.1484, Val F1 (macro): 0.0209\n",
      "--------------------------------------------------------------------------------\n"
     ]
    },
    {
     "name": "stderr",
     "output_type": "stream",
     "text": [
      " 20%|█▉        | 19599/100000 [16:03:54<42:53:36,  1.92s/it] "
     ]
    },
    {
     "name": "stdout",
     "output_type": "stream",
     "text": [
      "Epoch [19600/100000]\n",
      "Train Loss: 4.7418, Train Accuracy: 0.1402\n",
      "Train Precision (micro): 0.1402, Train Precision (macro): 0.0153\n",
      "Train Recall (micro): 0.1402, Train Recall (macro): 0.0237\n",
      "Train F1 (micro): 0.1402, Train F1 (macro): 0.0155\n",
      "\n",
      "Val Loss: 4.7680, Val Accuracy: 0.1491\n",
      "Val Precision (micro): 0.1491, Val Precision (macro): 0.0210\n",
      "Val Recall (micro): 0.1491, Val Recall (macro): 0.0329\n",
      "Val F1 (micro): 0.1491, Val F1 (macro): 0.0211\n",
      "--------------------------------------------------------------------------------\n"
     ]
    },
    {
     "name": "stderr",
     "output_type": "stream",
     "text": [
      " 20%|█▉        | 19699/100000 [16:08:51<43:07:33,  1.93s/it] "
     ]
    },
    {
     "name": "stdout",
     "output_type": "stream",
     "text": [
      "Epoch [19700/100000]\n",
      "Train Loss: 4.8102, Train Accuracy: 0.1367\n",
      "Train Precision (micro): 0.1367, Train Precision (macro): 0.0162\n",
      "Train Recall (micro): 0.1367, Train Recall (macro): 0.0243\n",
      "Train F1 (micro): 0.1367, Train F1 (macro): 0.0162\n",
      "\n",
      "Val Loss: 4.7671, Val Accuracy: 0.1491\n",
      "Val Precision (micro): 0.1491, Val Precision (macro): 0.0211\n",
      "Val Recall (micro): 0.1491, Val Recall (macro): 0.0329\n",
      "Val F1 (micro): 0.1491, Val F1 (macro): 0.0212\n",
      "--------------------------------------------------------------------------------\n"
     ]
    },
    {
     "name": "stderr",
     "output_type": "stream",
     "text": [
      " 20%|█▉        | 19799/100000 [16:13:46<42:53:12,  1.93s/it] "
     ]
    },
    {
     "name": "stdout",
     "output_type": "stream",
     "text": [
      "Epoch [19800/100000]\n",
      "Train Loss: 4.7667, Train Accuracy: 0.1417\n",
      "Train Precision (micro): 0.1417, Train Precision (macro): 0.0181\n",
      "Train Recall (micro): 0.1417, Train Recall (macro): 0.0232\n",
      "Train F1 (micro): 0.1417, Train F1 (macro): 0.0165\n",
      "\n",
      "Val Loss: 4.7664, Val Accuracy: 0.1509\n",
      "Val Precision (micro): 0.1509, Val Precision (macro): 0.0214\n",
      "Val Recall (micro): 0.1509, Val Recall (macro): 0.0332\n",
      "Val F1 (micro): 0.1509, Val F1 (macro): 0.0213\n",
      "--------------------------------------------------------------------------------\n"
     ]
    },
    {
     "name": "stderr",
     "output_type": "stream",
     "text": [
      " 20%|█▉        | 19899/100000 [16:18:42<42:44:55,  1.92s/it] "
     ]
    },
    {
     "name": "stdout",
     "output_type": "stream",
     "text": [
      "Epoch [19900/100000]\n",
      "Train Loss: 4.7730, Train Accuracy: 0.1355\n",
      "Train Precision (micro): 0.1355, Train Precision (macro): 0.0151\n",
      "Train Recall (micro): 0.1355, Train Recall (macro): 0.0226\n",
      "Train F1 (micro): 0.1355, Train F1 (macro): 0.0149\n",
      "\n",
      "Val Loss: 4.7664, Val Accuracy: 0.1506\n",
      "Val Precision (micro): 0.1506, Val Precision (macro): 0.0215\n",
      "Val Recall (micro): 0.1506, Val Recall (macro): 0.0335\n",
      "Val F1 (micro): 0.1506, Val F1 (macro): 0.0214\n",
      "--------------------------------------------------------------------------------\n"
     ]
    },
    {
     "name": "stderr",
     "output_type": "stream",
     "text": [
      " 20%|█▉        | 19999/100000 [16:23:37<42:47:30,  1.93s/it] "
     ]
    },
    {
     "name": "stdout",
     "output_type": "stream",
     "text": [
      "Epoch [20000/100000]\n",
      "Train Loss: 4.8548, Train Accuracy: 0.1389\n",
      "Train Precision (micro): 0.1389, Train Precision (macro): 0.0193\n",
      "Train Recall (micro): 0.1389, Train Recall (macro): 0.0252\n",
      "Train F1 (micro): 0.1389, Train F1 (macro): 0.0172\n",
      "\n",
      "Val Loss: 4.7662, Val Accuracy: 0.1509\n",
      "Val Precision (micro): 0.1509, Val Precision (macro): 0.0214\n",
      "Val Recall (micro): 0.1509, Val Recall (macro): 0.0334\n",
      "Val F1 (micro): 0.1509, Val F1 (macro): 0.0213\n",
      "--------------------------------------------------------------------------------\n"
     ]
    },
    {
     "name": "stderr",
     "output_type": "stream",
     "text": [
      " 20%|██        | 20099/100000 [16:28:33<42:48:01,  1.93s/it] "
     ]
    },
    {
     "name": "stdout",
     "output_type": "stream",
     "text": [
      "Epoch [20100/100000]\n",
      "Train Loss: 4.7944, Train Accuracy: 0.1331\n",
      "Train Precision (micro): 0.1331, Train Precision (macro): 0.0158\n",
      "Train Recall (micro): 0.1331, Train Recall (macro): 0.0228\n",
      "Train F1 (micro): 0.1331, Train F1 (macro): 0.0147\n",
      "\n",
      "Val Loss: 4.7664, Val Accuracy: 0.1506\n",
      "Val Precision (micro): 0.1506, Val Precision (macro): 0.0213\n",
      "Val Recall (micro): 0.1506, Val Recall (macro): 0.0330\n",
      "Val F1 (micro): 0.1506, Val F1 (macro): 0.0212\n",
      "--------------------------------------------------------------------------------\n"
     ]
    },
    {
     "name": "stderr",
     "output_type": "stream",
     "text": [
      " 20%|██        | 20199/100000 [16:33:29<42:58:38,  1.94s/it] "
     ]
    },
    {
     "name": "stdout",
     "output_type": "stream",
     "text": [
      "Epoch [20200/100000]\n",
      "Train Loss: 4.6955, Train Accuracy: 0.1525\n",
      "Train Precision (micro): 0.1525, Train Precision (macro): 0.0163\n",
      "Train Recall (micro): 0.1525, Train Recall (macro): 0.0258\n",
      "Train F1 (micro): 0.1525, Train F1 (macro): 0.0165\n",
      "\n",
      "Val Loss: 4.7662, Val Accuracy: 0.1506\n",
      "Val Precision (micro): 0.1506, Val Precision (macro): 0.0215\n",
      "Val Recall (micro): 0.1506, Val Recall (macro): 0.0334\n",
      "Val F1 (micro): 0.1506, Val F1 (macro): 0.0214\n",
      "--------------------------------------------------------------------------------\n"
     ]
    },
    {
     "name": "stderr",
     "output_type": "stream",
     "text": [
      " 20%|██        | 20299/100000 [16:38:25<42:35:36,  1.92s/it] "
     ]
    },
    {
     "name": "stdout",
     "output_type": "stream",
     "text": [
      "Epoch [20300/100000]\n",
      "Train Loss: 4.7434, Train Accuracy: 0.1428\n",
      "Train Precision (micro): 0.1428, Train Precision (macro): 0.0155\n",
      "Train Recall (micro): 0.1428, Train Recall (macro): 0.0247\n",
      "Train F1 (micro): 0.1428, Train F1 (macro): 0.0160\n",
      "\n",
      "Val Loss: 4.7662, Val Accuracy: 0.1503\n",
      "Val Precision (micro): 0.1503, Val Precision (macro): 0.0214\n",
      "Val Recall (micro): 0.1503, Val Recall (macro): 0.0330\n",
      "Val F1 (micro): 0.1503, Val F1 (macro): 0.0212\n",
      "--------------------------------------------------------------------------------\n"
     ]
    },
    {
     "name": "stderr",
     "output_type": "stream",
     "text": [
      " 20%|██        | 20399/100000 [16:43:20<42:38:55,  1.93s/it] "
     ]
    },
    {
     "name": "stdout",
     "output_type": "stream",
     "text": [
      "Epoch [20400/100000]\n",
      "Train Loss: 4.8054, Train Accuracy: 0.1422\n",
      "Train Precision (micro): 0.1422, Train Precision (macro): 0.0154\n",
      "Train Recall (micro): 0.1422, Train Recall (macro): 0.0251\n",
      "Train F1 (micro): 0.1422, Train F1 (macro): 0.0155\n",
      "\n",
      "Val Loss: 4.7661, Val Accuracy: 0.1503\n",
      "Val Precision (micro): 0.1503, Val Precision (macro): 0.0214\n",
      "Val Recall (micro): 0.1503, Val Recall (macro): 0.0330\n",
      "Val F1 (micro): 0.1503, Val F1 (macro): 0.0212\n",
      "--------------------------------------------------------------------------------\n"
     ]
    },
    {
     "name": "stderr",
     "output_type": "stream",
     "text": [
      " 20%|██        | 20499/100000 [16:48:17<42:27:27,  1.92s/it] "
     ]
    },
    {
     "name": "stdout",
     "output_type": "stream",
     "text": [
      "Epoch [20500/100000]\n",
      "Train Loss: 4.8099, Train Accuracy: 0.1352\n",
      "Train Precision (micro): 0.1352, Train Precision (macro): 0.0157\n",
      "Train Recall (micro): 0.1352, Train Recall (macro): 0.0236\n",
      "Train F1 (micro): 0.1352, Train F1 (macro): 0.0153\n",
      "\n",
      "Val Loss: 4.7661, Val Accuracy: 0.1503\n",
      "Val Precision (micro): 0.1503, Val Precision (macro): 0.0214\n",
      "Val Recall (micro): 0.1503, Val Recall (macro): 0.0330\n",
      "Val F1 (micro): 0.1503, Val F1 (macro): 0.0212\n",
      "--------------------------------------------------------------------------------\n"
     ]
    },
    {
     "name": "stderr",
     "output_type": "stream",
     "text": [
      " 21%|██        | 20599/100000 [16:53:12<42:27:40,  1.93s/it] "
     ]
    },
    {
     "name": "stdout",
     "output_type": "stream",
     "text": [
      "Epoch [20600/100000]\n",
      "Train Loss: 4.8498, Train Accuracy: 0.1342\n",
      "Train Precision (micro): 0.1342, Train Precision (macro): 0.0144\n",
      "Train Recall (micro): 0.1342, Train Recall (macro): 0.0223\n",
      "Train F1 (micro): 0.1342, Train F1 (macro): 0.0146\n",
      "\n",
      "Val Loss: 4.8218, Val Accuracy: 0.1459\n",
      "Val Precision (micro): 0.1459, Val Precision (macro): 0.0171\n",
      "Val Recall (micro): 0.1459, Val Recall (macro): 0.0313\n",
      "Val F1 (micro): 0.1459, Val F1 (macro): 0.0182\n",
      "--------------------------------------------------------------------------------\n"
     ]
    },
    {
     "name": "stderr",
     "output_type": "stream",
     "text": [
      " 21%|██        | 20699/100000 [16:58:07<42:22:02,  1.92s/it] "
     ]
    },
    {
     "name": "stdout",
     "output_type": "stream",
     "text": [
      "Epoch [20700/100000]\n",
      "Train Loss: 4.8920, Train Accuracy: 0.1256\n",
      "Train Precision (micro): 0.1256, Train Precision (macro): 0.0146\n",
      "Train Recall (micro): 0.1256, Train Recall (macro): 0.0211\n",
      "Train F1 (micro): 0.1256, Train F1 (macro): 0.0142\n",
      "\n",
      "Val Loss: 4.8265, Val Accuracy: 0.1469\n",
      "Val Precision (micro): 0.1469, Val Precision (macro): 0.0186\n",
      "Val Recall (micro): 0.1469, Val Recall (macro): 0.0313\n",
      "Val F1 (micro): 0.1469, Val F1 (macro): 0.0191\n",
      "--------------------------------------------------------------------------------\n"
     ]
    },
    {
     "name": "stderr",
     "output_type": "stream",
     "text": [
      " 21%|██        | 20799/100000 [17:03:02<42:19:49,  1.92s/it] "
     ]
    },
    {
     "name": "stdout",
     "output_type": "stream",
     "text": [
      "Epoch [20800/100000]\n",
      "Train Loss: 4.8550, Train Accuracy: 0.1319\n",
      "Train Precision (micro): 0.1319, Train Precision (macro): 0.0156\n",
      "Train Recall (micro): 0.1319, Train Recall (macro): 0.0217\n",
      "Train F1 (micro): 0.1319, Train F1 (macro): 0.0152\n",
      "\n",
      "Val Loss: 4.8149, Val Accuracy: 0.1481\n",
      "Val Precision (micro): 0.1481, Val Precision (macro): 0.0177\n",
      "Val Recall (micro): 0.1481, Val Recall (macro): 0.0308\n",
      "Val F1 (micro): 0.1481, Val F1 (macro): 0.0185\n",
      "--------------------------------------------------------------------------------\n"
     ]
    },
    {
     "name": "stderr",
     "output_type": "stream",
     "text": [
      " 21%|██        | 20899/100000 [17:07:59<42:13:06,  1.92s/it] "
     ]
    },
    {
     "name": "stdout",
     "output_type": "stream",
     "text": [
      "Epoch [20900/100000]\n",
      "Train Loss: 4.8120, Train Accuracy: 0.1355\n",
      "Train Precision (micro): 0.1355, Train Precision (macro): 0.0124\n",
      "Train Recall (micro): 0.1355, Train Recall (macro): 0.0217\n",
      "Train F1 (micro): 0.1355, Train F1 (macro): 0.0137\n",
      "\n",
      "Val Loss: 4.8202, Val Accuracy: 0.1462\n",
      "Val Precision (micro): 0.1462, Val Precision (macro): 0.0177\n",
      "Val Recall (micro): 0.1462, Val Recall (macro): 0.0319\n",
      "Val F1 (micro): 0.1462, Val F1 (macro): 0.0188\n",
      "--------------------------------------------------------------------------------\n"
     ]
    },
    {
     "name": "stderr",
     "output_type": "stream",
     "text": [
      " 21%|██        | 20999/100000 [17:12:56<42:41:40,  1.95s/it] "
     ]
    },
    {
     "name": "stdout",
     "output_type": "stream",
     "text": [
      "Epoch [21000/100000]\n",
      "Train Loss: 4.8079, Train Accuracy: 0.1347\n",
      "Train Precision (micro): 0.1347, Train Precision (macro): 0.0161\n",
      "Train Recall (micro): 0.1347, Train Recall (macro): 0.0224\n",
      "Train F1 (micro): 0.1347, Train F1 (macro): 0.0156\n",
      "\n",
      "Val Loss: 4.8309, Val Accuracy: 0.1441\n",
      "Val Precision (micro): 0.1441, Val Precision (macro): 0.0175\n",
      "Val Recall (micro): 0.1441, Val Recall (macro): 0.0308\n",
      "Val F1 (micro): 0.1441, Val F1 (macro): 0.0182\n",
      "--------------------------------------------------------------------------------\n"
     ]
    },
    {
     "name": "stderr",
     "output_type": "stream",
     "text": [
      " 21%|██        | 21099/100000 [17:17:58<43:17:18,  1.98s/it] "
     ]
    },
    {
     "name": "stdout",
     "output_type": "stream",
     "text": [
      "Epoch [21100/100000]\n",
      "Train Loss: 4.8821, Train Accuracy: 0.1334\n",
      "Train Precision (micro): 0.1334, Train Precision (macro): 0.0162\n",
      "Train Recall (micro): 0.1334, Train Recall (macro): 0.0233\n",
      "Train F1 (micro): 0.1334, Train F1 (macro): 0.0149\n",
      "\n",
      "Val Loss: 4.8368, Val Accuracy: 0.1409\n",
      "Val Precision (micro): 0.1409, Val Precision (macro): 0.0195\n",
      "Val Recall (micro): 0.1409, Val Recall (macro): 0.0328\n",
      "Val F1 (micro): 0.1409, Val F1 (macro): 0.0200\n",
      "--------------------------------------------------------------------------------\n"
     ]
    },
    {
     "name": "stderr",
     "output_type": "stream",
     "text": [
      " 21%|██        | 21199/100000 [17:23:09<45:03:23,  2.06s/it] "
     ]
    },
    {
     "name": "stdout",
     "output_type": "stream",
     "text": [
      "Epoch [21200/100000]\n",
      "Train Loss: 4.8967, Train Accuracy: 0.1352\n",
      "Train Precision (micro): 0.1352, Train Precision (macro): 0.0148\n",
      "Train Recall (micro): 0.1352, Train Recall (macro): 0.0237\n",
      "Train F1 (micro): 0.1352, Train F1 (macro): 0.0150\n",
      "\n",
      "Val Loss: 4.8474, Val Accuracy: 0.1447\n",
      "Val Precision (micro): 0.1447, Val Precision (macro): 0.0191\n",
      "Val Recall (micro): 0.1447, Val Recall (macro): 0.0340\n",
      "Val F1 (micro): 0.1447, Val F1 (macro): 0.0197\n",
      "--------------------------------------------------------------------------------\n"
     ]
    },
    {
     "name": "stderr",
     "output_type": "stream",
     "text": [
      " 21%|██▏       | 21299/100000 [17:28:22<44:00:43,  2.01s/it] "
     ]
    },
    {
     "name": "stdout",
     "output_type": "stream",
     "text": [
      "Epoch [21300/100000]\n",
      "Train Loss: 4.8532, Train Accuracy: 0.1366\n",
      "Train Precision (micro): 0.1366, Train Precision (macro): 0.0157\n",
      "Train Recall (micro): 0.1366, Train Recall (macro): 0.0239\n",
      "Train F1 (micro): 0.1366, Train F1 (macro): 0.0161\n",
      "\n",
      "Val Loss: 4.8231, Val Accuracy: 0.1437\n",
      "Val Precision (micro): 0.1437, Val Precision (macro): 0.0180\n",
      "Val Recall (micro): 0.1437, Val Recall (macro): 0.0315\n",
      "Val F1 (micro): 0.1437, Val F1 (macro): 0.0192\n",
      "--------------------------------------------------------------------------------\n"
     ]
    },
    {
     "name": "stderr",
     "output_type": "stream",
     "text": [
      " 21%|██▏       | 21399/100000 [17:33:20<42:04:13,  1.93s/it] "
     ]
    },
    {
     "name": "stdout",
     "output_type": "stream",
     "text": [
      "Epoch [21400/100000]\n",
      "Train Loss: 4.8342, Train Accuracy: 0.1383\n",
      "Train Precision (micro): 0.1383, Train Precision (macro): 0.0151\n",
      "Train Recall (micro): 0.1383, Train Recall (macro): 0.0248\n",
      "Train F1 (micro): 0.1383, Train F1 (macro): 0.0156\n",
      "\n"
     ]
    }
   ],
   "source": [
    "running_loss = 0\n",
    "train_preds = []\n",
    "train_labels = []\n",
    "current_lr = lr\n",
    "\n",
    "for epoch in tqdm(range(epochs)):\n",
    "    model.train()\n",
    "\n",
    "    tensor_batch = father_data_to_tensor_batch(da.get_batch())\n",
    "    tensor_batch.gpu(device)\n",
    "    \n",
    "    labels = tensor_batch.taxes\n",
    "    outputs = model(tensor_batch.seq_ids['input_ids'], tensor_batch.seq_ids['attention_mask'])\n",
    "    \n",
    "    loss = criterion(outputs, labels)\n",
    "    \n",
    "    optimizer.zero_grad()\n",
    "    loss.backward()\n",
    "    optimizer.step()\n",
    "    \n",
    "    running_loss += loss.item()\n",
    "    \n",
    "    preds = torch.argmax(outputs, dim=1)\n",
    "    \n",
    "    train_preds.append(preds.cpu())\n",
    "    train_labels.append(labels.cpu())\n",
    "    \n",
    "    if (epoch + 1) % val_epoch == 0:\n",
    "        # Calculate training metrics\n",
    "        train_metrics = compute_metrics(train_labels, train_preds, running_loss, val_epoch)\n",
    "\n",
    "        print(f\"Epoch [{epoch + 1}/{epochs}]\")\n",
    "        # Training metrics\n",
    "        print(f\"Train Loss: {train_metrics['loss']:.4f}, Train Accuracy: {train_metrics['accuracy']:.4f}\")\n",
    "        print(f\"Train Precision (micro): {train_metrics['precision_micro']:.4f}, Train Precision (macro): {train_metrics['precision_macro']:.4f}\")\n",
    "        print(f\"Train Recall (micro): {train_metrics['recall_micro']:.4f}, Train Recall (macro): {train_metrics['recall_macro']:.4f}\")\n",
    "        print(f\"Train F1 (micro): {train_metrics['f1_micro']:.4f}, Train F1 (macro): {train_metrics['f1_macro']:.4f}\")\n",
    "        # print(\"Train Confusion Matrix:\")\n",
    "        # print(train_metrics['confusion_matrix'])\n",
    "\n",
    "        print()\n",
    "        val_metrics = evaluate()\n",
    "        \n",
    "        # Validation metrics\n",
    "        print(f\"Val Loss: {val_metrics['loss']:.4f}, Val Accuracy: {val_metrics['accuracy']:.4f}\")\n",
    "        print(f\"Val Precision (micro): {val_metrics['precision_micro']:.4f}, Val Precision (macro): {val_metrics['precision_macro']:.4f}\")\n",
    "        print(f\"Val Recall (micro): {val_metrics['recall_micro']:.4f}, Val Recall (macro): {val_metrics['recall_macro']:.4f}\")\n",
    "        print(f\"Val F1 (micro): {val_metrics['f1_micro']:.4f}, Val F1 (macro): {val_metrics['f1_macro']:.4f}\")\n",
    "        # print(\"Val Confusion Matrix:\")\n",
    "        # print(val_metrics['confusion_matrix'])\n",
    "        print(\"-\" * 80)  # Separator\n",
    "        \n",
    "        metrics = {\n",
    "            # Training metrics\n",
    "            \"train_loss\": train_metrics['loss'],\n",
    "            \"train_accuracy\": train_metrics['accuracy'],\n",
    "            \"train_precision_micro\": train_metrics['precision_micro'],\n",
    "            \"train_precision_macro\": train_metrics['precision_macro'],\n",
    "            \"train_recall_micro\": train_metrics['recall_micro'],\n",
    "            \"train_recall_macro\": train_metrics['recall_macro'],\n",
    "            \"train_f1_micro\": train_metrics['f1_micro'],\n",
    "            \"train_f1_macro\": train_metrics['f1_macro'],\n",
    "            # \"train_confusion_matrix\": train_metrics['confusion_matrix'],\n",
    "            \n",
    "            # Validation metrics\n",
    "            \"val_loss\": val_metrics['loss'],\n",
    "            \"val_accuracy\": val_metrics['accuracy'],\n",
    "            \"val_precision_micro\": val_metrics['precision_micro'],\n",
    "            \"val_precision_macro\": val_metrics['precision_macro'],\n",
    "            \"val_recall_micro\": val_metrics['recall_micro'],\n",
    "            \"val_recall_macro\": val_metrics['recall_macro'],\n",
    "            \"val_f1_micro\": val_metrics['f1_micro'],\n",
    "            \"val_f1_macro\": val_metrics['f1_macro'],\n",
    "            # \"val_confusion_matrix\": val_metrics['confusion_matrix'],\n",
    "            \n",
    "            # Additional info\n",
    "            \"epoch\": epoch + 1,\n",
    "            \"lr\": current_lr\n",
    "        }\n",
    "\n",
    "        # Save periodic checkpoint\n",
    "        checkpoint_path = os.path.join(checkpoint_dir, f'checkpoint_epoch_{epoch}.pt')\n",
    "        torch.save({\n",
    "            'epoch': epoch,\n",
    "            'model_state_dict': model.state_dict(),\n",
    "            'optimizer_state_dict': optimizer.state_dict(),\n",
    "            'scheduler_state_dict': scheduler.state_dict(),\n",
    "            'metrics': metrics\n",
    "        }, checkpoint_path)\n",
    "        \n",
    "        # Log to wandb\n",
    "        wandb.log(metrics)\n",
    "\n",
    "        # Step the scheduler\n",
    "        scheduler.step(epoch + loss.item())\n",
    "        current_lr = scheduler.get_last_lr()[0]\n",
    "        \n",
    "        # Reset training metrics\n",
    "        running_loss = 0\n",
    "        train_preds = []\n",
    "        train_labels = []\n",
    "\n",
    "wandb.finish()"
   ]
  },
  {
   "cell_type": "code",
   "execution_count": null,
   "id": "fa48a0b8-1e57-4f69-83d6-98a604111c81",
   "metadata": {},
   "outputs": [],
   "source": []
  }
 ],
 "metadata": {
  "kernelspec": {
   "display_name": "Python 3 (ipykernel)",
   "language": "python",
   "name": "python3"
  },
  "language_info": {
   "codemirror_mode": {
    "name": "ipython",
    "version": 3
   },
   "file_extension": ".py",
   "mimetype": "text/x-python",
   "name": "python",
   "nbconvert_exporter": "python",
   "pygments_lexer": "ipython3",
   "version": "3.10.14"
  }
 },
 "nbformat": 4,
 "nbformat_minor": 5
}

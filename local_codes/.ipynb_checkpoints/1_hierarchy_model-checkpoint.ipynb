{
 "cells": [
  {
   "cell_type": "code",
   "execution_count": 1,
   "id": "bd53ee37-152c-447c-ad01-0e567857459f",
   "metadata": {},
   "outputs": [
    {
     "name": "stdout",
     "output_type": "stream",
     "text": [
      " WORLD_SIZE=1 , LOCAL_WORLD_SIZE=1,RANK =0,LOCAL_RANK = 0 \n",
      "cuda:0\n",
      "../checkpoints/new_hierarchy_checkpoints\n"
     ]
    },
    {
     "name": "stderr",
     "output_type": "stream",
     "text": [
      "/home/aac/Alireza/local_codes/../dlp/data_process.py:25: DtypeWarning: Columns (1,2) have mixed types. Specify dtype option on import or set low_memory=False.\n",
      "  df = pd.read_csv(\"../data/rank_tax.csv\")\n"
     ]
    },
    {
     "name": "stdout",
     "output_type": "stream",
     "text": [
      "Loaded dictionary.\n"
     ]
    }
   ],
   "source": [
    "import torch\n",
    "import pandas as pd\n",
    "import numpy as np\n",
    "import torch.nn as nn\n",
    "import torch.optim as optim\n",
    "from tqdm import tqdm\n",
    "import sys, os, math\n",
    "\n",
    "sys.path.insert(0, '../dlp')\n",
    "from data_access import PQDataAccess\n",
    "\n",
    "pd.set_option('future.no_silent_downcasting', True)\n",
    "device = 'cuda:0' if torch.cuda.is_available() else 'cpu'\n",
    "print(device)\n",
    "\n",
    "batch_size = 32\n",
    "da = PQDataAccess(\"/home/aac/Alireza/datasets/taxseq/corpus_1000\", batch_size)\n",
    "epochs= 10_000\n",
    "val_epoch = 50\n",
    "num_val = 25\n",
    "\n",
    "model_name = \"new_hierarchy\" # \"FNN\", \"hierarchy\", \"T5\"\n",
    "checkpoint_dir = f\"../checkpoints/{model_name}_checkpoints\"\n",
    "\n",
    "if not os.path.exists(checkpoint_dir):\n",
    "    os.makedirs(checkpoint_dir)\n",
    "print(checkpoint_dir)\n",
    "\n",
    "from data_process import *"
   ]
  },
  {
   "cell_type": "code",
   "execution_count": 2,
   "id": "a9630d96-6b98-4224-bf1e-482605688b02",
   "metadata": {},
   "outputs": [
    {
     "name": "stderr",
     "output_type": "stream",
     "text": [
      "/opt/conda/envs/py_3.10/lib/python3.10/site-packages/torch/nn/modules/transformer.py:306: UserWarning: enable_nested_tensor is True, but self.use_nested_tensor is False because encoder_layer.self_attn.batch_first was not True(use batch_first for better inference performance)\n",
      "  warnings.warn(f\"enable_nested_tensor is True, but self.use_nested_tensor is False because {why_not_sparsity_fast_path}\")\n",
      "/opt/conda/envs/py_3.10/lib/python3.10/site-packages/tqdm/auto.py:21: TqdmWarning: IProgress not found. Please update jupyter and ipywidgets. See https://ipywidgets.readthedocs.io/en/stable/user_install.html\n",
      "  from .autonotebook import tqdm as notebook_tqdm\n"
     ]
    },
    {
     "name": "stdout",
     "output_type": "stream",
     "text": [
      "model: 120.04096 M parameters\n"
     ]
    }
   ],
   "source": [
    "from models.TaxonomyClassifier import TaxonomyClassifier\n",
    "\n",
    "total = sum(importance_dict.values())\n",
    "level_weights = {key: value / total for key, value in importance_dict.items()}\n",
    "\n",
    "model = TaxonomyClassifier(taxonomy_levels=tax_vocab_sizes).to(device)\n",
    "\n",
    "optimizer = torch.optim.Adam(model.parameters(), lr=1e-4)\n",
    "\n",
    "print(\"model:\", sum(p.numel() for p in model.parameters()) / 1e6, 'M parameters')"
   ]
  },
  {
   "cell_type": "code",
   "execution_count": null,
   "id": "4f21f4b4-1f5b-43ce-9512-af44c8a53454",
   "metadata": {},
   "outputs": [
    {
     "name": "stderr",
     "output_type": "stream",
     "text": [
      "/opt/conda/envs/py_3.10/lib/python3.10/site-packages/torch/nn/functional.py:5504: UserWarning: 1Torch was not compiled with memory efficient attention. (Triggered internally at /var/lib/jenkins/pytorch/aten/src/ATen/native/transformers/hip/sdp_utils.cpp:505.)\n",
      "  attn_output = scaled_dot_product_attention(q, k, v, attn_mask, dropout_p, is_causal)\n"
     ]
    }
   ],
   "source": [
    "from train import train_step\n",
    "from evaluate import evaluate\n",
    "\n",
    "model.train()\n",
    "\n",
    "train_losses = []\n",
    "val_losses = []\n",
    "val_accuracies = []\n",
    "val_f1s = []\n",
    "\n",
    "for epoch in range(epochs):\n",
    "    train_loss, level_losses = train_step(model, optimizer, da, device, level_weights)\n",
    "    train_losses.append(train_loss)\n",
    "    \n",
    "    if (epoch + 1) % val_epoch == 0:\n",
    "        val_loss, level_losses, acc, level_f1, cms = evaluate(model, da, device, tax_vocab_sizes, level_weights, num_val)\n",
    "        print(\"cms\", cms)\n",
    "        val_losses.append(val_loss)\n",
    "        val_accuracies.append(acc)\n",
    "        val_f1s.append(level_f1)\n",
    "\n",
    "        mean_train_loss = sum(train_losses[-val_epoch:]) / val_epoch\n",
    "        \n",
    "        print(f\"Epoch {epoch+1}, Train Loss: {mean_train_loss:.4f}, Val Loss: {val_loss:.4f}, val acc: {acc:.4f}\")\n",
    "        print(sum(level_f1.values()) / len(level_f1))\n",
    "    \n",
    "        checkpoint_path = os.path.join(checkpoint_dir, f\"checkpoint_step_{epoch + 1}.pt\")\n",
    "        torch.save({\n",
    "            'epoch': epoch,\n",
    "            'model_state_dict': model.state_dict(),\n",
    "            'optimizer_state_dict': optimizer.state_dict(),\n",
    "            'train_loss': train_loss,\n",
    "            'val_loss': val_loss,\n",
    "            'accuracy': acc,\n",
    "            'f1_score': level_f1\n",
    "        }, checkpoint_path)"
   ]
  },
  {
   "cell_type": "code",
   "execution_count": 7,
   "id": "3448896f-7820-4e7a-9be6-a5f3908e2745",
   "metadata": {},
   "outputs": [],
   "source": [
    "def load_latest_checkpoint(checkpoint_dir, model, specific=None):\n",
    "    # List all checkpoint files and sort them by step number\n",
    "    checkpoints = [f for f in os.listdir(checkpoint_dir) if f.startswith(\"checkpoint_step_\")]\n",
    "    if not checkpoints:\n",
    "        print(\"No checkpoints found in directory.\")\n",
    "        return None\n",
    "\n",
    "    # Find the latest checkpoint based on step number\n",
    "    checkpoints.sort(key=lambda x: int(x.split(\"_\")[-1].split(\".\")[0]), reverse=True)\n",
    "    if specific is None:\n",
    "        latest_checkpoint_path = os.path.join(checkpoint_dir, checkpoints[0])\n",
    "    else:\n",
    "        latest_checkpoint_path = os.path.join(checkpoint_dir, specific)\n",
    "\n",
    "    # Load the checkpoint\n",
    "    checkpoint = torch.load(latest_checkpoint_path)\n",
    "    model.load_state_dict(checkpoint['model_state_dict'])\n",
    "    epoch = checkpoint['epoch']\n",
    "    train_loss = checkpoint['train_loss']\n",
    "    val_loss = checkpoint['val_loss']\n",
    "    accuracy = checkpoint['accuracy']\n",
    "    f1_score = checkpoint['f1_score']\n",
    "\n",
    "    print(f\"Loaded checkpoint from epoch {epoch+1}\")\n",
    "    \n",
    "    return {\n",
    "        \"epoch\": epoch,\n",
    "        \"train_loss\": train_loss,\n",
    "        \"val_loss\": val_loss,\n",
    "        \"accuracy\": accuracy,\n",
    "        \"f1_score\": f1_score\n",
    "    }"
   ]
  },
  {
   "cell_type": "code",
   "execution_count": 1,
   "id": "45da7505-9ea8-4b10-9ccf-88f41ae46b99",
   "metadata": {},
   "outputs": [
    {
     "name": "stderr",
     "output_type": "stream",
     "text": [
      "/home/aac/Alireza/local_codes/../dlp/data_process.py:25: DtypeWarning: Columns (1,2) have mixed types. Specify dtype option on import or set low_memory=False.\n",
      "  df = pd.read_csv(\"../data/rank_tax.csv\")\n"
     ]
    },
    {
     "name": "stdout",
     "output_type": "stream",
     "text": [
      "Created and saved dictionary.\n",
      "['cellular organisms', 'Bacteria', 'Proteobacteria', 'Betaproteobacteria', 'unclassified Betaproteobacteria', 'Betaproteobacteria bacterium GR16-43']\n",
      "['begining root', 'superkingdom', 'species', 'class', 'no rank', 'species']\n",
      "{'superkingdom': [1], 'genus': [0], 'order': [0], 'family': [0], 'subspecies': [0], 'no rank': [1317], 'subfamily': [0], 'strain': [0], 'serogroup': [0], 'biotype': [0], 'tribe': [0], 'phylum': [0], 'class': [62], 'species group': [0], 'forma': [0], 'clade': [0], 'suborder': [0], 'subclass': [0], 'varietas': [0], 'kingdom': [0], 'subphylum': [0], 'forma specialis': [0], 'isolate': [0], 'superfamily': [0], 'infraorder': [0], 'infraclass': [0], 'superorder': [0], 'subgenus': [0], 'superclass': [0], 'parvorder': [0], 'begining root': [2], 'serotype': [0], 'species subgroup': [0], 'subcohort': [0], 'cohort': [0], 'genotype': [0], 'subtribe': [0], 'section': [0], 'series': [0], 'morph': [0], 'subkingdom': [0], 'superphylum': [0], 'subsection': [0], 'pathogroup': [0]}\n"
     ]
    }
   ],
   "source": [
    "import sys\n",
    "sys.path.insert(0, '../dlp')\n",
    "\n",
    "from data_process import *\n",
    "\n",
    "test_seq = \"MKRLRPSDKFFELLGYKPHHVQLAIHRSTAKRRVACLGRQSGKSEAASVEAVFELFARPGSQGWIIAPTYDQAEIIFGRVVEKVERLSEVFPTTEVQLQRRRLRLLVHHYDRPVNAPGAKRVATSEFRGKSADRPDNLRGATLDFVILDEAAMIPFSVWSEAIEPTLSVRDGWALIISTPKGLNWFYEFFLMGWRGGLKEGIPNSGINQTHPDFESFHAASWDVWPERREWYMERRLYIPDLEFRQEYGAEFVSHSNSVFSGLDMLILLPYERRGTRLVVEDYRPDHIYCIGADFGKNQDYSVFSVLDLDTGAIACLERMNGATWSDQVARLKALSEDYGHAYVVADTWGVGDAIAEELDAQGINYTPLPVKSSSVKEQLISNLALLMEKGQVAVPNDKTILDELRNFRYYRTASGNQVMRAYGRGHDDIVMSLALAYSQYEGKDGYKFELAEERPSKLKHEESVMSLVEDDFTDLELANRAFSA\"\n",
    "tax_lineage = \"cellular organisms, Bacteria, Proteobacteria, Betaproteobacteria, unclassified Betaproteobacteria, Betaproteobacteria bacterium GR16-43\"\n",
    "\n",
    "print(encode_lineage(tax_lineage))\n",
    "\n",
    "model = TaxonomyClassifier(taxonomy_levels=tax_vocab_sizes).to(device)\n",
    "latest_checkpoint = load_latest_checkpoint(checkpoint_dir, model, specific=\"checkpoint_step_1500.pt\")\n",
    "\n",
    "input_tensor = torch.LongTensor([encode_sequence(test_seq)]).to(device)\n",
    "output = model(input_tensor)\n",
    "print(list(output.keys()))\n",
    "\n",
    "output_indexes = {k: v.argmax().item() for k,v in output.items()}"
   ]
  },
  {
   "cell_type": "code",
   "execution_count": 27,
   "id": "aecddbeb-a4fe-4946-b2ba-2be7093f632c",
   "metadata": {},
   "outputs": [
    {
     "name": "stdout",
     "output_type": "stream",
     "text": [
      "{'superkingdom': 0.78125, 'genus': 0.0, 'order': 0.3125, 'family': 0.375, 'subspecies': 1.0, 'no rank': 0.625, 'subfamily': 1.0, 'strain': 0.96875, 'serogroup': 1.0, 'biotype': 1.0, 'tribe': 1.0, 'phylum': 0.78125, 'class': 0.3125, 'species group': 1.0, 'forma': 1.0, 'clade': 0.65625, 'suborder': 0.78125, 'subclass': 0.78125, 'varietas': 1.0, 'kingdom': 0.78125, 'subphylum': 1.0, 'forma specialis': 1.0, 'isolate': 1.0, 'superfamily': 1.0, 'infraorder': 1.0, 'infraclass': 1.0, 'superorder': 1.0, 'subgenus': 1.0, 'superclass': 1.0, 'parvorder': 1.0, 'serotype': 1.0, 'species subgroup': 1.0, 'subcohort': 1.0, 'cohort': 1.0, 'genotype': 1.0, 'subtribe': 1.0, 'section': 1.0, 'series': 1.0, 'morph': 1.0, 'subkingdom': 1.0, 'superphylum': 1.0, 'subsection': 1.0, 'pathogroup': 1.0}\n"
     ]
    }
   ],
   "source": [
    "print(latest_checkpoint[\"f1_score\"])"
   ]
  },
  {
   "cell_type": "code",
   "execution_count": 5,
   "id": "db2317f1-2a79-44fb-a244-a972118d24e5",
   "metadata": {},
   "outputs": [
    {
     "name": "stdout",
     "output_type": "stream",
     "text": [
      "Collecting matplotlib\n",
      "  Downloading matplotlib-3.9.2-cp310-cp310-manylinux_2_17_x86_64.manylinux2014_x86_64.whl.metadata (11 kB)\n",
      "Collecting contourpy>=1.0.1 (from matplotlib)\n",
      "  Downloading contourpy-1.3.0-cp310-cp310-manylinux_2_17_x86_64.manylinux2014_x86_64.whl.metadata (5.4 kB)\n",
      "Collecting cycler>=0.10 (from matplotlib)\n",
      "  Downloading cycler-0.12.1-py3-none-any.whl.metadata (3.8 kB)\n",
      "Collecting fonttools>=4.22.0 (from matplotlib)\n",
      "  Downloading fonttools-4.54.1-cp310-cp310-manylinux_2_17_x86_64.manylinux2014_x86_64.whl.metadata (163 kB)\n",
      "\u001b[2K     \u001b[90m━━━━━━━━━━━━━━━━━━━━━━━━━━━━━━━━━━━━━━\u001b[0m \u001b[32m163.7/163.7 kB\u001b[0m \u001b[31m11.4 MB/s\u001b[0m eta \u001b[36m0:00:00\u001b[0m\n",
      "\u001b[?25hCollecting kiwisolver>=1.3.1 (from matplotlib)\n",
      "  Downloading kiwisolver-1.4.7-cp310-cp310-manylinux_2_12_x86_64.manylinux2010_x86_64.whl.metadata (6.3 kB)\n",
      "Requirement already satisfied: numpy>=1.23 in /opt/conda/envs/py_3.10/lib/python3.10/site-packages (from matplotlib) (1.24.3)\n",
      "Requirement already satisfied: packaging>=20.0 in /opt/conda/envs/py_3.10/lib/python3.10/site-packages (from matplotlib) (24.1)\n",
      "Requirement already satisfied: pillow>=8 in /opt/conda/envs/py_3.10/lib/python3.10/site-packages (from matplotlib) (10.2.0)\n",
      "Collecting pyparsing>=2.3.1 (from matplotlib)\n",
      "  Downloading pyparsing-3.2.0-py3-none-any.whl.metadata (5.0 kB)\n",
      "Requirement already satisfied: python-dateutil>=2.7 in /opt/conda/envs/py_3.10/lib/python3.10/site-packages (from matplotlib) (2.9.0.post0)\n",
      "Requirement already satisfied: six>=1.5 in /opt/conda/envs/py_3.10/lib/python3.10/site-packages (from python-dateutil>=2.7->matplotlib) (1.16.0)\n",
      "Downloading matplotlib-3.9.2-cp310-cp310-manylinux_2_17_x86_64.manylinux2014_x86_64.whl (8.3 MB)\n",
      "\u001b[2K   \u001b[90m━━━━━━━━━━━━━━━━━━━━━━━━━━━━━━━━━━━━━━━━\u001b[0m \u001b[32m8.3/8.3 MB\u001b[0m \u001b[31m97.2 MB/s\u001b[0m eta \u001b[36m0:00:00\u001b[0m:00:01\u001b[0m00:01\u001b[0m\n",
      "\u001b[?25hDownloading contourpy-1.3.0-cp310-cp310-manylinux_2_17_x86_64.manylinux2014_x86_64.whl (322 kB)\n",
      "\u001b[2K   \u001b[90m━━━━━━━━━━━━━━━━━━━━━━━━━━━━━━━━━━━━━━━━\u001b[0m \u001b[32m322.0/322.0 kB\u001b[0m \u001b[31m73.9 MB/s\u001b[0m eta \u001b[36m0:00:00\u001b[0m\n",
      "\u001b[?25hDownloading cycler-0.12.1-py3-none-any.whl (8.3 kB)\n",
      "Downloading fonttools-4.54.1-cp310-cp310-manylinux_2_17_x86_64.manylinux2014_x86_64.whl (4.6 MB)\n",
      "\u001b[2K   \u001b[90m━━━━━━━━━━━━━━━━━━━━━━━━━━━━━━━━━━━━━━━━\u001b[0m \u001b[32m4.6/4.6 MB\u001b[0m \u001b[31m115.6 MB/s\u001b[0m eta \u001b[36m0:00:00\u001b[0m00:01\u001b[0m\n",
      "\u001b[?25hDownloading kiwisolver-1.4.7-cp310-cp310-manylinux_2_12_x86_64.manylinux2010_x86_64.whl (1.6 MB)\n",
      "\u001b[2K   \u001b[90m━━━━━━━━━━━━━━━━━━━━━━━━━━━━━━━━━━━━━━━━\u001b[0m \u001b[32m1.6/1.6 MB\u001b[0m \u001b[31m111.1 MB/s\u001b[0m eta \u001b[36m0:00:00\u001b[0m\n",
      "\u001b[?25hDownloading pyparsing-3.2.0-py3-none-any.whl (106 kB)\n",
      "\u001b[2K   \u001b[90m━━━━━━━━━━━━━━━━━━━━━━━━━━━━━━━━━━━━━━━━\u001b[0m \u001b[32m106.9/106.9 kB\u001b[0m \u001b[31m38.1 MB/s\u001b[0m eta \u001b[36m0:00:00\u001b[0m\n",
      "\u001b[?25hInstalling collected packages: pyparsing, kiwisolver, fonttools, cycler, contourpy, matplotlib\n",
      "Successfully installed contourpy-1.3.0 cycler-0.12.1 fonttools-4.54.1 kiwisolver-1.4.7 matplotlib-3.9.2 pyparsing-3.2.0\n",
      "\u001b[33mWARNING: Running pip as the 'root' user can result in broken permissions and conflicting behaviour with the system package manager. It is recommended to use a virtual environment instead: https://pip.pypa.io/warnings/venv\u001b[0m\u001b[33m\n",
      "\u001b[0m"
     ]
    }
   ],
   "source": [
    "!pip install matplotlib"
   ]
  },
  {
   "cell_type": "code",
   "execution_count": 9,
   "id": "ca7e9269-7bac-4d73-9d4d-30cdf2cac279",
   "metadata": {},
   "outputs": [
    {
     "data": {
      "image/png": "[encoded data removed]",
      "text/plain": [
       "<Figure size 640x480 with 1 Axes>"
      ]
     },
     "metadata": {},
     "output_type": "display_data"
    }
   ],
   "source": [
    "import sys\n",
    "sys.path.insert(0, '../dlp')\n",
    "\n",
    "from data_process import *\n",
    "\n",
    "# plot the number of species in each rank\n",
    "import matplotlib.pyplot as plt\n",
    "import numpy as np\n",
    "x = list(rank2name.keys())\n",
    "x.remove(\"species\")\n",
    "y = [len(rank2name[i]) for i in x]\n",
    "plt.bar(x, y)\n",
    "plt.xticks(rotation=90)\n",
    "plt.savefig(\"rank distibution bar\")\n",
    "plt.show()"
   ]
  },
  {
   "cell_type": "code",
   "execution_count": 30,
   "id": "52c11089-71dd-48b0-b358-125ad52cf76e",
   "metadata": {},
   "outputs": [
    {
     "name": "stdout",
     "output_type": "stream",
     "text": [
      "no rank \t cellular organisms\n",
      "superkingdom \t Bacteria\n"
     ]
    }
   ],
   "source": [
    "hierarchy = [\n",
    "    \"begining root\", \"no rank\", \"superkingdom\", \"kingdom\", \"subkingdom\", \"superphylum\", \"phylum\",\n",
    "    \"subphylum\", \"superclass\", \"class\", \"subclass\", \"infraclass\", \"superorder\", \"order\", \"suborder\",\n",
    "    \"infraorder\", \"parvorder\", \"superfamily\", \"family\", \"subfamily\", \"tribe\", \"subtribe\", \"genus\",\n",
    "    \"subgenus\", \"species group\", \"species subgroup\", \"species\", \"subspecies\", \"varietas\", \"forma specialis\",\n",
    "    \"forma\", \"biotype\", \"pathogroup\", \"serogroup\", \"serotype\", \"isolate\", \"strain\", \"genotype\", \"clade\",\n",
    "    \"cohort\", \"subcohort\", \"section\", \"subsection\", \"series\", \"morph\", \"no rank\",\n",
    "]\n",
    "\n",
    "def pretty_print(dict_index):\n",
    "    for k in hierarchy:\n",
    "        if k in dict_index:\n",
    "            v = dict_index[k]\n",
    "            if v > 0:\n",
    "                print(k, \"\\t\", level_decoder[k][v])\n",
    "\n",
    "\n",
    "def decode_input_lineage(tax_lineage):\n",
    "    print(tax_lineage)\n",
    "    test_input = encode_lineage(tax_lineage)\n",
    "    for k in hierarchy:\n",
    "        if k in test_input:\n",
    "            v = test_input[k][0]\n",
    "            if v > 0:\n",
    "                print(k, \"\\t\", level_decoder[k][v])"
   ]
  },
  {
   "cell_type": "code",
   "execution_count": 11,
   "id": "f6e2846e-9dbd-4da5-918a-53b93e652c0e",
   "metadata": {},
   "outputs": [
    {
     "data": {
      "text/plain": [
       "array([[3, 0, 0],\n",
       "       [0, 3, 1],\n",
       "       [1, 1, 1]])"
      ]
     },
     "execution_count": 11,
     "metadata": {},
     "output_type": "execute_result"
    }
   ],
   "source": [
    "from sklearn.metrics import confusion_matrix\n",
    "\n",
    "# Sample true labels and predicted labels\n",
    "y_true = [0, 1, 2, 2, 0, 1, 2, 0, 1, 1]  # Replace with your true labels\n",
    "y_pred = [0, 2, 1, 2, 0, 1, 0, 0, 1, 1]  # Replace with your predicted labels\n",
    "\n",
    "cm = confusion_matrix(y_true, y_pred)\n",
    "\n",
    "cm"
   ]
  },
  {
   "cell_type": "code",
   "execution_count": null,
   "id": "f06107e0-6114-4468-a3e3-d612a2cc3356",
   "metadata": {},
   "outputs": [],
   "source": []
  }
 ],
 "metadata": {
  "kernelspec": {
   "display_name": "Python 3 (ipykernel)",
   "language": "python",
   "name": "python3"
  },
  "language_info": {
   "codemirror_mode": {
    "name": "ipython",
    "version": 3
   },
   "file_extension": ".py",
   "mimetype": "text/x-python",
   "name": "python",
   "nbconvert_exporter": "python",
   "pygments_lexer": "ipython3",
   "version": "3.10.14"
  }
 },
 "nbformat": 4,
 "nbformat_minor": 5
}

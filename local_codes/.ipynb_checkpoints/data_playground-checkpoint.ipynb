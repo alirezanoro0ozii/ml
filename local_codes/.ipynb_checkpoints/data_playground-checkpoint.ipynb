{
 "cells": [
  {
   "cell_type": "code",
   "execution_count": 4,
   "id": "89519c25-26c3-4604-9701-c09a5caf9130",
   "metadata": {},
   "outputs": [
    {
     "name": "stderr",
     "output_type": "stream",
     "text": [
      "/tmp/ipykernel_1132672/933703609.py:13: DtypeWarning: Columns (1,2) have mixed types. Specify dtype option on import or set low_memory=False.\n",
      "  df = pd.read_csv(StringIO(response.text), sep='\\t')\n"
     ]
    },
    {
     "name": "stdout",
     "output_type": "stream",
     "text": [
      "(2966984, 3)\n"
     ]
    }
   ],
   "source": [
    "import requests\n",
    "import pandas as pd\n",
    "from io import StringIO\n",
    "\n",
    "# The URL you provided\n",
    "url = \"https://rest.uniprot.org/taxonomy/stream?fields=id%2Cscientific_name%2Crank&format=tsv&query=%28*%29\"\n",
    "# Fetch the data\n",
    "response = requests.get(url)\n",
    "\n",
    "# Check if request was successful\n",
    "if response.status_code == 200:\n",
    "    # Create a pandas DataFrame from the TSV content\n",
    "    df = pd.read_csv(StringIO(response.text), sep='\\t')\n",
    "    df.to_csv(\"../data/rank_tax.csv\", index=False)\n",
    "    print(df.shape)\n",
    "else:\n",
    "    print(f\"Failed to fetch data: {response.status_code}\")"
   ]
  },
  {
   "cell_type": "code",
   "execution_count": 10,
   "id": "69a6cbc5-754b-42c7-a4c0-b93f6d6f805f",
   "metadata": {},
   "outputs": [
    {
     "name": "stderr",
     "output_type": "stream",
     "text": [
      "/tmp/ipykernel_1132672/1532917767.py:3: DtypeWarning: Columns (1,2) have mixed types. Specify dtype option on import or set low_memory=False.\n",
      "  df = pd.read_csv(\"../data/rank_tax.csv\")\n"
     ]
    },
    {
     "name": "stdout",
     "output_type": "stream",
     "text": [
      "   Taxon Id           Scientific name          Rank\n",
      "0         2                  Bacteria  superkingdom\n",
      "1         6              Azorhizobium         genus\n",
      "2         7  Azorhizobium caulinodans       species\n",
      "3         9       Buchnera aphidicola       species\n",
      "4        10                Cellvibrio         genus\n"
     ]
    }
   ],
   "source": [
    "import pandas as pd\n",
    "\n",
    "df = pd.read_csv(\"../data/rank_tax.csv\")\n",
    "print(df.head())\n",
    "df.dropna(inplace = True)\n",
    "# taxid_idx = {tax_id: idx for idx, tax_id in enumerate(df['Taxon Id'].values)}\n",
    "# print(len(taxid_idx))\n",
    "\n",
    "\n",
    "# df.nunique()\n",
    "tax_ids_rank = {}\n",
    "rank_tax_ids = {}\n",
    "for _, r in df.iterrows():\n",
    "    tax_id = r['Taxon Id']\n",
    "    rank = r['Rank']\n",
    "    if tax_id in tax_ids_rank:\n",
    "        tax_ids_rank[tax_id].append(rank)\n",
    "    else:    \n",
    "        tax_ids_rank[tax_id] = [rank]\n",
    "\n",
    "    if rank in rank_tax_ids:\n",
    "        rank_tax_ids[rank].append(tax_id)\n",
    "    else:    \n",
    "        rank_tax_ids[rank] = [tax_id]\n",
    "        \n"
   ]
  },
  {
   "cell_type": "code",
   "execution_count": 11,
   "id": "78b3e5ad-7659-440e-bd7c-4de28d5daa30",
   "metadata": {},
   "outputs": [
    {
     "name": "stdout",
     "output_type": "stream",
     "text": [
      "44\n",
      "['superkingdom', 'genus', 'species', 'order', 'family', 'subspecies', 'no rank', 'subfamily', 'strain', 'serogroup', 'biotype', 'tribe', 'phylum', 'class', 'species group', 'forma', 'clade', 'suborder', 'subclass', 'varietas', 'kingdom', 'subphylum', 'forma specialis', 'isolate', 'superfamily', 'infraorder', 'infraclass', 'superorder', 'subgenus', 'superclass', 'parvorder', 'serotype', 'species subgroup', 'subcohort', 'cohort', 'genotype', 'subtribe', 'section', 'series', 'morph', 'subkingdom', 'superphylum', 'subsection', 'pathogroup']\n",
      "subkingdom 1\n",
      "superphylum 1\n",
      "subcohort 3\n",
      "superkingdom 4\n",
      "cohort 5\n",
      "pathogroup 5\n",
      "superclass 6\n",
      "series 9\n",
      "morph 11\n",
      "kingdom 13\n",
      "biotype 17\n",
      "infraclass 19\n",
      "genotype 22\n",
      "parvorder 26\n",
      "subphylum 31\n",
      "subsection 41\n",
      "superorder 57\n",
      "species subgroup 134\n",
      "infraorder 135\n",
      "serogroup 154\n",
      "subclass 169\n",
      "phylum 311\n",
      "species group 359\n",
      "suborder 375\n",
      "class 534\n",
      "section 534\n",
      "subtribe 587\n",
      "forma 699\n",
      "forma specialis 784\n",
      "superfamily 901\n",
      "clade 956\n",
      "serotype 1229\n",
      "isolate 1304\n",
      "subgenus 1821\n",
      "order 1915\n",
      "tribe 2393\n",
      "subfamily 3261\n",
      "varietas 9991\n",
      "family 10413\n",
      "subspecies 29427\n",
      "strain 46396\n",
      "genus 109455\n",
      "no rank 242065\n",
      "species 2122700\n"
     ]
    }
   ],
   "source": [
    "print(len(rank_tax_ids))\n",
    "print(list(rank_tax_ids.keys()))\n",
    "sorted_dict = dict(sorted(rank_tax_ids.items(), key=lambda item: len(item[1])))\n",
    "for k,v in sorted_dict.items():\n",
    "    print(k, len(v))"
   ]
  },
  {
   "cell_type": "code",
   "execution_count": 6,
   "id": "d14d7e7a-1a8d-4047-8a43-c51ef19edbff",
   "metadata": {},
   "outputs": [
    {
     "name": "stderr",
     "output_type": "stream",
     "text": [
      "/tmp/ipykernel_59960/491489111.py:3: DtypeWarning: Columns (1,2) have mixed types. Specify dtype option on import or set low_memory=False.\n",
      "  df = pd.read_csv(\"../data/rank_tax.csv\")\n"
     ]
    }
   ],
   "source": [
    "import pandas as pd\n",
    "\n",
    "df = pd.read_csv(\"../data/rank_tax.csv\")\n",
    "df.dropna(inplace = True)\n",
    "\n",
    "name2rank = {}\n",
    "rank2name = {}\n",
    "for _, r in df.iterrows():\n",
    "    name = r['Scientific name']\n",
    "    rank = r['Rank']\n",
    "    \n",
    "    if name in name2rank:\n",
    "        name2rank[name].append(rank)\n",
    "    else:    \n",
    "        name2rank[name] = [rank]\n",
    "\n",
    "    if rank in rank2name:\n",
    "        rank2name[rank].append(name)\n",
    "    else:    \n",
    "        rank2name[rank] = [name]"
   ]
  },
  {
   "cell_type": "code",
   "execution_count": 7,
   "id": "e4a9df02-5b26-4f0e-9e28-420f18194964",
   "metadata": {},
   "outputs": [],
   "source": [
    "level_encoder = {\n",
    "    k: {name: idx + 1 for idx, name in enumerate(v)}\n",
    "    for k,v in rank2name.items() if k != \"species\"\n",
    "}\n",
    "\n",
    "\n",
    "# Sequence encoder: Convert the protein sequence into integers\n",
    "def encode_lineage(lineage_str):\n",
    "    taxes_str = lineage_str.split(\", \")\n",
    "    ranks = [name2rank[s] for s in lineage_str]\n",
    "    encoded = {k: [] for k in rank2name.keys() if k != \"species\"}\n",
    "    for tax_str, r in zip(taxes_str, ranks):\n",
    "        encoded[r].append(level_encoder[r].get(tax_str, 0))\n",
    "\n",
    "    padded_encoded = {k : torch.LongTensor(v + [0 for _ in range(2 - len(v))]) for k,v in rank2name.items() if k!= \"species\"}\n",
    "    return padded_encoded\n",
    "\n",
    "\n",
    "def data_to_tensor_batch(b, model_name):\n",
    "    if model_name in [\"hierarchy\", \"FNN\"]:\n",
    "        sequences = [encode_sequence(e['sequence']) for e in b]\n",
    "        tax_ids = [encode_lineage(e['tax_lineage']) for e in b]\n",
    "        \n",
    "        return Batch(torch.LongTensor(sequences), tax_ids)\n"
   ]
  },
  {
   "cell_type": "code",
   "execution_count": 8,
   "id": "c169d699-ef4e-4c27-acc8-b2ae3c16c82b",
   "metadata": {},
   "outputs": [],
   "source": [
    "class Batch():\n",
    "    def __init__(self, seq_ids, tax_ids):\n",
    "        self.seq_ids = seq_ids\n",
    "        self.taxes = tax_ids\n",
    "           \n",
    "    def gpu(self, device):      \n",
    "        for name, var in self.__dict__.items():\n",
    "            if isinstance(var, torch.LongTensor):\n",
    "                setattr(self, name, var.to(device))\n",
    "            else:\n",
    "                setattr(self, name, {k: v.to(device) for k, v in var.items()})\n"
   ]
  },
  {
   "cell_type": "code",
   "execution_count": 2,
   "id": "c9f348e9-3172-4a4a-8694-1d58cce742d8",
   "metadata": {},
   "outputs": [
    {
     "name": "stderr",
     "output_type": "stream",
     "text": [
      "/tmp/ipykernel_59960/4091492285.py:3: DtypeWarning: Columns (1,2) have mixed types. Specify dtype option on import or set low_memory=False.\n",
      "  df = pd.read_csv(\"../data/rank_tax.csv\")\n"
     ]
    },
    {
     "name": "stdout",
     "output_type": "stream",
     "text": [
      "   Taxon Id           Scientific name          Rank\n",
      "0         2                  Bacteria  superkingdom\n",
      "1         6              Azorhizobium         genus\n",
      "2         7  Azorhizobium caulinodans       species\n",
      "3         9       Buchnera aphidicola       species\n",
      "4        10                Cellvibrio         genus\n"
     ]
    }
   ],
   "source": [
    "import pandas as pd\n",
    "all_ranks = {}\n",
    "df = pd.read_csv(\"../data/rank_tax.csv\")\n",
    "print(df.head())\n",
    "df.dropna(inplace = True)"
   ]
  },
  {
   "cell_type": "code",
   "execution_count": 13,
   "id": "a9dd601e-5128-400a-8dae-e5d5aee7592f",
   "metadata": {},
   "outputs": [
    {
     "data": {
      "text/plain": [
       "['1 [no rank] root\\n',\n",
       " '  10239 [superkingdom] Viruses\\n',\n",
       " '    10472 [family] Plasmaviridae\\n',\n",
       " '      10473 [genus] Plasmavirus\\n',\n",
       " '        46014 [species] Plasmavirus L2\\n',\n",
       " '    10474 [family] Fuselloviridae\\n',\n",
       " '      10475 [genus] Alphafusellovirus\\n',\n",
       " '        174676 [species] unidentified Fusellovirus\\n',\n",
       " '        244589 [species] Sulfolobus spindle-shaped virus 1\\n',\n",
       " '        244590 [species] Sulfolobus spindle-shaped virus 2\\n']"
      ]
     },
     "execution_count": 13,
     "metadata": {},
     "output_type": "execute_result"
    }
   ],
   "source": [
    "import json\n",
    "\n",
    "with open(\"../data/tree.txt\") as f:\n",
    "    data = f.readlines()\n",
    "data[:10]"
   ]
  },
  {
   "cell_type": "code",
   "execution_count": null,
   "id": "575d8978-2701-473b-ba8e-83e3deb3d570",
   "metadata": {},
   "outputs": [],
   "source": [
    "from transformers import AutoTokenizer\n",
    "\n",
    "tokenizer = AutoTokenizer.from_pretrained(\"google-bert/bert-base-cased\")\n",
    "print(len(tokenizer.vocab))\n",
    "\n",
    "print(tax_lineage.split(\", \"))\n",
    "print([name2rank[t] for t in tax_lineage.split(\", \")])\n",
    "lineage_token = tokenizer.encode(tax_lineage.split(\", \"), add_special_tokens=False, padding='max_length', max_length=40, is_split_into_words= True, return_tensors=\"pt\")\n",
    "print(lineage_token)\n",
    "\n",
    "tokenizer.decode(lineage_token[0], skip_special_tokens=True)"
   ]
  },
  {
   "cell_type": "code",
   "execution_count": null,
   "id": "706f9fec-7cd3-47ac-b360-76aed68eb561",
   "metadata": {},
   "outputs": [],
   "source": [
    "import pandas as pd\n",
    "df = pd.read_csv('../data/Tax.tsv', sep='\\t')\n",
    "for _ in range(11):\n",
    "    ids_rank = df.iloc[_]['Taxonomic lineage (Ids)'].split(', ')\n",
    "    ranks = [i.split('(')[1].replace(')', \"\") for i in ids_rank]\n",
    "    print(_, ranks)"
   ]
  },
  {
   "cell_type": "code",
   "execution_count": null,
   "id": "9af8352d-9fce-4517-84f9-06acbb6e0dde",
   "metadata": {},
   "outputs": [],
   "source": [
    "df.nunique()\n"
   ]
  },
  {
   "cell_type": "code",
   "execution_count": null,
   "id": "c739af3e-7db1-44a9-af2f-1e1b70ea7c4e",
   "metadata": {},
   "outputs": [],
   "source": [
    "print(df.shape)\n",
    "# calculate the number of unique values in each column from Taxonomic lineage (Ids) lists in it\n",
    "all_tree_trace_ids = []\n",
    "all_tax_ids = []\n",
    "for _, r in df.iterrows():\n",
    "    ids_ranks = r['Taxonomic lineage (Ids)'].split(', ')\n",
    "    tree_trace_ids = [int(i.split(' ')[0]) for i in ids_ranks] + [int(r['Organism (ID)'])]\n",
    "    tax_ids = [int(i.split(' ')[0]) for i in ids_ranks]\n",
    "    all_tax_ids.append(tax_ids)\n",
    "    all_tree_trace_ids.append(tree_trace_ids)\n",
    "\n",
    "set_list = [set(t) for t in all_tax_ids]\n",
    "union_set = len(set().union(*set_list))\n",
    "print(\"num_taxonomy_ids: \", union_set)\n",
    "\n",
    "set_list = [set(t) for t in all_tree_trace_ids]\n",
    "union_set = len(set().union(*set_list))\n",
    "print(\"num_tree_trace_ids: \", union_set)"
   ]
  },
  {
   "cell_type": "code",
   "execution_count": null,
   "id": "139accba-ccb2-4a22-8d50-c24ea694ba89",
   "metadata": {},
   "outputs": [],
   "source": [
    "tax_ids_pos = {}\n",
    "pos_tax_ids = {}\n",
    "for _, r in df.iterrows():\n",
    "    ids_ranks = r['Taxonomic lineage (Ids)'].split(', ')\n",
    "    tax_ids = [int(i.split(' ')[0]) for i in ids_ranks]\n",
    "    for i, tax_id in enumerate(tax_ids):\n",
    "        if tax_id in tax_ids_pos:\n",
    "            tax_ids_pos[tax_id].append(i)\n",
    "        else:    \n",
    "            tax_ids_pos[tax_id] = [i]\n",
    "\n",
    "        if i in pos_tax_ids:\n",
    "            pos_tax_ids[i].append(tax_id)\n",
    "        else:    \n",
    "            pos_tax_ids[i] = [tax_id]\n",
    "\n",
    "print(len(tax_ids_pos))\n",
    "\n",
    "pos_tax_ids = {k: list(set(v)) for k, v in pos_tax_ids.items()}\n",
    "print(len(pos_tax_ids))\n",
    "print(pos_tax_ids[0])"
   ]
  },
  {
   "cell_type": "code",
   "execution_count": null,
   "id": "2abe9dfd-e81c-4f73-88c2-5f3f647a85bc",
   "metadata": {},
   "outputs": [],
   "source": [
    "for k, v in pos_tax_ids.items():\n",
    "    print(k, len(v))"
   ]
  },
  {
   "cell_type": "code",
   "execution_count": null,
   "id": "7ca241e8-a398-4c40-9f3f-69bab881c355",
   "metadata": {},
   "outputs": [],
   "source": [
    "# print all ranks of the Organism (ID)s\n",
    "all_ranks = []\n",
    "for _, r in df.iterrows():\n",
    "    organ_id = r['Organism (ID)']\n",
    "    ranks = [i.split('(')[1].replace(')', \"\") for i in ids_ranks]\n",
    "    all_ranks.append(ranks)"
   ]
  },
  {
   "cell_type": "code",
   "execution_count": null,
   "id": "847c4116-316d-46c3-a55c-edf2f2a91e22",
   "metadata": {},
   "outputs": [],
   "source": [
    "rank_to_id = {}\n",
    "for _, r in df.iterrows():\n",
    "    ids_rank = r['Taxonomic lineage (Ids)'].split(', ')\n",
    "    ranks = [i.split('(')[1].replace(')', \"\") for i in ids_rank]\n",
    "    for i, rank in enumerate(ranks):\n",
    "        if rank not in rank_to_id:\n",
    "            rank_to_id[rank] = []\n",
    "        rank_to_id[rank].append(ids_rank[i])"
   ]
  },
  {
   "cell_type": "code",
   "execution_count": null,
   "id": "a6d2eea7-60fe-49ce-9b1d-4cece6d4e1ae",
   "metadata": {},
   "outputs": [],
   "source": [
    "len(list(rank_to_id.keys()))"
   ]
  },
  {
   "cell_type": "code",
   "execution_count": null,
   "id": "266e7754-6c1e-44ce-a308-f357b3444387",
   "metadata": {},
   "outputs": [],
   "source": [
    "# Convert all lists in the dictionary to sets\n",
    "rank_to_uniqe_id = {k: len(list(set(v))) for k, v in rank_to_id.items()}\n",
    "\n",
    "# print(sum([len(v) for v in rank_to_id.values()]))\n",
    "\n",
    "# Sum values of all sets in the dictionary\n",
    "# union_set = len(set().union(*rank_to_id.values()))\n",
    "# print(\"num_taxonomy_ids: \", union_set)"
   ]
  },
  {
   "cell_type": "code",
   "execution_count": null,
   "id": "f6391212-5d3c-408e-beff-26e43d00495a",
   "metadata": {},
   "outputs": [],
   "source": [
    "from multi_head_classification import TaxonomyClassifier as tc\n",
    "print(rank_to_uniqe_id)\n",
    "Model = tc(vocab_size=21, taxonomy_levels=rank_to_uniqe_id)"
   ]
  },
  {
   "cell_type": "code",
   "execution_count": null,
   "id": "61469806-4435-4143-8ff5-ab060b641e3e",
   "metadata": {},
   "outputs": [],
   "source": [
    "# plot the number of species in each rank\n",
    "import matplotlib.pyplot as plt\n",
    "import numpy as np\n",
    "x = list(rank_to_id.keys())\n",
    "y = [len(rank_to_id[i]) for i in x]\n",
    "plt.bar(x, y)\n",
    "plt.xticks(rotation=90)\n",
    "plt.show()\n"
   ]
  },
  {
   "cell_type": "code",
   "execution_count": null,
   "id": "8132072d-1fac-4645-8ca0-ea53955d0c71",
   "metadata": {},
   "outputs": [],
   "source": [
    "import sys\n",
    "sys.path.insert(0, '../dlp')\n",
    "\n",
    "from data_process import *\n",
    "\n",
    "# plot the number of species in each rank\n",
    "import matplotlib.pyplot as plt\n",
    "import numpy as np\n",
    "x = list(rank2name.keys())\n",
    "x.remove(\"species\")\n",
    "y = [len(rank2name[i]) for i in x]\n",
    "plt.bar(x, y)\n",
    "plt.xticks(rotation=90)\n",
    "plt.savefig(\"rank distibution bar\")\n",
    "plt.show()"
   ]
  },
  {
   "cell_type": "code",
   "execution_count": 1,
   "id": "2b3b2129-63ee-42a3-a380-fe2f7c3d984e",
   "metadata": {},
   "outputs": [
    {
     "name": "stderr",
     "output_type": "stream",
     "text": [
      "\u001b[34m\u001b[1mwandb\u001b[0m: Using wandb-core as the SDK backend. Please refer to https://wandb.me/wandb-core for more information.\n",
      "\u001b[34m\u001b[1mwandb\u001b[0m: Currently logged in as: \u001b[33malirezanor\u001b[0m (\u001b[33malirezanor-310-ai\u001b[0m). Use \u001b[1m`wandb login --relogin`\u001b[0m to force relogin\n"
     ]
    },
    {
     "data": {
      "text/html": [
       "Tracking run with wandb version 0.18.5"
      ],
      "text/plain": [
       "<IPython.core.display.HTML object>"
      ]
     },
     "metadata": {},
     "output_type": "display_data"
    },
    {
     "data": {
      "text/html": [
       "Run data is saved locally in <code>/home/aac/Alireza/local_codes/wandb/run-20241105_171841-lvmg90p2</code>"
      ],
      "text/plain": [
       "<IPython.core.display.HTML object>"
      ]
     },
     "metadata": {},
     "output_type": "display_data"
    },
    {
     "data": {
      "text/html": [
       "Syncing run <strong><a href='https://wandb.ai/alirezanor-310-ai/my-awesome-project/runs/lvmg90p2' target=\"_blank\">earnest-durian-1</a></strong> to <a href='https://wandb.ai/alirezanor-310-ai/my-awesome-project' target=\"_blank\">Weights & Biases</a> (<a href='https://wandb.me/run' target=\"_blank\">docs</a>)<br/>"
      ],
      "text/plain": [
       "<IPython.core.display.HTML object>"
      ]
     },
     "metadata": {},
     "output_type": "display_data"
    },
    {
     "data": {
      "text/html": [
       " View project at <a href='https://wandb.ai/alirezanor-310-ai/my-awesome-project' target=\"_blank\">https://wandb.ai/alirezanor-310-ai/my-awesome-project</a>"
      ],
      "text/plain": [
       "<IPython.core.display.HTML object>"
      ]
     },
     "metadata": {},
     "output_type": "display_data"
    },
    {
     "data": {
      "text/html": [
       " View run at <a href='https://wandb.ai/alirezanor-310-ai/my-awesome-project/runs/lvmg90p2' target=\"_blank\">https://wandb.ai/alirezanor-310-ai/my-awesome-project/runs/lvmg90p2</a>"
      ],
      "text/plain": [
       "<IPython.core.display.HTML object>"
      ]
     },
     "metadata": {},
     "output_type": "display_data"
    },
    {
     "data": {
      "text/html": [
       "<style>\n",
       "    table.wandb td:nth-child(1) { padding: 0 10px; text-align: left ; width: auto;} td:nth-child(2) {text-align: left ; width: 100%}\n",
       "    .wandb-row { display: flex; flex-direction: row; flex-wrap: wrap; justify-content: flex-start; width: 100% }\n",
       "    .wandb-col { display: flex; flex-direction: column; flex-basis: 100%; flex: 1; padding: 10px; }\n",
       "    </style>\n",
       "<div class=\"wandb-row\"><div class=\"wandb-col\"><h3>Run history:</h3><br/><table class=\"wandb\"><tr><td>acc</td><td>▁▅▃▇▇█▆█</td></tr><tr><td>loss</td><td>█▃▂▂▂▁▁▂</td></tr></table><br/></div><div class=\"wandb-col\"><h3>Run summary:</h3><br/><table class=\"wandb\"><tr><td>acc</td><td>0.83467</td></tr><tr><td>loss</td><td>0.21487</td></tr></table><br/></div></div>"
      ],
      "text/plain": [
       "<IPython.core.display.HTML object>"
      ]
     },
     "metadata": {},
     "output_type": "display_data"
    },
    {
     "data": {
      "text/html": [
       " View run <strong style=\"color:#cdcd00\">earnest-durian-1</strong> at: <a href='https://wandb.ai/alirezanor-310-ai/my-awesome-project/runs/lvmg90p2' target=\"_blank\">https://wandb.ai/alirezanor-310-ai/my-awesome-project/runs/lvmg90p2</a><br/> View project at: <a href='https://wandb.ai/alirezanor-310-ai/my-awesome-project' target=\"_blank\">https://wandb.ai/alirezanor-310-ai/my-awesome-project</a><br/>Synced 5 W&B file(s), 0 media file(s), 0 artifact file(s) and 0 other file(s)"
      ],
      "text/plain": [
       "<IPython.core.display.HTML object>"
      ]
     },
     "metadata": {},
     "output_type": "display_data"
    },
    {
     "data": {
      "text/html": [
       "Find logs at: <code>./wandb/run-20241105_171841-lvmg90p2/logs</code>"
      ],
      "text/plain": [
       "<IPython.core.display.HTML object>"
      ]
     },
     "metadata": {},
     "output_type": "display_data"
    }
   ],
   "source": [
    "import wandb\n",
    "import random\n",
    "\n",
    "# start a new wandb run to track this script\n",
    "wandb.init(\n",
    "    # set the wandb project where this run will be logged\n",
    "    project=\"my-awesome-project\",\n",
    "\n",
    "    # track hyperparameters and run metadata\n",
    "    config={\n",
    "    \"learning_rate\": 0.02,\n",
    "    \"architecture\": \"CNN\",\n",
    "    \"dataset\": \"CIFAR-100\",\n",
    "    \"epochs\": 10,\n",
    "    }\n",
    ")\n",
    "\n",
    "# simulate training\n",
    "epochs = 10\n",
    "offset = random.random() / 5\n",
    "for epoch in range(2, epochs):\n",
    "    acc = 1 - 2 ** -epoch - random.random() / epoch - offset\n",
    "    loss = 2 ** -epoch + random.random() / epoch + offset\n",
    "\n",
    "    # log metrics to wandb\n",
    "    wandb.log({\"acc\": acc, \"loss\": loss})\n",
    "\n",
    "# [optional] finish the wandb run, necessary in notebooks\n",
    "wandb.finish()"
   ]
  },
  {
   "cell_type": "code",
   "execution_count": null,
   "id": "2640a3dd-60d4-4d75-8b88-2ba03b143883",
   "metadata": {},
   "outputs": [],
   "source": [
    "test_protein_sequence = [\"MKTAYIAKQRQISFVKSHFSRQDIL\"]\n",
    "src = torch.LongTensor([encode_sequence(*test_protein_sequence)]).to(device)\n",
    "\n",
    "def test_tokenization():\n",
    "    sample_lineage = \"Bacteria, Proteobacteria, Gammaproteobacteria, Enterobacterales\"\n",
    "    encoded = encode_lineage_tokenizer(sample_lineage)\n",
    "    \n",
    "    # Decode to verify\n",
    "    decoded = tokenizer.decode(encoded)\n",
    "    \n",
    "    print(\"Original:\", sample_lineage)\n",
    "    print(\"Encoded:\", encoded)\n",
    "    print(\"Decoded:\", decoded)\n",
    "    print(\"Start token (CLS):\", encoded[0])\n",
    "    # print(\"End token (SEP):\", encoded[encoded.index(tokenizer.sep_token_id)])\n",
    "    \n",
    "    # Get special token IDs for reference\n",
    "    print(\"\\nSpecial Token IDs:\")\n",
    "    print(\"CLS token ID:\", tokenizer.cls_token_id)\n",
    "    print(\"SEP token ID:\", tokenizer.sep_token_id)\n",
    "    print(\"PAD token ID:\", tokenizer.pad_token_id)\n",
    "\n",
    "test_tokenization()\n",
    "print(tokenizer.decode([101]))"
   ]
  }
 ],
 "metadata": {
  "kernelspec": {
   "display_name": "Python 3 (ipykernel)",
   "language": "python",
   "name": "python3"
  },
  "language_info": {
   "codemirror_mode": {
    "name": "ipython",
    "version": 3
   },
   "file_extension": ".py",
   "mimetype": "text/x-python",
   "name": "python",
   "nbconvert_exporter": "python",
   "pygments_lexer": "ipython3",
   "version": "3.10.14"
  }
 },
 "nbformat": 4,
 "nbformat_minor": 5
}

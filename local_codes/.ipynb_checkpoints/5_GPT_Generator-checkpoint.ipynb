{
 "cells": [
  {
   "cell_type": "code",
   "execution_count": 1,
   "id": "14f72f00-0291-4d5d-a83e-805dd024cb0b",
   "metadata": {},
   "outputs": [
    {
     "name": "stdout",
     "output_type": "stream",
     "text": [
      " WORLD_SIZE=1 , LOCAL_WORLD_SIZE=1,RANK =0,LOCAL_RANK = 0 \n"
     ]
    },
    {
     "name": "stderr",
     "output_type": "stream",
     "text": [
      "/opt/conda/envs/py_3.10/lib/python3.10/site-packages/tqdm/auto.py:21: TqdmWarning: IProgress not found. Please update jupyter and ipywidgets. See https://ipywidgets.readthedocs.io/en/stable/user_install.html\n",
      "  from .autonotebook import tqdm as notebook_tqdm\n"
     ]
    },
    {
     "name": "stdout",
     "output_type": "stream",
     "text": [
      "Loaded dictionary.\n",
      "cuda:0\n",
      "../checkpoints/GPT_checkpoints\n"
     ]
    }
   ],
   "source": [
    "import torch\n",
    "import pandas as pd\n",
    "import numpy as np\n",
    "import torch.nn as nn\n",
    "import torch.optim as optim\n",
    "from torch.optim.lr_scheduler import StepLR\n",
    "from tqdm import tqdm\n",
    "import sys, os, math\n",
    "\n",
    "sys.path.insert(0, '../dlp')\n",
    "from data_access import PQDataAccess\n",
    "from data_process import *\n",
    "\n",
    "pd.set_option('future.no_silent_downcasting', True)\n",
    "device = 'cuda:0' if torch.cuda.is_available() else 'cpu'\n",
    "print(device)\n",
    "\n",
    "batch_size = 64\n",
    "block_size = 32\n",
    "da = PQDataAccess(\"/home/aac/Alireza/datasets/taxseq/corpus_1000\", batch_size)\n",
    "epochs= 10_000\n",
    "val_epoch = 100\n",
    "num_val = 25\n",
    "\n",
    "model_name = \"GPT\"\n",
    "checkpoint_dir = f\"../checkpoints/{model_name}_checkpoints\"\n",
    "\n",
    "if not os.path.exists(checkpoint_dir):\n",
    "    os.makedirs(checkpoint_dir)\n",
    "print(checkpoint_dir)"
   ]
  },
  {
   "cell_type": "code",
   "execution_count": 2,
   "id": "0482858d-4781-4bb9-83c0-2134a6b1901a",
   "metadata": {
    "ExecuteTime": {
     "end_time": "2024-10-22T16:12:10.597115Z",
     "start_time": "2024-10-22T16:12:09.285968Z"
    }
   },
   "outputs": [
    {
     "name": "stdout",
     "output_type": "stream",
     "text": [
      "model: 25.247767 M parameters\n"
     ]
    }
   ],
   "source": [
    "from models.GPTModel import DecoderOnlyModel\n",
    "\n",
    "# Define model parameters\n",
    "vocab_size = 23\n",
    "embed_size = 512\n",
    "num_heads = 8\n",
    "num_layers = 6\n",
    "\n",
    "# Instantiate the model\n",
    "model = DecoderOnlyModel(vocab_size, embed_size, num_heads, num_layers, chunk_size).to(device)\n",
    "# print(model)\n",
    "\n",
    "criterion = nn.CrossEntropyLoss(ignore_index=0)\n",
    "optimizer = optim.Adam(model.parameters(), lr=0.001)\n",
    "# Assuming optimizer is defined as optimizer_cls or optimizer based on your model\n",
    "scheduler = StepLR(optimizer, step_size=5, gamma=0.1)  # Adjust step_size and gamma as needed\n",
    "print(\"model:\", sum(p.numel() for p in model.parameters()) / 1e6, 'M parameters')"
   ]
  },
  {
   "cell_type": "code",
   "execution_count": 3,
   "id": "761053d9-9b70-451c-9fbc-e3347390cee6",
   "metadata": {
    "ExecuteTime": {
     "end_time": "2024-10-22T16:12:11.624925Z",
     "start_time": "2024-10-22T16:12:11.618473Z"
    }
   },
   "outputs": [],
   "source": [
    "def evaluate(model, test_loader):\n",
    "    model.to(device)\n",
    "    model.eval()  # Set model to evaluation mode\n",
    "    running_loss = 0.0\n",
    "    \n",
    "    all_preds = []\n",
    "    all_labels = []\n",
    "\n",
    "    with torch.no_grad():  # Disable gradient computation during evaluation\n",
    "        for batch_idx, (i_sequences, t_sequences, taxonomy_ids) in tqdm(enumerate(test_loader)):\n",
    "            i_sequences = i_sequences.to(device).float()\n",
    "            t_sequences = t_sequences.to(device).float()\n",
    "            # taxonomy_ids = taxonomy_ids.to(device)\n",
    "\n",
    "            outputs = model(i_sequences)\n",
    "            \n",
    "            # Calculate loss\n",
    "            loss = criterion(outputs, t_sequences)\n",
    "\n",
    "            outputs = nn.Softmax(dim=1)(outputs)\n",
    "            index = torch.argmax(outputs, dim=1)\n",
    "\n",
    "            all_preds.append(index.cpu())\n",
    "            all_labels.append(taxonomy_ids.cpu())\n",
    "            \n",
    "            running_loss += loss.item()\n",
    "\n",
    "    # Concatenate all batches into single tensors\n",
    "    all_preds = torch.cat(all_preds)\n",
    "    all_labels = torch.cat(all_labels)\n",
    "\n",
    "    # Calculate accuracy, precision, recall, and F1-score with best threshold\n",
    "    accuracy = np.mean([accuracy_score(l, p) for p, l in zip(all_preds, all_labels)])    \n",
    "    f1 = f1_score(all_labels.numpy(), all_preds.numpy(), average='micro')\n",
    "    precision = precision_score(all_labels.numpy(), all_preds.numpy(), average='micro')\n",
    "    recall = recall_score(all_labels.numpy(), all_preds.numpy(), average='micro')\n",
    "        \n",
    "    avg_loss = running_loss / len(test_loader)\n",
    "    return avg_loss, accuracy, f1, precision, recall"
   ]
  },
  {
   "cell_type": "code",
   "execution_count": 10,
   "id": "12e2e953-3581-46d4-9037-04f589763eed",
   "metadata": {},
   "outputs": [],
   "source": [
    "def train_step(model, optimizer, da, device):\n",
    "    # Zero the gradients\n",
    "    optimizer.zero_grad()\n",
    "    \n",
    "    # Get batch and convert to tensor\n",
    "    tensor_batch = GPT_data_to_tensor_batch(da.get_batch())\n",
    "    tensor_batch.gpu(device)\n",
    "    \n",
    "    src = tensor_batch.input_ids\n",
    "    tgt = tensor_batch.output_ids\n",
    "\n",
    "    # print(src)\n",
    "    # print(src.shape)\n",
    "    output = model(src)\n",
    "    # print(output.shape)\n",
    "    # print(tgt.shape)\n",
    "    # Calculate loss\n",
    "    loss = criterion(output.view(-1, output.size(-1)), tgt.view(-1))\n",
    "    # loss = criterion(output, tgt)\n",
    "    \n",
    "    loss.backward()\n",
    "    torch.nn.utils.clip_grad_norm_(model.parameters(), max_norm=1.0)\n",
    "    \n",
    "    optimizer.step()\n",
    "\n",
    "    # scheduler.step()\n",
    "    return loss.item()"
   ]
  },
  {
   "cell_type": "code",
   "execution_count": 11,
   "id": "9f917c23-cd35-4691-9414-d136cde28877",
   "metadata": {},
   "outputs": [
    {
     "name": "stdout",
     "output_type": "stream",
     "text": [
      "<s> <s>\n"
     ]
    }
   ],
   "source": [
    "def generate(max_length=100):\n",
    "    model.eval()\n",
    "    generated_seq = [1]\n",
    "    \n",
    "    for _ in range(max_length - 1):\n",
    "        input_seq = torch.tensor(generated_seq).unsqueeze(0).to(device)  # Add batch dimension\n",
    "        with torch.no_grad():\n",
    "            output = model(input_seq)\n",
    "        \n",
    "        # Get the predicted next token\n",
    "        next_token = torch.argmax(output[:, -1, :], dim=-1).item()\n",
    "        generated_seq.append(next_token)\n",
    "        \n",
    "        # Stop if we predict the padding token\n",
    "        if next_token <= 2:\n",
    "            break\n",
    "    model.train()\n",
    "    print(*[special_idx_to_char[s] for s in generated_seq])\n",
    "    \n",
    "    return generated_seq\n",
    "\n",
    "generated_seq = generate()"
   ]
  },
  {
   "cell_type": "code",
   "execution_count": null,
   "id": "50ddcd68-7879-447f-bf94-9465b2a1c876",
   "metadata": {},
   "outputs": [],
   "source": [
    "model.train()\n",
    "\n",
    "train_losses = []\n",
    "\n",
    "for epoch in range(epochs):\n",
    "    train_loss = train_step(model, optimizer, da, device)\n",
    "    train_losses.append(train_loss)\n",
    "    \n",
    "    if (epoch + 1) % val_epoch == 0:\n",
    "        mean_train_loss = sum(train_losses[-val_epoch:]) / val_epoch\n",
    "        print(f\"Epoch {epoch+1}, Train Loss: {mean_train_loss:.4f}\")\n",
    "        generate()"
   ]
  }
 ],
 "metadata": {
  "kernelspec": {
   "display_name": "Python 3 (ipykernel)",
   "language": "python",
   "name": "python3"
  },
  "language_info": {
   "codemirror_mode": {
    "name": "ipython",
    "version": 3
   },
   "file_extension": ".py",
   "mimetype": "text/x-python",
   "name": "python",
   "nbconvert_exporter": "python",
   "pygments_lexer": "ipython3",
   "version": "3.10.14"
  }
 },
 "nbformat": 4,
 "nbformat_minor": 5
}

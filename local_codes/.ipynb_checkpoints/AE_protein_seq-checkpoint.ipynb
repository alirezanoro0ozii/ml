{
  "nbformat": 4,
  "nbformat_minor": 0,
  "metadata": {
    "colab": {
      "provenance": []
    },
    "kernelspec": {
      "name": "python3",
      "display_name": "Python 3"
    },
    "language_info": {
      "name": "python"
    }
  },
  "cells": [
    {
      "cell_type": "code",
      "source": [
        "import pandas as pd\n",
        "\n",
        "df = pd.read_csv(\"/content/uniprotkb_length_TO_5000_AND_reviewed_t_2024_09_20 (1).tsv\")\n",
        "\n",
        "df.values\n",
        "seqs = [str(v[0]).split('\\t')[1] for v in df.values[1:]]\n",
        "seqs\n",
        "\n",
        "print(len(seqs), \"#seqs\")\n",
        "print(sum([len(s) for s in seqs]), \"tokens\")\n",
        "print(max([len(s) for s in seqs]))"
      ],
      "metadata": {
        "colab": {
          "base_uri": "https://localhost:8080/"
        },
        "id": "9A2X-AHbCECI",
        "outputId": "c1d7a09b-a916-42cb-fb8a-083ac6a38df6"
      },
      "execution_count": null,
      "outputs": [
        {
          "output_type": "stream",
          "name": "stdout",
          "text": [
            "20398 #seqs\n",
            "11151556 tokens\n",
            "4981\n"
          ]
        }
      ]
    },
    {
      "cell_type": "code",
      "source": [
        "import numpy as np\n",
        "\n",
        "AMINO_ACIDS = \"ACDEFGHIKLMNPQRSTVWY\"\n",
        "AA_TO_INDEX = {aa: idx for idx, aa in enumerate(AMINO_ACIDS)}\n",
        "\n",
        "def one_hot_encode(sequence):\n",
        "    \"\"\"One-hot encode a protein sequence.\"\"\"\n",
        "    one_hot = np.zeros((5000, len(AMINO_ACIDS)))\n",
        "    for i, aa in enumerate(sequence):\n",
        "        if aa in AA_TO_INDEX:\n",
        "            one_hot[i, AA_TO_INDEX[aa]] = 1\n",
        "    return one_hot\n",
        "\n",
        "def one_hot_decode(one_hot_seq):\n",
        "    \"\"\"Decode a one-hot encoded protein sequence.\"\"\"\n",
        "    indices = np.argmax(one_hot_seq, axis=1)\n",
        "    sequence = \"\".join([AMINO_ACIDS[idx] for idx in indices])\n",
        "    return sequence"
      ],
      "metadata": {
        "id": "KKsKAs35DqGt"
      },
      "execution_count": null,
      "outputs": []
    },
    {
      "cell_type": "code",
      "source": [
        "import torch\n",
        "from torch.utils.data import Dataset, DataLoader, random_split\n",
        "import numpy as np\n",
        "\n",
        "# Define the Dataset class for one-hot encoded protein sequences\n",
        "class ProteinSequenceDataset(Dataset):\n",
        "    def __init__(self, sequences):\n",
        "        self.sequences = sequences  # A list of one-hot encoded sequences\n",
        "\n",
        "    def __len__(self):\n",
        "        return len(self.sequences)\n",
        "\n",
        "    def __getitem__(self, idx):\n",
        "        # Return the one-hot encoded sequence\n",
        "        sequence = self.sequences[idx]\n",
        "        return torch.Tensor(sequence)  # Flatten to a 1D tensor\n",
        "\n",
        "# Convert protein sequences to one-hot encoded sequences\n",
        "Dataset = [one_hot_encode(s) for s in seqs]\n",
        "\n",
        "# Create a Dataset object\n",
        "protein_dataset = ProteinSequenceDataset(Dataset)\n",
        "\n",
        "# Split the dataset into training and testing sets (80% train, 20% test)\n",
        "train_size = int(0.8 * len(protein_dataset))\n",
        "test_size = len(protein_dataset) - train_size\n",
        "train_dataset, test_dataset = random_split(protein_dataset, [train_size, test_size])\n",
        "\n",
        "# Create DataLoaders for training and testing\n",
        "train_loader = DataLoader(train_dataset, batch_size=16, shuffle=True)\n",
        "test_loader = DataLoader(test_dataset, batch_size=1, shuffle=False)"
      ],
      "metadata": {
        "id": "EcLAVRUjD11k"
      },
      "execution_count": null,
      "outputs": []
    },
    {
      "cell_type": "code",
      "execution_count": null,
      "metadata": {
        "colab": {
          "base_uri": "https://localhost:8080/"
        },
        "id": "XhVgZotk_NxY",
        "outputId": "86f2cc7f-05fe-4c16-8a70-c004ef66ae9c"
      },
      "outputs": [
        {
          "output_type": "stream",
          "name": "stdout",
          "text": [
            "torch.Size([2, 5000, 20])\n",
            "torch.Size([2, 5000, 20])\n",
            "torch.Size([2, 5000, 20])\n",
            "torch.Size([2, 5000, 20])\n",
            "torch.Size([2, 5000, 20])\n",
            "torch.Size([2, 5000, 20])\n",
            "torch.Size([2, 5000, 20])\n",
            "torch.Size([2, 5000, 20])\n",
            "torch.Size([2, 5000, 20])\n",
            "torch.Size([2, 5000, 20])\n",
            "torch.Size([2, 5000, 20])\n",
            "torch.Size([2, 5000, 20])\n",
            "torch.Size([2, 5000, 20])\n"
          ]
        }
      ],
      "source": [
        "import torch\n",
        "import torch.nn as nn\n",
        "import torch.optim as optim\n",
        "\n",
        "# Define the Autoencoder model\n",
        "class SequenceAutoencoder(nn.Module):\n",
        "    def __init__(self, input_size, hidden_size, latent_size):\n",
        "        super(SequenceAutoencoder, self).__init__()\n",
        "\n",
        "        # Encoder\n",
        "        self.encoder = nn.Sequential(\n",
        "            nn.Linear(input_size, hidden_size),\n",
        "            nn.ReLU(),\n",
        "            nn.Linear(hidden_size, latent_size)\n",
        "        )\n",
        "\n",
        "        # Decoder\n",
        "        self.decoder = nn.Sequential(\n",
        "            nn.Linear(latent_size, hidden_size),\n",
        "            nn.ReLU(),\n",
        "            nn.Linear(hidden_size, input_size)\n",
        "        )\n",
        "\n",
        "    def forward(self, x):\n",
        "        # Compress the sequence\n",
        "        encoded = self.encoder(x)\n",
        "        # Reconstruct the sequence\n",
        "        decoded = self.decoder(encoded)\n",
        "        return decoded\n",
        "\n",
        "# Create the model, loss function and optimizer\n",
        "input_size = 20  # Length of the input sequence\n",
        "hidden_size = 1000\n",
        "latent_size = 2000  # Compressed vector size\n",
        "\n",
        "model = SequenceAutoencoder(input_size, hidden_size, latent_size)\n",
        "\n",
        "criterion = nn.MSELoss()  # Mean squared error loss\n",
        "optimizer = optim.Adam(model.parameters(), lr=0.001)\n",
        "\n",
        "# Training loop\n",
        "num_epochs = 1000\n",
        "for epoch in range(num_epochs):\n",
        "    cur_loss = 0\n",
        "    for data in train_loader:\n",
        "        # Forward pass: compute the reconstructed sequences\n",
        "        reconstructed = model(data)\n",
        "\n",
        "        # Compute the loss\n",
        "        cur_loss += criterion(reconstructed, data)\n",
        "\n",
        "        # Backpropagation and optimization\n",
        "    optimizer.zero_grad()\n",
        "    cur_loss.backward()\n",
        "    optimizer.step()\n",
        "\n",
        "    # Print the loss\n",
        "    if (epoch+1) % 100 == 0:\n",
        "        print(f'Epoch [{epoch+1}/{num_epochs}], Loss: {cur_loss.item()/len(train_loader):.4f}')\n",
        "\n",
        "print(\"Training completed!\")\n",
        "\n",
        "# # Example of encoding and decoding a sequence\n",
        "# with torch.no_grad():\n",
        "#     example_sequence = torch.randn(1, input_size)  # Generate a random input sequence\n",
        "#     encoded_sequence = model.encoder(example_sequence)\n",
        "#     decoded_sequence = model.decoder(encoded_sequence)\n",
        "\n",
        "#     print(\"Original Sequence:\", example_sequence)\n",
        "#     print(\"Encoded Vector:\", encoded_sequence)\n",
        "#     print(\"Reconstructed Sequence:\", decoded_sequence)\n"
      ]
    },
    {
      "cell_type": "code",
      "source": [],
      "metadata": {
        "id": "PhV3issRGKn4"
      },
      "execution_count": null,
      "outputs": []
    }
  ]
}
{
 "cells": [
  {
   "cell_type": "code",
   "execution_count": 163,
   "id": "6815f4c0-e3a9-4a6e-bf3a-4a57a117f79d",
   "metadata": {
    "ExecuteTime": {
     "end_time": "2024-10-20T14:53:05.944687Z",
     "start_time": "2024-10-20T14:53:05.941294Z"
    }
   },
   "outputs": [],
   "source": [
    "import torch\n",
    "import pandas as pd\n",
    "from torch.utils.data import Dataset, DataLoader\n",
    "from sklearn.model_selection import train_test_split\n",
    "import numpy as np\n",
    "import torch.nn as nn\n",
    "import torch.optim as optim\n",
    "from tqdm import tqdm\n",
    "from sklearn.metrics import accuracy_score, f1_score\n",
    "\n",
    "max_seq_len = 1000\n",
    "max_tax_len = 40\n",
    "num_taxonomy_ids = 3885 # 27627\n",
    "num_organism_ids = 1145\n",
    "batch_size = 32\n",
    "device = \"cpu\"\n",
    "# device = \"cuda:1\" if torch.cuda.is_available() else \"cpu\""
   ]
  },
  {
   "cell_type": "code",
   "execution_count": 164,
   "id": "80d9571e-7bca-4d33-af02-ae102a1f69c1",
   "metadata": {
    "ExecuteTime": {
     "end_time": "2024-10-20T14:53:08.562012Z",
     "start_time": "2024-10-20T14:53:06.112009Z"
    }
   },
   "outputs": [
    {
     "name": "stdout",
     "output_type": "stream",
     "text": [
      "num_organism_ids:  294\n",
      "(809, 4)\n"
     ]
    }
   ],
   "source": [
    "df = pd.read_csv(\"data/taxonomy_data.csv\")[:1000]\n",
    "lens = df['Sequence'].apply(len)\n",
    "df = df[lens < max_seq_len]\n",
    "\n",
    "# df.to_csv(\"data/taxonomy_data_10000.csv\", index=False)\n",
    "\n",
    "union_set = set(df['Organism (ID)'].values)\n",
    "print(\"num_organism_ids: \", len(union_set))\n",
    "num_organism_ids = len(union_set)\n",
    "\n",
    "print(df.shape)"
   ]
  },
  {
   "cell_type": "code",
   "execution_count": 165,
   "id": "8d381ebb-81cb-4c19-99be-10ce419997d5",
   "metadata": {
    "ExecuteTime": {
     "end_time": "2024-10-20T14:53:08.584104Z",
     "start_time": "2024-10-20T14:53:08.563445Z"
    }
   },
   "outputs": [
    {
     "name": "stdout",
     "output_type": "stream",
     "text": [
      "num_taxonomy_ids:  1434\n",
      "Numeric labels: [273  47 275 275 286  63  44  58 102 254  44  44 125 125 125 162  37 267\n",
      "  35  35  35 257  39 148 133  80 135  43  48 113 113 113 113 113 113 113\n",
      " 131  94 195 104   8 203 105 105 105 155  53  28  37  37   2  27 171 171\n",
      "  37  30 163 245   9   9   9  53 279 104 104 104  94  94  71  71  71  71\n",
      "  79  26  64 262  64  49  49 131 145  71 255  35  94   1 272 132 199 241\n",
      "  15 192 192 249 232 180 246 149  50 129  19  18  32  32 271 140 104 105\n",
      " 105 105 105 105 105 105 105 105  74  74 226 226 105  66 175 175 175   5\n",
      "   5 182 182 176 165 165 185 185 218 218 218 218 218 218 212 222 222 174\n",
      " 174 173 174 233 224 197 197 226 240 187 215 215 215 109   0 263 232 259\n",
      "  62 117  34  37  72 151  94  61  61 280 280  17 121 139 291 134  74   6\n",
      " 134 134 134  13 107  74  74  74  74  74  74  74  74  74  54 202  44 188\n",
      "  94 253 198 103 242  71  61 235  55 154 104 239 127 127  73 123 193  61\n",
      " 205 160 281  30  30 112 112 264  74  94  38 123 123 247 196 261  74  74\n",
      "  81  81  81  81  46  46  46  46  46  46  46  46  42 191 191 191 191 191\n",
      " 191 191 191 191 191 104 168 251  30  30  68 128 243 243 277 161 111  23\n",
      "  14  76  76  76  76  76 216  30 266  75  43  43  43  43  43  43  69  69\n",
      "  70  70  70  70 116  98 237  40  40 189 108 108  25  25 104 248   7 276\n",
      "  78  74 184 244 142  21  74 146 147 157  65 284  57  57 141 170  45 114\n",
      "  29  20  20  20 290  85  38 143 291 250 179 179 287  38  38 156 108  22\n",
      "  74  74 104  74  38   5 288 269 124 234  24  36 123 258 282 283 120  38\n",
      " 181 204 289 130  35  35  35 285 167 102  60 274  81  41  41  41  41  41\n",
      " 144 252  54 238 200  33 100 100 256  11 181 169 152 104 153 205 265  98\n",
      "  12  52 105  56  56  56  56  56  56  56  56  56 138 138 158 231 136  61\n",
      " 127 104 260 150  61 178 178 178   4  79 108 118 159 105 270 137 106 110\n",
      " 101  67  77  55  55 278  51  59  95  95  95 177  95  95  95  95  95  95\n",
      " 105 105  74  76  74  74  81 221 123  94  94  94  94  94  81  94  94  92\n",
      "  98  41  81  94  74  74  99  99  99  99  99  99  99 104 104  94  74 105\n",
      " 105 105 105  30 219 219 166 210 214  94  88  88  96  96  30  74  89  97\n",
      "  55  74 209  94 105 220 220 172 292  94  94  94  94 194 194 194 194 194\n",
      " 194 194 194 194 194 194 194 194 194 194 194 194 194 194 194 194 194 194\n",
      " 194 194 194 194 194 194 194 194 194 194 194 194 194 194 194 194 194 227\n",
      " 164 164  30  95  74 217  99  99  99  99  99  99  99  99  99  94  94  94\n",
      " 104 104  94  94  74 105 105 105 134  30  30 225 206 206 206 206 206 206\n",
      "  10  10 211 211 211 211 208 208 208 208  16  94 104 122 190 223 223 104\n",
      "  94  94  94  94 105  74  74  74  74 104  76 104  94  94 207 213  82  82\n",
      "  94  94  40 119 293  98  44  98 104  74  90  90  90  91  91  91  30   3\n",
      " 115 186  94  71  71  71  71  71  71  71  71  71  71  71  71  71  71  71\n",
      "  71 104  94  94 104 104 104 104 104 104 104 104 104 104 104 104 104 104\n",
      " 104 104 104 104 104 104 104 104 104 104 104 104 104 104 104 104 104 104\n",
      " 104 104 104 104 104 104 104 104 104 104 104 104 104 104 104 104 104 104\n",
      " 104  98 104  74 228  74  83  84  86  98  94  97 268  97  97  35 230 230\n",
      " 230 230 230 230 229 104 104  94  94  94  94  94  94  94  94 105  30  30\n",
      "  30  30 101  74  31  20 236 236 236 236 236  87  92  92  93  93  74 105\n",
      " 101 126  85 201 105 105  76  99  99  99  99  99  99  99  99  99  99  71\n",
      " 133 133 133 133 133 133 133 133 133 133 133 133 133 134 134 183 183]\n"
     ]
    }
   ],
   "source": [
    "from sklearn.preprocessing import LabelEncoder\n",
    "\n",
    "\n",
    "def list_encoder(s):\n",
    "    return [int(i) for i in s.replace(\"[\", \"\").replace(\"]\", \"\").split(\", \")]\n",
    "\n",
    "# Example list of taxonomy IDs for multiple sequences\n",
    "taxonomy_ids_list = [list_encoder(tax_id_str) for tax_id_str in df['tree trace'].values]\n",
    "\n",
    "set_list = [set(t) for t in taxonomy_ids_list]\n",
    "union_set = set().union(*set_list)\n",
    "num_taxonomy_ids = len(union_set)\n",
    "print(\"num_taxonomy_ids: \", len(union_set))\n",
    "\n",
    "# Flatten the list of taxonomy IDs and get unique taxonomy IDs\n",
    "all_taxonomy_ids = set([tax_id for sublist in taxonomy_ids_list for tax_id in sublist])\n",
    "# Create a mapping from taxonomy ID to index\n",
    "taxonomy_id_to_idx = {tax_id: idx for idx, tax_id in enumerate(all_taxonomy_ids)}\n",
    "taxonomy_idx_to_id = {idx: tax_id for idx, tax_id in enumerate(all_taxonomy_ids)}\n",
    "\n",
    "# Apply the mapping to each list of taxonomy IDs\n",
    "mapped_taxonomy_ids_list = [[taxonomy_id_to_idx[tax_id] for tax_id in tax_ids] + [0 for _ in range(max_tax_len - len(tax_ids))] for tax_ids in taxonomy_ids_list]\n",
    "\n",
    "# Initialize LabelEncoder\n",
    "le = LabelEncoder()\n",
    "\n",
    "# Fit and transform the labels\n",
    "numeric_labels = le.fit_transform(df['Organism (ID)'].values)\n",
    "print(\"Numeric labels:\", numeric_labels)\n",
    "# all_organism_ids = set(df['Organism (ID)'].values)\n",
    "# # Create a mapping from taxonomy ID to index\n",
    "# organism_id_to_idx = {org_id: idx for idx, org_id in enumerate(all_organism_ids)}\n",
    "# organism_idx_to_id = {idx: org_id for idx, org_id in enumerate(all_organism_ids)}\n",
    "# \n",
    "# # Apply the mapping to each list of taxonomy IDs\n",
    "# mapped_organism_ids = [organism_id_to_idx[org_id] for org_id in df['Organism (ID)'].values]\n",
    "\n",
    "# Character vocabulary for protein sequences (20 amino acids + 1 padding)\n",
    "vocab = \"ACDEFGHIKLMNPQRSTVWY\"\n",
    "char_to_idx = {char: idx + 1 for idx, char in enumerate(vocab)}  # Start index from 1 for padding\n",
    "\n",
    "# Sequence encoder: Convert the protein sequence into integers\n",
    "def encode_sequence(sequence):\n",
    "    return [char_to_idx.get(char, 0) for char in sequence] + [0 for _ in range(max_seq_len - len(sequence))]  # 0 for unknown characters or padding \n",
    "\n",
    "def encode_taxonomy(taxonomy):\n",
    "    return [1 if _ in taxonomy else 0 for _ in range(num_taxonomy_ids)]"
   ]
  },
  {
   "cell_type": "code",
   "execution_count": 168,
   "id": "032e3077-2ffd-4226-8ad9-4746090a02ab",
   "metadata": {
    "ExecuteTime": {
     "end_time": "2024-10-20T14:55:56.737578Z",
     "start_time": "2024-10-20T14:55:56.732690Z"
    }
   },
   "outputs": [],
   "source": [
    "class ProteinDataset(Dataset):\n",
    "    def __init__(self, sequences, taxonomy_ids, taxes):\n",
    "        self.sequences = sequences\n",
    "        self.taxonomy_ids = taxonomy_ids\n",
    "        self.taxes = taxes\n",
    "\n",
    "    def __len__(self):\n",
    "        return len(self.sequences)\n",
    "\n",
    "    def __getitem__(self, idx):\n",
    "        sequence = self.sequences[idx]\n",
    "        taxonomy = self.taxonomy_ids[idx]\n",
    "        tax = self.taxes[idx]\n",
    "\n",
    "        # Encode sequence and taxonomy (example encoding for demonstration)\n",
    "        sequence_encoded = torch.tensor(encode_sequence(sequence), dtype=torch.long)\n",
    "        taxonomy_encoded = torch.tensor(encode_taxonomy(taxonomy), dtype=torch.long)\n",
    "        tax_encoded = torch.tensor(tax, dtype=torch.long)\n",
    "\n",
    "        return sequence_encoded, taxonomy_encoded, tax_encoded"
   ]
  },
  {
   "cell_type": "code",
   "execution_count": 169,
   "id": "04c730b5-0b2b-4412-9d33-63e2edc32df5",
   "metadata": {
    "ExecuteTime": {
     "end_time": "2024-10-20T14:55:57.177058Z",
     "start_time": "2024-10-20T14:55:57.133022Z"
    }
   },
   "outputs": [
    {
     "name": "stdout",
     "output_type": "stream",
     "text": [
      "Sequences batch shape: torch.Size([32, 1000])\n",
      "Taxonomy batch shape: torch.Size([32, 1434])\n",
      "Organism batch shape: torch.Size([32])\n",
      "tensor([104,  94,  94, 230,  44, 105, 175,  40, 104,  35,  74, 220, 208, 201,\n",
      "        104, 105,  74, 104,  71,  88, 208, 104, 291,  94,  74, 194,  61,  26,\n",
      "        104,  99, 218,  94])\n",
      "Sequences batch shape: torch.Size([32, 1000])\n",
      "Taxonomy batch shape: torch.Size([32, 1434])\n",
      "Organism batch shape: torch.Size([32])\n",
      "tensor([123, 266,  74, 104, 250, 242, 112, 194, 105,  60,  74, 141, 105, 177,\n",
      "        125, 183, 135,  74,  44, 114,  10, 183, 190, 218, 104, 133, 104,  46,\n",
      "         46,  20,  74, 255])\n"
     ]
    }
   ],
   "source": [
    "# Split the dataset into training, validation, and test sets\n",
    "train_sequences, test_sequences, train_taxonomy, test_taxonomy, train_tax, test_tax = train_test_split(df['Sequence'].values, mapped_taxonomy_ids_list, numeric_labels, test_size=0.2, random_state=42)\n",
    "train_sequences, val_sequences, train_taxonomy, val_taxonomy, train_tax, val_tax = train_test_split(train_sequences, train_taxonomy, train_tax, test_size=0.25, random_state=42)\n",
    "\n",
    "# Create Dataset objects\n",
    "train_dataset = ProteinDataset(train_sequences, train_taxonomy, train_tax)\n",
    "val_dataset = ProteinDataset(val_sequences, val_taxonomy, val_tax)\n",
    "test_dataset = ProteinDataset(test_sequences, test_taxonomy, test_tax)\n",
    "\n",
    "# Create DataLoader objects for batching\n",
    "train_loader = DataLoader(train_dataset, batch_size=batch_size, shuffle=True)\n",
    "val_loader = DataLoader(val_dataset, batch_size=batch_size, shuffle=False)\n",
    "test_loader = DataLoader(test_dataset, batch_size=batch_size, shuffle=False)\n",
    "\n",
    "# Example usage of the DataLoader\n",
    "for sequences_batch, taxonomy_batch, tax_batch in train_loader:\n",
    "    print(f\"Sequences batch shape: {sequences_batch.shape}\")\n",
    "    print(f\"Taxonomy batch shape: {taxonomy_batch.shape}\")\n",
    "    print(f\"Organism batch shape: {tax_batch.shape}\")  \n",
    "    print(tax_batch)\n",
    "    break  # Print one batch and exit"
   ]
  },
  {
   "cell_type": "code",
   "execution_count": 170,
   "id": "e69591ca-a7bc-45eb-91c3-4c20aa83af28",
   "metadata": {
    "ExecuteTime": {
     "end_time": "2024-10-20T14:56:05.579517Z",
     "start_time": "2024-10-20T14:56:05.573391Z"
    }
   },
   "outputs": [],
   "source": [
    "class SimpleAttentionClassifier(nn.Module):\n",
    "    def __init__(self, vocab_size, embedding_dim, num_taxonomy_ids, num_attention_layers=3, dropout_rate=0.1):\n",
    "        super(SimpleAttentionClassifier, self).__init__()\n",
    "        \n",
    "        # Embedding layer for sequences\n",
    "        self.sequence_embedding = nn.Embedding(vocab_size, embedding_dim)\n",
    "        \n",
    "        # Stack of attention layers with normalization, dropout, and skip connections\n",
    "        self.attention_layers = nn.ModuleList([\n",
    "            nn.MultiheadAttention(embed_dim=embedding_dim, num_heads=4, batch_first=True) for _ in range(num_attention_layers)\n",
    "        ])\n",
    "        \n",
    "        # Layer normalization for each attention layer\n",
    "        self.norm_layers = nn.ModuleList([nn.LayerNorm(embedding_dim) for _ in range(num_attention_layers)])\n",
    "        \n",
    "        # Dropout for regularization\n",
    "        self.dropout = nn.Dropout(dropout_rate)\n",
    "        \n",
    "        # Fully connected layer for predicting taxonomy\n",
    "        self.fc = nn.Linear(embedding_dim, num_taxonomy_ids)\n",
    "\n",
    "    def forward(self, sequences):\n",
    "        # Embed the input sequences\n",
    "        embedded_seq = self.sequence_embedding(sequences)  # (batch_size, seq_len, embed_dim)\n",
    "        \n",
    "        # Pass through multiple attention layers with skip connections, layer normalization, and dropout\n",
    "        for attention_layer, norm_layer in zip(self.attention_layers, self.norm_layers):\n",
    "            # Attention mechanism (self-attention here)\n",
    "            attn_output, _ = attention_layer(embedded_seq, embedded_seq, embedded_seq)\n",
    "            \n",
    "            # Add skip connection: output + input\n",
    "            attn_output = attn_output + embedded_seq  # Skip connection (Residual connection)\n",
    "            \n",
    "            # Apply normalization\n",
    "            attn_output = norm_layer(attn_output)\n",
    "            \n",
    "            # Apply dropout\n",
    "            attn_output = self.dropout(attn_output)\n",
    "            \n",
    "            # Update input for the next attention layer\n",
    "            embedded_seq = attn_output\n",
    "        \n",
    "        # Mean pooling across the sequence length dimension\n",
    "        attn_output = attn_output.mean(dim=1)  # (batch_size, embed_dim)\n",
    "        \n",
    "        # Pass through a fully connected layer to predict taxonomy IDs\n",
    "        output = self.fc(attn_output)  # (batch_size, num_taxonomy_ids)\n",
    "        \n",
    "        return output\n"
   ]
  },
  {
   "cell_type": "code",
   "outputs": [],
   "source": [
    "class SequenceClassifier(nn.Module):\n",
    "    def __init__(self, vocab_size, embedding_dim, num_classes, max_seq_len):\n",
    "        super(SequenceClassifier, self).__init__()\n",
    "        self.embedding = nn.Embedding(vocab_size, embedding_dim, padding_idx=0)  # +1 for padding\n",
    "        self.conv1 = nn.Conv1d(embedding_dim, 128, kernel_size=5, padding=2)\n",
    "        self.pool = nn.MaxPool1d(kernel_size=2)\n",
    "        self.fc1 = nn.Linear(128 * (max_seq_len // 2), 512)  # Output size depends on conv and pooling layers\n",
    "        self.fc2 = nn.Linear(512, num_classes)\n",
    "\n",
    "    def forward(self, x):\n",
    "        x = self.embedding(x).permute(0, 2, 1)  # (batch_size, embedding_dim, seq_len)\n",
    "        x = self.conv1(x)\n",
    "        x = self.pool(torch.relu(x))  # Max pooling\n",
    "        x = x.view(x.size(0), -1)  # Flatten the output for the fully connected layer\n",
    "        x = torch.relu(self.fc1(x))\n",
    "        output = self.fc2(x)  # No softmax here, because we'll use CrossEntropyLoss, which applies it internally\n",
    "        return output\n"
   ],
   "metadata": {
    "collapsed": false,
    "ExecuteTime": {
     "end_time": "2024-10-20T14:56:06.099264Z",
     "start_time": "2024-10-20T14:56:06.093039Z"
    }
   },
   "id": "818059c38e38ffc8",
   "execution_count": 171
  },
  {
   "cell_type": "code",
   "outputs": [],
   "source": [
    "class FNNClassifier(nn.Module):\n",
    "    def __init__(self, vocab_size, embedding_dim, num_classes, max_seq_len):\n",
    "        super(FNNClassifier, self).__init__()\n",
    "        self.embedding = nn.Embedding(vocab_size, embedding_dim, padding_idx=0)  # +1 for padding\n",
    "        self.fc1 = nn.Linear(embedding_dim * max_seq_len, 512)  # Output size depends on conv and pooling layers\n",
    "        self.fc2 = nn.Linear(512, num_classes)\n",
    "\n",
    "    def forward(self, x):\n",
    "        x = self.embedding(x)\n",
    "        x = x.view(x.size(0), -1)  # Flatten the output for the fully connected layer\n",
    "        x = torch.relu(self.fc1(x))\n",
    "        output = self.fc2(x)  # No softmax here, because we'll use CrossEntropyLoss, which applies it internally\n",
    "        return output"
   ],
   "metadata": {
    "collapsed": false,
    "ExecuteTime": {
     "end_time": "2024-10-20T14:56:07.154442Z",
     "start_time": "2024-10-20T14:56:07.150025Z"
    }
   },
   "id": "1ecadcec75e39d54",
   "execution_count": 172
  },
  {
   "cell_type": "code",
   "outputs": [],
   "source": [
    "# Hyperparameters\n",
    "vocab_size = len(vocab) + 1\n",
    "embedding_dim = 256\n",
    "\n",
    "# Instantiate the model\n",
    "model_cls = SequenceClassifier(vocab_size, embedding_dim, num_taxonomy_ids, max_seq_len).to(device)\n",
    "# model_cls = FNNClassifier(vocab_size, embedding_dim, num_taxonomy_ids, max_seq_len).to(device)\n",
    "criterion_cls = nn.CrossEntropyLoss()  # Multi-label classification requires BCEWithLogitsLoss\n",
    "optimizer_cls = optim.Adam(model_cls.parameters(), lr=0.001)"
   ],
   "metadata": {
    "collapsed": false,
    "ExecuteTime": {
     "end_time": "2024-10-20T15:03:52.967738Z",
     "start_time": "2024-10-20T15:03:52.739057Z"
    }
   },
   "id": "3694222f428a73ac",
   "execution_count": 190
  },
  {
   "cell_type": "code",
   "execution_count": 191,
   "id": "0482858d-4781-4bb9-83c0-2134a6b1901a",
   "metadata": {
    "ExecuteTime": {
     "end_time": "2024-10-20T15:03:53.698451Z",
     "start_time": "2024-10-20T15:03:53.691921Z"
    }
   },
   "outputs": [],
   "source": [
    "# Hyperparameters\n",
    "vocab_size = len(vocab) + 1  # +1 for padding\n",
    "embedding_dim = 64\n",
    "\n",
    "# Instantiate the model\n",
    "model = SimpleAttentionClassifier(vocab_size=vocab_size, embedding_dim=embedding_dim, num_taxonomy_ids=num_taxonomy_ids).to(device)\n",
    "criterion = nn.BCEWithLogitsLoss()  # Multi-label classification requires BCEWithLogitsLoss\n",
    "optimizer = optim.Adam(model.parameters(), lr=0.001)"
   ]
  },
  {
   "cell_type": "code",
   "outputs": [
    {
     "name": "stdout",
     "output_type": "stream",
     "text": [
      "classifier_model: 33.673498 M parameters\n",
      "model: 0.144858 M parameters\n"
     ]
    }
   ],
   "source": [
    "print(\"classifier_model:\", sum(p.numel() for p in model_cls.parameters()) / 1e6, 'M parameters')\n",
    "print(\"model:\", sum(p.numel() for p in model.parameters()) / 1e6, 'M parameters')"
   ],
   "metadata": {
    "collapsed": false,
    "ExecuteTime": {
     "end_time": "2024-10-20T15:03:54.216915Z",
     "start_time": "2024-10-20T15:03:54.213569Z"
    }
   },
   "id": "97efe7e68690e4c1",
   "execution_count": 192
  },
  {
   "cell_type": "code",
   "outputs": [],
   "source": [
    "num_epochs = 10\n",
    "Method = \"CNN\" # \"CNN\", \"Transformer\""
   ],
   "metadata": {
    "collapsed": false,
    "ExecuteTime": {
     "end_time": "2024-10-20T15:03:54.853614Z",
     "start_time": "2024-10-20T15:03:54.851008Z"
    }
   },
   "id": "542879f1880e171d",
   "execution_count": 193
  },
  {
   "cell_type": "code",
   "execution_count": 194,
   "id": "761053d9-9b70-451c-9fbc-e3347390cee6",
   "metadata": {
    "ExecuteTime": {
     "end_time": "2024-10-20T15:03:55.536917Z",
     "start_time": "2024-10-20T15:03:55.529264Z"
    }
   },
   "outputs": [],
   "source": [
    "def evaluate(model, test_loader, criterion, device):\n",
    "    model.to(device)\n",
    "    model.eval()  # Set model to evaluation mode\n",
    "    running_loss = 0.0\n",
    "    \n",
    "    all_index = []\n",
    "    all_taxes = []\n",
    "    all_preds = []\n",
    "    all_labels = []\n",
    "\n",
    "    with torch.no_grad():  # Disable gradient computation during evaluation\n",
    "        for batch_idx, (sequences, taxonomy_ids, taxes) in enumerate(test_loader):\n",
    "            sequences = sequences.to(device)\n",
    "            taxonomy_ids = taxonomy_ids.to(device)\n",
    "            \n",
    "            if Method == \"Transformer\":\n",
    "                outputs = model(sequences)\n",
    "                # Calculate loss\n",
    "                loss = criterion(outputs, taxonomy_ids.float())\n",
    "                preds = torch.sigmoid(outputs) > 0.6  # Binary predictions\n",
    "                \n",
    "                all_preds.append(preds.cpu())\n",
    "                all_labels.append(taxonomy_ids.cpu())\n",
    "            else:\n",
    "                outputs = model_cls(sequences)\n",
    "                loss = criterion_cls(outputs, taxes)\n",
    "                \n",
    "                outputs = nn.Softmax()(outputs)\n",
    "                index = torch.argmax(outputs, dim=1)\n",
    "                \n",
    "                all_index.append(index.cpu())\n",
    "                all_taxes.append(taxes)\n",
    "            \n",
    "            running_loss += loss.item()\n",
    "\n",
    "    # Concatenate all batches into single tensors\n",
    "    if Method == \"Transformer\":\n",
    "        all_preds = torch.cat(all_preds).int()\n",
    "        all_labels = torch.cat(all_labels)\n",
    "        for p, l in zip(all_preds, all_labels):\n",
    "            print(*[taxonomy_idx_to_id[i] for i, p_ in enumerate(p) if p_])\n",
    "            print(*[taxonomy_idx_to_id[i] for i, l_ in enumerate(l) if l_])\n",
    "            break\n",
    "    else:\n",
    "        all_index = torch.cat(all_index)\n",
    "        all_taxes = torch.cat(all_taxes)\n",
    "        for i, t in zip(all_index, all_taxes):\n",
    "            print(t, i)\n",
    "            # print(organism_id_to_idx[i.item()])\n",
    "\n",
    "            break\n",
    "    \n",
    "    if Method ==\"Transformer\":\n",
    "        accuracy = np.mean([accuracy_score(p, l) for p, l in zip(all_preds, all_labels)])    \n",
    "        f1 = f1_score(all_labels.numpy(), all_preds.numpy(), average='micro')  # F1-score for multi-label classification\n",
    "    else:\n",
    "        accuracy = accuracy_score(all_taxes, all_index)\n",
    "        f1 = f1_score(all_taxes, all_index, average='micro')\n",
    "        \n",
    "    avg_loss = running_loss / len(test_loader)\n",
    "    return avg_loss, accuracy, f1"
   ]
  },
  {
   "cell_type": "code",
   "execution_count": 195,
   "id": "3de31fff-9adf-4d46-a058-08ccdeaa11b0",
   "metadata": {
    "ExecuteTime": {
     "end_time": "2024-10-20T15:04:48.767349Z",
     "start_time": "2024-10-20T15:03:56.567117Z"
    }
   },
   "outputs": [
    {
     "name": "stderr",
     "output_type": "stream",
     "text": [
      "16it [00:05,  2.67it/s]\n",
      "/home/alireza/anaconda3/envs/new_cuda/lib/python3.11/site-packages/torch/nn/modules/module.py:1511: UserWarning: Implicit dimension choice for softmax has been deprecated. Change the call to include dim=X as an argument.\n",
      "  return self._call_impl(*args, **kwargs)\n"
     ]
    },
    {
     "name": "stdout",
     "output_type": "stream",
     "text": [
      "Epoch [1/10], Train Loss: 8.0370\n",
      "tensor(123) tensor(133)\n",
      "val Loss: 6.8249, val Accuracy: 0.0741, val F1 Score: 0.0741\n"
     ]
    },
    {
     "name": "stderr",
     "output_type": "stream",
     "text": [
      "16it [00:05,  2.76it/s]\n",
      "/home/alireza/anaconda3/envs/new_cuda/lib/python3.11/site-packages/torch/nn/modules/module.py:1511: UserWarning: Implicit dimension choice for softmax has been deprecated. Change the call to include dim=X as an argument.\n",
      "  return self._call_impl(*args, **kwargs)\n"
     ]
    },
    {
     "name": "stdout",
     "output_type": "stream",
     "text": [
      "Epoch [2/10], Train Loss: 5.7191\n",
      "tensor(123) tensor(99)\n",
      "val Loss: 6.5879, val Accuracy: 0.0556, val F1 Score: 0.0556\n"
     ]
    },
    {
     "name": "stderr",
     "output_type": "stream",
     "text": [
      "16it [00:05,  2.77it/s]\n",
      "/home/alireza/anaconda3/envs/new_cuda/lib/python3.11/site-packages/torch/nn/modules/module.py:1511: UserWarning: Implicit dimension choice for softmax has been deprecated. Change the call to include dim=X as an argument.\n",
      "  return self._call_impl(*args, **kwargs)\n"
     ]
    },
    {
     "name": "stdout",
     "output_type": "stream",
     "text": [
      "Epoch [3/10], Train Loss: 4.3272\n",
      "tensor(123) tensor(104)\n",
      "val Loss: 6.5436, val Accuracy: 0.0926, val F1 Score: 0.0926\n"
     ]
    },
    {
     "name": "stderr",
     "output_type": "stream",
     "text": [
      "16it [00:05,  2.77it/s]\n",
      "/home/alireza/anaconda3/envs/new_cuda/lib/python3.11/site-packages/torch/nn/modules/module.py:1511: UserWarning: Implicit dimension choice for softmax has been deprecated. Change the call to include dim=X as an argument.\n",
      "  return self._call_impl(*args, **kwargs)\n"
     ]
    },
    {
     "name": "stdout",
     "output_type": "stream",
     "text": [
      "Epoch [4/10], Train Loss: 2.6711\n",
      "tensor(123) tensor(74)\n",
      "val Loss: 7.9908, val Accuracy: 0.0802, val F1 Score: 0.0802\n"
     ]
    },
    {
     "name": "stderr",
     "output_type": "stream",
     "text": [
      "16it [00:05,  2.77it/s]\n",
      "/home/alireza/anaconda3/envs/new_cuda/lib/python3.11/site-packages/torch/nn/modules/module.py:1511: UserWarning: Implicit dimension choice for softmax has been deprecated. Change the call to include dim=X as an argument.\n",
      "  return self._call_impl(*args, **kwargs)\n"
     ]
    },
    {
     "name": "stdout",
     "output_type": "stream",
     "text": [
      "Epoch [5/10], Train Loss: 0.8192\n",
      "tensor(123) tensor(99)\n",
      "val Loss: 11.0263, val Accuracy: 0.0494, val F1 Score: 0.0494\n"
     ]
    },
    {
     "name": "stderr",
     "output_type": "stream",
     "text": [
      "16it [00:05,  2.77it/s]\n",
      "/home/alireza/anaconda3/envs/new_cuda/lib/python3.11/site-packages/torch/nn/modules/module.py:1511: UserWarning: Implicit dimension choice for softmax has been deprecated. Change the call to include dim=X as an argument.\n",
      "  return self._call_impl(*args, **kwargs)\n"
     ]
    },
    {
     "name": "stdout",
     "output_type": "stream",
     "text": [
      "Epoch [6/10], Train Loss: 0.3159\n",
      "tensor(123) tensor(252)\n",
      "val Loss: 13.6612, val Accuracy: 0.0185, val F1 Score: 0.0185\n"
     ]
    },
    {
     "name": "stderr",
     "output_type": "stream",
     "text": [
      "16it [00:05,  2.89it/s]\n",
      "/home/alireza/anaconda3/envs/new_cuda/lib/python3.11/site-packages/torch/nn/modules/module.py:1511: UserWarning: Implicit dimension choice for softmax has been deprecated. Change the call to include dim=X as an argument.\n",
      "  return self._call_impl(*args, **kwargs)\n"
     ]
    },
    {
     "name": "stdout",
     "output_type": "stream",
     "text": [
      "Epoch [7/10], Train Loss: 0.1943\n",
      "tensor(123) tensor(252)\n",
      "val Loss: 11.8922, val Accuracy: 0.0123, val F1 Score: 0.0123\n"
     ]
    },
    {
     "name": "stderr",
     "output_type": "stream",
     "text": [
      "16it [00:06,  2.64it/s]\n",
      "/home/alireza/anaconda3/envs/new_cuda/lib/python3.11/site-packages/torch/nn/modules/module.py:1511: UserWarning: Implicit dimension choice for softmax has been deprecated. Change the call to include dim=X as an argument.\n",
      "  return self._call_impl(*args, **kwargs)\n"
     ]
    },
    {
     "name": "stdout",
     "output_type": "stream",
     "text": [
      "Epoch [8/10], Train Loss: 0.1019\n",
      "tensor(123) tensor(252)\n",
      "val Loss: 10.6404, val Accuracy: 0.0370, val F1 Score: 0.0370\n"
     ]
    },
    {
     "name": "stderr",
     "output_type": "stream",
     "text": [
      "6it [00:02,  2.41it/s]\n"
     ]
    },
    {
     "ename": "KeyboardInterrupt",
     "evalue": "",
     "output_type": "error",
     "traceback": [
      "\u001B[0;31m---------------------------------------------------------------------------\u001B[0m",
      "\u001B[0;31mKeyboardInterrupt\u001B[0m                         Traceback (most recent call last)",
      "Cell \u001B[0;32mIn[195], line 23\u001B[0m\n\u001B[1;32m     21\u001B[0m     optimizer_cls\u001B[38;5;241m.\u001B[39mzero_grad()\n\u001B[1;32m     22\u001B[0m     loss\u001B[38;5;241m.\u001B[39mbackward()\n\u001B[0;32m---> 23\u001B[0m     optimizer_cls\u001B[38;5;241m.\u001B[39mstep()\n\u001B[1;32m     25\u001B[0m \u001B[38;5;66;03m# Track the loss\u001B[39;00m\n\u001B[1;32m     26\u001B[0m running_loss \u001B[38;5;241m+\u001B[39m\u001B[38;5;241m=\u001B[39m loss\u001B[38;5;241m.\u001B[39mitem()\n",
      "File \u001B[0;32m~/anaconda3/envs/new_cuda/lib/python3.11/site-packages/torch/optim/optimizer.py:385\u001B[0m, in \u001B[0;36mOptimizer.profile_hook_step.<locals>.wrapper\u001B[0;34m(*args, **kwargs)\u001B[0m\n\u001B[1;32m    380\u001B[0m         \u001B[38;5;28;01melse\u001B[39;00m:\n\u001B[1;32m    381\u001B[0m             \u001B[38;5;28;01mraise\u001B[39;00m \u001B[38;5;167;01mRuntimeError\u001B[39;00m(\n\u001B[1;32m    382\u001B[0m                 \u001B[38;5;124mf\u001B[39m\u001B[38;5;124m\"\u001B[39m\u001B[38;5;132;01m{\u001B[39;00mfunc\u001B[38;5;132;01m}\u001B[39;00m\u001B[38;5;124m must return None or a tuple of (new_args, new_kwargs), but got \u001B[39m\u001B[38;5;132;01m{\u001B[39;00mresult\u001B[38;5;132;01m}\u001B[39;00m\u001B[38;5;124m.\u001B[39m\u001B[38;5;124m\"\u001B[39m\n\u001B[1;32m    383\u001B[0m             )\n\u001B[0;32m--> 385\u001B[0m out \u001B[38;5;241m=\u001B[39m func(\u001B[38;5;241m*\u001B[39margs, \u001B[38;5;241m*\u001B[39m\u001B[38;5;241m*\u001B[39mkwargs)\n\u001B[1;32m    386\u001B[0m \u001B[38;5;28mself\u001B[39m\u001B[38;5;241m.\u001B[39m_optimizer_step_code()\n\u001B[1;32m    388\u001B[0m \u001B[38;5;66;03m# call optimizer step post hooks\u001B[39;00m\n",
      "File \u001B[0;32m~/anaconda3/envs/new_cuda/lib/python3.11/site-packages/torch/optim/optimizer.py:76\u001B[0m, in \u001B[0;36m_use_grad_for_differentiable.<locals>._use_grad\u001B[0;34m(self, *args, **kwargs)\u001B[0m\n\u001B[1;32m     74\u001B[0m     torch\u001B[38;5;241m.\u001B[39mset_grad_enabled(\u001B[38;5;28mself\u001B[39m\u001B[38;5;241m.\u001B[39mdefaults[\u001B[38;5;124m'\u001B[39m\u001B[38;5;124mdifferentiable\u001B[39m\u001B[38;5;124m'\u001B[39m])\n\u001B[1;32m     75\u001B[0m     torch\u001B[38;5;241m.\u001B[39m_dynamo\u001B[38;5;241m.\u001B[39mgraph_break()\n\u001B[0;32m---> 76\u001B[0m     ret \u001B[38;5;241m=\u001B[39m func(\u001B[38;5;28mself\u001B[39m, \u001B[38;5;241m*\u001B[39margs, \u001B[38;5;241m*\u001B[39m\u001B[38;5;241m*\u001B[39mkwargs)\n\u001B[1;32m     77\u001B[0m \u001B[38;5;28;01mfinally\u001B[39;00m:\n\u001B[1;32m     78\u001B[0m     torch\u001B[38;5;241m.\u001B[39m_dynamo\u001B[38;5;241m.\u001B[39mgraph_break()\n",
      "File \u001B[0;32m~/anaconda3/envs/new_cuda/lib/python3.11/site-packages/torch/optim/adam.py:166\u001B[0m, in \u001B[0;36mAdam.step\u001B[0;34m(self, closure)\u001B[0m\n\u001B[1;32m    155\u001B[0m     beta1, beta2 \u001B[38;5;241m=\u001B[39m group[\u001B[38;5;124m'\u001B[39m\u001B[38;5;124mbetas\u001B[39m\u001B[38;5;124m'\u001B[39m]\n\u001B[1;32m    157\u001B[0m     has_complex \u001B[38;5;241m=\u001B[39m \u001B[38;5;28mself\u001B[39m\u001B[38;5;241m.\u001B[39m_init_group(\n\u001B[1;32m    158\u001B[0m         group,\n\u001B[1;32m    159\u001B[0m         params_with_grad,\n\u001B[0;32m   (...)\u001B[0m\n\u001B[1;32m    163\u001B[0m         max_exp_avg_sqs,\n\u001B[1;32m    164\u001B[0m         state_steps)\n\u001B[0;32m--> 166\u001B[0m     adam(\n\u001B[1;32m    167\u001B[0m         params_with_grad,\n\u001B[1;32m    168\u001B[0m         grads,\n\u001B[1;32m    169\u001B[0m         exp_avgs,\n\u001B[1;32m    170\u001B[0m         exp_avg_sqs,\n\u001B[1;32m    171\u001B[0m         max_exp_avg_sqs,\n\u001B[1;32m    172\u001B[0m         state_steps,\n\u001B[1;32m    173\u001B[0m         amsgrad\u001B[38;5;241m=\u001B[39mgroup[\u001B[38;5;124m'\u001B[39m\u001B[38;5;124mamsgrad\u001B[39m\u001B[38;5;124m'\u001B[39m],\n\u001B[1;32m    174\u001B[0m         has_complex\u001B[38;5;241m=\u001B[39mhas_complex,\n\u001B[1;32m    175\u001B[0m         beta1\u001B[38;5;241m=\u001B[39mbeta1,\n\u001B[1;32m    176\u001B[0m         beta2\u001B[38;5;241m=\u001B[39mbeta2,\n\u001B[1;32m    177\u001B[0m         lr\u001B[38;5;241m=\u001B[39mgroup[\u001B[38;5;124m'\u001B[39m\u001B[38;5;124mlr\u001B[39m\u001B[38;5;124m'\u001B[39m],\n\u001B[1;32m    178\u001B[0m         weight_decay\u001B[38;5;241m=\u001B[39mgroup[\u001B[38;5;124m'\u001B[39m\u001B[38;5;124mweight_decay\u001B[39m\u001B[38;5;124m'\u001B[39m],\n\u001B[1;32m    179\u001B[0m         eps\u001B[38;5;241m=\u001B[39mgroup[\u001B[38;5;124m'\u001B[39m\u001B[38;5;124meps\u001B[39m\u001B[38;5;124m'\u001B[39m],\n\u001B[1;32m    180\u001B[0m         maximize\u001B[38;5;241m=\u001B[39mgroup[\u001B[38;5;124m'\u001B[39m\u001B[38;5;124mmaximize\u001B[39m\u001B[38;5;124m'\u001B[39m],\n\u001B[1;32m    181\u001B[0m         foreach\u001B[38;5;241m=\u001B[39mgroup[\u001B[38;5;124m'\u001B[39m\u001B[38;5;124mforeach\u001B[39m\u001B[38;5;124m'\u001B[39m],\n\u001B[1;32m    182\u001B[0m         capturable\u001B[38;5;241m=\u001B[39mgroup[\u001B[38;5;124m'\u001B[39m\u001B[38;5;124mcapturable\u001B[39m\u001B[38;5;124m'\u001B[39m],\n\u001B[1;32m    183\u001B[0m         differentiable\u001B[38;5;241m=\u001B[39mgroup[\u001B[38;5;124m'\u001B[39m\u001B[38;5;124mdifferentiable\u001B[39m\u001B[38;5;124m'\u001B[39m],\n\u001B[1;32m    184\u001B[0m         fused\u001B[38;5;241m=\u001B[39mgroup[\u001B[38;5;124m'\u001B[39m\u001B[38;5;124mfused\u001B[39m\u001B[38;5;124m'\u001B[39m],\n\u001B[1;32m    185\u001B[0m         grad_scale\u001B[38;5;241m=\u001B[39m\u001B[38;5;28mgetattr\u001B[39m(\u001B[38;5;28mself\u001B[39m, \u001B[38;5;124m\"\u001B[39m\u001B[38;5;124mgrad_scale\u001B[39m\u001B[38;5;124m\"\u001B[39m, \u001B[38;5;28;01mNone\u001B[39;00m),\n\u001B[1;32m    186\u001B[0m         found_inf\u001B[38;5;241m=\u001B[39m\u001B[38;5;28mgetattr\u001B[39m(\u001B[38;5;28mself\u001B[39m, \u001B[38;5;124m\"\u001B[39m\u001B[38;5;124mfound_inf\u001B[39m\u001B[38;5;124m\"\u001B[39m, \u001B[38;5;28;01mNone\u001B[39;00m),\n\u001B[1;32m    187\u001B[0m     )\n\u001B[1;32m    189\u001B[0m \u001B[38;5;28;01mreturn\u001B[39;00m loss\n",
      "File \u001B[0;32m~/anaconda3/envs/new_cuda/lib/python3.11/site-packages/torch/optim/adam.py:316\u001B[0m, in \u001B[0;36madam\u001B[0;34m(params, grads, exp_avgs, exp_avg_sqs, max_exp_avg_sqs, state_steps, foreach, capturable, differentiable, fused, grad_scale, found_inf, has_complex, amsgrad, beta1, beta2, lr, weight_decay, eps, maximize)\u001B[0m\n\u001B[1;32m    313\u001B[0m \u001B[38;5;28;01melse\u001B[39;00m:\n\u001B[1;32m    314\u001B[0m     func \u001B[38;5;241m=\u001B[39m _single_tensor_adam\n\u001B[0;32m--> 316\u001B[0m func(params,\n\u001B[1;32m    317\u001B[0m      grads,\n\u001B[1;32m    318\u001B[0m      exp_avgs,\n\u001B[1;32m    319\u001B[0m      exp_avg_sqs,\n\u001B[1;32m    320\u001B[0m      max_exp_avg_sqs,\n\u001B[1;32m    321\u001B[0m      state_steps,\n\u001B[1;32m    322\u001B[0m      amsgrad\u001B[38;5;241m=\u001B[39mamsgrad,\n\u001B[1;32m    323\u001B[0m      has_complex\u001B[38;5;241m=\u001B[39mhas_complex,\n\u001B[1;32m    324\u001B[0m      beta1\u001B[38;5;241m=\u001B[39mbeta1,\n\u001B[1;32m    325\u001B[0m      beta2\u001B[38;5;241m=\u001B[39mbeta2,\n\u001B[1;32m    326\u001B[0m      lr\u001B[38;5;241m=\u001B[39mlr,\n\u001B[1;32m    327\u001B[0m      weight_decay\u001B[38;5;241m=\u001B[39mweight_decay,\n\u001B[1;32m    328\u001B[0m      eps\u001B[38;5;241m=\u001B[39meps,\n\u001B[1;32m    329\u001B[0m      maximize\u001B[38;5;241m=\u001B[39mmaximize,\n\u001B[1;32m    330\u001B[0m      capturable\u001B[38;5;241m=\u001B[39mcapturable,\n\u001B[1;32m    331\u001B[0m      differentiable\u001B[38;5;241m=\u001B[39mdifferentiable,\n\u001B[1;32m    332\u001B[0m      grad_scale\u001B[38;5;241m=\u001B[39mgrad_scale,\n\u001B[1;32m    333\u001B[0m      found_inf\u001B[38;5;241m=\u001B[39mfound_inf)\n",
      "File \u001B[0;32m~/anaconda3/envs/new_cuda/lib/python3.11/site-packages/torch/optim/adam.py:439\u001B[0m, in \u001B[0;36m_single_tensor_adam\u001B[0;34m(params, grads, exp_avgs, exp_avg_sqs, max_exp_avg_sqs, state_steps, grad_scale, found_inf, amsgrad, has_complex, beta1, beta2, lr, weight_decay, eps, maximize, capturable, differentiable)\u001B[0m\n\u001B[1;32m    437\u001B[0m         denom \u001B[38;5;241m=\u001B[39m (max_exp_avg_sqs[i]\u001B[38;5;241m.\u001B[39msqrt() \u001B[38;5;241m/\u001B[39m bias_correction2_sqrt)\u001B[38;5;241m.\u001B[39madd_(eps)\n\u001B[1;32m    438\u001B[0m     \u001B[38;5;28;01melse\u001B[39;00m:\n\u001B[0;32m--> 439\u001B[0m         denom \u001B[38;5;241m=\u001B[39m (exp_avg_sq\u001B[38;5;241m.\u001B[39msqrt() \u001B[38;5;241m/\u001B[39m bias_correction2_sqrt)\u001B[38;5;241m.\u001B[39madd_(eps)\n\u001B[1;32m    441\u001B[0m     param\u001B[38;5;241m.\u001B[39maddcdiv_(exp_avg, denom, value\u001B[38;5;241m=\u001B[39m\u001B[38;5;241m-\u001B[39mstep_size)\n\u001B[1;32m    443\u001B[0m \u001B[38;5;66;03m# Lastly, switch back to complex view\u001B[39;00m\n",
      "\u001B[0;31mKeyboardInterrupt\u001B[0m: "
     ]
    }
   ],
   "source": [
    "for epoch in range(num_epochs):\n",
    "    model_cls.train()  # Set model to training mode\n",
    "    running_loss = 0.0\n",
    "\n",
    "    for batch_idx, (sequences, taxonomy_ids, taxes) in tqdm(enumerate(train_loader)):\n",
    "        sequences = sequences.to(device)\n",
    "        taxonomy_ids = taxonomy_ids.to(device)\n",
    "\n",
    "        if Method == \"Transformer\":\n",
    "            outputs = model(sequences)\n",
    "            loss = criterion(outputs, taxonomy_ids.float())\n",
    "            \n",
    "            optimizer.zero_grad()\n",
    "            loss.backward()\n",
    "            optimizer.step()\n",
    "        else:\n",
    "            outputs = model_cls(sequences)\n",
    "            loss = criterion_cls(outputs, taxes)\n",
    "\n",
    "            # Backpropagation: Zero the gradients, compute the backward pass, and update weights\n",
    "            optimizer_cls.zero_grad()\n",
    "            loss.backward()\n",
    "            optimizer_cls.step()\n",
    "\n",
    "        # Track the loss\n",
    "        running_loss += loss.item()\n",
    "\n",
    "    # Print loss for this epoch\n",
    "    epoch_loss = running_loss / len(train_loader)\n",
    "    print(f\"Epoch [{epoch + 1}/{num_epochs}], Train Loss: {epoch_loss:.4f}\")\n",
    "    \n",
    "    # Evaluate the model on the test set\n",
    "    val_loss, val_accuracy, val_f1 = evaluate(model, val_loader, criterion, device)\n",
    "    print(f\"val Loss: {val_loss:.4f}, val Accuracy: {val_accuracy:.4f}, val F1 Score: {val_f1:.4f}\")"
   ]
  }
 ],
 "metadata": {
  "kernelspec": {
   "display_name": "Python 3 (ipykernel)",
   "language": "python",
   "name": "python3"
  },
  "language_info": {
   "codemirror_mode": {
    "name": "ipython",
    "version": 3
   },
   "file_extension": ".py",
   "mimetype": "text/x-python",
   "name": "python",
   "nbconvert_exporter": "python",
   "pygments_lexer": "ipython3",
   "version": "3.10.14"
  }
 },
 "nbformat": 4,
 "nbformat_minor": 5
}

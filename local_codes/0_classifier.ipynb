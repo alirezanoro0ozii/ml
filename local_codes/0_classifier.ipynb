{
 "cells": [
  {
   "cell_type": "code",
   "execution_count": 1,
   "id": "6815f4c0-e3a9-4a6e-bf3a-4a57a117f79d",
   "metadata": {
    "ExecuteTime": {
     "end_time": "2024-10-20T14:53:05.944687Z",
     "start_time": "2024-10-20T14:53:05.941294Z"
    }
   },
   "outputs": [
    {
     "data": {
      "text/plain": [
       "'cpu'"
      ]
     },
     "execution_count": 1,
     "metadata": {},
     "output_type": "execute_result"
    }
   ],
   "source": [
    "import torch\n",
    "import pandas as pd\n",
    "from torch.utils.data import Dataset, DataLoader\n",
    "from sklearn.model_selection import train_test_split\n",
    "import numpy as np\n",
    "import torch.nn as nn\n",
    "import torch.optim as optim\n",
    "from tqdm import tqdm\n",
    "from sklearn.metrics import accuracy_score, f1_score\n",
    "from sklearn.preprocessing import LabelEncoder\n",
    "\n",
    "max_seq_len = 1000\n",
    "batch_size = 32\n",
    "device = \"cuda:1\" if torch.cuda.is_available() else \"cpu\"\n",
    "device"
   ]
  },
  {
   "cell_type": "code",
   "execution_count": null,
   "id": "80d9571e-7bca-4d33-af02-ae102a1f69c1",
   "metadata": {
    "ExecuteTime": {
     "end_time": "2024-10-20T14:53:08.562012Z",
     "start_time": "2024-10-20T14:53:06.112009Z"
    }
   },
   "outputs": [],
   "source": [
    "df = pd.read_csv(\"../data/taxonomy_data_10000.csv\")\n",
    "lens = df['Sequence'].apply(len)\n",
    "df = df[lens < max_seq_len]\n",
    "print(df.shape)"
   ]
  },
  {
   "cell_type": "code",
   "execution_count": null,
   "id": "8d381ebb-81cb-4c19-99be-10ce419997d5",
   "metadata": {
    "ExecuteTime": {
     "end_time": "2024-10-20T14:53:08.584104Z",
     "start_time": "2024-10-20T14:53:08.563445Z"
    }
   },
   "outputs": [],
   "source": [
    "def list_encoder(s):\n",
    "    return [int(i) for i in s.replace(\"[\", \"\").replace(\"]\", \"\").split(\", \")]\n",
    "\n",
    "# Example list of taxonomy IDs for multiple sequences\n",
    "taxonomy_ids_list = [list_encoder(tax_id_str) for tax_id_str in df['tree trace'].values]\n",
    "\n",
    "set_list = [set(t) for t in taxonomy_ids_list]\n",
    "union_set = set().union(*set_list)\n",
    "num_taxonomy_ids = len(union_set)\n",
    "print(\"num_taxonomy_ids: \", len(union_set))\n",
    "\n",
    "# Flatten the list of taxonomy IDs and get unique taxonomy IDs\n",
    "all_taxonomy_ids = set([tax_id for sublist in taxonomy_ids_list for tax_id in sublist])\n",
    "# Create a mapping from taxonomy ID to index\n",
    "taxonomy_id_to_idx = {tax_id: idx + 1 for idx, tax_id in enumerate(all_taxonomy_ids)}\n",
    "taxonomy_idx_to_id = {idx + 1: tax_id for idx, tax_id in enumerate(all_taxonomy_ids)}\n",
    "\n",
    "# Apply the mapping to each list of taxonomy IDs\n",
    "mapped_taxonomy_ids_list = [[taxonomy_id_to_idx[tax_id] for tax_id in tax_ids] + [0 for _ in range(max_tax_len - len(tax_ids))] for tax_ids in taxonomy_ids_list]\n",
    "\n",
    "# Initialize LabelEncoder\n",
    "le = LabelEncoder()\n",
    "\n",
    "# Fit and transform the labels\n",
    "numeric_labels = le.fit_transform(df['Organism (ID)'].values)\n",
    "print(\"Numeric labels:\", numeric_labels)\n",
    "\n",
    "union_set = set(df['Organism (ID)'].values)\n",
    "print(\"num_organism_ids: \", len(union_set))\n",
    "num_organism_ids = len(union_set)\n",
    "\n",
    "# all_organism_ids = set(df['Organism (ID)'].values)\n",
    "# # Create a mapping from taxonomy ID to index\n",
    "# organism_id_to_idx = {org_id: idx for idx, org_id in enumerate(all_organism_ids)}\n",
    "# organism_idx_to_id = {idx: org_id for idx, org_id in enumerate(all_organism_ids)}\n",
    "# \n",
    "# # Apply the mapping to each list of taxonomy IDs\n",
    "# mapped_organism_ids = [organism_id_to_idx[org_id] for org_id in df['Organism (ID)'].values]\n",
    "\n",
    "\n",
    "def encode_taxonomy(taxonomy):\n",
    "    return [1 if _ in taxonomy else 0 for _ in range(num_taxonomy_ids)]"
   ]
  },
  {
   "cell_type": "code",
   "execution_count": null,
   "id": "032e3077-2ffd-4226-8ad9-4746090a02ab",
   "metadata": {
    "ExecuteTime": {
     "end_time": "2024-10-20T14:55:56.737578Z",
     "start_time": "2024-10-20T14:55:56.732690Z"
    }
   },
   "outputs": [],
   "source": [
    "class ProteinDataset(Dataset):\n",
    "    def __init__(self, sequences, taxonomy_ids, taxes):\n",
    "        self.sequences = sequences\n",
    "        self.taxonomy_ids = taxonomy_ids\n",
    "        self.taxes = taxes\n",
    "\n",
    "    def __len__(self):\n",
    "        return len(self.sequences)\n",
    "\n",
    "    def __getitem__(self, idx):\n",
    "        sequence = self.sequences[idx]\n",
    "        taxonomy = self.taxonomy_ids[idx]\n",
    "        tax = self.taxes[idx]\n",
    "\n",
    "        # Encode sequence and taxonomy (example encoding for demonstration)\n",
    "        sequence_encoded = torch.tensor(encode_sequence(sequence), dtype=torch.long)\n",
    "        taxonomy_encoded = torch.tensor(encode_taxonomy(taxonomy), dtype=torch.long)\n",
    "        tax_encoded = torch.tensor(tax, dtype=torch.long)\n",
    "\n",
    "        return sequence_encoded, taxonomy_encoded, tax_encoded"
   ]
  },
  {
   "cell_type": "code",
   "execution_count": null,
   "id": "04c730b5-0b2b-4412-9d33-63e2edc32df5",
   "metadata": {
    "ExecuteTime": {
     "end_time": "2024-10-20T14:55:57.177058Z",
     "start_time": "2024-10-20T14:55:57.133022Z"
    }
   },
   "outputs": [],
   "source": [
    "# Split the dataset into training, validation, and test sets\n",
    "train_sequences, test_sequences, train_taxonomy, test_taxonomy, train_tax, test_tax = train_test_split(df['Sequence'].values, mapped_taxonomy_ids_list, numeric_labels, test_size=0.2, random_state=42)\n",
    "train_sequences, val_sequences, train_taxonomy, val_taxonomy, train_tax, val_tax = train_test_split(train_sequences, train_taxonomy, train_tax, test_size=0.25, random_state=42)\n",
    "\n",
    "# Create Dataset objects\n",
    "train_dataset = ProteinDataset(train_sequences, train_taxonomy, train_tax)\n",
    "val_dataset = ProteinDataset(val_sequences, val_taxonomy, val_tax)\n",
    "test_dataset = ProteinDataset(test_sequences, test_taxonomy, test_tax)\n",
    "\n",
    "# Create DataLoader objects for batching\n",
    "train_loader = DataLoader(train_dataset, batch_size=batch_size, shuffle=True)\n",
    "val_loader = DataLoader(val_dataset, batch_size=batch_size, shuffle=False)\n",
    "test_loader = DataLoader(test_dataset, batch_size=batch_size, shuffle=False)\n",
    "\n",
    "# Example usage of the DataLoader\n",
    "for sequences_batch, taxonomy_batch, tax_batch in train_loader:\n",
    "    print(f\"Sequences batch shape: {sequences_batch.shape}\")\n",
    "    print(f\"Taxonomy batch shape: {taxonomy_batch.shape}\")\n",
    "    print(f\"Organism batch shape: {tax_batch.shape}\")  \n",
    "    print(tax_batch)\n",
    "    break  # Print one batch and exit"
   ]
  },
  {
   "cell_type": "code",
   "execution_count": null,
   "id": "e69591ca-a7bc-45eb-91c3-4c20aa83af28",
   "metadata": {
    "ExecuteTime": {
     "end_time": "2024-10-20T14:56:05.579517Z",
     "start_time": "2024-10-20T14:56:05.573391Z"
    }
   },
   "outputs": [],
   "source": [
    "class SimpleAttentionClassifier(nn.Module):\n",
    "    def __init__(self, vocab_size, embedding_dim, num_taxonomy_ids, num_attention_layers=3, dropout_rate=0.1):\n",
    "        super(SimpleAttentionClassifier, self).__init__()\n",
    "        \n",
    "        # Embedding layer for sequences\n",
    "        self.sequence_embedding = nn.Embedding(vocab_size, embedding_dim)\n",
    "        \n",
    "        # Stack of attention layers with normalization, dropout, and skip connections\n",
    "        self.attention_layers = nn.ModuleList([\n",
    "            nn.MultiheadAttention(embed_dim=embedding_dim, num_heads=4, batch_first=True) for _ in range(num_attention_layers)\n",
    "        ])\n",
    "        \n",
    "        # Layer normalization for each attention layer\n",
    "        self.norm_layers = nn.ModuleList([nn.LayerNorm(embedding_dim) for _ in range(num_attention_layers)])\n",
    "        \n",
    "        # Dropout for regularization\n",
    "        self.dropout = nn.Dropout(dropout_rate)\n",
    "        \n",
    "        # Fully connected layer for predicting taxonomy\n",
    "        self.fc = nn.Linear(embedding_dim, num_taxonomy_ids)\n",
    "\n",
    "    def forward(self, sequences):\n",
    "        # Embed the input sequences\n",
    "        embedded_seq = self.sequence_embedding(sequences)  # (batch_size, seq_len, embed_dim)\n",
    "        \n",
    "        # Pass through multiple attention layers with skip connections, layer normalization, and dropout\n",
    "        for attention_layer, norm_layer in zip(self.attention_layers, self.norm_layers):\n",
    "            # Attention mechanism (self-attention here)\n",
    "            attn_output, _ = attention_layer(embedded_seq, embedded_seq, embedded_seq)\n",
    "            \n",
    "            # Add skip connection: output + input\n",
    "            attn_output = attn_output + embedded_seq  # Skip connection (Residual connection)\n",
    "            \n",
    "            # Apply normalization\n",
    "            attn_output = norm_layer(attn_output)\n",
    "            \n",
    "            # Apply dropout\n",
    "            attn_output = self.dropout(attn_output)\n",
    "            \n",
    "            # Update input for the next attention layer\n",
    "            embedded_seq = attn_output\n",
    "        \n",
    "        # Mean pooling across the sequence length dimension\n",
    "        attn_output = attn_output.mean(dim=1)  # (batch_size, embed_dim)\n",
    "        \n",
    "        # Pass through a fully connected layer to predict taxonomy IDs\n",
    "        output = self.fc(attn_output)  # (batch_size, num_taxonomy_ids)\n",
    "        \n",
    "        return output\n"
   ]
  },
  {
   "cell_type": "code",
   "execution_count": null,
   "id": "818059c38e38ffc8",
   "metadata": {
    "ExecuteTime": {
     "end_time": "2024-10-20T14:56:06.099264Z",
     "start_time": "2024-10-20T14:56:06.093039Z"
    },
    "collapsed": false,
    "jupyter": {
     "outputs_hidden": false
    }
   },
   "outputs": [],
   "source": [
    "class SequenceClassifier(nn.Module):\n",
    "    def __init__(self, vocab_size, embedding_dim, num_classes, max_seq_len):\n",
    "        super(SequenceClassifier, self).__init__()\n",
    "        self.embedding = nn.Embedding(vocab_size, embedding_dim, padding_idx=0)  # +1 for padding\n",
    "        self.conv1 = nn.Conv1d(embedding_dim, 128, kernel_size=5, padding=2)\n",
    "        self.pool = nn.MaxPool1d(kernel_size=2)\n",
    "        self.fc1 = nn.Linear(128 * (max_seq_len // 2), 512)  # Output size depends on conv and pooling layers\n",
    "        self.fc2 = nn.Linear(512, num_classes)\n",
    "\n",
    "    def forward(self, x):\n",
    "        x = self.embedding(x).permute(0, 2, 1)  # (batch_size, embedding_dim, seq_len)\n",
    "        x = self.conv1(x)\n",
    "        x = self.pool(torch.relu(x))  # Max pooling\n",
    "        x = x.view(x.size(0), -1)  # Flatten the output for the fully connected layer\n",
    "        x = torch.relu(self.fc1(x))\n",
    "        output = self.fc2(x)  # No softmax here, because we'll use CrossEntropyLoss, which applies it internally\n",
    "        return output\n"
   ]
  },
  {
   "cell_type": "code",
   "execution_count": null,
   "id": "1ecadcec75e39d54",
   "metadata": {
    "ExecuteTime": {
     "end_time": "2024-10-20T14:56:07.154442Z",
     "start_time": "2024-10-20T14:56:07.150025Z"
    },
    "collapsed": false,
    "jupyter": {
     "outputs_hidden": false
    }
   },
   "outputs": [],
   "source": [
    "class FNNClassifier(nn.Module):\n",
    "    def __init__(self, vocab_size, embedding_dim, num_classes, max_seq_len):\n",
    "        super(FNNClassifier, self).__init__()\n",
    "        self.embedding = nn.Embedding(vocab_size, embedding_dim, padding_idx=0)  # +1 for padding\n",
    "        self.fc1 = nn.Linear(embedding_dim * max_seq_len, 512)  # Output size depends on conv and pooling layers\n",
    "        self.fc2 = nn.Linear(512, num_classes)\n",
    "\n",
    "    def forward(self, x):\n",
    "        x = self.embedding(x)\n",
    "        x = x.view(x.size(0), -1)  # Flatten the output for the fully connected layer\n",
    "        x = torch.relu(self.fc1(x))\n",
    "        output = self.fc2(x)  # No softmax here, because we'll use CrossEntropyLoss, which applies it internally\n",
    "        return output\n"
   ]
  },
  {
   "cell_type": "code",
   "execution_count": null,
   "id": "3694222f428a73ac",
   "metadata": {
    "ExecuteTime": {
     "end_time": "2024-10-20T15:03:52.967738Z",
     "start_time": "2024-10-20T15:03:52.739057Z"
    },
    "collapsed": false,
    "jupyter": {
     "outputs_hidden": false
    }
   },
   "outputs": [],
   "source": [
    "# Hyperparameters\n",
    "vocab_size = len(vocab) + 1\n",
    "embedding_dim = 64\n",
    "\n",
    "# Instantiate the model\n",
    "# model_cls = SequenceClassifier(vocab_size, embedding_dim, num_taxonomy_ids, max_seq_len).to(device)\n",
    "# model_cls = SimpleAttentionClassifier(vocab_size=vocab_size, embedding_dim=embedding_dim, num_taxonomy_ids=num_taxonomy_ids).to(device)\n",
    "model_cls = FNNClassifier(vocab_size, embedding_dim, num_taxonomy_ids, max_seq_len).to(device)\n",
    "criterion_cls = nn.CrossEntropyLoss()  # Multi-label classification requires BCEWithLogitsLoss\n",
    "optimizer_cls = optim.Adam(model_cls.parameters(), lr=0.001)"
   ]
  },
  {
   "cell_type": "code",
   "execution_count": null,
   "id": "0482858d-4781-4bb9-83c0-2134a6b1901a",
   "metadata": {
    "ExecuteTime": {
     "end_time": "2024-10-20T15:03:53.698451Z",
     "start_time": "2024-10-20T15:03:53.691921Z"
    }
   },
   "outputs": [],
   "source": [
    "# Hyperparameters\n",
    "vocab_size = len(vocab) + 1  # +1 for padding\n",
    "embedding_dim = 64\n",
    "\n",
    "# Instantiate the model\n",
    "model = SimpleAttentionClassifier(vocab_size=vocab_size, embedding_dim=embedding_dim, num_taxonomy_ids=num_taxonomy_ids).to(device)\n",
    "criterion = nn.BCEWithLogitsLoss()  # Multi-label classification requires BCEWithLogitsLoss\n",
    "optimizer = optim.Adam(model.parameters(), lr=0.001)"
   ]
  },
  {
   "cell_type": "code",
   "execution_count": null,
   "id": "97efe7e68690e4c1",
   "metadata": {
    "ExecuteTime": {
     "end_time": "2024-10-20T15:03:54.216915Z",
     "start_time": "2024-10-20T15:03:54.213569Z"
    },
    "collapsed": false,
    "jupyter": {
     "outputs_hidden": false
    }
   },
   "outputs": [],
   "source": [
    "print(\"classifier_model:\", sum(p.numel() for p in model_cls.parameters()) / 1e6, 'M parameters')\n",
    "print(\"model:\", sum(p.numel() for p in model.parameters()) / 1e6, 'M parameters')"
   ]
  },
  {
   "cell_type": "code",
   "execution_count": null,
   "id": "542879f1880e171d",
   "metadata": {
    "ExecuteTime": {
     "end_time": "2024-10-20T15:03:54.853614Z",
     "start_time": "2024-10-20T15:03:54.851008Z"
    },
    "collapsed": false,
    "jupyter": {
     "outputs_hidden": false
    }
   },
   "outputs": [],
   "source": [
    "num_epochs = 10\n",
    "Method = \"Transformer\" # \"CNN\", \"Transformer\""
   ]
  },
  {
   "cell_type": "code",
   "execution_count": null,
   "id": "761053d9-9b70-451c-9fbc-e3347390cee6",
   "metadata": {
    "ExecuteTime": {
     "end_time": "2024-10-20T15:03:55.536917Z",
     "start_time": "2024-10-20T15:03:55.529264Z"
    }
   },
   "outputs": [],
   "source": [
    "def evaluate(model, test_loader):\n",
    "    model.to(device)\n",
    "    model.eval()  # Set model to evaluation mode\n",
    "    running_loss = 0.0\n",
    "    \n",
    "    all_index = []\n",
    "    all_taxes = []\n",
    "    all_preds = []\n",
    "    all_labels = []\n",
    "\n",
    "    with torch.no_grad():  # Disable gradient computation during evaluation\n",
    "        for batch_idx, (sequences, taxonomy_ids, taxes) in enumerate(test_loader):\n",
    "            sequences = sequences.to(device)\n",
    "            taxonomy_ids = taxonomy_ids.to(device)\n",
    "            taxes = taxes.to(device)\n",
    "            \n",
    "            if Method == \"Transformer\":\n",
    "                outputs = model(sequences)\n",
    "                # Calculate loss\n",
    "                loss = criterion(outputs, taxonomy_ids.float())\n",
    "                preds = torch.sigmoid(outputs) > 0.6  # Binary predictions\n",
    "                \n",
    "                all_preds.append(preds.cpu())\n",
    "                all_labels.append(taxonomy_ids.cpu())\n",
    "                all_taxes.append(taxes.cpu())\n",
    "            else:\n",
    "                outputs = model_cls(sequences)\n",
    "                loss = criterion_cls(outputs, taxes)\n",
    "                \n",
    "                outputs = nn.Softmax(dim=0)(outputs)\n",
    "                index = torch.argmax(outputs, dim=1)\n",
    "                \n",
    "                all_index.append(index.cpu())\n",
    "                all_taxes.append(taxes.cpu())\n",
    "            \n",
    "            running_loss += loss.item()\n",
    "\n",
    "    # Concatenate all batches into single tensors\n",
    "    if Method == \"Transformer\":\n",
    "        all_preds = torch.cat(all_preds).int()\n",
    "        all_labels = torch.cat(all_labels)\n",
    "        all_taxes = torch.cat(all_taxes)\n",
    "        print(all_preds[0])\n",
    "        print(all_labels[0])\n",
    "        print(all_taxes[0])\n",
    "        print(le.inverse_transform(all_taxes[0]))\n",
    "        for p, l in zip(all_preds, all_labels):\n",
    "            print(*[taxonomy_idx_to_id[i] for i, p_ in enumerate(p) if p_])\n",
    "            print(*[taxonomy_idx_to_id[i] for i, l_ in enumerate(l) if l_])\n",
    "            break\n",
    "    else:\n",
    "        all_index = torch.cat(all_index)\n",
    "        all_taxes = torch.cat(all_taxes)\n",
    "        print(all_index)\n",
    "        print(all_taxes)\n",
    "        # for i, t in zip(all_index, all_taxes):\n",
    "        #     print(t, i)\n",
    "        #     break\n",
    "    \n",
    "    if Method ==\"Transformer\":\n",
    "        accuracy = np.mean([accuracy_score(p, l) for p, l in zip(all_preds, all_labels)])    \n",
    "        f1 = f1_score(all_labels.numpy(), all_preds.numpy(), average='micro')  # F1-score for multi-label classification\n",
    "    else:\n",
    "        accuracy = accuracy_score(all_taxes, all_index)\n",
    "        f1 = f1_score(all_taxes, all_index, average='macro')\n",
    "        \n",
    "    avg_loss = running_loss / len(test_loader)\n",
    "    return avg_loss, accuracy, f1"
   ]
  },
  {
   "cell_type": "code",
   "execution_count": null,
   "id": "3de31fff-9adf-4d46-a058-08ccdeaa11b0",
   "metadata": {
    "ExecuteTime": {
     "end_time": "2024-10-20T15:04:48.767349Z",
     "start_time": "2024-10-20T15:03:56.567117Z"
    }
   },
   "outputs": [],
   "source": [
    "train_losses = []\n",
    "val_losses = []\n",
    "val_accuracies = []\n",
    "val_f1_scores = []\n",
    "tresholds = []\n",
    "\n",
    "for epoch in range(num_epochs):\n",
    "    model_cls.train()  # Set model to training mode\n",
    "    running_loss = 0.0\n",
    "\n",
    "    for batch_idx, (sequences, taxonomy_ids, taxes) in tqdm(enumerate(train_loader)):\n",
    "        sequences = sequences.to(device)\n",
    "        taxonomy_ids = taxonomy_ids.to(device)\n",
    "        taxes = taxes.to(device)\n",
    "\n",
    "        if Method == \"Transformer\":\n",
    "            outputs = model(sequences)\n",
    "            loss = criterion(outputs, taxonomy_ids.float())\n",
    "            \n",
    "            optimizer.zero_grad()\n",
    "            loss.backward()\n",
    "            optimizer.step()\n",
    "        else:\n",
    "            outputs = model_cls(sequences)\n",
    "            loss = criterion_cls(outputs, taxes)\n",
    "\n",
    "            # Backpropagation: Zero the gradients, compute the backward pass, and update weights\n",
    "            optimizer_cls.zero_grad()\n",
    "            loss.backward()\n",
    "            optimizer_cls.step()\n",
    "\n",
    "        # Track the loss\n",
    "        running_loss += loss.item()\n",
    "\n",
    "    # Print loss for this epoch\n",
    "    epoch_loss = running_loss / len(train_loader)\n",
    "    print(f\"Epoch [{epoch + 1}/{num_epochs}], Train Loss: {epoch_loss:.4f}\")\n",
    "    \n",
    "    # Evaluate the model on the test set\n",
    "    val_loss, val_accuracy, val_f1 = evaluate(model, val_loader)\n",
    "    print(f\"val Loss: {val_loss:.4f}, val Accuracy: {val_accuracy:.4f}, val F1 Score: {val_f1:.4f}\")\n",
    "    \n",
    "\n",
    "    # Store validation loss, accuracy, and F1 score\n",
    "    val_losses.append(val_loss)\n",
    "    val_accuracies.append(val_accuracy)\n",
    "    val_f1_scores.append(val_f1)\n",
    "    # tresholds.append(t)"
   ]
  },
  {
   "cell_type": "code",
   "execution_count": null,
   "id": "3abc27d5-ec79-41f3-9ee8-0a451fa17706",
   "metadata": {},
   "outputs": [],
   "source": [
    "import matplotlib.pyplot as plt\n",
    "\n",
    "# Plot losses and accuracy after training\n",
    "plt.figure(figsize=(12, 5))\n",
    "\n",
    "# Plot training and validation loss\n",
    "plt.subplot(1, 2, 1)\n",
    "plt.plot(train_losses, label='Train Loss')\n",
    "plt.plot(val_losses, label='Validation Loss')\n",
    "plt.xlabel('Epoch')\n",
    "plt.ylabel('Loss')\n",
    "plt.title('Loss per Epoch')\n",
    "plt.legend()\n",
    "\n",
    "# Plot validation accuracy and F1 score\n",
    "plt.subplot(1, 2, 2)\n",
    "plt.plot(val_accuracies, label='Validation Accuracy')\n",
    "plt.plot(val_f1_scores, label='Validation F1 Score')\n",
    "plt.xlabel('Epoch')\n",
    "plt.ylabel('Score')\n",
    "plt.title('Accuracy and F1 Score per Epoch')\n",
    "plt.legend()\n",
    "\n",
    "# Show plots\n",
    "plt.tight_layout()\n",
    "plt.show()"
   ]
  },
  {
   "cell_type": "code",
   "execution_count": null,
   "id": "7162a590-e5ae-43af-9ea5-89b3a936cc74",
   "metadata": {},
   "outputs": [],
   "source": []
  }
 ],
 "metadata": {
  "kernelspec": {
   "display_name": "Python 3 (ipykernel)",
   "language": "python",
   "name": "python3"
  },
  "language_info": {
   "codemirror_mode": {
    "name": "ipython",
    "version": 3
   },
   "file_extension": ".py",
   "mimetype": "text/x-python",
   "name": "python",
   "nbconvert_exporter": "python",
   "pygments_lexer": "ipython3",
   "version": "3.10.14"
  }
 },
 "nbformat": 4,
 "nbformat_minor": 5
}
